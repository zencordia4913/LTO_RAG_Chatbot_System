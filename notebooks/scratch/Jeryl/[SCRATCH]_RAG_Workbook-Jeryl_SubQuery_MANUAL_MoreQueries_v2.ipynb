{
 "cells": [
  {
   "cell_type": "code",
   "execution_count": 35,
   "id": "dfdd288c-537b-42e6-b104-2854e99b4a1c",
   "metadata": {},
   "outputs": [],
   "source": [
    "import os\n",
    "import fitz\n",
    "import re\n",
    "import json\n",
    "\n",
    "from ollama import Client\n",
    "import faiss\n",
    "import pandas as pd\n",
    "import numpy as np\n",
    "import Stemmer\n",
    "from tqdm import tqdm\n",
    "import gradio as gr\n",
    "\n",
    "from llama_index.core import Document\n",
    "from llama_index.core.node_parser import TokenTextSplitter\n",
    "from llama_index.core.retrievers import BaseRetriever, QueryFusionRetriever\n",
    "from llama_index.core.schema import TextNode, NodeWithScore\n",
    "from llama_index.retrievers.bm25 import BM25Retriever"
   ]
  },
  {
   "cell_type": "markdown",
   "id": "2f3d9123-5c2e-4718-8edd-d0bfafed09e8",
   "metadata": {},
   "source": [
    "# Connect to Ollama Server"
   ]
  },
  {
   "cell_type": "code",
   "execution_count": 36,
   "id": "8071a997-f081-4da8-b440-6d66bf4cb4a7",
   "metadata": {},
   "outputs": [],
   "source": [
    "client = Client(\n",
    "  host='http://localhost:11434',\n",
    ")"
   ]
  },
  {
   "cell_type": "markdown",
   "id": "52836262-9e16-4df3-b71f-70b78b2b2700",
   "metadata": {},
   "source": [
    "# Ingestion"
   ]
  },
  {
   "cell_type": "code",
   "execution_count": 37,
   "id": "4d170a76-1ddf-47b4-b98d-db30470f9d83",
   "metadata": {},
   "outputs": [],
   "source": [
    "# Path to the dataset folder\n",
    "DATASET_PATH = 'extracted_text.json'\n",
    "\n",
    "def get_text_and_metadata(input_path):\n",
    "    \"\"\"Load text and metadata from a file and perform chunking.\"\"\"\n",
    "    with open(input_path, \"r\", encoding=\"utf-8\") as f:\n",
    "        extracted_data = json.load(f)\n",
    "\n",
    "    texts = []\n",
    "    metadata = []\n",
    "\n",
    "    for entry in extracted_data:\n",
    "        text = entry[\"text\"]\n",
    "        source_metadata = {\n",
    "            \"source\": entry[\"source\"],\n",
    "            \"folder\": entry[\"folder\"],\n",
    "            \"file_name\": entry[\"file_name\"],\n",
    "            \"page\": entry[\"page\"],\n",
    "            \"title\": entry[\"title\"],\n",
    "            \"url\": entry[\"url\"]\n",
    "        }\n",
    "        texts.append(text)\n",
    "        metadata.append(source_metadata)\n",
    "\n",
    "    return texts, metadata"
   ]
  },
  {
   "cell_type": "code",
   "execution_count": 38,
   "id": "3d7bfd8a-c6a2-4764-9212-17c667cd89be",
   "metadata": {},
   "outputs": [],
   "source": [
    "docs, metadatas = get_text_and_metadata(DATASET_PATH)"
   ]
  },
  {
   "cell_type": "code",
   "execution_count": 39,
   "id": "b8204706-6e7e-4f7e-956b-4e545708392e",
   "metadata": {},
   "outputs": [],
   "source": [
    "documents = [Document(text=docs[t], metadata=metadatas[t]) for t in range(len(docs))]\n",
    "splitter = TokenTextSplitter(\n",
    "    chunk_size=512,\n",
    "    chunk_overlap=20,\n",
    "    separator=\" \",\n",
    ")\n",
    "nodes = splitter.get_nodes_from_documents(documents)"
   ]
  },
  {
   "cell_type": "markdown",
   "id": "f4fa1758-fbf6-48af-85bc-f7a0b17f85aa",
   "metadata": {},
   "source": [
    "# Embedding and Retrieval"
   ]
  },
  {
   "cell_type": "markdown",
   "id": "40e51b7d-edf5-457d-aac2-432dcfd56eb2",
   "metadata": {},
   "source": [
    "## Dense via FAISS"
   ]
  },
  {
   "cell_type": "code",
   "execution_count": 40,
   "id": "cc4cbd59-450d-449d-a269-e34941782d19",
   "metadata": {},
   "outputs": [],
   "source": [
    "def generate_embeddings(nodes, client, model):\n",
    "    # Generate embeddings for documents using Ollama\n",
    "    for doc in tqdm(nodes):\n",
    "        response = client.embeddings(prompt=doc.text, model=model)\n",
    "        doc.embedding = response[\"embedding\"]\n",
    "    return nodes"
   ]
  },
  {
   "cell_type": "code",
   "execution_count": 41,
   "id": "f1f0ad81-9986-4369-b4eb-32160fcef31a",
   "metadata": {},
   "outputs": [],
   "source": [
    "class FaissIndexer:\n",
    "    \"\"\"\n",
    "    Faiss-based indexer for efficient similarity search using inner-product (cosine) similarity.\n",
    "\n",
    "    This class handles the creation and management of a FAISS index from node embeddings.\n",
    "    \n",
    "    :ivar faiss_index: The FAISS index for storing and querying embeddings.\n",
    "    :vartype faiss_index: faiss.IndexFlatIP\n",
    "    :ivar embedding_dim: Dimensionality of the embeddings.\n",
    "    :vartype embedding_dim: int\n",
    "    \"\"\"\n",
    "\n",
    "    def __init__(self):\n",
    "        \"\"\"\n",
    "        Initialize the FaissIndexer class.\n",
    "\n",
    "        :ivar faiss_index: The FAISS index, initialized as None.\n",
    "        :ivar embedding_dim: The dimension of embeddings, initialized as None.\n",
    "        \"\"\"\n",
    "        self.faiss_index = None\n",
    "        self.embedding_dim = None\n",
    "\n",
    "    def normalize_embeddings(self, embeddings):\n",
    "        \"\"\"\n",
    "        Normalize embeddings to have unit L2 norm.\n",
    "\n",
    "        :param embeddings: Array of embeddings to normalize.\n",
    "        :type embeddings: np.ndarray\n",
    "        :return: Normalized embeddings.\n",
    "        :rtype: np.ndarray\n",
    "        \"\"\"\n",
    "        return embeddings / np.linalg.norm(embeddings, axis=1, keepdims=True)\n",
    "\n",
    "    def build_index(self, nodes):\n",
    "        \"\"\"\n",
    "        Build the FAISS index from a list of nodes containing embeddings.\n",
    "\n",
    "        :param nodes: List of nodes, where each node contains an `embedding` attribute.\n",
    "        :type nodes: list\n",
    "        :raises ValueError: If the nodes list is empty or embeddings are inconsistent.\n",
    "        \"\"\"\n",
    "        if not nodes:\n",
    "            raise ValueError(\"Nodes list cannot be empty.\")\n",
    "        \n",
    "        embeddings = np.array([np.array(node.embedding) for node in nodes])\n",
    "        normalized_embeddings = self.normalize_embeddings(embeddings)\n",
    "\n",
    "        self.embedding_dim = normalized_embeddings[0].shape[0]\n",
    "        self.faiss_index = faiss.IndexFlatIP(self.embedding_dim)  # Inner-product similarity\n",
    "        self.faiss_index.add(normalized_embeddings)\n",
    "\n",
    "    def get_index(self):\n",
    "        \"\"\"\n",
    "        Get the FAISS index instance.\n",
    "\n",
    "        :return: The FAISS index used for similarity search.\n",
    "        :rtype: faiss.IndexFlatIP\n",
    "        :raises ValueError: If the index has not been built.\n",
    "        \"\"\"\n",
    "        if self.faiss_index is None:\n",
    "            raise ValueError(\"Index has not been built yet. Call 'build_index' first.\")\n",
    "        return self.faiss_index"
   ]
  },
  {
   "cell_type": "code",
   "execution_count": 42,
   "id": "bae97065-1900-498c-acac-aebea6c32745",
   "metadata": {},
   "outputs": [],
   "source": [
    "class FAISSVectorStoreRetriever(BaseRetriever):\n",
    "    def __init__(self, faiss_index, documents):\n",
    "        \"\"\"\n",
    "        Initialize the FAISS retriever.\n",
    "        :param faiss_index: The FAISS index containing precomputed embeddings.\n",
    "        :param documents: List of document chunks.\n",
    "        :param embeddings: Precomputed embeddings corresponding to the document chunks.\n",
    "        \"\"\"\n",
    "        self.faiss_index = faiss_index\n",
    "        self.documents = documents\n",
    "\n",
    "    def _retrieve(self, query_embedding, top_k=5):\n",
    "        \"\"\"\n",
    "        Retrieve the top-k nearest neighbors using the FAISS index.\n",
    "        :param query_embedding: The embedding of the query.\n",
    "        :param top_k: Number of top results to retrieve.\n",
    "        \"\"\"\n",
    "\n",
    "        norm_query_embedding = np.array([query_embedding])\n",
    "        norm_query_embedding /= np.linalg.norm(norm_query_embedding, axis=1, keepdims=True)\n",
    "\n",
    "        distances, indices = self.faiss_index.search(norm_query_embedding, top_k)\n",
    "        retrieved_docs = [\n",
    "            NodeWithScore(node=self.documents[idx], score=1 - dist)\n",
    "            for idx, dist in zip(indices[0], distances[0])\n",
    "            if idx != -1\n",
    "        ]\n",
    "        return retrieved_docs"
   ]
  },
  {
   "cell_type": "code",
   "execution_count": 43,
   "id": "415a6c55-102b-4e9f-a626-2c8cc84096e9",
   "metadata": {},
   "outputs": [
    {
     "name": "stderr",
     "output_type": "stream",
     "text": [
      "100%|██████████| 12302/12302 [14:56<00:00, 13.73it/s] \n"
     ]
    }
   ],
   "source": [
    "# embedding\n",
    "nodes_embed = generate_embeddings(nodes, client, \"mxbai-embed-large\")"
   ]
  },
  {
   "cell_type": "code",
   "execution_count": 44,
   "id": "15320c85-b644-4148-b83b-b63bc2898517",
   "metadata": {},
   "outputs": [],
   "source": [
    "#indexing\n",
    "index = FaissIndexer()\n",
    "index.build_index(nodes_embed)\n",
    "faiss_index = index.get_index()\n",
    "\n",
    "faiss_retriever = FAISSVectorStoreRetriever(faiss_index=faiss_index,documents=nodes_embed) "
   ]
  },
  {
   "cell_type": "markdown",
   "id": "f75ddf0b-2c20-4065-bb79-fb8733622ec7",
   "metadata": {},
   "source": [
    "## Sparse Embedding via BM25"
   ]
  },
  {
   "cell_type": "code",
   "execution_count": 45,
   "id": "3e9c9cf4-123f-4d44-8c02-b61ecdd4bb2f",
   "metadata": {},
   "outputs": [],
   "source": [
    "# bm25_retriever = BM25Retriever.from_defaults(\n",
    "#     nodes=nodes,\n",
    "#     similarity_top_k=5,\n",
    "#     stemmer=Stemmer.Stemmer(\"english\"),\n",
    "#     language=\"english\",\n",
    "# )"
   ]
  },
  {
   "cell_type": "markdown",
   "id": "c953fd45-035d-4d46-801f-33f28fdede67",
   "metadata": {},
   "source": [
    "## Hybrid Retrieval via Reciprocal Rank"
   ]
  },
  {
   "cell_type": "code",
   "execution_count": 46,
   "id": "6ad014ba-3363-4810-a5d5-fa6187fbc494",
   "metadata": {},
   "outputs": [],
   "source": [
    "def hybrid_embedding(results: dict, top_k: int):\n",
    "    x = QueryFusionRetriever\n",
    "    ranked_results = QueryFusionRetriever._reciprocal_rerank_fusion(x, results)\n",
    "    return ranked_results[:top_k]"
   ]
  },
  {
   "cell_type": "markdown",
   "id": "eaae0e11-d7d3-4713-8889-92c9a3f207f7",
   "metadata": {},
   "source": [
    "# Post Retrieval"
   ]
  },
  {
   "cell_type": "markdown",
   "id": "43c29979-ba5f-4d9d-84f1-3252d9292b6d",
   "metadata": {},
   "source": [
    "## Summarization"
   ]
  },
  {
   "cell_type": "code",
   "execution_count": 47,
   "id": "a7e39ff7-4dec-4b10-8aee-b51d26e51fd8",
   "metadata": {},
   "outputs": [],
   "source": [
    "def summarize_each_chunk(nodes, client, query, model=\"llama3.3\", parent=False):\n",
    "    if parent:\n",
    "        chunks = [doc.text for doc in nodes]\n",
    "    else:\n",
    "        chunks = [doc.node.text for doc in nodes]\n",
    "    summaries = []\n",
    "    \n",
    "    for i, chunk in enumerate(chunks):\n",
    "        prompt = f\"\"\"\n",
    "        Summarize the following text in one concise paragraph, focusing on key points relevant to the query: \"{query}\".\n",
    "        \n",
    "        - Emphasize information directly related to the query.\n",
    "        - Exclude unrelated, redundant, or speculative details.\n",
    "        - Do NOT introduce new information or answer the query itself. \n",
    "        \n",
    "        Text:\n",
    "        {chunk}\n",
    "        \n",
    "        Summary:\n",
    "        \"\"\"\n",
    "        \n",
    "        response = client.generate(model=model, prompt=prompt)\n",
    "        summary = response['response'].strip()\n",
    "        summaries.append(summary)\n",
    "\n",
    "    return summaries"
   ]
  },
  {
   "cell_type": "markdown",
   "id": "2e78c30d-7d4e-4ec2-b3fe-ecb64fadf88a",
   "metadata": {},
   "source": [
    "# Generation"
   ]
  },
  {
   "cell_type": "code",
   "execution_count": 48,
   "id": "e11745b3-18d5-43cb-bb1d-c241c662d89d",
   "metadata": {},
   "outputs": [],
   "source": [
    "\n",
    "\n",
    "def generate_response_with_notice(summaries, query, choices, client, model=\"llama3.3\"):\n",
    "    # Combine summaries into context block\n",
    "    context = \"\\n\".join(summaries)\n",
    "    \n",
    "    # Create prompt to answer based on summarized text\n",
    "    prompt = f\"\"\"\n",
    "    Use the following summarized information to answer the query accurately and concisely. \n",
    "    DO NOT USE BACKGROUND KNOWLEDGE OUTSIDE THE CONTEXT PROVIDED.\n",
    "    If the information is not sufficient to fully address the query, respond ONLY with:\n",
    "    \"The available information is insufficient to provide a complete answer to this query.\"\n",
    "\n",
    "    Summarized Context:\n",
    "    {context}\n",
    "    \n",
    "    Query:\n",
    "    {query}\n",
    "    {choices}\n",
    "    \n",
    "    \\nPlease answer only in letters and put them inside a bracket '[]'. If the question contains the statement 'Check all that apply' then add comma separator if there are multiple answers ONLY IF ALLOWED.\n",
    "    Response:\n",
    "    \"\"\"\n",
    "    \n",
    "    # Send the prompt to Ollama\n",
    "    response = client.generate(\n",
    "        model=model,\n",
    "        prompt=prompt\n",
    "    )\n",
    "    \n",
    "    return response['response'].strip()"
   ]
  },
  {
   "cell_type": "markdown",
   "id": "e075a9f0-ea97-4d1e-b9f1-3b664b2196f8",
   "metadata": {},
   "source": [
    "# Querying"
   ]
  },
  {
   "cell_type": "markdown",
   "id": "04693932-b45a-4bde-bf6c-00a7633822aa",
   "metadata": {},
   "source": [
    "## Query Transforms"
   ]
  },
  {
   "cell_type": "code",
   "execution_count": 49,
   "id": "c4bed9fb",
   "metadata": {},
   "outputs": [
    {
     "name": "stdout",
     "output_type": "stream",
     "text": [
      "To address the user's query, \"What are the requirements in getting a license?\" we can decompose it into three sub-queries that cover the essential aspects of obtaining a license. These sub-queries would delve into the eligibility criteria, application process, and necessary documentation or testing required for licensure.\n",
      "\n",
      "Here is how we can break down the query:\n",
      "\n",
      "1. **Eligibility Criteria**: Understanding who is eligible to apply for a license is fundamental. This includes age requirements, residency status, and any prior qualifications or experience needed.\n",
      "\n",
      "2. **Application Process**: Knowing how to apply involves understanding the steps from filling out an application form to submitting it, along with any associated fees.\n",
      "\n",
      "3. **Documentation and Testing**: Many licenses require specific documentation (like identity proof) and/or passing a test to demonstrate competence in the area the license is for.\n",
      "\n",
      "Given these considerations, here are the sub-queries and their respective answers:\n",
      "\n",
      "- **SUB-QUERY 1**: \"What are the eligibility criteria for getting a license?\"\n",
      "  - **ANSWER 1**: \"The eligibility criteria include meeting specific age requirements, holding a certain residency status, and possessing any required prior qualifications or experience.\"\n",
      "\n",
      "- **SUB-QUERY 2**: \"How do I apply for a license?\"\n",
      "  - **ANSWER 2**: \"To apply, you typically need to fill out an application form, which may be available online or in person, and submit it along with the required fee.\"\n",
      "\n",
      "- **SUB-QUERY 3**: \"What documentation or tests are required for licensure?\"\n",
      "  - **ANSWER 3**: \"Required documentation often includes proof of identity and residency, while testing may involve written, practical, or both types of exams to assess your knowledge and skills in the relevant field.\"\n",
      "\n",
      "**FINAL ANSWER (JSON array)**:\n",
      "```\n",
      "[\n",
      "  {\n",
      "    \"sub_query\": \"What are the eligibility criteria for getting a license?\",\n",
      "    \"answer\": \"The eligibility criteria include meeting specific age requirements, holding a certain residency status, and possessing any required prior qualifications or experience.\"\n",
      "  },\n",
      "  {\n",
      "    \"sub_query\": \"How do I apply for a license?\",\n",
      "    \"answer\": \"To apply, you typically need to fill out an application form, which may be available online or in person, and submit it along with the required fee.\"\n",
      "  },\n",
      "  {\n",
      "    \"sub_query\": \"What documentation or tests are required for licensure?\",\n",
      "    \"answer\": \"Required documentation often includes proof of identity and residency, while testing may involve written, practical, or both types of exams to assess your knowledge and skills in the relevant field.\"\n",
      "  }\n",
      "]\n",
      "```\n",
      "[\n",
      "    {\n",
      "        \"sub_query\": \"What are the eligibility criteria for getting a license?\",\n",
      "        \"answer\": \"The eligibility criteria include meeting specific age requirements, holding a certain residency status, and possessing any required prior qualifications or experience.\"\n",
      "    },\n",
      "    {\n",
      "        \"sub_query\": \"How do I apply for a license?\",\n",
      "        \"answer\": \"To apply, you typically need to fill out an application form, which may be available online or in person, and submit it along with the required fee.\"\n",
      "    },\n",
      "    {\n",
      "        \"sub_query\": \"What documentation or tests are required for licensure?\",\n",
      "        \"answer\": \"Required documentation often includes proof of identity and residency, while testing may involve written, practical, or both types of exams to assess your knowledge and skills in the relevant field.\"\n",
      "    }\n",
      "]\n"
     ]
    }
   ],
   "source": [
    "import re\n",
    "import json\n",
    "\n",
    "prompt = f\"\"\"\n",
    "    You are an expert assistant. Below are examples of how to decompose a query\n",
    "    into three sub-queries, and also provide short answers for each sub-query.\n",
    "    Finally, place these into a JSON array.\n",
    "\n",
    "    Example #1:\n",
    "    USER: \"Why is the sky blue?\"\n",
    "    SUB-QUERY 1: \"Explain Rayleigh scattering\"\n",
    "    ANSWER 1: \"Rayleigh scattering is the scattering of light by particles in the atmosphere...\"\n",
    "    SUB-QUERY 2: \"How light interacts with molecules?\"\n",
    "    ANSWER 2: \"Light interacts with molecules through absorption and scattering, altering wavelengths...\"\n",
    "    SUB-QUERY 3: \"How human eyes perceive color?\"\n",
    "    ANSWER 3: \"The human eye detects the shorter, scattered wavelengths as blue...\"\n",
    "\n",
    "    FINAL ANSWER (JSON array):\n",
    "    [\n",
    "    {{\n",
    "        \"sub_query\": \"Explain Rayleigh scattering\",\n",
    "        \"answer\": \"Rayleigh scattering is the scattering of light by particles in the atmosphere...\"\n",
    "    }},\n",
    "    {{\n",
    "        \"sub_query\": \"How light interacts with molecules?\",\n",
    "        \"answer\": \"Light interacts with molecules through absorption and scattering, altering wavelengths...\"\n",
    "    }},\n",
    "    {{\n",
    "        \"sub_query\": \"How human eyes perceive color?\",\n",
    "        \"answer\": \"The human eye detects the shorter, scattered wavelengths as blue...\"\n",
    "    }}\n",
    "    ]\n",
    "\n",
    "    Now your turn:\n",
    "    USER: \"{\"What are the requirements in getting a license?\"}\"\n",
    "\n",
    "    FINAL ANSWER (JSON array):\n",
    "    \"\"\"\n",
    "\n",
    "response = client.generate(model=\"llama3.3\", prompt=prompt)\n",
    "print(response.response)\n",
    "\n",
    "# Extract the JSON part using regex\n",
    "match = re.search(r'\\[\\s*{.*?}\\s*\\]', response.response, re.S)\n",
    "if match:\n",
    "    json_text = match.group(0)\n",
    "    parsed_json = json.loads(json_text)\n",
    "    print(json.dumps(parsed_json, indent=4))\n",
    "else:\n",
    "    print(\"No JSON found.\")"
   ]
  },
  {
   "cell_type": "markdown",
   "id": "aee70e7b-a863-47c7-898a-78977ce5473f",
   "metadata": {},
   "source": [
    "## Query Generation"
   ]
  },
  {
   "cell_type": "code",
   "execution_count": 50,
   "id": "52a8f235-2430-4793-b0b4-17efd7f315a6",
   "metadata": {},
   "outputs": [],
   "source": [
    "docstore = {}\n",
    "\n",
    "# Store documents using full metadata as the key\n",
    "for doc in documents:\n",
    "    key = tuple(doc.metadata.items())  # Convert metadata to tuple for hashable key\n",
    "    docstore[key] = doc"
   ]
  },
  {
   "cell_type": "code",
   "execution_count": 51,
   "id": "cff1cba4-bd05-4429-a397-896f9e2dedfb",
   "metadata": {},
   "outputs": [],
   "source": [
    "def get_document_by_chunk_metadata(chunk_node):\n",
    "    # Convert chunk metadata to tuple for matching\n",
    "    metadata_key = tuple(chunk_node.metadata.items())\n",
    "\n",
    "    # Retrieve document from docstore\n",
    "    document = docstore.get(metadata_key)\n",
    "    return document"
   ]
  },
  {
   "cell_type": "code",
   "execution_count": 52,
   "id": "723b3e53-3f24-4280-ae9c-0e0ad7d57a68",
   "metadata": {},
   "outputs": [],
   "source": [
    "def remove_duplicate_documents(doc_list):\n",
    "    seen_ids = set()\n",
    "    unique_docs = []\n",
    "\n",
    "    for doc in doc_list:\n",
    "        if doc.doc_id not in seen_ids:\n",
    "            seen_ids.add(doc.doc_id)\n",
    "            unique_docs.append(doc)\n",
    "\n",
    "    return unique_docs"
   ]
  },
  {
   "cell_type": "code",
   "execution_count": 53,
   "id": "dcebca00-e74b-4b1f-a874-c00ce9dc6161",
   "metadata": {},
   "outputs": [],
   "source": [
    "import json\n",
    "\n",
    "def gen_query(query, choices, top_k, client, mode='hybrid', summary=False, model=\"llama3.3\", chunks_only=False):\n",
    "    prompt = f\"\"\"\n",
    "    You are an expert assistant. Below are examples of how to decompose a query\n",
    "    into three sub-queries, and also provide short answers for each sub-query.\n",
    "    Finally, place these into a JSON array.\n",
    "\n",
    "    Example #1:\n",
    "    USER: \"Why is the sky blue?\"\n",
    "    SUB-QUERY 1: \"Explain Rayleigh scattering\"\n",
    "    ANSWER 1: \"Rayleigh scattering is the scattering of light by particles in the atmosphere...\"\n",
    "    SUB-QUERY 2: \"How light interacts with molecules?\"\n",
    "    ANSWER 2: \"Light interacts with molecules through absorption and scattering, altering wavelengths...\"\n",
    "    SUB-QUERY 3: \"How human eyes perceive color?\"\n",
    "    ANSWER 3: \"The human eye detects the shorter, scattered wavelengths as blue...\"\n",
    "\n",
    "    FINAL ANSWER (JSON array):\n",
    "    [\n",
    "    {{\n",
    "        \"sub_query\": \"Explain Rayleigh scattering\",\n",
    "        \"answer\": \"Rayleigh scattering is the scattering of light by particles in the atmosphere...\"\n",
    "    }},\n",
    "    {{\n",
    "        \"sub_query\": \"How light interacts with molecules?\",\n",
    "        \"answer\": \"Light interacts with molecules through absorption and scattering, altering wavelengths...\"\n",
    "    }},\n",
    "    {{\n",
    "        \"sub_query\": \"How human eyes perceive color?\",\n",
    "        \"answer\": \"The human eye detects the shorter, scattered wavelengths as blue...\"\n",
    "    }}\n",
    "    ]\n",
    "\n",
    "    Now your turn:\n",
    "    USER: \"{query}\"\n",
    "\n",
    "    FINAL ANSWER (JSON array):\n",
    "    \"\"\"\n",
    "\n",
    "    response_text = client.generate(model=model, prompt=prompt)\n",
    "\n",
    "    # Extract the JSON part using regex\n",
    "    match = re.search(r'\\[\\s*{.*?}\\s*\\]', response_text.response, re.S)\n",
    "    if match:\n",
    "        json_text = match.group(0)\n",
    "        parsed_json = json.loads(json_text)\n",
    "        print(json.dumps(parsed_json, indent=4))\n",
    "        json_text = json.dumps(parsed_json)\n",
    "        embed_result = client.embeddings(prompt=json_text, model=\"mxbai-embed-large\")\n",
    "    else:\n",
    "        print(\"No JSON found.\")\n",
    "        embed_result = client.embeddings(prompt=query, model=\"mxbai-embed-large\")\n",
    "\n",
    "\n",
    "    # Return both the parsed sub-queries/answers and the embedding vector\n",
    "    query_embedding = embed_result[\"embedding\"]\n",
    "\n",
    "    top_k_docs = faiss_retriever._retrieve(query_embedding, top_k=top_k)\n",
    "\n",
    "    bm25_retriever = BM25Retriever.from_defaults(\n",
    "    nodes=nodes,\n",
    "    similarity_top_k=top_k,\n",
    "    stemmer=Stemmer.Stemmer(\"english\"),\n",
    "    language=\"english\",\n",
    "    )\n",
    "    retrieved_nodes = bm25_retriever.retrieve(query)\n",
    "\n",
    "    results = {'faiss': top_k_docs, 'bm25':retrieved_nodes}\n",
    "    ranked_results = hybrid_embedding(results, top_k=top_k)\n",
    "\n",
    "    if mode == 'dense':\n",
    "        print('using FAISS')\n",
    "        ans_nodes =top_k_docs\n",
    "    elif mode == 'sparse':\n",
    "        print('using BM25')\n",
    "        ans_nodes = retrieved_nodes\n",
    "    else:\n",
    "        print('using Hybrid')\n",
    "        ans_nodes = ranked_results\n",
    "\n",
    "    parent_flag = True\n",
    "    context = set([get_document_by_chunk_metadata(docs).text for docs in ans_nodes])\n",
    "    if chunks_only:\n",
    "        parent_flag = False\n",
    "        print('using chunks only')\n",
    "        context = [docs.node.text for docs in ans_nodes]\n",
    "        \n",
    "    if summary:\n",
    "        print('using summaries')\n",
    "        context_nodes = remove_duplicate_documents([get_document_by_chunk_metadata(docs) for docs in ans_nodes])\n",
    "\n",
    "        if chunks_only:\n",
    "            context_nodes=ans_nodes\n",
    "        summaries = summarize_each_chunk(context_nodes, client, model='llama3.3', query=query,parent=parent_flag)\n",
    "        context = summaries\n",
    "\n",
    "    answer = generate_response_with_notice(context, query, choices, client, model=model)\n",
    "\n",
    "    # Format the references\n",
    "    references = []\n",
    "    for i, doc in enumerate(ranked_results[:top_k], start=1):\n",
    "        metadata = doc.metadata\n",
    "        source_info = f\"Source {i}: {metadata['title']} (Page {metadata['page']}, Folder: {metadata['folder']})\"\n",
    "        references.append(source_info)\n",
    "\n",
    "    return answer, \"\\n\".join(references)"
   ]
  },
  {
   "cell_type": "markdown",
   "id": "00842045-d62a-4b01-b306-f637856c769c",
   "metadata": {},
   "source": [
    "# Evaluation"
   ]
  },
  {
   "cell_type": "code",
   "execution_count": 54,
   "id": "719d3b48-6639-423f-957d-82cda52de114",
   "metadata": {},
   "outputs": [],
   "source": [
    "# Generate prompts dynamically\n",
    "def generate_choices(row):\n",
    "    options = []\n",
    "    for choice in ['A', 'B', 'C', 'D', 'E']:\n",
    "        # Check for NaN or blank values\n",
    "        if pd.notna(row[choice]) and row[choice] != '':\n",
    "            options.append(f\"{choice}. {row[choice]}\")\n",
    "    \n",
    "    # Construct the prompt with few-shot examples\n",
    "    choices = \"\\n\".join(options)\n",
    "    \n",
    "    return choices"
   ]
  },
  {
   "cell_type": "code",
   "execution_count": 55,
   "id": "b16ce73b-abc7-460c-b15b-f39bc5209786",
   "metadata": {},
   "outputs": [
    {
     "name": "stdout",
     "output_type": "stream",
     "text": [
      "Testing Data:\n"
     ]
    },
    {
     "data": {
      "text/html": [
       "<div>\n",
       "<style scoped>\n",
       "    .dataframe tbody tr th:only-of-type {\n",
       "        vertical-align: middle;\n",
       "    }\n",
       "\n",
       "    .dataframe tbody tr th {\n",
       "        vertical-align: top;\n",
       "    }\n",
       "\n",
       "    .dataframe thead th {\n",
       "        text-align: right;\n",
       "    }\n",
       "</style>\n",
       "<table border=\"1\" class=\"dataframe\">\n",
       "  <thead>\n",
       "    <tr style=\"text-align: right;\">\n",
       "      <th></th>\n",
       "      <th>Question</th>\n",
       "      <th>A</th>\n",
       "      <th>B</th>\n",
       "      <th>C</th>\n",
       "      <th>D</th>\n",
       "      <th>E</th>\n",
       "      <th>Answer</th>\n",
       "      <th>Choices</th>\n",
       "    </tr>\n",
       "  </thead>\n",
       "  <tbody>\n",
       "    <tr>\n",
       "      <th>69</th>\n",
       "      <td>If the driver is turning left, he must: (U-tur...</td>\n",
       "      <td>have the right of way</td>\n",
       "      <td>do so slowly with caution</td>\n",
       "      <td>yield to approaching cars</td>\n",
       "      <td>NaN</td>\n",
       "      <td>NaN</td>\n",
       "      <td>C</td>\n",
       "      <td>A. have the right of way\\nB. do so slowly with...</td>\n",
       "    </tr>\n",
       "    <tr>\n",
       "      <th>5</th>\n",
       "      <td>When a vehicle starts to skid, what should the...</td>\n",
       "      <td>Immediately step on the brakes</td>\n",
       "      <td>Hold firmly on to the wheel while slowing down...</td>\n",
       "      <td>Turn the wheels tp the opposite the direction ...</td>\n",
       "      <td>NaN</td>\n",
       "      <td>NaN</td>\n",
       "      <td>B</td>\n",
       "      <td>A. Immediately step on the brakes\\nB. Hold fir...</td>\n",
       "    </tr>\n",
       "    <tr>\n",
       "      <th>42</th>\n",
       "      <td>If you are parking uphill without a curb, turn...</td>\n",
       "      <td>edge of the street</td>\n",
       "      <td>other side of the street</td>\n",
       "      <td>middle of the street</td>\n",
       "      <td>NaN</td>\n",
       "      <td>NaN</td>\n",
       "      <td>A</td>\n",
       "      <td>A. edge of the street\\nB. other side of the st...</td>\n",
       "    </tr>\n",
       "    <tr>\n",
       "      <th>47</th>\n",
       "      <td>When parking downhill, you should turn your fr...</td>\n",
       "      <td>toward the curb of the sidewalk</td>\n",
       "      <td>away from the curb</td>\n",
       "      <td>any direction will do</td>\n",
       "      <td>NaN</td>\n",
       "      <td>NaN</td>\n",
       "      <td>A</td>\n",
       "      <td>A. toward the curb of the sidewalk\\nB. away fr...</td>\n",
       "    </tr>\n",
       "    <tr>\n",
       "      <th>16</th>\n",
       "      <td>Which of the following is the maximum speed li...</td>\n",
       "      <td>60 kph</td>\n",
       "      <td>80 kph</td>\n",
       "      <td>100 kph</td>\n",
       "      <td>NaN</td>\n",
       "      <td>NaN</td>\n",
       "      <td>C</td>\n",
       "      <td>A. 60 kph\\nB. 80 kph\\nC. 100 kph</td>\n",
       "    </tr>\n",
       "  </tbody>\n",
       "</table>\n",
       "</div>"
      ],
      "text/plain": [
       "                                             Question  \\\n",
       "69  If the driver is turning left, he must: (U-tur...   \n",
       "5   When a vehicle starts to skid, what should the...   \n",
       "42  If you are parking uphill without a curb, turn...   \n",
       "47  When parking downhill, you should turn your fr...   \n",
       "16  Which of the following is the maximum speed li...   \n",
       "\n",
       "                                  A  \\\n",
       "69            have the right of way   \n",
       "5    Immediately step on the brakes   \n",
       "42               edge of the street   \n",
       "47  toward the curb of the sidewalk   \n",
       "16                           60 kph   \n",
       "\n",
       "                                                    B  \\\n",
       "69                          do so slowly with caution   \n",
       "5   Hold firmly on to the wheel while slowing down...   \n",
       "42                           other side of the street   \n",
       "47                                 away from the curb   \n",
       "16                                             80 kph   \n",
       "\n",
       "                                                    C    D    E Answer  \\\n",
       "69                          yield to approaching cars  NaN  NaN      C   \n",
       "5   Turn the wheels tp the opposite the direction ...  NaN  NaN      B   \n",
       "42                               middle of the street  NaN  NaN      A   \n",
       "47                              any direction will do  NaN  NaN      A   \n",
       "16                                            100 kph  NaN  NaN      C   \n",
       "\n",
       "                                              Choices  \n",
       "69  A. have the right of way\\nB. do so slowly with...  \n",
       "5   A. Immediately step on the brakes\\nB. Hold fir...  \n",
       "42  A. edge of the street\\nB. other side of the st...  \n",
       "47  A. toward the curb of the sidewalk\\nB. away fr...  \n",
       "16                   A. 60 kph\\nB. 80 kph\\nC. 100 kph  "
      ]
     },
     "metadata": {},
     "output_type": "display_data"
    },
    {
     "name": "stdout",
     "output_type": "stream",
     "text": [
      "\n",
      "Holdout Validation Data:\n"
     ]
    },
    {
     "data": {
      "text/html": [
       "<div>\n",
       "<style scoped>\n",
       "    .dataframe tbody tr th:only-of-type {\n",
       "        vertical-align: middle;\n",
       "    }\n",
       "\n",
       "    .dataframe tbody tr th {\n",
       "        vertical-align: top;\n",
       "    }\n",
       "\n",
       "    .dataframe thead th {\n",
       "        text-align: right;\n",
       "    }\n",
       "</style>\n",
       "<table border=\"1\" class=\"dataframe\">\n",
       "  <thead>\n",
       "    <tr style=\"text-align: right;\">\n",
       "      <th></th>\n",
       "      <th>Question</th>\n",
       "      <th>A</th>\n",
       "      <th>B</th>\n",
       "      <th>C</th>\n",
       "      <th>D</th>\n",
       "      <th>E</th>\n",
       "      <th>Answer</th>\n",
       "      <th>Choices</th>\n",
       "    </tr>\n",
       "  </thead>\n",
       "  <tbody>\n",
       "    <tr>\n",
       "      <th>40</th>\n",
       "      <td>What light shall be used when vehicles are par...</td>\n",
       "      <td>Headlight</td>\n",
       "      <td>Parking lights or lower-beam headlights</td>\n",
       "      <td>Signal lights</td>\n",
       "      <td>NaN</td>\n",
       "      <td>NaN</td>\n",
       "      <td>B</td>\n",
       "      <td>A. Headlight\\nB. Parking lights or lower-beam ...</td>\n",
       "    </tr>\n",
       "    <tr>\n",
       "      <th>22</th>\n",
       "      <td>To have one's driver's license suspended means...</td>\n",
       "      <td>have it revalidated by the LTO</td>\n",
       "      <td>have it taken away premanently by the LTO</td>\n",
       "      <td>have it taken temporarily by the LTO</td>\n",
       "      <td>NaN</td>\n",
       "      <td>NaN</td>\n",
       "      <td>C</td>\n",
       "      <td>A. have it revalidated by the LTO\\nB. have it ...</td>\n",
       "    </tr>\n",
       "    <tr>\n",
       "      <th>55</th>\n",
       "      <td>On a two-lane road, overtaking is only allowed...</td>\n",
       "      <td>left lane</td>\n",
       "      <td>both right and left lane</td>\n",
       "      <td>right lane</td>\n",
       "      <td>NaN</td>\n",
       "      <td>NaN</td>\n",
       "      <td>A</td>\n",
       "      <td>A. left lane\\nB. both right and left lane\\nC. ...</td>\n",
       "    </tr>\n",
       "    <tr>\n",
       "      <th>88</th>\n",
       "      <td>The driver is using a motor vehicle in committ...</td>\n",
       "      <td>revokes and will pay a fine</td>\n",
       "      <td>confiscated and will pay fine</td>\n",
       "      <td>suspended and will pay fine</td>\n",
       "      <td>NaN</td>\n",
       "      <td>NaN</td>\n",
       "      <td>A</td>\n",
       "      <td>A. revokes and will pay a fine\\nB. confiscated...</td>\n",
       "    </tr>\n",
       "    <tr>\n",
       "      <th>0</th>\n",
       "      <td>What should you do in case your vehicle breaks...</td>\n",
       "      <td>Open your trunk and hood</td>\n",
       "      <td>Stand on the expressway and flag down passing ...</td>\n",
       "      <td>Call for help using a mobile phone or an expre...</td>\n",
       "      <td>Park as far to the right as possible</td>\n",
       "      <td>Put your hazard warning light on</td>\n",
       "      <td>A, C, D, E</td>\n",
       "      <td>A. Open your trunk and hood\\nB. Stand on the e...</td>\n",
       "    </tr>\n",
       "  </tbody>\n",
       "</table>\n",
       "</div>"
      ],
      "text/plain": [
       "                                             Question  \\\n",
       "40  What light shall be used when vehicles are par...   \n",
       "22  To have one's driver's license suspended means...   \n",
       "55  On a two-lane road, overtaking is only allowed...   \n",
       "88  The driver is using a motor vehicle in committ...   \n",
       "0   What should you do in case your vehicle breaks...   \n",
       "\n",
       "                                 A  \\\n",
       "40                       Headlight   \n",
       "22  have it revalidated by the LTO   \n",
       "55                       left lane   \n",
       "88     revokes and will pay a fine   \n",
       "0         Open your trunk and hood   \n",
       "\n",
       "                                                    B  \\\n",
       "40            Parking lights or lower-beam headlights   \n",
       "22          have it taken away premanently by the LTO   \n",
       "55                           both right and left lane   \n",
       "88                      confiscated and will pay fine   \n",
       "0   Stand on the expressway and flag down passing ...   \n",
       "\n",
       "                                                    C  \\\n",
       "40                                      Signal lights   \n",
       "22               have it taken temporarily by the LTO   \n",
       "55                                         right lane   \n",
       "88                        suspended and will pay fine   \n",
       "0   Call for help using a mobile phone or an expre...   \n",
       "\n",
       "                                       D                                 E  \\\n",
       "40                                   NaN                               NaN   \n",
       "22                                   NaN                               NaN   \n",
       "55                                   NaN                               NaN   \n",
       "88                                   NaN                               NaN   \n",
       "0   Park as far to the right as possible  Put your hazard warning light on   \n",
       "\n",
       "        Answer                                            Choices  \n",
       "40           B  A. Headlight\\nB. Parking lights or lower-beam ...  \n",
       "22           C  A. have it revalidated by the LTO\\nB. have it ...  \n",
       "55           A  A. left lane\\nB. both right and left lane\\nC. ...  \n",
       "88           A  A. revokes and will pay a fine\\nB. confiscated...  \n",
       "0   A, C, D, E  A. Open your trunk and hood\\nB. Stand on the e...  "
      ]
     },
     "metadata": {},
     "output_type": "display_data"
    }
   ],
   "source": [
    "from sklearn.model_selection import train_test_split\n",
    "# Load the Excel file\n",
    "file_path = '/mnt/c/Users/Jeryl Salas/Documents/AI 351/Project/LTO_EXAM.csv'\n",
    "df = pd.read_csv(file_path)\n",
    "df['Choices'] = df.apply(generate_choices, axis=1)\n",
    "# Split the data into test (80%) and holdout validation (20%)\n",
    "test_df, holdout_df = train_test_split(df, test_size=0.33, random_state=42)\n",
    "\n",
    "# Display the first few rows of each set\n",
    "print(\"Testing Data:\")\n",
    "display(test_df.head())\n",
    "\n",
    "print(\"\\nHoldout Validation Data:\")\n",
    "display(holdout_df.head())\n",
    "\n",
    "test_df.to_csv('/mnt/c/Users/Jeryl Salas/Documents/AI 351/Project/test_data.csv', index=False)\n",
    "holdout_df.to_csv('/mnt/c/Users/Jeryl Salas/Documents/AI 351/Project/holdout_data.csv', index=False)"
   ]
  },
  {
   "cell_type": "code",
   "execution_count": 56,
   "id": "9450c855-2480-4843-9b09-8d0af0a917a7",
   "metadata": {},
   "outputs": [
    {
     "name": "stderr",
     "output_type": "stream",
     "text": [
      "  0%|          | 0/60 [00:00<?, ?it/s]"
     ]
    },
    {
     "name": "stdout",
     "output_type": "stream",
     "text": [
      "[\n",
      "    {\n",
      "        \"sub_query\": \"Explain the Left Turn Rule\",\n",
      "        \"answer\": \"The Left Turn Rule requires drivers to yield to oncoming traffic and pedestrians before making a left turn, ensuring safety and right of way.\"\n",
      "    },\n",
      "    {\n",
      "        \"sub_query\": \"Define what a U-turn is in driving\",\n",
      "        \"answer\": \"A U-turn refers to the action of turning a vehicle around to face the opposite direction, often regulated by traffic laws due to safety concerns.\"\n",
      "    },\n",
      "    {\n",
      "        \"sub_query\": \"Distinguish between left turns and U-turns in driving contexts\",\n",
      "        \"answer\": \"While a left turn involves changing direction at an intersection or designated point without reversing direction, a U-turn specifically involves turning the vehicle around to head in the opposite direction, typically not allowed in intersections with heavy traffic.\"\n",
      "    }\n",
      "]\n",
      "using Hybrid\n"
     ]
    },
    {
     "name": "stderr",
     "output_type": "stream",
     "text": [
      "  2%|▏         | 1/60 [00:56<55:21, 56.29s/it]"
     ]
    },
    {
     "name": "stdout",
     "output_type": "stream",
     "text": [
      "[\n",
      "    {\n",
      "        \"sub_query\": \"What is the first action to take when a vehicle starts skidding?\",\n",
      "        \"answer\": \"The first action is to remain calm and take your foot off the accelerator to reduce speed without slamming on the brakes, which can worsen the skid.\"\n",
      "    },\n",
      "    {\n",
      "        \"sub_query\": \"How should the driver steer the vehicle during a skid?\",\n",
      "        \"answer\": \"During a skid, the driver should steer in the direction of the skid. For example, if the rear of the vehicle is sliding to the left, the driver should gently turn the steering wheel to the left to help the vehicle straighten out.\"\n",
      "    },\n",
      "    {\n",
      "        \"sub_query\": \"What are additional tips for regaining control after a skid?\",\n",
      "        \"answer\": \"Additional tips include not overcorrecting with the steering wheel, as this can cause the vehicle to skid in the opposite direction, and avoiding slamming on the brakes, especially if the vehicle is equipped with anti-lock braking system (ABS), which can handle rapid pumping of the brakes more effectively than a human can.\"\n",
      "    }\n",
      "]\n",
      "using Hybrid\n"
     ]
    },
    {
     "name": "stderr",
     "output_type": "stream",
     "text": [
      "  3%|▎         | 2/60 [01:48<52:10, 53.98s/it]"
     ]
    },
    {
     "name": "stdout",
     "output_type": "stream",
     "text": [
      "[\n",
      "    {\n",
      "        \"sub_query\": \"Explain the principles of safe parking on an incline\",\n",
      "        \"answer\": \"Safe parking on an incline involves taking specific measures to ensure the vehicle does not roll or move unintentionally, considering factors like the absence of a curb.\"\n",
      "    },\n",
      "    {\n",
      "        \"sub_query\": \"Describe how turning wheels affects vehicle stability when parked uphill\",\n",
      "        \"answer\": \"Turning the wheels towards the direction that would naturally stop the car from rolling if the brakes were to fail helps in stabilizing the vehicle and preventing accidents.\"\n",
      "    },\n",
      "    {\n",
      "        \"sub_query\": \"Determine the correct direction for wheel turn when parking uphill without a curb\",\n",
      "        \"answer\": \"When parking uphill without a curb, it is recommended to turn the wheels towards the right (or away from the road), so if the brakes fail, the car will roll away from traffic and potentially come to rest against a ditch or other barrier, reducing the risk of entering the flow of traffic.\"\n",
      "    }\n",
      "]\n",
      "using Hybrid\n"
     ]
    },
    {
     "name": "stderr",
     "output_type": "stream",
     "text": [
      "  5%|▌         | 3/60 [02:31<46:32, 48.99s/it]"
     ]
    },
    {
     "name": "stdout",
     "output_type": "stream",
     "text": [
      "[\n",
      "    {\n",
      "        \"sub_query\": \"What is the purpose of turning wheels when parking?\",\n",
      "        \"answer\": \"Turning wheels when parking helps to ensure the vehicle's safety and stability by directing it towards a barrier or a direction that minimizes risk if the brakes fail.\"\n",
      "    },\n",
      "    {\n",
      "        \"sub_query\": \"In what direction should front wheels be turned when parking downhill?\",\n",
      "        \"answer\": \"When parking downhill, front wheels should be turned towards the curb or to the right if there is no curb, to utilize natural barriers and prevent the vehicle from rolling into traffic.\"\n",
      "    },\n",
      "    {\n",
      "        \"sub_query\": \"What are additional safety measures for parking on a slope?\",\n",
      "        \"answer\": \"Additional safety measures include fully engaging the parking brake and shifting into park (for automatic transmissions) or first gear (for manual transmissions), to further secure the vehicle against accidental movement.\"\n",
      "    }\n",
      "]\n",
      "using Hybrid\n"
     ]
    },
    {
     "name": "stderr",
     "output_type": "stream",
     "text": [
      "  7%|▋         | 4/60 [03:18<44:47, 47.99s/it]"
     ]
    },
    {
     "name": "stdout",
     "output_type": "stream",
     "text": [
      "[\n",
      "    {\n",
      "        \"sub_query\": \"Identify the country or region's traffic laws\",\n",
      "        \"answer\": \"The query doesn't specify a country, so let's assume a general context. Typically, countries have their own specific speed limits.\"\n",
      "    },\n",
      "    {\n",
      "        \"sub_query\": \"Determine the vehicle type's speed limit\",\n",
      "        \"answer\": \"For cars, speed limits on expressways are usually higher than on regular roads but can vary based on the region and road conditions.\"\n",
      "    },\n",
      "    {\n",
      "        \"sub_query\": \"Find the maximum speed limit for cars on expressways in a given jurisdiction\",\n",
      "        \"answer\": \"Without specifying the country or region, a common maximum speed limit on expressways for cars could range from 100 km/h to over 130 km/h (62 mph to over 80 mph), but it's essential to check local laws.\"\n",
      "    }\n",
      "]\n",
      "using Hybrid\n"
     ]
    },
    {
     "name": "stderr",
     "output_type": "stream",
     "text": [
      "  8%|▊         | 5/60 [04:14<46:52, 51.13s/it]"
     ]
    },
    {
     "name": "stdout",
     "output_type": "stream",
     "text": [
      "[\n",
      "    {\n",
      "        \"sub_query\": \"Explain the purpose of fire hydrant parking regulations\",\n",
      "        \"answer\": \"Fire hydrant parking regulations ensure that firefighting vehicles can access hydrants easily in case of an emergency, thereby saving lives and property.\"\n",
      "    },\n",
      "    {\n",
      "        \"sub_query\": \"What is the standard distance to park from a fire hydrant?\",\n",
      "        \"answer\": \"Typically, you should park at least 15 feet (or 5 yards) away from a fire hydrant to avoid obstructing access. However, this can vary by jurisdiction.\"\n",
      "    },\n",
      "    {\n",
      "        \"sub_query\": \"How do local laws influence parking near fire hydrants?\",\n",
      "        \"answer\": \"Local laws and regulations dictate the specific distance required to park from a fire hydrant, so it's essential to check with local authorities for exact measurements, as they can differ significantly.\"\n",
      "    }\n",
      "]\n",
      "using Hybrid\n"
     ]
    },
    {
     "name": "stderr",
     "output_type": "stream",
     "text": [
      " 10%|█         | 6/60 [05:10<47:27, 52.73s/it]"
     ]
    },
    {
     "name": "stdout",
     "output_type": "stream",
     "text": [
      "[\n",
      "    {\n",
      "        \"sub_query\": \"Explain the physics behind sudden stops while driving at maximum speed\",\n",
      "        \"answer\": \"The physics of stopping involves understanding that the stopping distance is directly proportional to the square of the speed; higher speeds result in significantly longer stopping distances due to both the increased distance traveled during reaction time and the greater distance needed to slow down.\"\n",
      "    },\n",
      "    {\n",
      "        \"sub_query\": \"What are proper braking techniques for sudden stops?\",\n",
      "        \"answer\": \"Proper braking technique involves taking your foot off the accelerator, pressing the brake pedal firmly but smoothly without locking up the wheels (unless your vehicle is equipped with anti-lock brakes), and downshifting if manual to assist in slowing down.\"\n",
      "    },\n",
      "    {\n",
      "        \"sub_query\": \"What safety measures should be taken after suddenly stopping on the road?\",\n",
      "        \"answer\": \"After sudden stops, ensure you're in a safe location, use hazard lights to alert other drivers, especially at night or in low visibility conditions, and check your mirrors and surroundings for potential hazards like approaching vehicles that may not stop in time.\"\n",
      "    }\n",
      "]\n",
      "using Hybrid\n"
     ]
    },
    {
     "name": "stderr",
     "output_type": "stream",
     "text": [
      " 12%|█▏        | 7/60 [05:52<43:31, 49.28s/it]"
     ]
    },
    {
     "name": "stdout",
     "output_type": "stream",
     "text": [
      "[\n",
      "    {\n",
      "        \"sub_query\": \"What are the immediate effects of a rear tire blowout?\",\n",
      "        \"answer\": \"A rear tire blowout can cause a sudden loss of control, pulling the vehicle to one side, and potentially leading to accidents if not handled properly.\"\n",
      "    },\n",
      "    {\n",
      "        \"sub_query\": \"How does a rear tire blowout affect vehicle stability and control?\",\n",
      "        \"answer\": \"The vehicle may sway or fishtail, making it difficult to steer, especially at high speeds. This can significantly increase the risk of an accident.\"\n",
      "    },\n",
      "    {\n",
      "        \"sub_query\": \"What safety measures or corrective actions should be taken after a rear tire blowout?\",\n",
      "        \"answer\": \"Drivers should take their foot off the accelerator, signal their intentions, and slowly guide the vehicle to a safe location to change the tire. Keeping a cool head and avoiding sudden movements are key.\"\n",
      "    }\n",
      "]\n",
      "using Hybrid\n"
     ]
    },
    {
     "name": "stderr",
     "output_type": "stream",
     "text": [
      " 13%|█▎        | 8/60 [06:27<38:47, 44.76s/it]"
     ]
    },
    {
     "name": "stdout",
     "output_type": "stream",
     "text": [
      "[\n",
      "    {\n",
      "        \"sub_query\": \"Understanding Public Utility Vehicles\",\n",
      "        \"answer\": \"Public utility vehicles are those used to transport people or goods and are subject to specific regulations to ensure safety and compliance.\"\n",
      "    },\n",
      "    {\n",
      "        \"sub_query\": \"Regulations on In-Vehicle Entertainment Systems\",\n",
      "        \"answer\": \"The use of stereo-music in public utility vehicles is often regulated to prevent distraction and ensure the safety of passengers; specific laws can vary by jurisdiction.\"\n",
      "    },\n",
      "    {\n",
      "        \"sub_query\": \"Penalties for Non-Compliance\",\n",
      "        \"answer\": \"Penalties can include fines, suspension of operating licenses, or other legal actions depending on the jurisdiction and the severity of the offense.\"\n",
      "    }\n",
      "]\n",
      "using Hybrid\n"
     ]
    },
    {
     "name": "stderr",
     "output_type": "stream",
     "text": [
      " 15%|█▌        | 9/60 [07:11<37:41, 44.34s/it]"
     ]
    },
    {
     "name": "stdout",
     "output_type": "stream",
     "text": [
      "[\n",
      "    {\n",
      "        \"sub_query\": \"What factors affect visibility at night?\",\n",
      "        \"answer\": \"Visibility at night is affected by the quality of headlights, road conditions, weather, and the presence of any obstacles or pedestrians.\"\n",
      "    },\n",
      "    {\n",
      "        \"sub_query\": \"How does reduced visibility impact driving safety?\",\n",
      "        \"answer\": \"Reduced visibility increases stopping distances and reduces reaction times, making it crucial to adjust speed accordingly to avoid accidents.\"\n",
      "    },\n",
      "    {\n",
      "        \"sub_query\": \"What is the general guideline for adjusting speed at night?\",\n",
      "        \"answer\": \"A general guideline is to reduce your speed to a level where you can stop within the distance you can see ahead, taking into account the time it takes to react and the vehicle's stopping distance.\"\n",
      "    }\n",
      "]\n",
      "using Hybrid\n"
     ]
    },
    {
     "name": "stderr",
     "output_type": "stream",
     "text": [
      " 17%|█▋        | 10/60 [07:51<35:54, 43.09s/it]"
     ]
    },
    {
     "name": "stdout",
     "output_type": "stream",
     "text": [
      "[\n",
      "    {\n",
      "        \"sub_query\": \"What is the primary purpose of registering a motor vehicle?\",\n",
      "        \"answer\": \"The primary purpose of registering a motor vehicle is to create a record of ownership and to ensure that the vehicle meets certain safety and emission standards.\"\n",
      "    },\n",
      "    {\n",
      "        \"sub_query\": \"Which agency typically oversees the registration of private motor vehicles in the United States?\",\n",
      "        \"answer\": \"In the United States, the registration of private motor vehicles is typically overseen by the state's Department of Motor Vehicles (DMV), which may also be referred to by other names depending on the state.\"\n",
      "    },\n",
      "    {\n",
      "        \"sub_query\": \"What is required for a vehicle to be eligible for a DOT franchise?\",\n",
      "        \"answer\": \"For a private motor vehicle owner to apply for a DOT franchise, the vehicle must first be registered with the state's Department of Motor Vehicles (DMV), ensuring compliance with local and federal regulations.\"\n",
      "    }\n",
      "]\n",
      "using Hybrid\n"
     ]
    },
    {
     "name": "stderr",
     "output_type": "stream",
     "text": [
      " 18%|█▊        | 11/60 [08:41<36:47, 45.05s/it]"
     ]
    },
    {
     "name": "stdout",
     "output_type": "stream",
     "text": [
      "[\n",
      "    {\n",
      "        \"sub_query\": \"What do standard traffic sign shapes and colors signify?\",\n",
      "        \"answer\": \"Standard traffic signs use specific shapes (like triangles, circles, rectangles) and colors (such as red, yellow, blue) to quickly convey information to drivers, with each element having a particular meaning.\"\n",
      "    },\n",
      "    {\n",
      "        \"sub_query\": \"What does a triangular shape typically indicate on traffic signs?\",\n",
      "        \"answer\": \"A triangle is often used for yield signs, indicating that drivers should prepare to yield or give the right of way to others, but the specific action can depend on the context and additional symbols on the sign.\"\n",
      "    },\n",
      "    {\n",
      "        \"sub_query\": \"What does the color red signify in traffic signage?\",\n",
      "        \"answer\": \"The color red is used to grab attention for critical signs such as stop signs or signs indicating a prohibition (like 'Do Not Enter'), emphasizing that drivers must take immediate notice and comply.\"\n",
      "    }\n",
      "]\n",
      "using Hybrid\n"
     ]
    },
    {
     "name": "stderr",
     "output_type": "stream",
     "text": [
      " 20%|██        | 12/60 [09:33<37:54, 47.40s/it]"
     ]
    },
    {
     "name": "stdout",
     "output_type": "stream",
     "text": [
      "[\n",
      "    {\n",
      "        \"sub_query\": \"What are the general conditions under which driving becomes unsafe?\",\n",
      "        \"answer\": \"Driving becomes unsafe during conditions such as heavy rain, fog, snow, or icy roads because these conditions reduce visibility and traction.\"\n",
      "    },\n",
      "    {\n",
      "        \"sub_query\": \"How do vehicle malfunctions affect safety on an expressway?\",\n",
      "        \"answer\": \"Vehicle malfunctions like tire blowouts, brake failures, or engine problems can significantly increase the risk of accidents by impairing a driver's ability to control their vehicle safely.\"\n",
      "    },\n",
      "    {\n",
      "        \"sub_query\": \"What role does driver condition play in safe driving on an expressway?\",\n",
      "        \"answer\": \"Driver conditions such as fatigue, intoxication, or distraction severely compromise safety because they impair reaction times, judgment, and the ability to navigate the road effectively.\"\n",
      "    }\n",
      "]\n",
      "using Hybrid\n"
     ]
    },
    {
     "name": "stderr",
     "output_type": "stream",
     "text": [
      " 22%|██▏       | 13/60 [10:17<36:11, 46.21s/it]"
     ]
    },
    {
     "name": "stdout",
     "output_type": "stream",
     "text": [
      "[\n",
      "    {\n",
      "        \"sub_query\": \"What types of actions are considered parking violations?\",\n",
      "        \"answer\": \"Parking violations include parking in no-parking zones, overstaying time limits in timed spaces, parking in handicapped or reserved spots without authorization, and other infractions as defined by local laws.\"\n",
      "    },\n",
      "    {\n",
      "        \"sub_query\": \"How do parking signs and regulations determine what is a violation?\",\n",
      "        \"answer\": \"Parking signs and local regulations clearly outline what is considered a violation in specific areas. These signs indicate restrictions such as no-parking zones, time limits, permit requirements, and handicapped parking.\"\n",
      "    },\n",
      "    {\n",
      "        \"sub_query\": \"What are the consequences of committing a parking violation?\",\n",
      "        \"answer\": \"Consequences for parking violations typically include fines, which can vary significantly depending on the jurisdiction and type of infraction. In some cases, vehicles may be towed at the owner's expense, especially if the vehicle poses a hazard or is parked in a way that obstructs traffic or access.\"\n",
      "    }\n",
      "]\n",
      "using Hybrid\n"
     ]
    },
    {
     "name": "stderr",
     "output_type": "stream",
     "text": [
      " 23%|██▎       | 14/60 [11:18<38:46, 50.58s/it]"
     ]
    },
    {
     "name": "stdout",
     "output_type": "stream",
     "text": [
      "[\n",
      "    {\n",
      "        \"sub_query\": \"What are the common hazards of night driving?\",\n",
      "        \"answer\": \"Common hazards include reduced visibility, increased stopping distance, and difficulty seeing pedestrians or obstacles.\"\n",
      "    },\n",
      "    {\n",
      "        \"sub_query\": \"How does glare from oncoming traffic affect drivers at night?\",\n",
      "        \"answer\": \"Glare can temporarily blind drivers, reducing their ability to see the road ahead and react to hazards in time.\"\n",
      "    },\n",
      "    {\n",
      "        \"sub_query\": \"What role do driver fatigue and reduced reaction times play in nighttime driving accidents?\",\n",
      "        \"answer\": \"Driver fatigue is more common at night due to natural sleepiness cycles, and reduced reaction times can significantly increase the risk of accidents as drivers may not be able to react quickly enough to unexpected events.\"\n",
      "    }\n",
      "]\n",
      "using Hybrid\n"
     ]
    },
    {
     "name": "stderr",
     "output_type": "stream",
     "text": [
      " 25%|██▌       | 15/60 [11:57<35:20, 47.12s/it]"
     ]
    },
    {
     "name": "stdout",
     "output_type": "stream",
     "text": [
      "[\n",
      "    {\n",
      "        \"sub_query\": \"Why are pre-trip inspections important?\",\n",
      "        \"answer\": \"Pre-trip inspections are crucial for ensuring vehicle safety and compliance with legal requirements, helping to prevent accidents and reduce liability.\"\n",
      "    },\n",
      "    {\n",
      "        \"sub_query\": \"What does a standard pre-trip inspection include?\",\n",
      "        \"answer\": \"A standard pre-trip inspection includes checking critical components such as tires, brakes, lights, and mirrors to ensure they are in good working condition.\"\n",
      "    },\n",
      "    {\n",
      "        \"sub_query\": \"When should a pre-trip inspection be completed according to regulations?\",\n",
      "        \"answer\": \"According to most transportation regulations, a pre-trip inspection should be completed before the operation of a vehicle, typically at the start of each day or prior to the first use after a period of non-use.\"\n",
      "    }\n",
      "]\n",
      "using Hybrid\n"
     ]
    },
    {
     "name": "stderr",
     "output_type": "stream",
     "text": [
      " 27%|██▋       | 16/60 [12:51<36:10, 49.32s/it]"
     ]
    },
    {
     "name": "stdout",
     "output_type": "stream",
     "text": [
      "[\n",
      "    {\n",
      "        \"sub_query\": \"What is the immediate action to take for safety?\",\n",
      "        \"answer\": \"Pull over to a safe location as soon as possible to avoid any potential accidents.\"\n",
      "    },\n",
      "    {\n",
      "        \"sub_query\": \"How can you maintain control of the vehicle until it's safe to stop?\",\n",
      "        \"answer\": \"Keep both hands on the wheel, look around for any obstacles or other vehicles, and slow down gradually without slamming on the brakes.\"\n",
      "    },\n",
      "    {\n",
      "        \"sub_query\": \"What should be done after securing a safe location?\",\n",
      "        \"answer\": \"Turn off the engine, engage the parking brake, and then assess the situation to determine why the hood lifted up, potentially needing to secure it before continuing driving or seeking assistance if necessary.\"\n",
      "    }\n",
      "]\n",
      "using Hybrid\n"
     ]
    },
    {
     "name": "stderr",
     "output_type": "stream",
     "text": [
      " 28%|██▊       | 17/60 [13:31<33:15, 46.40s/it]"
     ]
    },
    {
     "name": "stdout",
     "output_type": "stream",
     "text": [
      "[\n",
      "    {\n",
      "        \"sub_query\": \"How can technology improve transparency in traffic enforcement?\",\n",
      "        \"answer\": \"Implementing body cameras on officers, automated traffic violation systems, and online platforms for reporting and tracking complaints can significantly reduce corruption by increasing transparency and accountability.\"\n",
      "    },\n",
      "    {\n",
      "        \"sub_query\": \"What role does community engagement play in combating corruption?\",\n",
      "        \"answer\": \"Community engagement through public awareness campaigns, citizen reporting mechanisms, and collaborative policing strategies can foster a culture of zero tolerance for corruption, encouraging whistleblowing and participation in anti-corruption efforts.\"\n",
      "    },\n",
      "    {\n",
      "        \"sub_query\": \"How can legislative reforms contribute to reducing graft in traffic enforcement?\",\n",
      "        \"answer\": \"Legislative reforms such as stricter penalties for corrupt practices, protection laws for whistleblowers, and mandatory ethics training for law enforcement officers can create a legal framework that discourages corruption and promotes integrity within the system.\"\n",
      "    }\n",
      "]\n",
      "using Hybrid\n"
     ]
    },
    {
     "name": "stderr",
     "output_type": "stream",
     "text": [
      " 30%|███       | 18/60 [14:16<32:12, 46.02s/it]"
     ]
    },
    {
     "name": "stdout",
     "output_type": "stream",
     "text": [
      "[\n",
      "    {\n",
      "        \"sub_query\": \"What is the first action to take when needing to stop suddenly?\",\n",
      "        \"answer\": \"The first action should be to take your foot off the accelerator, allowing the vehicle to start slowing down due to natural deceleration before applying the brakes.\"\n",
      "    },\n",
      "    {\n",
      "        \"sub_query\": \"How should you apply the brakes in such a situation?\",\n",
      "        \"answer\": \"You should apply the brakes firmly but smoothly, avoiding slamming on them unless absolutely necessary, as this can cause skidding or loss of control, especially if your vehicle is not equipped with anti-lock braking systems (ABS).\"\n",
      "    },\n",
      "    {\n",
      "        \"sub_query\": \"What other safety measures should be considered during sudden stops?\",\n",
      "        \"answer\": \"Maintain a safe following distance to allow enough time to stop without rear-ending the vehicle in front, keep both hands on the wheel for maximum control, and be aware of your surroundings including vehicles behind you that may not stop in time.\"\n",
      "    }\n",
      "]\n",
      "using Hybrid\n"
     ]
    },
    {
     "name": "stderr",
     "output_type": "stream",
     "text": [
      " 32%|███▏      | 19/60 [15:04<31:51, 46.62s/it]"
     ]
    },
    {
     "name": "stdout",
     "output_type": "stream",
     "text": [
      "[\n",
      "    {\n",
      "        \"sub_query\": \"What are the safety precautions to take when a vehicle is stalled?\",\n",
      "        \"answer\": \"When a vehicle stalls, especially on a busy road, the driver should turn on hazard lights to alert other drivers and reduce the risk of collision.\"\n",
      "    },\n",
      "    {\n",
      "        \"sub_query\": \"How should a vehicle be positioned if it becomes disabled on the road?\",\n",
      "        \"answer\": \"If possible, the vehicle should be carefully maneuvered to the side of the road or shoulder, away from traffic lanes, to minimize obstruction and risk to other road users.\"\n",
      "    },\n",
      "    {\n",
      "        \"sub_query\": \"What are the legal requirements or actions that must be taken after parking a disabled vehicle?\",\n",
      "        \"answer\": \"After safely positioning the vehicle on the shoulder, the driver should engage the parking brake, put the vehicle in park (if automatic) or first gear (if manual), and turn off the engine. Additionally, warning triangles, flares, or reflective warning devices may be used to further alert approaching traffic, though specific requirements can vary by jurisdiction.\"\n",
      "    }\n",
      "]\n",
      "using Hybrid\n"
     ]
    },
    {
     "name": "stderr",
     "output_type": "stream",
     "text": [
      " 33%|███▎      | 20/60 [15:55<32:03, 48.08s/it]"
     ]
    },
    {
     "name": "stdout",
     "output_type": "stream",
     "text": [
      "[\n",
      "    {\n",
      "        \"sub_query\": \"What types of signs have round shapes?\",\n",
      "        \"answer\": \"Round signs often include traffic signs like yield signs or railway signs, which have standardized shapes and colors for international recognition.\"\n",
      "    },\n",
      "    {\n",
      "        \"sub_query\": \"What does a rectangular sign with white and blue background typically represent?\",\n",
      "        \"answer\": \"Rectangular signs with white and blue backgrounds are commonly used for informational purposes, such as street signs, directional signs, or signs indicating services like rest areas or parking.\"\n",
      "    },\n",
      "    {\n",
      "        \"sub_query\": \"What is the term that encompasses all these types of signs regardless of shape or color?\",\n",
      "        \"answer\": \"These signs can be broadly categorized under 'traffic signs' or 'road signs,' which include a variety of shapes, colors, and designs to convey different messages to drivers and pedestrians.\"\n",
      "    }\n",
      "]\n",
      "using Hybrid\n"
     ]
    },
    {
     "name": "stderr",
     "output_type": "stream",
     "text": [
      " 35%|███▌      | 21/60 [16:38<30:12, 46.46s/it]"
     ]
    },
    {
     "name": "stdout",
     "output_type": "stream",
     "text": [
      "[\n",
      "    {\n",
      "        \"sub_query\": \"What are the immediate actions an uninjured driver should take at the scene?\",\n",
      "        \"answer\": \"The uninjured driver should ensure safety, call emergency services if necessary, and provide basic first aid without moving injured parties unless absolutely necessary.\"\n",
      "    },\n",
      "    {\n",
      "        \"sub_query\": \"How does one document the accident scene properly?\",\n",
      "        \"answer\": \"Proper documentation involves taking photos of vehicle positions, damages, and any relevant road signs or conditions, as well as exchanging information with other parties involved, including names, phone numbers, and insurance details.\"\n",
      "    },\n",
      "    {\n",
      "        \"sub_query\": \"What are the legal reporting requirements after an accident?\",\n",
      "        \"answer\": \"The uninjured driver must report the accident to the police if it meets certain criteria (such as injury, death, or significant property damage), and also notify their insurance company as soon as possible.\"\n",
      "    }\n",
      "]\n",
      "using Hybrid\n"
     ]
    },
    {
     "name": "stderr",
     "output_type": "stream",
     "text": [
      " 37%|███▋      | 22/60 [17:26<29:36, 46.76s/it]"
     ]
    },
    {
     "name": "stdout",
     "output_type": "stream",
     "text": [
      "[\n",
      "    {\n",
      "        \"sub_query\": \"What is the definition of Blood Alcohol Content (BAC)?\",\n",
      "        \"answer\": \"Blood Alcohol Content (BAC) is a measure of the amount of alcohol in a person's bloodstream.\"\n",
      "    },\n",
      "    {\n",
      "        \"sub_query\": \"How is alcohol measured in the blood?\",\n",
      "        \"answer\": \"Alcohol is typically measured in the blood through a blood test, which can be conducted via various methods including venipuncture or sometimes estimated through breathalyzers.\"\n",
      "    },\n",
      "    {\n",
      "        \"sub_query\": \"What are the effects of different levels of alcohol on the body?\",\n",
      "        \"answer\": \"The effects of alcohol on the body vary by BAC level but include impaired judgment, reduced coordination, and at higher levels, loss of consciousness or even death.\"\n",
      "    }\n",
      "]\n",
      "using Hybrid\n"
     ]
    },
    {
     "name": "stderr",
     "output_type": "stream",
     "text": [
      " 38%|███▊      | 23/60 [18:13<28:53, 46.84s/it]"
     ]
    },
    {
     "name": "stdout",
     "output_type": "stream",
     "text": [
      "[\n",
      "    {\n",
      "        \"sub_query\": \"How should I assess visibility at night before overtaking?\",\n",
      "        \"answer\": \"Check your mirrors, look over your shoulder to check blind spots, and use high beams when possible to maximize sight distance.\"\n",
      "    },\n",
      "    {\n",
      "        \"sub_query\": \"What factors should be considered for the safety of the maneuver?\",\n",
      "        \"answer\": \"Look out for oncoming traffic, ensure there are no restrictions like 'Do Not Pass' signs, and consider road conditions including pedestrians, cyclists, or animals.\"\n",
      "    },\n",
      "    {\n",
      "        \"sub_query\": \"How do I properly execute an overtake at night?\",\n",
      "        \"answer\": \"Signal your intention, check blind spots again, and smoothly move into the adjacent lane while maintaining a safe speed relative to both the vehicle being passed and oncoming traffic.\"\n",
      "    }\n",
      "]\n",
      "using Hybrid\n"
     ]
    },
    {
     "name": "stderr",
     "output_type": "stream",
     "text": [
      " 40%|████      | 24/60 [19:11<30:10, 50.29s/it]"
     ]
    },
    {
     "name": "stdout",
     "output_type": "stream",
     "text": [
      "[\n",
      "    {\n",
      "        \"sub_query\": \"What regulates PUV operations?\",\n",
      "        \"answer\": \"PUV operations are regulated by transportation laws and guidelines that outline driver responsibilities and passenger rights.\"\n",
      "    },\n",
      "    {\n",
      "        \"sub_query\": \"Why is refusing service a violation for PUV drivers?\",\n",
      "        \"answer\": \"Refusing service is a violation because it denies passengers their right to use public transportation, potentially causing inconvenience and discrimination.\"\n",
      "    },\n",
      "    {\n",
      "        \"sub_query\": \"What are the penalties for PUV drivers who refuse service?\",\n",
      "        \"answer\": \"Penalties can include fines, license suspension, or other disciplinary actions as determined by local transportation authorities and laws.\"\n",
      "    }\n",
      "]\n",
      "using Hybrid\n"
     ]
    },
    {
     "name": "stderr",
     "output_type": "stream",
     "text": [
      " 42%|████▏     | 25/60 [20:03<29:44, 50.99s/it]"
     ]
    },
    {
     "name": "stdout",
     "output_type": "stream",
     "text": [
      "[\n",
      "    {\n",
      "        \"sub_query\": \"What are the standard hand signals used by drivers?\",\n",
      "        \"answer\": \"Standard hand signals include extending the right arm straight out to the right for a right turn, extending the left arm straight out to the left for a left turn, and extending the right arm straight up with palm facing forward or the left arm straight down with palm facing rearward for slowing or stopping.\"\n",
      "    },\n",
      "    {\n",
      "        \"sub_query\": \"How do drivers indicate their intention to slow down?\",\n",
      "        \"answer\": \"To indicate slowing down, a driver typically extends their left arm straight down with their palm facing rearward, signaling to following traffic that they intend to reduce speed.\"\n",
      "    },\n",
      "    {\n",
      "        \"sub_query\": \"What is the specific hand signal for stopping?\",\n",
      "        \"answer\": \"The specific hand signal for indicating an intention to stop involves extending the right arm straight up with the palm facing forward or, alternatively, extending the left arm straight down with the palm facing rearward. However, for clarity in modern driving practices, especially when slowing down to stop, using the brake lights is the primary method of signaling, but hand signals can still be used, particularly in situations where visibility might be reduced.\"\n",
      "    }\n",
      "]\n",
      "using Hybrid\n"
     ]
    },
    {
     "name": "stderr",
     "output_type": "stream",
     "text": [
      " 43%|████▎     | 26/60 [20:58<29:32, 52.12s/it]"
     ]
    },
    {
     "name": "stdout",
     "output_type": "stream",
     "text": [
      "[\n",
      "    {\n",
      "        \"sub_query\": \"Why was my motorcycle flagged down?\",\n",
      "        \"answer\": \"The motorcycle was flagged down due to a noisy muffler which likely exceeded acceptable noise levels.\"\n",
      "    },\n",
      "    {\n",
      "        \"sub_query\": \"How can I fix or reduce the noise from my motorcycle's muffler?\",\n",
      "        \"answer\": \"To address the issue, you can consider repairing or replacing the muffler with one that meets noise regulations, or adjust the current system to minimize noise output.\"\n",
      "    },\n",
      "    {\n",
      "        \"sub_query\": \"What steps should I take next to resolve this issue?\",\n",
      "        \"answer\": \"Visit a professional mechanic for an assessment and advice on how to proceed with either repairs or replacement of the muffler, ensuring all work is done in compliance with local vehicle noise regulations.\"\n",
      "    }\n",
      "]\n",
      "using Hybrid\n"
     ]
    },
    {
     "name": "stderr",
     "output_type": "stream",
     "text": [
      " 45%|████▌     | 27/60 [21:40<26:56, 49.00s/it]"
     ]
    },
    {
     "name": "stdout",
     "output_type": "stream",
     "text": [
      "[\n",
      "    {\n",
      "        \"sub_query\": \"What constitutes double parking?\",\n",
      "        \"answer\": \"Double parking is when a vehicle is parked next to another vehicle that is already parked by the curb, creating an obstruction.\"\n",
      "    },\n",
      "    {\n",
      "        \"sub_query\": \"Under what exceptions or circumstances is double parking permitted?\",\n",
      "        \"answer\": \"Double parking might be temporarily allowed in certain areas for quick pick-ups/drop-offs, during specific events with proper authorization, or in designated zones under strict time limits.\"\n",
      "    },\n",
      "    {\n",
      "        \"sub_query\": \"What safety considerations must be taken into account when double parking is permitted?\",\n",
      "        \"answer\": \"Safety considerations include minimizing obstruction to traffic flow, ensuring pedestrian pathways remain clear, and taking care not to block emergency vehicle access points or driveways.\"\n",
      "    }\n",
      "]\n",
      "using Hybrid\n"
     ]
    },
    {
     "name": "stderr",
     "output_type": "stream",
     "text": [
      " 47%|████▋     | 28/60 [22:35<27:07, 50.86s/it]"
     ]
    },
    {
     "name": "stdout",
     "output_type": "stream",
     "text": [
      "[\n",
      "    {\n",
      "        \"sub_query\": \"What is the purpose of maintaining a clear area near crosswalks?\",\n",
      "        \"answer\": \"The purpose is to ensure pedestrians are visible to drivers, enhancing road safety.\"\n",
      "    },\n",
      "    {\n",
      "        \"sub_query\": \"How does parking or stopping near crosswalks affect pedestrian visibility?\",\n",
      "        \"answer\": \"Parking or stopping within a certain distance of a crosswalk can obstruct the view of pedestrians, especially for drivers approaching the crosswalk.\"\n",
      "    },\n",
      "    {\n",
      "        \"sub_query\": \"What is the specific regulation regarding parking or stopping near crosswalks to maintain visibility?\",\n",
      "        \"answer\": \"Drivers are not allowed to park or stop within 6 meters of a crosswalk because it reduces the visibility of pedestrians to other drivers, posing a safety risk.\"\n",
      "    }\n",
      "]\n",
      "using Hybrid\n"
     ]
    },
    {
     "name": "stderr",
     "output_type": "stream",
     "text": [
      " 48%|████▊     | 29/60 [23:15<24:30, 47.44s/it]"
     ]
    },
    {
     "name": "stdout",
     "output_type": "stream",
     "text": [
      "[\n",
      "    {\n",
      "        \"sub_query\": \"When can parking lights be used?\",\n",
      "        \"answer\": \"Parking lights may be used when a vehicle is parked or standing still on a highway or street, especially in low-light conditions to increase visibility.\"\n",
      "    },\n",
      "    {\n",
      "        \"sub_query\": \"What are the regulations for using parking lights?\",\n",
      "        \"answer\": \"Regulations vary by jurisdiction but generally, parking lights should be used when parking in areas with limited lighting to alert other drivers of a stationary vehicle's presence.\"\n",
      "    },\n",
      "    {\n",
      "        \"sub_query\": \"How do parking lights contribute to road safety?\",\n",
      "        \"answer\": \"Parking lights significantly enhance visibility and reduce the risk of accidents by making parked vehicles more noticeable, especially at night or in low visibility conditions like fog or heavy rain.\"\n",
      "    }\n",
      "]\n",
      "using Hybrid\n"
     ]
    },
    {
     "name": "stderr",
     "output_type": "stream",
     "text": [
      " 50%|█████     | 30/60 [23:56<22:49, 45.65s/it]"
     ]
    },
    {
     "name": "stdout",
     "output_type": "stream",
     "text": [
      "[\n",
      "    {\n",
      "        \"sub_query\": \"What constitutes a vehicle as stationary?\",\n",
      "        \"answer\": \"A vehicle is considered stationary if it is not moving and has come to a complete halt, with the engine turned off or in a state that prevents it from moving under its own power.\"\n",
      "    },\n",
      "    {\n",
      "        \"sub_query\": \"How does the location of the vehicle affect its status as parked?\",\n",
      "        \"answer\": \"The vehicle's location is crucial; for it to be considered parked, it must be situated in a designated parking area or a place where stopping is legally permitted, such as a parking lot, a roadside parking space, or a driveway.\"\n",
      "    },\n",
      "    {\n",
      "        \"sub_query\": \"What role does the engagement of parking mechanisms play?\",\n",
      "        \"answer\": \"Engaging the parking brake (or equivalent mechanism) and shifting into park (for automatic transmissions) or first gear (for manual transmissions) are crucial indicators that the vehicle is intentionally parked, as these actions help secure the vehicle in place.\"\n",
      "    }\n",
      "]\n",
      "using Hybrid\n"
     ]
    },
    {
     "name": "stderr",
     "output_type": "stream",
     "text": [
      " 52%|█████▏    | 31/60 [24:47<22:50, 47.27s/it]"
     ]
    },
    {
     "name": "stdout",
     "output_type": "stream",
     "text": [
      "[\n",
      "    {\n",
      "        \"sub_query\": \"What is the purpose of field sobriety tests?\",\n",
      "        \"answer\": \"Field sobriety tests are used to assess a driver's ability to safely operate a vehicle by evaluating balance, coordination, and cognitive functions.\"\n",
      "    },\n",
      "    {\n",
      "        \"sub_query\": \"Describe the specific physical actions required in the test described.\",\n",
      "        \"answer\": \"The test involves walking heel-to-toe along a straight line for nine steps, turning at the end, and then returning to the starting point without showing signs of impairment.\"\n",
      "    },\n",
      "    {\n",
      "        \"sub_query\": \"What is the name of the field sobriety test that matches this description?\",\n",
      "        \"answer\": \"The described test is known as the 'Walk-and-Turn' test or 'Heel-to-Toe' test, a standard field sobriety test used by law enforcement.\"\n",
      "    }\n",
      "]\n",
      "using Hybrid\n"
     ]
    },
    {
     "name": "stderr",
     "output_type": "stream",
     "text": [
      " 53%|█████▎    | 32/60 [25:43<23:14, 49.82s/it]"
     ]
    },
    {
     "name": "stdout",
     "output_type": "stream",
     "text": [
      "[\n",
      "    {\n",
      "        \"sub_query\": \"What are common hazardous locations where overtaking is risky?\",\n",
      "        \"answer\": \"Areas like intersections, school zones, construction zones, and spots with limited visibility are unsafe for overtaking.\"\n",
      "    },\n",
      "    {\n",
      "        \"sub_query\": \"How does road signage influence safe overtaking practices?\",\n",
      "        \"answer\": \"Road signs such as 'No Passing Zone' indicate where passing is prohibited due to safety concerns.\"\n",
      "    },\n",
      "    {\n",
      "        \"sub_query\": \"What vehicle and environmental factors can make overtaking unsafe?\",\n",
      "        \"answer\": \"Factors including vehicle condition, weather conditions, and road conditions can impact the safety of overtaking maneuvers.\"\n",
      "    }\n",
      "]\n",
      "using Hybrid\n"
     ]
    },
    {
     "name": "stderr",
     "output_type": "stream",
     "text": [
      " 55%|█████▌    | 33/60 [26:25<21:19, 47.39s/it]"
     ]
    },
    {
     "name": "stdout",
     "output_type": "stream",
     "text": [
      "[\n",
      "    {\n",
      "        \"sub_query\": \"What does BAC stand for, and how is it measured?\",\n",
      "        \"answer\": \"BAC stands for Blood Alcohol Concentration. It's measured as the percentage of alcohol in a person's bloodstream, typically determined through breath, blood, or urine tests.\"\n",
      "    },\n",
      "    {\n",
      "        \"sub_query\": \"How do different jurisdictions define driving under the influence (DUI) in terms of BAC levels?\",\n",
      "        \"answer\": \"Jurisdictions often set specific BAC thresholds to determine DUI. For example, in many places, a BAC level of 0.08% or higher is considered proof of DUI for regular drivers.\"\n",
      "    },\n",
      "    {\n",
      "        \"sub_query\": \"What is the specific BAC level considered as conclusive proof of driving under the influence for drivers of trucks, buses, motorcycles, and public utility vehicles?\",\n",
      "        \"answer\": \"For drivers of commercial vehicles like trucks and buses, a BAC level of more than 0.04% is often considered conclusive proof of driving under the influence.\"\n",
      "    }\n",
      "]\n",
      "using Hybrid\n"
     ]
    },
    {
     "name": "stderr",
     "output_type": "stream",
     "text": [
      " 57%|█████▋    | 34/60 [27:23<21:59, 50.76s/it]"
     ]
    },
    {
     "name": "stdout",
     "output_type": "stream",
     "text": [
      "[\n",
      "    {\n",
      "        \"sub_query\": \"What do different shapes in traffic signs generally mean?\",\n",
      "        \"answer\": \"In traffic signage, different shapes often denote different types of information or instructions, such as circles for informational signs, octagons for stop signs, and triangles for warning signs.\"\n",
      "    },\n",
      "    {\n",
      "        \"sub_query\": \"What does the color red signify on traffic signs?\",\n",
      "        \"answer\": \"The color red on traffic signs typically indicates a need to stop or proceed with caution, often associated with prohibitory or warning messages.\"\n",
      "    },\n",
      "    {\n",
      "        \"sub_query\": \"How do the shapes (circle, octagon, reverse triangle) combined with the color red relate to specific traffic instructions?\",\n",
      "        \"answer\": \"A circle with red might indicate a prohibition or restriction, an octagon with red is typically a stop sign, and a reverse triangle (or yield sign) with red accents indicates where yielding is required, though standard yield signs are usually inverted triangles with a red border.\"\n",
      "    }\n",
      "]\n",
      "using Hybrid\n"
     ]
    },
    {
     "name": "stderr",
     "output_type": "stream",
     "text": [
      " 58%|█████▊    | 35/60 [28:15<21:16, 51.04s/it]"
     ]
    },
    {
     "name": "stdout",
     "output_type": "stream",
     "text": [
      "[\n",
      "    {\n",
      "        \"sub_query\": \"What are the common places for passenger loading/unloading?\",\n",
      "        \"answer\": \"Common places include bus stops, train stations, and airports, where specific areas are designated for safe loading and unloading of passengers.\"\n",
      "    },\n",
      "    {\n",
      "        \"sub_query\": \"What safety considerations are involved in stopping for passengers?\",\n",
      "        \"answer\": \"Safety considerations involve choosing a location that is visible, far from traffic hazards, and has adequate space for the vehicle to safely stop without obstructing traffic or pedestrian paths.\"\n",
      "    },\n",
      "    {\n",
      "        \"sub_query\": \"Are there specific regulations or signs indicating where to stop for passengers?\",\n",
      "        \"answer\": \"Yes, there are often designated areas marked by signs or lights, such as 'Bus Stop' signs or 'Passenger Loading Zone' indicators, and drivers must adhere to local transportation laws and regulations when stopping to load or unload passengers.\"\n",
      "    }\n",
      "]\n",
      "using Hybrid\n"
     ]
    },
    {
     "name": "stderr",
     "output_type": "stream",
     "text": [
      " 60%|██████    | 36/60 [29:00<19:39, 49.16s/it]"
     ]
    },
    {
     "name": "stdout",
     "output_type": "stream",
     "text": [
      "[\n",
      "    {\n",
      "        \"sub_query\": \"What are the general rules for yielding when two vehicles meet?\",\n",
      "        \"answer\": \"Generally, the vehicle on the left or going uphill must yield to the one on the right or going downhill if neither can pass.\"\n",
      "    },\n",
      "    {\n",
      "        \"sub_query\": \"How do gradient roads affect traffic rules and yielding?\",\n",
      "        \"answer\": \"On a gradient road where visibility is limited or passing is not possible, vehicles typically follow standard yielding protocols, with modifications based on local regulations or signs.\"\n",
      "    },\n",
      "    {\n",
      "        \"sub_query\": \"Are there specific traffic laws that dictate which vehicle yields in such situations?\",\n",
      "        \"answer\": \"Traffic laws regarding yielding on hills vary by jurisdiction but often specify that the descending vehicle has the right of way unless otherwise indicated by signs or signals, due to reduced visibility and control for the ascending vehicle.\"\n",
      "    }\n",
      "]\n",
      "using Hybrid\n"
     ]
    },
    {
     "name": "stderr",
     "output_type": "stream",
     "text": [
      " 62%|██████▏   | 37/60 [29:41<17:58, 46.90s/it]"
     ]
    },
    {
     "name": "stdout",
     "output_type": "stream",
     "text": [
      "[\n",
      "    {\n",
      "        \"sub_query\": \"What are the general safety precautions when parking?\",\n",
      "        \"answer\": \"Ensure your vehicle is visible to other drivers by using hazard lights or reflective triangles if necessary, and park in a well-lit area.\"\n",
      "    },\n",
      "    {\n",
      "        \"sub_query\": \"How do you signal your presence to other road users at night?\",\n",
      "        \"answer\": \"Activate your vehicle's parking lights or hazard lights to increase visibility to approaching traffic.\"\n",
      "    },\n",
      "    {\n",
      "        \"sub_query\": \"What are the specific regulations for parking on the side of a road at night?\",\n",
      "        \"answer\": \"Check local and national laws, but generally, you must park as far off the roadway as possible, avoid parking on curves or near intersections, and turn off your headlights to avoid dazzling other drivers.\"\n",
      "    }\n",
      "]\n",
      "using Hybrid\n"
     ]
    },
    {
     "name": "stderr",
     "output_type": "stream",
     "text": [
      " 63%|██████▎   | 38/60 [30:24<16:46, 45.73s/it]"
     ]
    },
    {
     "name": "stdout",
     "output_type": "stream",
     "text": [
      "[\n",
      "    {\n",
      "        \"sub_query\": \"What are the primary reasons for vehicle plate and driver's license confiscation?\",\n",
      "        \"answer\": \"The primary reasons include operating an unregistered vehicle, driving without a valid license, or operating a vehicle that poses a significant safety hazard.\"\n",
      "    },\n",
      "    {\n",
      "        \"sub_query\": \"How does the condition of the vehicle affect the decision to confiscate?\",\n",
      "        \"answer\": \"If the vehicle is found to be in a condition that makes it unsafe for operation, such as faulty brakes, broken lights, or other critical safety issues, this can lead to confiscation.\"\n",
      "    },\n",
      "    {\n",
      "        \"sub_query\": \"Are there any specific regulatory violations that could result in confiscation?\",\n",
      "        \"answer\": \"Yes, violations of traffic regulations, such as reckless driving, driving under the influence (DUI), or failure to comply with vehicle registration requirements, can also lead to the confiscation of a motor vehicle plate and driver's license.\"\n",
      "    }\n",
      "]\n",
      "using Hybrid\n"
     ]
    },
    {
     "name": "stderr",
     "output_type": "stream",
     "text": [
      " 65%|██████▌   | 39/60 [31:14<16:22, 46.80s/it]"
     ]
    },
    {
     "name": "stdout",
     "output_type": "stream",
     "text": [
      "[\n",
      "    {\n",
      "        \"sub_query\": \"What are the traffic rules regarding right of way when passing?\",\n",
      "        \"answer\": \"Vehicles must not cross the centerline to pass another vehicle unless it is safe and legal to do so, always yielding to oncoming traffic.\"\n",
      "    },\n",
      "    {\n",
      "        \"sub_query\": \"How should you react if an oncoming vehicle crosses into your lane?\",\n",
      "        \"answer\": \"Slow down or move towards the shoulder if possible, to avoid a collision while ensuring your safety and the safety of other road users.\"\n",
      "    },\n",
      "    {\n",
      "        \"sub_query\": \"What general precautions can prevent accidents in such situations?\",\n",
      "        \"answer\": \"Maintain a safe speed, keep a safe following distance, be vigilant, and know how to react in emergency situations to minimize risks on the road.\"\n",
      "    }\n",
      "]\n",
      "using Hybrid\n"
     ]
    },
    {
     "name": "stderr",
     "output_type": "stream",
     "text": [
      " 67%|██████▋   | 40/60 [32:01<15:38, 46.93s/it]"
     ]
    },
    {
     "name": "stdout",
     "output_type": "stream",
     "text": [
      "[\n",
      "    {\n",
      "        \"sub_query\": \"What are the general rules for changing lanes at intersections?\",\n",
      "        \"answer\": \"Drivers should change lanes before reaching an intersection to ensure they are in the correct lane for their intended turn or direction of travel.\"\n",
      "    },\n",
      "    {\n",
      "        \"sub_query\": \"How do traffic signals and lane markings guide driver actions?\",\n",
      "        \"answer\": \"Traffic signals and lane markings provide critical guidance, with arrows indicating which turns are allowed from each lane and signals indicating when it's safe to proceed.\"\n",
      "    },\n",
      "    {\n",
      "        \"sub_query\": \"What action should a driver take if they realize they are in the wrong lane for their intended turn at an intersection?\",\n",
      "        \"answer\": \"If a driver realizes they are not in the proper lane for a right or left turn, they should continue straight through the intersection (if safe and legal to do so) and find a safe location to turn around or correct their route, rather than attempting to change lanes within the intersection.\"\n",
      "    }\n",
      "]\n",
      "using Hybrid\n"
     ]
    },
    {
     "name": "stderr",
     "output_type": "stream",
     "text": [
      " 68%|██████▊   | 41/60 [32:48<14:55, 47.12s/it]"
     ]
    },
    {
     "name": "stdout",
     "output_type": "stream",
     "text": [
      "[\n",
      "    {\n",
      "        \"sub_query\": \"What are the legal implications of a DUI first offense?\",\n",
      "        \"answer\": \"The legal implications typically include fines, potential jail time, and mandatory suspension or revocation of the driver's license.\"\n",
      "    },\n",
      "    {\n",
      "        \"sub_query\": \"How does a DUI affect insurance rates?\",\n",
      "        \"answer\": \"A DUI conviction can significantly increase car insurance premiums due to the higher risk assessment by insurance companies.\"\n",
      "    },\n",
      "    {\n",
      "        \"sub_query\": \"What are the requirements for reinstating a driver's license after a DUI first offense?\",\n",
      "        \"answer\": \"Requirements often include completing a DUI education program, paying reinstatement fees, and sometimes installing an ignition interlock device in the vehicle.\"\n",
      "    }\n",
      "]\n",
      "using Hybrid\n"
     ]
    },
    {
     "name": "stderr",
     "output_type": "stream",
     "text": [
      " 70%|███████   | 42/60 [33:24<13:07, 43.72s/it]"
     ]
    },
    {
     "name": "stdout",
     "output_type": "stream",
     "text": [
      "[\n",
      "    {\n",
      "        \"sub_query\": \"What is the purpose of low beam headlights?\",\n",
      "        \"answer\": \"Low beam headlights are designed to illuminate the road ahead without causing glare to other drivers, providing a sharper cutoff on the top of the light beam to reduce reflection from the vehicles or objects in front.\"\n",
      "    },\n",
      "    {\n",
      "        \"sub_query\": \"When should you switch to low beams?\",\n",
      "        \"answer\": \"You should switch to low beams when you are approaching an oncoming vehicle, to avoid dazzling the other driver and ensure both parties can maintain safe visibility without glare.\"\n",
      "    },\n",
      "    {\n",
      "        \"sub_query\": \"What are the safety benefits of using low beam headlights in certain conditions?\",\n",
      "        \"answer\": \"Using low beam headlights in situations such as encountering oncoming traffic or following another vehicle closely reduces the risk of accidents by minimizing glare and maintaining clear visibility for all drivers involved.\"\n",
      "    }\n",
      "]\n",
      "using Hybrid\n"
     ]
    },
    {
     "name": "stderr",
     "output_type": "stream",
     "text": [
      " 72%|███████▏  | 43/60 [34:09<12:27, 43.96s/it]"
     ]
    },
    {
     "name": "stdout",
     "output_type": "stream",
     "text": [
      "[\n",
      "    {\n",
      "        \"sub_query\": \"What are my rights on the road?\",\n",
      "        \"answer\": \"Your rights include priority based on traffic signals and signs, but also come with the responsibility to follow all laws and regulations.\"\n",
      "    },\n",
      "    {\n",
      "        \"sub_query\": \"How can I practice safe driving?\",\n",
      "        \"answer\": \"Safe driving involves being aware of your surroundings, following speed limits, using turn signals, and anticipating the actions of others on the road.\"\n",
      "    },\n",
      "    {\n",
      "        \"sub_query\": \"What constitutes responsible behavior while driving?\",\n",
      "        \"answer\": \"Responsible driving means not only following laws but also avoiding risky behaviors, being courteous to other drivers, pedestrians, and cyclists, and always prioritizing safety over strict adherence to rights.\"\n",
      "    }\n",
      "]\n",
      "using Hybrid\n"
     ]
    },
    {
     "name": "stderr",
     "output_type": "stream",
     "text": [
      " 73%|███████▎  | 44/60 [35:01<12:22, 46.42s/it]"
     ]
    },
    {
     "name": "stdout",
     "output_type": "stream",
     "text": [
      "[\n",
      "    {\n",
      "        \"sub_query\": \"What constitutes reasonable grounds for suspecting a driver is under the influence?\",\n",
      "        \"answer\": \"Reasonable grounds are based on specific, observable behaviors such as erratic driving patterns, failure to follow traffic laws, or visible signs of intoxication.\"\n",
      "    },\n",
      "    {\n",
      "        \"sub_query\": \"Which traffic offenses are commonly associated with driving under the influence?\",\n",
      "        \"answer\": \"Offenses like reckless driving, failure to maintain lane, speeding, or ignoring traffic signals can indicate impairment and prompt further investigation.\"\n",
      "    },\n",
      "    {\n",
      "        \"sub_query\": \"What steps does an officer take after stopping a vehicle suspected of being driven by an impaired driver?\",\n",
      "        \"answer\": \"The officer will look for signs of intoxication such as slurred speech, odor of alcohol, or inability to perform field sobriety tests, and may use breathalyzers or request a blood test if probable cause exists.\"\n",
      "    }\n",
      "]\n",
      "using Hybrid\n"
     ]
    },
    {
     "name": "stderr",
     "output_type": "stream",
     "text": [
      " 75%|███████▌  | 45/60 [36:00<12:32, 50.15s/it]"
     ]
    },
    {
     "name": "stdout",
     "output_type": "stream",
     "text": [
      "[\n",
      "    {\n",
      "        \"sub_query\": \"What is the purpose of reducing speed before exiting an expressway?\",\n",
      "        \"answer\": \"Reducing speed before exiting an expressway is crucial for safely transitioning from high-speed travel to slower speeds required on exit ramps and subsequent roads, ensuring a smooth and controlled deceleration.\"\n",
      "    },\n",
      "    {\n",
      "        \"sub_query\": \"How do traffic signs indicate when to start reducing speed?\",\n",
      "        \"answer\": \"Traffic signs, such as 'Exit Ahead' or 'Reduced Speed Ahead,' serve as indicators for drivers to begin reducing their speed in preparation for exiting the expressway. These signs are typically posted well before the exit ramp to provide ample time for safe deceleration.\"\n",
      "    },\n",
      "    {\n",
      "        \"sub_query\": \"What factors should be considered when determining the appropriate time to start slowing down?\",\n",
      "        \"answer\": \"Factors such as current speed, distance to the exit, road conditions, and the presence of other vehicles should be considered when deciding when to start reducing speed. Generally, it's advisable to begin slowing down as soon as you see the exit sign or about a mile before the exit, adjusting your speed according to the specific conditions.\"\n",
      "    }\n",
      "]\n",
      "using Hybrid\n"
     ]
    },
    {
     "name": "stderr",
     "output_type": "stream",
     "text": [
      " 77%|███████▋  | 46/60 [36:53<11:54, 51.00s/it]"
     ]
    },
    {
     "name": "stdout",
     "output_type": "stream",
     "text": [
      "[\n",
      "    {\n",
      "        \"sub_query\": \"What are the safety guidelines for dimming headlights?\",\n",
      "        \"answer\": \"Safety guidelines generally recommend dimming your headlights when an oncoming vehicle is within 500 feet or when following another vehicle, to prevent glare and ensure mutual visibility.\"\n",
      "    },\n",
      "    {\n",
      "        \"sub_query\": \"How do weather conditions affect headlight usage?\",\n",
      "        \"answer\": \"Weather conditions such as rain, fog, or snow can reduce visibility; thus, it's advisable to dim your headlights earlier than usual in these conditions to avoid reflections and enhance safety.\"\n",
      "    },\n",
      "    {\n",
      "        \"sub_query\": \"What role does courtesy play in deciding when to dim headlights?\",\n",
      "        \"answer\": \"Courtesy dictates that you should dim your headlights as soon as you notice an oncoming vehicle, especially at night or in low-light conditions, to prevent discomfort and potential accidents caused by glare.\"\n",
      "    }\n",
      "]\n",
      "using Hybrid\n"
     ]
    },
    {
     "name": "stderr",
     "output_type": "stream",
     "text": [
      " 78%|███████▊  | 47/60 [37:46<11:12, 51.71s/it]"
     ]
    },
    {
     "name": "stdout",
     "output_type": "stream",
     "text": [
      "[\n",
      "    {\n",
      "        \"sub_query\": \"How does a front tire blowout affect vehicle stability?\",\n",
      "        \"answer\": \"A front tire blowout can cause significant instability, making the vehicle veer sharply in an unpredictable direction due to the loss of traction and the uneven weight distribution it causes.\"\n",
      "    },\n",
      "    {\n",
      "        \"sub_query\": \"What are the safety risks associated with a front tire blowout?\",\n",
      "        \"answer\": \"Safety risks include loss of control leading to accidents, potential rollovers, especially if the vehicle is traveling at high speeds or if corrective actions are made too abruptly.\"\n",
      "    },\n",
      "    {\n",
      "        \"sub_query\": \"What should you do immediately after a front tire blows out?\",\n",
      "        \"answer\": \"You should take your foot off the accelerator to slow down gradually, avoid slamming on the brakes, and steer gently in the direction you want the vehicle to go until you can safely pull over to change the tire or seek assistance.\"\n",
      "    }\n",
      "]\n",
      "using Hybrid\n"
     ]
    },
    {
     "name": "stderr",
     "output_type": "stream",
     "text": [
      " 80%|████████  | 48/60 [38:41<10:31, 52.62s/it]"
     ]
    },
    {
     "name": "stdout",
     "output_type": "stream",
     "text": [
      "[\n",
      "    {\n",
      "        \"sub_query\": \"What are the general rules for legal parking?\",\n",
      "        \"answer\": \"Legal parking is generally defined by local and national regulations, including restrictions on time limits, permitted zones, and requirements for parking permits or payment.\"\n",
      "    },\n",
      "    {\n",
      "        \"sub_query\": \"How does parking in no-parking zones affect traffic and safety?\",\n",
      "        \"answer\": \"Parking in no-parking zones can obstruct traffic flow, hinder emergency services access, and pose a risk to pedestrians and other vehicles by reducing visibility and maneuvering space.\"\n",
      "    },\n",
      "    {\n",
      "        \"sub_query\": \"What are the consequences of parking violations for drivers?\",\n",
      "        \"answer\": \"Consequences include fines, towing of the vehicle, and in some cases, points added to the driver's license, which can lead to increased insurance rates or even license suspension for repeated offenses.\"\n",
      "    }\n",
      "]\n",
      "using Hybrid\n"
     ]
    },
    {
     "name": "stderr",
     "output_type": "stream",
     "text": [
      " 82%|████████▏ | 49/60 [39:25<09:11, 50.17s/it]"
     ]
    },
    {
     "name": "stdout",
     "output_type": "stream",
     "text": [
      "[\n",
      "    {\n",
      "        \"sub_query\": \"What does it mean for a driver's license to be apprehended by the LTO?\",\n",
      "        \"answer\": \"A license is apprehended when a driver is caught violating traffic rules or regulations, leading to temporary confiscation of their license.\"\n",
      "    },\n",
      "    {\n",
      "        \"sub_query\": \"How can a driver settle their case with the LTO after their license has been apprehended?\",\n",
      "        \"answer\": \"To settle the case, the driver must appear before the LTO, pay any required fines, and comply with other stipulated conditions within the specified timeframe.\"\n",
      "    },\n",
      "    {\n",
      "        \"sub_query\": \"What is the specific number of days a driver has to settle their case and avoid suspension or revocation of their license?\",\n",
      "        \"answer\": \"The driver typically has 72 hours (or 3 days) from the time of apprehension to settle their case with the LTO, although this can vary based on specific circumstances and updates to LTO policies.\"\n",
      "    }\n",
      "]\n",
      "using Hybrid\n"
     ]
    },
    {
     "name": "stderr",
     "output_type": "stream",
     "text": [
      " 83%|████████▎ | 50/60 [40:09<08:01, 48.18s/it]"
     ]
    },
    {
     "name": "stdout",
     "output_type": "stream",
     "text": [
      "[\n",
      "    {\n",
      "        \"sub_query\": \"How do you recognize an approaching ambulance?\",\n",
      "        \"answer\": \"You recognize an approaching ambulance by its flashing red lights and/or sounding siren, which are distinct signals for emergency vehicles.\"\n",
      "    },\n",
      "    {\n",
      "        \"sub_query\": \"What actions should you take when you see or hear an ambulance approaching?\",\n",
      "        \"answer\": \"When you see or hear an ambulance approaching, you should pull over to the side of the road safely and quickly, coming to a complete stop without obstructing traffic flow, and avoid sudden movements that could interfere with the ambulance's path.\"\n",
      "    },\n",
      "    {\n",
      "        \"sub_query\": \"Why is it important to yield to an ambulance in emergency situations?\",\n",
      "        \"answer\": \"Yielding to an ambulance is crucial because it allows emergency medical services to reach their destination as quickly as possible, potentially saving lives or providing critical care in a timely manner.\"\n",
      "    }\n",
      "]\n",
      "using Hybrid\n"
     ]
    },
    {
     "name": "stderr",
     "output_type": "stream",
     "text": [
      " 85%|████████▌ | 51/60 [40:56<07:09, 47.76s/it]"
     ]
    },
    {
     "name": "stdout",
     "output_type": "stream",
     "text": [
      "[\n",
      "    {\n",
      "        \"sub_query\": \"What is the minimum legal age to apply for a driver's license?\",\n",
      "        \"answer\": \"The minimum age varies by jurisdiction but is typically at least 16 years old for a learner's permit.\"\n",
      "    },\n",
      "    {\n",
      "        \"sub_query\": \"What documents are required to apply for a driver's license?\",\n",
      "        \"answer\": \"Required documents usually include proof of identity and residency, along with completing an application form.\"\n",
      "    },\n",
      "    {\n",
      "        \"sub_query\": \"What tests must be passed to obtain a driver's license?\",\n",
      "        \"answer\": \"Applicants must pass both a written test on traffic laws and a driving test to demonstrate competence.\"\n",
      "    }\n",
      "]\n",
      "using Hybrid\n"
     ]
    },
    {
     "name": "stderr",
     "output_type": "stream",
     "text": [
      " 87%|████████▋ | 52/60 [41:47<06:29, 48.69s/it]"
     ]
    },
    {
     "name": "stdout",
     "output_type": "stream",
     "text": [
      "[\n",
      "    {\n",
      "        \"sub_query\": \"What legal consequences arise from driving with a fake license?\",\n",
      "        \"answer\": \"Driving with a fake license can lead to charges of fraud, identity theft, or other related offenses, depending on the jurisdiction.\"\n",
      "    },\n",
      "    {\n",
      "        \"sub_query\": \"What types of penalties are associated with using a fake driver's license?\",\n",
      "        \"answer\": \"Penalties may include significant fines, potential jail time, community service, and other punitive measures as determined by the court.\"\n",
      "    },\n",
      "    {\n",
      "        \"sub_query\": \"How does driving with a fake license affect one's ability to legally drive in the future?\",\n",
      "        \"answer\": \"Using a fake license can result in the suspension or revocation of your actual driver's license, making it difficult or impossible to legally drive until the matter is resolved and any required penalties are served.\"\n",
      "    }\n",
      "]\n",
      "using Hybrid\n"
     ]
    },
    {
     "name": "stderr",
     "output_type": "stream",
     "text": [
      " 88%|████████▊ | 53/60 [42:41<05:53, 50.56s/it]"
     ]
    },
    {
     "name": "stdout",
     "output_type": "stream",
     "text": [
      "[\n",
      "    {\n",
      "        \"sub_query\": \"Define what a full stop is\",\n",
      "        \"answer\": \"A full stop (.) is a punctuation mark used to end a sentence.\"\n",
      "    },\n",
      "    {\n",
      "        \"sub_query\": \"Explain when to use a full stop in sentences\",\n",
      "        \"answer\": \"It is typically used at the end of a declarative sentence or an imperative sentence.\"\n",
      "    },\n",
      "    {\n",
      "        \"sub_query\": \"Identify any exceptions or special cases for using a full stop\",\n",
      "        \"answer\": \"Exceptions include usage in abbreviations, decimals, or for dramatic pauses, where the context may slightly alter its application.\"\n",
      "    }\n",
      "]\n",
      "using Hybrid\n"
     ]
    },
    {
     "name": "stderr",
     "output_type": "stream",
     "text": [
      " 90%|█████████ | 54/60 [43:20<04:41, 46.95s/it]"
     ]
    },
    {
     "name": "stdout",
     "output_type": "stream",
     "text": [
      "[\n",
      "    {\n",
      "        \"sub_query\": \"What is considered car racing on a public road?\",\n",
      "        \"answer\": \"Car racing on a public road refers to the act of operating a vehicle in a competitive manner, often exceeding safe speeds, and disregarding traffic laws for the purpose of competition or thrill-seeking.\"\n",
      "    },\n",
      "    {\n",
      "        \"sub_query\": \"What are the common traffic violations associated with car racing?\",\n",
      "        \"answer\": \"Common traffic violations include reckless driving, speeding (often significantly exceeding posted speed limits), failure to obey traffic signals, and endangering the safety of other road users.\"\n",
      "    },\n",
      "    {\n",
      "        \"sub_query\": \"How do speed limits apply to super highways in relation to car racing?\",\n",
      "        \"answer\": \"Speed limits on super highways are designed for safe travel under normal conditions. Engaging in car racing would typically involve significantly exceeding these limits, posing a substantial risk to all road users and violating the specific speed regulations in place for those roads.\"\n",
      "    }\n",
      "]\n",
      "using Hybrid\n"
     ]
    },
    {
     "name": "stderr",
     "output_type": "stream",
     "text": [
      " 92%|█████████▏| 55/60 [44:09<03:57, 47.49s/it]"
     ]
    },
    {
     "name": "stdout",
     "output_type": "stream",
     "text": [
      "[\n",
      "    {\n",
      "        \"sub_query\": \"What are the main objectives of the Philippine Clean Air Act of 1999?\",\n",
      "        \"answer\": \"The main objectives include reducing and controlling air pollution through a multi-sectoral approach, ensuring the attainment and maintenance of air quality that is beneficial to public health and the environment.\"\n",
      "    },\n",
      "    {\n",
      "        \"sub_query\": \"What are the key provisions of the Philippine Clean Air Act?\",\n",
      "        \"answer\": \"Key provisions include standards for ambient air quality, emission limits for stationary and mobile sources, requirements for pollution control technologies, and penalties for non-compliance.\"\n",
      "    },\n",
      "    {\n",
      "        \"sub_query\": \"How has the implementation of the act impacted air quality in the Philippines?\",\n",
      "        \"answer\": \"The implementation has led to various initiatives aimed at reducing emissions from industrial and vehicular sources, though challenges persist due to rapid urbanization and industrial growth. Continuous monitoring and enforcement are necessary to meet the act's objectives fully.\"\n",
      "    }\n",
      "]\n",
      "using Hybrid\n"
     ]
    },
    {
     "name": "stderr",
     "output_type": "stream",
     "text": [
      " 93%|█████████▎| 56/60 [45:03<03:18, 49.56s/it]"
     ]
    },
    {
     "name": "stdout",
     "output_type": "stream",
     "text": [
      "[\n",
      "    {\n",
      "        \"sub_query\": \"What is the purpose of maintaining a safe following distance on the road?\",\n",
      "        \"answer\": \"Maintaining a safe following distance reduces the risk of rear-end collisions by providing enough time to stop or react to unexpected situations.\"\n",
      "    },\n",
      "    {\n",
      "        \"sub_query\": \"How does the speed of a vehicle affect stopping distance?\",\n",
      "        \"answer\": \"The speed of a vehicle significantly affects its stopping distance; higher speeds result in longer stopping distances due to increased kinetic energy that needs to be dissipated.\"\n",
      "    },\n",
      "    {\n",
      "        \"sub_query\": \"What factors should be considered when determining a safe following distance?\",\n",
      "        \"answer\": \"Factors such as road conditions, weather, vehicle type, and the driver's reaction time should be considered when determining a safe following distance to ensure there is enough space to stop safely.\"\n",
      "    }\n",
      "]\n",
      "using Hybrid\n"
     ]
    },
    {
     "name": "stderr",
     "output_type": "stream",
     "text": [
      " 95%|█████████▌| 57/60 [45:47<02:23, 47.73s/it]"
     ]
    },
    {
     "name": "stdout",
     "output_type": "stream",
     "text": [
      "[\n",
      "    {\n",
      "        \"sub_query\": \"Understanding Traffic Light Signals\",\n",
      "        \"answer\": \"Traffic lights are used to control the flow of traffic, with red meaning stop, green meaning go, and yellow serving as a warning that the signal is about to turn red.\"\n",
      "    },\n",
      "    {\n",
      "        \"sub_query\": \"Specific Meaning of Yellow Lights\",\n",
      "        \"answer\": \"A yellow light indicates that the red light is about to appear, signaling drivers to prepare to stop unless they are too close to the intersection to do so safely.\"\n",
      "    },\n",
      "    {\n",
      "        \"sub_query\": \"Implications of Blinking vs. Steady Yellow Lights\",\n",
      "        \"answer\": \"A blinking yellow light typically means proceed with caution, as it often appears at intersections where traffic must yield to other roads or pedestrians but does not need to come to a complete stop.\"\n",
      "    }\n",
      "]\n",
      "using Hybrid\n"
     ]
    },
    {
     "name": "stderr",
     "output_type": "stream",
     "text": [
      " 97%|█████████▋| 58/60 [46:34<01:35, 47.72s/it]"
     ]
    },
    {
     "name": "stdout",
     "output_type": "stream",
     "text": [
      "[\n",
      "    {\n",
      "        \"sub_query\": \"What is a fixed stare, and how does it affect productivity?\",\n",
      "        \"answer\": \"A fixed stare refers to maintaining gaze on a single point for an extended period, potentially leading to eye strain and decreased productivity due to lack of visual breaks.\"\n",
      "    },\n",
      "    {\n",
      "        \"sub_query\": \"How can regular eye movement help in preventing fixed stare?\",\n",
      "        \"answer\": \"Regularly moving your eyes between different points, such as looking away from your screen every 20 minutes to focus on something distant, helps reduce eye strain and promotes better vision health.\"\n",
      "    },\n",
      "    {\n",
      "        \"sub_query\": \"What mindfulness techniques can help resist distraction?\",\n",
      "        \"answer\": \"Practicing mindfulness through meditation, setting clear goals for work sessions, and minimizing multitasking can significantly improve one's ability to focus and resist distractions.\"\n",
      "    }\n",
      "]\n",
      "using Hybrid\n"
     ]
    },
    {
     "name": "stderr",
     "output_type": "stream",
     "text": [
      " 98%|█████████▊| 59/60 [47:26<00:48, 49.00s/it]"
     ]
    },
    {
     "name": "stdout",
     "output_type": "stream",
     "text": [
      "[\n",
      "    {\n",
      "        \"sub_query\": \"What does 'no parking' mean legally?\",\n",
      "        \"answer\": \"Legally, 'no parking' signs indicate areas where vehicles are not allowed to stop or stand for any duration, except for specifically permitted actions like loading/unloading passengers.\"\n",
      "    },\n",
      "    {\n",
      "        \"sub_query\": \"Where is parking typically prohibited?\",\n",
      "        \"answer\": \"Parking is typically prohibited in areas that pose a risk to safety, traffic flow, or access, such as near fire hydrants, intersections, sidewalks, and during specific hours on certain streets.\"\n",
      "    },\n",
      "    {\n",
      "        \"sub_query\": \"What are the consequences of parking in a no-parking zone?\",\n",
      "        \"answer\": \"The consequences can include receiving a parking ticket (fine), having your vehicle towed, or in some cases, facing additional penalties for repeated offenses or for posing a significant hazard.\"\n",
      "    }\n",
      "]\n",
      "using Hybrid\n"
     ]
    },
    {
     "name": "stderr",
     "output_type": "stream",
     "text": [
      "100%|██████████| 60/60 [48:18<00:00, 48.31s/it]"
     ]
    },
    {
     "name": "stdout",
     "output_type": "stream",
     "text": [
      "Updated Testing Data with AI Answers:\n"
     ]
    },
    {
     "name": "stderr",
     "output_type": "stream",
     "text": [
      "\n"
     ]
    },
    {
     "data": {
      "text/html": [
       "<div>\n",
       "<style scoped>\n",
       "    .dataframe tbody tr th:only-of-type {\n",
       "        vertical-align: middle;\n",
       "    }\n",
       "\n",
       "    .dataframe tbody tr th {\n",
       "        vertical-align: top;\n",
       "    }\n",
       "\n",
       "    .dataframe thead th {\n",
       "        text-align: right;\n",
       "    }\n",
       "</style>\n",
       "<table border=\"1\" class=\"dataframe\">\n",
       "  <thead>\n",
       "    <tr style=\"text-align: right;\">\n",
       "      <th></th>\n",
       "      <th>Question</th>\n",
       "      <th>A</th>\n",
       "      <th>B</th>\n",
       "      <th>C</th>\n",
       "      <th>D</th>\n",
       "      <th>E</th>\n",
       "      <th>Answer</th>\n",
       "      <th>Choices</th>\n",
       "      <th>AI</th>\n",
       "    </tr>\n",
       "  </thead>\n",
       "  <tbody>\n",
       "    <tr>\n",
       "      <th>69</th>\n",
       "      <td>If the driver is turning left, he must: (U-tur...</td>\n",
       "      <td>have the right of way</td>\n",
       "      <td>do so slowly with caution</td>\n",
       "      <td>yield to approaching cars</td>\n",
       "      <td>NaN</td>\n",
       "      <td>NaN</td>\n",
       "      <td>C</td>\n",
       "      <td>A. have the right of way\\nB. do so slowly with...</td>\n",
       "      <td>[C]</td>\n",
       "    </tr>\n",
       "    <tr>\n",
       "      <th>5</th>\n",
       "      <td>When a vehicle starts to skid, what should the...</td>\n",
       "      <td>Immediately step on the brakes</td>\n",
       "      <td>Hold firmly on to the wheel while slowing down...</td>\n",
       "      <td>Turn the wheels tp the opposite the direction ...</td>\n",
       "      <td>NaN</td>\n",
       "      <td>NaN</td>\n",
       "      <td>B</td>\n",
       "      <td>A. Immediately step on the brakes\\nB. Hold fir...</td>\n",
       "      <td>[B]</td>\n",
       "    </tr>\n",
       "    <tr>\n",
       "      <th>42</th>\n",
       "      <td>If you are parking uphill without a curb, turn...</td>\n",
       "      <td>edge of the street</td>\n",
       "      <td>other side of the street</td>\n",
       "      <td>middle of the street</td>\n",
       "      <td>NaN</td>\n",
       "      <td>NaN</td>\n",
       "      <td>A</td>\n",
       "      <td>A. edge of the street\\nB. other side of the st...</td>\n",
       "      <td>[A]</td>\n",
       "    </tr>\n",
       "    <tr>\n",
       "      <th>47</th>\n",
       "      <td>When parking downhill, you should turn your fr...</td>\n",
       "      <td>toward the curb of the sidewalk</td>\n",
       "      <td>away from the curb</td>\n",
       "      <td>any direction will do</td>\n",
       "      <td>NaN</td>\n",
       "      <td>NaN</td>\n",
       "      <td>A</td>\n",
       "      <td>A. toward the curb of the sidewalk\\nB. away fr...</td>\n",
       "      <td>[A]</td>\n",
       "    </tr>\n",
       "    <tr>\n",
       "      <th>16</th>\n",
       "      <td>Which of the following is the maximum speed li...</td>\n",
       "      <td>60 kph</td>\n",
       "      <td>80 kph</td>\n",
       "      <td>100 kph</td>\n",
       "      <td>NaN</td>\n",
       "      <td>NaN</td>\n",
       "      <td>C</td>\n",
       "      <td>A. 60 kph\\nB. 80 kph\\nC. 100 kph</td>\n",
       "      <td>[C]</td>\n",
       "    </tr>\n",
       "  </tbody>\n",
       "</table>\n",
       "</div>"
      ],
      "text/plain": [
       "                                             Question  \\\n",
       "69  If the driver is turning left, he must: (U-tur...   \n",
       "5   When a vehicle starts to skid, what should the...   \n",
       "42  If you are parking uphill without a curb, turn...   \n",
       "47  When parking downhill, you should turn your fr...   \n",
       "16  Which of the following is the maximum speed li...   \n",
       "\n",
       "                                  A  \\\n",
       "69            have the right of way   \n",
       "5    Immediately step on the brakes   \n",
       "42               edge of the street   \n",
       "47  toward the curb of the sidewalk   \n",
       "16                           60 kph   \n",
       "\n",
       "                                                    B  \\\n",
       "69                          do so slowly with caution   \n",
       "5   Hold firmly on to the wheel while slowing down...   \n",
       "42                           other side of the street   \n",
       "47                                 away from the curb   \n",
       "16                                             80 kph   \n",
       "\n",
       "                                                    C    D    E Answer  \\\n",
       "69                          yield to approaching cars  NaN  NaN      C   \n",
       "5   Turn the wheels tp the opposite the direction ...  NaN  NaN      B   \n",
       "42                               middle of the street  NaN  NaN      A   \n",
       "47                              any direction will do  NaN  NaN      A   \n",
       "16                                            100 kph  NaN  NaN      C   \n",
       "\n",
       "                                              Choices   AI  \n",
       "69  A. have the right of way\\nB. do so slowly with...  [C]  \n",
       "5   A. Immediately step on the brakes\\nB. Hold fir...  [B]  \n",
       "42  A. edge of the street\\nB. other side of the st...  [A]  \n",
       "47  A. toward the curb of the sidewalk\\nB. away fr...  [A]  \n",
       "16                   A. 60 kph\\nB. 80 kph\\nC. 100 kph  [C]  "
      ]
     },
     "metadata": {},
     "output_type": "display_data"
    }
   ],
   "source": [
    "df = test_df.copy()\n",
    "df[\"AI\"] = np.nan\n",
    "ai_answer = []\n",
    "\n",
    "for i in tqdm(range(len(df))):\n",
    "    answ = gen_query(df[\"Question\"].iloc[i], df[\"Choices\"].iloc[i], top_k=20, client=client, mode='hybrid', model=\"llama3.3\")\n",
    "    ai_answer.append(answ[0])  # Get the first answer\n",
    "\n",
    "df[\"AI\"] = ai_answer\n",
    "print(\"Updated Testing Data with AI Answers:\")\n",
    "display(df.head())"
   ]
  },
  {
   "cell_type": "code",
   "execution_count": 57,
   "id": "ad5ce417",
   "metadata": {},
   "outputs": [
    {
     "name": "stdout",
     "output_type": "stream",
     "text": [
      "Final Score: 46.00/60.00\n",
      "Accuracy: 0.77%\n"
     ]
    },
    {
     "data": {
      "text/html": [
       "<div>\n",
       "<style scoped>\n",
       "    .dataframe tbody tr th:only-of-type {\n",
       "        vertical-align: middle;\n",
       "    }\n",
       "\n",
       "    .dataframe tbody tr th {\n",
       "        vertical-align: top;\n",
       "    }\n",
       "\n",
       "    .dataframe thead th {\n",
       "        text-align: right;\n",
       "    }\n",
       "</style>\n",
       "<table border=\"1\" class=\"dataframe\">\n",
       "  <thead>\n",
       "    <tr style=\"text-align: right;\">\n",
       "      <th></th>\n",
       "      <th>Question</th>\n",
       "      <th>Answer</th>\n",
       "      <th>AI</th>\n",
       "      <th>Score</th>\n",
       "    </tr>\n",
       "  </thead>\n",
       "  <tbody>\n",
       "    <tr>\n",
       "      <th>69</th>\n",
       "      <td>If the driver is turning left, he must: (U-tur...</td>\n",
       "      <td>[C]</td>\n",
       "      <td>[C]</td>\n",
       "      <td>1.0</td>\n",
       "    </tr>\n",
       "    <tr>\n",
       "      <th>5</th>\n",
       "      <td>When a vehicle starts to skid, what should the...</td>\n",
       "      <td>[B]</td>\n",
       "      <td>[B]</td>\n",
       "      <td>1.0</td>\n",
       "    </tr>\n",
       "    <tr>\n",
       "      <th>42</th>\n",
       "      <td>If you are parking uphill without a curb, turn...</td>\n",
       "      <td>[A]</td>\n",
       "      <td>[A]</td>\n",
       "      <td>1.0</td>\n",
       "    </tr>\n",
       "    <tr>\n",
       "      <th>47</th>\n",
       "      <td>When parking downhill, you should turn your fr...</td>\n",
       "      <td>[A]</td>\n",
       "      <td>[A]</td>\n",
       "      <td>1.0</td>\n",
       "    </tr>\n",
       "    <tr>\n",
       "      <th>16</th>\n",
       "      <td>Which of the following is the maximum speed li...</td>\n",
       "      <td>[C]</td>\n",
       "      <td>[C]</td>\n",
       "      <td>1.0</td>\n",
       "    </tr>\n",
       "    <tr>\n",
       "      <th>45</th>\n",
       "      <td>Never park or stop at the side of the road wit...</td>\n",
       "      <td>[C]</td>\n",
       "      <td>[B]</td>\n",
       "      <td>0.0</td>\n",
       "    </tr>\n",
       "    <tr>\n",
       "      <th>34</th>\n",
       "      <td>While driving with maximum speed and you have ...</td>\n",
       "      <td>[C]</td>\n",
       "      <td>[C]</td>\n",
       "      <td>1.0</td>\n",
       "    </tr>\n",
       "    <tr>\n",
       "      <th>7</th>\n",
       "      <td>What will happen when your rear tire blows out?</td>\n",
       "      <td>[B]</td>\n",
       "      <td>[A]</td>\n",
       "      <td>0.0</td>\n",
       "    </tr>\n",
       "    <tr>\n",
       "      <th>79</th>\n",
       "      <td>Operating a public utility vehicle equipped wi...</td>\n",
       "      <td>[A]</td>\n",
       "      <td>[B]</td>\n",
       "      <td>0.0</td>\n",
       "    </tr>\n",
       "    <tr>\n",
       "      <th>27</th>\n",
       "      <td>Your speed while driving at night should keep on:</td>\n",
       "      <td>[A]</td>\n",
       "      <td>[A]</td>\n",
       "      <td>1.0</td>\n",
       "    </tr>\n",
       "    <tr>\n",
       "      <th>19</th>\n",
       "      <td>Before a private motor vehicle owner can apply...</td>\n",
       "      <td>[C]</td>\n",
       "      <td>[C]</td>\n",
       "      <td>1.0</td>\n",
       "    </tr>\n",
       "    <tr>\n",
       "      <th>75</th>\n",
       "      <td>What is the meaning of a traffic sign that has...</td>\n",
       "      <td>[A]</td>\n",
       "      <td>[A]</td>\n",
       "      <td>1.0</td>\n",
       "    </tr>\n",
       "    <tr>\n",
       "      <th>25</th>\n",
       "      <td>It is not conidered safe driving on an express...</td>\n",
       "      <td>[C]</td>\n",
       "      <td>[C]</td>\n",
       "      <td>1.0</td>\n",
       "    </tr>\n",
       "    <tr>\n",
       "      <th>53</th>\n",
       "      <td>What is considered as a parking violation?</td>\n",
       "      <td>[C]</td>\n",
       "      <td>[A, C]</td>\n",
       "      <td>0.0</td>\n",
       "    </tr>\n",
       "    <tr>\n",
       "      <th>13</th>\n",
       "      <td>Night driving is dangerous because:</td>\n",
       "      <td>[C]</td>\n",
       "      <td>[C]</td>\n",
       "      <td>1.0</td>\n",
       "    </tr>\n",
       "    <tr>\n",
       "      <th>24</th>\n",
       "      <td>A pre-trip inspection should be completed:</td>\n",
       "      <td>[C]</td>\n",
       "      <td>[C]</td>\n",
       "      <td>1.0</td>\n",
       "    </tr>\n",
       "    <tr>\n",
       "      <th>3</th>\n",
       "      <td>While driving the hood of your car lifts up bl...</td>\n",
       "      <td>[A, C]</td>\n",
       "      <td>[C]</td>\n",
       "      <td>0.0</td>\n",
       "    </tr>\n",
       "    <tr>\n",
       "      <th>17</th>\n",
       "      <td>Graft and corruption in the traffic enforcemen...</td>\n",
       "      <td>[C]</td>\n",
       "      <td>[A, C]</td>\n",
       "      <td>0.0</td>\n",
       "    </tr>\n",
       "    <tr>\n",
       "      <th>38</th>\n",
       "      <td>While driving with a maximum speed and you hav...</td>\n",
       "      <td>[A]</td>\n",
       "      <td>[A]</td>\n",
       "      <td>1.0</td>\n",
       "    </tr>\n",
       "    <tr>\n",
       "      <th>8</th>\n",
       "      <td>When a vehicle is stalled or disabled, the dri...</td>\n",
       "      <td>[C]</td>\n",
       "      <td>[B]</td>\n",
       "      <td>0.0</td>\n",
       "    </tr>\n",
       "    <tr>\n",
       "      <th>72</th>\n",
       "      <td>Signs that are round, rectangular with white a...</td>\n",
       "      <td>[B]</td>\n",
       "      <td>[B]</td>\n",
       "      <td>1.0</td>\n",
       "    </tr>\n",
       "    <tr>\n",
       "      <th>6</th>\n",
       "      <td>In case of injuries caused by an accident, the...</td>\n",
       "      <td>[A]</td>\n",
       "      <td>[A]</td>\n",
       "      <td>1.0</td>\n",
       "    </tr>\n",
       "    <tr>\n",
       "      <th>87</th>\n",
       "      <td>It refers to the amount of alcohol in a person...</td>\n",
       "      <td>[A]</td>\n",
       "      <td>[A]</td>\n",
       "      <td>1.0</td>\n",
       "    </tr>\n",
       "    <tr>\n",
       "      <th>36</th>\n",
       "      <td>When planning to overtake a slower vehicle in ...</td>\n",
       "      <td>[B]</td>\n",
       "      <td>[B]</td>\n",
       "      <td>1.0</td>\n",
       "    </tr>\n",
       "    <tr>\n",
       "      <th>81</th>\n",
       "      <td>When a driver of PUV refuses to render service...</td>\n",
       "      <td>[A]</td>\n",
       "      <td>[A]</td>\n",
       "      <td>1.0</td>\n",
       "    </tr>\n",
       "    <tr>\n",
       "      <th>56</th>\n",
       "      <td>Which of the following hand signals must a dri...</td>\n",
       "      <td>[C]</td>\n",
       "      <td>[B]</td>\n",
       "      <td>0.0</td>\n",
       "    </tr>\n",
       "    <tr>\n",
       "      <th>90</th>\n",
       "      <td>You were flagged down due to noisy muffle of y...</td>\n",
       "      <td>[B]</td>\n",
       "      <td>[B]</td>\n",
       "      <td>1.0</td>\n",
       "    </tr>\n",
       "    <tr>\n",
       "      <th>54</th>\n",
       "      <td>When are you permitted to double park?</td>\n",
       "      <td>[A]</td>\n",
       "      <td>[A]</td>\n",
       "      <td>1.0</td>\n",
       "    </tr>\n",
       "    <tr>\n",
       "      <th>43</th>\n",
       "      <td>A driver ____ park or stop at the side fo the ...</td>\n",
       "      <td>[A]</td>\n",
       "      <td>[A]</td>\n",
       "      <td>1.0</td>\n",
       "    </tr>\n",
       "    <tr>\n",
       "      <th>50</th>\n",
       "      <td>Parking lights may be used:</td>\n",
       "      <td>[B]</td>\n",
       "      <td>[B]</td>\n",
       "      <td>1.0</td>\n",
       "    </tr>\n",
       "    <tr>\n",
       "      <th>46</th>\n",
       "      <td>The vehicle is parked if:</td>\n",
       "      <td>[A]</td>\n",
       "      <td>[A]</td>\n",
       "      <td>1.0</td>\n",
       "    </tr>\n",
       "    <tr>\n",
       "      <th>83</th>\n",
       "      <td>A type of field sobriety test that requires th...</td>\n",
       "      <td>[C]</td>\n",
       "      <td>[C]</td>\n",
       "      <td>1.0</td>\n",
       "    </tr>\n",
       "    <tr>\n",
       "      <th>61</th>\n",
       "      <td>It is not a safe place to overtake in an/a:</td>\n",
       "      <td>[A]</td>\n",
       "      <td>[A]</td>\n",
       "      <td>1.0</td>\n",
       "    </tr>\n",
       "    <tr>\n",
       "      <th>89</th>\n",
       "      <td>For drivers of trucks, buses, motorcycles and ...</td>\n",
       "      <td>[B]</td>\n",
       "      <td>[B]</td>\n",
       "      <td>1.0</td>\n",
       "    </tr>\n",
       "    <tr>\n",
       "      <th>73</th>\n",
       "      <td>What is the meaning of a traffic sign that has...</td>\n",
       "      <td>[C]</td>\n",
       "      <td>[C]</td>\n",
       "      <td>1.0</td>\n",
       "    </tr>\n",
       "    <tr>\n",
       "      <th>41</th>\n",
       "      <td>When loading or unloading passengers, we usual...</td>\n",
       "      <td>[A]</td>\n",
       "      <td>[A]</td>\n",
       "      <td>1.0</td>\n",
       "    </tr>\n",
       "    <tr>\n",
       "      <th>58</th>\n",
       "      <td>When two vehicles meet on a gradient road wher...</td>\n",
       "      <td>[A]</td>\n",
       "      <td>[B]</td>\n",
       "      <td>0.0</td>\n",
       "    </tr>\n",
       "    <tr>\n",
       "      <th>48</th>\n",
       "      <td>When you are parked at the side of the road at...</td>\n",
       "      <td>[A]</td>\n",
       "      <td>[A]</td>\n",
       "      <td>1.0</td>\n",
       "    </tr>\n",
       "    <tr>\n",
       "      <th>80</th>\n",
       "      <td>The motor vehicle plate and driver's license m...</td>\n",
       "      <td>[A]</td>\n",
       "      <td>[A]</td>\n",
       "      <td>1.0</td>\n",
       "    </tr>\n",
       "    <tr>\n",
       "      <th>57</th>\n",
       "      <td>When oncoming vehicle (car A) deliberately cro...</td>\n",
       "      <td>[A]</td>\n",
       "      <td>[A]</td>\n",
       "      <td>1.0</td>\n",
       "    </tr>\n",
       "    <tr>\n",
       "      <th>32</th>\n",
       "      <td>At an intrsection with traffic signals, if you...</td>\n",
       "      <td>[A]</td>\n",
       "      <td>[A]</td>\n",
       "      <td>1.0</td>\n",
       "    </tr>\n",
       "    <tr>\n",
       "      <th>86</th>\n",
       "      <td>The penalty of driving a motor vehicle while u...</td>\n",
       "      <td>[B]</td>\n",
       "      <td>[B]</td>\n",
       "      <td>1.0</td>\n",
       "    </tr>\n",
       "    <tr>\n",
       "      <th>59</th>\n",
       "      <td>When driving on the highway at night, you shou...</td>\n",
       "      <td>[C]</td>\n",
       "      <td>[B, C]</td>\n",
       "      <td>0.0</td>\n",
       "    </tr>\n",
       "    <tr>\n",
       "      <th>63</th>\n",
       "      <td>The safest thing to do even if you have the ri...</td>\n",
       "      <td>[A]</td>\n",
       "      <td>[A]</td>\n",
       "      <td>1.0</td>\n",
       "    </tr>\n",
       "    <tr>\n",
       "      <th>78</th>\n",
       "      <td>It shall mean that the LEO has reasonable grou...</td>\n",
       "      <td>[B]</td>\n",
       "      <td>[B]</td>\n",
       "      <td>1.0</td>\n",
       "    </tr>\n",
       "    <tr>\n",
       "      <th>37</th>\n",
       "      <td>You are preparing to exit an expressway, when ...</td>\n",
       "      <td>[B]</td>\n",
       "      <td>[B]</td>\n",
       "      <td>1.0</td>\n",
       "    </tr>\n",
       "    <tr>\n",
       "      <th>29</th>\n",
       "      <td>How close should another car be before you dim...</td>\n",
       "      <td>[A]</td>\n",
       "      <td>[B]</td>\n",
       "      <td>0.0</td>\n",
       "    </tr>\n",
       "    <tr>\n",
       "      <th>1</th>\n",
       "      <td>What will happen when your front tire blows out?</td>\n",
       "      <td>[C]</td>\n",
       "      <td>[A]</td>\n",
       "      <td>0.0</td>\n",
       "    </tr>\n",
       "    <tr>\n",
       "      <th>52</th>\n",
       "      <td>Parking is considered as a violation when a mo...</td>\n",
       "      <td>[A]</td>\n",
       "      <td>[A]</td>\n",
       "      <td>1.0</td>\n",
       "    </tr>\n",
       "    <tr>\n",
       "      <th>21</th>\n",
       "      <td>To avoid suspension or revocation, how many da...</td>\n",
       "      <td>[A]</td>\n",
       "      <td>[A]</td>\n",
       "      <td>1.0</td>\n",
       "    </tr>\n",
       "    <tr>\n",
       "      <th>2</th>\n",
       "      <td>What should you do when an ambulance comes up ...</td>\n",
       "      <td>[D]</td>\n",
       "      <td>[D]</td>\n",
       "      <td>1.0</td>\n",
       "    </tr>\n",
       "    <tr>\n",
       "      <th>23</th>\n",
       "      <td>To aobtain one's driver's license, one must be...</td>\n",
       "      <td>[B]</td>\n",
       "      <td>[B]</td>\n",
       "      <td>1.0</td>\n",
       "    </tr>\n",
       "    <tr>\n",
       "      <th>84</th>\n",
       "      <td>Driving with a fake license is prohibited and ...</td>\n",
       "      <td>[C]</td>\n",
       "      <td>None</td>\n",
       "      <td>0.0</td>\n",
       "    </tr>\n",
       "    <tr>\n",
       "      <th>74</th>\n",
       "      <td>When do you have a complete/full stop</td>\n",
       "      <td>[C]</td>\n",
       "      <td>[C]</td>\n",
       "      <td>1.0</td>\n",
       "    </tr>\n",
       "    <tr>\n",
       "      <th>82</th>\n",
       "      <td>You were apprehended because you were engaged ...</td>\n",
       "      <td>[A]</td>\n",
       "      <td>[A]</td>\n",
       "      <td>1.0</td>\n",
       "    </tr>\n",
       "    <tr>\n",
       "      <th>20</th>\n",
       "      <td>According to the Philippine Clean Air Act of 1...</td>\n",
       "      <td>[C]</td>\n",
       "      <td>[C]</td>\n",
       "      <td>1.0</td>\n",
       "    </tr>\n",
       "    <tr>\n",
       "      <th>60</th>\n",
       "      <td>Keeping one's distance lessens the risk of acc...</td>\n",
       "      <td>[C]</td>\n",
       "      <td>[A]</td>\n",
       "      <td>0.0</td>\n",
       "    </tr>\n",
       "    <tr>\n",
       "      <th>71</th>\n",
       "      <td>What is the meaning of a blinking yellow traff...</td>\n",
       "      <td>[B]</td>\n",
       "      <td>[B]</td>\n",
       "      <td>1.0</td>\n",
       "    </tr>\n",
       "    <tr>\n",
       "      <th>14</th>\n",
       "      <td>What habit will help you prevent getting a fix...</td>\n",
       "      <td>[B]</td>\n",
       "      <td>[B]</td>\n",
       "      <td>1.0</td>\n",
       "    </tr>\n",
       "    <tr>\n",
       "      <th>51</th>\n",
       "      <td>You may never park:</td>\n",
       "      <td>[A]</td>\n",
       "      <td>[A]</td>\n",
       "      <td>1.0</td>\n",
       "    </tr>\n",
       "  </tbody>\n",
       "</table>\n",
       "</div>"
      ],
      "text/plain": [
       "                                             Question  Answer      AI  Score\n",
       "69  If the driver is turning left, he must: (U-tur...     [C]     [C]    1.0\n",
       "5   When a vehicle starts to skid, what should the...     [B]     [B]    1.0\n",
       "42  If you are parking uphill without a curb, turn...     [A]     [A]    1.0\n",
       "47  When parking downhill, you should turn your fr...     [A]     [A]    1.0\n",
       "16  Which of the following is the maximum speed li...     [C]     [C]    1.0\n",
       "45  Never park or stop at the side of the road wit...     [C]     [B]    0.0\n",
       "34  While driving with maximum speed and you have ...     [C]     [C]    1.0\n",
       "7     What will happen when your rear tire blows out?     [B]     [A]    0.0\n",
       "79  Operating a public utility vehicle equipped wi...     [A]     [B]    0.0\n",
       "27  Your speed while driving at night should keep on:     [A]     [A]    1.0\n",
       "19  Before a private motor vehicle owner can apply...     [C]     [C]    1.0\n",
       "75  What is the meaning of a traffic sign that has...     [A]     [A]    1.0\n",
       "25  It is not conidered safe driving on an express...     [C]     [C]    1.0\n",
       "53         What is considered as a parking violation?     [C]  [A, C]    0.0\n",
       "13                Night driving is dangerous because:     [C]     [C]    1.0\n",
       "24         A pre-trip inspection should be completed:     [C]     [C]    1.0\n",
       "3   While driving the hood of your car lifts up bl...  [A, C]     [C]    0.0\n",
       "17  Graft and corruption in the traffic enforcemen...     [C]  [A, C]    0.0\n",
       "38  While driving with a maximum speed and you hav...     [A]     [A]    1.0\n",
       "8   When a vehicle is stalled or disabled, the dri...     [C]     [B]    0.0\n",
       "72  Signs that are round, rectangular with white a...     [B]     [B]    1.0\n",
       "6   In case of injuries caused by an accident, the...     [A]     [A]    1.0\n",
       "87  It refers to the amount of alcohol in a person...     [A]     [A]    1.0\n",
       "36  When planning to overtake a slower vehicle in ...     [B]     [B]    1.0\n",
       "81  When a driver of PUV refuses to render service...     [A]     [A]    1.0\n",
       "56  Which of the following hand signals must a dri...     [C]     [B]    0.0\n",
       "90  You were flagged down due to noisy muffle of y...     [B]     [B]    1.0\n",
       "54             When are you permitted to double park?     [A]     [A]    1.0\n",
       "43  A driver ____ park or stop at the side fo the ...     [A]     [A]    1.0\n",
       "50                        Parking lights may be used:     [B]     [B]    1.0\n",
       "46                          The vehicle is parked if:     [A]     [A]    1.0\n",
       "83  A type of field sobriety test that requires th...     [C]     [C]    1.0\n",
       "61        It is not a safe place to overtake in an/a:     [A]     [A]    1.0\n",
       "89  For drivers of trucks, buses, motorcycles and ...     [B]     [B]    1.0\n",
       "73  What is the meaning of a traffic sign that has...     [C]     [C]    1.0\n",
       "41  When loading or unloading passengers, we usual...     [A]     [A]    1.0\n",
       "58  When two vehicles meet on a gradient road wher...     [A]     [B]    0.0\n",
       "48  When you are parked at the side of the road at...     [A]     [A]    1.0\n",
       "80  The motor vehicle plate and driver's license m...     [A]     [A]    1.0\n",
       "57  When oncoming vehicle (car A) deliberately cro...     [A]     [A]    1.0\n",
       "32  At an intrsection with traffic signals, if you...     [A]     [A]    1.0\n",
       "86  The penalty of driving a motor vehicle while u...     [B]     [B]    1.0\n",
       "59  When driving on the highway at night, you shou...     [C]  [B, C]    0.0\n",
       "63  The safest thing to do even if you have the ri...     [A]     [A]    1.0\n",
       "78  It shall mean that the LEO has reasonable grou...     [B]     [B]    1.0\n",
       "37  You are preparing to exit an expressway, when ...     [B]     [B]    1.0\n",
       "29  How close should another car be before you dim...     [A]     [B]    0.0\n",
       "1    What will happen when your front tire blows out?     [C]     [A]    0.0\n",
       "52  Parking is considered as a violation when a mo...     [A]     [A]    1.0\n",
       "21  To avoid suspension or revocation, how many da...     [A]     [A]    1.0\n",
       "2   What should you do when an ambulance comes up ...     [D]     [D]    1.0\n",
       "23  To aobtain one's driver's license, one must be...     [B]     [B]    1.0\n",
       "84  Driving with a fake license is prohibited and ...     [C]    None    0.0\n",
       "74              When do you have a complete/full stop     [C]     [C]    1.0\n",
       "82  You were apprehended because you were engaged ...     [A]     [A]    1.0\n",
       "20  According to the Philippine Clean Air Act of 1...     [C]     [C]    1.0\n",
       "60  Keeping one's distance lessens the risk of acc...     [C]     [A]    0.0\n",
       "71  What is the meaning of a blinking yellow traff...     [B]     [B]    1.0\n",
       "14  What habit will help you prevent getting a fix...     [B]     [B]    1.0\n",
       "51                                You may never park:     [A]     [A]    1.0"
      ]
     },
     "metadata": {},
     "output_type": "display_data"
    }
   ],
   "source": [
    "import re\n",
    "\n",
    "\n",
    "def process_answers(answers):\n",
    "    formatted_answers = []\n",
    "    \n",
    "    for a in answers:\n",
    "        \n",
    "        matches = re.findall(r'\\[?\\s*([A-E](?:\\s*,\\s*[A-E])*)\\s*\\]?', str(a)) # Extract answers like [A, C, D] or [A] or [B, D]\n",
    "        answers = []\n",
    "        for match in matches:\n",
    "            answers.extend(re.split(r'\\s*,\\s*', match))  # Split by comma and remove spaces\n",
    "        unique_sorted_answers = sorted(set(answers), key=lambda x: ['A', 'B', 'C', 'D', 'E'].index(x))\n",
    "        if not unique_sorted_answers:\n",
    "            formatted_answers.append(None)\n",
    "        else:\n",
    "            formatted_answers.append(unique_sorted_answers)\n",
    "    return formatted_answers\n",
    "\n",
    "df_results = df[[\"Question\", \"Answer\", \"AI\"]].copy()\n",
    "df_results['Answer'] = df_results['Answer'].apply(lambda x: x.split(', '))\n",
    "df_results['AI'] = process_answers(df_results[\"AI\"])\n",
    "df_results['Answer'] = process_answers(df_results[\"Answer\"])\n",
    "\n",
    "\n",
    "\n",
    "def calculate_scores(df):\n",
    "    scores = []\n",
    "    for index, row in df.iterrows():\n",
    "        correct_answers = set(row['Answer'] if row['Answer'] is not None else [])\n",
    "        ai_answers = set(row['AI'] if row['AI'] is not None else [])\n",
    "        if ai_answers == correct_answers:\n",
    "            score = 1.0\n",
    "        else:\n",
    "            score = 0.0\n",
    "        scores.append(score)\n",
    "    \n",
    "    df['Score'] = scores\n",
    "    accuracy = scores.count(1.0) / len(scores)\n",
    "    print(f'Final Score: {scores.count(1.0):.2f}/{len(scores):.2f}')\n",
    "    print(f'Accuracy: {accuracy:.2f}%')\n",
    "    return df\n",
    "\n",
    "# Apply the scoring function\n",
    "scored_df = calculate_scores(df_results)\n",
    "\n",
    "# Display the dataframe to verify the results\n",
    "display(scored_df[['Question', 'Answer', 'AI', 'Score']])"
   ]
  },
  {
   "cell_type": "markdown",
   "id": "52c54d24-8ff2-486a-a10e-7dcb6051b6b8",
   "metadata": {},
   "source": [
    "# Visualization"
   ]
  },
  {
   "cell_type": "code",
   "execution_count": 58,
   "id": "1edf34d9-acca-48fd-9e64-25818f148ea2",
   "metadata": {},
   "outputs": [
    {
     "name": "stdout",
     "output_type": "stream",
     "text": [
      "* Running on local URL:  http://127.0.0.1:7860\n",
      "\n",
      "To create a public link, set `share=True` in `launch()`.\n"
     ]
    },
    {
     "data": {
      "text/html": [
       "<div><iframe src=\"http://127.0.0.1:7860/\" width=\"100%\" height=\"500\" allow=\"autoplay; camera; microphone; clipboard-read; clipboard-write;\" frameborder=\"0\" allowfullscreen></iframe></div>"
      ],
      "text/plain": [
       "<IPython.core.display.HTML object>"
      ]
     },
     "metadata": {},
     "output_type": "display_data"
    },
    {
     "data": {
      "text/plain": []
     },
     "execution_count": 58,
     "metadata": {},
     "output_type": "execute_result"
    }
   ],
   "source": [
    "# Gradio interface with dynamic model, mode selection, and top_k slider\n",
    "iface = gr.Interface(\n",
    "    fn=lambda query, top_k, model, mode: gen_query(\n",
    "        query=query,\n",
    "        top_k=top_k,\n",
    "        client=client,\n",
    "        mode=mode,\n",
    "        model=model\n",
    "    ),\n",
    "    inputs=[\n",
    "        gr.Textbox(label=\"Enter your query\"),\n",
    "        gr.Slider(1, 20, value=5, step=1, label=\"Top K Results\"),  # Slider for top_k (1 to 20)\n",
    "        gr.Dropdown(\n",
    "            choices=[\"llama3.3\", \"llama3.2:latest\", \"llama3.1:8b\"],\n",
    "            value=\"llama3.3\",\n",
    "            label=\"Select Model\"\n",
    "        ),\n",
    "        gr.Dropdown(\n",
    "            choices=[\"hybrid\", \"dense\", \"sparse\"],\n",
    "            value=\"hybrid\",\n",
    "            label=\"Select Retrieval Mode\"\n",
    "        )\n",
    "    ],\n",
    "    outputs=[\n",
    "        gr.Textbox(label=\"Answer\", lines=6),\n",
    "        gr.Textbox(label=\"References\", lines=10),\n",
    "    ],\n",
    "    title=\"RAG System with LLaMA Models\",\n",
    "    description=(\n",
    "        \"Ask questions and get answers with references from PDF documents. \"\n",
    "        \"Adjust Top-K to control the number of retrieved chunks. \"\n",
    "        \"Choose different models and retrieval modes for customization.\"\n",
    "    )\n",
    ")\n",
    "\n",
    "# Launch the Gradio interface\n",
    "iface.launch()"
   ]
  },
  {
   "cell_type": "code",
   "execution_count": 59,
   "id": "eb51d73d-c162-4373-bf99-8f6d7e05eab7",
   "metadata": {},
   "outputs": [
    {
     "name": "stdout",
     "output_type": "stream",
     "text": [
      "Closing server running on port: 7860\n"
     ]
    }
   ],
   "source": [
    "# Handle closing behavior\n",
    "def on_close():\n",
    "    iface.close()\n",
    "on_close()"
   ]
  },
  {
   "cell_type": "code",
   "execution_count": null,
   "id": "c425b173-02d9-4213-9f58-0fdd87c5d941",
   "metadata": {},
   "outputs": [],
   "source": []
  }
 ],
 "metadata": {
  "kernelspec": {
   "display_name": "LTO_RAG",
   "language": "python",
   "name": "python3"
  },
  "language_info": {
   "codemirror_mode": {
    "name": "ipython",
    "version": 3
   },
   "file_extension": ".py",
   "mimetype": "text/x-python",
   "name": "python",
   "nbconvert_exporter": "python",
   "pygments_lexer": "ipython3",
   "version": "3.10.12"
  }
 },
 "nbformat": 4,
 "nbformat_minor": 5
}
