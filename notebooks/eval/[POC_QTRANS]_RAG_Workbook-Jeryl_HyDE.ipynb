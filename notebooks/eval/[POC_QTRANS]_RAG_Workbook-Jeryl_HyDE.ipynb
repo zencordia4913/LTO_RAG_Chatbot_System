{
 "cells": [
  {
   "cell_type": "code",
   "execution_count": 1,
   "id": "dfdd288c-537b-42e6-b104-2854e99b4a1c",
   "metadata": {},
   "outputs": [],
   "source": [
    "import os\n",
    "import fitz\n",
    "import re\n",
    "\n",
    "from ollama import Client\n",
    "import faiss\n",
    "import pandas as pd\n",
    "import numpy as np\n",
    "import Stemmer\n",
    "from tqdm import tqdm\n",
    "import gradio as gr\n",
    "\n",
    "from llama_index.core import Document\n",
    "from llama_index.core.node_parser import TokenTextSplitter\n",
    "from llama_index.core.retrievers import BaseRetriever, QueryFusionRetriever\n",
    "from llama_index.core.schema import TextNode, NodeWithScore\n",
    "from llama_index.retrievers.bm25 import BM25Retriever\n",
    "from llama_index.core.indices.query.query_transform import HyDEQueryTransform\n",
    "from llama_index.core.query_engine import TransformQueryEngine\n",
    "from llama_index.core import VectorStoreIndex, SimpleDirectoryReader\n",
    "from llama_index.vector_stores.faiss import FaissVectorStore\n",
    "from llama_index.embeddings.huggingface import HuggingFaceEmbedding\n",
    "from llama_index.core import Settings\n",
    "from llama_index.core.storage import StorageContext\n",
    "from llama_index.llms.ollama import Ollama\n",
    "\n",
    "from IPython.display import Markdown, display"
   ]
  },
  {
   "cell_type": "markdown",
   "id": "2f3d9123-5c2e-4718-8edd-d0bfafed09e8",
   "metadata": {},
   "source": [
    "# Connect to Ollama Server"
   ]
  },
  {
   "cell_type": "code",
   "execution_count": 2,
   "id": "8071a997-f081-4da8-b440-6d66bf4cb4a7",
   "metadata": {},
   "outputs": [],
   "source": [
    "client = Client(\n",
    "  host='http://localhost:11434',\n",
    ")"
   ]
  },
  {
   "cell_type": "markdown",
   "id": "c36571ca",
   "metadata": {},
   "source": [
    "# Settings"
   ]
  },
  {
   "cell_type": "code",
   "execution_count": 3,
   "id": "659d5c69",
   "metadata": {},
   "outputs": [
    {
     "data": {
      "application/vnd.jupyter.widget-view+json": {
       "model_id": "c29a4a9f8dfe4d66a4aff15f76a239d1",
       "version_major": 2,
       "version_minor": 0
      },
      "text/plain": [
       "modules.json:   0%|          | 0.00/349 [00:00<?, ?B/s]"
      ]
     },
     "metadata": {},
     "output_type": "display_data"
    },
    {
     "data": {
      "application/vnd.jupyter.widget-view+json": {
       "model_id": "03d4e3e24a284a41b917f3b3a5cfe541",
       "version_major": 2,
       "version_minor": 0
      },
      "text/plain": [
       "config_sentence_transformers.json:   0%|          | 0.00/124 [00:00<?, ?B/s]"
      ]
     },
     "metadata": {},
     "output_type": "display_data"
    },
    {
     "data": {
      "application/vnd.jupyter.widget-view+json": {
       "model_id": "96db031e192d4d89895fec77bad07cf3",
       "version_major": 2,
       "version_minor": 0
      },
      "text/plain": [
       "README.md:   0%|          | 0.00/94.8k [00:00<?, ?B/s]"
      ]
     },
     "metadata": {},
     "output_type": "display_data"
    },
    {
     "data": {
      "application/vnd.jupyter.widget-view+json": {
       "model_id": "fb3188a8cdc04f46980058480ce9c5fb",
       "version_major": 2,
       "version_minor": 0
      },
      "text/plain": [
       "sentence_bert_config.json:   0%|          | 0.00/52.0 [00:00<?, ?B/s]"
      ]
     },
     "metadata": {},
     "output_type": "display_data"
    },
    {
     "data": {
      "application/vnd.jupyter.widget-view+json": {
       "model_id": "c31953f87c2c4c62b2832d6684bc40c7",
       "version_major": 2,
       "version_minor": 0
      },
      "text/plain": [
       "config.json:   0%|          | 0.00/743 [00:00<?, ?B/s]"
      ]
     },
     "metadata": {},
     "output_type": "display_data"
    },
    {
     "data": {
      "application/vnd.jupyter.widget-view+json": {
       "model_id": "f91ecde1dca94d11ac9792a282af0564",
       "version_major": 2,
       "version_minor": 0
      },
      "text/plain": [
       "model.safetensors:   0%|          | 0.00/133M [00:00<?, ?B/s]"
      ]
     },
     "metadata": {},
     "output_type": "display_data"
    },
    {
     "data": {
      "application/vnd.jupyter.widget-view+json": {
       "model_id": "3418d0aab05d4e34a28e02e0151c4c55",
       "version_major": 2,
       "version_minor": 0
      },
      "text/plain": [
       "tokenizer_config.json:   0%|          | 0.00/366 [00:00<?, ?B/s]"
      ]
     },
     "metadata": {},
     "output_type": "display_data"
    },
    {
     "data": {
      "application/vnd.jupyter.widget-view+json": {
       "model_id": "68f5b01859d1475db47a62136ac5e456",
       "version_major": 2,
       "version_minor": 0
      },
      "text/plain": [
       "vocab.txt:   0%|          | 0.00/232k [00:00<?, ?B/s]"
      ]
     },
     "metadata": {},
     "output_type": "display_data"
    },
    {
     "data": {
      "application/vnd.jupyter.widget-view+json": {
       "model_id": "5340cfbb9ce24afc94ec24b41cd6092e",
       "version_major": 2,
       "version_minor": 0
      },
      "text/plain": [
       "tokenizer.json:   0%|          | 0.00/711k [00:00<?, ?B/s]"
      ]
     },
     "metadata": {},
     "output_type": "display_data"
    },
    {
     "data": {
      "application/vnd.jupyter.widget-view+json": {
       "model_id": "018bd1cf9d4a4276a770fcd9789d2df8",
       "version_major": 2,
       "version_minor": 0
      },
      "text/plain": [
       "special_tokens_map.json:   0%|          | 0.00/125 [00:00<?, ?B/s]"
      ]
     },
     "metadata": {},
     "output_type": "display_data"
    },
    {
     "data": {
      "application/vnd.jupyter.widget-view+json": {
       "model_id": "e15635d897934da4b2c99c820e1f16da",
       "version_major": 2,
       "version_minor": 0
      },
      "text/plain": [
       "1_Pooling/config.json:   0%|          | 0.00/190 [00:00<?, ?B/s]"
      ]
     },
     "metadata": {},
     "output_type": "display_data"
    }
   ],
   "source": [
    "Settings.embed_model = HuggingFaceEmbedding(\n",
    "    model_name=\"BAAI/bge-small-en-v1.5\"\n",
    ")"
   ]
  },
  {
   "cell_type": "markdown",
   "id": "52836262-9e16-4df3-b71f-70b78b2b2700",
   "metadata": {},
   "source": [
    "# Ingestion"
   ]
  },
  {
   "cell_type": "code",
   "execution_count": 4,
   "id": "4d170a76-1ddf-47b4-b98d-db30470f9d83",
   "metadata": {},
   "outputs": [],
   "source": [
    "import json\n",
    "# Path to the dataset folder\n",
    "DATASET_PATH = r'/home/jeryl4913/lto_rag_reviewer/notebooks/extracted_text.json'\n",
    "\n",
    "def get_text_and_metadata(input_path):\n",
    "    \"\"\"Load text and metadata from a file and perform chunking.\"\"\"\n",
    "    with open(input_path, \"r\", encoding=\"utf-8\") as f:\n",
    "        extracted_data = json.load(f)\n",
    "\n",
    "    texts = []\n",
    "    metadata = []\n",
    "\n",
    "    for entry in tqdm(extracted_data, desc=\"Processing entries\"):\n",
    "        text = entry[\"text\"]\n",
    "        source_metadata = {\n",
    "            \"source\": entry[\"source\"],\n",
    "            \"folder\": entry[\"folder\"],\n",
    "            \"file_name\": entry[\"file_name\"],\n",
    "            \"page\": entry[\"page\"],\n",
    "            \"title\": entry[\"title\"],\n",
    "            \"url\": entry[\"url\"]\n",
    "        }\n",
    "        texts.append(text)\n",
    "        metadata.append(source_metadata)\n",
    "\n",
    "    return texts, metadata\n"
   ]
  },
  {
   "cell_type": "code",
   "execution_count": 5,
   "id": "3d7bfd8a-c6a2-4764-9212-17c667cd89be",
   "metadata": {},
   "outputs": [
    {
     "name": "stderr",
     "output_type": "stream",
     "text": [
      "Processing entries: 100%|██████████| 7815/7815 [00:00<00:00, 1008320.59it/s]\n"
     ]
    }
   ],
   "source": [
    "docs, metadatas = get_text_and_metadata(DATASET_PATH)"
   ]
  },
  {
   "cell_type": "code",
   "execution_count": 6,
   "id": "b8204706-6e7e-4f7e-956b-4e545708392e",
   "metadata": {},
   "outputs": [],
   "source": [
    "documents = [Document(text=docs[t], metadata=metadatas[t]) for t in range(len(docs))]\n",
    "splitter = TokenTextSplitter(\n",
    "    chunk_size=512,\n",
    "    chunk_overlap=20,\n",
    "    separator=\" \",\n",
    ")\n",
    "nodes = splitter.get_nodes_from_documents(documents)"
   ]
  },
  {
   "cell_type": "markdown",
   "id": "f4fa1758-fbf6-48af-85bc-f7a0b17f85aa",
   "metadata": {},
   "source": [
    "# Embedding and Retrieval"
   ]
  },
  {
   "cell_type": "markdown",
   "id": "40e51b7d-edf5-457d-aac2-432dcfd56eb2",
   "metadata": {},
   "source": [
    "## Dense via FAISS"
   ]
  },
  {
   "cell_type": "code",
   "execution_count": 7,
   "id": "cc4cbd59-450d-449d-a269-e34941782d19",
   "metadata": {},
   "outputs": [],
   "source": [
    "def generate_embeddings(nodes, client, model):\n",
    "    # Generate embeddings for documents using Ollama\n",
    "    for doc in tqdm(nodes):\n",
    "        response = client.embeddings(prompt=doc.text, model=model)\n",
    "        doc.embedding = response[\"embedding\"]\n",
    "    return nodes"
   ]
  },
  {
   "cell_type": "code",
   "execution_count": 8,
   "id": "f1f0ad81-9986-4369-b4eb-32160fcef31a",
   "metadata": {},
   "outputs": [],
   "source": [
    "class FaissIndexer:\n",
    "    \"\"\"\n",
    "    Faiss-based indexer for efficient similarity search using inner-product (cosine) similarity.\n",
    "\n",
    "    This class handles the creation and management of a FAISS index from node embeddings.\n",
    "    \n",
    "    :ivar faiss_index: The FAISS index for storing and querying embeddings.\n",
    "    :vartype faiss_index: faiss.IndexFlatIP\n",
    "    :ivar embedding_dim: Dimensionality of the embeddings.\n",
    "    :vartype embedding_dim: int\n",
    "    \"\"\"\n",
    "\n",
    "    def __init__(self):\n",
    "        \"\"\"\n",
    "        Initialize the FaissIndexer class.\n",
    "\n",
    "        :ivar faiss_index: The FAISS index, initialized as None.\n",
    "        :ivar embedding_dim: The dimension of embeddings, initialized as None.\n",
    "        \"\"\"\n",
    "        self.faiss_index = None\n",
    "        self.embedding_dim = None\n",
    "\n",
    "    def normalize_embeddings(self, embeddings):\n",
    "        \"\"\"\n",
    "        Normalize embeddings to have unit L2 norm.\n",
    "\n",
    "        :param embeddings: Array of embeddings to normalize.\n",
    "        :type embeddings: np.ndarray\n",
    "        :return: Normalized embeddings.\n",
    "        :rtype: np.ndarray\n",
    "        \"\"\"\n",
    "        return embeddings / np.linalg.norm(embeddings, axis=1, keepdims=True)\n",
    "\n",
    "    def build_index(self, nodes):\n",
    "        \"\"\"\n",
    "        Build the FAISS index from a list of nodes containing embeddings.\n",
    "\n",
    "        :param nodes: List of nodes, where each node contains an `embedding` attribute.\n",
    "        :type nodes: list\n",
    "        :raises ValueError: If the nodes list is empty or embeddings are inconsistent.\n",
    "        \"\"\"\n",
    "        if not nodes:\n",
    "            raise ValueError(\"Nodes list cannot be empty.\")\n",
    "        \n",
    "        embeddings = np.array([np.array(node.embedding) for node in nodes])\n",
    "        normalized_embeddings = self.normalize_embeddings(embeddings)\n",
    "\n",
    "        self.embedding_dim = normalized_embeddings[0].shape[0]\n",
    "        self.faiss_index = faiss.IndexFlatIP(self.embedding_dim)  # Inner-product similarity\n",
    "        self.faiss_index.add(normalized_embeddings)\n",
    "\n",
    "    def get_index(self):\n",
    "        \"\"\"\n",
    "        Get the FAISS index instance.\n",
    "\n",
    "        :return: The FAISS index used for similarity search.\n",
    "        :rtype: faiss.IndexFlatIP\n",
    "        :raises ValueError: If the index has not been built.\n",
    "        \"\"\"\n",
    "        if self.faiss_index is None:\n",
    "            raise ValueError(\"Index has not been built yet. Call 'build_index' first.\")\n",
    "        return self.faiss_index"
   ]
  },
  {
   "cell_type": "code",
   "execution_count": 9,
   "id": "bae97065-1900-498c-acac-aebea6c32745",
   "metadata": {},
   "outputs": [],
   "source": [
    "class FAISSVectorStoreRetriever(BaseRetriever):\n",
    "    def __init__(self, faiss_index, documents):\n",
    "        \"\"\"\n",
    "        Initialize the FAISS retriever.\n",
    "        :param faiss_index: The FAISS index containing precomputed embeddings.\n",
    "        :param documents: List of document chunks.\n",
    "        :param embeddings: Precomputed embeddings corresponding to the document chunks.\n",
    "        \"\"\"\n",
    "        self.faiss_index = faiss_index\n",
    "        self.documents = documents\n",
    "\n",
    "    def _retrieve(self, query_embedding, top_k=5):\n",
    "        \"\"\"\n",
    "        Retrieve the top-k nearest neighbors using the FAISS index.\n",
    "        :param query_embedding: The embedding of the query.\n",
    "        :param top_k: Number of top results to retrieve.\n",
    "        \"\"\"\n",
    "\n",
    "        norm_query_embedding = np.array([query_embedding])\n",
    "        norm_query_embedding /= np.linalg.norm(norm_query_embedding, axis=1, keepdims=True)\n",
    "\n",
    "        distances, indices = self.faiss_index.search(norm_query_embedding, top_k)\n",
    "        retrieved_docs = [\n",
    "            NodeWithScore(node=self.documents[idx], score=1 - dist)\n",
    "            for idx, dist in zip(indices[0], distances[0])\n",
    "            if idx != -1\n",
    "        ]\n",
    "        return retrieved_docs"
   ]
  },
  {
   "cell_type": "code",
   "execution_count": 10,
   "id": "415a6c55-102b-4e9f-a626-2c8cc84096e9",
   "metadata": {},
   "outputs": [
    {
     "name": "stderr",
     "output_type": "stream",
     "text": [
      "100%|██████████| 12302/12302 [08:21<00:00, 24.52it/s] \n"
     ]
    }
   ],
   "source": [
    "# embedding\n",
    "nodes_embed = generate_embeddings(nodes, client, \"mxbai-embed-large\")"
   ]
  },
  {
   "cell_type": "code",
   "execution_count": 11,
   "id": "15320c85-b644-4148-b83b-b63bc2898517",
   "metadata": {},
   "outputs": [],
   "source": [
    "index = FaissIndexer()\n",
    "index.build_index(nodes_embed)  # Build index from embeddings\n",
    "faiss_index = index.get_index()  # Retrieve the FAISS index\n",
    "\n",
    "# Pass the faiss_index during FaissVectorStore initialization\n",
    "vector_store = FaissVectorStore(faiss_index=faiss_index)\n",
    "storage_context = StorageContext.from_defaults(vector_store=vector_store)\n",
    "index_q = VectorStoreIndex.from_documents(\n",
    "    documents    # Don’t re-embed doc nodes\n",
    ")\n",
    "ollama_llm = Ollama(model=\"llama3.3\", request_timeout=300)\n",
    "query_engine = index_q.as_query_engine(llm=ollama_llm)\n",
    "\n",
    "faiss_retriever = FAISSVectorStoreRetriever(\n",
    "    faiss_index=faiss_index,  # Pass the same faiss_index to the retriever\n",
    "    documents=nodes_embed\n",
    ")"
   ]
  },
  {
   "cell_type": "markdown",
   "id": "f75ddf0b-2c20-4065-bb79-fb8733622ec7",
   "metadata": {},
   "source": [
    "## Sparse Embedding via BM25"
   ]
  },
  {
   "cell_type": "code",
   "execution_count": 12,
   "id": "3e9c9cf4-123f-4d44-8c02-b61ecdd4bb2f",
   "metadata": {},
   "outputs": [],
   "source": [
    "# bm25_retriever = BM25Retriever.from_defaults(\n",
    "#     nodes=nodes,\n",
    "#     similarity_top_k=5,\n",
    "#     stemmer=Stemmer.Stemmer(\"english\"),\n",
    "#     language=\"english\",\n",
    "# )"
   ]
  },
  {
   "cell_type": "markdown",
   "id": "c953fd45-035d-4d46-801f-33f28fdede67",
   "metadata": {},
   "source": [
    "## Hybrid Retrieval via Reciprocal Rank"
   ]
  },
  {
   "cell_type": "code",
   "execution_count": 13,
   "id": "6ad014ba-3363-4810-a5d5-fa6187fbc494",
   "metadata": {},
   "outputs": [],
   "source": [
    "def hybrid_embedding(results: dict, top_k: int):\n",
    "    x = QueryFusionRetriever\n",
    "    ranked_results = QueryFusionRetriever._reciprocal_rerank_fusion(x, results)\n",
    "    return ranked_results[:top_k]"
   ]
  },
  {
   "cell_type": "markdown",
   "id": "eaae0e11-d7d3-4713-8889-92c9a3f207f7",
   "metadata": {},
   "source": [
    "# Post Retrieval"
   ]
  },
  {
   "cell_type": "markdown",
   "id": "43c29979-ba5f-4d9d-84f1-3252d9292b6d",
   "metadata": {},
   "source": [
    "## Summarization"
   ]
  },
  {
   "cell_type": "code",
   "execution_count": 14,
   "id": "a7e39ff7-4dec-4b10-8aee-b51d26e51fd8",
   "metadata": {},
   "outputs": [],
   "source": [
    "def summarize_each_chunk(nodes, client, query, model=\"llama3.3\", parent=False):\n",
    "    if parent:\n",
    "        chunks = [doc.text for doc in nodes]\n",
    "    else:\n",
    "        chunks = [doc.node.text for doc in nodes]\n",
    "    summaries = []\n",
    "    \n",
    "    for i, chunk in enumerate(chunks):\n",
    "        prompt = f\"\"\"\n",
    "        Summarize the following text in one concise paragraph, focusing on key points relevant to the query: \"{query}\".\n",
    "        \n",
    "        - Emphasize information directly related to the query.\n",
    "        - Exclude unrelated, redundant, or speculative details.\n",
    "        - Do NOT introduce new information or answer the query itself. \n",
    "        \n",
    "        Text:\n",
    "        {chunk}\n",
    "        \n",
    "        Summary:\n",
    "        \"\"\"\n",
    "        \n",
    "        response = client.generate(model=model, prompt=prompt)\n",
    "        summary = response['response'].strip()\n",
    "        summaries.append(summary)\n",
    "\n",
    "    return summaries"
   ]
  },
  {
   "cell_type": "markdown",
   "id": "2e78c30d-7d4e-4ec2-b3fe-ecb64fadf88a",
   "metadata": {},
   "source": [
    "# Generation"
   ]
  },
  {
   "cell_type": "code",
   "execution_count": 15,
   "id": "e11745b3-18d5-43cb-bb1d-c241c662d89d",
   "metadata": {},
   "outputs": [],
   "source": [
    "def generate_response_with_notice(summaries, query, choices, client, model=\"llama3.3\"):\n",
    "    # Combine summaries into context block\n",
    "    context = \"\\n\".join(summaries)\n",
    "    \n",
    "    # Create prompt to answer based on summarized text\n",
    "    prompt = f\"\"\"\n",
    "    Use the following summarized information to answer the query accurately and concisely. \n",
    "    DO NOT USE BACKGROUND KNOWLEDGE OUTSIDE THE CONTEXT PROVIDED.\n",
    "    If the information is not sufficient to fully address the query, respond ONLY with:\n",
    "    \"The available information is insufficient to provide a complete answer to this query.\"\n",
    "    \\nPlease answer only in letters and put them inside a bracket '[]'. If the question contains the statement 'Check all that apply' then add comma separator if there are multiple answers ONLY IF ALLOWED.\n",
    "\n",
    "    Summarized Context:\n",
    "    {context}\n",
    "    \n",
    "    Query:\n",
    "    {query}\n",
    "    {choices}\n",
    "    \n",
    "    Response:\n",
    "    \"\"\"\n",
    "    \n",
    "    # Send the prompt to Ollama\n",
    "    response = client.generate(\n",
    "        model=model,\n",
    "        prompt=prompt\n",
    "    )\n",
    "    \n",
    "    return response['response'].strip()"
   ]
  },
  {
   "cell_type": "markdown",
   "id": "e075a9f0-ea97-4d1e-b9f1-3b664b2196f8",
   "metadata": {},
   "source": [
    "# Querying"
   ]
  },
  {
   "cell_type": "markdown",
   "id": "04693932-b45a-4bde-bf6c-00a7633822aa",
   "metadata": {},
   "source": [
    "## Query Transforms"
   ]
  },
  {
   "cell_type": "code",
   "execution_count": 16,
   "id": "2736e55e",
   "metadata": {},
   "outputs": [],
   "source": [
    "hyde = HyDEQueryTransform(include_original=True, llm=ollama_llm)"
   ]
  },
  {
   "cell_type": "markdown",
   "id": "aee70e7b-a863-47c7-898a-78977ce5473f",
   "metadata": {},
   "source": [
    "## Query Generation"
   ]
  },
  {
   "cell_type": "code",
   "execution_count": 17,
   "id": "52a8f235-2430-4793-b0b4-17efd7f315a6",
   "metadata": {},
   "outputs": [],
   "source": [
    "docstore = {}\n",
    "\n",
    "# Store documents using full metadata as the key\n",
    "for doc in documents:\n",
    "    key = tuple(doc.metadata.items())  # Convert metadata to tuple for hashable key\n",
    "    docstore[key] = doc"
   ]
  },
  {
   "cell_type": "code",
   "execution_count": 18,
   "id": "cff1cba4-bd05-4429-a397-896f9e2dedfb",
   "metadata": {},
   "outputs": [],
   "source": [
    "def get_document_by_chunk_metadata(chunk_node):\n",
    "    # Convert chunk metadata to tuple for matching\n",
    "    metadata_key = tuple(chunk_node.metadata.items())\n",
    "\n",
    "    # Retrieve document from docstore\n",
    "    document = docstore.get(metadata_key)\n",
    "    return document"
   ]
  },
  {
   "cell_type": "code",
   "execution_count": 19,
   "id": "723b3e53-3f24-4280-ae9c-0e0ad7d57a68",
   "metadata": {},
   "outputs": [],
   "source": [
    "def remove_duplicate_documents(doc_list):\n",
    "    seen_ids = set()\n",
    "    unique_docs = []\n",
    "\n",
    "    for doc in doc_list:\n",
    "        if doc.doc_id not in seen_ids:\n",
    "            seen_ids.add(doc.doc_id)\n",
    "            unique_docs.append(doc)\n",
    "\n",
    "    return unique_docs"
   ]
  },
  {
   "cell_type": "code",
   "execution_count": 20,
   "id": "dcebca00-e74b-4b1f-a874-c00ce9dc6161",
   "metadata": {},
   "outputs": [],
   "source": [
    "def gen_query(query, choices, top_k, client, mode='dense', summary=False, model=\"llama3.3\", chunks_only=True):\n",
    "    hyde_query_engine = TransformQueryEngine(query_engine, hyde)\n",
    "    response_hyde = hyde_query_engine.query(query)\n",
    "    post_processed_response = f\"\"\"\n",
    "    Query: {query}\n",
    "    Additional Query: {response_hyde.response}\n",
    "    \"\"\"\n",
    "    display(Markdown(f\"<b>{post_processed_response}</b>\"))\n",
    "    response = client.embeddings(prompt=post_processed_response, model=\"mxbai-embed-large\")\n",
    "    query_embedding = response[\"embedding\"]\n",
    "\n",
    "    top_k_docs = faiss_retriever._retrieve(query_embedding, top_k=top_k)\n",
    "\n",
    "    bm25_retriever = BM25Retriever.from_defaults(\n",
    "    nodes=nodes,\n",
    "    similarity_top_k=top_k,\n",
    "    stemmer=Stemmer.Stemmer(\"english\"),\n",
    "    language=\"english\",\n",
    "    )\n",
    "    retrieved_nodes = bm25_retriever.retrieve(query)\n",
    "\n",
    "    results = {'faiss': top_k_docs, 'bm25':retrieved_nodes}\n",
    "    ranked_results = hybrid_embedding(results, top_k=top_k)\n",
    "\n",
    "    if mode == 'dense':\n",
    "        print('using FAISS')\n",
    "        ans_nodes =top_k_docs\n",
    "    elif mode == 'sparse':\n",
    "        print('using BM25')\n",
    "        ans_nodes = retrieved_nodes\n",
    "    else:\n",
    "        print('using Hybrid')\n",
    "        ans_nodes = ranked_results\n",
    "\n",
    "    parent_flag = True\n",
    "    context = set([get_document_by_chunk_metadata(docs).text for docs in ans_nodes])\n",
    "    if chunks_only:\n",
    "        parent_flag = False\n",
    "        print('using chunks only')\n",
    "        context = [docs.node.text for docs in ans_nodes]\n",
    "        \n",
    "    if summary:\n",
    "        print('using summaries')\n",
    "        context_nodes = remove_duplicate_documents([get_document_by_chunk_metadata(docs) for docs in ans_nodes])\n",
    "\n",
    "        if chunks_only:\n",
    "            context_nodes=ans_nodes\n",
    "        summaries = summarize_each_chunk(context_nodes, client, model='llama3.3', query=query,parent=parent_flag)\n",
    "        context = summaries\n",
    "\n",
    "    answer = generate_response_with_notice(context, query, choices, client, model=model)\n",
    "\n",
    "    # Format the references\n",
    "    references = []\n",
    "    for i, doc in enumerate(ranked_results[:top_k], start=1):\n",
    "        metadata = doc.metadata\n",
    "        source_info = f\"Source {i}: {metadata['title']} (Page {metadata['page']}, Folder: {metadata['folder']})\"\n",
    "        references.append(source_info)\n",
    "\n",
    "    return answer, \"\\n\".join(references), context"
   ]
  },
  {
   "cell_type": "markdown",
   "id": "00842045-d62a-4b01-b306-f637856c769c",
   "metadata": {},
   "source": [
    "# Evaluation"
   ]
  },
  {
   "cell_type": "code",
   "execution_count": 21,
   "id": "719d3b48-6639-423f-957d-82cda52de114",
   "metadata": {},
   "outputs": [],
   "source": [
    "# Generate prompts dynamically\n",
    "def generate_choices(row):\n",
    "    options = []\n",
    "    for choice in ['A', 'B', 'C', 'D', 'E']:\n",
    "        # Check for NaN or blank values\n",
    "        if pd.notna(row[choice]) and row[choice] != '':\n",
    "            options.append(f\"{choice}. {row[choice]}\")\n",
    "    \n",
    "    # Construct the prompt with few-shot examples\n",
    "    choices = \"\\n\".join(options)\n",
    "    \n",
    "    return choices"
   ]
  },
  {
   "cell_type": "code",
   "execution_count": 22,
   "id": "b16ce73b-abc7-460c-b15b-f39bc5209786",
   "metadata": {},
   "outputs": [
    {
     "name": "stdout",
     "output_type": "stream",
     "text": [
      "Testing Data:\n",
      "60\n"
     ]
    },
    {
     "data": {
      "text/html": [
       "<div>\n",
       "<style scoped>\n",
       "    .dataframe tbody tr th:only-of-type {\n",
       "        vertical-align: middle;\n",
       "    }\n",
       "\n",
       "    .dataframe tbody tr th {\n",
       "        vertical-align: top;\n",
       "    }\n",
       "\n",
       "    .dataframe thead th {\n",
       "        text-align: right;\n",
       "    }\n",
       "</style>\n",
       "<table border=\"1\" class=\"dataframe\">\n",
       "  <thead>\n",
       "    <tr style=\"text-align: right;\">\n",
       "      <th></th>\n",
       "      <th>Question</th>\n",
       "      <th>A</th>\n",
       "      <th>B</th>\n",
       "      <th>C</th>\n",
       "      <th>D</th>\n",
       "      <th>E</th>\n",
       "      <th>Answer</th>\n",
       "      <th>Choices</th>\n",
       "    </tr>\n",
       "  </thead>\n",
       "  <tbody>\n",
       "    <tr>\n",
       "      <th>0</th>\n",
       "      <td>If the driver is turning left, he must: (U-tur...</td>\n",
       "      <td>have the right of way</td>\n",
       "      <td>do so slowly with caution</td>\n",
       "      <td>yield to approaching cars</td>\n",
       "      <td>NaN</td>\n",
       "      <td>NaN</td>\n",
       "      <td>C</td>\n",
       "      <td>A. have the right of way\\nB. do so slowly with...</td>\n",
       "    </tr>\n",
       "    <tr>\n",
       "      <th>1</th>\n",
       "      <td>When a vehicle starts to skid, what should the...</td>\n",
       "      <td>Immediately step on the brakes</td>\n",
       "      <td>Hold firmly on to the wheel while slowing down...</td>\n",
       "      <td>Turn the wheels tp the opposite the direction ...</td>\n",
       "      <td>NaN</td>\n",
       "      <td>NaN</td>\n",
       "      <td>B</td>\n",
       "      <td>A. Immediately step on the brakes\\nB. Hold fir...</td>\n",
       "    </tr>\n",
       "    <tr>\n",
       "      <th>2</th>\n",
       "      <td>If you are parking uphill without a curb, turn...</td>\n",
       "      <td>edge of the street</td>\n",
       "      <td>other side of the street</td>\n",
       "      <td>middle of the street</td>\n",
       "      <td>NaN</td>\n",
       "      <td>NaN</td>\n",
       "      <td>A</td>\n",
       "      <td>A. edge of the street\\nB. other side of the st...</td>\n",
       "    </tr>\n",
       "    <tr>\n",
       "      <th>3</th>\n",
       "      <td>When parking downhill, you should turn your fr...</td>\n",
       "      <td>toward the curb of the sidewalk</td>\n",
       "      <td>away from the curb</td>\n",
       "      <td>any direction will do</td>\n",
       "      <td>NaN</td>\n",
       "      <td>NaN</td>\n",
       "      <td>A</td>\n",
       "      <td>A. toward the curb of the sidewalk\\nB. away fr...</td>\n",
       "    </tr>\n",
       "    <tr>\n",
       "      <th>4</th>\n",
       "      <td>Which of the following is the maximum speed li...</td>\n",
       "      <td>60 kph</td>\n",
       "      <td>80 kph</td>\n",
       "      <td>100 kph</td>\n",
       "      <td>NaN</td>\n",
       "      <td>NaN</td>\n",
       "      <td>C</td>\n",
       "      <td>A. 60 kph\\nB. 80 kph\\nC. 100 kph</td>\n",
       "    </tr>\n",
       "  </tbody>\n",
       "</table>\n",
       "</div>"
      ],
      "text/plain": [
       "                                            Question  \\\n",
       "0  If the driver is turning left, he must: (U-tur...   \n",
       "1  When a vehicle starts to skid, what should the...   \n",
       "2  If you are parking uphill without a curb, turn...   \n",
       "3  When parking downhill, you should turn your fr...   \n",
       "4  Which of the following is the maximum speed li...   \n",
       "\n",
       "                                 A  \\\n",
       "0            have the right of way   \n",
       "1   Immediately step on the brakes   \n",
       "2               edge of the street   \n",
       "3  toward the curb of the sidewalk   \n",
       "4                           60 kph   \n",
       "\n",
       "                                                   B  \\\n",
       "0                          do so slowly with caution   \n",
       "1  Hold firmly on to the wheel while slowing down...   \n",
       "2                           other side of the street   \n",
       "3                                 away from the curb   \n",
       "4                                             80 kph   \n",
       "\n",
       "                                                   C    D   E Answer  \\\n",
       "0                          yield to approaching cars  NaN NaN      C   \n",
       "1  Turn the wheels tp the opposite the direction ...  NaN NaN      B   \n",
       "2                               middle of the street  NaN NaN      A   \n",
       "3                              any direction will do  NaN NaN      A   \n",
       "4                                            100 kph  NaN NaN      C   \n",
       "\n",
       "                                             Choices  \n",
       "0  A. have the right of way\\nB. do so slowly with...  \n",
       "1  A. Immediately step on the brakes\\nB. Hold fir...  \n",
       "2  A. edge of the street\\nB. other side of the st...  \n",
       "3  A. toward the curb of the sidewalk\\nB. away fr...  \n",
       "4                   A. 60 kph\\nB. 80 kph\\nC. 100 kph  "
      ]
     },
     "metadata": {},
     "output_type": "display_data"
    }
   ],
   "source": [
    "from sklearn.model_selection import train_test_split\n",
    "# Load the Excel file\n",
    "file_path = '/home/jeryl4913/lto_rag_reviewer/notebooks/eval/LTO_EXAM.csv'\n",
    "df = pd.read_csv(file_path)\n",
    "\n",
    "# Display the first few rows of each set\n",
    "print(\"Testing Data:\")\n",
    "print(len(df))\n",
    "display(df.head())"
   ]
  },
  {
   "cell_type": "code",
   "execution_count": 23,
   "id": "9450c855-2480-4843-9b09-8d0af0a917a7",
   "metadata": {},
   "outputs": [
    {
     "name": "stderr",
     "output_type": "stream",
     "text": [
      "  0%|          | 0/60 [00:00<?, ?it/s]"
     ]
    },
    {
     "data": {
      "text/markdown": [
       "<b>\n",
       "    Query: If the driver is turning left, he must: (U-turn / Left Rule)\n",
       "    Additional Query: Left Rule\n",
       "    </b>"
      ],
      "text/plain": [
       "<IPython.core.display.Markdown object>"
      ]
     },
     "metadata": {},
     "output_type": "display_data"
    },
    {
     "name": "stdout",
     "output_type": "stream",
     "text": [
      "using FAISS\n",
      "using chunks only\n"
     ]
    },
    {
     "name": "stderr",
     "output_type": "stream",
     "text": [
      "  2%|▏         | 1/60 [01:05<1:04:18, 65.40s/it]"
     ]
    },
    {
     "data": {
      "text/markdown": [
       "<b>\n",
       "    Query: When a vehicle starts to skid, what should the driver do?\n",
       "    Additional Query: The driver should remain calm and avoid sudden movements. The specific steps to recover from a skid depend on the type of skid. For a front-wheel skid, the driver should lift off the gas, shift to neutral, steer once traction returns, and then resume driving. For a rear-wheel skid, the driver should stay calm, take their foot off the accelerator, steer in the direction they want to go, ease the steering wheel if the wheels start to slide the other way, and brake appropriately.\n",
       "    </b>"
      ],
      "text/plain": [
       "<IPython.core.display.Markdown object>"
      ]
     },
     "metadata": {},
     "output_type": "display_data"
    },
    {
     "name": "stdout",
     "output_type": "stream",
     "text": [
      "using FAISS\n",
      "using chunks only\n"
     ]
    },
    {
     "name": "stderr",
     "output_type": "stream",
     "text": [
      "  3%|▎         | 2/60 [02:54<1:28:06, 91.14s/it]"
     ]
    },
    {
     "data": {
      "text/markdown": [
       "<b>\n",
       "    Query: If you are parking uphill without a curb, turn the wheels towards the:\n",
       "    Additional Query: road or the direction where the vehicle will roll out off the road and not into it if the parking brake fails.\n",
       "    </b>"
      ],
      "text/plain": [
       "<IPython.core.display.Markdown object>"
      ]
     },
     "metadata": {},
     "output_type": "display_data"
    },
    {
     "name": "stdout",
     "output_type": "stream",
     "text": [
      "using FAISS\n",
      "using chunks only\n"
     ]
    },
    {
     "name": "stderr",
     "output_type": "stream",
     "text": [
      "  5%|▌         | 3/60 [04:11<1:20:14, 84.47s/it]"
     ]
    },
    {
     "data": {
      "text/markdown": [
       "<b>\n",
       "    Query: When parking downhill, you should turn your front wheels:\n",
       "    Additional Query: into the curb or toward the sidewalk.\n",
       "    </b>"
      ],
      "text/plain": [
       "<IPython.core.display.Markdown object>"
      ]
     },
     "metadata": {},
     "output_type": "display_data"
    },
    {
     "name": "stdout",
     "output_type": "stream",
     "text": [
      "using FAISS\n",
      "using chunks only\n"
     ]
    },
    {
     "name": "stderr",
     "output_type": "stream",
     "text": [
      "  5%|▌         | 3/60 [04:52<1:32:39, 97.54s/it]\n"
     ]
    },
    {
     "ename": "KeyboardInterrupt",
     "evalue": "",
     "output_type": "error",
     "traceback": [
      "\u001b[0;31m---------------------------------------------------------------------------\u001b[0m",
      "\u001b[0;31mKeyboardInterrupt\u001b[0m                         Traceback (most recent call last)",
      "Cell \u001b[0;32mIn[23], line 9\u001b[0m\n\u001b[1;32m      7\u001b[0m \u001b[38;5;28;01mfor\u001b[39;00m i \u001b[38;5;129;01min\u001b[39;00m tqdm(\u001b[38;5;28mrange\u001b[39m(\u001b[38;5;28mlen\u001b[39m(df))):\n\u001b[1;32m      8\u001b[0m     start_time \u001b[38;5;241m=\u001b[39m time\u001b[38;5;241m.\u001b[39mtime()\n\u001b[0;32m----> 9\u001b[0m     answ \u001b[38;5;241m=\u001b[39m \u001b[43mgen_query\u001b[49m\u001b[43m(\u001b[49m\u001b[43mdf\u001b[49m\u001b[43m[\u001b[49m\u001b[38;5;124;43m\"\u001b[39;49m\u001b[38;5;124;43mQuestion\u001b[39;49m\u001b[38;5;124;43m\"\u001b[39;49m\u001b[43m]\u001b[49m\u001b[38;5;241;43m.\u001b[39;49m\u001b[43miloc\u001b[49m\u001b[43m[\u001b[49m\u001b[43mi\u001b[49m\u001b[43m]\u001b[49m\u001b[43m,\u001b[49m\u001b[43m \u001b[49m\u001b[43mdf\u001b[49m\u001b[43m[\u001b[49m\u001b[38;5;124;43m\"\u001b[39;49m\u001b[38;5;124;43mChoices\u001b[39;49m\u001b[38;5;124;43m\"\u001b[39;49m\u001b[43m]\u001b[49m\u001b[38;5;241;43m.\u001b[39;49m\u001b[43miloc\u001b[49m\u001b[43m[\u001b[49m\u001b[43mi\u001b[49m\u001b[43m]\u001b[49m\u001b[43m,\u001b[49m\u001b[43m \u001b[49m\u001b[43mtop_k\u001b[49m\u001b[38;5;241;43m=\u001b[39;49m\u001b[38;5;241;43m15\u001b[39;49m\u001b[43m,\u001b[49m\u001b[43m \u001b[49m\u001b[43mclient\u001b[49m\u001b[38;5;241;43m=\u001b[39;49m\u001b[43mclient\u001b[49m\u001b[43m,\u001b[49m\u001b[43m \u001b[49m\u001b[43mmode\u001b[49m\u001b[38;5;241;43m=\u001b[39;49m\u001b[38;5;124;43m'\u001b[39;49m\u001b[38;5;124;43mdense\u001b[39;49m\u001b[38;5;124;43m'\u001b[39;49m\u001b[43m,\u001b[49m\u001b[43m \u001b[49m\u001b[43mmodel\u001b[49m\u001b[38;5;241;43m=\u001b[39;49m\u001b[38;5;124;43m\"\u001b[39;49m\u001b[38;5;124;43mllama3.3\u001b[39;49m\u001b[38;5;124;43m\"\u001b[39;49m\u001b[43m)\u001b[49m\n\u001b[1;32m     10\u001b[0m     ai_answer\u001b[38;5;241m.\u001b[39mappend(answ[\u001b[38;5;241m0\u001b[39m])\n\u001b[1;32m     11\u001b[0m     context_answer\u001b[38;5;241m.\u001b[39mappend(answ[\u001b[38;5;241m2\u001b[39m])\n",
      "Cell \u001b[0;32mIn[20], line 51\u001b[0m, in \u001b[0;36mgen_query\u001b[0;34m(query, choices, top_k, client, mode, summary, model, chunks_only)\u001b[0m\n\u001b[1;32m     48\u001b[0m     summaries \u001b[38;5;241m=\u001b[39m summarize_each_chunk(context_nodes, client, model\u001b[38;5;241m=\u001b[39m\u001b[38;5;124m'\u001b[39m\u001b[38;5;124mllama3.3\u001b[39m\u001b[38;5;124m'\u001b[39m, query\u001b[38;5;241m=\u001b[39mquery,parent\u001b[38;5;241m=\u001b[39mparent_flag)\n\u001b[1;32m     49\u001b[0m     context \u001b[38;5;241m=\u001b[39m summaries\n\u001b[0;32m---> 51\u001b[0m answer \u001b[38;5;241m=\u001b[39m \u001b[43mgenerate_response_with_notice\u001b[49m\u001b[43m(\u001b[49m\u001b[43mcontext\u001b[49m\u001b[43m,\u001b[49m\u001b[43m \u001b[49m\u001b[43mquery\u001b[49m\u001b[43m,\u001b[49m\u001b[43m \u001b[49m\u001b[43mchoices\u001b[49m\u001b[43m,\u001b[49m\u001b[43m \u001b[49m\u001b[43mclient\u001b[49m\u001b[43m,\u001b[49m\u001b[43m \u001b[49m\u001b[43mmodel\u001b[49m\u001b[38;5;241;43m=\u001b[39;49m\u001b[43mmodel\u001b[49m\u001b[43m)\u001b[49m\n\u001b[1;32m     53\u001b[0m \u001b[38;5;66;03m# Format the references\u001b[39;00m\n\u001b[1;32m     54\u001b[0m references \u001b[38;5;241m=\u001b[39m []\n",
      "Cell \u001b[0;32mIn[15], line 24\u001b[0m, in \u001b[0;36mgenerate_response_with_notice\u001b[0;34m(summaries, query, choices, client, model)\u001b[0m\n\u001b[1;32m      6\u001b[0m prompt \u001b[38;5;241m=\u001b[39m \u001b[38;5;124mf\u001b[39m\u001b[38;5;124m\"\"\"\u001b[39m\n\u001b[1;32m      7\u001b[0m \u001b[38;5;124mUse the following summarized information to answer the query accurately and concisely. \u001b[39m\n\u001b[1;32m      8\u001b[0m \u001b[38;5;124mDO NOT USE BACKGROUND KNOWLEDGE OUTSIDE THE CONTEXT PROVIDED.\u001b[39m\n\u001b[0;32m   (...)\u001b[0m\n\u001b[1;32m     20\u001b[0m \u001b[38;5;124mResponse:\u001b[39m\n\u001b[1;32m     21\u001b[0m \u001b[38;5;124m\u001b[39m\u001b[38;5;124m\"\"\"\u001b[39m\n\u001b[1;32m     23\u001b[0m \u001b[38;5;66;03m# Send the prompt to Ollama\u001b[39;00m\n\u001b[0;32m---> 24\u001b[0m response \u001b[38;5;241m=\u001b[39m \u001b[43mclient\u001b[49m\u001b[38;5;241;43m.\u001b[39;49m\u001b[43mgenerate\u001b[49m\u001b[43m(\u001b[49m\n\u001b[1;32m     25\u001b[0m \u001b[43m    \u001b[49m\u001b[43mmodel\u001b[49m\u001b[38;5;241;43m=\u001b[39;49m\u001b[43mmodel\u001b[49m\u001b[43m,\u001b[49m\n\u001b[1;32m     26\u001b[0m \u001b[43m    \u001b[49m\u001b[43mprompt\u001b[49m\u001b[38;5;241;43m=\u001b[39;49m\u001b[43mprompt\u001b[49m\n\u001b[1;32m     27\u001b[0m \u001b[43m\u001b[49m\u001b[43m)\u001b[49m\n\u001b[1;32m     29\u001b[0m \u001b[38;5;28;01mreturn\u001b[39;00m response[\u001b[38;5;124m'\u001b[39m\u001b[38;5;124mresponse\u001b[39m\u001b[38;5;124m'\u001b[39m]\u001b[38;5;241m.\u001b[39mstrip()\n",
      "File \u001b[0;32m~/lto_rag_reviewer/LTO_RAG/lib/python3.10/site-packages/ollama/_client.py:241\u001b[0m, in \u001b[0;36mClient.generate\u001b[0;34m(self, model, prompt, suffix, system, template, context, stream, raw, format, images, options, keep_alive)\u001b[0m\n\u001b[1;32m    215\u001b[0m \u001b[38;5;28;01mdef\u001b[39;00m \u001b[38;5;21mgenerate\u001b[39m(\n\u001b[1;32m    216\u001b[0m   \u001b[38;5;28mself\u001b[39m,\n\u001b[1;32m    217\u001b[0m   model: \u001b[38;5;28mstr\u001b[39m \u001b[38;5;241m=\u001b[39m \u001b[38;5;124m'\u001b[39m\u001b[38;5;124m'\u001b[39m,\n\u001b[0;32m   (...)\u001b[0m\n\u001b[1;32m    229\u001b[0m   keep_alive: Optional[Union[\u001b[38;5;28mfloat\u001b[39m, \u001b[38;5;28mstr\u001b[39m]] \u001b[38;5;241m=\u001b[39m \u001b[38;5;28;01mNone\u001b[39;00m,\n\u001b[1;32m    230\u001b[0m ) \u001b[38;5;241m-\u001b[39m\u001b[38;5;241m>\u001b[39m Union[GenerateResponse, Iterator[GenerateResponse]]:\n\u001b[1;32m    231\u001b[0m \u001b[38;5;250m  \u001b[39m\u001b[38;5;124;03m\"\"\"\u001b[39;00m\n\u001b[1;32m    232\u001b[0m \u001b[38;5;124;03m  Create a response using the requested model.\u001b[39;00m\n\u001b[1;32m    233\u001b[0m \n\u001b[0;32m   (...)\u001b[0m\n\u001b[1;32m    238\u001b[0m \u001b[38;5;124;03m  Returns `GenerateResponse` if `stream` is `False`, otherwise returns a `GenerateResponse` generator.\u001b[39;00m\n\u001b[1;32m    239\u001b[0m \u001b[38;5;124;03m  \"\"\"\u001b[39;00m\n\u001b[0;32m--> 241\u001b[0m   \u001b[38;5;28;01mreturn\u001b[39;00m \u001b[38;5;28;43mself\u001b[39;49m\u001b[38;5;241;43m.\u001b[39;49m\u001b[43m_request\u001b[49m\u001b[43m(\u001b[49m\n\u001b[1;32m    242\u001b[0m \u001b[43m    \u001b[49m\u001b[43mGenerateResponse\u001b[49m\u001b[43m,\u001b[49m\n\u001b[1;32m    243\u001b[0m \u001b[43m    \u001b[49m\u001b[38;5;124;43m'\u001b[39;49m\u001b[38;5;124;43mPOST\u001b[39;49m\u001b[38;5;124;43m'\u001b[39;49m\u001b[43m,\u001b[49m\n\u001b[1;32m    244\u001b[0m \u001b[43m    \u001b[49m\u001b[38;5;124;43m'\u001b[39;49m\u001b[38;5;124;43m/api/generate\u001b[39;49m\u001b[38;5;124;43m'\u001b[39;49m\u001b[43m,\u001b[49m\n\u001b[1;32m    245\u001b[0m \u001b[43m    \u001b[49m\u001b[43mjson\u001b[49m\u001b[38;5;241;43m=\u001b[39;49m\u001b[43mGenerateRequest\u001b[49m\u001b[43m(\u001b[49m\n\u001b[1;32m    246\u001b[0m \u001b[43m      \u001b[49m\u001b[43mmodel\u001b[49m\u001b[38;5;241;43m=\u001b[39;49m\u001b[43mmodel\u001b[49m\u001b[43m,\u001b[49m\n\u001b[1;32m    247\u001b[0m \u001b[43m      \u001b[49m\u001b[43mprompt\u001b[49m\u001b[38;5;241;43m=\u001b[39;49m\u001b[43mprompt\u001b[49m\u001b[43m,\u001b[49m\n\u001b[1;32m    248\u001b[0m \u001b[43m      \u001b[49m\u001b[43msuffix\u001b[49m\u001b[38;5;241;43m=\u001b[39;49m\u001b[43msuffix\u001b[49m\u001b[43m,\u001b[49m\n\u001b[1;32m    249\u001b[0m \u001b[43m      \u001b[49m\u001b[43msystem\u001b[49m\u001b[38;5;241;43m=\u001b[39;49m\u001b[43msystem\u001b[49m\u001b[43m,\u001b[49m\n\u001b[1;32m    250\u001b[0m \u001b[43m      \u001b[49m\u001b[43mtemplate\u001b[49m\u001b[38;5;241;43m=\u001b[39;49m\u001b[43mtemplate\u001b[49m\u001b[43m,\u001b[49m\n\u001b[1;32m    251\u001b[0m \u001b[43m      \u001b[49m\u001b[43mcontext\u001b[49m\u001b[38;5;241;43m=\u001b[39;49m\u001b[43mcontext\u001b[49m\u001b[43m,\u001b[49m\n\u001b[1;32m    252\u001b[0m \u001b[43m      \u001b[49m\u001b[43mstream\u001b[49m\u001b[38;5;241;43m=\u001b[39;49m\u001b[43mstream\u001b[49m\u001b[43m,\u001b[49m\n\u001b[1;32m    253\u001b[0m \u001b[43m      \u001b[49m\u001b[43mraw\u001b[49m\u001b[38;5;241;43m=\u001b[39;49m\u001b[43mraw\u001b[49m\u001b[43m,\u001b[49m\n\u001b[1;32m    254\u001b[0m \u001b[43m      \u001b[49m\u001b[38;5;28;43mformat\u001b[39;49m\u001b[38;5;241;43m=\u001b[39;49m\u001b[38;5;28;43mformat\u001b[39;49m\u001b[43m,\u001b[49m\n\u001b[1;32m    255\u001b[0m \u001b[43m      \u001b[49m\u001b[43mimages\u001b[49m\u001b[38;5;241;43m=\u001b[39;49m\u001b[43m[\u001b[49m\u001b[43mImage\u001b[49m\u001b[43m(\u001b[49m\u001b[43mvalue\u001b[49m\u001b[38;5;241;43m=\u001b[39;49m\u001b[43mimage\u001b[49m\u001b[43m)\u001b[49m\u001b[43m \u001b[49m\u001b[38;5;28;43;01mfor\u001b[39;49;00m\u001b[43m \u001b[49m\u001b[43mimage\u001b[49m\u001b[43m \u001b[49m\u001b[38;5;129;43;01min\u001b[39;49;00m\u001b[43m \u001b[49m\u001b[43mimages\u001b[49m\u001b[43m]\u001b[49m\u001b[43m \u001b[49m\u001b[38;5;28;43;01mif\u001b[39;49;00m\u001b[43m \u001b[49m\u001b[43mimages\u001b[49m\u001b[43m \u001b[49m\u001b[38;5;28;43;01melse\u001b[39;49;00m\u001b[43m \u001b[49m\u001b[38;5;28;43;01mNone\u001b[39;49;00m\u001b[43m,\u001b[49m\n\u001b[1;32m    256\u001b[0m \u001b[43m      \u001b[49m\u001b[43moptions\u001b[49m\u001b[38;5;241;43m=\u001b[39;49m\u001b[43moptions\u001b[49m\u001b[43m,\u001b[49m\n\u001b[1;32m    257\u001b[0m \u001b[43m      \u001b[49m\u001b[43mkeep_alive\u001b[49m\u001b[38;5;241;43m=\u001b[39;49m\u001b[43mkeep_alive\u001b[49m\u001b[43m,\u001b[49m\n\u001b[1;32m    258\u001b[0m \u001b[43m    \u001b[49m\u001b[43m)\u001b[49m\u001b[38;5;241;43m.\u001b[39;49m\u001b[43mmodel_dump\u001b[49m\u001b[43m(\u001b[49m\u001b[43mexclude_none\u001b[49m\u001b[38;5;241;43m=\u001b[39;49m\u001b[38;5;28;43;01mTrue\u001b[39;49;00m\u001b[43m)\u001b[49m\u001b[43m,\u001b[49m\n\u001b[1;32m    259\u001b[0m \u001b[43m    \u001b[49m\u001b[43mstream\u001b[49m\u001b[38;5;241;43m=\u001b[39;49m\u001b[43mstream\u001b[49m\u001b[43m,\u001b[49m\n\u001b[1;32m    260\u001b[0m \u001b[43m  \u001b[49m\u001b[43m)\u001b[49m\n",
      "File \u001b[0;32m~/lto_rag_reviewer/LTO_RAG/lib/python3.10/site-packages/ollama/_client.py:177\u001b[0m, in \u001b[0;36mClient._request\u001b[0;34m(self, cls, stream, *args, **kwargs)\u001b[0m\n\u001b[1;32m    173\u001b[0m         \u001b[38;5;28;01myield\u001b[39;00m \u001b[38;5;28mcls\u001b[39m(\u001b[38;5;241m*\u001b[39m\u001b[38;5;241m*\u001b[39mpart)\n\u001b[1;32m    175\u001b[0m   \u001b[38;5;28;01mreturn\u001b[39;00m inner()\n\u001b[0;32m--> 177\u001b[0m \u001b[38;5;28;01mreturn\u001b[39;00m \u001b[38;5;28mcls\u001b[39m(\u001b[38;5;241m*\u001b[39m\u001b[38;5;241m*\u001b[39m\u001b[38;5;28;43mself\u001b[39;49m\u001b[38;5;241;43m.\u001b[39;49m\u001b[43m_request_raw\u001b[49m\u001b[43m(\u001b[49m\u001b[38;5;241;43m*\u001b[39;49m\u001b[43margs\u001b[49m\u001b[43m,\u001b[49m\u001b[43m \u001b[49m\u001b[38;5;241;43m*\u001b[39;49m\u001b[38;5;241;43m*\u001b[39;49m\u001b[43mkwargs\u001b[49m\u001b[43m)\u001b[49m\u001b[38;5;241m.\u001b[39mjson())\n",
      "File \u001b[0;32m~/lto_rag_reviewer/LTO_RAG/lib/python3.10/site-packages/ollama/_client.py:118\u001b[0m, in \u001b[0;36mClient._request_raw\u001b[0;34m(self, *args, **kwargs)\u001b[0m\n\u001b[1;32m    117\u001b[0m \u001b[38;5;28;01mdef\u001b[39;00m \u001b[38;5;21m_request_raw\u001b[39m(\u001b[38;5;28mself\u001b[39m, \u001b[38;5;241m*\u001b[39margs, \u001b[38;5;241m*\u001b[39m\u001b[38;5;241m*\u001b[39mkwargs):\n\u001b[0;32m--> 118\u001b[0m   r \u001b[38;5;241m=\u001b[39m \u001b[38;5;28;43mself\u001b[39;49m\u001b[38;5;241;43m.\u001b[39;49m\u001b[43m_client\u001b[49m\u001b[38;5;241;43m.\u001b[39;49m\u001b[43mrequest\u001b[49m\u001b[43m(\u001b[49m\u001b[38;5;241;43m*\u001b[39;49m\u001b[43margs\u001b[49m\u001b[43m,\u001b[49m\u001b[43m \u001b[49m\u001b[38;5;241;43m*\u001b[39;49m\u001b[38;5;241;43m*\u001b[39;49m\u001b[43mkwargs\u001b[49m\u001b[43m)\u001b[49m\n\u001b[1;32m    119\u001b[0m   \u001b[38;5;28;01mtry\u001b[39;00m:\n\u001b[1;32m    120\u001b[0m     r\u001b[38;5;241m.\u001b[39mraise_for_status()\n",
      "File \u001b[0;32m~/lto_rag_reviewer/LTO_RAG/lib/python3.10/site-packages/httpx/_client.py:837\u001b[0m, in \u001b[0;36mClient.request\u001b[0;34m(self, method, url, content, data, files, json, params, headers, cookies, auth, follow_redirects, timeout, extensions)\u001b[0m\n\u001b[1;32m    822\u001b[0m     warnings\u001b[38;5;241m.\u001b[39mwarn(message, \u001b[38;5;167;01mDeprecationWarning\u001b[39;00m)\n\u001b[1;32m    824\u001b[0m request \u001b[38;5;241m=\u001b[39m \u001b[38;5;28mself\u001b[39m\u001b[38;5;241m.\u001b[39mbuild_request(\n\u001b[1;32m    825\u001b[0m     method\u001b[38;5;241m=\u001b[39mmethod,\n\u001b[1;32m    826\u001b[0m     url\u001b[38;5;241m=\u001b[39murl,\n\u001b[0;32m   (...)\u001b[0m\n\u001b[1;32m    835\u001b[0m     extensions\u001b[38;5;241m=\u001b[39mextensions,\n\u001b[1;32m    836\u001b[0m )\n\u001b[0;32m--> 837\u001b[0m \u001b[38;5;28;01mreturn\u001b[39;00m \u001b[38;5;28;43mself\u001b[39;49m\u001b[38;5;241;43m.\u001b[39;49m\u001b[43msend\u001b[49m\u001b[43m(\u001b[49m\u001b[43mrequest\u001b[49m\u001b[43m,\u001b[49m\u001b[43m \u001b[49m\u001b[43mauth\u001b[49m\u001b[38;5;241;43m=\u001b[39;49m\u001b[43mauth\u001b[49m\u001b[43m,\u001b[49m\u001b[43m \u001b[49m\u001b[43mfollow_redirects\u001b[49m\u001b[38;5;241;43m=\u001b[39;49m\u001b[43mfollow_redirects\u001b[49m\u001b[43m)\u001b[49m\n",
      "File \u001b[0;32m~/lto_rag_reviewer/LTO_RAG/lib/python3.10/site-packages/httpx/_client.py:926\u001b[0m, in \u001b[0;36mClient.send\u001b[0;34m(self, request, stream, auth, follow_redirects)\u001b[0m\n\u001b[1;32m    922\u001b[0m \u001b[38;5;28mself\u001b[39m\u001b[38;5;241m.\u001b[39m_set_timeout(request)\n\u001b[1;32m    924\u001b[0m auth \u001b[38;5;241m=\u001b[39m \u001b[38;5;28mself\u001b[39m\u001b[38;5;241m.\u001b[39m_build_request_auth(request, auth)\n\u001b[0;32m--> 926\u001b[0m response \u001b[38;5;241m=\u001b[39m \u001b[38;5;28;43mself\u001b[39;49m\u001b[38;5;241;43m.\u001b[39;49m\u001b[43m_send_handling_auth\u001b[49m\u001b[43m(\u001b[49m\n\u001b[1;32m    927\u001b[0m \u001b[43m    \u001b[49m\u001b[43mrequest\u001b[49m\u001b[43m,\u001b[49m\n\u001b[1;32m    928\u001b[0m \u001b[43m    \u001b[49m\u001b[43mauth\u001b[49m\u001b[38;5;241;43m=\u001b[39;49m\u001b[43mauth\u001b[49m\u001b[43m,\u001b[49m\n\u001b[1;32m    929\u001b[0m \u001b[43m    \u001b[49m\u001b[43mfollow_redirects\u001b[49m\u001b[38;5;241;43m=\u001b[39;49m\u001b[43mfollow_redirects\u001b[49m\u001b[43m,\u001b[49m\n\u001b[1;32m    930\u001b[0m \u001b[43m    \u001b[49m\u001b[43mhistory\u001b[49m\u001b[38;5;241;43m=\u001b[39;49m\u001b[43m[\u001b[49m\u001b[43m]\u001b[49m\u001b[43m,\u001b[49m\n\u001b[1;32m    931\u001b[0m \u001b[43m\u001b[49m\u001b[43m)\u001b[49m\n\u001b[1;32m    932\u001b[0m \u001b[38;5;28;01mtry\u001b[39;00m:\n\u001b[1;32m    933\u001b[0m     \u001b[38;5;28;01mif\u001b[39;00m \u001b[38;5;129;01mnot\u001b[39;00m stream:\n",
      "File \u001b[0;32m~/lto_rag_reviewer/LTO_RAG/lib/python3.10/site-packages/httpx/_client.py:954\u001b[0m, in \u001b[0;36mClient._send_handling_auth\u001b[0;34m(self, request, auth, follow_redirects, history)\u001b[0m\n\u001b[1;32m    951\u001b[0m request \u001b[38;5;241m=\u001b[39m \u001b[38;5;28mnext\u001b[39m(auth_flow)\n\u001b[1;32m    953\u001b[0m \u001b[38;5;28;01mwhile\u001b[39;00m \u001b[38;5;28;01mTrue\u001b[39;00m:\n\u001b[0;32m--> 954\u001b[0m     response \u001b[38;5;241m=\u001b[39m \u001b[38;5;28;43mself\u001b[39;49m\u001b[38;5;241;43m.\u001b[39;49m\u001b[43m_send_handling_redirects\u001b[49m\u001b[43m(\u001b[49m\n\u001b[1;32m    955\u001b[0m \u001b[43m        \u001b[49m\u001b[43mrequest\u001b[49m\u001b[43m,\u001b[49m\n\u001b[1;32m    956\u001b[0m \u001b[43m        \u001b[49m\u001b[43mfollow_redirects\u001b[49m\u001b[38;5;241;43m=\u001b[39;49m\u001b[43mfollow_redirects\u001b[49m\u001b[43m,\u001b[49m\n\u001b[1;32m    957\u001b[0m \u001b[43m        \u001b[49m\u001b[43mhistory\u001b[49m\u001b[38;5;241;43m=\u001b[39;49m\u001b[43mhistory\u001b[49m\u001b[43m,\u001b[49m\n\u001b[1;32m    958\u001b[0m \u001b[43m    \u001b[49m\u001b[43m)\u001b[49m\n\u001b[1;32m    959\u001b[0m     \u001b[38;5;28;01mtry\u001b[39;00m:\n\u001b[1;32m    960\u001b[0m         \u001b[38;5;28;01mtry\u001b[39;00m:\n",
      "File \u001b[0;32m~/lto_rag_reviewer/LTO_RAG/lib/python3.10/site-packages/httpx/_client.py:991\u001b[0m, in \u001b[0;36mClient._send_handling_redirects\u001b[0;34m(self, request, follow_redirects, history)\u001b[0m\n\u001b[1;32m    988\u001b[0m \u001b[38;5;28;01mfor\u001b[39;00m hook \u001b[38;5;129;01min\u001b[39;00m \u001b[38;5;28mself\u001b[39m\u001b[38;5;241m.\u001b[39m_event_hooks[\u001b[38;5;124m\"\u001b[39m\u001b[38;5;124mrequest\u001b[39m\u001b[38;5;124m\"\u001b[39m]:\n\u001b[1;32m    989\u001b[0m     hook(request)\n\u001b[0;32m--> 991\u001b[0m response \u001b[38;5;241m=\u001b[39m \u001b[38;5;28;43mself\u001b[39;49m\u001b[38;5;241;43m.\u001b[39;49m\u001b[43m_send_single_request\u001b[49m\u001b[43m(\u001b[49m\u001b[43mrequest\u001b[49m\u001b[43m)\u001b[49m\n\u001b[1;32m    992\u001b[0m \u001b[38;5;28;01mtry\u001b[39;00m:\n\u001b[1;32m    993\u001b[0m     \u001b[38;5;28;01mfor\u001b[39;00m hook \u001b[38;5;129;01min\u001b[39;00m \u001b[38;5;28mself\u001b[39m\u001b[38;5;241m.\u001b[39m_event_hooks[\u001b[38;5;124m\"\u001b[39m\u001b[38;5;124mresponse\u001b[39m\u001b[38;5;124m\"\u001b[39m]:\n",
      "File \u001b[0;32m~/lto_rag_reviewer/LTO_RAG/lib/python3.10/site-packages/httpx/_client.py:1027\u001b[0m, in \u001b[0;36mClient._send_single_request\u001b[0;34m(self, request)\u001b[0m\n\u001b[1;32m   1022\u001b[0m     \u001b[38;5;28;01mraise\u001b[39;00m \u001b[38;5;167;01mRuntimeError\u001b[39;00m(\n\u001b[1;32m   1023\u001b[0m         \u001b[38;5;124m\"\u001b[39m\u001b[38;5;124mAttempted to send an async request with a sync Client instance.\u001b[39m\u001b[38;5;124m\"\u001b[39m\n\u001b[1;32m   1024\u001b[0m     )\n\u001b[1;32m   1026\u001b[0m \u001b[38;5;28;01mwith\u001b[39;00m request_context(request\u001b[38;5;241m=\u001b[39mrequest):\n\u001b[0;32m-> 1027\u001b[0m     response \u001b[38;5;241m=\u001b[39m \u001b[43mtransport\u001b[49m\u001b[38;5;241;43m.\u001b[39;49m\u001b[43mhandle_request\u001b[49m\u001b[43m(\u001b[49m\u001b[43mrequest\u001b[49m\u001b[43m)\u001b[49m\n\u001b[1;32m   1029\u001b[0m \u001b[38;5;28;01massert\u001b[39;00m \u001b[38;5;28misinstance\u001b[39m(response\u001b[38;5;241m.\u001b[39mstream, SyncByteStream)\n\u001b[1;32m   1031\u001b[0m response\u001b[38;5;241m.\u001b[39mrequest \u001b[38;5;241m=\u001b[39m request\n",
      "File \u001b[0;32m~/lto_rag_reviewer/LTO_RAG/lib/python3.10/site-packages/httpx/_transports/default.py:236\u001b[0m, in \u001b[0;36mHTTPTransport.handle_request\u001b[0;34m(self, request)\u001b[0m\n\u001b[1;32m    223\u001b[0m req \u001b[38;5;241m=\u001b[39m httpcore\u001b[38;5;241m.\u001b[39mRequest(\n\u001b[1;32m    224\u001b[0m     method\u001b[38;5;241m=\u001b[39mrequest\u001b[38;5;241m.\u001b[39mmethod,\n\u001b[1;32m    225\u001b[0m     url\u001b[38;5;241m=\u001b[39mhttpcore\u001b[38;5;241m.\u001b[39mURL(\n\u001b[0;32m   (...)\u001b[0m\n\u001b[1;32m    233\u001b[0m     extensions\u001b[38;5;241m=\u001b[39mrequest\u001b[38;5;241m.\u001b[39mextensions,\n\u001b[1;32m    234\u001b[0m )\n\u001b[1;32m    235\u001b[0m \u001b[38;5;28;01mwith\u001b[39;00m map_httpcore_exceptions():\n\u001b[0;32m--> 236\u001b[0m     resp \u001b[38;5;241m=\u001b[39m \u001b[38;5;28;43mself\u001b[39;49m\u001b[38;5;241;43m.\u001b[39;49m\u001b[43m_pool\u001b[49m\u001b[38;5;241;43m.\u001b[39;49m\u001b[43mhandle_request\u001b[49m\u001b[43m(\u001b[49m\u001b[43mreq\u001b[49m\u001b[43m)\u001b[49m\n\u001b[1;32m    238\u001b[0m \u001b[38;5;28;01massert\u001b[39;00m \u001b[38;5;28misinstance\u001b[39m(resp\u001b[38;5;241m.\u001b[39mstream, typing\u001b[38;5;241m.\u001b[39mIterable)\n\u001b[1;32m    240\u001b[0m \u001b[38;5;28;01mreturn\u001b[39;00m Response(\n\u001b[1;32m    241\u001b[0m     status_code\u001b[38;5;241m=\u001b[39mresp\u001b[38;5;241m.\u001b[39mstatus,\n\u001b[1;32m    242\u001b[0m     headers\u001b[38;5;241m=\u001b[39mresp\u001b[38;5;241m.\u001b[39mheaders,\n\u001b[1;32m    243\u001b[0m     stream\u001b[38;5;241m=\u001b[39mResponseStream(resp\u001b[38;5;241m.\u001b[39mstream),\n\u001b[1;32m    244\u001b[0m     extensions\u001b[38;5;241m=\u001b[39mresp\u001b[38;5;241m.\u001b[39mextensions,\n\u001b[1;32m    245\u001b[0m )\n",
      "File \u001b[0;32m~/lto_rag_reviewer/LTO_RAG/lib/python3.10/site-packages/httpcore/_sync/connection_pool.py:256\u001b[0m, in \u001b[0;36mConnectionPool.handle_request\u001b[0;34m(self, request)\u001b[0m\n\u001b[1;32m    253\u001b[0m         closing \u001b[38;5;241m=\u001b[39m \u001b[38;5;28mself\u001b[39m\u001b[38;5;241m.\u001b[39m_assign_requests_to_connections()\n\u001b[1;32m    255\u001b[0m     \u001b[38;5;28mself\u001b[39m\u001b[38;5;241m.\u001b[39m_close_connections(closing)\n\u001b[0;32m--> 256\u001b[0m     \u001b[38;5;28;01mraise\u001b[39;00m exc \u001b[38;5;28;01mfrom\u001b[39;00m \u001b[38;5;28;01mNone\u001b[39;00m\n\u001b[1;32m    258\u001b[0m \u001b[38;5;66;03m# Return the response. Note that in this case we still have to manage\u001b[39;00m\n\u001b[1;32m    259\u001b[0m \u001b[38;5;66;03m# the point at which the response is closed.\u001b[39;00m\n\u001b[1;32m    260\u001b[0m \u001b[38;5;28;01massert\u001b[39;00m \u001b[38;5;28misinstance\u001b[39m(response\u001b[38;5;241m.\u001b[39mstream, typing\u001b[38;5;241m.\u001b[39mIterable)\n",
      "File \u001b[0;32m~/lto_rag_reviewer/LTO_RAG/lib/python3.10/site-packages/httpcore/_sync/connection_pool.py:236\u001b[0m, in \u001b[0;36mConnectionPool.handle_request\u001b[0;34m(self, request)\u001b[0m\n\u001b[1;32m    232\u001b[0m connection \u001b[38;5;241m=\u001b[39m pool_request\u001b[38;5;241m.\u001b[39mwait_for_connection(timeout\u001b[38;5;241m=\u001b[39mtimeout)\n\u001b[1;32m    234\u001b[0m \u001b[38;5;28;01mtry\u001b[39;00m:\n\u001b[1;32m    235\u001b[0m     \u001b[38;5;66;03m# Send the request on the assigned connection.\u001b[39;00m\n\u001b[0;32m--> 236\u001b[0m     response \u001b[38;5;241m=\u001b[39m \u001b[43mconnection\u001b[49m\u001b[38;5;241;43m.\u001b[39;49m\u001b[43mhandle_request\u001b[49m\u001b[43m(\u001b[49m\n\u001b[1;32m    237\u001b[0m \u001b[43m        \u001b[49m\u001b[43mpool_request\u001b[49m\u001b[38;5;241;43m.\u001b[39;49m\u001b[43mrequest\u001b[49m\n\u001b[1;32m    238\u001b[0m \u001b[43m    \u001b[49m\u001b[43m)\u001b[49m\n\u001b[1;32m    239\u001b[0m \u001b[38;5;28;01mexcept\u001b[39;00m ConnectionNotAvailable:\n\u001b[1;32m    240\u001b[0m     \u001b[38;5;66;03m# In some cases a connection may initially be available to\u001b[39;00m\n\u001b[1;32m    241\u001b[0m     \u001b[38;5;66;03m# handle a request, but then become unavailable.\u001b[39;00m\n\u001b[1;32m    242\u001b[0m     \u001b[38;5;66;03m#\u001b[39;00m\n\u001b[1;32m    243\u001b[0m     \u001b[38;5;66;03m# In this case we clear the connection and try again.\u001b[39;00m\n\u001b[1;32m    244\u001b[0m     pool_request\u001b[38;5;241m.\u001b[39mclear_connection()\n",
      "File \u001b[0;32m~/lto_rag_reviewer/LTO_RAG/lib/python3.10/site-packages/httpcore/_sync/connection.py:103\u001b[0m, in \u001b[0;36mHTTPConnection.handle_request\u001b[0;34m(self, request)\u001b[0m\n\u001b[1;32m    100\u001b[0m     \u001b[38;5;28mself\u001b[39m\u001b[38;5;241m.\u001b[39m_connect_failed \u001b[38;5;241m=\u001b[39m \u001b[38;5;28;01mTrue\u001b[39;00m\n\u001b[1;32m    101\u001b[0m     \u001b[38;5;28;01mraise\u001b[39;00m exc\n\u001b[0;32m--> 103\u001b[0m \u001b[38;5;28;01mreturn\u001b[39;00m \u001b[38;5;28;43mself\u001b[39;49m\u001b[38;5;241;43m.\u001b[39;49m\u001b[43m_connection\u001b[49m\u001b[38;5;241;43m.\u001b[39;49m\u001b[43mhandle_request\u001b[49m\u001b[43m(\u001b[49m\u001b[43mrequest\u001b[49m\u001b[43m)\u001b[49m\n",
      "File \u001b[0;32m~/lto_rag_reviewer/LTO_RAG/lib/python3.10/site-packages/httpcore/_sync/http11.py:136\u001b[0m, in \u001b[0;36mHTTP11Connection.handle_request\u001b[0;34m(self, request)\u001b[0m\n\u001b[1;32m    134\u001b[0m     \u001b[38;5;28;01mwith\u001b[39;00m Trace(\u001b[38;5;124m\"\u001b[39m\u001b[38;5;124mresponse_closed\u001b[39m\u001b[38;5;124m\"\u001b[39m, logger, request) \u001b[38;5;28;01mas\u001b[39;00m trace:\n\u001b[1;32m    135\u001b[0m         \u001b[38;5;28mself\u001b[39m\u001b[38;5;241m.\u001b[39m_response_closed()\n\u001b[0;32m--> 136\u001b[0m \u001b[38;5;28;01mraise\u001b[39;00m exc\n",
      "File \u001b[0;32m~/lto_rag_reviewer/LTO_RAG/lib/python3.10/site-packages/httpcore/_sync/http11.py:106\u001b[0m, in \u001b[0;36mHTTP11Connection.handle_request\u001b[0;34m(self, request)\u001b[0m\n\u001b[1;32m     95\u001b[0m     \u001b[38;5;28;01mpass\u001b[39;00m\n\u001b[1;32m     97\u001b[0m \u001b[38;5;28;01mwith\u001b[39;00m Trace(\n\u001b[1;32m     98\u001b[0m     \u001b[38;5;124m\"\u001b[39m\u001b[38;5;124mreceive_response_headers\u001b[39m\u001b[38;5;124m\"\u001b[39m, logger, request, kwargs\n\u001b[1;32m     99\u001b[0m ) \u001b[38;5;28;01mas\u001b[39;00m trace:\n\u001b[1;32m    100\u001b[0m     (\n\u001b[1;32m    101\u001b[0m         http_version,\n\u001b[1;32m    102\u001b[0m         status,\n\u001b[1;32m    103\u001b[0m         reason_phrase,\n\u001b[1;32m    104\u001b[0m         headers,\n\u001b[1;32m    105\u001b[0m         trailing_data,\n\u001b[0;32m--> 106\u001b[0m     ) \u001b[38;5;241m=\u001b[39m \u001b[38;5;28;43mself\u001b[39;49m\u001b[38;5;241;43m.\u001b[39;49m\u001b[43m_receive_response_headers\u001b[49m\u001b[43m(\u001b[49m\u001b[38;5;241;43m*\u001b[39;49m\u001b[38;5;241;43m*\u001b[39;49m\u001b[43mkwargs\u001b[49m\u001b[43m)\u001b[49m\n\u001b[1;32m    107\u001b[0m     trace\u001b[38;5;241m.\u001b[39mreturn_value \u001b[38;5;241m=\u001b[39m (\n\u001b[1;32m    108\u001b[0m         http_version,\n\u001b[1;32m    109\u001b[0m         status,\n\u001b[1;32m    110\u001b[0m         reason_phrase,\n\u001b[1;32m    111\u001b[0m         headers,\n\u001b[1;32m    112\u001b[0m     )\n\u001b[1;32m    114\u001b[0m network_stream \u001b[38;5;241m=\u001b[39m \u001b[38;5;28mself\u001b[39m\u001b[38;5;241m.\u001b[39m_network_stream\n",
      "File \u001b[0;32m~/lto_rag_reviewer/LTO_RAG/lib/python3.10/site-packages/httpcore/_sync/http11.py:177\u001b[0m, in \u001b[0;36mHTTP11Connection._receive_response_headers\u001b[0;34m(self, request)\u001b[0m\n\u001b[1;32m    174\u001b[0m timeout \u001b[38;5;241m=\u001b[39m timeouts\u001b[38;5;241m.\u001b[39mget(\u001b[38;5;124m\"\u001b[39m\u001b[38;5;124mread\u001b[39m\u001b[38;5;124m\"\u001b[39m, \u001b[38;5;28;01mNone\u001b[39;00m)\n\u001b[1;32m    176\u001b[0m \u001b[38;5;28;01mwhile\u001b[39;00m \u001b[38;5;28;01mTrue\u001b[39;00m:\n\u001b[0;32m--> 177\u001b[0m     event \u001b[38;5;241m=\u001b[39m \u001b[38;5;28;43mself\u001b[39;49m\u001b[38;5;241;43m.\u001b[39;49m\u001b[43m_receive_event\u001b[49m\u001b[43m(\u001b[49m\u001b[43mtimeout\u001b[49m\u001b[38;5;241;43m=\u001b[39;49m\u001b[43mtimeout\u001b[49m\u001b[43m)\u001b[49m\n\u001b[1;32m    178\u001b[0m     \u001b[38;5;28;01mif\u001b[39;00m \u001b[38;5;28misinstance\u001b[39m(event, h11\u001b[38;5;241m.\u001b[39mResponse):\n\u001b[1;32m    179\u001b[0m         \u001b[38;5;28;01mbreak\u001b[39;00m\n",
      "File \u001b[0;32m~/lto_rag_reviewer/LTO_RAG/lib/python3.10/site-packages/httpcore/_sync/http11.py:217\u001b[0m, in \u001b[0;36mHTTP11Connection._receive_event\u001b[0;34m(self, timeout)\u001b[0m\n\u001b[1;32m    214\u001b[0m     event \u001b[38;5;241m=\u001b[39m \u001b[38;5;28mself\u001b[39m\u001b[38;5;241m.\u001b[39m_h11_state\u001b[38;5;241m.\u001b[39mnext_event()\n\u001b[1;32m    216\u001b[0m \u001b[38;5;28;01mif\u001b[39;00m event \u001b[38;5;129;01mis\u001b[39;00m h11\u001b[38;5;241m.\u001b[39mNEED_DATA:\n\u001b[0;32m--> 217\u001b[0m     data \u001b[38;5;241m=\u001b[39m \u001b[38;5;28;43mself\u001b[39;49m\u001b[38;5;241;43m.\u001b[39;49m\u001b[43m_network_stream\u001b[49m\u001b[38;5;241;43m.\u001b[39;49m\u001b[43mread\u001b[49m\u001b[43m(\u001b[49m\n\u001b[1;32m    218\u001b[0m \u001b[43m        \u001b[49m\u001b[38;5;28;43mself\u001b[39;49m\u001b[38;5;241;43m.\u001b[39;49m\u001b[43mREAD_NUM_BYTES\u001b[49m\u001b[43m,\u001b[49m\u001b[43m \u001b[49m\u001b[43mtimeout\u001b[49m\u001b[38;5;241;43m=\u001b[39;49m\u001b[43mtimeout\u001b[49m\n\u001b[1;32m    219\u001b[0m \u001b[43m    \u001b[49m\u001b[43m)\u001b[49m\n\u001b[1;32m    221\u001b[0m     \u001b[38;5;66;03m# If we feed this case through h11 we'll raise an exception like:\u001b[39;00m\n\u001b[1;32m    222\u001b[0m     \u001b[38;5;66;03m#\u001b[39;00m\n\u001b[1;32m    223\u001b[0m     \u001b[38;5;66;03m#     httpcore.RemoteProtocolError: can't handle event type\u001b[39;00m\n\u001b[0;32m   (...)\u001b[0m\n\u001b[1;32m    227\u001b[0m     \u001b[38;5;66;03m# perspective. Instead we handle this case distinctly and treat\u001b[39;00m\n\u001b[1;32m    228\u001b[0m     \u001b[38;5;66;03m# it as a ConnectError.\u001b[39;00m\n\u001b[1;32m    229\u001b[0m     \u001b[38;5;28;01mif\u001b[39;00m data \u001b[38;5;241m==\u001b[39m \u001b[38;5;124mb\u001b[39m\u001b[38;5;124m\"\u001b[39m\u001b[38;5;124m\"\u001b[39m \u001b[38;5;129;01mand\u001b[39;00m \u001b[38;5;28mself\u001b[39m\u001b[38;5;241m.\u001b[39m_h11_state\u001b[38;5;241m.\u001b[39mtheir_state \u001b[38;5;241m==\u001b[39m h11\u001b[38;5;241m.\u001b[39mSEND_RESPONSE:\n",
      "File \u001b[0;32m~/lto_rag_reviewer/LTO_RAG/lib/python3.10/site-packages/httpcore/_backends/sync.py:128\u001b[0m, in \u001b[0;36mSyncStream.read\u001b[0;34m(self, max_bytes, timeout)\u001b[0m\n\u001b[1;32m    126\u001b[0m \u001b[38;5;28;01mwith\u001b[39;00m map_exceptions(exc_map):\n\u001b[1;32m    127\u001b[0m     \u001b[38;5;28mself\u001b[39m\u001b[38;5;241m.\u001b[39m_sock\u001b[38;5;241m.\u001b[39msettimeout(timeout)\n\u001b[0;32m--> 128\u001b[0m     \u001b[38;5;28;01mreturn\u001b[39;00m \u001b[38;5;28;43mself\u001b[39;49m\u001b[38;5;241;43m.\u001b[39;49m\u001b[43m_sock\u001b[49m\u001b[38;5;241;43m.\u001b[39;49m\u001b[43mrecv\u001b[49m\u001b[43m(\u001b[49m\u001b[43mmax_bytes\u001b[49m\u001b[43m)\u001b[49m\n",
      "\u001b[0;31mKeyboardInterrupt\u001b[0m: "
     ]
    }
   ],
   "source": [
    "import time\n",
    "\n",
    "df[\"AI\"] = np.nan\n",
    "ai_answer = []\n",
    "context_answer = []\n",
    "inference_times = []\n",
    "for i in tqdm(range(len(df))):\n",
    "    start_time = time.time()\n",
    "    answ = gen_query(df[\"Question\"].iloc[i], df[\"Choices\"].iloc[i], top_k=15, client=client, mode='dense', model=\"llama3.3\")\n",
    "    ai_answer.append(answ[0])\n",
    "    context_answer.append(answ[2])\n",
    "    end_time = time.time()\n",
    "    inference_times.append(end_time - start_time)\n",
    "\n",
    "df[\"AI\"] = ai_answer\n",
    "df[\"Inference_times\"] = inference_times\n",
    "df[\"Context\"] = context_answer\n",
    "print(\"Updated Testing Data with AI Answers:\")\n",
    "display(df.head())"
   ]
  },
  {
   "cell_type": "code",
   "execution_count": null,
   "id": "ad5ce417",
   "metadata": {},
   "outputs": [
    {
     "name": "stdout",
     "output_type": "stream",
     "text": [
      "Final Score: 13.00/60.00\n",
      "Accuracy: 0.22%\n"
     ]
    },
    {
     "data": {
      "text/html": [
       "<div>\n",
       "<style scoped>\n",
       "    .dataframe tbody tr th:only-of-type {\n",
       "        vertical-align: middle;\n",
       "    }\n",
       "\n",
       "    .dataframe tbody tr th {\n",
       "        vertical-align: top;\n",
       "    }\n",
       "\n",
       "    .dataframe thead th {\n",
       "        text-align: right;\n",
       "    }\n",
       "</style>\n",
       "<table border=\"1\" class=\"dataframe\">\n",
       "  <thead>\n",
       "    <tr style=\"text-align: right;\">\n",
       "      <th></th>\n",
       "      <th>Question</th>\n",
       "      <th>Answer</th>\n",
       "      <th>AI</th>\n",
       "      <th>Score</th>\n",
       "      <th>Inference_times</th>\n",
       "    </tr>\n",
       "  </thead>\n",
       "  <tbody>\n",
       "    <tr>\n",
       "      <th>0</th>\n",
       "      <td>If the driver is turning left, he must: (U-tur...</td>\n",
       "      <td>[C]</td>\n",
       "      <td>[A, B, C]</td>\n",
       "      <td>0.0</td>\n",
       "      <td>121.788177</td>\n",
       "    </tr>\n",
       "    <tr>\n",
       "      <th>1</th>\n",
       "      <td>When a vehicle starts to skid, what should the...</td>\n",
       "      <td>[B]</td>\n",
       "      <td>[A, B, C]</td>\n",
       "      <td>0.0</td>\n",
       "      <td>167.223632</td>\n",
       "    </tr>\n",
       "    <tr>\n",
       "      <th>2</th>\n",
       "      <td>If you are parking uphill without a curb, turn...</td>\n",
       "      <td>[A]</td>\n",
       "      <td>[A, B, C]</td>\n",
       "      <td>0.0</td>\n",
       "      <td>126.676048</td>\n",
       "    </tr>\n",
       "    <tr>\n",
       "      <th>3</th>\n",
       "      <td>When parking downhill, you should turn your fr...</td>\n",
       "      <td>[A]</td>\n",
       "      <td>[A]</td>\n",
       "      <td>1.0</td>\n",
       "      <td>114.733462</td>\n",
       "    </tr>\n",
       "    <tr>\n",
       "      <th>4</th>\n",
       "      <td>Which of the following is the maximum speed li...</td>\n",
       "      <td>[C]</td>\n",
       "      <td>[A, B]</td>\n",
       "      <td>0.0</td>\n",
       "      <td>149.391973</td>\n",
       "    </tr>\n",
       "    <tr>\n",
       "      <th>5</th>\n",
       "      <td>Never park or stop at the side of the road wit...</td>\n",
       "      <td>[C]</td>\n",
       "      <td>[A, B]</td>\n",
       "      <td>0.0</td>\n",
       "      <td>112.751427</td>\n",
       "    </tr>\n",
       "    <tr>\n",
       "      <th>6</th>\n",
       "      <td>While driving with maximum speed and you have ...</td>\n",
       "      <td>[C]</td>\n",
       "      <td>[A, B, C]</td>\n",
       "      <td>0.0</td>\n",
       "      <td>153.455341</td>\n",
       "    </tr>\n",
       "    <tr>\n",
       "      <th>7</th>\n",
       "      <td>What will happen when your rear tire blows out?</td>\n",
       "      <td>[B]</td>\n",
       "      <td>[A]</td>\n",
       "      <td>0.0</td>\n",
       "      <td>178.702681</td>\n",
       "    </tr>\n",
       "    <tr>\n",
       "      <th>8</th>\n",
       "      <td>Operating a public utility vehicle equipped wi...</td>\n",
       "      <td>[A]</td>\n",
       "      <td>[A, B, C]</td>\n",
       "      <td>0.0</td>\n",
       "      <td>130.630817</td>\n",
       "    </tr>\n",
       "    <tr>\n",
       "      <th>9</th>\n",
       "      <td>Your speed while driving at night should keep on:</td>\n",
       "      <td>[A]</td>\n",
       "      <td>[A, B]</td>\n",
       "      <td>0.0</td>\n",
       "      <td>153.482348</td>\n",
       "    </tr>\n",
       "    <tr>\n",
       "      <th>10</th>\n",
       "      <td>Before a private motor vehicle owner can apply...</td>\n",
       "      <td>[C]</td>\n",
       "      <td>[A, B, C, D, E]</td>\n",
       "      <td>0.0</td>\n",
       "      <td>124.647571</td>\n",
       "    </tr>\n",
       "    <tr>\n",
       "      <th>11</th>\n",
       "      <td>What is the meaning of a traffic sign that has...</td>\n",
       "      <td>[A]</td>\n",
       "      <td>[A, B, C]</td>\n",
       "      <td>0.0</td>\n",
       "      <td>133.948460</td>\n",
       "    </tr>\n",
       "    <tr>\n",
       "      <th>12</th>\n",
       "      <td>It is not conidered safe driving on an express...</td>\n",
       "      <td>[C]</td>\n",
       "      <td>[A, B, C]</td>\n",
       "      <td>0.0</td>\n",
       "      <td>131.092562</td>\n",
       "    </tr>\n",
       "    <tr>\n",
       "      <th>13</th>\n",
       "      <td>What is considered as a parking violation?</td>\n",
       "      <td>[C]</td>\n",
       "      <td>[A, B, C]</td>\n",
       "      <td>0.0</td>\n",
       "      <td>135.198854</td>\n",
       "    </tr>\n",
       "    <tr>\n",
       "      <th>14</th>\n",
       "      <td>Night driving is dangerous because:</td>\n",
       "      <td>[C]</td>\n",
       "      <td>[C]</td>\n",
       "      <td>1.0</td>\n",
       "      <td>127.615004</td>\n",
       "    </tr>\n",
       "    <tr>\n",
       "      <th>15</th>\n",
       "      <td>A pre-trip inspection should be completed:</td>\n",
       "      <td>[C]</td>\n",
       "      <td>[A, C]</td>\n",
       "      <td>0.0</td>\n",
       "      <td>137.951059</td>\n",
       "    </tr>\n",
       "    <tr>\n",
       "      <th>16</th>\n",
       "      <td>While driving the hood of your car lifts up bl...</td>\n",
       "      <td>[A, C]</td>\n",
       "      <td>[A, B, C, D, E]</td>\n",
       "      <td>0.0</td>\n",
       "      <td>185.413213</td>\n",
       "    </tr>\n",
       "    <tr>\n",
       "      <th>17</th>\n",
       "      <td>Graft and corruption in the traffic enforcemen...</td>\n",
       "      <td>[C]</td>\n",
       "      <td>[B, C, E]</td>\n",
       "      <td>0.0</td>\n",
       "      <td>162.987003</td>\n",
       "    </tr>\n",
       "    <tr>\n",
       "      <th>18</th>\n",
       "      <td>While driving with a maximum speed and you hav...</td>\n",
       "      <td>[A]</td>\n",
       "      <td>[A]</td>\n",
       "      <td>1.0</td>\n",
       "      <td>148.780231</td>\n",
       "    </tr>\n",
       "    <tr>\n",
       "      <th>19</th>\n",
       "      <td>When a vehicle is stalled or disabled, the dri...</td>\n",
       "      <td>[C]</td>\n",
       "      <td>[C, D, E]</td>\n",
       "      <td>0.0</td>\n",
       "      <td>129.298173</td>\n",
       "    </tr>\n",
       "    <tr>\n",
       "      <th>20</th>\n",
       "      <td>Signs that are round, rectangular with white a...</td>\n",
       "      <td>[B]</td>\n",
       "      <td>[C, E]</td>\n",
       "      <td>0.0</td>\n",
       "      <td>129.613804</td>\n",
       "    </tr>\n",
       "    <tr>\n",
       "      <th>21</th>\n",
       "      <td>In case of injuries caused by an accident, the...</td>\n",
       "      <td>[A]</td>\n",
       "      <td>[A, B, C]</td>\n",
       "      <td>0.0</td>\n",
       "      <td>129.796985</td>\n",
       "    </tr>\n",
       "    <tr>\n",
       "      <th>22</th>\n",
       "      <td>It refers to the amount of alcohol in a person...</td>\n",
       "      <td>[A]</td>\n",
       "      <td>[A, B, C, D]</td>\n",
       "      <td>0.0</td>\n",
       "      <td>131.387460</td>\n",
       "    </tr>\n",
       "    <tr>\n",
       "      <th>23</th>\n",
       "      <td>When planning to overtake a slower vehicle in ...</td>\n",
       "      <td>[B]</td>\n",
       "      <td>[A, B, C]</td>\n",
       "      <td>0.0</td>\n",
       "      <td>125.280366</td>\n",
       "    </tr>\n",
       "    <tr>\n",
       "      <th>24</th>\n",
       "      <td>When a driver of PUV refuses to render service...</td>\n",
       "      <td>[A]</td>\n",
       "      <td>[A, B, C]</td>\n",
       "      <td>0.0</td>\n",
       "      <td>159.249768</td>\n",
       "    </tr>\n",
       "    <tr>\n",
       "      <th>25</th>\n",
       "      <td>Which of the following hand signals must a dri...</td>\n",
       "      <td>[C]</td>\n",
       "      <td>[A, B]</td>\n",
       "      <td>0.0</td>\n",
       "      <td>119.877236</td>\n",
       "    </tr>\n",
       "    <tr>\n",
       "      <th>26</th>\n",
       "      <td>You were flagged down due to noisy muffle of y...</td>\n",
       "      <td>[B]</td>\n",
       "      <td>[A, B, C]</td>\n",
       "      <td>0.0</td>\n",
       "      <td>135.110486</td>\n",
       "    </tr>\n",
       "    <tr>\n",
       "      <th>27</th>\n",
       "      <td>When are you permitted to double park?</td>\n",
       "      <td>[A]</td>\n",
       "      <td>[A, D]</td>\n",
       "      <td>0.0</td>\n",
       "      <td>123.822849</td>\n",
       "    </tr>\n",
       "    <tr>\n",
       "      <th>28</th>\n",
       "      <td>A driver ____ park or stop at the side fo the ...</td>\n",
       "      <td>[A]</td>\n",
       "      <td>[A]</td>\n",
       "      <td>1.0</td>\n",
       "      <td>116.902078</td>\n",
       "    </tr>\n",
       "    <tr>\n",
       "      <th>29</th>\n",
       "      <td>Parking lights may be used:</td>\n",
       "      <td>[B]</td>\n",
       "      <td>[A, B, C]</td>\n",
       "      <td>0.0</td>\n",
       "      <td>117.986557</td>\n",
       "    </tr>\n",
       "    <tr>\n",
       "      <th>30</th>\n",
       "      <td>The vehicle is parked if:</td>\n",
       "      <td>[A]</td>\n",
       "      <td>[A, B]</td>\n",
       "      <td>0.0</td>\n",
       "      <td>128.285125</td>\n",
       "    </tr>\n",
       "    <tr>\n",
       "      <th>31</th>\n",
       "      <td>A type of field sobriety test that requires th...</td>\n",
       "      <td>[C]</td>\n",
       "      <td>[C]</td>\n",
       "      <td>1.0</td>\n",
       "      <td>133.580758</td>\n",
       "    </tr>\n",
       "    <tr>\n",
       "      <th>32</th>\n",
       "      <td>It is not a safe place to overtake in an/a:</td>\n",
       "      <td>[A]</td>\n",
       "      <td>[A, B, C]</td>\n",
       "      <td>0.0</td>\n",
       "      <td>132.987043</td>\n",
       "    </tr>\n",
       "    <tr>\n",
       "      <th>33</th>\n",
       "      <td>For drivers of trucks, buses, motorcycles and ...</td>\n",
       "      <td>[B]</td>\n",
       "      <td>[A, B, C]</td>\n",
       "      <td>0.0</td>\n",
       "      <td>114.359389</td>\n",
       "    </tr>\n",
       "    <tr>\n",
       "      <th>34</th>\n",
       "      <td>What is the meaning of a traffic sign that has...</td>\n",
       "      <td>[C]</td>\n",
       "      <td>[A, C, D]</td>\n",
       "      <td>0.0</td>\n",
       "      <td>130.413546</td>\n",
       "    </tr>\n",
       "    <tr>\n",
       "      <th>35</th>\n",
       "      <td>When loading or unloading passengers, we usual...</td>\n",
       "      <td>[A]</td>\n",
       "      <td>[A]</td>\n",
       "      <td>1.0</td>\n",
       "      <td>119.177047</td>\n",
       "    </tr>\n",
       "    <tr>\n",
       "      <th>36</th>\n",
       "      <td>When two vehicles meet on a gradient road wher...</td>\n",
       "      <td>[A]</td>\n",
       "      <td>[A]</td>\n",
       "      <td>1.0</td>\n",
       "      <td>103.537789</td>\n",
       "    </tr>\n",
       "    <tr>\n",
       "      <th>37</th>\n",
       "      <td>When you are parked at the side of the road at...</td>\n",
       "      <td>[A]</td>\n",
       "      <td>[A]</td>\n",
       "      <td>1.0</td>\n",
       "      <td>117.935757</td>\n",
       "    </tr>\n",
       "    <tr>\n",
       "      <th>38</th>\n",
       "      <td>The motor vehicle plate and driver's license m...</td>\n",
       "      <td>[A]</td>\n",
       "      <td>[A, B, C]</td>\n",
       "      <td>0.0</td>\n",
       "      <td>138.794874</td>\n",
       "    </tr>\n",
       "    <tr>\n",
       "      <th>39</th>\n",
       "      <td>When oncoming vehicle (car A) deliberately cro...</td>\n",
       "      <td>[A]</td>\n",
       "      <td>[A, B, C]</td>\n",
       "      <td>0.0</td>\n",
       "      <td>173.567144</td>\n",
       "    </tr>\n",
       "    <tr>\n",
       "      <th>40</th>\n",
       "      <td>At an intrsection with traffic signals, if you...</td>\n",
       "      <td>[A]</td>\n",
       "      <td>[A, B]</td>\n",
       "      <td>0.0</td>\n",
       "      <td>119.780267</td>\n",
       "    </tr>\n",
       "    <tr>\n",
       "      <th>41</th>\n",
       "      <td>The penalty of driving a motor vehicle while u...</td>\n",
       "      <td>[B]</td>\n",
       "      <td>[A, B]</td>\n",
       "      <td>0.0</td>\n",
       "      <td>146.644485</td>\n",
       "    </tr>\n",
       "    <tr>\n",
       "      <th>42</th>\n",
       "      <td>When driving on the highway at night, you shou...</td>\n",
       "      <td>[C]</td>\n",
       "      <td>[A, C, D]</td>\n",
       "      <td>0.0</td>\n",
       "      <td>144.336764</td>\n",
       "    </tr>\n",
       "    <tr>\n",
       "      <th>43</th>\n",
       "      <td>The safest thing to do even if you have the ri...</td>\n",
       "      <td>[A]</td>\n",
       "      <td>[A, B]</td>\n",
       "      <td>0.0</td>\n",
       "      <td>137.440160</td>\n",
       "    </tr>\n",
       "    <tr>\n",
       "      <th>44</th>\n",
       "      <td>It shall mean that the LEO has reasonable grou...</td>\n",
       "      <td>[B]</td>\n",
       "      <td>[A, B, C, E]</td>\n",
       "      <td>0.0</td>\n",
       "      <td>127.708841</td>\n",
       "    </tr>\n",
       "    <tr>\n",
       "      <th>45</th>\n",
       "      <td>You are preparing to exit an expressway, when ...</td>\n",
       "      <td>[B]</td>\n",
       "      <td>[A, B, D]</td>\n",
       "      <td>0.0</td>\n",
       "      <td>161.429515</td>\n",
       "    </tr>\n",
       "    <tr>\n",
       "      <th>46</th>\n",
       "      <td>How close should another car be before you dim...</td>\n",
       "      <td>[A]</td>\n",
       "      <td>[A]</td>\n",
       "      <td>1.0</td>\n",
       "      <td>118.772537</td>\n",
       "    </tr>\n",
       "    <tr>\n",
       "      <th>47</th>\n",
       "      <td>What will happen when your front tire blows out?</td>\n",
       "      <td>[C]</td>\n",
       "      <td>[C]</td>\n",
       "      <td>1.0</td>\n",
       "      <td>137.023975</td>\n",
       "    </tr>\n",
       "    <tr>\n",
       "      <th>48</th>\n",
       "      <td>Parking is considered as a violation when a mo...</td>\n",
       "      <td>[A]</td>\n",
       "      <td>[A, B, C]</td>\n",
       "      <td>0.0</td>\n",
       "      <td>142.268010</td>\n",
       "    </tr>\n",
       "    <tr>\n",
       "      <th>49</th>\n",
       "      <td>To avoid suspension or revocation, how many da...</td>\n",
       "      <td>[A]</td>\n",
       "      <td>[A]</td>\n",
       "      <td>1.0</td>\n",
       "      <td>115.082461</td>\n",
       "    </tr>\n",
       "    <tr>\n",
       "      <th>50</th>\n",
       "      <td>What should you do when an ambulance comes up ...</td>\n",
       "      <td>[D]</td>\n",
       "      <td>[D]</td>\n",
       "      <td>1.0</td>\n",
       "      <td>118.727037</td>\n",
       "    </tr>\n",
       "    <tr>\n",
       "      <th>51</th>\n",
       "      <td>To aobtain one's driver's license, one must be...</td>\n",
       "      <td>[B]</td>\n",
       "      <td>[A, C, D]</td>\n",
       "      <td>0.0</td>\n",
       "      <td>128.952198</td>\n",
       "    </tr>\n",
       "    <tr>\n",
       "      <th>52</th>\n",
       "      <td>Driving with a fake license is prohibited and ...</td>\n",
       "      <td>[C]</td>\n",
       "      <td>[A, B, C, D]</td>\n",
       "      <td>0.0</td>\n",
       "      <td>169.485620</td>\n",
       "    </tr>\n",
       "    <tr>\n",
       "      <th>53</th>\n",
       "      <td>When do you have a complete/full stop</td>\n",
       "      <td>[C]</td>\n",
       "      <td>[A, B, C]</td>\n",
       "      <td>0.0</td>\n",
       "      <td>151.958037</td>\n",
       "    </tr>\n",
       "    <tr>\n",
       "      <th>54</th>\n",
       "      <td>You were apprehended because you were engaged ...</td>\n",
       "      <td>[A]</td>\n",
       "      <td>[A, B, C]</td>\n",
       "      <td>0.0</td>\n",
       "      <td>140.123833</td>\n",
       "    </tr>\n",
       "    <tr>\n",
       "      <th>55</th>\n",
       "      <td>According to the Philippine Clean Air Act of 1...</td>\n",
       "      <td>[C]</td>\n",
       "      <td>[A, C, E]</td>\n",
       "      <td>0.0</td>\n",
       "      <td>174.544251</td>\n",
       "    </tr>\n",
       "    <tr>\n",
       "      <th>56</th>\n",
       "      <td>Keeping one's distance lessens the risk of acc...</td>\n",
       "      <td>[C]</td>\n",
       "      <td>[A]</td>\n",
       "      <td>0.0</td>\n",
       "      <td>118.472020</td>\n",
       "    </tr>\n",
       "    <tr>\n",
       "      <th>57</th>\n",
       "      <td>What is the meaning of a blinking yellow traff...</td>\n",
       "      <td>[B]</td>\n",
       "      <td>[A, B]</td>\n",
       "      <td>0.0</td>\n",
       "      <td>150.627967</td>\n",
       "    </tr>\n",
       "    <tr>\n",
       "      <th>58</th>\n",
       "      <td>What habit will help you prevent getting a fix...</td>\n",
       "      <td>[B]</td>\n",
       "      <td>[B]</td>\n",
       "      <td>1.0</td>\n",
       "      <td>164.119735</td>\n",
       "    </tr>\n",
       "    <tr>\n",
       "      <th>59</th>\n",
       "      <td>You may never park:</td>\n",
       "      <td>[A]</td>\n",
       "      <td>[A, B, C, E]</td>\n",
       "      <td>0.0</td>\n",
       "      <td>151.591957</td>\n",
       "    </tr>\n",
       "  </tbody>\n",
       "</table>\n",
       "</div>"
      ],
      "text/plain": [
       "                                             Question  Answer  \\\n",
       "0   If the driver is turning left, he must: (U-tur...     [C]   \n",
       "1   When a vehicle starts to skid, what should the...     [B]   \n",
       "2   If you are parking uphill without a curb, turn...     [A]   \n",
       "3   When parking downhill, you should turn your fr...     [A]   \n",
       "4   Which of the following is the maximum speed li...     [C]   \n",
       "5   Never park or stop at the side of the road wit...     [C]   \n",
       "6   While driving with maximum speed and you have ...     [C]   \n",
       "7     What will happen when your rear tire blows out?     [B]   \n",
       "8   Operating a public utility vehicle equipped wi...     [A]   \n",
       "9   Your speed while driving at night should keep on:     [A]   \n",
       "10  Before a private motor vehicle owner can apply...     [C]   \n",
       "11  What is the meaning of a traffic sign that has...     [A]   \n",
       "12  It is not conidered safe driving on an express...     [C]   \n",
       "13         What is considered as a parking violation?     [C]   \n",
       "14                Night driving is dangerous because:     [C]   \n",
       "15         A pre-trip inspection should be completed:     [C]   \n",
       "16  While driving the hood of your car lifts up bl...  [A, C]   \n",
       "17  Graft and corruption in the traffic enforcemen...     [C]   \n",
       "18  While driving with a maximum speed and you hav...     [A]   \n",
       "19  When a vehicle is stalled or disabled, the dri...     [C]   \n",
       "20  Signs that are round, rectangular with white a...     [B]   \n",
       "21  In case of injuries caused by an accident, the...     [A]   \n",
       "22  It refers to the amount of alcohol in a person...     [A]   \n",
       "23  When planning to overtake a slower vehicle in ...     [B]   \n",
       "24  When a driver of PUV refuses to render service...     [A]   \n",
       "25  Which of the following hand signals must a dri...     [C]   \n",
       "26  You were flagged down due to noisy muffle of y...     [B]   \n",
       "27             When are you permitted to double park?     [A]   \n",
       "28  A driver ____ park or stop at the side fo the ...     [A]   \n",
       "29                        Parking lights may be used:     [B]   \n",
       "30                          The vehicle is parked if:     [A]   \n",
       "31  A type of field sobriety test that requires th...     [C]   \n",
       "32        It is not a safe place to overtake in an/a:     [A]   \n",
       "33  For drivers of trucks, buses, motorcycles and ...     [B]   \n",
       "34  What is the meaning of a traffic sign that has...     [C]   \n",
       "35  When loading or unloading passengers, we usual...     [A]   \n",
       "36  When two vehicles meet on a gradient road wher...     [A]   \n",
       "37  When you are parked at the side of the road at...     [A]   \n",
       "38  The motor vehicle plate and driver's license m...     [A]   \n",
       "39  When oncoming vehicle (car A) deliberately cro...     [A]   \n",
       "40  At an intrsection with traffic signals, if you...     [A]   \n",
       "41  The penalty of driving a motor vehicle while u...     [B]   \n",
       "42  When driving on the highway at night, you shou...     [C]   \n",
       "43  The safest thing to do even if you have the ri...     [A]   \n",
       "44  It shall mean that the LEO has reasonable grou...     [B]   \n",
       "45  You are preparing to exit an expressway, when ...     [B]   \n",
       "46  How close should another car be before you dim...     [A]   \n",
       "47   What will happen when your front tire blows out?     [C]   \n",
       "48  Parking is considered as a violation when a mo...     [A]   \n",
       "49  To avoid suspension or revocation, how many da...     [A]   \n",
       "50  What should you do when an ambulance comes up ...     [D]   \n",
       "51  To aobtain one's driver's license, one must be...     [B]   \n",
       "52  Driving with a fake license is prohibited and ...     [C]   \n",
       "53              When do you have a complete/full stop     [C]   \n",
       "54  You were apprehended because you were engaged ...     [A]   \n",
       "55  According to the Philippine Clean Air Act of 1...     [C]   \n",
       "56  Keeping one's distance lessens the risk of acc...     [C]   \n",
       "57  What is the meaning of a blinking yellow traff...     [B]   \n",
       "58  What habit will help you prevent getting a fix...     [B]   \n",
       "59                                You may never park:     [A]   \n",
       "\n",
       "                 AI  Score  Inference_times  \n",
       "0         [A, B, C]    0.0       121.788177  \n",
       "1         [A, B, C]    0.0       167.223632  \n",
       "2         [A, B, C]    0.0       126.676048  \n",
       "3               [A]    1.0       114.733462  \n",
       "4            [A, B]    0.0       149.391973  \n",
       "5            [A, B]    0.0       112.751427  \n",
       "6         [A, B, C]    0.0       153.455341  \n",
       "7               [A]    0.0       178.702681  \n",
       "8         [A, B, C]    0.0       130.630817  \n",
       "9            [A, B]    0.0       153.482348  \n",
       "10  [A, B, C, D, E]    0.0       124.647571  \n",
       "11        [A, B, C]    0.0       133.948460  \n",
       "12        [A, B, C]    0.0       131.092562  \n",
       "13        [A, B, C]    0.0       135.198854  \n",
       "14              [C]    1.0       127.615004  \n",
       "15           [A, C]    0.0       137.951059  \n",
       "16  [A, B, C, D, E]    0.0       185.413213  \n",
       "17        [B, C, E]    0.0       162.987003  \n",
       "18              [A]    1.0       148.780231  \n",
       "19        [C, D, E]    0.0       129.298173  \n",
       "20           [C, E]    0.0       129.613804  \n",
       "21        [A, B, C]    0.0       129.796985  \n",
       "22     [A, B, C, D]    0.0       131.387460  \n",
       "23        [A, B, C]    0.0       125.280366  \n",
       "24        [A, B, C]    0.0       159.249768  \n",
       "25           [A, B]    0.0       119.877236  \n",
       "26        [A, B, C]    0.0       135.110486  \n",
       "27           [A, D]    0.0       123.822849  \n",
       "28              [A]    1.0       116.902078  \n",
       "29        [A, B, C]    0.0       117.986557  \n",
       "30           [A, B]    0.0       128.285125  \n",
       "31              [C]    1.0       133.580758  \n",
       "32        [A, B, C]    0.0       132.987043  \n",
       "33        [A, B, C]    0.0       114.359389  \n",
       "34        [A, C, D]    0.0       130.413546  \n",
       "35              [A]    1.0       119.177047  \n",
       "36              [A]    1.0       103.537789  \n",
       "37              [A]    1.0       117.935757  \n",
       "38        [A, B, C]    0.0       138.794874  \n",
       "39        [A, B, C]    0.0       173.567144  \n",
       "40           [A, B]    0.0       119.780267  \n",
       "41           [A, B]    0.0       146.644485  \n",
       "42        [A, C, D]    0.0       144.336764  \n",
       "43           [A, B]    0.0       137.440160  \n",
       "44     [A, B, C, E]    0.0       127.708841  \n",
       "45        [A, B, D]    0.0       161.429515  \n",
       "46              [A]    1.0       118.772537  \n",
       "47              [C]    1.0       137.023975  \n",
       "48        [A, B, C]    0.0       142.268010  \n",
       "49              [A]    1.0       115.082461  \n",
       "50              [D]    1.0       118.727037  \n",
       "51        [A, C, D]    0.0       128.952198  \n",
       "52     [A, B, C, D]    0.0       169.485620  \n",
       "53        [A, B, C]    0.0       151.958037  \n",
       "54        [A, B, C]    0.0       140.123833  \n",
       "55        [A, C, E]    0.0       174.544251  \n",
       "56              [A]    0.0       118.472020  \n",
       "57           [A, B]    0.0       150.627967  \n",
       "58              [B]    1.0       164.119735  \n",
       "59     [A, B, C, E]    0.0       151.591957  "
      ]
     },
     "metadata": {},
     "output_type": "display_data"
    }
   ],
   "source": [
    "import re\n",
    "\n",
    "\n",
    "def process_answers(answers):\n",
    "    formatted_answers = []\n",
    "    \n",
    "    for a in answers:\n",
    "        \n",
    "        matches = re.findall(r'\\[?\\s*([A-E](?:\\s*,\\s*[A-E])*)\\s*\\]?', str(a)) # Extract answers like [A, C, D] or [A] or [B, D]\n",
    "        answers = []\n",
    "        for match in matches:\n",
    "            answers.extend(re.split(r'\\s*,\\s*', match))  # Split by comma and remove spaces\n",
    "        unique_sorted_answers = sorted(set(answers), key=lambda x: ['A', 'B', 'C', 'D', 'E'].index(x))\n",
    "        if not unique_sorted_answers:\n",
    "            formatted_answers.append(None)\n",
    "        else:\n",
    "            formatted_answers.append(unique_sorted_answers)\n",
    "    return formatted_answers\n",
    "\n",
    "df_results = df[[\"Question\", \"Answer\", \"AI\", \"Inference_times\"]].copy()\n",
    "df_results['Answer'] = df_results['Answer'].apply(lambda x: x.split(', '))\n",
    "df_results['AI'] = process_answers(df_results[\"AI\"])\n",
    "df_results['Answer'] = process_answers(df_results[\"Answer\"])\n",
    "\n",
    "\n",
    "\n",
    "def calculate_scores(df):\n",
    "    scores = []\n",
    "    for index, row in df.iterrows():\n",
    "        correct_answers = set(row['Answer'] if row['Answer'] is not None else [])\n",
    "        ai_answers = set(row['AI'] if row['AI'] is not None else [])\n",
    "        if ai_answers == correct_answers:\n",
    "            score = 1.0\n",
    "        else:\n",
    "            score = 0.0\n",
    "        scores.append(score)\n",
    "    \n",
    "    df['Score'] = scores\n",
    "    accuracy = scores.count(1.0) / len(scores)\n",
    "    print(f'Final Score: {scores.count(1.0):.2f}/{len(scores):.2f}')\n",
    "    print(f'Accuracy: {accuracy:.2f}%')\n",
    "    return df\n",
    "\n",
    "# Apply the scoring function\n",
    "scored_df = calculate_scores(df_results)\n",
    "\n",
    "# Display the dataframe to verify the results\n",
    "display(scored_df[['Question', 'Answer', 'AI', 'Score', 'Inference_times']])"
   ]
  },
  {
   "cell_type": "code",
   "execution_count": null,
   "id": "f4361694",
   "metadata": {},
   "outputs": [],
   "source": [
    "# Generate prompts dynamically\n",
    "def generate_prompt(row):\n",
    "    \n",
    "    # Construct the prompt with few-shot examples\n",
    "    prompt = f\"\\nActual Question: {row['Question']}\\n\" \n",
    "    prompt += \"\\nPlease answer the question based on the given context.\"\n",
    "    \n",
    "    return prompt"
   ]
  },
  {
   "cell_type": "code",
   "execution_count": null,
   "id": "5a2bd9c1",
   "metadata": {},
   "outputs": [
    {
     "data": {
      "text/html": [
       "<div>\n",
       "<style scoped>\n",
       "    .dataframe tbody tr th:only-of-type {\n",
       "        vertical-align: middle;\n",
       "    }\n",
       "\n",
       "    .dataframe tbody tr th {\n",
       "        vertical-align: top;\n",
       "    }\n",
       "\n",
       "    .dataframe thead th {\n",
       "        text-align: right;\n",
       "    }\n",
       "</style>\n",
       "<table border=\"1\" class=\"dataframe\">\n",
       "  <thead>\n",
       "    <tr style=\"text-align: right;\">\n",
       "      <th></th>\n",
       "      <th>Question</th>\n",
       "      <th>Answer</th>\n",
       "      <th>Prompt</th>\n",
       "    </tr>\n",
       "  </thead>\n",
       "  <tbody>\n",
       "    <tr>\n",
       "      <th>0</th>\n",
       "      <td>Traffic Jam can be prevented if you</td>\n",
       "      <td>Keep opposing lanes open</td>\n",
       "      <td>\\nActual Question: Traffic Jam can be prevente...</td>\n",
       "    </tr>\n",
       "    <tr>\n",
       "      <th>1</th>\n",
       "      <td>When making a right turn you should</td>\n",
       "      <td>Stay on the outermost lane of the road then si...</td>\n",
       "      <td>\\nActual Question: When making a right turn yo...</td>\n",
       "    </tr>\n",
       "    <tr>\n",
       "      <th>2</th>\n",
       "      <td>When you intend to turn right or left, signal ...</td>\n",
       "      <td>25 meters before you intend to make your turn</td>\n",
       "      <td>\\nActual Question: When you intend to turn rig...</td>\n",
       "    </tr>\n",
       "    <tr>\n",
       "      <th>3</th>\n",
       "      <td>At an intersection with a traffic light, make ...</td>\n",
       "      <td>The green light is on and there is a left turn...</td>\n",
       "      <td>\\nActual Question: At an intersection with a t...</td>\n",
       "    </tr>\n",
       "    <tr>\n",
       "      <th>4</th>\n",
       "      <td>Graft and corruption in the traffic enforcemen...</td>\n",
       "      <td>Self disciplined by drivers and obeying traffi...</td>\n",
       "      <td>\\nActual Question: Graft and corruption in the...</td>\n",
       "    </tr>\n",
       "  </tbody>\n",
       "</table>\n",
       "</div>"
      ],
      "text/plain": [
       "                                            Question  \\\n",
       "0                Traffic Jam can be prevented if you   \n",
       "1                When making a right turn you should   \n",
       "2  When you intend to turn right or left, signal ...   \n",
       "3  At an intersection with a traffic light, make ...   \n",
       "4  Graft and corruption in the traffic enforcemen...   \n",
       "\n",
       "                                              Answer  \\\n",
       "0                           Keep opposing lanes open   \n",
       "1  Stay on the outermost lane of the road then si...   \n",
       "2      25 meters before you intend to make your turn   \n",
       "3  The green light is on and there is a left turn...   \n",
       "4  Self disciplined by drivers and obeying traffi...   \n",
       "\n",
       "                                              Prompt  \n",
       "0  \\nActual Question: Traffic Jam can be prevente...  \n",
       "1  \\nActual Question: When making a right turn yo...  \n",
       "2  \\nActual Question: When you intend to turn rig...  \n",
       "3  \\nActual Question: At an intersection with a t...  \n",
       "4  \\nActual Question: Graft and corruption in the...  "
      ]
     },
     "metadata": {},
     "output_type": "display_data"
    }
   ],
   "source": [
    "# Load the Excel file\n",
    "file_path = '/home/jeryl4913/lto_rag_reviewer/notebooks/eval/LTO_EXAM_QnA.csv'\n",
    "df = pd.read_csv(file_path, encoding='ISO-8859-1')\n",
    "df['Prompt'] = df.apply(generate_prompt, axis=1)\n",
    "display(df.head())"
   ]
  },
  {
   "cell_type": "code",
   "execution_count": null,
   "id": "7db02242",
   "metadata": {},
   "outputs": [],
   "source": [
    "def generate_response_with_notice(summaries, query, client, model=\"llama3.3\"):\n",
    "    # Combine summaries into context block\n",
    "    context = \"\\n\".join(summaries)\n",
    "    \n",
    "    # Create prompt to answer based on summarized text\n",
    "    prompt = f\"\"\"\n",
    "    Use the following summarized information to answer the query accurately and concisely. \n",
    "    DO NOT USE BACKGROUND KNOWLEDGE OUTSIDE THE CONTEXT PROVIDED.\n",
    "    If the information is not sufficient to fully address the query, respond ONLY with:\n",
    "    \"The available information is insufficient to provide a complete answer to this query.\"\n",
    "\n",
    "    Summarized Context:\n",
    "    {context}\n",
    "    \n",
    "    Query:\n",
    "    {query}\n",
    "    \n",
    "    Response:\n",
    "    \"\"\"\n",
    "    \n",
    "    # Send the prompt to Ollama\n",
    "    response = client.generate(\n",
    "        model=model,\n",
    "        prompt=prompt\n",
    "    )\n",
    "    \n",
    "    return response['response'].strip()"
   ]
  },
  {
   "cell_type": "code",
   "execution_count": null,
   "id": "7046053b",
   "metadata": {},
   "outputs": [],
   "source": [
    "def gen_query(query, top_k, client, mode='dense', summary=False, model=\"llama3.3\", chunks_only=True):\n",
    "    hyde_query_engine = TransformQueryEngine(query_engine, hyde)\n",
    "    response_hyde = hyde_query_engine.query(query)\n",
    "    post_processed_response = f\"\"\"\n",
    "    Query: {query}\n",
    "    Additional Query: {response_hyde.response}\n",
    "    \"\"\"\n",
    "    display(Markdown(f\"<b>{post_processed_response}</b>\"))\n",
    "    response = client.embeddings(prompt=post_processed_response, model=\"mxbai-embed-large\")\n",
    "    query_embedding = response[\"embedding\"]\n",
    "\n",
    "    top_k_docs = faiss_retriever._retrieve(query_embedding, top_k=top_k)\n",
    "\n",
    "    bm25_retriever = BM25Retriever.from_defaults(\n",
    "    nodes=nodes,\n",
    "    similarity_top_k=top_k,\n",
    "    stemmer=Stemmer.Stemmer(\"english\"),\n",
    "    language=\"english\",\n",
    "    )\n",
    "    retrieved_nodes = bm25_retriever.retrieve(query)\n",
    "\n",
    "    results = {'faiss': top_k_docs, 'bm25':retrieved_nodes}\n",
    "    ranked_results = hybrid_embedding(results, top_k=top_k)\n",
    "\n",
    "    if mode == 'dense':\n",
    "        print('using FAISS')\n",
    "        ans_nodes =top_k_docs\n",
    "    elif mode == 'sparse':\n",
    "        print('using BM25')\n",
    "        ans_nodes = retrieved_nodes\n",
    "    else:\n",
    "        print('using Hybrid')\n",
    "        ans_nodes = ranked_results\n",
    "\n",
    "    parent_flag = True\n",
    "    context = set([get_document_by_chunk_metadata(docs).text for docs in ans_nodes])\n",
    "    if chunks_only:\n",
    "        parent_flag = False\n",
    "        print('using chunks only')\n",
    "        context = [docs.node.text for docs in ans_nodes]\n",
    "        \n",
    "    if summary:\n",
    "        print('using summaries')\n",
    "        context_nodes = remove_duplicate_documents([get_document_by_chunk_metadata(docs) for docs in ans_nodes])\n",
    "\n",
    "        if chunks_only:\n",
    "            context_nodes=ans_nodes\n",
    "        summaries = summarize_each_chunk(context_nodes, client, model='llama3.3', query=query,parent=parent_flag)\n",
    "        context = summaries\n",
    "\n",
    "    answer = generate_response_with_notice(context, query, client, model=model)\n",
    "\n",
    "    # Format the references\n",
    "    references = []\n",
    "    for i, doc in enumerate(ranked_results[:top_k], start=1):\n",
    "        metadata = doc.metadata\n",
    "        source_info = f\"Source {i}: {metadata['title']} (Page {metadata['page']}, Folder: {metadata['folder']})\"\n",
    "        references.append(source_info)\n",
    "\n",
    "    return answer, \"\\n\".join(references), context"
   ]
  },
  {
   "cell_type": "code",
   "execution_count": null,
   "id": "274bd341",
   "metadata": {},
   "outputs": [
    {
     "name": "stderr",
     "output_type": "stream",
     "text": [
      "  0%|          | 0/60 [00:00<?, ?it/s]"
     ]
    },
    {
     "data": {
      "text/markdown": [
       "<b>\n",
       "    Query: \n",
       "Actual Question: Traffic Jam can be prevented if you\n",
       "\n",
       "Please answer the question based on the given context.\n",
       "    Additional Query: drive safely and follow defensive driving techniques, such as maintaining a safe following distance, signaling your intentions, stopping smoothly, and obeying right-of-way rules, which can help reduce the risk of collisions and contribute to a smoother traffic flow.\n",
       "    </b>"
      ],
      "text/plain": [
       "<IPython.core.display.Markdown object>"
      ]
     },
     "metadata": {},
     "output_type": "display_data"
    },
    {
     "name": "stdout",
     "output_type": "stream",
     "text": [
      "using FAISS\n",
      "using chunks only\n"
     ]
    },
    {
     "name": "stderr",
     "output_type": "stream",
     "text": [
      "  2%|▏         | 1/60 [02:47<2:45:04, 167.88s/it]"
     ]
    },
    {
     "data": {
      "text/markdown": [
       "<b>\n",
       "    Query: \n",
       "Actual Question: When making a right turn you should\n",
       "\n",
       "Please answer the question based on the given context.\n",
       "    Additional Query: When making a right turn, you should position your vehicle close to the curb or edge of the road, signal early, check for oncoming traffic and pedestrians, yield to others as necessary, maintain a safe speed, avoid cutting corners, and follow traffic signals and signs. Additionally, use your mirrors and check blind spots to ensure no vehicles or cyclists are in your path.\n",
       "    </b>"
      ],
      "text/plain": [
       "<IPython.core.display.Markdown object>"
      ]
     },
     "metadata": {},
     "output_type": "display_data"
    },
    {
     "name": "stdout",
     "output_type": "stream",
     "text": [
      "using FAISS\n",
      "using chunks only\n"
     ]
    },
    {
     "name": "stderr",
     "output_type": "stream",
     "text": [
      "  3%|▎         | 2/60 [05:23<2:35:12, 160.56s/it]"
     ]
    },
    {
     "data": {
      "text/markdown": [
       "<b>\n",
       "    Query: \n",
       "Actual Question: When you intend to turn right or left, signal your intention at least\n",
       "\n",
       "Please answer the question based on the given context.\n",
       "    Additional Query: 30 meters before the turn.\n",
       "    </b>"
      ],
      "text/plain": [
       "<IPython.core.display.Markdown object>"
      ]
     },
     "metadata": {},
     "output_type": "display_data"
    },
    {
     "name": "stdout",
     "output_type": "stream",
     "text": [
      "using FAISS\n",
      "using chunks only\n"
     ]
    },
    {
     "name": "stderr",
     "output_type": "stream",
     "text": [
      "  5%|▌         | 3/60 [07:11<2:09:38, 136.47s/it]"
     ]
    },
    {
     "data": {
      "text/markdown": [
       "<b>\n",
       "    Query: \n",
       "Actual Question: At an intersection with a traffic light, make left turn only when\n",
       "\n",
       "Please answer the question based on the given context.\n",
       "    Additional Query: it's safe and the traffic light or intersection rules permit.\n",
       "    </b>"
      ],
      "text/plain": [
       "<IPython.core.display.Markdown object>"
      ]
     },
     "metadata": {},
     "output_type": "display_data"
    },
    {
     "name": "stdout",
     "output_type": "stream",
     "text": [
      "using FAISS\n",
      "using chunks only\n"
     ]
    },
    {
     "name": "stderr",
     "output_type": "stream",
     "text": [
      "  7%|▋         | 4/60 [09:03<1:58:39, 127.13s/it]"
     ]
    },
    {
     "data": {
      "text/markdown": [
       "<b>\n",
       "    Query: \n",
       "Actual Question: Graft and corruption in the traffic enforcement system can be eliminated by\n",
       "\n",
       "Please answer the question based on the given context.\n",
       "    Additional Query: Graft and corruption in the traffic enforcement system can be eliminated by strictly enforcing existing traffic laws and regulations, and by motorists following road safety rules at all times and refraining from offering bribes to traffic enforcers. Additionally, law enforcers should remain committed to their duties without condoning any form of corruption within their ranks.\n",
       "    </b>"
      ],
      "text/plain": [
       "<IPython.core.display.Markdown object>"
      ]
     },
     "metadata": {},
     "output_type": "display_data"
    },
    {
     "name": "stdout",
     "output_type": "stream",
     "text": [
      "using FAISS\n",
      "using chunks only\n"
     ]
    },
    {
     "name": "stderr",
     "output_type": "stream",
     "text": [
      "  8%|▊         | 5/60 [11:55<2:11:12, 143.13s/it]"
     ]
    },
    {
     "data": {
      "text/markdown": [
       "<b>\n",
       "    Query: \n",
       "Actual Question: On a four(4) lane road with single white line, you can\n",
       "\n",
       "Please answer the question based on the given context.\n",
       "    Additional Query: overtake when it is safe and legal to do so, such as when there is clear visibility ahead and no oncoming traffic is present.\n",
       "    </b>"
      ],
      "text/plain": [
       "<IPython.core.display.Markdown object>"
      ]
     },
     "metadata": {},
     "output_type": "display_data"
    },
    {
     "name": "stdout",
     "output_type": "stream",
     "text": [
      "using FAISS\n",
      "using chunks only\n"
     ]
    },
    {
     "name": "stderr",
     "output_type": "stream",
     "text": [
      " 10%|█         | 6/60 [13:55<2:01:49, 135.37s/it]"
     ]
    },
    {
     "data": {
      "text/markdown": [
       "<b>\n",
       "    Query: \n",
       "Actual Question: A double solid yellow line with broken white line in between means\n",
       "\n",
       "Please answer the question based on the given context.\n",
       "    Additional Query: A double solid yellow line signifies an absolute prohibition on passing or crossing the line at any point, indicating a no-passing zone and prohibiting drivers from overtaking vehicles or crossing into oncoming traffic. However, when there's a broken white line in between, it allows overtaking from one side indicated by the broken line while restricting overtaking from the other side with the solid line.\n",
       "    </b>"
      ],
      "text/plain": [
       "<IPython.core.display.Markdown object>"
      ]
     },
     "metadata": {},
     "output_type": "display_data"
    },
    {
     "name": "stdout",
     "output_type": "stream",
     "text": [
      "using FAISS\n",
      "using chunks only\n"
     ]
    },
    {
     "name": "stderr",
     "output_type": "stream",
     "text": [
      " 12%|█▏        | 7/60 [15:59<1:56:17, 131.64s/it]"
     ]
    },
    {
     "data": {
      "text/markdown": [
       "<b>\n",
       "    Query: \n",
       "Actual Question: When making a U-Turn, you should\n",
       "\n",
       "Please answer the question based on the given context.\n",
       "    Additional Query: When making a U-turn, you should position your vehicle correctly to provide ample space and visibility for the maneuver, signal your intention to make a U-turn, check for traffic coming from both directions, and exercise patience while being vigilant for pedestrians and cyclists. Additionally, you should choose the right spot, avoiding areas where U-turns are prohibited, and maintain your lane after completing the turn. It's also essential to stay focused on the road, anticipate the actions of other drivers, and respect any signage or markings that prohibit U-turns in specific areas.\n",
       "    </b>"
      ],
      "text/plain": [
       "<IPython.core.display.Markdown object>"
      ]
     },
     "metadata": {},
     "output_type": "display_data"
    },
    {
     "name": "stdout",
     "output_type": "stream",
     "text": [
      "using FAISS\n",
      "using chunks only\n"
     ]
    },
    {
     "name": "stderr",
     "output_type": "stream",
     "text": [
      " 13%|█▎        | 8/60 [18:18<1:56:08, 134.01s/it]"
     ]
    },
    {
     "data": {
      "text/markdown": [
       "<b>\n",
       "    Query: \n",
       "Actual Question: Signs that are triangular in shape and with a red colored border are called\n",
       "\n",
       "Please answer the question based on the given context.\n",
       "    Additional Query: The provided context does not mention signs that are triangular in shape with a red-colored border. However, it discusses various types of road and traffic signs, including hazard markers and chevron signs, but does not provide information about triangular signs with a red border.\n",
       "    </b>"
      ],
      "text/plain": [
       "<IPython.core.display.Markdown object>"
      ]
     },
     "metadata": {},
     "output_type": "display_data"
    },
    {
     "name": "stdout",
     "output_type": "stream",
     "text": [
      "using FAISS\n",
      "using chunks only\n"
     ]
    },
    {
     "name": "stderr",
     "output_type": "stream",
     "text": [
      " 15%|█▌        | 9/60 [19:30<1:37:25, 114.61s/it]"
     ]
    },
    {
     "data": {
      "text/markdown": [
       "<b>\n",
       "    Query: \n",
       "Actual Question: Signs that are round, inverted triangle or octagonal and with red colored boarders are called\n",
       "\n",
       "Please answer the question based on the given context.\n",
       "    Additional Query: Advance Warning/Traffic Control Device Signs, however the actual name of these signs is not explicitly stated in the provided context. But it can be inferred that these shapes and colors might be related to warning or traffic control signs.\n",
       "    </b>"
      ],
      "text/plain": [
       "<IPython.core.display.Markdown object>"
      ]
     },
     "metadata": {},
     "output_type": "display_data"
    },
    {
     "name": "stdout",
     "output_type": "stream",
     "text": [
      "using FAISS\n",
      "using chunks only\n"
     ]
    },
    {
     "name": "stderr",
     "output_type": "stream",
     "text": [
      " 17%|█▋        | 10/60 [20:53<1:27:19, 104.79s/it]"
     ]
    },
    {
     "data": {
      "text/markdown": [
       "<b>\n",
       "    Query: \n",
       "Actual Question: Signs that are round, rectangular with white and blue background are called\n",
       "\n",
       "Please answer the question based on the given context.\n",
       "    Additional Query: There is no information provided about signs being round or rectangular with a white and blue background. The text only discusses road and traffic rules, types of road curves, intersections, and markings such as transition lines and give way lines, but does not describe specific sign shapes or colors.\n",
       "    </b>"
      ],
      "text/plain": [
       "<IPython.core.display.Markdown object>"
      ]
     },
     "metadata": {},
     "output_type": "display_data"
    },
    {
     "name": "stdout",
     "output_type": "stream",
     "text": [
      "using FAISS\n",
      "using chunks only\n"
     ]
    },
    {
     "name": "stderr",
     "output_type": "stream",
     "text": [
      " 18%|█▊        | 11/60 [22:10<1:18:36, 96.26s/it] "
     ]
    },
    {
     "data": {
      "text/markdown": [
       "<b>\n",
       "    Query: \n",
       "Actual Question: Single with broken line on a two-lane road means\n",
       "\n",
       "Please answer the question based on the given context.\n",
       "    Additional Query: Single solid yellow lines with a broken line on a two-lane road permit passing with caution when safe and legal.\n",
       "    </b>"
      ],
      "text/plain": [
       "<IPython.core.display.Markdown object>"
      ]
     },
     "metadata": {},
     "output_type": "display_data"
    },
    {
     "name": "stdout",
     "output_type": "stream",
     "text": [
      "using FAISS\n",
      "using chunks only\n"
     ]
    },
    {
     "name": "stderr",
     "output_type": "stream",
     "text": [
      " 20%|██        | 12/60 [23:27<1:12:19, 90.41s/it]"
     ]
    },
    {
     "data": {
      "text/markdown": [
       "<b>\n",
       "    Query: \n",
       "Actual Question: What to do when you approach a crosswalk or pedestrian lane?\n",
       "\n",
       "Please answer the question based on the given context.\n",
       "    Additional Query: When approaching a crosswalk or pedestrian lane, you should yield to pedestrians. It is your responsibility to ensure their safety by allowing them to cross before you proceed. Additionally, be aware of other vehicles and watch out for pedestrians who may be crossing the road. Always slow down and observe your surroundings carefully when approaching an intersection or crosswalk.\n",
       "    </b>"
      ],
      "text/plain": [
       "<IPython.core.display.Markdown object>"
      ]
     },
     "metadata": {},
     "output_type": "display_data"
    },
    {
     "name": "stdout",
     "output_type": "stream",
     "text": [
      "using FAISS\n",
      "using chunks only\n"
     ]
    },
    {
     "name": "stderr",
     "output_type": "stream",
     "text": [
      " 22%|██▏       | 13/60 [24:54<1:10:06, 89.50s/it]"
     ]
    },
    {
     "data": {
      "text/markdown": [
       "<b>\n",
       "    Query: \n",
       "Actual Question: Driving an unregistered motor vehicle is a violation with a fine of\n",
       "\n",
       "Please answer the question based on the given context.\n",
       "    Additional Query: Php 10,000.00\n",
       "    </b>"
      ],
      "text/plain": [
       "<IPython.core.display.Markdown object>"
      ]
     },
     "metadata": {},
     "output_type": "display_data"
    },
    {
     "name": "stdout",
     "output_type": "stream",
     "text": [
      "using FAISS\n",
      "using chunks only\n"
     ]
    },
    {
     "name": "stderr",
     "output_type": "stream",
     "text": [
      " 23%|██▎       | 14/60 [25:54<1:01:42, 80.48s/it]"
     ]
    },
    {
     "data": {
      "text/markdown": [
       "<b>\n",
       "    Query: \n",
       "Actual Question: Considered a parking violation?\n",
       "\n",
       "Please answer the question based on the given context.\n",
       "    Additional Query: Blocking a driveway, parking on sidewalks, parking in residential areas without permission, parking at or inside an intersection, parking near pedestrian crossings, double parking, parking near footbridges, parking along major national roads, and parking too close to fire hydrants or fire station entrances are all considered parking violations. Additionally, attended illegal parking, obstruction, unattended illegal parking, and other forms of unauthorized parking can also be considered as such.\n",
       "    </b>"
      ],
      "text/plain": [
       "<IPython.core.display.Markdown object>"
      ]
     },
     "metadata": {},
     "output_type": "display_data"
    },
    {
     "name": "stdout",
     "output_type": "stream",
     "text": [
      "using FAISS\n",
      "using chunks only\n"
     ]
    },
    {
     "name": "stderr",
     "output_type": "stream",
     "text": [
      " 25%|██▌       | 15/60 [27:02<57:35, 76.78s/it]  "
     ]
    },
    {
     "data": {
      "text/markdown": [
       "<b>\n",
       "    Query: \n",
       "Actual Question: Green light at an intersection means\n",
       "\n",
       "Please answer the question based on the given context.\n",
       "    Additional Query: Green light indicates permission to proceed, yet drivers must exercise caution, particularly concerning pedestrian safety and when navigating turns or intersections. While the green signal grants the right of way, drivers are expected to remain vigilant and prioritize the safety of pedestrians and cyclists crossing the intersection.\n",
       "    </b>"
      ],
      "text/plain": [
       "<IPython.core.display.Markdown object>"
      ]
     },
     "metadata": {},
     "output_type": "display_data"
    },
    {
     "name": "stdout",
     "output_type": "stream",
     "text": [
      "using FAISS\n",
      "using chunks only\n"
     ]
    },
    {
     "name": "stderr",
     "output_type": "stream",
     "text": [
      " 27%|██▋       | 16/60 [28:17<55:51, 76.17s/it]"
     ]
    },
    {
     "data": {
      "text/markdown": [
       "<b>\n",
       "    Query: \n",
       "Actual Question: Steady red light at an intersection means\n",
       "\n",
       "Please answer the question based on the given context.\n",
       "    Additional Query: The steady red traffic light signifies more than just stopping; it mandates drivers to come to a full halt, ensuring the safety of pedestrians crossing the street. While it’s imperative to obey the signal, drivers may still be permitted to turn, contingent upon the absence of pedestrian and vehicle traffic and any specific signage indicating restrictions. Thus, while red denotes a mandatory stop, it also entails a cautious evaluation of the intersection’s conditions before proceeding.\n",
       "    </b>"
      ],
      "text/plain": [
       "<IPython.core.display.Markdown object>"
      ]
     },
     "metadata": {},
     "output_type": "display_data"
    },
    {
     "name": "stdout",
     "output_type": "stream",
     "text": [
      "using FAISS\n",
      "using chunks only\n"
     ]
    },
    {
     "name": "stderr",
     "output_type": "stream",
     "text": [
      " 28%|██▊       | 17/60 [29:36<55:08, 76.94s/it]"
     ]
    },
    {
     "data": {
      "text/markdown": [
       "<b>\n",
       "    Query: \n",
       "Actual Question: The penalty of driving a motor vehicle while under the influence of alcohol for the first offense\n",
       "\n",
       "Please answer the question based on the given context.\n",
       "    Additional Query: For Non-Professional Driver's License (NPDL) holders, the penalty is confiscation and suspension of the license for a period of twelve months upon final conviction by a regular court. For Professional Driver's License (PDL) holders, the penalty is cancellation of the license upon the commission of the first offense. Additionally, fines ranging from P50,000 to P100,000 with a minimum 6-month jail term may be imposed for driving under the influence of alcohol with no homicide or physical injury.\n",
       "    </b>"
      ],
      "text/plain": [
       "<IPython.core.display.Markdown object>"
      ]
     },
     "metadata": {},
     "output_type": "display_data"
    },
    {
     "name": "stdout",
     "output_type": "stream",
     "text": [
      "using FAISS\n",
      "using chunks only\n"
     ]
    },
    {
     "name": "stderr",
     "output_type": "stream",
     "text": [
      " 30%|███       | 18/60 [31:07<56:55, 81.33s/it]"
     ]
    },
    {
     "data": {
      "text/markdown": [
       "<b>\n",
       "    Query: \n",
       "Actual Question: When a driver of PUV refuses to render service, convey passengers, such violation is penalized with\n",
       "\n",
       "Please answer the question based on the given context.\n",
       "    Additional Query: Fine: Php 5,000.00 (first offense), Php 10,000.00 (second offense), Php 15,000.00 (third and subsequent offense) \n",
       "Penalty: Cancellation of CPC where the unit is authorized (third and subsequent offense)\n",
       "    </b>"
      ],
      "text/plain": [
       "<IPython.core.display.Markdown object>"
      ]
     },
     "metadata": {},
     "output_type": "display_data"
    },
    {
     "name": "stdout",
     "output_type": "stream",
     "text": [
      "using FAISS\n",
      "using chunks only\n"
     ]
    },
    {
     "name": "stderr",
     "output_type": "stream",
     "text": [
      " 32%|███▏      | 19/60 [32:12<52:16, 76.49s/it]"
     ]
    },
    {
     "data": {
      "text/markdown": [
       "<b>\n",
       "    Query: \n",
       "Actual Question: If the driver is using a motor vehicle in committing a crime and is convicted, his driver's license shall be\n",
       "\n",
       "Please answer the question based on the given context.\n",
       "    Additional Query: revoked. Additionally, the subject vehicle will be impounded, the violator penalized with P10,000.00, and the driver will be disqualified to apply for another driver's license for a period of five years, reckoned from the date of payment of penalty.\n",
       "    </b>"
      ],
      "text/plain": [
       "<IPython.core.display.Markdown object>"
      ]
     },
     "metadata": {},
     "output_type": "display_data"
    },
    {
     "name": "stdout",
     "output_type": "stream",
     "text": [
      "using FAISS\n",
      "using chunks only\n"
     ]
    },
    {
     "name": "stderr",
     "output_type": "stream",
     "text": [
      " 33%|███▎      | 20/60 [33:23<49:45, 74.63s/it]"
     ]
    },
    {
     "data": {
      "text/markdown": [
       "<b>\n",
       "    Query: \n",
       "Actual Question: The minimum distance away from the vehicle are following\n",
       "\n",
       "Please answer the question based on the given context.\n",
       "    Additional Query: The minimum distance is not explicitly stated in terms of a specific measurement, but rather it's recommended to maintain a gap that allows for at least two to three seconds of reaction time. This can be determined by counting \"one thousand and one, one thousand and two\" (for two seconds) or \"one thousand and one, one thousand and two, one thousand and three\" (for three seconds) after the vehicle ahead passes a fixed point, and adjusting for conditions such as speed and road conditions.\n",
       "    </b>"
      ],
      "text/plain": [
       "<IPython.core.display.Markdown object>"
      ]
     },
     "metadata": {},
     "output_type": "display_data"
    },
    {
     "name": "stdout",
     "output_type": "stream",
     "text": [
      "using FAISS\n",
      "using chunks only\n"
     ]
    },
    {
     "name": "stderr",
     "output_type": "stream",
     "text": [
      " 35%|███▌      | 21/60 [34:36<48:09, 74.09s/it]"
     ]
    },
    {
     "data": {
      "text/markdown": [
       "<b>\n",
       "    Query: \n",
       "Actual Question: When do you have a complete/full stop?\n",
       "\n",
       "Please answer the question based on the given context.\n",
       "    Additional Query: You have a complete or full stop when your vehicle comes to a standstill after applying the brakes, covering the distance known as the braking distance. This occurs at the end of the total stopping distance, which combines both the braking distance and the perception and reaction distance.\n",
       "    </b>"
      ],
      "text/plain": [
       "<IPython.core.display.Markdown object>"
      ]
     },
     "metadata": {},
     "output_type": "display_data"
    },
    {
     "name": "stdout",
     "output_type": "stream",
     "text": [
      "using FAISS\n",
      "using chunks only\n"
     ]
    },
    {
     "name": "stderr",
     "output_type": "stream",
     "text": [
      " 37%|███▋      | 22/60 [35:42<45:28, 71.82s/it]"
     ]
    },
    {
     "data": {
      "text/markdown": [
       "<b>\n",
       "    Query: \n",
       "Actual Question: On a two-lane road, overtaking is only allowed only at the\n",
       "\n",
       "Please answer the question based on the given context.\n",
       "    Additional Query: left lane.\n",
       "    </b>"
      ],
      "text/plain": [
       "<IPython.core.display.Markdown object>"
      ]
     },
     "metadata": {},
     "output_type": "display_data"
    },
    {
     "name": "stdout",
     "output_type": "stream",
     "text": [
      "using FAISS\n",
      "using chunks only\n"
     ]
    },
    {
     "name": "stderr",
     "output_type": "stream",
     "text": [
      " 38%|███▊      | 23/60 [37:01<45:31, 73.81s/it]"
     ]
    },
    {
     "data": {
      "text/markdown": [
       "<b>\n",
       "    Query: \n",
       "Actual Question: Parking is considered as a violation when a motor vehicle\n",
       "\n",
       "Please answer the question based on the given context.\n",
       "    Additional Query: is parked at or inside an intersection, near pedestrian crossings, on sidewalks, in residential areas without permission, double parking, near footbridges, along major national roads, too close to a fire hydrant (less than 4 meters away), or too close to a fire station entrance.\n",
       "    </b>"
      ],
      "text/plain": [
       "<IPython.core.display.Markdown object>"
      ]
     },
     "metadata": {},
     "output_type": "display_data"
    },
    {
     "name": "stdout",
     "output_type": "stream",
     "text": [
      "using FAISS\n",
      "using chunks only\n"
     ]
    },
    {
     "name": "stderr",
     "output_type": "stream",
     "text": [
      " 40%|████      | 24/60 [38:14<44:07, 73.54s/it]"
     ]
    },
    {
     "data": {
      "text/markdown": [
       "<b>\n",
       "    Query: \n",
       "Actual Question: Parking is prohibited\n",
       "\n",
       "Please answer the question based on the given context.\n",
       "    Additional Query: in several areas, including blocking a driveway, on sidewalks, in residential areas without permission, at or inside an intersection, near pedestrian crossings, by double parking or on the driver's side of a parked vehicle, in the vicinity of footbridges, along major national roads, and within 4 meters of a fire hydrant.\n",
       "    </b>"
      ],
      "text/plain": [
       "<IPython.core.display.Markdown object>"
      ]
     },
     "metadata": {},
     "output_type": "display_data"
    },
    {
     "name": "stdout",
     "output_type": "stream",
     "text": [
      "using FAISS\n",
      "using chunks only\n"
     ]
    },
    {
     "name": "stderr",
     "output_type": "stream",
     "text": [
      " 42%|████▏     | 25/60 [39:45<46:00, 78.86s/it]"
     ]
    },
    {
     "data": {
      "text/markdown": [
       "<b>\n",
       "    Query: \n",
       "Actual Question: When the traffic light is steady green and steady left/right arrow\n",
       "\n",
       "Please answer the question based on the given context.\n",
       "    Additional Query: When the traffic light is steady green, it indicates permission to proceed, but drivers must exercise caution, particularly concerning pedestrian safety and when navigating turns or intersections. Additionally, when there is a steady left or right arrow, it grants drivers permission to make turns in the designated direction, but they should proceed with caution and yield to pedestrians and oncoming traffic, prioritizing road safety at intersections.\n",
       "    </b>"
      ],
      "text/plain": [
       "<IPython.core.display.Markdown object>"
      ]
     },
     "metadata": {},
     "output_type": "display_data"
    },
    {
     "name": "stdout",
     "output_type": "stream",
     "text": [
      "using FAISS\n",
      "using chunks only\n"
     ]
    },
    {
     "name": "stderr",
     "output_type": "stream",
     "text": [
      " 43%|████▎     | 26/60 [41:23<47:56, 84.61s/it]"
     ]
    },
    {
     "data": {
      "text/markdown": [
       "<b>\n",
       "    Query: \n",
       "Actual Question: What is the maximum penalty for driving under the influence of liquor or prohibited drugs?\n",
       "\n",
       "Please answer the question based on the given context.\n",
       "    Additional Query: The maximum penalty for driving under the influence of alcohol (DUIA) and driving under the influence of dangerous drugs and other similar substances (DUID) resulting in homicide is a penalty of imprisonment under Article 249 of the Revised Penal Code plus a fine ranging from P350,000 to P500,000.\n",
       "    </b>"
      ],
      "text/plain": [
       "<IPython.core.display.Markdown object>"
      ]
     },
     "metadata": {},
     "output_type": "display_data"
    },
    {
     "name": "stdout",
     "output_type": "stream",
     "text": [
      "using FAISS\n",
      "using chunks only\n"
     ]
    },
    {
     "name": "stderr",
     "output_type": "stream",
     "text": [
      " 45%|████▌     | 27/60 [42:32<44:00, 80.01s/it]"
     ]
    },
    {
     "data": {
      "text/markdown": [
       "<b>\n",
       "    Query: \n",
       "Actual Question: On a wet road, you must\n",
       "\n",
       "Please answer the question based on the given context.\n",
       "    Additional Query: reduce your speed by gently lifting off the accelerator to maintain control of your vehicle. Additionally, avoid sudden braking and instead apply gentle pressure on the brake pedal to prevent uncontrollable skidding. It's also important to steer smoothly, maintain a safe following distance, and use your vehicle's safety features to navigate safely.\n",
       "    </b>"
      ],
      "text/plain": [
       "<IPython.core.display.Markdown object>"
      ]
     },
     "metadata": {},
     "output_type": "display_data"
    },
    {
     "name": "stdout",
     "output_type": "stream",
     "text": [
      "using FAISS\n",
      "using chunks only\n"
     ]
    },
    {
     "name": "stderr",
     "output_type": "stream",
     "text": [
      " 47%|████▋     | 28/60 [43:31<39:16, 73.63s/it]"
     ]
    },
    {
     "data": {
      "text/markdown": [
       "<b>\n",
       "    Query: \n",
       "Actual Question: While driving with a maximum speed and you have to stop suddenly, you should\n",
       "\n",
       "Please answer the question based on the given context.\n",
       "    Additional Query: Avoid abrupt braking and instead apply gentle pressure on the brake pedal. Additionally, if your vehicle is equipped with an Anti-lock Braking System (ABS), it will help prevent wheel lockup and maintain traction. If you have a manual hand brake, raise it gradually to avoid locking the wheels, and for cars with electronic parking brakes, engage them by pulling the lever or pressing the button. It's also important to downshift to lower gears to use engine braking if possible.\n",
       "    </b>"
      ],
      "text/plain": [
       "<IPython.core.display.Markdown object>"
      ]
     },
     "metadata": {},
     "output_type": "display_data"
    },
    {
     "name": "stdout",
     "output_type": "stream",
     "text": [
      "using FAISS\n",
      "using chunks only\n"
     ]
    },
    {
     "name": "stderr",
     "output_type": "stream",
     "text": [
      " 48%|████▊     | 29/60 [45:02<40:46, 78.93s/it]"
     ]
    },
    {
     "data": {
      "text/markdown": [
       "<b>\n",
       "    Query: \n",
       "Actual Question: When another vehicle is following you too closely, you should\n",
       "\n",
       "Please answer the question based on the given context.\n",
       "    Additional Query: When another vehicle is following you too closely, you should signal your intentions and allow them to pass, or maintain a safe speed and position to reduce the risk of collision. Additionally, you can stop smoothly and avoid sudden maneuvers to help prevent rear-end accidents. It's also essential to stay alert and observant of your surroundings, watching for signals, brake lights, and any signs of the driver's intentions.\n",
       "    </b>"
      ],
      "text/plain": [
       "<IPython.core.display.Markdown object>"
      ]
     },
     "metadata": {},
     "output_type": "display_data"
    },
    {
     "name": "stdout",
     "output_type": "stream",
     "text": [
      "using FAISS\n",
      "using chunks only\n"
     ]
    },
    {
     "name": "stderr",
     "output_type": "stream",
     "text": [
      " 50%|█████     | 30/60 [46:11<37:54, 75.83s/it]"
     ]
    },
    {
     "data": {
      "text/markdown": [
       "<b>\n",
       "    Query: \n",
       "Actual Question: The driver of the vehicle behind you should always practice the 3-second rule to prevent\n",
       "\n",
       "Please answer the question based on the given context.\n",
       "    Additional Query: tailgating or following too closely, which can lead to rear-end accidents and reduce the risk of road crashes.\n",
       "    </b>"
      ],
      "text/plain": [
       "<IPython.core.display.Markdown object>"
      ]
     },
     "metadata": {},
     "output_type": "display_data"
    },
    {
     "name": "stdout",
     "output_type": "stream",
     "text": [
      "using FAISS\n",
      "using chunks only\n"
     ]
    },
    {
     "name": "stderr",
     "output_type": "stream",
     "text": [
      " 52%|█████▏    | 31/60 [47:14<34:51, 72.11s/it]"
     ]
    },
    {
     "data": {
      "text/markdown": [
       "<b>\n",
       "    Query: \n",
       "Actual Question: When parking uphill without a curb, turn your wheels\n",
       "\n",
       "Please answer the question based on the given context.\n",
       "    Additional Query: so that the vehicle will roll out off the road and not into the road if the parking brake is inadvertently released.\n",
       "    </b>"
      ],
      "text/plain": [
       "<IPython.core.display.Markdown object>"
      ]
     },
     "metadata": {},
     "output_type": "display_data"
    },
    {
     "name": "stdout",
     "output_type": "stream",
     "text": [
      "using FAISS\n",
      "using chunks only\n"
     ]
    },
    {
     "name": "stderr",
     "output_type": "stream",
     "text": [
      " 53%|█████▎    | 32/60 [48:07<30:57, 66.34s/it]"
     ]
    },
    {
     "data": {
      "text/markdown": [
       "<b>\n",
       "    Query: \n",
       "Actual Question: When parking downhill, you must\n",
       "\n",
       "Please answer the question based on the given context.\n",
       "    Additional Query: turn the front wheels into the curb or toward the sidewalk. Always engage the parking brakes. If possible, leave the vehicle in gear position.\n",
       "    </b>"
      ],
      "text/plain": [
       "<IPython.core.display.Markdown object>"
      ]
     },
     "metadata": {},
     "output_type": "display_data"
    },
    {
     "name": "stdout",
     "output_type": "stream",
     "text": [
      "using FAISS\n",
      "using chunks only\n"
     ]
    },
    {
     "name": "stderr",
     "output_type": "stream",
     "text": [
      " 55%|█████▌    | 33/60 [49:05<28:45, 63.92s/it]"
     ]
    },
    {
     "data": {
      "text/markdown": [
       "<b>\n",
       "    Query: \n",
       "Actual Question: When parking uphill, you must\n",
       "\n",
       "Please answer the question based on the given context.\n",
       "    Additional Query: turn the front wheels into the curb or toward the sidewalk. Always engage the parking brakes. If possible, leave the vehicle in gear position.\n",
       "    </b>"
      ],
      "text/plain": [
       "<IPython.core.display.Markdown object>"
      ]
     },
     "metadata": {},
     "output_type": "display_data"
    },
    {
     "name": "stdout",
     "output_type": "stream",
     "text": [
      "using FAISS\n",
      "using chunks only\n"
     ]
    },
    {
     "name": "stderr",
     "output_type": "stream",
     "text": [
      " 57%|█████▋    | 34/60 [49:57<26:03, 60.13s/it]"
     ]
    },
    {
     "data": {
      "text/markdown": [
       "<b>\n",
       "    Query: \n",
       "Actual Question: When you make an abrupt move especially when you are on a wet and possibly slippery road, the following action can cause you to skid and lose control\n",
       "\n",
       "Please answer the question based on the given context.\n",
       "    Additional Query: When you make an abrupt move, especially when you are on a wet and possibly slippery road, the following action can cause you to skid and lose control: sudden turns or hard braking.\n",
       "    </b>"
      ],
      "text/plain": [
       "<IPython.core.display.Markdown object>"
      ]
     },
     "metadata": {},
     "output_type": "display_data"
    },
    {
     "name": "stdout",
     "output_type": "stream",
     "text": [
      "using FAISS\n",
      "using chunks only\n"
     ]
    },
    {
     "name": "stderr",
     "output_type": "stream",
     "text": [
      " 58%|█████▊    | 35/60 [50:58<25:12, 60.51s/it]"
     ]
    },
    {
     "data": {
      "text/markdown": [
       "<b>\n",
       "    Query: \n",
       "Actual Question: Whenever you are driving, especially when overtaking\n",
       "\n",
       "Please answer the question based on the given context.\n",
       "    Additional Query: it's essential to keep a safe distance between your vehicle and the one in front, check your surroundings, signal your intention, and execute the maneuver smoothly. Additionally, be aware of areas where overtaking is prohibited, such as roads with \"No Overtaking\" signs, approaching crests or curves, and railroad crossings. Always respect traffic signs and road markings, like solid yellow lines, which indicate no overtaking zones. It's also crucial to be patient and courteous when driving, especially when overtaking large vehicles, and maintain a safe following distance to allow for adequate reaction time.\n",
       "    </b>"
      ],
      "text/plain": [
       "<IPython.core.display.Markdown object>"
      ]
     },
     "metadata": {},
     "output_type": "display_data"
    },
    {
     "name": "stdout",
     "output_type": "stream",
     "text": [
      "using FAISS\n",
      "using chunks only\n"
     ]
    },
    {
     "name": "stderr",
     "output_type": "stream",
     "text": [
      " 60%|██████    | 36/60 [52:37<28:49, 72.06s/it]"
     ]
    },
    {
     "data": {
      "text/markdown": [
       "<b>\n",
       "    Query: \n",
       "Actual Question: When driving on a highway, do not stare at the vehicle in front of you, instead you should\n",
       "\n",
       "Please answer the question based on the given context.\n",
       "    Additional Query: look ahead and be aware of your surroundings. \n",
       "\n",
       "Additionally, it is mentioned to \"Avoid Staring at Oncoming Headlights\" which implies that staring at any single point, including the vehicle in front, for an extended period can be distracting and potentially hazardous. Instead, drivers should maintain a safe following distance and stay alert to the road conditions ahead.\n",
       "    </b>"
      ],
      "text/plain": [
       "<IPython.core.display.Markdown object>"
      ]
     },
     "metadata": {},
     "output_type": "display_data"
    },
    {
     "name": "stdout",
     "output_type": "stream",
     "text": [
      "using FAISS\n",
      "using chunks only\n"
     ]
    },
    {
     "name": "stderr",
     "output_type": "stream",
     "text": [
      " 62%|██████▏   | 37/60 [53:49<27:38, 72.12s/it]"
     ]
    },
    {
     "data": {
      "text/markdown": [
       "<b>\n",
       "    Query: \n",
       "Actual Question: When driving on a mountain roads during daytime, you should\n",
       "\n",
       "Please answer the question based on the given context.\n",
       "    Additional Query: The provided context does not specifically address driving on mountain roads during daytime. However, general safety tips can be inferred. It's essential to follow traffic rules, stay focused on driving, and avoid distractions. Additionally, ensuring your vehicle is well-maintained, including proper tire condition and functioning brakes, is crucial for safe driving. While the context doesn't directly answer the question about mountain roads during daytime, these general safety measures can be applicable.\n",
       "    </b>"
      ],
      "text/plain": [
       "<IPython.core.display.Markdown object>"
      ]
     },
     "metadata": {},
     "output_type": "display_data"
    },
    {
     "name": "stdout",
     "output_type": "stream",
     "text": [
      "using FAISS\n",
      "using chunks only\n"
     ]
    },
    {
     "name": "stderr",
     "output_type": "stream",
     "text": [
      " 63%|██████▎   | 38/60 [55:10<27:25, 74.80s/it]"
     ]
    },
    {
     "data": {
      "text/markdown": [
       "<b>\n",
       "    Query: \n",
       "Actual Question: When driving downhill on a mountain road always\n",
       "\n",
       "Please answer the question based on the given context.\n",
       "    Additional Query: reduce speed when approaching curves, turns, or areas prone to slippery surfaces.\n",
       "    </b>"
      ],
      "text/plain": [
       "<IPython.core.display.Markdown object>"
      ]
     },
     "metadata": {},
     "output_type": "display_data"
    },
    {
     "name": "stdout",
     "output_type": "stream",
     "text": [
      "using FAISS\n",
      "using chunks only\n"
     ]
    },
    {
     "name": "stderr",
     "output_type": "stream",
     "text": [
      " 65%|██████▌   | 39/60 [56:19<25:35, 73.12s/it]"
     ]
    },
    {
     "data": {
      "text/markdown": [
       "<b>\n",
       "    Query: \n",
       "Actual Question: The headlights should be used often as needed to\n",
       "\n",
       "Please answer the question based on the given context.\n",
       "    Additional Query: maximize their use and ensure safety while driving, especially in low-light conditions. This includes turning them on during dawn, dusk, or inclement weather, and considering using them 24/7 to reduce the risk of daytime collisions.\n",
       "    </b>"
      ],
      "text/plain": [
       "<IPython.core.display.Markdown object>"
      ]
     },
     "metadata": {},
     "output_type": "display_data"
    },
    {
     "name": "stdout",
     "output_type": "stream",
     "text": [
      "using FAISS\n",
      "using chunks only\n"
     ]
    },
    {
     "name": "stderr",
     "output_type": "stream",
     "text": [
      " 67%|██████▋   | 40/60 [57:23<23:25, 70.28s/it]"
     ]
    },
    {
     "data": {
      "text/markdown": [
       "<b>\n",
       "    Query: \n",
       "Actual Question: At an intersection, if two (2) vehicles arrived at the same time, which vehicle has the right of way?\n",
       "\n",
       "Please answer the question based on the given context.\n",
       "    Additional Query: The vehicle on the right has the right of way. This means that if two vehicles arrive at an intersection simultaneously, the driver on the left must yield to the driver on the right.\n",
       "    </b>"
      ],
      "text/plain": [
       "<IPython.core.display.Markdown object>"
      ]
     },
     "metadata": {},
     "output_type": "display_data"
    },
    {
     "name": "stdout",
     "output_type": "stream",
     "text": [
      "using FAISS\n",
      "using chunks only\n"
     ]
    },
    {
     "name": "stderr",
     "output_type": "stream",
     "text": [
      " 68%|██████▊   | 41/60 [58:39<22:47, 71.99s/it]"
     ]
    },
    {
     "data": {
      "text/markdown": [
       "<b>\n",
       "    Query: \n",
       "Actual Question: When negotiating a curve on a highway at a relatively high speed, you should\n",
       "\n",
       "Please answer the question based on the given context.\n",
       "    Additional Query: The provided context doesn't specifically address the scenario of negotiating a curve on a highway at a relatively high speed. However, it does offer general guidance on safe driving practices, such as easing off the accelerator to reduce speed, avoiding abrupt braking, and steering smoothly. \n",
       "\n",
       "Given this information, when approaching a curve, it would be advisable to ease off the accelerator to reduce speed before entering the curve, avoid making sudden turns or applying the brakes abruptly, and steer smoothly through the curve. This approach can help maintain vehicle stability and control. Additionally, reducing speed appropriately for the road conditions is crucial for safe navigation of curves at higher speeds.\n",
       "    </b>"
      ],
      "text/plain": [
       "<IPython.core.display.Markdown object>"
      ]
     },
     "metadata": {},
     "output_type": "display_data"
    },
    {
     "name": "stdout",
     "output_type": "stream",
     "text": [
      "using FAISS\n",
      "using chunks only\n"
     ]
    },
    {
     "name": "stderr",
     "output_type": "stream",
     "text": [
      " 70%|███████   | 42/60 [1:00:02<22:36, 75.36s/it]"
     ]
    },
    {
     "data": {
      "text/markdown": [
       "<b>\n",
       "    Query: \n",
       "Actual Question: When planning to overtake a slower vehicle in front of you at night, you should\n",
       "\n",
       "Please answer the question based on the given context.\n",
       "    Additional Query: Use your low beam headlights to avoid dazzling the driver of the vehicle in front and to ensure you can see the road ahead clearly. However, this specific information is not directly mentioned in the provided context. \n",
       "\n",
       "From the context, when planning to overtake, steps include signaling intention, checking visibility, assessing road conditions, and executing the maneuver smoothly while maintaining a safe distance. It's also crucial to be aware of areas where overtaking is prohibited, such as \"No Overtaking\" zones or near intersections and curves with limited visibility.\n",
       "\n",
       "Therefore, the general advice would be to follow these steps: signal your intention, ensure there's no oncoming traffic, assess road conditions carefully, and execute the maneuver safely. Additionally, being patient, courteous, and mindful of weather and road conditions is essential for safe overtaking.\n",
       "    </b>"
      ],
      "text/plain": [
       "<IPython.core.display.Markdown object>"
      ]
     },
     "metadata": {},
     "output_type": "display_data"
    },
    {
     "name": "stdout",
     "output_type": "stream",
     "text": [
      "using FAISS\n",
      "using chunks only\n"
     ]
    },
    {
     "name": "stderr",
     "output_type": "stream",
     "text": [
      " 72%|███████▏  | 43/60 [1:01:37<22:58, 81.11s/it]"
     ]
    },
    {
     "data": {
      "text/markdown": [
       "<b>\n",
       "    Query: \n",
       "Actual Question: Driving in heavy rains can be extremely dangerous because visibility is limited. What should you do?\n",
       "\n",
       "Please answer the question based on the given context.\n",
       "    Additional Query: To drive safely in heavy rains, increase your stopping distances by following the two- or three-second rule and adjust it further if you're unsure about your tire condition. Step on the brake gently to avoid abrupt braking, and use your headlights to make yourself visible to other drivers. Additionally, look as far ahead as possible to anticipate large puddles that may cause aquaplaning. It's also essential to reduce your speed during wet conditions and maintain proper tire pressure and adequate tread depth to minimize the risk of losing control on wet roads.\n",
       "    </b>"
      ],
      "text/plain": [
       "<IPython.core.display.Markdown object>"
      ]
     },
     "metadata": {},
     "output_type": "display_data"
    },
    {
     "name": "stdout",
     "output_type": "stream",
     "text": [
      "using FAISS\n",
      "using chunks only\n"
     ]
    },
    {
     "name": "stderr",
     "output_type": "stream",
     "text": [
      " 73%|███████▎  | 44/60 [1:03:13<22:51, 85.75s/it]"
     ]
    },
    {
     "data": {
      "text/markdown": [
       "<b>\n",
       "    Query: \n",
       "Actual Question: A flashing red light means\n",
       "\n",
       "Please answer the question based on the given context.\n",
       "    Additional Query: A flashing red light means that drivers must come to a complete stop, and it should be treated as a four-way stop sign, yielding to other vehicles at the intersection before proceeding further.\n",
       "    </b>"
      ],
      "text/plain": [
       "<IPython.core.display.Markdown object>"
      ]
     },
     "metadata": {},
     "output_type": "display_data"
    },
    {
     "name": "stdout",
     "output_type": "stream",
     "text": [
      "using FAISS\n",
      "using chunks only\n"
     ]
    },
    {
     "name": "stderr",
     "output_type": "stream",
     "text": [
      " 75%|███████▌  | 45/60 [1:04:26<20:28, 81.89s/it]"
     ]
    },
    {
     "data": {
      "text/markdown": [
       "<b>\n",
       "    Query: \n",
       "Actual Question: Your speed while driving at night should keep on\n",
       "\n",
       "Please answer the question based on the given context.\n",
       "    Additional Query: reduced, as visibility is limited, and unexpected obstacles may appear. You should follow posted speed limits and adjust your speed according to road conditions.\n",
       "    </b>"
      ],
      "text/plain": [
       "<IPython.core.display.Markdown object>"
      ]
     },
     "metadata": {},
     "output_type": "display_data"
    },
    {
     "name": "stdout",
     "output_type": "stream",
     "text": [
      "using FAISS\n",
      "using chunks only\n"
     ]
    },
    {
     "name": "stderr",
     "output_type": "stream",
     "text": [
      " 77%|███████▋  | 46/60 [1:05:38<18:22, 78.78s/it]"
     ]
    },
    {
     "data": {
      "text/markdown": [
       "<b>\n",
       "    Query: \n",
       "Actual Question: One that affects your visibility?\n",
       "\n",
       "Please answer the question based on the given context.\n",
       "    Additional Query: Fog and sun glare can affect your visibility. Additionally, cracked pavement, collapsing shoulders, and construction or road work can also create hazardous conditions that may reduce visibility. Furthermore, blind spots around a vehicle can obstruct the driver's view, leading to potential dangers on the road.\n",
       "    </b>"
      ],
      "text/plain": [
       "<IPython.core.display.Markdown object>"
      ]
     },
     "metadata": {},
     "output_type": "display_data"
    },
    {
     "name": "stdout",
     "output_type": "stream",
     "text": [
      "using FAISS\n",
      "using chunks only\n"
     ]
    },
    {
     "name": "stderr",
     "output_type": "stream",
     "text": [
      " 78%|███████▊  | 47/60 [1:06:58<17:09, 79.20s/it]"
     ]
    },
    {
     "data": {
      "text/markdown": [
       "<b>\n",
       "    Query: \n",
       "Actual Question: When driving at night, you should\n",
       "\n",
       "Please answer the question based on the given context.\n",
       "    Additional Query: When driving at night, you should ensure proper lighting, drive slower, stay alert and focused, keep a safe following distance, use high beams wisely, and be mindful of other drivers. Additionally, you should clean your headlights regularly, maintain a safe distance from the vehicle in front, avoid distractions like mobile phones or eating while driving, and adjust your speed according to road conditions. It's also important to watch for animals, especially in rural areas, and use GPS for navigation to stay informed about upcoming turns and exits. Furthermore, you should minimize glare from oncoming vehicles, keep an emergency kit in your vehicle, and stay sober to avoid impaired judgment and coordination.\n",
       "    </b>"
      ],
      "text/plain": [
       "<IPython.core.display.Markdown object>"
      ]
     },
     "metadata": {},
     "output_type": "display_data"
    },
    {
     "name": "stdout",
     "output_type": "stream",
     "text": [
      "using FAISS\n",
      "using chunks only\n"
     ]
    },
    {
     "name": "stderr",
     "output_type": "stream",
     "text": [
      " 80%|████████  | 48/60 [1:08:16<15:44, 78.68s/it]"
     ]
    },
    {
     "data": {
      "text/markdown": [
       "<b>\n",
       "    Query: \n",
       "Actual Question: Being passed is normal part of driving and should not be taken as an insult to ones ability, you should\n",
       "\n",
       "Please answer the question based on the given context.\n",
       "    Additional Query: stay calm and aware, move to the side, maintain a steady speed, and check mirrors.\n",
       "    </b>"
      ],
      "text/plain": [
       "<IPython.core.display.Markdown object>"
      ]
     },
     "metadata": {},
     "output_type": "display_data"
    },
    {
     "name": "stdout",
     "output_type": "stream",
     "text": [
      "using FAISS\n",
      "using chunks only\n"
     ]
    },
    {
     "name": "stderr",
     "output_type": "stream",
     "text": [
      " 82%|████████▏ | 49/60 [1:09:21<13:42, 74.79s/it]"
     ]
    },
    {
     "data": {
      "text/markdown": [
       "<b>\n",
       "    Query: \n",
       "Actual Question: When oncoming vehicle deliberately crosses the centerline to pass another vehicle, you should be\n",
       "\n",
       "Please answer the question based on the given context.\n",
       "    Additional Query: Move to the side of your lane or the road to provide space for the passing vehicle and maintain a steady speed to allow it to pass safely.\n",
       "    </b>"
      ],
      "text/plain": [
       "<IPython.core.display.Markdown object>"
      ]
     },
     "metadata": {},
     "output_type": "display_data"
    },
    {
     "name": "stdout",
     "output_type": "stream",
     "text": [
      "using FAISS\n",
      "using chunks only\n"
     ]
    },
    {
     "name": "stderr",
     "output_type": "stream",
     "text": [
      " 83%|████████▎ | 50/60 [1:11:52<16:16, 97.62s/it]"
     ]
    },
    {
     "data": {
      "text/markdown": [
       "<b>\n",
       "    Query: \n",
       "Actual Question: When approaching a flooded area and you have to go through it, what should you do?\n",
       "\n",
       "Please answer the question based on the given context.\n",
       "    Additional Query: The provided context does not directly address the question of what to do when approaching a flooded area that must be crossed. However, it offers guidance on dealing with a submerged vehicle and preventive measures for flood-prone areas, emphasizing the importance of staying informed about weather forecasts and considering comprehensive auto insurance. If the intention is to protect your vehicle from potential flood damage while navigating through a flooded area, moving to higher ground or safer locations before heavy rains begin is advised. Additionally, having comprehensive auto insurance that covers flood damage can provide financial protection in case of an accident. Nonetheless, specific steps for safely crossing a flooded area are not outlined in the given context.\n",
       "    </b>"
      ],
      "text/plain": [
       "<IPython.core.display.Markdown object>"
      ]
     },
     "metadata": {},
     "output_type": "display_data"
    },
    {
     "name": "stdout",
     "output_type": "stream",
     "text": [
      "using FAISS\n",
      "using chunks only\n"
     ]
    },
    {
     "name": "stderr",
     "output_type": "stream",
     "text": [
      " 85%|████████▌ | 51/60 [1:14:43<17:55, 119.47s/it]"
     ]
    },
    {
     "data": {
      "text/markdown": [
       "<b>\n",
       "    Query: \n",
       "Actual Question: A single solid yellow or white line means\n",
       "\n",
       "Please answer the question based on the given context.\n",
       "    Additional Query: A single solid yellow line permits passing with caution when safe and legal.\n",
       "    </b>"
      ],
      "text/plain": [
       "<IPython.core.display.Markdown object>"
      ]
     },
     "metadata": {},
     "output_type": "display_data"
    },
    {
     "name": "stdout",
     "output_type": "stream",
     "text": [
      "using FAISS\n",
      "using chunks only\n"
     ]
    },
    {
     "name": "stderr",
     "output_type": "stream",
     "text": [
      " 87%|████████▋ | 52/60 [1:16:58<16:34, 124.37s/it]"
     ]
    },
    {
     "data": {
      "text/markdown": [
       "<b>\n",
       "    Query: \n",
       "Actual Question: Passing/overtaking is allowed\n",
       "\n",
       "Please answer the question based on the given context.\n",
       "    Additional Query: Passing or overtaking is generally allowed in certain situations. For instance, if you're on a road with two or more lanes going in the same direction, you can overtake another vehicle, even on a hill or a curve, as long as it's safe to do so. Additionally, in business or residential districts with multiple lanes, passing on the right side is allowed. It's also permissible to pass when the line on the road is broken, but vehicles proceeding straight have the right of way. However, there are specific areas where overtaking is not allowed, such as near railway crossings, intersections without traffic signals, and roads marked with \"No Overtaking\" signs or solid yellow lines.\n",
       "    </b>"
      ],
      "text/plain": [
       "<IPython.core.display.Markdown object>"
      ]
     },
     "metadata": {},
     "output_type": "display_data"
    },
    {
     "name": "stdout",
     "output_type": "stream",
     "text": [
      "using FAISS\n",
      "using chunks only\n"
     ]
    },
    {
     "name": "stderr",
     "output_type": "stream",
     "text": [
      " 88%|████████▊ | 53/60 [1:19:32<15:32, 133.19s/it]"
     ]
    },
    {
     "data": {
      "text/markdown": [
       "<b>\n",
       "    Query: \n",
       "Actual Question: A driver on a highway shall yield the right of way to\n",
       "\n",
       "Please answer the question based on the given context.\n",
       "    Additional Query: A driver on a highway shall yield the right of way to pedestrians, especially when they are crossing within a crosswalk, as well as to vehicles already on the highway when merging. Additionally, drivers must also yield to emergency vehicles with sirens or lights and to traffic on the public road when pulling out of a driveway.\n",
       "    </b>"
      ],
      "text/plain": [
       "<IPython.core.display.Markdown object>"
      ]
     },
     "metadata": {},
     "output_type": "display_data"
    },
    {
     "name": "stdout",
     "output_type": "stream",
     "text": [
      "using FAISS\n",
      "using chunks only\n"
     ]
    },
    {
     "name": "stderr",
     "output_type": "stream",
     "text": [
      " 90%|█████████ | 54/60 [1:21:37<13:04, 130.80s/it]"
     ]
    },
    {
     "data": {
      "text/markdown": [
       "<b>\n",
       "    Query: \n",
       "Actual Question: A driver on a highway shall yield the right of way to\n",
       "\n",
       "Please answer the question based on the given context.\n",
       "    Additional Query: A driver on a highway shall yield the right of way to pedestrians, especially when they are crossing within a crosswalk.\n",
       "    </b>"
      ],
      "text/plain": [
       "<IPython.core.display.Markdown object>"
      ]
     },
     "metadata": {},
     "output_type": "display_data"
    },
    {
     "name": "stdout",
     "output_type": "stream",
     "text": [
      "using FAISS\n",
      "using chunks only\n"
     ]
    },
    {
     "name": "stderr",
     "output_type": "stream",
     "text": [
      " 92%|█████████▏| 55/60 [1:23:28<10:24, 124.83s/it]"
     ]
    },
    {
     "data": {
      "text/markdown": [
       "<b>\n",
       "    Query: \n",
       "Actual Question: This traffic signs warns you that school children may be present in the vicinity\n",
       "\n",
       "Please answer the question based on the given context.\n",
       "    Additional Query: School zone signage.\n",
       "    </b>"
      ],
      "text/plain": [
       "<IPython.core.display.Markdown object>"
      ]
     },
     "metadata": {},
     "output_type": "display_data"
    },
    {
     "name": "stdout",
     "output_type": "stream",
     "text": [
      "using FAISS\n",
      "using chunks only\n"
     ]
    },
    {
     "name": "stderr",
     "output_type": "stream",
     "text": [
      " 93%|█████████▎| 56/60 [1:25:34<08:20, 125.13s/it]"
     ]
    },
    {
     "data": {
      "text/markdown": [
       "<b>\n",
       "    Query: \n",
       "Actual Question: The signal warns of a hazard ahead\n",
       "\n",
       "Please answer the question based on the given context.\n",
       "    Additional Query: A blinking yellow traffic light serves as a warning to drivers to slow down and proceed with caution, indicating potential hazards or the need for increased vigilance, especially at intersections where traffic conditions are light.\n",
       "    </b>"
      ],
      "text/plain": [
       "<IPython.core.display.Markdown object>"
      ]
     },
     "metadata": {},
     "output_type": "display_data"
    },
    {
     "name": "stdout",
     "output_type": "stream",
     "text": [
      "using FAISS\n",
      "using chunks only\n"
     ]
    },
    {
     "name": "stderr",
     "output_type": "stream",
     "text": [
      " 95%|█████████▌| 57/60 [1:27:43<06:19, 126.40s/it]"
     ]
    },
    {
     "data": {
      "text/markdown": [
       "<b>\n",
       "    Query: \n",
       "Actual Question: This traffic sign states direction and distances\n",
       "\n",
       "Please answer the question based on the given context.\n",
       "    Additional Query: Advance Direction Signs, Intersection Direction Signs, Reassurance Direction Signs, and Fingerboard & Direction Signs all provide direction and some also indicate distance. Specifically, Reassurance Direction Signs are mentioned to provide approximate distance to a particular exit, while Advance Direction Signs and Intersection Direction Signs guide the motorist towards certain directions, which may include information on distances.\n",
       "    </b>"
      ],
      "text/plain": [
       "<IPython.core.display.Markdown object>"
      ]
     },
     "metadata": {},
     "output_type": "display_data"
    },
    {
     "name": "stdout",
     "output_type": "stream",
     "text": [
      "using FAISS\n",
      "using chunks only\n"
     ]
    },
    {
     "name": "stderr",
     "output_type": "stream",
     "text": [
      " 97%|█████████▋| 58/60 [1:29:50<04:13, 126.55s/it]"
     ]
    },
    {
     "data": {
      "text/markdown": [
       "<b>\n",
       "    Query: \n",
       "Actual Question: The mark for a railway crossing\n",
       "\n",
       "Please answer the question based on the given context.\n",
       "    Additional Query: The mark for a railway crossing is a sign that indicates an upcoming railroad crossing, often accompanied by additional signs such as \"Railroad Crossing Ahead\" or warning signals. These signs are positioned in areas where they can be easily seen and may include instructions such as stopping or giving the right of way.\n",
       "    </b>"
      ],
      "text/plain": [
       "<IPython.core.display.Markdown object>"
      ]
     },
     "metadata": {},
     "output_type": "display_data"
    },
    {
     "name": "stdout",
     "output_type": "stream",
     "text": [
      "using FAISS\n",
      "using chunks only\n"
     ]
    },
    {
     "name": "stderr",
     "output_type": "stream",
     "text": [
      " 98%|█████████▊| 59/60 [1:32:16<02:12, 132.33s/it]"
     ]
    },
    {
     "data": {
      "text/markdown": [
       "<b>\n",
       "    Query: \n",
       "Actual Question: Children must be held in approved child restraint if there are\n",
       "\n",
       "Please answer the question based on the given context.\n",
       "    Additional Query: twelve years or younger, unless they are at least 4’11” (150 cm) in height.\n",
       "    </b>"
      ],
      "text/plain": [
       "<IPython.core.display.Markdown object>"
      ]
     },
     "metadata": {},
     "output_type": "display_data"
    },
    {
     "name": "stdout",
     "output_type": "stream",
     "text": [
      "using FAISS\n",
      "using chunks only\n"
     ]
    },
    {
     "name": "stderr",
     "output_type": "stream",
     "text": [
      "100%|██████████| 60/60 [1:34:18<00:00, 94.32s/it] \n",
      "/tmp/ipykernel_593765/2685888494.py:13: FutureWarning: Setting an item of incompatible dtype is deprecated and will raise an error in a future version of pandas. Value '[\"To prevent traffic jams, it's essential to practice defensive driving techniques, such as maintaining a safe distance from other vehicles, avoiding sudden lane changes, and being mindful of your surroundings. Additionally, respecting traffic rules, being courteous to other drivers, and planning your route in advance can help reduce congestion on the roads.\\n\\nSome specific tips to prevent traffic jams include:\\n\\n1. Leaving early to account for potential delays\\n2. Avoiding peak hours when possible\\n3. Using alternative routes or modes of transportation\\n4. Carpooling or using ride-sharing services\\n5. Being aware of road closures or construction and planning accordingly\\n\\nBy following these tips and practicing defensive driving, you can help reduce the likelihood of traffic jams and make the roads safer for everyone.\", 'When making a right turn, you should drive in the rightmost lane that corresponds to your direction of travel and pass on the left when passing other vehicles traveling in the same direction. Additionally, yield to oncoming traffic when encountering vehicles coming from the opposite direction, maintaining your position on the right side of the road. However, the text does not explicitly state the steps for making a right turn, but it provides general guidelines for driving and turning. \\n\\nA more specific answer based on common driving practices would be: \\nWhen making a right turn, you should activate your right-turn signal, check your mirrors and blind spots, slow down, yield to pedestrians and other vehicles if necessary, and complete the turn, staying in your lane.', \"30 meters before turning. \\n\\nHowever, since that specific information isn't available in the provided context, a more general answer based on common driving practices would be: \\n\\nWhen you intend to turn right or left, signal your intention well in advance, typically around 30 meters (or about one city block) before making the turn, but this can vary depending on speed and road conditions. The key is to give other drivers enough time to react to your intended action.\", \"At an intersection with a traffic light, make a left turn only when the traffic signal indicates it is safe to do so, typically with a green arrow pointing left or when the light turns green and it's clear of oncoming traffic or pedestrians. Always yield to pedestrians, other vehicles, or follow specific instructions from traffic enforcement officers if present.\", \"To eliminate graft and corruption in the traffic enforcement system, several steps can be taken:\\n\\n1. **Strengthening Institutional Frameworks**: Ensuring that law enforcement agencies, including traffic police and related governmental bodies, have strong, transparent, and accountable systems in place. This includes clear protocols for handling violations, a well-defined code of conduct for officers, and robust mechanisms for reporting and addressing corruption.\\n\\n2. **Improving Transparency and Accountability**: Implementing technologies such as body cameras for traffic officers and dashboard cameras in patrol vehicles can increase transparency in interactions between law enforcement and the public. Additionally, digital platforms for reporting violations and filing complaints can make the process more accessible and reduce opportunities for corruption.\\n\\n3. **Enhancing Public Awareness and Engagement**: Educating the public about their rights and responsibilities in relation to traffic laws, as well as the procedures for addressing corrupt practices, can empower citizens to demand better services from law enforcement. Community engagement and participation in monitoring traffic enforcement activities can also serve as a deterrent to corruption.\\n\\n4. **Deputizing Officers and Enhancing Qualifications**: Ensuring that only qualified and deputized officers are authorized to enforce traffic laws and confiscate licenses can help reduce corrupt practices. This includes providing these officers with the necessary training and resources to perform their duties effectively and ethically.\\n\\n5. **Implementing Strict Disciplinary Actions**: Agencies must enforce strict disciplinary actions against officers found engaging in corrupt activities. This sends a strong message that corruption will not be tolerated and helps to maintain public trust in law enforcement.\\n\\n6. **Promoting Integrity Among Officers**: Fostering a culture of integrity within law enforcement agencies, through leadership examples, training programs, and incentives for ethical behavior, can significantly reduce the incidence of corruption.\\n\\nBy implementing these measures, it's possible to create a traffic enforcement system that is less susceptible to graft and corruption, ultimately leading to safer roads and increased public trust in law enforcement.\", 'On a four-lane road with a single white line, you can overtake or change lanes. The presence of a single white line indicates that overtaking is allowed, but drivers should exercise caution and follow standard safety procedures when doing so.', \"A double solid yellow line with a broken white line in between is not mentioned in the provided text. However, according to general traffic rules, a double solid yellow line means no passing or overtaking is allowed from either side. \\n\\nBut if we consider a single solid yellow line with a broken white line, it would typically indicate that passing or overtaking is allowed from one side but not the other, depending on which side has the solid line and which has the broken line.\\n\\nGiven the information provided in the context, it seems there might be some confusion or a mix-up in the details of the traffic lines. For accurate interpretation, it's best to consult local traffic regulations or signage guidelines specific to your area.\", 'The provided text does not specifically discuss the procedure for making a U-turn. However, it extensively covers the proper techniques and safety measures for making right turns and left turns under various conditions, including at intersections, on one-way streets, and during transitions between one-way and two-way streets.\\n\\nGiven the emphasis on safety, yielding to the right-of-way, checking for pedestrians and other vehicles, and maintaining a safe speed, it can be inferred that similar principles should apply when making a U-turn. However, without specific instructions on U-turns in the provided context, the most accurate advice would be to follow general driving guidelines:\\n\\n1. **Check Local Regulations**: Ensure U-turns are legal at your location.\\n2. **Yield to Right-of-Way**: Give way to pedestrians, cyclists, and other vehicles that may have the right-of-way.\\n3. **Use Indicators**: Signal your intention to make a U-turn to alert other road users.\\n4. **Check Blind Spots**: Be aware of your surroundings, including vehicles that might be in your blind spots.\\n5. **Maintain Safe Speed**: Reduce your speed before making the turn to ensure you can stop if necessary and to complete the maneuver safely.\\n\\nRemember, driving safety is paramount, and being mindful of other road users while following traffic laws and regulations is key to preventing accidents.', \"Warning signs, which are typically triangular in shape with a yellow or orange background and sometimes have a red border, are used to alert drivers of potential hazards. However, given that you've specified signs with a red colored border, it seems like you might be referring to a different category. In many countries, including those following the Vienna Convention on Road Signs and Signals, warning signs are indeed triangular but usually have a yellow background.\\n\\nSince you've specifically mentioned signs with a red border being triangular, this description closely matches that of yield or give way signs in some jurisdictions. These signs are often triangular with a red border and are used to indicate that drivers should yield or give way to other traffic. \\n\\nTherefore, based on the common characteristics of road signs:\\n\\nThe answer is: Yield or Give Way Signs.\", 'Warning signs are typically characterized by a triangular or diamond shape with a yellow background and black border. However, based on your description of signs being round, inverted triangle, or octagonal with red-colored borders, it seems you might be referring to a different set of signs.\\n\\nGiven the context provided:\\n- Round signs often indicate railway crossings.\\n- Inverted triangles are commonly used for yield signs.\\n- Octagons are typically stop signs.\\n\\nAll these types of signs have distinctive shapes and colors to immediately convey their message to drivers. The specific mention of red-colored borders, though, doesn\\'t align perfectly with standard descriptions of warning signs but closely matches the description of regulatory signs like stop signs (which are octagonal) or yield signs (which can be triangular).\\n\\nTherefore, based on your description of the shapes and colors, it seems you might be referring to \"Regulatory Signs\" rather than warning signs. Regulatory signs inform drivers of traffic laws and regulations and include signs that are round, inverted triangles (yield), or octagons (stop) with red borders or backgrounds to draw immediate attention and enforce specific actions or behaviors on the road.\\n\\nThe answer would be: Regulatory Signs.', 'Based on the provided context, it appears that signs with specific shapes and color backgrounds have distinct meanings. Although the exact classification of signs by shape and color is not explicitly stated in the given text, we can infer some general information about traffic signs.\\n\\nTypically, round signs are used for informational or guidance purposes, while rectangular signs often provide more detailed instructions or warnings. The colors used on signs also carry specific meanings: white backgrounds usually signify informational signs, and blue backgrounds often indicate guide signs or those related to services.\\n\\nHowever, without a direct reference in the provided context that specifically categorizes signs as \"round, rectangular with white and blue background,\" we cannot conclusively determine what these signs are called based solely on the information given. Traffic sign classifications can vary significantly by country and region, and the description does not match a universally recognized standard category of traffic signs.\\n\\nGiven the lack of direct information in the context about signs specifically described as \"round, rectangular with white and blue background,\" it\\'s challenging to provide an accurate classification or name for these signs based on standard traffic sign categories.', 'Based on the provided context, a single solid yellow line with a broken white line on a two-lane road indicates that overtaking and crossing are allowed on the side of the broken white line but not on the side of the solid yellow line. This means that drivers can pass or change lanes only from the side where the line is broken, exercising necessary caution to avoid accidents.', 'When approaching a crosswalk or pedestrian lane, drivers should exercise caution and yield to pedestrians. According to the rules of the road, pedestrians have the right of way in designated crosswalks or at intersections with pedestrian signals. Drivers should slow down, be prepared to stop, and let pedestrians cross the road safely. Additionally, drivers should be aware of their surroundings, watch for pedestrians, and never assume that pedestrians can see them or will yield the right of way. By following these guidelines, drivers can help ensure a safer driving experience for themselves and pedestrians.', 'According to the text, driving an unregistered motor vehicle is a violation with a fine of Ten Thousand Pesos (Php 10,000.00).', 'Yes, parking within 4 meters of a fire hydrant is considered a parking violation.', 'Based on the provided context, it is not explicitly stated what a green light at an intersection means. However, according to general traffic rules and common understanding, a green light at an intersection typically means \"go\" or \"proceed with caution,\" indicating that drivers have the right of way to move forward, turn left, or turn right, unless otherwise directed by signs or signals.', 'A steady red light at an intersection means you must come to a complete stop and not proceed until the light turns green.', 'The penalty for driving a motor vehicle while under the influence of alcohol for the first offense is a fine of Php 20,000.00 to Php 80,000.00 and imprisonment for 3 months.', 'For the owner or operator of the land public transportation utility, a fine of Five thousand pesos (P5,000.00) for the first offense; A fine of Ten thousand pesos (P10,000.00) and impounding of unit for thirty (30) days for the second offense; and A fine of Fifteen thousand pesos (P15,000.00) and cancellation of Certificate of Public Convenience (CPC) for the third and subsequent offenses.', \"Based on the context provided, if the driver is using a motor vehicle in committing a crime and is convicted, his driver's license shall be revoked. Specifically, for a non-professional driver's license holder, it will be confiscated and suspended for 12 months for the first conviction and perpetually revoked for the second conviction. For a professional driver's license holder, it shall be confiscated and perpetually revoked for the first conviction.\", 'The minimum distance away from the vehicle you are following is at least a 2- to 4-second gap. This can be calculated by choosing a fixed point on the road ahead, such as a sign or a marking, and counting \"one-thousand-one, one-thousand-two\" as the vehicle in front of you passes it. You should not pass the same point until you have finished counting.', 'According to the text, a complete or full stop is achieved when you have finished braking and the vehicle has come to a standstill. Specifically, for manual transmission vehicles, this occurs after completing the downshifting process and releasing the clutch pedal while maintaining brake pressure (Step 7: Engage Parking Brake). For automatic vehicles, a complete stop is reached after shifting the gear lever into the \"P\" (Park) position (Step 3: Shift to Park).', 'On a two-lane road, overtaking is only allowed when it is safe to do so, and the driver must pass to the left of the vehicle being overtaken. However, if I had to choose from common options related to the context provided:\\n\\nThe best answer based on standard traffic rules would be \"when it\\'s safe and you have a clear view of oncoming traffic.\" But since that option isn\\'t explicitly listed here, we\\'ll align with general road safety principles which suggest overtaking should ideally occur in areas designated for such maneuvers or when traffic conditions permit safe passing.\\n\\nGiven the usual structure of these questions, one might expect an answer like \"at designated overtaking zones\" or \"when safe to do so.\" Without explicit options provided in your query, I\\'ll focus on a principle that aligns with road safety: always overtake safely and legally.', 'Based on the provided context, parking is considered a violation when a motor vehicle is brought to a stop on the shoulder or proper edge of a highway and remains inactive in that place or close thereto for an appreciable period of time. However, if the motor vehicle stops merely to discharge a passenger, take in a waiting passenger, load, or unload a small quantity of freight with reasonable dispatch and then moves away without delay, it is not considered \"parked\". \\n\\nMore specifically, according to Section 46 of Republic Act 4136 (Land Transportation and Traffic Code), parking near a fire hydrant, within 4 meters, is a violation. Therefore, the answer could be when a motor vehicle is parked within 4 meters of a fire hydrant or remains inactive for an appreciable period in a prohibited area.', 'Parking is prohibited in the following areas:\\n\\n1. In an intersection\\n2. Within 6 meters of the intersection\\n3. Within 4 meters from the driveway entrance\\n4. Within 4 meters from a fire hydrant\\n5. In front of a private driveway\\n6. On the roadway side of any unmoving or parked motor vehicle at the curb or edge of the highway\\n7. At any place where signs of prohibitions have been installed\\n8. Bus-PUJ stop zones\\n9. No parking/tow-away zones\\n10. Yellow box areas\\n\\nNote: The specific restrictions may vary depending on local regulations and signage.', \"When the traffic light is steady green and a steady left or right arrow, it indicates that you may proceed in the direction of the arrow. Here are some key points to remember:\\n\\n1. **Steady Green Light**: A steady green light means you can go, but you must still yield to pedestrians, other cars, and any other traffic that might be in the intersection.\\n\\n2. **Steady Left/Right Arrow**: If there is a steady left or right arrow, it specifically gives you permission to turn in the direction of the arrow. You do not need to yield to oncoming traffic for the direction of the arrow, but you must yield to pedestrians and any vehicles that are already in the intersection.\\n\\n3. **Yield to Pedestrians and Vehicles Already in the Intersection**: Even with a green light or an arrow, always make sure to yield to pedestrians who are crossing and to any vehicles that are already within the intersection.\\n\\n4. **Check for Turning Traffic**: Be aware of other traffic signals at the intersection. If another direction has a green light or arrow, be cautious of potential turning conflicts.\\n\\n5. **Proceed with Caution**: Always proceed through an intersection with caution, even when you have the right of way. Other drivers may not obey the rules, so it's crucial to stay alert and be prepared to react.\\n\\nRemember, traffic laws and regulations can vary by location, so it's always a good idea to familiarize yourself with local driving rules and signs.\", \"The maximum penalty for driving under the influence of liquor or prohibited drugs includes:\\n\\n- Imprisonment as provided in Article 249 of the Revised Penal Code (in cases resulting in homicide)\\n- A fine ranging from Three hundred thousand pesos (Php300,000.00) to Five hundred thousand pesos (Php500,000.00)\\n- Perpetual revocation of the driver's license for a second conviction.\\n\\nNote: These penalties are based on the context provided by Republic Act No. 10586, also known as the Anti-Drunk and Drugged Driving Act of 2013.\", 'Reduce your speed to avoid skidding or hydroplaning.', \"According to the provided context, if you need to stop suddenly while driving at a maximum speed, you should:\\n\\n1. **Anticipate the need to stop** and prepare by taking your foot off the accelerator.\\n2. **Gradually depress the brake pedal** to slow down the vehicle without locking up the wheels.\\n3. **Downshift** (if driving a manual transmission vehicle) to a lower gear to help slow down the vehicle.\\n4. **Use gentle and progressive braking** to bring the vehicle to a stop, avoiding hard or sudden braking that could cause skidding.\\n\\nIt's essential to remember to stay calm, maintain control of the vehicle, and follow proper braking techniques to ensure a safe stop.\", \"When another vehicle is following you too closely, you should maintain your speed and not slow down or speed up suddenly. However, the best course of action would be to signal and slowly move to the right lane to allow the tailgating vehicle to pass, if it's safe to do so. \\n\\nThis approach prioritizes safety by avoiding sudden maneuvers that could lead to an accident and allows the vehicle following too closely to take responsibility for their own speed and following distance.\", 'The driver of the vehicle behind you should always practice the 3-second rule to prevent tailgating and reduce the risk of collisions. This allows for a safe following distance and sufficient time to react to any unexpected situations on the road.', 'toward the right (or away from the road)', 'When parking downhill, you must turn your wheels to the right (toward the curb) and engage the parking brake. This is a general safety precaution to prevent the vehicle from rolling down the hill if the brakes fail or are not applied properly.\\n\\nHowever, based on the context provided, it seems that when parking downhill, the correct answer would involve using the parking brake, specifically keeping the release lever open and using it as a brake. \\n\\nTherefore, the answer is: use the parking brake.', 'When parking uphill, you must turn your wheels towards the curb.', \"When you make an abrupt move, especially when you are on a wet and possibly slippery road, sudden braking or acceleration can cause you to skid and lose control. Additionally, sharp turns or sudden steering movements can also lead to skidding, as they can cause the tires to lose traction with the road surface. It's essential to drive smoothly and cautiously in such conditions to minimize the risk of skidding and losing control of your vehicle.\", \"When driving, especially when overtaking, it's crucial to follow safe overtaking tips and respect traffic rules. Here are some key points to consider:\\n\\n1. **Check for clear visibility**: Ensure that the left side of the road is clearly visible and free from oncoming traffic before attempting to overtake.\\n2. **Avoid overtaking at intersections or curves**: Never overtake another vehicle when approaching an intersection, a curve in the highway where your view is obstructed within 500 feet ahead, or at the crest of a grade.\\n3. **Use proper signaling**: Always signal your intention to overtake by using your turn signals.\\n4. **Maintain safe speed and distance**: Ensure you have sufficient space and time to safely complete the overtaking maneuver without risking collision with oncoming traffic or other hazards.\\n5. **Respect larger vehicles**: When overtaking trucks or larger vehicles, be aware of their size, speed, and potential blind spots.\\n6. **Follow lane markings**: Only overtake on highways having two or more lanes for movement of traffic in one direction where it is safe and legal to do so.\\n\\nRemember, safety should always be your top priority when driving, especially during maneuvers like overtaking that carry higher risks.\", 'When driving on a highway, do not stare at the vehicle in front of you, instead you should keep your eyes on the road and focus on the horizon or a point ahead, checking your mirrors and blind spots regularly to stay aware of your surroundings. This helps to avoid accidents caused by tailgating or being distracted by the vehicle in front.', \"When driving on mountain roads during the daytime, you should reduce your speed, especially when approaching curves or turns, and be prepared for unexpected hazards such as rocks, debris, or other vehicles. Additionally, maintain a safe following distance, keep both hands on the steering wheel, and avoid sudden movements to ensure better control of your vehicle.\\n\\nHowever, based on the provided context, I couldn't find any specific information about daytime driving on mountain roads. But considering general road safety guidelines:\\n\\nThe best answer is: Reduce speed and be cautious.\", 'When driving downhill on a mountain road, always use a low gear and avoid riding the brakes to maintain control of your vehicle. This will help you navigate steep slopes safely and reduce the risk of overheating your brakes or losing traction. Additionally, keep a safe distance from other vehicles, be aware of potential hazards such as rocks or debris on the road, and use caution when approaching curves or intersections. By following these guidelines, you can ensure a safe and enjoyable journey when driving downhill on mountain roads.', 'The headlights should be used often as needed to enhance visibility and safety, especially in low-light conditions or poor weather. However, according to the provided context, when approaching a blinking yellow light, it is recommended to slow down and proceed with caution, rather than specifically using headlights. Nevertheless, if headlights are necessary for visibility, they should be used on low beam to avoid dazzling other road users.', 'According to RA 4136, when two vehicles arrive at an intersection at approximately the same time, the vehicle on the right has the right of way. Therefore, the vehicle on the right should proceed first.', \"When negotiating a curve on a highway at a relatively high speed, you should reduce your speed and make sure to stay in your lane. It's also important to avoid overtaking or passing another vehicle upon a curve in a highway. \\n\\nThe best answer is to slow down and be cautious when approaching the curve, as overtaking upon a curve can be extremely dangerous due to limited visibility of oncoming traffic for a sufficient distance to pass safely.\", \"When planning to overtake a slower vehicle in front of you at night, you should check your mirrors and blind spots for any approaching vehicles from behind, ensure there are no oncoming vehicles or other hazards ahead, signal your intention to overtake, accelerate to match the speed of the vehicle you're overtaking, pass the vehicle quickly and safely, and then return to your lane. Additionally, be cautious of the reduced visibility at night and avoid overtaking if the road conditions are not safe. It's also important to follow the rules of overtaking and yield to other vehicles as necessary to ensure a smooth flow of traffic.\", \"When driving in heavy rains, it's essential to take extra precautions to ensure safety. According to the provided context, here are some steps you can take:\\n\\n1. **Reduce speed**: Slow down to match the road conditions, as wet surfaces can be slippery and increase stopping distances.\\n2. **Increase following distance**: Leave ample space between your vehicle and the one ahead of you to allow for more time to react and maneuver safely if needed.\\n3. **Use headlights or hazard lights**: Turn on your headlights or hazard lights to improve visibility, even during the day, as this can help other drivers see you more easily.\\n4. **Maintain a safe distance from vehicles ahead**: Keep a safe following distance to allow for adequate braking distance on wet roads.\\n5. **Avoid sudden maneuvers**: Refrain from making abrupt turns or hard braking, as these actions can destabilize your vehicle and increase the likelihood of skidding.\\n\\nBy following these guidelines, you can minimize the risks associated with driving in heavy rains and reduce the likelihood of accidents.\", 'A flashing red light means you must come to a complete stop before proceeding, as it has the same meaning as a stop sign. Yield to pedestrians, other vehicles, or other traffic that may have the right of way. Proceed with caution when it is safe to do so.', 'Your speed while driving at night should be adjusted to maintain a safe distance from the area illuminated by your headlights, ensuring you can stop in time for any unexpected obstacles or hazards that may appear. This means you should not overdrive your headlights, allowing yourself sufficient time to react and avoid potential dangers on the road.', 'Based on the provided context, one thing that affects your visibility is weather conditions, such as rain, fog, or snow, which can reduce overall visibility and exacerbate blind spots. Additionally, dirty or damaged headlight lenses, improper headlight alignment, and glare from oncoming vehicles can also impact visibility.', \"When driving at night, you should:\\n\\n* Use your headlights to increase visibility\\n* Reduce your speed to compensate for reduced visibility\\n* Avoid distractions and stay focused on the road\\n* Keep an eye out for pedestrians, cyclists, and other vehicles\\n* Be aware of potential hazards such as potholes, debris, or animals on the road\\n\\nAdditionally, it's a good idea to:\\n\\n* Take regular breaks to rest and stretch your legs\\n* Avoid driving when tired or fatigued\\n* Keep your windshield and windows clean to reduce glare\\n* Use high beam headlights when possible, but dim them when approaching other vehicles\\n* Be cautious when passing other vehicles or changing lanes.\", \"When being passed, it's essential to maintain your speed and position on the road. Avoid increasing your speed or taking it personally, as this can lead to reckless behavior and compromise safety.\\n\\nInstead, focus on:\\n\\n1. **Maintaining your current speed**: Avoid accelerating or braking suddenly, as this can disrupt the flow of traffic.\\n2. **Staying in your lane**: Keep a safe distance from the vehicle passing you and avoid making any sudden movements.\\n3. **Being aware of your surroundings**: Continue to monitor the road and other vehicles around you.\\n\\nRemember, being passed is a normal part of driving, and it's not a reflection of your driving abilities. Prioritize safety and courtesy on the road.\", 'Based on the context provided, when an oncoming vehicle deliberately crosses the centerline to pass another vehicle, you should slow down or pull over to the side of the road to avoid a potential collision. This action helps prevent an accident by giving the oncoming vehicle space to complete its maneuver safely. Always prioritize caution in such situations to ensure safety on the road.', \"When approaching a flooded area and you have to go through it, here are some steps you can follow:\\n\\n1. **Check the depth of the water**: If the water is too deep, it's best to avoid driving through it. Generally, if the water is above the center of your wheels, it's not safe to drive through.\\n2. **Assess the condition of the road**: Make sure the road is still intact and not washed away.\\n3. **Drive slowly and carefully**: If you decide to drive through the flooded area, do so slowly and carefully. Avoid sudden movements or sharp turns.\\n4. **Use low gear**: If you're driving a manual transmission vehicle, use low gear to maintain control.\\n5. **Avoid driving through moving water**: If the water is moving quickly, it's best to avoid driving through it as it can sweep your vehicle away.\\n6. **Keep an eye on your temperature gauge**: Driving through flooded areas can cause your engine to overheat. Keep an eye on your temperature gauge and pull over if it starts to rise.\\n\\nIt's also important to note that driving through flooded areas can be hazardous, and it's always best to err on the side of caution. If possible, try to find an alternative route or wait until the water has receded before proceeding.\", 'A single solid yellow or white line means that overtaking is restricted from one side, but allowed from the other side with caution. It serves as a warning to drivers to be careful when passing and to check for oncoming traffic before attempting to overtake.', \"Based on the provided context, passing or overtaking is generally allowed under certain conditions:\\n\\n1. **On highways with multiple lanes**: If there are two or more lanes for traffic moving in the same direction, overtaking is allowed by driving to the left of the vehicle being passed.\\n2. **In business or residential districts with multiple lanes**: Even when approaching an intersection, if there are two or more lanes for traffic moving in the same direction, overtaking on the right side is permitted.\\n3. **When the vehicle in front is turning left**: If the vehicle ahead is about to turn left and has given a signal, passing on the right is allowed.\\n\\nHowever, it's crucial to remember that safety should always be the priority. Overtaking is not allowed under certain conditions such as:\\n\\n- On a curve where visibility is obstructed within 500 feet.\\n- When approaching the crest of a grade (a hill) if visibility beyond the crest is limited.\\n- In intersections with single lanes unless authorized by a watchman or peace officer, or in specific emergency situations.\\n\\nAlways look for signs that may restrict overtaking and ensure it's safe to pass before doing so.\", 'A driver on a highway shall yield the right of way to:\\n\\n1. The vehicle on the right when two vehicles approach or enter an intersection at approximately the same time.\\n2. A pedestrian crossing the highway within a crosswalk, except at intersections where traffic is regulated by a peace officer or traffic signal.\\n3. Vehicles already on the highway when entering from a private road.\\n4. Police, fire department vehicles, and ambulances when they are operated on official business and the drivers sound an audible signal on their approach.\\n5. All vehicles approaching in either direction on a \"through highway\" or at a \"stop-intersection\".', 'A driver on a highway shall yield the right of way to pedestrians crossing within designated crosswalks, vehicles already in the intersection or on a through highway, and emergency vehicles. Specifically, under the rules mentioned, a vehicle on the left must yield to the vehicle on the right when approaching an intersection at approximately the same time. Additionally, a driver must yield to a pedestrian crossing within a crosswalk in a business or residential district unless directed otherwise by a peace officer or traffic signal.', 'The traffic sign that warns you that school children may be present in the vicinity is not explicitly mentioned in the provided text. However, based on general knowledge of traffic signs, the sign that typically warns of the presence of school children is a yellow diamond-shaped sign with a picture of children or a school zone symbol.\\n\\nIn the context of the given text, which discusses various types of traffic signs and their meanings, it can be inferred that a warning sign related to school children would likely be classified under \"Warning Signs\" or \"Advance Warning/Traffic Control Device Signs.\" These categories include signs that alert drivers to potential hazards or conditions on the road ahead, such as pedestrian crossings, intersections, or areas where children might be present.\\n\\nGiven this information and general knowledge about traffic signs, it\\'s reasonable to conclude that a sign warning of school children in the vicinity would likely be similar to other warning signs mentioned but is not directly specified within the provided text.', 'The signal warns of a hazard ahead, which is indicated by warning signs. These signs are used to alert motorists of potentially hazardous conditions on or adjacent to the road, such as sharp turns, curves, winding roads, or other obstacles that may require caution and a reduction in speed.', 'The traffic sign you are referring to is likely a \"Guide or Informative Sign\", which informs and advises road users about directions, distances, routes, locations of services for road users, and points of interest. Specifically, it could be an \"Advance Direction\" sign, \"Intersection Direction\" sign, or a \"Reassurance Direction\" sign, which provide information about the direction and distance to a particular destination.', 'The mark for a railway crossing is not explicitly mentioned in the provided context, but according to standard traffic signs and symbols, a railway crossing is typically marked with a sign featuring a white crossbucks symbol on a blue or yellow background, and sometimes accompanied by flashing lights, bells, or gates. However, based on the hand signal descriptions provided, \"Watch Out for Railway Crossing\" involves extending the left arm out with the palm facing downward and motion in a crossing motion.', 'no available seats in the vehicle; hence, children must be held in approved child restraint systems while inside a moving vehicle.']' has dtype incompatible with float64, please explicitly cast to a compatible dtype first.\n",
      "  df.loc[qr_range[0]:qr_range[1]-1, \"AI\"] = [answ[0] for answ in ai_answer]\n"
     ]
    },
    {
     "ename": "ValueError",
     "evalue": "Must have equal len keys and value when setting with an ndarray",
     "output_type": "error",
     "traceback": [
      "\u001b[0;31m---------------------------------------------------------------------------\u001b[0m",
      "\u001b[0;31mValueError\u001b[0m                                Traceback (most recent call last)",
      "Cell \u001b[0;32mIn[67], line 14\u001b[0m\n\u001b[1;32m     11\u001b[0m     inference_times\u001b[38;5;241m.\u001b[39mappend(end_time \u001b[38;5;241m-\u001b[39m start_time)\n\u001b[1;32m     13\u001b[0m df\u001b[38;5;241m.\u001b[39mloc[qr_range[\u001b[38;5;241m0\u001b[39m]:qr_range[\u001b[38;5;241m1\u001b[39m]\u001b[38;5;241m-\u001b[39m\u001b[38;5;241m1\u001b[39m, \u001b[38;5;124m\"\u001b[39m\u001b[38;5;124mAI\u001b[39m\u001b[38;5;124m\"\u001b[39m] \u001b[38;5;241m=\u001b[39m [answ[\u001b[38;5;241m0\u001b[39m] \u001b[38;5;28;01mfor\u001b[39;00m answ \u001b[38;5;129;01min\u001b[39;00m ai_answer]\n\u001b[0;32m---> 14\u001b[0m \u001b[43mdf\u001b[49m\u001b[38;5;241;43m.\u001b[39;49m\u001b[43mloc\u001b[49m\u001b[43m[\u001b[49m\u001b[43mqr_range\u001b[49m\u001b[43m[\u001b[49m\u001b[38;5;241;43m0\u001b[39;49m\u001b[43m]\u001b[49m\u001b[43m:\u001b[49m\u001b[43mqr_range\u001b[49m\u001b[43m[\u001b[49m\u001b[38;5;241;43m1\u001b[39;49m\u001b[43m]\u001b[49m\u001b[38;5;241;43m-\u001b[39;49m\u001b[38;5;241;43m1\u001b[39;49m\u001b[43m,\u001b[49m\u001b[43m \u001b[49m\u001b[38;5;124;43m\"\u001b[39;49m\u001b[38;5;124;43mContext\u001b[39;49m\u001b[38;5;124;43m\"\u001b[39;49m\u001b[43m]\u001b[49m \u001b[38;5;241m=\u001b[39m [answ[\u001b[38;5;241m2\u001b[39m] \u001b[38;5;28;01mfor\u001b[39;00m answ \u001b[38;5;129;01min\u001b[39;00m ai_answer]\n\u001b[1;32m     15\u001b[0m df\u001b[38;5;241m.\u001b[39mloc[qr_range[\u001b[38;5;241m0\u001b[39m]:qr_range[\u001b[38;5;241m1\u001b[39m]\u001b[38;5;241m-\u001b[39m\u001b[38;5;241m1\u001b[39m, \u001b[38;5;124m\"\u001b[39m\u001b[38;5;124mInference_Time\u001b[39m\u001b[38;5;124m\"\u001b[39m] \u001b[38;5;241m=\u001b[39m inference_times \n\u001b[1;32m     16\u001b[0m df_new \u001b[38;5;241m=\u001b[39m df\u001b[38;5;241m.\u001b[39mloc[qr_range[\u001b[38;5;241m0\u001b[39m]:qr_range[\u001b[38;5;241m1\u001b[39m]\u001b[38;5;241m-\u001b[39m\u001b[38;5;241m1\u001b[39m]\u001b[38;5;241m.\u001b[39mcopy()\n",
      "File \u001b[0;32m~/lto_rag_reviewer/LTO_RAG/lib/python3.10/site-packages/pandas/core/indexing.py:911\u001b[0m, in \u001b[0;36m_LocationIndexer.__setitem__\u001b[0;34m(self, key, value)\u001b[0m\n\u001b[1;32m    908\u001b[0m \u001b[38;5;28mself\u001b[39m\u001b[38;5;241m.\u001b[39m_has_valid_setitem_indexer(key)\n\u001b[1;32m    910\u001b[0m iloc \u001b[38;5;241m=\u001b[39m \u001b[38;5;28mself\u001b[39m \u001b[38;5;28;01mif\u001b[39;00m \u001b[38;5;28mself\u001b[39m\u001b[38;5;241m.\u001b[39mname \u001b[38;5;241m==\u001b[39m \u001b[38;5;124m\"\u001b[39m\u001b[38;5;124miloc\u001b[39m\u001b[38;5;124m\"\u001b[39m \u001b[38;5;28;01melse\u001b[39;00m \u001b[38;5;28mself\u001b[39m\u001b[38;5;241m.\u001b[39mobj\u001b[38;5;241m.\u001b[39miloc\n\u001b[0;32m--> 911\u001b[0m \u001b[43miloc\u001b[49m\u001b[38;5;241;43m.\u001b[39;49m\u001b[43m_setitem_with_indexer\u001b[49m\u001b[43m(\u001b[49m\u001b[43mindexer\u001b[49m\u001b[43m,\u001b[49m\u001b[43m \u001b[49m\u001b[43mvalue\u001b[49m\u001b[43m,\u001b[49m\u001b[43m \u001b[49m\u001b[38;5;28;43mself\u001b[39;49m\u001b[38;5;241;43m.\u001b[39;49m\u001b[43mname\u001b[49m\u001b[43m)\u001b[49m\n",
      "File \u001b[0;32m~/lto_rag_reviewer/LTO_RAG/lib/python3.10/site-packages/pandas/core/indexing.py:1890\u001b[0m, in \u001b[0;36m_iLocIndexer._setitem_with_indexer\u001b[0;34m(self, indexer, value, name)\u001b[0m\n\u001b[1;32m   1885\u001b[0m         \u001b[38;5;28mself\u001b[39m\u001b[38;5;241m.\u001b[39mobj[key] \u001b[38;5;241m=\u001b[39m infer_fill_value(value)\n\u001b[1;32m   1887\u001b[0m     new_indexer \u001b[38;5;241m=\u001b[39m convert_from_missing_indexer_tuple(\n\u001b[1;32m   1888\u001b[0m         indexer, \u001b[38;5;28mself\u001b[39m\u001b[38;5;241m.\u001b[39mobj\u001b[38;5;241m.\u001b[39maxes\n\u001b[1;32m   1889\u001b[0m     )\n\u001b[0;32m-> 1890\u001b[0m     \u001b[38;5;28;43mself\u001b[39;49m\u001b[38;5;241;43m.\u001b[39;49m\u001b[43m_setitem_with_indexer\u001b[49m\u001b[43m(\u001b[49m\u001b[43mnew_indexer\u001b[49m\u001b[43m,\u001b[49m\u001b[43m \u001b[49m\u001b[43mvalue\u001b[49m\u001b[43m,\u001b[49m\u001b[43m \u001b[49m\u001b[43mname\u001b[49m\u001b[43m)\u001b[49m\n\u001b[1;32m   1892\u001b[0m     \u001b[38;5;28;01mreturn\u001b[39;00m\n\u001b[1;32m   1894\u001b[0m \u001b[38;5;66;03m# reindex the axis\u001b[39;00m\n\u001b[1;32m   1895\u001b[0m \u001b[38;5;66;03m# make sure to clear the cache because we are\u001b[39;00m\n\u001b[1;32m   1896\u001b[0m \u001b[38;5;66;03m# just replacing the block manager here\u001b[39;00m\n\u001b[1;32m   1897\u001b[0m \u001b[38;5;66;03m# so the object is the same\u001b[39;00m\n",
      "File \u001b[0;32m~/lto_rag_reviewer/LTO_RAG/lib/python3.10/site-packages/pandas/core/indexing.py:1942\u001b[0m, in \u001b[0;36m_iLocIndexer._setitem_with_indexer\u001b[0;34m(self, indexer, value, name)\u001b[0m\n\u001b[1;32m   1939\u001b[0m \u001b[38;5;66;03m# align and set the values\u001b[39;00m\n\u001b[1;32m   1940\u001b[0m \u001b[38;5;28;01mif\u001b[39;00m take_split_path:\n\u001b[1;32m   1941\u001b[0m     \u001b[38;5;66;03m# We have to operate column-wise\u001b[39;00m\n\u001b[0;32m-> 1942\u001b[0m     \u001b[38;5;28;43mself\u001b[39;49m\u001b[38;5;241;43m.\u001b[39;49m\u001b[43m_setitem_with_indexer_split_path\u001b[49m\u001b[43m(\u001b[49m\u001b[43mindexer\u001b[49m\u001b[43m,\u001b[49m\u001b[43m \u001b[49m\u001b[43mvalue\u001b[49m\u001b[43m,\u001b[49m\u001b[43m \u001b[49m\u001b[43mname\u001b[49m\u001b[43m)\u001b[49m\n\u001b[1;32m   1943\u001b[0m \u001b[38;5;28;01melse\u001b[39;00m:\n\u001b[1;32m   1944\u001b[0m     \u001b[38;5;28mself\u001b[39m\u001b[38;5;241m.\u001b[39m_setitem_single_block(indexer, value, name)\n",
      "File \u001b[0;32m~/lto_rag_reviewer/LTO_RAG/lib/python3.10/site-packages/pandas/core/indexing.py:1982\u001b[0m, in \u001b[0;36m_iLocIndexer._setitem_with_indexer_split_path\u001b[0;34m(self, indexer, value, name)\u001b[0m\n\u001b[1;32m   1977\u001b[0m     \u001b[38;5;28mself\u001b[39m\u001b[38;5;241m.\u001b[39m_setitem_with_indexer_frame_value(indexer, value, name)\n\u001b[1;32m   1979\u001b[0m \u001b[38;5;28;01melif\u001b[39;00m np\u001b[38;5;241m.\u001b[39mndim(value) \u001b[38;5;241m==\u001b[39m \u001b[38;5;241m2\u001b[39m:\n\u001b[1;32m   1980\u001b[0m     \u001b[38;5;66;03m# TODO: avoid np.ndim call in case it isn't an ndarray, since\u001b[39;00m\n\u001b[1;32m   1981\u001b[0m     \u001b[38;5;66;03m#  that will construct an ndarray, which will be wasteful\u001b[39;00m\n\u001b[0;32m-> 1982\u001b[0m     \u001b[38;5;28;43mself\u001b[39;49m\u001b[38;5;241;43m.\u001b[39;49m\u001b[43m_setitem_with_indexer_2d_value\u001b[49m\u001b[43m(\u001b[49m\u001b[43mindexer\u001b[49m\u001b[43m,\u001b[49m\u001b[43m \u001b[49m\u001b[43mvalue\u001b[49m\u001b[43m)\u001b[49m\n\u001b[1;32m   1984\u001b[0m \u001b[38;5;28;01melif\u001b[39;00m \u001b[38;5;28mlen\u001b[39m(ilocs) \u001b[38;5;241m==\u001b[39m \u001b[38;5;241m1\u001b[39m \u001b[38;5;129;01mand\u001b[39;00m lplane_indexer \u001b[38;5;241m==\u001b[39m \u001b[38;5;28mlen\u001b[39m(value) \u001b[38;5;129;01mand\u001b[39;00m \u001b[38;5;129;01mnot\u001b[39;00m is_scalar(pi):\n\u001b[1;32m   1985\u001b[0m     \u001b[38;5;66;03m# We are setting multiple rows in a single column.\u001b[39;00m\n\u001b[1;32m   1986\u001b[0m     \u001b[38;5;28mself\u001b[39m\u001b[38;5;241m.\u001b[39m_setitem_single_column(ilocs[\u001b[38;5;241m0\u001b[39m], value, pi)\n",
      "File \u001b[0;32m~/lto_rag_reviewer/LTO_RAG/lib/python3.10/site-packages/pandas/core/indexing.py:2048\u001b[0m, in \u001b[0;36m_iLocIndexer._setitem_with_indexer_2d_value\u001b[0;34m(self, indexer, value)\u001b[0m\n\u001b[1;32m   2046\u001b[0m     value \u001b[38;5;241m=\u001b[39m np\u001b[38;5;241m.\u001b[39marray(value, dtype\u001b[38;5;241m=\u001b[39m\u001b[38;5;28mobject\u001b[39m)\n\u001b[1;32m   2047\u001b[0m \u001b[38;5;28;01mif\u001b[39;00m \u001b[38;5;28mlen\u001b[39m(ilocs) \u001b[38;5;241m!=\u001b[39m value\u001b[38;5;241m.\u001b[39mshape[\u001b[38;5;241m1\u001b[39m]:\n\u001b[0;32m-> 2048\u001b[0m     \u001b[38;5;28;01mraise\u001b[39;00m \u001b[38;5;167;01mValueError\u001b[39;00m(\n\u001b[1;32m   2049\u001b[0m         \u001b[38;5;124m\"\u001b[39m\u001b[38;5;124mMust have equal len keys and value when setting with an ndarray\u001b[39m\u001b[38;5;124m\"\u001b[39m\n\u001b[1;32m   2050\u001b[0m     )\n\u001b[1;32m   2052\u001b[0m \u001b[38;5;28;01mfor\u001b[39;00m i, loc \u001b[38;5;129;01min\u001b[39;00m \u001b[38;5;28menumerate\u001b[39m(ilocs):\n\u001b[1;32m   2053\u001b[0m     value_col \u001b[38;5;241m=\u001b[39m value[:, i]\n",
      "\u001b[0;31mValueError\u001b[0m: Must have equal len keys and value when setting with an ndarray"
     ]
    }
   ],
   "source": [
    "import time\n",
    "qr_range = (0,60)\n",
    "df[\"AI\"] = np.nan\n",
    "ai_answer = []\n",
    "inference_times = []\n",
    "\n",
    "for i in tqdm(range(*qr_range)):\n",
    "    start_time = time.time()\n",
    "    ai_answer.append(gen_query(df.loc[i,\"Prompt\"],  top_k=15, client=client, mode='dense', model=\"llama3.3\"))\n",
    "    end_time = time.time()\n",
    "    inference_times.append(end_time - start_time)\n",
    "\n"
   ]
  },
  {
   "cell_type": "code",
   "execution_count": null,
   "id": "177b1c8a",
   "metadata": {},
   "outputs": [],
   "source": [
    "df.loc[qr_range[0]:qr_range[1]-1, \"AI\"] = [answ[0] for answ in ai_answer]\n",
    "df.loc[qr_range[0]:qr_range[1]-1, \"Context\"] = [\" \".join(map(str, answ[2])) for answ in ai_answer]\n",
    "df.loc[qr_range[0]:qr_range[1]-1, \"Inference_Time\"] = inference_times \n",
    "df_new = df.loc[qr_range[0]:qr_range[1]-1].copy()\n",
    "df = df_new.copy()"
   ]
  },
  {
   "cell_type": "markdown",
   "id": "ff163608",
   "metadata": {},
   "source": [
    "# 10. Similarity Evaluation"
   ]
  },
  {
   "cell_type": "code",
   "execution_count": null,
   "id": "1f764b2f",
   "metadata": {},
   "outputs": [
    {
     "name": "stderr",
     "output_type": "stream",
     "text": [
      "100%|██████████| 60/60 [00:06<00:00,  9.29it/s]"
     ]
    },
    {
     "name": "stdout",
     "output_type": "stream",
     "text": [
      "Average Score: 0.6590\n",
      "Passing: 48/60\n"
     ]
    },
    {
     "name": "stderr",
     "output_type": "stream",
     "text": [
      "\n"
     ]
    },
    {
     "data": {
      "text/html": [
       "<div>\n",
       "<style scoped>\n",
       "    .dataframe tbody tr th:only-of-type {\n",
       "        vertical-align: middle;\n",
       "    }\n",
       "\n",
       "    .dataframe tbody tr th {\n",
       "        vertical-align: top;\n",
       "    }\n",
       "\n",
       "    .dataframe thead th {\n",
       "        text-align: right;\n",
       "    }\n",
       "</style>\n",
       "<table border=\"1\" class=\"dataframe\">\n",
       "  <thead>\n",
       "    <tr style=\"text-align: right;\">\n",
       "      <th></th>\n",
       "      <th>Question</th>\n",
       "      <th>Answer</th>\n",
       "      <th>AI</th>\n",
       "      <th>Score</th>\n",
       "      <th>Passing</th>\n",
       "      <th>Inference_Time</th>\n",
       "    </tr>\n",
       "  </thead>\n",
       "  <tbody>\n",
       "    <tr>\n",
       "      <th>0</th>\n",
       "      <td>Traffic Jam can be prevented if you</td>\n",
       "      <td>Keep opposing lanes open</td>\n",
       "      <td>To prevent traffic jams, it's essential to pra...</td>\n",
       "      <td>0.696911</td>\n",
       "      <td>True</td>\n",
       "      <td>167.875098</td>\n",
       "    </tr>\n",
       "    <tr>\n",
       "      <th>1</th>\n",
       "      <td>When making a right turn you should</td>\n",
       "      <td>Stay on the outermost lane of the road then si...</td>\n",
       "      <td>When making a right turn, you should drive in ...</td>\n",
       "      <td>0.779041</td>\n",
       "      <td>True</td>\n",
       "      <td>155.435959</td>\n",
       "    </tr>\n",
       "    <tr>\n",
       "      <th>2</th>\n",
       "      <td>When you intend to turn right or left, signal ...</td>\n",
       "      <td>25 meters before you intend to make your turn</td>\n",
       "      <td>30 meters before turning. \\n\\nHowever, since t...</td>\n",
       "      <td>0.794384</td>\n",
       "      <td>True</td>\n",
       "      <td>107.802828</td>\n",
       "    </tr>\n",
       "    <tr>\n",
       "      <th>3</th>\n",
       "      <td>At an intersection with a traffic light, make ...</td>\n",
       "      <td>The green light is on and there is a left turn...</td>\n",
       "      <td>At an intersection with a traffic light, make ...</td>\n",
       "      <td>0.776484</td>\n",
       "      <td>True</td>\n",
       "      <td>112.805041</td>\n",
       "    </tr>\n",
       "    <tr>\n",
       "      <th>4</th>\n",
       "      <td>Graft and corruption in the traffic enforcemen...</td>\n",
       "      <td>Self disciplined by drivers and obeying traffi...</td>\n",
       "      <td>To eliminate graft and corruption in the traff...</td>\n",
       "      <td>0.607796</td>\n",
       "      <td>True</td>\n",
       "      <td>171.503720</td>\n",
       "    </tr>\n",
       "    <tr>\n",
       "      <th>5</th>\n",
       "      <td>On a four(4) lane road with single white line,...</td>\n",
       "      <td>Overtake by passing over the solid white line</td>\n",
       "      <td>On a four-lane road with a single white line, ...</td>\n",
       "      <td>0.827382</td>\n",
       "      <td>True</td>\n",
       "      <td>120.294474</td>\n",
       "    </tr>\n",
       "    <tr>\n",
       "      <th>6</th>\n",
       "      <td>A double solid yellow line with broken white l...</td>\n",
       "      <td>Absolutely no overtaking</td>\n",
       "      <td>A double solid yellow line with a broken white...</td>\n",
       "      <td>0.566641</td>\n",
       "      <td>False</td>\n",
       "      <td>123.971421</td>\n",
       "    </tr>\n",
       "    <tr>\n",
       "      <th>7</th>\n",
       "      <td>When making a U-Turn, you should</td>\n",
       "      <td>Check for traffic behind you and indicate your...</td>\n",
       "      <td>The provided text does not specifically discus...</td>\n",
       "      <td>0.663100</td>\n",
       "      <td>True</td>\n",
       "      <td>139.088943</td>\n",
       "    </tr>\n",
       "    <tr>\n",
       "      <th>8</th>\n",
       "      <td>Signs that are triangular in shape and with a ...</td>\n",
       "      <td>Caution or warning signs</td>\n",
       "      <td>Warning signs, which are typically triangular ...</td>\n",
       "      <td>0.731701</td>\n",
       "      <td>True</td>\n",
       "      <td>71.944613</td>\n",
       "    </tr>\n",
       "    <tr>\n",
       "      <th>9</th>\n",
       "      <td>Signs that are round, inverted triangle or oct...</td>\n",
       "      <td>Regulatory signs</td>\n",
       "      <td>Warning signs are typically characterized by a...</td>\n",
       "      <td>0.747711</td>\n",
       "      <td>True</td>\n",
       "      <td>82.784009</td>\n",
       "    </tr>\n",
       "    <tr>\n",
       "      <th>10</th>\n",
       "      <td>Signs that are round, rectangular with white a...</td>\n",
       "      <td>Informative signs</td>\n",
       "      <td>Based on the provided context, it appears that...</td>\n",
       "      <td>0.724021</td>\n",
       "      <td>True</td>\n",
       "      <td>76.928701</td>\n",
       "    </tr>\n",
       "    <tr>\n",
       "      <th>11</th>\n",
       "      <td>Single with broken line on a two-lane road means</td>\n",
       "      <td>It separates traffic moving in opposite direct...</td>\n",
       "      <td>Based on the provided context, a single solid ...</td>\n",
       "      <td>0.704005</td>\n",
       "      <td>True</td>\n",
       "      <td>77.019226</td>\n",
       "    </tr>\n",
       "    <tr>\n",
       "      <th>12</th>\n",
       "      <td>What to do when you approach a crosswalk or pe...</td>\n",
       "      <td>Stop and yield to pedestrian</td>\n",
       "      <td>When approaching a crosswalk or pedestrian lan...</td>\n",
       "      <td>0.766770</td>\n",
       "      <td>True</td>\n",
       "      <td>87.406784</td>\n",
       "    </tr>\n",
       "    <tr>\n",
       "      <th>13</th>\n",
       "      <td>Driving an unregistered motor vehicle is a vio...</td>\n",
       "      <td>Fine of P10,000</td>\n",
       "      <td>According to the text, driving an unregistered...</td>\n",
       "      <td>0.763478</td>\n",
       "      <td>True</td>\n",
       "      <td>59.630971</td>\n",
       "    </tr>\n",
       "    <tr>\n",
       "      <th>14</th>\n",
       "      <td>Considered a parking violation?</td>\n",
       "      <td>Parking within five(5) meters from a signalize...</td>\n",
       "      <td>Yes, parking within 4 meters of a fire hydrant...</td>\n",
       "      <td>0.660584</td>\n",
       "      <td>True</td>\n",
       "      <td>68.208321</td>\n",
       "    </tr>\n",
       "    <tr>\n",
       "      <th>15</th>\n",
       "      <td>Green light at an intersection means</td>\n",
       "      <td>Pedestrian are not allowed to cross the pedest...</td>\n",
       "      <td>Based on the provided context, it is not expli...</td>\n",
       "      <td>0.496659</td>\n",
       "      <td>False</td>\n",
       "      <td>74.743332</td>\n",
       "    </tr>\n",
       "    <tr>\n",
       "      <th>16</th>\n",
       "      <td>Steady red light at an intersection means</td>\n",
       "      <td>Stop at the designated line</td>\n",
       "      <td>A steady red light at an intersection means yo...</td>\n",
       "      <td>0.685884</td>\n",
       "      <td>True</td>\n",
       "      <td>78.739698</td>\n",
       "    </tr>\n",
       "    <tr>\n",
       "      <th>17</th>\n",
       "      <td>The penalty of driving a motor vehicle while u...</td>\n",
       "      <td>Driver's license shall be confiscated and susp...</td>\n",
       "      <td>The penalty for driving a motor vehicle while ...</td>\n",
       "      <td>0.603612</td>\n",
       "      <td>True</td>\n",
       "      <td>91.548091</td>\n",
       "    </tr>\n",
       "    <tr>\n",
       "      <th>18</th>\n",
       "      <td>When a driver of PUV refuses to render service...</td>\n",
       "      <td>Fine of P1,000</td>\n",
       "      <td>For the owner or operator of the land public t...</td>\n",
       "      <td>0.777463</td>\n",
       "      <td>True</td>\n",
       "      <td>65.209021</td>\n",
       "    </tr>\n",
       "    <tr>\n",
       "      <th>19</th>\n",
       "      <td>If the driver is using a motor vehicle in comm...</td>\n",
       "      <td>Revoked and will pay a fine</td>\n",
       "      <td>Based on the context provided, if the driver i...</td>\n",
       "      <td>0.648775</td>\n",
       "      <td>True</td>\n",
       "      <td>70.294148</td>\n",
       "    </tr>\n",
       "    <tr>\n",
       "      <th>20</th>\n",
       "      <td>The minimum distance away from the vehicle are...</td>\n",
       "      <td>1 car length</td>\n",
       "      <td>The minimum distance away from the vehicle you...</td>\n",
       "      <td>0.647479</td>\n",
       "      <td>True</td>\n",
       "      <td>72.828892</td>\n",
       "    </tr>\n",
       "    <tr>\n",
       "      <th>21</th>\n",
       "      <td>When do you have a complete/full stop?</td>\n",
       "      <td>At a red traffic light</td>\n",
       "      <td>According to the text, a complete or full stop...</td>\n",
       "      <td>0.521779</td>\n",
       "      <td>False</td>\n",
       "      <td>66.503715</td>\n",
       "    </tr>\n",
       "    <tr>\n",
       "      <th>22</th>\n",
       "      <td>On a two-lane road, overtaking is only allowed...</td>\n",
       "      <td>Left lane</td>\n",
       "      <td>On a two-lane road, overtaking is only allowed...</td>\n",
       "      <td>0.654090</td>\n",
       "      <td>True</td>\n",
       "      <td>78.466986</td>\n",
       "    </tr>\n",
       "    <tr>\n",
       "      <th>23</th>\n",
       "      <td>Parking is considered as a violation when a mo...</td>\n",
       "      <td>Park at the entrance and exit of hospital and ...</td>\n",
       "      <td>Based on the provided context, parking is cons...</td>\n",
       "      <td>0.612623</td>\n",
       "      <td>True</td>\n",
       "      <td>72.898436</td>\n",
       "    </tr>\n",
       "    <tr>\n",
       "      <th>24</th>\n",
       "      <td>Parking is prohibited</td>\n",
       "      <td>Within an intersection</td>\n",
       "      <td>Parking is prohibited in the following areas:\\...</td>\n",
       "      <td>0.641703</td>\n",
       "      <td>True</td>\n",
       "      <td>91.272021</td>\n",
       "    </tr>\n",
       "    <tr>\n",
       "      <th>25</th>\n",
       "      <td>When the traffic light is steady green and ste...</td>\n",
       "      <td>Vehicles can go straight or vehicles on the ri...</td>\n",
       "      <td>When the traffic light is steady green and a s...</td>\n",
       "      <td>0.700925</td>\n",
       "      <td>True</td>\n",
       "      <td>98.028761</td>\n",
       "    </tr>\n",
       "    <tr>\n",
       "      <th>26</th>\n",
       "      <td>What is the maximum penalty for driving under ...</td>\n",
       "      <td>Revocation of license</td>\n",
       "      <td>The maximum penalty for driving under the infl...</td>\n",
       "      <td>0.590081</td>\n",
       "      <td>False</td>\n",
       "      <td>69.283138</td>\n",
       "    </tr>\n",
       "    <tr>\n",
       "      <th>27</th>\n",
       "      <td>On a wet road, you must</td>\n",
       "      <td>Slow down</td>\n",
       "      <td>Reduce your speed to avoid skidding or hydropl...</td>\n",
       "      <td>0.754183</td>\n",
       "      <td>True</td>\n",
       "      <td>58.724215</td>\n",
       "    </tr>\n",
       "    <tr>\n",
       "      <th>28</th>\n",
       "      <td>While driving with a maximum speed and you hav...</td>\n",
       "      <td>Apply your brake gently with steady pressure</td>\n",
       "      <td>According to the provided context, if you need...</td>\n",
       "      <td>0.648110</td>\n",
       "      <td>True</td>\n",
       "      <td>91.295025</td>\n",
       "    </tr>\n",
       "    <tr>\n",
       "      <th>29</th>\n",
       "      <td>When another vehicle is following you too clos...</td>\n",
       "      <td>Slow down gradually and give him the signal to...</td>\n",
       "      <td>When another vehicle is following you too clos...</td>\n",
       "      <td>0.705316</td>\n",
       "      <td>True</td>\n",
       "      <td>68.584373</td>\n",
       "    </tr>\n",
       "    <tr>\n",
       "      <th>30</th>\n",
       "      <td>The driver of the vehicle behind you should al...</td>\n",
       "      <td>Rear end crashes</td>\n",
       "      <td>The driver of the vehicle behind you should al...</td>\n",
       "      <td>0.542258</td>\n",
       "      <td>False</td>\n",
       "      <td>63.430651</td>\n",
       "    </tr>\n",
       "    <tr>\n",
       "      <th>31</th>\n",
       "      <td>When parking uphill without a curb, turn your ...</td>\n",
       "      <td>Towards the edge of the road</td>\n",
       "      <td>toward the right (or away from the road)</td>\n",
       "      <td>0.860591</td>\n",
       "      <td>True</td>\n",
       "      <td>52.873522</td>\n",
       "    </tr>\n",
       "    <tr>\n",
       "      <th>32</th>\n",
       "      <td>When parking downhill, you must</td>\n",
       "      <td>Turn your wheels to curb</td>\n",
       "      <td>When parking downhill, you must turn your whee...</td>\n",
       "      <td>0.700576</td>\n",
       "      <td>True</td>\n",
       "      <td>58.278779</td>\n",
       "    </tr>\n",
       "    <tr>\n",
       "      <th>33</th>\n",
       "      <td>When parking uphill, you must</td>\n",
       "      <td>Turn your wheels aways from the curb</td>\n",
       "      <td>When parking uphill, you must turn your wheels...</td>\n",
       "      <td>0.754033</td>\n",
       "      <td>True</td>\n",
       "      <td>51.268423</td>\n",
       "    </tr>\n",
       "    <tr>\n",
       "      <th>34</th>\n",
       "      <td>When you make an abrupt move especially when y...</td>\n",
       "      <td>Improper braking</td>\n",
       "      <td>When you make an abrupt move, especially when ...</td>\n",
       "      <td>0.677667</td>\n",
       "      <td>True</td>\n",
       "      <td>61.393743</td>\n",
       "    </tr>\n",
       "    <tr>\n",
       "      <th>35</th>\n",
       "      <td>Whenever you are driving, especially when over...</td>\n",
       "      <td>Never overtake another vehicle from a tailgat...</td>\n",
       "      <td>When driving, especially when overtaking, it's...</td>\n",
       "      <td>0.680966</td>\n",
       "      <td>True</td>\n",
       "      <td>99.013248</td>\n",
       "    </tr>\n",
       "    <tr>\n",
       "      <th>36</th>\n",
       "      <td>When driving on a highway, do not stare at the...</td>\n",
       "      <td>Extend your scanning distance to about 12 seco...</td>\n",
       "      <td>When driving on a highway, do not stare at the...</td>\n",
       "      <td>0.631310</td>\n",
       "      <td>True</td>\n",
       "      <td>72.245416</td>\n",
       "    </tr>\n",
       "    <tr>\n",
       "      <th>37</th>\n",
       "      <td>When driving on a mountain roads during daytim...</td>\n",
       "      <td>Blow your horn when approaching a blind curve</td>\n",
       "      <td>When driving on mountain roads during the dayt...</td>\n",
       "      <td>0.582123</td>\n",
       "      <td>False</td>\n",
       "      <td>81.043026</td>\n",
       "    </tr>\n",
       "    <tr>\n",
       "      <th>38</th>\n",
       "      <td>When driving downhill on a mountain road always</td>\n",
       "      <td>Shift to lower gear so the engine braking acti...</td>\n",
       "      <td>When driving downhill on a mountain road, alwa...</td>\n",
       "      <td>0.665329</td>\n",
       "      <td>True</td>\n",
       "      <td>69.195043</td>\n",
       "    </tr>\n",
       "    <tr>\n",
       "      <th>39</th>\n",
       "      <td>The headlights should be used often as needed to</td>\n",
       "      <td>Make your intentions known to drivers around you</td>\n",
       "      <td>The headlights should be used often as needed ...</td>\n",
       "      <td>0.631502</td>\n",
       "      <td>True</td>\n",
       "      <td>63.674614</td>\n",
       "    </tr>\n",
       "    <tr>\n",
       "      <th>40</th>\n",
       "      <td>At an intersection, if two (2) vehicles arrive...</td>\n",
       "      <td>Vehicle on the right</td>\n",
       "      <td>According to RA 4136, when two vehicles arrive...</td>\n",
       "      <td>0.705921</td>\n",
       "      <td>True</td>\n",
       "      <td>75.969754</td>\n",
       "    </tr>\n",
       "    <tr>\n",
       "      <th>41</th>\n",
       "      <td>When negotiating a curve on a highway at a rel...</td>\n",
       "      <td>Decrease your speed further as you enter the c...</td>\n",
       "      <td>When negotiating a curve on a highway at a rel...</td>\n",
       "      <td>0.727971</td>\n",
       "      <td>True</td>\n",
       "      <td>83.220189</td>\n",
       "    </tr>\n",
       "    <tr>\n",
       "      <th>42</th>\n",
       "      <td>When planning to overtake a slower vehicle in ...</td>\n",
       "      <td>Flick your dimmer, switch two or three times t...</td>\n",
       "      <td>When planning to overtake a slower vehicle in ...</td>\n",
       "      <td>0.673971</td>\n",
       "      <td>True</td>\n",
       "      <td>94.506074</td>\n",
       "    </tr>\n",
       "    <tr>\n",
       "      <th>43</th>\n",
       "      <td>Driving in heavy rains can be extremely danger...</td>\n",
       "      <td>When you cannot see more than 20 meters in fro...</td>\n",
       "      <td>When driving in heavy rains, it's essential to...</td>\n",
       "      <td>0.647283</td>\n",
       "      <td>True</td>\n",
       "      <td>96.570145</td>\n",
       "    </tr>\n",
       "    <tr>\n",
       "      <th>44</th>\n",
       "      <td>A flashing red light means</td>\n",
       "      <td>You must stop and then go only when it is safe...</td>\n",
       "      <td>A flashing red light means you must come to a ...</td>\n",
       "      <td>0.625127</td>\n",
       "      <td>True</td>\n",
       "      <td>72.880036</td>\n",
       "    </tr>\n",
       "    <tr>\n",
       "      <th>45</th>\n",
       "      <td>Your speed while driving at night should keep on</td>\n",
       "      <td>The distance that you can see where you come t...</td>\n",
       "      <td>Your speed while driving at night should be ad...</td>\n",
       "      <td>0.679124</td>\n",
       "      <td>True</td>\n",
       "      <td>71.543485</td>\n",
       "    </tr>\n",
       "    <tr>\n",
       "      <th>46</th>\n",
       "      <td>One that affects your visibility?</td>\n",
       "      <td>Defective or dirty headlights</td>\n",
       "      <td>Based on the provided context, one thing that ...</td>\n",
       "      <td>0.670717</td>\n",
       "      <td>True</td>\n",
       "      <td>80.181518</td>\n",
       "    </tr>\n",
       "    <tr>\n",
       "      <th>47</th>\n",
       "      <td>When driving at night, you should</td>\n",
       "      <td>Always turn your headlights on</td>\n",
       "      <td>When driving at night, you should:\\n\\n* Use yo...</td>\n",
       "      <td>0.723490</td>\n",
       "      <td>True</td>\n",
       "      <td>77.456353</td>\n",
       "    </tr>\n",
       "    <tr>\n",
       "      <th>48</th>\n",
       "      <td>Being passed is normal part of driving and sho...</td>\n",
       "      <td>Slow down and make it easy to stop</td>\n",
       "      <td>When being passed, it's essential to maintain ...</td>\n",
       "      <td>0.611397</td>\n",
       "      <td>True</td>\n",
       "      <td>65.722008</td>\n",
       "    </tr>\n",
       "    <tr>\n",
       "      <th>49</th>\n",
       "      <td>When oncoming vehicle deliberately crosses the...</td>\n",
       "      <td>Alert and be ready to slow down or stop if nec...</td>\n",
       "      <td>Based on the context provided, when an oncomin...</td>\n",
       "      <td>0.656735</td>\n",
       "      <td>True</td>\n",
       "      <td>150.891243</td>\n",
       "    </tr>\n",
       "    <tr>\n",
       "      <th>50</th>\n",
       "      <td>When approaching a flooded area and you have t...</td>\n",
       "      <td>Proceed at a very slow speed</td>\n",
       "      <td>When approaching a flooded area and you have t...</td>\n",
       "      <td>0.578863</td>\n",
       "      <td>False</td>\n",
       "      <td>170.452769</td>\n",
       "    </tr>\n",
       "    <tr>\n",
       "      <th>51</th>\n",
       "      <td>A single solid yellow or white line means</td>\n",
       "      <td>Passing/overtaking is not allowed</td>\n",
       "      <td>A single solid yellow or white line means that...</td>\n",
       "      <td>0.658375</td>\n",
       "      <td>True</td>\n",
       "      <td>135.801747</td>\n",
       "    </tr>\n",
       "    <tr>\n",
       "      <th>52</th>\n",
       "      <td>Passing/overtaking is allowed</td>\n",
       "      <td>On highway with two or more lanes</td>\n",
       "      <td>Based on the provided context, passing or over...</td>\n",
       "      <td>0.690468</td>\n",
       "      <td>True</td>\n",
       "      <td>153.771614</td>\n",
       "    </tr>\n",
       "    <tr>\n",
       "      <th>53</th>\n",
       "      <td>A driver on a highway shall yield the right of...</td>\n",
       "      <td>Police / fire department vehicles and ambulanc...</td>\n",
       "      <td>A driver on a highway shall yield the right of...</td>\n",
       "      <td>0.657518</td>\n",
       "      <td>True</td>\n",
       "      <td>125.202210</td>\n",
       "    </tr>\n",
       "    <tr>\n",
       "      <th>54</th>\n",
       "      <td>A driver on a highway shall yield the right of...</td>\n",
       "      <td>Pedestrians crossing within a crosswalk</td>\n",
       "      <td>A driver on a highway shall yield the right of...</td>\n",
       "      <td>0.738585</td>\n",
       "      <td>True</td>\n",
       "      <td>110.887928</td>\n",
       "    </tr>\n",
       "    <tr>\n",
       "      <th>55</th>\n",
       "      <td>This traffic signs warns you that school child...</td>\n",
       "      <td>Pentagon</td>\n",
       "      <td>The traffic sign that warns you that school ch...</td>\n",
       "      <td>0.376708</td>\n",
       "      <td>False</td>\n",
       "      <td>125.853883</td>\n",
       "    </tr>\n",
       "    <tr>\n",
       "      <th>56</th>\n",
       "      <td>The signal warns of a hazard ahead</td>\n",
       "      <td>Diamond shape</td>\n",
       "      <td>The signal warns of a hazard ahead, which is i...</td>\n",
       "      <td>0.389934</td>\n",
       "      <td>False</td>\n",
       "      <td>129.351698</td>\n",
       "    </tr>\n",
       "    <tr>\n",
       "      <th>57</th>\n",
       "      <td>This traffic sign states direction and distances</td>\n",
       "      <td>Horizontal rectangle</td>\n",
       "      <td>The traffic sign you are referring to is likel...</td>\n",
       "      <td>0.463175</td>\n",
       "      <td>False</td>\n",
       "      <td>126.881301</td>\n",
       "    </tr>\n",
       "    <tr>\n",
       "      <th>58</th>\n",
       "      <td>The mark for a railway crossing</td>\n",
       "      <td>Cross-buck</td>\n",
       "      <td>The mark for a railway crossing is not explici...</td>\n",
       "      <td>0.502700</td>\n",
       "      <td>False</td>\n",
       "      <td>145.812920</td>\n",
       "    </tr>\n",
       "    <tr>\n",
       "      <th>59</th>\n",
       "      <td>Children must be held in approved child restra...</td>\n",
       "      <td>6 years old and below</td>\n",
       "      <td>no available seats in the vehicle; hence, chil...</td>\n",
       "      <td>0.537967</td>\n",
       "      <td>False</td>\n",
       "      <td>122.328813</td>\n",
       "    </tr>\n",
       "  </tbody>\n",
       "</table>\n",
       "</div>"
      ],
      "text/plain": [
       "                                             Question  \\\n",
       "0                 Traffic Jam can be prevented if you   \n",
       "1                 When making a right turn you should   \n",
       "2   When you intend to turn right or left, signal ...   \n",
       "3   At an intersection with a traffic light, make ...   \n",
       "4   Graft and corruption in the traffic enforcemen...   \n",
       "5   On a four(4) lane road with single white line,...   \n",
       "6   A double solid yellow line with broken white l...   \n",
       "7                    When making a U-Turn, you should   \n",
       "8   Signs that are triangular in shape and with a ...   \n",
       "9   Signs that are round, inverted triangle or oct...   \n",
       "10  Signs that are round, rectangular with white a...   \n",
       "11   Single with broken line on a two-lane road means   \n",
       "12  What to do when you approach a crosswalk or pe...   \n",
       "13  Driving an unregistered motor vehicle is a vio...   \n",
       "14                    Considered a parking violation?   \n",
       "15               Green light at an intersection means   \n",
       "16          Steady red light at an intersection means   \n",
       "17  The penalty of driving a motor vehicle while u...   \n",
       "18  When a driver of PUV refuses to render service...   \n",
       "19  If the driver is using a motor vehicle in comm...   \n",
       "20  The minimum distance away from the vehicle are...   \n",
       "21             When do you have a complete/full stop?   \n",
       "22  On a two-lane road, overtaking is only allowed...   \n",
       "23  Parking is considered as a violation when a mo...   \n",
       "24                              Parking is prohibited   \n",
       "25  When the traffic light is steady green and ste...   \n",
       "26  What is the maximum penalty for driving under ...   \n",
       "27                            On a wet road, you must   \n",
       "28  While driving with a maximum speed and you hav...   \n",
       "29  When another vehicle is following you too clos...   \n",
       "30  The driver of the vehicle behind you should al...   \n",
       "31  When parking uphill without a curb, turn your ...   \n",
       "32                    When parking downhill, you must   \n",
       "33                      When parking uphill, you must   \n",
       "34  When you make an abrupt move especially when y...   \n",
       "35  Whenever you are driving, especially when over...   \n",
       "36  When driving on a highway, do not stare at the...   \n",
       "37  When driving on a mountain roads during daytim...   \n",
       "38    When driving downhill on a mountain road always   \n",
       "39   The headlights should be used often as needed to   \n",
       "40  At an intersection, if two (2) vehicles arrive...   \n",
       "41  When negotiating a curve on a highway at a rel...   \n",
       "42  When planning to overtake a slower vehicle in ...   \n",
       "43  Driving in heavy rains can be extremely danger...   \n",
       "44                         A flashing red light means   \n",
       "45   Your speed while driving at night should keep on   \n",
       "46                  One that affects your visibility?   \n",
       "47                  When driving at night, you should   \n",
       "48  Being passed is normal part of driving and sho...   \n",
       "49  When oncoming vehicle deliberately crosses the...   \n",
       "50  When approaching a flooded area and you have t...   \n",
       "51          A single solid yellow or white line means   \n",
       "52                      Passing/overtaking is allowed   \n",
       "53  A driver on a highway shall yield the right of...   \n",
       "54  A driver on a highway shall yield the right of...   \n",
       "55  This traffic signs warns you that school child...   \n",
       "56                 The signal warns of a hazard ahead   \n",
       "57   This traffic sign states direction and distances   \n",
       "58                    The mark for a railway crossing   \n",
       "59  Children must be held in approved child restra...   \n",
       "\n",
       "                                               Answer  \\\n",
       "0                            Keep opposing lanes open   \n",
       "1   Stay on the outermost lane of the road then si...   \n",
       "2       25 meters before you intend to make your turn   \n",
       "3   The green light is on and there is a left turn...   \n",
       "4   Self disciplined by drivers and obeying traffi...   \n",
       "5       Overtake by passing over the solid white line   \n",
       "6                            Absolutely no overtaking   \n",
       "7   Check for traffic behind you and indicate your...   \n",
       "8                            Caution or warning signs   \n",
       "9                                    Regulatory signs   \n",
       "10                                  Informative signs   \n",
       "11  It separates traffic moving in opposite direct...   \n",
       "12                       Stop and yield to pedestrian   \n",
       "13                                    Fine of P10,000   \n",
       "14  Parking within five(5) meters from a signalize...   \n",
       "15  Pedestrian are not allowed to cross the pedest...   \n",
       "16                        Stop at the designated line   \n",
       "17  Driver's license shall be confiscated and susp...   \n",
       "18                                     Fine of P1,000   \n",
       "19                        Revoked and will pay a fine   \n",
       "20                                       1 car length   \n",
       "21                             At a red traffic light   \n",
       "22                                          Left lane   \n",
       "23  Park at the entrance and exit of hospital and ...   \n",
       "24                             Within an intersection   \n",
       "25  Vehicles can go straight or vehicles on the ri...   \n",
       "26                              Revocation of license   \n",
       "27                                          Slow down   \n",
       "28       Apply your brake gently with steady pressure   \n",
       "29  Slow down gradually and give him the signal to...   \n",
       "30                                   Rear end crashes   \n",
       "31                       Towards the edge of the road   \n",
       "32                           Turn your wheels to curb   \n",
       "33               Turn your wheels aways from the curb   \n",
       "34                                   Improper braking   \n",
       "35   Never overtake another vehicle from a tailgat...   \n",
       "36  Extend your scanning distance to about 12 seco...   \n",
       "37      Blow your horn when approaching a blind curve   \n",
       "38  Shift to lower gear so the engine braking acti...   \n",
       "39   Make your intentions known to drivers around you   \n",
       "40                               Vehicle on the right   \n",
       "41  Decrease your speed further as you enter the c...   \n",
       "42  Flick your dimmer, switch two or three times t...   \n",
       "43  When you cannot see more than 20 meters in fro...   \n",
       "44  You must stop and then go only when it is safe...   \n",
       "45  The distance that you can see where you come t...   \n",
       "46                      Defective or dirty headlights   \n",
       "47                     Always turn your headlights on   \n",
       "48                 Slow down and make it easy to stop   \n",
       "49  Alert and be ready to slow down or stop if nec...   \n",
       "50                       Proceed at a very slow speed   \n",
       "51                  Passing/overtaking is not allowed   \n",
       "52                  On highway with two or more lanes   \n",
       "53  Police / fire department vehicles and ambulanc...   \n",
       "54            Pedestrians crossing within a crosswalk   \n",
       "55                                           Pentagon   \n",
       "56                                      Diamond shape   \n",
       "57                               Horizontal rectangle   \n",
       "58                                         Cross-buck   \n",
       "59                              6 years old and below   \n",
       "\n",
       "                                                   AI     Score  Passing  \\\n",
       "0   To prevent traffic jams, it's essential to pra...  0.696911     True   \n",
       "1   When making a right turn, you should drive in ...  0.779041     True   \n",
       "2   30 meters before turning. \\n\\nHowever, since t...  0.794384     True   \n",
       "3   At an intersection with a traffic light, make ...  0.776484     True   \n",
       "4   To eliminate graft and corruption in the traff...  0.607796     True   \n",
       "5   On a four-lane road with a single white line, ...  0.827382     True   \n",
       "6   A double solid yellow line with a broken white...  0.566641    False   \n",
       "7   The provided text does not specifically discus...  0.663100     True   \n",
       "8   Warning signs, which are typically triangular ...  0.731701     True   \n",
       "9   Warning signs are typically characterized by a...  0.747711     True   \n",
       "10  Based on the provided context, it appears that...  0.724021     True   \n",
       "11  Based on the provided context, a single solid ...  0.704005     True   \n",
       "12  When approaching a crosswalk or pedestrian lan...  0.766770     True   \n",
       "13  According to the text, driving an unregistered...  0.763478     True   \n",
       "14  Yes, parking within 4 meters of a fire hydrant...  0.660584     True   \n",
       "15  Based on the provided context, it is not expli...  0.496659    False   \n",
       "16  A steady red light at an intersection means yo...  0.685884     True   \n",
       "17  The penalty for driving a motor vehicle while ...  0.603612     True   \n",
       "18  For the owner or operator of the land public t...  0.777463     True   \n",
       "19  Based on the context provided, if the driver i...  0.648775     True   \n",
       "20  The minimum distance away from the vehicle you...  0.647479     True   \n",
       "21  According to the text, a complete or full stop...  0.521779    False   \n",
       "22  On a two-lane road, overtaking is only allowed...  0.654090     True   \n",
       "23  Based on the provided context, parking is cons...  0.612623     True   \n",
       "24  Parking is prohibited in the following areas:\\...  0.641703     True   \n",
       "25  When the traffic light is steady green and a s...  0.700925     True   \n",
       "26  The maximum penalty for driving under the infl...  0.590081    False   \n",
       "27  Reduce your speed to avoid skidding or hydropl...  0.754183     True   \n",
       "28  According to the provided context, if you need...  0.648110     True   \n",
       "29  When another vehicle is following you too clos...  0.705316     True   \n",
       "30  The driver of the vehicle behind you should al...  0.542258    False   \n",
       "31           toward the right (or away from the road)  0.860591     True   \n",
       "32  When parking downhill, you must turn your whee...  0.700576     True   \n",
       "33  When parking uphill, you must turn your wheels...  0.754033     True   \n",
       "34  When you make an abrupt move, especially when ...  0.677667     True   \n",
       "35  When driving, especially when overtaking, it's...  0.680966     True   \n",
       "36  When driving on a highway, do not stare at the...  0.631310     True   \n",
       "37  When driving on mountain roads during the dayt...  0.582123    False   \n",
       "38  When driving downhill on a mountain road, alwa...  0.665329     True   \n",
       "39  The headlights should be used often as needed ...  0.631502     True   \n",
       "40  According to RA 4136, when two vehicles arrive...  0.705921     True   \n",
       "41  When negotiating a curve on a highway at a rel...  0.727971     True   \n",
       "42  When planning to overtake a slower vehicle in ...  0.673971     True   \n",
       "43  When driving in heavy rains, it's essential to...  0.647283     True   \n",
       "44  A flashing red light means you must come to a ...  0.625127     True   \n",
       "45  Your speed while driving at night should be ad...  0.679124     True   \n",
       "46  Based on the provided context, one thing that ...  0.670717     True   \n",
       "47  When driving at night, you should:\\n\\n* Use yo...  0.723490     True   \n",
       "48  When being passed, it's essential to maintain ...  0.611397     True   \n",
       "49  Based on the context provided, when an oncomin...  0.656735     True   \n",
       "50  When approaching a flooded area and you have t...  0.578863    False   \n",
       "51  A single solid yellow or white line means that...  0.658375     True   \n",
       "52  Based on the provided context, passing or over...  0.690468     True   \n",
       "53  A driver on a highway shall yield the right of...  0.657518     True   \n",
       "54  A driver on a highway shall yield the right of...  0.738585     True   \n",
       "55  The traffic sign that warns you that school ch...  0.376708    False   \n",
       "56  The signal warns of a hazard ahead, which is i...  0.389934    False   \n",
       "57  The traffic sign you are referring to is likel...  0.463175    False   \n",
       "58  The mark for a railway crossing is not explici...  0.502700    False   \n",
       "59  no available seats in the vehicle; hence, chil...  0.537967    False   \n",
       "\n",
       "    Inference_Time  \n",
       "0       167.875098  \n",
       "1       155.435959  \n",
       "2       107.802828  \n",
       "3       112.805041  \n",
       "4       171.503720  \n",
       "5       120.294474  \n",
       "6       123.971421  \n",
       "7       139.088943  \n",
       "8        71.944613  \n",
       "9        82.784009  \n",
       "10       76.928701  \n",
       "11       77.019226  \n",
       "12       87.406784  \n",
       "13       59.630971  \n",
       "14       68.208321  \n",
       "15       74.743332  \n",
       "16       78.739698  \n",
       "17       91.548091  \n",
       "18       65.209021  \n",
       "19       70.294148  \n",
       "20       72.828892  \n",
       "21       66.503715  \n",
       "22       78.466986  \n",
       "23       72.898436  \n",
       "24       91.272021  \n",
       "25       98.028761  \n",
       "26       69.283138  \n",
       "27       58.724215  \n",
       "28       91.295025  \n",
       "29       68.584373  \n",
       "30       63.430651  \n",
       "31       52.873522  \n",
       "32       58.278779  \n",
       "33       51.268423  \n",
       "34       61.393743  \n",
       "35       99.013248  \n",
       "36       72.245416  \n",
       "37       81.043026  \n",
       "38       69.195043  \n",
       "39       63.674614  \n",
       "40       75.969754  \n",
       "41       83.220189  \n",
       "42       94.506074  \n",
       "43       96.570145  \n",
       "44       72.880036  \n",
       "45       71.543485  \n",
       "46       80.181518  \n",
       "47       77.456353  \n",
       "48       65.722008  \n",
       "49      150.891243  \n",
       "50      170.452769  \n",
       "51      135.801747  \n",
       "52      153.771614  \n",
       "53      125.202210  \n",
       "54      110.887928  \n",
       "55      125.853883  \n",
       "56      129.351698  \n",
       "57      126.881301  \n",
       "58      145.812920  \n",
       "59      122.328813  "
      ]
     },
     "metadata": {},
     "output_type": "display_data"
    }
   ],
   "source": [
    "from llama_index.core.evaluation import SemanticSimilarityEvaluator\n",
    "from llama_index.core.base.embeddings.base import BaseEmbedding\n",
    "import asyncio\n",
    "from llama_index.core.embeddings import resolve_embed_model\n",
    "from pydantic import PrivateAttr\n",
    "\n",
    "class OllamaEmbeddingModel(BaseEmbedding):\n",
    "    _client: Client = PrivateAttr()\n",
    "\n",
    "    def __init__(self, model_name: str = \"mxbai-embed-large\", timeout: int = 300):\n",
    "        super().__init__()\n",
    "        self.model_name = model_name\n",
    "        self._client = Client() \n",
    "\n",
    "    async def _aget_query_embedding(self, query: str) -> list[float]:\n",
    "        return await self._aget_text_embedding(query)\n",
    "\n",
    "    async def _aget_text_embedding(self, text: str) -> list[float]:\n",
    "        loop = asyncio.get_event_loop()\n",
    "        embedding_response = await loop.run_in_executor(\n",
    "            None, self._client.embeddings, self.model_name, text\n",
    "        )\n",
    "        return embedding_response['embedding']  \n",
    "\n",
    "    def _get_query_embedding(self, query: str) -> list[float]:\n",
    "        return self._get_text_embedding(query)\n",
    "\n",
    "    def _get_text_embedding(self, text: str) -> list[float]:\n",
    "        embedding_response = self._client.embeddings(\n",
    "            model=self.model_name,\n",
    "            prompt=text\n",
    "        )\n",
    "        return embedding_response['embedding']\n",
    "\n",
    "\n",
    "embed_model = OllamaEmbeddingModel(model_name=\"mxbai-embed-large\")\n",
    "evaluator = SemanticSimilarityEvaluator(\n",
    "    embed_model=embed_model,\n",
    "    similarity_threshold=0.6\n",
    ")\n",
    "\n",
    "results_scores = []\n",
    "results_passing = []\n",
    "for i in tqdm(range(len(df))):\n",
    "    response = df.loc[i, \"AI\"]\n",
    "    reference = df.loc[i, \"Answer\"]\n",
    "\n",
    "    result = await evaluator.aevaluate(\n",
    "    response=response,\n",
    "    reference=reference,\n",
    "    )\n",
    "    results_scores.append(result.score)\n",
    "    results_passing.append(result.passing)\n",
    "    \n",
    "df['Score'] = results_scores\n",
    "df['Passing'] = results_passing\n",
    "\n",
    "average_score = df['Score'].mean()\n",
    "total_items = len(df)\n",
    "passing_items = df['Passing'].sum()  \n",
    "print(f\"Average Score: {average_score:.4f}\")\n",
    "print(f\"Passing: {passing_items}/{total_items}\")\n",
    "display(df[['Question', 'Answer', 'AI', 'Score', 'Passing', 'Inference_Time']])"
   ]
  },
  {
   "cell_type": "markdown",
   "id": "2180800d",
   "metadata": {},
   "source": [
    "# 11. Relevancy Evaluation"
   ]
  },
  {
   "cell_type": "code",
   "execution_count": null,
   "id": "d25cd907",
   "metadata": {},
   "outputs": [
    {
     "name": "stderr",
     "output_type": "stream",
     "text": [
      "100%|██████████| 60/60 [1:50:05<00:00, 110.10s/it]\n"
     ]
    },
    {
     "name": "stdout",
     "output_type": "stream",
     "text": [
      "Score: 46/60\n",
      "Percentage: 76.67%\n"
     ]
    },
    {
     "data": {
      "text/html": [
       "<div>\n",
       "<style scoped>\n",
       "    .dataframe tbody tr th:only-of-type {\n",
       "        vertical-align: middle;\n",
       "    }\n",
       "\n",
       "    .dataframe tbody tr th {\n",
       "        vertical-align: top;\n",
       "    }\n",
       "\n",
       "    .dataframe thead th {\n",
       "        text-align: right;\n",
       "    }\n",
       "</style>\n",
       "<table border=\"1\" class=\"dataframe\">\n",
       "  <thead>\n",
       "    <tr style=\"text-align: right;\">\n",
       "      <th></th>\n",
       "      <th>Question</th>\n",
       "      <th>Answer</th>\n",
       "      <th>AI</th>\n",
       "      <th>Eval</th>\n",
       "      <th>Inference_Time</th>\n",
       "    </tr>\n",
       "  </thead>\n",
       "  <tbody>\n",
       "    <tr>\n",
       "      <th>0</th>\n",
       "      <td>Traffic Jam can be prevented if you</td>\n",
       "      <td>Keep opposing lanes open</td>\n",
       "      <td>To prevent traffic jams, it's essential to pra...</td>\n",
       "      <td>True</td>\n",
       "      <td>167.875098</td>\n",
       "    </tr>\n",
       "    <tr>\n",
       "      <th>1</th>\n",
       "      <td>When making a right turn you should</td>\n",
       "      <td>Stay on the outermost lane of the road then si...</td>\n",
       "      <td>When making a right turn, you should drive in ...</td>\n",
       "      <td>False</td>\n",
       "      <td>155.435959</td>\n",
       "    </tr>\n",
       "    <tr>\n",
       "      <th>2</th>\n",
       "      <td>When you intend to turn right or left, signal ...</td>\n",
       "      <td>25 meters before you intend to make your turn</td>\n",
       "      <td>30 meters before turning. \\n\\nHowever, since t...</td>\n",
       "      <td>True</td>\n",
       "      <td>107.802828</td>\n",
       "    </tr>\n",
       "    <tr>\n",
       "      <th>3</th>\n",
       "      <td>At an intersection with a traffic light, make ...</td>\n",
       "      <td>The green light is on and there is a left turn...</td>\n",
       "      <td>At an intersection with a traffic light, make ...</td>\n",
       "      <td>True</td>\n",
       "      <td>112.805041</td>\n",
       "    </tr>\n",
       "    <tr>\n",
       "      <th>4</th>\n",
       "      <td>Graft and corruption in the traffic enforcemen...</td>\n",
       "      <td>Self disciplined by drivers and obeying traffi...</td>\n",
       "      <td>To eliminate graft and corruption in the traff...</td>\n",
       "      <td>True</td>\n",
       "      <td>171.503720</td>\n",
       "    </tr>\n",
       "    <tr>\n",
       "      <th>5</th>\n",
       "      <td>On a four(4) lane road with single white line,...</td>\n",
       "      <td>Overtake by passing over the solid white line</td>\n",
       "      <td>On a four-lane road with a single white line, ...</td>\n",
       "      <td>False</td>\n",
       "      <td>120.294474</td>\n",
       "    </tr>\n",
       "    <tr>\n",
       "      <th>6</th>\n",
       "      <td>A double solid yellow line with broken white l...</td>\n",
       "      <td>Absolutely no overtaking</td>\n",
       "      <td>A double solid yellow line with a broken white...</td>\n",
       "      <td>False</td>\n",
       "      <td>123.971421</td>\n",
       "    </tr>\n",
       "    <tr>\n",
       "      <th>7</th>\n",
       "      <td>When making a U-Turn, you should</td>\n",
       "      <td>Check for traffic behind you and indicate your...</td>\n",
       "      <td>The provided text does not specifically discus...</td>\n",
       "      <td>True</td>\n",
       "      <td>139.088943</td>\n",
       "    </tr>\n",
       "    <tr>\n",
       "      <th>8</th>\n",
       "      <td>Signs that are triangular in shape and with a ...</td>\n",
       "      <td>Caution or warning signs</td>\n",
       "      <td>Warning signs, which are typically triangular ...</td>\n",
       "      <td>True</td>\n",
       "      <td>71.944613</td>\n",
       "    </tr>\n",
       "    <tr>\n",
       "      <th>9</th>\n",
       "      <td>Signs that are round, inverted triangle or oct...</td>\n",
       "      <td>Regulatory signs</td>\n",
       "      <td>Warning signs are typically characterized by a...</td>\n",
       "      <td>True</td>\n",
       "      <td>82.784009</td>\n",
       "    </tr>\n",
       "    <tr>\n",
       "      <th>10</th>\n",
       "      <td>Signs that are round, rectangular with white a...</td>\n",
       "      <td>Informative signs</td>\n",
       "      <td>Based on the provided context, it appears that...</td>\n",
       "      <td>False</td>\n",
       "      <td>76.928701</td>\n",
       "    </tr>\n",
       "    <tr>\n",
       "      <th>11</th>\n",
       "      <td>Single with broken line on a two-lane road means</td>\n",
       "      <td>It separates traffic moving in opposite direct...</td>\n",
       "      <td>Based on the provided context, a single solid ...</td>\n",
       "      <td>True</td>\n",
       "      <td>77.019226</td>\n",
       "    </tr>\n",
       "    <tr>\n",
       "      <th>12</th>\n",
       "      <td>What to do when you approach a crosswalk or pe...</td>\n",
       "      <td>Stop and yield to pedestrian</td>\n",
       "      <td>When approaching a crosswalk or pedestrian lan...</td>\n",
       "      <td>True</td>\n",
       "      <td>87.406784</td>\n",
       "    </tr>\n",
       "    <tr>\n",
       "      <th>13</th>\n",
       "      <td>Driving an unregistered motor vehicle is a vio...</td>\n",
       "      <td>Fine of P10,000</td>\n",
       "      <td>According to the text, driving an unregistered...</td>\n",
       "      <td>True</td>\n",
       "      <td>59.630971</td>\n",
       "    </tr>\n",
       "    <tr>\n",
       "      <th>14</th>\n",
       "      <td>Considered a parking violation?</td>\n",
       "      <td>Parking within five(5) meters from a signalize...</td>\n",
       "      <td>Yes, parking within 4 meters of a fire hydrant...</td>\n",
       "      <td>True</td>\n",
       "      <td>68.208321</td>\n",
       "    </tr>\n",
       "    <tr>\n",
       "      <th>15</th>\n",
       "      <td>Green light at an intersection means</td>\n",
       "      <td>Pedestrian are not allowed to cross the pedest...</td>\n",
       "      <td>Based on the provided context, it is not expli...</td>\n",
       "      <td>True</td>\n",
       "      <td>74.743332</td>\n",
       "    </tr>\n",
       "    <tr>\n",
       "      <th>16</th>\n",
       "      <td>Steady red light at an intersection means</td>\n",
       "      <td>Stop at the designated line</td>\n",
       "      <td>A steady red light at an intersection means yo...</td>\n",
       "      <td>True</td>\n",
       "      <td>78.739698</td>\n",
       "    </tr>\n",
       "    <tr>\n",
       "      <th>17</th>\n",
       "      <td>The penalty of driving a motor vehicle while u...</td>\n",
       "      <td>Driver's license shall be confiscated and susp...</td>\n",
       "      <td>The penalty for driving a motor vehicle while ...</td>\n",
       "      <td>True</td>\n",
       "      <td>91.548091</td>\n",
       "    </tr>\n",
       "    <tr>\n",
       "      <th>18</th>\n",
       "      <td>When a driver of PUV refuses to render service...</td>\n",
       "      <td>Fine of P1,000</td>\n",
       "      <td>For the owner or operator of the land public t...</td>\n",
       "      <td>True</td>\n",
       "      <td>65.209021</td>\n",
       "    </tr>\n",
       "    <tr>\n",
       "      <th>19</th>\n",
       "      <td>If the driver is using a motor vehicle in comm...</td>\n",
       "      <td>Revoked and will pay a fine</td>\n",
       "      <td>Based on the context provided, if the driver i...</td>\n",
       "      <td>True</td>\n",
       "      <td>70.294148</td>\n",
       "    </tr>\n",
       "    <tr>\n",
       "      <th>20</th>\n",
       "      <td>The minimum distance away from the vehicle are...</td>\n",
       "      <td>1 car length</td>\n",
       "      <td>The minimum distance away from the vehicle you...</td>\n",
       "      <td>True</td>\n",
       "      <td>72.828892</td>\n",
       "    </tr>\n",
       "    <tr>\n",
       "      <th>21</th>\n",
       "      <td>When do you have a complete/full stop?</td>\n",
       "      <td>At a red traffic light</td>\n",
       "      <td>According to the text, a complete or full stop...</td>\n",
       "      <td>False</td>\n",
       "      <td>66.503715</td>\n",
       "    </tr>\n",
       "    <tr>\n",
       "      <th>22</th>\n",
       "      <td>On a two-lane road, overtaking is only allowed...</td>\n",
       "      <td>Left lane</td>\n",
       "      <td>On a two-lane road, overtaking is only allowed...</td>\n",
       "      <td>False</td>\n",
       "      <td>78.466986</td>\n",
       "    </tr>\n",
       "    <tr>\n",
       "      <th>23</th>\n",
       "      <td>Parking is considered as a violation when a mo...</td>\n",
       "      <td>Park at the entrance and exit of hospital and ...</td>\n",
       "      <td>Based on the provided context, parking is cons...</td>\n",
       "      <td>True</td>\n",
       "      <td>72.898436</td>\n",
       "    </tr>\n",
       "    <tr>\n",
       "      <th>24</th>\n",
       "      <td>Parking is prohibited</td>\n",
       "      <td>Within an intersection</td>\n",
       "      <td>Parking is prohibited in the following areas:\\...</td>\n",
       "      <td>True</td>\n",
       "      <td>91.272021</td>\n",
       "    </tr>\n",
       "    <tr>\n",
       "      <th>25</th>\n",
       "      <td>When the traffic light is steady green and ste...</td>\n",
       "      <td>Vehicles can go straight or vehicles on the ri...</td>\n",
       "      <td>When the traffic light is steady green and a s...</td>\n",
       "      <td>True</td>\n",
       "      <td>98.028761</td>\n",
       "    </tr>\n",
       "    <tr>\n",
       "      <th>26</th>\n",
       "      <td>What is the maximum penalty for driving under ...</td>\n",
       "      <td>Revocation of license</td>\n",
       "      <td>The maximum penalty for driving under the infl...</td>\n",
       "      <td>True</td>\n",
       "      <td>69.283138</td>\n",
       "    </tr>\n",
       "    <tr>\n",
       "      <th>27</th>\n",
       "      <td>On a wet road, you must</td>\n",
       "      <td>Slow down</td>\n",
       "      <td>Reduce your speed to avoid skidding or hydropl...</td>\n",
       "      <td>True</td>\n",
       "      <td>58.724215</td>\n",
       "    </tr>\n",
       "    <tr>\n",
       "      <th>28</th>\n",
       "      <td>While driving with a maximum speed and you hav...</td>\n",
       "      <td>Apply your brake gently with steady pressure</td>\n",
       "      <td>According to the provided context, if you need...</td>\n",
       "      <td>True</td>\n",
       "      <td>91.295025</td>\n",
       "    </tr>\n",
       "    <tr>\n",
       "      <th>29</th>\n",
       "      <td>When another vehicle is following you too clos...</td>\n",
       "      <td>Slow down gradually and give him the signal to...</td>\n",
       "      <td>When another vehicle is following you too clos...</td>\n",
       "      <td>True</td>\n",
       "      <td>68.584373</td>\n",
       "    </tr>\n",
       "    <tr>\n",
       "      <th>30</th>\n",
       "      <td>The driver of the vehicle behind you should al...</td>\n",
       "      <td>Rear end crashes</td>\n",
       "      <td>The driver of the vehicle behind you should al...</td>\n",
       "      <td>True</td>\n",
       "      <td>63.430651</td>\n",
       "    </tr>\n",
       "    <tr>\n",
       "      <th>31</th>\n",
       "      <td>When parking uphill without a curb, turn your ...</td>\n",
       "      <td>Towards the edge of the road</td>\n",
       "      <td>toward the right (or away from the road)</td>\n",
       "      <td>True</td>\n",
       "      <td>52.873522</td>\n",
       "    </tr>\n",
       "    <tr>\n",
       "      <th>32</th>\n",
       "      <td>When parking downhill, you must</td>\n",
       "      <td>Turn your wheels to curb</td>\n",
       "      <td>When parking downhill, you must turn your whee...</td>\n",
       "      <td>False</td>\n",
       "      <td>58.278779</td>\n",
       "    </tr>\n",
       "    <tr>\n",
       "      <th>33</th>\n",
       "      <td>When parking uphill, you must</td>\n",
       "      <td>Turn your wheels aways from the curb</td>\n",
       "      <td>When parking uphill, you must turn your wheels...</td>\n",
       "      <td>True</td>\n",
       "      <td>51.268423</td>\n",
       "    </tr>\n",
       "    <tr>\n",
       "      <th>34</th>\n",
       "      <td>When you make an abrupt move especially when y...</td>\n",
       "      <td>Improper braking</td>\n",
       "      <td>When you make an abrupt move, especially when ...</td>\n",
       "      <td>True</td>\n",
       "      <td>61.393743</td>\n",
       "    </tr>\n",
       "    <tr>\n",
       "      <th>35</th>\n",
       "      <td>Whenever you are driving, especially when over...</td>\n",
       "      <td>Never overtake another vehicle from a tailgat...</td>\n",
       "      <td>When driving, especially when overtaking, it's...</td>\n",
       "      <td>True</td>\n",
       "      <td>99.013248</td>\n",
       "    </tr>\n",
       "    <tr>\n",
       "      <th>36</th>\n",
       "      <td>When driving on a highway, do not stare at the...</td>\n",
       "      <td>Extend your scanning distance to about 12 seco...</td>\n",
       "      <td>When driving on a highway, do not stare at the...</td>\n",
       "      <td>True</td>\n",
       "      <td>72.245416</td>\n",
       "    </tr>\n",
       "    <tr>\n",
       "      <th>37</th>\n",
       "      <td>When driving on a mountain roads during daytim...</td>\n",
       "      <td>Blow your horn when approaching a blind curve</td>\n",
       "      <td>When driving on mountain roads during the dayt...</td>\n",
       "      <td>False</td>\n",
       "      <td>81.043026</td>\n",
       "    </tr>\n",
       "    <tr>\n",
       "      <th>38</th>\n",
       "      <td>When driving downhill on a mountain road always</td>\n",
       "      <td>Shift to lower gear so the engine braking acti...</td>\n",
       "      <td>When driving downhill on a mountain road, alwa...</td>\n",
       "      <td>False</td>\n",
       "      <td>69.195043</td>\n",
       "    </tr>\n",
       "    <tr>\n",
       "      <th>39</th>\n",
       "      <td>The headlights should be used often as needed to</td>\n",
       "      <td>Make your intentions known to drivers around you</td>\n",
       "      <td>The headlights should be used often as needed ...</td>\n",
       "      <td>True</td>\n",
       "      <td>63.674614</td>\n",
       "    </tr>\n",
       "    <tr>\n",
       "      <th>40</th>\n",
       "      <td>At an intersection, if two (2) vehicles arrive...</td>\n",
       "      <td>Vehicle on the right</td>\n",
       "      <td>According to RA 4136, when two vehicles arrive...</td>\n",
       "      <td>True</td>\n",
       "      <td>75.969754</td>\n",
       "    </tr>\n",
       "    <tr>\n",
       "      <th>41</th>\n",
       "      <td>When negotiating a curve on a highway at a rel...</td>\n",
       "      <td>Decrease your speed further as you enter the c...</td>\n",
       "      <td>When negotiating a curve on a highway at a rel...</td>\n",
       "      <td>True</td>\n",
       "      <td>83.220189</td>\n",
       "    </tr>\n",
       "    <tr>\n",
       "      <th>42</th>\n",
       "      <td>When planning to overtake a slower vehicle in ...</td>\n",
       "      <td>Flick your dimmer, switch two or three times t...</td>\n",
       "      <td>When planning to overtake a slower vehicle in ...</td>\n",
       "      <td>True</td>\n",
       "      <td>94.506074</td>\n",
       "    </tr>\n",
       "    <tr>\n",
       "      <th>43</th>\n",
       "      <td>Driving in heavy rains can be extremely danger...</td>\n",
       "      <td>When you cannot see more than 20 meters in fro...</td>\n",
       "      <td>When driving in heavy rains, it's essential to...</td>\n",
       "      <td>True</td>\n",
       "      <td>96.570145</td>\n",
       "    </tr>\n",
       "    <tr>\n",
       "      <th>44</th>\n",
       "      <td>A flashing red light means</td>\n",
       "      <td>You must stop and then go only when it is safe...</td>\n",
       "      <td>A flashing red light means you must come to a ...</td>\n",
       "      <td>True</td>\n",
       "      <td>72.880036</td>\n",
       "    </tr>\n",
       "    <tr>\n",
       "      <th>45</th>\n",
       "      <td>Your speed while driving at night should keep on</td>\n",
       "      <td>The distance that you can see where you come t...</td>\n",
       "      <td>Your speed while driving at night should be ad...</td>\n",
       "      <td>True</td>\n",
       "      <td>71.543485</td>\n",
       "    </tr>\n",
       "    <tr>\n",
       "      <th>46</th>\n",
       "      <td>One that affects your visibility?</td>\n",
       "      <td>Defective or dirty headlights</td>\n",
       "      <td>Based on the provided context, one thing that ...</td>\n",
       "      <td>True</td>\n",
       "      <td>80.181518</td>\n",
       "    </tr>\n",
       "    <tr>\n",
       "      <th>47</th>\n",
       "      <td>When driving at night, you should</td>\n",
       "      <td>Always turn your headlights on</td>\n",
       "      <td>When driving at night, you should:\\n\\n* Use yo...</td>\n",
       "      <td>True</td>\n",
       "      <td>77.456353</td>\n",
       "    </tr>\n",
       "    <tr>\n",
       "      <th>48</th>\n",
       "      <td>Being passed is normal part of driving and sho...</td>\n",
       "      <td>Slow down and make it easy to stop</td>\n",
       "      <td>When being passed, it's essential to maintain ...</td>\n",
       "      <td>True</td>\n",
       "      <td>65.722008</td>\n",
       "    </tr>\n",
       "    <tr>\n",
       "      <th>49</th>\n",
       "      <td>When oncoming vehicle deliberately crosses the...</td>\n",
       "      <td>Alert and be ready to slow down or stop if nec...</td>\n",
       "      <td>Based on the context provided, when an oncomin...</td>\n",
       "      <td>True</td>\n",
       "      <td>150.891243</td>\n",
       "    </tr>\n",
       "    <tr>\n",
       "      <th>50</th>\n",
       "      <td>When approaching a flooded area and you have t...</td>\n",
       "      <td>Proceed at a very slow speed</td>\n",
       "      <td>When approaching a flooded area and you have t...</td>\n",
       "      <td>False</td>\n",
       "      <td>170.452769</td>\n",
       "    </tr>\n",
       "    <tr>\n",
       "      <th>51</th>\n",
       "      <td>A single solid yellow or white line means</td>\n",
       "      <td>Passing/overtaking is not allowed</td>\n",
       "      <td>A single solid yellow or white line means that...</td>\n",
       "      <td>False</td>\n",
       "      <td>135.801747</td>\n",
       "    </tr>\n",
       "    <tr>\n",
       "      <th>52</th>\n",
       "      <td>Passing/overtaking is allowed</td>\n",
       "      <td>On highway with two or more lanes</td>\n",
       "      <td>Based on the provided context, passing or over...</td>\n",
       "      <td>True</td>\n",
       "      <td>153.771614</td>\n",
       "    </tr>\n",
       "    <tr>\n",
       "      <th>53</th>\n",
       "      <td>A driver on a highway shall yield the right of...</td>\n",
       "      <td>Police / fire department vehicles and ambulanc...</td>\n",
       "      <td>A driver on a highway shall yield the right of...</td>\n",
       "      <td>True</td>\n",
       "      <td>125.202210</td>\n",
       "    </tr>\n",
       "    <tr>\n",
       "      <th>54</th>\n",
       "      <td>A driver on a highway shall yield the right of...</td>\n",
       "      <td>Pedestrians crossing within a crosswalk</td>\n",
       "      <td>A driver on a highway shall yield the right of...</td>\n",
       "      <td>True</td>\n",
       "      <td>110.887928</td>\n",
       "    </tr>\n",
       "    <tr>\n",
       "      <th>55</th>\n",
       "      <td>This traffic signs warns you that school child...</td>\n",
       "      <td>Pentagon</td>\n",
       "      <td>The traffic sign that warns you that school ch...</td>\n",
       "      <td>True</td>\n",
       "      <td>125.853883</td>\n",
       "    </tr>\n",
       "    <tr>\n",
       "      <th>56</th>\n",
       "      <td>The signal warns of a hazard ahead</td>\n",
       "      <td>Diamond shape</td>\n",
       "      <td>The signal warns of a hazard ahead, which is i...</td>\n",
       "      <td>False</td>\n",
       "      <td>129.351698</td>\n",
       "    </tr>\n",
       "    <tr>\n",
       "      <th>57</th>\n",
       "      <td>This traffic sign states direction and distances</td>\n",
       "      <td>Horizontal rectangle</td>\n",
       "      <td>The traffic sign you are referring to is likel...</td>\n",
       "      <td>True</td>\n",
       "      <td>126.881301</td>\n",
       "    </tr>\n",
       "    <tr>\n",
       "      <th>58</th>\n",
       "      <td>The mark for a railway crossing</td>\n",
       "      <td>Cross-buck</td>\n",
       "      <td>The mark for a railway crossing is not explici...</td>\n",
       "      <td>False</td>\n",
       "      <td>145.812920</td>\n",
       "    </tr>\n",
       "    <tr>\n",
       "      <th>59</th>\n",
       "      <td>Children must be held in approved child restra...</td>\n",
       "      <td>6 years old and below</td>\n",
       "      <td>no available seats in the vehicle; hence, chil...</td>\n",
       "      <td>False</td>\n",
       "      <td>122.328813</td>\n",
       "    </tr>\n",
       "  </tbody>\n",
       "</table>\n",
       "</div>"
      ],
      "text/plain": [
       "                                             Question  \\\n",
       "0                 Traffic Jam can be prevented if you   \n",
       "1                 When making a right turn you should   \n",
       "2   When you intend to turn right or left, signal ...   \n",
       "3   At an intersection with a traffic light, make ...   \n",
       "4   Graft and corruption in the traffic enforcemen...   \n",
       "5   On a four(4) lane road with single white line,...   \n",
       "6   A double solid yellow line with broken white l...   \n",
       "7                    When making a U-Turn, you should   \n",
       "8   Signs that are triangular in shape and with a ...   \n",
       "9   Signs that are round, inverted triangle or oct...   \n",
       "10  Signs that are round, rectangular with white a...   \n",
       "11   Single with broken line on a two-lane road means   \n",
       "12  What to do when you approach a crosswalk or pe...   \n",
       "13  Driving an unregistered motor vehicle is a vio...   \n",
       "14                    Considered a parking violation?   \n",
       "15               Green light at an intersection means   \n",
       "16          Steady red light at an intersection means   \n",
       "17  The penalty of driving a motor vehicle while u...   \n",
       "18  When a driver of PUV refuses to render service...   \n",
       "19  If the driver is using a motor vehicle in comm...   \n",
       "20  The minimum distance away from the vehicle are...   \n",
       "21             When do you have a complete/full stop?   \n",
       "22  On a two-lane road, overtaking is only allowed...   \n",
       "23  Parking is considered as a violation when a mo...   \n",
       "24                              Parking is prohibited   \n",
       "25  When the traffic light is steady green and ste...   \n",
       "26  What is the maximum penalty for driving under ...   \n",
       "27                            On a wet road, you must   \n",
       "28  While driving with a maximum speed and you hav...   \n",
       "29  When another vehicle is following you too clos...   \n",
       "30  The driver of the vehicle behind you should al...   \n",
       "31  When parking uphill without a curb, turn your ...   \n",
       "32                    When parking downhill, you must   \n",
       "33                      When parking uphill, you must   \n",
       "34  When you make an abrupt move especially when y...   \n",
       "35  Whenever you are driving, especially when over...   \n",
       "36  When driving on a highway, do not stare at the...   \n",
       "37  When driving on a mountain roads during daytim...   \n",
       "38    When driving downhill on a mountain road always   \n",
       "39   The headlights should be used often as needed to   \n",
       "40  At an intersection, if two (2) vehicles arrive...   \n",
       "41  When negotiating a curve on a highway at a rel...   \n",
       "42  When planning to overtake a slower vehicle in ...   \n",
       "43  Driving in heavy rains can be extremely danger...   \n",
       "44                         A flashing red light means   \n",
       "45   Your speed while driving at night should keep on   \n",
       "46                  One that affects your visibility?   \n",
       "47                  When driving at night, you should   \n",
       "48  Being passed is normal part of driving and sho...   \n",
       "49  When oncoming vehicle deliberately crosses the...   \n",
       "50  When approaching a flooded area and you have t...   \n",
       "51          A single solid yellow or white line means   \n",
       "52                      Passing/overtaking is allowed   \n",
       "53  A driver on a highway shall yield the right of...   \n",
       "54  A driver on a highway shall yield the right of...   \n",
       "55  This traffic signs warns you that school child...   \n",
       "56                 The signal warns of a hazard ahead   \n",
       "57   This traffic sign states direction and distances   \n",
       "58                    The mark for a railway crossing   \n",
       "59  Children must be held in approved child restra...   \n",
       "\n",
       "                                               Answer  \\\n",
       "0                            Keep opposing lanes open   \n",
       "1   Stay on the outermost lane of the road then si...   \n",
       "2       25 meters before you intend to make your turn   \n",
       "3   The green light is on and there is a left turn...   \n",
       "4   Self disciplined by drivers and obeying traffi...   \n",
       "5       Overtake by passing over the solid white line   \n",
       "6                            Absolutely no overtaking   \n",
       "7   Check for traffic behind you and indicate your...   \n",
       "8                            Caution or warning signs   \n",
       "9                                    Regulatory signs   \n",
       "10                                  Informative signs   \n",
       "11  It separates traffic moving in opposite direct...   \n",
       "12                       Stop and yield to pedestrian   \n",
       "13                                    Fine of P10,000   \n",
       "14  Parking within five(5) meters from a signalize...   \n",
       "15  Pedestrian are not allowed to cross the pedest...   \n",
       "16                        Stop at the designated line   \n",
       "17  Driver's license shall be confiscated and susp...   \n",
       "18                                     Fine of P1,000   \n",
       "19                        Revoked and will pay a fine   \n",
       "20                                       1 car length   \n",
       "21                             At a red traffic light   \n",
       "22                                          Left lane   \n",
       "23  Park at the entrance and exit of hospital and ...   \n",
       "24                             Within an intersection   \n",
       "25  Vehicles can go straight or vehicles on the ri...   \n",
       "26                              Revocation of license   \n",
       "27                                          Slow down   \n",
       "28       Apply your brake gently with steady pressure   \n",
       "29  Slow down gradually and give him the signal to...   \n",
       "30                                   Rear end crashes   \n",
       "31                       Towards the edge of the road   \n",
       "32                           Turn your wheels to curb   \n",
       "33               Turn your wheels aways from the curb   \n",
       "34                                   Improper braking   \n",
       "35   Never overtake another vehicle from a tailgat...   \n",
       "36  Extend your scanning distance to about 12 seco...   \n",
       "37      Blow your horn when approaching a blind curve   \n",
       "38  Shift to lower gear so the engine braking acti...   \n",
       "39   Make your intentions known to drivers around you   \n",
       "40                               Vehicle on the right   \n",
       "41  Decrease your speed further as you enter the c...   \n",
       "42  Flick your dimmer, switch two or three times t...   \n",
       "43  When you cannot see more than 20 meters in fro...   \n",
       "44  You must stop and then go only when it is safe...   \n",
       "45  The distance that you can see where you come t...   \n",
       "46                      Defective or dirty headlights   \n",
       "47                     Always turn your headlights on   \n",
       "48                 Slow down and make it easy to stop   \n",
       "49  Alert and be ready to slow down or stop if nec...   \n",
       "50                       Proceed at a very slow speed   \n",
       "51                  Passing/overtaking is not allowed   \n",
       "52                  On highway with two or more lanes   \n",
       "53  Police / fire department vehicles and ambulanc...   \n",
       "54            Pedestrians crossing within a crosswalk   \n",
       "55                                           Pentagon   \n",
       "56                                      Diamond shape   \n",
       "57                               Horizontal rectangle   \n",
       "58                                         Cross-buck   \n",
       "59                              6 years old and below   \n",
       "\n",
       "                                                   AI   Eval  Inference_Time  \n",
       "0   To prevent traffic jams, it's essential to pra...   True      167.875098  \n",
       "1   When making a right turn, you should drive in ...  False      155.435959  \n",
       "2   30 meters before turning. \\n\\nHowever, since t...   True      107.802828  \n",
       "3   At an intersection with a traffic light, make ...   True      112.805041  \n",
       "4   To eliminate graft and corruption in the traff...   True      171.503720  \n",
       "5   On a four-lane road with a single white line, ...  False      120.294474  \n",
       "6   A double solid yellow line with a broken white...  False      123.971421  \n",
       "7   The provided text does not specifically discus...   True      139.088943  \n",
       "8   Warning signs, which are typically triangular ...   True       71.944613  \n",
       "9   Warning signs are typically characterized by a...   True       82.784009  \n",
       "10  Based on the provided context, it appears that...  False       76.928701  \n",
       "11  Based on the provided context, a single solid ...   True       77.019226  \n",
       "12  When approaching a crosswalk or pedestrian lan...   True       87.406784  \n",
       "13  According to the text, driving an unregistered...   True       59.630971  \n",
       "14  Yes, parking within 4 meters of a fire hydrant...   True       68.208321  \n",
       "15  Based on the provided context, it is not expli...   True       74.743332  \n",
       "16  A steady red light at an intersection means yo...   True       78.739698  \n",
       "17  The penalty for driving a motor vehicle while ...   True       91.548091  \n",
       "18  For the owner or operator of the land public t...   True       65.209021  \n",
       "19  Based on the context provided, if the driver i...   True       70.294148  \n",
       "20  The minimum distance away from the vehicle you...   True       72.828892  \n",
       "21  According to the text, a complete or full stop...  False       66.503715  \n",
       "22  On a two-lane road, overtaking is only allowed...  False       78.466986  \n",
       "23  Based on the provided context, parking is cons...   True       72.898436  \n",
       "24  Parking is prohibited in the following areas:\\...   True       91.272021  \n",
       "25  When the traffic light is steady green and a s...   True       98.028761  \n",
       "26  The maximum penalty for driving under the infl...   True       69.283138  \n",
       "27  Reduce your speed to avoid skidding or hydropl...   True       58.724215  \n",
       "28  According to the provided context, if you need...   True       91.295025  \n",
       "29  When another vehicle is following you too clos...   True       68.584373  \n",
       "30  The driver of the vehicle behind you should al...   True       63.430651  \n",
       "31           toward the right (or away from the road)   True       52.873522  \n",
       "32  When parking downhill, you must turn your whee...  False       58.278779  \n",
       "33  When parking uphill, you must turn your wheels...   True       51.268423  \n",
       "34  When you make an abrupt move, especially when ...   True       61.393743  \n",
       "35  When driving, especially when overtaking, it's...   True       99.013248  \n",
       "36  When driving on a highway, do not stare at the...   True       72.245416  \n",
       "37  When driving on mountain roads during the dayt...  False       81.043026  \n",
       "38  When driving downhill on a mountain road, alwa...  False       69.195043  \n",
       "39  The headlights should be used often as needed ...   True       63.674614  \n",
       "40  According to RA 4136, when two vehicles arrive...   True       75.969754  \n",
       "41  When negotiating a curve on a highway at a rel...   True       83.220189  \n",
       "42  When planning to overtake a slower vehicle in ...   True       94.506074  \n",
       "43  When driving in heavy rains, it's essential to...   True       96.570145  \n",
       "44  A flashing red light means you must come to a ...   True       72.880036  \n",
       "45  Your speed while driving at night should be ad...   True       71.543485  \n",
       "46  Based on the provided context, one thing that ...   True       80.181518  \n",
       "47  When driving at night, you should:\\n\\n* Use yo...   True       77.456353  \n",
       "48  When being passed, it's essential to maintain ...   True       65.722008  \n",
       "49  Based on the context provided, when an oncomin...   True      150.891243  \n",
       "50  When approaching a flooded area and you have t...  False      170.452769  \n",
       "51  A single solid yellow or white line means that...  False      135.801747  \n",
       "52  Based on the provided context, passing or over...   True      153.771614  \n",
       "53  A driver on a highway shall yield the right of...   True      125.202210  \n",
       "54  A driver on a highway shall yield the right of...   True      110.887928  \n",
       "55  The traffic sign that warns you that school ch...   True      125.853883  \n",
       "56  The signal warns of a hazard ahead, which is i...  False      129.351698  \n",
       "57  The traffic sign you are referring to is likel...   True      126.881301  \n",
       "58  The mark for a railway crossing is not explici...  False      145.812920  \n",
       "59  no available seats in the vehicle; hence, chil...  False      122.328813  "
      ]
     },
     "metadata": {},
     "output_type": "display_data"
    }
   ],
   "source": [
    "from llama_index.core.evaluation import RelevancyEvaluator\n",
    "\n",
    "ollama_llm = Ollama(model=\"llama3.3\", request_timeout=300)\n",
    "evaluator = RelevancyEvaluator(llm=ollama_llm)\n",
    "\n",
    "eval_results = []\n",
    "\n",
    "for i in tqdm(range(len(df))):\n",
    "    eval_result = await evaluator.aevaluate(\n",
    "        query=df.loc[i, \"Question\"],\n",
    "        response=df.loc[i, \"AI\"],\n",
    "        contexts=[df.loc[i, \"Context\"]]  \n",
    "    )\n",
    "    eval_results.append(eval_result.passing)\n",
    "\n",
    "df['Eval'] = eval_results\n",
    "\n",
    "total_items = len(df)\n",
    "passing_items = df['Eval'].sum()\n",
    "score = f\"Score: {passing_items}/{total_items}\"\n",
    "percentage = passing_items / total_items if total_items > 0 else 0\n",
    "print(score)\n",
    "print(f\"Percentage: {percentage:.2%}\")\n",
    "display(df[['Question', 'Answer', 'AI', 'Eval', 'Inference_Time']])"
   ]
  }
 ],
 "metadata": {
  "kernelspec": {
   "display_name": "LTO_RAG",
   "language": "python",
   "name": "python3"
  },
  "language_info": {
   "codemirror_mode": {
    "name": "ipython",
    "version": 3
   },
   "file_extension": ".py",
   "mimetype": "text/x-python",
   "name": "python",
   "nbconvert_exporter": "python",
   "pygments_lexer": "ipython3",
   "version": "3.10.12"
  }
 },
 "nbformat": 4,
 "nbformat_minor": 5
}
