{
 "cells": [
  {
   "cell_type": "code",
   "execution_count": 1,
   "id": "140a7379-7cad-493b-9d2e-6c675e6f4e18",
   "metadata": {},
   "outputs": [
    {
     "name": "stderr",
     "output_type": "stream",
     "text": [
      "/home/jnmrco08/developer/grad_school/lto_rag_reviewer/.venv/lib/python3.10/site-packages/wikipedia/wikipedia.py:389: GuessedAtParserWarning: No parser was explicitly specified, so I'm using the best available HTML parser for this system (\"html.parser\"). This usually isn't a problem, but if you run this code on another system, or in a different virtual environment, it may use a different parser and behave differently.\n",
      "\n",
      "The code that caused this warning is on line 389 of the file /home/jnmrco08/developer/grad_school/lto_rag_reviewer/.venv/lib/python3.10/site-packages/wikipedia/wikipedia.py. To get rid of this warning, pass the additional argument 'features=\"html.parser\"' to the BeautifulSoup constructor.\n",
      "\n",
      "  lis = BeautifulSoup(html).find_all('li')\n"
     ]
    }
   ],
   "source": [
    "from langchain_community.document_loaders import WikipediaLoader\n",
    "from pprint import pprint\n",
    "\n",
    "docs = WikipediaLoader(query=\"Philippines\", load_max_docs=10).load()"
   ]
  },
  {
   "cell_type": "code",
   "execution_count": 2,
   "id": "e6cd172e-6a54-47b4-884e-c107f79b14ae",
   "metadata": {},
   "outputs": [
    {
     "data": {
      "text/plain": [
       "'The Philippines, officially the Republic of the Philippines, is an archipelagic country in Southeast Asia. In the western Pacific Ocean, it consists of 7,641 islands, with a total area of roughly 300,000 square kilometers, which are broadly categorized in three main geographical divisions from north to south: Luzon, Visayas, and Mindanao. The Philippines is bounded by the South China Sea to the west, the Philippine Sea to the east, and the Celebes Sea to the south. It shares maritime borders with Taiwan to the north, Japan to the northeast, Palau to the east and southeast, Indonesia to the south, Malaysia to the southwest, Vietnam to the west, and China to the northwest. It is the world\\'s twelfth-most-populous country, with diverse ethnicities and cultures. Manila is the country\\'s capital, and its most populated city is Quezon City. Both are within Metro Manila.\\nNegritos, the archipelago\\'s earliest inhabitants, were followed by waves of Austronesian peoples. The adoption of animism, Hinduism with Buddhist influence, and Islam established island-kingdoms ruled by datus, rajas, and sultans. Extensive overseas trade with neighbors such as the late Tang or Song empire brought Chinese people to the archipelago as well, which would also gradually settle in and intermix over the centuries. \\nThe arrival of Ferdinand Magellan, a Portuguese explorer leading a fleet for Castile, marked the beginning of Spanish colonization. In 1543, Spanish explorer Ruy López de Villalobos named the archipelago Las Islas Filipinas in honor of King Philip II of Castile. Spanish colonization via New Spain, beginning in 1565, led to the Philippines becoming ruled by the Crown of Castile, as part of the Spanish Empire, for more than 300 years. Catholic Christianity became the dominant religion, and Manila became the western hub of trans-Pacific trade. Hispanic immigrants from Latin America and Iberia would also selectively colonize. The Philippine Revolution began in 1896, and became entwined with the 1898 Spanish–American War. Spain ceded the territory to the United States, and Filipino revolutionaries declared the First Philippine Republic. The ensuing Philippine–American War ended with the United States controlling the territory until the Japanese invasion of the islands during World War II. After the United States retook the Philippines from the Japanese, the Philippines became independent in 1946. The country has had a tumultuous experience with democracy, which included the overthrow of a decades-long dictatorship in a nonviolent revolution.\\nThe Philippines is an emerging market and a developing and newly industrialized country, whose economy is transitioning from being agricultural to service- and manufacturing-centered. It is a founding member of the United Nations, the World Trade Organization, ASEAN, the Asia-Pacific Economic Cooperation forum, and the East Asia Summit; it is a member of the Non-Aligned Movement and a major non-NATO ally of the United States. Its location as an island country on the Pacific Ring of Fire and close to the equator makes it prone to earthquakes and typhoons. The Philippines has a variety of natural resources and a globally-significant level of biodiversity.\\n\\n\\n== Etymology ==\\n\\nDuring his 1542 expedition, Spanish explorer Ruy López de Villalobos named the islands of Leyte and Samar \"Felipinas\" after the Prince of Asturias, later Philip II of Castile. Eventually, the name \"Las Islas Filipinas\" would be used for the archipelago\\'s Spanish possessions.:\\u200a6\\u200a Other names, such as \"Islas del Poniente\" (Western Islands), \"Islas del Oriente\" (Eastern Islands), Ferdinand Magellan\\'s name, and \"San Lázaro\" (Islands of St. Lazarus), were used by the Spanish to refer to islands in the region before Spanish rule was established.\\nDuring the Philippine Revolution, the Malolos Congress proclaimed it the República Filipina (the Philippine Republic). American colonial authorities referred to the country as the Philippine Islands (a translati'"
      ]
     },
     "execution_count": 2,
     "metadata": {},
     "output_type": "execute_result"
    }
   ],
   "source": [
    "docs[0].page_content"
   ]
  },
  {
   "cell_type": "code",
   "execution_count": 3,
   "id": "41eaa658-2bbd-4a5f-8827-c5461bb417ca",
   "metadata": {},
   "outputs": [
    {
     "data": {
      "text/plain": [
       "90"
      ]
     },
     "execution_count": 3,
     "metadata": {},
     "output_type": "execute_result"
    }
   ],
   "source": [
    "from langchain.text_splitter import RecursiveCharacterTextSplitter\n",
    "\n",
    "text_splitter = RecursiveCharacterTextSplitter(chunk_size=500, chunk_overlap=0)\n",
    "chunks = text_splitter.split_documents(documents=docs)\n",
    "len(chunks)"
   ]
  },
  {
   "cell_type": "code",
   "execution_count": 4,
   "id": "c2bc0f12-4b81-4aa7-82df-64b5f40fa928",
   "metadata": {},
   "outputs": [
    {
     "data": {
      "text/plain": [
       "'The Philippines, officially the Republic of the Philippines, is an archipelagic country in Southeast Asia. In the western Pacific Ocean, it consists of 7,641 islands, with a total area of roughly 300,000 square kilometers, which are broadly categorized in three main geographical divisions from north to south: Luzon, Visayas, and Mindanao. The Philippines is bounded by the South China Sea to the west, the Philippine Sea to the east, and the Celebes Sea to the south. It shares maritime borders'"
      ]
     },
     "execution_count": 4,
     "metadata": {},
     "output_type": "execute_result"
    }
   ],
   "source": [
    "chunks_docs = [x.page_content for x in chunks]\n",
    "chunks_docs[0]"
   ]
  },
  {
   "cell_type": "code",
   "execution_count": 5,
   "id": "dd9f8fc8-5147-442d-9f08-7e191c2c1882",
   "metadata": {},
   "outputs": [],
   "source": [
    "from ollama import Client\n",
    "import numpy as np\n",
    "\n",
    "client = Client(\n",
    "  host='http://localhost:11434',\n",
    ")"
   ]
  },
  {
   "cell_type": "code",
   "execution_count": 6,
   "id": "28437ac3-e225-42cb-bf17-5553ab858ec2",
   "metadata": {},
   "outputs": [],
   "source": [
    "def generate_embeddings(documents, client, model):\n",
    "    # Generate embeddings for documents using Ollama\n",
    "    embeddings = []\n",
    "    for doc in documents:\n",
    "        response = client.embeddings(prompt=doc, model=model)\n",
    "        embeddings.append(response[\"embedding\"])\n",
    "    return np.array(embeddings)"
   ]
  },
  {
   "cell_type": "code",
   "execution_count": 151,
   "id": "0bd32ee7-8b43-4532-a506-c6c3322b9f45",
   "metadata": {},
   "outputs": [],
   "source": [
    "embeddings = generate_embeddings(chunks_docs, client, \"mxbai-embed-large\")"
   ]
  },
  {
   "cell_type": "code",
   "execution_count": 152,
   "id": "8f940485-171c-49f6-bad1-9e5ca5556795",
   "metadata": {},
   "outputs": [
    {
     "data": {
      "text/plain": [
       "array([[-0.57230604,  0.64173025, -0.35715616, ..., -0.57842422,\n",
       "        -0.23363476,  0.23840278],\n",
       "       [-0.63292491,  0.66969293, -0.40974909, ..., -0.41128689,\n",
       "        -0.56955785, -0.21378343],\n",
       "       [-0.25046343,  1.35836792,  0.26955152, ..., -0.86843258,\n",
       "        -0.1213906 , -0.57189274],\n",
       "       ...,\n",
       "       [-0.67305088,  1.19187093,  0.6693086 , ..., -0.18486166,\n",
       "         0.17004541, -0.20220765],\n",
       "       [-0.47561765,  0.72825933,  0.53640741, ..., -0.0581817 ,\n",
       "        -0.01174569, -0.21620721],\n",
       "       [-0.21668237,  0.58151639,  0.67202467, ..., -0.28565156,\n",
       "        -0.42977393, -0.51442134]])"
      ]
     },
     "execution_count": 152,
     "metadata": {},
     "output_type": "execute_result"
    }
   ],
   "source": [
    "embeddings"
   ]
  },
  {
   "cell_type": "code",
   "execution_count": 9,
   "id": "f02d55d3-151a-4576-8291-bfe37564cd84",
   "metadata": {},
   "outputs": [],
   "source": [
    "from llama_index.vector_stores.faiss import FaissVectorStore\n",
    "import faiss\n",
    "\n",
    "def create_faiss_vector_store(embedding_size: int):\n",
    "    # Initialize FAISS with dimensions of the embedding model\n",
    "    faiss_index = faiss.IndexFlatIP(embedding_size)  # Inner-product similarity\n",
    "    vector_store = FaissVectorStore(faiss_index=faiss_index)\n",
    "    return vector_store"
   ]
  },
  {
   "cell_type": "code",
   "execution_count": 10,
   "id": "1ea6c0a5-f369-45ad-ba93-eb2af01049d2",
   "metadata": {},
   "outputs": [
    {
     "data": {
      "text/plain": [
       "1024"
      ]
     },
     "execution_count": 10,
     "metadata": {},
     "output_type": "execute_result"
    }
   ],
   "source": [
    "embedding_dim = embeddings[0].shape[0]\n",
    "embedding_dim "
   ]
  },
  {
   "cell_type": "code",
   "execution_count": 72,
   "id": "ea2e1810-f670-4f63-a0f5-144d038da0c9",
   "metadata": {},
   "outputs": [],
   "source": [
    "# Retrievers\n",
    "from llama_index.core.retrievers import (\n",
    "    BaseRetriever,\n",
    "    VectorIndexRetriever,\n",
    "    KeywordTableSimpleRetriever,\n",
    ")"
   ]
  },
  {
   "cell_type": "code",
   "execution_count": 69,
   "id": "3ab7f720-c502-4641-a964-4748994449ad",
   "metadata": {},
   "outputs": [],
   "source": [
    "from llama_index.core import Document, VectorStoreIndex, load_index_from_storage, StorageContext\n",
    "from llama_index.core.schema import TextNode, NodeWithScore"
   ]
  },
  {
   "cell_type": "code",
   "execution_count": 59,
   "id": "2e7ddf1e-bbfa-41a5-9a1f-39b5b7c69fe4",
   "metadata": {},
   "outputs": [],
   "source": [
    "vector_store = create_faiss_vector_store(embedding_size=embedding_dim)"
   ]
  },
  {
   "cell_type": "code",
   "execution_count": 60,
   "id": "22745c95-8b5b-47aa-bf53-b7be4ae724d7",
   "metadata": {},
   "outputs": [],
   "source": [
    "nodes = [\n",
    "    TextNode(text=chunk, embedding=embedding)\n",
    "    for chunk, embedding in zip(chunks_docs, embeddings)\n",
    "]"
   ]
  },
  {
   "cell_type": "code",
   "execution_count": 115,
   "id": "7534fcf4-da2a-4e16-b95a-777e1dd0c299",
   "metadata": {},
   "outputs": [],
   "source": [
    "class FAISSVectorStoreRetriever(BaseRetriever):\n",
    "    def __init__(self, faiss_index, documents, embeddings):\n",
    "        \"\"\"\n",
    "        Initialize the FAISS retriever.\n",
    "        :param faiss_index: The FAISS index containing precomputed embeddings.\n",
    "        :param documents: List of document chunks.\n",
    "        :param embeddings: Precomputed embeddings corresponding to the document chunks.\n",
    "        \"\"\"\n",
    "        self.faiss_index = faiss_index\n",
    "        self.documents = documents\n",
    "        self.embeddings = embeddings\n",
    "    \n",
    "    def _retrieve(self, query_embedding, top_k=5):\n",
    "        \"\"\"\n",
    "        Retrieve the top-k nearest neighbors using the FAISS index.\n",
    "        :param query_embedding: The embedding of the query.\n",
    "        :param top_k: Number of top results to retrieve.\n",
    "        \"\"\"\n",
    "        distances, indices = self.faiss_index.search(np.array(query_embedding), top_k)\n",
    "        retrieved_docs = [\n",
    "            NodeWithScore(node=self.documents[idx], score=1 - dist)\n",
    "            for idx, dist in zip(indices[0], distances[0])\n",
    "            if idx != -1\n",
    "        ]\n",
    "        return retrieved_docs"
   ]
  },
  {
   "cell_type": "code",
   "execution_count": 154,
   "id": "18e28254-186b-4f10-bee2-e135e59cd57c",
   "metadata": {},
   "outputs": [],
   "source": [
    "embeddings /= np.linalg.norm(embeddings, axis=1, keepdims=True)"
   ]
  },
  {
   "cell_type": "code",
   "execution_count": 156,
   "id": "c74bb0b4-072e-4dff-8482-e2b504e898ed",
   "metadata": {},
   "outputs": [
    {
     "data": {
      "text/plain": [
       "array([[-0.03054146,  0.03424632, -0.01905985, ..., -0.03086796,\n",
       "        -0.01246806,  0.01272251],\n",
       "       [-0.03408776,  0.036068  , -0.02206807, ..., -0.02215089,\n",
       "        -0.03067497, -0.01151384],\n",
       "       [-0.01419157,  0.07696685,  0.01527313, ..., -0.04920649,\n",
       "        -0.00687815, -0.03240417],\n",
       "       ...,\n",
       "       [-0.03798815,  0.06727124,  0.03777693, ..., -0.01043391,\n",
       "         0.00959765, -0.01141295],\n",
       "       [-0.02692873,  0.04123291,  0.03037055, ..., -0.00329416,\n",
       "        -0.00066502, -0.01224132],\n",
       "       [-0.01202815,  0.03228028,  0.03730445, ..., -0.01585667,\n",
       "        -0.02385698, -0.0285558 ]])"
      ]
     },
     "execution_count": 156,
     "metadata": {},
     "output_type": "execute_result"
    }
   ],
   "source": [
    "embeddings"
   ]
  },
  {
   "cell_type": "code",
   "execution_count": 155,
   "id": "3d9e60af-0cd6-49ca-9e08-cbe3ffa90d50",
   "metadata": {},
   "outputs": [],
   "source": [
    "faiss_index = faiss.IndexFlatIP(embedding_dim)\n",
    "faiss_index.add(embeddings)"
   ]
  },
  {
   "cell_type": "code",
   "execution_count": 160,
   "id": "9002248c-3309-4e1f-b09b-279499fed4dd",
   "metadata": {},
   "outputs": [],
   "source": [
    "retriever = FAISSVectorStoreRetriever(faiss_index, nodes, embeddings)"
   ]
  },
  {
   "cell_type": "code",
   "execution_count": 168,
   "id": "4cc011c1-f722-49a8-9e14-e85df0698c1a",
   "metadata": {},
   "outputs": [
    {
     "data": {
      "text/plain": [
       "array([[-0.03054146,  0.03424632, -0.01905985, ..., -0.03086796,\n",
       "        -0.01246806,  0.01272251]])"
      ]
     },
     "execution_count": 168,
     "metadata": {},
     "output_type": "execute_result"
    }
   ],
   "source": [
    "np.array([embeddings[0]])"
   ]
  },
  {
   "cell_type": "code",
   "execution_count": 171,
   "id": "0bf4bb52-2c81-4897-a1cb-d01e9289aacc",
   "metadata": {},
   "outputs": [
    {
     "data": {
      "text/plain": [
       "array([[-0.03054146,  0.03424632, -0.01905985, ..., -0.03086796,\n",
       "        -0.01246806,  0.01272251]])"
      ]
     },
     "execution_count": 171,
     "metadata": {},
     "output_type": "execute_result"
    }
   ],
   "source": [
    "query_embedding = np.array([embeddings[0]])\n",
    "query_embedding"
   ]
  },
  {
   "cell_type": "code",
   "execution_count": 172,
   "id": "99866d48-b1fe-4674-a451-805dbaf2837f",
   "metadata": {},
   "outputs": [],
   "source": [
    "query_embedding /= np.linalg.norm(query_embedding, axis=1, keepdims=True)"
   ]
  },
  {
   "cell_type": "code",
   "execution_count": 173,
   "id": "e7665b98-c443-4403-bd5c-77e8659afce1",
   "metadata": {},
   "outputs": [
    {
     "data": {
      "text/plain": [
       "array([[-0.03054146,  0.03424632, -0.01905985, ..., -0.03086796,\n",
       "        -0.01246806,  0.01272251]])"
      ]
     },
     "execution_count": 173,
     "metadata": {},
     "output_type": "execute_result"
    }
   ],
   "source": [
    "query_embedding"
   ]
  },
  {
   "cell_type": "code",
   "execution_count": 169,
   "id": "c04cddea-b378-4d75-beb5-c75f3d8d4622",
   "metadata": {},
   "outputs": [],
   "source": [
    "# Perform a retrieval\n",
    "query_embedding = np.array([embeddings[0]])  # Example query embedding\n",
    "top_k_docs = retriever._retrieve(query_embedding, top_k=5)"
   ]
  },
  {
   "cell_type": "code",
   "execution_count": 170,
   "id": "fa0f2500-ced6-4ef3-82ff-96115184b2cc",
   "metadata": {},
   "outputs": [
    {
     "name": "stdout",
     "output_type": "stream",
     "text": [
      "Retrieved Document: The Philippines, officially the Republic of the Philippines, is an archipelagic country in Southeast Asia. In the western Pacific Ocean, it consists of 7,641 islands, with a total area of roughly 300,000 square kilometers, which are broadly categorized in three main geographical divisions from north to south: Luzon, Visayas, and Mindanao. The Philippines is bounded by the South China Sea to the west, the Philippine Sea to the east, and the Celebes Sea to the south. It shares maritime borders, Score: 0.0\n",
      "Retrieved Document: with Taiwan to the north, Japan to the northeast, Palau to the east and southeast, Indonesia to the south, Malaysia to the southwest, Vietnam to the west, and China to the northwest. It is the world's twelfth-most-populous country, with diverse ethnicities and cultures. Manila is the country's capital, and its most populated city is Quezon City. Both are within Metro Manila., Score: 0.19139140844345093\n",
      "Retrieved Document: The Philippines is an emerging market and a developing and newly industrialized country, whose economy is transitioning from being agricultural to service- and manufacturing-centered. It is a founding member of the United Nations, the World Trade Organization, ASEAN, the Asia-Pacific Economic Cooperation forum, and the East Asia Summit; it is a member of the Non-Aligned Movement and a major non-NATO ally of the United States. Its location as an island country on the Pacific Ring of Fire and, Score: 0.20329588651657104\n",
      "Retrieved Document: close to the equator makes it prone to earthquakes and typhoons. The Philippines has a variety of natural resources and a globally-significant level of biodiversity., Score: 0.21881097555160522\n",
      "Retrieved Document: The Philippines is a multilingual state with 175 living languages originating and spoken by various ethno-linguistic groups. Many of these languages descend from a common Malayo-Polynesian language due to the Austronesian migration from Taiwan. The common Malayo-Polynesian language split into different languages, and usually through the Malay language, the lingua franca of maritime Southeast Asia, these were able to adopt terms that ultimately originate from other languages such as Japanese,, Score: 0.2522996664047241\n"
     ]
    }
   ],
   "source": [
    "# Output retrieved documents\n",
    "for doc in top_k_docs:\n",
    "    print(f\"Retrieved Document: {doc.node.text}, Score: {doc.score}\")"
   ]
  },
  {
   "cell_type": "code",
   "execution_count": 180,
   "id": "8951f705-62de-420b-b915-2fd8c5fcaf5a",
   "metadata": {},
   "outputs": [],
   "source": [
    "query = [\"What is Asia\"]\n",
    "query_embedding = generate_embeddings(query,client, model=\"mxbai-embed-large\")\n",
    "query_embedding /= np.linalg.norm(query_embedding, axis=1, keepdims=True)"
   ]
  },
  {
   "cell_type": "code",
   "execution_count": 181,
   "id": "2f80289e-e030-402e-9df1-9837ab95857c",
   "metadata": {},
   "outputs": [
    {
     "data": {
      "text/plain": [
       "array([[-0.02969048,  0.0487471 , -0.03912626, ..., -0.06983893,\n",
       "        -0.01220416, -0.03056643]])"
      ]
     },
     "execution_count": 181,
     "metadata": {},
     "output_type": "execute_result"
    }
   ],
   "source": [
    "query_embedding"
   ]
  },
  {
   "cell_type": "code",
   "execution_count": 182,
   "id": "a0d7ceb6-0d7d-460f-85d4-5ba15c66fc4e",
   "metadata": {},
   "outputs": [],
   "source": [
    "retrieved_docs = retriever._retrieve(query_embedding)\n",
    "context = \"\\n\".join([doc.node.text for doc in retrieved_docs])"
   ]
  },
  {
   "cell_type": "code",
   "execution_count": 183,
   "id": "05d4a96a-936f-47bd-b45b-1affc7689da5",
   "metadata": {},
   "outputs": [
    {
     "name": "stdout",
     "output_type": "stream",
     "text": [
      "Retrieved Document: The Philippines, officially the Republic of the Philippines, is an archipelagic country in Southeast Asia. In the western Pacific Ocean, it consists of 7,641 islands, with a total area of roughly 300,000 square kilometers, which are broadly categorized in three main geographical divisions from north to south: Luzon, Visayas, and Mindanao. The Philippines is bounded by the South China Sea to the west, the Philippine Sea to the east, and the Celebes Sea to the south. It shares maritime borders, Score: 0.39185839891433716\n",
      "Retrieved Document: with Taiwan to the north, Japan to the northeast, Palau to the east and southeast, Indonesia to the south, Malaysia to the southwest, Vietnam to the west, and China to the northwest. It is the world's twelfth-most-populous country, with diverse ethnicities and cultures. Manila is the country's capital, and its most populated city is Quezon City. Both are within Metro Manila., Score: 0.4099165201187134\n",
      "Retrieved Document: The Philippines is an emerging market and a developing and newly industrialized country, whose economy is transitioning from being agricultural to service- and manufacturing-centered. It is a founding member of the United Nations, the World Trade Organization, ASEAN, the Asia-Pacific Economic Cooperation forum, and the East Asia Summit; it is a member of the Non-Aligned Movement and a major non-NATO ally of the United States. Its location as an island country on the Pacific Ring of Fire and, Score: 0.41803044080734253\n",
      "Retrieved Document: Filipino (English:   , FIH-lih-PEE-noh; Wikang Filipino, [ˈwi.kɐŋ fi.liˈpi.no̞]) is a language under the Austronesian language family. It is the national language (Wikang pambansa / Pambansang wika) of the Philippines, lingua franca (Karaniwang wika), and one of the two official languages (Wikang opisyal/Opisyal na wika) of the country, with English. It is a standardized variety of the native language Tagalog, spoken and written in Metro Manila, the National Capital Region, and in other urban, Score: 0.446407675743103\n",
      "Retrieved Document: close to the equator makes it prone to earthquakes and typhoons. The Philippines has a variety of natural resources and a globally-significant level of biodiversity., Score: 0.4556799530982971\n"
     ]
    }
   ],
   "source": [
    "# Output retrieved documents\n",
    "for doc in retrieved_docs:\n",
    "    print(f\"Retrieved Document: {doc.node.text}, Score: {doc.score}\")"
   ]
  },
  {
   "cell_type": "code",
   "execution_count": 199,
   "id": "aa9f1ffd-6ebf-4840-8803-1700c8ec4c8d",
   "metadata": {},
   "outputs": [
    {
     "data": {
      "text/plain": [
       "\"be elaborate but must be strict with context. if it is not in the context, answer that it lacks evidence. Context: The Philippines, officially the Republic of the Philippines, is an archipelagic country in Southeast Asia. In the western Pacific Ocean, it consists of 7,641 islands, with a total area of roughly 300,000 square kilometers, which are broadly categorized in three main geographical divisions from north to south: Luzon, Visayas, and Mindanao. The Philippines is bounded by the South China Sea to the west, the Philippine Sea to the east, and the Celebes Sea to the south. It shares maritime borders\\nwith Taiwan to the north, Japan to the northeast, Palau to the east and southeast, Indonesia to the south, Malaysia to the southwest, Vietnam to the west, and China to the northwest. It is the world's twelfth-most-populous country, with diverse ethnicities and cultures. Manila is the country's capital, and its most populated city is Quezon City. Both are within Metro Manila.\\nThe Philippines is an emerging market and a developing and newly industrialized country, whose economy is transitioning from being agricultural to service- and manufacturing-centered. It is a founding member of the United Nations, the World Trade Organization, ASEAN, the Asia-Pacific Economic Cooperation forum, and the East Asia Summit; it is a member of the Non-Aligned Movement and a major non-NATO ally of the United States. Its location as an island country on the Pacific Ring of Fire and\\nFilipino (English:   , FIH-lih-PEE-noh; Wikang Filipino, [ˈwi.kɐŋ fi.liˈpi.no̞]) is a language under the Austronesian language family. It is the national language (Wikang pambansa / Pambansang wika) of the Philippines, lingua franca (Karaniwang wika), and one of the two official languages (Wikang opisyal/Opisyal na wika) of the country, with English. It is a standardized variety of the native language Tagalog, spoken and written in Metro Manila, the National Capital Region, and in other urban\\nclose to the equator makes it prone to earthquakes and typhoons. The Philippines has a variety of natural resources and a globally-significant level of biodiversity.\\n\\nQuestion: ['What is Asia']\\n\\nAnswer:\""
      ]
     },
     "execution_count": 199,
     "metadata": {},
     "output_type": "execute_result"
    }
   ],
   "source": [
    "prompt = f\"be elaborate but must be strict with context. if it is not in the context, answer that it lacks evidence. Context: {context}\\n\\nQuestion: {query}\\n\\nAnswer:\"\n",
    "prompt"
   ]
  },
  {
   "cell_type": "code",
   "execution_count": 200,
   "id": "ef8790b7-283a-46a1-99fe-9914aff11edd",
   "metadata": {},
   "outputs": [
    {
     "name": "stdout",
     "output_type": "stream",
     "text": [
      "A question that falls squarely within the context of the provided information!\n",
      "\n",
      "Asia, also known as the Asian continent or East Asia, refers to the largest and most populous of the world's seven continents. It is bounded by the Pacific Ocean to the east, the Arctic Ocean to the north, and the Indian Ocean to the south.\n",
      "\n",
      "The Philippines, being an archipelagic country in Southeast Asia, shares maritime borders with several countries including Taiwan, Japan, Palau, Indonesia, Malaysia, Vietnam, and China, as mentioned earlier.\n",
      "\n",
      "In this context, Asia is not just a geographical location but also encompasses various cultures, languages, economies, and natural resources, making it a vital part of the global community.\n"
     ]
    }
   ],
   "source": [
    "response = client.generate(model='llama3.2', prompt=prompt)\n",
    "print(response.response)"
   ]
  },
  {
   "cell_type": "code",
   "execution_count": 178,
   "id": "348d19c5-8615-4b06-8e85-96090384cb17",
   "metadata": {},
   "outputs": [
    {
     "data": {
      "text/plain": [
       "GenerateResponse(model='llama3.2', created_at='2024-12-20T15:30:37.029113262Z', done=True, done_reason='stop', total_duration=183494895, load_duration=31063977, prompt_eval_count=449, prompt_eval_duration=20000000, eval_count=11, eval_duration=130000000, response='The answer is \"Philippines\" (PH).', context=[128006, 9125, 128007, 271, 38766, 1303, 33025, 2696, 25, 6790, 220, 2366, 18, 271, 128009, 128006, 882, 128007, 271, 2014, 25, 578, 26363, 11, 19073, 279, 5545, 315, 279, 26363, 11, 374, 459, 5438, 82179, 13070, 3224, 304, 36664, 13936, 13, 763, 279, 19001, 16867, 22302, 11, 433, 17610, 315, 220, 22, 11, 23525, 30100, 11, 449, 264, 2860, 3158, 315, 17715, 220, 3101, 11, 931, 9518, 41668, 11, 902, 527, 44029, 71974, 304, 2380, 1925, 54001, 37601, 505, 10411, 311, 10007, 25, 82739, 263, 11, 7811, 98440, 11, 323, 23754, 3444, 78, 13, 578, 26363, 374, 62215, 555, 279, 4987, 5734, 15379, 311, 279, 9909, 11, 279, 57281, 15379, 311, 279, 11226, 11, 323, 279, 23519, 9620, 15379, 311, 279, 10007, 13, 1102, 13551, 58412, 24743, 198, 4291, 29389, 311, 279, 10411, 11, 6457, 311, 279, 41929, 11, 11165, 2933, 311, 279, 11226, 323, 42552, 11, 24922, 311, 279, 10007, 11, 28796, 311, 279, 54085, 11, 23315, 311, 279, 9909, 11, 323, 5734, 311, 279, 53342, 13, 1102, 374, 279, 1917, 596, 4483, 88798, 63498, 41352, 13850, 3224, 11, 449, 17226, 22277, 1385, 323, 27833, 13, 57664, 374, 279, 3224, 596, 6864, 11, 323, 1202, 1455, 35459, 3363, 374, 9605, 52719, 4409, 13, 11995, 527, 2949, 21631, 57664, 627, 791, 26363, 374, 459, 24084, 3157, 323, 264, 11469, 323, 13945, 13076, 1534, 3224, 11, 6832, 8752, 374, 73194, 505, 1694, 29149, 311, 2532, 12, 323, 15266, 50482, 13, 1102, 374, 264, 36330, 4562, 315, 279, 3723, 19687, 11, 279, 4435, 17657, 21021, 11, 99967, 1111, 11, 279, 13936, 64976, 23362, 73808, 12111, 11, 323, 279, 6460, 13936, 35769, 26, 433, 374, 264, 4562, 315, 279, 11842, 65473, 1571, 29098, 323, 264, 3682, 2536, 11500, 59208, 31953, 315, 279, 3723, 4273, 13, 11699, 3813, 439, 459, 13218, 3224, 389, 279, 16867, 22249, 315, 6785, 323, 198, 5669, 311, 279, 3312, 859, 3727, 433, 38097, 311, 66579, 323, 13892, 764, 29639, 13, 578, 26363, 706, 264, 8205, 315, 5933, 5070, 323, 264, 31550, 29053, 34828, 2237, 315, 73119, 627, 791, 26363, 374, 264, 2814, 50923, 1614, 449, 220, 10005, 5496, 15823, 71373, 323, 22066, 555, 5370, 8537, 2201, 12, 2785, 84, 4633, 5315, 13, 9176, 315, 1521, 15823, 55668, 505, 264, 4279, 8560, 77080, 9483, 337, 1910, 30321, 4221, 4245, 311, 279, 116112, 3233, 1122, 12172, 505, 29389, 13, 578, 4279, 8560, 77080, 9483, 337, 1910, 30321, 4221, 6859, 1139, 2204, 15823, 11, 323, 6118, 1555, 279, 80240, 4221, 11, 279, 38172, 4381, 35847, 315, 58412, 36664, 13936, 11, 1521, 1051, 3025, 311, 11142, 3878, 430, 13967, 82316, 505, 1023, 15823, 1778, 439, 11002, 3638, 14924, 25, 2570, 3923, 374, 15001, 16049, 16533, 25, 128009, 128006, 78191, 128007, 271, 791, 4320, 374, 330, 30690, 65006, 1, 320, 11079, 570])"
      ]
     },
     "execution_count": 178,
     "metadata": {},
     "output_type": "execute_result"
    }
   ],
   "source": []
  },
  {
   "cell_type": "code",
   "execution_count": 206,
   "id": "8bc81b9f-e6b5-4623-8fe3-c3a4d621683d",
   "metadata": {},
   "outputs": [
    {
     "name": "stdout",
     "output_type": "stream",
     "text": [
      "Retrieved Document: The arrival of Ferdinand Magellan, a Portuguese explorer leading a fleet for Castile, marked the beginning of Spanish colonization. In 1543, Spanish explorer Ruy López de Villalobos named the archipelago Las Islas Filipinas in honor of King Philip II of Castile. Spanish colonization via New Spain, beginning in 1565, led to the Philippines becoming ruled by the Crown of Castile, as part of the Spanish Empire, for more than 300 years. Catholic Christianity became the dominant religion, and Manila, Score: 0.4096744656562805\n",
      "Retrieved Document: During his 1542 expedition, Spanish explorer Ruy López de Villalobos named the islands of Leyte and Samar \"Felipinas\" after the Prince of Asturias, later Philip II of Castile. Eventually, the name \"Las Islas Filipinas\" would be used for the archipelago's Spanish possessions.: 6  Other names, such as \"Islas del Poniente\" (Western Islands), \"Islas del Oriente\" (Eastern Islands), Ferdinand Magellan's name, and \"San Lázaro\" (Islands of St. Lazarus), were used by the Spanish to refer to islands in, Score: 0.4733912944793701\n",
      "Retrieved Document: The Philippines, officially the Republic of the Philippines, is an archipelagic country in Southeast Asia. In the western Pacific Ocean, it consists of 7,641 islands, with a total area of roughly 300,000 square kilometers, which are broadly categorized in three main geographical divisions from north to south: Luzon, Visayas, and Mindanao. The Philippines is bounded by the South China Sea to the west, the Philippine Sea to the east, and the Celebes Sea to the south. It shares maritime borders, Score: 0.49690186977386475\n",
      "Retrieved Document: Spanish intrusion into the Philippine islands started in 1565 with the fall of Cebu. The eventual capital established by Spain for its settlement in the Philippines was Manila, situated in a Tagalog-speaking region, after the capture of Manila from the Muslim Kingdom of Luzon ruled by Raja Matanda with the heir apparent Raja Sulayman and the Hindu-Buddhist Kingdom of Tondo ruled by Lakan Dula. After its fall to the Spaniards, Manila was made the capital of the Spanish settlement in Asia due to, Score: 0.5027452409267426\n",
      "Retrieved Document: close to the equator makes it prone to earthquakes and typhoons. The Philippines has a variety of natural resources and a globally-significant level of biodiversity., Score: 0.5062187314033508\n",
      "RAG Response: Ferdinand Magellan (1480-1521) was a Portuguese explorer who worked for the King of Spain and led the first expedition to circumnavigate the globe. Here are some key facts about Magellan:\n",
      "\n",
      "1. Early Life: Magellan was born in Sabrosa, Portugal, around 1480. He began his maritime career as a teenager and later moved to Brazil, where he became involved in the gold trade.\n",
      "2. Service to the Spanish Monarchy: In 1505, Magellan joined the Portuguese navy, but after being captured by the Spanish, he offered his services to King Charles I of Spain (later Charles V, Holy Roman Emperor).\n",
      "3. The Expedition: Magellan's goal was to reach the Spice Islands (present-day Indonesia) by sailing west across the Atlantic. He assembled a fleet of five ships and set sail from Sanlúcar de Barrameda, Spain in 1519.\n",
      "4. Crossing the Pacific: On September 20, 1520, Magellan's expedition became the first Europeans to cross the Pacific Ocean. However, he was killed in the Philippines on April 27, 1521, during a battle with warriors on the island of Mactan. He was struck by an arrow and died shortly after.\n",
      "5. Legacy: Magellan is often credited with leading the first expedition to circumnavigate the globe, although it's worth noting that he did not complete the journey himself. His voyage paved the way for future European explorers and established the Spanish Empire as a major world power.\n",
      "\n",
      "Magellan's voyage had significant consequences for the Philippines, which became one of the earliest countries to be \"discovered\" by Europeans. The arrival of Magellan marked the beginning of Spanish colonization in the region, which would have far-reaching effects on the culture, politics, and economy of the archipelago.\n"
     ]
    }
   ],
   "source": [
    "def rag_query(query, retriever, client, model=\"mxbai-embed-large\"):\n",
    "    # Generate query embedding\n",
    "    query_embedding = generate_embeddings([query],client, model)\n",
    "    query_embedding /= np.linalg.norm(query_embedding, axis=1, keepdims=True)\n",
    "    # Retrieve relevant documents\n",
    "    retrieved_docs = retriever._retrieve(query_embedding)\n",
    "    context = \"\\n\".join([doc.node.text for doc in retrieved_docs])\n",
    "    for doc in retrieved_docs:\n",
    "        print(f\"Retrieved Document: {doc.node.text}, Score: {doc.score}\")\n",
    "    \n",
    "    # Generate response\n",
    "    prompt = f\"Context: {context}\\n\\nQuestion: {query}\\n\\nAnswer:\"\n",
    "    response = client.generate(model='llama3.2', prompt=prompt)\n",
    "    return response\n",
    "\n",
    "# Example usage\n",
    "query = \"Tell me more about magellan\"\n",
    "response = rag_query(query, retriever, client, model=\"mxbai-embed-large\")\n",
    "print(\"RAG Response:\", response.response)"
   ]
  },
  {
   "cell_type": "code",
   "execution_count": null,
   "id": "b1957c16-5bf3-495f-8a41-e9f384900646",
   "metadata": {},
   "outputs": [],
   "source": []
  }
 ],
 "metadata": {
  "kernelspec": {
   "display_name": "Python 3 (ipykernel)",
   "language": "python",
   "name": "python3"
  },
  "language_info": {
   "codemirror_mode": {
    "name": "ipython",
    "version": 3
   },
   "file_extension": ".py",
   "mimetype": "text/x-python",
   "name": "python",
   "nbconvert_exporter": "python",
   "pygments_lexer": "ipython3",
   "version": "3.10.15"
  }
 },
 "nbformat": 4,
 "nbformat_minor": 5
}
