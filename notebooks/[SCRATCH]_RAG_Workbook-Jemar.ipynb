{
 "cells": [
  {
   "cell_type": "code",
   "execution_count": 4,
   "id": "dfdd288c-537b-42e6-b104-2854e99b4a1c",
   "metadata": {},
   "outputs": [],
   "source": [
    "import os\n",
    "import fitz\n",
    "import re\n",
    "import json \n",
    "from ollama import Client\n",
    "import faiss\n",
    "import pandas as pd\n",
    "import numpy as np\n",
    "import Stemmer\n",
    "from tqdm import tqdm\n",
    "import gradio as gr\n",
    "\n",
    "from llama_index.embeddings.huggingface import HuggingFaceEmbedding\n",
    "from llama_index.core import Document\n",
    "from llama_index.core.node_parser import TokenTextSplitter\n",
    "from llama_index.core.retrievers import BaseRetriever, QueryFusionRetriever\n",
    "from llama_index.core.schema import TextNode, NodeWithScore\n",
    "from llama_index.retrievers.bm25 import BM25Retriever"
   ]
  },
  {
   "cell_type": "markdown",
   "id": "2f3d9123-5c2e-4718-8edd-d0bfafed09e8",
   "metadata": {},
   "source": [
    "# Connect to Ollama Server"
   ]
  },
  {
   "cell_type": "code",
   "execution_count": 2,
   "id": "8071a997-f081-4da8-b440-6d66bf4cb4a7",
   "metadata": {},
   "outputs": [],
   "source": [
    "client = Client(\n",
    "  host='http://localhost:11434',\n",
    ")"
   ]
  },
  {
   "cell_type": "markdown",
   "id": "52836262-9e16-4df3-b71f-70b78b2b2700",
   "metadata": {},
   "source": [
    "# Ingestion"
   ]
  },
  {
   "cell_type": "code",
   "execution_count": 3,
   "id": "4d170a76-1ddf-47b4-b98d-db30470f9d83",
   "metadata": {},
   "outputs": [],
   "source": [
    "# Path to the dataset folder\n",
    "DATASET_PATH = r\"C:\\Users\\LEGION\\Desktop\\Project\\AI351\\RAG LTO\\lto_rag_reviewer\\notebooks\\extracted_text.json\"\n",
    "\n",
    "def get_text_and_metadata(input_path):\n",
    "    \"\"\"Load text and metadata from a file and perform chunking.\"\"\"\n",
    "    with open(input_path, \"r\", encoding=\"utf-8\") as f:\n",
    "        extracted_data = json.load(f)\n",
    "\n",
    "    texts = []\n",
    "    metadata = []\n",
    "\n",
    "    for entry in extracted_data:\n",
    "        text = entry[\"text\"]\n",
    "        source_metadata = {\n",
    "            \"source\": entry[\"source\"],\n",
    "            \"folder\": entry[\"folder\"],\n",
    "            \"file_name\": entry[\"file_name\"],\n",
    "            \"page\": entry[\"page\"],\n",
    "            \"title\": entry[\"title\"],\n",
    "            \"url\": entry[\"url\"]\n",
    "        }\n",
    "        texts.append(text)\n",
    "        metadata.append(source_metadata)\n",
    "\n",
    "    return texts, metadata"
   ]
  },
  {
   "cell_type": "code",
   "execution_count": 110,
   "id": "3d7bfd8a-c6a2-4764-9212-17c667cd89be",
   "metadata": {},
   "outputs": [],
   "source": [
    "docs, metadatas = get_text_and_metadata(DATASET_PATH)"
   ]
  },
  {
   "cell_type": "code",
   "execution_count": 102,
   "id": "b8204706-6e7e-4f7e-956b-4e545708392e",
   "metadata": {},
   "outputs": [],
   "source": [
    "documents = [Document(text=docs[t], metadata=metadatas[t]) for t in range(len(docs))]\n",
    "splitter = TokenTextSplitter(\n",
    "    chunk_size=512,\n",
    "    chunk_overlap=20,\n",
    "    separator=\" \",\n",
    ")\n",
    "nodes = splitter.get_nodes_from_documents(documents)"
   ]
  },
  {
   "cell_type": "markdown",
   "id": "f4fa1758-fbf6-48af-85bc-f7a0b17f85aa",
   "metadata": {},
   "source": [
    "# Embedding and Retrieval"
   ]
  },
  {
   "cell_type": "markdown",
   "id": "40e51b7d-edf5-457d-aac2-432dcfd56eb2",
   "metadata": {},
   "source": [
    "## Dense via FAISS"
   ]
  },
  {
   "cell_type": "code",
   "execution_count": 103,
   "id": "cc4cbd59-450d-449d-a269-e34941782d19",
   "metadata": {},
   "outputs": [],
   "source": [
    "def generate_embeddings(nodes, client, model):\n",
    "    embed_model = HuggingFaceEmbedding(model_name=\"BAAI/bge-small-en-v1.5\")\n",
    "    # Generate embeddings for documents using Ollama\n",
    "    for doc in tqdm(nodes):\n",
    "        response = embed_model.get_text_embedding(doc.text)\n",
    "        doc.embedding = response\n",
    "    return nodes"
   ]
  },
  {
   "cell_type": "code",
   "execution_count": 104,
   "id": "f1f0ad81-9986-4369-b4eb-32160fcef31a",
   "metadata": {},
   "outputs": [],
   "source": [
    "class FaissIndexer:\n",
    "    \"\"\"\n",
    "    Faiss-based indexer for efficient similarity search using inner-product (cosine) similarity.\n",
    "\n",
    "    This class handles the creation and management of a FAISS index from node embeddings.\n",
    "    \n",
    "    :ivar faiss_index: The FAISS index for storing and querying embeddings.\n",
    "    :vartype faiss_index: faiss.IndexFlatIP\n",
    "    :ivar embedding_dim: Dimensionality of the embeddings.\n",
    "    :vartype embedding_dim: int\n",
    "    \"\"\"\n",
    "\n",
    "    def __init__(self):\n",
    "        \"\"\"\n",
    "        Initialize the FaissIndexer class.\n",
    "\n",
    "        :ivar faiss_index: The FAISS index, initialized as None.\n",
    "        :ivar embedding_dim: The dimension of embeddings, initialized as None.\n",
    "        \"\"\"\n",
    "        self.faiss_index = None\n",
    "        self.embedding_dim = None\n",
    "\n",
    "    def normalize_embeddings(self, embeddings):\n",
    "        \"\"\"\n",
    "        Normalize embeddings to have unit L2 norm.\n",
    "\n",
    "        :param embeddings: Array of embeddings to normalize.\n",
    "        :type embeddings: np.ndarray\n",
    "        :return: Normalized embeddings.\n",
    "        :rtype: np.ndarray\n",
    "        \"\"\"\n",
    "        return embeddings / np.linalg.norm(embeddings, axis=1, keepdims=True)\n",
    "\n",
    "    def build_index(self, nodes):\n",
    "        \"\"\"\n",
    "        Build the FAISS index from a list of nodes containing embeddings.\n",
    "\n",
    "        :param nodes: List of nodes, where each node contains an `embedding` attribute.\n",
    "        :type nodes: list\n",
    "        :raises ValueError: If the nodes list is empty or embeddings are inconsistent.\n",
    "        \"\"\"\n",
    "        if not nodes:\n",
    "            raise ValueError(\"Nodes list cannot be empty.\")\n",
    "        \n",
    "        embeddings = np.array([np.array(node.embedding) for node in nodes])\n",
    "        normalized_embeddings = self.normalize_embeddings(embeddings)\n",
    "\n",
    "        self.embedding_dim = normalized_embeddings[0].shape[0]\n",
    "        self.faiss_index = faiss.IndexFlatIP(self.embedding_dim)  # Inner-product similarity\n",
    "        self.faiss_index.add(normalized_embeddings)\n",
    "\n",
    "    def get_index(self):\n",
    "        \"\"\"\n",
    "        Get the FAISS index instance.\n",
    "\n",
    "        :return: The FAISS index used for similarity search.\n",
    "        :rtype: faiss.IndexFlatIP\n",
    "        :raises ValueError: If the index has not been built.\n",
    "        \"\"\"\n",
    "        if self.faiss_index is None:\n",
    "            raise ValueError(\"Index has not been built yet. Call 'build_index' first.\")\n",
    "        return self.faiss_index"
   ]
  },
  {
   "cell_type": "code",
   "execution_count": 105,
   "id": "bae97065-1900-498c-acac-aebea6c32745",
   "metadata": {},
   "outputs": [],
   "source": [
    "class FAISSVectorStoreRetriever(BaseRetriever):\n",
    "    def __init__(self, faiss_index, documents):\n",
    "        \"\"\"\n",
    "        Initialize the FAISS retriever.\n",
    "        :param faiss_index: The FAISS index containing precomputed embeddings.\n",
    "        :param documents: List of document chunks.\n",
    "        :param embeddings: Precomputed embeddings corresponding to the document chunks.\n",
    "        \"\"\"\n",
    "        self.faiss_index = faiss_index\n",
    "        self.documents = documents\n",
    "\n",
    "    def _retrieve(self, query_embedding, top_k=5):\n",
    "        \"\"\"\n",
    "        Retrieve the top-k nearest neighbors using the FAISS index.\n",
    "        :param query_embedding: The embedding of the query.\n",
    "        :param top_k: Number of top results to retrieve.\n",
    "        \"\"\"\n",
    "\n",
    "        norm_query_embedding = np.array([query_embedding])\n",
    "        norm_query_embedding /= np.linalg.norm(norm_query_embedding, axis=1, keepdims=True)\n",
    "\n",
    "        distances, indices = self.faiss_index.search(norm_query_embedding, top_k)\n",
    "        retrieved_docs = [\n",
    "            NodeWithScore(node=self.documents[idx], score=1 - dist)\n",
    "            for idx, dist in zip(indices[0], distances[0])\n",
    "            if idx != -1\n",
    "        ]\n",
    "        return retrieved_docs"
   ]
  },
  {
   "cell_type": "code",
   "execution_count": 107,
   "id": "25ee3c3c",
   "metadata": {},
   "outputs": [],
   "source": [
    "# def generate_embeddings(nodes, client, model):\n",
    "#     # Generate embeddings for documents using Ollama\n",
    "#     for doc in tqdm(nodes):\n",
    "#         response = client.embeddings(prompt=doc.text, model=model)\n",
    "#         doc.embedding = response[\"embedding\"]\n",
    "#     return nodes"
   ]
  },
  {
   "cell_type": "code",
   "execution_count": 108,
   "id": "46e523b9",
   "metadata": {},
   "outputs": [
    {
     "name": "stderr",
     "output_type": "stream",
     "text": [
      " 21%|██        | 2525/12302 [02:16<08:47, 18.53it/s]\n"
     ]
    },
    {
     "ename": "KeyboardInterrupt",
     "evalue": "",
     "output_type": "error",
     "traceback": [
      "\u001b[1;31m---------------------------------------------------------------------------\u001b[0m",
      "\u001b[1;31mKeyboardInterrupt\u001b[0m                         Traceback (most recent call last)",
      "Cell \u001b[1;32mIn[108], line 2\u001b[0m\n\u001b[0;32m      1\u001b[0m \u001b[38;5;66;03m# embedding\u001b[39;00m\n\u001b[1;32m----> 2\u001b[0m nodes_embed \u001b[38;5;241m=\u001b[39m \u001b[43mgenerate_embeddings\u001b[49m\u001b[43m(\u001b[49m\u001b[43mnodes\u001b[49m\u001b[43m,\u001b[49m\u001b[43m \u001b[49m\u001b[43mclient\u001b[49m\u001b[43m,\u001b[49m\u001b[43m \u001b[49m\u001b[38;5;124;43m\"\u001b[39;49m\u001b[38;5;124;43mmxbai-embed-large\u001b[39;49m\u001b[38;5;124;43m\"\u001b[39;49m\u001b[43m)\u001b[49m\n",
      "Cell \u001b[1;32mIn[107], line 4\u001b[0m, in \u001b[0;36mgenerate_embeddings\u001b[1;34m(nodes, client, model)\u001b[0m\n\u001b[0;32m      1\u001b[0m \u001b[38;5;28;01mdef\u001b[39;00m \u001b[38;5;21mgenerate_embeddings\u001b[39m(nodes, client, model):\n\u001b[0;32m      2\u001b[0m     \u001b[38;5;66;03m# Generate embeddings for documents using Ollama\u001b[39;00m\n\u001b[0;32m      3\u001b[0m     \u001b[38;5;28;01mfor\u001b[39;00m doc \u001b[38;5;129;01min\u001b[39;00m tqdm(nodes):\n\u001b[1;32m----> 4\u001b[0m         response \u001b[38;5;241m=\u001b[39m \u001b[43mclient\u001b[49m\u001b[38;5;241;43m.\u001b[39;49m\u001b[43membeddings\u001b[49m\u001b[43m(\u001b[49m\u001b[43mprompt\u001b[49m\u001b[38;5;241;43m=\u001b[39;49m\u001b[43mdoc\u001b[49m\u001b[38;5;241;43m.\u001b[39;49m\u001b[43mtext\u001b[49m\u001b[43m,\u001b[49m\u001b[43m \u001b[49m\u001b[43mmodel\u001b[49m\u001b[38;5;241;43m=\u001b[39;49m\u001b[43mmodel\u001b[49m\u001b[43m)\u001b[49m\n\u001b[0;32m      5\u001b[0m         doc\u001b[38;5;241m.\u001b[39membedding \u001b[38;5;241m=\u001b[39m response[\u001b[38;5;124m\"\u001b[39m\u001b[38;5;124membedding\u001b[39m\u001b[38;5;124m\"\u001b[39m]\n\u001b[0;32m      6\u001b[0m     \u001b[38;5;28;01mreturn\u001b[39;00m nodes\n",
      "File \u001b[1;32mc:\\Users\\LEGION\\anaconda3\\Lib\\site-packages\\ollama\\_client.py:379\u001b[0m, in \u001b[0;36mClient.embeddings\u001b[1;34m(self, model, prompt, options, keep_alive)\u001b[0m\n\u001b[0;32m    369\u001b[0m \u001b[38;5;28;01mdef\u001b[39;00m \u001b[38;5;21membeddings\u001b[39m(\n\u001b[0;32m    370\u001b[0m   \u001b[38;5;28mself\u001b[39m,\n\u001b[0;32m    371\u001b[0m   model: \u001b[38;5;28mstr\u001b[39m \u001b[38;5;241m=\u001b[39m \u001b[38;5;124m'\u001b[39m\u001b[38;5;124m'\u001b[39m,\n\u001b[1;32m   (...)\u001b[0m\n\u001b[0;32m    374\u001b[0m   keep_alive: Optional[Union[\u001b[38;5;28mfloat\u001b[39m, \u001b[38;5;28mstr\u001b[39m]] \u001b[38;5;241m=\u001b[39m \u001b[38;5;28;01mNone\u001b[39;00m,\n\u001b[0;32m    375\u001b[0m ) \u001b[38;5;241m-\u001b[39m\u001b[38;5;241m>\u001b[39m EmbeddingsResponse:\n\u001b[0;32m    376\u001b[0m \u001b[38;5;250m  \u001b[39m\u001b[38;5;124;03m\"\"\"\u001b[39;00m\n\u001b[0;32m    377\u001b[0m \u001b[38;5;124;03m  Deprecated in favor of `embed`.\u001b[39;00m\n\u001b[0;32m    378\u001b[0m \u001b[38;5;124;03m  \"\"\"\u001b[39;00m\n\u001b[1;32m--> 379\u001b[0m   \u001b[38;5;28;01mreturn\u001b[39;00m \u001b[38;5;28;43mself\u001b[39;49m\u001b[38;5;241;43m.\u001b[39;49m\u001b[43m_request\u001b[49m\u001b[43m(\u001b[49m\n\u001b[0;32m    380\u001b[0m \u001b[43m    \u001b[49m\u001b[43mEmbeddingsResponse\u001b[49m\u001b[43m,\u001b[49m\n\u001b[0;32m    381\u001b[0m \u001b[43m    \u001b[49m\u001b[38;5;124;43m'\u001b[39;49m\u001b[38;5;124;43mPOST\u001b[39;49m\u001b[38;5;124;43m'\u001b[39;49m\u001b[43m,\u001b[49m\n\u001b[0;32m    382\u001b[0m \u001b[43m    \u001b[49m\u001b[38;5;124;43m'\u001b[39;49m\u001b[38;5;124;43m/api/embeddings\u001b[39;49m\u001b[38;5;124;43m'\u001b[39;49m\u001b[43m,\u001b[49m\n\u001b[0;32m    383\u001b[0m \u001b[43m    \u001b[49m\u001b[43mjson\u001b[49m\u001b[38;5;241;43m=\u001b[39;49m\u001b[43mEmbeddingsRequest\u001b[49m\u001b[43m(\u001b[49m\n\u001b[0;32m    384\u001b[0m \u001b[43m      \u001b[49m\u001b[43mmodel\u001b[49m\u001b[38;5;241;43m=\u001b[39;49m\u001b[43mmodel\u001b[49m\u001b[43m,\u001b[49m\n\u001b[0;32m    385\u001b[0m \u001b[43m      \u001b[49m\u001b[43mprompt\u001b[49m\u001b[38;5;241;43m=\u001b[39;49m\u001b[43mprompt\u001b[49m\u001b[43m,\u001b[49m\n\u001b[0;32m    386\u001b[0m \u001b[43m      \u001b[49m\u001b[43moptions\u001b[49m\u001b[38;5;241;43m=\u001b[39;49m\u001b[43moptions\u001b[49m\u001b[43m,\u001b[49m\n\u001b[0;32m    387\u001b[0m \u001b[43m      \u001b[49m\u001b[43mkeep_alive\u001b[49m\u001b[38;5;241;43m=\u001b[39;49m\u001b[43mkeep_alive\u001b[49m\u001b[43m,\u001b[49m\n\u001b[0;32m    388\u001b[0m \u001b[43m    \u001b[49m\u001b[43m)\u001b[49m\u001b[38;5;241;43m.\u001b[39;49m\u001b[43mmodel_dump\u001b[49m\u001b[43m(\u001b[49m\u001b[43mexclude_none\u001b[49m\u001b[38;5;241;43m=\u001b[39;49m\u001b[38;5;28;43;01mTrue\u001b[39;49;00m\u001b[43m)\u001b[49m\u001b[43m,\u001b[49m\n\u001b[0;32m    389\u001b[0m \u001b[43m  \u001b[49m\u001b[43m)\u001b[49m\n",
      "File \u001b[1;32mc:\\Users\\LEGION\\anaconda3\\Lib\\site-packages\\ollama\\_client.py:177\u001b[0m, in \u001b[0;36mClient._request\u001b[1;34m(self, cls, stream, *args, **kwargs)\u001b[0m\n\u001b[0;32m    173\u001b[0m         \u001b[38;5;28;01myield\u001b[39;00m \u001b[38;5;28mcls\u001b[39m(\u001b[38;5;241m*\u001b[39m\u001b[38;5;241m*\u001b[39mpart)\n\u001b[0;32m    175\u001b[0m   \u001b[38;5;28;01mreturn\u001b[39;00m inner()\n\u001b[1;32m--> 177\u001b[0m \u001b[38;5;28;01mreturn\u001b[39;00m \u001b[38;5;28mcls\u001b[39m(\u001b[38;5;241m*\u001b[39m\u001b[38;5;241m*\u001b[39m\u001b[38;5;28;43mself\u001b[39;49m\u001b[38;5;241;43m.\u001b[39;49m\u001b[43m_request_raw\u001b[49m\u001b[43m(\u001b[49m\u001b[38;5;241;43m*\u001b[39;49m\u001b[43margs\u001b[49m\u001b[43m,\u001b[49m\u001b[43m \u001b[49m\u001b[38;5;241;43m*\u001b[39;49m\u001b[38;5;241;43m*\u001b[39;49m\u001b[43mkwargs\u001b[49m\u001b[43m)\u001b[49m\u001b[38;5;241m.\u001b[39mjson())\n",
      "File \u001b[1;32mc:\\Users\\LEGION\\anaconda3\\Lib\\site-packages\\ollama\\_client.py:118\u001b[0m, in \u001b[0;36mClient._request_raw\u001b[1;34m(self, *args, **kwargs)\u001b[0m\n\u001b[0;32m    117\u001b[0m \u001b[38;5;28;01mdef\u001b[39;00m \u001b[38;5;21m_request_raw\u001b[39m(\u001b[38;5;28mself\u001b[39m, \u001b[38;5;241m*\u001b[39margs, \u001b[38;5;241m*\u001b[39m\u001b[38;5;241m*\u001b[39mkwargs):\n\u001b[1;32m--> 118\u001b[0m   r \u001b[38;5;241m=\u001b[39m \u001b[38;5;28;43mself\u001b[39;49m\u001b[38;5;241;43m.\u001b[39;49m\u001b[43m_client\u001b[49m\u001b[38;5;241;43m.\u001b[39;49m\u001b[43mrequest\u001b[49m\u001b[43m(\u001b[49m\u001b[38;5;241;43m*\u001b[39;49m\u001b[43margs\u001b[49m\u001b[43m,\u001b[49m\u001b[43m \u001b[49m\u001b[38;5;241;43m*\u001b[39;49m\u001b[38;5;241;43m*\u001b[39;49m\u001b[43mkwargs\u001b[49m\u001b[43m)\u001b[49m\n\u001b[0;32m    119\u001b[0m   \u001b[38;5;28;01mtry\u001b[39;00m:\n\u001b[0;32m    120\u001b[0m     r\u001b[38;5;241m.\u001b[39mraise_for_status()\n",
      "File \u001b[1;32mc:\\Users\\LEGION\\anaconda3\\Lib\\site-packages\\httpx\\_client.py:837\u001b[0m, in \u001b[0;36mClient.request\u001b[1;34m(self, method, url, content, data, files, json, params, headers, cookies, auth, follow_redirects, timeout, extensions)\u001b[0m\n\u001b[0;32m    822\u001b[0m     warnings\u001b[38;5;241m.\u001b[39mwarn(message, \u001b[38;5;167;01mDeprecationWarning\u001b[39;00m)\n\u001b[0;32m    824\u001b[0m request \u001b[38;5;241m=\u001b[39m \u001b[38;5;28mself\u001b[39m\u001b[38;5;241m.\u001b[39mbuild_request(\n\u001b[0;32m    825\u001b[0m     method\u001b[38;5;241m=\u001b[39mmethod,\n\u001b[0;32m    826\u001b[0m     url\u001b[38;5;241m=\u001b[39murl,\n\u001b[1;32m   (...)\u001b[0m\n\u001b[0;32m    835\u001b[0m     extensions\u001b[38;5;241m=\u001b[39mextensions,\n\u001b[0;32m    836\u001b[0m )\n\u001b[1;32m--> 837\u001b[0m \u001b[38;5;28;01mreturn\u001b[39;00m \u001b[38;5;28;43mself\u001b[39;49m\u001b[38;5;241;43m.\u001b[39;49m\u001b[43msend\u001b[49m\u001b[43m(\u001b[49m\u001b[43mrequest\u001b[49m\u001b[43m,\u001b[49m\u001b[43m \u001b[49m\u001b[43mauth\u001b[49m\u001b[38;5;241;43m=\u001b[39;49m\u001b[43mauth\u001b[49m\u001b[43m,\u001b[49m\u001b[43m \u001b[49m\u001b[43mfollow_redirects\u001b[49m\u001b[38;5;241;43m=\u001b[39;49m\u001b[43mfollow_redirects\u001b[49m\u001b[43m)\u001b[49m\n",
      "File \u001b[1;32mc:\\Users\\LEGION\\anaconda3\\Lib\\site-packages\\httpx\\_client.py:926\u001b[0m, in \u001b[0;36mClient.send\u001b[1;34m(self, request, stream, auth, follow_redirects)\u001b[0m\n\u001b[0;32m    922\u001b[0m \u001b[38;5;28mself\u001b[39m\u001b[38;5;241m.\u001b[39m_set_timeout(request)\n\u001b[0;32m    924\u001b[0m auth \u001b[38;5;241m=\u001b[39m \u001b[38;5;28mself\u001b[39m\u001b[38;5;241m.\u001b[39m_build_request_auth(request, auth)\n\u001b[1;32m--> 926\u001b[0m response \u001b[38;5;241m=\u001b[39m \u001b[38;5;28;43mself\u001b[39;49m\u001b[38;5;241;43m.\u001b[39;49m\u001b[43m_send_handling_auth\u001b[49m\u001b[43m(\u001b[49m\n\u001b[0;32m    927\u001b[0m \u001b[43m    \u001b[49m\u001b[43mrequest\u001b[49m\u001b[43m,\u001b[49m\n\u001b[0;32m    928\u001b[0m \u001b[43m    \u001b[49m\u001b[43mauth\u001b[49m\u001b[38;5;241;43m=\u001b[39;49m\u001b[43mauth\u001b[49m\u001b[43m,\u001b[49m\n\u001b[0;32m    929\u001b[0m \u001b[43m    \u001b[49m\u001b[43mfollow_redirects\u001b[49m\u001b[38;5;241;43m=\u001b[39;49m\u001b[43mfollow_redirects\u001b[49m\u001b[43m,\u001b[49m\n\u001b[0;32m    930\u001b[0m \u001b[43m    \u001b[49m\u001b[43mhistory\u001b[49m\u001b[38;5;241;43m=\u001b[39;49m\u001b[43m[\u001b[49m\u001b[43m]\u001b[49m\u001b[43m,\u001b[49m\n\u001b[0;32m    931\u001b[0m \u001b[43m\u001b[49m\u001b[43m)\u001b[49m\n\u001b[0;32m    932\u001b[0m \u001b[38;5;28;01mtry\u001b[39;00m:\n\u001b[0;32m    933\u001b[0m     \u001b[38;5;28;01mif\u001b[39;00m \u001b[38;5;129;01mnot\u001b[39;00m stream:\n",
      "File \u001b[1;32mc:\\Users\\LEGION\\anaconda3\\Lib\\site-packages\\httpx\\_client.py:954\u001b[0m, in \u001b[0;36mClient._send_handling_auth\u001b[1;34m(self, request, auth, follow_redirects, history)\u001b[0m\n\u001b[0;32m    951\u001b[0m request \u001b[38;5;241m=\u001b[39m \u001b[38;5;28mnext\u001b[39m(auth_flow)\n\u001b[0;32m    953\u001b[0m \u001b[38;5;28;01mwhile\u001b[39;00m \u001b[38;5;28;01mTrue\u001b[39;00m:\n\u001b[1;32m--> 954\u001b[0m     response \u001b[38;5;241m=\u001b[39m \u001b[38;5;28;43mself\u001b[39;49m\u001b[38;5;241;43m.\u001b[39;49m\u001b[43m_send_handling_redirects\u001b[49m\u001b[43m(\u001b[49m\n\u001b[0;32m    955\u001b[0m \u001b[43m        \u001b[49m\u001b[43mrequest\u001b[49m\u001b[43m,\u001b[49m\n\u001b[0;32m    956\u001b[0m \u001b[43m        \u001b[49m\u001b[43mfollow_redirects\u001b[49m\u001b[38;5;241;43m=\u001b[39;49m\u001b[43mfollow_redirects\u001b[49m\u001b[43m,\u001b[49m\n\u001b[0;32m    957\u001b[0m \u001b[43m        \u001b[49m\u001b[43mhistory\u001b[49m\u001b[38;5;241;43m=\u001b[39;49m\u001b[43mhistory\u001b[49m\u001b[43m,\u001b[49m\n\u001b[0;32m    958\u001b[0m \u001b[43m    \u001b[49m\u001b[43m)\u001b[49m\n\u001b[0;32m    959\u001b[0m     \u001b[38;5;28;01mtry\u001b[39;00m:\n\u001b[0;32m    960\u001b[0m         \u001b[38;5;28;01mtry\u001b[39;00m:\n",
      "File \u001b[1;32mc:\\Users\\LEGION\\anaconda3\\Lib\\site-packages\\httpx\\_client.py:991\u001b[0m, in \u001b[0;36mClient._send_handling_redirects\u001b[1;34m(self, request, follow_redirects, history)\u001b[0m\n\u001b[0;32m    988\u001b[0m \u001b[38;5;28;01mfor\u001b[39;00m hook \u001b[38;5;129;01min\u001b[39;00m \u001b[38;5;28mself\u001b[39m\u001b[38;5;241m.\u001b[39m_event_hooks[\u001b[38;5;124m\"\u001b[39m\u001b[38;5;124mrequest\u001b[39m\u001b[38;5;124m\"\u001b[39m]:\n\u001b[0;32m    989\u001b[0m     hook(request)\n\u001b[1;32m--> 991\u001b[0m response \u001b[38;5;241m=\u001b[39m \u001b[38;5;28;43mself\u001b[39;49m\u001b[38;5;241;43m.\u001b[39;49m\u001b[43m_send_single_request\u001b[49m\u001b[43m(\u001b[49m\u001b[43mrequest\u001b[49m\u001b[43m)\u001b[49m\n\u001b[0;32m    992\u001b[0m \u001b[38;5;28;01mtry\u001b[39;00m:\n\u001b[0;32m    993\u001b[0m     \u001b[38;5;28;01mfor\u001b[39;00m hook \u001b[38;5;129;01min\u001b[39;00m \u001b[38;5;28mself\u001b[39m\u001b[38;5;241m.\u001b[39m_event_hooks[\u001b[38;5;124m\"\u001b[39m\u001b[38;5;124mresponse\u001b[39m\u001b[38;5;124m\"\u001b[39m]:\n",
      "File \u001b[1;32mc:\\Users\\LEGION\\anaconda3\\Lib\\site-packages\\httpx\\_client.py:1027\u001b[0m, in \u001b[0;36mClient._send_single_request\u001b[1;34m(self, request)\u001b[0m\n\u001b[0;32m   1022\u001b[0m     \u001b[38;5;28;01mraise\u001b[39;00m \u001b[38;5;167;01mRuntimeError\u001b[39;00m(\n\u001b[0;32m   1023\u001b[0m         \u001b[38;5;124m\"\u001b[39m\u001b[38;5;124mAttempted to send an async request with a sync Client instance.\u001b[39m\u001b[38;5;124m\"\u001b[39m\n\u001b[0;32m   1024\u001b[0m     )\n\u001b[0;32m   1026\u001b[0m \u001b[38;5;28;01mwith\u001b[39;00m request_context(request\u001b[38;5;241m=\u001b[39mrequest):\n\u001b[1;32m-> 1027\u001b[0m     response \u001b[38;5;241m=\u001b[39m \u001b[43mtransport\u001b[49m\u001b[38;5;241;43m.\u001b[39;49m\u001b[43mhandle_request\u001b[49m\u001b[43m(\u001b[49m\u001b[43mrequest\u001b[49m\u001b[43m)\u001b[49m\n\u001b[0;32m   1029\u001b[0m \u001b[38;5;28;01massert\u001b[39;00m \u001b[38;5;28misinstance\u001b[39m(response\u001b[38;5;241m.\u001b[39mstream, SyncByteStream)\n\u001b[0;32m   1031\u001b[0m response\u001b[38;5;241m.\u001b[39mrequest \u001b[38;5;241m=\u001b[39m request\n",
      "File \u001b[1;32mc:\\Users\\LEGION\\anaconda3\\Lib\\site-packages\\httpx\\_transports\\default.py:236\u001b[0m, in \u001b[0;36mHTTPTransport.handle_request\u001b[1;34m(self, request)\u001b[0m\n\u001b[0;32m    223\u001b[0m req \u001b[38;5;241m=\u001b[39m httpcore\u001b[38;5;241m.\u001b[39mRequest(\n\u001b[0;32m    224\u001b[0m     method\u001b[38;5;241m=\u001b[39mrequest\u001b[38;5;241m.\u001b[39mmethod,\n\u001b[0;32m    225\u001b[0m     url\u001b[38;5;241m=\u001b[39mhttpcore\u001b[38;5;241m.\u001b[39mURL(\n\u001b[1;32m   (...)\u001b[0m\n\u001b[0;32m    233\u001b[0m     extensions\u001b[38;5;241m=\u001b[39mrequest\u001b[38;5;241m.\u001b[39mextensions,\n\u001b[0;32m    234\u001b[0m )\n\u001b[0;32m    235\u001b[0m \u001b[38;5;28;01mwith\u001b[39;00m map_httpcore_exceptions():\n\u001b[1;32m--> 236\u001b[0m     resp \u001b[38;5;241m=\u001b[39m \u001b[38;5;28;43mself\u001b[39;49m\u001b[38;5;241;43m.\u001b[39;49m\u001b[43m_pool\u001b[49m\u001b[38;5;241;43m.\u001b[39;49m\u001b[43mhandle_request\u001b[49m\u001b[43m(\u001b[49m\u001b[43mreq\u001b[49m\u001b[43m)\u001b[49m\n\u001b[0;32m    238\u001b[0m \u001b[38;5;28;01massert\u001b[39;00m \u001b[38;5;28misinstance\u001b[39m(resp\u001b[38;5;241m.\u001b[39mstream, typing\u001b[38;5;241m.\u001b[39mIterable)\n\u001b[0;32m    240\u001b[0m \u001b[38;5;28;01mreturn\u001b[39;00m Response(\n\u001b[0;32m    241\u001b[0m     status_code\u001b[38;5;241m=\u001b[39mresp\u001b[38;5;241m.\u001b[39mstatus,\n\u001b[0;32m    242\u001b[0m     headers\u001b[38;5;241m=\u001b[39mresp\u001b[38;5;241m.\u001b[39mheaders,\n\u001b[0;32m    243\u001b[0m     stream\u001b[38;5;241m=\u001b[39mResponseStream(resp\u001b[38;5;241m.\u001b[39mstream),\n\u001b[0;32m    244\u001b[0m     extensions\u001b[38;5;241m=\u001b[39mresp\u001b[38;5;241m.\u001b[39mextensions,\n\u001b[0;32m    245\u001b[0m )\n",
      "File \u001b[1;32mc:\\Users\\LEGION\\anaconda3\\Lib\\site-packages\\httpcore\\_sync\\connection_pool.py:216\u001b[0m, in \u001b[0;36mConnectionPool.handle_request\u001b[1;34m(self, request)\u001b[0m\n\u001b[0;32m    213\u001b[0m         closing \u001b[38;5;241m=\u001b[39m \u001b[38;5;28mself\u001b[39m\u001b[38;5;241m.\u001b[39m_assign_requests_to_connections()\n\u001b[0;32m    215\u001b[0m     \u001b[38;5;28mself\u001b[39m\u001b[38;5;241m.\u001b[39m_close_connections(closing)\n\u001b[1;32m--> 216\u001b[0m     \u001b[38;5;28;01mraise\u001b[39;00m exc \u001b[38;5;28;01mfrom\u001b[39;00m \u001b[38;5;28;01mNone\u001b[39;00m\n\u001b[0;32m    218\u001b[0m \u001b[38;5;66;03m# Return the response. Note that in this case we still have to manage\u001b[39;00m\n\u001b[0;32m    219\u001b[0m \u001b[38;5;66;03m# the point at which the response is closed.\u001b[39;00m\n\u001b[0;32m    220\u001b[0m \u001b[38;5;28;01massert\u001b[39;00m \u001b[38;5;28misinstance\u001b[39m(response\u001b[38;5;241m.\u001b[39mstream, Iterable)\n",
      "File \u001b[1;32mc:\\Users\\LEGION\\anaconda3\\Lib\\site-packages\\httpcore\\_sync\\connection_pool.py:196\u001b[0m, in \u001b[0;36mConnectionPool.handle_request\u001b[1;34m(self, request)\u001b[0m\n\u001b[0;32m    192\u001b[0m connection \u001b[38;5;241m=\u001b[39m pool_request\u001b[38;5;241m.\u001b[39mwait_for_connection(timeout\u001b[38;5;241m=\u001b[39mtimeout)\n\u001b[0;32m    194\u001b[0m \u001b[38;5;28;01mtry\u001b[39;00m:\n\u001b[0;32m    195\u001b[0m     \u001b[38;5;66;03m# Send the request on the assigned connection.\u001b[39;00m\n\u001b[1;32m--> 196\u001b[0m     response \u001b[38;5;241m=\u001b[39m \u001b[43mconnection\u001b[49m\u001b[38;5;241;43m.\u001b[39;49m\u001b[43mhandle_request\u001b[49m\u001b[43m(\u001b[49m\n\u001b[0;32m    197\u001b[0m \u001b[43m        \u001b[49m\u001b[43mpool_request\u001b[49m\u001b[38;5;241;43m.\u001b[39;49m\u001b[43mrequest\u001b[49m\n\u001b[0;32m    198\u001b[0m \u001b[43m    \u001b[49m\u001b[43m)\u001b[49m\n\u001b[0;32m    199\u001b[0m \u001b[38;5;28;01mexcept\u001b[39;00m ConnectionNotAvailable:\n\u001b[0;32m    200\u001b[0m     \u001b[38;5;66;03m# In some cases a connection may initially be available to\u001b[39;00m\n\u001b[0;32m    201\u001b[0m     \u001b[38;5;66;03m# handle a request, but then become unavailable.\u001b[39;00m\n\u001b[0;32m    202\u001b[0m     \u001b[38;5;66;03m#\u001b[39;00m\n\u001b[0;32m    203\u001b[0m     \u001b[38;5;66;03m# In this case we clear the connection and try again.\u001b[39;00m\n\u001b[0;32m    204\u001b[0m     pool_request\u001b[38;5;241m.\u001b[39mclear_connection()\n",
      "File \u001b[1;32mc:\\Users\\LEGION\\anaconda3\\Lib\\site-packages\\httpcore\\_sync\\connection.py:101\u001b[0m, in \u001b[0;36mHTTPConnection.handle_request\u001b[1;34m(self, request)\u001b[0m\n\u001b[0;32m     98\u001b[0m     \u001b[38;5;28mself\u001b[39m\u001b[38;5;241m.\u001b[39m_connect_failed \u001b[38;5;241m=\u001b[39m \u001b[38;5;28;01mTrue\u001b[39;00m\n\u001b[0;32m     99\u001b[0m     \u001b[38;5;28;01mraise\u001b[39;00m exc\n\u001b[1;32m--> 101\u001b[0m \u001b[38;5;28;01mreturn\u001b[39;00m \u001b[38;5;28;43mself\u001b[39;49m\u001b[38;5;241;43m.\u001b[39;49m\u001b[43m_connection\u001b[49m\u001b[38;5;241;43m.\u001b[39;49m\u001b[43mhandle_request\u001b[49m\u001b[43m(\u001b[49m\u001b[43mrequest\u001b[49m\u001b[43m)\u001b[49m\n",
      "File \u001b[1;32mc:\\Users\\LEGION\\anaconda3\\Lib\\site-packages\\httpcore\\_sync\\http11.py:143\u001b[0m, in \u001b[0;36mHTTP11Connection.handle_request\u001b[1;34m(self, request)\u001b[0m\n\u001b[0;32m    141\u001b[0m     \u001b[38;5;28;01mwith\u001b[39;00m Trace(\u001b[38;5;124m\"\u001b[39m\u001b[38;5;124mresponse_closed\u001b[39m\u001b[38;5;124m\"\u001b[39m, logger, request) \u001b[38;5;28;01mas\u001b[39;00m trace:\n\u001b[0;32m    142\u001b[0m         \u001b[38;5;28mself\u001b[39m\u001b[38;5;241m.\u001b[39m_response_closed()\n\u001b[1;32m--> 143\u001b[0m \u001b[38;5;28;01mraise\u001b[39;00m exc\n",
      "File \u001b[1;32mc:\\Users\\LEGION\\anaconda3\\Lib\\site-packages\\httpcore\\_sync\\http11.py:113\u001b[0m, in \u001b[0;36mHTTP11Connection.handle_request\u001b[1;34m(self, request)\u001b[0m\n\u001b[0;32m    102\u001b[0m     \u001b[38;5;28;01mpass\u001b[39;00m\n\u001b[0;32m    104\u001b[0m \u001b[38;5;28;01mwith\u001b[39;00m Trace(\n\u001b[0;32m    105\u001b[0m     \u001b[38;5;124m\"\u001b[39m\u001b[38;5;124mreceive_response_headers\u001b[39m\u001b[38;5;124m\"\u001b[39m, logger, request, kwargs\n\u001b[0;32m    106\u001b[0m ) \u001b[38;5;28;01mas\u001b[39;00m trace:\n\u001b[0;32m    107\u001b[0m     (\n\u001b[0;32m    108\u001b[0m         http_version,\n\u001b[0;32m    109\u001b[0m         status,\n\u001b[0;32m    110\u001b[0m         reason_phrase,\n\u001b[0;32m    111\u001b[0m         headers,\n\u001b[0;32m    112\u001b[0m         trailing_data,\n\u001b[1;32m--> 113\u001b[0m     ) \u001b[38;5;241m=\u001b[39m \u001b[38;5;28;43mself\u001b[39;49m\u001b[38;5;241;43m.\u001b[39;49m\u001b[43m_receive_response_headers\u001b[49m\u001b[43m(\u001b[49m\u001b[38;5;241;43m*\u001b[39;49m\u001b[38;5;241;43m*\u001b[39;49m\u001b[43mkwargs\u001b[49m\u001b[43m)\u001b[49m\n\u001b[0;32m    114\u001b[0m     trace\u001b[38;5;241m.\u001b[39mreturn_value \u001b[38;5;241m=\u001b[39m (\n\u001b[0;32m    115\u001b[0m         http_version,\n\u001b[0;32m    116\u001b[0m         status,\n\u001b[0;32m    117\u001b[0m         reason_phrase,\n\u001b[0;32m    118\u001b[0m         headers,\n\u001b[0;32m    119\u001b[0m     )\n\u001b[0;32m    121\u001b[0m network_stream \u001b[38;5;241m=\u001b[39m \u001b[38;5;28mself\u001b[39m\u001b[38;5;241m.\u001b[39m_network_stream\n",
      "File \u001b[1;32mc:\\Users\\LEGION\\anaconda3\\Lib\\site-packages\\httpcore\\_sync\\http11.py:186\u001b[0m, in \u001b[0;36mHTTP11Connection._receive_response_headers\u001b[1;34m(self, request)\u001b[0m\n\u001b[0;32m    183\u001b[0m timeout \u001b[38;5;241m=\u001b[39m timeouts\u001b[38;5;241m.\u001b[39mget(\u001b[38;5;124m\"\u001b[39m\u001b[38;5;124mread\u001b[39m\u001b[38;5;124m\"\u001b[39m, \u001b[38;5;28;01mNone\u001b[39;00m)\n\u001b[0;32m    185\u001b[0m \u001b[38;5;28;01mwhile\u001b[39;00m \u001b[38;5;28;01mTrue\u001b[39;00m:\n\u001b[1;32m--> 186\u001b[0m     event \u001b[38;5;241m=\u001b[39m \u001b[38;5;28;43mself\u001b[39;49m\u001b[38;5;241;43m.\u001b[39;49m\u001b[43m_receive_event\u001b[49m\u001b[43m(\u001b[49m\u001b[43mtimeout\u001b[49m\u001b[38;5;241;43m=\u001b[39;49m\u001b[43mtimeout\u001b[49m\u001b[43m)\u001b[49m\n\u001b[0;32m    187\u001b[0m     \u001b[38;5;28;01mif\u001b[39;00m \u001b[38;5;28misinstance\u001b[39m(event, h11\u001b[38;5;241m.\u001b[39mResponse):\n\u001b[0;32m    188\u001b[0m         \u001b[38;5;28;01mbreak\u001b[39;00m\n",
      "File \u001b[1;32mc:\\Users\\LEGION\\anaconda3\\Lib\\site-packages\\httpcore\\_sync\\http11.py:224\u001b[0m, in \u001b[0;36mHTTP11Connection._receive_event\u001b[1;34m(self, timeout)\u001b[0m\n\u001b[0;32m    221\u001b[0m     event \u001b[38;5;241m=\u001b[39m \u001b[38;5;28mself\u001b[39m\u001b[38;5;241m.\u001b[39m_h11_state\u001b[38;5;241m.\u001b[39mnext_event()\n\u001b[0;32m    223\u001b[0m \u001b[38;5;28;01mif\u001b[39;00m event \u001b[38;5;129;01mis\u001b[39;00m h11\u001b[38;5;241m.\u001b[39mNEED_DATA:\n\u001b[1;32m--> 224\u001b[0m     data \u001b[38;5;241m=\u001b[39m \u001b[38;5;28;43mself\u001b[39;49m\u001b[38;5;241;43m.\u001b[39;49m\u001b[43m_network_stream\u001b[49m\u001b[38;5;241;43m.\u001b[39;49m\u001b[43mread\u001b[49m\u001b[43m(\u001b[49m\n\u001b[0;32m    225\u001b[0m \u001b[43m        \u001b[49m\u001b[38;5;28;43mself\u001b[39;49m\u001b[38;5;241;43m.\u001b[39;49m\u001b[43mREAD_NUM_BYTES\u001b[49m\u001b[43m,\u001b[49m\u001b[43m \u001b[49m\u001b[43mtimeout\u001b[49m\u001b[38;5;241;43m=\u001b[39;49m\u001b[43mtimeout\u001b[49m\n\u001b[0;32m    226\u001b[0m \u001b[43m    \u001b[49m\u001b[43m)\u001b[49m\n\u001b[0;32m    228\u001b[0m     \u001b[38;5;66;03m# If we feed this case through h11 we'll raise an exception like:\u001b[39;00m\n\u001b[0;32m    229\u001b[0m     \u001b[38;5;66;03m#\u001b[39;00m\n\u001b[0;32m    230\u001b[0m     \u001b[38;5;66;03m#     httpcore.RemoteProtocolError: can't handle event type\u001b[39;00m\n\u001b[1;32m   (...)\u001b[0m\n\u001b[0;32m    234\u001b[0m     \u001b[38;5;66;03m# perspective. Instead we handle this case distinctly and treat\u001b[39;00m\n\u001b[0;32m    235\u001b[0m     \u001b[38;5;66;03m# it as a ConnectError.\u001b[39;00m\n\u001b[0;32m    236\u001b[0m     \u001b[38;5;28;01mif\u001b[39;00m data \u001b[38;5;241m==\u001b[39m \u001b[38;5;124mb\u001b[39m\u001b[38;5;124m\"\u001b[39m\u001b[38;5;124m\"\u001b[39m \u001b[38;5;129;01mand\u001b[39;00m \u001b[38;5;28mself\u001b[39m\u001b[38;5;241m.\u001b[39m_h11_state\u001b[38;5;241m.\u001b[39mtheir_state \u001b[38;5;241m==\u001b[39m h11\u001b[38;5;241m.\u001b[39mSEND_RESPONSE:\n",
      "File \u001b[1;32mc:\\Users\\LEGION\\anaconda3\\Lib\\site-packages\\httpcore\\_backends\\sync.py:126\u001b[0m, in \u001b[0;36mSyncStream.read\u001b[1;34m(self, max_bytes, timeout)\u001b[0m\n\u001b[0;32m    124\u001b[0m \u001b[38;5;28;01mwith\u001b[39;00m map_exceptions(exc_map):\n\u001b[0;32m    125\u001b[0m     \u001b[38;5;28mself\u001b[39m\u001b[38;5;241m.\u001b[39m_sock\u001b[38;5;241m.\u001b[39msettimeout(timeout)\n\u001b[1;32m--> 126\u001b[0m     \u001b[38;5;28;01mreturn\u001b[39;00m \u001b[38;5;28;43mself\u001b[39;49m\u001b[38;5;241;43m.\u001b[39;49m\u001b[43m_sock\u001b[49m\u001b[38;5;241;43m.\u001b[39;49m\u001b[43mrecv\u001b[49m\u001b[43m(\u001b[49m\u001b[43mmax_bytes\u001b[49m\u001b[43m)\u001b[49m\n",
      "\u001b[1;31mKeyboardInterrupt\u001b[0m: "
     ]
    }
   ],
   "source": [
    "# embedding\n",
    "nodes_embed = generate_embeddings(nodes, client, \"mxbai-embed-large\")"
   ]
  },
  {
   "cell_type": "code",
   "execution_count": 106,
   "id": "415a6c55-102b-4e9f-a626-2c8cc84096e9",
   "metadata": {},
   "outputs": [
    {
     "name": "stderr",
     "output_type": "stream",
     "text": [
      "  0%|          | 24/12302 [00:05<44:36,  4.59it/s]\n"
     ]
    },
    {
     "ename": "KeyboardInterrupt",
     "evalue": "",
     "output_type": "error",
     "traceback": [
      "\u001b[1;31m---------------------------------------------------------------------------\u001b[0m",
      "\u001b[1;31mKeyboardInterrupt\u001b[0m                         Traceback (most recent call last)",
      "Cell \u001b[1;32mIn[106], line 3\u001b[0m\n\u001b[0;32m      1\u001b[0m \u001b[38;5;66;03m# embedding\u001b[39;00m\n\u001b[1;32m----> 3\u001b[0m nodes_embed \u001b[38;5;241m=\u001b[39m \u001b[43mgenerate_embeddings\u001b[49m\u001b[43m(\u001b[49m\u001b[43mnodes\u001b[49m\u001b[43m,\u001b[49m\u001b[43m \u001b[49m\u001b[43mclient\u001b[49m\u001b[43m,\u001b[49m\u001b[43m \u001b[49m\u001b[38;5;124;43m\"\u001b[39;49m\u001b[38;5;124;43mBAAI/bge-small-en-v1.5\u001b[39;49m\u001b[38;5;124;43m\"\u001b[39;49m\u001b[43m)\u001b[49m\n",
      "Cell \u001b[1;32mIn[103], line 5\u001b[0m, in \u001b[0;36mgenerate_embeddings\u001b[1;34m(nodes, client, model)\u001b[0m\n\u001b[0;32m      3\u001b[0m \u001b[38;5;66;03m# Generate embeddings for documents using Ollama\u001b[39;00m\n\u001b[0;32m      4\u001b[0m \u001b[38;5;28;01mfor\u001b[39;00m doc \u001b[38;5;129;01min\u001b[39;00m tqdm(nodes):\n\u001b[1;32m----> 5\u001b[0m     response \u001b[38;5;241m=\u001b[39m \u001b[43membed_model\u001b[49m\u001b[38;5;241;43m.\u001b[39;49m\u001b[43mget_text_embedding\u001b[49m\u001b[43m(\u001b[49m\u001b[43mdoc\u001b[49m\u001b[38;5;241;43m.\u001b[39;49m\u001b[43mtext\u001b[49m\u001b[43m)\u001b[49m\n\u001b[0;32m      6\u001b[0m     doc\u001b[38;5;241m.\u001b[39membedding \u001b[38;5;241m=\u001b[39m response\n\u001b[0;32m      7\u001b[0m \u001b[38;5;28;01mreturn\u001b[39;00m nodes\n",
      "File \u001b[1;32mc:\\Users\\LEGION\\anaconda3\\Lib\\site-packages\\llama_index\\core\\instrumentation\\dispatcher.py:321\u001b[0m, in \u001b[0;36mDispatcher.span.<locals>.wrapper\u001b[1;34m(func, instance, args, kwargs)\u001b[0m\n\u001b[0;32m    318\u001b[0m             _logger\u001b[38;5;241m.\u001b[39mdebug(\u001b[38;5;124mf\u001b[39m\u001b[38;5;124m\"\u001b[39m\u001b[38;5;124mFailed to reset active_span_id: \u001b[39m\u001b[38;5;132;01m{\u001b[39;00me\u001b[38;5;132;01m}\u001b[39;00m\u001b[38;5;124m\"\u001b[39m)\n\u001b[0;32m    320\u001b[0m \u001b[38;5;28;01mtry\u001b[39;00m:\n\u001b[1;32m--> 321\u001b[0m     result \u001b[38;5;241m=\u001b[39m \u001b[43mfunc\u001b[49m\u001b[43m(\u001b[49m\u001b[38;5;241;43m*\u001b[39;49m\u001b[43margs\u001b[49m\u001b[43m,\u001b[49m\u001b[43m \u001b[49m\u001b[38;5;241;43m*\u001b[39;49m\u001b[38;5;241;43m*\u001b[39;49m\u001b[43mkwargs\u001b[49m\u001b[43m)\u001b[49m\n\u001b[0;32m    322\u001b[0m     \u001b[38;5;28;01mif\u001b[39;00m \u001b[38;5;28misinstance\u001b[39m(result, asyncio\u001b[38;5;241m.\u001b[39mFuture):\n\u001b[0;32m    323\u001b[0m         \u001b[38;5;66;03m# If the result is a Future, wrap it\u001b[39;00m\n\u001b[0;32m    324\u001b[0m         new_future \u001b[38;5;241m=\u001b[39m asyncio\u001b[38;5;241m.\u001b[39mensure_future(result)\n",
      "File \u001b[1;32mc:\\Users\\LEGION\\anaconda3\\Lib\\site-packages\\llama_index\\core\\base\\embeddings\\base.py:260\u001b[0m, in \u001b[0;36mBaseEmbedding.get_text_embedding\u001b[1;34m(self, text)\u001b[0m\n\u001b[0;32m    252\u001b[0m dispatcher\u001b[38;5;241m.\u001b[39mevent(\n\u001b[0;32m    253\u001b[0m     EmbeddingStartEvent(\n\u001b[0;32m    254\u001b[0m         model_dict\u001b[38;5;241m=\u001b[39mmodel_dict,\n\u001b[0;32m    255\u001b[0m     )\n\u001b[0;32m    256\u001b[0m )\n\u001b[0;32m    257\u001b[0m \u001b[38;5;28;01mwith\u001b[39;00m \u001b[38;5;28mself\u001b[39m\u001b[38;5;241m.\u001b[39mcallback_manager\u001b[38;5;241m.\u001b[39mevent(\n\u001b[0;32m    258\u001b[0m     CBEventType\u001b[38;5;241m.\u001b[39mEMBEDDING, payload\u001b[38;5;241m=\u001b[39m{EventPayload\u001b[38;5;241m.\u001b[39mSERIALIZED: \u001b[38;5;28mself\u001b[39m\u001b[38;5;241m.\u001b[39mto_dict()}\n\u001b[0;32m    259\u001b[0m ) \u001b[38;5;28;01mas\u001b[39;00m event:\n\u001b[1;32m--> 260\u001b[0m     text_embedding \u001b[38;5;241m=\u001b[39m \u001b[38;5;28;43mself\u001b[39;49m\u001b[38;5;241;43m.\u001b[39;49m\u001b[43m_get_text_embedding\u001b[49m\u001b[43m(\u001b[49m\u001b[43mtext\u001b[49m\u001b[43m)\u001b[49m\n\u001b[0;32m    262\u001b[0m     event\u001b[38;5;241m.\u001b[39mon_end(\n\u001b[0;32m    263\u001b[0m         payload\u001b[38;5;241m=\u001b[39m{\n\u001b[0;32m    264\u001b[0m             EventPayload\u001b[38;5;241m.\u001b[39mCHUNKS: [text],\n\u001b[0;32m    265\u001b[0m             EventPayload\u001b[38;5;241m.\u001b[39mEMBEDDINGS: [text_embedding],\n\u001b[0;32m    266\u001b[0m         }\n\u001b[0;32m    267\u001b[0m     )\n\u001b[0;32m    268\u001b[0m dispatcher\u001b[38;5;241m.\u001b[39mevent(\n\u001b[0;32m    269\u001b[0m     EmbeddingEndEvent(\n\u001b[0;32m    270\u001b[0m         chunks\u001b[38;5;241m=\u001b[39m[text],\n\u001b[0;32m    271\u001b[0m         embeddings\u001b[38;5;241m=\u001b[39m[text_embedding],\n\u001b[0;32m    272\u001b[0m     )\n\u001b[0;32m    273\u001b[0m )\n",
      "File \u001b[1;32mc:\\Users\\LEGION\\anaconda3\\Lib\\site-packages\\llama_index\\core\\instrumentation\\dispatcher.py:321\u001b[0m, in \u001b[0;36mDispatcher.span.<locals>.wrapper\u001b[1;34m(func, instance, args, kwargs)\u001b[0m\n\u001b[0;32m    318\u001b[0m             _logger\u001b[38;5;241m.\u001b[39mdebug(\u001b[38;5;124mf\u001b[39m\u001b[38;5;124m\"\u001b[39m\u001b[38;5;124mFailed to reset active_span_id: \u001b[39m\u001b[38;5;132;01m{\u001b[39;00me\u001b[38;5;132;01m}\u001b[39;00m\u001b[38;5;124m\"\u001b[39m)\n\u001b[0;32m    320\u001b[0m \u001b[38;5;28;01mtry\u001b[39;00m:\n\u001b[1;32m--> 321\u001b[0m     result \u001b[38;5;241m=\u001b[39m \u001b[43mfunc\u001b[49m\u001b[43m(\u001b[49m\u001b[38;5;241;43m*\u001b[39;49m\u001b[43margs\u001b[49m\u001b[43m,\u001b[49m\u001b[43m \u001b[49m\u001b[38;5;241;43m*\u001b[39;49m\u001b[38;5;241;43m*\u001b[39;49m\u001b[43mkwargs\u001b[49m\u001b[43m)\u001b[49m\n\u001b[0;32m    322\u001b[0m     \u001b[38;5;28;01mif\u001b[39;00m \u001b[38;5;28misinstance\u001b[39m(result, asyncio\u001b[38;5;241m.\u001b[39mFuture):\n\u001b[0;32m    323\u001b[0m         \u001b[38;5;66;03m# If the result is a Future, wrap it\u001b[39;00m\n\u001b[0;32m    324\u001b[0m         new_future \u001b[38;5;241m=\u001b[39m asyncio\u001b[38;5;241m.\u001b[39mensure_future(result)\n",
      "File \u001b[1;32mc:\\Users\\LEGION\\anaconda3\\Lib\\site-packages\\llama_index\\embeddings\\huggingface\\base.py:266\u001b[0m, in \u001b[0;36mHuggingFaceEmbedding._get_text_embedding\u001b[1;34m(self, text)\u001b[0m\n\u001b[0;32m    257\u001b[0m \u001b[38;5;28;01mdef\u001b[39;00m \u001b[38;5;21m_get_text_embedding\u001b[39m(\u001b[38;5;28mself\u001b[39m, text: \u001b[38;5;28mstr\u001b[39m) \u001b[38;5;241m-\u001b[39m\u001b[38;5;241m>\u001b[39m List[\u001b[38;5;28mfloat\u001b[39m]:\n\u001b[0;32m    258\u001b[0m \u001b[38;5;250m    \u001b[39m\u001b[38;5;124;03m\"\"\"Generates Embeddings for text.\u001b[39;00m\n\u001b[0;32m    259\u001b[0m \n\u001b[0;32m    260\u001b[0m \u001b[38;5;124;03m    Args:\u001b[39;00m\n\u001b[1;32m   (...)\u001b[0m\n\u001b[0;32m    264\u001b[0m \u001b[38;5;124;03m        List[float]: numpy array of embeddings\u001b[39;00m\n\u001b[0;32m    265\u001b[0m \u001b[38;5;124;03m    \"\"\"\u001b[39;00m\n\u001b[1;32m--> 266\u001b[0m     \u001b[38;5;28;01mreturn\u001b[39;00m \u001b[38;5;28;43mself\u001b[39;49m\u001b[38;5;241;43m.\u001b[39;49m\u001b[43m_embed\u001b[49m\u001b[43m(\u001b[49m\u001b[43mtext\u001b[49m\u001b[43m,\u001b[49m\u001b[43m \u001b[49m\u001b[43mprompt_name\u001b[49m\u001b[38;5;241;43m=\u001b[39;49m\u001b[38;5;124;43m\"\u001b[39;49m\u001b[38;5;124;43mtext\u001b[39;49m\u001b[38;5;124;43m\"\u001b[39;49m\u001b[43m)\u001b[49m\n",
      "File \u001b[1;32mc:\\Users\\LEGION\\anaconda3\\Lib\\site-packages\\llama_index\\embeddings\\huggingface\\base.py:215\u001b[0m, in \u001b[0;36mHuggingFaceEmbedding._embed\u001b[1;34m(self, sentences, prompt_name)\u001b[0m\n\u001b[0;32m    212\u001b[0m     \u001b[38;5;28mself\u001b[39m\u001b[38;5;241m.\u001b[39m_model\u001b[38;5;241m.\u001b[39mstop_multi_process_pool(pool\u001b[38;5;241m=\u001b[39mpool)\n\u001b[0;32m    214\u001b[0m \u001b[38;5;28;01melse\u001b[39;00m:\n\u001b[1;32m--> 215\u001b[0m     emb \u001b[38;5;241m=\u001b[39m \u001b[38;5;28;43mself\u001b[39;49m\u001b[38;5;241;43m.\u001b[39;49m\u001b[43m_model\u001b[49m\u001b[38;5;241;43m.\u001b[39;49m\u001b[43mencode\u001b[49m\u001b[43m(\u001b[49m\n\u001b[0;32m    216\u001b[0m \u001b[43m        \u001b[49m\u001b[43msentences\u001b[49m\u001b[43m,\u001b[49m\n\u001b[0;32m    217\u001b[0m \u001b[43m        \u001b[49m\u001b[43mbatch_size\u001b[49m\u001b[38;5;241;43m=\u001b[39;49m\u001b[38;5;28;43mself\u001b[39;49m\u001b[38;5;241;43m.\u001b[39;49m\u001b[43membed_batch_size\u001b[49m\u001b[43m,\u001b[49m\n\u001b[0;32m    218\u001b[0m \u001b[43m        \u001b[49m\u001b[43mprompt_name\u001b[49m\u001b[38;5;241;43m=\u001b[39;49m\u001b[43mprompt_name\u001b[49m\u001b[43m,\u001b[49m\n\u001b[0;32m    219\u001b[0m \u001b[43m        \u001b[49m\u001b[43mnormalize_embeddings\u001b[49m\u001b[38;5;241;43m=\u001b[39;49m\u001b[38;5;28;43mself\u001b[39;49m\u001b[38;5;241;43m.\u001b[39;49m\u001b[43mnormalize\u001b[49m\u001b[43m,\u001b[49m\n\u001b[0;32m    220\u001b[0m \u001b[43m    \u001b[49m\u001b[43m)\u001b[49m\n\u001b[0;32m    222\u001b[0m \u001b[38;5;28;01mreturn\u001b[39;00m emb\u001b[38;5;241m.\u001b[39mtolist()\n",
      "File \u001b[1;32mc:\\Users\\LEGION\\anaconda3\\Lib\\site-packages\\sentence_transformers\\SentenceTransformer.py:623\u001b[0m, in \u001b[0;36mSentenceTransformer.encode\u001b[1;34m(self, sentences, prompt_name, prompt, batch_size, show_progress_bar, output_value, precision, convert_to_numpy, convert_to_tensor, device, normalize_embeddings, **kwargs)\u001b[0m\n\u001b[0;32m    620\u001b[0m features\u001b[38;5;241m.\u001b[39mupdate(extra_features)\n\u001b[0;32m    622\u001b[0m \u001b[38;5;28;01mwith\u001b[39;00m torch\u001b[38;5;241m.\u001b[39mno_grad():\n\u001b[1;32m--> 623\u001b[0m     out_features \u001b[38;5;241m=\u001b[39m \u001b[38;5;28;43mself\u001b[39;49m\u001b[38;5;241;43m.\u001b[39;49m\u001b[43mforward\u001b[49m\u001b[43m(\u001b[49m\u001b[43mfeatures\u001b[49m\u001b[43m,\u001b[49m\u001b[43m \u001b[49m\u001b[38;5;241;43m*\u001b[39;49m\u001b[38;5;241;43m*\u001b[39;49m\u001b[43mkwargs\u001b[49m\u001b[43m)\u001b[49m\n\u001b[0;32m    624\u001b[0m     \u001b[38;5;28;01mif\u001b[39;00m \u001b[38;5;28mself\u001b[39m\u001b[38;5;241m.\u001b[39mdevice\u001b[38;5;241m.\u001b[39mtype \u001b[38;5;241m==\u001b[39m \u001b[38;5;124m\"\u001b[39m\u001b[38;5;124mhpu\u001b[39m\u001b[38;5;124m\"\u001b[39m:\n\u001b[0;32m    625\u001b[0m         out_features \u001b[38;5;241m=\u001b[39m copy\u001b[38;5;241m.\u001b[39mdeepcopy(out_features)\n",
      "File \u001b[1;32mc:\\Users\\LEGION\\anaconda3\\Lib\\site-packages\\sentence_transformers\\SentenceTransformer.py:690\u001b[0m, in \u001b[0;36mSentenceTransformer.forward\u001b[1;34m(self, input, **kwargs)\u001b[0m\n\u001b[0;32m    688\u001b[0m     module_kwarg_keys \u001b[38;5;241m=\u001b[39m \u001b[38;5;28mself\u001b[39m\u001b[38;5;241m.\u001b[39mmodule_kwargs\u001b[38;5;241m.\u001b[39mget(module_name, [])\n\u001b[0;32m    689\u001b[0m     module_kwargs \u001b[38;5;241m=\u001b[39m {key: value \u001b[38;5;28;01mfor\u001b[39;00m key, value \u001b[38;5;129;01min\u001b[39;00m kwargs\u001b[38;5;241m.\u001b[39mitems() \u001b[38;5;28;01mif\u001b[39;00m key \u001b[38;5;129;01min\u001b[39;00m module_kwarg_keys}\n\u001b[1;32m--> 690\u001b[0m     \u001b[38;5;28minput\u001b[39m \u001b[38;5;241m=\u001b[39m \u001b[43mmodule\u001b[49m\u001b[43m(\u001b[49m\u001b[38;5;28;43minput\u001b[39;49m\u001b[43m,\u001b[49m\u001b[43m \u001b[49m\u001b[38;5;241;43m*\u001b[39;49m\u001b[38;5;241;43m*\u001b[39;49m\u001b[43mmodule_kwargs\u001b[49m\u001b[43m)\u001b[49m\n\u001b[0;32m    691\u001b[0m \u001b[38;5;28;01mreturn\u001b[39;00m \u001b[38;5;28minput\u001b[39m\n",
      "File \u001b[1;32mc:\\Users\\LEGION\\anaconda3\\Lib\\site-packages\\torch\\nn\\modules\\module.py:1553\u001b[0m, in \u001b[0;36mModule._wrapped_call_impl\u001b[1;34m(self, *args, **kwargs)\u001b[0m\n\u001b[0;32m   1551\u001b[0m     \u001b[38;5;28;01mreturn\u001b[39;00m \u001b[38;5;28mself\u001b[39m\u001b[38;5;241m.\u001b[39m_compiled_call_impl(\u001b[38;5;241m*\u001b[39margs, \u001b[38;5;241m*\u001b[39m\u001b[38;5;241m*\u001b[39mkwargs)  \u001b[38;5;66;03m# type: ignore[misc]\u001b[39;00m\n\u001b[0;32m   1552\u001b[0m \u001b[38;5;28;01melse\u001b[39;00m:\n\u001b[1;32m-> 1553\u001b[0m     \u001b[38;5;28;01mreturn\u001b[39;00m \u001b[38;5;28;43mself\u001b[39;49m\u001b[38;5;241;43m.\u001b[39;49m\u001b[43m_call_impl\u001b[49m\u001b[43m(\u001b[49m\u001b[38;5;241;43m*\u001b[39;49m\u001b[43margs\u001b[49m\u001b[43m,\u001b[49m\u001b[43m \u001b[49m\u001b[38;5;241;43m*\u001b[39;49m\u001b[38;5;241;43m*\u001b[39;49m\u001b[43mkwargs\u001b[49m\u001b[43m)\u001b[49m\n",
      "File \u001b[1;32mc:\\Users\\LEGION\\anaconda3\\Lib\\site-packages\\torch\\nn\\modules\\module.py:1562\u001b[0m, in \u001b[0;36mModule._call_impl\u001b[1;34m(self, *args, **kwargs)\u001b[0m\n\u001b[0;32m   1557\u001b[0m \u001b[38;5;66;03m# If we don't have any hooks, we want to skip the rest of the logic in\u001b[39;00m\n\u001b[0;32m   1558\u001b[0m \u001b[38;5;66;03m# this function, and just call forward.\u001b[39;00m\n\u001b[0;32m   1559\u001b[0m \u001b[38;5;28;01mif\u001b[39;00m \u001b[38;5;129;01mnot\u001b[39;00m (\u001b[38;5;28mself\u001b[39m\u001b[38;5;241m.\u001b[39m_backward_hooks \u001b[38;5;129;01mor\u001b[39;00m \u001b[38;5;28mself\u001b[39m\u001b[38;5;241m.\u001b[39m_backward_pre_hooks \u001b[38;5;129;01mor\u001b[39;00m \u001b[38;5;28mself\u001b[39m\u001b[38;5;241m.\u001b[39m_forward_hooks \u001b[38;5;129;01mor\u001b[39;00m \u001b[38;5;28mself\u001b[39m\u001b[38;5;241m.\u001b[39m_forward_pre_hooks\n\u001b[0;32m   1560\u001b[0m         \u001b[38;5;129;01mor\u001b[39;00m _global_backward_pre_hooks \u001b[38;5;129;01mor\u001b[39;00m _global_backward_hooks\n\u001b[0;32m   1561\u001b[0m         \u001b[38;5;129;01mor\u001b[39;00m _global_forward_hooks \u001b[38;5;129;01mor\u001b[39;00m _global_forward_pre_hooks):\n\u001b[1;32m-> 1562\u001b[0m     \u001b[38;5;28;01mreturn\u001b[39;00m \u001b[43mforward_call\u001b[49m\u001b[43m(\u001b[49m\u001b[38;5;241;43m*\u001b[39;49m\u001b[43margs\u001b[49m\u001b[43m,\u001b[49m\u001b[43m \u001b[49m\u001b[38;5;241;43m*\u001b[39;49m\u001b[38;5;241;43m*\u001b[39;49m\u001b[43mkwargs\u001b[49m\u001b[43m)\u001b[49m\n\u001b[0;32m   1564\u001b[0m \u001b[38;5;28;01mtry\u001b[39;00m:\n\u001b[0;32m   1565\u001b[0m     result \u001b[38;5;241m=\u001b[39m \u001b[38;5;28;01mNone\u001b[39;00m\n",
      "File \u001b[1;32mc:\\Users\\LEGION\\anaconda3\\Lib\\site-packages\\sentence_transformers\\models\\Transformer.py:393\u001b[0m, in \u001b[0;36mTransformer.forward\u001b[1;34m(self, features, **kwargs)\u001b[0m\n\u001b[0;32m    390\u001b[0m \u001b[38;5;28;01mif\u001b[39;00m \u001b[38;5;124m\"\u001b[39m\u001b[38;5;124mtoken_type_ids\u001b[39m\u001b[38;5;124m\"\u001b[39m \u001b[38;5;129;01min\u001b[39;00m features:\n\u001b[0;32m    391\u001b[0m     trans_features[\u001b[38;5;124m\"\u001b[39m\u001b[38;5;124mtoken_type_ids\u001b[39m\u001b[38;5;124m\"\u001b[39m] \u001b[38;5;241m=\u001b[39m features[\u001b[38;5;124m\"\u001b[39m\u001b[38;5;124mtoken_type_ids\u001b[39m\u001b[38;5;124m\"\u001b[39m]\n\u001b[1;32m--> 393\u001b[0m output_states \u001b[38;5;241m=\u001b[39m \u001b[38;5;28;43mself\u001b[39;49m\u001b[38;5;241;43m.\u001b[39;49m\u001b[43mauto_model\u001b[49m\u001b[43m(\u001b[49m\u001b[38;5;241;43m*\u001b[39;49m\u001b[38;5;241;43m*\u001b[39;49m\u001b[43mtrans_features\u001b[49m\u001b[43m,\u001b[49m\u001b[43m \u001b[49m\u001b[38;5;241;43m*\u001b[39;49m\u001b[38;5;241;43m*\u001b[39;49m\u001b[43mkwargs\u001b[49m\u001b[43m,\u001b[49m\u001b[43m \u001b[49m\u001b[43mreturn_dict\u001b[49m\u001b[38;5;241;43m=\u001b[39;49m\u001b[38;5;28;43;01mFalse\u001b[39;49;00m\u001b[43m)\u001b[49m\n\u001b[0;32m    394\u001b[0m output_tokens \u001b[38;5;241m=\u001b[39m output_states[\u001b[38;5;241m0\u001b[39m]\n\u001b[0;32m    396\u001b[0m \u001b[38;5;66;03m# If the AutoModel is wrapped with a PeftModelForFeatureExtraction, then it may have added virtual tokens\u001b[39;00m\n\u001b[0;32m    397\u001b[0m \u001b[38;5;66;03m# We need to extend the attention mask to include these virtual tokens, or the pooling will fail\u001b[39;00m\n",
      "File \u001b[1;32mc:\\Users\\LEGION\\anaconda3\\Lib\\site-packages\\torch\\nn\\modules\\module.py:1553\u001b[0m, in \u001b[0;36mModule._wrapped_call_impl\u001b[1;34m(self, *args, **kwargs)\u001b[0m\n\u001b[0;32m   1551\u001b[0m     \u001b[38;5;28;01mreturn\u001b[39;00m \u001b[38;5;28mself\u001b[39m\u001b[38;5;241m.\u001b[39m_compiled_call_impl(\u001b[38;5;241m*\u001b[39margs, \u001b[38;5;241m*\u001b[39m\u001b[38;5;241m*\u001b[39mkwargs)  \u001b[38;5;66;03m# type: ignore[misc]\u001b[39;00m\n\u001b[0;32m   1552\u001b[0m \u001b[38;5;28;01melse\u001b[39;00m:\n\u001b[1;32m-> 1553\u001b[0m     \u001b[38;5;28;01mreturn\u001b[39;00m \u001b[38;5;28;43mself\u001b[39;49m\u001b[38;5;241;43m.\u001b[39;49m\u001b[43m_call_impl\u001b[49m\u001b[43m(\u001b[49m\u001b[38;5;241;43m*\u001b[39;49m\u001b[43margs\u001b[49m\u001b[43m,\u001b[49m\u001b[43m \u001b[49m\u001b[38;5;241;43m*\u001b[39;49m\u001b[38;5;241;43m*\u001b[39;49m\u001b[43mkwargs\u001b[49m\u001b[43m)\u001b[49m\n",
      "File \u001b[1;32mc:\\Users\\LEGION\\anaconda3\\Lib\\site-packages\\torch\\nn\\modules\\module.py:1562\u001b[0m, in \u001b[0;36mModule._call_impl\u001b[1;34m(self, *args, **kwargs)\u001b[0m\n\u001b[0;32m   1557\u001b[0m \u001b[38;5;66;03m# If we don't have any hooks, we want to skip the rest of the logic in\u001b[39;00m\n\u001b[0;32m   1558\u001b[0m \u001b[38;5;66;03m# this function, and just call forward.\u001b[39;00m\n\u001b[0;32m   1559\u001b[0m \u001b[38;5;28;01mif\u001b[39;00m \u001b[38;5;129;01mnot\u001b[39;00m (\u001b[38;5;28mself\u001b[39m\u001b[38;5;241m.\u001b[39m_backward_hooks \u001b[38;5;129;01mor\u001b[39;00m \u001b[38;5;28mself\u001b[39m\u001b[38;5;241m.\u001b[39m_backward_pre_hooks \u001b[38;5;129;01mor\u001b[39;00m \u001b[38;5;28mself\u001b[39m\u001b[38;5;241m.\u001b[39m_forward_hooks \u001b[38;5;129;01mor\u001b[39;00m \u001b[38;5;28mself\u001b[39m\u001b[38;5;241m.\u001b[39m_forward_pre_hooks\n\u001b[0;32m   1560\u001b[0m         \u001b[38;5;129;01mor\u001b[39;00m _global_backward_pre_hooks \u001b[38;5;129;01mor\u001b[39;00m _global_backward_hooks\n\u001b[0;32m   1561\u001b[0m         \u001b[38;5;129;01mor\u001b[39;00m _global_forward_hooks \u001b[38;5;129;01mor\u001b[39;00m _global_forward_pre_hooks):\n\u001b[1;32m-> 1562\u001b[0m     \u001b[38;5;28;01mreturn\u001b[39;00m \u001b[43mforward_call\u001b[49m\u001b[43m(\u001b[49m\u001b[38;5;241;43m*\u001b[39;49m\u001b[43margs\u001b[49m\u001b[43m,\u001b[49m\u001b[43m \u001b[49m\u001b[38;5;241;43m*\u001b[39;49m\u001b[38;5;241;43m*\u001b[39;49m\u001b[43mkwargs\u001b[49m\u001b[43m)\u001b[49m\n\u001b[0;32m   1564\u001b[0m \u001b[38;5;28;01mtry\u001b[39;00m:\n\u001b[0;32m   1565\u001b[0m     result \u001b[38;5;241m=\u001b[39m \u001b[38;5;28;01mNone\u001b[39;00m\n",
      "File \u001b[1;32mc:\\Users\\LEGION\\anaconda3\\Lib\\site-packages\\transformers\\models\\bert\\modeling_bert.py:1142\u001b[0m, in \u001b[0;36mBertModel.forward\u001b[1;34m(self, input_ids, attention_mask, token_type_ids, position_ids, head_mask, inputs_embeds, encoder_hidden_states, encoder_attention_mask, past_key_values, use_cache, output_attentions, output_hidden_states, return_dict)\u001b[0m\n\u001b[0;32m   1135\u001b[0m \u001b[38;5;66;03m# Prepare head mask if needed\u001b[39;00m\n\u001b[0;32m   1136\u001b[0m \u001b[38;5;66;03m# 1.0 in head_mask indicate we keep the head\u001b[39;00m\n\u001b[0;32m   1137\u001b[0m \u001b[38;5;66;03m# attention_probs has shape bsz x n_heads x N x N\u001b[39;00m\n\u001b[0;32m   1138\u001b[0m \u001b[38;5;66;03m# input head_mask has shape [num_heads] or [num_hidden_layers x num_heads]\u001b[39;00m\n\u001b[0;32m   1139\u001b[0m \u001b[38;5;66;03m# and head_mask is converted to shape [num_hidden_layers x batch x num_heads x seq_length x seq_length]\u001b[39;00m\n\u001b[0;32m   1140\u001b[0m head_mask \u001b[38;5;241m=\u001b[39m \u001b[38;5;28mself\u001b[39m\u001b[38;5;241m.\u001b[39mget_head_mask(head_mask, \u001b[38;5;28mself\u001b[39m\u001b[38;5;241m.\u001b[39mconfig\u001b[38;5;241m.\u001b[39mnum_hidden_layers)\n\u001b[1;32m-> 1142\u001b[0m encoder_outputs \u001b[38;5;241m=\u001b[39m \u001b[38;5;28;43mself\u001b[39;49m\u001b[38;5;241;43m.\u001b[39;49m\u001b[43mencoder\u001b[49m\u001b[43m(\u001b[49m\n\u001b[0;32m   1143\u001b[0m \u001b[43m    \u001b[49m\u001b[43membedding_output\u001b[49m\u001b[43m,\u001b[49m\n\u001b[0;32m   1144\u001b[0m \u001b[43m    \u001b[49m\u001b[43mattention_mask\u001b[49m\u001b[38;5;241;43m=\u001b[39;49m\u001b[43mextended_attention_mask\u001b[49m\u001b[43m,\u001b[49m\n\u001b[0;32m   1145\u001b[0m \u001b[43m    \u001b[49m\u001b[43mhead_mask\u001b[49m\u001b[38;5;241;43m=\u001b[39;49m\u001b[43mhead_mask\u001b[49m\u001b[43m,\u001b[49m\n\u001b[0;32m   1146\u001b[0m \u001b[43m    \u001b[49m\u001b[43mencoder_hidden_states\u001b[49m\u001b[38;5;241;43m=\u001b[39;49m\u001b[43mencoder_hidden_states\u001b[49m\u001b[43m,\u001b[49m\n\u001b[0;32m   1147\u001b[0m \u001b[43m    \u001b[49m\u001b[43mencoder_attention_mask\u001b[49m\u001b[38;5;241;43m=\u001b[39;49m\u001b[43mencoder_extended_attention_mask\u001b[49m\u001b[43m,\u001b[49m\n\u001b[0;32m   1148\u001b[0m \u001b[43m    \u001b[49m\u001b[43mpast_key_values\u001b[49m\u001b[38;5;241;43m=\u001b[39;49m\u001b[43mpast_key_values\u001b[49m\u001b[43m,\u001b[49m\n\u001b[0;32m   1149\u001b[0m \u001b[43m    \u001b[49m\u001b[43muse_cache\u001b[49m\u001b[38;5;241;43m=\u001b[39;49m\u001b[43muse_cache\u001b[49m\u001b[43m,\u001b[49m\n\u001b[0;32m   1150\u001b[0m \u001b[43m    \u001b[49m\u001b[43moutput_attentions\u001b[49m\u001b[38;5;241;43m=\u001b[39;49m\u001b[43moutput_attentions\u001b[49m\u001b[43m,\u001b[49m\n\u001b[0;32m   1151\u001b[0m \u001b[43m    \u001b[49m\u001b[43moutput_hidden_states\u001b[49m\u001b[38;5;241;43m=\u001b[39;49m\u001b[43moutput_hidden_states\u001b[49m\u001b[43m,\u001b[49m\n\u001b[0;32m   1152\u001b[0m \u001b[43m    \u001b[49m\u001b[43mreturn_dict\u001b[49m\u001b[38;5;241;43m=\u001b[39;49m\u001b[43mreturn_dict\u001b[49m\u001b[43m,\u001b[49m\n\u001b[0;32m   1153\u001b[0m \u001b[43m\u001b[49m\u001b[43m)\u001b[49m\n\u001b[0;32m   1154\u001b[0m sequence_output \u001b[38;5;241m=\u001b[39m encoder_outputs[\u001b[38;5;241m0\u001b[39m]\n\u001b[0;32m   1155\u001b[0m pooled_output \u001b[38;5;241m=\u001b[39m \u001b[38;5;28mself\u001b[39m\u001b[38;5;241m.\u001b[39mpooler(sequence_output) \u001b[38;5;28;01mif\u001b[39;00m \u001b[38;5;28mself\u001b[39m\u001b[38;5;241m.\u001b[39mpooler \u001b[38;5;129;01mis\u001b[39;00m \u001b[38;5;129;01mnot\u001b[39;00m \u001b[38;5;28;01mNone\u001b[39;00m \u001b[38;5;28;01melse\u001b[39;00m \u001b[38;5;28;01mNone\u001b[39;00m\n",
      "File \u001b[1;32mc:\\Users\\LEGION\\anaconda3\\Lib\\site-packages\\torch\\nn\\modules\\module.py:1553\u001b[0m, in \u001b[0;36mModule._wrapped_call_impl\u001b[1;34m(self, *args, **kwargs)\u001b[0m\n\u001b[0;32m   1551\u001b[0m     \u001b[38;5;28;01mreturn\u001b[39;00m \u001b[38;5;28mself\u001b[39m\u001b[38;5;241m.\u001b[39m_compiled_call_impl(\u001b[38;5;241m*\u001b[39margs, \u001b[38;5;241m*\u001b[39m\u001b[38;5;241m*\u001b[39mkwargs)  \u001b[38;5;66;03m# type: ignore[misc]\u001b[39;00m\n\u001b[0;32m   1552\u001b[0m \u001b[38;5;28;01melse\u001b[39;00m:\n\u001b[1;32m-> 1553\u001b[0m     \u001b[38;5;28;01mreturn\u001b[39;00m \u001b[38;5;28;43mself\u001b[39;49m\u001b[38;5;241;43m.\u001b[39;49m\u001b[43m_call_impl\u001b[49m\u001b[43m(\u001b[49m\u001b[38;5;241;43m*\u001b[39;49m\u001b[43margs\u001b[49m\u001b[43m,\u001b[49m\u001b[43m \u001b[49m\u001b[38;5;241;43m*\u001b[39;49m\u001b[38;5;241;43m*\u001b[39;49m\u001b[43mkwargs\u001b[49m\u001b[43m)\u001b[49m\n",
      "File \u001b[1;32mc:\\Users\\LEGION\\anaconda3\\Lib\\site-packages\\torch\\nn\\modules\\module.py:1562\u001b[0m, in \u001b[0;36mModule._call_impl\u001b[1;34m(self, *args, **kwargs)\u001b[0m\n\u001b[0;32m   1557\u001b[0m \u001b[38;5;66;03m# If we don't have any hooks, we want to skip the rest of the logic in\u001b[39;00m\n\u001b[0;32m   1558\u001b[0m \u001b[38;5;66;03m# this function, and just call forward.\u001b[39;00m\n\u001b[0;32m   1559\u001b[0m \u001b[38;5;28;01mif\u001b[39;00m \u001b[38;5;129;01mnot\u001b[39;00m (\u001b[38;5;28mself\u001b[39m\u001b[38;5;241m.\u001b[39m_backward_hooks \u001b[38;5;129;01mor\u001b[39;00m \u001b[38;5;28mself\u001b[39m\u001b[38;5;241m.\u001b[39m_backward_pre_hooks \u001b[38;5;129;01mor\u001b[39;00m \u001b[38;5;28mself\u001b[39m\u001b[38;5;241m.\u001b[39m_forward_hooks \u001b[38;5;129;01mor\u001b[39;00m \u001b[38;5;28mself\u001b[39m\u001b[38;5;241m.\u001b[39m_forward_pre_hooks\n\u001b[0;32m   1560\u001b[0m         \u001b[38;5;129;01mor\u001b[39;00m _global_backward_pre_hooks \u001b[38;5;129;01mor\u001b[39;00m _global_backward_hooks\n\u001b[0;32m   1561\u001b[0m         \u001b[38;5;129;01mor\u001b[39;00m _global_forward_hooks \u001b[38;5;129;01mor\u001b[39;00m _global_forward_pre_hooks):\n\u001b[1;32m-> 1562\u001b[0m     \u001b[38;5;28;01mreturn\u001b[39;00m \u001b[43mforward_call\u001b[49m\u001b[43m(\u001b[49m\u001b[38;5;241;43m*\u001b[39;49m\u001b[43margs\u001b[49m\u001b[43m,\u001b[49m\u001b[43m \u001b[49m\u001b[38;5;241;43m*\u001b[39;49m\u001b[38;5;241;43m*\u001b[39;49m\u001b[43mkwargs\u001b[49m\u001b[43m)\u001b[49m\n\u001b[0;32m   1564\u001b[0m \u001b[38;5;28;01mtry\u001b[39;00m:\n\u001b[0;32m   1565\u001b[0m     result \u001b[38;5;241m=\u001b[39m \u001b[38;5;28;01mNone\u001b[39;00m\n",
      "File \u001b[1;32mc:\\Users\\LEGION\\anaconda3\\Lib\\site-packages\\transformers\\models\\bert\\modeling_bert.py:695\u001b[0m, in \u001b[0;36mBertEncoder.forward\u001b[1;34m(self, hidden_states, attention_mask, head_mask, encoder_hidden_states, encoder_attention_mask, past_key_values, use_cache, output_attentions, output_hidden_states, return_dict)\u001b[0m\n\u001b[0;32m    684\u001b[0m     layer_outputs \u001b[38;5;241m=\u001b[39m \u001b[38;5;28mself\u001b[39m\u001b[38;5;241m.\u001b[39m_gradient_checkpointing_func(\n\u001b[0;32m    685\u001b[0m         layer_module\u001b[38;5;241m.\u001b[39m\u001b[38;5;21m__call__\u001b[39m,\n\u001b[0;32m    686\u001b[0m         hidden_states,\n\u001b[1;32m   (...)\u001b[0m\n\u001b[0;32m    692\u001b[0m         output_attentions,\n\u001b[0;32m    693\u001b[0m     )\n\u001b[0;32m    694\u001b[0m \u001b[38;5;28;01melse\u001b[39;00m:\n\u001b[1;32m--> 695\u001b[0m     layer_outputs \u001b[38;5;241m=\u001b[39m \u001b[43mlayer_module\u001b[49m\u001b[43m(\u001b[49m\n\u001b[0;32m    696\u001b[0m \u001b[43m        \u001b[49m\u001b[43mhidden_states\u001b[49m\u001b[43m,\u001b[49m\n\u001b[0;32m    697\u001b[0m \u001b[43m        \u001b[49m\u001b[43mattention_mask\u001b[49m\u001b[43m,\u001b[49m\n\u001b[0;32m    698\u001b[0m \u001b[43m        \u001b[49m\u001b[43mlayer_head_mask\u001b[49m\u001b[43m,\u001b[49m\n\u001b[0;32m    699\u001b[0m \u001b[43m        \u001b[49m\u001b[43mencoder_hidden_states\u001b[49m\u001b[43m,\u001b[49m\n\u001b[0;32m    700\u001b[0m \u001b[43m        \u001b[49m\u001b[43mencoder_attention_mask\u001b[49m\u001b[43m,\u001b[49m\n\u001b[0;32m    701\u001b[0m \u001b[43m        \u001b[49m\u001b[43mpast_key_value\u001b[49m\u001b[43m,\u001b[49m\n\u001b[0;32m    702\u001b[0m \u001b[43m        \u001b[49m\u001b[43moutput_attentions\u001b[49m\u001b[43m,\u001b[49m\n\u001b[0;32m    703\u001b[0m \u001b[43m    \u001b[49m\u001b[43m)\u001b[49m\n\u001b[0;32m    705\u001b[0m hidden_states \u001b[38;5;241m=\u001b[39m layer_outputs[\u001b[38;5;241m0\u001b[39m]\n\u001b[0;32m    706\u001b[0m \u001b[38;5;28;01mif\u001b[39;00m use_cache:\n",
      "File \u001b[1;32mc:\\Users\\LEGION\\anaconda3\\Lib\\site-packages\\torch\\nn\\modules\\module.py:1553\u001b[0m, in \u001b[0;36mModule._wrapped_call_impl\u001b[1;34m(self, *args, **kwargs)\u001b[0m\n\u001b[0;32m   1551\u001b[0m     \u001b[38;5;28;01mreturn\u001b[39;00m \u001b[38;5;28mself\u001b[39m\u001b[38;5;241m.\u001b[39m_compiled_call_impl(\u001b[38;5;241m*\u001b[39margs, \u001b[38;5;241m*\u001b[39m\u001b[38;5;241m*\u001b[39mkwargs)  \u001b[38;5;66;03m# type: ignore[misc]\u001b[39;00m\n\u001b[0;32m   1552\u001b[0m \u001b[38;5;28;01melse\u001b[39;00m:\n\u001b[1;32m-> 1553\u001b[0m     \u001b[38;5;28;01mreturn\u001b[39;00m \u001b[38;5;28;43mself\u001b[39;49m\u001b[38;5;241;43m.\u001b[39;49m\u001b[43m_call_impl\u001b[49m\u001b[43m(\u001b[49m\u001b[38;5;241;43m*\u001b[39;49m\u001b[43margs\u001b[49m\u001b[43m,\u001b[49m\u001b[43m \u001b[49m\u001b[38;5;241;43m*\u001b[39;49m\u001b[38;5;241;43m*\u001b[39;49m\u001b[43mkwargs\u001b[49m\u001b[43m)\u001b[49m\n",
      "File \u001b[1;32mc:\\Users\\LEGION\\anaconda3\\Lib\\site-packages\\torch\\nn\\modules\\module.py:1562\u001b[0m, in \u001b[0;36mModule._call_impl\u001b[1;34m(self, *args, **kwargs)\u001b[0m\n\u001b[0;32m   1557\u001b[0m \u001b[38;5;66;03m# If we don't have any hooks, we want to skip the rest of the logic in\u001b[39;00m\n\u001b[0;32m   1558\u001b[0m \u001b[38;5;66;03m# this function, and just call forward.\u001b[39;00m\n\u001b[0;32m   1559\u001b[0m \u001b[38;5;28;01mif\u001b[39;00m \u001b[38;5;129;01mnot\u001b[39;00m (\u001b[38;5;28mself\u001b[39m\u001b[38;5;241m.\u001b[39m_backward_hooks \u001b[38;5;129;01mor\u001b[39;00m \u001b[38;5;28mself\u001b[39m\u001b[38;5;241m.\u001b[39m_backward_pre_hooks \u001b[38;5;129;01mor\u001b[39;00m \u001b[38;5;28mself\u001b[39m\u001b[38;5;241m.\u001b[39m_forward_hooks \u001b[38;5;129;01mor\u001b[39;00m \u001b[38;5;28mself\u001b[39m\u001b[38;5;241m.\u001b[39m_forward_pre_hooks\n\u001b[0;32m   1560\u001b[0m         \u001b[38;5;129;01mor\u001b[39;00m _global_backward_pre_hooks \u001b[38;5;129;01mor\u001b[39;00m _global_backward_hooks\n\u001b[0;32m   1561\u001b[0m         \u001b[38;5;129;01mor\u001b[39;00m _global_forward_hooks \u001b[38;5;129;01mor\u001b[39;00m _global_forward_pre_hooks):\n\u001b[1;32m-> 1562\u001b[0m     \u001b[38;5;28;01mreturn\u001b[39;00m \u001b[43mforward_call\u001b[49m\u001b[43m(\u001b[49m\u001b[38;5;241;43m*\u001b[39;49m\u001b[43margs\u001b[49m\u001b[43m,\u001b[49m\u001b[43m \u001b[49m\u001b[38;5;241;43m*\u001b[39;49m\u001b[38;5;241;43m*\u001b[39;49m\u001b[43mkwargs\u001b[49m\u001b[43m)\u001b[49m\n\u001b[0;32m   1564\u001b[0m \u001b[38;5;28;01mtry\u001b[39;00m:\n\u001b[0;32m   1565\u001b[0m     result \u001b[38;5;241m=\u001b[39m \u001b[38;5;28;01mNone\u001b[39;00m\n",
      "File \u001b[1;32mc:\\Users\\LEGION\\anaconda3\\Lib\\site-packages\\transformers\\models\\bert\\modeling_bert.py:627\u001b[0m, in \u001b[0;36mBertLayer.forward\u001b[1;34m(self, hidden_states, attention_mask, head_mask, encoder_hidden_states, encoder_attention_mask, past_key_value, output_attentions)\u001b[0m\n\u001b[0;32m    624\u001b[0m     cross_attn_present_key_value \u001b[38;5;241m=\u001b[39m cross_attention_outputs[\u001b[38;5;241m-\u001b[39m\u001b[38;5;241m1\u001b[39m]\n\u001b[0;32m    625\u001b[0m     present_key_value \u001b[38;5;241m=\u001b[39m present_key_value \u001b[38;5;241m+\u001b[39m cross_attn_present_key_value\n\u001b[1;32m--> 627\u001b[0m layer_output \u001b[38;5;241m=\u001b[39m \u001b[43mapply_chunking_to_forward\u001b[49m\u001b[43m(\u001b[49m\n\u001b[0;32m    628\u001b[0m \u001b[43m    \u001b[49m\u001b[38;5;28;43mself\u001b[39;49m\u001b[38;5;241;43m.\u001b[39;49m\u001b[43mfeed_forward_chunk\u001b[49m\u001b[43m,\u001b[49m\u001b[43m \u001b[49m\u001b[38;5;28;43mself\u001b[39;49m\u001b[38;5;241;43m.\u001b[39;49m\u001b[43mchunk_size_feed_forward\u001b[49m\u001b[43m,\u001b[49m\u001b[43m \u001b[49m\u001b[38;5;28;43mself\u001b[39;49m\u001b[38;5;241;43m.\u001b[39;49m\u001b[43mseq_len_dim\u001b[49m\u001b[43m,\u001b[49m\u001b[43m \u001b[49m\u001b[43mattention_output\u001b[49m\n\u001b[0;32m    629\u001b[0m \u001b[43m\u001b[49m\u001b[43m)\u001b[49m\n\u001b[0;32m    630\u001b[0m outputs \u001b[38;5;241m=\u001b[39m (layer_output,) \u001b[38;5;241m+\u001b[39m outputs\n\u001b[0;32m    632\u001b[0m \u001b[38;5;66;03m# if decoder, return the attn key/values as the last output\u001b[39;00m\n",
      "File \u001b[1;32mc:\\Users\\LEGION\\anaconda3\\Lib\\site-packages\\transformers\\pytorch_utils.py:248\u001b[0m, in \u001b[0;36mapply_chunking_to_forward\u001b[1;34m(forward_fn, chunk_size, chunk_dim, *input_tensors)\u001b[0m\n\u001b[0;32m    245\u001b[0m     \u001b[38;5;66;03m# concatenate output at same dimension\u001b[39;00m\n\u001b[0;32m    246\u001b[0m     \u001b[38;5;28;01mreturn\u001b[39;00m torch\u001b[38;5;241m.\u001b[39mcat(output_chunks, dim\u001b[38;5;241m=\u001b[39mchunk_dim)\n\u001b[1;32m--> 248\u001b[0m \u001b[38;5;28;01mreturn\u001b[39;00m \u001b[43mforward_fn\u001b[49m\u001b[43m(\u001b[49m\u001b[38;5;241;43m*\u001b[39;49m\u001b[43minput_tensors\u001b[49m\u001b[43m)\u001b[49m\n",
      "File \u001b[1;32mc:\\Users\\LEGION\\anaconda3\\Lib\\site-packages\\transformers\\models\\bert\\modeling_bert.py:640\u001b[0m, in \u001b[0;36mBertLayer.feed_forward_chunk\u001b[1;34m(self, attention_output)\u001b[0m\n\u001b[0;32m    638\u001b[0m \u001b[38;5;28;01mdef\u001b[39;00m \u001b[38;5;21mfeed_forward_chunk\u001b[39m(\u001b[38;5;28mself\u001b[39m, attention_output):\n\u001b[0;32m    639\u001b[0m     intermediate_output \u001b[38;5;241m=\u001b[39m \u001b[38;5;28mself\u001b[39m\u001b[38;5;241m.\u001b[39mintermediate(attention_output)\n\u001b[1;32m--> 640\u001b[0m     layer_output \u001b[38;5;241m=\u001b[39m \u001b[38;5;28;43mself\u001b[39;49m\u001b[38;5;241;43m.\u001b[39;49m\u001b[43moutput\u001b[49m\u001b[43m(\u001b[49m\u001b[43mintermediate_output\u001b[49m\u001b[43m,\u001b[49m\u001b[43m \u001b[49m\u001b[43mattention_output\u001b[49m\u001b[43m)\u001b[49m\n\u001b[0;32m    641\u001b[0m     \u001b[38;5;28;01mreturn\u001b[39;00m layer_output\n",
      "File \u001b[1;32mc:\\Users\\LEGION\\anaconda3\\Lib\\site-packages\\torch\\nn\\modules\\module.py:1553\u001b[0m, in \u001b[0;36mModule._wrapped_call_impl\u001b[1;34m(self, *args, **kwargs)\u001b[0m\n\u001b[0;32m   1551\u001b[0m     \u001b[38;5;28;01mreturn\u001b[39;00m \u001b[38;5;28mself\u001b[39m\u001b[38;5;241m.\u001b[39m_compiled_call_impl(\u001b[38;5;241m*\u001b[39margs, \u001b[38;5;241m*\u001b[39m\u001b[38;5;241m*\u001b[39mkwargs)  \u001b[38;5;66;03m# type: ignore[misc]\u001b[39;00m\n\u001b[0;32m   1552\u001b[0m \u001b[38;5;28;01melse\u001b[39;00m:\n\u001b[1;32m-> 1553\u001b[0m     \u001b[38;5;28;01mreturn\u001b[39;00m \u001b[38;5;28;43mself\u001b[39;49m\u001b[38;5;241;43m.\u001b[39;49m\u001b[43m_call_impl\u001b[49m\u001b[43m(\u001b[49m\u001b[38;5;241;43m*\u001b[39;49m\u001b[43margs\u001b[49m\u001b[43m,\u001b[49m\u001b[43m \u001b[49m\u001b[38;5;241;43m*\u001b[39;49m\u001b[38;5;241;43m*\u001b[39;49m\u001b[43mkwargs\u001b[49m\u001b[43m)\u001b[49m\n",
      "File \u001b[1;32mc:\\Users\\LEGION\\anaconda3\\Lib\\site-packages\\torch\\nn\\modules\\module.py:1562\u001b[0m, in \u001b[0;36mModule._call_impl\u001b[1;34m(self, *args, **kwargs)\u001b[0m\n\u001b[0;32m   1557\u001b[0m \u001b[38;5;66;03m# If we don't have any hooks, we want to skip the rest of the logic in\u001b[39;00m\n\u001b[0;32m   1558\u001b[0m \u001b[38;5;66;03m# this function, and just call forward.\u001b[39;00m\n\u001b[0;32m   1559\u001b[0m \u001b[38;5;28;01mif\u001b[39;00m \u001b[38;5;129;01mnot\u001b[39;00m (\u001b[38;5;28mself\u001b[39m\u001b[38;5;241m.\u001b[39m_backward_hooks \u001b[38;5;129;01mor\u001b[39;00m \u001b[38;5;28mself\u001b[39m\u001b[38;5;241m.\u001b[39m_backward_pre_hooks \u001b[38;5;129;01mor\u001b[39;00m \u001b[38;5;28mself\u001b[39m\u001b[38;5;241m.\u001b[39m_forward_hooks \u001b[38;5;129;01mor\u001b[39;00m \u001b[38;5;28mself\u001b[39m\u001b[38;5;241m.\u001b[39m_forward_pre_hooks\n\u001b[0;32m   1560\u001b[0m         \u001b[38;5;129;01mor\u001b[39;00m _global_backward_pre_hooks \u001b[38;5;129;01mor\u001b[39;00m _global_backward_hooks\n\u001b[0;32m   1561\u001b[0m         \u001b[38;5;129;01mor\u001b[39;00m _global_forward_hooks \u001b[38;5;129;01mor\u001b[39;00m _global_forward_pre_hooks):\n\u001b[1;32m-> 1562\u001b[0m     \u001b[38;5;28;01mreturn\u001b[39;00m \u001b[43mforward_call\u001b[49m\u001b[43m(\u001b[49m\u001b[38;5;241;43m*\u001b[39;49m\u001b[43margs\u001b[49m\u001b[43m,\u001b[49m\u001b[43m \u001b[49m\u001b[38;5;241;43m*\u001b[39;49m\u001b[38;5;241;43m*\u001b[39;49m\u001b[43mkwargs\u001b[49m\u001b[43m)\u001b[49m\n\u001b[0;32m   1564\u001b[0m \u001b[38;5;28;01mtry\u001b[39;00m:\n\u001b[0;32m   1565\u001b[0m     result \u001b[38;5;241m=\u001b[39m \u001b[38;5;28;01mNone\u001b[39;00m\n",
      "File \u001b[1;32mc:\\Users\\LEGION\\anaconda3\\Lib\\site-packages\\transformers\\models\\bert\\modeling_bert.py:552\u001b[0m, in \u001b[0;36mBertOutput.forward\u001b[1;34m(self, hidden_states, input_tensor)\u001b[0m\n\u001b[0;32m    551\u001b[0m \u001b[38;5;28;01mdef\u001b[39;00m \u001b[38;5;21mforward\u001b[39m(\u001b[38;5;28mself\u001b[39m, hidden_states: torch\u001b[38;5;241m.\u001b[39mTensor, input_tensor: torch\u001b[38;5;241m.\u001b[39mTensor) \u001b[38;5;241m-\u001b[39m\u001b[38;5;241m>\u001b[39m torch\u001b[38;5;241m.\u001b[39mTensor:\n\u001b[1;32m--> 552\u001b[0m     hidden_states \u001b[38;5;241m=\u001b[39m \u001b[38;5;28;43mself\u001b[39;49m\u001b[38;5;241;43m.\u001b[39;49m\u001b[43mdense\u001b[49m\u001b[43m(\u001b[49m\u001b[43mhidden_states\u001b[49m\u001b[43m)\u001b[49m\n\u001b[0;32m    553\u001b[0m     hidden_states \u001b[38;5;241m=\u001b[39m \u001b[38;5;28mself\u001b[39m\u001b[38;5;241m.\u001b[39mdropout(hidden_states)\n\u001b[0;32m    554\u001b[0m     hidden_states \u001b[38;5;241m=\u001b[39m \u001b[38;5;28mself\u001b[39m\u001b[38;5;241m.\u001b[39mLayerNorm(hidden_states \u001b[38;5;241m+\u001b[39m input_tensor)\n",
      "File \u001b[1;32mc:\\Users\\LEGION\\anaconda3\\Lib\\site-packages\\torch\\nn\\modules\\module.py:1553\u001b[0m, in \u001b[0;36mModule._wrapped_call_impl\u001b[1;34m(self, *args, **kwargs)\u001b[0m\n\u001b[0;32m   1551\u001b[0m     \u001b[38;5;28;01mreturn\u001b[39;00m \u001b[38;5;28mself\u001b[39m\u001b[38;5;241m.\u001b[39m_compiled_call_impl(\u001b[38;5;241m*\u001b[39margs, \u001b[38;5;241m*\u001b[39m\u001b[38;5;241m*\u001b[39mkwargs)  \u001b[38;5;66;03m# type: ignore[misc]\u001b[39;00m\n\u001b[0;32m   1552\u001b[0m \u001b[38;5;28;01melse\u001b[39;00m:\n\u001b[1;32m-> 1553\u001b[0m     \u001b[38;5;28;01mreturn\u001b[39;00m \u001b[38;5;28;43mself\u001b[39;49m\u001b[38;5;241;43m.\u001b[39;49m\u001b[43m_call_impl\u001b[49m\u001b[43m(\u001b[49m\u001b[38;5;241;43m*\u001b[39;49m\u001b[43margs\u001b[49m\u001b[43m,\u001b[49m\u001b[43m \u001b[49m\u001b[38;5;241;43m*\u001b[39;49m\u001b[38;5;241;43m*\u001b[39;49m\u001b[43mkwargs\u001b[49m\u001b[43m)\u001b[49m\n",
      "File \u001b[1;32mc:\\Users\\LEGION\\anaconda3\\Lib\\site-packages\\torch\\nn\\modules\\module.py:1562\u001b[0m, in \u001b[0;36mModule._call_impl\u001b[1;34m(self, *args, **kwargs)\u001b[0m\n\u001b[0;32m   1557\u001b[0m \u001b[38;5;66;03m# If we don't have any hooks, we want to skip the rest of the logic in\u001b[39;00m\n\u001b[0;32m   1558\u001b[0m \u001b[38;5;66;03m# this function, and just call forward.\u001b[39;00m\n\u001b[0;32m   1559\u001b[0m \u001b[38;5;28;01mif\u001b[39;00m \u001b[38;5;129;01mnot\u001b[39;00m (\u001b[38;5;28mself\u001b[39m\u001b[38;5;241m.\u001b[39m_backward_hooks \u001b[38;5;129;01mor\u001b[39;00m \u001b[38;5;28mself\u001b[39m\u001b[38;5;241m.\u001b[39m_backward_pre_hooks \u001b[38;5;129;01mor\u001b[39;00m \u001b[38;5;28mself\u001b[39m\u001b[38;5;241m.\u001b[39m_forward_hooks \u001b[38;5;129;01mor\u001b[39;00m \u001b[38;5;28mself\u001b[39m\u001b[38;5;241m.\u001b[39m_forward_pre_hooks\n\u001b[0;32m   1560\u001b[0m         \u001b[38;5;129;01mor\u001b[39;00m _global_backward_pre_hooks \u001b[38;5;129;01mor\u001b[39;00m _global_backward_hooks\n\u001b[0;32m   1561\u001b[0m         \u001b[38;5;129;01mor\u001b[39;00m _global_forward_hooks \u001b[38;5;129;01mor\u001b[39;00m _global_forward_pre_hooks):\n\u001b[1;32m-> 1562\u001b[0m     \u001b[38;5;28;01mreturn\u001b[39;00m \u001b[43mforward_call\u001b[49m\u001b[43m(\u001b[49m\u001b[38;5;241;43m*\u001b[39;49m\u001b[43margs\u001b[49m\u001b[43m,\u001b[49m\u001b[43m \u001b[49m\u001b[38;5;241;43m*\u001b[39;49m\u001b[38;5;241;43m*\u001b[39;49m\u001b[43mkwargs\u001b[49m\u001b[43m)\u001b[49m\n\u001b[0;32m   1564\u001b[0m \u001b[38;5;28;01mtry\u001b[39;00m:\n\u001b[0;32m   1565\u001b[0m     result \u001b[38;5;241m=\u001b[39m \u001b[38;5;28;01mNone\u001b[39;00m\n",
      "File \u001b[1;32mc:\\Users\\LEGION\\anaconda3\\Lib\\site-packages\\torch\\nn\\modules\\linear.py:117\u001b[0m, in \u001b[0;36mLinear.forward\u001b[1;34m(self, input)\u001b[0m\n\u001b[0;32m    116\u001b[0m \u001b[38;5;28;01mdef\u001b[39;00m \u001b[38;5;21mforward\u001b[39m(\u001b[38;5;28mself\u001b[39m, \u001b[38;5;28minput\u001b[39m: Tensor) \u001b[38;5;241m-\u001b[39m\u001b[38;5;241m>\u001b[39m Tensor:\n\u001b[1;32m--> 117\u001b[0m     \u001b[38;5;28;01mreturn\u001b[39;00m \u001b[43mF\u001b[49m\u001b[38;5;241;43m.\u001b[39;49m\u001b[43mlinear\u001b[49m\u001b[43m(\u001b[49m\u001b[38;5;28;43minput\u001b[39;49m\u001b[43m,\u001b[49m\u001b[43m \u001b[49m\u001b[38;5;28;43mself\u001b[39;49m\u001b[38;5;241;43m.\u001b[39;49m\u001b[43mweight\u001b[49m\u001b[43m,\u001b[49m\u001b[43m \u001b[49m\u001b[38;5;28;43mself\u001b[39;49m\u001b[38;5;241;43m.\u001b[39;49m\u001b[43mbias\u001b[49m\u001b[43m)\u001b[49m\n",
      "\u001b[1;31mKeyboardInterrupt\u001b[0m: "
     ]
    }
   ],
   "source": [
    "# # embedding\n",
    "\n",
    "# nodes_embed = generate_embeddings(nodes, client, \"BAAI/bge-small-en-v1.5\")"
   ]
  },
  {
   "cell_type": "code",
   "execution_count": 15,
   "id": "15320c85-b644-4148-b83b-b63bc2898517",
   "metadata": {},
   "outputs": [],
   "source": [
    "#indexing\n",
    "index = FaissIndexer()\n",
    "index.build_index(nodes_embed)\n",
    "faiss_index = index.get_index()\n",
    "\n",
    "faiss_retriever = FAISSVectorStoreRetriever(faiss_index=faiss_index,documents=nodes_embed)"
   ]
  },
  {
   "cell_type": "markdown",
   "id": "f75ddf0b-2c20-4065-bb79-fb8733622ec7",
   "metadata": {},
   "source": [
    "## Sparse Embedding via BM25"
   ]
  },
  {
   "cell_type": "code",
   "execution_count": 11,
   "id": "3e9c9cf4-123f-4d44-8c02-b61ecdd4bb2f",
   "metadata": {},
   "outputs": [],
   "source": [
    "# bm25_retriever = BM25Retriever.from_defaults(\n",
    "#     nodes=nodes,\n",
    "#     similarity_top_k=5,\n",
    "#     stemmer=Stemmer.Stemmer(\"english\"),\n",
    "#     language=\"english\",\n",
    "# )"
   ]
  },
  {
   "cell_type": "markdown",
   "id": "c953fd45-035d-4d46-801f-33f28fdede67",
   "metadata": {},
   "source": [
    "## Hybrid Retrieval via Reciprocal Rank"
   ]
  },
  {
   "cell_type": "code",
   "execution_count": 16,
   "id": "6ad014ba-3363-4810-a5d5-fa6187fbc494",
   "metadata": {},
   "outputs": [],
   "source": [
    "def hybrid_embedding(results: dict, top_k: int):\n",
    "    x = QueryFusionRetriever\n",
    "    ranked_results = QueryFusionRetriever._reciprocal_rerank_fusion(x, results)\n",
    "    return ranked_results[:top_k]"
   ]
  },
  {
   "cell_type": "markdown",
   "id": "eaae0e11-d7d3-4713-8889-92c9a3f207f7",
   "metadata": {},
   "source": [
    "# Post Retrieval"
   ]
  },
  {
   "cell_type": "markdown",
   "id": "43c29979-ba5f-4d9d-84f1-3252d9292b6d",
   "metadata": {},
   "source": [
    "## Summarization"
   ]
  },
  {
   "cell_type": "code",
   "execution_count": 17,
   "id": "a7e39ff7-4dec-4b10-8aee-b51d26e51fd8",
   "metadata": {},
   "outputs": [],
   "source": [
    "def summarize_each_chunk(nodes, client, query, model=\"llama3.2\", parent=False):\n",
    "    if parent:\n",
    "        chunks = [doc.text for doc in nodes]\n",
    "    else:\n",
    "        chunks = [doc.node.text for doc in nodes]\n",
    "    summaries = []\n",
    "    \n",
    "    for i, chunk in enumerate(chunks):\n",
    "        prompt = f\"\"\"\n",
    "        Summarize the following text in one concise paragraph, focusing on key points relevant to the query: \"{query}\".\n",
    "        \n",
    "        - Emphasize information directly related to the query.\n",
    "        - Exclude unrelated, redundant, or speculative details.\n",
    "        - Do NOT introduce new information or answer the query itself. \n",
    "        \n",
    "        Text:\n",
    "        {chunk}\n",
    "        \n",
    "        Summary:\n",
    "        \"\"\"\n",
    "        \n",
    "        response = client.generate(model=model, prompt=prompt)\n",
    "        summary = response['response'].strip()\n",
    "        summaries.append(summary)\n",
    "\n",
    "    return summaries"
   ]
  },
  {
   "cell_type": "markdown",
   "id": "2e78c30d-7d4e-4ec2-b3fe-ecb64fadf88a",
   "metadata": {},
   "source": [
    "# Generation"
   ]
  },
  {
   "cell_type": "code",
   "execution_count": 20,
   "id": "e11745b3-18d5-43cb-bb1d-c241c662d89d",
   "metadata": {},
   "outputs": [],
   "source": [
    "def generate_response_with_notice(summaries, query, client, model=\"llama3.2\"):\n",
    "    # Combine summaries into context block\n",
    "    context = \"\\n\".join(summaries)\n",
    "    \n",
    "    # Create prompt to answer based on summarized text\n",
    "    prompt = f\"\"\"\n",
    "    Use the following summarized information to answer the query accurately and concisely. \n",
    "    DO NOT USE BACKGROUND KNOWLEDGE OUTSIDE THE CONTEXT PROVIDED.\n",
    "    If the information is not sufficient to fully address the query, respond ONLY with:\n",
    "    \"The available information is insufficient to provide a complete answer to this query.\"\n",
    "\n",
    "    Summarized Context:\n",
    "    {context}\n",
    "    \n",
    "    Query:\n",
    "    {query}\n",
    "    \n",
    "    Response:\n",
    "    \"\"\"\n",
    "    \n",
    "    # Send the prompt to Ollama\n",
    "    response = client.generate(\n",
    "        model=model,\n",
    "        prompt=prompt\n",
    "    )\n",
    "    \n",
    "    return response['response'].strip()"
   ]
  },
  {
   "cell_type": "code",
   "execution_count": 26,
   "id": "2fdbe696-b59a-43e5-b18e-5c6059965b63",
   "metadata": {},
   "outputs": [],
   "source": [
    "# def generate_response_with_notice(processed_query, query, client, model=\"llama3.2\"):\n",
    "#     # Combine summaries into context block\n",
    "#     context = \"\\n\".join(summaries)\n",
    "    \n",
    "#     # Create prompt to answer based on summarized text\n",
    "#     prompt = f\"\"\"\n",
    "#     Use the following summarized information to answer the query accurately and concisely. \n",
    "#     DO NOT USE BACKGROUND KNOWLEDGE OUTSIDE THE CONTEXT PROVIDED.\n",
    "#     If the information is not sufficient to fully address the query, respond ONLY with:\n",
    "#     \"The available information is insufficient to provide a complete answer to this query.\"\n",
    "\n",
    "#     Summarized Context:\n",
    "#     {context}\n",
    "    \n",
    "#     Query:\n",
    "#     {query}\n",
    "    \n",
    "#     Response:\n",
    "#     \"\"\"\n",
    "    \n",
    "#     # Send the prompt to Ollama\n",
    "#     response = client.generate(\n",
    "#         model=model,\n",
    "#         prompt=prompt\n",
    "#     )\n",
    "    \n",
    "#     return response['response'].strip()"
   ]
  },
  {
   "cell_type": "code",
   "execution_count": 37,
   "id": "eded2050-14c6-45e8-9aa9-f0a3436bd188",
   "metadata": {},
   "outputs": [],
   "source": [
    "def generate_response_with_notice(processed_query, client, model=\"llama3.2\"):\n",
    "    # Combine summaries into context block\n",
    "    # context = \"\\n\".join(summaries)\n",
    "    \n",
    "    # Create prompt to answer based on summarized text\n",
    "    prompt = f\"\"\"\n",
    "    Instruction:\n",
    "    {processed_query}\n",
    "    \n",
    "    Response:\n",
    "    \"\"\"\n",
    "    \n",
    "    # Send the prompt to Ollama\n",
    "    response = client.generate(\n",
    "        model=model,\n",
    "        prompt=prompt\n",
    "    )\n",
    "    \n",
    "    return response['response'].strip()"
   ]
  },
  {
   "cell_type": "markdown",
   "id": "e075a9f0-ea97-4d1e-b9f1-3b664b2196f8",
   "metadata": {},
   "source": [
    "# Querying"
   ]
  },
  {
   "cell_type": "markdown",
   "id": "04693932-b45a-4bde-bf6c-00a7633822aa",
   "metadata": {},
   "source": [
    "## Query Transforms"
   ]
  },
  {
   "cell_type": "code",
   "execution_count": 72,
   "id": "b0afd10d-cd47-4f00-aeb1-bf2e1e507afa",
   "metadata": {},
   "outputs": [],
   "source": [
    "# Few-shot examples\n",
    "FEW_SHOTS = \"\"\"\n",
    "\n",
    "\n",
    "Example 2:\n",
    "Question: What will happen when your front tire blows out?\n",
    "A. The back end will sway towards the side of the blowout\n",
    "B. The back end will sway away from the blowout\n",
    "C. The front end will pull towards the side of the blowout\n",
    "D. The front end will pull to the opposite side of the blowout\n",
    "Please answer only in letters\n",
    "Correct Answer: [C]\n",
    "\n",
    "Example 3:\n",
    "Question: What should you do when an ambulance comes up behind you flashing red lights and/or sounding its siren?\n",
    "A. Stop as soon as you can\n",
    "B. Maintain your speed, let the ambulance driver will find a way around you\n",
    "C. Speed up so that you don't hold the ambulance\n",
    "D. Pull over to the right and slow down or even stop if necessary\n",
    "Please answer only in letters\n",
    "Correct Answer: [D]\n",
    "\"\"\"\n",
    "\n",
    "def paraphrase_query(query,client,model):\n",
    "\n",
    "    few_shot_examples = '''\n",
    "    Example 1:\n",
    "    Transform this into a Retrieval Augmented Generation query: What is AI?\n",
    "    Output: \"Retrieve information on artificial intelligence and provide a concise definition.\"\n",
    "\n",
    "    Example 2:\n",
    "    Transform this into a Retrieval Augmented Generation query: How does reinforcement learning work?\n",
    "    Output: \"Retrieve explanations of reinforcement learning algorithms with examples.\"\n",
    "\n",
    "    Example 3:\n",
    "    Transform this into a Retrieval Augmented Generation query: Explain neural networks.\n",
    "    Output: \"Retrieve details on neural networks and explain their structure and function.\"\n",
    "\n",
    "    Now, transform the following query and provide the response inside double quotes:\n",
    "    '''\n",
    "\n",
    "    full_prompt = few_shot_examples + f\"\\nQuery: {query}\"\n",
    "\n",
    "    response = client.generate(\n",
    "        model=model,\n",
    "        prompt=full_prompt\n",
    "    )\n",
    "    # Extract text within double quotes\n",
    "    matches = re.findall(r'\"([^\"]*)\"', response['response'])\n",
    "\n",
    "    print(f\"Query: {query}\")\n",
    "    print(f\"Transformed: {matches if matches else 'No match found'}\")\n",
    "    print('-' * 60)\n",
    "\n",
    "    if matches:\n",
    "        return matches[0]\n",
    "    else:\n",
    "        return query\n",
    "\n",
    "\n",
    "def cot_qa_format(query, context, client, model):\n",
    "    return f\"\"\"\n",
    "    Let's break down the problem step by step:\n",
    "    1. Identify the key components of the following question: {paraphrase_query(query, client, model)}\n",
    "    2. Analyze relevant facts and eliminate unnecessary details.\n",
    "    3. Provide the best possible answer based on the reasoning process.\n",
    "\n",
    "    Here is relevant context about the query:\n",
    "    {context}\n",
    "    Based on this information, answer the following question:\n",
    "    {query}\n",
    "    \"\"\"\n",
    "\n",
    "\n",
    "def answer_all_prompts(prompts_with_choices, prompts, mode=\"hybrid\"):\n",
    "    results = []\n",
    "    answers = []\n",
    "\n",
    "    i=0\n",
    "\n",
    "    # Initialize retrievers (dense and sparse)\n",
    "    dense_retriever = dense_index.as_retriever(similarity_top_k=top_k)\n",
    "    sparse_retriever = BM25Retriever.from_defaults(docstore=docstore, similarity_top_k=top_k)\n",
    "    \n",
    "    # Wrap the prompt list with tqdm to track progress\n",
    "    for prompt, prompt_with_choice in tqdm(zip(prompts, prompts_with_choices), desc=\"Processing Prompts\", total=len(prompts)):\n",
    "        try:\n",
    "            # 1. Retrieve relevant documents based on mode\n",
    "            if mode == \"dense\":\n",
    "                retrieved_docs = dense_retriever.retrieve(prompt)\n",
    "            elif mode == \"sparse\":\n",
    "                retrieved_docs = sparse_retriever.retrieve(prompt)\n",
    "            else:  # Hybrid mode (default using reciprocal rerank fusion)\n",
    "                fusion_retriever = QueryFusionRetriever(\n",
    "                    retrievers=[dense_retriever, sparse_retriever], \n",
    "                    similarity_top_k=top_k, \n",
    "                    num_queries=1, \n",
    "                    mode=\"reciprocal_rerank\", \n",
    "                    use_async=True, \n",
    "                    verbose=True, \n",
    "                    llm=None\n",
    "                )\n",
    "                ranked_results = fusion_retriever.retrieve(prompt)\n",
    "                retrieved_docs = ranked_results\n",
    "\n",
    "            # 2. Prepare context from retrieved documents\n",
    "            combined_context = \"\\n\\n\".join([doc.text for doc in retrieved_docs])\n",
    "\n",
    "            # 3. Apply Chain-of-Thought (CoT) prompt transformation\n",
    "            new_query = cot_qa_format(prompt, combined_context)\n",
    "            #print(new_query)\n",
    "            #print(\"\\n\\nPerforming query response...\")\n",
    "            result1 = ollama_llm.complete(new_query)\n",
    "            result2 = ollama_llm.complete(new_query)\n",
    "            result3 = ollama_llm.complete(new_query)\n",
    "            #print(f\"result 1: {result1}\")\n",
    "            #print(f\"result 2: {result2}\")\n",
    "            #print(f\"result 3: {result3}\")\n",
    "\n",
    "            # Aggregate results for final prompt\n",
    "            final_query_with_results = f\"\"\"\n",
    "            Based on the results:\n",
    "            - Result 1: {result1.text}\n",
    "            - Result 2: {result2.text}\n",
    "            - Result 3: {result3.text}\n",
    "\n",
    "            Now, synthesize these results and answer this question:\n",
    "            {paraphrase_query(prompt) + \"And answer which of the choices match the synthesized results.\"}\n",
    "            {prompt_with_choice}\n",
    "\n",
    "            \\nPlease answer only in letters and put them inside a bracket '[]'. Don't add anything but the letters. No explanation. If you don't see the answer from the choices using the information you retrieved, use background knowledge.\n",
    "            Here are two examples on how to answer the question:\n",
    "            {FEW_SHOTS}\n",
    "\n",
    "            \"\"\"\n",
    "            #print(final_query_with_results)\n",
    "            answer = ollama_llm.complete(final_query_with_results)\n",
    "            print(answer)\n",
    "\n",
    "            # 4. Format References\n",
    "            ref_text = \"\\n\".join(\n",
    "                [f\"Source {i+1}: {doc.metadata['title']} (Page {doc.metadata['page']}, Folder: {doc.metadata['folder']})\"\n",
    "                 for i, doc in enumerate(retrieved_docs)]\n",
    "            )\n",
    "\n",
    "            # 5. Store results\n",
    "            results.append({\n",
    "                \"question\": prompt,\n",
    "                \"answer\": answer.text,\n",
    "                \"references\": ref_text\n",
    "            })\n",
    "\n",
    "            answers.append(answer.text)\n",
    "\n",
    "        except Exception as e:\n",
    "            results.append({\n",
    "                \"question\": prompt,\n",
    "                \"answer\": str(e),\n",
    "                \"references\": \"\"\n",
    "            })\n",
    "            print(f\"Error processing prompt: {e}\")\n",
    "\n",
    "        # i+=1\n",
    "        # if i==1:\n",
    "        #     return answers\n",
    "    \n",
    "    return answers"
   ]
  },
  {
   "cell_type": "markdown",
   "id": "aee70e7b-a863-47c7-898a-78977ce5473f",
   "metadata": {},
   "source": [
    "## Query Generation"
   ]
  },
  {
   "cell_type": "code",
   "execution_count": 22,
   "id": "52a8f235-2430-4793-b0b4-17efd7f315a6",
   "metadata": {},
   "outputs": [],
   "source": [
    "docstore = {}\n",
    "\n",
    "# Store documents using full metadata as the key\n",
    "for doc in documents:\n",
    "    key = tuple(doc.metadata.items())  # Convert metadata to tuple for hashable key\n",
    "    docstore[key] = doc"
   ]
  },
  {
   "cell_type": "code",
   "execution_count": 23,
   "id": "cff1cba4-bd05-4429-a397-896f9e2dedfb",
   "metadata": {},
   "outputs": [],
   "source": [
    "def get_document_by_chunk_metadata(chunk_node):\n",
    "    # Convert chunk metadata to tuple for matching\n",
    "    metadata_key = tuple(chunk_node.metadata.items())\n",
    "\n",
    "    # Retrieve document from docstore\n",
    "    document = docstore.get(metadata_key)\n",
    "    return document"
   ]
  },
  {
   "cell_type": "code",
   "execution_count": 24,
   "id": "723b3e53-3f24-4280-ae9c-0e0ad7d57a68",
   "metadata": {},
   "outputs": [],
   "source": [
    "def remove_duplicate_documents(doc_list):\n",
    "    seen_ids = set()\n",
    "    unique_docs = []\n",
    "\n",
    "    for doc in doc_list:\n",
    "        if doc.doc_id not in seen_ids:\n",
    "            seen_ids.add(doc.doc_id)\n",
    "            unique_docs.append(doc)\n",
    "\n",
    "    return unique_docs"
   ]
  },
  {
   "cell_type": "code",
   "execution_count": 95,
   "id": "dcebca00-e74b-4b1f-a874-c00ce9dc6161",
   "metadata": {},
   "outputs": [],
   "source": [
    "def gen_query(query, top_k, client, mode='dense', summary=False, model=\"llama3.2\", chunks_only=True):\n",
    "    embed_model = HuggingFaceEmbedding(model_name=\"BAAI/bge-small-en-v1.5\")\n",
    "\n",
    "    response = embed_model.get_text_embedding(query)\n",
    "\n",
    "    query_embedding = response\n",
    "\n",
    "    top_k_docs = faiss_retriever._retrieve(query_embedding, top_k=top_k)\n",
    "\n",
    "    bm25_retriever = BM25Retriever.from_defaults(\n",
    "    nodes=nodes,\n",
    "    similarity_top_k=top_k,\n",
    "    stemmer=Stemmer.Stemmer(\"english\"),\n",
    "    language=\"english\",\n",
    "    )\n",
    "    retrieved_nodes = bm25_retriever.retrieve(query)\n",
    "\n",
    "    results = {'faiss': top_k_docs, 'bm25':retrieved_nodes}\n",
    "    ranked_results = hybrid_embedding(results, top_k=top_k)\n",
    "\n",
    "    if mode == 'dense':\n",
    "        print('using FAISS')\n",
    "        ans_nodes =top_k_docs\n",
    "    elif mode == 'sparse':\n",
    "        print('using BM25')\n",
    "        ans_nodes = retrieved_nodes\n",
    "    else:\n",
    "        print('using Hybrid')\n",
    "        ans_nodes = ranked_results\n",
    "\n",
    "    parent_flag = True\n",
    "    context = set([get_document_by_chunk_metadata(docs).text for docs in ans_nodes])\n",
    "    if chunks_only:\n",
    "        parent_flag = False\n",
    "        print('using chunks only')\n",
    "        context = [docs.node.text for docs in ans_nodes]\n",
    "        \n",
    "    if summary:\n",
    "        print('using summaries')\n",
    "        context_nodes = remove_duplicate_documents([get_document_by_chunk_metadata(docs) for docs in ans_nodes])\n",
    "\n",
    "        if chunks_only:\n",
    "            context_nodes=ans_nodes\n",
    "        summaries = summarize_each_chunk(context_nodes, client, model='llama3.2:latest', query=query,parent=parent_flag)\n",
    "        context = summaries\n",
    "    instruction = cot_qa_format(query, context,client, model='llama3.2:latest')\n",
    "    # print(f\"context: {instruction}\")\n",
    "    # print(f\"instruction: {instruction}\")\n",
    "    # answer = generate_response_with_notice(instruction, client, model=model)\n",
    "    \n",
    "    answer = generate_response_with_notice(query, client, model=model)\n",
    "    # print(f\"Query: {query}\")\n",
    "    print(f\"Answer: {answer}\")\n",
    "    print('-' * 60)\n",
    "    # Format the references\n",
    "    references = []\n",
    "    for i, doc in enumerate(ranked_results[:top_k], start=1):\n",
    "        metadata = doc.metadata\n",
    "        source_info = f\"Source {i}: {metadata['title']} (Page {metadata['page']}, Folder: {metadata['folder']})\"\n",
    "        references.append(source_info)\n",
    "\n",
    "    return answer, \"\\n\".join(references)"
   ]
  },
  {
   "cell_type": "markdown",
   "id": "00842045-d62a-4b01-b306-f637856c769c",
   "metadata": {},
   "source": [
    "# Evaluation"
   ]
  },
  {
   "cell_type": "code",
   "execution_count": 26,
   "id": "719d3b48-6639-423f-957d-82cda52de114",
   "metadata": {},
   "outputs": [],
   "source": [
    "# Generate prompts dynamically\n",
    "def generate_prompt(row):\n",
    "    options = []\n",
    "    for choice in ['A', 'B', 'C', 'D', 'E']:\n",
    "        # Check for NaN or blank values\n",
    "        if pd.notna(row[choice]) and row[choice] != '':\n",
    "            options.append(f\"{choice}. {row[choice]}\")\n",
    "    \n",
    "    # Construct the prompt with few-shot examples\n",
    "    prompt = f\"\\nActual Question: {row['Question']}\\n\" + \"\\n\".join(options)\n",
    "    prompt += \"\\nPlease answer only in letters and put them inside a bracket '[]'. If the question contains the statement 'Check all that apply' then add comma separator if there are multiple answers ONLY IF ALLOWED.\"\n",
    "    \n",
    "    return prompt"
   ]
  },
  {
   "cell_type": "code",
   "execution_count": 27,
   "id": "b16ce73b-abc7-460c-b15b-f39bc5209786",
   "metadata": {},
   "outputs": [
    {
     "data": {
      "text/html": [
       "<div>\n",
       "<style scoped>\n",
       "    .dataframe tbody tr th:only-of-type {\n",
       "        vertical-align: middle;\n",
       "    }\n",
       "\n",
       "    .dataframe tbody tr th {\n",
       "        vertical-align: top;\n",
       "    }\n",
       "\n",
       "    .dataframe thead th {\n",
       "        text-align: right;\n",
       "    }\n",
       "</style>\n",
       "<table border=\"1\" class=\"dataframe\">\n",
       "  <thead>\n",
       "    <tr style=\"text-align: right;\">\n",
       "      <th></th>\n",
       "      <th>Question</th>\n",
       "      <th>A</th>\n",
       "      <th>B</th>\n",
       "      <th>C</th>\n",
       "      <th>D</th>\n",
       "      <th>E</th>\n",
       "      <th>Answer</th>\n",
       "      <th>Prompt</th>\n",
       "    </tr>\n",
       "  </thead>\n",
       "  <tbody>\n",
       "    <tr>\n",
       "      <th>0</th>\n",
       "      <td>What should you do in case your vehicle breaks...</td>\n",
       "      <td>Open your trunk and hood</td>\n",
       "      <td>Stand on the expressway and flag down passing ...</td>\n",
       "      <td>Call for help using a mobile phone or an expre...</td>\n",
       "      <td>Park as far to the right as possible</td>\n",
       "      <td>Put your hazard warning light on</td>\n",
       "      <td>A, C, D, E</td>\n",
       "      <td>\\nActual Question: What should you do in case ...</td>\n",
       "    </tr>\n",
       "    <tr>\n",
       "      <th>1</th>\n",
       "      <td>What will happen when your front tire blows out?</td>\n",
       "      <td>The back end will sway towards the side of the...</td>\n",
       "      <td>The back end will sway away from the blowout</td>\n",
       "      <td>The front end will pull towards the side of th...</td>\n",
       "      <td>The front end will pull to the opposite side o...</td>\n",
       "      <td>NaN</td>\n",
       "      <td>C</td>\n",
       "      <td>\\nActual Question: What will happen when your ...</td>\n",
       "    </tr>\n",
       "    <tr>\n",
       "      <th>2</th>\n",
       "      <td>What should you do when an ambulance comes up ...</td>\n",
       "      <td>Stop as soon as you can</td>\n",
       "      <td>Maintain your speed, let the ambulance driver ...</td>\n",
       "      <td>Speed up so that you don't hold the ambulance</td>\n",
       "      <td>Pull over to the right and slow down or even s...</td>\n",
       "      <td>NaN</td>\n",
       "      <td>D</td>\n",
       "      <td>\\nActual Question: What should you do when an ...</td>\n",
       "    </tr>\n",
       "    <tr>\n",
       "      <th>3</th>\n",
       "      <td>While driving the hood of your car lifts up bl...</td>\n",
       "      <td>Look through the gap underneath the hood or ou...</td>\n",
       "      <td>Brake suddenly so you don't leave the road</td>\n",
       "      <td>Pull to the side of the road and refasten the ...</td>\n",
       "      <td>Turn your headlights on and look out of the si...</td>\n",
       "      <td>NaN</td>\n",
       "      <td>A,C</td>\n",
       "      <td>\\nActual Question: While driving the hood of y...</td>\n",
       "    </tr>\n",
       "    <tr>\n",
       "      <th>4</th>\n",
       "      <td>In case of an accident, the first duty of the ...</td>\n",
       "      <td>pick-up the injured person and take him to the...</td>\n",
       "      <td>report the accident to the nearest hospital</td>\n",
       "      <td>report the accident to the nearest police station</td>\n",
       "      <td>NaN</td>\n",
       "      <td>NaN</td>\n",
       "      <td>A</td>\n",
       "      <td>\\nActual Question: In case of an accident, the...</td>\n",
       "    </tr>\n",
       "  </tbody>\n",
       "</table>\n",
       "</div>"
      ],
      "text/plain": [
       "                                            Question  \\\n",
       "0  What should you do in case your vehicle breaks...   \n",
       "1   What will happen when your front tire blows out?   \n",
       "2  What should you do when an ambulance comes up ...   \n",
       "3  While driving the hood of your car lifts up bl...   \n",
       "4  In case of an accident, the first duty of the ...   \n",
       "\n",
       "                                                   A  \\\n",
       "0                           Open your trunk and hood   \n",
       "1  The back end will sway towards the side of the...   \n",
       "2                            Stop as soon as you can   \n",
       "3  Look through the gap underneath the hood or ou...   \n",
       "4  pick-up the injured person and take him to the...   \n",
       "\n",
       "                                                   B  \\\n",
       "0  Stand on the expressway and flag down passing ...   \n",
       "1       The back end will sway away from the blowout   \n",
       "2  Maintain your speed, let the ambulance driver ...   \n",
       "3         Brake suddenly so you don't leave the road   \n",
       "4        report the accident to the nearest hospital   \n",
       "\n",
       "                                                   C  \\\n",
       "0  Call for help using a mobile phone or an expre...   \n",
       "1  The front end will pull towards the side of th...   \n",
       "2      Speed up so that you don't hold the ambulance   \n",
       "3  Pull to the side of the road and refasten the ...   \n",
       "4  report the accident to the nearest police station   \n",
       "\n",
       "                                                   D  \\\n",
       "0               Park as far to the right as possible   \n",
       "1  The front end will pull to the opposite side o...   \n",
       "2  Pull over to the right and slow down or even s...   \n",
       "3  Turn your headlights on and look out of the si...   \n",
       "4                                                NaN   \n",
       "\n",
       "                                  E      Answer  \\\n",
       "0  Put your hazard warning light on  A, C, D, E   \n",
       "1                               NaN           C   \n",
       "2                               NaN           D   \n",
       "3                               NaN         A,C   \n",
       "4                               NaN           A   \n",
       "\n",
       "                                              Prompt  \n",
       "0  \\nActual Question: What should you do in case ...  \n",
       "1  \\nActual Question: What will happen when your ...  \n",
       "2  \\nActual Question: What should you do when an ...  \n",
       "3  \\nActual Question: While driving the hood of y...  \n",
       "4  \\nActual Question: In case of an accident, the...  "
      ]
     },
     "metadata": {},
     "output_type": "display_data"
    }
   ],
   "source": [
    "# Load the Excel file\n",
    "file_path = 'LTO_EXAM.csv'\n",
    "df = pd.read_csv(file_path)\n",
    "df['Prompt'] = df.apply(generate_prompt, axis=1)\n",
    "display(df.head())"
   ]
  },
  {
   "cell_type": "code",
   "execution_count": 94,
   "id": "14e137c4",
   "metadata": {},
   "outputs": [
    {
     "name": "stdout",
     "output_type": "stream",
     "text": [
      "using FAISS\n",
      "using chunks only\n",
      "Query: \n",
      "Actual Question: What should you do in case your vehicle breaks down on an expressway? Check all that apply.\n",
      "A. Open your trunk and hood\n",
      "B. Stand on the expressway and flag down passing drivers for help\n",
      "C. Call for help using a mobile phone or an expressway phone\n",
      "D. Park as far to the right as possible\n",
      "E. Put your hazard warning light on\n",
      "Please answer only in letters and put them inside a bracket '[]'. If the question contains the statement 'Check all that apply' then add comma separator if there are multiple answers ONLY IF ALLOWED.\n",
      "Transformed: ['Retrieve information on road emergencies, specifically what to do when a vehicle breaks down on an expressway.']\n",
      "------------------------------------------------------------\n",
      "Query: \n",
      "Actual Question: What should you do in case your vehicle breaks down on an expressway? Check all that apply.\n",
      "A. Open your trunk and hood\n",
      "B. Stand on the expressway and flag down passing drivers for help\n",
      "C. Call for help using a mobile phone or an expressway phone\n",
      "D. Park as far to the right as possible\n",
      "E. Put your hazard warning light on\n",
      "Please answer only in letters and put them inside a bracket '[]'. If the question contains the statement 'Check all that apply' then add comma separator if there are multiple answers ONLY IF ALLOWED.\n",
      "Answer: [C, D, E]\n",
      "------------------------------------------------------------\n"
     ]
    },
    {
     "data": {
      "text/plain": [
       "('[C, D, E]',\n",
       " \"Source 1: how-to-drive-safely-expressway (Page 2, Folder: LTO Portal)\\nSource 2: Filipino Driver's Manual: Volume 1 (2nd Edition) (Page 134, Folder: Driver’s License)\\nSource 3: right-side-driving (Page 3, Folder: LTO Portal)\\nSource 4: before-moving-car-parked-position-you-should (Page 1, Folder: LTO Portal)\\nSource 5: how-to-make-u-turn (Page 3, Folder: LTO Portal)\\nSource 6: cclex-cebu-cordova-link-expressway (Page 4, Folder: LTO Portal)\\nSource 7: what-should-driver-light-vehicle-before-overtaking-truck (Page 2, Folder: LTO Portal)\\nSource 8: how-to-drive-safely-expressway (Page 1, Folder: LTO Portal)\\nSource 9: what-to-do-brakes-fail-driving (Page 2, Folder: LTO Portal)\\nSource 10: Filipino Driver's Manual: Volume 1 (2nd Edition) (Page 152, Folder: Driver’s License)\\nSource 11: Filipino Driver's Manual: Volume 1 (2nd Edition) (Page 114, Folder: Driver’s License)\\nSource 12: what-to-do-emergency-vehicle-following-you-intersection (Page 2, Folder: LTO Portal)\\nSource 13: what-to-do-upon-parking-and-getting-out-of-vehicle (Page 1, Folder: LTO Portal)\\nSource 14: night-driving-safety-tips (Page 4, Folder: LTO Portal)\\nSource 15: lto-plate-number (Page 5, Folder: LTO Portal)\")"
      ]
     },
     "execution_count": 94,
     "metadata": {},
     "output_type": "execute_result"
    }
   ],
   "source": [
    "i=0\n",
    "gen_query(df.loc[i,\"Prompt\"], top_k=15, client=client, mode='dense', model=\"llama3.1:8b\",chunks_only=True )"
   ]
  },
  {
   "cell_type": "code",
   "execution_count": 96,
   "id": "9450c855-2480-4843-9b09-8d0af0a917a7",
   "metadata": {},
   "outputs": [
    {
     "name": "stderr",
     "output_type": "stream",
     "text": [
      "  0%|          | 0/91 [00:00<?, ?it/s]"
     ]
    },
    {
     "name": "stdout",
     "output_type": "stream",
     "text": [
      "using FAISS\n",
      "using chunks only\n",
      "Query: \n",
      "Actual Question: What should you do in case your vehicle breaks down on an expressway? Check all that apply.\n",
      "A. Open your trunk and hood\n",
      "B. Stand on the expressway and flag down passing drivers for help\n",
      "C. Call for help using a mobile phone or an expressway phone\n",
      "D. Park as far to the right as possible\n",
      "E. Put your hazard warning light on\n",
      "Please answer only in letters and put them inside a bracket '[]'. If the question contains the statement 'Check all that apply' then add comma separator if there are multiple answers ONLY IF ALLOWED.\n",
      "Transformed: ['Retrieve information on emergency procedures for broken down vehicles, specifically those occurring on expressways, and list appropriate actions.', \"['A', 'C', 'E']\"]\n",
      "------------------------------------------------------------\n"
     ]
    },
    {
     "name": "stderr",
     "output_type": "stream",
     "text": [
      "  1%|          | 1/91 [00:32<48:08, 32.09s/it]"
     ]
    },
    {
     "name": "stdout",
     "output_type": "stream",
     "text": [
      "Answer: [A, D, E]\n",
      "------------------------------------------------------------\n",
      "using FAISS\n",
      "using chunks only\n",
      "Query: \n",
      "Actual Question: What will happen when your front tire blows out?\n",
      "A. The back end will sway towards the side of the blowout\n",
      "B. The back end will sway away from the blowout\n",
      "C. The front end will pull towards the side of the blowout\n",
      "D. The front end will pull to the opposite side of the blowout\n",
      "Please answer only in letters and put them inside a bracket '[]'. If the question contains the statement 'Check all that apply' then add comma separator if there are multiple answers ONLY IF ALLOWED.\n",
      "Transformed: [\"Retrieve information on vehicle safety after a tire blowout and provide possible effects on the vehicle's movement.\"]\n",
      "------------------------------------------------------------\n"
     ]
    },
    {
     "name": "stderr",
     "output_type": "stream",
     "text": [
      "  2%|▏         | 2/91 [01:01<45:04, 30.39s/it]"
     ]
    },
    {
     "name": "stdout",
     "output_type": "stream",
     "text": [
      "Answer: [A]\n",
      "------------------------------------------------------------\n",
      "using FAISS\n",
      "using chunks only\n",
      "Query: \n",
      "Actual Question: What should you do when an ambulance comes up behind you flashing red lights and/or sounding its siren?\n",
      "A.  Stop as soon as you can\n",
      "B. Maintain your speed, let the ambulance driver will find a way around you\n",
      "C. Speed up so that you don't hold the ambulance\n",
      "D. Pull over to the right and slow down or even stop if necessary\n",
      "Please answer only in letters and put them inside a bracket '[]'. If the question contains the statement 'Check all that apply' then add comma separator if there are multiple answers ONLY IF ALLOWED.\n",
      "Transformed: ['Retrieve information on what to do when an ambulance approaches from behind, flashing red lights and/or sounding its siren.']\n",
      "------------------------------------------------------------\n"
     ]
    },
    {
     "name": "stderr",
     "output_type": "stream",
     "text": [
      "  3%|▎         | 3/91 [01:30<43:48, 29.87s/it]"
     ]
    },
    {
     "name": "stdout",
     "output_type": "stream",
     "text": [
      "Answer: [D]\n",
      "------------------------------------------------------------\n",
      "using FAISS\n",
      "using chunks only\n",
      "Query: \n",
      "Actual Question: While driving the hood of your car lifts up blocking your vision. What should you do? Check all that apply.\n",
      "A. Look through the gap underneath the hood or out of the side window\n",
      "B. Brake suddenly so you don't leave the road\n",
      "C. Pull to the side of the road and refasten the hood\n",
      "D. Turn your headlights on and look out of the side window\n",
      "Please answer only in letters and put them inside a bracket '[]'. If the question contains the statement 'Check all that apply' then add comma separator if there are multiple answers ONLY IF ALLOWED.\n",
      "Transformed: ['Retrieve instructions for emergency situations while driving, specifically when the hood is obstructing vision, with options to check or respond accordingly.']\n",
      "------------------------------------------------------------\n"
     ]
    },
    {
     "name": "stderr",
     "output_type": "stream",
     "text": [
      "  4%|▍         | 4/91 [02:00<43:06, 29.73s/it]"
     ]
    },
    {
     "name": "stdout",
     "output_type": "stream",
     "text": [
      "Answer: [A, C]\n",
      "------------------------------------------------------------\n",
      "using FAISS\n",
      "using chunks only\n",
      "Query: \n",
      "Actual Question: In case of an accident, the first duty of the driver involved is to:\n",
      "A. pick-up the injured person and take him to the nearest hospital\n",
      "B. report the accident to the nearest hospital\n",
      "C. report the accident to the nearest police station\n",
      "Please answer only in letters and put them inside a bracket '[]'. If the question contains the statement 'Check all that apply' then add comma separator if there are multiple answers ONLY IF ALLOWED.\n",
      "Transformed: ['Retrieve information on road traffic accidents and provide guidance on the first duty of the driver involved in an accident, specifically related to reporting and taking action.']\n",
      "------------------------------------------------------------\n"
     ]
    },
    {
     "name": "stderr",
     "output_type": "stream",
     "text": [
      "  5%|▌         | 5/91 [02:29<42:34, 29.70s/it]"
     ]
    },
    {
     "name": "stdout",
     "output_type": "stream",
     "text": [
      "Answer: [A]\n",
      "------------------------------------------------------------\n",
      "using FAISS\n",
      "using chunks only\n",
      "Query: \n",
      "Actual Question: When a vehicle starts to skid, what should the driver do?\n",
      "A. Immediately step on the brakes\n",
      "B. Hold firmly on to the wheel while slowing down the vehicle\n",
      "C. Turn the wheels tp the opposite the direction of the skid\n",
      "Please answer only in letters and put them inside a bracket '[]'. If the question contains the statement 'Check all that apply' then add comma separator if there are multiple answers ONLY IF ALLOWED.\n",
      "Transformed: ['Retrieve information on safe driving techniques during vehicle skidding, specifically instructions for drivers to prevent further skidding.']\n",
      "------------------------------------------------------------\n"
     ]
    },
    {
     "name": "stderr",
     "output_type": "stream",
     "text": [
      "  7%|▋         | 6/91 [02:57<41:23, 29.21s/it]"
     ]
    },
    {
     "name": "stdout",
     "output_type": "stream",
     "text": [
      "Answer: [B]\n",
      "------------------------------------------------------------\n",
      "using FAISS\n",
      "using chunks only\n",
      "Query: \n",
      "Actual Question: In case of injuries caused by an accident, the duty of the uninjured driver is to:\n",
      "A. call a physician\n",
      "B. keep the victim lying dowThe back end will sway away from the blowoutn\n",
      "C. try to determine who is at fault\n",
      "Please answer only in letters and put them inside a bracket '[]'. If the question contains the statement 'Check all that apply' then add comma separator if there are multiple answers ONLY IF ALLOWED.\n",
      "Transformed: ['Retrieve information on accident injuries, provide details on the legal or ethical responsibilities of an uninjured party involved in such incidents.', 'Provide a list of options for the actions an uninjured driver might take after being involved in an accident causing injury to another person.']\n",
      "------------------------------------------------------------\n"
     ]
    },
    {
     "name": "stderr",
     "output_type": "stream",
     "text": [
      "  8%|▊         | 7/91 [03:27<41:06, 29.36s/it]"
     ]
    },
    {
     "name": "stdout",
     "output_type": "stream",
     "text": [
      "Answer: [A]\n",
      "------------------------------------------------------------\n",
      "using FAISS\n",
      "using chunks only\n",
      "Query: \n",
      "Actual Question: What will happen when your rear tire blows out?\n",
      "A. The back end will sway towards the side of the blowout\n",
      "B. The back end will sway away from the blowout\n",
      "C. The front end will pull towards the side of the blowout\n",
      "D. The front end will pull to the opposite side of the blowout\n",
      "Please answer only in letters and put them inside a bracket '[]'. If the question contains the statement 'Check all that apply' then add comma separator if there are multiple answers ONLY IF ALLOWED.\n",
      "Transformed: ['Retrieve information on what happens when a rear tire blows out and provide possible effects on vehicle stability.']\n",
      "------------------------------------------------------------\n"
     ]
    },
    {
     "name": "stderr",
     "output_type": "stream",
     "text": [
      "  9%|▉         | 8/91 [03:59<41:49, 30.23s/it]"
     ]
    },
    {
     "name": "stdout",
     "output_type": "stream",
     "text": [
      "Answer: [A]\n",
      "------------------------------------------------------------\n",
      "using FAISS\n",
      "using chunks only\n",
      "Query: \n",
      "Actual Question: When a vehicle is stalled or disabled, the driver must park the vehicle on the shoulder of the road and:\n",
      "A. switch on the parking light\n",
      "B. install the early warning device\n",
      "C. switch on the parking light and install the Early Warning Device to the front and rear of the motor vehicle\n",
      "Please answer only in letters and put them inside a bracket '[]'. If the question contains the statement 'Check all that apply' then add comma separator if there are multiple answers ONLY IF ALLOWED.\n",
      "Transformed: ['Retrieve information on roadside safety procedures for a stalled vehicle, specifically when switching on lights and installing early warning devices.', 'Switch on the parking light, install the Early Warning Device to the front and rear of the motor vehicle.']\n",
      "------------------------------------------------------------\n"
     ]
    },
    {
     "name": "stderr",
     "output_type": "stream",
     "text": [
      " 10%|▉         | 9/91 [04:33<42:59, 31.46s/it]"
     ]
    },
    {
     "name": "stdout",
     "output_type": "stream",
     "text": [
      "Answer: [C]\n",
      "------------------------------------------------------------\n",
      "using FAISS\n",
      "using chunks only\n",
      "Query: \n",
      "Actual Question: If you are the first to arrive at the scene of an accident, which of the following should you do:\n",
      "A. mind your own business\n",
      "B. offer all reasonable assistance\n",
      "C. move past the accident scene to avoid traffic build up\n",
      "Please answer only in letters and put them inside a bracket '[]'. If the question contains the statement 'Check all that apply' then add comma separator if there are multiple answers ONLY IF ALLOWED.\n",
      "Transformed: ['Retrieve instructions for first responders or bystanders in an emergency situation, specifically when arriving at the scene of an accident.', 'answer only in letters and put them inside a bracket']\n",
      "------------------------------------------------------------\n"
     ]
    },
    {
     "name": "stderr",
     "output_type": "stream",
     "text": [
      " 11%|█         | 10/91 [05:16<47:08, 34.92s/it]"
     ]
    },
    {
     "name": "stdout",
     "output_type": "stream",
     "text": [
      "Answer: [B]\n",
      "------------------------------------------------------------\n",
      "using FAISS\n",
      "using chunks only\n",
      "Query: \n",
      "Actual Question: As per RA 4136, the brakes on every vehicle (other than a motorcycle) must:\n",
      "A. consist of a good foot and hand brake\n",
      "B. consist of a good foot break that works as intended\n",
      "C. consist of brake fluid at all times\n",
      "Please answer only in letters and put them inside a bracket '[]'. If the question contains the statement 'Check all that apply' then add comma separator if there are multiple answers ONLY IF ALLOWED.\n",
      "Transformed: ['Retrieve information on Philippine Presidential Decree No. 4136, specifically sections related to vehicle braking systems, and provide an answer in the format specified.']\n",
      "------------------------------------------------------------\n"
     ]
    },
    {
     "name": "stderr",
     "output_type": "stream",
     "text": [
      " 12%|█▏        | 11/91 [05:46<44:31, 33.39s/it]"
     ]
    },
    {
     "name": "stdout",
     "output_type": "stream",
     "text": [
      "Answer: [A]\n",
      "------------------------------------------------------------\n",
      "using FAISS\n",
      "using chunks only\n",
      "Query: \n",
      "Actual Question: What is not a good trait of a driver?\n",
      "A. Driving recklessly and under the influence of alcohol\n",
      "B. Driving while listening to music\n",
      "C. Driving fast on a highway\n",
      "Please answer only in letters and put them inside a bracket '[]'. If the question contains the statement 'Check all that apply' then add comma separator if there are multiple answers ONLY IF ALLOWED.\n",
      "Transformed: ['Retrieve information on driving behaviors and provide characteristics that make a driver bad.', 'bad', 'Check all that apply', 'Retrieve information on bad driving behaviors and provide examples. Provide answers in a format that allows the user to check all that apply (e.g., [A, C]).', 'Check all that apply']\n",
      "------------------------------------------------------------\n"
     ]
    },
    {
     "name": "stderr",
     "output_type": "stream",
     "text": [
      " 13%|█▎        | 12/91 [06:19<43:42, 33.19s/it]"
     ]
    },
    {
     "name": "stdout",
     "output_type": "stream",
     "text": [
      "Answer: [A, B]\n",
      "------------------------------------------------------------\n",
      "using FAISS\n",
      "using chunks only\n",
      "Query: \n",
      "Actual Question: A safe speed to drive your car under adverse conditions depends on:\n",
      "A. authorized speed limit\n",
      "B. your driving style\n",
      "C. the vehicle type\n",
      "Please answer only in letters and put them inside a bracket '[]'. If the question contains the statement 'Check all that apply' then add comma separator if there are multiple answers ONLY IF ALLOWED.\n",
      "Transformed: ['Retrieve explanations of safe driving practices under adverse conditions, including factors to consider when determining a safe speed.', '[A] [C]']\n",
      "------------------------------------------------------------\n"
     ]
    },
    {
     "name": "stderr",
     "output_type": "stream",
     "text": [
      " 14%|█▍        | 13/91 [06:50<42:11, 32.46s/it]"
     ]
    },
    {
     "name": "stdout",
     "output_type": "stream",
     "text": [
      "Answer: [A, B, C]\n",
      "------------------------------------------------------------\n",
      "using FAISS\n",
      "using chunks only\n",
      "Query: \n",
      "Actual Question: Night driving is dangerous because:\n",
      "A. street lights tend to blur your vision\n",
      "B. more vehicles are on the road at night\n",
      "C. the distance we can see ahead is reduced\n",
      "Please answer only in letters and put them inside a bracket '[]'. If the question contains the statement 'Check all that apply' then add comma separator if there are multiple answers ONLY IF ALLOWED.\n",
      "Transformed: ['Retrieve explanations on night driving hazards with information on why driving at night is dangerous, such as blurred vision or reduced distance ahead.', '[A], [B], [C]']\n",
      "------------------------------------------------------------\n"
     ]
    },
    {
     "name": "stderr",
     "output_type": "stream",
     "text": [
      " 15%|█▌        | 14/91 [07:19<40:22, 31.46s/it]"
     ]
    },
    {
     "name": "stdout",
     "output_type": "stream",
     "text": [
      "Answer: [C]\n",
      "------------------------------------------------------------\n",
      "using FAISS\n",
      "using chunks only\n",
      "Query: \n",
      "Actual Question: What habit will help you prevent getting a fixed-stare and resist distraction?\n",
      "A. Looking at the ground\n",
      "B. Moving your eyes regularly by looking near and far\n",
      "C. Gauging another car's speed\n",
      "Please answer only in letters and put them inside a bracket '[]'. If the question contains the statement 'Check all that apply' then add comma separator if there are multiple answers ONLY IF ALLOWED.\n",
      "Transformed: ['Retrieve information on habits to prevent fixed-stare and resist distraction, and provide options for resisting distraction.']\n",
      "------------------------------------------------------------\n"
     ]
    },
    {
     "name": "stderr",
     "output_type": "stream",
     "text": [
      " 16%|█▋        | 15/91 [07:51<40:03, 31.63s/it]"
     ]
    },
    {
     "name": "stdout",
     "output_type": "stream",
     "text": [
      "Answer: [B]\n",
      "------------------------------------------------------------\n",
      "using FAISS\n",
      "using chunks only\n",
      "Query: \n",
      "Actual Question: Seatbelts must be worn by children aged:\n",
      "A. 5 years and above\n",
      "B.  7 years and above\n",
      "C. 6 years and above\n",
      "Please answer only in letters and put them inside a bracket '[]'. If the question contains the statement 'Check all that apply' then add comma separator if there are multiple answers ONLY IF ALLOWED.\n",
      "Transformed: ['Retrieve information on child safety regulations regarding seatbelts, specifically the age limits for wearing them.']\n",
      "------------------------------------------------------------\n"
     ]
    },
    {
     "name": "stderr",
     "output_type": "stream",
     "text": [
      " 18%|█▊        | 16/91 [08:26<41:05, 32.87s/it]"
     ]
    },
    {
     "name": "stdout",
     "output_type": "stream",
     "text": [
      "Answer: [C]\n",
      "------------------------------------------------------------\n",
      "using FAISS\n",
      "using chunks only\n",
      "Query: \n",
      "Actual Question: Which of the following is the maximum speed limit on expressway for cars?\n",
      "A. 60 kph\n",
      "B. 80 kph\n",
      "C. 100 kph\n",
      "Please answer only in letters and put them inside a bracket '[]'. If the question contains the statement 'Check all that apply' then add comma separator if there are multiple answers ONLY IF ALLOWED.\n",
      "Transformed: ['Retrieve information on traffic laws, expressway speed limits, and provide an answer to the question: What is the maximum speed limit for cars on expressways?']\n",
      "------------------------------------------------------------\n"
     ]
    },
    {
     "name": "stderr",
     "output_type": "stream",
     "text": [
      " 19%|█▊        | 17/91 [08:58<40:12, 32.60s/it]"
     ]
    },
    {
     "name": "stdout",
     "output_type": "stream",
     "text": [
      "Answer: [C]\n",
      "------------------------------------------------------------\n",
      "using FAISS\n",
      "using chunks only\n",
      "Query: \n",
      "Actual Question: Graft and corruption in the traffic enforcement systen can be eliminated by:\n",
      "A. Understanding the road and traffic rules and regulations\n",
      "B. Understanding the road and traffic rules and regulations\n",
      "C. self discipline by drivers and obeying traffic rules and regulations\n",
      "Please answer only in letters and put them inside a bracket '[]'. If the question contains the statement 'Check all that apply' then add comma separator if there are multiple answers ONLY IF ALLOWED.\n",
      "Transformed: ['Retrieve information on how to eliminate graft and corruption in traffic enforcement systems, including self-discipline by drivers and obeying traffic rules and regulations.', '[A], [B], [C]']\n",
      "------------------------------------------------------------\n"
     ]
    },
    {
     "name": "stderr",
     "output_type": "stream",
     "text": [
      " 20%|█▉        | 18/91 [09:29<38:53, 31.96s/it]"
     ]
    },
    {
     "name": "stdout",
     "output_type": "stream",
     "text": [
      "Answer: [A]\n",
      "------------------------------------------------------------\n",
      "using FAISS\n",
      "using chunks only\n",
      "Query: \n",
      "Actual Question: Eating, drinking, reading, or doing anything that may take your attention from driving is:\n",
      "A. never allowed\n",
      "B. allowed if you have a profession driver's license\n",
      "C. allowed as long as you can handle it\n",
      "Please answer only in letters and put them inside a bracket '[]'. If the question contains the statement 'Check all that apply' then add comma separator if there are multiple answers ONLY IF ALLOWED.\n",
      "Transformed: [\"Retrieve information on traffic laws and regulations related to distracted driving, and provide answers to the following questions: What activities are never allowed while driving? What activities are allowed only if you have a professional driver's license? What activities can be done as long as you can handle them?\"]\n",
      "------------------------------------------------------------\n"
     ]
    },
    {
     "name": "stderr",
     "output_type": "stream",
     "text": [
      " 21%|██        | 19/91 [09:58<37:24, 31.18s/it]"
     ]
    },
    {
     "name": "stdout",
     "output_type": "stream",
     "text": [
      "Answer: [A]\n",
      "------------------------------------------------------------\n",
      "using FAISS\n",
      "using chunks only\n",
      "Query: \n",
      "Actual Question: Before a private motor vehicle owner can apply for a DOT franchise, the motor vehicle must be registered with the:\n",
      "A. Constabulatory Highway Patrol Group\n",
      "B. Philippine Motors Association\n",
      "C. Land Transportation Office (LTO)\n",
      "Please answer only in letters and put them inside a bracket '[]'. If the question contains the statement 'Check all that apply' then add comma separator if there are multiple answers ONLY IF ALLOWED.\n",
      "Transformed: ['Retrieve information on vehicle registration requirements for private motor vehicles in the Philippines before applying for a DOT franchise and identify the correct office responsible.', '[C]']\n",
      "------------------------------------------------------------\n"
     ]
    },
    {
     "name": "stderr",
     "output_type": "stream",
     "text": [
      " 22%|██▏       | 20/91 [10:29<36:34, 30.91s/it]"
     ]
    },
    {
     "name": "stdout",
     "output_type": "stream",
     "text": [
      "Answer: [C]\n",
      "------------------------------------------------------------\n",
      "using FAISS\n",
      "using chunks only\n",
      "Query: \n",
      "Actual Question: According to the Philippine Clean Air Act of 1999 (R.A. No 8749)\n",
      "A. All road users have the right to breathe clean air.\n",
      "B. Every citizen must strive for their right to breathe clean air\n",
      "C. Every citizen has the right to breathe clain air\n",
      "Please answer only in letters and put them inside a bracket '[]'. If the question contains the statement 'Check all that apply' then add comma separator if there are multiple answers ONLY IF ALLOWED.\n",
      "Transformed: [\"Retrieve information on the Philippine Clean Air Act of 1999 (R.A. No 8749) and identify correct statements regarding citizens' rights to clean air [A, B].\"]\n",
      "------------------------------------------------------------\n"
     ]
    },
    {
     "name": "stderr",
     "output_type": "stream",
     "text": [
      " 23%|██▎       | 21/91 [10:59<35:58, 30.84s/it]"
     ]
    },
    {
     "name": "stdout",
     "output_type": "stream",
     "text": [
      "Answer: [B]\n",
      "------------------------------------------------------------\n",
      "using FAISS\n",
      "using chunks only\n",
      "Query: \n",
      "Actual Question: To avoid suspension or revocation, how many days must a driver with an apprehended license settle his case with LTO?\n",
      "A. within 15 days\n",
      "B. within 10 days\n",
      "C. within 30 days\n",
      "Please answer only in letters and put them inside a bracket '[]'. If the question contains the statement 'Check all that apply' then add comma separator if there are multiple answers ONLY IF ALLOWED.\n",
      "Transformed: ['Retrieve information on drivers with apprehended licenses and provide details on how to avoid suspension or revocation, specifically regarding timeframes for settlement.']\n",
      "------------------------------------------------------------\n"
     ]
    },
    {
     "name": "stderr",
     "output_type": "stream",
     "text": [
      " 24%|██▍       | 22/91 [11:28<34:44, 30.20s/it]"
     ]
    },
    {
     "name": "stdout",
     "output_type": "stream",
     "text": [
      "Answer: [A]\n",
      "------------------------------------------------------------\n",
      "using FAISS\n",
      "using chunks only\n",
      "Query: \n",
      "Actual Question: To have one's driver's license suspended means to:\n",
      "A. have it revalidated by the LTO\n",
      "B. have it taken away premanently by the LTO\n",
      "C. have it taken temporarily by the LTO\n",
      "Please answer only in letters and put them inside a bracket '[]'. If the question contains the statement 'Check all that apply' then add comma separator if there are multiple answers ONLY IF ALLOWED.\n",
      "Transformed: [\"Retrieve information on driver's license suspension and provide options A, B, and C as possible outcomes.\"]\n",
      "------------------------------------------------------------\n"
     ]
    },
    {
     "name": "stderr",
     "output_type": "stream",
     "text": [
      " 25%|██▌       | 23/91 [11:57<33:51, 29.87s/it]"
     ]
    },
    {
     "name": "stdout",
     "output_type": "stream",
     "text": [
      "Answer: [C]\n",
      "------------------------------------------------------------\n",
      "using FAISS\n",
      "using chunks only\n",
      "Query: \n",
      "Actual Question: To aobtain one's driver's license, one must be at least:\n",
      "A. 16 years old\n",
      "B. 17 years old\n",
      "C. 18 years old\n",
      "Please answer only in letters and put them inside a bracket '[]'. If the question contains the statement 'Check all that apply' then add comma separator if there are multiple answers ONLY IF ALLOWED.\n",
      "Transformed: [\"Retrieve information on driver's license requirements and state laws regarding age for obtaining a driver's license.\", 'Check all that apply']\n",
      "------------------------------------------------------------\n"
     ]
    },
    {
     "name": "stderr",
     "output_type": "stream",
     "text": [
      " 26%|██▋       | 24/91 [12:30<34:21, 30.76s/it]"
     ]
    },
    {
     "name": "stdout",
     "output_type": "stream",
     "text": [
      "Answer: [A]\n",
      "------------------------------------------------------------\n",
      "using FAISS\n",
      "using chunks only\n",
      "Query: \n",
      "Actual Question: A pre-trip inspection should be completed:\n",
      "A. before and after operating the motor vehicle\n",
      "B. after operating the motor vehicle\n",
      "C. before operating the motor vehicle\n",
      "Please answer only in letters and put them inside a bracket '[]'. If the question contains the statement 'Check all that apply' then add comma separator if there are multiple answers ONLY IF ALLOWED.\n",
      "Transformed: ['Retrieve information on pre-trip inspections and provide the correct procedure for completing one.', 'Retrieve explanations of pre-trip inspection requirements and provide the correct completion order.', 'Retrieve information on pre-trip inspections for motor vehicles and provide the correct procedure for completing one: [A, C].']\n",
      "------------------------------------------------------------\n"
     ]
    },
    {
     "name": "stderr",
     "output_type": "stream",
     "text": [
      " 27%|██▋       | 25/91 [13:03<34:37, 31.47s/it]"
     ]
    },
    {
     "name": "stdout",
     "output_type": "stream",
     "text": [
      "Answer: [C]\n",
      "------------------------------------------------------------\n",
      "using FAISS\n",
      "using chunks only\n",
      "Query: \n",
      "Actual Question: It is not conidered safe driving on an expressway when:\n",
      "A. driver is driving at 80 kph\n",
      "B. driver is driving at 60 kph\n",
      "C. driver keep changing lanes without signaling\n",
      "Please answer only in letters and put them inside a bracket '[]'. If the question contains the statement 'Check all that apply' then add comma separator if there are multiple answers ONLY IF ALLOWED.\n",
      "Transformed: ['Retrieve information on driving regulations, specifically for expressways, and provide an explanation of when it is not considered safe to drive on an expressway.', '[A], [C]']\n",
      "------------------------------------------------------------\n"
     ]
    },
    {
     "name": "stderr",
     "output_type": "stream",
     "text": [
      " 29%|██▊       | 26/91 [13:31<33:06, 30.56s/it]"
     ]
    },
    {
     "name": "stdout",
     "output_type": "stream",
     "text": [
      "Answer: [C]\n",
      "------------------------------------------------------------\n",
      "using FAISS\n",
      "using chunks only\n",
      "Query: \n",
      "Actual Question: When you do not see the wheels of the vehicles in front of you, should you do?\n",
      "A. Slow down and get back to a safer following distance\n",
      "B. Turn your fog light on\n",
      "C. Increase your speed until it becomes visible\n",
      "Please answer only in letters and put them inside a bracket '[]'. If the question contains the statement 'Check all that apply' then add comma separator if there are multiple answers ONLY IF ALLOWED.\n",
      "Transformed: ['Retrieve information on safe driving practices during foggy conditions and provide guidance on when to adjust following distance or use headlights.', 'check all that apply']\n",
      "------------------------------------------------------------\n"
     ]
    },
    {
     "name": "stderr",
     "output_type": "stream",
     "text": [
      " 30%|██▉       | 27/91 [14:00<32:06, 30.10s/it]"
     ]
    },
    {
     "name": "stdout",
     "output_type": "stream",
     "text": [
      "Answer: [A]\n",
      "------------------------------------------------------------\n",
      "using FAISS\n",
      "using chunks only\n",
      "Query: \n",
      "Actual Question: Your speed while driving at night should keep on:\n",
      "A. the distance that you can see where you come to a complete stop within distance that your headlights can light up.\n",
      "B. the speed since you have enough lighting anyways.\n",
      "C. a slow speed to avoid road crash\n",
      "Please answer only in letters and put them inside a bracket '[]'. If the question contains the statement 'Check all that apply' then add comma separator if there are multiple answers ONLY IF ALLOWED.\n",
      "Transformed: ['Retrieve information on safe driving practices, especially at night, and provide guidance on speed adjustments based on available lighting conditions.', 'C']\n",
      "------------------------------------------------------------\n"
     ]
    },
    {
     "name": "stderr",
     "output_type": "stream",
     "text": [
      " 31%|███       | 28/91 [14:29<31:09, 29.67s/it]"
     ]
    },
    {
     "name": "stdout",
     "output_type": "stream",
     "text": [
      "Answer: [A]\n",
      "------------------------------------------------------------\n",
      "using FAISS\n",
      "using chunks only\n",
      "Query: \n",
      "Actual Question: When driving at night, you should\n",
      "A. decrease your speed\n",
      "B. drink coffee so you won't fall asleep\n",
      "C. alwaus tirn your headlights on\n",
      "Please answer only in letters and put them inside a bracket '[]'. If the question contains the statement 'Check all that apply' then add comma separator if there are multiple answers ONLY IF ALLOWED.\n",
      "Transformed: ['Retrieve information on safe driving practices at night, specifically regarding speed adjustment and headlight usage.']\n",
      "------------------------------------------------------------\n"
     ]
    },
    {
     "name": "stderr",
     "output_type": "stream",
     "text": [
      " 32%|███▏      | 29/91 [14:56<29:50, 28.87s/it]"
     ]
    },
    {
     "name": "stdout",
     "output_type": "stream",
     "text": [
      "Answer: [A]\n",
      "------------------------------------------------------------\n",
      "using FAISS\n",
      "using chunks only\n",
      "Query: \n",
      "Actual Question: How close should another car be before you dim your headlights?\n",
      "A. 150 meter\n",
      "B. 100 meter\n",
      "C. 200 meters\n",
      "Please answer only in letters and put them inside a bracket '[]'. If the question contains the statement 'Check all that apply' then add comma separator if there are multiple answers ONLY IF ALLOWED.\n",
      "Transformed: ['Retrieve information on safe following distances for headlights dimming and provide the correct minimum distance in meters.']\n",
      "------------------------------------------------------------\n"
     ]
    },
    {
     "name": "stderr",
     "output_type": "stream",
     "text": [
      " 33%|███▎      | 30/91 [15:23<28:51, 28.39s/it]"
     ]
    },
    {
     "name": "stdout",
     "output_type": "stream",
     "text": [
      "Answer: [B]\n",
      "------------------------------------------------------------\n",
      "using FAISS\n",
      "using chunks only\n",
      "Query: \n",
      "Actual Question: If you are backing up in a straight line, turn and look behind and over your shoulder at:\n",
      "A. right\n",
      "B. left and right\n",
      "C. left\n",
      "Please answer only in letters and put them inside a bracket '[]'. If the question contains the statement 'Check all that apply' then add comma separator if there are multiple answers ONLY IF ALLOWED.\n",
      "Transformed: ['Retrieve instructions for checking behind you while backing up a vehicle, specifically identifying the directions to turn and look.']\n",
      "------------------------------------------------------------\n"
     ]
    },
    {
     "name": "stderr",
     "output_type": "stream",
     "text": [
      " 34%|███▍      | 31/91 [15:52<28:25, 28.42s/it]"
     ]
    },
    {
     "name": "stdout",
     "output_type": "stream",
     "text": [
      "Answer: [left]\n",
      "------------------------------------------------------------\n",
      "using FAISS\n",
      "using chunks only\n",
      "Query: \n",
      "Actual Question: The blind spot is the area to your right or left that you do not see in the side view mirror, what will you do before you back up?\n",
      "A. look at the rearview mirror\n",
      "B. get out of the vehicle and scout the area behind you first\n",
      "C. turn your head to see that the way is clear\n",
      "Please answer only in letters and put them inside a bracket '[]'. If the question contains the statement 'Check all that apply' then add comma separator if there are multiple answers ONLY IF ALLOWED.\n",
      "Transformed: ['Retrieve information on blind spots, especially in side view mirrors, and provide guidance on how to check or avoid them when backing up.']\n",
      "------------------------------------------------------------\n"
     ]
    },
    {
     "name": "stderr",
     "output_type": "stream",
     "text": [
      " 35%|███▌      | 32/91 [16:20<27:57, 28.43s/it]"
     ]
    },
    {
     "name": "stdout",
     "output_type": "stream",
     "text": [
      "Answer: [A]\n",
      "------------------------------------------------------------\n",
      "using FAISS\n",
      "using chunks only\n",
      "Query: \n",
      "Actual Question: At an intrsection with traffic signals, if you (car A) are not in the proper lane to make a right or left turn you should:\n",
      "A. continue ahead and find a u-turn\n",
      "B. just continue ahead\n",
      "C. continue to make the u-turn\n",
      "Please answer only in letters and put them inside a bracket '[]'. If the question contains the statement 'Check all that apply' then add comma separator if there are multiple answers ONLY IF ALLOWED.\n",
      "Transformed: ['Retrieve traffic laws related to intersections with traffic signals, specifically instructions for drivers at an intersection where they are not in the proper lane to make a right or left turn.']\n",
      "------------------------------------------------------------\n"
     ]
    },
    {
     "name": "stderr",
     "output_type": "stream",
     "text": [
      " 36%|███▋      | 33/91 [16:51<28:04, 29.05s/it]"
     ]
    },
    {
     "name": "stdout",
     "output_type": "stream",
     "text": [
      "Answer: [B]\n",
      "------------------------------------------------------------\n",
      "using FAISS\n",
      "using chunks only\n",
      "Query: \n",
      "Actual Question: When approaching a flooded area and you have to go through it, what should you do?\n",
      "A. Increase your speed so you get through immediately\n",
      "B. Maintain your speed as most have water insulation anyways.\n",
      "C. Proceed at a very slow speed\n",
      "Please answer only in letters and put them inside a bracket '[]'. If the question contains the statement 'Check all that apply' then add comma separator if there are multiple answers ONLY IF ALLOWED.\n",
      "Transformed: ['Retrieve advice on navigating flooded areas, and provide guidance on the appropriate speed to maintain when approaching such an area.', 'Check all that apply,', '[C]']\n",
      "------------------------------------------------------------\n"
     ]
    },
    {
     "name": "stderr",
     "output_type": "stream",
     "text": [
      " 37%|███▋      | 34/91 [17:19<27:21, 28.80s/it]"
     ]
    },
    {
     "name": "stdout",
     "output_type": "stream",
     "text": [
      "Answer: [C]\n",
      "------------------------------------------------------------\n",
      "using FAISS\n",
      "using chunks only\n",
      "Query: \n",
      "Actual Question: While driving with maximum speed and you have to stop suddenly, you should: \n",
      "A. apply your brakes heavily with steady pressure\n",
      "B. apply your foot and hand brakes gently with steady pressure\n",
      "C. apply your brakes gently with steady pressure\n",
      "Please answer only in letters and put them inside a bracket '[]'. If the question contains the statement 'Check all that apply' then add comma separator if there are multiple answers ONLY IF ALLOWED.\n",
      "Transformed: ['Retrieve information on car safety protocols, particularly during emergency braking scenarios.']\n",
      "------------------------------------------------------------\n"
     ]
    },
    {
     "name": "stderr",
     "output_type": "stream",
     "text": [
      " 38%|███▊      | 35/91 [17:49<27:20, 29.29s/it]"
     ]
    },
    {
     "name": "stdout",
     "output_type": "stream",
     "text": [
      "Answer: [A]\n",
      "------------------------------------------------------------\n",
      "using FAISS\n",
      "using chunks only\n",
      "Query: \n",
      "Actual Question: On a wet road, you must:\n",
      "A. maintain speed\n",
      "B. slow down\n",
      "C. increase speed\n",
      "Please answer only in letters and put them inside a bracket '[]'. If the question contains the statement 'Check all that apply' then add comma separator if there are multiple answers ONLY IF ALLOWED.\n",
      "Transformed: ['Retrieve information on safe driving practices for wet roads, provide answers to On a wet road, you must:, and format as [A], [B], or [C].', \"Retrieve information on safe driving practices for wet roads and provide the following answer: If it's wet outside, slow down. The correct response is [B].\"]\n",
      "------------------------------------------------------------\n"
     ]
    },
    {
     "name": "stderr",
     "output_type": "stream",
     "text": [
      " 40%|███▉      | 36/91 [18:20<27:04, 29.53s/it]"
     ]
    },
    {
     "name": "stdout",
     "output_type": "stream",
     "text": [
      "Answer: [B]\n",
      "------------------------------------------------------------\n",
      "using FAISS\n",
      "using chunks only\n",
      "Query: \n",
      "Actual Question: When planning to overtake a slower vehicle in front of you at night, you should:\n",
      "A. bow your horn so he gets alerted\n",
      "B. flick your dimmer, siwtch two or three times to signify your intention to the vehicle that you intend to overtake\n",
      "C. put hazzard lights on so he knows you're about to overtake\n",
      "Please answer only in letters and put them inside a bracket '[]'. If the question contains the statement 'Check all that apply' then add comma separator if there are multiple answers ONLY IF ALLOWED.\n",
      "Transformed: ['Retrieve traffic rules for overtaking vehicles at night, specifically hazard lights usage.']\n",
      "------------------------------------------------------------\n"
     ]
    },
    {
     "name": "stderr",
     "output_type": "stream",
     "text": [
      " 41%|████      | 37/91 [18:50<26:54, 29.90s/it]"
     ]
    },
    {
     "name": "stdout",
     "output_type": "stream",
     "text": [
      "Answer: [B]\n",
      "------------------------------------------------------------\n",
      "using FAISS\n",
      "using chunks only\n",
      "Query: \n",
      "Actual Question: You are preparing to exit an expressway, when should you start reducing speed?\n",
      "A. Immediately before entering the declaration lane\n",
      "B. immediately upon entering the declaration lane\n",
      "C. immediately upon spotting the declaration lane\n",
      "Please answer only in letters and put them inside a bracket '[]'. If the question contains the statement 'Check all that apply' then add comma separator if there are multiple answers ONLY IF ALLOWED.\n",
      "Transformed: ['Retrieve information on exit strategies when leaving an expressway, specifically focusing on speed reduction guidelines.']\n",
      "------------------------------------------------------------\n"
     ]
    },
    {
     "name": "stderr",
     "output_type": "stream",
     "text": [
      " 42%|████▏     | 38/91 [19:19<26:05, 29.55s/it]"
     ]
    },
    {
     "name": "stdout",
     "output_type": "stream",
     "text": [
      "Answer: [A]\n",
      "------------------------------------------------------------\n",
      "using FAISS\n",
      "using chunks only\n",
      "Query: \n",
      "Actual Question: While driving with a maximum speed and you have to stop suddenly, you should:\n",
      "A. apply your brakes gently with steady pressure\n",
      "B. apply your hand brakes gently with steady pressure\n",
      "C. apply your brakes abruptly with hard pressure\n",
      "Please answer only in letters and put them inside a bracket '[]'. If the question contains the statement 'Check all that apply' then add comma separator if there are multiple answers ONLY IF ALLOWED.\n",
      "Transformed: ['Retrieve information on safe driving practices, specifically focusing on sudden stops while driving at maximum speed, and provide guidance on appropriate brake application techniques.']\n",
      "------------------------------------------------------------\n"
     ]
    },
    {
     "name": "stderr",
     "output_type": "stream",
     "text": [
      " 43%|████▎     | 39/91 [19:49<25:48, 29.77s/it]"
     ]
    },
    {
     "name": "stdout",
     "output_type": "stream",
     "text": [
      "Answer: [A]\n",
      "------------------------------------------------------------\n",
      "using FAISS\n",
      "using chunks only\n",
      "Query: \n",
      "Actual Question: When driving on mountain roads during daytime, you should:\n",
      "A. blow your horn every 15 seconds\n",
      "B. blow your horn whenever you sense an oncoming vehicle\n",
      "C. blow your horn when approaching a blind curve\n",
      "Please answer only in letters and put them inside a bracket '[]'. If the question contains the statement 'Check all that apply' then add comma separator if there are multiple answers ONLY IF ALLOWED.\n",
      "Transformed: ['Retrieve information on safe driving practices for mountain roads during daytime and provide guidance on when to use the horn.', 'Retrieve information on safe driving practices for mountain roads during daytime and provide guidance on when to use the horn. Possible answers include blowing your horn when approaching a blind curve or signaling with your turn signal.']\n",
      "------------------------------------------------------------\n"
     ]
    },
    {
     "name": "stderr",
     "output_type": "stream",
     "text": [
      " 44%|████▍     | 40/91 [20:20<25:31, 30.04s/it]"
     ]
    },
    {
     "name": "stdout",
     "output_type": "stream",
     "text": [
      "Answer: [A]\n",
      "------------------------------------------------------------\n",
      "using FAISS\n",
      "using chunks only\n",
      "Query: \n",
      "Actual Question: What light shall be used when vehicles are parked on the highway at night?\n",
      "A. Headlight\n",
      "B. Parking lights or lower-beam headlights\n",
      "C. Signal lights\n",
      "Please answer only in letters and put them inside a bracket '[]'. If the question contains the statement 'Check all that apply' then add comma separator if there are multiple answers ONLY IF ALLOWED.\n",
      "Transformed: ['Retrieve information on automotive lighting systems for vehicles parked on highways at night, specifically determine which type of light should be used.']\n",
      "------------------------------------------------------------\n"
     ]
    },
    {
     "name": "stderr",
     "output_type": "stream",
     "text": [
      " 45%|████▌     | 41/91 [20:48<24:25, 29.32s/it]"
     ]
    },
    {
     "name": "stdout",
     "output_type": "stream",
     "text": [
      "Answer: [B]\n",
      "------------------------------------------------------------\n",
      "using FAISS\n",
      "using chunks only\n",
      "Query: \n",
      "Actual Question: When loading or unloading passengers, we usually stop at the:\n",
      "A. right side of the road nearest the sidewalk\n",
      "B. middle of the road\n",
      "C. intersection\n",
      "Please answer only in letters and put them inside a bracket '[]'. If the question contains the statement 'Check all that apply' then add comma separator if there are multiple answers ONLY IF ALLOWED.\n",
      "Transformed: ['Retrieve traffic rules for loading or unloading passengers.', '[A, C]']\n",
      "------------------------------------------------------------\n"
     ]
    },
    {
     "name": "stderr",
     "output_type": "stream",
     "text": [
      " 46%|████▌     | 42/91 [21:15<23:26, 28.71s/it]"
     ]
    },
    {
     "name": "stdout",
     "output_type": "stream",
     "text": [
      "Answer: [A]\n",
      "------------------------------------------------------------\n",
      "using FAISS\n",
      "using chunks only\n",
      "Query: \n",
      "Actual Question: If you are parking uphill without a curb, turn the wheels towards the:\n",
      "A. edge of the street\n",
      "B. other side of the street\n",
      "C. middle of the street\n",
      "Please answer only in letters and put them inside a bracket '[]'. If the question contains the statement 'Check all that apply' then add comma separator if there are multiple answers ONLY IF ALLOWED.\n",
      "Transformed: ['Retrieve information on parking uphill and provide guidance on turning the wheels.', '[A, B]', 'Check all that apply']\n",
      "------------------------------------------------------------\n"
     ]
    },
    {
     "name": "stderr",
     "output_type": "stream",
     "text": [
      " 47%|████▋     | 43/91 [21:43<22:49, 28.53s/it]"
     ]
    },
    {
     "name": "stdout",
     "output_type": "stream",
     "text": [
      "Answer: [A]\n",
      "------------------------------------------------------------\n",
      "using FAISS\n",
      "using chunks only\n",
      "Query: \n",
      "Actual Question: A driver ____ park or stop at the side fo the road within 6 meters of a crosswalk because it reduces the visibility of pedestrians to other drivers.\n",
      "A. should not\n",
      "B. is capable\n",
      "C. is allowed\n",
      "Please answer only in letters and put them inside a bracket '[]'. If the question contains the statement 'Check all that apply' then add comma separator if there are multiple answers ONLY IF ALLOWED.\n",
      "Transformed: [\"Retrieve traffic rules related to parking proximity to crosswalks and provide information on why it's recommended to stay within 6 meters.\", 'Retrieve traffic laws regarding driver behavior near crosswalks and state the reason behind the proximity limit of 6 meters.']\n",
      "------------------------------------------------------------\n"
     ]
    },
    {
     "name": "stderr",
     "output_type": "stream",
     "text": [
      " 48%|████▊     | 44/91 [22:12<22:22, 28.57s/it]"
     ]
    },
    {
     "name": "stdout",
     "output_type": "stream",
     "text": [
      "Answer: [A]\n",
      "------------------------------------------------------------\n",
      "using FAISS\n",
      "using chunks only\n",
      "Query: \n",
      "Actual Question: Whenever you park, remember to:\n",
      "A. shift the gear to neutral\n",
      "B. turn off the engine and engage the handbrake\n",
      "C. close the windows\n",
      "Please answer only in letters and put them inside a bracket '[]'. If the question contains the statement 'Check all that apply' then add comma separator if there are multiple answers ONLY IF ALLOWED.\n",
      "Transformed: ['Retrieve parking instructions and provide the correct steps to follow when parking a vehicle.', \"Bracket ['A', 'B'], shift the gear to neutral, turn off the engine and engage the handbrake.\"]\n",
      "------------------------------------------------------------\n"
     ]
    },
    {
     "name": "stderr",
     "output_type": "stream",
     "text": [
      " 49%|████▉     | 45/91 [22:40<21:44, 28.36s/it]"
     ]
    },
    {
     "name": "stdout",
     "output_type": "stream",
     "text": [
      "Answer: [B, A]\n",
      "------------------------------------------------------------\n",
      "using FAISS\n",
      "using chunks only\n",
      "Query: \n",
      "Actual Question: Never park or stop at the side of the road with a fire hydrant, you may only park with a distance of at least:\n",
      "A. 3 meters\n",
      "B. 4 meters\n",
      "C. 5 meters\n",
      "Please answer only in letters and put them inside a bracket '[]'. If the question contains the statement 'Check all that apply' then add comma separator if there are multiple answers ONLY IF ALLOWED.\n",
      "Transformed: ['Retrieve parking restrictions with fire hydrants and list recommended distances.', 'Check all that apply [A, C]']\n",
      "------------------------------------------------------------\n"
     ]
    },
    {
     "name": "stderr",
     "output_type": "stream",
     "text": [
      " 51%|█████     | 46/91 [23:07<21:05, 28.13s/it]"
     ]
    },
    {
     "name": "stdout",
     "output_type": "stream",
     "text": [
      "Answer: [B]\n",
      "------------------------------------------------------------\n",
      "using FAISS\n",
      "using chunks only\n",
      "Query: \n",
      "Actual Question: The vehicle is parked if:\n",
      "A. the vehicle is stationary and remains inactive in a place for an appreciable period of time\n",
      "B. the vehicle is not moving while loading passengers in\n",
      "C. the vehicle is not moving while unloading passengers\n",
      "Please answer only in letters and put them inside a bracket '[]'. If the question contains the statement 'Check all that apply' then add comma separator if there are multiple answers ONLY IF ALLOWED.\n",
      "Transformed: ['Retrieve details on parking regulations for vehicles, focusing on when a vehicle is considered parked, specifically including stationary periods and loading/unloading passengers.', '[A, C]']\n",
      "------------------------------------------------------------\n"
     ]
    },
    {
     "name": "stderr",
     "output_type": "stream",
     "text": [
      " 52%|█████▏    | 47/91 [23:35<20:34, 28.06s/it]"
     ]
    },
    {
     "name": "stdout",
     "output_type": "stream",
     "text": [
      "Answer: [A]\n",
      "------------------------------------------------------------\n",
      "using FAISS\n",
      "using chunks only\n",
      "Query: \n",
      "Actual Question: When parking downhill, you should turn your front wheels:\n",
      "A. toward the curb of the sidewalk\n",
      "B. away from the curb\n",
      "C. any direction will do\n",
      "Please answer only in letters and put them inside a bracket '[]'. If the question contains the statement 'Check all that apply' then add comma separator if there are multiple answers ONLY IF ALLOWED.\n",
      "Transformed: ['Retrieve information on safe parking practices, specifically for downhill parking, and provide options for how to turn your front wheels.', 'Retrieve explanations of car safety tips with examples, including turning directions during uphill or downhill parking.']\n",
      "------------------------------------------------------------\n"
     ]
    },
    {
     "name": "stderr",
     "output_type": "stream",
     "text": [
      " 53%|█████▎    | 48/91 [24:02<19:51, 27.70s/it]"
     ]
    },
    {
     "name": "stdout",
     "output_type": "stream",
     "text": [
      "Answer: [A]\n",
      "------------------------------------------------------------\n",
      "using FAISS\n",
      "using chunks only\n",
      "Query: \n",
      "Actual Question: When you are parked at the side of the road at night, you must:\n",
      "A. warn other by turning on your 4 way emergency flashers\n",
      "B. be sure to stay awake and ready to move\n",
      "C. warn others by turning on your headlights\n",
      "Please answer only in letters and put them inside a bracket '[]'. If the question contains the statement 'Check all that apply' then add comma separator if there are multiple answers ONLY IF ALLOWED.\n",
      "Transformed: ['Retrieve information on driving safety at night, particularly when parked by the side of the road, and provide specific instructions on how to alert other drivers.', \"['A']\", 'stay awake']\n",
      "------------------------------------------------------------\n"
     ]
    },
    {
     "name": "stderr",
     "output_type": "stream",
     "text": [
      " 54%|█████▍    | 49/91 [24:33<20:04, 28.69s/it]"
     ]
    },
    {
     "name": "stdout",
     "output_type": "stream",
     "text": [
      "Answer: [B]\n",
      "------------------------------------------------------------\n",
      "using FAISS\n",
      "using chunks only\n",
      "Query: \n",
      "Actual Question: A driver must not park or stop at the side of the road with a \"STOP SIGN\" or a traffic control signal because it reduces visibility for other drivers, especially when it is within:\n",
      "A. 4 meters\n",
      "B. 5 meters\n",
      "C. 6 meters\n",
      "Please answer only in letters and put them inside a bracket '[]'. If the question contains the statement 'Check all that apply' then add comma separator if there are multiple answers ONLY IF ALLOWED.\n",
      "Transformed: ['Retrieve information on traffic rules and regulations regarding parking or stopping at the side of the road, specifically concerning visibility for other drivers and distance from signs or signals.']\n",
      "------------------------------------------------------------\n"
     ]
    },
    {
     "name": "stderr",
     "output_type": "stream",
     "text": [
      " 55%|█████▍    | 50/91 [25:02<19:38, 28.75s/it]"
     ]
    },
    {
     "name": "stdout",
     "output_type": "stream",
     "text": [
      "Answer: [4]\n",
      "------------------------------------------------------------\n",
      "using FAISS\n",
      "using chunks only\n",
      "Query: \n",
      "Actual Question: Parking lights may be used:\n",
      "A. at anytime\n",
      "B. for parking and when visibility is poor\n",
      "C. when driving on a well-lighted streets\n",
      "Please answer only in letters and put them inside a bracket '[]'. If the question contains the statement 'Check all that apply' then add comma separator if there are multiple answers ONLY IF ALLOWED.\n",
      "Transformed: ['Retrieve information on when parking lights should be used, including their application in various lighting conditions.', 'Check all that apply']\n",
      "------------------------------------------------------------\n"
     ]
    },
    {
     "name": "stderr",
     "output_type": "stream",
     "text": [
      " 56%|█████▌    | 51/91 [25:34<19:50, 29.77s/it]"
     ]
    },
    {
     "name": "stdout",
     "output_type": "stream",
     "text": [
      "Answer: [B]\n",
      "------------------------------------------------------------\n",
      "using FAISS\n",
      "using chunks only\n",
      "Query: \n",
      "Actual Question: You may never park:\n",
      "A. on a crosswalk\n",
      "B. on a one-way street\n",
      "C. within 5-meter of a fire-hydrant\n",
      "Please answer only in letters and put them inside a bracket '[]'. If the question contains the statement 'Check all that apply' then add comma separator if there are multiple answers ONLY IF ALLOWED.\n",
      "Transformed: ['Retrieve information on traffic laws and regulations, specifically about parking restrictions and provide an answer to the following: You may never park [A] on a crosswalk, [B] on a one-way street, or [C] within 5-meter of a fire-hydrant.']\n",
      "------------------------------------------------------------\n"
     ]
    },
    {
     "name": "stderr",
     "output_type": "stream",
     "text": [
      " 57%|█████▋    | 52/91 [26:04<19:22, 29.80s/it]"
     ]
    },
    {
     "name": "stdout",
     "output_type": "stream",
     "text": [
      "Answer: [A, C]\n",
      "------------------------------------------------------------\n",
      "using FAISS\n",
      "using chunks only\n",
      "Query: \n",
      "Actual Question: Parking is considered as a violation when a motor vehicle:\n",
      "A. parks at the enrtrance and exit of hospital and fire stations\n",
      "B. parks at the entrance and exit of an industrial establishment\n",
      "C. parks at the entrance and exit of a residential establishment\n",
      "Please answer only in letters and put them inside a bracket '[]'. If the question contains the statement 'Check all that apply' then add comma separator if there are multiple answers ONLY IF ALLOWED.\n",
      "Transformed: ['Retrieve information on parking regulations and provide the correct categories for violations as per [A, B, C].', 'Retrieve definitions of parking violations and provide examples for entrance and exit restrictions at hospitals, fire stations, industrial establishments, and residential establishments.', 'Check all that apply']\n",
      "------------------------------------------------------------\n"
     ]
    },
    {
     "name": "stderr",
     "output_type": "stream",
     "text": [
      " 58%|█████▊    | 53/91 [26:35<19:02, 30.06s/it]"
     ]
    },
    {
     "name": "stdout",
     "output_type": "stream",
     "text": [
      "Answer: [A]\n",
      "------------------------------------------------------------\n",
      "using FAISS\n",
      "using chunks only\n",
      "Query: \n",
      "Actual Question: What is considered as a parking violation?\n",
      "A. parking in a one-way street\n",
      "B. parking without hazard lights on\n",
      "C. parking within 5 meters from a signalized intersection\n",
      "Please answer only in letters and put them inside a bracket '[]'. If the question contains the statement 'Check all that apply' then add comma separator if there are multiple answers ONLY IF ALLOWED.\n",
      "Transformed: ['Retrieve information on parking violations with possible examples.', \"'[A, B, C]'\"]\n",
      "------------------------------------------------------------\n"
     ]
    },
    {
     "name": "stderr",
     "output_type": "stream",
     "text": [
      " 59%|█████▉    | 54/91 [27:05<18:32, 30.08s/it]"
     ]
    },
    {
     "name": "stdout",
     "output_type": "stream",
     "text": [
      "Answer: [A, B]\n",
      "------------------------------------------------------------\n",
      "using FAISS\n",
      "using chunks only\n",
      "Query: \n",
      "Actual Question: When are you permitted to double park?\n",
      "A. Never\n",
      "B. When the street or road is wide enough\n",
      "C. When you have no other option\n",
      "Please answer only in letters and put them inside a bracket '[]'. If the question contains the statement 'Check all that apply' then add comma separator if there are multiple answers ONLY IF ALLOWED.\n",
      "Transformed: ['Retrieve information on parking regulations and provide details on when double parking is permitted, including examples of exceptions.', 'Retrieve explanations on parking laws and provide clarification on situations where double parking is allowed or prohibited.']\n",
      "------------------------------------------------------------\n"
     ]
    },
    {
     "name": "stderr",
     "output_type": "stream",
     "text": [
      " 60%|██████    | 55/91 [27:34<17:55, 29.88s/it]"
     ]
    },
    {
     "name": "stdout",
     "output_type": "stream",
     "text": [
      "Answer: [A, C]\n",
      "------------------------------------------------------------\n",
      "using FAISS\n",
      "using chunks only\n",
      "Query: \n",
      "Actual Question: On a two-lane road, overtaking is only allowed only at the:\n",
      "A. left lane\n",
      "B. both right and left lane\n",
      "C. right lane\n",
      "Please answer only in letters and put them inside a bracket '[]'. If the question contains the statement 'Check all that apply' then add comma separator if there are multiple answers ONLY IF ALLOWED.\n",
      "Transformed: ['Retrieve information on traffic rules for overtaking and provide an answer to what lanes are allowed for overtaking, formatted as letters in brackets.', '[C], [B]']\n",
      "------------------------------------------------------------\n"
     ]
    },
    {
     "name": "stderr",
     "output_type": "stream",
     "text": [
      " 62%|██████▏   | 56/91 [28:05<17:42, 30.35s/it]"
     ]
    },
    {
     "name": "stdout",
     "output_type": "stream",
     "text": [
      "Answer: [B]\n",
      "------------------------------------------------------------\n",
      "using FAISS\n",
      "using chunks only\n",
      "Query: \n",
      "Actual Question: Which of the following hand signals must a driver give when he wants to slow down and stop?\n",
      "A. Left arm is bent at elbow, hand pointing up\n",
      "B. Left arm held straight in horizontal position\n",
      "C. Left arm held down and hand pointing at ground\n",
      "Please answer only in letters and put them inside a bracket '[]'. If the question contains the statement 'Check all that apply' then add comma separator if there are multiple answers ONLY IF ALLOWED.\n",
      "Transformed: [\"Retrieve information on driver's hand signals for slowing down and stopping.\", 'A. Left arm is bent at elbow, hand pointing up', 'B. Left arm held straight in horizontal position', 'C. Left arm held down and hand pointing at ground', \"Retrieve information on driver's hand signals for slowing down and stopping, specifically identify which one(s) are considered correct or 'must be given'.\", 'Check all that apply', \"Retrieve information on driver's hand signals for slowing down and stopping, specifically identify which one(s) are commonly used or recommended.\"]\n",
      "------------------------------------------------------------\n"
     ]
    },
    {
     "name": "stderr",
     "output_type": "stream",
     "text": [
      " 63%|██████▎   | 57/91 [28:43<18:22, 32.41s/it]"
     ]
    },
    {
     "name": "stdout",
     "output_type": "stream",
     "text": [
      "Answer: [A]\n",
      "------------------------------------------------------------\n",
      "using FAISS\n",
      "using chunks only\n",
      "Query: \n",
      "Actual Question: When oncoming vehicle (car A) deliberately crosses the centerline to pass another vehicle, you (car B) on the other lane should be:\n",
      "A. alert and be ready to slow down or stop if necessary\n",
      "B. blow your horn so he's alerted\n",
      "C. maintain your speed\n",
      "Please answer only in letters and put them inside a bracket '[]'. If the question contains the statement 'Check all that apply' then add comma separator if there are multiple answers ONLY IF ALLOWED.\n",
      "Transformed: ['Retrieve traffic safety guidelines for when another driver crosses the centerline to pass, specifically on how to respond as a defensive driver.', '[A]', 'Check all that apply', '[A], [C]']\n",
      "------------------------------------------------------------\n"
     ]
    },
    {
     "name": "stderr",
     "output_type": "stream",
     "text": [
      " 64%|██████▎   | 58/91 [29:17<18:12, 33.11s/it]"
     ]
    },
    {
     "name": "stdout",
     "output_type": "stream",
     "text": [
      "Answer: [A]\n",
      "------------------------------------------------------------\n",
      "using FAISS\n",
      "using chunks only\n",
      "Query: \n",
      "Actual Question: When two vehicles meet on a gradient road where neither car pass, which of the two must yield?\n",
      "A. The vehicle going downhill\n",
      "B. The vehicle going uphill\n",
      "C. The vehicle that honks its horn first\n",
      "Please answer only in letters and put them inside a bracket '[]'. If the question contains the statement 'Check all that apply' then add comma separator if there are multiple answers ONLY IF ALLOWED.\n",
      "Transformed: ['Retrieve traffic rules for vehicles on gradients, focus on scenarios where neither vehicle passes.', 'Retrieve information on traffic rules for vehicles on gradients, specifically answer the following questions: What happens when two vehicles meet on a gradient road where neither car passes?', 'Provide guidance on traffic rules for vehicles on gradients, including scenarios where neither vehicle passes.']\n",
      "------------------------------------------------------------\n"
     ]
    },
    {
     "name": "stderr",
     "output_type": "stream",
     "text": [
      " 65%|██████▍   | 59/91 [29:57<18:42, 35.08s/it]"
     ]
    },
    {
     "name": "stdout",
     "output_type": "stream",
     "text": [
      "Answer: [A]\n",
      "------------------------------------------------------------\n",
      "using FAISS\n",
      "using chunks only\n",
      "Query: \n",
      "Actual Question: When driving on the highway at night, you should use low beam headlights (dim lights) when:\n",
      "A. another driver dims his lights\n",
      "B. blinded by the headlights of an approaching vehicle\n",
      "C. all of the above\n",
      "Please answer only in letters and put them inside a bracket '[]'. If the question contains the statement 'Check all that apply' then add comma separator if there are multiple answers ONLY IF ALLOWED.\n",
      "Transformed: ['Retrieve information on driving safety rules for highway use at night, specifically regarding light beam usage.', '[A], [B]']\n",
      "------------------------------------------------------------\n"
     ]
    },
    {
     "name": "stderr",
     "output_type": "stream",
     "text": [
      " 66%|██████▌   | 60/91 [30:30<17:45, 34.37s/it]"
     ]
    },
    {
     "name": "stdout",
     "output_type": "stream",
     "text": [
      "Answer: [A]\n",
      "------------------------------------------------------------\n",
      "using FAISS\n",
      "using chunks only\n",
      "Query: \n",
      "Actual Question: Keeping one's distance lessens the risk of accident. One good rule is to leave a car length or:\n",
      "A. 3-second rule\n",
      "B. 4-second rule\n",
      "C. 2-second rule\n",
      "Please answer only in letters and put them inside a bracket '[]'. If the question contains the statement 'Check all that apply' then add comma separator if there are multiple answers ONLY IF ALLOWED.\n",
      "Transformed: ['Retrieve information on traffic safety rules with a focus on car length guidelines and suggest the correct options.']\n",
      "------------------------------------------------------------\n"
     ]
    },
    {
     "name": "stderr",
     "output_type": "stream",
     "text": [
      " 67%|██████▋   | 61/91 [31:06<17:25, 34.87s/it]"
     ]
    },
    {
     "name": "stdout",
     "output_type": "stream",
     "text": [
      "Answer: [A]\n",
      "------------------------------------------------------------\n",
      "using FAISS\n",
      "using chunks only\n",
      "Query: \n",
      "Actual Question: It is not a safe place to overtake in an/a:\n",
      "A. intersection and when approaching a bridge or a curve\n",
      "B. high speed road\n",
      "C. two lane road\n",
      "Please answer only in letters and put them inside a bracket '[]'. If the question contains the statement 'Check all that apply' then add comma separator if there are multiple answers ONLY IF ALLOWED.\n",
      "Transformed: ['Retrieve information on overtaking safety rules with examples, specifically focusing on identifying hazardous locations for overtaking.', '[A, C]']\n",
      "------------------------------------------------------------\n"
     ]
    },
    {
     "name": "stderr",
     "output_type": "stream",
     "text": [
      " 68%|██████▊   | 62/91 [31:40<16:43, 34.60s/it]"
     ]
    },
    {
     "name": "stdout",
     "output_type": "stream",
     "text": [
      "Answer: [A]\n",
      "------------------------------------------------------------\n",
      "using FAISS\n",
      "using chunks only\n",
      "Query: \n",
      "Actual Question: The proper hand signal for right turn is:\n",
      "A. left arm bent at elbow, hand pointing up\n",
      "B. left arm helf straight in horizontal position\n",
      "C. left arm held down and hand pointing at ground\n",
      "Please answer only in letters and put them inside a bracket '[]'. If the question contains the statement 'Check all that apply' then add comma separator if there are multiple answers ONLY IF ALLOWED.\n",
      "Transformed: ['Retrieve information on traffic signals or signs with instructions for turning right, specifically focus on hand signals and answer in letters.', '[A], [B], [C]']\n",
      "------------------------------------------------------------\n"
     ]
    },
    {
     "name": "stderr",
     "output_type": "stream",
     "text": [
      " 69%|██████▉   | 63/91 [32:13<15:53, 34.05s/it]"
     ]
    },
    {
     "name": "stdout",
     "output_type": "stream",
     "text": [
      "Answer: [A]\n",
      "------------------------------------------------------------\n",
      "using FAISS\n",
      "using chunks only\n",
      "Query: \n",
      "Actual Question: The safest thing to do even if you have the rights of using the road is:\n",
      "A. don't force your rights\n",
      "B. horn\n",
      "C. force your rights\n",
      "Please answer only in letters and put them inside a bracket '[]'. If the question contains the statement 'Check all that apply' then add comma separator if there are multiple answers ONLY IF ALLOWED.\n",
      "Transformed: ['Retrieve information on road safety rules and provide options for users to exercise their rights safely.', '[A, B]']\n",
      "------------------------------------------------------------\n"
     ]
    },
    {
     "name": "stderr",
     "output_type": "stream",
     "text": [
      " 70%|███████   | 64/91 [32:48<15:31, 34.50s/it]"
     ]
    },
    {
     "name": "stdout",
     "output_type": "stream",
     "text": [
      "Answer: [A]\n",
      "------------------------------------------------------------\n",
      "using FAISS\n",
      "using chunks only\n",
      "Query: \n",
      "Actual Question: If the vehicle's headlight in front of you is blinding your eyes, what should you do?\n",
      "A. Quickly look on the right side of the road\n",
      "B. Look at the glaring light\n",
      "C. Put your headlight on high also\n",
      "Please answer only in letters and put them inside a bracket '[]'. If the question contains the statement 'Check all that apply' then add comma separator if there are multiple answers ONLY IF ALLOWED.\n",
      "Transformed: ['Retrieve traffic safety advice and instructions for dealing with blinding headlights, specifically suggest appropriate actions to take.', 'Retrieve guidance on safely navigating through glare from other vehicle headlamps.']\n",
      "------------------------------------------------------------\n"
     ]
    },
    {
     "name": "stderr",
     "output_type": "stream",
     "text": [
      " 71%|███████▏  | 65/91 [33:21<14:42, 33.95s/it]"
     ]
    },
    {
     "name": "stdout",
     "output_type": "stream",
     "text": [
      "Answer: [A]\n",
      "------------------------------------------------------------\n",
      "using FAISS\n",
      "using chunks only\n",
      "Query: \n",
      "Actual Question: Upon approaching an intersection marked with a \"Yield\" sign, you are required to:\n",
      "A. stop before entering the intersection\n",
      "B. enter the intersection immediately\n",
      "C. slow down the enter the intersection when it is clear\n",
      "Please answer only in letters and put them inside a bracket '[]'. If the question contains the statement 'Check all that apply' then add comma separator if there are multiple answers ONLY IF ALLOWED.\n",
      "Transformed: ['Retrieve traffic rules for intersections with yield signs and provide options for approaching the intersection: A. stop before entering the intersection, B. enter the intersection immediately, C. slow down and enter the intersection when it is clear.']\n",
      "------------------------------------------------------------\n"
     ]
    },
    {
     "name": "stderr",
     "output_type": "stream",
     "text": [
      " 73%|███████▎  | 66/91 [33:51<13:43, 32.95s/it]"
     ]
    },
    {
     "name": "stdout",
     "output_type": "stream",
     "text": [
      "Answer: [A]\n",
      "------------------------------------------------------------\n",
      "using FAISS\n",
      "using chunks only\n",
      "Query: \n",
      "Actual Question: If you are driving the wrong lane, what must you do to make a turn as you enter an intersection?\n",
      "A. Make the turn as quickly as possible\n",
      "B. Bake or clutch while turning so you won't overspeeed\n",
      "C. Look behind on both sides and see if it is safe to change lane and make the turn\n",
      "Please answer only in letters and put them inside a bracket '[]'. If the question contains the statement 'Check all that apply' then add comma separator if there are multiple answers ONLY IF ALLOWED.\n",
      "Transformed: ['Retrieve information on driving safety rules, particularly when making turns at intersections, and provide guidance on what to do when entering an intersection in the wrong lane.']\n",
      "------------------------------------------------------------\n"
     ]
    },
    {
     "name": "stderr",
     "output_type": "stream",
     "text": [
      " 74%|███████▎  | 67/91 [34:23<13:04, 32.67s/it]"
     ]
    },
    {
     "name": "stdout",
     "output_type": "stream",
     "text": [
      "Answer: [A]\n",
      "------------------------------------------------------------\n",
      "using FAISS\n",
      "using chunks only\n",
      "Query: \n",
      "Actual Question: Using the shoulder of the road pass to the right of a car ahead of you is:\n",
      "A. allowed if you are turning right\n",
      "B. allowed if the car ahead is turning left\n",
      "C. against the law\n",
      "Please answer only in letters and put them inside a bracket '[]'. If the question contains the statement 'Check all that apply' then add comma separator if there are multiple answers ONLY IF ALLOWED.\n",
      "Transformed: ['Retrieve information on traffic laws and regulations regarding passing other vehicles, specifically in relation to turning maneuvers.', 'Actual Question: [Statement] Please answer only in [letters/numbers]']\n",
      "------------------------------------------------------------\n"
     ]
    },
    {
     "name": "stderr",
     "output_type": "stream",
     "text": [
      " 75%|███████▍  | 68/91 [34:54<12:16, 32.02s/it]"
     ]
    },
    {
     "name": "stdout",
     "output_type": "stream",
     "text": [
      "Answer: [A]\n",
      "------------------------------------------------------------\n",
      "using FAISS\n",
      "using chunks only\n",
      "Query: \n",
      "Actual Question: In a roundabout (rotunda), which has road rights?\n",
      "A. The vehicles facing the yellow light\n",
      "B. The vehicles already in the roundabout\n",
      "C. The vehicles approaching the roundabout\n",
      "Please answer only in letters and put them inside a bracket '[]'. If the question contains the statement 'Check all that apply' then add comma separator if there are multiple answers ONLY IF ALLOWED.\n",
      "Transformed: ['Retrieve information on road rights in roundabouts and identify which group of vehicles has priority, with examples to clarify the process.', 'Retrieve [C] vehicles approaching the roundabout.']\n",
      "------------------------------------------------------------\n"
     ]
    },
    {
     "name": "stderr",
     "output_type": "stream",
     "text": [
      " 76%|███████▌  | 69/91 [35:26<11:45, 32.06s/it]"
     ]
    },
    {
     "name": "stdout",
     "output_type": "stream",
     "text": [
      "Answer: [B]\n",
      "------------------------------------------------------------\n",
      "using FAISS\n",
      "using chunks only\n",
      "Query: \n",
      "Actual Question: If the driver is turning left, he must: (U-turn / Left Rule)\n",
      "A. have the right of way\n",
      "B. do so slowly with caution\n",
      "C. yield to approaching cars\n",
      "Please answer only in letters and put them inside a bracket '[]'. If the question contains the statement 'Check all that apply' then add comma separator if there are multiple answers ONLY IF ALLOWED.\n",
      "Transformed: ['Retrieve traffic rules for left turns and explain the relevant laws. In [A], [B], or [C]?']\n",
      "------------------------------------------------------------\n"
     ]
    },
    {
     "name": "stderr",
     "output_type": "stream",
     "text": [
      " 77%|███████▋  | 70/91 [36:00<11:26, 32.71s/it]"
     ]
    },
    {
     "name": "stdout",
     "output_type": "stream",
     "text": [
      "Answer: [B]\n",
      "------------------------------------------------------------\n",
      "using FAISS\n",
      "using chunks only\n",
      "Query: \n",
      "Actual Question: You may not cross a single broken white or yellow line:\n",
      "A. whent urning left into a driveway\n",
      "B. when passing to the right on a one-way street\n",
      "C. when to do so would interfene with traffic\n",
      "Please answer only in letters and put them inside a bracket '[]'. If the question contains the statement 'Check all that apply' then add comma separator if there are multiple answers ONLY IF ALLOWED.\n",
      "Transformed: ['Retrieve rules related to traffic signs, specifically broken white or yellow lines, with explanations of when it is allowed to cross them.', 'You may not cross a single broken white or yellow line: [A] when turning left into a driveway, [B] when passing to the right on a one-way street.']\n",
      "------------------------------------------------------------\n"
     ]
    },
    {
     "name": "stderr",
     "output_type": "stream",
     "text": [
      " 77%|███████▋  | 70/91 [36:32<10:57, 31.32s/it]\n"
     ]
    },
    {
     "ename": "RemoteProtocolError",
     "evalue": "Server disconnected without sending a response.",
     "output_type": "error",
     "traceback": [
      "\u001b[1;31m---------------------------------------------------------------------------\u001b[0m",
      "\u001b[1;31mRemoteProtocolError\u001b[0m                       Traceback (most recent call last)",
      "File \u001b[1;32mc:\\Users\\LEGION\\anaconda3\\Lib\\site-packages\\httpx\\_transports\\default.py:72\u001b[0m, in \u001b[0;36mmap_httpcore_exceptions\u001b[1;34m()\u001b[0m\n\u001b[0;32m     71\u001b[0m \u001b[38;5;28;01mtry\u001b[39;00m:\n\u001b[1;32m---> 72\u001b[0m     \u001b[38;5;28;01myield\u001b[39;00m\n\u001b[0;32m     73\u001b[0m \u001b[38;5;28;01mexcept\u001b[39;00m \u001b[38;5;167;01mException\u001b[39;00m \u001b[38;5;28;01mas\u001b[39;00m exc:\n",
      "File \u001b[1;32mc:\\Users\\LEGION\\anaconda3\\Lib\\site-packages\\httpx\\_transports\\default.py:236\u001b[0m, in \u001b[0;36mHTTPTransport.handle_request\u001b[1;34m(self, request)\u001b[0m\n\u001b[0;32m    235\u001b[0m \u001b[38;5;28;01mwith\u001b[39;00m map_httpcore_exceptions():\n\u001b[1;32m--> 236\u001b[0m     resp \u001b[38;5;241m=\u001b[39m \u001b[38;5;28;43mself\u001b[39;49m\u001b[38;5;241;43m.\u001b[39;49m\u001b[43m_pool\u001b[49m\u001b[38;5;241;43m.\u001b[39;49m\u001b[43mhandle_request\u001b[49m\u001b[43m(\u001b[49m\u001b[43mreq\u001b[49m\u001b[43m)\u001b[49m\n\u001b[0;32m    238\u001b[0m \u001b[38;5;28;01massert\u001b[39;00m \u001b[38;5;28misinstance\u001b[39m(resp\u001b[38;5;241m.\u001b[39mstream, typing\u001b[38;5;241m.\u001b[39mIterable)\n",
      "File \u001b[1;32mc:\\Users\\LEGION\\anaconda3\\Lib\\site-packages\\httpcore\\_sync\\connection_pool.py:216\u001b[0m, in \u001b[0;36mConnectionPool.handle_request\u001b[1;34m(self, request)\u001b[0m\n\u001b[0;32m    215\u001b[0m     \u001b[38;5;28mself\u001b[39m\u001b[38;5;241m.\u001b[39m_close_connections(closing)\n\u001b[1;32m--> 216\u001b[0m     \u001b[38;5;28;01mraise\u001b[39;00m exc \u001b[38;5;28;01mfrom\u001b[39;00m \u001b[38;5;28;01mNone\u001b[39;00m\n\u001b[0;32m    218\u001b[0m \u001b[38;5;66;03m# Return the response. Note that in this case we still have to manage\u001b[39;00m\n\u001b[0;32m    219\u001b[0m \u001b[38;5;66;03m# the point at which the response is closed.\u001b[39;00m\n",
      "File \u001b[1;32mc:\\Users\\LEGION\\anaconda3\\Lib\\site-packages\\httpcore\\_sync\\connection_pool.py:196\u001b[0m, in \u001b[0;36mConnectionPool.handle_request\u001b[1;34m(self, request)\u001b[0m\n\u001b[0;32m    194\u001b[0m \u001b[38;5;28;01mtry\u001b[39;00m:\n\u001b[0;32m    195\u001b[0m     \u001b[38;5;66;03m# Send the request on the assigned connection.\u001b[39;00m\n\u001b[1;32m--> 196\u001b[0m     response \u001b[38;5;241m=\u001b[39m \u001b[43mconnection\u001b[49m\u001b[38;5;241;43m.\u001b[39;49m\u001b[43mhandle_request\u001b[49m\u001b[43m(\u001b[49m\n\u001b[0;32m    197\u001b[0m \u001b[43m        \u001b[49m\u001b[43mpool_request\u001b[49m\u001b[38;5;241;43m.\u001b[39;49m\u001b[43mrequest\u001b[49m\n\u001b[0;32m    198\u001b[0m \u001b[43m    \u001b[49m\u001b[43m)\u001b[49m\n\u001b[0;32m    199\u001b[0m \u001b[38;5;28;01mexcept\u001b[39;00m ConnectionNotAvailable:\n\u001b[0;32m    200\u001b[0m     \u001b[38;5;66;03m# In some cases a connection may initially be available to\u001b[39;00m\n\u001b[0;32m    201\u001b[0m     \u001b[38;5;66;03m# handle a request, but then become unavailable.\u001b[39;00m\n\u001b[0;32m    202\u001b[0m     \u001b[38;5;66;03m#\u001b[39;00m\n\u001b[0;32m    203\u001b[0m     \u001b[38;5;66;03m# In this case we clear the connection and try again.\u001b[39;00m\n",
      "File \u001b[1;32mc:\\Users\\LEGION\\anaconda3\\Lib\\site-packages\\httpcore\\_sync\\connection.py:101\u001b[0m, in \u001b[0;36mHTTPConnection.handle_request\u001b[1;34m(self, request)\u001b[0m\n\u001b[0;32m     99\u001b[0m     \u001b[38;5;28;01mraise\u001b[39;00m exc\n\u001b[1;32m--> 101\u001b[0m \u001b[38;5;28;01mreturn\u001b[39;00m \u001b[38;5;28;43mself\u001b[39;49m\u001b[38;5;241;43m.\u001b[39;49m\u001b[43m_connection\u001b[49m\u001b[38;5;241;43m.\u001b[39;49m\u001b[43mhandle_request\u001b[49m\u001b[43m(\u001b[49m\u001b[43mrequest\u001b[49m\u001b[43m)\u001b[49m\n",
      "File \u001b[1;32mc:\\Users\\LEGION\\anaconda3\\Lib\\site-packages\\httpcore\\_sync\\http11.py:143\u001b[0m, in \u001b[0;36mHTTP11Connection.handle_request\u001b[1;34m(self, request)\u001b[0m\n\u001b[0;32m    142\u001b[0m         \u001b[38;5;28mself\u001b[39m\u001b[38;5;241m.\u001b[39m_response_closed()\n\u001b[1;32m--> 143\u001b[0m \u001b[38;5;28;01mraise\u001b[39;00m exc\n",
      "File \u001b[1;32mc:\\Users\\LEGION\\anaconda3\\Lib\\site-packages\\httpcore\\_sync\\http11.py:113\u001b[0m, in \u001b[0;36mHTTP11Connection.handle_request\u001b[1;34m(self, request)\u001b[0m\n\u001b[0;32m    104\u001b[0m \u001b[38;5;28;01mwith\u001b[39;00m Trace(\n\u001b[0;32m    105\u001b[0m     \u001b[38;5;124m\"\u001b[39m\u001b[38;5;124mreceive_response_headers\u001b[39m\u001b[38;5;124m\"\u001b[39m, logger, request, kwargs\n\u001b[0;32m    106\u001b[0m ) \u001b[38;5;28;01mas\u001b[39;00m trace:\n\u001b[0;32m    107\u001b[0m     (\n\u001b[0;32m    108\u001b[0m         http_version,\n\u001b[0;32m    109\u001b[0m         status,\n\u001b[0;32m    110\u001b[0m         reason_phrase,\n\u001b[0;32m    111\u001b[0m         headers,\n\u001b[0;32m    112\u001b[0m         trailing_data,\n\u001b[1;32m--> 113\u001b[0m     ) \u001b[38;5;241m=\u001b[39m \u001b[38;5;28;43mself\u001b[39;49m\u001b[38;5;241;43m.\u001b[39;49m\u001b[43m_receive_response_headers\u001b[49m\u001b[43m(\u001b[49m\u001b[38;5;241;43m*\u001b[39;49m\u001b[38;5;241;43m*\u001b[39;49m\u001b[43mkwargs\u001b[49m\u001b[43m)\u001b[49m\n\u001b[0;32m    114\u001b[0m     trace\u001b[38;5;241m.\u001b[39mreturn_value \u001b[38;5;241m=\u001b[39m (\n\u001b[0;32m    115\u001b[0m         http_version,\n\u001b[0;32m    116\u001b[0m         status,\n\u001b[0;32m    117\u001b[0m         reason_phrase,\n\u001b[0;32m    118\u001b[0m         headers,\n\u001b[0;32m    119\u001b[0m     )\n",
      "File \u001b[1;32mc:\\Users\\LEGION\\anaconda3\\Lib\\site-packages\\httpcore\\_sync\\http11.py:186\u001b[0m, in \u001b[0;36mHTTP11Connection._receive_response_headers\u001b[1;34m(self, request)\u001b[0m\n\u001b[0;32m    185\u001b[0m \u001b[38;5;28;01mwhile\u001b[39;00m \u001b[38;5;28;01mTrue\u001b[39;00m:\n\u001b[1;32m--> 186\u001b[0m     event \u001b[38;5;241m=\u001b[39m \u001b[38;5;28;43mself\u001b[39;49m\u001b[38;5;241;43m.\u001b[39;49m\u001b[43m_receive_event\u001b[49m\u001b[43m(\u001b[49m\u001b[43mtimeout\u001b[49m\u001b[38;5;241;43m=\u001b[39;49m\u001b[43mtimeout\u001b[49m\u001b[43m)\u001b[49m\n\u001b[0;32m    187\u001b[0m     \u001b[38;5;28;01mif\u001b[39;00m \u001b[38;5;28misinstance\u001b[39m(event, h11\u001b[38;5;241m.\u001b[39mResponse):\n",
      "File \u001b[1;32mc:\\Users\\LEGION\\anaconda3\\Lib\\site-packages\\httpcore\\_sync\\http11.py:238\u001b[0m, in \u001b[0;36mHTTP11Connection._receive_event\u001b[1;34m(self, timeout)\u001b[0m\n\u001b[0;32m    237\u001b[0m     msg \u001b[38;5;241m=\u001b[39m \u001b[38;5;124m\"\u001b[39m\u001b[38;5;124mServer disconnected without sending a response.\u001b[39m\u001b[38;5;124m\"\u001b[39m\n\u001b[1;32m--> 238\u001b[0m     \u001b[38;5;28;01mraise\u001b[39;00m RemoteProtocolError(msg)\n\u001b[0;32m    240\u001b[0m \u001b[38;5;28mself\u001b[39m\u001b[38;5;241m.\u001b[39m_h11_state\u001b[38;5;241m.\u001b[39mreceive_data(data)\n",
      "\u001b[1;31mRemoteProtocolError\u001b[0m: Server disconnected without sending a response.",
      "\nThe above exception was the direct cause of the following exception:\n",
      "\u001b[1;31mRemoteProtocolError\u001b[0m                       Traceback (most recent call last)",
      "Cell \u001b[1;32mIn[96], line 5\u001b[0m\n\u001b[0;32m      3\u001b[0m ai_answer \u001b[38;5;241m=\u001b[39m []\n\u001b[0;32m      4\u001b[0m \u001b[38;5;28;01mfor\u001b[39;00m i \u001b[38;5;129;01min\u001b[39;00m tqdm(\u001b[38;5;28mrange\u001b[39m(\u001b[38;5;241m*\u001b[39mqr_range)):\n\u001b[1;32m----> 5\u001b[0m     ai_answer\u001b[38;5;241m.\u001b[39mappend(\u001b[43mgen_query\u001b[49m\u001b[43m(\u001b[49m\u001b[43mdf\u001b[49m\u001b[38;5;241;43m.\u001b[39;49m\u001b[43mloc\u001b[49m\u001b[43m[\u001b[49m\u001b[43mi\u001b[49m\u001b[43m,\u001b[49m\u001b[38;5;124;43m\"\u001b[39;49m\u001b[38;5;124;43mPrompt\u001b[39;49m\u001b[38;5;124;43m\"\u001b[39;49m\u001b[43m]\u001b[49m\u001b[43m,\u001b[49m\u001b[43m \u001b[49m\u001b[43mtop_k\u001b[49m\u001b[38;5;241;43m=\u001b[39;49m\u001b[38;5;241;43m15\u001b[39;49m\u001b[43m,\u001b[49m\u001b[43m \u001b[49m\u001b[43mclient\u001b[49m\u001b[38;5;241;43m=\u001b[39;49m\u001b[43mclient\u001b[49m\u001b[43m,\u001b[49m\u001b[43m \u001b[49m\u001b[43mmode\u001b[49m\u001b[38;5;241;43m=\u001b[39;49m\u001b[38;5;124;43m'\u001b[39;49m\u001b[38;5;124;43mdense\u001b[39;49m\u001b[38;5;124;43m'\u001b[39;49m\u001b[43m,\u001b[49m\u001b[43m \u001b[49m\u001b[43mmodel\u001b[49m\u001b[38;5;241;43m=\u001b[39;49m\u001b[38;5;124;43m\"\u001b[39;49m\u001b[38;5;124;43mllama3.1:8b\u001b[39;49m\u001b[38;5;124;43m\"\u001b[39;49m\u001b[43m,\u001b[49m\u001b[43mchunks_only\u001b[49m\u001b[38;5;241;43m=\u001b[39;49m\u001b[38;5;28;43;01mTrue\u001b[39;49;00m\u001b[43m \u001b[49m\u001b[43m)\u001b[49m)\n\u001b[0;32m      7\u001b[0m df\u001b[38;5;241m.\u001b[39mloc[qr_range[\u001b[38;5;241m0\u001b[39m]:qr_range[\u001b[38;5;241m1\u001b[39m]\u001b[38;5;241m-\u001b[39m\u001b[38;5;241m1\u001b[39m, \u001b[38;5;124m\"\u001b[39m\u001b[38;5;124mAI\u001b[39m\u001b[38;5;124m\"\u001b[39m] \u001b[38;5;241m=\u001b[39m [answ[\u001b[38;5;241m0\u001b[39m] \u001b[38;5;28;01mfor\u001b[39;00m answ \u001b[38;5;129;01min\u001b[39;00m ai_answer]\n\u001b[0;32m      8\u001b[0m df\u001b[38;5;241m.\u001b[39mloc[qr_range[\u001b[38;5;241m0\u001b[39m]:qr_range[\u001b[38;5;241m1\u001b[39m]\u001b[38;5;241m-\u001b[39m\u001b[38;5;241m1\u001b[39m, [\u001b[38;5;124m\"\u001b[39m\u001b[38;5;124mQuestion\u001b[39m\u001b[38;5;124m\"\u001b[39m,\u001b[38;5;124m\"\u001b[39m\u001b[38;5;124mAnswer\u001b[39m\u001b[38;5;124m\"\u001b[39m,\u001b[38;5;124m\"\u001b[39m\u001b[38;5;124mAI\u001b[39m\u001b[38;5;124m\"\u001b[39m]]\n",
      "Cell \u001b[1;32mIn[95], line 51\u001b[0m, in \u001b[0;36mgen_query\u001b[1;34m(query, top_k, client, mode, summary, model, chunks_only)\u001b[0m\n\u001b[0;32m     46\u001b[0m instruction \u001b[38;5;241m=\u001b[39m cot_qa_format(query, context,client, model\u001b[38;5;241m=\u001b[39m\u001b[38;5;124m'\u001b[39m\u001b[38;5;124mllama3.2:latest\u001b[39m\u001b[38;5;124m'\u001b[39m)\n\u001b[0;32m     47\u001b[0m \u001b[38;5;66;03m# print(f\"context: {instruction}\")\u001b[39;00m\n\u001b[0;32m     48\u001b[0m \u001b[38;5;66;03m# print(f\"instruction: {instruction}\")\u001b[39;00m\n\u001b[0;32m     49\u001b[0m \u001b[38;5;66;03m# answer = generate_response_with_notice(instruction, client, model=model)\u001b[39;00m\n\u001b[1;32m---> 51\u001b[0m answer \u001b[38;5;241m=\u001b[39m \u001b[43mgenerate_response_with_notice\u001b[49m\u001b[43m(\u001b[49m\u001b[43mquery\u001b[49m\u001b[43m,\u001b[49m\u001b[43m \u001b[49m\u001b[43mclient\u001b[49m\u001b[43m,\u001b[49m\u001b[43m \u001b[49m\u001b[43mmodel\u001b[49m\u001b[38;5;241;43m=\u001b[39;49m\u001b[43mmodel\u001b[49m\u001b[43m)\u001b[49m\n\u001b[0;32m     52\u001b[0m \u001b[38;5;66;03m# print(f\"Query: {query}\")\u001b[39;00m\n\u001b[0;32m     53\u001b[0m \u001b[38;5;28mprint\u001b[39m(\u001b[38;5;124mf\u001b[39m\u001b[38;5;124m\"\u001b[39m\u001b[38;5;124mAnswer: \u001b[39m\u001b[38;5;132;01m{\u001b[39;00manswer\u001b[38;5;132;01m}\u001b[39;00m\u001b[38;5;124m\"\u001b[39m)\n",
      "Cell \u001b[1;32mIn[37], line 14\u001b[0m, in \u001b[0;36mgenerate_response_with_notice\u001b[1;34m(processed_query, client, model)\u001b[0m\n\u001b[0;32m      6\u001b[0m prompt \u001b[38;5;241m=\u001b[39m \u001b[38;5;124mf\u001b[39m\u001b[38;5;124m\"\"\"\u001b[39m\n\u001b[0;32m      7\u001b[0m \u001b[38;5;124mInstruction:\u001b[39m\n\u001b[0;32m      8\u001b[0m \u001b[38;5;124m\u001b[39m\u001b[38;5;132;01m{\u001b[39;00mprocessed_query\u001b[38;5;132;01m}\u001b[39;00m\n\u001b[0;32m      9\u001b[0m \u001b[38;5;124m\u001b[39m\n\u001b[0;32m     10\u001b[0m \u001b[38;5;124mResponse:\u001b[39m\n\u001b[0;32m     11\u001b[0m \u001b[38;5;124m\u001b[39m\u001b[38;5;124m\"\"\"\u001b[39m\n\u001b[0;32m     13\u001b[0m \u001b[38;5;66;03m# Send the prompt to Ollama\u001b[39;00m\n\u001b[1;32m---> 14\u001b[0m response \u001b[38;5;241m=\u001b[39m \u001b[43mclient\u001b[49m\u001b[38;5;241;43m.\u001b[39;49m\u001b[43mgenerate\u001b[49m\u001b[43m(\u001b[49m\n\u001b[0;32m     15\u001b[0m \u001b[43m    \u001b[49m\u001b[43mmodel\u001b[49m\u001b[38;5;241;43m=\u001b[39;49m\u001b[43mmodel\u001b[49m\u001b[43m,\u001b[49m\n\u001b[0;32m     16\u001b[0m \u001b[43m    \u001b[49m\u001b[43mprompt\u001b[49m\u001b[38;5;241;43m=\u001b[39;49m\u001b[43mprompt\u001b[49m\n\u001b[0;32m     17\u001b[0m \u001b[43m\u001b[49m\u001b[43m)\u001b[49m\n\u001b[0;32m     19\u001b[0m \u001b[38;5;28;01mreturn\u001b[39;00m response[\u001b[38;5;124m'\u001b[39m\u001b[38;5;124mresponse\u001b[39m\u001b[38;5;124m'\u001b[39m]\u001b[38;5;241m.\u001b[39mstrip()\n",
      "File \u001b[1;32mc:\\Users\\LEGION\\anaconda3\\Lib\\site-packages\\ollama\\_client.py:241\u001b[0m, in \u001b[0;36mClient.generate\u001b[1;34m(self, model, prompt, suffix, system, template, context, stream, raw, format, images, options, keep_alive)\u001b[0m\n\u001b[0;32m    215\u001b[0m \u001b[38;5;28;01mdef\u001b[39;00m \u001b[38;5;21mgenerate\u001b[39m(\n\u001b[0;32m    216\u001b[0m   \u001b[38;5;28mself\u001b[39m,\n\u001b[0;32m    217\u001b[0m   model: \u001b[38;5;28mstr\u001b[39m \u001b[38;5;241m=\u001b[39m \u001b[38;5;124m'\u001b[39m\u001b[38;5;124m'\u001b[39m,\n\u001b[1;32m   (...)\u001b[0m\n\u001b[0;32m    229\u001b[0m   keep_alive: Optional[Union[\u001b[38;5;28mfloat\u001b[39m, \u001b[38;5;28mstr\u001b[39m]] \u001b[38;5;241m=\u001b[39m \u001b[38;5;28;01mNone\u001b[39;00m,\n\u001b[0;32m    230\u001b[0m ) \u001b[38;5;241m-\u001b[39m\u001b[38;5;241m>\u001b[39m Union[GenerateResponse, Iterator[GenerateResponse]]:\n\u001b[0;32m    231\u001b[0m \u001b[38;5;250m  \u001b[39m\u001b[38;5;124;03m\"\"\"\u001b[39;00m\n\u001b[0;32m    232\u001b[0m \u001b[38;5;124;03m  Create a response using the requested model.\u001b[39;00m\n\u001b[0;32m    233\u001b[0m \n\u001b[1;32m   (...)\u001b[0m\n\u001b[0;32m    238\u001b[0m \u001b[38;5;124;03m  Returns `GenerateResponse` if `stream` is `False`, otherwise returns a `GenerateResponse` generator.\u001b[39;00m\n\u001b[0;32m    239\u001b[0m \u001b[38;5;124;03m  \"\"\"\u001b[39;00m\n\u001b[1;32m--> 241\u001b[0m   \u001b[38;5;28;01mreturn\u001b[39;00m \u001b[38;5;28;43mself\u001b[39;49m\u001b[38;5;241;43m.\u001b[39;49m\u001b[43m_request\u001b[49m\u001b[43m(\u001b[49m\n\u001b[0;32m    242\u001b[0m \u001b[43m    \u001b[49m\u001b[43mGenerateResponse\u001b[49m\u001b[43m,\u001b[49m\n\u001b[0;32m    243\u001b[0m \u001b[43m    \u001b[49m\u001b[38;5;124;43m'\u001b[39;49m\u001b[38;5;124;43mPOST\u001b[39;49m\u001b[38;5;124;43m'\u001b[39;49m\u001b[43m,\u001b[49m\n\u001b[0;32m    244\u001b[0m \u001b[43m    \u001b[49m\u001b[38;5;124;43m'\u001b[39;49m\u001b[38;5;124;43m/api/generate\u001b[39;49m\u001b[38;5;124;43m'\u001b[39;49m\u001b[43m,\u001b[49m\n\u001b[0;32m    245\u001b[0m \u001b[43m    \u001b[49m\u001b[43mjson\u001b[49m\u001b[38;5;241;43m=\u001b[39;49m\u001b[43mGenerateRequest\u001b[49m\u001b[43m(\u001b[49m\n\u001b[0;32m    246\u001b[0m \u001b[43m      \u001b[49m\u001b[43mmodel\u001b[49m\u001b[38;5;241;43m=\u001b[39;49m\u001b[43mmodel\u001b[49m\u001b[43m,\u001b[49m\n\u001b[0;32m    247\u001b[0m \u001b[43m      \u001b[49m\u001b[43mprompt\u001b[49m\u001b[38;5;241;43m=\u001b[39;49m\u001b[43mprompt\u001b[49m\u001b[43m,\u001b[49m\n\u001b[0;32m    248\u001b[0m \u001b[43m      \u001b[49m\u001b[43msuffix\u001b[49m\u001b[38;5;241;43m=\u001b[39;49m\u001b[43msuffix\u001b[49m\u001b[43m,\u001b[49m\n\u001b[0;32m    249\u001b[0m \u001b[43m      \u001b[49m\u001b[43msystem\u001b[49m\u001b[38;5;241;43m=\u001b[39;49m\u001b[43msystem\u001b[49m\u001b[43m,\u001b[49m\n\u001b[0;32m    250\u001b[0m \u001b[43m      \u001b[49m\u001b[43mtemplate\u001b[49m\u001b[38;5;241;43m=\u001b[39;49m\u001b[43mtemplate\u001b[49m\u001b[43m,\u001b[49m\n\u001b[0;32m    251\u001b[0m \u001b[43m      \u001b[49m\u001b[43mcontext\u001b[49m\u001b[38;5;241;43m=\u001b[39;49m\u001b[43mcontext\u001b[49m\u001b[43m,\u001b[49m\n\u001b[0;32m    252\u001b[0m \u001b[43m      \u001b[49m\u001b[43mstream\u001b[49m\u001b[38;5;241;43m=\u001b[39;49m\u001b[43mstream\u001b[49m\u001b[43m,\u001b[49m\n\u001b[0;32m    253\u001b[0m \u001b[43m      \u001b[49m\u001b[43mraw\u001b[49m\u001b[38;5;241;43m=\u001b[39;49m\u001b[43mraw\u001b[49m\u001b[43m,\u001b[49m\n\u001b[0;32m    254\u001b[0m \u001b[43m      \u001b[49m\u001b[38;5;28;43mformat\u001b[39;49m\u001b[38;5;241;43m=\u001b[39;49m\u001b[38;5;28;43mformat\u001b[39;49m\u001b[43m,\u001b[49m\n\u001b[0;32m    255\u001b[0m \u001b[43m      \u001b[49m\u001b[43mimages\u001b[49m\u001b[38;5;241;43m=\u001b[39;49m\u001b[43m[\u001b[49m\u001b[43mImage\u001b[49m\u001b[43m(\u001b[49m\u001b[43mvalue\u001b[49m\u001b[38;5;241;43m=\u001b[39;49m\u001b[43mimage\u001b[49m\u001b[43m)\u001b[49m\u001b[43m \u001b[49m\u001b[38;5;28;43;01mfor\u001b[39;49;00m\u001b[43m \u001b[49m\u001b[43mimage\u001b[49m\u001b[43m \u001b[49m\u001b[38;5;129;43;01min\u001b[39;49;00m\u001b[43m \u001b[49m\u001b[43mimages\u001b[49m\u001b[43m]\u001b[49m\u001b[43m \u001b[49m\u001b[38;5;28;43;01mif\u001b[39;49;00m\u001b[43m \u001b[49m\u001b[43mimages\u001b[49m\u001b[43m \u001b[49m\u001b[38;5;28;43;01melse\u001b[39;49;00m\u001b[43m \u001b[49m\u001b[38;5;28;43;01mNone\u001b[39;49;00m\u001b[43m,\u001b[49m\n\u001b[0;32m    256\u001b[0m \u001b[43m      \u001b[49m\u001b[43moptions\u001b[49m\u001b[38;5;241;43m=\u001b[39;49m\u001b[43moptions\u001b[49m\u001b[43m,\u001b[49m\n\u001b[0;32m    257\u001b[0m \u001b[43m      \u001b[49m\u001b[43mkeep_alive\u001b[49m\u001b[38;5;241;43m=\u001b[39;49m\u001b[43mkeep_alive\u001b[49m\u001b[43m,\u001b[49m\n\u001b[0;32m    258\u001b[0m \u001b[43m    \u001b[49m\u001b[43m)\u001b[49m\u001b[38;5;241;43m.\u001b[39;49m\u001b[43mmodel_dump\u001b[49m\u001b[43m(\u001b[49m\u001b[43mexclude_none\u001b[49m\u001b[38;5;241;43m=\u001b[39;49m\u001b[38;5;28;43;01mTrue\u001b[39;49;00m\u001b[43m)\u001b[49m\u001b[43m,\u001b[49m\n\u001b[0;32m    259\u001b[0m \u001b[43m    \u001b[49m\u001b[43mstream\u001b[49m\u001b[38;5;241;43m=\u001b[39;49m\u001b[43mstream\u001b[49m\u001b[43m,\u001b[49m\n\u001b[0;32m    260\u001b[0m \u001b[43m  \u001b[49m\u001b[43m)\u001b[49m\n",
      "File \u001b[1;32mc:\\Users\\LEGION\\anaconda3\\Lib\\site-packages\\ollama\\_client.py:177\u001b[0m, in \u001b[0;36mClient._request\u001b[1;34m(self, cls, stream, *args, **kwargs)\u001b[0m\n\u001b[0;32m    173\u001b[0m         \u001b[38;5;28;01myield\u001b[39;00m \u001b[38;5;28mcls\u001b[39m(\u001b[38;5;241m*\u001b[39m\u001b[38;5;241m*\u001b[39mpart)\n\u001b[0;32m    175\u001b[0m   \u001b[38;5;28;01mreturn\u001b[39;00m inner()\n\u001b[1;32m--> 177\u001b[0m \u001b[38;5;28;01mreturn\u001b[39;00m \u001b[38;5;28mcls\u001b[39m(\u001b[38;5;241m*\u001b[39m\u001b[38;5;241m*\u001b[39m\u001b[38;5;28;43mself\u001b[39;49m\u001b[38;5;241;43m.\u001b[39;49m\u001b[43m_request_raw\u001b[49m\u001b[43m(\u001b[49m\u001b[38;5;241;43m*\u001b[39;49m\u001b[43margs\u001b[49m\u001b[43m,\u001b[49m\u001b[43m \u001b[49m\u001b[38;5;241;43m*\u001b[39;49m\u001b[38;5;241;43m*\u001b[39;49m\u001b[43mkwargs\u001b[49m\u001b[43m)\u001b[49m\u001b[38;5;241m.\u001b[39mjson())\n",
      "File \u001b[1;32mc:\\Users\\LEGION\\anaconda3\\Lib\\site-packages\\ollama\\_client.py:118\u001b[0m, in \u001b[0;36mClient._request_raw\u001b[1;34m(self, *args, **kwargs)\u001b[0m\n\u001b[0;32m    117\u001b[0m \u001b[38;5;28;01mdef\u001b[39;00m \u001b[38;5;21m_request_raw\u001b[39m(\u001b[38;5;28mself\u001b[39m, \u001b[38;5;241m*\u001b[39margs, \u001b[38;5;241m*\u001b[39m\u001b[38;5;241m*\u001b[39mkwargs):\n\u001b[1;32m--> 118\u001b[0m   r \u001b[38;5;241m=\u001b[39m \u001b[38;5;28;43mself\u001b[39;49m\u001b[38;5;241;43m.\u001b[39;49m\u001b[43m_client\u001b[49m\u001b[38;5;241;43m.\u001b[39;49m\u001b[43mrequest\u001b[49m\u001b[43m(\u001b[49m\u001b[38;5;241;43m*\u001b[39;49m\u001b[43margs\u001b[49m\u001b[43m,\u001b[49m\u001b[43m \u001b[49m\u001b[38;5;241;43m*\u001b[39;49m\u001b[38;5;241;43m*\u001b[39;49m\u001b[43mkwargs\u001b[49m\u001b[43m)\u001b[49m\n\u001b[0;32m    119\u001b[0m   \u001b[38;5;28;01mtry\u001b[39;00m:\n\u001b[0;32m    120\u001b[0m     r\u001b[38;5;241m.\u001b[39mraise_for_status()\n",
      "File \u001b[1;32mc:\\Users\\LEGION\\anaconda3\\Lib\\site-packages\\httpx\\_client.py:837\u001b[0m, in \u001b[0;36mClient.request\u001b[1;34m(self, method, url, content, data, files, json, params, headers, cookies, auth, follow_redirects, timeout, extensions)\u001b[0m\n\u001b[0;32m    822\u001b[0m     warnings\u001b[38;5;241m.\u001b[39mwarn(message, \u001b[38;5;167;01mDeprecationWarning\u001b[39;00m)\n\u001b[0;32m    824\u001b[0m request \u001b[38;5;241m=\u001b[39m \u001b[38;5;28mself\u001b[39m\u001b[38;5;241m.\u001b[39mbuild_request(\n\u001b[0;32m    825\u001b[0m     method\u001b[38;5;241m=\u001b[39mmethod,\n\u001b[0;32m    826\u001b[0m     url\u001b[38;5;241m=\u001b[39murl,\n\u001b[1;32m   (...)\u001b[0m\n\u001b[0;32m    835\u001b[0m     extensions\u001b[38;5;241m=\u001b[39mextensions,\n\u001b[0;32m    836\u001b[0m )\n\u001b[1;32m--> 837\u001b[0m \u001b[38;5;28;01mreturn\u001b[39;00m \u001b[38;5;28;43mself\u001b[39;49m\u001b[38;5;241;43m.\u001b[39;49m\u001b[43msend\u001b[49m\u001b[43m(\u001b[49m\u001b[43mrequest\u001b[49m\u001b[43m,\u001b[49m\u001b[43m \u001b[49m\u001b[43mauth\u001b[49m\u001b[38;5;241;43m=\u001b[39;49m\u001b[43mauth\u001b[49m\u001b[43m,\u001b[49m\u001b[43m \u001b[49m\u001b[43mfollow_redirects\u001b[49m\u001b[38;5;241;43m=\u001b[39;49m\u001b[43mfollow_redirects\u001b[49m\u001b[43m)\u001b[49m\n",
      "File \u001b[1;32mc:\\Users\\LEGION\\anaconda3\\Lib\\site-packages\\httpx\\_client.py:926\u001b[0m, in \u001b[0;36mClient.send\u001b[1;34m(self, request, stream, auth, follow_redirects)\u001b[0m\n\u001b[0;32m    922\u001b[0m \u001b[38;5;28mself\u001b[39m\u001b[38;5;241m.\u001b[39m_set_timeout(request)\n\u001b[0;32m    924\u001b[0m auth \u001b[38;5;241m=\u001b[39m \u001b[38;5;28mself\u001b[39m\u001b[38;5;241m.\u001b[39m_build_request_auth(request, auth)\n\u001b[1;32m--> 926\u001b[0m response \u001b[38;5;241m=\u001b[39m \u001b[38;5;28;43mself\u001b[39;49m\u001b[38;5;241;43m.\u001b[39;49m\u001b[43m_send_handling_auth\u001b[49m\u001b[43m(\u001b[49m\n\u001b[0;32m    927\u001b[0m \u001b[43m    \u001b[49m\u001b[43mrequest\u001b[49m\u001b[43m,\u001b[49m\n\u001b[0;32m    928\u001b[0m \u001b[43m    \u001b[49m\u001b[43mauth\u001b[49m\u001b[38;5;241;43m=\u001b[39;49m\u001b[43mauth\u001b[49m\u001b[43m,\u001b[49m\n\u001b[0;32m    929\u001b[0m \u001b[43m    \u001b[49m\u001b[43mfollow_redirects\u001b[49m\u001b[38;5;241;43m=\u001b[39;49m\u001b[43mfollow_redirects\u001b[49m\u001b[43m,\u001b[49m\n\u001b[0;32m    930\u001b[0m \u001b[43m    \u001b[49m\u001b[43mhistory\u001b[49m\u001b[38;5;241;43m=\u001b[39;49m\u001b[43m[\u001b[49m\u001b[43m]\u001b[49m\u001b[43m,\u001b[49m\n\u001b[0;32m    931\u001b[0m \u001b[43m\u001b[49m\u001b[43m)\u001b[49m\n\u001b[0;32m    932\u001b[0m \u001b[38;5;28;01mtry\u001b[39;00m:\n\u001b[0;32m    933\u001b[0m     \u001b[38;5;28;01mif\u001b[39;00m \u001b[38;5;129;01mnot\u001b[39;00m stream:\n",
      "File \u001b[1;32mc:\\Users\\LEGION\\anaconda3\\Lib\\site-packages\\httpx\\_client.py:954\u001b[0m, in \u001b[0;36mClient._send_handling_auth\u001b[1;34m(self, request, auth, follow_redirects, history)\u001b[0m\n\u001b[0;32m    951\u001b[0m request \u001b[38;5;241m=\u001b[39m \u001b[38;5;28mnext\u001b[39m(auth_flow)\n\u001b[0;32m    953\u001b[0m \u001b[38;5;28;01mwhile\u001b[39;00m \u001b[38;5;28;01mTrue\u001b[39;00m:\n\u001b[1;32m--> 954\u001b[0m     response \u001b[38;5;241m=\u001b[39m \u001b[38;5;28;43mself\u001b[39;49m\u001b[38;5;241;43m.\u001b[39;49m\u001b[43m_send_handling_redirects\u001b[49m\u001b[43m(\u001b[49m\n\u001b[0;32m    955\u001b[0m \u001b[43m        \u001b[49m\u001b[43mrequest\u001b[49m\u001b[43m,\u001b[49m\n\u001b[0;32m    956\u001b[0m \u001b[43m        \u001b[49m\u001b[43mfollow_redirects\u001b[49m\u001b[38;5;241;43m=\u001b[39;49m\u001b[43mfollow_redirects\u001b[49m\u001b[43m,\u001b[49m\n\u001b[0;32m    957\u001b[0m \u001b[43m        \u001b[49m\u001b[43mhistory\u001b[49m\u001b[38;5;241;43m=\u001b[39;49m\u001b[43mhistory\u001b[49m\u001b[43m,\u001b[49m\n\u001b[0;32m    958\u001b[0m \u001b[43m    \u001b[49m\u001b[43m)\u001b[49m\n\u001b[0;32m    959\u001b[0m     \u001b[38;5;28;01mtry\u001b[39;00m:\n\u001b[0;32m    960\u001b[0m         \u001b[38;5;28;01mtry\u001b[39;00m:\n",
      "File \u001b[1;32mc:\\Users\\LEGION\\anaconda3\\Lib\\site-packages\\httpx\\_client.py:991\u001b[0m, in \u001b[0;36mClient._send_handling_redirects\u001b[1;34m(self, request, follow_redirects, history)\u001b[0m\n\u001b[0;32m    988\u001b[0m \u001b[38;5;28;01mfor\u001b[39;00m hook \u001b[38;5;129;01min\u001b[39;00m \u001b[38;5;28mself\u001b[39m\u001b[38;5;241m.\u001b[39m_event_hooks[\u001b[38;5;124m\"\u001b[39m\u001b[38;5;124mrequest\u001b[39m\u001b[38;5;124m\"\u001b[39m]:\n\u001b[0;32m    989\u001b[0m     hook(request)\n\u001b[1;32m--> 991\u001b[0m response \u001b[38;5;241m=\u001b[39m \u001b[38;5;28;43mself\u001b[39;49m\u001b[38;5;241;43m.\u001b[39;49m\u001b[43m_send_single_request\u001b[49m\u001b[43m(\u001b[49m\u001b[43mrequest\u001b[49m\u001b[43m)\u001b[49m\n\u001b[0;32m    992\u001b[0m \u001b[38;5;28;01mtry\u001b[39;00m:\n\u001b[0;32m    993\u001b[0m     \u001b[38;5;28;01mfor\u001b[39;00m hook \u001b[38;5;129;01min\u001b[39;00m \u001b[38;5;28mself\u001b[39m\u001b[38;5;241m.\u001b[39m_event_hooks[\u001b[38;5;124m\"\u001b[39m\u001b[38;5;124mresponse\u001b[39m\u001b[38;5;124m\"\u001b[39m]:\n",
      "File \u001b[1;32mc:\\Users\\LEGION\\anaconda3\\Lib\\site-packages\\httpx\\_client.py:1027\u001b[0m, in \u001b[0;36mClient._send_single_request\u001b[1;34m(self, request)\u001b[0m\n\u001b[0;32m   1022\u001b[0m     \u001b[38;5;28;01mraise\u001b[39;00m \u001b[38;5;167;01mRuntimeError\u001b[39;00m(\n\u001b[0;32m   1023\u001b[0m         \u001b[38;5;124m\"\u001b[39m\u001b[38;5;124mAttempted to send an async request with a sync Client instance.\u001b[39m\u001b[38;5;124m\"\u001b[39m\n\u001b[0;32m   1024\u001b[0m     )\n\u001b[0;32m   1026\u001b[0m \u001b[38;5;28;01mwith\u001b[39;00m request_context(request\u001b[38;5;241m=\u001b[39mrequest):\n\u001b[1;32m-> 1027\u001b[0m     response \u001b[38;5;241m=\u001b[39m \u001b[43mtransport\u001b[49m\u001b[38;5;241;43m.\u001b[39;49m\u001b[43mhandle_request\u001b[49m\u001b[43m(\u001b[49m\u001b[43mrequest\u001b[49m\u001b[43m)\u001b[49m\n\u001b[0;32m   1029\u001b[0m \u001b[38;5;28;01massert\u001b[39;00m \u001b[38;5;28misinstance\u001b[39m(response\u001b[38;5;241m.\u001b[39mstream, SyncByteStream)\n\u001b[0;32m   1031\u001b[0m response\u001b[38;5;241m.\u001b[39mrequest \u001b[38;5;241m=\u001b[39m request\n",
      "File \u001b[1;32mc:\\Users\\LEGION\\anaconda3\\Lib\\site-packages\\httpx\\_transports\\default.py:235\u001b[0m, in \u001b[0;36mHTTPTransport.handle_request\u001b[1;34m(self, request)\u001b[0m\n\u001b[0;32m    221\u001b[0m \u001b[38;5;28;01massert\u001b[39;00m \u001b[38;5;28misinstance\u001b[39m(request\u001b[38;5;241m.\u001b[39mstream, SyncByteStream)\n\u001b[0;32m    223\u001b[0m req \u001b[38;5;241m=\u001b[39m httpcore\u001b[38;5;241m.\u001b[39mRequest(\n\u001b[0;32m    224\u001b[0m     method\u001b[38;5;241m=\u001b[39mrequest\u001b[38;5;241m.\u001b[39mmethod,\n\u001b[0;32m    225\u001b[0m     url\u001b[38;5;241m=\u001b[39mhttpcore\u001b[38;5;241m.\u001b[39mURL(\n\u001b[1;32m   (...)\u001b[0m\n\u001b[0;32m    233\u001b[0m     extensions\u001b[38;5;241m=\u001b[39mrequest\u001b[38;5;241m.\u001b[39mextensions,\n\u001b[0;32m    234\u001b[0m )\n\u001b[1;32m--> 235\u001b[0m \u001b[43m\u001b[49m\u001b[38;5;28;43;01mwith\u001b[39;49;00m\u001b[43m \u001b[49m\u001b[43mmap_httpcore_exceptions\u001b[49m\u001b[43m(\u001b[49m\u001b[43m)\u001b[49m\u001b[43m:\u001b[49m\n\u001b[0;32m    236\u001b[0m \u001b[43m    \u001b[49m\u001b[43mresp\u001b[49m\u001b[43m \u001b[49m\u001b[38;5;241;43m=\u001b[39;49m\u001b[43m \u001b[49m\u001b[38;5;28;43mself\u001b[39;49m\u001b[38;5;241;43m.\u001b[39;49m\u001b[43m_pool\u001b[49m\u001b[38;5;241;43m.\u001b[39;49m\u001b[43mhandle_request\u001b[49m\u001b[43m(\u001b[49m\u001b[43mreq\u001b[49m\u001b[43m)\u001b[49m\n\u001b[0;32m    238\u001b[0m \u001b[38;5;28;01massert\u001b[39;00m \u001b[38;5;28misinstance\u001b[39m(resp\u001b[38;5;241m.\u001b[39mstream, typing\u001b[38;5;241m.\u001b[39mIterable)\n",
      "File \u001b[1;32mc:\\Users\\LEGION\\anaconda3\\Lib\\contextlib.py:155\u001b[0m, in \u001b[0;36m_GeneratorContextManager.__exit__\u001b[1;34m(self, typ, value, traceback)\u001b[0m\n\u001b[0;32m    153\u001b[0m     value \u001b[38;5;241m=\u001b[39m typ()\n\u001b[0;32m    154\u001b[0m \u001b[38;5;28;01mtry\u001b[39;00m:\n\u001b[1;32m--> 155\u001b[0m     \u001b[38;5;28mself\u001b[39m\u001b[38;5;241m.\u001b[39mgen\u001b[38;5;241m.\u001b[39mthrow(typ, value, traceback)\n\u001b[0;32m    156\u001b[0m \u001b[38;5;28;01mexcept\u001b[39;00m \u001b[38;5;167;01mStopIteration\u001b[39;00m \u001b[38;5;28;01mas\u001b[39;00m exc:\n\u001b[0;32m    157\u001b[0m     \u001b[38;5;66;03m# Suppress StopIteration *unless* it's the same exception that\u001b[39;00m\n\u001b[0;32m    158\u001b[0m     \u001b[38;5;66;03m# was passed to throw().  This prevents a StopIteration\u001b[39;00m\n\u001b[0;32m    159\u001b[0m     \u001b[38;5;66;03m# raised inside the \"with\" statement from being suppressed.\u001b[39;00m\n\u001b[0;32m    160\u001b[0m     \u001b[38;5;28;01mreturn\u001b[39;00m exc \u001b[38;5;129;01mis\u001b[39;00m \u001b[38;5;129;01mnot\u001b[39;00m value\n",
      "File \u001b[1;32mc:\\Users\\LEGION\\anaconda3\\Lib\\site-packages\\httpx\\_transports\\default.py:89\u001b[0m, in \u001b[0;36mmap_httpcore_exceptions\u001b[1;34m()\u001b[0m\n\u001b[0;32m     86\u001b[0m     \u001b[38;5;28;01mraise\u001b[39;00m\n\u001b[0;32m     88\u001b[0m message \u001b[38;5;241m=\u001b[39m \u001b[38;5;28mstr\u001b[39m(exc)\n\u001b[1;32m---> 89\u001b[0m \u001b[38;5;28;01mraise\u001b[39;00m mapped_exc(message) \u001b[38;5;28;01mfrom\u001b[39;00m \u001b[38;5;21;01mexc\u001b[39;00m\n",
      "\u001b[1;31mRemoteProtocolError\u001b[0m: Server disconnected without sending a response."
     ]
    }
   ],
   "source": [
    "qr_range = (0,91)\n",
    "df[\"AI\"] = np.nan\n",
    "ai_answer = []\n",
    "for i in tqdm(range(*qr_range)):\n",
    "    ai_answer.append(gen_query(df.loc[i,\"Prompt\"], top_k=15, client=client, mode='dense', model=\"llama3.1:8b\",chunks_only=True ))\n",
    "\n",
    "df.loc[qr_range[0]:qr_range[1]-1, \"AI\"] = [answ[0] for answ in ai_answer]\n",
    "df.loc[qr_range[0]:qr_range[1]-1, [\"Question\",\"Answer\",\"AI\"]]"
   ]
  },
  {
   "cell_type": "markdown",
   "id": "52c54d24-8ff2-486a-a10e-7dcb6051b6b8",
   "metadata": {},
   "source": [
    "# Visualization"
   ]
  },
  {
   "cell_type": "code",
   "execution_count": 90,
   "id": "39d39290",
   "metadata": {},
   "outputs": [],
   "source": [
    "df[[\"Question\",\"Answer\",\"AI\"]].to_csv('results_v3_with_query_transform_model_318b.csv',index=False)"
   ]
  },
  {
   "cell_type": "code",
   "execution_count": null,
   "id": "6fbf2d1f",
   "metadata": {},
   "outputs": [],
   "source": []
  },
  {
   "cell_type": "code",
   "execution_count": 42,
   "id": "f97a9413",
   "metadata": {},
   "outputs": [
    {
     "data": {
      "text/plain": [
       "'A, C, D, E'"
      ]
     },
     "execution_count": 42,
     "metadata": {},
     "output_type": "execute_result"
    }
   ],
   "source": [
    "df['Answer'].iloc[0]"
   ]
  },
  {
   "cell_type": "code",
   "execution_count": 24,
   "id": "1edf34d9-acca-48fd-9e64-25818f148ea2",
   "metadata": {},
   "outputs": [
    {
     "name": "stdout",
     "output_type": "stream",
     "text": [
      "* Running on local URL:  http://127.0.0.1:7867\n",
      "\n",
      "To create a public link, set `share=True` in `launch()`.\n"
     ]
    },
    {
     "data": {
      "text/html": [
       "<div><iframe src=\"http://127.0.0.1:7867/\" width=\"100%\" height=\"500\" allow=\"autoplay; camera; microphone; clipboard-read; clipboard-write;\" frameborder=\"0\" allowfullscreen></iframe></div>"
      ],
      "text/plain": [
       "<IPython.core.display.HTML object>"
      ]
     },
     "metadata": {},
     "output_type": "display_data"
    },
    {
     "data": {
      "text/plain": []
     },
     "execution_count": 24,
     "metadata": {},
     "output_type": "execute_result"
    }
   ],
   "source": [
    "# Gradio interface with dynamic model, mode selection, and top_k slider\n",
    "iface = gr.Interface(\n",
    "    fn=lambda query, top_k, model, mode: gen_query(\n",
    "        query=query,\n",
    "        top_k=top_k,\n",
    "        client=client,\n",
    "        mode=mode,\n",
    "        model=model\n",
    "    ),\n",
    "    inputs=[\n",
    "        gr.Textbox(label=\"Enter your query\"),\n",
    "        gr.Slider(1, 20, value=5, step=1, label=\"Top K Results\"),  # Slider for top_k (1 to 20)\n",
    "        gr.Dropdown(\n",
    "            choices=[\"llama3.3\", \"llama3.2:latest\", \"llama3.1:8b\"],\n",
    "            value=\"llama3.3\",\n",
    "            label=\"Select Model\"\n",
    "        ),\n",
    "        gr.Dropdown(\n",
    "            choices=[\"hybrid\", \"dense\", \"sparse\"],\n",
    "            value=\"hybrid\",\n",
    "            label=\"Select Retrieval Mode\"\n",
    "        )\n",
    "    ],\n",
    "    outputs=[\n",
    "        gr.Textbox(label=\"Answer\", lines=6),\n",
    "        gr.Textbox(label=\"References\", lines=10),\n",
    "    ],\n",
    "    title=\"RAG System with LLaMA Models\",\n",
    "    description=(\n",
    "        \"Ask questions and get answers with references from PDF documents. \"\n",
    "        \"Adjust Top-K to control the number of retrieved chunks. \"\n",
    "        \"Choose different models and retrieval modes for customization.\"\n",
    "    )\n",
    ")\n",
    "\n",
    "# Launch the Gradio interface\n",
    "iface.launch()"
   ]
  },
  {
   "cell_type": "code",
   "execution_count": 23,
   "id": "eb51d73d-c162-4373-bf99-8f6d7e05eab7",
   "metadata": {},
   "outputs": [
    {
     "name": "stdout",
     "output_type": "stream",
     "text": [
      "Closing server running on port: 7867\n"
     ]
    }
   ],
   "source": [
    "# Handle closing behavior\n",
    "def on_close():\n",
    "    iface.close()\n",
    "on_close()"
   ]
  }
 ],
 "metadata": {
  "kernelspec": {
   "display_name": "base",
   "language": "python",
   "name": "python3"
  },
  "language_info": {
   "codemirror_mode": {
    "name": "ipython",
    "version": 3
   },
   "file_extension": ".py",
   "mimetype": "text/x-python",
   "name": "python",
   "nbconvert_exporter": "python",
   "pygments_lexer": "ipython3",
   "version": "3.11.5"
  }
 },
 "nbformat": 4,
 "nbformat_minor": 5
}
