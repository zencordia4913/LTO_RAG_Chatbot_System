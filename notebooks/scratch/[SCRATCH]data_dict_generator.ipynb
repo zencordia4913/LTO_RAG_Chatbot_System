{
 "cells": [
  {
   "cell_type": "code",
   "execution_count": 3,
   "id": "bf9e85fb-78e2-4120-80be-6672c0f4c440",
   "metadata": {},
   "outputs": [],
   "source": [
    "import os\n",
    "import requests\n",
    "from bs4 import BeautifulSoup\n",
    "\n",
    "# Read HTML content from file\n",
    "html_file = 'data/LTO code.html'\n",
    "with open(html_file, 'r', encoding='utf-8') as f:\n",
    "    html_content = f.read()\n",
    "\n",
    "# Parse HTML to extract PDF links and titles\n",
    "soup = BeautifulSoup(html_content, 'html.parser')\n",
    "pdf_links = []\n",
    "\n",
    "for link in soup.find_all('a', href=True):\n",
    "    href = link['href']\n",
    "    if href.endswith('.pdf'):\n",
    "        title = link.text.strip() or os.path.basename(href)\n",
    "        pdf_links.append((href, title))"
   ]
  },
  {
   "cell_type": "code",
   "execution_count": 4,
   "id": "c1537898-db17-4638-85ad-6f39fedad1da",
   "metadata": {},
   "outputs": [
    {
     "data": {
      "text/plain": [
       "1377"
      ]
     },
     "execution_count": 4,
     "metadata": {},
     "output_type": "execute_result"
    }
   ],
   "source": [
    "len(pdf_links)"
   ]
  },
  {
   "cell_type": "code",
   "execution_count": 7,
   "id": "3931c9ba-f1ab-4f6b-9533-423cc3695028",
   "metadata": {},
   "outputs": [],
   "source": [
    "# Directory to save PDFs\n",
    "output_dir = \"data/downloaded_pdfs\"\n",
    "os.makedirs(output_dir, exist_ok=True)"
   ]
  },
  {
   "cell_type": "code",
   "execution_count": 13,
   "id": "d8f595dc-a8cd-46da-806d-4476fede48ce",
   "metadata": {},
   "outputs": [],
   "source": [
    "import time"
   ]
  },
  {
   "cell_type": "code",
   "execution_count": 36,
   "id": "e541a670-a94d-44ee-b9e3-7e605f1e6007",
   "metadata": {},
   "outputs": [
    {
     "name": "stdout",
     "output_type": "stream",
     "text": [
      "<html>\n",
      "<head><title>403 Forbidden</title></head>\n",
      "<body>\n",
      "<center><h1>403 Forbidden</h1></center>\n",
      "<hr><center>Microsoft-Azure-Application-Gateway/v2</center>\n",
      "</body>\n",
      "</html>\n",
      "\n"
     ]
    }
   ],
   "source": [
    "response = requests.get(\"https://lto.gov.ph/robots.txt\")\n",
    "print(response.text)"
   ]
  },
  {
   "cell_type": "code",
   "execution_count": 1,
   "id": "7ce3df3c-1f6a-41d7-b2a0-75e18855d1f8",
   "metadata": {},
   "outputs": [],
   "source": [
    "import http.client"
   ]
  },
  {
   "cell_type": "code",
   "execution_count": 9,
   "id": "9935b295-30b6-4e51-8f92-6d9c50013c4a",
   "metadata": {},
   "outputs": [],
   "source": [
    "def download_and_extract_metadata(pdf_links):\n",
    "    headers = {\n",
    "        'User-Agent': 'Mozilla/5.0 (Windows NT 10.0; Win64; x64) AppleWebKit/537.36 (KHTML, like Gecko) Chrome/120.0.0.0 Safari/537.36',\n",
    "        'Referer': 'https://lto.gov.ph/',\n",
    "        'Origin': 'https://lto.gov.ph/',\n",
    "        'Accept-Language': 'en-US,en;q=0.9',\n",
    "        'Cache-Control': 'no-cache',\n",
    "        'Pragma': 'no-cache'\n",
    "    }\n",
    "\n",
    "    for url, title in pdf_links:\n",
    "        pdf_path = os.path.join(output_dir, f\"{title.replace('/', '_')}.pdf\")\n",
    "        try:\n",
    "            connection = http.client.HTTPSConnection(\"lto.gov.ph\")\n",
    "            connection.request(\"GET\", url.replace(\"https://lto.gov.ph\", \"\"), headers=headers)\n",
    "            response = connection.getresponse()\n",
    "\n",
    "            if response.status == 200:\n",
    "                with open(pdf_path, 'wb') as f:\n",
    "                    f.write(response.read())\n",
    "                print(f\"Downloaded: {title}.pdf\")\n",
    "\n",
    "                # Extract metadata\n",
    "                with open(pdf_path, 'rb') as f:\n",
    "                    reader = PdfReader(f)\n",
    "                    metadata = reader.metadata\n",
    "                    \n",
    "                    print(f\"Metadata for {title}.pdf:\")\n",
    "                    for key, value in metadata.items():\n",
    "                        print(f\"  {key}: {value}\")\n",
    "                    print(\"\\n\")\n",
    "            else:\n",
    "                print(f\"Failed to download {title}.pdf - Status Code: {response.status}\")\n",
    "        except Exception as e:\n",
    "            print(f\"Error downloading {title}.pdf: {str(e)}\")\n",
    "        finally:\n",
    "            connection.close()"
   ]
  },
  {
   "cell_type": "code",
   "execution_count": 5,
   "id": "a434b47f-d4e9-4a45-960d-da73b1b9c456",
   "metadata": {},
   "outputs": [
    {
     "data": {
      "text/plain": [
       "'https://lto.gov.ph/wp-content/uploads/2024/12/Memo11272024.pdf'"
      ]
     },
     "execution_count": 5,
     "metadata": {},
     "output_type": "execute_result"
    }
   ],
   "source": [
    "pdf_links[1][0]"
   ]
  },
  {
   "cell_type": "code",
   "execution_count": 10,
   "id": "857450f3-3a98-4cfe-a0b5-362ca5129b65",
   "metadata": {},
   "outputs": [
    {
     "name": "stdout",
     "output_type": "stream",
     "text": [
      "Failed to download Nationwide implementation of the online document submission facility through the LTO-IT System.pdf - Status Code: 403\n"
     ]
    }
   ],
   "source": [
    "# Run the function\n",
    "download_and_extract_metadata([pdf_links[0]])\n"
   ]
  },
  {
   "cell_type": "code",
   "execution_count": null,
   "id": "857e2be9-b9d1-48c4-beda-f919cd9d2e2a",
   "metadata": {},
   "outputs": [],
   "source": []
  }
 ],
 "metadata": {
  "kernelspec": {
   "display_name": "Python 3 (ipykernel)",
   "language": "python",
   "name": "python3"
  },
  "language_info": {
   "codemirror_mode": {
    "name": "ipython",
    "version": 3
   },
   "file_extension": ".py",
   "mimetype": "text/x-python",
   "name": "python",
   "nbconvert_exporter": "python",
   "pygments_lexer": "ipython3",
   "version": "3.10.15"
  }
 },
 "nbformat": 4,
 "nbformat_minor": 5
}
