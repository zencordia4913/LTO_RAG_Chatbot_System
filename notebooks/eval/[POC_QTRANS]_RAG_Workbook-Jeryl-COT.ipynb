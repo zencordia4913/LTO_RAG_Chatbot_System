{
 "cells": [
  {
   "cell_type": "code",
   "execution_count": 5,
   "id": "dfdd288c-537b-42e6-b104-2854e99b4a1c",
   "metadata": {},
   "outputs": [],
   "source": [
    "import os\n",
    "import fitz\n",
    "import re\n",
    "\n",
    "from ollama import Client\n",
    "import faiss\n",
    "import pandas as pd\n",
    "import numpy as np\n",
    "import Stemmer\n",
    "from tqdm import tqdm\n",
    "import gradio as gr\n",
    "\n",
    "from llama_index.core import Document\n",
    "from llama_index.core.node_parser import TokenTextSplitter\n",
    "from llama_index.core.retrievers import BaseRetriever, QueryFusionRetriever\n",
    "from llama_index.core.schema import TextNode, NodeWithScore\n",
    "from llama_index.retrievers.bm25 import BM25Retriever"
   ]
  },
  {
   "cell_type": "markdown",
   "id": "2f3d9123-5c2e-4718-8edd-d0bfafed09e8",
   "metadata": {},
   "source": [
    "# Connect to Ollama Server"
   ]
  },
  {
   "cell_type": "code",
   "execution_count": 6,
   "id": "8071a997-f081-4da8-b440-6d66bf4cb4a7",
   "metadata": {},
   "outputs": [],
   "source": [
    "client = Client(\n",
    "  host='http://localhost:11434',\n",
    ")"
   ]
  },
  {
   "cell_type": "markdown",
   "id": "52836262-9e16-4df3-b71f-70b78b2b2700",
   "metadata": {},
   "source": [
    "# Ingestion"
   ]
  },
  {
   "cell_type": "code",
   "execution_count": 7,
   "id": "4d170a76-1ddf-47b4-b98d-db30470f9d83",
   "metadata": {},
   "outputs": [],
   "source": [
    "import json\n",
    "# Path to the dataset folder\n",
    "DATASET_PATH = '/home/jeryl4913/lto_rag_reviewer/notebooks/extracted_text.json'\n",
    "\n",
    "def get_text_and_metadata(input_path):\n",
    "    \"\"\"Load text and metadata from a file and perform chunking.\"\"\"\n",
    "    with open(input_path, \"r\", encoding=\"utf-8\") as f:\n",
    "        extracted_data = json.load(f)\n",
    "\n",
    "    texts = []\n",
    "    metadata = []\n",
    "\n",
    "    for entry in extracted_data:\n",
    "        text = entry[\"text\"]\n",
    "        source_metadata = {\n",
    "            \"source\": entry[\"source\"],\n",
    "            \"folder\": entry[\"folder\"],\n",
    "            \"file_name\": entry[\"file_name\"],\n",
    "            \"page\": entry[\"page\"],\n",
    "            \"title\": entry[\"title\"],\n",
    "            \"url\": entry[\"url\"]\n",
    "        }\n",
    "        texts.append(text)\n",
    "        metadata.append(source_metadata)\n",
    "\n",
    "    return texts, metadata"
   ]
  },
  {
   "cell_type": "code",
   "execution_count": 8,
   "id": "3d7bfd8a-c6a2-4764-9212-17c667cd89be",
   "metadata": {},
   "outputs": [],
   "source": [
    "docs, metadatas = get_text_and_metadata(DATASET_PATH)"
   ]
  },
  {
   "cell_type": "code",
   "execution_count": 9,
   "id": "b8204706-6e7e-4f7e-956b-4e545708392e",
   "metadata": {},
   "outputs": [],
   "source": [
    "documents = [Document(text=docs[t], metadata=metadatas[t]) for t in range(len(docs))]\n",
    "splitter = TokenTextSplitter(\n",
    "    chunk_size=512,\n",
    "    chunk_overlap=20,\n",
    "    separator=\" \",\n",
    ")\n",
    "nodes = splitter.get_nodes_from_documents(documents)"
   ]
  },
  {
   "cell_type": "markdown",
   "id": "f4fa1758-fbf6-48af-85bc-f7a0b17f85aa",
   "metadata": {},
   "source": [
    "# Embedding and Retrieval"
   ]
  },
  {
   "cell_type": "markdown",
   "id": "40e51b7d-edf5-457d-aac2-432dcfd56eb2",
   "metadata": {},
   "source": [
    "## Dense via FAISS"
   ]
  },
  {
   "cell_type": "code",
   "execution_count": 10,
   "id": "cc4cbd59-450d-449d-a269-e34941782d19",
   "metadata": {},
   "outputs": [],
   "source": [
    "def generate_embeddings(nodes, client, model):\n",
    "    # Generate embeddings for documents using Ollama\n",
    "    for doc in tqdm(nodes):\n",
    "        response = client.embeddings(prompt=doc.text, model=model)\n",
    "        doc.embedding = response[\"embedding\"]\n",
    "    return nodes"
   ]
  },
  {
   "cell_type": "code",
   "execution_count": 11,
   "id": "f1f0ad81-9986-4369-b4eb-32160fcef31a",
   "metadata": {},
   "outputs": [],
   "source": [
    "class FaissIndexer:\n",
    "    \"\"\"\n",
    "    Faiss-based indexer for efficient similarity search using inner-product (cosine) similarity.\n",
    "\n",
    "    This class handles the creation and management of a FAISS index from node embeddings.\n",
    "    \n",
    "    :ivar faiss_index: The FAISS index for storing and querying embeddings.\n",
    "    :vartype faiss_index: faiss.IndexFlatIP\n",
    "    :ivar embedding_dim: Dimensionality of the embeddings.\n",
    "    :vartype embedding_dim: int\n",
    "    \"\"\"\n",
    "\n",
    "    def __init__(self):\n",
    "        \"\"\"\n",
    "        Initialize the FaissIndexer class.\n",
    "\n",
    "        :ivar faiss_index: The FAISS index, initialized as None.\n",
    "        :ivar embedding_dim: The dimension of embeddings, initialized as None.\n",
    "        \"\"\"\n",
    "        self.faiss_index = None\n",
    "        self.embedding_dim = None\n",
    "\n",
    "    def normalize_embeddings(self, embeddings):\n",
    "        \"\"\"\n",
    "        Normalize embeddings to have unit L2 norm.\n",
    "\n",
    "        :param embeddings: Array of embeddings to normalize.\n",
    "        :type embeddings: np.ndarray\n",
    "        :return: Normalized embeddings.\n",
    "        :rtype: np.ndarray\n",
    "        \"\"\"\n",
    "        return embeddings / np.linalg.norm(embeddings, axis=1, keepdims=True)\n",
    "\n",
    "    def build_index(self, nodes):\n",
    "        \"\"\"\n",
    "        Build the FAISS index from a list of nodes containing embeddings.\n",
    "\n",
    "        :param nodes: List of nodes, where each node contains an `embedding` attribute.\n",
    "        :type nodes: list\n",
    "        :raises ValueError: If the nodes list is empty or embeddings are inconsistent.\n",
    "        \"\"\"\n",
    "        if not nodes:\n",
    "            raise ValueError(\"Nodes list cannot be empty.\")\n",
    "        \n",
    "        embeddings = np.array([np.array(node.embedding) for node in nodes])\n",
    "        normalized_embeddings = self.normalize_embeddings(embeddings)\n",
    "\n",
    "        self.embedding_dim = normalized_embeddings[0].shape[0]\n",
    "        self.faiss_index = faiss.IndexFlatIP(self.embedding_dim)  # Inner-product similarity\n",
    "        self.faiss_index.add(normalized_embeddings)\n",
    "\n",
    "    def get_index(self):\n",
    "        \"\"\"\n",
    "        Get the FAISS index instance.\n",
    "\n",
    "        :return: The FAISS index used for similarity search.\n",
    "        :rtype: faiss.IndexFlatIP\n",
    "        :raises ValueError: If the index has not been built.\n",
    "        \"\"\"\n",
    "        if self.faiss_index is None:\n",
    "            raise ValueError(\"Index has not been built yet. Call 'build_index' first.\")\n",
    "        return self.faiss_index"
   ]
  },
  {
   "cell_type": "code",
   "execution_count": 12,
   "id": "bae97065-1900-498c-acac-aebea6c32745",
   "metadata": {},
   "outputs": [],
   "source": [
    "class FAISSVectorStoreRetriever(BaseRetriever):\n",
    "    def __init__(self, faiss_index, documents):\n",
    "        \"\"\"\n",
    "        Initialize the FAISS retriever.\n",
    "        :param faiss_index: The FAISS index containing precomputed embeddings.\n",
    "        :param documents: List of document chunks.\n",
    "        :param embeddings: Precomputed embeddings corresponding to the document chunks.\n",
    "        \"\"\"\n",
    "        self.faiss_index = faiss_index\n",
    "        self.documents = documents\n",
    "\n",
    "    def _retrieve(self, query_embedding, top_k=5):\n",
    "        \"\"\"\n",
    "        Retrieve the top-k nearest neighbors using the FAISS index.\n",
    "        :param query_embedding: The embedding of the query.\n",
    "        :param top_k: Number of top results to retrieve.\n",
    "        \"\"\"\n",
    "\n",
    "        norm_query_embedding = np.array([query_embedding])\n",
    "        norm_query_embedding /= np.linalg.norm(norm_query_embedding, axis=1, keepdims=True)\n",
    "\n",
    "        distances, indices = self.faiss_index.search(norm_query_embedding, top_k)\n",
    "        retrieved_docs = [\n",
    "            NodeWithScore(node=self.documents[idx], score=1 - dist)\n",
    "            for idx, dist in zip(indices[0], distances[0])\n",
    "            if idx != -1\n",
    "        ]\n",
    "        return retrieved_docs"
   ]
  },
  {
   "cell_type": "code",
   "execution_count": 13,
   "id": "415a6c55-102b-4e9f-a626-2c8cc84096e9",
   "metadata": {},
   "outputs": [
    {
     "name": "stderr",
     "output_type": "stream",
     "text": [
      "100%|██████████| 12302/12302 [07:46<00:00, 26.36it/s]\n"
     ]
    }
   ],
   "source": [
    "# embedding\n",
    "nodes_embed = generate_embeddings(nodes, client, \"mxbai-embed-large\")"
   ]
  },
  {
   "cell_type": "code",
   "execution_count": 14,
   "id": "15320c85-b644-4148-b83b-b63bc2898517",
   "metadata": {},
   "outputs": [],
   "source": [
    "#indexing\n",
    "index = FaissIndexer()\n",
    "index.build_index(nodes_embed)\n",
    "faiss_index = index.get_index()\n",
    "\n",
    "faiss_retriever = FAISSVectorStoreRetriever(faiss_index=faiss_index,documents=nodes_embed)"
   ]
  },
  {
   "cell_type": "markdown",
   "id": "f75ddf0b-2c20-4065-bb79-fb8733622ec7",
   "metadata": {},
   "source": [
    "## Sparse Embedding via BM25"
   ]
  },
  {
   "cell_type": "code",
   "execution_count": 15,
   "id": "3e9c9cf4-123f-4d44-8c02-b61ecdd4bb2f",
   "metadata": {},
   "outputs": [],
   "source": [
    "# bm25_retriever = BM25Retriever.from_defaults(\n",
    "#     nodes=nodes,\n",
    "#     similarity_top_k=5,\n",
    "#     stemmer=Stemmer.Stemmer(\"english\"),\n",
    "#     language=\"english\",\n",
    "# )"
   ]
  },
  {
   "cell_type": "markdown",
   "id": "c953fd45-035d-4d46-801f-33f28fdede67",
   "metadata": {},
   "source": [
    "## Hybrid Retrieval via Reciprocal Rank"
   ]
  },
  {
   "cell_type": "code",
   "execution_count": 16,
   "id": "6ad014ba-3363-4810-a5d5-fa6187fbc494",
   "metadata": {},
   "outputs": [],
   "source": [
    "def hybrid_embedding(results: dict, top_k: int):\n",
    "    x = QueryFusionRetriever\n",
    "    ranked_results = QueryFusionRetriever._reciprocal_rerank_fusion(x, results)\n",
    "    return ranked_results[:top_k]"
   ]
  },
  {
   "cell_type": "markdown",
   "id": "eaae0e11-d7d3-4713-8889-92c9a3f207f7",
   "metadata": {},
   "source": [
    "# Post Retrieval"
   ]
  },
  {
   "cell_type": "markdown",
   "id": "43c29979-ba5f-4d9d-84f1-3252d9292b6d",
   "metadata": {},
   "source": [
    "## Summarization"
   ]
  },
  {
   "cell_type": "code",
   "execution_count": 17,
   "id": "a7e39ff7-4dec-4b10-8aee-b51d26e51fd8",
   "metadata": {},
   "outputs": [],
   "source": [
    "def summarize_each_chunk(nodes, client, query, model=\"llama3.3\", parent=False):\n",
    "    if parent:\n",
    "        chunks = [doc.text for doc in nodes]\n",
    "    else:\n",
    "        chunks = [doc.node.text for doc in nodes]\n",
    "    summaries = []\n",
    "    \n",
    "    for i, chunk in enumerate(chunks):\n",
    "        prompt = f\"\"\"\n",
    "        Summarize the following text in one concise paragraph, focusing on key points relevant to the query: \"{query}\".\n",
    "        \n",
    "        - Emphasize information directly related to the query.\n",
    "        - Exclude unrelated, redundant, or speculative details.\n",
    "        - Do NOT introduce new information or answer the query itself. \n",
    "        \n",
    "        Text:\n",
    "        {chunk}\n",
    "        \n",
    "        Summary:\n",
    "        \"\"\"\n",
    "        \n",
    "        response = client.generate(model=model, prompt=prompt)\n",
    "        summary = response['response'].strip()\n",
    "        summaries.append(summary)\n",
    "\n",
    "    return summaries"
   ]
  },
  {
   "cell_type": "markdown",
   "id": "2e78c30d-7d4e-4ec2-b3fe-ecb64fadf88a",
   "metadata": {},
   "source": [
    "# Generation"
   ]
  },
  {
   "cell_type": "code",
   "execution_count": null,
   "id": "e11745b3-18d5-43cb-bb1d-c241c662d89d",
   "metadata": {},
   "outputs": [],
   "source": []
  },
  {
   "cell_type": "markdown",
   "id": "e075a9f0-ea97-4d1e-b9f1-3b664b2196f8",
   "metadata": {},
   "source": [
    "# Querying"
   ]
  },
  {
   "cell_type": "markdown",
   "id": "04693932-b45a-4bde-bf6c-00a7633822aa",
   "metadata": {},
   "source": [
    "## Query Transforms"
   ]
  },
  {
   "cell_type": "code",
   "execution_count": 18,
   "id": "c4bed9fb",
   "metadata": {},
   "outputs": [],
   "source": [
    "# Few-shot examples\n",
    "FEW_SHOTS = \"\"\"\n",
    "\n",
    "Example 2:\n",
    "Question: What will happen when your front tire blows out?\n",
    "A. The back end will sway towards the side of the blowout\n",
    "B. The back end will sway away from the blowout\n",
    "C. The front end will pull towards the side of the blowout\n",
    "D. The front end will pull to the opposite side of the blowout\n",
    "Please answer only in letters\n",
    "Correct Answer: [C]\n",
    "\n",
    "Example 3:\n",
    "Question: What should you do when an ambulance comes up behind you flashing red lights and/or sounding its siren?\n",
    "A. Stop as soon as you can\n",
    "B. Maintain your speed, let the ambulance driver will find a way around you\n",
    "C. Speed up so that you don't hold the ambulance\n",
    "D. Pull over to the right and slow down or even stop if necessary\n",
    "Please answer only in letters\n",
    "Correct Answer: [D]\n",
    "\"\"\"\n",
    "\n",
    "def summarize_context(context: str, client, model: str) -> str:\n",
    "    \n",
    "    prompt_instruction = '''\n",
    "    You are an expert at distilling information into concise summaries. \n",
    "    Read the following context carefully and provide a clear, concise, and accurate summary of the key points. \n",
    "    Ensure that the summary captures the essence of the content without omitting critical details. \n",
    "    \n",
    "    Provide the summarized output enclosed in double quotes.\n",
    "    '''\n",
    "\n",
    "    few_shot_examples = '''\n",
    "    Here is an example of how to do this\n",
    "\n",
    "    Example 1:\n",
    "    Context: High-dimensional feature vectors, derived from complex embedding models, are now critical for applications like e-commerce product search and recommendation, document retrieval, facial recognition, and retrieval-based large language models (LLMs), Pan, J. J., et al.(2024). Traditional database management systems, however, struggle with the unique characteristics of feature vectors due to the nuance of semantic similarity, expensive computational cost, large data size, and lack of indexable structure. Numerous vector database management systems (VDBMSs) have been created to tackle these issues. Typical VDBMSs consist of a query processor that handles different query types and a storage manager that manages large-scale vector indexing, storage, and compression. One key aspect of query processing is similarity scores which is important in capturing similarity relationships between feature vectors. There are various different vector indexing structures and techniques for efficient vector search. Common structures include table-based, tree-based, and graph-based.  Table-based indexes partition vectors into buckets with techniques including locality sensitive hashing (LSH), learning to hash (L2H), and quantization for compression.\n",
    "    Output: \"High-dimensional feature vectors are essential for applications like e-commerce search, document retrieval, facial recognition, and retrieval-based LLMs. Traditional databases struggle to manage these vectors due to their size, computational cost, and the complexity of semantic similarity. Vector database management systems (VDBMSs) address these challenges with specialized query processors and storage managers for indexing, storage, and compression. Efficient vector search relies on similarity scores and various indexing techniques, such as table-based, tree-based, and graph-based structures, with methods like locality sensitive hashing (LSH) and quantization playing a key role.\"\n",
    "    \n",
    "    Now, summarize the following context and provide the response inside double quotes:\n",
    "    '''\n",
    "    \n",
    "    full_prompt = prompt_instruction + few_shot_examples + f\"\\nContext: {context}\"\n",
    "    \n",
    "    try:\n",
    "        response = client.generate(\n",
    "            model=model,\n",
    "            prompt=full_prompt\n",
    "        )\n",
    "\n",
    "        # Extract text within double quotes (literal summary)\n",
    "        matches = re.findall(r'\"([^\"]*)\"', response['response'].strip())\n",
    "\n",
    "        print(f\"Context: {context[:100]}...\")  # Print first 100 chars for readability\n",
    "        print(f\"Summary: {matches[0] if matches else 'No match found'}\")\n",
    "        print('-' * 60)\n",
    "\n",
    "        if matches:\n",
    "            return matches[0]\n",
    "        else:\n",
    "            return \"Summary not available.\"\n",
    "        \n",
    "    except Exception as e:\n",
    "        print(f\"Error during summarization: {e}\")\n",
    "        return \"Error encountered during summarization.\"\n",
    "\n",
    "def cot_qa_format(query, context, client, model):\n",
    "    return f\"\"\"\n",
    "\n",
    "    Let's break down the problem step by step:\n",
    "    1. Identify the key components of the following question: {query}\n",
    "    2. Decompose the retrieved context into key components and extract relevant information step by step. Here is the context: {summarize_context(query, client, model)}\n",
    "    3. Provide the best possible answer based on the reasoning process.\n",
    "    \"\"\"\n",
    "\n",
    "def generate_response_with_cot(summaries, query, choices, client, model=\"llama3.1:8b\", cot_model=\"llama3.1:8b\", para_model=\"llama3.1:8b\"):\n",
    "    \"\"\"\n",
    "    Generate a response using Chain of Thought (CoT) reasoning by passing intermediate\n",
    "    results through successive steps to build a synthesized final answer.\n",
    "    \"\"\"\n",
    "\n",
    "    # 1. Combine summaries into context block\n",
    "    context = \"\\n\".join(summaries)\n",
    "\n",
    "    try:\n",
    "        # 2. Step 1: Generate initial thought process (CoT step 1)\n",
    "        cot_query = cot_qa_format(query, context, client, para_model)\n",
    "        response1 = client.generate(model=cot_model, prompt=cot_query)\n",
    "        reasoning1 = response1['response'].strip()\n",
    "\n",
    "        # 3. Step 2: Refine based on first result\n",
    "        cot_query2 = f\"\"\"\n",
    "        We reasoned that: {reasoning1}\n",
    "        Can you expand on this by addressing additional details or gaps?\n",
    "        {query}\n",
    "        \"\"\"\n",
    "        response2 = client.generate(model=cot_model, prompt=cot_query2)\n",
    "        reasoning2 = response2['response'].strip()\n",
    "\n",
    "        # 5. Aggregate all steps for the final decision\n",
    "        final_query = f\"\"\"\n",
    "        Based on the results:\n",
    "        - Step 1: {reasoning1}\n",
    "        - Step 2: {reasoning2}\n",
    "\n",
    "        Now, synthesize these results and answer this question:\n",
    "        {query + \" Answer which of the choices match the synthesized results.\"}\n",
    "        Choices: {choices}\n",
    "\n",
    "        Please answer only in letters and put them inside brackets '[]'. If the question contains the statement 'Check all that apply', use a comma separator for multiple answers.\n",
    "        Here are two examples on how to answer the question:\n",
    "        {FEW_SHOTS}\n",
    "        \"\"\"\n",
    "        \n",
    "        # 6. Final model call to produce the overall response\n",
    "        final_response = client.generate(model=model, prompt=final_query)\n",
    "        \n",
    "        return final_response['response'].strip()\n",
    "\n",
    "\n",
    "    except Exception as e:\n",
    "        print(f\"Error processing prompt: {e}\")\n",
    "        return None\n",
    "\n"
   ]
  },
  {
   "cell_type": "markdown",
   "id": "aee70e7b-a863-47c7-898a-78977ce5473f",
   "metadata": {},
   "source": [
    "## Query Generation"
   ]
  },
  {
   "cell_type": "code",
   "execution_count": 19,
   "id": "52a8f235-2430-4793-b0b4-17efd7f315a6",
   "metadata": {},
   "outputs": [],
   "source": [
    "docstore = {}\n",
    "\n",
    "# Store documents using full metadata as the key\n",
    "for doc in documents:\n",
    "    key = tuple(doc.metadata.items())  # Convert metadata to tuple for hashable key\n",
    "    docstore[key] = doc"
   ]
  },
  {
   "cell_type": "code",
   "execution_count": 20,
   "id": "cff1cba4-bd05-4429-a397-896f9e2dedfb",
   "metadata": {},
   "outputs": [],
   "source": [
    "def get_document_by_chunk_metadata(chunk_node):\n",
    "    # Convert chunk metadata to tuple for matching\n",
    "    metadata_key = tuple(chunk_node.metadata.items())\n",
    "\n",
    "    # Retrieve document from docstore\n",
    "    document = docstore.get(metadata_key)\n",
    "    return document"
   ]
  },
  {
   "cell_type": "code",
   "execution_count": 21,
   "id": "723b3e53-3f24-4280-ae9c-0e0ad7d57a68",
   "metadata": {},
   "outputs": [],
   "source": [
    "def remove_duplicate_documents(doc_list):\n",
    "    seen_ids = set()\n",
    "    unique_docs = []\n",
    "\n",
    "    for doc in doc_list:\n",
    "        if doc.doc_id not in seen_ids:\n",
    "            seen_ids.add(doc.doc_id)\n",
    "            unique_docs.append(doc)\n",
    "\n",
    "    return unique_docs"
   ]
  },
  {
   "cell_type": "code",
   "execution_count": 22,
   "id": "dcebca00-e74b-4b1f-a874-c00ce9dc6161",
   "metadata": {},
   "outputs": [],
   "source": [
    "def gen_query(query, choices, top_k, client, mode='dense', summary=False, model=\"llama3.3\", chunks_only=False):\n",
    "    response = client.embeddings(prompt=query, model=\"mxbai-embed-large\")\n",
    "    query_embedding = response[\"embedding\"]\n",
    "\n",
    "    top_k_docs = faiss_retriever._retrieve(query_embedding, top_k=top_k)\n",
    "\n",
    "    bm25_retriever = BM25Retriever.from_defaults(\n",
    "    nodes=nodes,\n",
    "    similarity_top_k=top_k,\n",
    "    stemmer=Stemmer.Stemmer(\"english\"),\n",
    "    language=\"english\",\n",
    "    )\n",
    "    retrieved_nodes = bm25_retriever.retrieve(query)\n",
    "\n",
    "    results = {'faiss': top_k_docs, 'bm25':retrieved_nodes}\n",
    "    ranked_results = hybrid_embedding(results, top_k=top_k)\n",
    "\n",
    "    if mode == 'dense':\n",
    "        print('using FAISS')\n",
    "        ans_nodes =top_k_docs\n",
    "    elif mode == 'sparse':\n",
    "        print('using BM25')\n",
    "        ans_nodes = retrieved_nodes\n",
    "    else:\n",
    "        print('using Hybrid')\n",
    "        ans_nodes = ranked_results\n",
    "\n",
    "    parent_flag = True\n",
    "    context = set([get_document_by_chunk_metadata(docs).text for docs in ans_nodes])\n",
    "    if chunks_only:\n",
    "        parent_flag = False\n",
    "        print('using chunks only')\n",
    "        context = [docs.node.text for docs in ans_nodes]\n",
    "        \n",
    "    if summary:\n",
    "        print('using summaries')\n",
    "        context_nodes = remove_duplicate_documents([get_document_by_chunk_metadata(docs) for docs in ans_nodes])\n",
    "\n",
    "        if chunks_only:\n",
    "            context_nodes=ans_nodes\n",
    "        summaries = summarize_each_chunk(context_nodes, client, model='llama3.3', query=query,parent=parent_flag)\n",
    "        context = summaries\n",
    "\n",
    "    answer = generate_response_with_cot(context, query, choices, client, model=model)\n",
    "\n",
    "    # Format the references\n",
    "    references = []\n",
    "    for i, doc in enumerate(ranked_results[:top_k], start=1):\n",
    "        metadata = doc.metadata\n",
    "        source_info = f\"Source {i}: {metadata['title']} (Page {metadata['page']}, Folder: {metadata['folder']})\"\n",
    "        references.append(source_info)\n",
    "\n",
    "    return answer, \"\\n\".join(references), context"
   ]
  },
  {
   "cell_type": "markdown",
   "id": "00842045-d62a-4b01-b306-f637856c769c",
   "metadata": {},
   "source": [
    "# Evaluation"
   ]
  },
  {
   "cell_type": "code",
   "execution_count": 23,
   "id": "719d3b48-6639-423f-957d-82cda52de114",
   "metadata": {},
   "outputs": [],
   "source": [
    "# Generate prompts dynamically\n",
    "def generate_choices(row):\n",
    "    options = []\n",
    "    for choice in ['A', 'B', 'C', 'D', 'E']:\n",
    "        # Check for NaN or blank values\n",
    "        if pd.notna(row[choice]) and row[choice] != '':\n",
    "            options.append(f\"{choice}. {row[choice]}\")\n",
    "    \n",
    "    # Construct the prompt with few-shot examples\n",
    "    choices = \"\\n\".join(options)\n",
    "    \n",
    "    return choices"
   ]
  },
  {
   "cell_type": "code",
   "execution_count": 24,
   "id": "b16ce73b-abc7-460c-b15b-f39bc5209786",
   "metadata": {},
   "outputs": [
    {
     "name": "stdout",
     "output_type": "stream",
     "text": [
      "Testing Data:\n",
      "60\n"
     ]
    },
    {
     "data": {
      "text/html": [
       "<div>\n",
       "<style scoped>\n",
       "    .dataframe tbody tr th:only-of-type {\n",
       "        vertical-align: middle;\n",
       "    }\n",
       "\n",
       "    .dataframe tbody tr th {\n",
       "        vertical-align: top;\n",
       "    }\n",
       "\n",
       "    .dataframe thead th {\n",
       "        text-align: right;\n",
       "    }\n",
       "</style>\n",
       "<table border=\"1\" class=\"dataframe\">\n",
       "  <thead>\n",
       "    <tr style=\"text-align: right;\">\n",
       "      <th></th>\n",
       "      <th>Question</th>\n",
       "      <th>A</th>\n",
       "      <th>B</th>\n",
       "      <th>C</th>\n",
       "      <th>D</th>\n",
       "      <th>E</th>\n",
       "      <th>Answer</th>\n",
       "      <th>Choices</th>\n",
       "    </tr>\n",
       "  </thead>\n",
       "  <tbody>\n",
       "    <tr>\n",
       "      <th>0</th>\n",
       "      <td>If the driver is turning left, he must: (U-tur...</td>\n",
       "      <td>have the right of way</td>\n",
       "      <td>do so slowly with caution</td>\n",
       "      <td>yield to approaching cars</td>\n",
       "      <td>NaN</td>\n",
       "      <td>NaN</td>\n",
       "      <td>C</td>\n",
       "      <td>A. have the right of way\\nB. do so slowly with...</td>\n",
       "    </tr>\n",
       "    <tr>\n",
       "      <th>1</th>\n",
       "      <td>When a vehicle starts to skid, what should the...</td>\n",
       "      <td>Immediately step on the brakes</td>\n",
       "      <td>Hold firmly on to the wheel while slowing down...</td>\n",
       "      <td>Turn the wheels tp the opposite the direction ...</td>\n",
       "      <td>NaN</td>\n",
       "      <td>NaN</td>\n",
       "      <td>B</td>\n",
       "      <td>A. Immediately step on the brakes\\nB. Hold fir...</td>\n",
       "    </tr>\n",
       "    <tr>\n",
       "      <th>2</th>\n",
       "      <td>If you are parking uphill without a curb, turn...</td>\n",
       "      <td>edge of the street</td>\n",
       "      <td>other side of the street</td>\n",
       "      <td>middle of the street</td>\n",
       "      <td>NaN</td>\n",
       "      <td>NaN</td>\n",
       "      <td>A</td>\n",
       "      <td>A. edge of the street\\nB. other side of the st...</td>\n",
       "    </tr>\n",
       "    <tr>\n",
       "      <th>3</th>\n",
       "      <td>When parking downhill, you should turn your fr...</td>\n",
       "      <td>toward the curb of the sidewalk</td>\n",
       "      <td>away from the curb</td>\n",
       "      <td>any direction will do</td>\n",
       "      <td>NaN</td>\n",
       "      <td>NaN</td>\n",
       "      <td>A</td>\n",
       "      <td>A. toward the curb of the sidewalk\\nB. away fr...</td>\n",
       "    </tr>\n",
       "    <tr>\n",
       "      <th>4</th>\n",
       "      <td>Which of the following is the maximum speed li...</td>\n",
       "      <td>60 kph</td>\n",
       "      <td>80 kph</td>\n",
       "      <td>100 kph</td>\n",
       "      <td>NaN</td>\n",
       "      <td>NaN</td>\n",
       "      <td>C</td>\n",
       "      <td>A. 60 kph\\nB. 80 kph\\nC. 100 kph</td>\n",
       "    </tr>\n",
       "  </tbody>\n",
       "</table>\n",
       "</div>"
      ],
      "text/plain": [
       "                                            Question  \\\n",
       "0  If the driver is turning left, he must: (U-tur...   \n",
       "1  When a vehicle starts to skid, what should the...   \n",
       "2  If you are parking uphill without a curb, turn...   \n",
       "3  When parking downhill, you should turn your fr...   \n",
       "4  Which of the following is the maximum speed li...   \n",
       "\n",
       "                                 A  \\\n",
       "0            have the right of way   \n",
       "1   Immediately step on the brakes   \n",
       "2               edge of the street   \n",
       "3  toward the curb of the sidewalk   \n",
       "4                           60 kph   \n",
       "\n",
       "                                                   B  \\\n",
       "0                          do so slowly with caution   \n",
       "1  Hold firmly on to the wheel while slowing down...   \n",
       "2                           other side of the street   \n",
       "3                                 away from the curb   \n",
       "4                                             80 kph   \n",
       "\n",
       "                                                   C    D   E Answer  \\\n",
       "0                          yield to approaching cars  NaN NaN      C   \n",
       "1  Turn the wheels tp the opposite the direction ...  NaN NaN      B   \n",
       "2                               middle of the street  NaN NaN      A   \n",
       "3                              any direction will do  NaN NaN      A   \n",
       "4                                            100 kph  NaN NaN      C   \n",
       "\n",
       "                                             Choices  \n",
       "0  A. have the right of way\\nB. do so slowly with...  \n",
       "1  A. Immediately step on the brakes\\nB. Hold fir...  \n",
       "2  A. edge of the street\\nB. other side of the st...  \n",
       "3  A. toward the curb of the sidewalk\\nB. away fr...  \n",
       "4                   A. 60 kph\\nB. 80 kph\\nC. 100 kph  "
      ]
     },
     "metadata": {},
     "output_type": "display_data"
    }
   ],
   "source": [
    "from sklearn.model_selection import train_test_split\n",
    "# Load the Excel file\n",
    "file_path = '/home/jeryl4913/lto_rag_reviewer/notebooks/eval/LTO_EXAM.csv'\n",
    "df = pd.read_csv(file_path)\n",
    "\n",
    "# Display the first few rows of each set\n",
    "print(\"Testing Data:\")\n",
    "print(len(df))\n",
    "display(df.head())"
   ]
  },
  {
   "cell_type": "code",
   "execution_count": 25,
   "id": "9450c855-2480-4843-9b09-8d0af0a917a7",
   "metadata": {},
   "outputs": [
    {
     "name": "stderr",
     "output_type": "stream",
     "text": [
      "  0%|          | 0/60 [00:00<?, ?it/s]"
     ]
    },
    {
     "name": "stdout",
     "output_type": "stream",
     "text": [
      "using FAISS\n",
      "Context: If the driver is turning left, he must: (U-turn / Left Rule)...\n",
      "Summary: Drivers turning left must follow the 'Left Rule', which may be an unmarked or marked lane requirement.\n",
      "------------------------------------------------------------\n"
     ]
    },
    {
     "name": "stderr",
     "output_type": "stream",
     "text": [
      "  2%|▏         | 1/60 [00:31<30:31, 31.05s/it]"
     ]
    },
    {
     "name": "stdout",
     "output_type": "stream",
     "text": [
      "using FAISS\n",
      "Context: When a vehicle starts to skid, what should the driver do?...\n",
      "Summary: Drivers should take immediate action by gently steering into the direction of the skid while taking their foot off the gas pedal. This helps correct the vehicle's trajectory and regain traction.\n",
      "------------------------------------------------------------\n"
     ]
    },
    {
     "name": "stderr",
     "output_type": "stream",
     "text": [
      "  3%|▎         | 2/60 [01:04<31:06, 32.18s/it]"
     ]
    },
    {
     "name": "stdout",
     "output_type": "stream",
     "text": [
      "using FAISS\n",
      "Context: If you are parking uphill without a curb, turn the wheels towards the:...\n",
      "Summary: the direction of oncoming traffic.\n",
      "------------------------------------------------------------\n"
     ]
    },
    {
     "name": "stderr",
     "output_type": "stream",
     "text": [
      "  5%|▌         | 3/60 [01:35<30:21, 31.95s/it]"
     ]
    },
    {
     "name": "stdout",
     "output_type": "stream",
     "text": [
      "using FAISS\n",
      "Context: When parking downhill, you should turn your front wheels:...\n",
      "Summary: Towards the curb or away from traffic to prevent rolling back into oncoming traffic, especially at night when visibility is poor.\n",
      "------------------------------------------------------------\n"
     ]
    },
    {
     "name": "stderr",
     "output_type": "stream",
     "text": [
      "  7%|▋         | 4/60 [02:11<31:24, 33.65s/it]"
     ]
    },
    {
     "name": "stdout",
     "output_type": "stream",
     "text": [
      "using FAISS\n",
      "Context: Which of the following is the maximum speed limit on expressway for cars?...\n",
      "Summary: Typically, the maximum speed limit for cars on expressways varies by region and jurisdiction but is usually around 110-130 km/h (68-81 mph). However, this can differ significantly depending on the specific area or local regulations.\n",
      "------------------------------------------------------------\n"
     ]
    },
    {
     "name": "stderr",
     "output_type": "stream",
     "text": [
      "  8%|▊         | 5/60 [02:48<31:58, 34.87s/it]"
     ]
    },
    {
     "name": "stdout",
     "output_type": "stream",
     "text": [
      "using FAISS\n",
      "Context: Never park or stop at the side of the road with a fire hydrant, you may only park with a distance of...\n",
      "Summary: Never park or stop next to a fire hydrant. If you must park near one, keep at least 15 feet (4.5 meters) away.\n",
      "------------------------------------------------------------\n"
     ]
    },
    {
     "name": "stderr",
     "output_type": "stream",
     "text": [
      " 10%|█         | 6/60 [03:20<30:16, 33.64s/it]"
     ]
    },
    {
     "name": "stdout",
     "output_type": "stream",
     "text": [
      "using FAISS\n",
      "Context: While driving with maximum speed and you have to stop suddenly, you should: ...\n",
      "Summary: Apply gentle pressure on the brake pedal in order to avoid skidding or losing control of the vehicle. This helps to gradually slow down the vehicle and maintain traction on the road surface.\n",
      "------------------------------------------------------------\n"
     ]
    },
    {
     "name": "stderr",
     "output_type": "stream",
     "text": [
      " 12%|█▏        | 7/60 [03:57<30:43, 34.79s/it]"
     ]
    },
    {
     "name": "stdout",
     "output_type": "stream",
     "text": [
      "using FAISS\n",
      "Context: What will happen when your rear tire blows out?...\n",
      "Summary: Your vehicle's stability will be compromised, increasing the risk of losing control or skidding. The sudden loss of air pressure can cause the vehicle to sway violently, making it difficult to steer or brake properly. A blown-out rear tire can lead to a loss of traction, potentially resulting in an accident. It is essential to address the issue promptly and safely by slowly pulling over and activating hazard lights.\n",
      "------------------------------------------------------------\n"
     ]
    },
    {
     "name": "stderr",
     "output_type": "stream",
     "text": [
      " 13%|█▎        | 8/60 [04:34<30:42, 35.44s/it]"
     ]
    },
    {
     "name": "stdout",
     "output_type": "stream",
     "text": [
      "using FAISS\n",
      "Context: Operating a public utility vehicle equipped with stereo-music is punishable by:...\n",
      "Summary: Operating a public utility vehicle equipped with stereo-music is punishable by law.\n",
      "------------------------------------------------------------\n"
     ]
    },
    {
     "name": "stderr",
     "output_type": "stream",
     "text": [
      " 15%|█▌        | 9/60 [05:10<30:18, 35.66s/it]"
     ]
    },
    {
     "name": "stdout",
     "output_type": "stream",
     "text": [
      "using FAISS\n",
      "Context: Your speed while driving at night should keep on:...\n",
      "Summary: Your speed while driving at night should decrease to account for reduced visibility and reaction time. This is due to the lower light levels that make it more difficult to see hazards, pedestrians, and other vehicles, which can lead to increased stopping distances and higher accident risks.\n",
      "------------------------------------------------------------\n"
     ]
    },
    {
     "name": "stderr",
     "output_type": "stream",
     "text": [
      " 17%|█▋        | 10/60 [05:43<29:05, 34.91s/it]"
     ]
    },
    {
     "name": "stdout",
     "output_type": "stream",
     "text": [
      "using FAISS\n",
      "Context: Before a private motor vehicle owner can apply for a DOT franchise, the motor vehicle must be regist...\n",
      "Summary: Before applying for a DOT franchise, a private motor vehicle owner must first register their vehicle with the relevant authority.\n",
      "------------------------------------------------------------\n"
     ]
    },
    {
     "name": "stderr",
     "output_type": "stream",
     "text": [
      " 18%|█▊        | 11/60 [06:19<28:49, 35.29s/it]"
     ]
    },
    {
     "name": "stdout",
     "output_type": "stream",
     "text": [
      "using FAISS\n",
      "Context: What is the meaning of a traffic sign that has a triangle with red color...\n",
      "Summary: Traffic signs with a triangle shape and red color typically indicate caution or warning to drivers. The specific meaning depends on the combination of the triangle shape and the presence of additional symbols, colors, or text on the sign. However, in general, red triangles are often used to warn drivers of potential hazards such as curves, intersections, or pedestrian crossings.\n",
      "------------------------------------------------------------\n"
     ]
    },
    {
     "name": "stderr",
     "output_type": "stream",
     "text": [
      " 20%|██        | 12/60 [06:54<28:11, 35.23s/it]"
     ]
    },
    {
     "name": "stdout",
     "output_type": "stream",
     "text": [
      "using FAISS\n",
      "Context: It is not conidered safe driving on an expressway when:...\n",
      "Summary: Driving under the influence of alcohol or other substances, texting while driving, using mobile phones for non-emergency purposes, talking on the phone without a hands-free device, eating or grooming while driving, operating vehicles with mechanical defects or improper loadings, and following too closely.\n",
      "------------------------------------------------------------\n"
     ]
    },
    {
     "name": "stderr",
     "output_type": "stream",
     "text": [
      " 22%|██▏       | 13/60 [07:35<28:50, 36.82s/it]"
     ]
    },
    {
     "name": "stdout",
     "output_type": "stream",
     "text": [
      "using FAISS\n",
      "Context: What is considered as a parking violation?...\n",
      "Summary: Any act that contravenes designated rules or guidelines for parking in a particular area is considered a parking violation. This can include, but is not limited to, exceeding permitted time limits, occupying a prohibited space (e.g., handicap or reserved spaces), failing to pay for parking, parking in areas restricted by signs or barriers, and violating other regulations set forth by local authorities.\n",
      "------------------------------------------------------------\n"
     ]
    },
    {
     "name": "stderr",
     "output_type": "stream",
     "text": [
      " 23%|██▎       | 14/60 [08:13<28:29, 37.17s/it]"
     ]
    },
    {
     "name": "stdout",
     "output_type": "stream",
     "text": [
      "using FAISS\n",
      "Context: Night driving is dangerous because:...\n",
      "Summary: Night driving is hazardous due to reduced visibility caused by darkness and glare from oncoming headlights. This increases the risk of accidents, particularly when drivers are tired or distracted. Factors contributing to the danger include a decrease in reaction time, diminished peripheral vision, and an elevated risk of drowsy driving.\n",
      "------------------------------------------------------------\n"
     ]
    },
    {
     "name": "stderr",
     "output_type": "stream",
     "text": [
      " 25%|██▌       | 15/60 [08:47<27:07, 36.16s/it]"
     ]
    },
    {
     "name": "stdout",
     "output_type": "stream",
     "text": [
      "using FAISS\n",
      "Context: A pre-trip inspection should be completed:...\n",
      "Summary: No match found\n",
      "------------------------------------------------------------\n"
     ]
    },
    {
     "name": "stderr",
     "output_type": "stream",
     "text": [
      " 27%|██▋       | 16/60 [09:27<27:25, 37.40s/it]"
     ]
    },
    {
     "name": "stdout",
     "output_type": "stream",
     "text": [
      "using FAISS\n",
      "Context: While driving the hood of your car lifts up blocking your vision. What should you do? Check all that...\n",
      "Summary:  If the hood of your car lifts up while driving and blocks your vision, you should pull over to a safe location as soon as possible, turn off the engine, and engage the parking brake. Check the area underneath the hood for any obstructions or damage before proceeding.\n",
      "------------------------------------------------------------\n"
     ]
    },
    {
     "name": "stderr",
     "output_type": "stream",
     "text": [
      " 28%|██▊       | 17/60 [10:01<26:08, 36.49s/it]"
     ]
    },
    {
     "name": "stdout",
     "output_type": "stream",
     "text": [
      "using FAISS\n",
      "Context: Graft and corruption in the traffic enforcement systen can be eliminated by:...\n",
      "Summary: can be eliminated by:\n",
      "------------------------------------------------------------\n"
     ]
    },
    {
     "name": "stderr",
     "output_type": "stream",
     "text": [
      " 30%|███       | 18/60 [10:42<26:31, 37.90s/it]"
     ]
    },
    {
     "name": "stdout",
     "output_type": "stream",
     "text": [
      "using FAISS\n",
      "Context: While driving with a maximum speed and you have to stop suddenly, you should:...\n",
      "Summary: Apply gentle pressure on the brake pedal gradually and avoid slamming on the brakes to maintain control of your vehicle. Slamming on the brakes can cause wheels lockup, leading to loss of traction and potential skidding or swerving. Gradual braking helps to slow down the vehicle smoothly and gives you better control over its movement.\n",
      "------------------------------------------------------------\n"
     ]
    },
    {
     "name": "stderr",
     "output_type": "stream",
     "text": [
      " 32%|███▏      | 19/60 [11:17<25:12, 36.89s/it]"
     ]
    },
    {
     "name": "stdout",
     "output_type": "stream",
     "text": [
      "using FAISS\n",
      "Context: When a vehicle is stalled or disabled, the driver must park the vehicle on the shoulder of the road ...\n",
      "Summary: Move as far away from traffic as possible. Turn off the engine and engage the parking brake. Activate hazard lights to alert other drivers. If stranded, consider calling for roadside assistance or seeking help from a nearby residence or service station.\n",
      "------------------------------------------------------------\n"
     ]
    },
    {
     "name": "stderr",
     "output_type": "stream",
     "text": [
      " 33%|███▎      | 20/60 [11:54<24:42, 37.07s/it]"
     ]
    },
    {
     "name": "stdout",
     "output_type": "stream",
     "text": [
      "using FAISS\n",
      "Context: Signs that are round, rectangular with white and blue blackground are called:...\n",
      "Summary: Signs that are round or rectangular in shape with a white background and blue letters/numbers are typically referred to as 'Blue-and-White' signs.\n",
      "------------------------------------------------------------\n"
     ]
    },
    {
     "name": "stderr",
     "output_type": "stream",
     "text": [
      " 35%|███▌      | 21/60 [12:32<24:06, 37.10s/it]"
     ]
    },
    {
     "name": "stdout",
     "output_type": "stream",
     "text": [
      "using FAISS\n",
      "Context: In case of injuries caused by an accident, the duty of the uninjured driver is to:...\n",
      "Summary: Move to a safe location, turn off vehicle's engine, check for injuries, call emergency services if necessary, exchange information with other parties involved, report the incident to relevant authorities, and cooperate with law enforcement investigations.\n",
      "------------------------------------------------------------\n"
     ]
    },
    {
     "name": "stderr",
     "output_type": "stream",
     "text": [
      " 37%|███▋      | 22/60 [13:04<22:38, 35.75s/it]"
     ]
    },
    {
     "name": "stdout",
     "output_type": "stream",
     "text": [
      "using FAISS\n",
      "Context: It refers to the amount of alcohol in a person's blood...\n",
      "Summary: BAC\n",
      "------------------------------------------------------------\n"
     ]
    },
    {
     "name": "stderr",
     "output_type": "stream",
     "text": [
      " 38%|███▊      | 23/60 [13:37<21:30, 34.89s/it]"
     ]
    },
    {
     "name": "stdout",
     "output_type": "stream",
     "text": [
      "using FAISS\n",
      "Context: When planning to overtake a slower vehicle in front of you at night, you should:...\n",
      "Summary: Before overtaking a slower vehicle at night, check your surroundings for oncoming traffic, pedestrians, or obstacles. Ensure there is sufficient visibility and lighting, and use high beams if possible. If it's safe, gradually increase speed to match the slower vehicle's pace, maintaining a safe following distance. Only overtake when it's clear that the road ahead is empty of hazards. Use low beams while overtaking to minimize glare on other drivers.\n",
      "------------------------------------------------------------\n"
     ]
    },
    {
     "name": "stderr",
     "output_type": "stream",
     "text": [
      " 40%|████      | 24/60 [14:17<21:49, 36.36s/it]"
     ]
    },
    {
     "name": "stdout",
     "output_type": "stream",
     "text": [
      "using FAISS\n",
      "Context: When a driver of PUV refuses to render service, convey passengers, such violation is penalize with:...\n",
      "Summary: Penalization for refusal by a PUV (Public Utility Vehicle) driver to render service or convey passengers.\n",
      "------------------------------------------------------------\n"
     ]
    },
    {
     "name": "stderr",
     "output_type": "stream",
     "text": [
      " 42%|████▏     | 25/60 [14:52<20:55, 35.88s/it]"
     ]
    },
    {
     "name": "stdout",
     "output_type": "stream",
     "text": [
      "using FAISS\n",
      "Context: Which of the following hand signals must a driver give when he wants to slow down and stop?...\n",
      "Summary: None of the provided context is available. However, based on general knowledge, it's essential for drivers to use hand signals to indicate their intentions, such as slowing down or stopping. Typically, drivers would use the left arm to signal their intentions, with a downward motion indicating slowing down and a circular motion in a circle shape at the end of the lane change, turn, or merging onto another road. If more context were provided, I could give a more specific answer.\n",
      "------------------------------------------------------------\n"
     ]
    },
    {
     "name": "stderr",
     "output_type": "stream",
     "text": [
      " 43%|████▎     | 26/60 [15:27<20:14, 35.73s/it]"
     ]
    },
    {
     "name": "stdout",
     "output_type": "stream",
     "text": [
      "using FAISS\n",
      "Context: You were flagged down due to noisy muffle of your motorcycle, what will you do?...\n",
      "Summary: Stop your motorcycle immediately and investigate the noise source. Check if there's an issue with the exhaust system or any other mechanical problem that could be causing the disturbance.\n",
      "------------------------------------------------------------\n"
     ]
    },
    {
     "name": "stderr",
     "output_type": "stream",
     "text": [
      " 45%|████▌     | 27/60 [16:01<19:19, 35.14s/it]"
     ]
    },
    {
     "name": "stdout",
     "output_type": "stream",
     "text": [
      "using FAISS\n",
      "Context: When are you permitted to double park?...\n",
      "Summary: Double parking is generally permitted in emergency situations, such as when a driver needs to pick up a passenger or drop off packages. It may also be allowed temporarily while loading or unloading cargo. However, drivers must exercise caution and follow local regulations, as unauthorized double parking can lead to fines, penalties, and safety hazards.\n",
      "------------------------------------------------------------\n"
     ]
    },
    {
     "name": "stderr",
     "output_type": "stream",
     "text": [
      " 47%|████▋     | 28/60 [16:38<19:04, 35.76s/it]"
     ]
    },
    {
     "name": "stdout",
     "output_type": "stream",
     "text": [
      "using FAISS\n",
      "Context: A driver ____ park or stop at the side fo the road within 6 meters of a crosswalk because it reduces...\n",
      "Summary: According to safety guidelines, drivers should not park or stop their vehicles more than 6 meters from a crosswalk, as this can reduce visibility of pedestrians to other drivers.\n",
      "------------------------------------------------------------\n"
     ]
    },
    {
     "name": "stderr",
     "output_type": "stream",
     "text": [
      " 48%|████▊     | 29/60 [17:12<18:07, 35.09s/it]"
     ]
    },
    {
     "name": "stdout",
     "output_type": "stream",
     "text": [
      "using FAISS\n",
      "Context: Parking lights may be used:...\n",
      "Summary: Parking lights are used for various purposes including visibility at night or in low-light conditions, to indicate specific maneuvers such as turning or changing lanes, to signal a vehicle's direction of travel when headlights are not being used, and to warn other drivers of the intention to stop.\n",
      "------------------------------------------------------------\n"
     ]
    },
    {
     "name": "stderr",
     "output_type": "stream",
     "text": [
      " 50%|█████     | 30/60 [17:48<17:44, 35.50s/it]"
     ]
    },
    {
     "name": "stdout",
     "output_type": "stream",
     "text": [
      "using FAISS\n",
      "Context: The vehicle is parked if:...\n",
      "Summary: the parking brake has been applied, the gear selector is in park (automatic), or the transmission is in neutral (manual).\n",
      "------------------------------------------------------------\n"
     ]
    },
    {
     "name": "stderr",
     "output_type": "stream",
     "text": [
      " 52%|█████▏    | 31/60 [18:21<16:47, 34.74s/it]"
     ]
    },
    {
     "name": "stdout",
     "output_type": "stream",
     "text": [
      "using FAISS\n",
      "Context: A type of field sobriety test that requires the driver to walk heel-to-toe along a straight line for...\n",
      "Summary: High-Heel Test\n",
      "------------------------------------------------------------\n"
     ]
    },
    {
     "name": "stderr",
     "output_type": "stream",
     "text": [
      " 53%|█████▎    | 32/60 [18:55<16:08, 34.57s/it]"
     ]
    },
    {
     "name": "stdout",
     "output_type": "stream",
     "text": [
      "using FAISS\n",
      "Context: It is not a safe place to overtake in an/a:...\n",
      "Summary: According to traffic safety guidelines, it's not safe to overtake on roundabouts or pedestrian crossings. Additionally, overtaking near schools, playgrounds, and residential areas with high foot traffic should also be avoided due to the potential risks to pedestrians.\n",
      "------------------------------------------------------------\n"
     ]
    },
    {
     "name": "stderr",
     "output_type": "stream",
     "text": [
      " 55%|█████▌    | 33/60 [19:31<15:47, 35.08s/it]"
     ]
    },
    {
     "name": "stdout",
     "output_type": "stream",
     "text": [
      "using FAISS\n",
      "Context: For drivers of trucks, buses, motorcycles and public utility vehices, a BAC lebel of more than ____ ...\n",
      "Summary: Typically, in many jurisdictions, a Blood Alcohol Concentration (BAC) level above 0.08 is considered conclusive proof that a driver of a commercial vehicle, such as trucks, buses, and public utility vehicles, is driving under the influence of alcohol.\n",
      "------------------------------------------------------------\n"
     ]
    },
    {
     "name": "stderr",
     "output_type": "stream",
     "text": [
      " 57%|█████▋    | 34/60 [20:07<15:14, 35.17s/it]"
     ]
    },
    {
     "name": "stdout",
     "output_type": "stream",
     "text": [
      "using FAISS\n",
      "Context: What is the meaning of a traffic sign that has circle, octagon or reverse triangle with red color?...\n",
      "Summary: Traffic signs with a circular shape, an octagonal shape, or a reversed triangular shape and displaying a red color are typically warning signs. They alert drivers to potential hazards or dangers ahead, such as road conditions, animal crossings, or other risks.\n",
      "------------------------------------------------------------\n"
     ]
    },
    {
     "name": "stderr",
     "output_type": "stream",
     "text": [
      " 58%|█████▊    | 35/60 [20:40<14:22, 34.49s/it]"
     ]
    },
    {
     "name": "stdout",
     "output_type": "stream",
     "text": [
      "using FAISS\n",
      "Context: When loading or unloading passengers, we usually stop at the:...\n",
      "Summary: Bus stops are typically designed for loading and unloading passengers during bus operations.\n",
      "------------------------------------------------------------\n"
     ]
    },
    {
     "name": "stderr",
     "output_type": "stream",
     "text": [
      " 60%|██████    | 36/60 [21:10<13:16, 33.20s/it]"
     ]
    },
    {
     "name": "stdout",
     "output_type": "stream",
     "text": [
      "using FAISS\n",
      "Context: When two vehicles meet on a gradient road where neither car pass, which of the two must yield?...\n",
      "Summary: According to traffic rules, when two vehicles meet on a gradient road and neither can pass, the vehicle going downhill must yield to the one going uphill.\n",
      "------------------------------------------------------------\n"
     ]
    },
    {
     "name": "stderr",
     "output_type": "stream",
     "text": [
      " 62%|██████▏   | 37/60 [21:42<12:33, 32.77s/it]"
     ]
    },
    {
     "name": "stdout",
     "output_type": "stream",
     "text": [
      "using FAISS\n",
      "Context: When you are parked at the side of the road at night, you must:...\n",
      "Summary: Turn on your hazard lights to alert other drivers of your presence. Ensure that all passengers remain in their seats with their seatbelts fastened. Lock your vehicle to prevent theft or tampering. If you notice any suspicious activity around your vehicle, contact local law enforcement for assistance.\n",
      "------------------------------------------------------------\n"
     ]
    },
    {
     "name": "stderr",
     "output_type": "stream",
     "text": [
      " 63%|██████▎   | 38/60 [22:19<12:30, 34.12s/it]"
     ]
    },
    {
     "name": "stdout",
     "output_type": "stream",
     "text": [
      "using FAISS\n",
      "Context: The motor vehicle plate and driver's license may be confiscated by any authorized LTO agent when the...\n",
      "Summary: Motor vehicle plates and drivers' licenses may be confiscated by authorized LTO agents if they are used for operating vehicles that have been found to be in violation of certain regulations, though specific details regarding these violations are not mentioned.\n",
      "------------------------------------------------------------\n"
     ]
    },
    {
     "name": "stderr",
     "output_type": "stream",
     "text": [
      " 65%|██████▌   | 39/60 [22:54<12:00, 34.32s/it]"
     ]
    },
    {
     "name": "stdout",
     "output_type": "stream",
     "text": [
      "using FAISS\n",
      "Context: When oncoming vehicle (car A) deliberately crosses the centerline to pass another vehicle, you (car ...\n",
      "Summary: Passing vehicle (car A) is crossing the centerline to pass another vehicle. To avoid a potential collision, driver of car B should yield to car A and not attempt to overtake or engage in any aggressive maneuvers.\n",
      "------------------------------------------------------------\n"
     ]
    },
    {
     "name": "stderr",
     "output_type": "stream",
     "text": [
      " 67%|██████▋   | 40/60 [23:28<11:27, 34.37s/it]"
     ]
    },
    {
     "name": "stdout",
     "output_type": "stream",
     "text": [
      "using FAISS\n",
      "Context: At an intrsection with traffic signals, if you (car A) are not in the proper lane to make a right or...\n",
      "Summary: Come to a complete stop before the intersection and then yield to other vehicles in the correct lanes, indicating your intention to turn by checking your mirrors and blind spots.\n",
      "------------------------------------------------------------\n"
     ]
    },
    {
     "name": "stderr",
     "output_type": "stream",
     "text": [
      " 68%|██████▊   | 41/60 [24:03<10:56, 34.57s/it]"
     ]
    },
    {
     "name": "stdout",
     "output_type": "stream",
     "text": [
      "using FAISS\n",
      "Context: The penalty of driving a motor vehicle while under the influence of alcohol for the first offense:...\n",
      "Summary: First-time offenders driving under the influence of alcohol will face penalties.\n",
      "------------------------------------------------------------\n"
     ]
    },
    {
     "name": "stderr",
     "output_type": "stream",
     "text": [
      " 70%|███████   | 42/60 [24:41<10:39, 35.52s/it]"
     ]
    },
    {
     "name": "stdout",
     "output_type": "stream",
     "text": [
      "using FAISS\n",
      "Context: When driving on the highway at night, you should use low beam headlights (dim lights) when:...\n",
      "Summary: Low beam headlights are recommended for nighttime driving on highways to reduce glare and improve visibility. However, they can sometimes cause reduced lighting on the road ahead, which may increase the risk of accidents. Additionally, using high beams in these conditions can cause intense glare for oncoming traffic, increasing the risk of accidents. It is generally considered safer to use low beam headlights at night due to the potential risks associated with high beams.\n",
      "------------------------------------------------------------\n"
     ]
    },
    {
     "name": "stderr",
     "output_type": "stream",
     "text": [
      " 72%|███████▏  | 43/60 [25:17<10:03, 35.53s/it]"
     ]
    },
    {
     "name": "stdout",
     "output_type": "stream",
     "text": [
      "using FAISS\n",
      "Context: The safest thing to do even if you have the rights of using the road is:...\n",
      "Summary: Always follow traffic laws and regulations, regardless of your right to use the road. This ensures personal safety and minimizes potential risks.\n",
      "------------------------------------------------------------\n"
     ]
    },
    {
     "name": "stderr",
     "output_type": "stream",
     "text": [
      " 73%|███████▎  | 44/60 [25:49<09:12, 34.55s/it]"
     ]
    },
    {
     "name": "stdout",
     "output_type": "stream",
     "text": [
      "using FAISS\n",
      "Context: It shall mean that the LEO has reasonable ground to velieve that the person driving the motor vehicl...\n",
      "Summary: Reasonable grounds for a police officer (LEO) to believe that a driver is intoxicated with alcohol, dangerous drugs, or other substances can be established by personally witnessing a traffic offense.\n",
      "------------------------------------------------------------\n"
     ]
    },
    {
     "name": "stderr",
     "output_type": "stream",
     "text": [
      " 75%|███████▌  | 45/60 [26:28<08:58, 35.91s/it]"
     ]
    },
    {
     "name": "stdout",
     "output_type": "stream",
     "text": [
      "using FAISS\n",
      "Context: You are preparing to exit an expressway, when should you start reducing speed?...\n",
      "Summary: Always reduce your speed as soon as possible before exiting an expressway, ideally at least 1-2 miles before the exit. This allows for a safe deceleration and reduces the risk of accidents or loss of control while changing lanes or navigating off-ramps.\n",
      "------------------------------------------------------------\n"
     ]
    },
    {
     "name": "stderr",
     "output_type": "stream",
     "text": [
      " 77%|███████▋  | 46/60 [27:06<08:30, 36.44s/it]"
     ]
    },
    {
     "name": "stdout",
     "output_type": "stream",
     "text": [
      "using FAISS\n",
      "Context: How close should another car be before you dim your headlights?...\n",
      "Summary: According to standard guidelines, if you're driving at night or in poor visibility conditions, it's recommended to dim your headlights when another car is approaching from the opposite direction and their headlights are visible to you, typically within a distance of 500-800 meters (1,640-2,625 feet) or more. This allows oncoming drivers time to adjust to reduced light levels and helps prevent glare.\n",
      "------------------------------------------------------------\n"
     ]
    },
    {
     "name": "stderr",
     "output_type": "stream",
     "text": [
      " 78%|███████▊  | 47/60 [27:44<07:59, 36.92s/it]"
     ]
    },
    {
     "name": "stdout",
     "output_type": "stream",
     "text": [
      "using FAISS\n",
      "Context: What will happen when your front tire blows out?...\n",
      "Summary: Blown-out tires can cause loss of control and lead to accidents. The vehicle may veer off course or spin out due to reduced traction. In severe cases, a blown tire can result in a rollover, especially at high speeds.\n",
      "------------------------------------------------------------\n"
     ]
    },
    {
     "name": "stderr",
     "output_type": "stream",
     "text": [
      " 80%|████████  | 48/60 [28:23<07:32, 37.71s/it]"
     ]
    },
    {
     "name": "stdout",
     "output_type": "stream",
     "text": [
      "using FAISS\n",
      "Context: Parking is considered as a violation when a motor vehicle:...\n",
      "Summary: exceeds its permitted parking time limit, is parked in a prohibited area, or obstructs traffic or pedestrian paths. Drivers who fail to park their vehicles within designated parking spaces may be subject to fines and penalties.\n",
      "------------------------------------------------------------\n"
     ]
    },
    {
     "name": "stderr",
     "output_type": "stream",
     "text": [
      " 82%|████████▏ | 49/60 [28:56<06:37, 36.10s/it]"
     ]
    },
    {
     "name": "stdout",
     "output_type": "stream",
     "text": [
      "using FAISS\n",
      "Context: To avoid suspension or revocation, how many days must a driver with an apprehended license settle hi...\n",
      "Summary: According to regulations, a driver with an apprehended license must settle their case with the Land Transportation Office (LTO) within a specific timeframe to avoid suspension or revocation. Unfortunately, I do not have access to this information.\n",
      "------------------------------------------------------------\n"
     ]
    },
    {
     "name": "stderr",
     "output_type": "stream",
     "text": [
      " 83%|████████▎ | 50/60 [29:32<06:01, 36.17s/it]"
     ]
    },
    {
     "name": "stdout",
     "output_type": "stream",
     "text": [
      "using FAISS\n",
      "Context: What should you do when an ambulance comes up behind you flashing red lights and/or sounding its sir...\n",
      "Summary: Move to the right or left lane to let the ambulance pass safely, and slow down if necessary. If the emergency vehicle is approaching from the opposite direction, prepare to stop at the nearest intersection or designated stopping point. Keep in mind that sirens are typically reserved for life-threatening emergencies, so prioritize yielding to the ambulance.\n",
      "------------------------------------------------------------\n"
     ]
    },
    {
     "name": "stderr",
     "output_type": "stream",
     "text": [
      " 85%|████████▌ | 51/60 [30:09<05:28, 36.45s/it]"
     ]
    },
    {
     "name": "stdout",
     "output_type": "stream",
     "text": [
      "using FAISS\n",
      "Context: To aobtain one's driver's license, one must be at least:...\n",
      "Summary: 18 years old in most US states, with some exceptions for certain types of licenses or learners permits. Additionally, applicants typically need to meet state-specific requirements, such as passing a vision test, written exam, and driving skills test.\n",
      "------------------------------------------------------------\n"
     ]
    },
    {
     "name": "stderr",
     "output_type": "stream",
     "text": [
      " 87%|████████▋ | 52/60 [30:41<04:40, 35.02s/it]"
     ]
    },
    {
     "name": "stdout",
     "output_type": "stream",
     "text": [
      "using FAISS\n",
      "Context: Driving with a fake license is prohibited and is punishable by:...\n",
      "Summary: Driving with a fake license is prohibited and is subject to penalties.\n",
      "------------------------------------------------------------\n"
     ]
    },
    {
     "name": "stderr",
     "output_type": "stream",
     "text": [
      " 88%|████████▊ | 53/60 [31:16<04:05, 35.00s/it]"
     ]
    },
    {
     "name": "stdout",
     "output_type": "stream",
     "text": [
      "using FAISS\n",
      "Context: When do you have a complete/full stop...\n",
      "Summary: An individual may experience a full stop in their life when they reach the end of one stage or phase and are ready to transition into another. This can be due to various factors such as retirement, completing education, achieving milestones, experiencing significant life events like marriage or parenthood, or facing unexpected circumstances like health issues or loss of a loved one. The concept of a full stop also varies across different cultures, ages, and individuals, with some people experiencing multiple stops throughout their lives.\n",
      "------------------------------------------------------------\n"
     ]
    },
    {
     "name": "stderr",
     "output_type": "stream",
     "text": [
      " 90%|█████████ | 54/60 [31:51<03:31, 35.27s/it]"
     ]
    },
    {
     "name": "stdout",
     "output_type": "stream",
     "text": [
      "using FAISS\n",
      "Context: You were apprehended because you were engaged in car racing while driving in a super highway, what t...\n",
      "Summary: Engaging in car racing on a superhighway is a serious traffic offense.\n",
      "------------------------------------------------------------\n"
     ]
    },
    {
     "name": "stderr",
     "output_type": "stream",
     "text": [
      " 92%|█████████▏| 55/60 [32:28<02:58, 35.71s/it]"
     ]
    },
    {
     "name": "stdout",
     "output_type": "stream",
     "text": [
      "using FAISS\n",
      "Context: According to the Philippine Clean Air Act of 1999 (R.A. No 8749)...\n",
      "Summary: No match found\n",
      "------------------------------------------------------------\n"
     ]
    },
    {
     "name": "stderr",
     "output_type": "stream",
     "text": [
      " 93%|█████████▎| 56/60 [33:07<02:26, 36.62s/it]"
     ]
    },
    {
     "name": "stdout",
     "output_type": "stream",
     "text": [
      "using FAISS\n",
      "Context: Keeping one's distance lessens the risk of accident. One good rule is to leave a car length or:...\n",
      "Summary: Leaving a safe distance between vehicles reduces the risk of accidents by providing time to react in case of sudden stops or emergencies, with a recommended gap of at least a car length.\n",
      "------------------------------------------------------------\n"
     ]
    },
    {
     "name": "stderr",
     "output_type": "stream",
     "text": [
      " 95%|█████████▌| 57/60 [33:44<01:50, 36.76s/it]"
     ]
    },
    {
     "name": "stdout",
     "output_type": "stream",
     "text": [
      "using FAISS\n",
      "Context: What is the meaning of a blinking yellow traffic light?...\n",
      "Summary: A blinking yellow traffic light typically indicates caution or warning to drivers. It often means that either traffic is about to be restricted or there's an impending change in the signal, such as from green to red. The specific meaning can vary depending on the location and context, but generally, it signifies a need for drivers to slow down and be prepared to stop.\n",
      "------------------------------------------------------------\n"
     ]
    },
    {
     "name": "stderr",
     "output_type": "stream",
     "text": [
      " 97%|█████████▋| 58/60 [34:19<01:12, 36.10s/it]"
     ]
    },
    {
     "name": "stdout",
     "output_type": "stream",
     "text": [
      "using FAISS\n",
      "Context: What habit will help you prevent getting a fixed-stare and resist distraction?...\n",
      "Summary: Regularly practicing mindfulness meditation can help you develop the ability to focus on one task at a time and reduce mind-wandering, thereby resisting distractions and maintaining attention. By training your brain to stay present and aware of your surroundings, you can improve your concentration and minimize the likelihood of getting caught up in fixed-stare situations.\n",
      "------------------------------------------------------------\n"
     ]
    },
    {
     "name": "stderr",
     "output_type": "stream",
     "text": [
      " 98%|█████████▊| 59/60 [34:55<00:36, 36.05s/it]"
     ]
    },
    {
     "name": "stdout",
     "output_type": "stream",
     "text": [
      "using FAISS\n",
      "Context: You may never park:...\n",
      "Summary: Many cities are adopting \n",
      "------------------------------------------------------------\n"
     ]
    },
    {
     "name": "stderr",
     "output_type": "stream",
     "text": [
      "100%|██████████| 60/60 [35:34<00:00, 35.57s/it]"
     ]
    },
    {
     "name": "stdout",
     "output_type": "stream",
     "text": [
      "Updated Testing Data with AI Answers:\n"
     ]
    },
    {
     "name": "stderr",
     "output_type": "stream",
     "text": [
      "\n"
     ]
    },
    {
     "data": {
      "text/html": [
       "<div>\n",
       "<style scoped>\n",
       "    .dataframe tbody tr th:only-of-type {\n",
       "        vertical-align: middle;\n",
       "    }\n",
       "\n",
       "    .dataframe tbody tr th {\n",
       "        vertical-align: top;\n",
       "    }\n",
       "\n",
       "    .dataframe thead th {\n",
       "        text-align: right;\n",
       "    }\n",
       "</style>\n",
       "<table border=\"1\" class=\"dataframe\">\n",
       "  <thead>\n",
       "    <tr style=\"text-align: right;\">\n",
       "      <th></th>\n",
       "      <th>Question</th>\n",
       "      <th>A</th>\n",
       "      <th>B</th>\n",
       "      <th>C</th>\n",
       "      <th>D</th>\n",
       "      <th>E</th>\n",
       "      <th>Answer</th>\n",
       "      <th>Choices</th>\n",
       "      <th>AI</th>\n",
       "      <th>Inference_times</th>\n",
       "      <th>Context</th>\n",
       "    </tr>\n",
       "  </thead>\n",
       "  <tbody>\n",
       "    <tr>\n",
       "      <th>0</th>\n",
       "      <td>If the driver is turning left, he must: (U-tur...</td>\n",
       "      <td>have the right of way</td>\n",
       "      <td>do so slowly with caution</td>\n",
       "      <td>yield to approaching cars</td>\n",
       "      <td>NaN</td>\n",
       "      <td>NaN</td>\n",
       "      <td>C</td>\n",
       "      <td>A. have the right of way\\nB. do so slowly with...</td>\n",
       "      <td>[Left Rule]</td>\n",
       "      <td>31.046930</td>\n",
       "      <td>{I I A. GRAVE VIOLATIONS ( 5 Demerit Points)  ...</td>\n",
       "    </tr>\n",
       "    <tr>\n",
       "      <th>1</th>\n",
       "      <td>When a vehicle starts to skid, what should the...</td>\n",
       "      <td>Immediately step on the brakes</td>\n",
       "      <td>Hold firmly on to the wheel while slowing down...</td>\n",
       "      <td>Turn the wheels tp the opposite the direction ...</td>\n",
       "      <td>NaN</td>\n",
       "      <td>NaN</td>\n",
       "      <td>B</td>\n",
       "      <td>A. Immediately step on the brakes\\nB. Hold fir...</td>\n",
       "      <td>[]</td>\n",
       "      <td>32.962109</td>\n",
       "      <td>{control of their vehicles.Anticipate Slippery...</td>\n",
       "    </tr>\n",
       "    <tr>\n",
       "      <th>2</th>\n",
       "      <td>If you are parking uphill without a curb, turn...</td>\n",
       "      <td>edge of the street</td>\n",
       "      <td>other side of the street</td>\n",
       "      <td>middle of the street</td>\n",
       "      <td>NaN</td>\n",
       "      <td>NaN</td>\n",
       "      <td>A</td>\n",
       "      <td>A. edge of the street\\nB. other side of the st...</td>\n",
       "      <td>[A]</td>\n",
       "      <td>31.688846</td>\n",
       "      <td>{How to Handle Pavement Drop-Off While Driving...</td>\n",
       "    </tr>\n",
       "    <tr>\n",
       "      <th>3</th>\n",
       "      <td>When parking downhill, you should turn your fr...</td>\n",
       "      <td>toward the curb of the sidewalk</td>\n",
       "      <td>away from the curb</td>\n",
       "      <td>any direction will do</td>\n",
       "      <td>NaN</td>\n",
       "      <td>NaN</td>\n",
       "      <td>A</td>\n",
       "      <td>A. toward the curb of the sidewalk\\nB. away fr...</td>\n",
       "      <td>[A]</td>\n",
       "      <td>36.234869</td>\n",
       "      <td>{How to Handle Pavement Drop-Off While Driving...</td>\n",
       "    </tr>\n",
       "    <tr>\n",
       "      <th>4</th>\n",
       "      <td>Which of the following is the maximum speed li...</td>\n",
       "      <td>60 kph</td>\n",
       "      <td>80 kph</td>\n",
       "      <td>100 kph</td>\n",
       "      <td>NaN</td>\n",
       "      <td>NaN</td>\n",
       "      <td>C</td>\n",
       "      <td>A. 60 kph\\nB. 80 kph\\nC. 100 kph</td>\n",
       "      <td>[None of the above]</td>\n",
       "      <td>37.051482</td>\n",
       "      <td>{cash/e-cardseasily accessible to minimize del...</td>\n",
       "    </tr>\n",
       "  </tbody>\n",
       "</table>\n",
       "</div>"
      ],
      "text/plain": [
       "                                            Question  \\\n",
       "0  If the driver is turning left, he must: (U-tur...   \n",
       "1  When a vehicle starts to skid, what should the...   \n",
       "2  If you are parking uphill without a curb, turn...   \n",
       "3  When parking downhill, you should turn your fr...   \n",
       "4  Which of the following is the maximum speed li...   \n",
       "\n",
       "                                 A  \\\n",
       "0            have the right of way   \n",
       "1   Immediately step on the brakes   \n",
       "2               edge of the street   \n",
       "3  toward the curb of the sidewalk   \n",
       "4                           60 kph   \n",
       "\n",
       "                                                   B  \\\n",
       "0                          do so slowly with caution   \n",
       "1  Hold firmly on to the wheel while slowing down...   \n",
       "2                           other side of the street   \n",
       "3                                 away from the curb   \n",
       "4                                             80 kph   \n",
       "\n",
       "                                                   C    D   E Answer  \\\n",
       "0                          yield to approaching cars  NaN NaN      C   \n",
       "1  Turn the wheels tp the opposite the direction ...  NaN NaN      B   \n",
       "2                               middle of the street  NaN NaN      A   \n",
       "3                              any direction will do  NaN NaN      A   \n",
       "4                                            100 kph  NaN NaN      C   \n",
       "\n",
       "                                             Choices                   AI  \\\n",
       "0  A. have the right of way\\nB. do so slowly with...          [Left Rule]   \n",
       "1  A. Immediately step on the brakes\\nB. Hold fir...                   []   \n",
       "2  A. edge of the street\\nB. other side of the st...                  [A]   \n",
       "3  A. toward the curb of the sidewalk\\nB. away fr...                  [A]   \n",
       "4                   A. 60 kph\\nB. 80 kph\\nC. 100 kph  [None of the above]   \n",
       "\n",
       "   Inference_times                                            Context  \n",
       "0        31.046930  {I I A. GRAVE VIOLATIONS ( 5 Demerit Points)  ...  \n",
       "1        32.962109  {control of their vehicles.Anticipate Slippery...  \n",
       "2        31.688846  {How to Handle Pavement Drop-Off While Driving...  \n",
       "3        36.234869  {How to Handle Pavement Drop-Off While Driving...  \n",
       "4        37.051482  {cash/e-cardseasily accessible to minimize del...  "
      ]
     },
     "metadata": {},
     "output_type": "display_data"
    }
   ],
   "source": [
    "import time\n",
    "\n",
    "df[\"AI\"] = np.nan\n",
    "ai_answer = []\n",
    "context_answer = []\n",
    "inference_times = []\n",
    "for i in tqdm(range(len(df))):\n",
    "    start_time = time.time()\n",
    "    answ = gen_query(df[\"Question\"].iloc[i], df[\"Choices\"].iloc[i], top_k=15, client=client, mode='dense', model=\"llama3.3\")\n",
    "    ai_answer.append(answ[0])\n",
    "    context_answer.append(answ[2])\n",
    "    end_time = time.time()\n",
    "    inference_times.append(end_time - start_time)\n",
    "\n",
    "df[\"AI\"] = ai_answer\n",
    "df[\"Inference_times\"] = inference_times\n",
    "df[\"Context\"] = context_answer\n",
    "print(\"Updated Testing Data with AI Answers:\")\n",
    "display(df.head())"
   ]
  },
  {
   "cell_type": "code",
   "execution_count": 26,
   "id": "ad5ce417",
   "metadata": {},
   "outputs": [
    {
     "name": "stdout",
     "output_type": "stream",
     "text": [
      "Final Score: 36.00/60.00\n",
      "Accuracy: 0.60%\n"
     ]
    },
    {
     "data": {
      "text/html": [
       "<div>\n",
       "<style scoped>\n",
       "    .dataframe tbody tr th:only-of-type {\n",
       "        vertical-align: middle;\n",
       "    }\n",
       "\n",
       "    .dataframe tbody tr th {\n",
       "        vertical-align: top;\n",
       "    }\n",
       "\n",
       "    .dataframe thead th {\n",
       "        text-align: right;\n",
       "    }\n",
       "</style>\n",
       "<table border=\"1\" class=\"dataframe\">\n",
       "  <thead>\n",
       "    <tr style=\"text-align: right;\">\n",
       "      <th></th>\n",
       "      <th>Question</th>\n",
       "      <th>Answer</th>\n",
       "      <th>AI</th>\n",
       "      <th>Score</th>\n",
       "      <th>Inference_times</th>\n",
       "    </tr>\n",
       "  </thead>\n",
       "  <tbody>\n",
       "    <tr>\n",
       "      <th>0</th>\n",
       "      <td>If the driver is turning left, he must: (U-tur...</td>\n",
       "      <td>[C]</td>\n",
       "      <td>None</td>\n",
       "      <td>0.0</td>\n",
       "      <td>31.046930</td>\n",
       "    </tr>\n",
       "    <tr>\n",
       "      <th>1</th>\n",
       "      <td>When a vehicle starts to skid, what should the...</td>\n",
       "      <td>[B]</td>\n",
       "      <td>None</td>\n",
       "      <td>0.0</td>\n",
       "      <td>32.962109</td>\n",
       "    </tr>\n",
       "    <tr>\n",
       "      <th>2</th>\n",
       "      <td>If you are parking uphill without a curb, turn...</td>\n",
       "      <td>[A]</td>\n",
       "      <td>[A]</td>\n",
       "      <td>1.0</td>\n",
       "      <td>31.688846</td>\n",
       "    </tr>\n",
       "    <tr>\n",
       "      <th>3</th>\n",
       "      <td>When parking downhill, you should turn your fr...</td>\n",
       "      <td>[A]</td>\n",
       "      <td>[A]</td>\n",
       "      <td>1.0</td>\n",
       "      <td>36.234869</td>\n",
       "    </tr>\n",
       "    <tr>\n",
       "      <th>4</th>\n",
       "      <td>Which of the following is the maximum speed li...</td>\n",
       "      <td>[C]</td>\n",
       "      <td>None</td>\n",
       "      <td>0.0</td>\n",
       "      <td>37.051482</td>\n",
       "    </tr>\n",
       "    <tr>\n",
       "      <th>5</th>\n",
       "      <td>Never park or stop at the side of the road wit...</td>\n",
       "      <td>[C]</td>\n",
       "      <td>None</td>\n",
       "      <td>0.0</td>\n",
       "      <td>31.251813</td>\n",
       "    </tr>\n",
       "    <tr>\n",
       "      <th>6</th>\n",
       "      <td>While driving with maximum speed and you have ...</td>\n",
       "      <td>[C]</td>\n",
       "      <td>[C]</td>\n",
       "      <td>1.0</td>\n",
       "      <td>37.153632</td>\n",
       "    </tr>\n",
       "    <tr>\n",
       "      <th>7</th>\n",
       "      <td>What will happen when your rear tire blows out?</td>\n",
       "      <td>[B]</td>\n",
       "      <td>[A]</td>\n",
       "      <td>0.0</td>\n",
       "      <td>36.816878</td>\n",
       "    </tr>\n",
       "    <tr>\n",
       "      <th>8</th>\n",
       "      <td>Operating a public utility vehicle equipped wi...</td>\n",
       "      <td>[A]</td>\n",
       "      <td>[A, B, C]</td>\n",
       "      <td>0.0</td>\n",
       "      <td>36.154871</td>\n",
       "    </tr>\n",
       "    <tr>\n",
       "      <th>9</th>\n",
       "      <td>Your speed while driving at night should keep on:</td>\n",
       "      <td>[A]</td>\n",
       "      <td>[A, C]</td>\n",
       "      <td>0.0</td>\n",
       "      <td>33.217110</td>\n",
       "    </tr>\n",
       "    <tr>\n",
       "      <th>10</th>\n",
       "      <td>Before a private motor vehicle owner can apply...</td>\n",
       "      <td>[C]</td>\n",
       "      <td>[C]</td>\n",
       "      <td>1.0</td>\n",
       "      <td>36.148347</td>\n",
       "    </tr>\n",
       "    <tr>\n",
       "      <th>11</th>\n",
       "      <td>What is the meaning of a traffic sign that has...</td>\n",
       "      <td>[A]</td>\n",
       "      <td>[A]</td>\n",
       "      <td>1.0</td>\n",
       "      <td>35.094170</td>\n",
       "    </tr>\n",
       "    <tr>\n",
       "      <th>12</th>\n",
       "      <td>It is not conidered safe driving on an express...</td>\n",
       "      <td>[C]</td>\n",
       "      <td>[C]</td>\n",
       "      <td>1.0</td>\n",
       "      <td>40.471234</td>\n",
       "    </tr>\n",
       "    <tr>\n",
       "      <th>13</th>\n",
       "      <td>What is considered as a parking violation?</td>\n",
       "      <td>[C]</td>\n",
       "      <td>[A, C]</td>\n",
       "      <td>0.0</td>\n",
       "      <td>37.988705</td>\n",
       "    </tr>\n",
       "    <tr>\n",
       "      <th>14</th>\n",
       "      <td>Night driving is dangerous because:</td>\n",
       "      <td>[C]</td>\n",
       "      <td>[C]</td>\n",
       "      <td>1.0</td>\n",
       "      <td>33.801535</td>\n",
       "    </tr>\n",
       "    <tr>\n",
       "      <th>15</th>\n",
       "      <td>A pre-trip inspection should be completed:</td>\n",
       "      <td>[C]</td>\n",
       "      <td>[C]</td>\n",
       "      <td>1.0</td>\n",
       "      <td>40.290661</td>\n",
       "    </tr>\n",
       "    <tr>\n",
       "      <th>16</th>\n",
       "      <td>While driving the hood of your car lifts up bl...</td>\n",
       "      <td>[A, C]</td>\n",
       "      <td>[C]</td>\n",
       "      <td>0.0</td>\n",
       "      <td>34.356924</td>\n",
       "    </tr>\n",
       "    <tr>\n",
       "      <th>17</th>\n",
       "      <td>Graft and corruption in the traffic enforcemen...</td>\n",
       "      <td>[C]</td>\n",
       "      <td>None</td>\n",
       "      <td>0.0</td>\n",
       "      <td>41.190869</td>\n",
       "    </tr>\n",
       "    <tr>\n",
       "      <th>18</th>\n",
       "      <td>While driving with a maximum speed and you hav...</td>\n",
       "      <td>[A]</td>\n",
       "      <td>[A]</td>\n",
       "      <td>1.0</td>\n",
       "      <td>34.546291</td>\n",
       "    </tr>\n",
       "    <tr>\n",
       "      <th>19</th>\n",
       "      <td>When a vehicle is stalled or disabled, the dri...</td>\n",
       "      <td>[C]</td>\n",
       "      <td>[C]</td>\n",
       "      <td>1.0</td>\n",
       "      <td>37.475603</td>\n",
       "    </tr>\n",
       "    <tr>\n",
       "      <th>20</th>\n",
       "      <td>Signs that are round, rectangular with white a...</td>\n",
       "      <td>[B]</td>\n",
       "      <td>[B]</td>\n",
       "      <td>1.0</td>\n",
       "      <td>37.162329</td>\n",
       "    </tr>\n",
       "    <tr>\n",
       "      <th>21</th>\n",
       "      <td>In case of injuries caused by an accident, the...</td>\n",
       "      <td>[A]</td>\n",
       "      <td>[A]</td>\n",
       "      <td>1.0</td>\n",
       "      <td>32.607206</td>\n",
       "    </tr>\n",
       "    <tr>\n",
       "      <th>22</th>\n",
       "      <td>It refers to the amount of alcohol in a person...</td>\n",
       "      <td>[A]</td>\n",
       "      <td>[A]</td>\n",
       "      <td>1.0</td>\n",
       "      <td>32.875009</td>\n",
       "    </tr>\n",
       "    <tr>\n",
       "      <th>23</th>\n",
       "      <td>When planning to overtake a slower vehicle in ...</td>\n",
       "      <td>[B]</td>\n",
       "      <td>None</td>\n",
       "      <td>0.0</td>\n",
       "      <td>39.796098</td>\n",
       "    </tr>\n",
       "    <tr>\n",
       "      <th>24</th>\n",
       "      <td>When a driver of PUV refuses to render service...</td>\n",
       "      <td>[A]</td>\n",
       "      <td>[A, B, C]</td>\n",
       "      <td>0.0</td>\n",
       "      <td>34.757864</td>\n",
       "    </tr>\n",
       "    <tr>\n",
       "      <th>25</th>\n",
       "      <td>Which of the following hand signals must a dri...</td>\n",
       "      <td>[C]</td>\n",
       "      <td>[C]</td>\n",
       "      <td>1.0</td>\n",
       "      <td>35.357622</td>\n",
       "    </tr>\n",
       "    <tr>\n",
       "      <th>26</th>\n",
       "      <td>You were flagged down due to noisy muffle of y...</td>\n",
       "      <td>[B]</td>\n",
       "      <td>[B]</td>\n",
       "      <td>1.0</td>\n",
       "      <td>33.770443</td>\n",
       "    </tr>\n",
       "    <tr>\n",
       "      <th>27</th>\n",
       "      <td>When are you permitted to double park?</td>\n",
       "      <td>[A]</td>\n",
       "      <td>None</td>\n",
       "      <td>0.0</td>\n",
       "      <td>37.216603</td>\n",
       "    </tr>\n",
       "    <tr>\n",
       "      <th>28</th>\n",
       "      <td>A driver ____ park or stop at the side fo the ...</td>\n",
       "      <td>[A]</td>\n",
       "      <td>[A]</td>\n",
       "      <td>1.0</td>\n",
       "      <td>33.514392</td>\n",
       "    </tr>\n",
       "    <tr>\n",
       "      <th>29</th>\n",
       "      <td>Parking lights may be used:</td>\n",
       "      <td>[B]</td>\n",
       "      <td>[B]</td>\n",
       "      <td>1.0</td>\n",
       "      <td>36.448707</td>\n",
       "    </tr>\n",
       "    <tr>\n",
       "      <th>30</th>\n",
       "      <td>The vehicle is parked if:</td>\n",
       "      <td>[A]</td>\n",
       "      <td>[A]</td>\n",
       "      <td>1.0</td>\n",
       "      <td>32.982067</td>\n",
       "    </tr>\n",
       "    <tr>\n",
       "      <th>31</th>\n",
       "      <td>A type of field sobriety test that requires th...</td>\n",
       "      <td>[C]</td>\n",
       "      <td>[C]</td>\n",
       "      <td>1.0</td>\n",
       "      <td>34.167790</td>\n",
       "    </tr>\n",
       "    <tr>\n",
       "      <th>32</th>\n",
       "      <td>It is not a safe place to overtake in an/a:</td>\n",
       "      <td>[A]</td>\n",
       "      <td>[A]</td>\n",
       "      <td>1.0</td>\n",
       "      <td>36.258603</td>\n",
       "    </tr>\n",
       "    <tr>\n",
       "      <th>33</th>\n",
       "      <td>For drivers of trucks, buses, motorcycles and ...</td>\n",
       "      <td>[B]</td>\n",
       "      <td>[A]</td>\n",
       "      <td>0.0</td>\n",
       "      <td>35.392775</td>\n",
       "    </tr>\n",
       "    <tr>\n",
       "      <th>34</th>\n",
       "      <td>What is the meaning of a traffic sign that has...</td>\n",
       "      <td>[C]</td>\n",
       "      <td>[A]</td>\n",
       "      <td>0.0</td>\n",
       "      <td>32.885439</td>\n",
       "    </tr>\n",
       "    <tr>\n",
       "      <th>35</th>\n",
       "      <td>When loading or unloading passengers, we usual...</td>\n",
       "      <td>[A]</td>\n",
       "      <td>[A]</td>\n",
       "      <td>1.0</td>\n",
       "      <td>30.190245</td>\n",
       "    </tr>\n",
       "    <tr>\n",
       "      <th>36</th>\n",
       "      <td>When two vehicles meet on a gradient road wher...</td>\n",
       "      <td>[A]</td>\n",
       "      <td>[A]</td>\n",
       "      <td>1.0</td>\n",
       "      <td>31.762553</td>\n",
       "    </tr>\n",
       "    <tr>\n",
       "      <th>37</th>\n",
       "      <td>When you are parked at the side of the road at...</td>\n",
       "      <td>[A]</td>\n",
       "      <td>[A]</td>\n",
       "      <td>1.0</td>\n",
       "      <td>37.265364</td>\n",
       "    </tr>\n",
       "    <tr>\n",
       "      <th>38</th>\n",
       "      <td>The motor vehicle plate and driver's license m...</td>\n",
       "      <td>[A]</td>\n",
       "      <td>[A]</td>\n",
       "      <td>1.0</td>\n",
       "      <td>34.777919</td>\n",
       "    </tr>\n",
       "    <tr>\n",
       "      <th>39</th>\n",
       "      <td>When oncoming vehicle (car A) deliberately cro...</td>\n",
       "      <td>[A]</td>\n",
       "      <td>[A]</td>\n",
       "      <td>1.0</td>\n",
       "      <td>34.485460</td>\n",
       "    </tr>\n",
       "    <tr>\n",
       "      <th>40</th>\n",
       "      <td>At an intrsection with traffic signals, if you...</td>\n",
       "      <td>[A]</td>\n",
       "      <td>None</td>\n",
       "      <td>0.0</td>\n",
       "      <td>35.024496</td>\n",
       "    </tr>\n",
       "    <tr>\n",
       "      <th>41</th>\n",
       "      <td>The penalty of driving a motor vehicle while u...</td>\n",
       "      <td>[B]</td>\n",
       "      <td>[B]</td>\n",
       "      <td>1.0</td>\n",
       "      <td>37.737728</td>\n",
       "    </tr>\n",
       "    <tr>\n",
       "      <th>42</th>\n",
       "      <td>When driving on the highway at night, you shou...</td>\n",
       "      <td>[C]</td>\n",
       "      <td>[B]</td>\n",
       "      <td>0.0</td>\n",
       "      <td>35.542477</td>\n",
       "    </tr>\n",
       "    <tr>\n",
       "      <th>43</th>\n",
       "      <td>The safest thing to do even if you have the ri...</td>\n",
       "      <td>[A]</td>\n",
       "      <td>[A]</td>\n",
       "      <td>1.0</td>\n",
       "      <td>32.263524</td>\n",
       "    </tr>\n",
       "    <tr>\n",
       "      <th>44</th>\n",
       "      <td>It shall mean that the LEO has reasonable grou...</td>\n",
       "      <td>[B]</td>\n",
       "      <td>[B]</td>\n",
       "      <td>1.0</td>\n",
       "      <td>39.072815</td>\n",
       "    </tr>\n",
       "    <tr>\n",
       "      <th>45</th>\n",
       "      <td>You are preparing to exit an expressway, when ...</td>\n",
       "      <td>[B]</td>\n",
       "      <td>None</td>\n",
       "      <td>0.0</td>\n",
       "      <td>37.668577</td>\n",
       "    </tr>\n",
       "    <tr>\n",
       "      <th>46</th>\n",
       "      <td>How close should another car be before you dim...</td>\n",
       "      <td>[A]</td>\n",
       "      <td>None</td>\n",
       "      <td>0.0</td>\n",
       "      <td>38.046148</td>\n",
       "    </tr>\n",
       "    <tr>\n",
       "      <th>47</th>\n",
       "      <td>What will happen when your front tire blows out?</td>\n",
       "      <td>[C]</td>\n",
       "      <td>[C]</td>\n",
       "      <td>1.0</td>\n",
       "      <td>39.564269</td>\n",
       "    </tr>\n",
       "    <tr>\n",
       "      <th>48</th>\n",
       "      <td>Parking is considered as a violation when a mo...</td>\n",
       "      <td>[A]</td>\n",
       "      <td>[A]</td>\n",
       "      <td>1.0</td>\n",
       "      <td>32.330153</td>\n",
       "    </tr>\n",
       "    <tr>\n",
       "      <th>49</th>\n",
       "      <td>To avoid suspension or revocation, how many da...</td>\n",
       "      <td>[A]</td>\n",
       "      <td>[C]</td>\n",
       "      <td>0.0</td>\n",
       "      <td>36.316632</td>\n",
       "    </tr>\n",
       "    <tr>\n",
       "      <th>50</th>\n",
       "      <td>What should you do when an ambulance comes up ...</td>\n",
       "      <td>[D]</td>\n",
       "      <td>[D]</td>\n",
       "      <td>1.0</td>\n",
       "      <td>37.122766</td>\n",
       "    </tr>\n",
       "    <tr>\n",
       "      <th>51</th>\n",
       "      <td>To aobtain one's driver's license, one must be...</td>\n",
       "      <td>[B]</td>\n",
       "      <td>[C]</td>\n",
       "      <td>0.0</td>\n",
       "      <td>31.666847</td>\n",
       "    </tr>\n",
       "    <tr>\n",
       "      <th>52</th>\n",
       "      <td>Driving with a fake license is prohibited and ...</td>\n",
       "      <td>[C]</td>\n",
       "      <td>[C]</td>\n",
       "      <td>1.0</td>\n",
       "      <td>34.953547</td>\n",
       "    </tr>\n",
       "    <tr>\n",
       "      <th>53</th>\n",
       "      <td>When do you have a complete/full stop</td>\n",
       "      <td>[C]</td>\n",
       "      <td>[C]</td>\n",
       "      <td>1.0</td>\n",
       "      <td>35.897246</td>\n",
       "    </tr>\n",
       "    <tr>\n",
       "      <th>54</th>\n",
       "      <td>You were apprehended because you were engaged ...</td>\n",
       "      <td>[A]</td>\n",
       "      <td>[A, C]</td>\n",
       "      <td>0.0</td>\n",
       "      <td>36.744478</td>\n",
       "    </tr>\n",
       "    <tr>\n",
       "      <th>55</th>\n",
       "      <td>According to the Philippine Clean Air Act of 1...</td>\n",
       "      <td>[C]</td>\n",
       "      <td>[C]</td>\n",
       "      <td>1.0</td>\n",
       "      <td>38.732806</td>\n",
       "    </tr>\n",
       "    <tr>\n",
       "      <th>56</th>\n",
       "      <td>Keeping one's distance lessens the risk of acc...</td>\n",
       "      <td>[C]</td>\n",
       "      <td>[A]</td>\n",
       "      <td>0.0</td>\n",
       "      <td>37.094444</td>\n",
       "    </tr>\n",
       "    <tr>\n",
       "      <th>57</th>\n",
       "      <td>What is the meaning of a blinking yellow traff...</td>\n",
       "      <td>[B]</td>\n",
       "      <td>[B]</td>\n",
       "      <td>1.0</td>\n",
       "      <td>34.564150</td>\n",
       "    </tr>\n",
       "    <tr>\n",
       "      <th>58</th>\n",
       "      <td>What habit will help you prevent getting a fix...</td>\n",
       "      <td>[B]</td>\n",
       "      <td>[B]</td>\n",
       "      <td>1.0</td>\n",
       "      <td>35.919469</td>\n",
       "    </tr>\n",
       "    <tr>\n",
       "      <th>59</th>\n",
       "      <td>You may never park:</td>\n",
       "      <td>[A]</td>\n",
       "      <td>[A, C]</td>\n",
       "      <td>0.0</td>\n",
       "      <td>38.970153</td>\n",
       "    </tr>\n",
       "  </tbody>\n",
       "</table>\n",
       "</div>"
      ],
      "text/plain": [
       "                                             Question  Answer         AI  \\\n",
       "0   If the driver is turning left, he must: (U-tur...     [C]       None   \n",
       "1   When a vehicle starts to skid, what should the...     [B]       None   \n",
       "2   If you are parking uphill without a curb, turn...     [A]        [A]   \n",
       "3   When parking downhill, you should turn your fr...     [A]        [A]   \n",
       "4   Which of the following is the maximum speed li...     [C]       None   \n",
       "5   Never park or stop at the side of the road wit...     [C]       None   \n",
       "6   While driving with maximum speed and you have ...     [C]        [C]   \n",
       "7     What will happen when your rear tire blows out?     [B]        [A]   \n",
       "8   Operating a public utility vehicle equipped wi...     [A]  [A, B, C]   \n",
       "9   Your speed while driving at night should keep on:     [A]     [A, C]   \n",
       "10  Before a private motor vehicle owner can apply...     [C]        [C]   \n",
       "11  What is the meaning of a traffic sign that has...     [A]        [A]   \n",
       "12  It is not conidered safe driving on an express...     [C]        [C]   \n",
       "13         What is considered as a parking violation?     [C]     [A, C]   \n",
       "14                Night driving is dangerous because:     [C]        [C]   \n",
       "15         A pre-trip inspection should be completed:     [C]        [C]   \n",
       "16  While driving the hood of your car lifts up bl...  [A, C]        [C]   \n",
       "17  Graft and corruption in the traffic enforcemen...     [C]       None   \n",
       "18  While driving with a maximum speed and you hav...     [A]        [A]   \n",
       "19  When a vehicle is stalled or disabled, the dri...     [C]        [C]   \n",
       "20  Signs that are round, rectangular with white a...     [B]        [B]   \n",
       "21  In case of injuries caused by an accident, the...     [A]        [A]   \n",
       "22  It refers to the amount of alcohol in a person...     [A]        [A]   \n",
       "23  When planning to overtake a slower vehicle in ...     [B]       None   \n",
       "24  When a driver of PUV refuses to render service...     [A]  [A, B, C]   \n",
       "25  Which of the following hand signals must a dri...     [C]        [C]   \n",
       "26  You were flagged down due to noisy muffle of y...     [B]        [B]   \n",
       "27             When are you permitted to double park?     [A]       None   \n",
       "28  A driver ____ park or stop at the side fo the ...     [A]        [A]   \n",
       "29                        Parking lights may be used:     [B]        [B]   \n",
       "30                          The vehicle is parked if:     [A]        [A]   \n",
       "31  A type of field sobriety test that requires th...     [C]        [C]   \n",
       "32        It is not a safe place to overtake in an/a:     [A]        [A]   \n",
       "33  For drivers of trucks, buses, motorcycles and ...     [B]        [A]   \n",
       "34  What is the meaning of a traffic sign that has...     [C]        [A]   \n",
       "35  When loading or unloading passengers, we usual...     [A]        [A]   \n",
       "36  When two vehicles meet on a gradient road wher...     [A]        [A]   \n",
       "37  When you are parked at the side of the road at...     [A]        [A]   \n",
       "38  The motor vehicle plate and driver's license m...     [A]        [A]   \n",
       "39  When oncoming vehicle (car A) deliberately cro...     [A]        [A]   \n",
       "40  At an intrsection with traffic signals, if you...     [A]       None   \n",
       "41  The penalty of driving a motor vehicle while u...     [B]        [B]   \n",
       "42  When driving on the highway at night, you shou...     [C]        [B]   \n",
       "43  The safest thing to do even if you have the ri...     [A]        [A]   \n",
       "44  It shall mean that the LEO has reasonable grou...     [B]        [B]   \n",
       "45  You are preparing to exit an expressway, when ...     [B]       None   \n",
       "46  How close should another car be before you dim...     [A]       None   \n",
       "47   What will happen when your front tire blows out?     [C]        [C]   \n",
       "48  Parking is considered as a violation when a mo...     [A]        [A]   \n",
       "49  To avoid suspension or revocation, how many da...     [A]        [C]   \n",
       "50  What should you do when an ambulance comes up ...     [D]        [D]   \n",
       "51  To aobtain one's driver's license, one must be...     [B]        [C]   \n",
       "52  Driving with a fake license is prohibited and ...     [C]        [C]   \n",
       "53              When do you have a complete/full stop     [C]        [C]   \n",
       "54  You were apprehended because you were engaged ...     [A]     [A, C]   \n",
       "55  According to the Philippine Clean Air Act of 1...     [C]        [C]   \n",
       "56  Keeping one's distance lessens the risk of acc...     [C]        [A]   \n",
       "57  What is the meaning of a blinking yellow traff...     [B]        [B]   \n",
       "58  What habit will help you prevent getting a fix...     [B]        [B]   \n",
       "59                                You may never park:     [A]     [A, C]   \n",
       "\n",
       "    Score  Inference_times  \n",
       "0     0.0        31.046930  \n",
       "1     0.0        32.962109  \n",
       "2     1.0        31.688846  \n",
       "3     1.0        36.234869  \n",
       "4     0.0        37.051482  \n",
       "5     0.0        31.251813  \n",
       "6     1.0        37.153632  \n",
       "7     0.0        36.816878  \n",
       "8     0.0        36.154871  \n",
       "9     0.0        33.217110  \n",
       "10    1.0        36.148347  \n",
       "11    1.0        35.094170  \n",
       "12    1.0        40.471234  \n",
       "13    0.0        37.988705  \n",
       "14    1.0        33.801535  \n",
       "15    1.0        40.290661  \n",
       "16    0.0        34.356924  \n",
       "17    0.0        41.190869  \n",
       "18    1.0        34.546291  \n",
       "19    1.0        37.475603  \n",
       "20    1.0        37.162329  \n",
       "21    1.0        32.607206  \n",
       "22    1.0        32.875009  \n",
       "23    0.0        39.796098  \n",
       "24    0.0        34.757864  \n",
       "25    1.0        35.357622  \n",
       "26    1.0        33.770443  \n",
       "27    0.0        37.216603  \n",
       "28    1.0        33.514392  \n",
       "29    1.0        36.448707  \n",
       "30    1.0        32.982067  \n",
       "31    1.0        34.167790  \n",
       "32    1.0        36.258603  \n",
       "33    0.0        35.392775  \n",
       "34    0.0        32.885439  \n",
       "35    1.0        30.190245  \n",
       "36    1.0        31.762553  \n",
       "37    1.0        37.265364  \n",
       "38    1.0        34.777919  \n",
       "39    1.0        34.485460  \n",
       "40    0.0        35.024496  \n",
       "41    1.0        37.737728  \n",
       "42    0.0        35.542477  \n",
       "43    1.0        32.263524  \n",
       "44    1.0        39.072815  \n",
       "45    0.0        37.668577  \n",
       "46    0.0        38.046148  \n",
       "47    1.0        39.564269  \n",
       "48    1.0        32.330153  \n",
       "49    0.0        36.316632  \n",
       "50    1.0        37.122766  \n",
       "51    0.0        31.666847  \n",
       "52    1.0        34.953547  \n",
       "53    1.0        35.897246  \n",
       "54    0.0        36.744478  \n",
       "55    1.0        38.732806  \n",
       "56    0.0        37.094444  \n",
       "57    1.0        34.564150  \n",
       "58    1.0        35.919469  \n",
       "59    0.0        38.970153  "
      ]
     },
     "metadata": {},
     "output_type": "display_data"
    }
   ],
   "source": [
    "import re\n",
    "\n",
    "\n",
    "def process_answers(answers):\n",
    "    formatted_answers = []\n",
    "    \n",
    "    for a in answers:\n",
    "        \n",
    "        matches = re.findall(r'\\[?\\s*([A-E](?:\\s*,\\s*[A-E])*)\\s*\\]?', str(a)) # Extract answers like [A, C, D] or [A] or [B, D]\n",
    "        answers = []\n",
    "        for match in matches:\n",
    "            answers.extend(re.split(r'\\s*,\\s*', match))  # Split by comma and remove spaces\n",
    "        unique_sorted_answers = sorted(set(answers), key=lambda x: ['A', 'B', 'C', 'D', 'E'].index(x))\n",
    "        if not unique_sorted_answers:\n",
    "            formatted_answers.append(None)\n",
    "        else:\n",
    "            formatted_answers.append(unique_sorted_answers)\n",
    "    return formatted_answers\n",
    "\n",
    "df_results = df[[\"Question\", \"Answer\", \"AI\", \"Inference_times\"]].copy()\n",
    "df_results['Answer'] = df_results['Answer'].apply(lambda x: x.split(', '))\n",
    "df_results['AI'] = process_answers(df_results[\"AI\"])\n",
    "df_results['Answer'] = process_answers(df_results[\"Answer\"])\n",
    "\n",
    "\n",
    "\n",
    "def calculate_scores(df):\n",
    "    scores = []\n",
    "    for index, row in df.iterrows():\n",
    "        correct_answers = set(row['Answer'] if row['Answer'] is not None else [])\n",
    "        ai_answers = set(row['AI'] if row['AI'] is not None else [])\n",
    "        if ai_answers == correct_answers:\n",
    "            score = 1.0\n",
    "        else:\n",
    "            score = 0.0\n",
    "        scores.append(score)\n",
    "    \n",
    "    df['Score'] = scores\n",
    "    accuracy = scores.count(1.0) / len(scores)\n",
    "    print(f'Final Score: {scores.count(1.0):.2f}/{len(scores):.2f}')\n",
    "    print(f'Accuracy: {accuracy:.2f}%')\n",
    "    return df\n",
    "\n",
    "# Apply the scoring function\n",
    "scored_df = calculate_scores(df_results)\n",
    "\n",
    "# Display the dataframe to verify the results\n",
    "display(scored_df[['Question', 'Answer', 'AI', 'Score', 'Inference_times']])"
   ]
  },
  {
   "cell_type": "code",
   "execution_count": 27,
   "id": "54e3d305",
   "metadata": {},
   "outputs": [],
   "source": [
    "# Generate prompts dynamically\n",
    "def generate_prompt(row):\n",
    "    \n",
    "    # Construct the prompt with few-shot examples\n",
    "    prompt = f\"\\nActual Question: {row['Question']}\\n\" \n",
    "    prompt += \"\\nPlease answer the question based on the given context.\"\n",
    "    \n",
    "    return prompt"
   ]
  },
  {
   "cell_type": "code",
   "execution_count": 28,
   "id": "d54f51a2",
   "metadata": {},
   "outputs": [
    {
     "data": {
      "text/html": [
       "<div>\n",
       "<style scoped>\n",
       "    .dataframe tbody tr th:only-of-type {\n",
       "        vertical-align: middle;\n",
       "    }\n",
       "\n",
       "    .dataframe tbody tr th {\n",
       "        vertical-align: top;\n",
       "    }\n",
       "\n",
       "    .dataframe thead th {\n",
       "        text-align: right;\n",
       "    }\n",
       "</style>\n",
       "<table border=\"1\" class=\"dataframe\">\n",
       "  <thead>\n",
       "    <tr style=\"text-align: right;\">\n",
       "      <th></th>\n",
       "      <th>Question</th>\n",
       "      <th>Answer</th>\n",
       "      <th>Prompt</th>\n",
       "    </tr>\n",
       "  </thead>\n",
       "  <tbody>\n",
       "    <tr>\n",
       "      <th>0</th>\n",
       "      <td>Traffic Jam can be prevented if you</td>\n",
       "      <td>Keep opposing lanes open</td>\n",
       "      <td>\\nActual Question: Traffic Jam can be prevente...</td>\n",
       "    </tr>\n",
       "    <tr>\n",
       "      <th>1</th>\n",
       "      <td>When making a right turn you should</td>\n",
       "      <td>Stay on the outermost lane of the road then si...</td>\n",
       "      <td>\\nActual Question: When making a right turn yo...</td>\n",
       "    </tr>\n",
       "    <tr>\n",
       "      <th>2</th>\n",
       "      <td>When you intend to turn right or left, signal ...</td>\n",
       "      <td>25 meters before you intend to make your turn</td>\n",
       "      <td>\\nActual Question: When you intend to turn rig...</td>\n",
       "    </tr>\n",
       "    <tr>\n",
       "      <th>3</th>\n",
       "      <td>At an intersection with a traffic light, make ...</td>\n",
       "      <td>The green light is on and there is a left turn...</td>\n",
       "      <td>\\nActual Question: At an intersection with a t...</td>\n",
       "    </tr>\n",
       "    <tr>\n",
       "      <th>4</th>\n",
       "      <td>Graft and corruption in the traffic enforcemen...</td>\n",
       "      <td>Self disciplined by drivers and obeying traffi...</td>\n",
       "      <td>\\nActual Question: Graft and corruption in the...</td>\n",
       "    </tr>\n",
       "  </tbody>\n",
       "</table>\n",
       "</div>"
      ],
      "text/plain": [
       "                                            Question  \\\n",
       "0                Traffic Jam can be prevented if you   \n",
       "1                When making a right turn you should   \n",
       "2  When you intend to turn right or left, signal ...   \n",
       "3  At an intersection with a traffic light, make ...   \n",
       "4  Graft and corruption in the traffic enforcemen...   \n",
       "\n",
       "                                              Answer  \\\n",
       "0                           Keep opposing lanes open   \n",
       "1  Stay on the outermost lane of the road then si...   \n",
       "2      25 meters before you intend to make your turn   \n",
       "3  The green light is on and there is a left turn...   \n",
       "4  Self disciplined by drivers and obeying traffi...   \n",
       "\n",
       "                                              Prompt  \n",
       "0  \\nActual Question: Traffic Jam can be prevente...  \n",
       "1  \\nActual Question: When making a right turn yo...  \n",
       "2  \\nActual Question: When you intend to turn rig...  \n",
       "3  \\nActual Question: At an intersection with a t...  \n",
       "4  \\nActual Question: Graft and corruption in the...  "
      ]
     },
     "metadata": {},
     "output_type": "display_data"
    }
   ],
   "source": [
    "# Load the Excel file\n",
    "file_path = '/home/jeryl4913/lto_rag_reviewer/notebooks/eval/LTO_EXAM_QnA.csv'\n",
    "df = pd.read_csv(file_path, encoding='ISO-8859-1')\n",
    "df['Prompt'] = df.apply(generate_prompt, axis=1)\n",
    "display(df.head())"
   ]
  },
  {
   "cell_type": "code",
   "execution_count": 29,
   "id": "17c64672",
   "metadata": {},
   "outputs": [],
   "source": [
    "def generate_response_with_notice(summaries, query, client, model=\"llama3.3\"):\n",
    "    # Combine summaries into context block\n",
    "    context = \"\\n\".join(summaries)\n",
    "    \n",
    "    # Create prompt to answer based on summarized text\n",
    "    prompt = f\"\"\"\n",
    "    Use the following summarized information to answer the query accurately and concisely. \n",
    "    DO NOT USE BACKGROUND KNOWLEDGE OUTSIDE THE CONTEXT PROVIDED.\n",
    "    If the information is not sufficient to fully address the query, respond ONLY with:\n",
    "    \"The available information is insufficient to provide a complete answer to this query.\"\n",
    "\n",
    "    Summarized Context:\n",
    "    {context}\n",
    "    \n",
    "    Query:\n",
    "    {query}\n",
    "    \n",
    "    Response:\n",
    "    \"\"\"\n",
    "    \n",
    "    # Send the prompt to Ollama\n",
    "    response = client.generate(\n",
    "        model=model,\n",
    "        prompt=prompt\n",
    "    )\n",
    "    \n",
    "    return response['response'].strip()"
   ]
  },
  {
   "cell_type": "code",
   "execution_count": 33,
   "id": "6cb9123a",
   "metadata": {},
   "outputs": [],
   "source": [
    "\n",
    "def summarize_context(context: str, client, model: str) -> str:\n",
    "    \n",
    "    prompt_instruction = '''\n",
    "    You are an expert at distilling information into concise summaries. \n",
    "    Read the following context carefully and provide a clear, concise, and accurate summary of the key points. \n",
    "    Ensure that the summary captures the essence of the content without omitting critical details. \n",
    "    \n",
    "    Provide the summarized output enclosed in double quotes.\n",
    "    '''\n",
    "\n",
    "    few_shot_examples = '''\n",
    "    Here is an example of how to do this\n",
    "\n",
    "    Example 1:\n",
    "    Context: High-dimensional feature vectors, derived from complex embedding models, are now critical for applications like e-commerce product search and recommendation, document retrieval, facial recognition, and retrieval-based large language models (LLMs), Pan, J. J., et al.(2024). Traditional database management systems, however, struggle with the unique characteristics of feature vectors due to the nuance of semantic similarity, expensive computational cost, large data size, and lack of indexable structure. Numerous vector database management systems (VDBMSs) have been created to tackle these issues. Typical VDBMSs consist of a query processor that handles different query types and a storage manager that manages large-scale vector indexing, storage, and compression. One key aspect of query processing is similarity scores which is important in capturing similarity relationships between feature vectors. There are various different vector indexing structures and techniques for efficient vector search. Common structures include table-based, tree-based, and graph-based.  Table-based indexes partition vectors into buckets with techniques including locality sensitive hashing (LSH), learning to hash (L2H), and quantization for compression.\n",
    "    Output: \"High-dimensional feature vectors are essential for applications like e-commerce search, document retrieval, facial recognition, and retrieval-based LLMs. Traditional databases struggle to manage these vectors due to their size, computational cost, and the complexity of semantic similarity. Vector database management systems (VDBMSs) address these challenges with specialized query processors and storage managers for indexing, storage, and compression. Efficient vector search relies on similarity scores and various indexing techniques, such as table-based, tree-based, and graph-based structures, with methods like locality sensitive hashing (LSH) and quantization playing a key role.\"\n",
    "    \n",
    "    Now, summarize the following context and provide the response inside double quotes:\n",
    "    '''\n",
    "    \n",
    "    full_prompt = prompt_instruction + few_shot_examples + f\"\\nContext: {context}\"\n",
    "    \n",
    "    try:\n",
    "        response = client.generate(\n",
    "            model=model,\n",
    "            prompt=full_prompt\n",
    "        )\n",
    "\n",
    "        # Extract text within double quotes (literal summary)\n",
    "        matches = re.findall(r'\"([^\"]*)\"', response['response'].strip())\n",
    "\n",
    "        print(f\"Context: {context[:100]}...\")  # Print first 100 chars for readability\n",
    "        print(f\"Summary: {matches[0] if matches else 'No match found'}\")\n",
    "        print('-' * 60)\n",
    "\n",
    "        if matches:\n",
    "            return matches[0]\n",
    "        else:\n",
    "            return \"Summary not available.\"\n",
    "        \n",
    "    except Exception as e:\n",
    "        print(f\"Error during summarization: {e}\")\n",
    "        return \"Error encountered during summarization.\"\n",
    "\n",
    "def cot_qa_format(query, context, client, model):\n",
    "    return f\"\"\"\n",
    "\n",
    "    Let's break down the problem step by step:\n",
    "    1. Identify the key components of the following question: {query}\n",
    "    2. Decompose the retrieved context into key components and extract relevant information step by step. Here is the context: {summarize_context(query, client, model)}\n",
    "    3. Provide the best possible answer based on the reasoning process.\n",
    "    \"\"\"\n",
    "\n",
    "def generate_response_with_cot(summaries, query, client, model=\"llama3.1:8b\", cot_model=\"llama3.1:8b\", para_model=\"llama3.1:8b\"):\n",
    "    \"\"\"\n",
    "    Generate a response using Chain of Thought (CoT) reasoning by passing intermediate\n",
    "    results through successive steps to build a synthesized final answer.\n",
    "    \"\"\"\n",
    "\n",
    "    # 1. Combine summaries into context block\n",
    "    context = \"\\n\".join(summaries)\n",
    "\n",
    "    try:\n",
    "        # 2. Step 1: Generate initial thought process (CoT step 1)\n",
    "        cot_query = cot_qa_format(query, context, client, para_model)\n",
    "        response1 = client.generate(model=cot_model, prompt=cot_query)\n",
    "        reasoning1 = response1['response'].strip()\n",
    "\n",
    "        # 3. Step 2: Refine based on first result\n",
    "        cot_query2 = f\"\"\"\n",
    "        We reasoned that: {reasoning1}\n",
    "        Can you expand on this by addressing additional details or gaps?\n",
    "        {query}\n",
    "        \"\"\"\n",
    "        response2 = client.generate(model=cot_model, prompt=cot_query2)\n",
    "        reasoning2 = response2['response'].strip()\n",
    "\n",
    "        # 5. Aggregate all steps for the final decision\n",
    "        final_query = f\"\"\"\n",
    "        Based on the results:\n",
    "        - Step 1: {reasoning1}\n",
    "        - Step 2: {reasoning2}\n",
    "\n",
    "        Now, synthesize these results and answer this question:\n",
    "        {query + \" Answer which of the choices match the synthesized results.\"}\n",
    "\n",
    "        \"\"\"\n",
    "        \n",
    "        # 6. Final model call to produce the overall response\n",
    "        final_response = client.generate(model=model, prompt=final_query)\n",
    "        \n",
    "        return final_response['response'].strip()\n",
    "\n",
    "\n",
    "    except Exception as e:\n",
    "        print(f\"Error processing prompt: {e}\")\n",
    "        return None\n",
    "\n"
   ]
  },
  {
   "cell_type": "code",
   "execution_count": 34,
   "id": "aeafcb35",
   "metadata": {},
   "outputs": [],
   "source": [
    "def gen_query(query, top_k, client, mode='dense', summary=False, model=\"llama3.3\", chunks_only=False):\n",
    "    response = client.embeddings(prompt=query, model=\"mxbai-embed-large\")\n",
    "    query_embedding = response[\"embedding\"]\n",
    "\n",
    "    top_k_docs = faiss_retriever._retrieve(query_embedding, top_k=top_k)\n",
    "\n",
    "    bm25_retriever = BM25Retriever.from_defaults(\n",
    "    nodes=nodes,\n",
    "    similarity_top_k=top_k,\n",
    "    stemmer=Stemmer.Stemmer(\"english\"),\n",
    "    language=\"english\",\n",
    "    )\n",
    "    retrieved_nodes = bm25_retriever.retrieve(query)\n",
    "\n",
    "    results = {'faiss': top_k_docs, 'bm25':retrieved_nodes}\n",
    "    ranked_results = hybrid_embedding(results, top_k=top_k)\n",
    "\n",
    "    if mode == 'dense':\n",
    "        print('using FAISS')\n",
    "        ans_nodes =top_k_docs\n",
    "    elif mode == 'sparse':\n",
    "        print('using BM25')\n",
    "        ans_nodes = retrieved_nodes\n",
    "    else:\n",
    "        print('using Hybrid')\n",
    "        ans_nodes = ranked_results\n",
    "\n",
    "    parent_flag = True\n",
    "    context = set([get_document_by_chunk_metadata(docs).text for docs in ans_nodes])\n",
    "    if chunks_only:\n",
    "        parent_flag = False\n",
    "        print('using chunks only')\n",
    "        context = [docs.node.text for docs in ans_nodes]\n",
    "        \n",
    "    if summary:\n",
    "        print('using summaries')\n",
    "        context_nodes = remove_duplicate_documents([get_document_by_chunk_metadata(docs) for docs in ans_nodes])\n",
    "\n",
    "        if chunks_only:\n",
    "            context_nodes=ans_nodes\n",
    "        summaries = summarize_each_chunk(context_nodes, client, model='llama3.3', query=query,parent=parent_flag)\n",
    "        context = summaries\n",
    "\n",
    "    answer = generate_response_with_cot(context, query, client, model=model)\n",
    "\n",
    "    # Format the references\n",
    "    references = []\n",
    "    for i, doc in enumerate(ranked_results[:top_k], start=1):\n",
    "        metadata = doc.metadata\n",
    "        source_info = f\"Source {i}: {metadata['title']} (Page {metadata['page']}, Folder: {metadata['folder']})\"\n",
    "        references.append(source_info)\n",
    "\n",
    "    return answer, \"\\n\".join(references), context"
   ]
  },
  {
   "cell_type": "code",
   "execution_count": 35,
   "id": "ac858dd1",
   "metadata": {},
   "outputs": [
    {
     "name": "stderr",
     "output_type": "stream",
     "text": [
      "  0%|          | 0/60 [00:00<?, ?it/s]"
     ]
    },
    {
     "name": "stdout",
     "output_type": "stream",
     "text": [
      "using FAISS\n",
      "Context: \n",
      "Actual Question: Traffic Jam can be prevented if you\n",
      "\n",
      "Please answer the question based on the given...\n",
      "Summary: Traffic jams can be prevented or minimized by adopting alternative modes of transportation, optimizing traffic flow through intelligent systems, reducing congestion by avoiding peak hours, and implementing smart infrastructure such as intelligent intersections.\n",
      "------------------------------------------------------------\n"
     ]
    },
    {
     "name": "stderr",
     "output_type": "stream",
     "text": [
      "  2%|▏         | 1/60 [00:56<56:01, 56.97s/it]"
     ]
    },
    {
     "name": "stdout",
     "output_type": "stream",
     "text": [
      "using FAISS\n",
      "Context: \n",
      "Actual Question: When making a right turn you should\n",
      "\n",
      "Please answer the question based on the given...\n",
      "Summary: Before executing a right turn, it's essential to check for oncoming traffic and pedestrians. The correct procedure typically involves yielding to other drivers and pedestrians in the adjacent lane, signaling your intention to turn, and checking that the way ahead is clear before proceeding with the turn.\n",
      "------------------------------------------------------------\n"
     ]
    },
    {
     "name": "stderr",
     "output_type": "stream",
     "text": [
      "  3%|▎         | 2/60 [01:50<53:20, 55.18s/it]"
     ]
    },
    {
     "name": "stdout",
     "output_type": "stream",
     "text": [
      "using FAISS\n",
      "Context: \n",
      "Actual Question: When you intend to turn right or left, signal your intention at least\n",
      "\n",
      "Please answ...\n",
      "Summary: According to driving rules, when you intend to turn right or left, it is mandatory to signal your intention at least _______________. (fill in the blank)\n",
      "------------------------------------------------------------\n"
     ]
    },
    {
     "name": "stderr",
     "output_type": "stream",
     "text": [
      "  5%|▌         | 3/60 [02:24<43:02, 45.31s/it]"
     ]
    },
    {
     "name": "stdout",
     "output_type": "stream",
     "text": [
      "using FAISS\n",
      "Context: \n",
      "Actual Question: At an intersection with a traffic light, make left turn only when\n",
      "\n",
      "Please answer t...\n",
      "Summary: Make left turn at an intersection with a traffic light only when _______________________.\n",
      "------------------------------------------------------------\n"
     ]
    },
    {
     "name": "stderr",
     "output_type": "stream",
     "text": [
      "  7%|▋         | 4/60 [03:11<42:52, 45.93s/it]"
     ]
    },
    {
     "name": "stdout",
     "output_type": "stream",
     "text": [
      "using FAISS\n",
      "Context: \n",
      "Actual Question: Graft and corruption in the traffic enforcement system can be eliminated by\n",
      "\n",
      "Pleas...\n",
      "Summary: No match found\n",
      "------------------------------------------------------------\n"
     ]
    },
    {
     "name": "stderr",
     "output_type": "stream",
     "text": [
      "  8%|▊         | 5/60 [03:59<42:44, 46.62s/it]"
     ]
    },
    {
     "name": "stdout",
     "output_type": "stream",
     "text": [
      "using FAISS\n",
      "Context: \n",
      "Actual Question: On a four(4) lane road with single white line, you can\n",
      "\n",
      "Please answer the question...\n",
      "Summary: Pass one vehicle in the opposite direction.\n",
      "------------------------------------------------------------\n"
     ]
    },
    {
     "name": "stderr",
     "output_type": "stream",
     "text": [
      " 10%|█         | 6/60 [05:10<49:30, 55.01s/it]"
     ]
    },
    {
     "name": "stdout",
     "output_type": "stream",
     "text": [
      "using FAISS\n",
      "Context: \n",
      "Actual Question: A double solid yellow line with broken white line in between means\n",
      "\n",
      "Please answer ...\n",
      "Summary: Passing on either side of a double solid yellow line with a broken white line in between allows passing when it is safe to do so, while the broken white line indicates that you cannot pass another vehicle traveling in the same direction.\n",
      "------------------------------------------------------------\n"
     ]
    },
    {
     "name": "stderr",
     "output_type": "stream",
     "text": [
      " 12%|█▏        | 7/60 [05:56<46:01, 52.11s/it]"
     ]
    },
    {
     "name": "stdout",
     "output_type": "stream",
     "text": [
      "using FAISS\n",
      "Context: \n",
      "Actual Question: When making a U-Turn, you should\n",
      "\n",
      "Please answer the question based on the given co...\n",
      "Summary: Before changing lanes or direction, signal your intentions clearly and check blind spots to ensure it is safe to make the turn.\n",
      "------------------------------------------------------------\n"
     ]
    },
    {
     "name": "stderr",
     "output_type": "stream",
     "text": [
      " 13%|█▎        | 8/60 [06:35<41:26, 47.81s/it]"
     ]
    },
    {
     "name": "stdout",
     "output_type": "stream",
     "text": [
      "using FAISS\n",
      "Context: \n",
      "Actual Question: Signs that are triangular in shape and with a red colored border are called\n",
      "\n",
      "Pleas...\n",
      "Summary: Warning signs are typically triangular in shape and have a red bordered edge.\n",
      "------------------------------------------------------------\n"
     ]
    },
    {
     "name": "stderr",
     "output_type": "stream",
     "text": [
      " 15%|█▌        | 9/60 [07:17<39:17, 46.22s/it]"
     ]
    },
    {
     "name": "stdout",
     "output_type": "stream",
     "text": [
      "using FAISS\n",
      "Context: \n",
      "Actual Question: Signs that are round, inverted triangle or octagonal and with red colored boarders...\n",
      "Summary: Signs that are round, inverted triangle or octagonal and have a red-colored border are called Stop signs.\n",
      "------------------------------------------------------------\n"
     ]
    },
    {
     "name": "stderr",
     "output_type": "stream",
     "text": [
      " 17%|█▋        | 10/60 [07:51<35:16, 42.33s/it]"
     ]
    },
    {
     "name": "stdout",
     "output_type": "stream",
     "text": [
      "using FAISS\n",
      "Context: \n",
      "Actual Question: Signs that are round, rectangular with white and blue background are called\n",
      "\n",
      "Pleas...\n",
      "Summary: Signs that are round, rectangular with a white and blue background are called 'Roundabouts'.\n",
      "------------------------------------------------------------\n"
     ]
    },
    {
     "name": "stderr",
     "output_type": "stream",
     "text": [
      " 18%|█▊        | 11/60 [08:28<33:12, 40.67s/it]"
     ]
    },
    {
     "name": "stdout",
     "output_type": "stream",
     "text": [
      "using FAISS\n",
      "Context: \n",
      "Actual Question: Single with broken line on a two-lane road means\n",
      "\n",
      "Please answer the question based...\n",
      "Summary: Single with broken line on a two-lane road means yield to traffic in both directions.\n",
      "------------------------------------------------------------\n"
     ]
    },
    {
     "name": "stderr",
     "output_type": "stream",
     "text": [
      " 20%|██        | 12/60 [09:06<31:53, 39.87s/it]"
     ]
    },
    {
     "name": "stdout",
     "output_type": "stream",
     "text": [
      "using FAISS\n",
      "Context: \n",
      "Actual Question: What to do when you approach a crosswalk or pedestrian lane?\n",
      "\n",
      "Please answer the qu...\n",
      "Summary: Before approaching a crosswalk or pedestrian lane, always stop and look left, right, and then left again for any approaching vehicles, bicyclists, or pedestrians. Make eye contact with drivers if possible to ensure they see you. If using a pedestrian signal, wait for the walk signal before crossing. Be aware of your surroundings, including traffic conditions, weather, and road hazards, and use caution when crossing. Additionally, be mindful of right-of-way rules and follow traffic signals or signs indicating who has priority.\n",
      "------------------------------------------------------------\n"
     ]
    },
    {
     "name": "stderr",
     "output_type": "stream",
     "text": [
      " 22%|██▏       | 13/60 [10:07<36:18, 46.34s/it]"
     ]
    },
    {
     "name": "stdout",
     "output_type": "stream",
     "text": [
      "using FAISS\n",
      "Context: \n",
      "Actual Question: Driving an unregistered motor vehicle is a violation with a fine of\n",
      "\n",
      "Please answer...\n",
      "Summary: Driving an unregistered motor vehicle is a violation with a fine of $300.\n",
      "------------------------------------------------------------\n"
     ]
    },
    {
     "name": "stderr",
     "output_type": "stream",
     "text": [
      " 23%|██▎       | 14/60 [10:40<32:23, 42.25s/it]"
     ]
    },
    {
     "name": "stdout",
     "output_type": "stream",
     "text": [
      "using FAISS\n",
      "Context: \n",
      "Actual Question: Considered a parking violation?\n",
      "\n",
      "Please answer the question based on the given con...\n",
      "Summary: Based on the given context, it appears that the individual has committed a parking infraction.\n",
      "------------------------------------------------------------\n"
     ]
    },
    {
     "name": "stderr",
     "output_type": "stream",
     "text": [
      " 25%|██▌       | 15/60 [11:14<29:49, 39.76s/it]"
     ]
    },
    {
     "name": "stdout",
     "output_type": "stream",
     "text": [
      "using FAISS\n",
      "Context: \n",
      "Actual Question: Green light at an intersection means\n",
      "\n",
      "Please answer the question based on the give...\n",
      "Summary: Green light at an intersection means proceed with caution and yield to pedestrians.\n",
      "------------------------------------------------------------\n"
     ]
    },
    {
     "name": "stderr",
     "output_type": "stream",
     "text": [
      " 27%|██▋       | 16/60 [11:49<28:05, 38.31s/it]"
     ]
    },
    {
     "name": "stdout",
     "output_type": "stream",
     "text": [
      "using FAISS\n",
      "Context: \n",
      "Actual Question: Steady red light at an intersection means\n",
      "\n",
      "Please answer the question based on the...\n",
      "Summary: Steady red light at an intersection means drivers must come to a complete stop before the crosswalk, regardless of whether they are turning or going straight.\n",
      "------------------------------------------------------------\n"
     ]
    },
    {
     "name": "stderr",
     "output_type": "stream",
     "text": [
      " 28%|██▊       | 17/60 [12:28<27:36, 38.52s/it]"
     ]
    },
    {
     "name": "stdout",
     "output_type": "stream",
     "text": [
      "using FAISS\n",
      "Context: \n",
      "Actual Question: The penalty of driving a motor vehicle while under the influence of alcohol for th...\n",
      "Summary: No match found\n",
      "------------------------------------------------------------\n"
     ]
    },
    {
     "name": "stderr",
     "output_type": "stream",
     "text": [
      " 30%|███       | 18/60 [13:16<28:53, 41.28s/it]"
     ]
    },
    {
     "name": "stdout",
     "output_type": "stream",
     "text": [
      "using FAISS\n",
      "Context: \n",
      "Actual Question: When a driver of PUV refuses to render service, convey passengers, such violation ...\n",
      "Summary: Under traffic laws, when a Public Utility Vehicle (PUV) driver refuses to render service or convey passengers, they are liable for a penalty as per the relevant traffic regulations.\n",
      "------------------------------------------------------------\n"
     ]
    },
    {
     "name": "stderr",
     "output_type": "stream",
     "text": [
      " 32%|███▏      | 19/60 [14:08<30:34, 44.73s/it]"
     ]
    },
    {
     "name": "stdout",
     "output_type": "stream",
     "text": [
      "using FAISS\n",
      "Context: \n",
      "Actual Question: If the driver is using a motor vehicle in committing a crime and is convicted, his...\n",
      "Summary: Revoked.\n",
      "------------------------------------------------------------\n"
     ]
    },
    {
     "name": "stderr",
     "output_type": "stream",
     "text": [
      " 33%|███▎      | 20/60 [14:41<27:20, 41.02s/it]"
     ]
    },
    {
     "name": "stdout",
     "output_type": "stream",
     "text": [
      "using FAISS\n",
      "Context: \n",
      "Actual Question: The minimum distance away from the vehicle are following\n",
      "\n",
      "Please answer the questi...\n",
      "Summary: The minimum safe distance for pedestrians to stand near a stopped vehicle is usually considered to be around 10-15 feet (3-4.5 meters) behind it and at least one foot away from the curb. However, this can vary depending on factors such as road conditions, traffic speed, and local regulations.\n",
      "------------------------------------------------------------\n"
     ]
    },
    {
     "name": "stderr",
     "output_type": "stream",
     "text": [
      " 35%|███▌      | 21/60 [15:26<27:31, 42.35s/it]"
     ]
    },
    {
     "name": "stdout",
     "output_type": "stream",
     "text": [
      "using FAISS\n",
      "Context: \n",
      "Actual Question: When do you have a complete/full stop?\n",
      "\n",
      "Please answer the question based on the gi...\n",
      "Summary: When do you have a complete/full stop?\n",
      "------------------------------------------------------------\n"
     ]
    },
    {
     "name": "stderr",
     "output_type": "stream",
     "text": [
      " 37%|███▋      | 22/60 [16:09<26:54, 42.49s/it]"
     ]
    },
    {
     "name": "stdout",
     "output_type": "stream",
     "text": [
      "using FAISS\n",
      "Context: \n",
      "Actual Question: On a two-lane road, overtaking is only allowed only at the\n",
      "\n",
      "Please answer the ques...\n",
      "Summary: Overtaking is only allowed on a two-lane road at designated places such as overtake bays or when indicated by signs.\n",
      "------------------------------------------------------------\n"
     ]
    },
    {
     "name": "stderr",
     "output_type": "stream",
     "text": [
      " 38%|███▊      | 23/60 [16:47<25:21, 41.11s/it]"
     ]
    },
    {
     "name": "stdout",
     "output_type": "stream",
     "text": [
      "using FAISS\n",
      "Context: \n",
      "Actual Question: Parking is considered as a violation when a motor vehicle\n",
      "\n",
      "Please answer the quest...\n",
      "Summary: Is parking considered a violation when a motor vehicle is involved?\n",
      "------------------------------------------------------------\n"
     ]
    },
    {
     "name": "stderr",
     "output_type": "stream",
     "text": [
      " 40%|████      | 24/60 [17:34<25:47, 42.98s/it]"
     ]
    },
    {
     "name": "stdout",
     "output_type": "stream",
     "text": [
      "using FAISS\n",
      "Context: \n",
      "Actual Question: Parking is prohibited\n",
      "\n",
      "Please answer the question based on the given context....\n",
      "Summary: According to the provided information, parking is not allowed.\n",
      "------------------------------------------------------------\n"
     ]
    },
    {
     "name": "stderr",
     "output_type": "stream",
     "text": [
      " 42%|████▏     | 25/60 [18:09<23:38, 40.53s/it]"
     ]
    },
    {
     "name": "stdout",
     "output_type": "stream",
     "text": [
      "using FAISS\n",
      "Context: \n",
      "Actual Question: When the traffic light is steady green and steady left/right arrow\n",
      "\n",
      "Please answer ...\n",
      "Summary: \n",
      "------------------------------------------------------------\n"
     ]
    },
    {
     "name": "stderr",
     "output_type": "stream",
     "text": [
      " 43%|████▎     | 26/60 [18:46<22:22, 39.49s/it]"
     ]
    },
    {
     "name": "stdout",
     "output_type": "stream",
     "text": [
      "using FAISS\n",
      "Context: \n",
      "Actual Question: What is the maximum penalty for driving under the influence of liquor or prohibite...\n",
      "Summary: According to the relevant laws and regulations, the maximum penalty for driving under the influence of liquor or prohibited drugs includes a fine not exceeding $2,500 and/or imprisonment for a term not exceeding 3 months.\n",
      "------------------------------------------------------------\n"
     ]
    },
    {
     "name": "stderr",
     "output_type": "stream",
     "text": [
      " 45%|████▌     | 27/60 [19:26<21:47, 39.62s/it]"
     ]
    },
    {
     "name": "stdout",
     "output_type": "stream",
     "text": [
      "using FAISS\n",
      "Context: \n",
      "Actual Question: On a wet road, you must\n",
      "\n",
      "Please answer the question based on the given context....\n",
      "Summary: Reduce speed to maintain control and safety.\n",
      "------------------------------------------------------------\n"
     ]
    },
    {
     "name": "stderr",
     "output_type": "stream",
     "text": [
      " 47%|████▋     | 28/60 [20:03<20:38, 38.69s/it]"
     ]
    },
    {
     "name": "stdout",
     "output_type": "stream",
     "text": [
      "using FAISS\n",
      "Context: \n",
      "Actual Question: While driving with a maximum speed and you have to stop suddenly, you should\n",
      "\n",
      "Plea...\n",
      "Summary: Press the brakes firmly but smoothly, without slamming them down, as sudden and harsh braking can cause your vehicle to skid or lose control.\n",
      "------------------------------------------------------------\n"
     ]
    },
    {
     "name": "stderr",
     "output_type": "stream",
     "text": [
      " 48%|████▊     | 29/60 [20:44<20:23, 39.47s/it]"
     ]
    },
    {
     "name": "stdout",
     "output_type": "stream",
     "text": [
      "using FAISS\n",
      "Context: \n",
      "Actual Question: When another vehicle is following you too closely, you should\n",
      "\n",
      "Please answer the q...\n",
      "Summary: Double your following gap to at least 4 seconds to maintain a safe distance from the preceding vehicle and allow sufficient time to react in case of an emergency stop.\n",
      "------------------------------------------------------------\n"
     ]
    },
    {
     "name": "stderr",
     "output_type": "stream",
     "text": [
      " 50%|█████     | 30/60 [21:28<20:25, 40.83s/it]"
     ]
    },
    {
     "name": "stdout",
     "output_type": "stream",
     "text": [
      "using FAISS\n",
      "Context: \n",
      "Actual Question: The driver of the vehicle behind you should always practice the 3-second rule to p...\n",
      "Summary: Following distance is too short.\n",
      "------------------------------------------------------------\n"
     ]
    },
    {
     "name": "stderr",
     "output_type": "stream",
     "text": [
      " 52%|█████▏    | 31/60 [22:08<19:35, 40.53s/it]"
     ]
    },
    {
     "name": "stdout",
     "output_type": "stream",
     "text": [
      "using FAISS\n",
      "Context: \n",
      "Actual Question: When parking uphill without a curb, turn your wheels\n",
      "\n",
      "Please answer the question b...\n",
      "Summary: Turning your wheels when parking uphill without a curb helps to prevent rolling or skidding backward down the slope by maintaining traction and balance.\n",
      "------------------------------------------------------------\n"
     ]
    },
    {
     "name": "stderr",
     "output_type": "stream",
     "text": [
      " 53%|█████▎    | 32/60 [22:47<18:46, 40.23s/it]"
     ]
    },
    {
     "name": "stdout",
     "output_type": "stream",
     "text": [
      "using FAISS\n",
      "Context: \n",
      "Actual Question: When parking downhill, you must\n",
      "\n",
      "Please answer the question based on the given con...\n",
      "Summary: Always turn your wheels towards the curb to prevent rolling backwards and potential accidents.\n",
      "------------------------------------------------------------\n"
     ]
    },
    {
     "name": "stderr",
     "output_type": "stream",
     "text": [
      " 55%|█████▌    | 33/60 [23:25<17:41, 39.31s/it]"
     ]
    },
    {
     "name": "stdout",
     "output_type": "stream",
     "text": [
      "using FAISS\n",
      "Context: \n",
      "Actual Question: When parking uphill, you must\n",
      "\n",
      "Please answer the question based on the given conte...\n",
      "Summary: When parking uphill, you must ensure your vehicle is in reverse gear and apply gentle pressure to the brake pedal while slowly reversing into the space, keeping an eye on your mirrors and looking over your shoulder for clearance.\n",
      "------------------------------------------------------------\n"
     ]
    },
    {
     "name": "stderr",
     "output_type": "stream",
     "text": [
      " 57%|█████▋    | 34/60 [24:18<18:52, 43.54s/it]"
     ]
    },
    {
     "name": "stdout",
     "output_type": "stream",
     "text": [
      "using FAISS\n",
      "Context: \n",
      "Actual Question: When you make an abrupt move especially when you are on a wet and possibly slipper...\n",
      "Summary: When you make an abrupt move, especially on a wet and possibly slippery road, the sudden application of brakes is what can cause you to skid and lose control.\n",
      "------------------------------------------------------------\n"
     ]
    },
    {
     "name": "stderr",
     "output_type": "stream",
     "text": [
      " 58%|█████▊    | 35/60 [24:57<17:37, 42.30s/it]"
     ]
    },
    {
     "name": "stdout",
     "output_type": "stream",
     "text": [
      "using FAISS\n",
      "Context: \n",
      "Actual Question: Whenever you are driving, especially when overtaking\n",
      "\n",
      "Please answer the question b...\n",
      "Summary: Whenever you are driving, especially when overtaking\n",
      "------------------------------------------------------------\n"
     ]
    },
    {
     "name": "stderr",
     "output_type": "stream",
     "text": [
      " 60%|██████    | 36/60 [25:48<17:56, 44.84s/it]"
     ]
    },
    {
     "name": "stdout",
     "output_type": "stream",
     "text": [
      "using FAISS\n",
      "Context: \n",
      "Actual Question: When driving on a highway, do not stare at the vehicle in front of you, instead yo...\n",
      "Summary: Maintain a safe distance from it by keeping your eyes on the road ahead and focusing on the horizon or a point at least 15-20 feet in front of your vehicle.\n",
      "------------------------------------------------------------\n"
     ]
    },
    {
     "name": "stderr",
     "output_type": "stream",
     "text": [
      " 62%|██████▏   | 37/60 [26:29<16:43, 43.61s/it]"
     ]
    },
    {
     "name": "stdout",
     "output_type": "stream",
     "text": [
      "using FAISS\n",
      "Context: \n",
      "Actual Question: When driving on a mountain roads during daytime, you should\n",
      "\n",
      "Please answer the que...\n",
      "Summary: Always use headlights when driving on mountain roads during the day to increase visibility and reduce the risk of accidents.\n",
      "------------------------------------------------------------\n"
     ]
    },
    {
     "name": "stderr",
     "output_type": "stream",
     "text": [
      " 63%|██████▎   | 38/60 [27:10<15:46, 43.01s/it]"
     ]
    },
    {
     "name": "stdout",
     "output_type": "stream",
     "text": [
      "using FAISS\n",
      "Context: \n",
      "Actual Question: When driving downhill on a mountain road always\n",
      "\n",
      "Please answer the question based ...\n",
      "Summary: No match found\n",
      "------------------------------------------------------------\n"
     ]
    },
    {
     "name": "stderr",
     "output_type": "stream",
     "text": [
      " 65%|██████▌   | 39/60 [27:53<14:57, 42.76s/it]"
     ]
    },
    {
     "name": "stdout",
     "output_type": "stream",
     "text": [
      "using FAISS\n",
      "Context: \n",
      "Actual Question: The headlights should be used often as needed to\n",
      "\n",
      "Please answer the question based...\n",
      "Summary: Headlights should be used often as needed in low-light conditions or at night for optimal visibility and safety while driving.\n",
      "------------------------------------------------------------\n"
     ]
    },
    {
     "name": "stderr",
     "output_type": "stream",
     "text": [
      " 67%|██████▋   | 40/60 [28:35<14:12, 42.61s/it]"
     ]
    },
    {
     "name": "stdout",
     "output_type": "stream",
     "text": [
      "using FAISS\n",
      "Context: \n",
      "Actual Question: At an intersection, if two (2) vehicles arrived at the same time, which vehicle ha...\n",
      "Summary: According to standard traffic rules, when two vehicles arrive at an intersection simultaneously, they must proceed with caution and yield to the vehicle on their right.\n",
      "------------------------------------------------------------\n"
     ]
    },
    {
     "name": "stderr",
     "output_type": "stream",
     "text": [
      " 68%|██████▊   | 41/60 [29:13<13:05, 41.36s/it]"
     ]
    },
    {
     "name": "stdout",
     "output_type": "stream",
     "text": [
      "using FAISS\n",
      "Context: \n",
      "Actual Question: When negotiating a curve on a highway at a relatively high speed, you should\n",
      "\n",
      "Plea...\n",
      "Summary: According to standard driving practices, when navigating a curve on a highway at a moderate to high speed, it is crucial to reduce your speed accordingly to maintain control and safety. This is because excessive speed can lead to loss of traction or skidding, increasing the risk of an accident. Therefore, it is recommended that you slow down and follow posted speed limits through curves to ensure safe passage.\n",
      "------------------------------------------------------------\n"
     ]
    },
    {
     "name": "stderr",
     "output_type": "stream",
     "text": [
      " 70%|███████   | 42/60 [29:53<12:17, 40.97s/it]"
     ]
    },
    {
     "name": "stdout",
     "output_type": "stream",
     "text": [
      "using FAISS\n",
      "Context: \n",
      "Actual Question: When planning to overtake a slower vehicle in front of you at night, you should\n",
      "\n",
      "P...\n",
      "Summary: Highways, especially during nighttime driving, often pose a challenge when it comes to overtaking slower vehicles due to reduced visibility and increased risk of accidents. When planning to overtake a slower vehicle in front of you at night, a key consideration is ensuring sufficient time and distance to safely maneuver around the other vehicle, taking into account factors such as speed limits, road conditions, and potential hazards.\n",
      "------------------------------------------------------------\n"
     ]
    },
    {
     "name": "stderr",
     "output_type": "stream",
     "text": [
      " 72%|███████▏  | 43/60 [30:52<13:07, 46.35s/it]"
     ]
    },
    {
     "name": "stdout",
     "output_type": "stream",
     "text": [
      "using FAISS\n",
      "Context: \n",
      "Actual Question: Driving in heavy rains can be extremely dangerous because visibility is limited. W...\n",
      "Summary: Driving in heavy rain can be hazardous due to reduced visibility. To ensure safety, it's essential to exercise caution and follow guidelines for safe driving during such conditions.\n",
      "------------------------------------------------------------\n"
     ]
    },
    {
     "name": "stderr",
     "output_type": "stream",
     "text": [
      " 73%|███████▎  | 44/60 [31:49<13:11, 49.44s/it]"
     ]
    },
    {
     "name": "stdout",
     "output_type": "stream",
     "text": [
      "using FAISS\n",
      "Context: \n",
      "Actual Question: A flashing red light means\n",
      "\n",
      "Please answer the question based on the given context....\n",
      "Summary: A flashing red light generally indicates an alert or warning signal, often used in traffic management systems to inform drivers of potential hazards, such as pedestrians crossing the road, school zones, or emergency vehicles approaching.\n",
      "------------------------------------------------------------\n"
     ]
    },
    {
     "name": "stderr",
     "output_type": "stream",
     "text": [
      " 75%|███████▌  | 45/60 [32:28<11:36, 46.45s/it]"
     ]
    },
    {
     "name": "stdout",
     "output_type": "stream",
     "text": [
      "using FAISS\n",
      "Context: \n",
      "Actual Question: Your speed while driving at night should keep on\n",
      "\n",
      "Please answer the question based...\n",
      "Summary: Your speed while driving at night should keep on matching with your ability to react in low visibility.\n",
      "------------------------------------------------------------\n"
     ]
    },
    {
     "name": "stderr",
     "output_type": "stream",
     "text": [
      " 77%|███████▋  | 46/60 [33:07<10:15, 43.99s/it]"
     ]
    },
    {
     "name": "stdout",
     "output_type": "stream",
     "text": [
      "using FAISS\n",
      "Context: \n",
      "Actual Question: One that affects your visibility?\n",
      "\n",
      "Please answer the question based on the given c...\n",
      "Summary: One that affects your visibility?\n",
      "------------------------------------------------------------\n"
     ]
    },
    {
     "name": "stderr",
     "output_type": "stream",
     "text": [
      " 78%|███████▊  | 47/60 [33:42<08:58, 41.40s/it]"
     ]
    },
    {
     "name": "stdout",
     "output_type": "stream",
     "text": [
      "using FAISS\n",
      "Context: \n",
      "Actual Question: When driving at night, you should\n",
      "\n",
      "Please answer the question based on the given c...\n",
      "Summary: Dim your high beams and use low-beam headlights or fog lights in low-visibility conditions.\n",
      "------------------------------------------------------------\n"
     ]
    },
    {
     "name": "stderr",
     "output_type": "stream",
     "text": [
      " 80%|████████  | 48/60 [34:27<08:29, 42.48s/it]"
     ]
    },
    {
     "name": "stdout",
     "output_type": "stream",
     "text": [
      "using FAISS\n",
      "Context: \n",
      "Actual Question: Being passed is normal part of driving and should not be taken as an insult to one...\n",
      "Summary: context\n",
      "------------------------------------------------------------\n"
     ]
    },
    {
     "name": "stderr",
     "output_type": "stream",
     "text": [
      " 82%|████████▏ | 49/60 [35:11<07:51, 42.87s/it]"
     ]
    },
    {
     "name": "stdout",
     "output_type": "stream",
     "text": [
      "using FAISS\n",
      "Context: \n",
      "Actual Question: When oncoming vehicle deliberately crosses the centerline to pass another vehicle,...\n",
      "Summary: Be prepared to take evasive action, such as swerving or braking, but do not attempt to re-enter the other lane immediately after the vehicle has passed.\n",
      "------------------------------------------------------------\n"
     ]
    },
    {
     "name": "stderr",
     "output_type": "stream",
     "text": [
      " 83%|████████▎ | 50/60 [36:02<07:32, 45.24s/it]"
     ]
    },
    {
     "name": "stdout",
     "output_type": "stream",
     "text": [
      "using FAISS\n",
      "Context: \n",
      "Actual Question: When approaching a flooded area and you have to go through it, what should you do?...\n",
      "Summary: Approaching a flooded area requires caution due to potential hazards such as fast-moving water, unstable terrain, and hidden obstacles. To safely navigate through a flooded area, look for higher ground or follow evacuation routes if possible. If passage is unavoidable, wade through the water with slow and deliberate steps, keeping your feet shoulder-width apart, with one foot in front of the other. Avoid stepping on objects that can cause you to lose balance or get swept away by strong currents. Be aware of potential hazards such as sharp debris, slippery surfaces, and collapsing structures. Keep your head above water to avoid drowning, and consider wearing a flotation device if available.\n",
      "------------------------------------------------------------\n"
     ]
    },
    {
     "name": "stderr",
     "output_type": "stream",
     "text": [
      " 85%|████████▌ | 51/60 [36:50<06:56, 46.28s/it]"
     ]
    },
    {
     "name": "stdout",
     "output_type": "stream",
     "text": [
      "using FAISS\n",
      "Context: \n",
      "Actual Question: A single solid yellow or white line means\n",
      "\n",
      "Please answer the question based on the...\n",
      "Summary: According to driving regulations, a single solid yellow or white line indicates that passing is permitted.\n",
      "------------------------------------------------------------\n"
     ]
    },
    {
     "name": "stderr",
     "output_type": "stream",
     "text": [
      " 87%|████████▋ | 52/60 [37:21<05:32, 41.62s/it]"
     ]
    },
    {
     "name": "stdout",
     "output_type": "stream",
     "text": [
      "using FAISS\n",
      "Context: \n",
      "Actual Question: Passing/overtaking is allowed\n",
      "\n",
      "Please answer the question based on the given conte...\n",
      "Summary: Passing or overtaking is generally allowed in most jurisdictions, but specific regulations may vary depending on location and road conditions. It's essential to be aware of local laws, traffic signs, and weather conditions before attempting to pass or overtake another vehicle.\n",
      "------------------------------------------------------------\n"
     ]
    },
    {
     "name": "stderr",
     "output_type": "stream",
     "text": [
      " 88%|████████▊ | 53/60 [37:59<04:43, 40.46s/it]"
     ]
    },
    {
     "name": "stdout",
     "output_type": "stream",
     "text": [
      "using FAISS\n",
      "Context: \n",
      "Actual Question: A driver on a highway shall yield the right of way to\n",
      "\n",
      "Please answer the question ...\n",
      "Summary: According to traffic regulations, a driver on a highway shall yield the right of way to vehicles approaching from either direction at intersections or junctions with lesser speed limits, pedestrians, bicycles, and other drivers who have arrived first.\n",
      "------------------------------------------------------------\n"
     ]
    },
    {
     "name": "stderr",
     "output_type": "stream",
     "text": [
      " 90%|█████████ | 54/60 [38:45<04:13, 42.30s/it]"
     ]
    },
    {
     "name": "stdout",
     "output_type": "stream",
     "text": [
      "using FAISS\n",
      "Context: \n",
      "Actual Question: A driver on a highway shall yield the right of way to\n",
      "\n",
      "Please answer the question ...\n",
      "Summary: According to traffic rules, a driver on a highway must yield the right of way to vehicles merging from an intersecting road or entering the highway from a ramp.\n",
      "------------------------------------------------------------\n"
     ]
    },
    {
     "name": "stderr",
     "output_type": "stream",
     "text": [
      " 92%|█████████▏| 55/60 [39:18<03:16, 39.37s/it]"
     ]
    },
    {
     "name": "stdout",
     "output_type": "stream",
     "text": [
      "using FAISS\n",
      "Context: \n",
      "Actual Question: This traffic signs warns you that school children may be present in the vicinity\n",
      "\n",
      "...\n",
      "Summary: Warning: Presence of school children.\n",
      "------------------------------------------------------------\n"
     ]
    },
    {
     "name": "stderr",
     "output_type": "stream",
     "text": [
      " 93%|█████████▎| 56/60 [40:09<02:51, 42.83s/it]"
     ]
    },
    {
     "name": "stdout",
     "output_type": "stream",
     "text": [
      "using FAISS\n",
      "Context: \n",
      "Actual Question: The signal warns of a hazard ahead\n",
      "\n",
      "Please answer the question based on the given ...\n",
      "Summary: context\n",
      "------------------------------------------------------------\n"
     ]
    },
    {
     "name": "stderr",
     "output_type": "stream",
     "text": [
      " 95%|█████████▌| 57/60 [40:46<02:03, 41.20s/it]"
     ]
    },
    {
     "name": "stdout",
     "output_type": "stream",
     "text": [
      "using FAISS\n",
      "Context: \n",
      "Actual Question: This traffic sign states direction and distances\n",
      "\n",
      "Please answer the question based...\n",
      "Summary: According to the information provided, the traffic sign in question indicates both directions and distances.\n",
      "------------------------------------------------------------\n"
     ]
    },
    {
     "name": "stderr",
     "output_type": "stream",
     "text": [
      " 97%|█████████▋| 58/60 [41:24<01:20, 40.33s/it]"
     ]
    },
    {
     "name": "stdout",
     "output_type": "stream",
     "text": [
      "using FAISS\n",
      "Context: \n",
      "Actual Question: The mark for a railway crossing\n",
      "\n",
      "Please answer the question based on the given con...\n",
      "Summary: No match found\n",
      "------------------------------------------------------------\n"
     ]
    },
    {
     "name": "stderr",
     "output_type": "stream",
     "text": [
      " 98%|█████████▊| 59/60 [42:16<00:43, 43.58s/it]"
     ]
    },
    {
     "name": "stdout",
     "output_type": "stream",
     "text": [
      "using FAISS\n",
      "Context: \n",
      "Actual Question: Children must be held in approved child restraint if there are\n",
      "\n",
      "Please answer the ...\n",
      "Summary: Under 40 pounds (or approximately 18 kg) and/or under 4 years old.\n",
      "------------------------------------------------------------\n"
     ]
    },
    {
     "name": "stderr",
     "output_type": "stream",
     "text": [
      "100%|██████████| 60/60 [42:50<00:00, 42.84s/it]\n"
     ]
    }
   ],
   "source": [
    "import time\n",
    "qr_range = (0,60)\n",
    "df[\"AI\"] = np.nan\n",
    "ai_answer = []\n",
    "inference_times = []\n",
    "\n",
    "for i in tqdm(range(*qr_range)):\n",
    "    start_time = time.time()\n",
    "    ai_answer.append(gen_query(df.loc[i,\"Prompt\"],  top_k=15, client=client, mode='dense', model=\"llama3.3\"))\n",
    "    end_time = time.time()\n",
    "    inference_times.append(end_time - start_time)"
   ]
  },
  {
   "cell_type": "code",
   "execution_count": 36,
   "id": "aca15bd5",
   "metadata": {},
   "outputs": [
    {
     "name": "stderr",
     "output_type": "stream",
     "text": [
      "/tmp/ipykernel_37600/3496959586.py:1: FutureWarning: Setting an item of incompatible dtype is deprecated and will raise an error in a future version of pandas. Value '['Based on the synthesized results, the best possible answer to the question \"Traffic Jam can be prevented if you\" is:\\n\\n**Adopt alternative modes of transportation and optimize traffic flow through intelligent systems.**\\n\\nThis answer encompasses the key strategies identified in the context, including:\\n\\n1. Promoting alternative modes of transportation (e.g., public transport, carpooling, cycling)\\n2. Optimizing traffic flow through intelligent systems (e.g., smart traffic lights, monitoring systems)\\n\\nAdditionally, other relevant answers that match the synthesized results include:\\n\\n* **Avoid peak hours to reduce congestion**\\n* **Implement smart infrastructure such as intelligent intersections**\\n\\nThese options are all supported by the context and can help prevent traffic jams.\\n\\nSo, the matching choices are:\\n\\n1. Adopt alternative modes of transportation\\n2. Optimize traffic flow through intelligent systems\\n3. Avoid peak hours to reduce congestion\\n4. Implement smart infrastructure such as intelligent intersections\\n\\nAll these options can contribute to preventing traffic jams, but if I had to choose one comprehensive answer, it would be:\\n\\n**Adopt alternative modes of transportation and optimize traffic flow through intelligent systems.**', 'Based on the provided context, when making a right turn, you should:\\n\\n1. Yield to other drivers and pedestrians in the adjacent lane.\\n2. Signal your intention to turn.\\n3. Check that the way ahead is clear.\\n\\nAdditionally, consider checking for pedestrians, using turn signals correctly, matching traffic conditions, and being aware of potential hazards.\\n\\nThe correct answer choice that matches these synthesized results would be an option that includes yielding to others, signaling your turn, and ensuring the way ahead is clear before making the right turn. \\n\\nWithout specific multiple-choice options provided in the question, I will synthesize a model answer based on the given context:\\n\\n**Model Answer:** When making a right turn, you should yield to other drivers and pedestrians, signal your intention to turn, and check that the way ahead is clear.\\n\\nIf I had to choose from hypothetical options:\\n- A) Yield to others and signal.\\n- B) Speed up to beat oncoming traffic.\\n- C) Yield to other drivers and pedestrians in the adjacent lane, signal your intention to turn, and check that the way ahead is clear.\\n\\nThe correct choice would be **C**, as it fully encompasses the essential steps for safely making a right turn.', 'When you intend to turn right or left, signal your intention at least **5 seconds** before making a turn. \\n\\nThe best answer is 5 seconds.', 'Based on the synthesized results, the correct answer to fill in the blank is:\\n\\n\"The traffic light is green, there are no pedestrians crossing, and you have a clear path to make the turn safely.\"\\n\\nThis answer combines the key conditions for making a safe left turn at an intersection with a traffic light, including:\\n\\n* A green traffic light\\n* No pedestrians crossing\\n* A clear path to make the turn safely\\n\\nThis answer matches the reasoning process and the extracted relevant information from the context. \\n\\nSo the correct choice would be: \\n\"The traffic light is green, there are no pedestrians crossing, and you have a clear path to make the turn safely.\"', 'Based on the provided breakdown and expanded explanation, the best possible answer to eliminate graft and corruption in the traffic enforcement system would include:\\n\\nImplementing an independent monitoring system with enhanced training, public engagement, technology integration, clear policies and procedures, regular performance reviews, and whistleblower protection.\\n\\nTherefore, the correct choice that matches the synthesized results is:\\n\\n**Implementing an independent monitoring system with enhanced training, public engagement, and technology integration, as well as other supporting measures such as clear policies, regular performance reviews, and whistleblower protection.**\\n\\nThis comprehensive approach addresses the key components of eliminating graft and corruption by increasing transparency, accountability, efficiency, and public trust in the traffic enforcement system.', 'Based on the provided analysis and general knowledge of road rules, the correct completion of the sentence would be:\\n\\n\"On a four(4) lane road with single white line, you can **not pass** or more accurately in the context of available options: **Change lanes to overtake** if considering passing within your own direction of travel.\"\\n\\nHowever, since \"Change lanes to overtake\" directly addresses the action within the same direction and assuming the question implies an action within the bounds of safety and standard traffic rules (and given that passing oncoming vehicles is generally not advised with a single white line), the synthesized answer focusing strictly on road safety and typical interpretations would lean towards caution regarding passing oncoming vehicles.\\n\\nGiven common multiple-choice options for such a scenario, without explicit choices provided in your query, a reasonable selection based on standard traffic rules could be:\\n\\n- **Change lanes to overtake** (if considering same-direction travel)\\n- **Not pass** (if the focus is strictly on not crossing the single white line to pass an oncoming vehicle)\\n\\nBut since \"On a four(4) lane road with single white line, you can\" typically suggests an action in relation to traffic flow and safety, and considering standard options might include choices like \"overtake,\" \"pass,\" \"change lanes,\" etc., the most fitting completion reflecting typical road safety advice would be cautious about crossing into oncoming traffic lanes.\\n\\nTherefore, if forced to choose without specific options provided:\\n- **Change lanes to overtake** seems a reasonable action within the same direction of travel.\\n- However, understanding that the question\\'s intent might focus on actions relative to the single white line and oncoming vehicles, the essence is about safety and adherence to traffic rules.\\n\\nFor clarity and alignment with typical multiple-choice formats on this topic:\\n- The safest interpretation regarding actions towards oncoming vehicles with a single white line would advise against passing.\\n- For actions within your lane or direction of travel (like changing lanes to overtake a vehicle going in the same direction), standard practices apply.\\n\\nGiven no explicit choices but aiming for an answer based on the analysis provided:\\n**Change lanes to overtake** could be seen as the action aligned with safe driving practices when considering passing vehicles traveling in the same direction, acknowledging that crossing a single white line to pass oncoming traffic is generally not recommended.', \"Based on the synthesized results, a double solid yellow line with a broken white line in between means:\\n\\n**Passing is allowed on either side when it is safe to do so.**\\n\\nThis conclusion takes into account the presence of the double solid yellow lines indicating that passing is generally prohibited, but the addition of the broken white line allows for passing when it's safe to do so, with an emphasis on considering safety factors such as speed, road conditions, and visibility.\\n\\nTherefore, the best matching answer choice would be:\\n\\n**Passing is allowed on either side when it is safe to do so.**\", 'When making a U-Turn, you should **signal your intentions clearly and check blind spots**. Additionally, consider checking surroundings, using turn signals correctly, yielding to oncoming traffic, and following local regulations to ensure safety. \\n\\nThe best answer is: Signal your intentions clearly and check blind spots.', 'Based on the provided context and the step-by-step analysis, the answer to the question is:\\n\\nSigns that are triangular in shape and with a red colored border are called **Danger/Caution Signs**.\\n\\nThis conclusion is drawn from the key components identified (triangular shape and red border) and the decomposition of the context, which implies that warning signs with these characteristics are specifically used to indicate hazards or warnings, particularly on roads. The additional details further support this conclusion by highlighting the standardization and design purpose of such signs in various countries.\\n\\nTherefore, the correct answer is: **Danger/Caution Signs**.', 'Based on the provided context and the step-by-step analysis, the correct completion of the sentence is:\\n\\nSigns that are round, inverted triangle or octagonal and with red-colored borders are called **Stop signs**.\\n\\nTherefore, the answer to the actual question is: **Stop signs**.', 'Based on the provided context and the step-by-step analysis, the answer to the question \"Signs that are round, rectangular with white and blue background are called\" is:\\n\\nRoundabouts.\\n\\nThis matches the conclusion drawn from both Step 1 and Step 2 of the reasoning process. Therefore, without any additional options listed, the synthesized result directly points to \"Roundabouts\" as the correct term for signs described in the question.', 'Based on the analysis and synthesis of the results, the correct answer to the question:\\n\\n\"Single with broken line on a two-lane road means\"\\n\\nis:\\n\\n**Yield to traffic in both directions**\\n\\nThis answer matches the conclusion reached through the step-by-step breakdown and analysis of the context. The single with broken line sign indicates that drivers should yield to traffic approaching from the opposite direction, ensuring safe sharing of the road and minimizing potential conflicts.', \"When approaching a crosswalk or pedestrian lane, the correct steps to follow are:\\n\\n1. **Stop and look around**: Stop before crossing and thoroughly scan your surroundings for any approaching vehicles, bicyclists, or pedestrians.\\n2. **Make eye contact with drivers (if possible)**: Attempt to make direct eye contact with drivers to ensure they see you and are aware of your intentions to cross.\\n3. **Use pedestrian signals (if available)**: Wait for the walk signal before crossing if using a pedestrian signal.\\n4. **Be aware of surroundings**: Be mindful of traffic conditions, weather, and road hazards while crossing.\\n5. **Follow right-of-way rules**: Be aware of who has priority based on traffic signals or signs indicating right-of-way.\\n\\nAdditionally, consider being visible, avoiding distractions, staying alert, and following specific guidelines for special scenarios like roundabouts or multiple lanes.\\n\\nGiven these steps, the best answer would be an option that closely matches this detailed approach to safely navigating a crosswalk or pedestrian lane. If options were provided, the correct choice should emphasize stopping, looking around, making eye contact, using signals, being aware of surroundings, and following right-of-way rules. However, without specific options listed in your query, I'll provide a generalized answer that encapsulates these steps:\\n\\n**Answer:** When approaching a crosswalk or pedestrian lane, stop and look around for traffic, make eye contact with drivers if possible, use pedestrian signals if available, be aware of your surroundings, and follow right-of-way rules to ensure a safe crossing.\", 'Based on the provided context and the step-by-step analysis, the correct answer to the question \"Driving an unregistered motor vehicle is a violation with a fine of\" is:\\n\\n$300\\n\\nThis answer matches the information extracted from the context, which clearly states that driving an unregistered motor vehicle comes with a fine of $300.', 'Based on the provided context and the step-by-step analysis, it is clear that the individual\\'s actions are considered a parking violation due to the evidence of committing a parking infraction. Therefore, the answer to the question \"Considered a parking violation?\" is:\\n\\n**Yes**', 'Based on the provided context, the correct answer is:\\n\\n**Proceed with caution and yield to pedestrians.**\\n\\nThis matches the synthesized results from the step-by-step breakdowns.', 'Based on the step-by-step analysis provided:\\n\\nThe correct answer to the question \"Steady red light at an intersection means\" is:\\n\\n**Come to a complete stop before the crosswalk, regardless of whether turning or going straight, and yield to pedestrians if necessary.**\\n\\nThis matches the synthesized results from the detailed breakdown and considerations discussed.', 'Based on the provided information, the penalty for driving a motor vehicle while under the influence of alcohol for the first offense typically involves:\\n\\n* Fines\\n* License suspension\\n* Mandatory alcohol education classes\\n* Possible jail time\\n\\nAdditionally, other potential penalties may include community service, installation of ignition interlock devices (IIDs), and in some cases, vehicle confiscation.\\n\\nConsidering these details, the correct answer would reflect a combination of these elements. \\n\\nThe most accurate choice that matches the synthesized results is:\\n\\n**Fines, license suspension, mandatory education classes, and possibly jail time.**\\n\\nThis option encompasses the core penalties commonly associated with a first-time DUI offense across various jurisdictions.', 'Based on the provided context and the step-by-step breakdown, it\\'s clear that there is a penalty for Public Utility Vehicle (PUV) drivers who refuse to render service or convey passengers, as specified by relevant traffic regulations. However, the specific details about the nature of the penalty are not provided.\\n\\nGiven this understanding, the synthesized result suggests acknowledging the existence of a penalty without specifying its exact nature due to the lack of information in the context.\\n\\nThe answer that matches the synthesized results is:\\n\\n**Penalized with a fine as per traffic regulations.**\\n\\nHowever, since I need to choose from given options and \"a fine as per traffic regulations\" might not be explicitly listed, the closest match based on standard penalty types for such violations would typically include:\\n\\n- A fine\\n- Suspension of license\\n- Other penalties as specified by law\\n\\nGiven the context provided does not specify the exact nature but implies a penalty, the most straightforward answer without additional options provided would be \"a fine\" as it\\'s a common form of penalty for traffic violations. \\n\\nThus, if I had to select from typical penalty types without seeing the actual options:\\n\\nThe best answer is A fine.', \"Based on the provided context and reasoning process, the correct answer to the actual question is:\\n\\nRevoked.\\n\\nThis means that if the driver is using a motor vehicle in committing a crime and is convicted, his driver's license shall be revoked.\", \"Based on the provided context and synthesis of the results, I'll answer the actual question:\\n\\nThe minimum distance away from the vehicle is:\\n\\n**10-15 feet (3-4.5 meters)**\\n\\nThis distance should be maintained behind the vehicle, with at least one foot of space between the pedestrian and the curb. Additionally, considerations such as stopping distance, vehicle size, pedestrian speed and attention, environmental factors, and multiple vehicles should be taken into account.\\n\\nWithout specific choices provided, I'll assume a general answer format:\\n\\nThe correct answer is: **10-15 feet (3-4.5 meters)**\", 'Based on the synthesized results, a full stop is used to mark the end of a sentence in writing. This can include:\\n\\n1. **Independent Clauses**: At the end of an independent clause that stands alone as a complete thought or idea.\\n2. **Concluding Thoughts in Larger Texts**: To conclude each point, thought, or idea being presented within longer pieces of writing.\\n\\nTherefore, the correct answer to the question \"When do you have a complete/full stop?\" is:\\n\\n**At the end of a sentence**, which includes both standalone independent clauses and concluding thoughts within larger texts.', \"Based on the analysis, I can conclude that:\\n\\nOvertaking is only allowed on a two-lane road **at designated places or when indicated by signs**.\\n\\nGiven this information, I will choose an answer that matches these conditions.\\n\\nThe correct answer is: **designated places (e.g. overtake bays) or when indicated by signs**, but since that's not explicitly listed as an option and based on the closest match:\\n\\nThe final answer is: **Designated places**\", 'Based on the synthesized results, I can now provide an answer to the actual question:\\n\\n\"Parking is considered as a violation when a motor vehicle\"\\n\\nThe correct completion of this sentence would be:\\n\\n\"...is parked in a manner that does not comply with local regulations or laws governing parking.\"\\n\\nHowever, since you asked me to choose from implicit options, I will assume the following choices:\\n\\nA) ...is moving\\nB) ...is involved and does not meet local regulations\\nC) ...is parked\\nD) ...is stationary\\n\\nThe correct answer would be:\\n\\nB) ...is involved and does not meet local regulations\\n\\nThis option aligns with the synthesized results, which state that parking can be considered a violation when a motor vehicle is involved if it does not meet local regulations or laws governing parking.', 'Based on the provided context, I will synthesize the results.\\n\\n\\nThe key components extracted are:\\n\\n* The action being referred to is \"parking\"\\n* The prohibition is being stated for this action\\n\\nThe conclusion drawn from these components is:\\n\\n\\nParking is prohibited.\\n\\n\\nTherefore, based on the synthesized results, the correct answer is:\\n\\n\\nParking is prohibited.', 'Based on the analysis, when the traffic light is steady green and steady left/right arrow, **drivers are allowed to proceed straight through the intersection as well as make a left or right turn.** \\n\\nThis matches the conclusion drawn from breaking down the key components of the question and analyzing the conditions provided. Therefore, the correct interpretation of the traffic light signals under these conditions is that drivers have the option to go straight, turn left, or turn right.', 'The maximum penalty for driving under the influence of liquor or prohibited drugs includes a fine not exceeding $2,500 and/or imprisonment for a term not exceeding 3 months. \\n\\nSo the correct choice is: \\nA fine not exceeding $2,500 and/or imprisonment for a term not exceeding 3 months.', 'Based on the provided context and reasoning process, the correct answer to the question \"On a wet road, you must\" is:\\n\\n**reduce speed**\\n\\nThis answer aligns with the considerations outlined in the steps, including maintaining control and safety, accounting for reduced adhesion and traction, increasing stopping distance, and ensuring driver focus and attention. Reducing speed on a wet road is essential to minimize the risk of accidents and ensure safe travel.', 'Based on the provided context and the step-by-step analysis, the correct answer is:\\n\\n**Press the brakes firmly but smoothly, without slamming them down.**\\n\\nThis action will help prevent your vehicle from skidding or losing control when stopping suddenly. \\n\\nThe matching choice would be: \\n- Press the brakes firmly but smoothly.\\n\\nThis is because pressing the brakes in such a manner allows for gradual deceleration and helps maintain vehicle control during sudden stops at high speeds.', 'Based on the provided context and key components extracted from it, the best possible answer to the question is:\\n\\n**Double your following gap to at least 4 seconds to maintain a safe distance from the preceding vehicle and allow sufficient time to react in case of an emergency stop.**\\n\\nThis answer directly addresses the issue of another vehicle following too closely by suggesting a specific action (doubling the following gap) with a recommended minimum gap of 4 seconds, allowing for sufficient reaction time in emergencies.\\n\\nMatching this result with common driving guidelines, the synthesized answer would align with:\\n\\n**\"Double your following distance.\"**\\n\\nHowever, since I don\\'t have the exact choices you\\'re referring to, based on standard driving advice, the most appropriate action when another vehicle is following you too closely would indeed be to increase or double your following distance to ensure safety.', 'The driver of the vehicle behind you should always practice the 3-second rule to prevent **collisions**.\\n\\nThis answer matches the synthesized results, as the 3-second rule is a guideline for maintaining a safe following distance, which helps reduce the risk of accidents and collisions. \\n\\nSo, the correct completion of the sentence would be:\\n\\nThe driver of the vehicle behind you should always practice the 3-second rule to prevent **collisions**.', \"When parking uphill without a curb, turn your wheels **toward the right (or away from the road)**. This helps prevent the vehicle from rolling down the hill if the brakes fail. Since there's no curb to stop the car, turning the wheels in this direction can help guide it into a safer area if it starts moving, such as a grassy slope or another barrier that might slow its descent, rather than directly into traffic.\", 'Based on the provided context and steps, the correct answer to the question \"When parking downhill, you must\" is:\\n\\n**Always turn your wheels towards the curb.**\\n\\nThis answer matches the synthesized results, which emphasize the importance of turning your wheels towards the curb to prevent rolling backwards and potential accidents when parking on an incline.', \"When parking uphill, you must turn your wheels towards the curb and engage the parking brake. \\n\\nThe provided context and steps suggest careful maneuvering and control when parking uphill, emphasizing the use of reverse gear, gentle braking, slow speed, and awareness of surroundings. However, none of these details directly match the common safety practices for parking uphill, which typically include turning your wheels towards the curb (if facing uphill) to prevent rolling and engaging the parking brake to secure the vehicle in place.\\n\\nGiven typical safe driving practices for parking on an incline:\\n\\n- If you're parking **facing uphill**, turn your wheels **towards the curb** and engage the parking brake.\\n- If you're parking **facing downhill**, turn your wheels **away from the curb** and engage the parking brake.\\n\\nThis ensures that if the vehicle starts to roll, it will roll into the curb (if facing uphill) or away from traffic (if facing downhill), reducing potential hazards. The synthesized results focus on safe maneuvering techniques but don't explicitly mention wheel direction or parking brake engagement as part of the provided context. Thus, based on standard safety guidelines for parking uphill:\\n\\nThe best answer is: Turn your wheels towards the curb and engage the parking brake if you are parking facing uphill.\", 'Based on the provided context and analysis, the correct answer is:\\n\\n**The sudden application of brakes.**\\n\\nThis action is identified as the primary cause of skidding and losing control when making an abrupt move, especially on a wet and possibly slippery road. While other factors such as speed, steering input, weight transfer, and driver reaction time can also contribute to the likelihood of skidding, the sudden application of brakes is the specific action that can lead to this consequence.', 'Based on the provided steps and analysis, the question seems to be asking for a safe practice or mindset that drivers should adopt whenever they are driving, with an emphasis on the maneuver of overtaking. The synthesis of the information leads to the conclusion that being cautious and attentive is crucial during such maneuvers to prevent accidents.\\n\\nGiven this context, the best answer that matches the synthesized results would be focused on promoting safety and awareness. Since the actual options to choose from are not listed in your query, I\\'ll provide a generalized response based on common safe driving practices related to overtaking:\\n\\n- **Be Aware**: This choice directly aligns with the conclusion drawn from the steps provided, emphasizing the importance of being attentive and cautious while driving, especially during maneuvers like overtaking.\\n\\nWithout specific options provided in the question, \"Be Aware\" is the most appropriate generalized answer based on the analysis given.', 'When driving on a highway, do not stare at the vehicle in front of you, instead you should **focus on the horizon or a point at least 15-20 feet in front of your vehicle**. This approach allows for maintaining a safe distance, enhancing reaction time, and reducing distractions, all of which are crucial for safe driving practices.', 'Based on the analysis, the correct answer is:\\n\\n**Use your low-beam headlights (or daytime running lights)**\\n\\nThis matches the synthesized results, which recommend using low-beam headlights (or daytime running lights) when driving on mountain roads during the day to increase visibility and reduce the risk of accidents.\\n\\nSo, the answer to the question is: \\n\\n**Use your low-beam headlights (or daytime running lights).**', \"When driving downhill on a mountain road, always **use low gear**. This is because using low gear helps control speed and maintain traction, especially when navigating steep slopes, reducing the risk of wheelspin or loss of control. Additionally, it's crucial to keep a safe distance from the vehicle in front, be prepared for sudden stops or turns, avoid distractions while navigating steep slopes, use headlights if necessary, and keep an eye out for pedestrians and wildlife.\\n\\nThe best answer choice that matches the synthesized results is: **use low gear**.\", 'Based on the synthesized results, the most accurate completion of the sentence is:\\n\\n\"The headlights should be used often as needed to ensure optimal visibility and safety while driving in low-light conditions or at night.\"\\n\\nThis answer aligns with the extracted information and reasoning process outlined. \\n\\nAmong potential multiple-choice options, the following answers match the synthesized results:\\n\\n1. \"...ensure optimal visibility and safety while driving.\"\\n2. \"...provide sufficient light when necessary for safe driving.\"\\n3. \"...improve driving visibility during low-light conditions or at night.\"\\n\\nThese options all convey the essential idea of using headlights to enhance safety and visibility under appropriate conditions.', 'Based on the provided context and the step-by-step analysis, the vehicle that has the right of way when two vehicles arrive at an intersection simultaneously is the one positioned **on the right** of the other vehicle.\\n\\nSo, to directly answer the question:\\n\\nThe vehicle on the **right** has the right of way.', 'Based on the provided context and analysis, the correct answer is:\\n\\n**Reduce your speed**\\n\\nThis aligns with standard driving practices and safety guidelines for navigating curves on highways, considering factors such as curve type, speed range, visual and situational awareness, and vehicle handling. \\n\\nThe synthesized results match this choice, which is to reduce speed when negotiating a curve at a relatively high speed.', 'Based on the synthesized results, when planning to overtake a slower vehicle in front of you at night, you should:\\n\\n**Ensure sufficient time and distance to safely maneuver around the other vehicle.**\\n\\nThis involves taking into account factors such as reduced visibility, speed limits, road conditions, and potential hazards, and following best practices like slowing down before approaching, using high beams judiciously, maintaining a safe following distance, being aware of road conditions, using low-beam headlights, scanning the road ahead, and signaling early and clearly.\\n\\nThe correct answer choice that matches these synthesized results is:\\n\\n**Ensure sufficient time and distance to safely maneuver around the other vehicle.**\\n\\nHowever, if I had to choose from a list of possible answer choices, the ones that match the synthesized results are:\\n\\n1. **Check your mirrors and blind spots for other vehicles before attempting to overtake.**\\n2. **Signal your intention to overtake early and clearly.**\\n3. **Ensure you have sufficient time and distance to safely maneuver around the slower vehicle.**\\n4. **Adjust your speed according to road conditions and visibility.**\\n\\nThese answer choices align with the best practices and considerations outlined in the synthesized results, emphasizing safety, caution, and awareness when overtaking a slower vehicle at night.', \"Based on the provided context and steps, when driving in heavy rain, it's crucial to prioritize safety due to reduced visibility. The key actions to take are:\\n\\n1. **Exercise Caution**: Be aware of your surroundings and the limitations imposed by the weather.\\n2. **Follow Guidelines for Safe Driving**: This includes reducing speed, increasing following distance, using low-beam headlights, being cautious of standing water, avoiding sudden braking and acceleration, and keeping a safe distance if hydroplaning occurs.\\n\\nGiven these considerations, the best course of action when driving in heavy rain is to:\\n\\n- Reduce speed to match visibility.\\n- Keep a safe distance from other vehicles.\\n- Use low-beam headlights to avoid glare.\\n- Be cautious of standing water on roads.\\n- Avoid hard braking and acceleration.\\n\\nTherefore, the synthesized answer is: **Exercise caution and follow guidelines for safe driving during heavy rain**, which includes all the mentioned safety measures. \\n\\nThe matching choice based on the provided context would be an option that emphasizes reducing speed, increasing following distances, using appropriate headlights, avoiding standing water, and smooth acceleration and braking. However, without specific choices provided in your query, the detailed answer above encapsulates the recommended actions for safe driving in heavy rain conditions.\", 'A flashing red light means **an alert or warning of a potential hazard**.\\n\\nSo, based on the provided context and reasoning process, I will choose:\\n\\n**An alert or warning of a potential hazard**\\n\\nas the correct answer. \\n\\nNote: The actual multiple-choice options are not provided in your question. If they were, I would select the one that matches this description.', 'Based on the provided context and the steps analyzed, the correct completion to the sentence \"Your speed while driving at night should keep on\" is related to adjusting one\\'s speed according to their ability to react in low visibility conditions. The most appropriate choice that aligns with this concept, given the usual completions for such sentences, would be:\\n\\n\"check\"\\n\\nThis implies that your speed should be kept in check or adjusted based on your reaction time and ability in low visibility conditions at night.\\n\\nThe final answer is: check', \"Based on the step-by-step analysis provided, focusing on factors that affect visibility from various perspectives such as physical environment, health issues, social and cultural factors, clothing, and environmental conditions, a common factor that significantly impacts one's visibility is identified.\\n\\n\\nThe final answer is: $\\\\boxed{Fog}$\", 'Based on the provided context and reasoning process, the best possible answer to the question \"When driving at night, you should\" is:\\n\\nDim your high beams and use low-beam headlights or fog lights in low-visibility conditions.\\n\\nThis answer aligns with the key components identified in the context, including the condition of driving at night, the action of dimming high beams and using low-beam headlights or fog lights, and the reason of low-visibility conditions.\\n\\nTherefore, the correct answer is:\\n\\nDim your high beams and use low-beam headlights or fog lights in low-visibility conditions.', \"Based on the synthesized results, the correct answer is:\\n\\n**Simply acknowledge it as a normal part of driving and maintain safe driving practices.**\\n\\nHowever, since I don't have the actual choices to select from, I'll provide an answer that matches the context:\\n\\nThe best answer would be: **Stay calm and continue driving safely**, or any option that conveys a similar message, such as **Maintain your speed and position** or **Do not take it personally and focus on safe driving**. \\n\\nIf I had to choose from standard options, I'd select an answer that reflects a calm and safe response to being passed, without taking it as a personal insult or reacting aggressively.\", 'Based on the synthesized results, the correct answer is:\\n\\n**Be prepared to take evasive action (swerving or braking) as soon as possible, but do not attempt to re-enter the other lane immediately after the vehicle has passed.**\\n\\nHowever, since this is a multiple-choice question, I will provide the closest match based on common options:\\n\\nThe correct choice that matches the synthesized results is likely:\\n\\n**Take evasive action (swerve or brake)**\\n\\nThis option aligns with the main recommendation to take immediate action to avoid a potential collision when an oncoming vehicle crosses the centerline. The other part of the recommendation, not attempting to re-enter the other lane immediately after the vehicle has passed, might be implied as a general safe driving practice rather than being explicitly listed as a separate option.\\n\\nCommon options that might be available for this question include:\\n\\nA) Take evasive action (swerve or brake)\\nB) Maintain your speed and position\\nC) Attempt to pass the vehicle on the right\\nD) Re-enter the other lane immediately after the vehicle has passed\\n\\nGiven these options, **A) Take evasive action (swerve or brake)** is the most appropriate choice based on the synthesized results.', 'When approaching a flooded area and having to go through it, the best course of action is to wade through the water with slow and deliberate steps, keeping your feet shoulder-width apart, with one foot in front of the other. If possible, look for higher ground or follow evacuation routes.\\n\\nThe synthesized results match the following choices:\\n\\n* Wade through the water with slow and deliberate steps.\\n* Keep your feet shoulder-width apart, with one foot in front of the other.\\n* Look for higher ground or follow evacuation routes if possible.\\n\\nTherefore, the correct answer is:\\n\\n**Wade through the water with slow and deliberate steps, keeping your feet shoulder-width apart, with one foot in front of the other. If possible, look for higher ground or follow evacuation routes.**\\n\\nThis answer prioritizes safety and provides a clear step-by-step approach to navigating through a flooded area.', 'Based on the synthesized results, a single solid yellow or white line means that passing is allowed.\\n\\n\\nThe final answer is: $\\\\boxed{Passing is allowed}$', 'Based on the provided context and the step-by-step analysis, the conclusion is that passing/overtaking is generally allowed, with the understanding that local regulations, road conditions, and safety considerations must be taken into account.\\n\\n\\nThe final answer is: $\\\\boxed{Yes}$', \"Based on the provided context and analysis, the correct answer is:\\n\\n**Vehicles approaching from either direction at intersections or junctions with lesser speed limits, pedestrians, bicycles, and other drivers who have arrived first.**\\n\\nHowever, if I had to choose a single category that best matches the synthesized results, it would be:\\n\\n**Pedestrians, bicycles, and vehicles approaching from either direction at intersections or junctions with lesser speed limits.**\\n\\nBut since this is not an option, I'll choose the closest match:\\n\\nThe final answer is: **Vehicles approaching from either direction at intersections or junctions with lesser speed limits**\", 'Based on the provided context and the step-by-step analysis, the correct answer is:\\n\\nVehicles merging onto the highway.\\n\\nThis matches the conclusion drawn from the steps that a driver on a highway should yield to vehicles entering the highway from either an intersecting road or a ramp.', 'Based on the provided context, the correct answer is:\\n\\n**\"This traffic sign indicates that you should slow down and be cautious because there may be school children playing or walking nearby.\"**\\n\\nAdditionally, considering the synthesized results, a more comprehensive response would be:\\n\\n**\"This traffic sign warns you that school children may be present in the vicinity. You should slow down and be cautious because they could be playing or walking nearby, especially during school hours. Be aware of pedestrians being more active in this area at specific times of day.\"**\\n\\nSo, the choices that match the synthesized results are:\\n\\n1. **Slow down and be cautious due to the presence of school children.**\\n2. **Be prepared for potential pedestrian activity, particularly during school hours.**\\n3. **Exercise increased vigilance when driving through areas with high foot traffic near schools.** \\n\\nThese options all align with the warning sign\\'s message to drivers, emphasizing caution and awareness when driving in areas where school children may be present.', 'Based on the provided context and synthesized results, the correct answers that match the warning of a hazard ahead are:\\n\\n1. Deer crossing zones\\n2. Pedestrian crossings\\n3. Slippery roads (icy or wet)\\n4. Roadwork or construction zones\\n\\nThese options align with common hazards that would be warned about through signals on roads.', 'Based on the synthesized results, the correct answer is:\\n\\nThe traffic sign indicates direction and distances.\\n\\nThis matches the conclusion drawn from the step-by-step analysis, which identified the sign\\'s purpose as providing both directional guidance and distance information to drivers. \\n\\nTherefore, the choice that matches the synthesized results is:\\n\\n**Directional and Distance Information Sign** or simply put: \\n\"The traffic sign indicates direction and distances\".', 'Based on the provided context and the step-by-step analysis, the most likely \"mark\" for a railway crossing could be:\\n\\n1. **Warning Signs**: Specifically, in some contexts like the UK, it might refer to a triangular warning sign indicating a pedestrian or vehicle crossing point.\\n2. **Signals or Markings on Tracks**: Could also be considered as marks related to railway crossings, though less specific without additional context.\\n\\nGiven these possibilities and the general nature of the question, if we had to choose from potential answers based on common practices and without specifying a location or type of mark, we might consider options that include:\\n\\n- A warning sign (possibly triangular in shape)\\n- A specific signal or marking used internationally or in a particular region for railway crossings\\n\\nWithout explicit choices provided in your query, the best match based on our analysis would be any option that describes a **warning sign** or a **specific signal/mark** commonly used at railway crossings. However, the exact answer could vary depending on the geographical location and specific regulations in place.', 'Based on the synthesis of the provided steps and results, children must be held in an approved child restraint under the following conditions:\\n\\n\\nThe final answer is: $\\\\boxed{they are under 40 pounds (or approximately 18 kg) and/or under 4 years old.}$']' has dtype incompatible with float64, please explicitly cast to a compatible dtype first.\n",
      "  df.loc[qr_range[0]:qr_range[1]-1, \"AI\"] = [answ[0] for answ in ai_answer]\n"
     ]
    }
   ],
   "source": [
    "df.loc[qr_range[0]:qr_range[1]-1, \"AI\"] = [answ[0] for answ in ai_answer]\n",
    "df.loc[qr_range[0]:qr_range[1]-1, \"Context\"] = [\" \".join(map(str, answ[2])) for answ in ai_answer]\n",
    "df.loc[qr_range[0]:qr_range[1]-1, \"Inference_Time\"] = inference_times \n",
    "df_new = df.loc[qr_range[0]:qr_range[1]-1].copy()\n",
    "df = df_new.copy()"
   ]
  },
  {
   "cell_type": "markdown",
   "id": "1e72ee06",
   "metadata": {},
   "source": [
    "# 10. Similarity Evaluation"
   ]
  },
  {
   "cell_type": "code",
   "execution_count": 37,
   "id": "56e05aeb",
   "metadata": {},
   "outputs": [
    {
     "name": "stderr",
     "output_type": "stream",
     "text": [
      "100%|██████████| 60/60 [00:04<00:00, 13.75it/s]"
     ]
    },
    {
     "name": "stdout",
     "output_type": "stream",
     "text": [
      "Average Score: 0.6348\n",
      "Passing: 43/60\n"
     ]
    },
    {
     "name": "stderr",
     "output_type": "stream",
     "text": [
      "\n"
     ]
    },
    {
     "data": {
      "text/html": [
       "<div>\n",
       "<style scoped>\n",
       "    .dataframe tbody tr th:only-of-type {\n",
       "        vertical-align: middle;\n",
       "    }\n",
       "\n",
       "    .dataframe tbody tr th {\n",
       "        vertical-align: top;\n",
       "    }\n",
       "\n",
       "    .dataframe thead th {\n",
       "        text-align: right;\n",
       "    }\n",
       "</style>\n",
       "<table border=\"1\" class=\"dataframe\">\n",
       "  <thead>\n",
       "    <tr style=\"text-align: right;\">\n",
       "      <th></th>\n",
       "      <th>Question</th>\n",
       "      <th>Answer</th>\n",
       "      <th>AI</th>\n",
       "      <th>Score</th>\n",
       "      <th>Passing</th>\n",
       "      <th>Inference_Time</th>\n",
       "    </tr>\n",
       "  </thead>\n",
       "  <tbody>\n",
       "    <tr>\n",
       "      <th>0</th>\n",
       "      <td>Traffic Jam can be prevented if you</td>\n",
       "      <td>Keep opposing lanes open</td>\n",
       "      <td>Based on the synthesized results, the best pos...</td>\n",
       "      <td>0.624936</td>\n",
       "      <td>True</td>\n",
       "      <td>56.972070</td>\n",
       "    </tr>\n",
       "    <tr>\n",
       "      <th>1</th>\n",
       "      <td>When making a right turn you should</td>\n",
       "      <td>Stay on the outermost lane of the road then si...</td>\n",
       "      <td>Based on the provided context, when making a r...</td>\n",
       "      <td>0.768676</td>\n",
       "      <td>True</td>\n",
       "      <td>53.918721</td>\n",
       "    </tr>\n",
       "    <tr>\n",
       "      <th>2</th>\n",
       "      <td>When you intend to turn right or left, signal ...</td>\n",
       "      <td>25 meters before you intend to make your turn</td>\n",
       "      <td>When you intend to turn right or left, signal ...</td>\n",
       "      <td>0.772739</td>\n",
       "      <td>True</td>\n",
       "      <td>33.576814</td>\n",
       "    </tr>\n",
       "    <tr>\n",
       "      <th>3</th>\n",
       "      <td>At an intersection with a traffic light, make ...</td>\n",
       "      <td>The green light is on and there is a left turn...</td>\n",
       "      <td>Based on the synthesized results, the correct ...</td>\n",
       "      <td>0.778546</td>\n",
       "      <td>True</td>\n",
       "      <td>46.873964</td>\n",
       "    </tr>\n",
       "    <tr>\n",
       "      <th>4</th>\n",
       "      <td>Graft and corruption in the traffic enforcemen...</td>\n",
       "      <td>Self disciplined by drivers and obeying traffi...</td>\n",
       "      <td>Based on the provided breakdown and expanded e...</td>\n",
       "      <td>0.619826</td>\n",
       "      <td>True</td>\n",
       "      <td>47.836722</td>\n",
       "    </tr>\n",
       "    <tr>\n",
       "      <th>5</th>\n",
       "      <td>On a four(4) lane road with single white line,...</td>\n",
       "      <td>Overtake by passing over the solid white line</td>\n",
       "      <td>Based on the provided analysis and general kno...</td>\n",
       "      <td>0.769908</td>\n",
       "      <td>True</td>\n",
       "      <td>71.307832</td>\n",
       "    </tr>\n",
       "    <tr>\n",
       "      <th>6</th>\n",
       "      <td>A double solid yellow line with broken white l...</td>\n",
       "      <td>Absolutely no overtaking</td>\n",
       "      <td>Based on the synthesized results, a double sol...</td>\n",
       "      <td>0.535426</td>\n",
       "      <td>False</td>\n",
       "      <td>46.118041</td>\n",
       "    </tr>\n",
       "    <tr>\n",
       "      <th>7</th>\n",
       "      <td>When making a U-Turn, you should</td>\n",
       "      <td>Check for traffic behind you and indicate your...</td>\n",
       "      <td>When making a U-Turn, you should **signal your...</td>\n",
       "      <td>0.728841</td>\n",
       "      <td>True</td>\n",
       "      <td>38.615253</td>\n",
       "    </tr>\n",
       "    <tr>\n",
       "      <th>8</th>\n",
       "      <td>Signs that are triangular in shape and with a ...</td>\n",
       "      <td>Caution or warning signs</td>\n",
       "      <td>Based on the provided context and the step-by-...</td>\n",
       "      <td>0.749514</td>\n",
       "      <td>True</td>\n",
       "      <td>42.734952</td>\n",
       "    </tr>\n",
       "    <tr>\n",
       "      <th>9</th>\n",
       "      <td>Signs that are round, inverted triangle or oct...</td>\n",
       "      <td>Regulatory signs</td>\n",
       "      <td>Based on the provided context and the step-by-...</td>\n",
       "      <td>0.658674</td>\n",
       "      <td>True</td>\n",
       "      <td>33.604557</td>\n",
       "    </tr>\n",
       "    <tr>\n",
       "      <th>10</th>\n",
       "      <td>Signs that are round, rectangular with white a...</td>\n",
       "      <td>Informative signs</td>\n",
       "      <td>Based on the provided context and the step-by-...</td>\n",
       "      <td>0.702141</td>\n",
       "      <td>True</td>\n",
       "      <td>36.914772</td>\n",
       "    </tr>\n",
       "    <tr>\n",
       "      <th>11</th>\n",
       "      <td>Single with broken line on a two-lane road means</td>\n",
       "      <td>It separates traffic moving in opposite direct...</td>\n",
       "      <td>Based on the analysis and synthesis of the res...</td>\n",
       "      <td>0.687533</td>\n",
       "      <td>True</td>\n",
       "      <td>38.039268</td>\n",
       "    </tr>\n",
       "    <tr>\n",
       "      <th>12</th>\n",
       "      <td>What to do when you approach a crosswalk or pe...</td>\n",
       "      <td>Stop and yield to pedestrian</td>\n",
       "      <td>When approaching a crosswalk or pedestrian lan...</td>\n",
       "      <td>0.710277</td>\n",
       "      <td>True</td>\n",
       "      <td>61.232680</td>\n",
       "    </tr>\n",
       "    <tr>\n",
       "      <th>13</th>\n",
       "      <td>Driving an unregistered motor vehicle is a vio...</td>\n",
       "      <td>Fine of P10,000</td>\n",
       "      <td>Based on the provided context and the step-by-...</td>\n",
       "      <td>0.604113</td>\n",
       "      <td>True</td>\n",
       "      <td>32.801242</td>\n",
       "    </tr>\n",
       "    <tr>\n",
       "      <th>14</th>\n",
       "      <td>Considered a parking violation?</td>\n",
       "      <td>Parking within five(5) meters from a signalize...</td>\n",
       "      <td>Based on the provided context and the step-by-...</td>\n",
       "      <td>0.662238</td>\n",
       "      <td>True</td>\n",
       "      <td>33.985331</td>\n",
       "    </tr>\n",
       "    <tr>\n",
       "      <th>15</th>\n",
       "      <td>Green light at an intersection means</td>\n",
       "      <td>Pedestrian are not allowed to cross the pedest...</td>\n",
       "      <td>Based on the provided context, the correct ans...</td>\n",
       "      <td>0.552019</td>\n",
       "      <td>False</td>\n",
       "      <td>34.928171</td>\n",
       "    </tr>\n",
       "    <tr>\n",
       "      <th>16</th>\n",
       "      <td>Steady red light at an intersection means</td>\n",
       "      <td>Stop at the designated line</td>\n",
       "      <td>Based on the step-by-step analysis provided:\\n...</td>\n",
       "      <td>0.653905</td>\n",
       "      <td>True</td>\n",
       "      <td>38.997438</td>\n",
       "    </tr>\n",
       "    <tr>\n",
       "      <th>17</th>\n",
       "      <td>The penalty of driving a motor vehicle while u...</td>\n",
       "      <td>Driver's license shall be confiscated and susp...</td>\n",
       "      <td>Based on the provided information, the penalty...</td>\n",
       "      <td>0.614656</td>\n",
       "      <td>True</td>\n",
       "      <td>47.716995</td>\n",
       "    </tr>\n",
       "    <tr>\n",
       "      <th>18</th>\n",
       "      <td>When a driver of PUV refuses to render service...</td>\n",
       "      <td>Fine of P1,000</td>\n",
       "      <td>Based on the provided context and the step-by-...</td>\n",
       "      <td>0.648392</td>\n",
       "      <td>True</td>\n",
       "      <td>52.771044</td>\n",
       "    </tr>\n",
       "    <tr>\n",
       "      <th>19</th>\n",
       "      <td>If the driver is using a motor vehicle in comm...</td>\n",
       "      <td>Revoked and will pay a fine</td>\n",
       "      <td>Based on the provided context and reasoning pr...</td>\n",
       "      <td>0.672008</td>\n",
       "      <td>True</td>\n",
       "      <td>32.364419</td>\n",
       "    </tr>\n",
       "    <tr>\n",
       "      <th>20</th>\n",
       "      <td>The minimum distance away from the vehicle are...</td>\n",
       "      <td>1 car length</td>\n",
       "      <td>Based on the provided context and synthesis of...</td>\n",
       "      <td>0.627791</td>\n",
       "      <td>True</td>\n",
       "      <td>45.458385</td>\n",
       "    </tr>\n",
       "    <tr>\n",
       "      <th>21</th>\n",
       "      <td>When do you have a complete/full stop?</td>\n",
       "      <td>At a red traffic light</td>\n",
       "      <td>Based on the synthesized results, a full stop ...</td>\n",
       "      <td>0.410058</td>\n",
       "      <td>False</td>\n",
       "      <td>42.805736</td>\n",
       "    </tr>\n",
       "    <tr>\n",
       "      <th>22</th>\n",
       "      <td>On a two-lane road, overtaking is only allowed...</td>\n",
       "      <td>Left lane</td>\n",
       "      <td>Based on the analysis, I can conclude that:\\n\\...</td>\n",
       "      <td>0.663039</td>\n",
       "      <td>True</td>\n",
       "      <td>37.889412</td>\n",
       "    </tr>\n",
       "    <tr>\n",
       "      <th>23</th>\n",
       "      <td>Parking is considered as a violation when a mo...</td>\n",
       "      <td>Park at the entrance and exit of hospital and ...</td>\n",
       "      <td>Based on the synthesized results, I can now pr...</td>\n",
       "      <td>0.523824</td>\n",
       "      <td>False</td>\n",
       "      <td>47.345100</td>\n",
       "    </tr>\n",
       "    <tr>\n",
       "      <th>24</th>\n",
       "      <td>Parking is prohibited</td>\n",
       "      <td>Within an intersection</td>\n",
       "      <td>Based on the provided context, I will synthesi...</td>\n",
       "      <td>0.550838</td>\n",
       "      <td>False</td>\n",
       "      <td>34.809927</td>\n",
       "    </tr>\n",
       "    <tr>\n",
       "      <th>25</th>\n",
       "      <td>When the traffic light is steady green and ste...</td>\n",
       "      <td>Vehicles can go straight or vehicles on the ri...</td>\n",
       "      <td>Based on the analysis, when the traffic light ...</td>\n",
       "      <td>0.764081</td>\n",
       "      <td>True</td>\n",
       "      <td>37.059657</td>\n",
       "    </tr>\n",
       "    <tr>\n",
       "      <th>26</th>\n",
       "      <td>What is the maximum penalty for driving under ...</td>\n",
       "      <td>Revocation of license</td>\n",
       "      <td>The maximum penalty for driving under the infl...</td>\n",
       "      <td>0.516559</td>\n",
       "      <td>False</td>\n",
       "      <td>39.919156</td>\n",
       "    </tr>\n",
       "    <tr>\n",
       "      <th>27</th>\n",
       "      <td>On a wet road, you must</td>\n",
       "      <td>Slow down</td>\n",
       "      <td>Based on the provided context and reasoning pr...</td>\n",
       "      <td>0.627202</td>\n",
       "      <td>True</td>\n",
       "      <td>36.538178</td>\n",
       "    </tr>\n",
       "    <tr>\n",
       "      <th>28</th>\n",
       "      <td>While driving with a maximum speed and you hav...</td>\n",
       "      <td>Apply your brake gently with steady pressure</td>\n",
       "      <td>Based on the provided context and the step-by-...</td>\n",
       "      <td>0.744988</td>\n",
       "      <td>True</td>\n",
       "      <td>41.284200</td>\n",
       "    </tr>\n",
       "    <tr>\n",
       "      <th>29</th>\n",
       "      <td>When another vehicle is following you too clos...</td>\n",
       "      <td>Slow down gradually and give him the signal to...</td>\n",
       "      <td>Based on the provided context and key componen...</td>\n",
       "      <td>0.705884</td>\n",
       "      <td>True</td>\n",
       "      <td>44.010404</td>\n",
       "    </tr>\n",
       "    <tr>\n",
       "      <th>30</th>\n",
       "      <td>The driver of the vehicle behind you should al...</td>\n",
       "      <td>Rear end crashes</td>\n",
       "      <td>The driver of the vehicle behind you should al...</td>\n",
       "      <td>0.516140</td>\n",
       "      <td>False</td>\n",
       "      <td>39.814961</td>\n",
       "    </tr>\n",
       "    <tr>\n",
       "      <th>31</th>\n",
       "      <td>When parking uphill without a curb, turn your ...</td>\n",
       "      <td>Towards the edge of the road</td>\n",
       "      <td>When parking uphill without a curb, turn your ...</td>\n",
       "      <td>0.642636</td>\n",
       "      <td>True</td>\n",
       "      <td>39.544754</td>\n",
       "    </tr>\n",
       "    <tr>\n",
       "      <th>32</th>\n",
       "      <td>When parking downhill, you must</td>\n",
       "      <td>Turn your wheels to curb</td>\n",
       "      <td>Based on the provided context and steps, the c...</td>\n",
       "      <td>0.729848</td>\n",
       "      <td>True</td>\n",
       "      <td>37.168081</td>\n",
       "    </tr>\n",
       "    <tr>\n",
       "      <th>33</th>\n",
       "      <td>When parking uphill, you must</td>\n",
       "      <td>Turn your wheels aways from the curb</td>\n",
       "      <td>When parking uphill, you must turn your wheels...</td>\n",
       "      <td>0.661328</td>\n",
       "      <td>True</td>\n",
       "      <td>53.394145</td>\n",
       "    </tr>\n",
       "    <tr>\n",
       "      <th>34</th>\n",
       "      <td>When you make an abrupt move especially when y...</td>\n",
       "      <td>Improper braking</td>\n",
       "      <td>Based on the provided context and analysis, th...</td>\n",
       "      <td>0.713940</td>\n",
       "      <td>True</td>\n",
       "      <td>39.413445</td>\n",
       "    </tr>\n",
       "    <tr>\n",
       "      <th>35</th>\n",
       "      <td>Whenever you are driving, especially when over...</td>\n",
       "      <td>Never overtake another vehicle from a tailgat...</td>\n",
       "      <td>Based on the provided steps and analysis, the ...</td>\n",
       "      <td>0.622210</td>\n",
       "      <td>True</td>\n",
       "      <td>50.767456</td>\n",
       "    </tr>\n",
       "    <tr>\n",
       "      <th>36</th>\n",
       "      <td>When driving on a highway, do not stare at the...</td>\n",
       "      <td>Extend your scanning distance to about 12 seco...</td>\n",
       "      <td>When driving on a highway, do not stare at the...</td>\n",
       "      <td>0.697436</td>\n",
       "      <td>True</td>\n",
       "      <td>40.729024</td>\n",
       "    </tr>\n",
       "    <tr>\n",
       "      <th>37</th>\n",
       "      <td>When driving on a mountain roads during daytim...</td>\n",
       "      <td>Blow your horn when approaching a blind curve</td>\n",
       "      <td>Based on the analysis, the correct answer is:\\...</td>\n",
       "      <td>0.570163</td>\n",
       "      <td>False</td>\n",
       "      <td>41.608774</td>\n",
       "    </tr>\n",
       "    <tr>\n",
       "      <th>38</th>\n",
       "      <td>When driving downhill on a mountain road always</td>\n",
       "      <td>Shift to lower gear so the engine braking acti...</td>\n",
       "      <td>When driving downhill on a mountain road, alwa...</td>\n",
       "      <td>0.707403</td>\n",
       "      <td>True</td>\n",
       "      <td>42.167773</td>\n",
       "    </tr>\n",
       "    <tr>\n",
       "      <th>39</th>\n",
       "      <td>The headlights should be used often as needed to</td>\n",
       "      <td>Make your intentions known to drivers around you</td>\n",
       "      <td>Based on the synthesized results, the most acc...</td>\n",
       "      <td>0.621433</td>\n",
       "      <td>True</td>\n",
       "      <td>42.270413</td>\n",
       "    </tr>\n",
       "    <tr>\n",
       "      <th>40</th>\n",
       "      <td>At an intersection, if two (2) vehicles arrive...</td>\n",
       "      <td>Vehicle on the right</td>\n",
       "      <td>Based on the provided context and the step-by-...</td>\n",
       "      <td>0.737059</td>\n",
       "      <td>True</td>\n",
       "      <td>38.441560</td>\n",
       "    </tr>\n",
       "    <tr>\n",
       "      <th>41</th>\n",
       "      <td>When negotiating a curve on a highway at a rel...</td>\n",
       "      <td>Decrease your speed further as you enter the c...</td>\n",
       "      <td>Based on the provided context and analysis, th...</td>\n",
       "      <td>0.800121</td>\n",
       "      <td>True</td>\n",
       "      <td>40.062845</td>\n",
       "    </tr>\n",
       "    <tr>\n",
       "      <th>42</th>\n",
       "      <td>When planning to overtake a slower vehicle in ...</td>\n",
       "      <td>Flick your dimmer, switch two or three times t...</td>\n",
       "      <td>Based on the synthesized results, when plannin...</td>\n",
       "      <td>0.699503</td>\n",
       "      <td>True</td>\n",
       "      <td>58.898410</td>\n",
       "    </tr>\n",
       "    <tr>\n",
       "      <th>43</th>\n",
       "      <td>Driving in heavy rains can be extremely danger...</td>\n",
       "      <td>When you cannot see more than 20 meters in fro...</td>\n",
       "      <td>Based on the provided context and steps, when ...</td>\n",
       "      <td>0.647584</td>\n",
       "      <td>True</td>\n",
       "      <td>56.647134</td>\n",
       "    </tr>\n",
       "    <tr>\n",
       "      <th>44</th>\n",
       "      <td>A flashing red light means</td>\n",
       "      <td>You must stop and then go only when it is safe...</td>\n",
       "      <td>A flashing red light means **an alert or warni...</td>\n",
       "      <td>0.508806</td>\n",
       "      <td>False</td>\n",
       "      <td>39.478120</td>\n",
       "    </tr>\n",
       "    <tr>\n",
       "      <th>45</th>\n",
       "      <td>Your speed while driving at night should keep on</td>\n",
       "      <td>The distance that you can see where you come t...</td>\n",
       "      <td>Based on the provided context and the steps an...</td>\n",
       "      <td>0.596726</td>\n",
       "      <td>False</td>\n",
       "      <td>38.231664</td>\n",
       "    </tr>\n",
       "    <tr>\n",
       "      <th>46</th>\n",
       "      <td>One that affects your visibility?</td>\n",
       "      <td>Defective or dirty headlights</td>\n",
       "      <td>Based on the step-by-step analysis provided, f...</td>\n",
       "      <td>0.520245</td>\n",
       "      <td>False</td>\n",
       "      <td>35.349876</td>\n",
       "    </tr>\n",
       "    <tr>\n",
       "      <th>47</th>\n",
       "      <td>When driving at night, you should</td>\n",
       "      <td>Always turn your headlights on</td>\n",
       "      <td>Based on the provided context and reasoning pr...</td>\n",
       "      <td>0.689994</td>\n",
       "      <td>True</td>\n",
       "      <td>45.007380</td>\n",
       "    </tr>\n",
       "    <tr>\n",
       "      <th>48</th>\n",
       "      <td>Being passed is normal part of driving and sho...</td>\n",
       "      <td>Slow down and make it easy to stop</td>\n",
       "      <td>Based on the synthesized results, the correct ...</td>\n",
       "      <td>0.611333</td>\n",
       "      <td>True</td>\n",
       "      <td>43.778947</td>\n",
       "    </tr>\n",
       "    <tr>\n",
       "      <th>49</th>\n",
       "      <td>When oncoming vehicle deliberately crosses the...</td>\n",
       "      <td>Alert and be ready to slow down or stop if nec...</td>\n",
       "      <td>Based on the synthesized results, the correct ...</td>\n",
       "      <td>0.667503</td>\n",
       "      <td>True</td>\n",
       "      <td>50.774922</td>\n",
       "    </tr>\n",
       "    <tr>\n",
       "      <th>50</th>\n",
       "      <td>When approaching a flooded area and you have t...</td>\n",
       "      <td>Proceed at a very slow speed</td>\n",
       "      <td>When approaching a flooded area and having to ...</td>\n",
       "      <td>0.562330</td>\n",
       "      <td>False</td>\n",
       "      <td>48.697189</td>\n",
       "    </tr>\n",
       "    <tr>\n",
       "      <th>51</th>\n",
       "      <td>A single solid yellow or white line means</td>\n",
       "      <td>Passing/overtaking is not allowed</td>\n",
       "      <td>Based on the synthesized results, a single sol...</td>\n",
       "      <td>0.633515</td>\n",
       "      <td>True</td>\n",
       "      <td>30.735800</td>\n",
       "    </tr>\n",
       "    <tr>\n",
       "      <th>52</th>\n",
       "      <td>Passing/overtaking is allowed</td>\n",
       "      <td>On highway with two or more lanes</td>\n",
       "      <td>Based on the provided context and the step-by-...</td>\n",
       "      <td>0.666754</td>\n",
       "      <td>True</td>\n",
       "      <td>37.770394</td>\n",
       "    </tr>\n",
       "    <tr>\n",
       "      <th>53</th>\n",
       "      <td>A driver on a highway shall yield the right of...</td>\n",
       "      <td>Police / fire department vehicles and ambulanc...</td>\n",
       "      <td>Based on the provided context and analysis, th...</td>\n",
       "      <td>0.622283</td>\n",
       "      <td>True</td>\n",
       "      <td>46.585566</td>\n",
       "    </tr>\n",
       "    <tr>\n",
       "      <th>54</th>\n",
       "      <td>A driver on a highway shall yield the right of...</td>\n",
       "      <td>Pedestrians crossing within a crosswalk</td>\n",
       "      <td>Based on the provided context and the step-by-...</td>\n",
       "      <td>0.581660</td>\n",
       "      <td>False</td>\n",
       "      <td>32.546502</td>\n",
       "    </tr>\n",
       "    <tr>\n",
       "      <th>55</th>\n",
       "      <td>This traffic signs warns you that school child...</td>\n",
       "      <td>Pentagon</td>\n",
       "      <td>Based on the provided context, the correct ans...</td>\n",
       "      <td>0.403390</td>\n",
       "      <td>False</td>\n",
       "      <td>50.882992</td>\n",
       "    </tr>\n",
       "    <tr>\n",
       "      <th>56</th>\n",
       "      <td>The signal warns of a hazard ahead</td>\n",
       "      <td>Diamond shape</td>\n",
       "      <td>Based on the provided context and synthesized ...</td>\n",
       "      <td>0.380617</td>\n",
       "      <td>False</td>\n",
       "      <td>37.390772</td>\n",
       "    </tr>\n",
       "    <tr>\n",
       "      <th>57</th>\n",
       "      <td>This traffic sign states direction and distances</td>\n",
       "      <td>Horizontal rectangle</td>\n",
       "      <td>Based on the synthesized results, the correct ...</td>\n",
       "      <td>0.513513</td>\n",
       "      <td>False</td>\n",
       "      <td>38.314054</td>\n",
       "    </tr>\n",
       "    <tr>\n",
       "      <th>58</th>\n",
       "      <td>The mark for a railway crossing</td>\n",
       "      <td>Cross-buck</td>\n",
       "      <td>Based on the provided context and the step-by-...</td>\n",
       "      <td>0.429585</td>\n",
       "      <td>False</td>\n",
       "      <td>51.146000</td>\n",
       "    </tr>\n",
       "    <tr>\n",
       "      <th>59</th>\n",
       "      <td>Children must be held in approved child restra...</td>\n",
       "      <td>6 years old and below</td>\n",
       "      <td>Based on the synthesis of the provided steps a...</td>\n",
       "      <td>0.683227</td>\n",
       "      <td>True</td>\n",
       "      <td>34.096365</td>\n",
       "    </tr>\n",
       "  </tbody>\n",
       "</table>\n",
       "</div>"
      ],
      "text/plain": [
       "                                             Question  \\\n",
       "0                 Traffic Jam can be prevented if you   \n",
       "1                 When making a right turn you should   \n",
       "2   When you intend to turn right or left, signal ...   \n",
       "3   At an intersection with a traffic light, make ...   \n",
       "4   Graft and corruption in the traffic enforcemen...   \n",
       "5   On a four(4) lane road with single white line,...   \n",
       "6   A double solid yellow line with broken white l...   \n",
       "7                    When making a U-Turn, you should   \n",
       "8   Signs that are triangular in shape and with a ...   \n",
       "9   Signs that are round, inverted triangle or oct...   \n",
       "10  Signs that are round, rectangular with white a...   \n",
       "11   Single with broken line on a two-lane road means   \n",
       "12  What to do when you approach a crosswalk or pe...   \n",
       "13  Driving an unregistered motor vehicle is a vio...   \n",
       "14                    Considered a parking violation?   \n",
       "15               Green light at an intersection means   \n",
       "16          Steady red light at an intersection means   \n",
       "17  The penalty of driving a motor vehicle while u...   \n",
       "18  When a driver of PUV refuses to render service...   \n",
       "19  If the driver is using a motor vehicle in comm...   \n",
       "20  The minimum distance away from the vehicle are...   \n",
       "21             When do you have a complete/full stop?   \n",
       "22  On a two-lane road, overtaking is only allowed...   \n",
       "23  Parking is considered as a violation when a mo...   \n",
       "24                              Parking is prohibited   \n",
       "25  When the traffic light is steady green and ste...   \n",
       "26  What is the maximum penalty for driving under ...   \n",
       "27                            On a wet road, you must   \n",
       "28  While driving with a maximum speed and you hav...   \n",
       "29  When another vehicle is following you too clos...   \n",
       "30  The driver of the vehicle behind you should al...   \n",
       "31  When parking uphill without a curb, turn your ...   \n",
       "32                    When parking downhill, you must   \n",
       "33                      When parking uphill, you must   \n",
       "34  When you make an abrupt move especially when y...   \n",
       "35  Whenever you are driving, especially when over...   \n",
       "36  When driving on a highway, do not stare at the...   \n",
       "37  When driving on a mountain roads during daytim...   \n",
       "38    When driving downhill on a mountain road always   \n",
       "39   The headlights should be used often as needed to   \n",
       "40  At an intersection, if two (2) vehicles arrive...   \n",
       "41  When negotiating a curve on a highway at a rel...   \n",
       "42  When planning to overtake a slower vehicle in ...   \n",
       "43  Driving in heavy rains can be extremely danger...   \n",
       "44                         A flashing red light means   \n",
       "45   Your speed while driving at night should keep on   \n",
       "46                  One that affects your visibility?   \n",
       "47                  When driving at night, you should   \n",
       "48  Being passed is normal part of driving and sho...   \n",
       "49  When oncoming vehicle deliberately crosses the...   \n",
       "50  When approaching a flooded area and you have t...   \n",
       "51          A single solid yellow or white line means   \n",
       "52                      Passing/overtaking is allowed   \n",
       "53  A driver on a highway shall yield the right of...   \n",
       "54  A driver on a highway shall yield the right of...   \n",
       "55  This traffic signs warns you that school child...   \n",
       "56                 The signal warns of a hazard ahead   \n",
       "57   This traffic sign states direction and distances   \n",
       "58                    The mark for a railway crossing   \n",
       "59  Children must be held in approved child restra...   \n",
       "\n",
       "                                               Answer  \\\n",
       "0                            Keep opposing lanes open   \n",
       "1   Stay on the outermost lane of the road then si...   \n",
       "2       25 meters before you intend to make your turn   \n",
       "3   The green light is on and there is a left turn...   \n",
       "4   Self disciplined by drivers and obeying traffi...   \n",
       "5       Overtake by passing over the solid white line   \n",
       "6                            Absolutely no overtaking   \n",
       "7   Check for traffic behind you and indicate your...   \n",
       "8                            Caution or warning signs   \n",
       "9                                    Regulatory signs   \n",
       "10                                  Informative signs   \n",
       "11  It separates traffic moving in opposite direct...   \n",
       "12                       Stop and yield to pedestrian   \n",
       "13                                    Fine of P10,000   \n",
       "14  Parking within five(5) meters from a signalize...   \n",
       "15  Pedestrian are not allowed to cross the pedest...   \n",
       "16                        Stop at the designated line   \n",
       "17  Driver's license shall be confiscated and susp...   \n",
       "18                                     Fine of P1,000   \n",
       "19                        Revoked and will pay a fine   \n",
       "20                                       1 car length   \n",
       "21                             At a red traffic light   \n",
       "22                                          Left lane   \n",
       "23  Park at the entrance and exit of hospital and ...   \n",
       "24                             Within an intersection   \n",
       "25  Vehicles can go straight or vehicles on the ri...   \n",
       "26                              Revocation of license   \n",
       "27                                          Slow down   \n",
       "28       Apply your brake gently with steady pressure   \n",
       "29  Slow down gradually and give him the signal to...   \n",
       "30                                   Rear end crashes   \n",
       "31                       Towards the edge of the road   \n",
       "32                           Turn your wheels to curb   \n",
       "33               Turn your wheels aways from the curb   \n",
       "34                                   Improper braking   \n",
       "35   Never overtake another vehicle from a tailgat...   \n",
       "36  Extend your scanning distance to about 12 seco...   \n",
       "37      Blow your horn when approaching a blind curve   \n",
       "38  Shift to lower gear so the engine braking acti...   \n",
       "39   Make your intentions known to drivers around you   \n",
       "40                               Vehicle on the right   \n",
       "41  Decrease your speed further as you enter the c...   \n",
       "42  Flick your dimmer, switch two or three times t...   \n",
       "43  When you cannot see more than 20 meters in fro...   \n",
       "44  You must stop and then go only when it is safe...   \n",
       "45  The distance that you can see where you come t...   \n",
       "46                      Defective or dirty headlights   \n",
       "47                     Always turn your headlights on   \n",
       "48                 Slow down and make it easy to stop   \n",
       "49  Alert and be ready to slow down or stop if nec...   \n",
       "50                       Proceed at a very slow speed   \n",
       "51                  Passing/overtaking is not allowed   \n",
       "52                  On highway with two or more lanes   \n",
       "53  Police / fire department vehicles and ambulanc...   \n",
       "54            Pedestrians crossing within a crosswalk   \n",
       "55                                           Pentagon   \n",
       "56                                      Diamond shape   \n",
       "57                               Horizontal rectangle   \n",
       "58                                         Cross-buck   \n",
       "59                              6 years old and below   \n",
       "\n",
       "                                                   AI     Score  Passing  \\\n",
       "0   Based on the synthesized results, the best pos...  0.624936     True   \n",
       "1   Based on the provided context, when making a r...  0.768676     True   \n",
       "2   When you intend to turn right or left, signal ...  0.772739     True   \n",
       "3   Based on the synthesized results, the correct ...  0.778546     True   \n",
       "4   Based on the provided breakdown and expanded e...  0.619826     True   \n",
       "5   Based on the provided analysis and general kno...  0.769908     True   \n",
       "6   Based on the synthesized results, a double sol...  0.535426    False   \n",
       "7   When making a U-Turn, you should **signal your...  0.728841     True   \n",
       "8   Based on the provided context and the step-by-...  0.749514     True   \n",
       "9   Based on the provided context and the step-by-...  0.658674     True   \n",
       "10  Based on the provided context and the step-by-...  0.702141     True   \n",
       "11  Based on the analysis and synthesis of the res...  0.687533     True   \n",
       "12  When approaching a crosswalk or pedestrian lan...  0.710277     True   \n",
       "13  Based on the provided context and the step-by-...  0.604113     True   \n",
       "14  Based on the provided context and the step-by-...  0.662238     True   \n",
       "15  Based on the provided context, the correct ans...  0.552019    False   \n",
       "16  Based on the step-by-step analysis provided:\\n...  0.653905     True   \n",
       "17  Based on the provided information, the penalty...  0.614656     True   \n",
       "18  Based on the provided context and the step-by-...  0.648392     True   \n",
       "19  Based on the provided context and reasoning pr...  0.672008     True   \n",
       "20  Based on the provided context and synthesis of...  0.627791     True   \n",
       "21  Based on the synthesized results, a full stop ...  0.410058    False   \n",
       "22  Based on the analysis, I can conclude that:\\n\\...  0.663039     True   \n",
       "23  Based on the synthesized results, I can now pr...  0.523824    False   \n",
       "24  Based on the provided context, I will synthesi...  0.550838    False   \n",
       "25  Based on the analysis, when the traffic light ...  0.764081     True   \n",
       "26  The maximum penalty for driving under the infl...  0.516559    False   \n",
       "27  Based on the provided context and reasoning pr...  0.627202     True   \n",
       "28  Based on the provided context and the step-by-...  0.744988     True   \n",
       "29  Based on the provided context and key componen...  0.705884     True   \n",
       "30  The driver of the vehicle behind you should al...  0.516140    False   \n",
       "31  When parking uphill without a curb, turn your ...  0.642636     True   \n",
       "32  Based on the provided context and steps, the c...  0.729848     True   \n",
       "33  When parking uphill, you must turn your wheels...  0.661328     True   \n",
       "34  Based on the provided context and analysis, th...  0.713940     True   \n",
       "35  Based on the provided steps and analysis, the ...  0.622210     True   \n",
       "36  When driving on a highway, do not stare at the...  0.697436     True   \n",
       "37  Based on the analysis, the correct answer is:\\...  0.570163    False   \n",
       "38  When driving downhill on a mountain road, alwa...  0.707403     True   \n",
       "39  Based on the synthesized results, the most acc...  0.621433     True   \n",
       "40  Based on the provided context and the step-by-...  0.737059     True   \n",
       "41  Based on the provided context and analysis, th...  0.800121     True   \n",
       "42  Based on the synthesized results, when plannin...  0.699503     True   \n",
       "43  Based on the provided context and steps, when ...  0.647584     True   \n",
       "44  A flashing red light means **an alert or warni...  0.508806    False   \n",
       "45  Based on the provided context and the steps an...  0.596726    False   \n",
       "46  Based on the step-by-step analysis provided, f...  0.520245    False   \n",
       "47  Based on the provided context and reasoning pr...  0.689994     True   \n",
       "48  Based on the synthesized results, the correct ...  0.611333     True   \n",
       "49  Based on the synthesized results, the correct ...  0.667503     True   \n",
       "50  When approaching a flooded area and having to ...  0.562330    False   \n",
       "51  Based on the synthesized results, a single sol...  0.633515     True   \n",
       "52  Based on the provided context and the step-by-...  0.666754     True   \n",
       "53  Based on the provided context and analysis, th...  0.622283     True   \n",
       "54  Based on the provided context and the step-by-...  0.581660    False   \n",
       "55  Based on the provided context, the correct ans...  0.403390    False   \n",
       "56  Based on the provided context and synthesized ...  0.380617    False   \n",
       "57  Based on the synthesized results, the correct ...  0.513513    False   \n",
       "58  Based on the provided context and the step-by-...  0.429585    False   \n",
       "59  Based on the synthesis of the provided steps a...  0.683227     True   \n",
       "\n",
       "    Inference_Time  \n",
       "0        56.972070  \n",
       "1        53.918721  \n",
       "2        33.576814  \n",
       "3        46.873964  \n",
       "4        47.836722  \n",
       "5        71.307832  \n",
       "6        46.118041  \n",
       "7        38.615253  \n",
       "8        42.734952  \n",
       "9        33.604557  \n",
       "10       36.914772  \n",
       "11       38.039268  \n",
       "12       61.232680  \n",
       "13       32.801242  \n",
       "14       33.985331  \n",
       "15       34.928171  \n",
       "16       38.997438  \n",
       "17       47.716995  \n",
       "18       52.771044  \n",
       "19       32.364419  \n",
       "20       45.458385  \n",
       "21       42.805736  \n",
       "22       37.889412  \n",
       "23       47.345100  \n",
       "24       34.809927  \n",
       "25       37.059657  \n",
       "26       39.919156  \n",
       "27       36.538178  \n",
       "28       41.284200  \n",
       "29       44.010404  \n",
       "30       39.814961  \n",
       "31       39.544754  \n",
       "32       37.168081  \n",
       "33       53.394145  \n",
       "34       39.413445  \n",
       "35       50.767456  \n",
       "36       40.729024  \n",
       "37       41.608774  \n",
       "38       42.167773  \n",
       "39       42.270413  \n",
       "40       38.441560  \n",
       "41       40.062845  \n",
       "42       58.898410  \n",
       "43       56.647134  \n",
       "44       39.478120  \n",
       "45       38.231664  \n",
       "46       35.349876  \n",
       "47       45.007380  \n",
       "48       43.778947  \n",
       "49       50.774922  \n",
       "50       48.697189  \n",
       "51       30.735800  \n",
       "52       37.770394  \n",
       "53       46.585566  \n",
       "54       32.546502  \n",
       "55       50.882992  \n",
       "56       37.390772  \n",
       "57       38.314054  \n",
       "58       51.146000  \n",
       "59       34.096365  "
      ]
     },
     "metadata": {},
     "output_type": "display_data"
    }
   ],
   "source": [
    "from llama_index.core.evaluation import SemanticSimilarityEvaluator\n",
    "from llama_index.core.base.embeddings.base import BaseEmbedding\n",
    "import asyncio\n",
    "from llama_index.core.embeddings import resolve_embed_model\n",
    "from pydantic import PrivateAttr\n",
    "\n",
    "class OllamaEmbeddingModel(BaseEmbedding):\n",
    "    _client: Client = PrivateAttr()\n",
    "\n",
    "    def __init__(self, model_name: str = \"mxbai-embed-large\", timeout: int = 300):\n",
    "        super().__init__()\n",
    "        self.model_name = model_name\n",
    "        self._client = Client() \n",
    "\n",
    "    async def _aget_query_embedding(self, query: str) -> list[float]:\n",
    "        return await self._aget_text_embedding(query)\n",
    "\n",
    "    async def _aget_text_embedding(self, text: str) -> list[float]:\n",
    "        loop = asyncio.get_event_loop()\n",
    "        embedding_response = await loop.run_in_executor(\n",
    "            None, self._client.embeddings, self.model_name, text\n",
    "        )\n",
    "        return embedding_response['embedding']  \n",
    "\n",
    "    def _get_query_embedding(self, query: str) -> list[float]:\n",
    "        return self._get_text_embedding(query)\n",
    "\n",
    "    def _get_text_embedding(self, text: str) -> list[float]:\n",
    "        embedding_response = self._client.embeddings(\n",
    "            model=self.model_name,\n",
    "            prompt=text\n",
    "        )\n",
    "        return embedding_response['embedding']\n",
    "\n",
    "\n",
    "embed_model = OllamaEmbeddingModel(model_name=\"mxbai-embed-large\")\n",
    "evaluator = SemanticSimilarityEvaluator(\n",
    "    embed_model=embed_model,\n",
    "    similarity_threshold=0.6\n",
    ")\n",
    "\n",
    "results_scores = []\n",
    "results_passing = []\n",
    "for i in tqdm(range(len(df))):\n",
    "    response = df.loc[i, \"AI\"]\n",
    "    reference = df.loc[i, \"Answer\"]\n",
    "\n",
    "    result = await evaluator.aevaluate(\n",
    "    response=response,\n",
    "    reference=reference,\n",
    "    )\n",
    "    results_scores.append(result.score)\n",
    "    results_passing.append(result.passing)\n",
    "    \n",
    "df['Score'] = results_scores\n",
    "df['Passing'] = results_passing\n",
    "\n",
    "average_score = df['Score'].mean()\n",
    "total_items = len(df)\n",
    "passing_items = df['Passing'].sum()  \n",
    "print(f\"Average Score: {average_score:.4f}\")\n",
    "print(f\"Passing: {passing_items}/{total_items}\") \n",
    "display(df[['Question', 'Answer', 'AI', 'Score', 'Passing', 'Inference_Time']])"
   ]
  },
  {
   "cell_type": "markdown",
   "id": "59f8b8a1",
   "metadata": {},
   "source": [
    "# 11. Relevancy Evaluation"
   ]
  },
  {
   "cell_type": "code",
   "execution_count": 39,
   "id": "00594227",
   "metadata": {},
   "outputs": [
    {
     "name": "stderr",
     "output_type": "stream",
     "text": [
      "100%|██████████| 60/60 [08:12<00:00,  8.21s/it]"
     ]
    },
    {
     "name": "stdout",
     "output_type": "stream",
     "text": [
      "Score: 52/60\n",
      "Percentage: 86.67%\n"
     ]
    },
    {
     "name": "stderr",
     "output_type": "stream",
     "text": [
      "\n"
     ]
    },
    {
     "data": {
      "text/html": [
       "<div>\n",
       "<style scoped>\n",
       "    .dataframe tbody tr th:only-of-type {\n",
       "        vertical-align: middle;\n",
       "    }\n",
       "\n",
       "    .dataframe tbody tr th {\n",
       "        vertical-align: top;\n",
       "    }\n",
       "\n",
       "    .dataframe thead th {\n",
       "        text-align: right;\n",
       "    }\n",
       "</style>\n",
       "<table border=\"1\" class=\"dataframe\">\n",
       "  <thead>\n",
       "    <tr style=\"text-align: right;\">\n",
       "      <th></th>\n",
       "      <th>Question</th>\n",
       "      <th>Answer</th>\n",
       "      <th>AI</th>\n",
       "      <th>Eval</th>\n",
       "      <th>Inference_Time</th>\n",
       "    </tr>\n",
       "  </thead>\n",
       "  <tbody>\n",
       "    <tr>\n",
       "      <th>0</th>\n",
       "      <td>Traffic Jam can be prevented if you</td>\n",
       "      <td>Keep opposing lanes open</td>\n",
       "      <td>Based on the synthesized results, the best pos...</td>\n",
       "      <td>True</td>\n",
       "      <td>56.972070</td>\n",
       "    </tr>\n",
       "    <tr>\n",
       "      <th>1</th>\n",
       "      <td>When making a right turn you should</td>\n",
       "      <td>Stay on the outermost lane of the road then si...</td>\n",
       "      <td>Based on the provided context, when making a r...</td>\n",
       "      <td>True</td>\n",
       "      <td>53.918721</td>\n",
       "    </tr>\n",
       "    <tr>\n",
       "      <th>2</th>\n",
       "      <td>When you intend to turn right or left, signal ...</td>\n",
       "      <td>25 meters before you intend to make your turn</td>\n",
       "      <td>When you intend to turn right or left, signal ...</td>\n",
       "      <td>True</td>\n",
       "      <td>33.576814</td>\n",
       "    </tr>\n",
       "    <tr>\n",
       "      <th>3</th>\n",
       "      <td>At an intersection with a traffic light, make ...</td>\n",
       "      <td>The green light is on and there is a left turn...</td>\n",
       "      <td>Based on the synthesized results, the correct ...</td>\n",
       "      <td>True</td>\n",
       "      <td>46.873964</td>\n",
       "    </tr>\n",
       "    <tr>\n",
       "      <th>4</th>\n",
       "      <td>Graft and corruption in the traffic enforcemen...</td>\n",
       "      <td>Self disciplined by drivers and obeying traffi...</td>\n",
       "      <td>Based on the provided breakdown and expanded e...</td>\n",
       "      <td>True</td>\n",
       "      <td>47.836722</td>\n",
       "    </tr>\n",
       "    <tr>\n",
       "      <th>5</th>\n",
       "      <td>On a four(4) lane road with single white line,...</td>\n",
       "      <td>Overtake by passing over the solid white line</td>\n",
       "      <td>Based on the provided analysis and general kno...</td>\n",
       "      <td>True</td>\n",
       "      <td>71.307832</td>\n",
       "    </tr>\n",
       "    <tr>\n",
       "      <th>6</th>\n",
       "      <td>A double solid yellow line with broken white l...</td>\n",
       "      <td>Absolutely no overtaking</td>\n",
       "      <td>Based on the synthesized results, a double sol...</td>\n",
       "      <td>True</td>\n",
       "      <td>46.118041</td>\n",
       "    </tr>\n",
       "    <tr>\n",
       "      <th>7</th>\n",
       "      <td>When making a U-Turn, you should</td>\n",
       "      <td>Check for traffic behind you and indicate your...</td>\n",
       "      <td>When making a U-Turn, you should **signal your...</td>\n",
       "      <td>True</td>\n",
       "      <td>38.615253</td>\n",
       "    </tr>\n",
       "    <tr>\n",
       "      <th>8</th>\n",
       "      <td>Signs that are triangular in shape and with a ...</td>\n",
       "      <td>Caution or warning signs</td>\n",
       "      <td>Based on the provided context and the step-by-...</td>\n",
       "      <td>True</td>\n",
       "      <td>42.734952</td>\n",
       "    </tr>\n",
       "    <tr>\n",
       "      <th>9</th>\n",
       "      <td>Signs that are round, inverted triangle or oct...</td>\n",
       "      <td>Regulatory signs</td>\n",
       "      <td>Based on the provided context and the step-by-...</td>\n",
       "      <td>True</td>\n",
       "      <td>33.604557</td>\n",
       "    </tr>\n",
       "    <tr>\n",
       "      <th>10</th>\n",
       "      <td>Signs that are round, rectangular with white a...</td>\n",
       "      <td>Informative signs</td>\n",
       "      <td>Based on the provided context and the step-by-...</td>\n",
       "      <td>True</td>\n",
       "      <td>36.914772</td>\n",
       "    </tr>\n",
       "    <tr>\n",
       "      <th>11</th>\n",
       "      <td>Single with broken line on a two-lane road means</td>\n",
       "      <td>It separates traffic moving in opposite direct...</td>\n",
       "      <td>Based on the analysis and synthesis of the res...</td>\n",
       "      <td>False</td>\n",
       "      <td>38.039268</td>\n",
       "    </tr>\n",
       "    <tr>\n",
       "      <th>12</th>\n",
       "      <td>What to do when you approach a crosswalk or pe...</td>\n",
       "      <td>Stop and yield to pedestrian</td>\n",
       "      <td>When approaching a crosswalk or pedestrian lan...</td>\n",
       "      <td>True</td>\n",
       "      <td>61.232680</td>\n",
       "    </tr>\n",
       "    <tr>\n",
       "      <th>13</th>\n",
       "      <td>Driving an unregistered motor vehicle is a vio...</td>\n",
       "      <td>Fine of P10,000</td>\n",
       "      <td>Based on the provided context and the step-by-...</td>\n",
       "      <td>False</td>\n",
       "      <td>32.801242</td>\n",
       "    </tr>\n",
       "    <tr>\n",
       "      <th>14</th>\n",
       "      <td>Considered a parking violation?</td>\n",
       "      <td>Parking within five(5) meters from a signalize...</td>\n",
       "      <td>Based on the provided context and the step-by-...</td>\n",
       "      <td>True</td>\n",
       "      <td>33.985331</td>\n",
       "    </tr>\n",
       "    <tr>\n",
       "      <th>15</th>\n",
       "      <td>Green light at an intersection means</td>\n",
       "      <td>Pedestrian are not allowed to cross the pedest...</td>\n",
       "      <td>Based on the provided context, the correct ans...</td>\n",
       "      <td>True</td>\n",
       "      <td>34.928171</td>\n",
       "    </tr>\n",
       "    <tr>\n",
       "      <th>16</th>\n",
       "      <td>Steady red light at an intersection means</td>\n",
       "      <td>Stop at the designated line</td>\n",
       "      <td>Based on the step-by-step analysis provided:\\n...</td>\n",
       "      <td>True</td>\n",
       "      <td>38.997438</td>\n",
       "    </tr>\n",
       "    <tr>\n",
       "      <th>17</th>\n",
       "      <td>The penalty of driving a motor vehicle while u...</td>\n",
       "      <td>Driver's license shall be confiscated and susp...</td>\n",
       "      <td>Based on the provided information, the penalty...</td>\n",
       "      <td>True</td>\n",
       "      <td>47.716995</td>\n",
       "    </tr>\n",
       "    <tr>\n",
       "      <th>18</th>\n",
       "      <td>When a driver of PUV refuses to render service...</td>\n",
       "      <td>Fine of P1,000</td>\n",
       "      <td>Based on the provided context and the step-by-...</td>\n",
       "      <td>True</td>\n",
       "      <td>52.771044</td>\n",
       "    </tr>\n",
       "    <tr>\n",
       "      <th>19</th>\n",
       "      <td>If the driver is using a motor vehicle in comm...</td>\n",
       "      <td>Revoked and will pay a fine</td>\n",
       "      <td>Based on the provided context and reasoning pr...</td>\n",
       "      <td>True</td>\n",
       "      <td>32.364419</td>\n",
       "    </tr>\n",
       "    <tr>\n",
       "      <th>20</th>\n",
       "      <td>The minimum distance away from the vehicle are...</td>\n",
       "      <td>1 car length</td>\n",
       "      <td>Based on the provided context and synthesis of...</td>\n",
       "      <td>True</td>\n",
       "      <td>45.458385</td>\n",
       "    </tr>\n",
       "    <tr>\n",
       "      <th>21</th>\n",
       "      <td>When do you have a complete/full stop?</td>\n",
       "      <td>At a red traffic light</td>\n",
       "      <td>Based on the synthesized results, a full stop ...</td>\n",
       "      <td>False</td>\n",
       "      <td>42.805736</td>\n",
       "    </tr>\n",
       "    <tr>\n",
       "      <th>22</th>\n",
       "      <td>On a two-lane road, overtaking is only allowed...</td>\n",
       "      <td>Left lane</td>\n",
       "      <td>Based on the analysis, I can conclude that:\\n\\...</td>\n",
       "      <td>True</td>\n",
       "      <td>37.889412</td>\n",
       "    </tr>\n",
       "    <tr>\n",
       "      <th>23</th>\n",
       "      <td>Parking is considered as a violation when a mo...</td>\n",
       "      <td>Park at the entrance and exit of hospital and ...</td>\n",
       "      <td>Based on the synthesized results, I can now pr...</td>\n",
       "      <td>True</td>\n",
       "      <td>47.345100</td>\n",
       "    </tr>\n",
       "    <tr>\n",
       "      <th>24</th>\n",
       "      <td>Parking is prohibited</td>\n",
       "      <td>Within an intersection</td>\n",
       "      <td>Based on the provided context, I will synthesi...</td>\n",
       "      <td>True</td>\n",
       "      <td>34.809927</td>\n",
       "    </tr>\n",
       "    <tr>\n",
       "      <th>25</th>\n",
       "      <td>When the traffic light is steady green and ste...</td>\n",
       "      <td>Vehicles can go straight or vehicles on the ri...</td>\n",
       "      <td>Based on the analysis, when the traffic light ...</td>\n",
       "      <td>True</td>\n",
       "      <td>37.059657</td>\n",
       "    </tr>\n",
       "    <tr>\n",
       "      <th>26</th>\n",
       "      <td>What is the maximum penalty for driving under ...</td>\n",
       "      <td>Revocation of license</td>\n",
       "      <td>The maximum penalty for driving under the infl...</td>\n",
       "      <td>False</td>\n",
       "      <td>39.919156</td>\n",
       "    </tr>\n",
       "    <tr>\n",
       "      <th>27</th>\n",
       "      <td>On a wet road, you must</td>\n",
       "      <td>Slow down</td>\n",
       "      <td>Based on the provided context and reasoning pr...</td>\n",
       "      <td>True</td>\n",
       "      <td>36.538178</td>\n",
       "    </tr>\n",
       "    <tr>\n",
       "      <th>28</th>\n",
       "      <td>While driving with a maximum speed and you hav...</td>\n",
       "      <td>Apply your brake gently with steady pressure</td>\n",
       "      <td>Based on the provided context and the step-by-...</td>\n",
       "      <td>True</td>\n",
       "      <td>41.284200</td>\n",
       "    </tr>\n",
       "    <tr>\n",
       "      <th>29</th>\n",
       "      <td>When another vehicle is following you too clos...</td>\n",
       "      <td>Slow down gradually and give him the signal to...</td>\n",
       "      <td>Based on the provided context and key componen...</td>\n",
       "      <td>True</td>\n",
       "      <td>44.010404</td>\n",
       "    </tr>\n",
       "    <tr>\n",
       "      <th>30</th>\n",
       "      <td>The driver of the vehicle behind you should al...</td>\n",
       "      <td>Rear end crashes</td>\n",
       "      <td>The driver of the vehicle behind you should al...</td>\n",
       "      <td>True</td>\n",
       "      <td>39.814961</td>\n",
       "    </tr>\n",
       "    <tr>\n",
       "      <th>31</th>\n",
       "      <td>When parking uphill without a curb, turn your ...</td>\n",
       "      <td>Towards the edge of the road</td>\n",
       "      <td>When parking uphill without a curb, turn your ...</td>\n",
       "      <td>True</td>\n",
       "      <td>39.544754</td>\n",
       "    </tr>\n",
       "    <tr>\n",
       "      <th>32</th>\n",
       "      <td>When parking downhill, you must</td>\n",
       "      <td>Turn your wheels to curb</td>\n",
       "      <td>Based on the provided context and steps, the c...</td>\n",
       "      <td>True</td>\n",
       "      <td>37.168081</td>\n",
       "    </tr>\n",
       "    <tr>\n",
       "      <th>33</th>\n",
       "      <td>When parking uphill, you must</td>\n",
       "      <td>Turn your wheels aways from the curb</td>\n",
       "      <td>When parking uphill, you must turn your wheels...</td>\n",
       "      <td>True</td>\n",
       "      <td>53.394145</td>\n",
       "    </tr>\n",
       "    <tr>\n",
       "      <th>34</th>\n",
       "      <td>When you make an abrupt move especially when y...</td>\n",
       "      <td>Improper braking</td>\n",
       "      <td>Based on the provided context and analysis, th...</td>\n",
       "      <td>False</td>\n",
       "      <td>39.413445</td>\n",
       "    </tr>\n",
       "    <tr>\n",
       "      <th>35</th>\n",
       "      <td>Whenever you are driving, especially when over...</td>\n",
       "      <td>Never overtake another vehicle from a tailgat...</td>\n",
       "      <td>Based on the provided steps and analysis, the ...</td>\n",
       "      <td>True</td>\n",
       "      <td>50.767456</td>\n",
       "    </tr>\n",
       "    <tr>\n",
       "      <th>36</th>\n",
       "      <td>When driving on a highway, do not stare at the...</td>\n",
       "      <td>Extend your scanning distance to about 12 seco...</td>\n",
       "      <td>When driving on a highway, do not stare at the...</td>\n",
       "      <td>True</td>\n",
       "      <td>40.729024</td>\n",
       "    </tr>\n",
       "    <tr>\n",
       "      <th>37</th>\n",
       "      <td>When driving on a mountain roads during daytim...</td>\n",
       "      <td>Blow your horn when approaching a blind curve</td>\n",
       "      <td>Based on the analysis, the correct answer is:\\...</td>\n",
       "      <td>False</td>\n",
       "      <td>41.608774</td>\n",
       "    </tr>\n",
       "    <tr>\n",
       "      <th>38</th>\n",
       "      <td>When driving downhill on a mountain road always</td>\n",
       "      <td>Shift to lower gear so the engine braking acti...</td>\n",
       "      <td>When driving downhill on a mountain road, alwa...</td>\n",
       "      <td>True</td>\n",
       "      <td>42.167773</td>\n",
       "    </tr>\n",
       "    <tr>\n",
       "      <th>39</th>\n",
       "      <td>The headlights should be used often as needed to</td>\n",
       "      <td>Make your intentions known to drivers around you</td>\n",
       "      <td>Based on the synthesized results, the most acc...</td>\n",
       "      <td>True</td>\n",
       "      <td>42.270413</td>\n",
       "    </tr>\n",
       "    <tr>\n",
       "      <th>40</th>\n",
       "      <td>At an intersection, if two (2) vehicles arrive...</td>\n",
       "      <td>Vehicle on the right</td>\n",
       "      <td>Based on the provided context and the step-by-...</td>\n",
       "      <td>True</td>\n",
       "      <td>38.441560</td>\n",
       "    </tr>\n",
       "    <tr>\n",
       "      <th>41</th>\n",
       "      <td>When negotiating a curve on a highway at a rel...</td>\n",
       "      <td>Decrease your speed further as you enter the c...</td>\n",
       "      <td>Based on the provided context and analysis, th...</td>\n",
       "      <td>True</td>\n",
       "      <td>40.062845</td>\n",
       "    </tr>\n",
       "    <tr>\n",
       "      <th>42</th>\n",
       "      <td>When planning to overtake a slower vehicle in ...</td>\n",
       "      <td>Flick your dimmer, switch two or three times t...</td>\n",
       "      <td>Based on the synthesized results, when plannin...</td>\n",
       "      <td>True</td>\n",
       "      <td>58.898410</td>\n",
       "    </tr>\n",
       "    <tr>\n",
       "      <th>43</th>\n",
       "      <td>Driving in heavy rains can be extremely danger...</td>\n",
       "      <td>When you cannot see more than 20 meters in fro...</td>\n",
       "      <td>Based on the provided context and steps, when ...</td>\n",
       "      <td>True</td>\n",
       "      <td>56.647134</td>\n",
       "    </tr>\n",
       "    <tr>\n",
       "      <th>44</th>\n",
       "      <td>A flashing red light means</td>\n",
       "      <td>You must stop and then go only when it is safe...</td>\n",
       "      <td>A flashing red light means **an alert or warni...</td>\n",
       "      <td>True</td>\n",
       "      <td>39.478120</td>\n",
       "    </tr>\n",
       "    <tr>\n",
       "      <th>45</th>\n",
       "      <td>Your speed while driving at night should keep on</td>\n",
       "      <td>The distance that you can see where you come t...</td>\n",
       "      <td>Based on the provided context and the steps an...</td>\n",
       "      <td>True</td>\n",
       "      <td>38.231664</td>\n",
       "    </tr>\n",
       "    <tr>\n",
       "      <th>46</th>\n",
       "      <td>One that affects your visibility?</td>\n",
       "      <td>Defective or dirty headlights</td>\n",
       "      <td>Based on the step-by-step analysis provided, f...</td>\n",
       "      <td>True</td>\n",
       "      <td>35.349876</td>\n",
       "    </tr>\n",
       "    <tr>\n",
       "      <th>47</th>\n",
       "      <td>When driving at night, you should</td>\n",
       "      <td>Always turn your headlights on</td>\n",
       "      <td>Based on the provided context and reasoning pr...</td>\n",
       "      <td>False</td>\n",
       "      <td>45.007380</td>\n",
       "    </tr>\n",
       "    <tr>\n",
       "      <th>48</th>\n",
       "      <td>Being passed is normal part of driving and sho...</td>\n",
       "      <td>Slow down and make it easy to stop</td>\n",
       "      <td>Based on the synthesized results, the correct ...</td>\n",
       "      <td>True</td>\n",
       "      <td>43.778947</td>\n",
       "    </tr>\n",
       "    <tr>\n",
       "      <th>49</th>\n",
       "      <td>When oncoming vehicle deliberately crosses the...</td>\n",
       "      <td>Alert and be ready to slow down or stop if nec...</td>\n",
       "      <td>Based on the synthesized results, the correct ...</td>\n",
       "      <td>True</td>\n",
       "      <td>50.774922</td>\n",
       "    </tr>\n",
       "    <tr>\n",
       "      <th>50</th>\n",
       "      <td>When approaching a flooded area and you have t...</td>\n",
       "      <td>Proceed at a very slow speed</td>\n",
       "      <td>When approaching a flooded area and having to ...</td>\n",
       "      <td>True</td>\n",
       "      <td>48.697189</td>\n",
       "    </tr>\n",
       "    <tr>\n",
       "      <th>51</th>\n",
       "      <td>A single solid yellow or white line means</td>\n",
       "      <td>Passing/overtaking is not allowed</td>\n",
       "      <td>Based on the synthesized results, a single sol...</td>\n",
       "      <td>False</td>\n",
       "      <td>30.735800</td>\n",
       "    </tr>\n",
       "    <tr>\n",
       "      <th>52</th>\n",
       "      <td>Passing/overtaking is allowed</td>\n",
       "      <td>On highway with two or more lanes</td>\n",
       "      <td>Based on the provided context and the step-by-...</td>\n",
       "      <td>True</td>\n",
       "      <td>37.770394</td>\n",
       "    </tr>\n",
       "    <tr>\n",
       "      <th>53</th>\n",
       "      <td>A driver on a highway shall yield the right of...</td>\n",
       "      <td>Police / fire department vehicles and ambulanc...</td>\n",
       "      <td>Based on the provided context and analysis, th...</td>\n",
       "      <td>True</td>\n",
       "      <td>46.585566</td>\n",
       "    </tr>\n",
       "    <tr>\n",
       "      <th>54</th>\n",
       "      <td>A driver on a highway shall yield the right of...</td>\n",
       "      <td>Pedestrians crossing within a crosswalk</td>\n",
       "      <td>Based on the provided context and the step-by-...</td>\n",
       "      <td>True</td>\n",
       "      <td>32.546502</td>\n",
       "    </tr>\n",
       "    <tr>\n",
       "      <th>55</th>\n",
       "      <td>This traffic signs warns you that school child...</td>\n",
       "      <td>Pentagon</td>\n",
       "      <td>Based on the provided context, the correct ans...</td>\n",
       "      <td>True</td>\n",
       "      <td>50.882992</td>\n",
       "    </tr>\n",
       "    <tr>\n",
       "      <th>56</th>\n",
       "      <td>The signal warns of a hazard ahead</td>\n",
       "      <td>Diamond shape</td>\n",
       "      <td>Based on the provided context and synthesized ...</td>\n",
       "      <td>True</td>\n",
       "      <td>37.390772</td>\n",
       "    </tr>\n",
       "    <tr>\n",
       "      <th>57</th>\n",
       "      <td>This traffic sign states direction and distances</td>\n",
       "      <td>Horizontal rectangle</td>\n",
       "      <td>Based on the synthesized results, the correct ...</td>\n",
       "      <td>True</td>\n",
       "      <td>38.314054</td>\n",
       "    </tr>\n",
       "    <tr>\n",
       "      <th>58</th>\n",
       "      <td>The mark for a railway crossing</td>\n",
       "      <td>Cross-buck</td>\n",
       "      <td>Based on the provided context and the step-by-...</td>\n",
       "      <td>True</td>\n",
       "      <td>51.146000</td>\n",
       "    </tr>\n",
       "    <tr>\n",
       "      <th>59</th>\n",
       "      <td>Children must be held in approved child restra...</td>\n",
       "      <td>6 years old and below</td>\n",
       "      <td>Based on the synthesis of the provided steps a...</td>\n",
       "      <td>True</td>\n",
       "      <td>34.096365</td>\n",
       "    </tr>\n",
       "  </tbody>\n",
       "</table>\n",
       "</div>"
      ],
      "text/plain": [
       "                                             Question  \\\n",
       "0                 Traffic Jam can be prevented if you   \n",
       "1                 When making a right turn you should   \n",
       "2   When you intend to turn right or left, signal ...   \n",
       "3   At an intersection with a traffic light, make ...   \n",
       "4   Graft and corruption in the traffic enforcemen...   \n",
       "5   On a four(4) lane road with single white line,...   \n",
       "6   A double solid yellow line with broken white l...   \n",
       "7                    When making a U-Turn, you should   \n",
       "8   Signs that are triangular in shape and with a ...   \n",
       "9   Signs that are round, inverted triangle or oct...   \n",
       "10  Signs that are round, rectangular with white a...   \n",
       "11   Single with broken line on a two-lane road means   \n",
       "12  What to do when you approach a crosswalk or pe...   \n",
       "13  Driving an unregistered motor vehicle is a vio...   \n",
       "14                    Considered a parking violation?   \n",
       "15               Green light at an intersection means   \n",
       "16          Steady red light at an intersection means   \n",
       "17  The penalty of driving a motor vehicle while u...   \n",
       "18  When a driver of PUV refuses to render service...   \n",
       "19  If the driver is using a motor vehicle in comm...   \n",
       "20  The minimum distance away from the vehicle are...   \n",
       "21             When do you have a complete/full stop?   \n",
       "22  On a two-lane road, overtaking is only allowed...   \n",
       "23  Parking is considered as a violation when a mo...   \n",
       "24                              Parking is prohibited   \n",
       "25  When the traffic light is steady green and ste...   \n",
       "26  What is the maximum penalty for driving under ...   \n",
       "27                            On a wet road, you must   \n",
       "28  While driving with a maximum speed and you hav...   \n",
       "29  When another vehicle is following you too clos...   \n",
       "30  The driver of the vehicle behind you should al...   \n",
       "31  When parking uphill without a curb, turn your ...   \n",
       "32                    When parking downhill, you must   \n",
       "33                      When parking uphill, you must   \n",
       "34  When you make an abrupt move especially when y...   \n",
       "35  Whenever you are driving, especially when over...   \n",
       "36  When driving on a highway, do not stare at the...   \n",
       "37  When driving on a mountain roads during daytim...   \n",
       "38    When driving downhill on a mountain road always   \n",
       "39   The headlights should be used often as needed to   \n",
       "40  At an intersection, if two (2) vehicles arrive...   \n",
       "41  When negotiating a curve on a highway at a rel...   \n",
       "42  When planning to overtake a slower vehicle in ...   \n",
       "43  Driving in heavy rains can be extremely danger...   \n",
       "44                         A flashing red light means   \n",
       "45   Your speed while driving at night should keep on   \n",
       "46                  One that affects your visibility?   \n",
       "47                  When driving at night, you should   \n",
       "48  Being passed is normal part of driving and sho...   \n",
       "49  When oncoming vehicle deliberately crosses the...   \n",
       "50  When approaching a flooded area and you have t...   \n",
       "51          A single solid yellow or white line means   \n",
       "52                      Passing/overtaking is allowed   \n",
       "53  A driver on a highway shall yield the right of...   \n",
       "54  A driver on a highway shall yield the right of...   \n",
       "55  This traffic signs warns you that school child...   \n",
       "56                 The signal warns of a hazard ahead   \n",
       "57   This traffic sign states direction and distances   \n",
       "58                    The mark for a railway crossing   \n",
       "59  Children must be held in approved child restra...   \n",
       "\n",
       "                                               Answer  \\\n",
       "0                            Keep opposing lanes open   \n",
       "1   Stay on the outermost lane of the road then si...   \n",
       "2       25 meters before you intend to make your turn   \n",
       "3   The green light is on and there is a left turn...   \n",
       "4   Self disciplined by drivers and obeying traffi...   \n",
       "5       Overtake by passing over the solid white line   \n",
       "6                            Absolutely no overtaking   \n",
       "7   Check for traffic behind you and indicate your...   \n",
       "8                            Caution or warning signs   \n",
       "9                                    Regulatory signs   \n",
       "10                                  Informative signs   \n",
       "11  It separates traffic moving in opposite direct...   \n",
       "12                       Stop and yield to pedestrian   \n",
       "13                                    Fine of P10,000   \n",
       "14  Parking within five(5) meters from a signalize...   \n",
       "15  Pedestrian are not allowed to cross the pedest...   \n",
       "16                        Stop at the designated line   \n",
       "17  Driver's license shall be confiscated and susp...   \n",
       "18                                     Fine of P1,000   \n",
       "19                        Revoked and will pay a fine   \n",
       "20                                       1 car length   \n",
       "21                             At a red traffic light   \n",
       "22                                          Left lane   \n",
       "23  Park at the entrance and exit of hospital and ...   \n",
       "24                             Within an intersection   \n",
       "25  Vehicles can go straight or vehicles on the ri...   \n",
       "26                              Revocation of license   \n",
       "27                                          Slow down   \n",
       "28       Apply your brake gently with steady pressure   \n",
       "29  Slow down gradually and give him the signal to...   \n",
       "30                                   Rear end crashes   \n",
       "31                       Towards the edge of the road   \n",
       "32                           Turn your wheels to curb   \n",
       "33               Turn your wheels aways from the curb   \n",
       "34                                   Improper braking   \n",
       "35   Never overtake another vehicle from a tailgat...   \n",
       "36  Extend your scanning distance to about 12 seco...   \n",
       "37      Blow your horn when approaching a blind curve   \n",
       "38  Shift to lower gear so the engine braking acti...   \n",
       "39   Make your intentions known to drivers around you   \n",
       "40                               Vehicle on the right   \n",
       "41  Decrease your speed further as you enter the c...   \n",
       "42  Flick your dimmer, switch two or three times t...   \n",
       "43  When you cannot see more than 20 meters in fro...   \n",
       "44  You must stop and then go only when it is safe...   \n",
       "45  The distance that you can see where you come t...   \n",
       "46                      Defective or dirty headlights   \n",
       "47                     Always turn your headlights on   \n",
       "48                 Slow down and make it easy to stop   \n",
       "49  Alert and be ready to slow down or stop if nec...   \n",
       "50                       Proceed at a very slow speed   \n",
       "51                  Passing/overtaking is not allowed   \n",
       "52                  On highway with two or more lanes   \n",
       "53  Police / fire department vehicles and ambulanc...   \n",
       "54            Pedestrians crossing within a crosswalk   \n",
       "55                                           Pentagon   \n",
       "56                                      Diamond shape   \n",
       "57                               Horizontal rectangle   \n",
       "58                                         Cross-buck   \n",
       "59                              6 years old and below   \n",
       "\n",
       "                                                   AI   Eval  Inference_Time  \n",
       "0   Based on the synthesized results, the best pos...   True       56.972070  \n",
       "1   Based on the provided context, when making a r...   True       53.918721  \n",
       "2   When you intend to turn right or left, signal ...   True       33.576814  \n",
       "3   Based on the synthesized results, the correct ...   True       46.873964  \n",
       "4   Based on the provided breakdown and expanded e...   True       47.836722  \n",
       "5   Based on the provided analysis and general kno...   True       71.307832  \n",
       "6   Based on the synthesized results, a double sol...   True       46.118041  \n",
       "7   When making a U-Turn, you should **signal your...   True       38.615253  \n",
       "8   Based on the provided context and the step-by-...   True       42.734952  \n",
       "9   Based on the provided context and the step-by-...   True       33.604557  \n",
       "10  Based on the provided context and the step-by-...   True       36.914772  \n",
       "11  Based on the analysis and synthesis of the res...  False       38.039268  \n",
       "12  When approaching a crosswalk or pedestrian lan...   True       61.232680  \n",
       "13  Based on the provided context and the step-by-...  False       32.801242  \n",
       "14  Based on the provided context and the step-by-...   True       33.985331  \n",
       "15  Based on the provided context, the correct ans...   True       34.928171  \n",
       "16  Based on the step-by-step analysis provided:\\n...   True       38.997438  \n",
       "17  Based on the provided information, the penalty...   True       47.716995  \n",
       "18  Based on the provided context and the step-by-...   True       52.771044  \n",
       "19  Based on the provided context and reasoning pr...   True       32.364419  \n",
       "20  Based on the provided context and synthesis of...   True       45.458385  \n",
       "21  Based on the synthesized results, a full stop ...  False       42.805736  \n",
       "22  Based on the analysis, I can conclude that:\\n\\...   True       37.889412  \n",
       "23  Based on the synthesized results, I can now pr...   True       47.345100  \n",
       "24  Based on the provided context, I will synthesi...   True       34.809927  \n",
       "25  Based on the analysis, when the traffic light ...   True       37.059657  \n",
       "26  The maximum penalty for driving under the infl...  False       39.919156  \n",
       "27  Based on the provided context and reasoning pr...   True       36.538178  \n",
       "28  Based on the provided context and the step-by-...   True       41.284200  \n",
       "29  Based on the provided context and key componen...   True       44.010404  \n",
       "30  The driver of the vehicle behind you should al...   True       39.814961  \n",
       "31  When parking uphill without a curb, turn your ...   True       39.544754  \n",
       "32  Based on the provided context and steps, the c...   True       37.168081  \n",
       "33  When parking uphill, you must turn your wheels...   True       53.394145  \n",
       "34  Based on the provided context and analysis, th...  False       39.413445  \n",
       "35  Based on the provided steps and analysis, the ...   True       50.767456  \n",
       "36  When driving on a highway, do not stare at the...   True       40.729024  \n",
       "37  Based on the analysis, the correct answer is:\\...  False       41.608774  \n",
       "38  When driving downhill on a mountain road, alwa...   True       42.167773  \n",
       "39  Based on the synthesized results, the most acc...   True       42.270413  \n",
       "40  Based on the provided context and the step-by-...   True       38.441560  \n",
       "41  Based on the provided context and analysis, th...   True       40.062845  \n",
       "42  Based on the synthesized results, when plannin...   True       58.898410  \n",
       "43  Based on the provided context and steps, when ...   True       56.647134  \n",
       "44  A flashing red light means **an alert or warni...   True       39.478120  \n",
       "45  Based on the provided context and the steps an...   True       38.231664  \n",
       "46  Based on the step-by-step analysis provided, f...   True       35.349876  \n",
       "47  Based on the provided context and reasoning pr...  False       45.007380  \n",
       "48  Based on the synthesized results, the correct ...   True       43.778947  \n",
       "49  Based on the synthesized results, the correct ...   True       50.774922  \n",
       "50  When approaching a flooded area and having to ...   True       48.697189  \n",
       "51  Based on the synthesized results, a single sol...  False       30.735800  \n",
       "52  Based on the provided context and the step-by-...   True       37.770394  \n",
       "53  Based on the provided context and analysis, th...   True       46.585566  \n",
       "54  Based on the provided context and the step-by-...   True       32.546502  \n",
       "55  Based on the provided context, the correct ans...   True       50.882992  \n",
       "56  Based on the provided context and synthesized ...   True       37.390772  \n",
       "57  Based on the synthesized results, the correct ...   True       38.314054  \n",
       "58  Based on the provided context and the step-by-...   True       51.146000  \n",
       "59  Based on the synthesis of the provided steps a...   True       34.096365  "
      ]
     },
     "metadata": {},
     "output_type": "display_data"
    }
   ],
   "source": [
    "from llama_index.core.evaluation import RelevancyEvaluator\n",
    "from llama_index.llms.ollama import Ollama\n",
    "\n",
    "ollama_llm = Ollama(model=\"llama3.1:8b\", request_timeout=300)\n",
    "evaluator = RelevancyEvaluator(llm=ollama_llm)\n",
    "\n",
    "eval_results = []\n",
    "\n",
    "for i in tqdm(range(len(df))):\n",
    "    eval_result = await evaluator.aevaluate(\n",
    "        query=df.loc[i, \"Question\"],\n",
    "        response=df.loc[i, \"AI\"],\n",
    "        contexts=[df.loc[i, \"Context\"]]  \n",
    "    )\n",
    "    eval_results.append(eval_result.passing)\n",
    "\n",
    "df['Eval'] = eval_results\n",
    "\n",
    "total_items = len(df)\n",
    "passing_items = df['Eval'].sum()\n",
    "score = f\"Score: {passing_items}/{total_items}\"\n",
    "percentage = passing_items / total_items if total_items > 0 else 0\n",
    "print(score)\n",
    "print(f\"Percentage: {percentage:.2%}\")\n",
    "display(df[['Question', 'Answer', 'AI', 'Eval', 'Inference_Time']])"
   ]
  }
 ],
 "metadata": {
  "kernelspec": {
   "display_name": "LTO_RAG",
   "language": "python",
   "name": "python3"
  },
  "language_info": {
   "codemirror_mode": {
    "name": "ipython",
    "version": 3
   },
   "file_extension": ".py",
   "mimetype": "text/x-python",
   "name": "python",
   "nbconvert_exporter": "python",
   "pygments_lexer": "ipython3",
   "version": "3.10.12"
  }
 },
 "nbformat": 4,
 "nbformat_minor": 5
}
