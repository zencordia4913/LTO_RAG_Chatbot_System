{
 "cells": [
  {
   "cell_type": "markdown",
   "id": "7427a506",
   "metadata": {},
   "source": [
    "# LTO RAG Table of Contents\n",
    "\n",
    "1. Import Libraries\n",
    "2. Connect to Ollama Server\n",
    "3. Ingestion\n",
    "4. QA Generation\n",
    "5. Embedding and Retrieval<br>\n",
    " **5.A** Dense via FAISS  \n",
    " **5.B** FAISS Retrieval Evaluator  \n",
    " **5.C** FAISS Retrieval Evaluation  \n",
    " **5.D** Sparse Embedding via BM25  \n",
    " **5.E** Hybrid Embedding via Reciprocal Rank Fusion  \n",
    " **5.F** Hybrid Retrieval Evaluator  \n",
    " **5.G** Hybrid Retrieval Evaluation  \n",
    "6. Post Retrieval<br>\n",
    " **6.A** Summarization  \n",
    " **6.B** Evaluation Generation  \n",
    "7. Querying<br>\n",
    " **7.A** Query Transforms  \n",
    "8. Query Generation\n",
    "9. TDC Exam Evaluation\n",
    "10. Similarity Evaluation\n",
    "11. Relevancy Evaluation\n"
   ]
  },
  {
   "cell_type": "markdown",
   "id": "b4cc535f",
   "metadata": {},
   "source": [
    "# 1. Import Libraries"
   ]
  },
  {
   "cell_type": "code",
   "execution_count": 1,
   "id": "dfdd288c-537b-42e6-b104-2854e99b4a1c",
   "metadata": {},
   "outputs": [],
   "source": [
    "import os\n",
    "import fitz\n",
    "import re\n",
    "\n",
    "from ollama import Client\n",
    "import faiss\n",
    "import pandas as pd\n",
    "import numpy as np\n",
    "import Stemmer\n",
    "from tqdm import tqdm\n",
    "import gradio as gr\n",
    "import json\n",
    "\n",
    "from llama_index.core import Document\n",
    "from llama_index.core.node_parser import TokenTextSplitter\n",
    "from llama_index.core.retrievers import BaseRetriever, QueryFusionRetriever\n",
    "from llama_index.core.schema import TextNode, NodeWithScore\n",
    "from llama_index.retrievers.bm25 import BM25Retriever\n",
    "from llama_index.llms.ollama import Ollama\n",
    "\n",
    "\n",
    "# For QA generation\n",
    "import uuid\n",
    "import warnings\n",
    "from typing import Dict, List, Optional, Tuple\n",
    "\n",
    "from llama_index.core.bridge.pydantic import BaseModel\n",
    "from llama_index.core.llms.utils import LLM\n",
    "from llama_index.core.schema import MetadataMode, TextNode\n",
    "from llama_index.core.settings import Settings\n"
   ]
  },
  {
   "cell_type": "markdown",
   "id": "2f3d9123-5c2e-4718-8edd-d0bfafed09e8",
   "metadata": {},
   "source": [
    "# 2. Connect to Ollama Server"
   ]
  },
  {
   "cell_type": "code",
   "execution_count": 2,
   "id": "8071a997-f081-4da8-b440-6d66bf4cb4a7",
   "metadata": {},
   "outputs": [],
   "source": [
    "client = Client(\n",
    "  host='http://localhost:11434',\n",
    ")"
   ]
  },
  {
   "cell_type": "markdown",
   "id": "52836262-9e16-4df3-b71f-70b78b2b2700",
   "metadata": {},
   "source": [
    "# 3. Ingestion"
   ]
  },
  {
   "cell_type": "code",
   "execution_count": 3,
   "id": "4d170a76-1ddf-47b4-b98d-db30470f9d83",
   "metadata": {},
   "outputs": [],
   "source": [
    "# Path to the dataset folder\n",
    "DATASET_PATH = r'/home/jeryl4913/lto_rag_reviewer/notebooks/extracted_text.json'\n",
    "\n",
    "def get_text_and_metadata(input_path):\n",
    "    \"\"\"Load text and metadata from a file and perform chunking.\"\"\"\n",
    "    with open(input_path, \"r\", encoding=\"utf-8\") as f:\n",
    "        extracted_data = json.load(f)\n",
    "\n",
    "    texts = []\n",
    "    metadata = []\n",
    "\n",
    "    for entry in tqdm(extracted_data, desc=\"Processing entries\"):\n",
    "        text = entry[\"text\"]\n",
    "        source_metadata = {\n",
    "            \"source\": entry[\"source\"],\n",
    "            \"folder\": entry[\"folder\"],\n",
    "            \"file_name\": entry[\"file_name\"],\n",
    "            \"page\": entry[\"page\"],\n",
    "            \"title\": entry[\"title\"],\n",
    "            \"url\": entry[\"url\"]\n",
    "        }\n",
    "        texts.append(text)\n",
    "        metadata.append(source_metadata)\n",
    "\n",
    "    return texts, metadata\n"
   ]
  },
  {
   "cell_type": "code",
   "execution_count": 4,
   "id": "3d7bfd8a-c6a2-4764-9212-17c667cd89be",
   "metadata": {},
   "outputs": [
    {
     "name": "stderr",
     "output_type": "stream",
     "text": [
      "Processing entries: 100%|██████████| 7815/7815 [00:00<00:00, 993106.88it/s]"
     ]
    },
    {
     "name": "stderr",
     "output_type": "stream",
     "text": [
      "\n"
     ]
    }
   ],
   "source": [
    "docs, metadatas = get_text_and_metadata(DATASET_PATH)"
   ]
  },
  {
   "cell_type": "code",
   "execution_count": 5,
   "id": "b8204706-6e7e-4f7e-956b-4e545708392e",
   "metadata": {},
   "outputs": [],
   "source": [
    "documents = [Document(text=docs[t], metadata=metadatas[t]) for t in range(len(docs))]\n",
    "splitter = TokenTextSplitter(\n",
    "    chunk_size=512,\n",
    "    chunk_overlap=20,\n",
    "    separator=\" \",\n",
    ")\n",
    "nodes = splitter.get_nodes_from_documents(documents)"
   ]
  },
  {
   "cell_type": "code",
   "execution_count": 6,
   "id": "10ae2649",
   "metadata": {},
   "outputs": [
    {
     "name": "stdout",
     "output_type": "stream",
     "text": [
      "Node ID: 56b06131-42f0-4483-94b9-1cc0d46d62e9\n",
      "Text: Land Transportation Office (LTO) The concept of land\n",
      "transportation system in the Philippines started when our ancestors\n",
      "invented the means of locomotion with the animals in moving people and\n",
      "goods from place to place. Although the means of land transportation\n",
      "during the early days were not as sophisticated as the modern vehicles\n",
      "of today and th...\n"
     ]
    }
   ],
   "source": [
    "print(nodes[0])"
   ]
  },
  {
   "cell_type": "markdown",
   "id": "c50b59dc",
   "metadata": {},
   "source": [
    "# 4. QA Generation\n",
    "Used for Retreival Evaluation:\n",
    "1. Get all document nodes\n",
    "2. Generate question for each node (using llama 3.2)\n",
    "3. Question Answer pairs: Generated Question, Node text"
   ]
  },
  {
   "cell_type": "code",
   "execution_count": 7,
   "id": "2582e35d",
   "metadata": {},
   "outputs": [],
   "source": [
    "\"\"\"Common utils for embeddings.\"\"\"\n",
    "\n",
    "import json\n",
    "import re\n",
    "import uuid\n",
    "import warnings\n",
    "from typing import Dict, List, Optional, Tuple\n",
    "\n",
    "from llama_index.core.bridge.pydantic import BaseModel\n",
    "from llama_index.core.llms.utils import LLM\n",
    "from llama_index.core.schema import MetadataMode, TextNode\n",
    "from llama_index.core.settings import Settings\n",
    "from tqdm import tqdm\n",
    "\n",
    "\n",
    "class EmbeddingQAFinetuneDataset(BaseModel):\n",
    "    \"\"\"Embedding QA Finetuning Dataset.\n",
    "\n",
    "    Args:\n",
    "        queries (Dict[str, str]): Dict id -> query.\n",
    "        corpus (Dict[str, str]): Dict id -> string.\n",
    "        relevant_docs (Dict[str, List[str]]): Dict query id -> list of doc ids.\n",
    "\n",
    "    \"\"\"\n",
    "\n",
    "    queries: Dict[str, str]  # dict id -> query\n",
    "    corpus: Dict[str, str]  # dict id -> string\n",
    "    relevant_docs: Dict[str, List[str]]  # query id -> list of doc ids\n",
    "    mode: str = \"text\"\n",
    "\n",
    "    @property\n",
    "    def query_docid_pairs(self) -> List[Tuple[str, List[str]]]:\n",
    "        \"\"\"Get query, relevant doc ids.\"\"\"\n",
    "        return [\n",
    "            (query, self.relevant_docs[query_id])\n",
    "            for query_id, query in self.queries.items()\n",
    "        ]\n",
    "\n",
    "    def save_json(self, path: str) -> None:\n",
    "        \"\"\"Save json.\"\"\"\n",
    "        with open(path, \"w\") as f:\n",
    "            json.dump(self.model_dump(), f, indent=4)\n",
    "\n",
    "    @classmethod\n",
    "    def from_json(cls, path: str) -> \"EmbeddingQAFinetuneDataset\":\n",
    "        \"\"\"Load json.\"\"\"\n",
    "        with open(path) as f:\n",
    "            data = json.load(f)\n",
    "        return cls(**data)\n",
    "\n",
    "\n",
    "DEFAULT_QA_GENERATE_PROMPT_TMPL = \"\"\"\n",
    "Context information is below.\n",
    "\n",
    "---------------------\n",
    "{context_str}\n",
    "---------------------\n",
    "\n",
    "Based on the above context, generate {num_questions_per_chunk} diverse and specific questions that focus on key details and concepts. \\\n",
    "Do not include prefatory phrases like 'Here are some questions'. Directly list the questions in numerical order.\n",
    "\"\"\"\n",
    "\n",
    "\n",
    "# generate queries as a convenience function\n",
    "def generate_qa_embedding_pairs(\n",
    "    nodes: List[TextNode],\n",
    "    llm: Optional[LLM] = None,\n",
    "    qa_generate_prompt_tmpl: str = DEFAULT_QA_GENERATE_PROMPT_TMPL,\n",
    "    num_questions_per_chunk: int = 2,\n",
    ") -> EmbeddingQAFinetuneDataset:\n",
    "    \"\"\"Generate examples given a set of nodes.\"\"\"\n",
    "    llm = llm or Settings.llm\n",
    "    node_dict = {\n",
    "        node.node_id: node.get_content(metadata_mode=MetadataMode.NONE)\n",
    "        for node in nodes\n",
    "    }\n",
    "\n",
    "    queries = {}\n",
    "    relevant_docs = {}\n",
    "    for node_id, text in tqdm(node_dict.items()):\n",
    "        query = qa_generate_prompt_tmpl.format(\n",
    "            context_str=text, num_questions_per_chunk=num_questions_per_chunk\n",
    "        )\n",
    "        response = llm.complete(query)\n",
    "\n",
    "        result = str(response).strip().split(\"\\n\")\n",
    "        questions = [\n",
    "            re.sub(r\"^\\d+[\\).\\s]\", \"\", question).strip() for question in result\n",
    "        ]\n",
    "        questions = [\n",
    "            question\n",
    "            for question in questions\n",
    "            if len(question) > 0 and question.endswith(\"?\") and \"question\" not in question.lower()\n",
    "        ][:num_questions_per_chunk]\n",
    "\n",
    "        num_questions_generated = len(questions)\n",
    "        if num_questions_generated < num_questions_per_chunk:\n",
    "            warnings.warn(\n",
    "                f\"Fewer questions generated ({num_questions_generated}) \"\n",
    "                f\"than requested ({num_questions_per_chunk}) for node {node_id}.\"\n",
    "            )\n",
    "\n",
    "        for question in questions:\n",
    "            question_id = str(uuid.uuid4())\n",
    "            queries[question_id] = question\n",
    "            relevant_docs[question_id] = [node_id]\n",
    "\n",
    "    # construct dataset\n",
    "    return EmbeddingQAFinetuneDataset(\n",
    "        queries=queries, corpus=node_dict, relevant_docs=relevant_docs\n",
    "    )\n"
   ]
  },
  {
   "cell_type": "code",
   "execution_count": 8,
   "id": "96df07be",
   "metadata": {},
   "outputs": [],
   "source": [
    "import os\n",
    "\n",
    "access_token = os.popen(\"echo $OPENAI_API_KEY\").read().strip()\n",
    "\n",
    "\n",
    "if access_token is None:\n",
    "    raise ValueError(\"OpenAI API key not found in environment.\")\n",
    "\n",
    "#print(access_token)\n"
   ]
  },
  {
   "cell_type": "code",
   "execution_count": 9,
   "id": "2dfa775a",
   "metadata": {},
   "outputs": [
    {
     "name": "stderr",
     "output_type": "stream",
     "text": [
      "100%|██████████| 60/60 [16:55<00:00, 16.93s/it]"
     ]
    },
    {
     "name": "stdout",
     "output_type": "stream",
     "text": [
      "What specific event or action led to the reorganization of the Land Transportation Commission in 1979, resulting in its renaming to the Bureau of Land Transportation?\n",
      "Successfully created QA dataset\n"
     ]
    },
    {
     "name": "stderr",
     "output_type": "stream",
     "text": [
      "\n"
     ]
    }
   ],
   "source": [
    "from llama_index.core.evaluation import EmbeddingQAFinetuneDataset\n",
    "from llama_index.llms.ollama import Ollama\n",
    "from llama_index.llms.openai import OpenAI\n",
    "\n",
    "# Instantiate LLM\n",
    "ollama_llm = Ollama(model=\"llama3.3\", request_timeout=300)\n",
    "\n",
    "# llm = OpenAI(model=\"gpt-4\", access_token=access_token)\n",
    "\n",
    "\n",
    "# Example usage of the generate_qa_embedding_pairs\n",
    "qa_dataset = generate_qa_embedding_pairs(\n",
    "    nodes[:60], llm=ollama_llm, num_questions_per_chunk=1\n",
    ")\n",
    "\n",
    "queries = qa_dataset.queries.values()\n",
    "print(list(queries)[2])\n",
    "\n",
    "# Save the dataset\n",
    "qa_dataset.save_json(\"pg_eval_dataset_FinalBase.json\")\n",
    "print(\"Successfully created QA dataset\")\n"
   ]
  },
  {
   "cell_type": "code",
   "execution_count": 10,
   "id": "baa98829",
   "metadata": {},
   "outputs": [
    {
     "name": "stdout",
     "output_type": "stream",
     "text": [
      "Successfully loaded QA dataset\n"
     ]
    }
   ],
   "source": [
    "# Load\n",
    "qa_dataset = EmbeddingQAFinetuneDataset.from_json(\"pg_eval_dataset_FinalBase.json\")\n",
    "print(\"Successfully loaded QA dataset\")"
   ]
  },
  {
   "cell_type": "markdown",
   "id": "f4fa1758-fbf6-48af-85bc-f7a0b17f85aa",
   "metadata": {},
   "source": [
    "# 5. Embedding and Retrieval"
   ]
  },
  {
   "cell_type": "markdown",
   "id": "40e51b7d-edf5-457d-aac2-432dcfd56eb2",
   "metadata": {},
   "source": [
    "## 5.A. Dense via FAISS"
   ]
  },
  {
   "cell_type": "code",
   "execution_count": 11,
   "id": "cc4cbd59-450d-449d-a269-e34941782d19",
   "metadata": {},
   "outputs": [],
   "source": [
    "def generate_embeddings(nodes, client, model):\n",
    "    # Generate embeddings for documents using Ollama\n",
    "    for doc in tqdm(nodes):\n",
    "        response = client.embeddings(prompt=doc.text, model=model)\n",
    "        doc.embedding = response[\"embedding\"]\n",
    "    return nodes"
   ]
  },
  {
   "cell_type": "code",
   "execution_count": 12,
   "id": "f1f0ad81-9986-4369-b4eb-32160fcef31a",
   "metadata": {},
   "outputs": [],
   "source": [
    "class FaissIndexer:\n",
    "    \"\"\"\n",
    "    Faiss-based indexer for efficient similarity search using inner-product (cosine) similarity.\n",
    "\n",
    "    This class handles the creation and management of a FAISS index from node embeddings.\n",
    "    \n",
    "    :ivar faiss_index: The FAISS index for storing and querying embeddings.\n",
    "    :vartype faiss_index: faiss.IndexFlatIP\n",
    "    :ivar embedding_dim: Dimensionality of the embeddings.\n",
    "    :vartype embedding_dim: int\n",
    "    \"\"\"\n",
    "\n",
    "    def __init__(self):\n",
    "        \"\"\"\n",
    "        Initialize the FaissIndexer class.\n",
    "\n",
    "        :ivar faiss_index: The FAISS index, initialized as None.\n",
    "        :ivar embedding_dim: The dimension of embeddings, initialized as None.\n",
    "        \"\"\"\n",
    "        self.faiss_index = None\n",
    "        self.embedding_dim = None\n",
    "\n",
    "    def normalize_embeddings(self, embeddings):\n",
    "        \"\"\"\n",
    "        Normalize embeddings to have unit L2 norm.\n",
    "\n",
    "        :param embeddings: Array of embeddings to normalize.\n",
    "        :type embeddings: np.ndarray\n",
    "        :return: Normalized embeddings.\n",
    "        :rtype: np.ndarray\n",
    "        \"\"\"\n",
    "        return embeddings / np.linalg.norm(embeddings, axis=1, keepdims=True)\n",
    "\n",
    "    def build_index(self, nodes):\n",
    "        \"\"\"\n",
    "        Build the FAISS index from a list of nodes containing embeddings.\n",
    "\n",
    "        :param nodes: List of nodes, where each node contains an `embedding` attribute.\n",
    "        :type nodes: list\n",
    "        :raises ValueError: If the nodes list is empty or embeddings are inconsistent.\n",
    "        \"\"\"\n",
    "        if not nodes:\n",
    "            raise ValueError(\"Nodes list cannot be empty.\")\n",
    "        \n",
    "        embeddings = np.array([np.array(node.embedding) for node in nodes])\n",
    "        normalized_embeddings = self.normalize_embeddings(embeddings)\n",
    "\n",
    "        self.embedding_dim = normalized_embeddings[0].shape[0]\n",
    "        self.faiss_index = faiss.IndexFlatIP(self.embedding_dim)  # Inner-product similarity\n",
    "        self.faiss_index.add(normalized_embeddings)\n",
    "\n",
    "    def get_index(self):\n",
    "        \"\"\"\n",
    "        Get the FAISS index instance.\n",
    "\n",
    "        :return: The FAISS index used for similarity search.\n",
    "        :rtype: faiss.IndexFlatIP\n",
    "        :raises ValueError: If the index has not been built.\n",
    "        \"\"\"\n",
    "        if self.faiss_index is None:\n",
    "            raise ValueError(\"Index has not been built yet. Call 'build_index' first.\")\n",
    "        return self.faiss_index"
   ]
  },
  {
   "cell_type": "code",
   "execution_count": 13,
   "id": "bae97065-1900-498c-acac-aebea6c32745",
   "metadata": {},
   "outputs": [],
   "source": [
    "class FAISSVectorStoreRetriever(BaseRetriever):\n",
    "    def __init__(self, faiss_index, documents):\n",
    "        \"\"\"\n",
    "        Initialize the FAISS retriever.\n",
    "        :param faiss_index: The FAISS index containing precomputed embeddings.\n",
    "        :param documents: List of document chunks.\n",
    "        :param embeddings: Precomputed embeddings corresponding to the document chunks.\n",
    "        \"\"\"\n",
    "        self.faiss_index = faiss_index\n",
    "        self.documents = documents\n",
    "\n",
    "    def _retrieve(self, query_embedding, top_k=5):\n",
    "        \"\"\"\n",
    "        Retrieve the top-k nearest neighbors using the FAISS index.\n",
    "        :param query_embedding: The embedding of the query.\n",
    "        :param top_k: Number of top results to retrieve.\n",
    "        \"\"\"\n",
    "\n",
    "        norm_query_embedding = np.array([query_embedding])\n",
    "        norm_query_embedding /= np.linalg.norm(norm_query_embedding, axis=1, keepdims=True)\n",
    "\n",
    "        distances, indices = self.faiss_index.search(norm_query_embedding, top_k)\n",
    "        retrieved_docs = [\n",
    "            NodeWithScore(node=self.documents[idx], score=1 - dist)\n",
    "            for idx, dist in zip(indices[0], distances[0])\n",
    "            if idx != -1\n",
    "        ]\n",
    "        return retrieved_docs"
   ]
  },
  {
   "cell_type": "markdown",
   "id": "1c58acdb",
   "metadata": {},
   "source": [
    "## 5.B. FAISS Retreival Evaluator"
   ]
  },
  {
   "cell_type": "code",
   "execution_count": 14,
   "id": "8e5fc140",
   "metadata": {},
   "outputs": [],
   "source": [
    "from typing import List, Tuple, Any\n",
    "from pydantic import Field, ConfigDict\n",
    "from llama_index.core.evaluation.retrieval.base import (\n",
    "    BaseRetrievalEvaluator,\n",
    "    RetrievalEvalMode,\n",
    "    RetrievalEvalResult\n",
    ")\n",
    "from llama_index.core.evaluation.retrieval.metrics import resolve_metrics\n",
    "from llama_index.core.response.notebook_utils import display_source_node\n",
    "\n",
    "class FAISSRetrievalEvaluator(BaseRetrievalEvaluator):\n",
    "    retriever: \"FAISSVectorStoreRetriever\" = Field(..., description=\"FAISS Retriever instance\")\n",
    "    Print_Results: bool = Field(default=False, description=\"Whether to print retrieved results\")\n",
    "\n",
    "    model_config = ConfigDict(extra=\"forbid\")  \n",
    "\n",
    "    @classmethod\n",
    "    def from_metric_names(\n",
    "        cls,\n",
    "        metric_names: List[str],\n",
    "        retriever: \"FAISSVectorStoreRetriever\",\n",
    "        Print_Results: bool = False,\n",
    "        **kwargs: Any,\n",
    "    ) -> \"FAISSRetrievalEvaluator\":\n",
    "        metric_types = resolve_metrics(metric_names)\n",
    "        metrics = [metric() for metric in metric_types]\n",
    "        return cls(metrics=metrics, retriever=retriever, Print_Results=Print_Results, **kwargs)\n",
    "\n",
    "    async def _aget_retrieved_ids_and_texts(\n",
    "        self,\n",
    "        query: str,\n",
    "        mode: RetrievalEvalMode = RetrievalEvalMode.TEXT,\n",
    "    ) -> Tuple[List[str], List[str]]:\n",
    "        response = client.embeddings(prompt=query, model=\"mxbai-embed-large\")\n",
    "        query_embedding = response[\"embedding\"]\n",
    "        retrieved_docs = self.retriever._retrieve(query_embedding, top_k=15)\n",
    "        \n",
    "        # Conditionally print results\n",
    "        if self.Print_Results:\n",
    "            for doc in retrieved_docs:\n",
    "                display_source_node(doc, source_length=1000)  # Directly use doc\n",
    "        \n",
    "        retrieved_ids = [doc.id_ for doc in retrieved_docs]  # doc, not doc.node\n",
    "        retrieved_texts = [doc.text for doc in retrieved_docs]\n",
    "        return retrieved_ids, retrieved_texts\n",
    "\n",
    "    async def aevaluate(\n",
    "        self,\n",
    "        query: str,\n",
    "        expected_ids: List[str],\n",
    "        expected_texts: List[str] = [],\n",
    "        mode: RetrievalEvalMode = RetrievalEvalMode.TEXT,\n",
    "        **kwargs: Any,\n",
    "    ) -> RetrievalEvalResult:\n",
    "        retrieved_ids, retrieved_texts = await self._aget_retrieved_ids_and_texts(query, mode)\n",
    "        metric_dict = {}\n",
    "        \n",
    "        for metric in self.metrics:\n",
    "            # Call compute instead of evaluate\n",
    "            result = metric.compute(\n",
    "                query=query,\n",
    "                expected_ids=expected_ids,\n",
    "                retrieved_ids=retrieved_ids,\n",
    "                expected_texts=expected_texts,\n",
    "                retrieved_texts=retrieved_texts,\n",
    "                **kwargs\n",
    "            )\n",
    "            metric_dict[metric.metric_name] = result  # Store the whole RetrievalMetricResult object\n",
    "            print(f\"{metric.metric_name}: {result.score}\")  # Print each metric result\n",
    "         \n",
    "        # Return RetrievalEvalResult with all required fields\n",
    "        return RetrievalEvalResult(\n",
    "            query=query,\n",
    "            retrieved_ids=retrieved_ids,\n",
    "            retrieved_texts=retrieved_texts,  # Include retrieved texts\n",
    "            expected_ids=expected_ids,         # Pass expected ids\n",
    "            expected_texts=expected_texts,      # Include expected texts\n",
    "            metric_dict=metric_dict            # Pass full RetrievalMetricResult objects\n",
    "        )\n"
   ]
  },
  {
   "cell_type": "code",
   "execution_count": 15,
   "id": "1c4c3c11",
   "metadata": {},
   "outputs": [
    {
     "name": "stderr",
     "output_type": "stream",
     "text": [
      "100%|██████████| 12302/12302 [10:23<00:00, 19.73it/s]\n"
     ]
    }
   ],
   "source": [
    "nodes_embed = generate_embeddings(nodes,  client, \"mxbai-embed-large\")"
   ]
  },
  {
   "cell_type": "markdown",
   "id": "efa5b055",
   "metadata": {},
   "source": [
    "## 5.C. FAISS Retreival Evaluation"
   ]
  },
  {
   "cell_type": "code",
   "execution_count": 16,
   "id": "7a5e7635",
   "metadata": {},
   "outputs": [
    {
     "name": "stdout",
     "output_type": "stream",
     "text": [
      "Sample Problem:\n",
      "sample id: 6a9ec60c-a926-4d8a-aa4e-53230252f108, text: What significant event occurred on June 20, 1964, that led to the abolition of the Motor Vehicle Office and the creation of a new regulatory body for land transportation in the Philippines?\n",
      "sample exp: ['f26592d6-6c5d-4db0-ab65-48c70dfe7fd0']\n",
      "\n",
      "Retrieval results:\n"
     ]
    },
    {
     "data": {
      "text/markdown": [
       "**Node ID:** f26592d6-6c5d-4db0-ab65-48c70dfe7fd0<br>**Similarity:** 0.20510762929916382<br>**Text:** Motor Vehicles. The Chief of the Division was called the Superintendent of Division of Motor Vehicles. Act No. 3992 was amended by Commonwealth Act Numbers 123, 548, 556, 652 and Republic Act Numbers 314, 587, and 2383. On June 2, 1945, Department Order No. 4 was issued by the Department of Public Works and Highways reorganizing the Division. This took effect after the liberation of the Philippines from the Japanese invasion. In 1947, Executive Order No. 94 was promulgated reorganizing the different executive departments, bureaus and offices. Under Section 82 of this E.O., the Division of Motor Vehicles was upgraded into the Motor Vehicles Office (MVO) with the category of a Bureau. The Chief of the MVO enjoyed the rights and privileges of a Bureau Director. During the fifties and early sixties, our country started undergoing rapid economic development. Industrialization advanced and as a consequence, more and better roads were constructed. The Filipino then realized the need for mo...<br>"
      ],
      "text/plain": [
       "<IPython.core.display.Markdown object>"
      ]
     },
     "metadata": {},
     "output_type": "display_data"
    },
    {
     "data": {
      "text/markdown": [
       "**Node ID:** 13e2e16a-b2eb-4bc6-905a-3c6ea56d473c<br>**Similarity:** 0.2372511625289917<br>**Text:** On June 2, 1980, Batas Pambansa Bilang 43 was passed providing for the issuance of permanent number plates to owners of motor vehicles and trailers, amending for the purpose section 17 of RA 4136. On March 20, 1985, Executive Order 1011 was promulgated. This Executive Order abolished the Board of Transportation and the Bureau of Land Transportation and established the Land Transportation Commission. The defunct BLT and BOT were merged and their powers, functions and responsibilities were transferred to the Land Transportation Commission (LTC) headed by a Chairman, assisted by four Commissioners. The LTC was tasked to perform functions such as registering motor vehicles, licensing of drivers and conductors, franchising of public utility vehicles and enforcing traffic rules and regulations and adjudicating apprehensions. On January 30, 1987, the Land Transportation Commission was abolished and two offices were created, namely: The Land Transportation Office (LTO) and the Land Transpor...<br>"
      ],
      "text/plain": [
       "<IPython.core.display.Markdown object>"
      ]
     },
     "metadata": {},
     "output_type": "display_data"
    },
    {
     "data": {
      "text/markdown": [
       "**Node ID:** 56b06131-42f0-4483-94b9-1cc0d46d62e9<br>**Similarity:** 0.23808741569519043<br>**Text:** Land Transportation Office (LTO) The concept of land transportation system in the Philippines started when our ancestors invented the means of locomotion with the animals in moving people and goods from place to place. Although the means of land transportation during the early days were not as sophisticated as the modern vehicles of today and the roads not as well constructed, the early Filipinos also observed some laws to govern their mobility. These laws were as informal and simple as specifying which animal could be used for certain purposes but these showed that our ancestors had already felt the need to regulate the transportation system. As early as 1910, there were already few motor vehicles seen operating in public highways in Manila and suburbs. Better means of transportation were invented and introduced in the country. Gradually, the Filipinos learned to use cars, trucks, jeeps and other types of vehicles. The means of transportation became better and powerful and the laws...<br>"
      ],
      "text/plain": [
       "<IPython.core.display.Markdown object>"
      ]
     },
     "metadata": {},
     "output_type": "display_data"
    },
    {
     "data": {
      "text/markdown": [
       "**Node ID:** 32ad32da-b38e-451f-a267-05f8e69c4bb2<br>**Similarity:** 0.2450343370437622<br>**Text:** so in 1964, Republic Act No. 4136 or the Land Transportation and Traffic Code came to life to compile all the laws relative to transportation and traffic rules, and to create a land transportation commission.Legacy and Ongoing RelevanceAs we navigate in the present, it?s essential to recognize the enduring impact of Republic Act No. 3045. The legislation, born in a time of emerging automotive culture, set the stage for the<br>"
      ],
      "text/plain": [
       "<IPython.core.display.Markdown object>"
      ]
     },
     "metadata": {},
     "output_type": "display_data"
    },
    {
     "data": {
      "text/markdown": [
       "**Node ID:** bee21284-e441-4e1d-9f4f-d234146c47d8<br>**Similarity:** 0.2503790855407715<br>**Text:** evolution of motor vehicle governance in the Philippines. Its legacy endures in the ongoing efforts to adapt regulations to the changing dynamics of modern transportation.Republic Act No. 3045 in the Philippines was replaced by subsequent legislation due to the evolving needs and complexities of motor vehicle governance. Laws related to traffic, vehicle registration, licensing, and safety measures must adapt to changes in technology, transportation infrastructure, and societal demands. As the automotive landscape evolved, the government deemed it necessary to enact new laws that could address emerging issues, incorporate advancements, and enhance regulatory frameworks.In 1933, Act No. 3992, known as the Revised Motor Vehicle Law, was enacted, amending and updating the provisions of Republic Act No. 3045. This replacement reflected the government?s commitment to staying abreast of developments in the automotive sector and ensuring that regulations remained relevant and effective enou...<br>"
      ],
      "text/plain": [
       "<IPython.core.display.Markdown object>"
      ]
     },
     "metadata": {},
     "output_type": "display_data"
    },
    {
     "data": {
      "text/markdown": [
       "**Node ID:** f65efe8d-409f-4cba-b3f7-5a97a69a613a<br>**Similarity:** 0.2647451162338257<br>**Text:** information about the regulations and guidelines established by the legislation which includes control over the registration and operation of motor vehicles; the licensing of owners, dealers, and chauffeurs; the carrying of lights on all vehicles; and all similar matters.Amendments and EvolutionRepublic Act No. 3992 didn?t just get enacted. For over 30 years, the law existed as aguideline for transport regulation.Over the years though, several amendments were introduced to refine and adapt the legislation to the changing needs of society. Some amendments include Commonwealth Act Numbers 123, 548, 556, and 652, along with Republic Act Numbers 314, 587, and 2383, which played crucial roles in shaping the law. These amendments addressed emerging challenges, technological advancements, and the growing complexities of the motor vehicle landscape before it was repealed by Republic Act 4136, otherwise known as the Land Transportation and Traffic Code in June 1964.Commonwealth Act Numbers 1...<br>"
      ],
      "text/plain": [
       "<IPython.core.display.Markdown object>"
      ]
     },
     "metadata": {},
     "output_type": "display_data"
    },
    {
     "data": {
      "text/markdown": [
       "**Node ID:** 25291fac-e900-41ab-bbb5-c0a3d0131d83<br>**Similarity:** 0.26883041858673096<br>**Text:** the Philippines. While both played a crucial role in the regulation of motor vehicles and traffic in different eras, there are some slight differences between the new and the old law. Let?s compare the key features of these two acts:Key Information about Republic Act No. 3992Enactment Date: January 1, 1933.Amendment of: Republic Act No. 3045Renaming of Division: The Automobile Division was renamed the Division of Motor Vehicles.Leadership Title: The head of the Division of Motor Vehicles was referred to as the Superintendent.Amendments: Republic Act No. 3992 underwent amendments through Commonwealth Act Numbers 123, 548, 556, 652, and Republic Act Numbers 314, 587, and 2383.Key Information about Republic Act No. 4136Enactment Date: June 20, 1964.Scope: Known as the ?Land Transportation and Traffic Code,? RA 4136 is a comprehensive law covering various aspects of land transportation, traffic rules, and vehicle registration.Creation of Agencies: This act led to the establishment of ke...<br>"
      ],
      "text/plain": [
       "<IPython.core.display.Markdown object>"
      ]
     },
     "metadata": {},
     "output_type": "display_data"
    },
    {
     "data": {
      "text/markdown": [
       "**Node ID:** fd1c5565-08d2-4067-9ba8-13c292d99053<br>**Similarity:** 0.274780809879303<br>**Text:** Motor Vehicles reflected a recognition of the need for more nuanced governance.Foundation for Ongoing RegulationsRA 3045 laid the foundation for subsequent regulations and adjustments in response to the evolving dynamics of motor vehicle use. Its principles continue to influence and guide contemporary efforts to ensure road safety, efficient traffic management, and responsible vehicle operation.Enduring LegacyThe enduring legacy of RA 3045 is reflected in the enduring commitment to structured and safe road governance. Its principles resonate in the ongoing efforts to address new challenges brought about by technological advancements and changes in transportation patterns.More than these benefits, the Republic Act No. 3045 has played a pivotal role in shaping the regulatory landscape of motor vehicles in the Philippines. Its influence is evident in the organized traffic systems, enhanced safety measures, and the establishment of foundational structures that persist in today?s road go...<br>"
      ],
      "text/plain": [
       "<IPython.core.display.Markdown object>"
      ]
     },
     "metadata": {},
     "output_type": "display_data"
    },
    {
     "data": {
      "text/markdown": [
       "**Node ID:** e69fb08b-63ac-486c-90fd-04d733f87d69<br>**Similarity:** 0.2754054069519043<br>**Text:** as a significant milestone that laid the groundwork for the current transport laws in the Philippines. Enacted in 1926, RA 3045 served as a comprehensive compilation and amendment of existing laws governing motor vehicle traffic, registration, licensing, and safety measures of old.It was the backdrop of a burgeoning automobile culture in 1926, right when the Philippine government first recognized the need for a consolidated legal framework to regulate motor vehicle activities that then existing RA 2159 (?Motor Vehicle Registration Act of<br>"
      ],
      "text/plain": [
       "<IPython.core.display.Markdown object>"
      ]
     },
     "metadata": {},
     "output_type": "display_data"
    },
    {
     "data": {
      "text/markdown": [
       "**Node ID:** cc874dd7-ee48-4ddc-b2d9-a7ac9ce3b521<br>**Similarity:** 0.27756690979003906<br>**Text:** RA 3992: The Revised Motor Vehicle LawRepublic Act No. 3992, also known as ?The Revised Motor Vehicle Law,? holds a significant place in the history of the Philippines?Land Transportation Office (LTO)and its regulations. Enacted on January 1, 1933, this legislation marked a crucial amendment to Republic Act No. 3045, reshaping the governance of motor vehicles within the archipelago.In here, we will explore the key provisions, changes, and subsequent amendments that have shaped the landscape of Philippine traffic laws over the years.Table of ContentsToggleThe Birth of Republic Act No. 3992Key Provisions of RA 3992Division of Motor VehiclesLicensing and RegistrationTraffic Rules and RegulationsPenalties and EnforcementAmendments and RevisionsRelationship to Previous LegislationAmendments and EvolutionCommonwealth Act Numbers 123, 548, 556, and 652Republic Act Numbers 314, 587, and 2383Republic Act 4136Republic Act 3992 vs Republic Act 4136SummaryThe Birth of Republic Act No. 3992At th...<br>"
      ],
      "text/plain": [
       "<IPython.core.display.Markdown object>"
      ]
     },
     "metadata": {},
     "output_type": "display_data"
    },
    {
     "data": {
      "text/markdown": [
       "**Node ID:** c019de1a-ceb6-49ef-8f2d-fc7977e6d354<br>**Similarity:** 0.2951927185058594<br>**Text:** as far as they apply, the registration and operation of motor vehicles and the licensing of owners, dealers,conductors, drivers and similar matters.? To effectively carry out its mandate, the Land Transportation Commission later became the Land Transportation Office (LTO) and established numerousLTO officesin various parts of the country.Republic Act 3992 vs Republic Act 4136Republic Act No. 3992 and Republic Act No. 4136 are both significant pieces of legislation in<br>"
      ],
      "text/plain": [
       "<IPython.core.display.Markdown object>"
      ]
     },
     "metadata": {},
     "output_type": "display_data"
    },
    {
     "data": {
      "text/markdown": [
       "**Node ID:** f77d24d2-bd2a-41ab-ae5e-bbc5525265d8<br>**Similarity:** 0.29670000076293945<br>**Text:** A\\\\ ~ f. . -  -  --- . - --- . ....,  - . q:~qf(f{I ,1 Republic of the Philippines Depaitment of Transportation ,  . ' LAND TRANSPORTATION OFFf<t,E --'-.. ~ ~ '] ~ .. The Implementing Rules and Regulations of Republic Act No. 11698 otherwise known as the \"\"Vintage Vehicle Regulation Act\" WHEREAS, Article XIV, Section 14 of the 1987 Constitution declares that the State shall foster the preservation, enrichment, and dynamic evolution of a Filipino culture based on the principle of unity in diversity in a climate of free artistic and intellectual expression; WHEREAS, Section 16 of the same Article of the Constitution also affirms that all the country's artistic and historic wealth constitutes the cultural treasure of the nation and shall be under the protection of the State which may regulate its dispo sition ~ WHEREAS, Republic Act No. 11698 otherwise known as the \"Vintage Vehicle Regulation Act\" (Act) lapsed into law on 15 April 2022 to protect and promote the nation 's heritage by e...<br>"
      ],
      "text/plain": [
       "<IPython.core.display.Markdown object>"
      ]
     },
     "metadata": {},
     "output_type": "display_data"
    },
    {
     "data": {
      "text/markdown": [
       "**Node ID:** 2ded8646-b857-45b8-8084-f0dd5613e7df<br>**Similarity:** 0.2969343066215515<br>**Text:** REPUBLIC OF THE PHILIPPINES. DEPARTMENT OF TRANSPORTATION LAND TRANSPORTATION OFFICE mat Addo Honan gaat  Webs: wn oianush MEMORANDUM To All Regional Directors All Assistant Regional Directors All Regional Operations Chiefs All DistricvExtension Office Chiefs  All Concerned DATE 12 April 2023 SUBJECT PILOT IMPLEMENTATION OF VINTAGE VEHICLE REGISTRATION |in compliance to the Implementing Rules and Regulations (IRR) of Republic Act No. 11698 or the Vintage Vehicle Regulation Act, registration of vintage vehicle shall be initially implemented through a pilot run to be conducted at the New Registration Unit, Operations Division ~ Central Office (CO) commencing on 17 April 2023 in preparation for the eventual nationwide implementation, Related thereto and upon determination that the law may seamlessly be implemented nationwide, a Memorandum shall be consequently issued to such effect. For the time being, please advise owners/stakeholders that they may submit their application for registr...<br>"
      ],
      "text/plain": [
       "<IPython.core.display.Markdown object>"
      ]
     },
     "metadata": {},
     "output_type": "display_data"
    },
    {
     "data": {
      "text/markdown": [
       "**Node ID:** e8d175c3-a14c-49a4-9583-743d09240fbd<br>**Similarity:** 0.2983020544052124<br>**Text:** . . REPUBLIC OF THE PHILIPPINES DEPARTMENT OF TRANSPORTATION LAND TRANSPORTATION OFFI East Avenue, Quezon City E-mail Address: ltm:mrri!mm@lt~ .. P -.!irlffi oWebsite: www.lto.gov.ph MEMORANDUM TO: DATE: SUBJECT: All Regional Directors All Assistant Regional Directors All Heads of District/Extension Offices, and, All Employees Concerned of the L TO 11 November 2022 ; U.P .. LAW CENTER -w J lQHtCE of lM NA.llONAL ADMINISlRATlVE ilfGfSH R'. i Adm nisl 31rve Rules   nd Re9u1a11on1 I ' ' RESOLUTION OF BACKLOGS IN MOTOR VEHICLE (MV) RENEWAL REGISTRATION AND MOTOR VEHICLE RELATED MISCELLANEOUS TRANSACTIONS WHEREAS, in compliance with the President's and the Department of Transportation's directive to go full speed ahead in public service delivery and promote an agile bureaucracy that is responsive to the needs of the public.: WHEREAS, it is the declared policy of the State to promote integrity, accountability, proper management of public affairs and public property as well as to establish...<br>"
      ],
      "text/plain": [
       "<IPython.core.display.Markdown object>"
      ]
     },
     "metadata": {},
     "output_type": "display_data"
    },
    {
     "data": {
      "text/markdown": [
       "**Node ID:** 48e66f31-a2e1-4208-91f5-4b05c74e941e<br>**Similarity:** 0.30049097537994385<br>**Text:** 1912) cannot cover. Republic Act No. 3045 was born out of this necessity, aiming to streamline laws related to not only motor vehicle traffic, but also motor vehicle registration, licensing, and safety measures.Key Provisions and AmendmentsRA 3045, though old, addressed various facets of motor vehicle governance, including regulations for traffic on Philippine roads, the registration process for vehicles, licensing requirements for operators, and guidelines for nighttime driving. Notably, it paved the way for the establishment of the Automobile Division, initially under the supervision of the Bureau of Public Works.Republic Act No. 3045 also holds paramount importance in the Philippines for several reasons, as it has significantly shaped the regulation of motor vehicles and road safety in the country.Here are some of the key points highlighting the significance of RA 3045:Comprehensive RegulationRA 3045 served as a comprehensive compilation of laws related to motor vehicle traffic, ...<br>"
      ],
      "text/plain": [
       "<IPython.core.display.Markdown object>"
      ]
     },
     "metadata": {},
     "output_type": "display_data"
    },
    {
     "name": "stdout",
     "output_type": "stream",
     "text": [
      "hit_rate: 1.0\n",
      "mrr: 1.0\n",
      "precision: 0.06666666666666667\n",
      "recall: 1.0\n",
      "ap: 1.0\n",
      "ndcg: 1.0\n",
      "\n",
      "\n",
      "Query: What significant event occurred on June 20, 1964, that led to the abolition of the Motor Vehicle Office and the creation of a new regulatory body for land transportation in the Philippines?\n",
      "Metrics: {'hit_rate': 1.0, 'mrr': 1.0, 'precision': 0.06666666666666667, 'recall': 1.0, 'ap': 1.0, 'ndcg': 1.0}\n",
      "\n"
     ]
    }
   ],
   "source": [
    "indexer = FaissIndexer()\n",
    "\n",
    "indexer.build_index(nodes)  \n",
    "faiss_index = indexer.get_index()\n",
    "\n",
    "retriever = FAISSVectorStoreRetriever(faiss_index=indexer.get_index(), documents=nodes_embed)\n",
    "\n",
    "metrics = [\"hit_rate\", \"mrr\", \"precision\", \"recall\", \"ap\", \"ndcg\"]\n",
    "evaluator = FAISSRetrievalEvaluator.from_metric_names(\n",
    "    metric_names=metrics,\n",
    "    retriever=retriever,\n",
    "    Print_Results=True\n",
    ")\n",
    "\n",
    "\n",
    "sample_id, sample_query = list(qa_dataset.queries.items())[1]\n",
    "sample_expected = qa_dataset.relevant_docs[sample_id]\n",
    "\n",
    "print(\"Sample Problem:\")\n",
    "print(f\"sample id: {sample_id}, text: {sample_query}\")\n",
    "print(f\"sample exp: {sample_expected}\")\n",
    "\n",
    "print(\"\\nRetrieval results:\")\n",
    "\n",
    "result = await evaluator.aevaluate(\n",
    "    query=sample_query,\n",
    "    expected_ids=sample_expected,\n",
    ")\n",
    "\n",
    "print(\"\\n\")\n",
    "print(result)"
   ]
  },
  {
   "cell_type": "code",
   "execution_count": 17,
   "id": "855ffefe",
   "metadata": {},
   "outputs": [
    {
     "name": "stdout",
     "output_type": "stream",
     "text": [
      "hit_rate: 1.0\n",
      "mrr: 1.0\n",
      "precision: 0.06666666666666667\n",
      "recall: 1.0\n",
      "ap: 1.0\n",
      "ndcg: 1.0\n",
      "hit_rate: 1.0\n",
      "mrr: 1.0\n",
      "precision: 0.06666666666666667\n",
      "recall: 1.0\n",
      "ap: 1.0\n",
      "ndcg: 1.0\n",
      "hit_rate: 1.0\n",
      "mrr: 1.0\n",
      "precision: 0.06666666666666667\n",
      "recall: 1.0\n",
      "ap: 1.0\n",
      "ndcg: 1.0\n",
      "hit_rate: 1.0\n",
      "mrr: 1.0\n",
      "precision: 0.06666666666666667\n",
      "recall: 1.0\n",
      "ap: 1.0\n",
      "ndcg: 1.0\n",
      "hit_rate: 0.0\n",
      "mrr: 0.0\n",
      "precision: 0.0\n",
      "recall: 0.0\n",
      "ap: 0.0\n",
      "ndcg: 0.0\n",
      "hit_rate: 0.0\n",
      "mrr: 0.0\n",
      "precision: 0.0\n",
      "recall: 0.0\n",
      "ap: 0.0\n",
      "ndcg: 0.0\n",
      "hit_rate: 1.0\n",
      "mrr: 1.0\n",
      "precision: 0.06666666666666667\n",
      "recall: 1.0\n",
      "ap: 1.0\n",
      "ndcg: 1.0\n",
      "hit_rate: 1.0\n",
      "mrr: 1.0\n",
      "precision: 0.06666666666666667\n",
      "recall: 1.0\n",
      "ap: 1.0\n",
      "ndcg: 1.0\n",
      "hit_rate: 1.0\n",
      "mrr: 0.25\n",
      "precision: 0.06666666666666667\n",
      "recall: 1.0\n",
      "ap: 0.25\n",
      "ndcg: 0.43067655807339306\n",
      "hit_rate: 1.0\n",
      "mrr: 0.25\n",
      "precision: 0.06666666666666667\n",
      "recall: 1.0\n",
      "ap: 0.25\n",
      "ndcg: 0.43067655807339306\n",
      "hit_rate: 0.0\n",
      "mrr: 0.0\n",
      "precision: 0.0\n",
      "recall: 0.0\n",
      "ap: 0.0\n",
      "ndcg: 0.0\n",
      "hit_rate: 0.0\n",
      "mrr: 0.0\n",
      "precision: 0.0\n",
      "recall: 0.0\n",
      "ap: 0.0\n",
      "ndcg: 0.0\n",
      "hit_rate: 1.0\n",
      "mrr: 0.3333333333333333\n",
      "precision: 0.06666666666666667\n",
      "recall: 1.0\n",
      "ap: 0.3333333333333333\n",
      "ndcg: 0.5\n",
      "hit_rate: 1.0\n",
      "mrr: 1.0\n",
      "precision: 0.06666666666666667\n",
      "recall: 1.0\n",
      "ap: 1.0\n",
      "ndcg: 1.0\n",
      "hit_rate: 1.0\n",
      "mrr: 0.09090909090909091\n",
      "precision: 0.06666666666666667\n",
      "recall: 1.0\n",
      "ap: 0.09090909090909091\n",
      "ndcg: 0.27894294565112987\n",
      "hit_rate: 1.0\n",
      "mrr: 0.14285714285714285\n",
      "precision: 0.06666666666666667\n",
      "recall: 1.0\n",
      "ap: 0.14285714285714285\n",
      "ndcg: 0.3333333333333333\n",
      "hit_rate: 1.0\n",
      "mrr: 0.14285714285714285\n",
      "precision: 0.06666666666666667\n",
      "recall: 1.0\n",
      "ap: 0.14285714285714285\n",
      "ndcg: 0.3333333333333333\n",
      "hit_rate: 1.0\n",
      "mrr: 0.14285714285714285\n",
      "precision: 0.06666666666666667\n",
      "recall: 1.0\n",
      "ap: 0.14285714285714285\n",
      "ndcg: 0.3333333333333333\n",
      "hit_rate: 0.0\n",
      "mrr: 0.0\n",
      "precision: 0.0\n",
      "recall: 0.0\n",
      "ap: 0.0\n",
      "ndcg: 0.0\n",
      "hit_rate: 1.0\n",
      "mrr: 0.2\n",
      "precision: 0.06666666666666667\n",
      "recall: 1.0\n",
      "ap: 0.2\n",
      "ndcg: 0.38685280723454163\n",
      "hit_rate: 0.0\n",
      "mrr: 0.0\n",
      "precision: 0.0\n",
      "recall: 0.0\n",
      "ap: 0.0\n",
      "ndcg: 0.0\n",
      "hit_rate: 1.0\n",
      "mrr: 0.2\n",
      "precision: 0.06666666666666667\n",
      "recall: 1.0\n",
      "ap: 0.2\n",
      "ndcg: 0.38685280723454163\n",
      "hit_rate: 0.0\n",
      "mrr: 0.0\n",
      "precision: 0.0\n",
      "recall: 0.0\n",
      "ap: 0.0\n",
      "ndcg: 0.0\n",
      "hit_rate: 0.0\n",
      "mrr: 0.0\n",
      "precision: 0.0\n",
      "recall: 0.0\n",
      "ap: 0.0\n",
      "ndcg: 0.0\n",
      "hit_rate: 0.0\n",
      "mrr: 0.0\n",
      "precision: 0.0\n",
      "recall: 0.0\n",
      "ap: 0.0\n",
      "ndcg: 0.0\n",
      "hit_rate: 1.0\n",
      "mrr: 0.1\n",
      "precision: 0.06666666666666667\n",
      "recall: 1.0\n",
      "ap: 0.1\n",
      "ndcg: 0.2890648263178879\n",
      "hit_rate: 1.0\n",
      "mrr: 0.5\n",
      "precision: 0.06666666666666667\n",
      "recall: 1.0\n",
      "ap: 0.5\n",
      "ndcg: 0.6309297535714575\n",
      "hit_rate: 1.0\n",
      "mrr: 1.0\n",
      "precision: 0.06666666666666667\n",
      "recall: 1.0\n",
      "ap: 1.0\n",
      "ndcg: 1.0\n",
      "hit_rate: 1.0\n",
      "mrr: 0.5\n",
      "precision: 0.06666666666666667\n",
      "recall: 1.0\n",
      "ap: 0.5\n",
      "ndcg: 0.6309297535714575\n",
      "hit_rate: 0.0\n",
      "mrr: 0.0\n",
      "precision: 0.0\n",
      "recall: 0.0\n",
      "ap: 0.0\n",
      "ndcg: 0.0\n",
      "hit_rate: 0.0\n",
      "mrr: 0.0\n",
      "precision: 0.0\n",
      "recall: 0.0\n",
      "ap: 0.0\n",
      "ndcg: 0.0\n",
      "hit_rate: 0.0\n",
      "mrr: 0.0\n",
      "precision: 0.0\n",
      "recall: 0.0\n",
      "ap: 0.0\n",
      "ndcg: 0.0\n",
      "hit_rate: 0.0\n",
      "mrr: 0.0\n",
      "precision: 0.0\n",
      "recall: 0.0\n",
      "ap: 0.0\n",
      "ndcg: 0.0\n",
      "hit_rate: 1.0\n",
      "mrr: 1.0\n",
      "precision: 0.06666666666666667\n",
      "recall: 1.0\n",
      "ap: 1.0\n",
      "ndcg: 1.0\n",
      "hit_rate: 1.0\n",
      "mrr: 1.0\n",
      "precision: 0.06666666666666667\n",
      "recall: 1.0\n",
      "ap: 1.0\n",
      "ndcg: 1.0\n",
      "hit_rate: 1.0\n",
      "mrr: 1.0\n",
      "precision: 0.06666666666666667\n",
      "recall: 1.0\n",
      "ap: 1.0\n",
      "ndcg: 1.0\n",
      "hit_rate: 1.0\n",
      "mrr: 0.14285714285714285\n",
      "precision: 0.06666666666666667\n",
      "recall: 1.0\n",
      "ap: 0.14285714285714285\n",
      "ndcg: 0.3333333333333333\n",
      "hit_rate: 1.0\n",
      "mrr: 0.2\n",
      "precision: 0.06666666666666667\n",
      "recall: 1.0\n",
      "ap: 0.2\n",
      "ndcg: 0.38685280723454163\n",
      "hit_rate: 0.0\n",
      "mrr: 0.0\n",
      "precision: 0.0\n",
      "recall: 0.0\n",
      "ap: 0.0\n",
      "ndcg: 0.0\n",
      "hit_rate: 1.0\n",
      "mrr: 0.5\n",
      "precision: 0.06666666666666667\n",
      "recall: 1.0\n",
      "ap: 0.5\n",
      "ndcg: 0.6309297535714575\n",
      "hit_rate: 1.0\n",
      "mrr: 1.0\n",
      "precision: 0.06666666666666667\n",
      "recall: 1.0\n",
      "ap: 1.0\n",
      "ndcg: 1.0\n",
      "hit_rate: 1.0\n",
      "mrr: 1.0\n",
      "precision: 0.06666666666666667\n",
      "recall: 1.0\n",
      "ap: 1.0\n",
      "ndcg: 1.0\n",
      "hit_rate: 1.0\n",
      "mrr: 0.5\n",
      "precision: 0.06666666666666667\n",
      "recall: 1.0\n",
      "ap: 0.5\n",
      "ndcg: 0.6309297535714575\n",
      "hit_rate: 1.0\n",
      "mrr: 0.3333333333333333\n",
      "precision: 0.06666666666666667\n",
      "recall: 1.0\n",
      "ap: 0.3333333333333333\n",
      "ndcg: 0.5\n",
      "hit_rate: 0.0\n",
      "mrr: 0.0\n",
      "precision: 0.0\n",
      "recall: 0.0\n",
      "ap: 0.0\n",
      "ndcg: 0.0\n",
      "hit_rate: 1.0\n",
      "mrr: 0.2\n",
      "precision: 0.06666666666666667\n",
      "recall: 1.0\n",
      "ap: 0.2\n",
      "ndcg: 0.38685280723454163\n",
      "hit_rate: 1.0\n",
      "mrr: 1.0\n",
      "precision: 0.06666666666666667\n",
      "recall: 1.0\n",
      "ap: 1.0\n",
      "ndcg: 1.0\n",
      "hit_rate: 1.0\n",
      "mrr: 0.25\n",
      "precision: 0.06666666666666667\n",
      "recall: 1.0\n",
      "ap: 0.25\n",
      "ndcg: 0.43067655807339306\n",
      "hit_rate: 1.0\n",
      "mrr: 1.0\n",
      "precision: 0.06666666666666667\n",
      "recall: 1.0\n",
      "ap: 1.0\n",
      "ndcg: 1.0\n",
      "hit_rate: 0.0\n",
      "mrr: 0.0\n",
      "precision: 0.0\n",
      "recall: 0.0\n",
      "ap: 0.0\n",
      "ndcg: 0.0\n",
      "hit_rate: 1.0\n",
      "mrr: 0.5\n",
      "precision: 0.06666666666666667\n",
      "recall: 1.0\n",
      "ap: 0.5\n",
      "ndcg: 0.6309297535714575\n",
      "hit_rate: 0.0\n",
      "mrr: 0.0\n",
      "precision: 0.0\n",
      "recall: 0.0\n",
      "ap: 0.0\n",
      "ndcg: 0.0\n",
      "hit_rate: 1.0\n",
      "mrr: 0.5\n",
      "precision: 0.06666666666666667\n",
      "recall: 1.0\n",
      "ap: 0.5\n",
      "ndcg: 0.6309297535714575\n",
      "hit_rate: 1.0\n",
      "mrr: 1.0\n",
      "precision: 0.06666666666666667\n",
      "recall: 1.0\n",
      "ap: 1.0\n",
      "ndcg: 1.0\n",
      "hit_rate: 1.0\n",
      "mrr: 0.5\n",
      "precision: 0.06666666666666667\n",
      "recall: 1.0\n",
      "ap: 0.5\n",
      "ndcg: 0.6309297535714575\n",
      "hit_rate: 1.0\n",
      "mrr: 0.16666666666666666\n",
      "precision: 0.06666666666666667\n",
      "recall: 1.0\n",
      "ap: 0.16666666666666666\n",
      "ndcg: 0.3562071871080222\n",
      "hit_rate: 1.0\n",
      "mrr: 0.3333333333333333\n",
      "precision: 0.06666666666666667\n",
      "recall: 1.0\n",
      "ap: 0.3333333333333333\n",
      "ndcg: 0.5\n",
      "hit_rate: 1.0\n",
      "mrr: 0.5\n",
      "precision: 0.06666666666666667\n",
      "recall: 1.0\n",
      "ap: 0.5\n",
      "ndcg: 0.6309297535714575\n",
      "hit_rate: 1.0\n",
      "mrr: 0.3333333333333333\n",
      "precision: 0.06666666666666667\n",
      "recall: 1.0\n",
      "ap: 0.3333333333333333\n",
      "ndcg: 0.5\n",
      "hit_rate: 1.0\n",
      "mrr: 0.3333333333333333\n",
      "precision: 0.06666666666666667\n",
      "recall: 1.0\n",
      "ap: 0.3333333333333333\n",
      "ndcg: 0.5\n"
     ]
    },
    {
     "data": {
      "text/html": [
       "<div>\n",
       "<style scoped>\n",
       "    .dataframe tbody tr th:only-of-type {\n",
       "        vertical-align: middle;\n",
       "    }\n",
       "\n",
       "    .dataframe tbody tr th {\n",
       "        vertical-align: top;\n",
       "    }\n",
       "\n",
       "    .dataframe thead th {\n",
       "        text-align: right;\n",
       "    }\n",
       "</style>\n",
       "<table border=\"1\" class=\"dataframe\">\n",
       "  <thead>\n",
       "    <tr style=\"text-align: right;\">\n",
       "      <th></th>\n",
       "      <th>retrievers</th>\n",
       "      <th>hit_rate</th>\n",
       "      <th>mrr</th>\n",
       "      <th>precision</th>\n",
       "      <th>recall</th>\n",
       "      <th>ap</th>\n",
       "      <th>ndcg</th>\n",
       "    </tr>\n",
       "  </thead>\n",
       "  <tbody>\n",
       "    <tr>\n",
       "      <th>0</th>\n",
       "      <td>top-2 eval</td>\n",
       "      <td>0.716667</td>\n",
       "      <td>0.402428</td>\n",
       "      <td>0.047778</td>\n",
       "      <td>0.716667</td>\n",
       "      <td>0.402428</td>\n",
       "      <td>0.477407</td>\n",
       "    </tr>\n",
       "  </tbody>\n",
       "</table>\n",
       "</div>"
      ],
      "text/plain": [
       "   retrievers  hit_rate       mrr  precision    recall        ap      ndcg\n",
       "0  top-2 eval  0.716667  0.402428   0.047778  0.716667  0.402428  0.477407"
      ]
     },
     "execution_count": 17,
     "metadata": {},
     "output_type": "execute_result"
    }
   ],
   "source": [
    "  \n",
    "evaluator = FAISSRetrievalEvaluator.from_metric_names(\n",
    "    metric_names=metrics,\n",
    "    retriever=retriever,\n",
    "    Print_Results=False\n",
    ")\n",
    "\n",
    "eval_results = await evaluator.aevaluate_dataset(qa_dataset)\n",
    "\n",
    "\n",
    "def display_results(name, eval_results):\n",
    "    \"\"\"Display results from evaluate.\"\"\"\n",
    "\n",
    "    metric_dicts = []\n",
    "    for eval_result in eval_results:\n",
    "        metric_dict = eval_result.metric_vals_dict\n",
    "        metric_dicts.append(metric_dict)\n",
    "\n",
    "    full_df = pd.DataFrame(metric_dicts)\n",
    "\n",
    "    columns = {\n",
    "        \"retrievers\": [name],\n",
    "        **{k: [full_df[k].mean()] for k in metrics},\n",
    "    }\n",
    "\n",
    "    metric_df = pd.DataFrame(columns)\n",
    "\n",
    "    return metric_df\n",
    "\n",
    "\n",
    "display_results(\"top-2 eval\", eval_results)"
   ]
  },
  {
   "cell_type": "code",
   "execution_count": 18,
   "id": "15320c85-b644-4148-b83b-b63bc2898517",
   "metadata": {},
   "outputs": [],
   "source": [
    "#indexing\n",
    "index = FaissIndexer()\n",
    "index.build_index(nodes_embed)\n",
    "faiss_index = index.get_index()\n",
    "\n",
    "faiss_retriever = FAISSVectorStoreRetriever(faiss_index=faiss_index,documents=nodes_embed)"
   ]
  },
  {
   "cell_type": "markdown",
   "id": "f75ddf0b-2c20-4065-bb79-fb8733622ec7",
   "metadata": {},
   "source": [
    "## 5.D Sparse Embedding via BM25"
   ]
  },
  {
   "cell_type": "code",
   "execution_count": 19,
   "id": "3e9c9cf4-123f-4d44-8c02-b61ecdd4bb2f",
   "metadata": {},
   "outputs": [],
   "source": [
    "bm25_retriever = BM25Retriever.from_defaults(\n",
    "   nodes=nodes,\n",
    "   similarity_top_k=5,\n",
    "   stemmer=Stemmer.Stemmer(\"english\"),\n",
    "   language=\"english\",\n",
    ")"
   ]
  },
  {
   "cell_type": "markdown",
   "id": "c953fd45-035d-4d46-801f-33f28fdede67",
   "metadata": {},
   "source": [
    "## 5.E Hybrid Retrieval via Reciprocal Rank"
   ]
  },
  {
   "cell_type": "code",
   "execution_count": 20,
   "id": "6ad014ba-3363-4810-a5d5-fa6187fbc494",
   "metadata": {},
   "outputs": [],
   "source": [
    "def hybrid_embedding(results: dict, top_k: int):\n",
    "    x = QueryFusionRetriever\n",
    "    ranked_results = QueryFusionRetriever._reciprocal_rerank_fusion(x, results)\n",
    "    return ranked_results[:top_k]"
   ]
  },
  {
   "cell_type": "markdown",
   "id": "6803d0a1",
   "metadata": {},
   "source": [
    "## 5.F Hybrid Retrieval Evaluator"
   ]
  },
  {
   "cell_type": "code",
   "execution_count": 21,
   "id": "8acc387e",
   "metadata": {},
   "outputs": [],
   "source": [
    "from typing import List, Tuple, Any, Dict\n",
    "from pydantic import Field, ConfigDict\n",
    "from llama_index.core.evaluation.retrieval.base import (\n",
    "    BaseRetrievalEvaluator,\n",
    "    RetrievalEvalMode,\n",
    "    RetrievalEvalResult\n",
    ")\n",
    "from llama_index.core.evaluation.retrieval.metrics import resolve_metrics\n",
    "from llama_index.core.response.notebook_utils import display_source_node\n",
    "\n",
    "class HybridRetrievalEvaluator(BaseRetrievalEvaluator):\n",
    "    faiss_retriever: \"FAISSVectorStoreRetriever\" = Field(..., description=\"FAISS Retriever instance\")\n",
    "    bm25_retriever: \"BM25Retriever\" = Field(..., description=\"BM25 Retriever instance\")\n",
    "    Print_Results: bool = Field(default=False, description=\"Whether to print retrieved results\")\n",
    "\n",
    "    model_config = ConfigDict(extra=\"forbid\")  \n",
    "\n",
    "    @classmethod\n",
    "    def from_metric_names(\n",
    "        cls,\n",
    "        metric_names: List[str],\n",
    "        faiss_retriever: \"FAISSVectorStoreRetriever\",\n",
    "        bm25_retriever: \"BM25Retriever\",\n",
    "        Print_Results: bool = False,\n",
    "        **kwargs: Any,\n",
    "    ) -> \"HybridRetrievalEvaluator\":\n",
    "        metric_types = resolve_metrics(metric_names)\n",
    "        metrics = [metric() for metric in metric_types]\n",
    "        return cls(metrics=metrics, faiss_retriever=faiss_retriever, bm25_retriever=bm25_retriever, Print_Results=Print_Results, **kwargs)\n",
    "\n",
    "    async def _aget_retrieved_ids_and_texts(\n",
    "        self,\n",
    "        query: str,\n",
    "        mode: RetrievalEvalMode = RetrievalEvalMode.TEXT,\n",
    "        top_k: int = 15\n",
    "    ) -> Tuple[List[str], List[str]]:\n",
    "        response = client.embeddings(prompt=query, model=\"mxbai-embed-large\")\n",
    "        query_embedding = response[\"embedding\"]\n",
    "\n",
    "        # FAISS retrieval\n",
    "        faiss_docs = self.faiss_retriever._retrieve(query_embedding, top_k=top_k)\n",
    "\n",
    "        # BM25 retrieval\n",
    "        bm25_docs = self.bm25_retriever.retrieve(query)\n",
    "\n",
    "        # Combine results\n",
    "        results = {'faiss': faiss_docs, 'bm25': bm25_docs}\n",
    "        ranked_results = QueryFusionRetriever._reciprocal_rerank_fusion(None, results)\n",
    "        ranked_results = ranked_results[:top_k]\n",
    "\n",
    "        # Optionally display results\n",
    "        if self.Print_Results:\n",
    "            for doc in ranked_results:\n",
    "                display_source_node(doc, source_length=1000)\n",
    "\n",
    "        retrieved_ids = [doc.id_ for doc in ranked_results]\n",
    "        retrieved_texts = [doc.text for doc in ranked_results]\n",
    "        return retrieved_ids, retrieved_texts\n",
    "\n",
    "    async def aevaluate(\n",
    "        self,\n",
    "        query: str,\n",
    "        expected_ids: List[str],\n",
    "        expected_texts: List[str] = [],\n",
    "        mode: RetrievalEvalMode = RetrievalEvalMode.TEXT,\n",
    "        **kwargs: Any,\n",
    "    ) -> RetrievalEvalResult:\n",
    "        retrieved_ids, retrieved_texts = await self._aget_retrieved_ids_and_texts(query, mode)\n",
    "        metric_dict = {}\n",
    "        \n",
    "        for metric in self.metrics:\n",
    "            # Call compute instead of evaluate\n",
    "            result = metric.compute(\n",
    "                query=query,\n",
    "                expected_ids=expected_ids,\n",
    "                retrieved_ids=retrieved_ids,\n",
    "                expected_texts=expected_texts,\n",
    "                retrieved_texts=retrieved_texts,\n",
    "                **kwargs\n",
    "            )\n",
    "            metric_dict[metric.metric_name] = result  # Store the whole RetrievalMetricResult object\n",
    "            print(f\"{metric.metric_name}: {result.score}\")  # Print each metric result\n",
    "        \n",
    "        # Return RetrievalEvalResult with all required fields\n",
    "        return RetrievalEvalResult(\n",
    "            query=query,\n",
    "            retrieved_ids=retrieved_ids,\n",
    "            retrieved_texts=retrieved_texts,\n",
    "            expected_ids=expected_ids,\n",
    "            expected_texts=expected_texts,\n",
    "            metric_dict=metric_dict\n",
    "        )\n"
   ]
  },
  {
   "cell_type": "markdown",
   "id": "564b6afc",
   "metadata": {},
   "source": [
    "## 5.G BM25 Retreival Evaluation"
   ]
  },
  {
   "cell_type": "code",
   "execution_count": 22,
   "id": "338641e1",
   "metadata": {},
   "outputs": [
    {
     "name": "stdout",
     "output_type": "stream",
     "text": [
      "Sample Problem:\n",
      "sample id: 6a9ec60c-a926-4d8a-aa4e-53230252f108, text: What significant event occurred on June 20, 1964, that led to the abolition of the Motor Vehicle Office and the creation of a new regulatory body for land transportation in the Philippines?\n",
      "sample exp: ['f26592d6-6c5d-4db0-ab65-48c70dfe7fd0']\n",
      "\n",
      "Retrieval results:\n"
     ]
    },
    {
     "data": {
      "text/markdown": [
       "**Node ID:** 25291fac-e900-41ab-bbb5-c0a3d0131d83<br>**Similarity:** 0.03137254901960784<br>**Text:** the Philippines. While both played a crucial role in the regulation of motor vehicles and traffic in different eras, there are some slight differences between the new and the old law. Let?s compare the key features of these two acts:Key Information about Republic Act No. 3992Enactment Date: January 1, 1933.Amendment of: Republic Act No. 3045Renaming of Division: The Automobile Division was renamed the Division of Motor Vehicles.Leadership Title: The head of the Division of Motor Vehicles was referred to as the Superintendent.Amendments: Republic Act No. 3992 underwent amendments through Commonwealth Act Numbers 123, 548, 556, 652, and Republic Act Numbers 314, 587, and 2383.Key Information about Republic Act No. 4136Enactment Date: June 20, 1964.Scope: Known as the ?Land Transportation and Traffic Code,? RA 4136 is a comprehensive law covering various aspects of land transportation, traffic rules, and vehicle registration.Creation of Agencies: This act led to the establishment of ke...<br>"
      ],
      "text/plain": [
       "<IPython.core.display.Markdown object>"
      ]
     },
     "metadata": {},
     "output_type": "display_data"
    },
    {
     "data": {
      "text/markdown": [
       "**Node ID:** bee21284-e441-4e1d-9f4f-d234146c47d8<br>**Similarity:** 0.030679156908665108<br>**Text:** evolution of motor vehicle governance in the Philippines. Its legacy endures in the ongoing efforts to adapt regulations to the changing dynamics of modern transportation.Republic Act No. 3045 in the Philippines was replaced by subsequent legislation due to the evolving needs and complexities of motor vehicle governance. Laws related to traffic, vehicle registration, licensing, and safety measures must adapt to changes in technology, transportation infrastructure, and societal demands. As the automotive landscape evolved, the government deemed it necessary to enact new laws that could address emerging issues, incorporate advancements, and enhance regulatory frameworks.In 1933, Act No. 3992, known as the Revised Motor Vehicle Law, was enacted, amending and updating the provisions of Republic Act No. 3045. This replacement reflected the government?s commitment to staying abreast of developments in the automotive sector and ensuring that regulations remained relevant and effective enou...<br>"
      ],
      "text/plain": [
       "<IPython.core.display.Markdown object>"
      ]
     },
     "metadata": {},
     "output_type": "display_data"
    },
    {
     "data": {
      "text/markdown": [
       "**Node ID:** f65efe8d-409f-4cba-b3f7-5a97a69a613a<br>**Similarity:** 0.030621785881252923<br>**Text:** information about the regulations and guidelines established by the legislation which includes control over the registration and operation of motor vehicles; the licensing of owners, dealers, and chauffeurs; the carrying of lights on all vehicles; and all similar matters.Amendments and EvolutionRepublic Act No. 3992 didn?t just get enacted. For over 30 years, the law existed as aguideline for transport regulation.Over the years though, several amendments were introduced to refine and adapt the legislation to the changing needs of society. Some amendments include Commonwealth Act Numbers 123, 548, 556, and 652, along with Republic Act Numbers 314, 587, and 2383, which played crucial roles in shaping the law. These amendments addressed emerging challenges, technological advancements, and the growing complexities of the motor vehicle landscape before it was repealed by Republic Act 4136, otherwise known as the Land Transportation and Traffic Code in June 1964.Commonwealth Act Numbers 1...<br>"
      ],
      "text/plain": [
       "<IPython.core.display.Markdown object>"
      ]
     },
     "metadata": {},
     "output_type": "display_data"
    },
    {
     "data": {
      "text/markdown": [
       "**Node ID:** f26592d6-6c5d-4db0-ab65-48c70dfe7fd0<br>**Similarity:** 0.029138513513513514<br>**Text:** Motor Vehicles. The Chief of the Division was called the Superintendent of Division of Motor Vehicles. Act No. 3992 was amended by Commonwealth Act Numbers 123, 548, 556, 652 and Republic Act Numbers 314, 587, and 2383. On June 2, 1945, Department Order No. 4 was issued by the Department of Public Works and Highways reorganizing the Division. This took effect after the liberation of the Philippines from the Japanese invasion. In 1947, Executive Order No. 94 was promulgated reorganizing the different executive departments, bureaus and offices. Under Section 82 of this E.O., the Division of Motor Vehicles was upgraded into the Motor Vehicles Office (MVO) with the category of a Bureau. The Chief of the MVO enjoyed the rights and privileges of a Bureau Director. During the fifties and early sixties, our country started undergoing rapid economic development. Industrialization advanced and as a consequence, more and better roads were constructed. The Filipino then realized the need for mo...<br>"
      ],
      "text/plain": [
       "<IPython.core.display.Markdown object>"
      ]
     },
     "metadata": {},
     "output_type": "display_data"
    },
    {
     "data": {
      "text/markdown": [
       "**Node ID:** 48e66f31-a2e1-4208-91f5-4b05c74e941e<br>**Similarity:** 0.016666666666666666<br>**Text:** 1912) cannot cover. Republic Act No. 3045 was born out of this necessity, aiming to streamline laws related to not only motor vehicle traffic, but also motor vehicle registration, licensing, and safety measures.Key Provisions and AmendmentsRA 3045, though old, addressed various facets of motor vehicle governance, including regulations for traffic on Philippine roads, the registration process for vehicles, licensing requirements for operators, and guidelines for nighttime driving. Notably, it paved the way for the establishment of the Automobile Division, initially under the supervision of the Bureau of Public Works.Republic Act No. 3045 also holds paramount importance in the Philippines for several reasons, as it has significantly shaped the regulation of motor vehicles and road safety in the country.Here are some of the key points highlighting the significance of RA 3045:Comprehensive RegulationRA 3045 served as a comprehensive compilation of laws related to motor vehicle traffic, ...<br>"
      ],
      "text/plain": [
       "<IPython.core.display.Markdown object>"
      ]
     },
     "metadata": {},
     "output_type": "display_data"
    },
    {
     "data": {
      "text/markdown": [
       "**Node ID:** e8d175c3-a14c-49a4-9583-743d09240fbd<br>**Similarity:** 0.01639344262295082<br>**Text:** . . REPUBLIC OF THE PHILIPPINES DEPARTMENT OF TRANSPORTATION LAND TRANSPORTATION OFFI East Avenue, Quezon City E-mail Address: ltm:mrri!mm@lt~ .. P -.!irlffi oWebsite: www.lto.gov.ph MEMORANDUM TO: DATE: SUBJECT: All Regional Directors All Assistant Regional Directors All Heads of District/Extension Offices, and, All Employees Concerned of the L TO 11 November 2022 ; U.P .. LAW CENTER -w J lQHtCE of lM NA.llONAL ADMINISlRATlVE ilfGfSH R'. i Adm nisl 31rve Rules   nd Re9u1a11on1 I ' ' RESOLUTION OF BACKLOGS IN MOTOR VEHICLE (MV) RENEWAL REGISTRATION AND MOTOR VEHICLE RELATED MISCELLANEOUS TRANSACTIONS WHEREAS, in compliance with the President's and the Department of Transportation's directive to go full speed ahead in public service delivery and promote an agile bureaucracy that is responsive to the needs of the public.: WHEREAS, it is the declared policy of the State to promote integrity, accountability, proper management of public affairs and public property as well as to establish...<br>"
      ],
      "text/plain": [
       "<IPython.core.display.Markdown object>"
      ]
     },
     "metadata": {},
     "output_type": "display_data"
    },
    {
     "data": {
      "text/markdown": [
       "**Node ID:** 2ded8646-b857-45b8-8084-f0dd5613e7df<br>**Similarity:** 0.016129032258064516<br>**Text:** REPUBLIC OF THE PHILIPPINES. DEPARTMENT OF TRANSPORTATION LAND TRANSPORTATION OFFICE mat Addo Honan gaat  Webs: wn oianush MEMORANDUM To All Regional Directors All Assistant Regional Directors All Regional Operations Chiefs All DistricvExtension Office Chiefs  All Concerned DATE 12 April 2023 SUBJECT PILOT IMPLEMENTATION OF VINTAGE VEHICLE REGISTRATION |in compliance to the Implementing Rules and Regulations (IRR) of Republic Act No. 11698 or the Vintage Vehicle Regulation Act, registration of vintage vehicle shall be initially implemented through a pilot run to be conducted at the New Registration Unit, Operations Division ~ Central Office (CO) commencing on 17 April 2023 in preparation for the eventual nationwide implementation, Related thereto and upon determination that the law may seamlessly be implemented nationwide, a Memorandum shall be consequently issued to such effect. For the time being, please advise owners/stakeholders that they may submit their application for registr...<br>"
      ],
      "text/plain": [
       "<IPython.core.display.Markdown object>"
      ]
     },
     "metadata": {},
     "output_type": "display_data"
    },
    {
     "data": {
      "text/markdown": [
       "**Node ID:** f77d24d2-bd2a-41ab-ae5e-bbc5525265d8<br>**Similarity:** 0.015873015873015872<br>**Text:** A\\\\ ~ f. . -  -  --- . - --- . ....,  - . q:~qf(f{I ,1 Republic of the Philippines Depaitment of Transportation ,  . ' LAND TRANSPORTATION OFFf<t,E --'-.. ~ ~ '] ~ .. The Implementing Rules and Regulations of Republic Act No. 11698 otherwise known as the \"\"Vintage Vehicle Regulation Act\" WHEREAS, Article XIV, Section 14 of the 1987 Constitution declares that the State shall foster the preservation, enrichment, and dynamic evolution of a Filipino culture based on the principle of unity in diversity in a climate of free artistic and intellectual expression; WHEREAS, Section 16 of the same Article of the Constitution also affirms that all the country's artistic and historic wealth constitutes the cultural treasure of the nation and shall be under the protection of the State which may regulate its dispo sition ~ WHEREAS, Republic Act No. 11698 otherwise known as the \"Vintage Vehicle Regulation Act\" (Act) lapsed into law on 15 April 2022 to protect and promote the nation 's heritage by e...<br>"
      ],
      "text/plain": [
       "<IPython.core.display.Markdown object>"
      ]
     },
     "metadata": {},
     "output_type": "display_data"
    },
    {
     "data": {
      "text/markdown": [
       "**Node ID:** bdbb9e32-a35a-4a6c-a608-2eb110e18a86<br>**Similarity:** 0.015873015873015872<br>**Text:** penalties, and the creation of key agencies, providing a more detailed regulatory framework.EvolutionWhile RA 3992 underwent amendments to adapt to changing circumstances, RA 4136 represents a more substantial legislative effort, incorporating a wider array of provisions to address the complexities of modern transportation.SummaryAs a predecessor to the current Land Transportation and Traffic Code (RA 4136), Republic Act No. 3992 has contributed significantly to the regulation of motor vehicles in the Philippines. For over 30 years, RA 3992, along with its amendments, laid the foundation, which later served as the basis for RA 4136 to expand and modernize the regulatory framework, and shape the contemporary landscape of traffic laws in the<br>"
      ],
      "text/plain": [
       "<IPython.core.display.Markdown object>"
      ]
     },
     "metadata": {},
     "output_type": "display_data"
    },
    {
     "data": {
      "text/markdown": [
       "**Node ID:** c019de1a-ceb6-49ef-8f2d-fc7977e6d354<br>**Similarity:** 0.015625<br>**Text:** as far as they apply, the registration and operation of motor vehicles and the licensing of owners, dealers,conductors, drivers and similar matters.? To effectively carry out its mandate, the Land Transportation Commission later became the Land Transportation Office (LTO) and established numerousLTO officesin various parts of the country.Republic Act 3992 vs Republic Act 4136Republic Act No. 3992 and Republic Act No. 4136 are both significant pieces of legislation in<br>"
      ],
      "text/plain": [
       "<IPython.core.display.Markdown object>"
      ]
     },
     "metadata": {},
     "output_type": "display_data"
    },
    {
     "data": {
      "text/markdown": [
       "**Node ID:** cc874dd7-ee48-4ddc-b2d9-a7ac9ce3b521<br>**Similarity:** 0.015384615384615385<br>**Text:** RA 3992: The Revised Motor Vehicle LawRepublic Act No. 3992, also known as ?The Revised Motor Vehicle Law,? holds a significant place in the history of the Philippines?Land Transportation Office (LTO)and its regulations. Enacted on January 1, 1933, this legislation marked a crucial amendment to Republic Act No. 3045, reshaping the governance of motor vehicles within the archipelago.In here, we will explore the key provisions, changes, and subsequent amendments that have shaped the landscape of Philippine traffic laws over the years.Table of ContentsToggleThe Birth of Republic Act No. 3992Key Provisions of RA 3992Division of Motor VehiclesLicensing and RegistrationTraffic Rules and RegulationsPenalties and EnforcementAmendments and RevisionsRelationship to Previous LegislationAmendments and EvolutionCommonwealth Act Numbers 123, 548, 556, and 652Republic Act Numbers 314, 587, and 2383Republic Act 4136Republic Act 3992 vs Republic Act 4136SummaryThe Birth of Republic Act No. 3992At th...<br>"
      ],
      "text/plain": [
       "<IPython.core.display.Markdown object>"
      ]
     },
     "metadata": {},
     "output_type": "display_data"
    },
    {
     "data": {
      "text/markdown": [
       "**Node ID:** e69fb08b-63ac-486c-90fd-04d733f87d69<br>**Similarity:** 0.015151515151515152<br>**Text:** as a significant milestone that laid the groundwork for the current transport laws in the Philippines. Enacted in 1926, RA 3045 served as a comprehensive compilation and amendment of existing laws governing motor vehicle traffic, registration, licensing, and safety measures of old.It was the backdrop of a burgeoning automobile culture in 1926, right when the Philippine government first recognized the need for a consolidated legal framework to regulate motor vehicle activities that then existing RA 2159 (?Motor Vehicle Registration Act of<br>"
      ],
      "text/plain": [
       "<IPython.core.display.Markdown object>"
      ]
     },
     "metadata": {},
     "output_type": "display_data"
    },
    {
     "data": {
      "text/markdown": [
       "**Node ID:** fd1c5565-08d2-4067-9ba8-13c292d99053<br>**Similarity:** 0.014925373134328358<br>**Text:** Motor Vehicles reflected a recognition of the need for more nuanced governance.Foundation for Ongoing RegulationsRA 3045 laid the foundation for subsequent regulations and adjustments in response to the evolving dynamics of motor vehicle use. Its principles continue to influence and guide contemporary efforts to ensure road safety, efficient traffic management, and responsible vehicle operation.Enduring LegacyThe enduring legacy of RA 3045 is reflected in the enduring commitment to structured and safe road governance. Its principles resonate in the ongoing efforts to address new challenges brought about by technological advancements and changes in transportation patterns.More than these benefits, the Republic Act No. 3045 has played a pivotal role in shaping the regulatory landscape of motor vehicles in the Philippines. Its influence is evident in the organized traffic systems, enhanced safety measures, and the establishment of foundational structures that persist in today?s road go...<br>"
      ],
      "text/plain": [
       "<IPython.core.display.Markdown object>"
      ]
     },
     "metadata": {},
     "output_type": "display_data"
    },
    {
     "data": {
      "text/markdown": [
       "**Node ID:** 32ad32da-b38e-451f-a267-05f8e69c4bb2<br>**Similarity:** 0.014084507042253521<br>**Text:** so in 1964, Republic Act No. 4136 or the Land Transportation and Traffic Code came to life to compile all the laws relative to transportation and traffic rules, and to create a land transportation commission.Legacy and Ongoing RelevanceAs we navigate in the present, it?s essential to recognize the enduring impact of Republic Act No. 3045. The legislation, born in a time of emerging automotive culture, set the stage for the<br>"
      ],
      "text/plain": [
       "<IPython.core.display.Markdown object>"
      ]
     },
     "metadata": {},
     "output_type": "display_data"
    },
    {
     "data": {
      "text/markdown": [
       "**Node ID:** 56b06131-42f0-4483-94b9-1cc0d46d62e9<br>**Similarity:** 0.013888888888888888<br>**Text:** Land Transportation Office (LTO) The concept of land transportation system in the Philippines started when our ancestors invented the means of locomotion with the animals in moving people and goods from place to place. Although the means of land transportation during the early days were not as sophisticated as the modern vehicles of today and the roads not as well constructed, the early Filipinos also observed some laws to govern their mobility. These laws were as informal and simple as specifying which animal could be used for certain purposes but these showed that our ancestors had already felt the need to regulate the transportation system. As early as 1910, there were already few motor vehicles seen operating in public highways in Manila and suburbs. Better means of transportation were invented and introduced in the country. Gradually, the Filipinos learned to use cars, trucks, jeeps and other types of vehicles. The means of transportation became better and powerful and the laws...<br>"
      ],
      "text/plain": [
       "<IPython.core.display.Markdown object>"
      ]
     },
     "metadata": {},
     "output_type": "display_data"
    },
    {
     "name": "stdout",
     "output_type": "stream",
     "text": [
      "hit_rate: 1.0\n",
      "mrr: 0.25\n",
      "precision: 0.06666666666666667\n",
      "recall: 1.0\n",
      "ap: 0.25\n",
      "ndcg: 0.43067655807339306\n",
      "\n",
      "\n",
      "Query: What significant event occurred on June 20, 1964, that led to the abolition of the Motor Vehicle Office and the creation of a new regulatory body for land transportation in the Philippines?\n",
      "Metrics: {'hit_rate': 1.0, 'mrr': 0.25, 'precision': 0.06666666666666667, 'recall': 1.0, 'ap': 0.25, 'ndcg': 0.43067655807339306}\n",
      "\n"
     ]
    }
   ],
   "source": [
    "evaluator = HybridRetrievalEvaluator.from_metric_names(\n",
    "    metric_names=metrics,\n",
    "    faiss_retriever=faiss_retriever,\n",
    "    bm25_retriever=bm25_retriever,\n",
    "    Print_Results=True  # Toggle as needed\n",
    ")\n",
    "\n",
    "sample_id, sample_query = list(qa_dataset.queries.items())[1]\n",
    "sample_expected = qa_dataset.relevant_docs[sample_id]\n",
    "\n",
    "print(\"Sample Problem:\")\n",
    "print(f\"sample id: {sample_id}, text: {sample_query}\")\n",
    "print(f\"sample exp: {sample_expected}\")\n",
    "\n",
    "print(\"\\nRetrieval results:\")\n",
    "\n",
    "result = await evaluator.aevaluate(\n",
    "    query=sample_query,\n",
    "    expected_ids=sample_expected\n",
    ")\n",
    "\n",
    "print(\"\\n\")\n",
    "print(result)"
   ]
  },
  {
   "cell_type": "code",
   "execution_count": 23,
   "id": "e6ea2b0c",
   "metadata": {},
   "outputs": [
    {
     "name": "stdout",
     "output_type": "stream",
     "text": [
      "hit_rate: 1.0\n",
      "mrr: 0.3333333333333333\n",
      "precision: 0.06666666666666667\n",
      "recall: 1.0\n",
      "ap: 0.3333333333333333\n",
      "ndcg: 0.5\n",
      "hit_rate: 1.0\n",
      "mrr: 0.25\n",
      "precision: 0.06666666666666667\n",
      "recall: 1.0\n",
      "ap: 0.25\n",
      "ndcg: 0.43067655807339306\n",
      "hit_rate: 1.0\n",
      "mrr: 0.3333333333333333\n",
      "precision: 0.06666666666666667\n",
      "recall: 1.0\n",
      "ap: 0.3333333333333333\n",
      "ndcg: 0.5\n",
      "hit_rate: 1.0\n",
      "mrr: 0.5\n",
      "precision: 0.06666666666666667\n",
      "recall: 1.0\n",
      "ap: 0.5\n",
      "ndcg: 0.6309297535714575\n",
      "hit_rate: 0.0\n",
      "mrr: 0.0\n",
      "precision: 0.0\n",
      "recall: 0.0\n",
      "ap: 0.0\n",
      "ndcg: 0.0\n",
      "hit_rate: 1.0\n",
      "mrr: 0.5\n",
      "precision: 0.06666666666666667\n",
      "recall: 1.0\n",
      "ap: 0.5\n",
      "ndcg: 0.6309297535714575\n",
      "hit_rate: 0.0\n",
      "mrr: 0.0\n",
      "precision: 0.0\n",
      "recall: 0.0\n",
      "ap: 0.0\n",
      "ndcg: 0.0\n",
      "hit_rate: 1.0\n",
      "mrr: 0.5\n",
      "precision: 0.06666666666666667\n",
      "recall: 1.0\n",
      "ap: 0.5\n",
      "ndcg: 0.6309297535714575\n",
      "hit_rate: 1.0\n",
      "mrr: 0.3333333333333333\n",
      "precision: 0.06666666666666667\n",
      "recall: 1.0\n",
      "ap: 0.3333333333333333\n",
      "ndcg: 0.5\n",
      "hit_rate: 1.0\n",
      "mrr: 0.3333333333333333\n",
      "precision: 0.06666666666666667\n",
      "recall: 1.0\n",
      "ap: 0.3333333333333333\n",
      "ndcg: 0.5\n",
      "hit_rate: 0.0\n",
      "mrr: 0.0\n",
      "precision: 0.0\n",
      "recall: 0.0\n",
      "ap: 0.0\n",
      "ndcg: 0.0\n",
      "hit_rate: 1.0\n",
      "mrr: 0.16666666666666666\n",
      "precision: 0.06666666666666667\n",
      "recall: 1.0\n",
      "ap: 0.16666666666666666\n",
      "ndcg: 0.3562071871080222\n",
      "hit_rate: 0.0\n",
      "mrr: 0.0\n",
      "precision: 0.0\n",
      "recall: 0.0\n",
      "ap: 0.0\n",
      "ndcg: 0.0\n",
      "hit_rate: 0.0\n",
      "mrr: 0.0\n",
      "precision: 0.0\n",
      "recall: 0.0\n",
      "ap: 0.0\n",
      "ndcg: 0.0\n",
      "hit_rate: 1.0\n",
      "mrr: 1.0\n",
      "precision: 0.06666666666666667\n",
      "recall: 1.0\n",
      "ap: 1.0\n",
      "ndcg: 1.0\n",
      "hit_rate: 1.0\n",
      "mrr: 0.5\n",
      "precision: 0.06666666666666667\n",
      "recall: 1.0\n",
      "ap: 0.5\n",
      "ndcg: 0.6309297535714575\n",
      "hit_rate: 1.0\n",
      "mrr: 0.07692307692307693\n",
      "precision: 0.06666666666666667\n",
      "recall: 1.0\n",
      "ap: 0.07692307692307693\n",
      "ndcg: 0.26264953503719357\n",
      "hit_rate: 1.0\n",
      "mrr: 1.0\n",
      "precision: 0.06666666666666667\n",
      "recall: 1.0\n",
      "ap: 1.0\n",
      "ndcg: 1.0\n",
      "hit_rate: 1.0\n",
      "mrr: 0.16666666666666666\n",
      "precision: 0.06666666666666667\n",
      "recall: 1.0\n",
      "ap: 0.16666666666666666\n",
      "ndcg: 0.3562071871080222\n",
      "hit_rate: 1.0\n",
      "mrr: 0.5\n",
      "precision: 0.06666666666666667\n",
      "recall: 1.0\n",
      "ap: 0.5\n",
      "ndcg: 0.6309297535714575\n",
      "hit_rate: 1.0\n",
      "mrr: 0.1111111111111111\n",
      "precision: 0.06666666666666667\n",
      "recall: 1.0\n",
      "ap: 0.1111111111111111\n",
      "ndcg: 0.3010299956639812\n",
      "hit_rate: 0.0\n",
      "mrr: 0.0\n",
      "precision: 0.0\n",
      "recall: 0.0\n",
      "ap: 0.0\n",
      "ndcg: 0.0\n",
      "hit_rate: 1.0\n",
      "mrr: 0.5\n",
      "precision: 0.06666666666666667\n",
      "recall: 1.0\n",
      "ap: 0.5\n",
      "ndcg: 0.6309297535714575\n",
      "hit_rate: 0.0\n",
      "mrr: 0.0\n",
      "precision: 0.0\n",
      "recall: 0.0\n",
      "ap: 0.0\n",
      "ndcg: 0.0\n",
      "hit_rate: 1.0\n",
      "mrr: 0.125\n",
      "precision: 0.06666666666666667\n",
      "recall: 1.0\n",
      "ap: 0.125\n",
      "ndcg: 0.31546487678572877\n",
      "hit_rate: 1.0\n",
      "mrr: 1.0\n",
      "precision: 0.06666666666666667\n",
      "recall: 1.0\n",
      "ap: 1.0\n",
      "ndcg: 1.0\n",
      "hit_rate: 1.0\n",
      "mrr: 0.5\n",
      "precision: 0.06666666666666667\n",
      "recall: 1.0\n",
      "ap: 0.5\n",
      "ndcg: 0.6309297535714575\n",
      "hit_rate: 1.0\n",
      "mrr: 0.5\n",
      "precision: 0.06666666666666667\n",
      "recall: 1.0\n",
      "ap: 0.5\n",
      "ndcg: 0.6309297535714575\n",
      "hit_rate: 1.0\n",
      "mrr: 0.5\n",
      "precision: 0.06666666666666667\n",
      "recall: 1.0\n",
      "ap: 0.5\n",
      "ndcg: 0.6309297535714575\n",
      "hit_rate: 0.0\n",
      "mrr: 0.0\n",
      "precision: 0.0\n",
      "recall: 0.0\n",
      "ap: 0.0\n",
      "ndcg: 0.0\n",
      "hit_rate: 1.0\n",
      "mrr: 0.5\n",
      "precision: 0.06666666666666667\n",
      "recall: 1.0\n",
      "ap: 0.5\n",
      "ndcg: 0.6309297535714575\n",
      "hit_rate: 1.0\n",
      "mrr: 0.25\n",
      "precision: 0.06666666666666667\n",
      "recall: 1.0\n",
      "ap: 0.25\n",
      "ndcg: 0.43067655807339306\n",
      "hit_rate: 1.0\n",
      "mrr: 0.25\n",
      "precision: 0.06666666666666667\n",
      "recall: 1.0\n",
      "ap: 0.25\n",
      "ndcg: 0.43067655807339306\n",
      "hit_rate: 0.0\n",
      "mrr: 0.0\n",
      "precision: 0.0\n",
      "recall: 0.0\n",
      "ap: 0.0\n",
      "ndcg: 0.0\n",
      "hit_rate: 1.0\n",
      "mrr: 0.5\n",
      "precision: 0.06666666666666667\n",
      "recall: 1.0\n",
      "ap: 0.5\n",
      "ndcg: 0.6309297535714575\n",
      "hit_rate: 1.0\n",
      "mrr: 0.3333333333333333\n",
      "precision: 0.06666666666666667\n",
      "recall: 1.0\n",
      "ap: 0.3333333333333333\n",
      "ndcg: 0.5\n",
      "hit_rate: 1.0\n",
      "mrr: 1.0\n",
      "precision: 0.06666666666666667\n",
      "recall: 1.0\n",
      "ap: 1.0\n",
      "ndcg: 1.0\n",
      "hit_rate: 1.0\n",
      "mrr: 1.0\n",
      "precision: 0.06666666666666667\n",
      "recall: 1.0\n",
      "ap: 1.0\n",
      "ndcg: 1.0\n",
      "hit_rate: 1.0\n",
      "mrr: 0.3333333333333333\n",
      "precision: 0.06666666666666667\n",
      "recall: 1.0\n",
      "ap: 0.3333333333333333\n",
      "ndcg: 0.5\n",
      "hit_rate: 1.0\n",
      "mrr: 1.0\n",
      "precision: 0.06666666666666667\n",
      "recall: 1.0\n",
      "ap: 1.0\n",
      "ndcg: 1.0\n",
      "hit_rate: 1.0\n",
      "mrr: 0.5\n",
      "precision: 0.06666666666666667\n",
      "recall: 1.0\n",
      "ap: 0.5\n",
      "ndcg: 0.6309297535714575\n",
      "hit_rate: 1.0\n",
      "mrr: 0.3333333333333333\n",
      "precision: 0.06666666666666667\n",
      "recall: 1.0\n",
      "ap: 0.3333333333333333\n",
      "ndcg: 0.5\n",
      "hit_rate: 1.0\n",
      "mrr: 1.0\n",
      "precision: 0.06666666666666667\n",
      "recall: 1.0\n",
      "ap: 1.0\n",
      "ndcg: 1.0\n",
      "hit_rate: 1.0\n",
      "mrr: 1.0\n",
      "precision: 0.06666666666666667\n",
      "recall: 1.0\n",
      "ap: 1.0\n",
      "ndcg: 1.0\n",
      "hit_rate: 0.0\n",
      "mrr: 0.0\n",
      "precision: 0.0\n",
      "recall: 0.0\n",
      "ap: 0.0\n",
      "ndcg: 0.0\n",
      "hit_rate: 0.0\n",
      "mrr: 0.0\n",
      "precision: 0.0\n",
      "recall: 0.0\n",
      "ap: 0.0\n",
      "ndcg: 0.0\n",
      "hit_rate: 1.0\n",
      "mrr: 1.0\n",
      "precision: 0.06666666666666667\n",
      "recall: 1.0\n",
      "ap: 1.0\n",
      "ndcg: 1.0\n",
      "hit_rate: 0.0\n",
      "mrr: 0.0\n",
      "precision: 0.0\n",
      "recall: 0.0\n",
      "ap: 0.0\n",
      "ndcg: 0.0\n",
      "hit_rate: 1.0\n",
      "mrr: 0.5\n",
      "precision: 0.06666666666666667\n",
      "recall: 1.0\n",
      "ap: 0.5\n",
      "ndcg: 0.6309297535714575\n",
      "hit_rate: 1.0\n",
      "mrr: 0.5\n",
      "precision: 0.06666666666666667\n",
      "recall: 1.0\n",
      "ap: 0.5\n",
      "ndcg: 0.6309297535714575\n",
      "hit_rate: 1.0\n",
      "mrr: 1.0\n",
      "precision: 0.06666666666666667\n",
      "recall: 1.0\n",
      "ap: 1.0\n",
      "ndcg: 1.0\n",
      "hit_rate: 1.0\n",
      "mrr: 0.2\n",
      "precision: 0.06666666666666667\n",
      "recall: 1.0\n",
      "ap: 0.2\n",
      "ndcg: 0.38685280723454163\n",
      "hit_rate: 1.0\n",
      "mrr: 0.3333333333333333\n",
      "precision: 0.06666666666666667\n",
      "recall: 1.0\n",
      "ap: 0.3333333333333333\n",
      "ndcg: 0.5\n",
      "hit_rate: 1.0\n",
      "mrr: 0.3333333333333333\n",
      "precision: 0.06666666666666667\n",
      "recall: 1.0\n",
      "ap: 0.3333333333333333\n",
      "ndcg: 0.5\n",
      "hit_rate: 1.0\n",
      "mrr: 0.3333333333333333\n",
      "precision: 0.06666666666666667\n",
      "recall: 1.0\n",
      "ap: 0.3333333333333333\n",
      "ndcg: 0.5\n",
      "hit_rate: 1.0\n",
      "mrr: 0.07142857142857142\n",
      "precision: 0.06666666666666667\n",
      "recall: 1.0\n",
      "ap: 0.07142857142857142\n",
      "ndcg: 0.2559580248098155\n",
      "hit_rate: 1.0\n",
      "mrr: 0.25\n",
      "precision: 0.06666666666666667\n",
      "recall: 1.0\n",
      "ap: 0.25\n",
      "ndcg: 0.43067655807339306\n",
      "hit_rate: 1.0\n",
      "mrr: 0.2\n",
      "precision: 0.06666666666666667\n",
      "recall: 1.0\n",
      "ap: 0.2\n",
      "ndcg: 0.38685280723454163\n",
      "hit_rate: 1.0\n",
      "mrr: 0.5\n",
      "precision: 0.06666666666666667\n",
      "recall: 1.0\n",
      "ap: 0.5\n",
      "ndcg: 0.6309297535714575\n",
      "hit_rate: 1.0\n",
      "mrr: 0.3333333333333333\n",
      "precision: 0.06666666666666667\n",
      "recall: 1.0\n",
      "ap: 0.3333333333333333\n",
      "ndcg: 0.5\n"
     ]
    },
    {
     "data": {
      "text/html": [
       "<div>\n",
       "<style scoped>\n",
       "    .dataframe tbody tr th:only-of-type {\n",
       "        vertical-align: middle;\n",
       "    }\n",
       "\n",
       "    .dataframe tbody tr th {\n",
       "        vertical-align: top;\n",
       "    }\n",
       "\n",
       "    .dataframe thead th {\n",
       "        text-align: right;\n",
       "    }\n",
       "</style>\n",
       "<table border=\"1\" class=\"dataframe\">\n",
       "  <thead>\n",
       "    <tr style=\"text-align: right;\">\n",
       "      <th></th>\n",
       "      <th>retrievers</th>\n",
       "      <th>hit_rate</th>\n",
       "      <th>mrr</th>\n",
       "      <th>precision</th>\n",
       "      <th>recall</th>\n",
       "      <th>ap</th>\n",
       "      <th>ndcg</th>\n",
       "    </tr>\n",
       "  </thead>\n",
       "  <tbody>\n",
       "    <tr>\n",
       "      <th>0</th>\n",
       "      <td>top-2 eval</td>\n",
       "      <td>0.8</td>\n",
       "      <td>0.388074</td>\n",
       "      <td>0.053333</td>\n",
       "      <td>0.8</td>\n",
       "      <td>0.388074</td>\n",
       "      <td>0.488465</td>\n",
       "    </tr>\n",
       "  </tbody>\n",
       "</table>\n",
       "</div>"
      ],
      "text/plain": [
       "   retrievers  hit_rate       mrr  precision  recall        ap      ndcg\n",
       "0  top-2 eval       0.8  0.388074   0.053333     0.8  0.388074  0.488465"
      ]
     },
     "execution_count": 23,
     "metadata": {},
     "output_type": "execute_result"
    }
   ],
   "source": [
    "evaluator = HybridRetrievalEvaluator.from_metric_names(\n",
    "    metric_names=metrics,\n",
    "    faiss_retriever=faiss_retriever,\n",
    "    bm25_retriever=bm25_retriever,\n",
    "    Print_Results=False  \n",
    ")\n",
    "\n",
    "eval_results = await evaluator.aevaluate_dataset(qa_dataset)\n",
    "\n",
    "def display_results(name, eval_results):\n",
    "    \"\"\"Display results from evaluate.\"\"\"\n",
    "\n",
    "    metric_dicts = []\n",
    "    for eval_result in eval_results:\n",
    "        metric_dict = eval_result.metric_vals_dict\n",
    "        metric_dicts.append(metric_dict)\n",
    "\n",
    "    full_df = pd.DataFrame(metric_dicts)\n",
    "\n",
    "    columns = {\n",
    "        \"retrievers\": [name],\n",
    "        **{k: [full_df[k].mean()] for k in metrics},\n",
    "    }\n",
    "\n",
    "    metric_df = pd.DataFrame(columns)\n",
    "\n",
    "    return metric_df\n",
    "\n",
    "display_results(\"top-2 eval\", eval_results)\n"
   ]
  },
  {
   "cell_type": "markdown",
   "id": "eaae0e11-d7d3-4713-8889-92c9a3f207f7",
   "metadata": {},
   "source": [
    "# 6. Post Retrieval"
   ]
  },
  {
   "cell_type": "markdown",
   "id": "43c29979-ba5f-4d9d-84f1-3252d9292b6d",
   "metadata": {},
   "source": [
    "## 6.A Summarization"
   ]
  },
  {
   "cell_type": "code",
   "execution_count": 24,
   "id": "a7e39ff7-4dec-4b10-8aee-b51d26e51fd8",
   "metadata": {},
   "outputs": [],
   "source": [
    "def summarize_each_chunk(nodes, client, query, model=\"llama3.1:8b\", parent=False):\n",
    "    if parent:\n",
    "        chunks = [doc.text for doc in nodes]\n",
    "    else:\n",
    "        chunks = [doc.node.text for doc in nodes]\n",
    "    summaries = []\n",
    "    \n",
    "    for i, chunk in enumerate(chunks):\n",
    "        prompt = f\"\"\"\n",
    "        Summarize the following text in one concise paragraph, focusing on key points relevant to the query: \"{query}\".\n",
    "        \n",
    "        - Emphasize information directly related to the query.\n",
    "        - Exclude unrelated, redundant, or speculative details.\n",
    "        - Do NOT introduce new information or answer the query itself. \n",
    "        \n",
    "        Text:\n",
    "        {chunk}\n",
    "        \n",
    "        Summary:\n",
    "        \"\"\"\n",
    "        \n",
    "        response = client.generate(model=model, prompt=prompt)\n",
    "        summary = response['response'].strip()\n",
    "        summaries.append(summary)\n",
    "\n",
    "    return summaries"
   ]
  },
  {
   "cell_type": "markdown",
   "id": "2e78c30d-7d4e-4ec2-b3fe-ecb64fadf88a",
   "metadata": {},
   "source": [
    "# 6.B Evaluation Generation"
   ]
  },
  {
   "cell_type": "code",
   "execution_count": 25,
   "id": "e11745b3-18d5-43cb-bb1d-c241c662d89d",
   "metadata": {},
   "outputs": [],
   "source": [
    "def generate_response_with_notice(summaries, query, client, model=\"llama3.3\"):\n",
    "    # Combine summaries into context block\n",
    "    context = \"\\n\".join(summaries)\n",
    "    \n",
    "    # Create prompt to answer based on summarized text\n",
    "    prompt = f\"\"\"\n",
    "    Use the following summarized information to answer the query accurately and concisely. \n",
    "    DO NOT USE BACKGROUND KNOWLEDGE OUTSIDE THE CONTEXT PROVIDED.\n",
    "    If the information is not sufficient to fully address the query, respond ONLY with:\n",
    "    \"The available information is insufficient to provide a complete answer to this query.\"\n",
    "\n",
    "    Summarized Context:\n",
    "    {context}\n",
    "    \n",
    "    Query:\n",
    "    {query}\n",
    "    \n",
    "    Response:\n",
    "    \"\"\"\n",
    "    \n",
    "    # Send the prompt to Ollama\n",
    "    response = client.generate(\n",
    "        model=model,\n",
    "        prompt=prompt\n",
    "    )\n",
    "    \n",
    "    return response['response'].strip()"
   ]
  },
  {
   "cell_type": "markdown",
   "id": "e075a9f0-ea97-4d1e-b9f1-3b664b2196f8",
   "metadata": {},
   "source": [
    "# 7. Querying"
   ]
  },
  {
   "cell_type": "markdown",
   "id": "04693932-b45a-4bde-bf6c-00a7633822aa",
   "metadata": {},
   "source": [
    "## 7.A Query Transforms"
   ]
  },
  {
   "cell_type": "code",
   "execution_count": null,
   "id": "c4bed9fb",
   "metadata": {},
   "outputs": [],
   "source": []
  },
  {
   "cell_type": "markdown",
   "id": "aee70e7b-a863-47c7-898a-78977ce5473f",
   "metadata": {},
   "source": [
    "# 8. Query Generation"
   ]
  },
  {
   "cell_type": "code",
   "execution_count": 26,
   "id": "52a8f235-2430-4793-b0b4-17efd7f315a6",
   "metadata": {},
   "outputs": [],
   "source": [
    "docstore = {}\n",
    "\n",
    "# Store documents using full metadata as the key\n",
    "for doc in documents:\n",
    "    key = tuple(doc.metadata.items())  # Convert metadata to tuple for hashable key\n",
    "    docstore[key] = doc"
   ]
  },
  {
   "cell_type": "code",
   "execution_count": 27,
   "id": "cff1cba4-bd05-4429-a397-896f9e2dedfb",
   "metadata": {},
   "outputs": [],
   "source": [
    "def get_document_by_chunk_metadata(chunk_node):\n",
    "    # Convert chunk metadata to tuple for matching\n",
    "    metadata_key = tuple(chunk_node.metadata.items())\n",
    "\n",
    "    # Retrieve document from docstore\n",
    "    document = docstore.get(metadata_key)\n",
    "    return document"
   ]
  },
  {
   "cell_type": "code",
   "execution_count": 28,
   "id": "723b3e53-3f24-4280-ae9c-0e0ad7d57a68",
   "metadata": {},
   "outputs": [],
   "source": [
    "def remove_duplicate_documents(doc_list):\n",
    "    seen_ids = set()\n",
    "    unique_docs = []\n",
    "\n",
    "    for doc in doc_list:\n",
    "        if doc.doc_id not in seen_ids:\n",
    "            seen_ids.add(doc.doc_id)\n",
    "            unique_docs.append(doc)\n",
    "\n",
    "    return unique_docs"
   ]
  },
  {
   "cell_type": "code",
   "execution_count": 29,
   "id": "dcebca00-e74b-4b1f-a874-c00ce9dc6161",
   "metadata": {},
   "outputs": [],
   "source": [
    "def gen_query(query, top_k, client, mode='dense', summary=False, model=\"llama3.1:8b\", chunks_only=True):\n",
    "    response = client.embeddings(prompt=query, model=\"mxbai-embed-large\")\n",
    "    query_embedding = response[\"embedding\"]\n",
    "\n",
    "    top_k_docs = faiss_retriever._retrieve(query_embedding, top_k=top_k)\n",
    "\n",
    "    bm25_retriever = BM25Retriever.from_defaults(\n",
    "    nodes=nodes,\n",
    "    similarity_top_k=top_k,\n",
    "    stemmer=Stemmer.Stemmer(\"english\"),\n",
    "    language=\"english\",\n",
    "    )\n",
    "    retrieved_nodes = bm25_retriever.retrieve(query)\n",
    "\n",
    "    results = {'faiss': top_k_docs, 'bm25':retrieved_nodes}\n",
    "    ranked_results = hybrid_embedding(results, top_k=top_k)\n",
    "\n",
    "    if mode == 'dense':\n",
    "        print('using FAISS')\n",
    "        ans_nodes =top_k_docs\n",
    "    elif mode == 'sparse':\n",
    "        print('using BM25')\n",
    "        ans_nodes = retrieved_nodes\n",
    "    else:\n",
    "        print('using Hybrid')\n",
    "        ans_nodes = ranked_results\n",
    "\n",
    "    parent_flag = True\n",
    "    context = set([get_document_by_chunk_metadata(docs).text for docs in ans_nodes])\n",
    "    if chunks_only:\n",
    "        parent_flag = False\n",
    "        print('using chunks only')\n",
    "        context = [docs.node.text for docs in ans_nodes]\n",
    "        \n",
    "    if summary:\n",
    "        print('using summaries')\n",
    "        context_nodes = remove_duplicate_documents([get_document_by_chunk_metadata(docs) for docs in ans_nodes])\n",
    "\n",
    "        if chunks_only:\n",
    "            context_nodes=ans_nodes\n",
    "        summaries = summarize_each_chunk(context_nodes, client, model='llama3.1:8b', query=query,parent=parent_flag)\n",
    "        context = summaries\n",
    "\n",
    "    answer = generate_response_with_notice(context, query, client, model=model)\n",
    "\n",
    "    # Format the references\n",
    "    references = []\n",
    "    for i, doc in enumerate(ranked_results[:top_k], start=1):\n",
    "        metadata = doc.metadata\n",
    "        source_info = f\"Source {i}: {metadata['title']} (Page {metadata['page']}, Folder: {metadata['folder']})\"\n",
    "        references.append(source_info)\n",
    "\n",
    "    return answer, \"\\n\".join(references), \"\\n\".join(context)"
   ]
  },
  {
   "cell_type": "markdown",
   "id": "00842045-d62a-4b01-b306-f637856c769c",
   "metadata": {},
   "source": [
    "# 9. TDC Exam Evaluation"
   ]
  },
  {
   "cell_type": "code",
   "execution_count": 30,
   "id": "719d3b48-6639-423f-957d-82cda52de114",
   "metadata": {},
   "outputs": [],
   "source": [
    "# Generate prompts dynamically\n",
    "def generate_prompt(row):\n",
    "    options = []\n",
    "    for choice in ['A', 'B', 'C', 'D', 'E']:\n",
    "        # Check for NaN or blank values\n",
    "        if pd.notna(row[choice]) and row[choice] != '':\n",
    "            options.append(f\"{choice}. {row[choice]}\")\n",
    "    \n",
    "    # Construct the prompt with few-shot examples\n",
    "    prompt = f\"\\nActual Question: {row['Question']}\\n\" + \"\\n\".join(options)\n",
    "    prompt += \"\\nPlease answer only in letters and put them inside a bracket '[]'. If the question contains the statement 'Check all that apply' then add comma separator if there are multiple answers ONLY IF ALLOWED.\"\n",
    "    \n",
    "    return prompt"
   ]
  },
  {
   "cell_type": "code",
   "execution_count": 31,
   "id": "b16ce73b-abc7-460c-b15b-f39bc5209786",
   "metadata": {},
   "outputs": [
    {
     "data": {
      "text/html": [
       "<div>\n",
       "<style scoped>\n",
       "    .dataframe tbody tr th:only-of-type {\n",
       "        vertical-align: middle;\n",
       "    }\n",
       "\n",
       "    .dataframe tbody tr th {\n",
       "        vertical-align: top;\n",
       "    }\n",
       "\n",
       "    .dataframe thead th {\n",
       "        text-align: right;\n",
       "    }\n",
       "</style>\n",
       "<table border=\"1\" class=\"dataframe\">\n",
       "  <thead>\n",
       "    <tr style=\"text-align: right;\">\n",
       "      <th></th>\n",
       "      <th>Question</th>\n",
       "      <th>A</th>\n",
       "      <th>B</th>\n",
       "      <th>C</th>\n",
       "      <th>D</th>\n",
       "      <th>E</th>\n",
       "      <th>Answer</th>\n",
       "      <th>Prompt</th>\n",
       "    </tr>\n",
       "  </thead>\n",
       "  <tbody>\n",
       "    <tr>\n",
       "      <th>0</th>\n",
       "      <td>What should you do in case your vehicle breaks...</td>\n",
       "      <td>Open your trunk and hood</td>\n",
       "      <td>Stand on the expressway and flag down passing ...</td>\n",
       "      <td>Call for help using a mobile phone or an expre...</td>\n",
       "      <td>Park as far to the right as possible</td>\n",
       "      <td>Put your hazard warning light on</td>\n",
       "      <td>A, C, D, E</td>\n",
       "      <td>\\nActual Question: What should you do in case ...</td>\n",
       "    </tr>\n",
       "    <tr>\n",
       "      <th>1</th>\n",
       "      <td>What will happen when your front tire blows out?</td>\n",
       "      <td>The back end will sway towards the side of the...</td>\n",
       "      <td>The back end will sway away from the blowout</td>\n",
       "      <td>The front end will pull towards the side of th...</td>\n",
       "      <td>The front end will pull to the opposite side o...</td>\n",
       "      <td>NaN</td>\n",
       "      <td>C</td>\n",
       "      <td>\\nActual Question: What will happen when your ...</td>\n",
       "    </tr>\n",
       "    <tr>\n",
       "      <th>2</th>\n",
       "      <td>What should you do when an ambulance comes up ...</td>\n",
       "      <td>Stop as soon as you can</td>\n",
       "      <td>Maintain your speed, let the ambulance driver ...</td>\n",
       "      <td>Speed up so that you don't hold the ambulance</td>\n",
       "      <td>Pull over to the right and slow down or even s...</td>\n",
       "      <td>NaN</td>\n",
       "      <td>D</td>\n",
       "      <td>\\nActual Question: What should you do when an ...</td>\n",
       "    </tr>\n",
       "    <tr>\n",
       "      <th>3</th>\n",
       "      <td>While driving the hood of your car lifts up bl...</td>\n",
       "      <td>Look through the gap underneath the hood or ou...</td>\n",
       "      <td>Brake suddenly so you don't leave the road</td>\n",
       "      <td>Pull to the side of the road and refasten the ...</td>\n",
       "      <td>Turn your headlights on and look out of the si...</td>\n",
       "      <td>NaN</td>\n",
       "      <td>A,C</td>\n",
       "      <td>\\nActual Question: While driving the hood of y...</td>\n",
       "    </tr>\n",
       "    <tr>\n",
       "      <th>4</th>\n",
       "      <td>In case of an accident, the first duty of the ...</td>\n",
       "      <td>pick-up the injured person and take him to the...</td>\n",
       "      <td>report the accident to the nearest hospital</td>\n",
       "      <td>report the accident to the nearest police station</td>\n",
       "      <td>NaN</td>\n",
       "      <td>NaN</td>\n",
       "      <td>A</td>\n",
       "      <td>\\nActual Question: In case of an accident, the...</td>\n",
       "    </tr>\n",
       "  </tbody>\n",
       "</table>\n",
       "</div>"
      ],
      "text/plain": [
       "                                            Question  \\\n",
       "0  What should you do in case your vehicle breaks...   \n",
       "1   What will happen when your front tire blows out?   \n",
       "2  What should you do when an ambulance comes up ...   \n",
       "3  While driving the hood of your car lifts up bl...   \n",
       "4  In case of an accident, the first duty of the ...   \n",
       "\n",
       "                                                   A  \\\n",
       "0                           Open your trunk and hood   \n",
       "1  The back end will sway towards the side of the...   \n",
       "2                            Stop as soon as you can   \n",
       "3  Look through the gap underneath the hood or ou...   \n",
       "4  pick-up the injured person and take him to the...   \n",
       "\n",
       "                                                   B  \\\n",
       "0  Stand on the expressway and flag down passing ...   \n",
       "1       The back end will sway away from the blowout   \n",
       "2  Maintain your speed, let the ambulance driver ...   \n",
       "3         Brake suddenly so you don't leave the road   \n",
       "4        report the accident to the nearest hospital   \n",
       "\n",
       "                                                   C  \\\n",
       "0  Call for help using a mobile phone or an expre...   \n",
       "1  The front end will pull towards the side of th...   \n",
       "2      Speed up so that you don't hold the ambulance   \n",
       "3  Pull to the side of the road and refasten the ...   \n",
       "4  report the accident to the nearest police station   \n",
       "\n",
       "                                                   D  \\\n",
       "0               Park as far to the right as possible   \n",
       "1  The front end will pull to the opposite side o...   \n",
       "2  Pull over to the right and slow down or even s...   \n",
       "3  Turn your headlights on and look out of the si...   \n",
       "4                                                NaN   \n",
       "\n",
       "                                  E      Answer  \\\n",
       "0  Put your hazard warning light on  A, C, D, E   \n",
       "1                               NaN           C   \n",
       "2                               NaN           D   \n",
       "3                               NaN         A,C   \n",
       "4                               NaN           A   \n",
       "\n",
       "                                              Prompt  \n",
       "0  \\nActual Question: What should you do in case ...  \n",
       "1  \\nActual Question: What will happen when your ...  \n",
       "2  \\nActual Question: What should you do when an ...  \n",
       "3  \\nActual Question: While driving the hood of y...  \n",
       "4  \\nActual Question: In case of an accident, the...  "
      ]
     },
     "metadata": {},
     "output_type": "display_data"
    }
   ],
   "source": [
    "# Load the Excel file\n",
    "file_path = '/mnt/c/Users/Jeryl Salas/Documents/AI 351/Project/LTO_EXAM.csv'\n",
    "df = pd.read_csv(file_path)\n",
    "df['Prompt'] = df.apply(generate_prompt, axis=1)\n",
    "display(df.head())"
   ]
  },
  {
   "cell_type": "code",
   "execution_count": 32,
   "id": "9450c855-2480-4843-9b09-8d0af0a917a7",
   "metadata": {},
   "outputs": [
    {
     "name": "stderr",
     "output_type": "stream",
     "text": [
      "  0%|          | 0/60 [00:00<?, ?it/s]"
     ]
    },
    {
     "name": "stdout",
     "output_type": "stream",
     "text": [
      "using FAISS\n",
      "using chunks only\n"
     ]
    },
    {
     "name": "stderr",
     "output_type": "stream",
     "text": [
      "  2%|▏         | 1/60 [00:22<21:57, 22.32s/it]"
     ]
    },
    {
     "name": "stdout",
     "output_type": "stream",
     "text": [
      "using FAISS\n",
      "using chunks only\n"
     ]
    },
    {
     "name": "stderr",
     "output_type": "stream",
     "text": [
      "  3%|▎         | 2/60 [00:46<22:44, 23.52s/it]"
     ]
    },
    {
     "name": "stdout",
     "output_type": "stream",
     "text": [
      "using FAISS\n",
      "using chunks only\n"
     ]
    },
    {
     "name": "stderr",
     "output_type": "stream",
     "text": [
      "  5%|▌         | 3/60 [01:10<22:25, 23.61s/it]"
     ]
    },
    {
     "name": "stdout",
     "output_type": "stream",
     "text": [
      "using FAISS\n",
      "using chunks only\n"
     ]
    },
    {
     "name": "stderr",
     "output_type": "stream",
     "text": [
      "  7%|▋         | 4/60 [01:38<23:36, 25.29s/it]"
     ]
    },
    {
     "name": "stdout",
     "output_type": "stream",
     "text": [
      "using FAISS\n",
      "using chunks only\n"
     ]
    },
    {
     "name": "stderr",
     "output_type": "stream",
     "text": [
      "  8%|▊         | 5/60 [02:05<23:43, 25.88s/it]"
     ]
    },
    {
     "name": "stdout",
     "output_type": "stream",
     "text": [
      "using FAISS\n",
      "using chunks only\n"
     ]
    },
    {
     "name": "stderr",
     "output_type": "stream",
     "text": [
      " 10%|█         | 6/60 [02:32<23:34, 26.20s/it]"
     ]
    },
    {
     "name": "stdout",
     "output_type": "stream",
     "text": [
      "using FAISS\n",
      "using chunks only\n"
     ]
    },
    {
     "name": "stderr",
     "output_type": "stream",
     "text": [
      " 12%|█▏        | 7/60 [02:57<22:59, 26.03s/it]"
     ]
    },
    {
     "name": "stdout",
     "output_type": "stream",
     "text": [
      "using FAISS\n",
      "using chunks only\n"
     ]
    },
    {
     "name": "stderr",
     "output_type": "stream",
     "text": [
      " 13%|█▎        | 8/60 [03:24<22:46, 26.29s/it]"
     ]
    },
    {
     "name": "stdout",
     "output_type": "stream",
     "text": [
      "using FAISS\n",
      "using chunks only\n"
     ]
    },
    {
     "name": "stderr",
     "output_type": "stream",
     "text": [
      " 15%|█▌        | 9/60 [03:50<22:11, 26.11s/it]"
     ]
    },
    {
     "name": "stdout",
     "output_type": "stream",
     "text": [
      "using FAISS\n",
      "using chunks only\n"
     ]
    },
    {
     "name": "stderr",
     "output_type": "stream",
     "text": [
      " 17%|█▋        | 10/60 [04:17<22:02, 26.45s/it]"
     ]
    },
    {
     "name": "stdout",
     "output_type": "stream",
     "text": [
      "using FAISS\n",
      "using chunks only\n"
     ]
    },
    {
     "name": "stderr",
     "output_type": "stream",
     "text": [
      " 18%|█▊        | 11/60 [04:43<21:28, 26.30s/it]"
     ]
    },
    {
     "name": "stdout",
     "output_type": "stream",
     "text": [
      "using FAISS\n",
      "using chunks only\n"
     ]
    },
    {
     "name": "stderr",
     "output_type": "stream",
     "text": [
      " 20%|██        | 12/60 [05:10<21:13, 26.53s/it]"
     ]
    },
    {
     "name": "stdout",
     "output_type": "stream",
     "text": [
      "using FAISS\n",
      "using chunks only\n"
     ]
    },
    {
     "name": "stderr",
     "output_type": "stream",
     "text": [
      " 22%|██▏       | 13/60 [05:38<21:02, 26.86s/it]"
     ]
    },
    {
     "name": "stdout",
     "output_type": "stream",
     "text": [
      "using FAISS\n",
      "using chunks only\n"
     ]
    },
    {
     "name": "stderr",
     "output_type": "stream",
     "text": [
      " 23%|██▎       | 14/60 [06:04<20:23, 26.59s/it]"
     ]
    },
    {
     "name": "stdout",
     "output_type": "stream",
     "text": [
      "using FAISS\n",
      "using chunks only\n"
     ]
    },
    {
     "name": "stderr",
     "output_type": "stream",
     "text": [
      " 25%|██▌       | 15/60 [06:30<19:55, 26.57s/it]"
     ]
    },
    {
     "name": "stdout",
     "output_type": "stream",
     "text": [
      "using FAISS\n",
      "using chunks only\n"
     ]
    },
    {
     "name": "stderr",
     "output_type": "stream",
     "text": [
      " 27%|██▋       | 16/60 [06:56<19:25, 26.49s/it]"
     ]
    },
    {
     "name": "stdout",
     "output_type": "stream",
     "text": [
      "using FAISS\n",
      "using chunks only\n"
     ]
    },
    {
     "name": "stderr",
     "output_type": "stream",
     "text": [
      " 28%|██▊       | 17/60 [07:22<18:51, 26.32s/it]"
     ]
    },
    {
     "name": "stdout",
     "output_type": "stream",
     "text": [
      "using FAISS\n",
      "using chunks only\n"
     ]
    },
    {
     "name": "stderr",
     "output_type": "stream",
     "text": [
      " 30%|███       | 18/60 [07:49<18:27, 26.37s/it]"
     ]
    },
    {
     "name": "stdout",
     "output_type": "stream",
     "text": [
      "using FAISS\n",
      "using chunks only\n"
     ]
    },
    {
     "name": "stderr",
     "output_type": "stream",
     "text": [
      " 32%|███▏      | 19/60 [08:14<17:51, 26.14s/it]"
     ]
    },
    {
     "name": "stdout",
     "output_type": "stream",
     "text": [
      "using FAISS\n",
      "using chunks only\n"
     ]
    },
    {
     "name": "stderr",
     "output_type": "stream",
     "text": [
      " 33%|███▎      | 20/60 [08:41<17:27, 26.18s/it]"
     ]
    },
    {
     "name": "stdout",
     "output_type": "stream",
     "text": [
      "using FAISS\n",
      "using chunks only\n"
     ]
    },
    {
     "name": "stderr",
     "output_type": "stream",
     "text": [
      " 35%|███▌      | 21/60 [09:07<17:05, 26.29s/it]"
     ]
    },
    {
     "name": "stdout",
     "output_type": "stream",
     "text": [
      "using FAISS\n",
      "using chunks only\n"
     ]
    },
    {
     "name": "stderr",
     "output_type": "stream",
     "text": [
      " 37%|███▋      | 22/60 [09:33<16:37, 26.25s/it]"
     ]
    },
    {
     "name": "stdout",
     "output_type": "stream",
     "text": [
      "using FAISS\n",
      "using chunks only\n"
     ]
    },
    {
     "name": "stderr",
     "output_type": "stream",
     "text": [
      " 38%|███▊      | 23/60 [09:59<16:04, 26.07s/it]"
     ]
    },
    {
     "name": "stdout",
     "output_type": "stream",
     "text": [
      "using FAISS\n",
      "using chunks only\n"
     ]
    },
    {
     "name": "stderr",
     "output_type": "stream",
     "text": [
      " 40%|████      | 24/60 [10:25<15:42, 26.19s/it]"
     ]
    },
    {
     "name": "stdout",
     "output_type": "stream",
     "text": [
      "using FAISS\n",
      "using chunks only\n"
     ]
    },
    {
     "name": "stderr",
     "output_type": "stream",
     "text": [
      " 42%|████▏     | 25/60 [10:51<15:13, 26.09s/it]"
     ]
    },
    {
     "name": "stdout",
     "output_type": "stream",
     "text": [
      "using FAISS\n",
      "using chunks only\n"
     ]
    },
    {
     "name": "stderr",
     "output_type": "stream",
     "text": [
      " 43%|████▎     | 26/60 [11:19<15:03, 26.56s/it]"
     ]
    },
    {
     "name": "stdout",
     "output_type": "stream",
     "text": [
      "using FAISS\n",
      "using chunks only\n"
     ]
    },
    {
     "name": "stderr",
     "output_type": "stream",
     "text": [
      " 45%|████▌     | 27/60 [11:45<14:33, 26.46s/it]"
     ]
    },
    {
     "name": "stdout",
     "output_type": "stream",
     "text": [
      "using FAISS\n",
      "using chunks only\n"
     ]
    },
    {
     "name": "stderr",
     "output_type": "stream",
     "text": [
      " 47%|████▋     | 28/60 [12:12<14:05, 26.41s/it]"
     ]
    },
    {
     "name": "stdout",
     "output_type": "stream",
     "text": [
      "using FAISS\n",
      "using chunks only\n"
     ]
    },
    {
     "name": "stderr",
     "output_type": "stream",
     "text": [
      " 48%|████▊     | 29/60 [12:38<13:37, 26.37s/it]"
     ]
    },
    {
     "name": "stdout",
     "output_type": "stream",
     "text": [
      "using FAISS\n",
      "using chunks only\n"
     ]
    },
    {
     "name": "stderr",
     "output_type": "stream",
     "text": [
      " 50%|█████     | 30/60 [13:04<13:09, 26.32s/it]"
     ]
    },
    {
     "name": "stdout",
     "output_type": "stream",
     "text": [
      "using FAISS\n",
      "using chunks only\n"
     ]
    },
    {
     "name": "stderr",
     "output_type": "stream",
     "text": [
      " 52%|█████▏    | 31/60 [13:30<12:41, 26.25s/it]"
     ]
    },
    {
     "name": "stdout",
     "output_type": "stream",
     "text": [
      "using FAISS\n",
      "using chunks only\n"
     ]
    },
    {
     "name": "stderr",
     "output_type": "stream",
     "text": [
      " 53%|█████▎    | 32/60 [13:57<12:16, 26.30s/it]"
     ]
    },
    {
     "name": "stdout",
     "output_type": "stream",
     "text": [
      "using FAISS\n",
      "using chunks only\n"
     ]
    },
    {
     "name": "stderr",
     "output_type": "stream",
     "text": [
      " 55%|█████▌    | 33/60 [14:23<11:49, 26.26s/it]"
     ]
    },
    {
     "name": "stdout",
     "output_type": "stream",
     "text": [
      "using FAISS\n",
      "using chunks only\n"
     ]
    },
    {
     "name": "stderr",
     "output_type": "stream",
     "text": [
      " 57%|█████▋    | 34/60 [14:49<11:24, 26.35s/it]"
     ]
    },
    {
     "name": "stdout",
     "output_type": "stream",
     "text": [
      "using FAISS\n",
      "using chunks only\n"
     ]
    },
    {
     "name": "stderr",
     "output_type": "stream",
     "text": [
      " 58%|█████▊    | 35/60 [15:15<10:54, 26.18s/it]"
     ]
    },
    {
     "name": "stdout",
     "output_type": "stream",
     "text": [
      "using FAISS\n",
      "using chunks only\n"
     ]
    },
    {
     "name": "stderr",
     "output_type": "stream",
     "text": [
      " 60%|██████    | 36/60 [15:42<10:32, 26.37s/it]"
     ]
    },
    {
     "name": "stdout",
     "output_type": "stream",
     "text": [
      "using FAISS\n",
      "using chunks only\n"
     ]
    },
    {
     "name": "stderr",
     "output_type": "stream",
     "text": [
      " 62%|██████▏   | 37/60 [16:08<10:04, 26.26s/it]"
     ]
    },
    {
     "name": "stdout",
     "output_type": "stream",
     "text": [
      "using FAISS\n",
      "using chunks only\n"
     ]
    },
    {
     "name": "stderr",
     "output_type": "stream",
     "text": [
      " 63%|██████▎   | 38/60 [16:34<09:39, 26.34s/it]"
     ]
    },
    {
     "name": "stdout",
     "output_type": "stream",
     "text": [
      "using FAISS\n",
      "using chunks only\n"
     ]
    },
    {
     "name": "stderr",
     "output_type": "stream",
     "text": [
      " 65%|██████▌   | 39/60 [17:01<09:11, 26.28s/it]"
     ]
    },
    {
     "name": "stdout",
     "output_type": "stream",
     "text": [
      "using FAISS\n",
      "using chunks only\n"
     ]
    },
    {
     "name": "stderr",
     "output_type": "stream",
     "text": [
      " 67%|██████▋   | 40/60 [17:27<08:45, 26.27s/it]"
     ]
    },
    {
     "name": "stdout",
     "output_type": "stream",
     "text": [
      "using FAISS\n",
      "using chunks only\n"
     ]
    },
    {
     "name": "stderr",
     "output_type": "stream",
     "text": [
      " 68%|██████▊   | 41/60 [17:53<08:18, 26.25s/it]"
     ]
    },
    {
     "name": "stdout",
     "output_type": "stream",
     "text": [
      "using FAISS\n",
      "using chunks only\n"
     ]
    },
    {
     "name": "stderr",
     "output_type": "stream",
     "text": [
      " 70%|███████   | 42/60 [18:20<07:55, 26.40s/it]"
     ]
    },
    {
     "name": "stdout",
     "output_type": "stream",
     "text": [
      "using FAISS\n",
      "using chunks only\n"
     ]
    },
    {
     "name": "stderr",
     "output_type": "stream",
     "text": [
      " 72%|███████▏  | 43/60 [18:46<07:27, 26.30s/it]"
     ]
    },
    {
     "name": "stdout",
     "output_type": "stream",
     "text": [
      "using FAISS\n",
      "using chunks only\n"
     ]
    },
    {
     "name": "stderr",
     "output_type": "stream",
     "text": [
      " 73%|███████▎  | 44/60 [19:12<07:00, 26.31s/it]"
     ]
    },
    {
     "name": "stdout",
     "output_type": "stream",
     "text": [
      "using FAISS\n",
      "using chunks only\n"
     ]
    },
    {
     "name": "stderr",
     "output_type": "stream",
     "text": [
      " 75%|███████▌  | 45/60 [19:38<06:34, 26.32s/it]"
     ]
    },
    {
     "name": "stdout",
     "output_type": "stream",
     "text": [
      "using FAISS\n",
      "using chunks only\n"
     ]
    },
    {
     "name": "stderr",
     "output_type": "stream",
     "text": [
      " 77%|███████▋  | 46/60 [20:05<06:08, 26.32s/it]"
     ]
    },
    {
     "name": "stdout",
     "output_type": "stream",
     "text": [
      "using FAISS\n",
      "using chunks only\n"
     ]
    },
    {
     "name": "stderr",
     "output_type": "stream",
     "text": [
      " 78%|███████▊  | 47/60 [20:31<05:42, 26.33s/it]"
     ]
    },
    {
     "name": "stdout",
     "output_type": "stream",
     "text": [
      "using FAISS\n",
      "using chunks only\n"
     ]
    },
    {
     "name": "stderr",
     "output_type": "stream",
     "text": [
      " 80%|████████  | 48/60 [20:57<05:15, 26.32s/it]"
     ]
    },
    {
     "name": "stdout",
     "output_type": "stream",
     "text": [
      "using FAISS\n",
      "using chunks only\n"
     ]
    },
    {
     "name": "stderr",
     "output_type": "stream",
     "text": [
      " 82%|████████▏ | 49/60 [21:23<04:47, 26.11s/it]"
     ]
    },
    {
     "name": "stdout",
     "output_type": "stream",
     "text": [
      "using FAISS\n",
      "using chunks only\n"
     ]
    },
    {
     "name": "stderr",
     "output_type": "stream",
     "text": [
      " 83%|████████▎ | 50/60 [21:49<04:20, 26.07s/it]"
     ]
    },
    {
     "name": "stdout",
     "output_type": "stream",
     "text": [
      "using FAISS\n",
      "using chunks only\n"
     ]
    },
    {
     "name": "stderr",
     "output_type": "stream",
     "text": [
      " 85%|████████▌ | 51/60 [22:15<03:55, 26.12s/it]"
     ]
    },
    {
     "name": "stdout",
     "output_type": "stream",
     "text": [
      "using FAISS\n",
      "using chunks only\n"
     ]
    },
    {
     "name": "stderr",
     "output_type": "stream",
     "text": [
      " 87%|████████▋ | 52/60 [22:42<03:29, 26.23s/it]"
     ]
    },
    {
     "name": "stdout",
     "output_type": "stream",
     "text": [
      "using FAISS\n",
      "using chunks only\n"
     ]
    },
    {
     "name": "stderr",
     "output_type": "stream",
     "text": [
      " 88%|████████▊ | 53/60 [23:08<03:03, 26.16s/it]"
     ]
    },
    {
     "name": "stdout",
     "output_type": "stream",
     "text": [
      "using FAISS\n",
      "using chunks only\n"
     ]
    },
    {
     "name": "stderr",
     "output_type": "stream",
     "text": [
      " 90%|█████████ | 54/60 [23:34<02:37, 26.19s/it]"
     ]
    },
    {
     "name": "stdout",
     "output_type": "stream",
     "text": [
      "using FAISS\n",
      "using chunks only\n"
     ]
    },
    {
     "name": "stderr",
     "output_type": "stream",
     "text": [
      " 92%|█████████▏| 55/60 [24:00<02:10, 26.04s/it]"
     ]
    },
    {
     "name": "stdout",
     "output_type": "stream",
     "text": [
      "using FAISS\n",
      "using chunks only\n"
     ]
    },
    {
     "name": "stderr",
     "output_type": "stream",
     "text": [
      " 93%|█████████▎| 56/60 [24:26<01:44, 26.19s/it]"
     ]
    },
    {
     "name": "stdout",
     "output_type": "stream",
     "text": [
      "using FAISS\n",
      "using chunks only\n"
     ]
    },
    {
     "name": "stderr",
     "output_type": "stream",
     "text": [
      " 95%|█████████▌| 57/60 [24:53<01:18, 26.24s/it]"
     ]
    },
    {
     "name": "stdout",
     "output_type": "stream",
     "text": [
      "using FAISS\n",
      "using chunks only\n"
     ]
    },
    {
     "name": "stderr",
     "output_type": "stream",
     "text": [
      " 97%|█████████▋| 58/60 [25:19<00:52, 26.32s/it]"
     ]
    },
    {
     "name": "stdout",
     "output_type": "stream",
     "text": [
      "using FAISS\n",
      "using chunks only\n"
     ]
    },
    {
     "name": "stderr",
     "output_type": "stream",
     "text": [
      " 98%|█████████▊| 59/60 [25:45<00:26, 26.27s/it]"
     ]
    },
    {
     "name": "stdout",
     "output_type": "stream",
     "text": [
      "using FAISS\n",
      "using chunks only\n"
     ]
    },
    {
     "name": "stderr",
     "output_type": "stream",
     "text": [
      "100%|██████████| 60/60 [26:11<00:00, 26.20s/it]\n",
      "/tmp/ipykernel_502890/1577968075.py:12: FutureWarning: Setting an item of incompatible dtype is deprecated and will raise an error in a future version of pandas. Value '['[C, D, E]', '[C]', '[D]', '[A, C]', '[C]', '[B]', '[A]', '[A]', '[C]', '[B]', '[A]', '[A]', '[A]', '[C]', '[B]', '[C]', '[C]', '[A, C]', '[A]', '[C]', '[C]', '[A]', '[C]', '[B]', '[C]', '[C]', '[A]', '[A]', '[A]', '[B]', '[B]', '[C]', '[B]', '[C]', '[C]', '[B]', '[B]', '[B]', '[A]', '[C]', '[B]', '[A]', '[A]', '[A]', '[B]', '[B]', '[A]', '[A]', '[A]', '[C]', '[B]', '[A]', '[A]', '[C]', '[A]', '[A]', '[C]', '[A]', '[B]', '[C]']' has dtype incompatible with float64, please explicitly cast to a compatible dtype first.\n",
      "  df.loc[qr_range[0]:qr_range[1]-1, \"AI\"] = [answ[0] for answ in ai_answer]\n"
     ]
    }
   ],
   "source": [
    "import time\n",
    "qr_range = (0,60)\n",
    "df[\"AI\"] = np.nan\n",
    "ai_answer = []\n",
    "inference_times = []\n",
    "for i in tqdm(range(*qr_range)):\n",
    "    start_time = time.time()\n",
    "    ai_answer.append(gen_query(df.loc[i,\"Prompt\"], top_k=15, client=client, mode='dense', model=\"llama3.3\"))\n",
    "    end_time = time.time()\n",
    "    inference_times.append( end_time - start_time)\n",
    "\n",
    "df.loc[qr_range[0]:qr_range[1]-1, \"AI\"] = [answ[0] for answ in ai_answer]\n",
    "df.loc[qr_range[0]:qr_range[1]-1, \"Context\"] = [answ[2] for answ in ai_answer]\n",
    "df.loc[qr_range[0]:qr_range[1]-1, \"Inference_Time\"] = inference_times"
   ]
  },
  {
   "cell_type": "code",
   "execution_count": 33,
   "id": "ad5ce417",
   "metadata": {},
   "outputs": [
    {
     "name": "stdout",
     "output_type": "stream",
     "text": [
      "Final Score: 49.00/60.00\n",
      "Accuracy: 0.82%\n"
     ]
    },
    {
     "data": {
      "text/html": [
       "<div>\n",
       "<style scoped>\n",
       "    .dataframe tbody tr th:only-of-type {\n",
       "        vertical-align: middle;\n",
       "    }\n",
       "\n",
       "    .dataframe tbody tr th {\n",
       "        vertical-align: top;\n",
       "    }\n",
       "\n",
       "    .dataframe thead th {\n",
       "        text-align: right;\n",
       "    }\n",
       "</style>\n",
       "<table border=\"1\" class=\"dataframe\">\n",
       "  <thead>\n",
       "    <tr style=\"text-align: right;\">\n",
       "      <th></th>\n",
       "      <th>Question</th>\n",
       "      <th>Answer</th>\n",
       "      <th>AI</th>\n",
       "      <th>Score</th>\n",
       "      <th>Inference_Time</th>\n",
       "    </tr>\n",
       "  </thead>\n",
       "  <tbody>\n",
       "    <tr>\n",
       "      <th>0</th>\n",
       "      <td>What should you do in case your vehicle breaks...</td>\n",
       "      <td>[A, C, D, E]</td>\n",
       "      <td>[C, D, E]</td>\n",
       "      <td>0.0</td>\n",
       "      <td>22.323060</td>\n",
       "    </tr>\n",
       "    <tr>\n",
       "      <th>1</th>\n",
       "      <td>What will happen when your front tire blows out?</td>\n",
       "      <td>[C]</td>\n",
       "      <td>[C]</td>\n",
       "      <td>1.0</td>\n",
       "      <td>24.361086</td>\n",
       "    </tr>\n",
       "    <tr>\n",
       "      <th>2</th>\n",
       "      <td>What should you do when an ambulance comes up ...</td>\n",
       "      <td>[D]</td>\n",
       "      <td>[D]</td>\n",
       "      <td>1.0</td>\n",
       "      <td>23.717980</td>\n",
       "    </tr>\n",
       "    <tr>\n",
       "      <th>3</th>\n",
       "      <td>While driving the hood of your car lifts up bl...</td>\n",
       "      <td>[A, C]</td>\n",
       "      <td>[A, C]</td>\n",
       "      <td>1.0</td>\n",
       "      <td>27.850820</td>\n",
       "    </tr>\n",
       "    <tr>\n",
       "      <th>4</th>\n",
       "      <td>In case of an accident, the first duty of the ...</td>\n",
       "      <td>[A]</td>\n",
       "      <td>[C]</td>\n",
       "      <td>0.0</td>\n",
       "      <td>26.940197</td>\n",
       "    </tr>\n",
       "    <tr>\n",
       "      <th>5</th>\n",
       "      <td>When a vehicle starts to skid, what should the...</td>\n",
       "      <td>[B]</td>\n",
       "      <td>[B]</td>\n",
       "      <td>1.0</td>\n",
       "      <td>26.811013</td>\n",
       "    </tr>\n",
       "    <tr>\n",
       "      <th>6</th>\n",
       "      <td>In case of injuries caused by an accident, the...</td>\n",
       "      <td>[A]</td>\n",
       "      <td>[A]</td>\n",
       "      <td>1.0</td>\n",
       "      <td>25.692555</td>\n",
       "    </tr>\n",
       "    <tr>\n",
       "      <th>7</th>\n",
       "      <td>What will happen when your rear tire blows out?</td>\n",
       "      <td>[B]</td>\n",
       "      <td>[A]</td>\n",
       "      <td>0.0</td>\n",
       "      <td>26.827620</td>\n",
       "    </tr>\n",
       "    <tr>\n",
       "      <th>8</th>\n",
       "      <td>When a vehicle is stalled or disabled, the dri...</td>\n",
       "      <td>[C]</td>\n",
       "      <td>[C]</td>\n",
       "      <td>1.0</td>\n",
       "      <td>25.719195</td>\n",
       "    </tr>\n",
       "    <tr>\n",
       "      <th>9</th>\n",
       "      <td>If you are the first to arrive at the scene of...</td>\n",
       "      <td>[B]</td>\n",
       "      <td>[B]</td>\n",
       "      <td>1.0</td>\n",
       "      <td>27.199358</td>\n",
       "    </tr>\n",
       "    <tr>\n",
       "      <th>10</th>\n",
       "      <td>As per RA 4136, the brakes on every vehicle (o...</td>\n",
       "      <td>[A]</td>\n",
       "      <td>[A]</td>\n",
       "      <td>1.0</td>\n",
       "      <td>25.957659</td>\n",
       "    </tr>\n",
       "    <tr>\n",
       "      <th>11</th>\n",
       "      <td>What is not a good trait of a driver?</td>\n",
       "      <td>[A]</td>\n",
       "      <td>[A]</td>\n",
       "      <td>1.0</td>\n",
       "      <td>27.058504</td>\n",
       "    </tr>\n",
       "    <tr>\n",
       "      <th>12</th>\n",
       "      <td>A safe speed to drive your car under adverse c...</td>\n",
       "      <td>[A]</td>\n",
       "      <td>[A]</td>\n",
       "      <td>1.0</td>\n",
       "      <td>27.605086</td>\n",
       "    </tr>\n",
       "    <tr>\n",
       "      <th>13</th>\n",
       "      <td>Night driving is dangerous because:</td>\n",
       "      <td>[C]</td>\n",
       "      <td>[C]</td>\n",
       "      <td>1.0</td>\n",
       "      <td>25.988534</td>\n",
       "    </tr>\n",
       "    <tr>\n",
       "      <th>14</th>\n",
       "      <td>What habit will help you prevent getting a fix...</td>\n",
       "      <td>[B]</td>\n",
       "      <td>[B]</td>\n",
       "      <td>1.0</td>\n",
       "      <td>26.511951</td>\n",
       "    </tr>\n",
       "    <tr>\n",
       "      <th>15</th>\n",
       "      <td>Seatbelts must be worn by children aged:</td>\n",
       "      <td>[B]</td>\n",
       "      <td>[C]</td>\n",
       "      <td>0.0</td>\n",
       "      <td>26.296884</td>\n",
       "    </tr>\n",
       "    <tr>\n",
       "      <th>16</th>\n",
       "      <td>Which of the following is the maximum speed li...</td>\n",
       "      <td>[C]</td>\n",
       "      <td>[C]</td>\n",
       "      <td>1.0</td>\n",
       "      <td>25.937019</td>\n",
       "    </tr>\n",
       "    <tr>\n",
       "      <th>17</th>\n",
       "      <td>Graft and corruption in the traffic enforcemen...</td>\n",
       "      <td>[C]</td>\n",
       "      <td>[A, C]</td>\n",
       "      <td>0.0</td>\n",
       "      <td>26.465487</td>\n",
       "    </tr>\n",
       "    <tr>\n",
       "      <th>18</th>\n",
       "      <td>Eating, drinking, reading, or doing anything t...</td>\n",
       "      <td>[A]</td>\n",
       "      <td>[A]</td>\n",
       "      <td>1.0</td>\n",
       "      <td>25.617365</td>\n",
       "    </tr>\n",
       "    <tr>\n",
       "      <th>19</th>\n",
       "      <td>Before a private motor vehicle owner can apply...</td>\n",
       "      <td>[C]</td>\n",
       "      <td>[C]</td>\n",
       "      <td>1.0</td>\n",
       "      <td>26.265526</td>\n",
       "    </tr>\n",
       "    <tr>\n",
       "      <th>20</th>\n",
       "      <td>According to the Philippine Clean Air Act of 1...</td>\n",
       "      <td>[C]</td>\n",
       "      <td>[C]</td>\n",
       "      <td>1.0</td>\n",
       "      <td>26.536008</td>\n",
       "    </tr>\n",
       "    <tr>\n",
       "      <th>21</th>\n",
       "      <td>To avoid suspension or revocation, how many da...</td>\n",
       "      <td>[A]</td>\n",
       "      <td>[A]</td>\n",
       "      <td>1.0</td>\n",
       "      <td>26.147475</td>\n",
       "    </tr>\n",
       "    <tr>\n",
       "      <th>22</th>\n",
       "      <td>To have one's driver's license suspended means...</td>\n",
       "      <td>[C]</td>\n",
       "      <td>[C]</td>\n",
       "      <td>1.0</td>\n",
       "      <td>25.664393</td>\n",
       "    </tr>\n",
       "    <tr>\n",
       "      <th>23</th>\n",
       "      <td>To aobtain one's driver's license, one must be...</td>\n",
       "      <td>[B]</td>\n",
       "      <td>[B]</td>\n",
       "      <td>1.0</td>\n",
       "      <td>26.453254</td>\n",
       "    </tr>\n",
       "    <tr>\n",
       "      <th>24</th>\n",
       "      <td>A pre-trip inspection should be completed:</td>\n",
       "      <td>[C]</td>\n",
       "      <td>[C]</td>\n",
       "      <td>1.0</td>\n",
       "      <td>25.867441</td>\n",
       "    </tr>\n",
       "    <tr>\n",
       "      <th>25</th>\n",
       "      <td>It is not conidered safe driving on an express...</td>\n",
       "      <td>[C]</td>\n",
       "      <td>[C]</td>\n",
       "      <td>1.0</td>\n",
       "      <td>27.660005</td>\n",
       "    </tr>\n",
       "    <tr>\n",
       "      <th>26</th>\n",
       "      <td>When you do not see the wheels of the vehicles...</td>\n",
       "      <td>[A]</td>\n",
       "      <td>[A]</td>\n",
       "      <td>1.0</td>\n",
       "      <td>26.234077</td>\n",
       "    </tr>\n",
       "    <tr>\n",
       "      <th>27</th>\n",
       "      <td>Your speed while driving at night should keep on:</td>\n",
       "      <td>[A]</td>\n",
       "      <td>[A]</td>\n",
       "      <td>1.0</td>\n",
       "      <td>26.278916</td>\n",
       "    </tr>\n",
       "    <tr>\n",
       "      <th>28</th>\n",
       "      <td>When driving at night, you should</td>\n",
       "      <td>[C]</td>\n",
       "      <td>[A]</td>\n",
       "      <td>0.0</td>\n",
       "      <td>26.288804</td>\n",
       "    </tr>\n",
       "    <tr>\n",
       "      <th>29</th>\n",
       "      <td>How close should another car be before you dim...</td>\n",
       "      <td>[A]</td>\n",
       "      <td>[B]</td>\n",
       "      <td>0.0</td>\n",
       "      <td>26.211705</td>\n",
       "    </tr>\n",
       "    <tr>\n",
       "      <th>30</th>\n",
       "      <td>If you are backing up in a straight line, turn...</td>\n",
       "      <td>[A]</td>\n",
       "      <td>[B]</td>\n",
       "      <td>0.0</td>\n",
       "      <td>26.081124</td>\n",
       "    </tr>\n",
       "    <tr>\n",
       "      <th>31</th>\n",
       "      <td>The blind spot is the area to your right or le...</td>\n",
       "      <td>[C]</td>\n",
       "      <td>[C]</td>\n",
       "      <td>1.0</td>\n",
       "      <td>26.402150</td>\n",
       "    </tr>\n",
       "    <tr>\n",
       "      <th>32</th>\n",
       "      <td>At an intrsection with traffic signals, if you...</td>\n",
       "      <td>[A]</td>\n",
       "      <td>[B]</td>\n",
       "      <td>0.0</td>\n",
       "      <td>26.174100</td>\n",
       "    </tr>\n",
       "    <tr>\n",
       "      <th>33</th>\n",
       "      <td>When approaching a flooded area and you have t...</td>\n",
       "      <td>[C]</td>\n",
       "      <td>[C]</td>\n",
       "      <td>1.0</td>\n",
       "      <td>26.541602</td>\n",
       "    </tr>\n",
       "    <tr>\n",
       "      <th>34</th>\n",
       "      <td>While driving with maximum speed and you have ...</td>\n",
       "      <td>[C]</td>\n",
       "      <td>[C]</td>\n",
       "      <td>1.0</td>\n",
       "      <td>25.797961</td>\n",
       "    </tr>\n",
       "    <tr>\n",
       "      <th>35</th>\n",
       "      <td>On a wet road, you must:</td>\n",
       "      <td>[B]</td>\n",
       "      <td>[B]</td>\n",
       "      <td>1.0</td>\n",
       "      <td>26.821699</td>\n",
       "    </tr>\n",
       "    <tr>\n",
       "      <th>36</th>\n",
       "      <td>When planning to overtake a slower vehicle in ...</td>\n",
       "      <td>[B]</td>\n",
       "      <td>[B]</td>\n",
       "      <td>1.0</td>\n",
       "      <td>26.003069</td>\n",
       "    </tr>\n",
       "    <tr>\n",
       "      <th>37</th>\n",
       "      <td>You are preparing to exit an expressway, when ...</td>\n",
       "      <td>[B]</td>\n",
       "      <td>[B]</td>\n",
       "      <td>1.0</td>\n",
       "      <td>26.511307</td>\n",
       "    </tr>\n",
       "    <tr>\n",
       "      <th>38</th>\n",
       "      <td>While driving with a maximum speed and you hav...</td>\n",
       "      <td>[A]</td>\n",
       "      <td>[A]</td>\n",
       "      <td>1.0</td>\n",
       "      <td>26.143449</td>\n",
       "    </tr>\n",
       "    <tr>\n",
       "      <th>39</th>\n",
       "      <td>When driving on mountain roads during daytime,...</td>\n",
       "      <td>[C]</td>\n",
       "      <td>[C]</td>\n",
       "      <td>1.0</td>\n",
       "      <td>26.247242</td>\n",
       "    </tr>\n",
       "    <tr>\n",
       "      <th>40</th>\n",
       "      <td>What light shall be used when vehicles are par...</td>\n",
       "      <td>[B]</td>\n",
       "      <td>[B]</td>\n",
       "      <td>1.0</td>\n",
       "      <td>26.211474</td>\n",
       "    </tr>\n",
       "    <tr>\n",
       "      <th>41</th>\n",
       "      <td>When loading or unloading passengers, we usual...</td>\n",
       "      <td>[A]</td>\n",
       "      <td>[A]</td>\n",
       "      <td>1.0</td>\n",
       "      <td>26.725519</td>\n",
       "    </tr>\n",
       "    <tr>\n",
       "      <th>42</th>\n",
       "      <td>If you are parking uphill without a curb, turn...</td>\n",
       "      <td>[A]</td>\n",
       "      <td>[A]</td>\n",
       "      <td>1.0</td>\n",
       "      <td>26.083741</td>\n",
       "    </tr>\n",
       "    <tr>\n",
       "      <th>43</th>\n",
       "      <td>A driver ____ park or stop at the side fo the ...</td>\n",
       "      <td>[A]</td>\n",
       "      <td>[A]</td>\n",
       "      <td>1.0</td>\n",
       "      <td>26.318655</td>\n",
       "    </tr>\n",
       "    <tr>\n",
       "      <th>44</th>\n",
       "      <td>Whenever you park, remember to:</td>\n",
       "      <td>[B]</td>\n",
       "      <td>[B]</td>\n",
       "      <td>1.0</td>\n",
       "      <td>26.338777</td>\n",
       "    </tr>\n",
       "    <tr>\n",
       "      <th>45</th>\n",
       "      <td>Never park or stop at the side of the road wit...</td>\n",
       "      <td>[C]</td>\n",
       "      <td>[B]</td>\n",
       "      <td>0.0</td>\n",
       "      <td>26.311247</td>\n",
       "    </tr>\n",
       "    <tr>\n",
       "      <th>46</th>\n",
       "      <td>The vehicle is parked if:</td>\n",
       "      <td>[A]</td>\n",
       "      <td>[A]</td>\n",
       "      <td>1.0</td>\n",
       "      <td>26.349952</td>\n",
       "    </tr>\n",
       "    <tr>\n",
       "      <th>47</th>\n",
       "      <td>When parking downhill, you should turn your fr...</td>\n",
       "      <td>[A]</td>\n",
       "      <td>[A]</td>\n",
       "      <td>1.0</td>\n",
       "      <td>26.293906</td>\n",
       "    </tr>\n",
       "    <tr>\n",
       "      <th>48</th>\n",
       "      <td>When you are parked at the side of the road at...</td>\n",
       "      <td>[A]</td>\n",
       "      <td>[A]</td>\n",
       "      <td>1.0</td>\n",
       "      <td>25.627287</td>\n",
       "    </tr>\n",
       "    <tr>\n",
       "      <th>49</th>\n",
       "      <td>A driver must not park or stop at the side of ...</td>\n",
       "      <td>[C]</td>\n",
       "      <td>[C]</td>\n",
       "      <td>1.0</td>\n",
       "      <td>25.971177</td>\n",
       "    </tr>\n",
       "    <tr>\n",
       "      <th>50</th>\n",
       "      <td>Parking lights may be used:</td>\n",
       "      <td>[B]</td>\n",
       "      <td>[B]</td>\n",
       "      <td>1.0</td>\n",
       "      <td>26.253768</td>\n",
       "    </tr>\n",
       "    <tr>\n",
       "      <th>51</th>\n",
       "      <td>You may never park:</td>\n",
       "      <td>[A]</td>\n",
       "      <td>[A]</td>\n",
       "      <td>1.0</td>\n",
       "      <td>26.465240</td>\n",
       "    </tr>\n",
       "    <tr>\n",
       "      <th>52</th>\n",
       "      <td>Parking is considered as a violation when a mo...</td>\n",
       "      <td>[A]</td>\n",
       "      <td>[A]</td>\n",
       "      <td>1.0</td>\n",
       "      <td>25.995616</td>\n",
       "    </tr>\n",
       "    <tr>\n",
       "      <th>53</th>\n",
       "      <td>What is considered as a parking violation?</td>\n",
       "      <td>[C]</td>\n",
       "      <td>[C]</td>\n",
       "      <td>1.0</td>\n",
       "      <td>26.262284</td>\n",
       "    </tr>\n",
       "    <tr>\n",
       "      <th>54</th>\n",
       "      <td>When are you permitted to double park?</td>\n",
       "      <td>[A]</td>\n",
       "      <td>[A]</td>\n",
       "      <td>1.0</td>\n",
       "      <td>25.673721</td>\n",
       "    </tr>\n",
       "    <tr>\n",
       "      <th>55</th>\n",
       "      <td>On a two-lane road, overtaking is only allowed...</td>\n",
       "      <td>[A]</td>\n",
       "      <td>[A]</td>\n",
       "      <td>1.0</td>\n",
       "      <td>26.549919</td>\n",
       "    </tr>\n",
       "    <tr>\n",
       "      <th>56</th>\n",
       "      <td>Which of the following hand signals must a dri...</td>\n",
       "      <td>[C]</td>\n",
       "      <td>[C]</td>\n",
       "      <td>1.0</td>\n",
       "      <td>26.367946</td>\n",
       "    </tr>\n",
       "    <tr>\n",
       "      <th>57</th>\n",
       "      <td>When oncoming vehicle (car A) deliberately cro...</td>\n",
       "      <td>[A]</td>\n",
       "      <td>[A]</td>\n",
       "      <td>1.0</td>\n",
       "      <td>26.484667</td>\n",
       "    </tr>\n",
       "    <tr>\n",
       "      <th>58</th>\n",
       "      <td>When two vehicles meet on a gradient road wher...</td>\n",
       "      <td>[A]</td>\n",
       "      <td>[B]</td>\n",
       "      <td>0.0</td>\n",
       "      <td>26.161858</td>\n",
       "    </tr>\n",
       "    <tr>\n",
       "      <th>59</th>\n",
       "      <td>When driving on the highway at night, you shou...</td>\n",
       "      <td>[C]</td>\n",
       "      <td>[C]</td>\n",
       "      <td>1.0</td>\n",
       "      <td>26.222496</td>\n",
       "    </tr>\n",
       "  </tbody>\n",
       "</table>\n",
       "</div>"
      ],
      "text/plain": [
       "                                             Question        Answer  \\\n",
       "0   What should you do in case your vehicle breaks...  [A, C, D, E]   \n",
       "1    What will happen when your front tire blows out?           [C]   \n",
       "2   What should you do when an ambulance comes up ...           [D]   \n",
       "3   While driving the hood of your car lifts up bl...        [A, C]   \n",
       "4   In case of an accident, the first duty of the ...           [A]   \n",
       "5   When a vehicle starts to skid, what should the...           [B]   \n",
       "6   In case of injuries caused by an accident, the...           [A]   \n",
       "7     What will happen when your rear tire blows out?           [B]   \n",
       "8   When a vehicle is stalled or disabled, the dri...           [C]   \n",
       "9   If you are the first to arrive at the scene of...           [B]   \n",
       "10  As per RA 4136, the brakes on every vehicle (o...           [A]   \n",
       "11              What is not a good trait of a driver?           [A]   \n",
       "12  A safe speed to drive your car under adverse c...           [A]   \n",
       "13                Night driving is dangerous because:           [C]   \n",
       "14  What habit will help you prevent getting a fix...           [B]   \n",
       "15           Seatbelts must be worn by children aged:           [B]   \n",
       "16  Which of the following is the maximum speed li...           [C]   \n",
       "17  Graft and corruption in the traffic enforcemen...           [C]   \n",
       "18  Eating, drinking, reading, or doing anything t...           [A]   \n",
       "19  Before a private motor vehicle owner can apply...           [C]   \n",
       "20  According to the Philippine Clean Air Act of 1...           [C]   \n",
       "21  To avoid suspension or revocation, how many da...           [A]   \n",
       "22  To have one's driver's license suspended means...           [C]   \n",
       "23  To aobtain one's driver's license, one must be...           [B]   \n",
       "24         A pre-trip inspection should be completed:           [C]   \n",
       "25  It is not conidered safe driving on an express...           [C]   \n",
       "26  When you do not see the wheels of the vehicles...           [A]   \n",
       "27  Your speed while driving at night should keep on:           [A]   \n",
       "28                  When driving at night, you should           [C]   \n",
       "29  How close should another car be before you dim...           [A]   \n",
       "30  If you are backing up in a straight line, turn...           [A]   \n",
       "31  The blind spot is the area to your right or le...           [C]   \n",
       "32  At an intrsection with traffic signals, if you...           [A]   \n",
       "33  When approaching a flooded area and you have t...           [C]   \n",
       "34  While driving with maximum speed and you have ...           [C]   \n",
       "35                           On a wet road, you must:           [B]   \n",
       "36  When planning to overtake a slower vehicle in ...           [B]   \n",
       "37  You are preparing to exit an expressway, when ...           [B]   \n",
       "38  While driving with a maximum speed and you hav...           [A]   \n",
       "39  When driving on mountain roads during daytime,...           [C]   \n",
       "40  What light shall be used when vehicles are par...           [B]   \n",
       "41  When loading or unloading passengers, we usual...           [A]   \n",
       "42  If you are parking uphill without a curb, turn...           [A]   \n",
       "43  A driver ____ park or stop at the side fo the ...           [A]   \n",
       "44                    Whenever you park, remember to:           [B]   \n",
       "45  Never park or stop at the side of the road wit...           [C]   \n",
       "46                          The vehicle is parked if:           [A]   \n",
       "47  When parking downhill, you should turn your fr...           [A]   \n",
       "48  When you are parked at the side of the road at...           [A]   \n",
       "49  A driver must not park or stop at the side of ...           [C]   \n",
       "50                        Parking lights may be used:           [B]   \n",
       "51                                You may never park:           [A]   \n",
       "52  Parking is considered as a violation when a mo...           [A]   \n",
       "53         What is considered as a parking violation?           [C]   \n",
       "54             When are you permitted to double park?           [A]   \n",
       "55  On a two-lane road, overtaking is only allowed...           [A]   \n",
       "56  Which of the following hand signals must a dri...           [C]   \n",
       "57  When oncoming vehicle (car A) deliberately cro...           [A]   \n",
       "58  When two vehicles meet on a gradient road wher...           [A]   \n",
       "59  When driving on the highway at night, you shou...           [C]   \n",
       "\n",
       "           AI  Score  Inference_Time  \n",
       "0   [C, D, E]    0.0       22.323060  \n",
       "1         [C]    1.0       24.361086  \n",
       "2         [D]    1.0       23.717980  \n",
       "3      [A, C]    1.0       27.850820  \n",
       "4         [C]    0.0       26.940197  \n",
       "5         [B]    1.0       26.811013  \n",
       "6         [A]    1.0       25.692555  \n",
       "7         [A]    0.0       26.827620  \n",
       "8         [C]    1.0       25.719195  \n",
       "9         [B]    1.0       27.199358  \n",
       "10        [A]    1.0       25.957659  \n",
       "11        [A]    1.0       27.058504  \n",
       "12        [A]    1.0       27.605086  \n",
       "13        [C]    1.0       25.988534  \n",
       "14        [B]    1.0       26.511951  \n",
       "15        [C]    0.0       26.296884  \n",
       "16        [C]    1.0       25.937019  \n",
       "17     [A, C]    0.0       26.465487  \n",
       "18        [A]    1.0       25.617365  \n",
       "19        [C]    1.0       26.265526  \n",
       "20        [C]    1.0       26.536008  \n",
       "21        [A]    1.0       26.147475  \n",
       "22        [C]    1.0       25.664393  \n",
       "23        [B]    1.0       26.453254  \n",
       "24        [C]    1.0       25.867441  \n",
       "25        [C]    1.0       27.660005  \n",
       "26        [A]    1.0       26.234077  \n",
       "27        [A]    1.0       26.278916  \n",
       "28        [A]    0.0       26.288804  \n",
       "29        [B]    0.0       26.211705  \n",
       "30        [B]    0.0       26.081124  \n",
       "31        [C]    1.0       26.402150  \n",
       "32        [B]    0.0       26.174100  \n",
       "33        [C]    1.0       26.541602  \n",
       "34        [C]    1.0       25.797961  \n",
       "35        [B]    1.0       26.821699  \n",
       "36        [B]    1.0       26.003069  \n",
       "37        [B]    1.0       26.511307  \n",
       "38        [A]    1.0       26.143449  \n",
       "39        [C]    1.0       26.247242  \n",
       "40        [B]    1.0       26.211474  \n",
       "41        [A]    1.0       26.725519  \n",
       "42        [A]    1.0       26.083741  \n",
       "43        [A]    1.0       26.318655  \n",
       "44        [B]    1.0       26.338777  \n",
       "45        [B]    0.0       26.311247  \n",
       "46        [A]    1.0       26.349952  \n",
       "47        [A]    1.0       26.293906  \n",
       "48        [A]    1.0       25.627287  \n",
       "49        [C]    1.0       25.971177  \n",
       "50        [B]    1.0       26.253768  \n",
       "51        [A]    1.0       26.465240  \n",
       "52        [A]    1.0       25.995616  \n",
       "53        [C]    1.0       26.262284  \n",
       "54        [A]    1.0       25.673721  \n",
       "55        [A]    1.0       26.549919  \n",
       "56        [C]    1.0       26.367946  \n",
       "57        [A]    1.0       26.484667  \n",
       "58        [B]    0.0       26.161858  \n",
       "59        [C]    1.0       26.222496  "
      ]
     },
     "metadata": {},
     "output_type": "display_data"
    }
   ],
   "source": [
    "import re\n",
    "\n",
    "\n",
    "def process_answers(answers):\n",
    "    formatted_answers = []\n",
    "    \n",
    "    for a in answers:\n",
    "        \n",
    "        matches = re.findall(r'\\[?\\s*([A-E](?:\\s*,\\s*[A-E])*)\\s*\\]?', str(a)) # Extract answers like [A, C, D] or [A] or [B, D]\n",
    "        answers = []\n",
    "        for match in matches:\n",
    "            answers.extend(re.split(r'\\s*,\\s*', match))  # Split by comma and remove spaces\n",
    "        unique_sorted_answers = sorted(set(answers), key=lambda x: ['A', 'B', 'C', 'D', 'E'].index(x))\n",
    "        if not unique_sorted_answers:\n",
    "            formatted_answers.append(None)\n",
    "        else:\n",
    "            formatted_answers.append(unique_sorted_answers)\n",
    "    return formatted_answers\n",
    "\n",
    "df_results = df.loc[qr_range[0]:qr_range[1]-1, [\"Question\",\"Answer\",\"AI\", \"Inference_Time\"]]\n",
    "df_results['Answer'] = df_results['Answer'].apply(lambda x: x.split(', '))\n",
    "df_results['AI'] = process_answers(df_results[\"AI\"])\n",
    "df_results['Answer'] = process_answers(df_results[\"Answer\"])\n",
    "\n",
    "\n",
    "\n",
    "def calculate_scores(df):\n",
    "    scores = []\n",
    "    for index, row in df.iterrows():\n",
    "        correct_answers = set(row['Answer'] if row['Answer'] is not None else [])\n",
    "        ai_answers = set(row['AI'] if row['AI'] is not None else [])\n",
    "        if ai_answers == correct_answers:\n",
    "            score = 1.0\n",
    "        else:\n",
    "            score = 0.0\n",
    "        scores.append(score)\n",
    "    \n",
    "    df['Score'] = scores\n",
    "    accuracy = scores.count(1.0) / len(scores)\n",
    "    print(f'Final Score: {scores.count(1.0):.2f}/{len(scores):.2f}')\n",
    "    print(f'Accuracy: {accuracy:.2f}%')\n",
    "    return df\n",
    "\n",
    "# Apply the scoring function\n",
    "scored_df = calculate_scores(df_results)\n",
    "\n",
    "# Display the dataframe to verify the results\n",
    "display(scored_df[['Question', 'Answer', 'AI', 'Score', 'Inference_Time']])"
   ]
  },
  {
   "cell_type": "code",
   "execution_count": 34,
   "id": "7af86568",
   "metadata": {},
   "outputs": [],
   "source": [
    "# Generate prompts dynamically\n",
    "def generate_prompt(row):\n",
    "    \n",
    "    # Construct the prompt with few-shot examples\n",
    "    prompt = f\"\\nActual Question: {row['Question']}\\n\" \n",
    "    prompt += \"\\nPlease answer the question based on the given context.\"\n",
    "    \n",
    "    return prompt"
   ]
  },
  {
   "cell_type": "code",
   "execution_count": 35,
   "id": "2921f41c",
   "metadata": {},
   "outputs": [
    {
     "data": {
      "text/html": [
       "<div>\n",
       "<style scoped>\n",
       "    .dataframe tbody tr th:only-of-type {\n",
       "        vertical-align: middle;\n",
       "    }\n",
       "\n",
       "    .dataframe tbody tr th {\n",
       "        vertical-align: top;\n",
       "    }\n",
       "\n",
       "    .dataframe thead th {\n",
       "        text-align: right;\n",
       "    }\n",
       "</style>\n",
       "<table border=\"1\" class=\"dataframe\">\n",
       "  <thead>\n",
       "    <tr style=\"text-align: right;\">\n",
       "      <th></th>\n",
       "      <th>Question</th>\n",
       "      <th>Answer</th>\n",
       "      <th>Prompt</th>\n",
       "    </tr>\n",
       "  </thead>\n",
       "  <tbody>\n",
       "    <tr>\n",
       "      <th>0</th>\n",
       "      <td>Traffic Jam can be prevented if you</td>\n",
       "      <td>Keep opposing lanes open</td>\n",
       "      <td>\\nActual Question: Traffic Jam can be prevente...</td>\n",
       "    </tr>\n",
       "    <tr>\n",
       "      <th>1</th>\n",
       "      <td>When making a right turn you should</td>\n",
       "      <td>Stay on the outermost lane of the road then si...</td>\n",
       "      <td>\\nActual Question: When making a right turn yo...</td>\n",
       "    </tr>\n",
       "    <tr>\n",
       "      <th>2</th>\n",
       "      <td>When you intend to turn right or left, signal ...</td>\n",
       "      <td>25 meters before you intend to make your turn</td>\n",
       "      <td>\\nActual Question: When you intend to turn rig...</td>\n",
       "    </tr>\n",
       "    <tr>\n",
       "      <th>3</th>\n",
       "      <td>At an intersection with a traffic light, make ...</td>\n",
       "      <td>The green light is on and there is a left turn...</td>\n",
       "      <td>\\nActual Question: At an intersection with a t...</td>\n",
       "    </tr>\n",
       "    <tr>\n",
       "      <th>4</th>\n",
       "      <td>Graft and corruption in the traffic enforcemen...</td>\n",
       "      <td>Self disciplined by drivers and obeying traffi...</td>\n",
       "      <td>\\nActual Question: Graft and corruption in the...</td>\n",
       "    </tr>\n",
       "  </tbody>\n",
       "</table>\n",
       "</div>"
      ],
      "text/plain": [
       "                                            Question  \\\n",
       "0                Traffic Jam can be prevented if you   \n",
       "1                When making a right turn you should   \n",
       "2  When you intend to turn right or left, signal ...   \n",
       "3  At an intersection with a traffic light, make ...   \n",
       "4  Graft and corruption in the traffic enforcemen...   \n",
       "\n",
       "                                              Answer  \\\n",
       "0                           Keep opposing lanes open   \n",
       "1  Stay on the outermost lane of the road then si...   \n",
       "2      25 meters before you intend to make your turn   \n",
       "3  The green light is on and there is a left turn...   \n",
       "4  Self disciplined by drivers and obeying traffi...   \n",
       "\n",
       "                                              Prompt  \n",
       "0  \\nActual Question: Traffic Jam can be prevente...  \n",
       "1  \\nActual Question: When making a right turn yo...  \n",
       "2  \\nActual Question: When you intend to turn rig...  \n",
       "3  \\nActual Question: At an intersection with a t...  \n",
       "4  \\nActual Question: Graft and corruption in the...  "
      ]
     },
     "metadata": {},
     "output_type": "display_data"
    }
   ],
   "source": [
    "# Load the Excel file\n",
    "file_path = '/mnt/c/Users/Jeryl Salas/Documents/AI 351/Project/LTO_EXAM_QnA.csv'\n",
    "df = pd.read_csv(file_path, encoding='ISO-8859-1')\n",
    "df['Prompt'] = df.apply(generate_prompt, axis=1)\n",
    "display(df.head())"
   ]
  },
  {
   "cell_type": "code",
   "execution_count": 36,
   "id": "c38c0651",
   "metadata": {},
   "outputs": [
    {
     "name": "stderr",
     "output_type": "stream",
     "text": [
      "  0%|          | 0/60 [00:00<?, ?it/s]"
     ]
    },
    {
     "name": "stdout",
     "output_type": "stream",
     "text": [
      "using Hybrid\n",
      "using chunks only\n"
     ]
    },
    {
     "name": "stderr",
     "output_type": "stream",
     "text": [
      "  2%|▏         | 1/60 [00:12<12:28, 12.69s/it]"
     ]
    },
    {
     "name": "stdout",
     "output_type": "stream",
     "text": [
      "using Hybrid\n",
      "using chunks only\n"
     ]
    },
    {
     "name": "stderr",
     "output_type": "stream",
     "text": [
      "  3%|▎         | 2/60 [00:18<08:16,  8.56s/it]"
     ]
    },
    {
     "name": "stdout",
     "output_type": "stream",
     "text": [
      "using Hybrid\n",
      "using chunks only\n"
     ]
    },
    {
     "name": "stderr",
     "output_type": "stream",
     "text": [
      "  5%|▌         | 3/60 [00:22<06:10,  6.50s/it]"
     ]
    },
    {
     "name": "stdout",
     "output_type": "stream",
     "text": [
      "using Hybrid\n",
      "using chunks only\n"
     ]
    },
    {
     "name": "stderr",
     "output_type": "stream",
     "text": [
      "  7%|▋         | 4/60 [00:26<05:15,  5.64s/it]"
     ]
    },
    {
     "name": "stdout",
     "output_type": "stream",
     "text": [
      "using Hybrid\n",
      "using chunks only\n"
     ]
    },
    {
     "name": "stderr",
     "output_type": "stream",
     "text": [
      "  8%|▊         | 5/60 [00:31<04:58,  5.43s/it]"
     ]
    },
    {
     "name": "stdout",
     "output_type": "stream",
     "text": [
      "using Hybrid\n",
      "using chunks only\n"
     ]
    },
    {
     "name": "stderr",
     "output_type": "stream",
     "text": [
      " 10%|█         | 6/60 [00:38<05:15,  5.83s/it]"
     ]
    },
    {
     "name": "stdout",
     "output_type": "stream",
     "text": [
      "using Hybrid\n",
      "using chunks only\n"
     ]
    },
    {
     "name": "stderr",
     "output_type": "stream",
     "text": [
      " 12%|█▏        | 7/60 [00:42<04:40,  5.30s/it]"
     ]
    },
    {
     "name": "stdout",
     "output_type": "stream",
     "text": [
      "using Hybrid\n",
      "using chunks only\n"
     ]
    },
    {
     "name": "stderr",
     "output_type": "stream",
     "text": [
      " 13%|█▎        | 8/60 [00:50<05:12,  6.00s/it]"
     ]
    },
    {
     "name": "stdout",
     "output_type": "stream",
     "text": [
      "using Hybrid\n",
      "using chunks only\n"
     ]
    },
    {
     "name": "stderr",
     "output_type": "stream",
     "text": [
      " 15%|█▌        | 9/60 [00:54<04:37,  5.44s/it]"
     ]
    },
    {
     "name": "stdout",
     "output_type": "stream",
     "text": [
      "using Hybrid\n",
      "using chunks only\n"
     ]
    },
    {
     "name": "stderr",
     "output_type": "stream",
     "text": [
      " 17%|█▋        | 10/60 [00:58<04:10,  5.00s/it]"
     ]
    },
    {
     "name": "stdout",
     "output_type": "stream",
     "text": [
      "using Hybrid\n",
      "using chunks only\n"
     ]
    },
    {
     "name": "stderr",
     "output_type": "stream",
     "text": [
      " 18%|█▊        | 11/60 [01:04<04:19,  5.30s/it]"
     ]
    },
    {
     "name": "stdout",
     "output_type": "stream",
     "text": [
      "using Hybrid\n",
      "using chunks only\n"
     ]
    },
    {
     "name": "stderr",
     "output_type": "stream",
     "text": [
      " 20%|██        | 12/60 [01:08<04:00,  5.02s/it]"
     ]
    },
    {
     "name": "stdout",
     "output_type": "stream",
     "text": [
      "using Hybrid\n",
      "using chunks only\n"
     ]
    },
    {
     "name": "stderr",
     "output_type": "stream",
     "text": [
      " 22%|██▏       | 13/60 [01:13<03:57,  5.06s/it]"
     ]
    },
    {
     "name": "stdout",
     "output_type": "stream",
     "text": [
      "using Hybrid\n",
      "using chunks only\n"
     ]
    },
    {
     "name": "stderr",
     "output_type": "stream",
     "text": [
      " 23%|██▎       | 14/60 [01:19<03:59,  5.21s/it]"
     ]
    },
    {
     "name": "stdout",
     "output_type": "stream",
     "text": [
      "using Hybrid\n",
      "using chunks only\n"
     ]
    },
    {
     "name": "stderr",
     "output_type": "stream",
     "text": [
      " 25%|██▌       | 15/60 [01:24<03:59,  5.31s/it]"
     ]
    },
    {
     "name": "stdout",
     "output_type": "stream",
     "text": [
      "using Hybrid\n",
      "using chunks only\n"
     ]
    },
    {
     "name": "stderr",
     "output_type": "stream",
     "text": [
      " 27%|██▋       | 16/60 [01:29<03:46,  5.14s/it]"
     ]
    },
    {
     "name": "stdout",
     "output_type": "stream",
     "text": [
      "using Hybrid\n",
      "using chunks only\n"
     ]
    },
    {
     "name": "stderr",
     "output_type": "stream",
     "text": [
      " 28%|██▊       | 17/60 [01:34<03:37,  5.05s/it]"
     ]
    },
    {
     "name": "stdout",
     "output_type": "stream",
     "text": [
      "using Hybrid\n",
      "using chunks only\n"
     ]
    },
    {
     "name": "stderr",
     "output_type": "stream",
     "text": [
      " 30%|███       | 18/60 [01:40<03:46,  5.39s/it]"
     ]
    },
    {
     "name": "stdout",
     "output_type": "stream",
     "text": [
      "using Hybrid\n",
      "using chunks only\n"
     ]
    },
    {
     "name": "stderr",
     "output_type": "stream",
     "text": [
      " 32%|███▏      | 19/60 [01:45<03:28,  5.09s/it]"
     ]
    },
    {
     "name": "stdout",
     "output_type": "stream",
     "text": [
      "using Hybrid\n",
      "using chunks only\n"
     ]
    },
    {
     "name": "stderr",
     "output_type": "stream",
     "text": [
      " 33%|███▎      | 20/60 [01:49<03:18,  4.95s/it]"
     ]
    },
    {
     "name": "stdout",
     "output_type": "stream",
     "text": [
      "using Hybrid\n",
      "using chunks only\n"
     ]
    },
    {
     "name": "stderr",
     "output_type": "stream",
     "text": [
      " 35%|███▌      | 21/60 [01:54<03:05,  4.76s/it]"
     ]
    },
    {
     "name": "stdout",
     "output_type": "stream",
     "text": [
      "using Hybrid\n",
      "using chunks only\n"
     ]
    },
    {
     "name": "stderr",
     "output_type": "stream",
     "text": [
      " 37%|███▋      | 22/60 [02:00<03:17,  5.21s/it]"
     ]
    },
    {
     "name": "stdout",
     "output_type": "stream",
     "text": [
      "using Hybrid\n",
      "using chunks only\n"
     ]
    },
    {
     "name": "stderr",
     "output_type": "stream",
     "text": [
      " 38%|███▊      | 23/60 [02:06<03:21,  5.45s/it]"
     ]
    },
    {
     "name": "stdout",
     "output_type": "stream",
     "text": [
      "using Hybrid\n",
      "using chunks only\n"
     ]
    },
    {
     "name": "stderr",
     "output_type": "stream",
     "text": [
      " 40%|████      | 24/60 [02:12<03:20,  5.56s/it]"
     ]
    },
    {
     "name": "stdout",
     "output_type": "stream",
     "text": [
      "using Hybrid\n",
      "using chunks only\n"
     ]
    },
    {
     "name": "stderr",
     "output_type": "stream",
     "text": [
      " 42%|████▏     | 25/60 [02:17<03:13,  5.53s/it]"
     ]
    },
    {
     "name": "stdout",
     "output_type": "stream",
     "text": [
      "using Hybrid\n",
      "using chunks only\n"
     ]
    },
    {
     "name": "stderr",
     "output_type": "stream",
     "text": [
      " 43%|████▎     | 26/60 [02:23<03:08,  5.53s/it]"
     ]
    },
    {
     "name": "stdout",
     "output_type": "stream",
     "text": [
      "using Hybrid\n",
      "using chunks only\n"
     ]
    },
    {
     "name": "stderr",
     "output_type": "stream",
     "text": [
      " 45%|████▌     | 27/60 [02:27<02:52,  5.24s/it]"
     ]
    },
    {
     "name": "stdout",
     "output_type": "stream",
     "text": [
      "using Hybrid\n",
      "using chunks only\n"
     ]
    },
    {
     "name": "stderr",
     "output_type": "stream",
     "text": [
      " 47%|████▋     | 28/60 [02:31<02:35,  4.87s/it]"
     ]
    },
    {
     "name": "stdout",
     "output_type": "stream",
     "text": [
      "using Hybrid\n",
      "using chunks only\n"
     ]
    },
    {
     "name": "stderr",
     "output_type": "stream",
     "text": [
      " 48%|████▊     | 29/60 [02:36<02:34,  5.00s/it]"
     ]
    },
    {
     "name": "stdout",
     "output_type": "stream",
     "text": [
      "using Hybrid\n",
      "using chunks only\n"
     ]
    },
    {
     "name": "stderr",
     "output_type": "stream",
     "text": [
      " 50%|█████     | 30/60 [02:41<02:26,  4.90s/it]"
     ]
    },
    {
     "name": "stdout",
     "output_type": "stream",
     "text": [
      "using Hybrid\n",
      "using chunks only\n"
     ]
    },
    {
     "name": "stderr",
     "output_type": "stream",
     "text": [
      " 52%|█████▏    | 31/60 [02:46<02:21,  4.89s/it]"
     ]
    },
    {
     "name": "stdout",
     "output_type": "stream",
     "text": [
      "using Hybrid\n",
      "using chunks only\n"
     ]
    },
    {
     "name": "stderr",
     "output_type": "stream",
     "text": [
      " 53%|█████▎    | 32/60 [02:50<02:13,  4.76s/it]"
     ]
    },
    {
     "name": "stdout",
     "output_type": "stream",
     "text": [
      "using Hybrid\n",
      "using chunks only\n"
     ]
    },
    {
     "name": "stderr",
     "output_type": "stream",
     "text": [
      " 55%|█████▌    | 33/60 [02:56<02:18,  5.12s/it]"
     ]
    },
    {
     "name": "stdout",
     "output_type": "stream",
     "text": [
      "using Hybrid\n",
      "using chunks only\n"
     ]
    },
    {
     "name": "stderr",
     "output_type": "stream",
     "text": [
      " 57%|█████▋    | 34/60 [03:02<02:17,  5.30s/it]"
     ]
    },
    {
     "name": "stdout",
     "output_type": "stream",
     "text": [
      "using Hybrid\n",
      "using chunks only\n"
     ]
    },
    {
     "name": "stderr",
     "output_type": "stream",
     "text": [
      " 58%|█████▊    | 35/60 [03:07<02:07,  5.11s/it]"
     ]
    },
    {
     "name": "stdout",
     "output_type": "stream",
     "text": [
      "using Hybrid\n",
      "using chunks only\n"
     ]
    },
    {
     "name": "stderr",
     "output_type": "stream",
     "text": [
      " 60%|██████    | 36/60 [03:12<02:05,  5.24s/it]"
     ]
    },
    {
     "name": "stdout",
     "output_type": "stream",
     "text": [
      "using Hybrid\n",
      "using chunks only\n"
     ]
    },
    {
     "name": "stderr",
     "output_type": "stream",
     "text": [
      " 62%|██████▏   | 37/60 [03:21<02:20,  6.12s/it]"
     ]
    },
    {
     "name": "stdout",
     "output_type": "stream",
     "text": [
      "using Hybrid\n",
      "using chunks only\n"
     ]
    },
    {
     "name": "stderr",
     "output_type": "stream",
     "text": [
      " 63%|██████▎   | 38/60 [03:26<02:07,  5.80s/it]"
     ]
    },
    {
     "name": "stdout",
     "output_type": "stream",
     "text": [
      "using Hybrid\n",
      "using chunks only\n"
     ]
    },
    {
     "name": "stderr",
     "output_type": "stream",
     "text": [
      " 65%|██████▌   | 39/60 [03:31<02:02,  5.83s/it]"
     ]
    },
    {
     "name": "stdout",
     "output_type": "stream",
     "text": [
      "using Hybrid\n",
      "using chunks only\n"
     ]
    },
    {
     "name": "stderr",
     "output_type": "stream",
     "text": [
      " 67%|██████▋   | 40/60 [03:37<01:53,  5.65s/it]"
     ]
    },
    {
     "name": "stdout",
     "output_type": "stream",
     "text": [
      "using Hybrid\n",
      "using chunks only\n"
     ]
    },
    {
     "name": "stderr",
     "output_type": "stream",
     "text": [
      " 68%|██████▊   | 41/60 [03:42<01:47,  5.64s/it]"
     ]
    },
    {
     "name": "stdout",
     "output_type": "stream",
     "text": [
      "using Hybrid\n",
      "using chunks only\n"
     ]
    },
    {
     "name": "stderr",
     "output_type": "stream",
     "text": [
      " 70%|███████   | 42/60 [03:48<01:40,  5.56s/it]"
     ]
    },
    {
     "name": "stdout",
     "output_type": "stream",
     "text": [
      "using Hybrid\n",
      "using chunks only\n"
     ]
    },
    {
     "name": "stderr",
     "output_type": "stream",
     "text": [
      " 72%|███████▏  | 43/60 [03:54<01:36,  5.66s/it]"
     ]
    },
    {
     "name": "stdout",
     "output_type": "stream",
     "text": [
      "using Hybrid\n",
      "using chunks only\n"
     ]
    },
    {
     "name": "stderr",
     "output_type": "stream",
     "text": [
      " 73%|███████▎  | 44/60 [04:00<01:31,  5.74s/it]"
     ]
    },
    {
     "name": "stdout",
     "output_type": "stream",
     "text": [
      "using Hybrid\n",
      "using chunks only\n"
     ]
    },
    {
     "name": "stderr",
     "output_type": "stream",
     "text": [
      " 75%|███████▌  | 45/60 [04:04<01:22,  5.51s/it]"
     ]
    },
    {
     "name": "stdout",
     "output_type": "stream",
     "text": [
      "using Hybrid\n",
      "using chunks only\n"
     ]
    },
    {
     "name": "stderr",
     "output_type": "stream",
     "text": [
      " 77%|███████▋  | 46/60 [04:10<01:15,  5.38s/it]"
     ]
    },
    {
     "name": "stdout",
     "output_type": "stream",
     "text": [
      "using Hybrid\n",
      "using chunks only\n"
     ]
    },
    {
     "name": "stderr",
     "output_type": "stream",
     "text": [
      " 78%|███████▊  | 47/60 [04:15<01:10,  5.39s/it]"
     ]
    },
    {
     "name": "stdout",
     "output_type": "stream",
     "text": [
      "using Hybrid\n",
      "using chunks only\n"
     ]
    },
    {
     "name": "stderr",
     "output_type": "stream",
     "text": [
      " 80%|████████  | 48/60 [04:20<01:04,  5.36s/it]"
     ]
    },
    {
     "name": "stdout",
     "output_type": "stream",
     "text": [
      "using Hybrid\n",
      "using chunks only\n"
     ]
    },
    {
     "name": "stderr",
     "output_type": "stream",
     "text": [
      " 82%|████████▏ | 49/60 [04:25<00:57,  5.24s/it]"
     ]
    },
    {
     "name": "stdout",
     "output_type": "stream",
     "text": [
      "using Hybrid\n",
      "using chunks only\n"
     ]
    },
    {
     "name": "stderr",
     "output_type": "stream",
     "text": [
      " 83%|████████▎ | 50/60 [04:32<00:57,  5.79s/it]"
     ]
    },
    {
     "name": "stdout",
     "output_type": "stream",
     "text": [
      "using Hybrid\n",
      "using chunks only\n"
     ]
    },
    {
     "name": "stderr",
     "output_type": "stream",
     "text": [
      " 85%|████████▌ | 51/60 [04:39<00:53,  5.93s/it]"
     ]
    },
    {
     "name": "stdout",
     "output_type": "stream",
     "text": [
      "using Hybrid\n",
      "using chunks only\n"
     ]
    },
    {
     "name": "stderr",
     "output_type": "stream",
     "text": [
      " 87%|████████▋ | 52/60 [04:43<00:43,  5.43s/it]"
     ]
    },
    {
     "name": "stdout",
     "output_type": "stream",
     "text": [
      "using Hybrid\n",
      "using chunks only\n"
     ]
    },
    {
     "name": "stderr",
     "output_type": "stream",
     "text": [
      " 88%|████████▊ | 53/60 [04:48<00:38,  5.48s/it]"
     ]
    },
    {
     "name": "stdout",
     "output_type": "stream",
     "text": [
      "using Hybrid\n",
      "using chunks only\n"
     ]
    },
    {
     "name": "stderr",
     "output_type": "stream",
     "text": [
      " 90%|█████████ | 54/60 [04:54<00:32,  5.37s/it]"
     ]
    },
    {
     "name": "stdout",
     "output_type": "stream",
     "text": [
      "using Hybrid\n",
      "using chunks only\n"
     ]
    },
    {
     "name": "stderr",
     "output_type": "stream",
     "text": [
      " 92%|█████████▏| 55/60 [04:59<00:27,  5.52s/it]"
     ]
    },
    {
     "name": "stdout",
     "output_type": "stream",
     "text": [
      "using Hybrid\n",
      "using chunks only\n"
     ]
    },
    {
     "name": "stderr",
     "output_type": "stream",
     "text": [
      " 93%|█████████▎| 56/60 [05:05<00:22,  5.61s/it]"
     ]
    },
    {
     "name": "stdout",
     "output_type": "stream",
     "text": [
      "using Hybrid\n",
      "using chunks only\n"
     ]
    },
    {
     "name": "stderr",
     "output_type": "stream",
     "text": [
      " 95%|█████████▌| 57/60 [05:10<00:16,  5.34s/it]"
     ]
    },
    {
     "name": "stdout",
     "output_type": "stream",
     "text": [
      "using Hybrid\n",
      "using chunks only\n"
     ]
    },
    {
     "name": "stderr",
     "output_type": "stream",
     "text": [
      " 97%|█████████▋| 58/60 [05:16<00:11,  5.53s/it]"
     ]
    },
    {
     "name": "stdout",
     "output_type": "stream",
     "text": [
      "using Hybrid\n",
      "using chunks only\n"
     ]
    },
    {
     "name": "stderr",
     "output_type": "stream",
     "text": [
      " 98%|█████████▊| 59/60 [05:23<00:05,  5.96s/it]"
     ]
    },
    {
     "name": "stdout",
     "output_type": "stream",
     "text": [
      "using Hybrid\n",
      "using chunks only\n"
     ]
    },
    {
     "name": "stderr",
     "output_type": "stream",
     "text": [
      "100%|██████████| 60/60 [05:29<00:00,  5.49s/it]\n",
      "/tmp/ipykernel_502890/115080139.py:13: FutureWarning: Setting an item of incompatible dtype is deprecated and will raise an error in a future version of pandas. Value '[\"The question seems to be incomplete, but I'll provide an answer based on the related topic of traffic safety and prevention.\\n\\nIf you're referring to preventing a traffic jam or collision, here's what the text suggests:\\n\\n1. **Search the road ahead**: Be aware of your surroundings.\\n2. **Identify potential hazards**: Anticipate potential dangers from other road users.\\n3. **Predict actions of others**: Consider how other drivers might behave.\\n4. **Decide on an action**: Based on these factors, decide what to do to avoid a collision.\\n5. **Execute the decision**: Take the necessary steps to maintain safety.\\n\\nTherefore, by following these steps and being vigilant while driving, you can help prevent traffic jams and collisions.\", 'According to the text, when turning to the left in going from one highway to another, every vehicle shall be conducted to the right of the center of the intersection of the highway. However, for a right turn, it is not explicitly stated what action should be taken.\\n\\nBut based on the general rules mentioned earlier (\"every person operating a motor vehicle or an animal-drawn vehicle on a highway shall pass to the right when meeting persons or vehicles coming toward him\"), we can infer that when making a right turn, the vehicle should also be conducted in such a way that it passes to the right.\\n\\nSo, the correct answer would be: \"pass to the right\".', 'According to the provided text, when you intend to turn right or left, you should signal your intention at least 100 meters before turning.', 'At an intersection with a traffic light, you should make a left turn only when the traffic light indicates that it is safe to do so.', \"The correct answer is:\\n\\nAutomated issuance of e-TOPs (electronic Temporary Operator Permit) through LEHMD (Law Enforcement Helpdesk Mobile Device).\\n\\nAccording to the text, the LTO's digitization endeavor aims to facilitate cashless transaction options for traffic infractions and eliminate graft and corruption in the traffic enforcement system. The use of LEHMD devices will enable traffic enforcers to issue e-TOPs electronically, eliminating the need for manual handwritten paper tickets and reducing opportunities for corruption.\", \"According to the provided text, there is no specific information about a scenario involving a four-lane road with a single white line. However, we can make an educated guess based on common traffic rules.\\n\\nIn most countries, including the Philippines, a single white line typically indicates that overtaking or changing lanes is not allowed in the direction of travel. If you are driving on a four-lane road and there is a single white line, it's generally safe to assume that passing or changing lanes is prohibited.\\n\\nSo, if I had to provide an answer based on common traffic rules:\\n\\nYou cannot change lanes or overtake other vehicles on a four-lane road with a single white line.\", 'According to the provided text, a double solid yellow line with a broken white line in between means that overtaking is prohibited from both sides of the broken white line but allowed on the side of the broken line.', \"According to the provided text, when making a U-turn, you should:\\n\\n* Use your mirrors and look over your shoulder to ensure it's safe to proceed\\n* Signal your intention to make a U-turn alerts other drivers and pedestrians of your upcoming maneuver\\n* Position your vehicle correctly to provide ample space and visibility for the maneuver\\n* Avoid sudden movements that could lead to loss of control\\n* Be vigilant for pedestrians and cyclists who may be crossing the road or using nearby crosswalks, and yield to them if necessary\\n* Stay up and focused on the road and be prepared to adjust your actions based on changing traffic conditions\\n* Exercise patience and avoid rushing the maneuver\\n* Respect any signage or markings that prohibit U-turns in specific areas\\n* Anticipate the actions of other drivers and be ready to react to unexpected situations\\n\\nBy following these safety tips, you can minimize risks and ensure a smooth and safe U-turn on the road.\", 'According to the text, signs that are triangular in shape and have a red-colored border are called \"Horizontal Warning Signs\" (Section B.2).', 'REGULATORY SIGNS', 'Based on the provided context, which appears to be about road traffic signs in the Philippines, I would answer:\\n\\n**Directional Signs**\\n\\nHowever, according to the information, it seems that there is another type of sign that matches the description: **Priority Sign** or more specifically, a sign with a \"round, rectangular with white and blue background\" doesn\\'t seem to be mentioned but a similar description could match with **Warning Signs**', 'On a two-lane road, single solid white lines with broken lines indicate that lane changes are allowed.', 'According to the RA No. 4136, Article III, Section 42 (c), drivers in the Philippines are required to yield the right of way to pedestrians within designated crosswalks. This means that if a pedestrian is crossing at a designated crosswalk, vehicles are legally obligated to stop and allow them to cross safely.\\n\\nSo, when you approach a crosswalk or pedestrian lane:\\n\\n*   Stop your vehicle before reaching the crosswalk.\\n*   Allow pedestrians to pass through the crosswalk first.\\n*   Be cautious and patient, as pedestrians may not always follow traffic rules.', \"According to the text, driving an unregistered motor vehicle is a serious offense and can result in substantial penalties. The minimum fine for this violation is at least P10,000.00, but it's not explicitly stated as a specific fine of that amount.\\n\\nHowever, based on the given options and the general context provided, I would answer:\\n\\n**P 10,000.00**\\n\\nPlease note that this answer assumes there are no other specific options mentioned in the question that might provide more precise information about the fine. If additional details or specific options were provided, a more accurate response could be formulated.\", 'Based on the given text, it appears that the following are considered parking violations:\\n\\n1. Parking within 4 meters of a fire hydrant\\n2. Blocking a driveway\\n3. Parking on sidewalks (blocking pedestrians)\\n4. Parking in Residential Areas without permission\\n5. Parking at or inside an intersection\\n6. Parking near pedestrian crossings\\n7. Double parking or on the driver side of a parked vehicle\\n8. Parking near the vicinity of a footbridge\\n\\nHowever, there is no specific mention of \"parking along all major national roads\" as a considered parking violation in the given text. It is mentioned that major national roads often get a huge amount of traffic, but it does not explicitly state that parking on these roads is prohibited.', 'The correct answer is:\\n\\n*Proceed only after yielding to other vehicles and pedestrians lawfully within the intersection.*\\n\\nThis is stated in the text as follows: \"At an intersection with a traffic control device If your light is green, you may proceed but only after yielding to other vehicles and pedestrians lawfully within the intersection.\"', 'The actual question is not provided in the query. However, I can infer that you are looking for information about steady red lights at intersections.\\n\\nBased on standard traffic rules, a steady red light at an intersection indicates that drivers should come to a complete stop before proceeding. It means \"stop\" and does not allow pedestrians or vehicles to proceed through the intersection.\\n\\nIf you would like more information or clarification on this topic, please let me know.', 'For a Non-Professional Driver with a 1st Conviction, the penalty is Confiscation and suspension of license for a period of 12 months. \\n\\nHowever, if you are asking about the monetary fine imposed on a driver who has committed his/her first offense related to driving under the influence of alcohol, according to RA 10586, it can range from Twenty thousand pesos (Php 20,000.00) to Eighty thousand pesos (Php 80,000.00).', 'According to the table provided in the context, for the violation \"Refusal to render service to the public or convey passenger to destination\", the penalty is:\\n\\n* 1st Offense: PHP 5,000.00\\n* 2nd Offense: PHP 10,000.00', \"If the driver is using a motor vehicle in committing a crime and is convicted, his driver's license shall be revoked and he shall be perpetually disqualified from being granted a driver's license.\", 'Based on the provided text, I will answer the actual question:\\n\\nThe minimum visibility distance for overtaking or passing another vehicle is 500 feet ahead, which is equivalent to at least 150 meters.', 'Based on the given context from the Philippines\\' Road and Traffic Rules, the correct answer is:\\n\\nYou have a complete/full stop when traversing any \"through highway\" or railroad crossing.\\n\\nAccording to the rule: \"The driver of a vehicle upon a highway shall bring to a full stop such vehicle before traversing any through highway or railroad crossing...\"\\n\\nThis means that you must come to a complete halt (or slow down to 5 miles per hour) when approaching a \"through highway\" or railroad crossing, regardless of whether it\\'s apparent that no hazard exists.', 'Based on the provided text, it seems that the correct answer cannot be determined directly from the information. However, according to the rules mentioned in the text related to driving on a two-lane road:\\n\\n1. The driver of any motor vehicle overtaking another vehicle proceeding in the same direction shall pass at a safe distance to the left thereof.\\n\\nThis implies that for a two-lane road where both lanes are for traffic going in the same direction, passing or overtaking is only mentioned as being done from the left side. Therefore, it can be inferred that on a two-lane road with no clear indication of designated passing lanes, overtaking would indeed be allowed but must be done by passing to the left.\\n\\nHowever, please note that this interpretation might not cover all specific scenarios or situations implied in the text, and there could be additional rules or exceptions applicable depending on the context.', 'Based on the given context, the correct answer is:\\n\\nA motor vehicle parking on or along any sidewalk, path, or alley not intended for vehicular traffic or parking.\\n\\nAccording to Road and Traffic Rules (No person shall drive or park a motor vehicle upon or along any sidewalk, path or alley not intended for vehicular traffic or parking.), parking a motor vehicle in an unauthorized area is considered a violation.', 'According to the provided text, parking is prohibited in certain specified places. Some of these places include:\\n\\n* Within an intersection\\n* On a crosswalk\\n* Within six meters of the intersection of curb lines\\n* Within four meters of a driveway entrance to a fire station\\n* Within four meters of a fire hydrant\\n* In front of a private driveway\\n* On the roadway side of any vehicle stopped or parked at the curb or edge of the highway\\n* At any place where official signs have been displayed prohibiting parking\\n\\nTherefore, the answer to the question \"Parking is prohibited\" is: Yes.', 'When the traffic light is a steady green and a steady left or right arrow, it means that drivers in all lanes can proceed straight through the intersection, but only if they turn in the direction indicated by the arrow. \\n\\nSo, the correct answer is: Drivers in all lanes can proceed straight through the intersection, turning in the direction indicated by the arrow (left or right).', 'According to Republic Act No. 10586, the maximum penalty for driving under the influence of liquor or prohibited drugs is a fine ranging from Three Hundred Thousand (Php 300,000.00) to Five Hundred Thousand (Php 500,000.00) and imprisonment, depending on whether physical injuries or homicide resulted from the violation.', 'Reduce your speed gradually.', 'Based on the provided context, I will attempt to answer the actual question.\\n\\nWhile driving at a high speed and having to stop suddenly, it is crucial to ensure that you maintain enough distance from other vehicles to allow for safe braking. According to the text, one should leave \"two or three seconds\" between your vehicle and the car in front of you to apply the brake (two- or three-second rule).\\n\\nThe correct answer would be:\\n\\nA) Leave at least two or three seconds between your vehicle and the car in front of you.\\n\\nOther options are not directly related to this context.', 'According to the text, when another vehicle is following you too closely, you should \"Check Surroundings\" by assessing both oncoming and trailing traffic using side mirrors and blind spot checks. This ensures that there\\'s ample space ahead and no hazards present.', 'Based on the provided text, it seems that the correct answer is not directly stated in the text. However, according to general knowledge and safe driving practices, the correct answer would be:\\n\\nThe driver of the vehicle behind you should always practice the 3-second rule to prevent following too closely.\\n\\nThis is because maintaining a sufficient following distance (at least two or three seconds) between vehicles allows drivers to react and stop safely if needed, as mentioned in the text.', 'When parking uphill without a curb, you should turn your wheels towards the kerb. This is to prevent the vehicle from rolling backwards down the slope if the handbrake fails or is not applied properly.', 'Based on the information provided, there is no specific scenario or rule mentioned regarding parking downhill. However, I can provide a general guideline for parking uphill or downhill:\\n\\n**Parking Uphill:**\\n\\nWhen parking uphill, you should always park so that your vehicle is in gear (in neutral if it\\'s an automatic transmission) and apply the parking brake to prevent rolling.\\n\\n**Parking Downhill:**\\n\\nWhen parking downhill, you should never leave your vehicle unattended without applying the parking brake or other safety measures to prevent it from rolling. This would be considered unsafe driving practice.\\n\\nConsidering this general guideline, the correct answer to the query \"When parking downhill, you must\" is:\\n\\nApply the Parking Brake', \"The correct answer is not provided in the given text. However, I can provide some general information about parking uphill.\\n\\nWhen parking uphill, it's generally recommended to park with your vehicle facing downhill if possible. This helps prevent rolling down a slope or getting stuck. If you must park uphill, make sure you're parked on a stable surface and apply the parking brake securely. It's also essential to engage the handbrake or hill holder (if equipped) to prevent the vehicle from moving.\\n\\nSince this specific question is not addressed in the provided text, I'll provide a general answer based on safe driving practices:\\n\\nWhen parking uphill, you should park facing downhill if possible and apply the parking brake securely.\", 'The correct answer is: Turning sharply.\\n\\nAccording to the text, \"Turning sharply\" is mentioned as an example of an abrupt move that can cause a driver to skid and lose control, especially on wet and possibly slippery roads.', 'The actual question is not explicitly stated in the provided text. However, I can infer that the correct response would be related to defensive driving techniques.\\n\\nBased on the context, it seems that the question is related to safe driving practices, specifically when overtaking another vehicle. The correct answer might involve a combination of scanning the road ahead and around the vehicle, identifying potential hazards, predicting the actions of other road users, deciding what action to take, and executing that decision.\\n\\nHere\\'s an attempt to provide a response based on this inference:\\n\\n\"Search/Scan the road seen ahead, around and rear of the vehicle.\"', 'The correct response is:\\n\\nKeep a safe distance and avoid staring at the vehicle in front of you.\\n\\nBased on the provided text, it seems that the question is referring to \"Overtaking\" rules on highways. The correct response would be related to this topic. However, since I couldn\\'t find an exact match for the given query in the provided text, I\\'ll provide a general answer based on common driving practices and road safety rules.\\n\\nWhen driving on a highway, it\\'s essential to maintain a safe following distance from the vehicle in front of you. Staring at the vehicle ahead can lead to driver distraction, which may cause accidents. It\\'s crucial to keep an eye on your surroundings, including other vehicles, pedestrians, and road signs, while also maintaining a safe speed and following distance.\\n\\nHere is the correct response:\\n\\n*   When driving on a highway, do not stare at the vehicle in front of you, instead you should: Keep a safe distance and avoid staring at the vehicle in front of you.', 'Based on the given context, I will answer the actual question.\\n\\nThe correct answer is: Reduce your speed and use low gear.\\n\\nThis is because the text mentions \"Driving in Different Road and Weather Conditions\" under which there is a subtopic \"Slopes/Crest, Curves and Mountain Driving\". Under this subtopic, it lists several tips for driving on mountain roads, including reducing your speed and using low gear.', 'Based on the provided text, I will answer the actual question.\\n\\nThe correct response is:\\n\\n**Slow down gradually and avoid sudden braking or acceleration.**\\n\\nThis is because driving uphill can be challenging due to potential loss of control or slipping off the road if not handled correctly. The key is to slow down gradually and maintain a safe speed while navigating downhill on a mountain road, avoiding sudden movements that could lead to losing control of the vehicle.', 'The correct answer is not explicitly stated in the given text. However, we can infer that the best course of action for using headlights is:\\n\\n\"Use them often enough to illuminate the road ahead.\"\\n\\nThis is because the text emphasizes the importance of having sufficient light on the road at night and suggests adjusting speed accordingly (\"Drive at a speed that allows you to stop within the illuminated area of your headlights\"). It also mentions \"staying alert and focused\", which implies using headlights as needed.', 'According to Republic Act No. 4136, when two vehicles approach or enter an intersection at approximately the same time, the driver of the vehicle on the left shall yield the right-of-way to the vehicle on the right.\\n\\nSo, in this scenario, the vehicle on the right has the right of way.', 'Based on the provided text, the correct answer is:\\n\\nWhen another vehicle is proceeding in the same direction upon a curve in a highway where the driver\\'s view is obstructed within a distance of 500 feet ahead.\\n\\nThis option is listed under \"Overtaking\" as an incorrect action that can lead to an automatic failure. It indicates that driving on a curved section of the road when visibility is limited (within 500 feet ahead) is not allowed, even if you are trying to overtake another vehicle.', 'The correct response is:\\n\\n\"Maintain a steady speed and move to the side\"\\n\\nAs indicated in the provided text, when being overtaken by another vehicle, it\\'s essential to stay calm and aware, move to the side of your lane or road if safe, maintain a steady speed (do not speed up), and check mirrors to ensure the other driver has safely passed.', 'According to the provided text, if drivers fail to overcome stress while driving, neither the aggressor nor the victim will come out ahead, and they may even cause accidents for everyone.\\n\\nHowever, to answer your question about driving in heavy rains, the correct response is:\\n\\nYou should reduce speed. The text suggests that reduced visibility due to rain requires extra reaction time, and lower speeds enhance safety. Additionally, you should ensure that all your vehicle lights are in good working condition, including headlights, taillights, brake lights, and turn signals, and use high-quality headlights that provide clear illumination.\\n\\nHere is the relevant quote from the text:\\n\\n\"Reduce Speed Slow down when driving at night. Reduced visibility requires extra reaction time, and lower speeds enhance safety.\"', \"The correct answer is not provided in the given context. However, I can provide some general information about traffic lights.\\n\\nA flashing red light typically means that drivers should come to a complete stop and do not proceed until the signal has stopped flashing. It is often used at railroad crossings or in areas where pedestrian safety is a concern.\\n\\nIf you're looking for information on how to handle a specific type of traffic signal, please let me know and I'll be happy to help!\", 'The correct answer is:\\n\\n*   \"Slow down\" or \"At a reasonable speed\"\\n\\nAccording to the provided text, it states that one must not drive faster than will permit him to bring the vehicle to a stop within the assured clear distance ahead.\\n\\nAdditionally, specific maximum allowable speeds are prescribed depending on various conditions. However, driving at night is not explicitly mentioned with a specific speed limit in the provided text.', 'Based on the provided context, the correct answer to the query is:\\n\\nThe actual question being referred to in the last paragraph of the text is likely related to road and traffic rules. However, the exact question is not explicitly stated.\\n\\nHowever, I can try to infer a possible question based on the topic \"Road and Traffic Rules\" and the surrounding context. One possible question that could be relevant to this topic and affects visibility is:\\n\\n\"What should you do when driving at night?\"\\n\\nA suitable answer to this query would be:\\n\\n\"You should turn on your headlights.\"\\n\\nPlease note that this is an educated guess, and the actual question being referred to in the text might be different.', 'According to the text, when driving at night in the Philippines, it is recommended to \"Drive Slower at Night\" and also to use high beams wisely. Additionally, staying alert and focused is crucial for safe night driving.\\n\\nHowever, if I had to choose one answer from the options provided (which are not explicitly given), I would say that \"Use High Beams Wisely\" is a good tip when driving at night in the Philippines.', 'Based on the given context, the correct answer would be:\\n\\n\"not get angry or defensive\"\\n\\nThis response aligns with the information about passing and being passed in driving provided earlier. The passage advises drivers to \"pags a2 sale tance to he lt ot nate: motor vice when everaking that vercle Cting an overtaken vericie-driing tote vigh side ofthe highway\" which can be interpreted as not taking it personally or getting defensive when being passed by another vehicle.', 'Based on the provided context, the correct answer is:\\n\\n**You should yield and not attempt to overtake.**\\n\\nThe relevant rule mentioned in point 10 states: \"Overtaking at any railway grade crossing\" (emphasis mine). However, it\\'s essential to note that this specific point doesn\\'t directly address a situation where an oncoming vehicle crosses the centerline to pass another vehicle.\\n\\nHowever, we can infer from other points related to overtaking and passing rules. For example:\\n\\n* Point 20 mentions: \"Overtaking or passing another vehicle proceeding in the same direction at any intersection of highways except on a highway having two or more lanes for movement of traffic in one direction where the driver of a vehicle may overtake another vehicle on the right.\"\\n* Point 22 states: \"Overtaking \\'no\\' zone\" which implies that overtaking is not allowed within designated zones, including areas to the left of other vehicles.\\n\\nGiven these rules, if an oncoming vehicle deliberately crosses the centerline to pass another vehicle, it would likely be considered an unsafe maneuver. In such a situation, you should prioritize caution and avoid attempting to overtake or follow closely behind the oncoming vehicle.', \"When approaching a flooded area and you have to go through it, you should reduce your speed. If possible, avoid driving through floodwaters altogether. If you must drive through, proceed slowly and cautiously, keeping in mind that the road may be slippery and there could be hidden hazards such as submerged obstacles or weakened bridges. It's also a good idea to turn off your car's engine while going through deep water to prevent electrical damage.\\n\\nHowever, according to the context provided, it seems like there is more information about vehicle maintenance after being exposed to floodwaters, rather than driving through them safely.\", 'A single solid yellow or white line means overtaking from both directions is prohibited, and crossing movement is allowed.', 'According to the text, passing/overtaking is not always allowed. It is only permitted in certain situations, such as when there are two or more lanes for the movement of traffic in one direction (highways), when explicitly directed by a traffic signal, or when authorized by a watchman or peace officer.\\n\\nSo, I would answer: \"No, passing/overtaking is not always allowed.\"', 'According to the rules, a driver on a highway shall yield the right of way to vehicles already traveling in the same direction when they approach or enter an intersection at approximately the same time. Therefore, the correct answer is:\\n\\nVehicles already traveling in the same direction.\\n\\nMore specifically, if multiple drivers are approaching an intersection from different directions at the same time, the driver on the right has the right of way, and other drivers must yield to them.', 'The correct answer is: The vehicle on their right, when approaching or entering an intersection at approximately the same time.\\n\\nAccording to point 23 in the list of traffic infractions, \"Failure to yield the right of way - failure of a vehicle on the left to yield the right of way to the vehicle on the right when these vehicles approach or enter an intersection at approximately the same time.\"\\n\\nSo, in this situation, the driver on the highway shall yield the right of way to the vehicle approaching from the opposite direction.', 'The correct answer is not explicitly provided in the given text, but it can be inferred from the content. The text describes various types of LTO traffic signs and pavement markings, including those related to school zones.\\n\\nBased on general knowledge about traffic signs, a sign that warns drivers that school children may be present in the vicinity is typically represented by an image of a child or a pedestrian, with a \"school zone\" label or a warning message indicating the presence of children.\\n\\nTherefore, without specific information provided in the text, a reasonable answer could be:\\n\\n* The traffic sign represents a school zone.\\n* The traffic sign includes an image of a child or a pedestrian.\\n* The traffic sign warns drivers that children may be present.', 'The correct answer is \"PEDESTRIANS CROSSING AHEAD\" and also \"BE AWARE AND STOP FOR CHILDREN CROSSING AHEAD\" and \"BE AWARE AND STOP FOR PWD CROSSING AHEAD\". However, the most fitting answer would be \"PEDESTRIANS CROSSING AHEAD\" as it directly warns of a hazard ahead.', 'The correct answer is not provided in the text, but I can provide a possible solution.\\n\\nBased on the context, it appears that you are referring to a specific type of traffic sign. The signs mentioned in the text include:\\n\\n* Directional Lane Arrows (meaning: Indicates permissible directions of travel within lanes)\\n* Mixed Double Lane Divider (meaning: Restricts lane changes from one side while allowing merging from the other side)\\n\\nHowever, none of these signs specifically state direction and distances.\\n\\nA possible correct answer could be a \"Direction Sign\" or a \"Distance Sign\", but without more information, it\\'s difficult to provide a definitive answer. If you could provide more context or clarify which type of sign is being referred to, I\\'d be happy to try and assist further.', 'Based on the provided context, which appears to be a list of road signs and symbols, I will try to identify the correct answer.\\n\\nThe actual question is \"What is the mark for a railway crossing?\"\\n\\nFrom the context, I see that there are several categories of signs listed, including:\\n\\n1. Traffic Signs\\n2. Advance Warning/Traffic Control Device Signs\\n3. Road Width Signs\\n4. Road Obstacle Signs\\n5. Pedestrian Signs\\n6. Railway Level Crossing Signs\\n\\nWithin the \"Railway Level Crossing Signs\" category, I see the following options:\\n\\n* Railroad crossing vehicles must stop or give the right of way\\n* Railroad crossing advance warning (signaled)\\n* Railroad crossing advance warning (unsignaled)\\n\\nHowever, there is no explicit option that says \"mark for a railway crossing\". But based on common knowledge and road signs, the mark for a railway crossing is typically a yellow diamond-shaped sign with an alternating red and white striped pattern.\\n\\nTherefore, I would guess that the answer is not explicitly listed in the context provided. However, if I had to choose one of the options from the \"Railway Level Crossing Signs\" category, I would select:\\n\\n* Railroad crossing vehicles must stop or give the right of way', 'According to the provided text, children (12 years or younger) must be secured using a Child Restraint System (CRS) when riding in a motor vehicle. This is a requirement under Republic Act No. 11229 (RA 11229), also known as the \"Child Safety in Motor Vehicles Act\". \\n\\nSo, to answer your question: Children must be held in approved child restraints if there are no seats available with built-in seat belts or integrated child restraint systems.']' has dtype incompatible with float64, please explicitly cast to a compatible dtype first.\n",
      "  df.loc[qr_range[0]:qr_range[1]-1, \"AI\"] = [answ[0] for answ in ai_answer]\n"
     ]
    }
   ],
   "source": [
    "import time\n",
    "qr_range = (0,60)\n",
    "df[\"AI\"] = np.nan\n",
    "ai_answer = []\n",
    "inference_times = []\n",
    "\n",
    "for i in tqdm(range(*qr_range)):\n",
    "    start_time = time.time()\n",
    "    ai_answer.append(gen_query(df.loc[i,\"Prompt\"], top_k=15, client=client, mode='hybrid', model=\"llama3.1:8b\"))\n",
    "    end_time = time.time()\n",
    "    inference_times.append(end_time - start_time)\n",
    "\n",
    "df.loc[qr_range[0]:qr_range[1]-1, \"AI\"] = [answ[0] for answ in ai_answer]\n",
    "df.loc[qr_range[0]:qr_range[1]-1, \"Context\"] = [answ[2] for answ in ai_answer]\n",
    "df.loc[qr_range[0]:qr_range[1]-1, \"Inference_Time\"] = inference_times \n",
    "df_new = df.loc[qr_range[0]:qr_range[1]-1].copy()\n",
    "df = df_new.copy()"
   ]
  },
  {
   "cell_type": "markdown",
   "id": "116c4060",
   "metadata": {},
   "source": [
    "# 10. Similarity Evaluation"
   ]
  },
  {
   "cell_type": "code",
   "execution_count": 37,
   "id": "f9746d34",
   "metadata": {},
   "outputs": [
    {
     "name": "stderr",
     "output_type": "stream",
     "text": [
      "  0%|          | 0/60 [00:00<?, ?it/s]"
     ]
    },
    {
     "name": "stderr",
     "output_type": "stream",
     "text": [
      "100%|██████████| 60/60 [00:05<00:00, 11.62it/s]"
     ]
    },
    {
     "name": "stdout",
     "output_type": "stream",
     "text": [
      "Average Score: 0.6473\n",
      "Passing: 43/60\n"
     ]
    },
    {
     "name": "stderr",
     "output_type": "stream",
     "text": [
      "\n"
     ]
    },
    {
     "data": {
      "text/html": [
       "<div>\n",
       "<style scoped>\n",
       "    .dataframe tbody tr th:only-of-type {\n",
       "        vertical-align: middle;\n",
       "    }\n",
       "\n",
       "    .dataframe tbody tr th {\n",
       "        vertical-align: top;\n",
       "    }\n",
       "\n",
       "    .dataframe thead th {\n",
       "        text-align: right;\n",
       "    }\n",
       "</style>\n",
       "<table border=\"1\" class=\"dataframe\">\n",
       "  <thead>\n",
       "    <tr style=\"text-align: right;\">\n",
       "      <th></th>\n",
       "      <th>Question</th>\n",
       "      <th>Answer</th>\n",
       "      <th>AI</th>\n",
       "      <th>Score</th>\n",
       "      <th>Passing</th>\n",
       "      <th>Inference_Time</th>\n",
       "    </tr>\n",
       "  </thead>\n",
       "  <tbody>\n",
       "    <tr>\n",
       "      <th>0</th>\n",
       "      <td>Traffic Jam can be prevented if you</td>\n",
       "      <td>Keep opposing lanes open</td>\n",
       "      <td>The question seems to be incomplete, but I'll ...</td>\n",
       "      <td>0.649728</td>\n",
       "      <td>True</td>\n",
       "      <td>12.690465</td>\n",
       "    </tr>\n",
       "    <tr>\n",
       "      <th>1</th>\n",
       "      <td>When making a right turn you should</td>\n",
       "      <td>Stay on the outermost lane of the road then si...</td>\n",
       "      <td>According to the text, when turning to the lef...</td>\n",
       "      <td>0.761926</td>\n",
       "      <td>True</td>\n",
       "      <td>5.661499</td>\n",
       "    </tr>\n",
       "    <tr>\n",
       "      <th>2</th>\n",
       "      <td>When you intend to turn right or left, signal ...</td>\n",
       "      <td>25 meters before you intend to make your turn</td>\n",
       "      <td>According to the provided text, when you inten...</td>\n",
       "      <td>0.797366</td>\n",
       "      <td>True</td>\n",
       "      <td>4.041142</td>\n",
       "    </tr>\n",
       "    <tr>\n",
       "      <th>3</th>\n",
       "      <td>At an intersection with a traffic light, make ...</td>\n",
       "      <td>The green light is on and there is a left turn...</td>\n",
       "      <td>At an intersection with a traffic light, you s...</td>\n",
       "      <td>0.745402</td>\n",
       "      <td>True</td>\n",
       "      <td>4.332860</td>\n",
       "    </tr>\n",
       "    <tr>\n",
       "      <th>4</th>\n",
       "      <td>Graft and corruption in the traffic enforcemen...</td>\n",
       "      <td>Self disciplined by drivers and obeying traffi...</td>\n",
       "      <td>The correct answer is:\\n\\nAutomated issuance o...</td>\n",
       "      <td>0.597946</td>\n",
       "      <td>False</td>\n",
       "      <td>5.045053</td>\n",
       "    </tr>\n",
       "    <tr>\n",
       "      <th>5</th>\n",
       "      <td>On a four(4) lane road with single white line,...</td>\n",
       "      <td>Overtake by passing over the solid white line</td>\n",
       "      <td>According to the provided text, there is no sp...</td>\n",
       "      <td>0.752399</td>\n",
       "      <td>True</td>\n",
       "      <td>6.621878</td>\n",
       "    </tr>\n",
       "    <tr>\n",
       "      <th>6</th>\n",
       "      <td>A double solid yellow line with broken white l...</td>\n",
       "      <td>Absolutely no overtaking</td>\n",
       "      <td>According to the provided text, a double solid...</td>\n",
       "      <td>0.590069</td>\n",
       "      <td>False</td>\n",
       "      <td>4.196586</td>\n",
       "    </tr>\n",
       "    <tr>\n",
       "      <th>7</th>\n",
       "      <td>When making a U-Turn, you should</td>\n",
       "      <td>Check for traffic behind you and indicate your...</td>\n",
       "      <td>According to the provided text, when making a ...</td>\n",
       "      <td>0.684109</td>\n",
       "      <td>True</td>\n",
       "      <td>7.499764</td>\n",
       "    </tr>\n",
       "    <tr>\n",
       "      <th>8</th>\n",
       "      <td>Signs that are triangular in shape and with a ...</td>\n",
       "      <td>Caution or warning signs</td>\n",
       "      <td>According to the text, signs that are triangul...</td>\n",
       "      <td>0.685975</td>\n",
       "      <td>True</td>\n",
       "      <td>4.214451</td>\n",
       "    </tr>\n",
       "    <tr>\n",
       "      <th>9</th>\n",
       "      <td>Signs that are round, inverted triangle or oct...</td>\n",
       "      <td>Regulatory signs</td>\n",
       "      <td>REGULATORY SIGNS</td>\n",
       "      <td>1.000000</td>\n",
       "      <td>True</td>\n",
       "      <td>4.024455</td>\n",
       "    </tr>\n",
       "    <tr>\n",
       "      <th>10</th>\n",
       "      <td>Signs that are round, rectangular with white a...</td>\n",
       "      <td>Informative signs</td>\n",
       "      <td>Based on the provided context, which appears t...</td>\n",
       "      <td>0.739174</td>\n",
       "      <td>True</td>\n",
       "      <td>5.969152</td>\n",
       "    </tr>\n",
       "    <tr>\n",
       "      <th>11</th>\n",
       "      <td>Single with broken line on a two-lane road means</td>\n",
       "      <td>It separates traffic moving in opposite direct...</td>\n",
       "      <td>On a two-lane road, single solid white lines w...</td>\n",
       "      <td>0.746037</td>\n",
       "      <td>True</td>\n",
       "      <td>4.373010</td>\n",
       "    </tr>\n",
       "    <tr>\n",
       "      <th>12</th>\n",
       "      <td>What to do when you approach a crosswalk or pe...</td>\n",
       "      <td>Stop and yield to pedestrian</td>\n",
       "      <td>According to the RA No. 4136, Article III, Sec...</td>\n",
       "      <td>0.753408</td>\n",
       "      <td>True</td>\n",
       "      <td>5.162937</td>\n",
       "    </tr>\n",
       "    <tr>\n",
       "      <th>13</th>\n",
       "      <td>Driving an unregistered motor vehicle is a vio...</td>\n",
       "      <td>Fine of P10,000</td>\n",
       "      <td>According to the text, driving an unregistered...</td>\n",
       "      <td>0.769075</td>\n",
       "      <td>True</td>\n",
       "      <td>5.532926</td>\n",
       "    </tr>\n",
       "    <tr>\n",
       "      <th>14</th>\n",
       "      <td>Considered a parking violation?</td>\n",
       "      <td>Parking within five(5) meters from a signalize...</td>\n",
       "      <td>Based on the given text, it appears that the f...</td>\n",
       "      <td>0.684413</td>\n",
       "      <td>True</td>\n",
       "      <td>5.557519</td>\n",
       "    </tr>\n",
       "    <tr>\n",
       "      <th>15</th>\n",
       "      <td>Green light at an intersection means</td>\n",
       "      <td>Pedestrian are not allowed to cross the pedest...</td>\n",
       "      <td>The correct answer is:\\n\\n*Proceed only after ...</td>\n",
       "      <td>0.652248</td>\n",
       "      <td>True</td>\n",
       "      <td>4.746063</td>\n",
       "    </tr>\n",
       "    <tr>\n",
       "      <th>16</th>\n",
       "      <td>Steady red light at an intersection means</td>\n",
       "      <td>Stop at the designated line</td>\n",
       "      <td>The actual question is not provided in the que...</td>\n",
       "      <td>0.649845</td>\n",
       "      <td>True</td>\n",
       "      <td>4.845994</td>\n",
       "    </tr>\n",
       "    <tr>\n",
       "      <th>17</th>\n",
       "      <td>The penalty of driving a motor vehicle while u...</td>\n",
       "      <td>Driver's license shall be confiscated and susp...</td>\n",
       "      <td>For a Non-Professional Driver with a 1st Convi...</td>\n",
       "      <td>0.660284</td>\n",
       "      <td>True</td>\n",
       "      <td>6.156448</td>\n",
       "    </tr>\n",
       "    <tr>\n",
       "      <th>18</th>\n",
       "      <td>When a driver of PUV refuses to render service...</td>\n",
       "      <td>Fine of P1,000</td>\n",
       "      <td>According to the table provided in the context...</td>\n",
       "      <td>0.767155</td>\n",
       "      <td>True</td>\n",
       "      <td>4.412440</td>\n",
       "    </tr>\n",
       "    <tr>\n",
       "      <th>19</th>\n",
       "      <td>If the driver is using a motor vehicle in comm...</td>\n",
       "      <td>Revoked and will pay a fine</td>\n",
       "      <td>If the driver is using a motor vehicle in comm...</td>\n",
       "      <td>0.617556</td>\n",
       "      <td>True</td>\n",
       "      <td>4.627872</td>\n",
       "    </tr>\n",
       "    <tr>\n",
       "      <th>20</th>\n",
       "      <td>The minimum distance away from the vehicle are...</td>\n",
       "      <td>1 car length</td>\n",
       "      <td>Based on the provided text, I will answer the ...</td>\n",
       "      <td>0.612021</td>\n",
       "      <td>True</td>\n",
       "      <td>4.318186</td>\n",
       "    </tr>\n",
       "    <tr>\n",
       "      <th>21</th>\n",
       "      <td>When do you have a complete/full stop?</td>\n",
       "      <td>At a red traffic light</td>\n",
       "      <td>Based on the given context from the Philippine...</td>\n",
       "      <td>0.613826</td>\n",
       "      <td>True</td>\n",
       "      <td>6.244503</td>\n",
       "    </tr>\n",
       "    <tr>\n",
       "      <th>22</th>\n",
       "      <td>On a two-lane road, overtaking is only allowed...</td>\n",
       "      <td>Left lane</td>\n",
       "      <td>Based on the provided text, it seems that the ...</td>\n",
       "      <td>0.725317</td>\n",
       "      <td>True</td>\n",
       "      <td>6.015074</td>\n",
       "    </tr>\n",
       "    <tr>\n",
       "      <th>23</th>\n",
       "      <td>Parking is considered as a violation when a mo...</td>\n",
       "      <td>Park at the entrance and exit of hospital and ...</td>\n",
       "      <td>Based on the given context, the correct answer...</td>\n",
       "      <td>0.567575</td>\n",
       "      <td>False</td>\n",
       "      <td>5.803617</td>\n",
       "    </tr>\n",
       "    <tr>\n",
       "      <th>24</th>\n",
       "      <td>Parking is prohibited</td>\n",
       "      <td>Within an intersection</td>\n",
       "      <td>According to the provided text, parking is pro...</td>\n",
       "      <td>0.659350</td>\n",
       "      <td>True</td>\n",
       "      <td>5.449078</td>\n",
       "    </tr>\n",
       "    <tr>\n",
       "      <th>25</th>\n",
       "      <td>When the traffic light is steady green and ste...</td>\n",
       "      <td>Vehicles can go straight or vehicles on the ri...</td>\n",
       "      <td>When the traffic light is a steady green and a...</td>\n",
       "      <td>0.764550</td>\n",
       "      <td>True</td>\n",
       "      <td>5.549537</td>\n",
       "    </tr>\n",
       "    <tr>\n",
       "      <th>26</th>\n",
       "      <td>What is the maximum penalty for driving under ...</td>\n",
       "      <td>Revocation of license</td>\n",
       "      <td>According to Republic Act No. 10586, the maxim...</td>\n",
       "      <td>0.518590</td>\n",
       "      <td>False</td>\n",
       "      <td>4.539779</td>\n",
       "    </tr>\n",
       "    <tr>\n",
       "      <th>27</th>\n",
       "      <td>On a wet road, you must</td>\n",
       "      <td>Slow down</td>\n",
       "      <td>Reduce your speed gradually.</td>\n",
       "      <td>0.832553</td>\n",
       "      <td>True</td>\n",
       "      <td>4.015875</td>\n",
       "    </tr>\n",
       "    <tr>\n",
       "      <th>28</th>\n",
       "      <td>While driving with a maximum speed and you hav...</td>\n",
       "      <td>Apply your brake gently with steady pressure</td>\n",
       "      <td>Based on the provided context, I will attempt ...</td>\n",
       "      <td>0.622731</td>\n",
       "      <td>True</td>\n",
       "      <td>5.287143</td>\n",
       "    </tr>\n",
       "    <tr>\n",
       "      <th>29</th>\n",
       "      <td>When another vehicle is following you too clos...</td>\n",
       "      <td>Slow down gradually and give him the signal to...</td>\n",
       "      <td>According to the text, when another vehicle is...</td>\n",
       "      <td>0.652655</td>\n",
       "      <td>True</td>\n",
       "      <td>4.663078</td>\n",
       "    </tr>\n",
       "    <tr>\n",
       "      <th>30</th>\n",
       "      <td>The driver of the vehicle behind you should al...</td>\n",
       "      <td>Rear end crashes</td>\n",
       "      <td>Based on the provided text, it seems that the ...</td>\n",
       "      <td>0.527858</td>\n",
       "      <td>False</td>\n",
       "      <td>4.858383</td>\n",
       "    </tr>\n",
       "    <tr>\n",
       "      <th>31</th>\n",
       "      <td>When parking uphill without a curb, turn your ...</td>\n",
       "      <td>Towards the edge of the road</td>\n",
       "      <td>When parking uphill without a curb, you should...</td>\n",
       "      <td>0.651597</td>\n",
       "      <td>True</td>\n",
       "      <td>4.464437</td>\n",
       "    </tr>\n",
       "    <tr>\n",
       "      <th>32</th>\n",
       "      <td>When parking downhill, you must</td>\n",
       "      <td>Turn your wheels to curb</td>\n",
       "      <td>Based on the information provided, there is no...</td>\n",
       "      <td>0.631016</td>\n",
       "      <td>True</td>\n",
       "      <td>5.955665</td>\n",
       "    </tr>\n",
       "    <tr>\n",
       "      <th>33</th>\n",
       "      <td>When parking uphill, you must</td>\n",
       "      <td>Turn your wheels aways from the curb</td>\n",
       "      <td>The correct answer is not provided in the give...</td>\n",
       "      <td>0.594264</td>\n",
       "      <td>False</td>\n",
       "      <td>5.733157</td>\n",
       "    </tr>\n",
       "    <tr>\n",
       "      <th>34</th>\n",
       "      <td>When you make an abrupt move especially when y...</td>\n",
       "      <td>Improper braking</td>\n",
       "      <td>The correct answer is: Turning sharply.\\n\\nAcc...</td>\n",
       "      <td>0.702642</td>\n",
       "      <td>True</td>\n",
       "      <td>4.654158</td>\n",
       "    </tr>\n",
       "    <tr>\n",
       "      <th>35</th>\n",
       "      <td>Whenever you are driving, especially when over...</td>\n",
       "      <td>Never overtake another vehicle from a tailgat...</td>\n",
       "      <td>The actual question is not explicitly stated i...</td>\n",
       "      <td>0.632073</td>\n",
       "      <td>True</td>\n",
       "      <td>5.542118</td>\n",
       "    </tr>\n",
       "    <tr>\n",
       "      <th>36</th>\n",
       "      <td>When driving on a highway, do not stare at the...</td>\n",
       "      <td>Extend your scanning distance to about 12 seco...</td>\n",
       "      <td>The correct response is:\\n\\nKeep a safe distan...</td>\n",
       "      <td>0.641798</td>\n",
       "      <td>True</td>\n",
       "      <td>8.176617</td>\n",
       "    </tr>\n",
       "    <tr>\n",
       "      <th>37</th>\n",
       "      <td>When driving on a mountain roads during daytim...</td>\n",
       "      <td>Blow your horn when approaching a blind curve</td>\n",
       "      <td>Based on the given context, I will answer the ...</td>\n",
       "      <td>0.631420</td>\n",
       "      <td>True</td>\n",
       "      <td>5.037713</td>\n",
       "    </tr>\n",
       "    <tr>\n",
       "      <th>38</th>\n",
       "      <td>When driving downhill on a mountain road always</td>\n",
       "      <td>Shift to lower gear so the engine braking acti...</td>\n",
       "      <td>Based on the provided text, I will answer the ...</td>\n",
       "      <td>0.682779</td>\n",
       "      <td>True</td>\n",
       "      <td>5.896779</td>\n",
       "    </tr>\n",
       "    <tr>\n",
       "      <th>39</th>\n",
       "      <td>The headlights should be used often as needed to</td>\n",
       "      <td>Make your intentions known to drivers around you</td>\n",
       "      <td>The correct answer is not explicitly stated in...</td>\n",
       "      <td>0.655110</td>\n",
       "      <td>True</td>\n",
       "      <td>5.250630</td>\n",
       "    </tr>\n",
       "    <tr>\n",
       "      <th>40</th>\n",
       "      <td>At an intersection, if two (2) vehicles arrive...</td>\n",
       "      <td>Vehicle on the right</td>\n",
       "      <td>According to Republic Act No. 4136, when two v...</td>\n",
       "      <td>0.686122</td>\n",
       "      <td>True</td>\n",
       "      <td>5.608361</td>\n",
       "    </tr>\n",
       "    <tr>\n",
       "      <th>41</th>\n",
       "      <td>When negotiating a curve on a highway at a rel...</td>\n",
       "      <td>Decrease your speed further as you enter the c...</td>\n",
       "      <td>Based on the provided text, the correct answer...</td>\n",
       "      <td>0.634951</td>\n",
       "      <td>True</td>\n",
       "      <td>5.387051</td>\n",
       "    </tr>\n",
       "    <tr>\n",
       "      <th>42</th>\n",
       "      <td>When planning to overtake a slower vehicle in ...</td>\n",
       "      <td>Flick your dimmer, switch two or three times t...</td>\n",
       "      <td>The correct response is:\\n\\n\"Maintain a steady...</td>\n",
       "      <td>0.658377</td>\n",
       "      <td>True</td>\n",
       "      <td>5.885739</td>\n",
       "    </tr>\n",
       "    <tr>\n",
       "      <th>43</th>\n",
       "      <td>Driving in heavy rains can be extremely danger...</td>\n",
       "      <td>When you cannot see more than 20 meters in fro...</td>\n",
       "      <td>According to the provided text, if drivers fai...</td>\n",
       "      <td>0.645505</td>\n",
       "      <td>True</td>\n",
       "      <td>5.931569</td>\n",
       "    </tr>\n",
       "    <tr>\n",
       "      <th>44</th>\n",
       "      <td>A flashing red light means</td>\n",
       "      <td>You must stop and then go only when it is safe...</td>\n",
       "      <td>The correct answer is not provided in the give...</td>\n",
       "      <td>0.582686</td>\n",
       "      <td>False</td>\n",
       "      <td>4.962330</td>\n",
       "    </tr>\n",
       "    <tr>\n",
       "      <th>45</th>\n",
       "      <td>Your speed while driving at night should keep on</td>\n",
       "      <td>The distance that you can see where you come t...</td>\n",
       "      <td>The correct answer is:\\n\\n*   \"Slow down\" or \"...</td>\n",
       "      <td>0.615023</td>\n",
       "      <td>True</td>\n",
       "      <td>5.091675</td>\n",
       "    </tr>\n",
       "    <tr>\n",
       "      <th>46</th>\n",
       "      <td>One that affects your visibility?</td>\n",
       "      <td>Defective or dirty headlights</td>\n",
       "      <td>Based on the provided context, the correct ans...</td>\n",
       "      <td>0.547040</td>\n",
       "      <td>False</td>\n",
       "      <td>5.386728</td>\n",
       "    </tr>\n",
       "    <tr>\n",
       "      <th>47</th>\n",
       "      <td>When driving at night, you should</td>\n",
       "      <td>Always turn your headlights on</td>\n",
       "      <td>According to the text, when driving at night i...</td>\n",
       "      <td>0.672870</td>\n",
       "      <td>True</td>\n",
       "      <td>5.286553</td>\n",
       "    </tr>\n",
       "    <tr>\n",
       "      <th>48</th>\n",
       "      <td>Being passed is normal part of driving and sho...</td>\n",
       "      <td>Slow down and make it easy to stop</td>\n",
       "      <td>Based on the given context, the correct answer...</td>\n",
       "      <td>0.591102</td>\n",
       "      <td>False</td>\n",
       "      <td>4.953634</td>\n",
       "    </tr>\n",
       "    <tr>\n",
       "      <th>49</th>\n",
       "      <td>When oncoming vehicle deliberately crosses the...</td>\n",
       "      <td>Alert and be ready to slow down or stop if nec...</td>\n",
       "      <td>Based on the provided context, the correct ans...</td>\n",
       "      <td>0.607330</td>\n",
       "      <td>True</td>\n",
       "      <td>7.083533</td>\n",
       "    </tr>\n",
       "    <tr>\n",
       "      <th>50</th>\n",
       "      <td>When approaching a flooded area and you have t...</td>\n",
       "      <td>Proceed at a very slow speed</td>\n",
       "      <td>When approaching a flooded area and you have t...</td>\n",
       "      <td>0.584324</td>\n",
       "      <td>False</td>\n",
       "      <td>6.248005</td>\n",
       "    </tr>\n",
       "    <tr>\n",
       "      <th>51</th>\n",
       "      <td>A single solid yellow or white line means</td>\n",
       "      <td>Passing/overtaking is not allowed</td>\n",
       "      <td>A single solid yellow or white line means over...</td>\n",
       "      <td>0.675781</td>\n",
       "      <td>True</td>\n",
       "      <td>4.276125</td>\n",
       "    </tr>\n",
       "    <tr>\n",
       "      <th>52</th>\n",
       "      <td>Passing/overtaking is allowed</td>\n",
       "      <td>On highway with two or more lanes</td>\n",
       "      <td>According to the text, passing/overtaking is n...</td>\n",
       "      <td>0.640901</td>\n",
       "      <td>True</td>\n",
       "      <td>5.581590</td>\n",
       "    </tr>\n",
       "    <tr>\n",
       "      <th>53</th>\n",
       "      <td>A driver on a highway shall yield the right of...</td>\n",
       "      <td>Police / fire department vehicles and ambulanc...</td>\n",
       "      <td>According to the rules, a driver on a highway ...</td>\n",
       "      <td>0.563990</td>\n",
       "      <td>False</td>\n",
       "      <td>5.108292</td>\n",
       "    </tr>\n",
       "    <tr>\n",
       "      <th>54</th>\n",
       "      <td>A driver on a highway shall yield the right of...</td>\n",
       "      <td>Pedestrians crossing within a crosswalk</td>\n",
       "      <td>The correct answer is: The vehicle on their ri...</td>\n",
       "      <td>0.563375</td>\n",
       "      <td>False</td>\n",
       "      <td>5.874444</td>\n",
       "    </tr>\n",
       "    <tr>\n",
       "      <th>55</th>\n",
       "      <td>This traffic signs warns you that school child...</td>\n",
       "      <td>Pentagon</td>\n",
       "      <td>The correct answer is not explicitly provided ...</td>\n",
       "      <td>0.412147</td>\n",
       "      <td>False</td>\n",
       "      <td>5.816347</td>\n",
       "    </tr>\n",
       "    <tr>\n",
       "      <th>56</th>\n",
       "      <td>The signal warns of a hazard ahead</td>\n",
       "      <td>Diamond shape</td>\n",
       "      <td>The correct answer is \"PEDESTRIANS CROSSING AH...</td>\n",
       "      <td>0.401049</td>\n",
       "      <td>False</td>\n",
       "      <td>4.723746</td>\n",
       "    </tr>\n",
       "    <tr>\n",
       "      <th>57</th>\n",
       "      <td>This traffic sign states direction and distances</td>\n",
       "      <td>Horizontal rectangle</td>\n",
       "      <td>The correct answer is not provided in the text...</td>\n",
       "      <td>0.523538</td>\n",
       "      <td>False</td>\n",
       "      <td>5.959247</td>\n",
       "    </tr>\n",
       "    <tr>\n",
       "      <th>58</th>\n",
       "      <td>The mark for a railway crossing</td>\n",
       "      <td>Cross-buck</td>\n",
       "      <td>Based on the provided context, which appears t...</td>\n",
       "      <td>0.426150</td>\n",
       "      <td>False</td>\n",
       "      <td>6.980744</td>\n",
       "    </tr>\n",
       "    <tr>\n",
       "      <th>59</th>\n",
       "      <td>Children must be held in approved child restra...</td>\n",
       "      <td>6 years old and below</td>\n",
       "      <td>According to the provided text, children (12 y...</td>\n",
       "      <td>0.580515</td>\n",
       "      <td>False</td>\n",
       "      <td>6.043741</td>\n",
       "    </tr>\n",
       "  </tbody>\n",
       "</table>\n",
       "</div>"
      ],
      "text/plain": [
       "                                             Question  \\\n",
       "0                 Traffic Jam can be prevented if you   \n",
       "1                 When making a right turn you should   \n",
       "2   When you intend to turn right or left, signal ...   \n",
       "3   At an intersection with a traffic light, make ...   \n",
       "4   Graft and corruption in the traffic enforcemen...   \n",
       "5   On a four(4) lane road with single white line,...   \n",
       "6   A double solid yellow line with broken white l...   \n",
       "7                    When making a U-Turn, you should   \n",
       "8   Signs that are triangular in shape and with a ...   \n",
       "9   Signs that are round, inverted triangle or oct...   \n",
       "10  Signs that are round, rectangular with white a...   \n",
       "11   Single with broken line on a two-lane road means   \n",
       "12  What to do when you approach a crosswalk or pe...   \n",
       "13  Driving an unregistered motor vehicle is a vio...   \n",
       "14                    Considered a parking violation?   \n",
       "15               Green light at an intersection means   \n",
       "16          Steady red light at an intersection means   \n",
       "17  The penalty of driving a motor vehicle while u...   \n",
       "18  When a driver of PUV refuses to render service...   \n",
       "19  If the driver is using a motor vehicle in comm...   \n",
       "20  The minimum distance away from the vehicle are...   \n",
       "21             When do you have a complete/full stop?   \n",
       "22  On a two-lane road, overtaking is only allowed...   \n",
       "23  Parking is considered as a violation when a mo...   \n",
       "24                              Parking is prohibited   \n",
       "25  When the traffic light is steady green and ste...   \n",
       "26  What is the maximum penalty for driving under ...   \n",
       "27                            On a wet road, you must   \n",
       "28  While driving with a maximum speed and you hav...   \n",
       "29  When another vehicle is following you too clos...   \n",
       "30  The driver of the vehicle behind you should al...   \n",
       "31  When parking uphill without a curb, turn your ...   \n",
       "32                    When parking downhill, you must   \n",
       "33                      When parking uphill, you must   \n",
       "34  When you make an abrupt move especially when y...   \n",
       "35  Whenever you are driving, especially when over...   \n",
       "36  When driving on a highway, do not stare at the...   \n",
       "37  When driving on a mountain roads during daytim...   \n",
       "38    When driving downhill on a mountain road always   \n",
       "39   The headlights should be used often as needed to   \n",
       "40  At an intersection, if two (2) vehicles arrive...   \n",
       "41  When negotiating a curve on a highway at a rel...   \n",
       "42  When planning to overtake a slower vehicle in ...   \n",
       "43  Driving in heavy rains can be extremely danger...   \n",
       "44                         A flashing red light means   \n",
       "45   Your speed while driving at night should keep on   \n",
       "46                  One that affects your visibility?   \n",
       "47                  When driving at night, you should   \n",
       "48  Being passed is normal part of driving and sho...   \n",
       "49  When oncoming vehicle deliberately crosses the...   \n",
       "50  When approaching a flooded area and you have t...   \n",
       "51          A single solid yellow or white line means   \n",
       "52                      Passing/overtaking is allowed   \n",
       "53  A driver on a highway shall yield the right of...   \n",
       "54  A driver on a highway shall yield the right of...   \n",
       "55  This traffic signs warns you that school child...   \n",
       "56                 The signal warns of a hazard ahead   \n",
       "57   This traffic sign states direction and distances   \n",
       "58                    The mark for a railway crossing   \n",
       "59  Children must be held in approved child restra...   \n",
       "\n",
       "                                               Answer  \\\n",
       "0                            Keep opposing lanes open   \n",
       "1   Stay on the outermost lane of the road then si...   \n",
       "2       25 meters before you intend to make your turn   \n",
       "3   The green light is on and there is a left turn...   \n",
       "4   Self disciplined by drivers and obeying traffi...   \n",
       "5       Overtake by passing over the solid white line   \n",
       "6                            Absolutely no overtaking   \n",
       "7   Check for traffic behind you and indicate your...   \n",
       "8                            Caution or warning signs   \n",
       "9                                    Regulatory signs   \n",
       "10                                  Informative signs   \n",
       "11  It separates traffic moving in opposite direct...   \n",
       "12                       Stop and yield to pedestrian   \n",
       "13                                    Fine of P10,000   \n",
       "14  Parking within five(5) meters from a signalize...   \n",
       "15  Pedestrian are not allowed to cross the pedest...   \n",
       "16                        Stop at the designated line   \n",
       "17  Driver's license shall be confiscated and susp...   \n",
       "18                                     Fine of P1,000   \n",
       "19                        Revoked and will pay a fine   \n",
       "20                                       1 car length   \n",
       "21                             At a red traffic light   \n",
       "22                                          Left lane   \n",
       "23  Park at the entrance and exit of hospital and ...   \n",
       "24                             Within an intersection   \n",
       "25  Vehicles can go straight or vehicles on the ri...   \n",
       "26                              Revocation of license   \n",
       "27                                          Slow down   \n",
       "28       Apply your brake gently with steady pressure   \n",
       "29  Slow down gradually and give him the signal to...   \n",
       "30                                   Rear end crashes   \n",
       "31                       Towards the edge of the road   \n",
       "32                           Turn your wheels to curb   \n",
       "33               Turn your wheels aways from the curb   \n",
       "34                                   Improper braking   \n",
       "35   Never overtake another vehicle from a tailgat...   \n",
       "36  Extend your scanning distance to about 12 seco...   \n",
       "37      Blow your horn when approaching a blind curve   \n",
       "38  Shift to lower gear so the engine braking acti...   \n",
       "39   Make your intentions known to drivers around you   \n",
       "40                               Vehicle on the right   \n",
       "41  Decrease your speed further as you enter the c...   \n",
       "42  Flick your dimmer, switch two or three times t...   \n",
       "43  When you cannot see more than 20 meters in fro...   \n",
       "44  You must stop and then go only when it is safe...   \n",
       "45  The distance that you can see where you come t...   \n",
       "46                      Defective or dirty headlights   \n",
       "47                     Always turn your headlights on   \n",
       "48                 Slow down and make it easy to stop   \n",
       "49  Alert and be ready to slow down or stop if nec...   \n",
       "50                       Proceed at a very slow speed   \n",
       "51                  Passing/overtaking is not allowed   \n",
       "52                  On highway with two or more lanes   \n",
       "53  Police / fire department vehicles and ambulanc...   \n",
       "54            Pedestrians crossing within a crosswalk   \n",
       "55                                           Pentagon   \n",
       "56                                      Diamond shape   \n",
       "57                               Horizontal rectangle   \n",
       "58                                         Cross-buck   \n",
       "59                              6 years old and below   \n",
       "\n",
       "                                                   AI     Score  Passing  \\\n",
       "0   The question seems to be incomplete, but I'll ...  0.649728     True   \n",
       "1   According to the text, when turning to the lef...  0.761926     True   \n",
       "2   According to the provided text, when you inten...  0.797366     True   \n",
       "3   At an intersection with a traffic light, you s...  0.745402     True   \n",
       "4   The correct answer is:\\n\\nAutomated issuance o...  0.597946    False   \n",
       "5   According to the provided text, there is no sp...  0.752399     True   \n",
       "6   According to the provided text, a double solid...  0.590069    False   \n",
       "7   According to the provided text, when making a ...  0.684109     True   \n",
       "8   According to the text, signs that are triangul...  0.685975     True   \n",
       "9                                    REGULATORY SIGNS  1.000000     True   \n",
       "10  Based on the provided context, which appears t...  0.739174     True   \n",
       "11  On a two-lane road, single solid white lines w...  0.746037     True   \n",
       "12  According to the RA No. 4136, Article III, Sec...  0.753408     True   \n",
       "13  According to the text, driving an unregistered...  0.769075     True   \n",
       "14  Based on the given text, it appears that the f...  0.684413     True   \n",
       "15  The correct answer is:\\n\\n*Proceed only after ...  0.652248     True   \n",
       "16  The actual question is not provided in the que...  0.649845     True   \n",
       "17  For a Non-Professional Driver with a 1st Convi...  0.660284     True   \n",
       "18  According to the table provided in the context...  0.767155     True   \n",
       "19  If the driver is using a motor vehicle in comm...  0.617556     True   \n",
       "20  Based on the provided text, I will answer the ...  0.612021     True   \n",
       "21  Based on the given context from the Philippine...  0.613826     True   \n",
       "22  Based on the provided text, it seems that the ...  0.725317     True   \n",
       "23  Based on the given context, the correct answer...  0.567575    False   \n",
       "24  According to the provided text, parking is pro...  0.659350     True   \n",
       "25  When the traffic light is a steady green and a...  0.764550     True   \n",
       "26  According to Republic Act No. 10586, the maxim...  0.518590    False   \n",
       "27                       Reduce your speed gradually.  0.832553     True   \n",
       "28  Based on the provided context, I will attempt ...  0.622731     True   \n",
       "29  According to the text, when another vehicle is...  0.652655     True   \n",
       "30  Based on the provided text, it seems that the ...  0.527858    False   \n",
       "31  When parking uphill without a curb, you should...  0.651597     True   \n",
       "32  Based on the information provided, there is no...  0.631016     True   \n",
       "33  The correct answer is not provided in the give...  0.594264    False   \n",
       "34  The correct answer is: Turning sharply.\\n\\nAcc...  0.702642     True   \n",
       "35  The actual question is not explicitly stated i...  0.632073     True   \n",
       "36  The correct response is:\\n\\nKeep a safe distan...  0.641798     True   \n",
       "37  Based on the given context, I will answer the ...  0.631420     True   \n",
       "38  Based on the provided text, I will answer the ...  0.682779     True   \n",
       "39  The correct answer is not explicitly stated in...  0.655110     True   \n",
       "40  According to Republic Act No. 4136, when two v...  0.686122     True   \n",
       "41  Based on the provided text, the correct answer...  0.634951     True   \n",
       "42  The correct response is:\\n\\n\"Maintain a steady...  0.658377     True   \n",
       "43  According to the provided text, if drivers fai...  0.645505     True   \n",
       "44  The correct answer is not provided in the give...  0.582686    False   \n",
       "45  The correct answer is:\\n\\n*   \"Slow down\" or \"...  0.615023     True   \n",
       "46  Based on the provided context, the correct ans...  0.547040    False   \n",
       "47  According to the text, when driving at night i...  0.672870     True   \n",
       "48  Based on the given context, the correct answer...  0.591102    False   \n",
       "49  Based on the provided context, the correct ans...  0.607330     True   \n",
       "50  When approaching a flooded area and you have t...  0.584324    False   \n",
       "51  A single solid yellow or white line means over...  0.675781     True   \n",
       "52  According to the text, passing/overtaking is n...  0.640901     True   \n",
       "53  According to the rules, a driver on a highway ...  0.563990    False   \n",
       "54  The correct answer is: The vehicle on their ri...  0.563375    False   \n",
       "55  The correct answer is not explicitly provided ...  0.412147    False   \n",
       "56  The correct answer is \"PEDESTRIANS CROSSING AH...  0.401049    False   \n",
       "57  The correct answer is not provided in the text...  0.523538    False   \n",
       "58  Based on the provided context, which appears t...  0.426150    False   \n",
       "59  According to the provided text, children (12 y...  0.580515    False   \n",
       "\n",
       "    Inference_Time  \n",
       "0        12.690465  \n",
       "1         5.661499  \n",
       "2         4.041142  \n",
       "3         4.332860  \n",
       "4         5.045053  \n",
       "5         6.621878  \n",
       "6         4.196586  \n",
       "7         7.499764  \n",
       "8         4.214451  \n",
       "9         4.024455  \n",
       "10        5.969152  \n",
       "11        4.373010  \n",
       "12        5.162937  \n",
       "13        5.532926  \n",
       "14        5.557519  \n",
       "15        4.746063  \n",
       "16        4.845994  \n",
       "17        6.156448  \n",
       "18        4.412440  \n",
       "19        4.627872  \n",
       "20        4.318186  \n",
       "21        6.244503  \n",
       "22        6.015074  \n",
       "23        5.803617  \n",
       "24        5.449078  \n",
       "25        5.549537  \n",
       "26        4.539779  \n",
       "27        4.015875  \n",
       "28        5.287143  \n",
       "29        4.663078  \n",
       "30        4.858383  \n",
       "31        4.464437  \n",
       "32        5.955665  \n",
       "33        5.733157  \n",
       "34        4.654158  \n",
       "35        5.542118  \n",
       "36        8.176617  \n",
       "37        5.037713  \n",
       "38        5.896779  \n",
       "39        5.250630  \n",
       "40        5.608361  \n",
       "41        5.387051  \n",
       "42        5.885739  \n",
       "43        5.931569  \n",
       "44        4.962330  \n",
       "45        5.091675  \n",
       "46        5.386728  \n",
       "47        5.286553  \n",
       "48        4.953634  \n",
       "49        7.083533  \n",
       "50        6.248005  \n",
       "51        4.276125  \n",
       "52        5.581590  \n",
       "53        5.108292  \n",
       "54        5.874444  \n",
       "55        5.816347  \n",
       "56        4.723746  \n",
       "57        5.959247  \n",
       "58        6.980744  \n",
       "59        6.043741  "
      ]
     },
     "metadata": {},
     "output_type": "display_data"
    }
   ],
   "source": [
    "from llama_index.core.evaluation import SemanticSimilarityEvaluator\n",
    "from llama_index.core.base.embeddings.base import BaseEmbedding\n",
    "import asyncio\n",
    "from llama_index.core.embeddings import resolve_embed_model\n",
    "from pydantic import PrivateAttr\n",
    "\n",
    "class OllamaEmbeddingModel(BaseEmbedding):\n",
    "    _client: Client = PrivateAttr()\n",
    "\n",
    "    def __init__(self, model_name: str = \"mxbai-embed-large\", timeout: int = 300):\n",
    "        super().__init__()\n",
    "        self.model_name = model_name\n",
    "        self._client = Client() \n",
    "\n",
    "    async def _aget_query_embedding(self, query: str) -> list[float]:\n",
    "        return await self._aget_text_embedding(query)\n",
    "\n",
    "    async def _aget_text_embedding(self, text: str) -> list[float]:\n",
    "        loop = asyncio.get_event_loop()\n",
    "        embedding_response = await loop.run_in_executor(\n",
    "            None, self._client.embeddings, self.model_name, text\n",
    "        )\n",
    "        return embedding_response['embedding']  \n",
    "\n",
    "    def _get_query_embedding(self, query: str) -> list[float]:\n",
    "        return self._get_text_embedding(query)\n",
    "\n",
    "    def _get_text_embedding(self, text: str) -> list[float]:\n",
    "        embedding_response = self._client.embeddings(\n",
    "            model=self.model_name,\n",
    "            prompt=text\n",
    "        )\n",
    "        return embedding_response['embedding']\n",
    "\n",
    "\n",
    "embed_model = OllamaEmbeddingModel(model_name=\"mxbai-embed-large\")\n",
    "evaluator = SemanticSimilarityEvaluator(\n",
    "    embed_model=embed_model,\n",
    "    similarity_threshold=0.6\n",
    ")\n",
    "\n",
    "results_scores = []\n",
    "results_passing = []\n",
    "for i in tqdm(range(len(df))):\n",
    "    response = df.loc[i, \"AI\"]\n",
    "    reference = df.loc[i, \"Answer\"]\n",
    "\n",
    "    result = await evaluator.aevaluate(\n",
    "    response=response,\n",
    "    reference=reference,\n",
    "    )\n",
    "    results_scores.append(result.score)\n",
    "    results_passing.append(result.passing)\n",
    "    \n",
    "df['Score'] = results_scores\n",
    "df['Passing'] = results_passing\n",
    "\n",
    "average_score = df['Score'].mean()\n",
    "total_items = len(df)\n",
    "passing_items = df['Passing'].sum()  \n",
    "print(f\"Average Score: {average_score:.4f}\")\n",
    "print(f\"Passing: {passing_items}/{total_items}\")\n",
    "display(df[['Question', 'Answer', 'AI', 'Score', 'Passing', 'Inference_Time']])"
   ]
  },
  {
   "cell_type": "markdown",
   "id": "6482a59f",
   "metadata": {},
   "source": [
    "# 11. Relevancy Evaluation"
   ]
  },
  {
   "cell_type": "code",
   "execution_count": 38,
   "id": "093ccc3d",
   "metadata": {},
   "outputs": [
    {
     "name": "stderr",
     "output_type": "stream",
     "text": [
      "100%|██████████| 60/60 [04:44<00:00,  4.75s/it]"
     ]
    },
    {
     "name": "stdout",
     "output_type": "stream",
     "text": [
      "Score: 55/60\n",
      "Percentage: 91.67%\n"
     ]
    },
    {
     "name": "stderr",
     "output_type": "stream",
     "text": [
      "\n"
     ]
    },
    {
     "data": {
      "text/html": [
       "<div>\n",
       "<style scoped>\n",
       "    .dataframe tbody tr th:only-of-type {\n",
       "        vertical-align: middle;\n",
       "    }\n",
       "\n",
       "    .dataframe tbody tr th {\n",
       "        vertical-align: top;\n",
       "    }\n",
       "\n",
       "    .dataframe thead th {\n",
       "        text-align: right;\n",
       "    }\n",
       "</style>\n",
       "<table border=\"1\" class=\"dataframe\">\n",
       "  <thead>\n",
       "    <tr style=\"text-align: right;\">\n",
       "      <th></th>\n",
       "      <th>Question</th>\n",
       "      <th>Answer</th>\n",
       "      <th>AI</th>\n",
       "      <th>Eval</th>\n",
       "      <th>Inference_Time</th>\n",
       "    </tr>\n",
       "  </thead>\n",
       "  <tbody>\n",
       "    <tr>\n",
       "      <th>0</th>\n",
       "      <td>Traffic Jam can be prevented if you</td>\n",
       "      <td>Keep opposing lanes open</td>\n",
       "      <td>The question seems to be incomplete, but I'll ...</td>\n",
       "      <td>False</td>\n",
       "      <td>12.690465</td>\n",
       "    </tr>\n",
       "    <tr>\n",
       "      <th>1</th>\n",
       "      <td>When making a right turn you should</td>\n",
       "      <td>Stay on the outermost lane of the road then si...</td>\n",
       "      <td>According to the text, when turning to the lef...</td>\n",
       "      <td>False</td>\n",
       "      <td>5.661499</td>\n",
       "    </tr>\n",
       "    <tr>\n",
       "      <th>2</th>\n",
       "      <td>When you intend to turn right or left, signal ...</td>\n",
       "      <td>25 meters before you intend to make your turn</td>\n",
       "      <td>According to the provided text, when you inten...</td>\n",
       "      <td>True</td>\n",
       "      <td>4.041142</td>\n",
       "    </tr>\n",
       "    <tr>\n",
       "      <th>3</th>\n",
       "      <td>At an intersection with a traffic light, make ...</td>\n",
       "      <td>The green light is on and there is a left turn...</td>\n",
       "      <td>At an intersection with a traffic light, you s...</td>\n",
       "      <td>True</td>\n",
       "      <td>4.332860</td>\n",
       "    </tr>\n",
       "    <tr>\n",
       "      <th>4</th>\n",
       "      <td>Graft and corruption in the traffic enforcemen...</td>\n",
       "      <td>Self disciplined by drivers and obeying traffi...</td>\n",
       "      <td>The correct answer is:\\n\\nAutomated issuance o...</td>\n",
       "      <td>True</td>\n",
       "      <td>5.045053</td>\n",
       "    </tr>\n",
       "    <tr>\n",
       "      <th>5</th>\n",
       "      <td>On a four(4) lane road with single white line,...</td>\n",
       "      <td>Overtake by passing over the solid white line</td>\n",
       "      <td>According to the provided text, there is no sp...</td>\n",
       "      <td>True</td>\n",
       "      <td>6.621878</td>\n",
       "    </tr>\n",
       "    <tr>\n",
       "      <th>6</th>\n",
       "      <td>A double solid yellow line with broken white l...</td>\n",
       "      <td>Absolutely no overtaking</td>\n",
       "      <td>According to the provided text, a double solid...</td>\n",
       "      <td>True</td>\n",
       "      <td>4.196586</td>\n",
       "    </tr>\n",
       "    <tr>\n",
       "      <th>7</th>\n",
       "      <td>When making a U-Turn, you should</td>\n",
       "      <td>Check for traffic behind you and indicate your...</td>\n",
       "      <td>According to the provided text, when making a ...</td>\n",
       "      <td>True</td>\n",
       "      <td>7.499764</td>\n",
       "    </tr>\n",
       "    <tr>\n",
       "      <th>8</th>\n",
       "      <td>Signs that are triangular in shape and with a ...</td>\n",
       "      <td>Caution or warning signs</td>\n",
       "      <td>According to the text, signs that are triangul...</td>\n",
       "      <td>True</td>\n",
       "      <td>4.214451</td>\n",
       "    </tr>\n",
       "    <tr>\n",
       "      <th>9</th>\n",
       "      <td>Signs that are round, inverted triangle or oct...</td>\n",
       "      <td>Regulatory signs</td>\n",
       "      <td>REGULATORY SIGNS</td>\n",
       "      <td>True</td>\n",
       "      <td>4.024455</td>\n",
       "    </tr>\n",
       "    <tr>\n",
       "      <th>10</th>\n",
       "      <td>Signs that are round, rectangular with white a...</td>\n",
       "      <td>Informative signs</td>\n",
       "      <td>Based on the provided context, which appears t...</td>\n",
       "      <td>False</td>\n",
       "      <td>5.969152</td>\n",
       "    </tr>\n",
       "    <tr>\n",
       "      <th>11</th>\n",
       "      <td>Single with broken line on a two-lane road means</td>\n",
       "      <td>It separates traffic moving in opposite direct...</td>\n",
       "      <td>On a two-lane road, single solid white lines w...</td>\n",
       "      <td>True</td>\n",
       "      <td>4.373010</td>\n",
       "    </tr>\n",
       "    <tr>\n",
       "      <th>12</th>\n",
       "      <td>What to do when you approach a crosswalk or pe...</td>\n",
       "      <td>Stop and yield to pedestrian</td>\n",
       "      <td>According to the RA No. 4136, Article III, Sec...</td>\n",
       "      <td>True</td>\n",
       "      <td>5.162937</td>\n",
       "    </tr>\n",
       "    <tr>\n",
       "      <th>13</th>\n",
       "      <td>Driving an unregistered motor vehicle is a vio...</td>\n",
       "      <td>Fine of P10,000</td>\n",
       "      <td>According to the text, driving an unregistered...</td>\n",
       "      <td>True</td>\n",
       "      <td>5.532926</td>\n",
       "    </tr>\n",
       "    <tr>\n",
       "      <th>14</th>\n",
       "      <td>Considered a parking violation?</td>\n",
       "      <td>Parking within five(5) meters from a signalize...</td>\n",
       "      <td>Based on the given text, it appears that the f...</td>\n",
       "      <td>True</td>\n",
       "      <td>5.557519</td>\n",
       "    </tr>\n",
       "    <tr>\n",
       "      <th>15</th>\n",
       "      <td>Green light at an intersection means</td>\n",
       "      <td>Pedestrian are not allowed to cross the pedest...</td>\n",
       "      <td>The correct answer is:\\n\\n*Proceed only after ...</td>\n",
       "      <td>True</td>\n",
       "      <td>4.746063</td>\n",
       "    </tr>\n",
       "    <tr>\n",
       "      <th>16</th>\n",
       "      <td>Steady red light at an intersection means</td>\n",
       "      <td>Stop at the designated line</td>\n",
       "      <td>The actual question is not provided in the que...</td>\n",
       "      <td>True</td>\n",
       "      <td>4.845994</td>\n",
       "    </tr>\n",
       "    <tr>\n",
       "      <th>17</th>\n",
       "      <td>The penalty of driving a motor vehicle while u...</td>\n",
       "      <td>Driver's license shall be confiscated and susp...</td>\n",
       "      <td>For a Non-Professional Driver with a 1st Convi...</td>\n",
       "      <td>True</td>\n",
       "      <td>6.156448</td>\n",
       "    </tr>\n",
       "    <tr>\n",
       "      <th>18</th>\n",
       "      <td>When a driver of PUV refuses to render service...</td>\n",
       "      <td>Fine of P1,000</td>\n",
       "      <td>According to the table provided in the context...</td>\n",
       "      <td>True</td>\n",
       "      <td>4.412440</td>\n",
       "    </tr>\n",
       "    <tr>\n",
       "      <th>19</th>\n",
       "      <td>If the driver is using a motor vehicle in comm...</td>\n",
       "      <td>Revoked and will pay a fine</td>\n",
       "      <td>If the driver is using a motor vehicle in comm...</td>\n",
       "      <td>True</td>\n",
       "      <td>4.627872</td>\n",
       "    </tr>\n",
       "    <tr>\n",
       "      <th>20</th>\n",
       "      <td>The minimum distance away from the vehicle are...</td>\n",
       "      <td>1 car length</td>\n",
       "      <td>Based on the provided text, I will answer the ...</td>\n",
       "      <td>True</td>\n",
       "      <td>4.318186</td>\n",
       "    </tr>\n",
       "    <tr>\n",
       "      <th>21</th>\n",
       "      <td>When do you have a complete/full stop?</td>\n",
       "      <td>At a red traffic light</td>\n",
       "      <td>Based on the given context from the Philippine...</td>\n",
       "      <td>True</td>\n",
       "      <td>6.244503</td>\n",
       "    </tr>\n",
       "    <tr>\n",
       "      <th>22</th>\n",
       "      <td>On a two-lane road, overtaking is only allowed...</td>\n",
       "      <td>Left lane</td>\n",
       "      <td>Based on the provided text, it seems that the ...</td>\n",
       "      <td>True</td>\n",
       "      <td>6.015074</td>\n",
       "    </tr>\n",
       "    <tr>\n",
       "      <th>23</th>\n",
       "      <td>Parking is considered as a violation when a mo...</td>\n",
       "      <td>Park at the entrance and exit of hospital and ...</td>\n",
       "      <td>Based on the given context, the correct answer...</td>\n",
       "      <td>True</td>\n",
       "      <td>5.803617</td>\n",
       "    </tr>\n",
       "    <tr>\n",
       "      <th>24</th>\n",
       "      <td>Parking is prohibited</td>\n",
       "      <td>Within an intersection</td>\n",
       "      <td>According to the provided text, parking is pro...</td>\n",
       "      <td>True</td>\n",
       "      <td>5.449078</td>\n",
       "    </tr>\n",
       "    <tr>\n",
       "      <th>25</th>\n",
       "      <td>When the traffic light is steady green and ste...</td>\n",
       "      <td>Vehicles can go straight or vehicles on the ri...</td>\n",
       "      <td>When the traffic light is a steady green and a...</td>\n",
       "      <td>True</td>\n",
       "      <td>5.549537</td>\n",
       "    </tr>\n",
       "    <tr>\n",
       "      <th>26</th>\n",
       "      <td>What is the maximum penalty for driving under ...</td>\n",
       "      <td>Revocation of license</td>\n",
       "      <td>According to Republic Act No. 10586, the maxim...</td>\n",
       "      <td>True</td>\n",
       "      <td>4.539779</td>\n",
       "    </tr>\n",
       "    <tr>\n",
       "      <th>27</th>\n",
       "      <td>On a wet road, you must</td>\n",
       "      <td>Slow down</td>\n",
       "      <td>Reduce your speed gradually.</td>\n",
       "      <td>True</td>\n",
       "      <td>4.015875</td>\n",
       "    </tr>\n",
       "    <tr>\n",
       "      <th>28</th>\n",
       "      <td>While driving with a maximum speed and you hav...</td>\n",
       "      <td>Apply your brake gently with steady pressure</td>\n",
       "      <td>Based on the provided context, I will attempt ...</td>\n",
       "      <td>True</td>\n",
       "      <td>5.287143</td>\n",
       "    </tr>\n",
       "    <tr>\n",
       "      <th>29</th>\n",
       "      <td>When another vehicle is following you too clos...</td>\n",
       "      <td>Slow down gradually and give him the signal to...</td>\n",
       "      <td>According to the text, when another vehicle is...</td>\n",
       "      <td>True</td>\n",
       "      <td>4.663078</td>\n",
       "    </tr>\n",
       "    <tr>\n",
       "      <th>30</th>\n",
       "      <td>The driver of the vehicle behind you should al...</td>\n",
       "      <td>Rear end crashes</td>\n",
       "      <td>Based on the provided text, it seems that the ...</td>\n",
       "      <td>True</td>\n",
       "      <td>4.858383</td>\n",
       "    </tr>\n",
       "    <tr>\n",
       "      <th>31</th>\n",
       "      <td>When parking uphill without a curb, turn your ...</td>\n",
       "      <td>Towards the edge of the road</td>\n",
       "      <td>When parking uphill without a curb, you should...</td>\n",
       "      <td>True</td>\n",
       "      <td>4.464437</td>\n",
       "    </tr>\n",
       "    <tr>\n",
       "      <th>32</th>\n",
       "      <td>When parking downhill, you must</td>\n",
       "      <td>Turn your wheels to curb</td>\n",
       "      <td>Based on the information provided, there is no...</td>\n",
       "      <td>True</td>\n",
       "      <td>5.955665</td>\n",
       "    </tr>\n",
       "    <tr>\n",
       "      <th>33</th>\n",
       "      <td>When parking uphill, you must</td>\n",
       "      <td>Turn your wheels aways from the curb</td>\n",
       "      <td>The correct answer is not provided in the give...</td>\n",
       "      <td>True</td>\n",
       "      <td>5.733157</td>\n",
       "    </tr>\n",
       "    <tr>\n",
       "      <th>34</th>\n",
       "      <td>When you make an abrupt move especially when y...</td>\n",
       "      <td>Improper braking</td>\n",
       "      <td>The correct answer is: Turning sharply.\\n\\nAcc...</td>\n",
       "      <td>True</td>\n",
       "      <td>4.654158</td>\n",
       "    </tr>\n",
       "    <tr>\n",
       "      <th>35</th>\n",
       "      <td>Whenever you are driving, especially when over...</td>\n",
       "      <td>Never overtake another vehicle from a tailgat...</td>\n",
       "      <td>The actual question is not explicitly stated i...</td>\n",
       "      <td>True</td>\n",
       "      <td>5.542118</td>\n",
       "    </tr>\n",
       "    <tr>\n",
       "      <th>36</th>\n",
       "      <td>When driving on a highway, do not stare at the...</td>\n",
       "      <td>Extend your scanning distance to about 12 seco...</td>\n",
       "      <td>The correct response is:\\n\\nKeep a safe distan...</td>\n",
       "      <td>True</td>\n",
       "      <td>8.176617</td>\n",
       "    </tr>\n",
       "    <tr>\n",
       "      <th>37</th>\n",
       "      <td>When driving on a mountain roads during daytim...</td>\n",
       "      <td>Blow your horn when approaching a blind curve</td>\n",
       "      <td>Based on the given context, I will answer the ...</td>\n",
       "      <td>True</td>\n",
       "      <td>5.037713</td>\n",
       "    </tr>\n",
       "    <tr>\n",
       "      <th>38</th>\n",
       "      <td>When driving downhill on a mountain road always</td>\n",
       "      <td>Shift to lower gear so the engine braking acti...</td>\n",
       "      <td>Based on the provided text, I will answer the ...</td>\n",
       "      <td>True</td>\n",
       "      <td>5.896779</td>\n",
       "    </tr>\n",
       "    <tr>\n",
       "      <th>39</th>\n",
       "      <td>The headlights should be used often as needed to</td>\n",
       "      <td>Make your intentions known to drivers around you</td>\n",
       "      <td>The correct answer is not explicitly stated in...</td>\n",
       "      <td>True</td>\n",
       "      <td>5.250630</td>\n",
       "    </tr>\n",
       "    <tr>\n",
       "      <th>40</th>\n",
       "      <td>At an intersection, if two (2) vehicles arrive...</td>\n",
       "      <td>Vehicle on the right</td>\n",
       "      <td>According to Republic Act No. 4136, when two v...</td>\n",
       "      <td>True</td>\n",
       "      <td>5.608361</td>\n",
       "    </tr>\n",
       "    <tr>\n",
       "      <th>41</th>\n",
       "      <td>When negotiating a curve on a highway at a rel...</td>\n",
       "      <td>Decrease your speed further as you enter the c...</td>\n",
       "      <td>Based on the provided text, the correct answer...</td>\n",
       "      <td>True</td>\n",
       "      <td>5.387051</td>\n",
       "    </tr>\n",
       "    <tr>\n",
       "      <th>42</th>\n",
       "      <td>When planning to overtake a slower vehicle in ...</td>\n",
       "      <td>Flick your dimmer, switch two or three times t...</td>\n",
       "      <td>The correct response is:\\n\\n\"Maintain a steady...</td>\n",
       "      <td>True</td>\n",
       "      <td>5.885739</td>\n",
       "    </tr>\n",
       "    <tr>\n",
       "      <th>43</th>\n",
       "      <td>Driving in heavy rains can be extremely danger...</td>\n",
       "      <td>When you cannot see more than 20 meters in fro...</td>\n",
       "      <td>According to the provided text, if drivers fai...</td>\n",
       "      <td>True</td>\n",
       "      <td>5.931569</td>\n",
       "    </tr>\n",
       "    <tr>\n",
       "      <th>44</th>\n",
       "      <td>A flashing red light means</td>\n",
       "      <td>You must stop and then go only when it is safe...</td>\n",
       "      <td>The correct answer is not provided in the give...</td>\n",
       "      <td>True</td>\n",
       "      <td>4.962330</td>\n",
       "    </tr>\n",
       "    <tr>\n",
       "      <th>45</th>\n",
       "      <td>Your speed while driving at night should keep on</td>\n",
       "      <td>The distance that you can see where you come t...</td>\n",
       "      <td>The correct answer is:\\n\\n*   \"Slow down\" or \"...</td>\n",
       "      <td>True</td>\n",
       "      <td>5.091675</td>\n",
       "    </tr>\n",
       "    <tr>\n",
       "      <th>46</th>\n",
       "      <td>One that affects your visibility?</td>\n",
       "      <td>Defective or dirty headlights</td>\n",
       "      <td>Based on the provided context, the correct ans...</td>\n",
       "      <td>True</td>\n",
       "      <td>5.386728</td>\n",
       "    </tr>\n",
       "    <tr>\n",
       "      <th>47</th>\n",
       "      <td>When driving at night, you should</td>\n",
       "      <td>Always turn your headlights on</td>\n",
       "      <td>According to the text, when driving at night i...</td>\n",
       "      <td>True</td>\n",
       "      <td>5.286553</td>\n",
       "    </tr>\n",
       "    <tr>\n",
       "      <th>48</th>\n",
       "      <td>Being passed is normal part of driving and sho...</td>\n",
       "      <td>Slow down and make it easy to stop</td>\n",
       "      <td>Based on the given context, the correct answer...</td>\n",
       "      <td>True</td>\n",
       "      <td>4.953634</td>\n",
       "    </tr>\n",
       "    <tr>\n",
       "      <th>49</th>\n",
       "      <td>When oncoming vehicle deliberately crosses the...</td>\n",
       "      <td>Alert and be ready to slow down or stop if nec...</td>\n",
       "      <td>Based on the provided context, the correct ans...</td>\n",
       "      <td>True</td>\n",
       "      <td>7.083533</td>\n",
       "    </tr>\n",
       "    <tr>\n",
       "      <th>50</th>\n",
       "      <td>When approaching a flooded area and you have t...</td>\n",
       "      <td>Proceed at a very slow speed</td>\n",
       "      <td>When approaching a flooded area and you have t...</td>\n",
       "      <td>False</td>\n",
       "      <td>6.248005</td>\n",
       "    </tr>\n",
       "    <tr>\n",
       "      <th>51</th>\n",
       "      <td>A single solid yellow or white line means</td>\n",
       "      <td>Passing/overtaking is not allowed</td>\n",
       "      <td>A single solid yellow or white line means over...</td>\n",
       "      <td>True</td>\n",
       "      <td>4.276125</td>\n",
       "    </tr>\n",
       "    <tr>\n",
       "      <th>52</th>\n",
       "      <td>Passing/overtaking is allowed</td>\n",
       "      <td>On highway with two or more lanes</td>\n",
       "      <td>According to the text, passing/overtaking is n...</td>\n",
       "      <td>True</td>\n",
       "      <td>5.581590</td>\n",
       "    </tr>\n",
       "    <tr>\n",
       "      <th>53</th>\n",
       "      <td>A driver on a highway shall yield the right of...</td>\n",
       "      <td>Police / fire department vehicles and ambulanc...</td>\n",
       "      <td>According to the rules, a driver on a highway ...</td>\n",
       "      <td>True</td>\n",
       "      <td>5.108292</td>\n",
       "    </tr>\n",
       "    <tr>\n",
       "      <th>54</th>\n",
       "      <td>A driver on a highway shall yield the right of...</td>\n",
       "      <td>Pedestrians crossing within a crosswalk</td>\n",
       "      <td>The correct answer is: The vehicle on their ri...</td>\n",
       "      <td>False</td>\n",
       "      <td>5.874444</td>\n",
       "    </tr>\n",
       "    <tr>\n",
       "      <th>55</th>\n",
       "      <td>This traffic signs warns you that school child...</td>\n",
       "      <td>Pentagon</td>\n",
       "      <td>The correct answer is not explicitly provided ...</td>\n",
       "      <td>True</td>\n",
       "      <td>5.816347</td>\n",
       "    </tr>\n",
       "    <tr>\n",
       "      <th>56</th>\n",
       "      <td>The signal warns of a hazard ahead</td>\n",
       "      <td>Diamond shape</td>\n",
       "      <td>The correct answer is \"PEDESTRIANS CROSSING AH...</td>\n",
       "      <td>True</td>\n",
       "      <td>4.723746</td>\n",
       "    </tr>\n",
       "    <tr>\n",
       "      <th>57</th>\n",
       "      <td>This traffic sign states direction and distances</td>\n",
       "      <td>Horizontal rectangle</td>\n",
       "      <td>The correct answer is not provided in the text...</td>\n",
       "      <td>True</td>\n",
       "      <td>5.959247</td>\n",
       "    </tr>\n",
       "    <tr>\n",
       "      <th>58</th>\n",
       "      <td>The mark for a railway crossing</td>\n",
       "      <td>Cross-buck</td>\n",
       "      <td>Based on the provided context, which appears t...</td>\n",
       "      <td>True</td>\n",
       "      <td>6.980744</td>\n",
       "    </tr>\n",
       "    <tr>\n",
       "      <th>59</th>\n",
       "      <td>Children must be held in approved child restra...</td>\n",
       "      <td>6 years old and below</td>\n",
       "      <td>According to the provided text, children (12 y...</td>\n",
       "      <td>True</td>\n",
       "      <td>6.043741</td>\n",
       "    </tr>\n",
       "  </tbody>\n",
       "</table>\n",
       "</div>"
      ],
      "text/plain": [
       "                                             Question  \\\n",
       "0                 Traffic Jam can be prevented if you   \n",
       "1                 When making a right turn you should   \n",
       "2   When you intend to turn right or left, signal ...   \n",
       "3   At an intersection with a traffic light, make ...   \n",
       "4   Graft and corruption in the traffic enforcemen...   \n",
       "5   On a four(4) lane road with single white line,...   \n",
       "6   A double solid yellow line with broken white l...   \n",
       "7                    When making a U-Turn, you should   \n",
       "8   Signs that are triangular in shape and with a ...   \n",
       "9   Signs that are round, inverted triangle or oct...   \n",
       "10  Signs that are round, rectangular with white a...   \n",
       "11   Single with broken line on a two-lane road means   \n",
       "12  What to do when you approach a crosswalk or pe...   \n",
       "13  Driving an unregistered motor vehicle is a vio...   \n",
       "14                    Considered a parking violation?   \n",
       "15               Green light at an intersection means   \n",
       "16          Steady red light at an intersection means   \n",
       "17  The penalty of driving a motor vehicle while u...   \n",
       "18  When a driver of PUV refuses to render service...   \n",
       "19  If the driver is using a motor vehicle in comm...   \n",
       "20  The minimum distance away from the vehicle are...   \n",
       "21             When do you have a complete/full stop?   \n",
       "22  On a two-lane road, overtaking is only allowed...   \n",
       "23  Parking is considered as a violation when a mo...   \n",
       "24                              Parking is prohibited   \n",
       "25  When the traffic light is steady green and ste...   \n",
       "26  What is the maximum penalty for driving under ...   \n",
       "27                            On a wet road, you must   \n",
       "28  While driving with a maximum speed and you hav...   \n",
       "29  When another vehicle is following you too clos...   \n",
       "30  The driver of the vehicle behind you should al...   \n",
       "31  When parking uphill without a curb, turn your ...   \n",
       "32                    When parking downhill, you must   \n",
       "33                      When parking uphill, you must   \n",
       "34  When you make an abrupt move especially when y...   \n",
       "35  Whenever you are driving, especially when over...   \n",
       "36  When driving on a highway, do not stare at the...   \n",
       "37  When driving on a mountain roads during daytim...   \n",
       "38    When driving downhill on a mountain road always   \n",
       "39   The headlights should be used often as needed to   \n",
       "40  At an intersection, if two (2) vehicles arrive...   \n",
       "41  When negotiating a curve on a highway at a rel...   \n",
       "42  When planning to overtake a slower vehicle in ...   \n",
       "43  Driving in heavy rains can be extremely danger...   \n",
       "44                         A flashing red light means   \n",
       "45   Your speed while driving at night should keep on   \n",
       "46                  One that affects your visibility?   \n",
       "47                  When driving at night, you should   \n",
       "48  Being passed is normal part of driving and sho...   \n",
       "49  When oncoming vehicle deliberately crosses the...   \n",
       "50  When approaching a flooded area and you have t...   \n",
       "51          A single solid yellow or white line means   \n",
       "52                      Passing/overtaking is allowed   \n",
       "53  A driver on a highway shall yield the right of...   \n",
       "54  A driver on a highway shall yield the right of...   \n",
       "55  This traffic signs warns you that school child...   \n",
       "56                 The signal warns of a hazard ahead   \n",
       "57   This traffic sign states direction and distances   \n",
       "58                    The mark for a railway crossing   \n",
       "59  Children must be held in approved child restra...   \n",
       "\n",
       "                                               Answer  \\\n",
       "0                            Keep opposing lanes open   \n",
       "1   Stay on the outermost lane of the road then si...   \n",
       "2       25 meters before you intend to make your turn   \n",
       "3   The green light is on and there is a left turn...   \n",
       "4   Self disciplined by drivers and obeying traffi...   \n",
       "5       Overtake by passing over the solid white line   \n",
       "6                            Absolutely no overtaking   \n",
       "7   Check for traffic behind you and indicate your...   \n",
       "8                            Caution or warning signs   \n",
       "9                                    Regulatory signs   \n",
       "10                                  Informative signs   \n",
       "11  It separates traffic moving in opposite direct...   \n",
       "12                       Stop and yield to pedestrian   \n",
       "13                                    Fine of P10,000   \n",
       "14  Parking within five(5) meters from a signalize...   \n",
       "15  Pedestrian are not allowed to cross the pedest...   \n",
       "16                        Stop at the designated line   \n",
       "17  Driver's license shall be confiscated and susp...   \n",
       "18                                     Fine of P1,000   \n",
       "19                        Revoked and will pay a fine   \n",
       "20                                       1 car length   \n",
       "21                             At a red traffic light   \n",
       "22                                          Left lane   \n",
       "23  Park at the entrance and exit of hospital and ...   \n",
       "24                             Within an intersection   \n",
       "25  Vehicles can go straight or vehicles on the ri...   \n",
       "26                              Revocation of license   \n",
       "27                                          Slow down   \n",
       "28       Apply your brake gently with steady pressure   \n",
       "29  Slow down gradually and give him the signal to...   \n",
       "30                                   Rear end crashes   \n",
       "31                       Towards the edge of the road   \n",
       "32                           Turn your wheels to curb   \n",
       "33               Turn your wheels aways from the curb   \n",
       "34                                   Improper braking   \n",
       "35   Never overtake another vehicle from a tailgat...   \n",
       "36  Extend your scanning distance to about 12 seco...   \n",
       "37      Blow your horn when approaching a blind curve   \n",
       "38  Shift to lower gear so the engine braking acti...   \n",
       "39   Make your intentions known to drivers around you   \n",
       "40                               Vehicle on the right   \n",
       "41  Decrease your speed further as you enter the c...   \n",
       "42  Flick your dimmer, switch two or three times t...   \n",
       "43  When you cannot see more than 20 meters in fro...   \n",
       "44  You must stop and then go only when it is safe...   \n",
       "45  The distance that you can see where you come t...   \n",
       "46                      Defective or dirty headlights   \n",
       "47                     Always turn your headlights on   \n",
       "48                 Slow down and make it easy to stop   \n",
       "49  Alert and be ready to slow down or stop if nec...   \n",
       "50                       Proceed at a very slow speed   \n",
       "51                  Passing/overtaking is not allowed   \n",
       "52                  On highway with two or more lanes   \n",
       "53  Police / fire department vehicles and ambulanc...   \n",
       "54            Pedestrians crossing within a crosswalk   \n",
       "55                                           Pentagon   \n",
       "56                                      Diamond shape   \n",
       "57                               Horizontal rectangle   \n",
       "58                                         Cross-buck   \n",
       "59                              6 years old and below   \n",
       "\n",
       "                                                   AI   Eval  Inference_Time  \n",
       "0   The question seems to be incomplete, but I'll ...  False       12.690465  \n",
       "1   According to the text, when turning to the lef...  False        5.661499  \n",
       "2   According to the provided text, when you inten...   True        4.041142  \n",
       "3   At an intersection with a traffic light, you s...   True        4.332860  \n",
       "4   The correct answer is:\\n\\nAutomated issuance o...   True        5.045053  \n",
       "5   According to the provided text, there is no sp...   True        6.621878  \n",
       "6   According to the provided text, a double solid...   True        4.196586  \n",
       "7   According to the provided text, when making a ...   True        7.499764  \n",
       "8   According to the text, signs that are triangul...   True        4.214451  \n",
       "9                                    REGULATORY SIGNS   True        4.024455  \n",
       "10  Based on the provided context, which appears t...  False        5.969152  \n",
       "11  On a two-lane road, single solid white lines w...   True        4.373010  \n",
       "12  According to the RA No. 4136, Article III, Sec...   True        5.162937  \n",
       "13  According to the text, driving an unregistered...   True        5.532926  \n",
       "14  Based on the given text, it appears that the f...   True        5.557519  \n",
       "15  The correct answer is:\\n\\n*Proceed only after ...   True        4.746063  \n",
       "16  The actual question is not provided in the que...   True        4.845994  \n",
       "17  For a Non-Professional Driver with a 1st Convi...   True        6.156448  \n",
       "18  According to the table provided in the context...   True        4.412440  \n",
       "19  If the driver is using a motor vehicle in comm...   True        4.627872  \n",
       "20  Based on the provided text, I will answer the ...   True        4.318186  \n",
       "21  Based on the given context from the Philippine...   True        6.244503  \n",
       "22  Based on the provided text, it seems that the ...   True        6.015074  \n",
       "23  Based on the given context, the correct answer...   True        5.803617  \n",
       "24  According to the provided text, parking is pro...   True        5.449078  \n",
       "25  When the traffic light is a steady green and a...   True        5.549537  \n",
       "26  According to Republic Act No. 10586, the maxim...   True        4.539779  \n",
       "27                       Reduce your speed gradually.   True        4.015875  \n",
       "28  Based on the provided context, I will attempt ...   True        5.287143  \n",
       "29  According to the text, when another vehicle is...   True        4.663078  \n",
       "30  Based on the provided text, it seems that the ...   True        4.858383  \n",
       "31  When parking uphill without a curb, you should...   True        4.464437  \n",
       "32  Based on the information provided, there is no...   True        5.955665  \n",
       "33  The correct answer is not provided in the give...   True        5.733157  \n",
       "34  The correct answer is: Turning sharply.\\n\\nAcc...   True        4.654158  \n",
       "35  The actual question is not explicitly stated i...   True        5.542118  \n",
       "36  The correct response is:\\n\\nKeep a safe distan...   True        8.176617  \n",
       "37  Based on the given context, I will answer the ...   True        5.037713  \n",
       "38  Based on the provided text, I will answer the ...   True        5.896779  \n",
       "39  The correct answer is not explicitly stated in...   True        5.250630  \n",
       "40  According to Republic Act No. 4136, when two v...   True        5.608361  \n",
       "41  Based on the provided text, the correct answer...   True        5.387051  \n",
       "42  The correct response is:\\n\\n\"Maintain a steady...   True        5.885739  \n",
       "43  According to the provided text, if drivers fai...   True        5.931569  \n",
       "44  The correct answer is not provided in the give...   True        4.962330  \n",
       "45  The correct answer is:\\n\\n*   \"Slow down\" or \"...   True        5.091675  \n",
       "46  Based on the provided context, the correct ans...   True        5.386728  \n",
       "47  According to the text, when driving at night i...   True        5.286553  \n",
       "48  Based on the given context, the correct answer...   True        4.953634  \n",
       "49  Based on the provided context, the correct ans...   True        7.083533  \n",
       "50  When approaching a flooded area and you have t...  False        6.248005  \n",
       "51  A single solid yellow or white line means over...   True        4.276125  \n",
       "52  According to the text, passing/overtaking is n...   True        5.581590  \n",
       "53  According to the rules, a driver on a highway ...   True        5.108292  \n",
       "54  The correct answer is: The vehicle on their ri...  False        5.874444  \n",
       "55  The correct answer is not explicitly provided ...   True        5.816347  \n",
       "56  The correct answer is \"PEDESTRIANS CROSSING AH...   True        4.723746  \n",
       "57  The correct answer is not provided in the text...   True        5.959247  \n",
       "58  Based on the provided context, which appears t...   True        6.980744  \n",
       "59  According to the provided text, children (12 y...   True        6.043741  "
      ]
     },
     "metadata": {},
     "output_type": "display_data"
    }
   ],
   "source": [
    "from llama_index.core.evaluation import RelevancyEvaluator\n",
    "\n",
    "ollama_llm = Ollama(model=\"llama3.1:8b\", request_timeout=300)\n",
    "evaluator = RelevancyEvaluator(llm=ollama_llm)\n",
    "\n",
    "eval_results = []\n",
    "\n",
    "for i in tqdm(range(len(df))):\n",
    "    eval_result = await evaluator.aevaluate(\n",
    "        query=df.loc[i, \"Question\"],\n",
    "        response=df.loc[i, \"AI\"],\n",
    "        contexts=[df.loc[i, \"Context\"]]  \n",
    "    )\n",
    "    eval_results.append(eval_result.passing)\n",
    "\n",
    "df['Eval'] = eval_results\n",
    "\n",
    "total_items = len(df)\n",
    "passing_items = df['Eval'].sum()\n",
    "score = f\"Score: {passing_items}/{total_items}\"\n",
    "percentage = passing_items / total_items if total_items > 0 else 0\n",
    "print(score)\n",
    "print(f\"Percentage: {percentage:.2%}\")\n",
    "display(df[['Question', 'Answer', 'AI', 'Eval', 'Inference_Time']])"
   ]
  }
 ],
 "metadata": {
  "kernelspec": {
   "display_name": "LTO_RAG",
   "language": "python",
   "name": "python3"
  },
  "language_info": {
   "codemirror_mode": {
    "name": "ipython",
    "version": 3
   },
   "file_extension": ".py",
   "mimetype": "text/x-python",
   "name": "python",
   "nbconvert_exporter": "python",
   "pygments_lexer": "ipython3",
   "version": "3.10.12"
  }
 },
 "nbformat": 4,
 "nbformat_minor": 5
}
