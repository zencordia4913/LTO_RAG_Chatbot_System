{
 "cells": [
  {
   "cell_type": "code",
   "execution_count": 66,
   "id": "dfdd288c-537b-42e6-b104-2854e99b4a1c",
   "metadata": {},
   "outputs": [],
   "source": [
    "import os\n",
    "import fitz\n",
    "import re\n",
    "import json\n",
    "\n",
    "from ollama import Client\n",
    "import faiss\n",
    "import pandas as pd\n",
    "import numpy as np\n",
    "import Stemmer\n",
    "from tqdm import tqdm\n",
    "import gradio as gr\n",
    "\n",
    "from llama_index.core import Document\n",
    "from llama_index.core.node_parser import TokenTextSplitter\n",
    "from llama_index.core.retrievers import BaseRetriever, QueryFusionRetriever\n",
    "from llama_index.core.schema import TextNode, NodeWithScore\n",
    "from llama_index.retrievers.bm25 import BM25Retriever"
   ]
  },
  {
   "cell_type": "markdown",
   "id": "2f3d9123-5c2e-4718-8edd-d0bfafed09e8",
   "metadata": {},
   "source": [
    "# Connect to Ollama Server"
   ]
  },
  {
   "cell_type": "code",
   "execution_count": 67,
   "id": "8071a997-f081-4da8-b440-6d66bf4cb4a7",
   "metadata": {},
   "outputs": [],
   "source": [
    "client = Client(\n",
    "  host='http://localhost:11434',\n",
    ")"
   ]
  },
  {
   "cell_type": "markdown",
   "id": "52836262-9e16-4df3-b71f-70b78b2b2700",
   "metadata": {},
   "source": [
    "# Ingestion"
   ]
  },
  {
   "cell_type": "code",
   "execution_count": 68,
   "id": "4d170a76-1ddf-47b4-b98d-db30470f9d83",
   "metadata": {},
   "outputs": [],
   "source": [
    "# Path to the dataset folder\n",
    "DATASET_PATH = 'extracted_text.json'\n",
    "\n",
    "def get_text_and_metadata(input_path):\n",
    "    \"\"\"Load text and metadata from a file and perform chunking.\"\"\"\n",
    "    with open(input_path, \"r\", encoding=\"utf-8\") as f:\n",
    "        extracted_data = json.load(f)\n",
    "\n",
    "    texts = []\n",
    "    metadata = []\n",
    "\n",
    "    for entry in extracted_data:\n",
    "        text = entry[\"text\"]\n",
    "        source_metadata = {\n",
    "            \"source\": entry[\"source\"],\n",
    "            \"folder\": entry[\"folder\"],\n",
    "            \"file_name\": entry[\"file_name\"],\n",
    "            \"page\": entry[\"page\"],\n",
    "            \"title\": entry[\"title\"],\n",
    "            \"url\": entry[\"url\"]\n",
    "        }\n",
    "        texts.append(text)\n",
    "        metadata.append(source_metadata)\n",
    "\n",
    "    return texts, metadata"
   ]
  },
  {
   "cell_type": "code",
   "execution_count": 69,
   "id": "3d7bfd8a-c6a2-4764-9212-17c667cd89be",
   "metadata": {},
   "outputs": [],
   "source": [
    "docs, metadatas = get_text_and_metadata(DATASET_PATH)"
   ]
  },
  {
   "cell_type": "code",
   "execution_count": 70,
   "id": "b8204706-6e7e-4f7e-956b-4e545708392e",
   "metadata": {},
   "outputs": [],
   "source": [
    "documents = [Document(text=docs[t], metadata=metadatas[t]) for t in range(len(docs))]\n",
    "splitter = TokenTextSplitter(\n",
    "    chunk_size=512,\n",
    "    chunk_overlap=20,\n",
    "    separator=\" \",\n",
    ")\n",
    "nodes = splitter.get_nodes_from_documents(documents)"
   ]
  },
  {
   "cell_type": "markdown",
   "id": "f4fa1758-fbf6-48af-85bc-f7a0b17f85aa",
   "metadata": {},
   "source": [
    "# Embedding and Retrieval"
   ]
  },
  {
   "cell_type": "markdown",
   "id": "40e51b7d-edf5-457d-aac2-432dcfd56eb2",
   "metadata": {},
   "source": [
    "## Dense via FAISS"
   ]
  },
  {
   "cell_type": "code",
   "execution_count": 71,
   "id": "cc4cbd59-450d-449d-a269-e34941782d19",
   "metadata": {},
   "outputs": [],
   "source": [
    "def generate_embeddings(nodes, client, model):\n",
    "    # Generate embeddings for documents using Ollama\n",
    "    for doc in tqdm(nodes):\n",
    "        response = client.embeddings(prompt=doc.text, model=model)\n",
    "        doc.embedding = response[\"embedding\"]\n",
    "    return nodes"
   ]
  },
  {
   "cell_type": "code",
   "execution_count": 72,
   "id": "f1f0ad81-9986-4369-b4eb-32160fcef31a",
   "metadata": {},
   "outputs": [],
   "source": [
    "class FaissIndexer:\n",
    "    \"\"\"\n",
    "    Faiss-based indexer for efficient similarity search using inner-product (cosine) similarity.\n",
    "\n",
    "    This class handles the creation and management of a FAISS index from node embeddings.\n",
    "    \n",
    "    :ivar faiss_index: The FAISS index for storing and querying embeddings.\n",
    "    :vartype faiss_index: faiss.IndexFlatIP\n",
    "    :ivar embedding_dim: Dimensionality of the embeddings.\n",
    "    :vartype embedding_dim: int\n",
    "    \"\"\"\n",
    "\n",
    "    def __init__(self):\n",
    "        \"\"\"\n",
    "        Initialize the FaissIndexer class.\n",
    "\n",
    "        :ivar faiss_index: The FAISS index, initialized as None.\n",
    "        :ivar embedding_dim: The dimension of embeddings, initialized as None.\n",
    "        \"\"\"\n",
    "        self.faiss_index = None\n",
    "        self.embedding_dim = None\n",
    "\n",
    "    def normalize_embeddings(self, embeddings):\n",
    "        \"\"\"\n",
    "        Normalize embeddings to have unit L2 norm.\n",
    "\n",
    "        :param embeddings: Array of embeddings to normalize.\n",
    "        :type embeddings: np.ndarray\n",
    "        :return: Normalized embeddings.\n",
    "        :rtype: np.ndarray\n",
    "        \"\"\"\n",
    "        return embeddings / np.linalg.norm(embeddings, axis=1, keepdims=True)\n",
    "\n",
    "    def build_index(self, nodes):\n",
    "        \"\"\"\n",
    "        Build the FAISS index from a list of nodes containing embeddings.\n",
    "\n",
    "        :param nodes: List of nodes, where each node contains an `embedding` attribute.\n",
    "        :type nodes: list\n",
    "        :raises ValueError: If the nodes list is empty or embeddings are inconsistent.\n",
    "        \"\"\"\n",
    "        if not nodes:\n",
    "            raise ValueError(\"Nodes list cannot be empty.\")\n",
    "        \n",
    "        embeddings = np.array([np.array(node.embedding) for node in nodes])\n",
    "        normalized_embeddings = self.normalize_embeddings(embeddings)\n",
    "\n",
    "        self.embedding_dim = normalized_embeddings[0].shape[0]\n",
    "        self.faiss_index = faiss.IndexFlatIP(self.embedding_dim)  # Inner-product similarity\n",
    "        self.faiss_index.add(normalized_embeddings)\n",
    "\n",
    "    def get_index(self):\n",
    "        \"\"\"\n",
    "        Get the FAISS index instance.\n",
    "\n",
    "        :return: The FAISS index used for similarity search.\n",
    "        :rtype: faiss.IndexFlatIP\n",
    "        :raises ValueError: If the index has not been built.\n",
    "        \"\"\"\n",
    "        if self.faiss_index is None:\n",
    "            raise ValueError(\"Index has not been built yet. Call 'build_index' first.\")\n",
    "        return self.faiss_index"
   ]
  },
  {
   "cell_type": "code",
   "execution_count": 73,
   "id": "bae97065-1900-498c-acac-aebea6c32745",
   "metadata": {},
   "outputs": [],
   "source": [
    "class FAISSVectorStoreRetriever(BaseRetriever):\n",
    "    def __init__(self, faiss_index, documents):\n",
    "        \"\"\"\n",
    "        Initialize the FAISS retriever.\n",
    "        :param faiss_index: The FAISS index containing precomputed embeddings.\n",
    "        :param documents: List of document chunks.\n",
    "        :param embeddings: Precomputed embeddings corresponding to the document chunks.\n",
    "        \"\"\"\n",
    "        self.faiss_index = faiss_index\n",
    "        self.documents = documents\n",
    "\n",
    "    def _retrieve(self, query_embedding, top_k=5):\n",
    "        \"\"\"\n",
    "        Retrieve the top-k nearest neighbors using the FAISS index.\n",
    "        :param query_embedding: The embedding of the query.\n",
    "        :param top_k: Number of top results to retrieve.\n",
    "        \"\"\"\n",
    "\n",
    "        norm_query_embedding = np.array([query_embedding])\n",
    "        norm_query_embedding /= np.linalg.norm(norm_query_embedding, axis=1, keepdims=True)\n",
    "\n",
    "        distances, indices = self.faiss_index.search(norm_query_embedding, top_k)\n",
    "        retrieved_docs = [\n",
    "            NodeWithScore(node=self.documents[idx], score=1 - dist)\n",
    "            for idx, dist in zip(indices[0], distances[0])\n",
    "            if idx != -1\n",
    "        ]\n",
    "        return retrieved_docs"
   ]
  },
  {
   "cell_type": "code",
   "execution_count": 74,
   "id": "415a6c55-102b-4e9f-a626-2c8cc84096e9",
   "metadata": {},
   "outputs": [
    {
     "name": "stderr",
     "output_type": "stream",
     "text": [
      "100%|██████████| 12302/12302 [16:52<00:00, 12.15it/s]  \n"
     ]
    }
   ],
   "source": [
    "# embedding\n",
    "nodes_embed = generate_embeddings(nodes, client, \"mxbai-embed-large\")"
   ]
  },
  {
   "cell_type": "code",
   "execution_count": 75,
   "id": "15320c85-b644-4148-b83b-b63bc2898517",
   "metadata": {},
   "outputs": [],
   "source": [
    "#indexing\n",
    "index = FaissIndexer()\n",
    "index.build_index(nodes_embed)\n",
    "faiss_index = index.get_index()\n",
    "\n",
    "faiss_retriever = FAISSVectorStoreRetriever(faiss_index=faiss_index,documents=nodes_embed)"
   ]
  },
  {
   "cell_type": "markdown",
   "id": "f75ddf0b-2c20-4065-bb79-fb8733622ec7",
   "metadata": {},
   "source": [
    "## Sparse Embedding via BM25"
   ]
  },
  {
   "cell_type": "code",
   "execution_count": 76,
   "id": "3e9c9cf4-123f-4d44-8c02-b61ecdd4bb2f",
   "metadata": {},
   "outputs": [],
   "source": [
    "# bm25_retriever = BM25Retriever.from_defaults(\n",
    "#     nodes=nodes,\n",
    "#     similarity_top_k=5,\n",
    "#     stemmer=Stemmer.Stemmer(\"english\"),\n",
    "#     language=\"english\",\n",
    "# )"
   ]
  },
  {
   "cell_type": "markdown",
   "id": "c953fd45-035d-4d46-801f-33f28fdede67",
   "metadata": {},
   "source": [
    "## Hybrid Retrieval via Reciprocal Rank"
   ]
  },
  {
   "cell_type": "code",
   "execution_count": 77,
   "id": "6ad014ba-3363-4810-a5d5-fa6187fbc494",
   "metadata": {},
   "outputs": [],
   "source": [
    "def hybrid_embedding(results: dict, top_k: int):\n",
    "    x = QueryFusionRetriever\n",
    "    ranked_results = QueryFusionRetriever._reciprocal_rerank_fusion(x, results)\n",
    "    return ranked_results[:top_k]"
   ]
  },
  {
   "cell_type": "markdown",
   "id": "eaae0e11-d7d3-4713-8889-92c9a3f207f7",
   "metadata": {},
   "source": [
    "# Post Retrieval"
   ]
  },
  {
   "cell_type": "markdown",
   "id": "43c29979-ba5f-4d9d-84f1-3252d9292b6d",
   "metadata": {},
   "source": [
    "## Summarization"
   ]
  },
  {
   "cell_type": "code",
   "execution_count": 78,
   "id": "a7e39ff7-4dec-4b10-8aee-b51d26e51fd8",
   "metadata": {},
   "outputs": [],
   "source": [
    "def summarize_each_chunk(nodes, client, query, model=\"llama3.2\", parent=False):\n",
    "    if parent:\n",
    "        chunks = [doc.text for doc in nodes]\n",
    "    else:\n",
    "        chunks = [doc.node.text for doc in nodes]\n",
    "    summaries = []\n",
    "    \n",
    "    for i, chunk in enumerate(chunks):\n",
    "        prompt = f\"\"\"\n",
    "        Summarize the following text in one concise paragraph, focusing on key points relevant to the query: \"{query}\".\n",
    "        \n",
    "        - Emphasize information directly related to the query.\n",
    "        - Exclude unrelated, redundant, or speculative details.\n",
    "        - Do NOT introduce new information or answer the query itself. \n",
    "        \n",
    "        Text:\n",
    "        {chunk}\n",
    "        \n",
    "        Summary:\n",
    "        \"\"\"\n",
    "        \n",
    "        response = client.generate(model=model, prompt=prompt)\n",
    "        summary = response['response'].strip()\n",
    "        summaries.append(summary)\n",
    "\n",
    "    return summaries"
   ]
  },
  {
   "cell_type": "markdown",
   "id": "2e78c30d-7d4e-4ec2-b3fe-ecb64fadf88a",
   "metadata": {},
   "source": [
    "# Generation"
   ]
  },
  {
   "cell_type": "code",
   "execution_count": 79,
   "id": "e11745b3-18d5-43cb-bb1d-c241c662d89d",
   "metadata": {},
   "outputs": [],
   "source": [
    "def generate_response_with_notice(summaries, query, client, model=\"llama3.2\"):\n",
    "    # Combine summaries into context block\n",
    "    context = \"\\n\".join(summaries)\n",
    "    \n",
    "    # Create prompt to answer based on summarized text\n",
    "    prompt = f\"\"\"\n",
    "    Use the following summarized information to answer the query accurately and concisely. \n",
    "    DO NOT USE BACKGROUND KNOWLEDGE OUTSIDE THE CONTEXT PROVIDED.\n",
    "    If the information is not sufficient to fully address the query, respond ONLY with:\n",
    "    \"The available information is insufficient to provide a complete answer to this query.\"\n",
    "\n",
    "    Summarized Context:\n",
    "    {context}\n",
    "    \n",
    "    Query:\n",
    "    {query}\n",
    "    \n",
    "    Response:\n",
    "    \"\"\"\n",
    "    \n",
    "    # Send the prompt to Ollama\n",
    "    response = client.generate(\n",
    "        model=model,\n",
    "        prompt=prompt\n",
    "    )\n",
    "    \n",
    "    return response['response'].strip()"
   ]
  },
  {
   "cell_type": "markdown",
   "id": "e075a9f0-ea97-4d1e-b9f1-3b664b2196f8",
   "metadata": {},
   "source": [
    "# Querying"
   ]
  },
  {
   "cell_type": "markdown",
   "id": "04693932-b45a-4bde-bf6c-00a7633822aa",
   "metadata": {},
   "source": [
    "## Query Transforms"
   ]
  },
  {
   "cell_type": "markdown",
   "id": "aee70e7b-a863-47c7-898a-78977ce5473f",
   "metadata": {},
   "source": [
    "## Query Generation"
   ]
  },
  {
   "cell_type": "code",
   "execution_count": 80,
   "id": "52a8f235-2430-4793-b0b4-17efd7f315a6",
   "metadata": {},
   "outputs": [],
   "source": [
    "docstore = {}\n",
    "\n",
    "# Store documents using full metadata as the key\n",
    "for doc in documents:\n",
    "    key = tuple(doc.metadata.items())  # Convert metadata to tuple for hashable key\n",
    "    docstore[key] = doc"
   ]
  },
  {
   "cell_type": "code",
   "execution_count": 81,
   "id": "cff1cba4-bd05-4429-a397-896f9e2dedfb",
   "metadata": {},
   "outputs": [],
   "source": [
    "def get_document_by_chunk_metadata(chunk_node):\n",
    "    # Convert chunk metadata to tuple for matching\n",
    "    metadata_key = tuple(chunk_node.metadata.items())\n",
    "\n",
    "    # Retrieve document from docstore\n",
    "    document = docstore.get(metadata_key)\n",
    "    return document"
   ]
  },
  {
   "cell_type": "code",
   "execution_count": 82,
   "id": "723b3e53-3f24-4280-ae9c-0e0ad7d57a68",
   "metadata": {},
   "outputs": [],
   "source": [
    "def remove_duplicate_documents(doc_list):\n",
    "    seen_ids = set()\n",
    "    unique_docs = []\n",
    "\n",
    "    for doc in doc_list:\n",
    "        if doc.doc_id not in seen_ids:\n",
    "            seen_ids.add(doc.doc_id)\n",
    "            unique_docs.append(doc)\n",
    "\n",
    "    return unique_docs"
   ]
  },
  {
   "cell_type": "code",
   "execution_count": 83,
   "id": "dcebca00-e74b-4b1f-a874-c00ce9dc6161",
   "metadata": {},
   "outputs": [],
   "source": [
    "def gen_query(query, top_k, client, mode='dense', summary=False, model=\"llama3.3\", chunks_only=False):\n",
    "    response = client.embeddings(prompt=query, model=\"mxbai-embed-large\")\n",
    "    query_embedding = response[\"embedding\"]\n",
    "\n",
    "    top_k_docs = faiss_retriever._retrieve(query_embedding, top_k=top_k)\n",
    "\n",
    "    bm25_retriever = BM25Retriever.from_defaults(\n",
    "    nodes=nodes,\n",
    "    similarity_top_k=top_k,\n",
    "    stemmer=Stemmer.Stemmer(\"english\"),\n",
    "    language=\"english\",\n",
    "    )\n",
    "    retrieved_nodes = bm25_retriever.retrieve(query)\n",
    "\n",
    "    results = {'faiss': top_k_docs, 'bm25':retrieved_nodes}\n",
    "    ranked_results = hybrid_embedding(results, top_k=top_k)\n",
    "\n",
    "    if mode == 'dense':\n",
    "        print('using FAISS')\n",
    "        ans_nodes =top_k_docs\n",
    "    elif mode == 'sparse':\n",
    "        print('using BM25')\n",
    "        ans_nodes = retrieved_nodes\n",
    "    else:\n",
    "        print('using Hybrid')\n",
    "        ans_nodes = ranked_results\n",
    "\n",
    "    parent_flag = True\n",
    "    context = set([get_document_by_chunk_metadata(docs).text for docs in ans_nodes])\n",
    "    if chunks_only:\n",
    "        parent_flag = False\n",
    "        print('using chunks only')\n",
    "        context = [docs.node.text for docs in ans_nodes]\n",
    "        \n",
    "    if summary:\n",
    "        print('using summaries')\n",
    "        context_nodes = remove_duplicate_documents([get_document_by_chunk_metadata(docs) for docs in ans_nodes])\n",
    "\n",
    "        if chunks_only:\n",
    "            context_nodes=ans_nodes\n",
    "        summaries = summarize_each_chunk(context_nodes, client, model='llama3.2:latest', query=query,parent=parent_flag)\n",
    "        context = summaries\n",
    "\n",
    "    answer = generate_response_with_notice(context, query, client, model=model)\n",
    "\n",
    "    # Format the references\n",
    "    references = []\n",
    "    for i, doc in enumerate(ranked_results[:top_k], start=1):\n",
    "        metadata = doc.metadata\n",
    "        source_info = f\"Source {i}: {metadata['title']} (Page {metadata['page']}, Folder: {metadata['folder']})\"\n",
    "        references.append(source_info)\n",
    "\n",
    "    return answer, \"\\n\".join(references)"
   ]
  },
  {
   "cell_type": "markdown",
   "id": "00842045-d62a-4b01-b306-f637856c769c",
   "metadata": {},
   "source": [
    "# Evaluation"
   ]
  },
  {
   "cell_type": "code",
   "execution_count": 84,
   "id": "719d3b48-6639-423f-957d-82cda52de114",
   "metadata": {},
   "outputs": [],
   "source": [
    "# Generate prompts dynamically\n",
    "def generate_prompt(row):\n",
    "    options = []\n",
    "    for choice in ['A', 'B', 'C', 'D', 'E']:\n",
    "        # Check for NaN or blank values\n",
    "        if pd.notna(row[choice]) and row[choice] != '':\n",
    "            options.append(f\"{choice}. {row[choice]}\")\n",
    "    \n",
    "    # Construct the prompt with few-shot examples\n",
    "    prompt = f\"\\nActual Question: {row['Question']}\\n\" + \"\\n\".join(options)\n",
    "    prompt += \"\\nPlease answer only in letters and put them inside a bracket '[]'. If the question contains the statement 'Check all that apply' then add comma separator if there are multiple answers ONLY IF ALLOWED.\"\n",
    "    \n",
    "    return prompt"
   ]
  },
  {
   "cell_type": "code",
   "execution_count": 85,
   "id": "b16ce73b-abc7-460c-b15b-f39bc5209786",
   "metadata": {},
   "outputs": [
    {
     "name": "stdout",
     "output_type": "stream",
     "text": [
      "Testing Data:\n"
     ]
    },
    {
     "data": {
      "text/html": [
       "<div>\n",
       "<style scoped>\n",
       "    .dataframe tbody tr th:only-of-type {\n",
       "        vertical-align: middle;\n",
       "    }\n",
       "\n",
       "    .dataframe tbody tr th {\n",
       "        vertical-align: top;\n",
       "    }\n",
       "\n",
       "    .dataframe thead th {\n",
       "        text-align: right;\n",
       "    }\n",
       "</style>\n",
       "<table border=\"1\" class=\"dataframe\">\n",
       "  <thead>\n",
       "    <tr style=\"text-align: right;\">\n",
       "      <th></th>\n",
       "      <th>Question</th>\n",
       "      <th>A</th>\n",
       "      <th>B</th>\n",
       "      <th>C</th>\n",
       "      <th>D</th>\n",
       "      <th>E</th>\n",
       "      <th>Answer</th>\n",
       "      <th>Prompt</th>\n",
       "    </tr>\n",
       "  </thead>\n",
       "  <tbody>\n",
       "    <tr>\n",
       "      <th>69</th>\n",
       "      <td>If the driver is turning left, he must: (U-tur...</td>\n",
       "      <td>have the right of way</td>\n",
       "      <td>do so slowly with caution</td>\n",
       "      <td>yield to approaching cars</td>\n",
       "      <td>NaN</td>\n",
       "      <td>NaN</td>\n",
       "      <td>C</td>\n",
       "      <td>\\nActual Question: If the driver is turning le...</td>\n",
       "    </tr>\n",
       "    <tr>\n",
       "      <th>5</th>\n",
       "      <td>When a vehicle starts to skid, what should the...</td>\n",
       "      <td>Immediately step on the brakes</td>\n",
       "      <td>Hold firmly on to the wheel while slowing down...</td>\n",
       "      <td>Turn the wheels tp the opposite the direction ...</td>\n",
       "      <td>NaN</td>\n",
       "      <td>NaN</td>\n",
       "      <td>B</td>\n",
       "      <td>\\nActual Question: When a vehicle starts to sk...</td>\n",
       "    </tr>\n",
       "    <tr>\n",
       "      <th>42</th>\n",
       "      <td>If you are parking uphill without a curb, turn...</td>\n",
       "      <td>edge of the street</td>\n",
       "      <td>other side of the street</td>\n",
       "      <td>middle of the street</td>\n",
       "      <td>NaN</td>\n",
       "      <td>NaN</td>\n",
       "      <td>A</td>\n",
       "      <td>\\nActual Question: If you are parking uphill w...</td>\n",
       "    </tr>\n",
       "    <tr>\n",
       "      <th>47</th>\n",
       "      <td>When parking downhill, you should turn your fr...</td>\n",
       "      <td>toward the curb of the sidewalk</td>\n",
       "      <td>away from the curb</td>\n",
       "      <td>any direction will do</td>\n",
       "      <td>NaN</td>\n",
       "      <td>NaN</td>\n",
       "      <td>A</td>\n",
       "      <td>\\nActual Question: When parking downhill, you ...</td>\n",
       "    </tr>\n",
       "    <tr>\n",
       "      <th>16</th>\n",
       "      <td>Which of the following is the maximum speed li...</td>\n",
       "      <td>60 kph</td>\n",
       "      <td>80 kph</td>\n",
       "      <td>100 kph</td>\n",
       "      <td>NaN</td>\n",
       "      <td>NaN</td>\n",
       "      <td>C</td>\n",
       "      <td>\\nActual Question: Which of the following is t...</td>\n",
       "    </tr>\n",
       "  </tbody>\n",
       "</table>\n",
       "</div>"
      ],
      "text/plain": [
       "                                             Question  \\\n",
       "69  If the driver is turning left, he must: (U-tur...   \n",
       "5   When a vehicle starts to skid, what should the...   \n",
       "42  If you are parking uphill without a curb, turn...   \n",
       "47  When parking downhill, you should turn your fr...   \n",
       "16  Which of the following is the maximum speed li...   \n",
       "\n",
       "                                  A  \\\n",
       "69            have the right of way   \n",
       "5    Immediately step on the brakes   \n",
       "42               edge of the street   \n",
       "47  toward the curb of the sidewalk   \n",
       "16                           60 kph   \n",
       "\n",
       "                                                    B  \\\n",
       "69                          do so slowly with caution   \n",
       "5   Hold firmly on to the wheel while slowing down...   \n",
       "42                           other side of the street   \n",
       "47                                 away from the curb   \n",
       "16                                             80 kph   \n",
       "\n",
       "                                                    C    D    E Answer  \\\n",
       "69                          yield to approaching cars  NaN  NaN      C   \n",
       "5   Turn the wheels tp the opposite the direction ...  NaN  NaN      B   \n",
       "42                               middle of the street  NaN  NaN      A   \n",
       "47                              any direction will do  NaN  NaN      A   \n",
       "16                                            100 kph  NaN  NaN      C   \n",
       "\n",
       "                                               Prompt  \n",
       "69  \\nActual Question: If the driver is turning le...  \n",
       "5   \\nActual Question: When a vehicle starts to sk...  \n",
       "42  \\nActual Question: If you are parking uphill w...  \n",
       "47  \\nActual Question: When parking downhill, you ...  \n",
       "16  \\nActual Question: Which of the following is t...  "
      ]
     },
     "metadata": {},
     "output_type": "display_data"
    },
    {
     "name": "stdout",
     "output_type": "stream",
     "text": [
      "\n",
      "Holdout Validation Data:\n"
     ]
    },
    {
     "data": {
      "text/html": [
       "<div>\n",
       "<style scoped>\n",
       "    .dataframe tbody tr th:only-of-type {\n",
       "        vertical-align: middle;\n",
       "    }\n",
       "\n",
       "    .dataframe tbody tr th {\n",
       "        vertical-align: top;\n",
       "    }\n",
       "\n",
       "    .dataframe thead th {\n",
       "        text-align: right;\n",
       "    }\n",
       "</style>\n",
       "<table border=\"1\" class=\"dataframe\">\n",
       "  <thead>\n",
       "    <tr style=\"text-align: right;\">\n",
       "      <th></th>\n",
       "      <th>Question</th>\n",
       "      <th>A</th>\n",
       "      <th>B</th>\n",
       "      <th>C</th>\n",
       "      <th>D</th>\n",
       "      <th>E</th>\n",
       "      <th>Answer</th>\n",
       "      <th>Prompt</th>\n",
       "    </tr>\n",
       "  </thead>\n",
       "  <tbody>\n",
       "    <tr>\n",
       "      <th>40</th>\n",
       "      <td>What light shall be used when vehicles are par...</td>\n",
       "      <td>Headlight</td>\n",
       "      <td>Parking lights or lower-beam headlights</td>\n",
       "      <td>Signal lights</td>\n",
       "      <td>NaN</td>\n",
       "      <td>NaN</td>\n",
       "      <td>B</td>\n",
       "      <td>\\nActual Question: What light shall be used wh...</td>\n",
       "    </tr>\n",
       "    <tr>\n",
       "      <th>22</th>\n",
       "      <td>To have one's driver's license suspended means...</td>\n",
       "      <td>have it revalidated by the LTO</td>\n",
       "      <td>have it taken away premanently by the LTO</td>\n",
       "      <td>have it taken temporarily by the LTO</td>\n",
       "      <td>NaN</td>\n",
       "      <td>NaN</td>\n",
       "      <td>C</td>\n",
       "      <td>\\nActual Question: To have one's driver's lice...</td>\n",
       "    </tr>\n",
       "    <tr>\n",
       "      <th>55</th>\n",
       "      <td>On a two-lane road, overtaking is only allowed...</td>\n",
       "      <td>left lane</td>\n",
       "      <td>both right and left lane</td>\n",
       "      <td>right lane</td>\n",
       "      <td>NaN</td>\n",
       "      <td>NaN</td>\n",
       "      <td>A</td>\n",
       "      <td>\\nActual Question: On a two-lane road, overtak...</td>\n",
       "    </tr>\n",
       "    <tr>\n",
       "      <th>88</th>\n",
       "      <td>The driver is using a motor vehicle in committ...</td>\n",
       "      <td>revokes and will pay a fine</td>\n",
       "      <td>confiscated and will pay fine</td>\n",
       "      <td>suspended and will pay fine</td>\n",
       "      <td>NaN</td>\n",
       "      <td>NaN</td>\n",
       "      <td>A</td>\n",
       "      <td>\\nActual Question: The driver is using a motor...</td>\n",
       "    </tr>\n",
       "    <tr>\n",
       "      <th>0</th>\n",
       "      <td>What should you do in case your vehicle breaks...</td>\n",
       "      <td>Open your trunk and hood</td>\n",
       "      <td>Stand on the expressway and flag down passing ...</td>\n",
       "      <td>Call for help using a mobile phone or an expre...</td>\n",
       "      <td>Park as far to the right as possible</td>\n",
       "      <td>Put your hazard warning light on</td>\n",
       "      <td>A, C, D, E</td>\n",
       "      <td>\\nActual Question: What should you do in case ...</td>\n",
       "    </tr>\n",
       "  </tbody>\n",
       "</table>\n",
       "</div>"
      ],
      "text/plain": [
       "                                             Question  \\\n",
       "40  What light shall be used when vehicles are par...   \n",
       "22  To have one's driver's license suspended means...   \n",
       "55  On a two-lane road, overtaking is only allowed...   \n",
       "88  The driver is using a motor vehicle in committ...   \n",
       "0   What should you do in case your vehicle breaks...   \n",
       "\n",
       "                                 A  \\\n",
       "40                       Headlight   \n",
       "22  have it revalidated by the LTO   \n",
       "55                       left lane   \n",
       "88     revokes and will pay a fine   \n",
       "0         Open your trunk and hood   \n",
       "\n",
       "                                                    B  \\\n",
       "40            Parking lights or lower-beam headlights   \n",
       "22          have it taken away premanently by the LTO   \n",
       "55                           both right and left lane   \n",
       "88                      confiscated and will pay fine   \n",
       "0   Stand on the expressway and flag down passing ...   \n",
       "\n",
       "                                                    C  \\\n",
       "40                                      Signal lights   \n",
       "22               have it taken temporarily by the LTO   \n",
       "55                                         right lane   \n",
       "88                        suspended and will pay fine   \n",
       "0   Call for help using a mobile phone or an expre...   \n",
       "\n",
       "                                       D                                 E  \\\n",
       "40                                   NaN                               NaN   \n",
       "22                                   NaN                               NaN   \n",
       "55                                   NaN                               NaN   \n",
       "88                                   NaN                               NaN   \n",
       "0   Park as far to the right as possible  Put your hazard warning light on   \n",
       "\n",
       "        Answer                                             Prompt  \n",
       "40           B  \\nActual Question: What light shall be used wh...  \n",
       "22           C  \\nActual Question: To have one's driver's lice...  \n",
       "55           A  \\nActual Question: On a two-lane road, overtak...  \n",
       "88           A  \\nActual Question: The driver is using a motor...  \n",
       "0   A, C, D, E  \\nActual Question: What should you do in case ...  "
      ]
     },
     "metadata": {},
     "output_type": "display_data"
    }
   ],
   "source": [
    "from sklearn.model_selection import train_test_split\n",
    "# Load the Excel file\n",
    "file_path = '/mnt/c/Users/Jeryl Salas/Documents/AI 351/Project/LTO_EXAM.csv'\n",
    "df = pd.read_csv(file_path)\n",
    "df['Prompt'] = df.apply(generate_prompt, axis=1)\n",
    "# Split the data into test (80%) and holdout validation (20%)\n",
    "test_df, holdout_df = train_test_split(df, test_size=0.33, random_state=42)\n",
    "\n",
    "# Display the first few rows of each set\n",
    "print(\"Testing Data:\")\n",
    "display(test_df.head())\n",
    "\n",
    "print(\"\\nHoldout Validation Data:\")\n",
    "display(holdout_df.head())\n",
    "\n",
    "test_df.to_csv('/mnt/c/Users/Jeryl Salas/Documents/AI 351/Project/test_data.csv', index=False)\n",
    "holdout_df.to_csv('/mnt/c/Users/Jeryl Salas/Documents/AI 351/Project/holdout_data.csv', index=False)"
   ]
  },
  {
   "cell_type": "code",
   "execution_count": 86,
   "id": "9450c855-2480-4843-9b09-8d0af0a917a7",
   "metadata": {},
   "outputs": [
    {
     "name": "stderr",
     "output_type": "stream",
     "text": [
      "  0%|          | 0/60 [00:00<?, ?it/s]"
     ]
    },
    {
     "name": "stdout",
     "output_type": "stream",
     "text": [
      "using Hybrid\n"
     ]
    },
    {
     "name": "stderr",
     "output_type": "stream",
     "text": [
      "  2%|▏         | 1/60 [00:33<32:50, 33.40s/it]"
     ]
    },
    {
     "name": "stdout",
     "output_type": "stream",
     "text": [
      "using Hybrid\n"
     ]
    },
    {
     "name": "stderr",
     "output_type": "stream",
     "text": [
      "  3%|▎         | 2/60 [00:49<22:36, 23.38s/it]"
     ]
    },
    {
     "name": "stdout",
     "output_type": "stream",
     "text": [
      "using Hybrid\n"
     ]
    },
    {
     "name": "stderr",
     "output_type": "stream",
     "text": [
      "  5%|▌         | 3/60 [00:59<16:23, 17.26s/it]"
     ]
    },
    {
     "name": "stdout",
     "output_type": "stream",
     "text": [
      "using Hybrid\n"
     ]
    },
    {
     "name": "stderr",
     "output_type": "stream",
     "text": [
      "  7%|▋         | 4/60 [01:16<15:44, 16.87s/it]"
     ]
    },
    {
     "name": "stdout",
     "output_type": "stream",
     "text": [
      "using Hybrid\n"
     ]
    },
    {
     "name": "stderr",
     "output_type": "stream",
     "text": [
      "  8%|▊         | 5/60 [01:25<13:10, 14.37s/it]"
     ]
    },
    {
     "name": "stdout",
     "output_type": "stream",
     "text": [
      "using Hybrid\n"
     ]
    },
    {
     "name": "stderr",
     "output_type": "stream",
     "text": [
      " 10%|█         | 6/60 [01:35<11:20, 12.61s/it]"
     ]
    },
    {
     "name": "stdout",
     "output_type": "stream",
     "text": [
      "using Hybrid\n"
     ]
    },
    {
     "name": "stderr",
     "output_type": "stream",
     "text": [
      " 12%|█▏        | 7/60 [02:11<18:02, 20.42s/it]"
     ]
    },
    {
     "name": "stdout",
     "output_type": "stream",
     "text": [
      "using Hybrid\n"
     ]
    },
    {
     "name": "stderr",
     "output_type": "stream",
     "text": [
      " 13%|█▎        | 8/60 [02:46<21:45, 25.10s/it]"
     ]
    },
    {
     "name": "stdout",
     "output_type": "stream",
     "text": [
      "using Hybrid\n"
     ]
    },
    {
     "name": "stderr",
     "output_type": "stream",
     "text": [
      " 15%|█▌        | 9/60 [03:07<20:15, 23.83s/it]"
     ]
    },
    {
     "name": "stdout",
     "output_type": "stream",
     "text": [
      "using Hybrid\n"
     ]
    },
    {
     "name": "stderr",
     "output_type": "stream",
     "text": [
      " 17%|█▋        | 10/60 [03:20<16:56, 20.33s/it]"
     ]
    },
    {
     "name": "stdout",
     "output_type": "stream",
     "text": [
      "using Hybrid\n"
     ]
    },
    {
     "name": "stderr",
     "output_type": "stream",
     "text": [
      " 18%|█▊        | 11/60 [03:31<14:17, 17.50s/it]"
     ]
    },
    {
     "name": "stdout",
     "output_type": "stream",
     "text": [
      "using Hybrid\n"
     ]
    },
    {
     "name": "stderr",
     "output_type": "stream",
     "text": [
      " 20%|██        | 12/60 [03:54<15:15, 19.08s/it]"
     ]
    },
    {
     "name": "stdout",
     "output_type": "stream",
     "text": [
      "using Hybrid\n"
     ]
    },
    {
     "name": "stderr",
     "output_type": "stream",
     "text": [
      " 22%|██▏       | 13/60 [04:17<15:53, 20.28s/it]"
     ]
    },
    {
     "name": "stdout",
     "output_type": "stream",
     "text": [
      "using Hybrid\n"
     ]
    },
    {
     "name": "stderr",
     "output_type": "stream",
     "text": [
      " 23%|██▎       | 14/60 [04:40<16:13, 21.16s/it]"
     ]
    },
    {
     "name": "stdout",
     "output_type": "stream",
     "text": [
      "using Hybrid\n"
     ]
    },
    {
     "name": "stderr",
     "output_type": "stream",
     "text": [
      " 25%|██▌       | 15/60 [05:06<17:06, 22.80s/it]"
     ]
    },
    {
     "name": "stdout",
     "output_type": "stream",
     "text": [
      "using Hybrid\n"
     ]
    },
    {
     "name": "stderr",
     "output_type": "stream",
     "text": [
      " 27%|██▋       | 16/60 [05:22<15:13, 20.77s/it]"
     ]
    },
    {
     "name": "stdout",
     "output_type": "stream",
     "text": [
      "using Hybrid\n"
     ]
    },
    {
     "name": "stderr",
     "output_type": "stream",
     "text": [
      " 28%|██▊       | 17/60 [05:56<17:44, 24.75s/it]"
     ]
    },
    {
     "name": "stdout",
     "output_type": "stream",
     "text": [
      "using Hybrid\n"
     ]
    },
    {
     "name": "stderr",
     "output_type": "stream",
     "text": [
      " 30%|███       | 18/60 [06:42<21:44, 31.06s/it]"
     ]
    },
    {
     "name": "stdout",
     "output_type": "stream",
     "text": [
      "using Hybrid\n"
     ]
    },
    {
     "name": "stderr",
     "output_type": "stream",
     "text": [
      " 32%|███▏      | 19/60 [07:14<21:16, 31.14s/it]"
     ]
    },
    {
     "name": "stdout",
     "output_type": "stream",
     "text": [
      "using Hybrid\n"
     ]
    },
    {
     "name": "stderr",
     "output_type": "stream",
     "text": [
      " 33%|███▎      | 20/60 [07:27<17:14, 25.86s/it]"
     ]
    },
    {
     "name": "stdout",
     "output_type": "stream",
     "text": [
      "using Hybrid\n"
     ]
    },
    {
     "name": "stderr",
     "output_type": "stream",
     "text": [
      " 35%|███▌      | 21/60 [07:53<16:50, 25.91s/it]"
     ]
    },
    {
     "name": "stdout",
     "output_type": "stream",
     "text": [
      "using Hybrid\n"
     ]
    },
    {
     "name": "stderr",
     "output_type": "stream",
     "text": [
      " 37%|███▋      | 22/60 [08:21<16:41, 26.36s/it]"
     ]
    },
    {
     "name": "stdout",
     "output_type": "stream",
     "text": [
      "using Hybrid\n"
     ]
    },
    {
     "name": "stderr",
     "output_type": "stream",
     "text": [
      " 38%|███▊      | 23/60 [08:29<13:01, 21.12s/it]"
     ]
    },
    {
     "name": "stdout",
     "output_type": "stream",
     "text": [
      "using Hybrid\n"
     ]
    },
    {
     "name": "stderr",
     "output_type": "stream",
     "text": [
      " 40%|████      | 24/60 [08:47<11:58, 19.96s/it]"
     ]
    },
    {
     "name": "stdout",
     "output_type": "stream",
     "text": [
      "using Hybrid\n"
     ]
    },
    {
     "name": "stderr",
     "output_type": "stream",
     "text": [
      " 42%|████▏     | 25/60 [09:07<11:42, 20.07s/it]"
     ]
    },
    {
     "name": "stdout",
     "output_type": "stream",
     "text": [
      "using Hybrid\n"
     ]
    },
    {
     "name": "stderr",
     "output_type": "stream",
     "text": [
      " 43%|████▎     | 26/60 [09:26<11:16, 19.88s/it]"
     ]
    },
    {
     "name": "stdout",
     "output_type": "stream",
     "text": [
      "using Hybrid\n"
     ]
    },
    {
     "name": "stderr",
     "output_type": "stream",
     "text": [
      " 45%|████▌     | 27/60 [10:01<13:21, 24.29s/it]"
     ]
    },
    {
     "name": "stdout",
     "output_type": "stream",
     "text": [
      "using Hybrid\n"
     ]
    },
    {
     "name": "stderr",
     "output_type": "stream",
     "text": [
      " 47%|████▋     | 28/60 [10:13<11:01, 20.68s/it]"
     ]
    },
    {
     "name": "stdout",
     "output_type": "stream",
     "text": [
      "using Hybrid\n"
     ]
    },
    {
     "name": "stderr",
     "output_type": "stream",
     "text": [
      " 48%|████▊     | 29/60 [10:22<08:51, 17.16s/it]"
     ]
    },
    {
     "name": "stdout",
     "output_type": "stream",
     "text": [
      "using Hybrid\n"
     ]
    },
    {
     "name": "stderr",
     "output_type": "stream",
     "text": [
      " 50%|█████     | 30/60 [10:46<09:32, 19.07s/it]"
     ]
    },
    {
     "name": "stdout",
     "output_type": "stream",
     "text": [
      "using Hybrid\n"
     ]
    },
    {
     "name": "stderr",
     "output_type": "stream",
     "text": [
      " 52%|█████▏    | 31/60 [11:04<09:06, 18.85s/it]"
     ]
    },
    {
     "name": "stdout",
     "output_type": "stream",
     "text": [
      "using Hybrid\n"
     ]
    },
    {
     "name": "stderr",
     "output_type": "stream",
     "text": [
      " 53%|█████▎    | 32/60 [11:13<07:26, 15.96s/it]"
     ]
    },
    {
     "name": "stdout",
     "output_type": "stream",
     "text": [
      "using Hybrid\n"
     ]
    },
    {
     "name": "stderr",
     "output_type": "stream",
     "text": [
      " 55%|█████▌    | 33/60 [11:32<07:35, 16.87s/it]"
     ]
    },
    {
     "name": "stdout",
     "output_type": "stream",
     "text": [
      "using Hybrid\n"
     ]
    },
    {
     "name": "stderr",
     "output_type": "stream",
     "text": [
      " 57%|█████▋    | 34/60 [11:45<06:47, 15.67s/it]"
     ]
    },
    {
     "name": "stdout",
     "output_type": "stream",
     "text": [
      "using Hybrid\n"
     ]
    },
    {
     "name": "stderr",
     "output_type": "stream",
     "text": [
      " 58%|█████▊    | 35/60 [12:05<06:59, 16.78s/it]"
     ]
    },
    {
     "name": "stdout",
     "output_type": "stream",
     "text": [
      "using Hybrid\n"
     ]
    },
    {
     "name": "stderr",
     "output_type": "stream",
     "text": [
      " 60%|██████    | 36/60 [12:13<05:44, 14.34s/it]"
     ]
    },
    {
     "name": "stdout",
     "output_type": "stream",
     "text": [
      "using Hybrid\n"
     ]
    },
    {
     "name": "stderr",
     "output_type": "stream",
     "text": [
      " 62%|██████▏   | 37/60 [12:29<05:37, 14.69s/it]"
     ]
    },
    {
     "name": "stdout",
     "output_type": "stream",
     "text": [
      "using Hybrid\n"
     ]
    },
    {
     "name": "stderr",
     "output_type": "stream",
     "text": [
      " 63%|██████▎   | 38/60 [12:45<05:32, 15.09s/it]"
     ]
    },
    {
     "name": "stdout",
     "output_type": "stream",
     "text": [
      "using Hybrid\n"
     ]
    },
    {
     "name": "stderr",
     "output_type": "stream",
     "text": [
      " 65%|██████▌   | 39/60 [12:59<05:11, 14.85s/it]"
     ]
    },
    {
     "name": "stdout",
     "output_type": "stream",
     "text": [
      "using Hybrid\n"
     ]
    },
    {
     "name": "stderr",
     "output_type": "stream",
     "text": [
      " 67%|██████▋   | 40/60 [13:24<05:57, 17.86s/it]"
     ]
    },
    {
     "name": "stdout",
     "output_type": "stream",
     "text": [
      "using Hybrid\n"
     ]
    },
    {
     "name": "stderr",
     "output_type": "stream",
     "text": [
      " 68%|██████▊   | 41/60 [13:40<05:29, 17.37s/it]"
     ]
    },
    {
     "name": "stdout",
     "output_type": "stream",
     "text": [
      "using Hybrid\n"
     ]
    },
    {
     "name": "stderr",
     "output_type": "stream",
     "text": [
      " 70%|███████   | 42/60 [14:02<05:37, 18.74s/it]"
     ]
    },
    {
     "name": "stdout",
     "output_type": "stream",
     "text": [
      "using Hybrid\n"
     ]
    },
    {
     "name": "stderr",
     "output_type": "stream",
     "text": [
      " 72%|███████▏  | 43/60 [14:16<04:55, 17.38s/it]"
     ]
    },
    {
     "name": "stdout",
     "output_type": "stream",
     "text": [
      "using Hybrid\n"
     ]
    },
    {
     "name": "stderr",
     "output_type": "stream",
     "text": [
      " 73%|███████▎  | 44/60 [14:29<04:16, 16.00s/it]"
     ]
    },
    {
     "name": "stdout",
     "output_type": "stream",
     "text": [
      "using Hybrid\n"
     ]
    },
    {
     "name": "stderr",
     "output_type": "stream",
     "text": [
      " 75%|███████▌  | 45/60 [15:12<06:01, 24.13s/it]"
     ]
    },
    {
     "name": "stdout",
     "output_type": "stream",
     "text": [
      "using Hybrid\n"
     ]
    },
    {
     "name": "stderr",
     "output_type": "stream",
     "text": [
      " 77%|███████▋  | 46/60 [15:40<05:51, 25.13s/it]"
     ]
    },
    {
     "name": "stdout",
     "output_type": "stream",
     "text": [
      "using Hybrid\n"
     ]
    },
    {
     "name": "stderr",
     "output_type": "stream",
     "text": [
      " 78%|███████▊  | 47/60 [16:10<05:48, 26.81s/it]"
     ]
    },
    {
     "name": "stdout",
     "output_type": "stream",
     "text": [
      "using Hybrid\n"
     ]
    },
    {
     "name": "stderr",
     "output_type": "stream",
     "text": [
      " 80%|████████  | 48/60 [16:48<06:01, 30.09s/it]"
     ]
    },
    {
     "name": "stdout",
     "output_type": "stream",
     "text": [
      "using Hybrid\n"
     ]
    },
    {
     "name": "stderr",
     "output_type": "stream",
     "text": [
      " 82%|████████▏ | 49/60 [17:16<05:24, 29.54s/it]"
     ]
    },
    {
     "name": "stdout",
     "output_type": "stream",
     "text": [
      "using Hybrid\n"
     ]
    },
    {
     "name": "stderr",
     "output_type": "stream",
     "text": [
      " 83%|████████▎ | 50/60 [17:32<04:15, 25.53s/it]"
     ]
    },
    {
     "name": "stdout",
     "output_type": "stream",
     "text": [
      "using Hybrid\n"
     ]
    },
    {
     "name": "stderr",
     "output_type": "stream",
     "text": [
      " 85%|████████▌ | 51/60 [18:02<03:59, 26.66s/it]"
     ]
    },
    {
     "name": "stdout",
     "output_type": "stream",
     "text": [
      "using Hybrid\n"
     ]
    },
    {
     "name": "stderr",
     "output_type": "stream",
     "text": [
      " 87%|████████▋ | 52/60 [18:46<04:16, 32.03s/it]"
     ]
    },
    {
     "name": "stdout",
     "output_type": "stream",
     "text": [
      "using Hybrid\n"
     ]
    },
    {
     "name": "stderr",
     "output_type": "stream",
     "text": [
      " 88%|████████▊ | 53/60 [19:16<03:39, 31.32s/it]"
     ]
    },
    {
     "name": "stdout",
     "output_type": "stream",
     "text": [
      "using Hybrid\n"
     ]
    },
    {
     "name": "stderr",
     "output_type": "stream",
     "text": [
      " 90%|█████████ | 54/60 [19:46<03:05, 30.97s/it]"
     ]
    },
    {
     "name": "stdout",
     "output_type": "stream",
     "text": [
      "using Hybrid\n"
     ]
    },
    {
     "name": "stderr",
     "output_type": "stream",
     "text": [
      " 92%|█████████▏| 55/60 [20:10<02:23, 28.74s/it]"
     ]
    },
    {
     "name": "stdout",
     "output_type": "stream",
     "text": [
      "using Hybrid\n"
     ]
    },
    {
     "name": "stderr",
     "output_type": "stream",
     "text": [
      " 93%|█████████▎| 56/60 [20:41<01:57, 29.46s/it]"
     ]
    },
    {
     "name": "stdout",
     "output_type": "stream",
     "text": [
      "using Hybrid\n"
     ]
    },
    {
     "name": "stderr",
     "output_type": "stream",
     "text": [
      " 95%|█████████▌| 57/60 [20:52<01:11, 23.84s/it]"
     ]
    },
    {
     "name": "stdout",
     "output_type": "stream",
     "text": [
      "using Hybrid\n"
     ]
    },
    {
     "name": "stderr",
     "output_type": "stream",
     "text": [
      " 97%|█████████▋| 58/60 [21:08<00:43, 21.50s/it]"
     ]
    },
    {
     "name": "stdout",
     "output_type": "stream",
     "text": [
      "using Hybrid\n"
     ]
    },
    {
     "name": "stderr",
     "output_type": "stream",
     "text": [
      " 98%|█████████▊| 59/60 [21:22<00:19, 19.40s/it]"
     ]
    },
    {
     "name": "stdout",
     "output_type": "stream",
     "text": [
      "using Hybrid\n"
     ]
    },
    {
     "name": "stderr",
     "output_type": "stream",
     "text": [
      "100%|██████████| 60/60 [21:34<00:00, 21.57s/it]"
     ]
    },
    {
     "name": "stdout",
     "output_type": "stream",
     "text": [
      "Updated Testing Data with AI Answers:\n"
     ]
    },
    {
     "name": "stderr",
     "output_type": "stream",
     "text": [
      "\n"
     ]
    },
    {
     "data": {
      "text/html": [
       "<div>\n",
       "<style scoped>\n",
       "    .dataframe tbody tr th:only-of-type {\n",
       "        vertical-align: middle;\n",
       "    }\n",
       "\n",
       "    .dataframe tbody tr th {\n",
       "        vertical-align: top;\n",
       "    }\n",
       "\n",
       "    .dataframe thead th {\n",
       "        text-align: right;\n",
       "    }\n",
       "</style>\n",
       "<table border=\"1\" class=\"dataframe\">\n",
       "  <thead>\n",
       "    <tr style=\"text-align: right;\">\n",
       "      <th></th>\n",
       "      <th>Question</th>\n",
       "      <th>A</th>\n",
       "      <th>B</th>\n",
       "      <th>C</th>\n",
       "      <th>D</th>\n",
       "      <th>E</th>\n",
       "      <th>Answer</th>\n",
       "      <th>Prompt</th>\n",
       "      <th>AI</th>\n",
       "    </tr>\n",
       "  </thead>\n",
       "  <tbody>\n",
       "    <tr>\n",
       "      <th>69</th>\n",
       "      <td>If the driver is turning left, he must: (U-tur...</td>\n",
       "      <td>have the right of way</td>\n",
       "      <td>do so slowly with caution</td>\n",
       "      <td>yield to approaching cars</td>\n",
       "      <td>NaN</td>\n",
       "      <td>NaN</td>\n",
       "      <td>C</td>\n",
       "      <td>\\nActual Question: If the driver is turning le...</td>\n",
       "      <td>When turning left, the driver must:\\n\\n1. Sign...</td>\n",
       "    </tr>\n",
       "    <tr>\n",
       "      <th>5</th>\n",
       "      <td>When a vehicle starts to skid, what should the...</td>\n",
       "      <td>Immediately step on the brakes</td>\n",
       "      <td>Hold firmly on to the wheel while slowing down...</td>\n",
       "      <td>Turn the wheels tp the opposite the direction ...</td>\n",
       "      <td>NaN</td>\n",
       "      <td>NaN</td>\n",
       "      <td>B</td>\n",
       "      <td>\\nActual Question: When a vehicle starts to sk...</td>\n",
       "      <td>When a vehicle starts to skid, the driver shou...</td>\n",
       "    </tr>\n",
       "    <tr>\n",
       "      <th>42</th>\n",
       "      <td>If you are parking uphill without a curb, turn...</td>\n",
       "      <td>edge of the street</td>\n",
       "      <td>other side of the street</td>\n",
       "      <td>middle of the street</td>\n",
       "      <td>NaN</td>\n",
       "      <td>NaN</td>\n",
       "      <td>A</td>\n",
       "      <td>\\nActual Question: If you are parking uphill w...</td>\n",
       "      <td>The correct response is: \\n\\nthe right (or awa...</td>\n",
       "    </tr>\n",
       "    <tr>\n",
       "      <th>47</th>\n",
       "      <td>When parking downhill, you should turn your fr...</td>\n",
       "      <td>toward the curb of the sidewalk</td>\n",
       "      <td>away from the curb</td>\n",
       "      <td>any direction will do</td>\n",
       "      <td>NaN</td>\n",
       "      <td>NaN</td>\n",
       "      <td>A</td>\n",
       "      <td>\\nActual Question: When parking downhill, you ...</td>\n",
       "      <td>When parking downhill, you should turn your fr...</td>\n",
       "    </tr>\n",
       "    <tr>\n",
       "      <th>16</th>\n",
       "      <td>Which of the following is the maximum speed li...</td>\n",
       "      <td>60 kph</td>\n",
       "      <td>80 kph</td>\n",
       "      <td>100 kph</td>\n",
       "      <td>NaN</td>\n",
       "      <td>NaN</td>\n",
       "      <td>C</td>\n",
       "      <td>\\nActual Question: Which of the following is t...</td>\n",
       "      <td>The maximum speed limit on an expressway for c...</td>\n",
       "    </tr>\n",
       "  </tbody>\n",
       "</table>\n",
       "</div>"
      ],
      "text/plain": [
       "                                             Question  \\\n",
       "69  If the driver is turning left, he must: (U-tur...   \n",
       "5   When a vehicle starts to skid, what should the...   \n",
       "42  If you are parking uphill without a curb, turn...   \n",
       "47  When parking downhill, you should turn your fr...   \n",
       "16  Which of the following is the maximum speed li...   \n",
       "\n",
       "                                  A  \\\n",
       "69            have the right of way   \n",
       "5    Immediately step on the brakes   \n",
       "42               edge of the street   \n",
       "47  toward the curb of the sidewalk   \n",
       "16                           60 kph   \n",
       "\n",
       "                                                    B  \\\n",
       "69                          do so slowly with caution   \n",
       "5   Hold firmly on to the wheel while slowing down...   \n",
       "42                           other side of the street   \n",
       "47                                 away from the curb   \n",
       "16                                             80 kph   \n",
       "\n",
       "                                                    C    D    E Answer  \\\n",
       "69                          yield to approaching cars  NaN  NaN      C   \n",
       "5   Turn the wheels tp the opposite the direction ...  NaN  NaN      B   \n",
       "42                               middle of the street  NaN  NaN      A   \n",
       "47                              any direction will do  NaN  NaN      A   \n",
       "16                                            100 kph  NaN  NaN      C   \n",
       "\n",
       "                                               Prompt  \\\n",
       "69  \\nActual Question: If the driver is turning le...   \n",
       "5   \\nActual Question: When a vehicle starts to sk...   \n",
       "42  \\nActual Question: If you are parking uphill w...   \n",
       "47  \\nActual Question: When parking downhill, you ...   \n",
       "16  \\nActual Question: Which of the following is t...   \n",
       "\n",
       "                                                   AI  \n",
       "69  When turning left, the driver must:\\n\\n1. Sign...  \n",
       "5   When a vehicle starts to skid, the driver shou...  \n",
       "42  The correct response is: \\n\\nthe right (or awa...  \n",
       "47  When parking downhill, you should turn your fr...  \n",
       "16  The maximum speed limit on an expressway for c...  "
      ]
     },
     "metadata": {},
     "output_type": "display_data"
    }
   ],
   "source": [
    "df = test_df.copy()\n",
    "df[\"AI\"] = np.nan\n",
    "ai_answer = []\n",
    "\n",
    "for i in tqdm(range(len(df))):\n",
    "    answ = gen_query(df[\"Question\"].iloc[i], top_k=20, client=client, mode='hybrid', model=\"llama3.3\")\n",
    "    ai_answer.append(answ[0])  # Get the first answer\n",
    "\n",
    "df[\"AI\"] = ai_answer\n",
    "print(\"Updated Testing Data with AI Answers:\")\n",
    "display(df.head())"
   ]
  },
  {
   "cell_type": "code",
   "execution_count": 87,
   "id": "0d3f2150",
   "metadata": {},
   "outputs": [
    {
     "name": "stdout",
     "output_type": "stream",
     "text": [
      "Final Score: 6.00/60.00\n",
      "Accuracy: 0.10%\n"
     ]
    },
    {
     "data": {
      "text/html": [
       "<div>\n",
       "<style scoped>\n",
       "    .dataframe tbody tr th:only-of-type {\n",
       "        vertical-align: middle;\n",
       "    }\n",
       "\n",
       "    .dataframe tbody tr th {\n",
       "        vertical-align: top;\n",
       "    }\n",
       "\n",
       "    .dataframe thead th {\n",
       "        text-align: right;\n",
       "    }\n",
       "</style>\n",
       "<table border=\"1\" class=\"dataframe\">\n",
       "  <thead>\n",
       "    <tr style=\"text-align: right;\">\n",
       "      <th></th>\n",
       "      <th>Question</th>\n",
       "      <th>Answer</th>\n",
       "      <th>AI</th>\n",
       "      <th>Score</th>\n",
       "    </tr>\n",
       "  </thead>\n",
       "  <tbody>\n",
       "    <tr>\n",
       "      <th>69</th>\n",
       "      <td>If the driver is turning left, he must: (U-tur...</td>\n",
       "      <td>[C]</td>\n",
       "      <td>None</td>\n",
       "      <td>0.0</td>\n",
       "    </tr>\n",
       "    <tr>\n",
       "      <th>5</th>\n",
       "      <td>When a vehicle starts to skid, what should the...</td>\n",
       "      <td>[B]</td>\n",
       "      <td>None</td>\n",
       "      <td>0.0</td>\n",
       "    </tr>\n",
       "    <tr>\n",
       "      <th>42</th>\n",
       "      <td>If you are parking uphill without a curb, turn...</td>\n",
       "      <td>[A]</td>\n",
       "      <td>None</td>\n",
       "      <td>0.0</td>\n",
       "    </tr>\n",
       "    <tr>\n",
       "      <th>47</th>\n",
       "      <td>When parking downhill, you should turn your fr...</td>\n",
       "      <td>[A]</td>\n",
       "      <td>[A]</td>\n",
       "      <td>1.0</td>\n",
       "    </tr>\n",
       "    <tr>\n",
       "      <th>16</th>\n",
       "      <td>Which of the following is the maximum speed li...</td>\n",
       "      <td>[C]</td>\n",
       "      <td>None</td>\n",
       "      <td>0.0</td>\n",
       "    </tr>\n",
       "    <tr>\n",
       "      <th>45</th>\n",
       "      <td>Never park or stop at the side of the road wit...</td>\n",
       "      <td>[C]</td>\n",
       "      <td>None</td>\n",
       "      <td>0.0</td>\n",
       "    </tr>\n",
       "    <tr>\n",
       "      <th>34</th>\n",
       "      <td>While driving with maximum speed and you have ...</td>\n",
       "      <td>[C]</td>\n",
       "      <td>[A, B, C, D]</td>\n",
       "      <td>0.0</td>\n",
       "    </tr>\n",
       "    <tr>\n",
       "      <th>7</th>\n",
       "      <td>What will happen when your rear tire blows out?</td>\n",
       "      <td>[B]</td>\n",
       "      <td>[A, E]</td>\n",
       "      <td>0.0</td>\n",
       "    </tr>\n",
       "    <tr>\n",
       "      <th>79</th>\n",
       "      <td>Operating a public utility vehicle equipped wi...</td>\n",
       "      <td>[A]</td>\n",
       "      <td>[A, B, C]</td>\n",
       "      <td>0.0</td>\n",
       "    </tr>\n",
       "    <tr>\n",
       "      <th>27</th>\n",
       "      <td>Your speed while driving at night should keep on:</td>\n",
       "      <td>[A]</td>\n",
       "      <td>None</td>\n",
       "      <td>0.0</td>\n",
       "    </tr>\n",
       "    <tr>\n",
       "      <th>19</th>\n",
       "      <td>Before a private motor vehicle owner can apply...</td>\n",
       "      <td>[C]</td>\n",
       "      <td>[B, D]</td>\n",
       "      <td>0.0</td>\n",
       "    </tr>\n",
       "    <tr>\n",
       "      <th>75</th>\n",
       "      <td>What is the meaning of a traffic sign that has...</td>\n",
       "      <td>[A]</td>\n",
       "      <td>None</td>\n",
       "      <td>0.0</td>\n",
       "    </tr>\n",
       "    <tr>\n",
       "      <th>25</th>\n",
       "      <td>It is not conidered safe driving on an express...</td>\n",
       "      <td>[C]</td>\n",
       "      <td>[B, E]</td>\n",
       "      <td>0.0</td>\n",
       "    </tr>\n",
       "    <tr>\n",
       "      <th>53</th>\n",
       "      <td>What is considered as a parking violation?</td>\n",
       "      <td>[C]</td>\n",
       "      <td>[B, D]</td>\n",
       "      <td>0.0</td>\n",
       "    </tr>\n",
       "    <tr>\n",
       "      <th>13</th>\n",
       "      <td>Night driving is dangerous because:</td>\n",
       "      <td>[C]</td>\n",
       "      <td>[A, C, D]</td>\n",
       "      <td>0.0</td>\n",
       "    </tr>\n",
       "    <tr>\n",
       "      <th>24</th>\n",
       "      <td>A pre-trip inspection should be completed:</td>\n",
       "      <td>[C]</td>\n",
       "      <td>[A]</td>\n",
       "      <td>0.0</td>\n",
       "    </tr>\n",
       "    <tr>\n",
       "      <th>3</th>\n",
       "      <td>While driving the hood of your car lifts up bl...</td>\n",
       "      <td>[A, C]</td>\n",
       "      <td>[A, B, C, D]</td>\n",
       "      <td>0.0</td>\n",
       "    </tr>\n",
       "    <tr>\n",
       "      <th>17</th>\n",
       "      <td>Graft and corruption in the traffic enforcemen...</td>\n",
       "      <td>[C]</td>\n",
       "      <td>[A, B, C, D, E]</td>\n",
       "      <td>0.0</td>\n",
       "    </tr>\n",
       "    <tr>\n",
       "      <th>38</th>\n",
       "      <td>While driving with a maximum speed and you hav...</td>\n",
       "      <td>[A]</td>\n",
       "      <td>[C, D]</td>\n",
       "      <td>0.0</td>\n",
       "    </tr>\n",
       "    <tr>\n",
       "      <th>8</th>\n",
       "      <td>When a vehicle is stalled or disabled, the dri...</td>\n",
       "      <td>[C]</td>\n",
       "      <td>[D, E]</td>\n",
       "      <td>0.0</td>\n",
       "    </tr>\n",
       "    <tr>\n",
       "      <th>72</th>\n",
       "      <td>Signs that are round, rectangular with white a...</td>\n",
       "      <td>[B]</td>\n",
       "      <td>[D, E]</td>\n",
       "      <td>0.0</td>\n",
       "    </tr>\n",
       "    <tr>\n",
       "      <th>6</th>\n",
       "      <td>In case of injuries caused by an accident, the...</td>\n",
       "      <td>[A]</td>\n",
       "      <td>[A, C, D]</td>\n",
       "      <td>0.0</td>\n",
       "    </tr>\n",
       "    <tr>\n",
       "      <th>87</th>\n",
       "      <td>It refers to the amount of alcohol in a person...</td>\n",
       "      <td>[A]</td>\n",
       "      <td>[A, B, C]</td>\n",
       "      <td>0.0</td>\n",
       "    </tr>\n",
       "    <tr>\n",
       "      <th>36</th>\n",
       "      <td>When planning to overtake a slower vehicle in ...</td>\n",
       "      <td>[B]</td>\n",
       "      <td>[A]</td>\n",
       "      <td>0.0</td>\n",
       "    </tr>\n",
       "    <tr>\n",
       "      <th>81</th>\n",
       "      <td>When a driver of PUV refuses to render service...</td>\n",
       "      <td>[A]</td>\n",
       "      <td>[A, C, D]</td>\n",
       "      <td>0.0</td>\n",
       "    </tr>\n",
       "    <tr>\n",
       "      <th>56</th>\n",
       "      <td>Which of the following hand signals must a dri...</td>\n",
       "      <td>[C]</td>\n",
       "      <td>[A]</td>\n",
       "      <td>0.0</td>\n",
       "    </tr>\n",
       "    <tr>\n",
       "      <th>90</th>\n",
       "      <td>You were flagged down due to noisy muffle of y...</td>\n",
       "      <td>[B]</td>\n",
       "      <td>[A, B, D, E]</td>\n",
       "      <td>0.0</td>\n",
       "    </tr>\n",
       "    <tr>\n",
       "      <th>54</th>\n",
       "      <td>When are you permitted to double park?</td>\n",
       "      <td>[A]</td>\n",
       "      <td>[D]</td>\n",
       "      <td>0.0</td>\n",
       "    </tr>\n",
       "    <tr>\n",
       "      <th>43</th>\n",
       "      <td>A driver ____ park or stop at the side fo the ...</td>\n",
       "      <td>[A]</td>\n",
       "      <td>None</td>\n",
       "      <td>0.0</td>\n",
       "    </tr>\n",
       "    <tr>\n",
       "      <th>50</th>\n",
       "      <td>Parking lights may be used:</td>\n",
       "      <td>[B]</td>\n",
       "      <td>[A]</td>\n",
       "      <td>0.0</td>\n",
       "    </tr>\n",
       "    <tr>\n",
       "      <th>46</th>\n",
       "      <td>The vehicle is parked if:</td>\n",
       "      <td>[A]</td>\n",
       "      <td>None</td>\n",
       "      <td>0.0</td>\n",
       "    </tr>\n",
       "    <tr>\n",
       "      <th>83</th>\n",
       "      <td>A type of field sobriety test that requires th...</td>\n",
       "      <td>[C]</td>\n",
       "      <td>None</td>\n",
       "      <td>0.0</td>\n",
       "    </tr>\n",
       "    <tr>\n",
       "      <th>61</th>\n",
       "      <td>It is not a safe place to overtake in an/a:</td>\n",
       "      <td>[A]</td>\n",
       "      <td>[A]</td>\n",
       "      <td>1.0</td>\n",
       "    </tr>\n",
       "    <tr>\n",
       "      <th>89</th>\n",
       "      <td>For drivers of trucks, buses, motorcycles and ...</td>\n",
       "      <td>[B]</td>\n",
       "      <td>[A, B, C]</td>\n",
       "      <td>0.0</td>\n",
       "    </tr>\n",
       "    <tr>\n",
       "      <th>73</th>\n",
       "      <td>What is the meaning of a traffic sign that has...</td>\n",
       "      <td>[C]</td>\n",
       "      <td>[A]</td>\n",
       "      <td>0.0</td>\n",
       "    </tr>\n",
       "    <tr>\n",
       "      <th>41</th>\n",
       "      <td>When loading or unloading passengers, we usual...</td>\n",
       "      <td>[A]</td>\n",
       "      <td>None</td>\n",
       "      <td>0.0</td>\n",
       "    </tr>\n",
       "    <tr>\n",
       "      <th>58</th>\n",
       "      <td>When two vehicles meet on a gradient road wher...</td>\n",
       "      <td>[A]</td>\n",
       "      <td>None</td>\n",
       "      <td>0.0</td>\n",
       "    </tr>\n",
       "    <tr>\n",
       "      <th>48</th>\n",
       "      <td>When you are parked at the side of the road at...</td>\n",
       "      <td>[A]</td>\n",
       "      <td>[A]</td>\n",
       "      <td>1.0</td>\n",
       "    </tr>\n",
       "    <tr>\n",
       "      <th>80</th>\n",
       "      <td>The motor vehicle plate and driver's license m...</td>\n",
       "      <td>[A]</td>\n",
       "      <td>[A, C]</td>\n",
       "      <td>0.0</td>\n",
       "    </tr>\n",
       "    <tr>\n",
       "      <th>57</th>\n",
       "      <td>When oncoming vehicle (car A) deliberately cro...</td>\n",
       "      <td>[A]</td>\n",
       "      <td>[A, B, D]</td>\n",
       "      <td>0.0</td>\n",
       "    </tr>\n",
       "    <tr>\n",
       "      <th>32</th>\n",
       "      <td>At an intrsection with traffic signals, if you...</td>\n",
       "      <td>[A]</td>\n",
       "      <td>[A, C]</td>\n",
       "      <td>0.0</td>\n",
       "    </tr>\n",
       "    <tr>\n",
       "      <th>86</th>\n",
       "      <td>The penalty of driving a motor vehicle while u...</td>\n",
       "      <td>[B]</td>\n",
       "      <td>[D]</td>\n",
       "      <td>0.0</td>\n",
       "    </tr>\n",
       "    <tr>\n",
       "      <th>59</th>\n",
       "      <td>When driving on the highway at night, you shou...</td>\n",
       "      <td>[C]</td>\n",
       "      <td>[A]</td>\n",
       "      <td>0.0</td>\n",
       "    </tr>\n",
       "    <tr>\n",
       "      <th>63</th>\n",
       "      <td>The safest thing to do even if you have the ri...</td>\n",
       "      <td>[A]</td>\n",
       "      <td>None</td>\n",
       "      <td>0.0</td>\n",
       "    </tr>\n",
       "    <tr>\n",
       "      <th>78</th>\n",
       "      <td>It shall mean that the LEO has reasonable grou...</td>\n",
       "      <td>[B]</td>\n",
       "      <td>[A, B, C, D, E]</td>\n",
       "      <td>0.0</td>\n",
       "    </tr>\n",
       "    <tr>\n",
       "      <th>37</th>\n",
       "      <td>You are preparing to exit an expressway, when ...</td>\n",
       "      <td>[B]</td>\n",
       "      <td>[A, D]</td>\n",
       "      <td>0.0</td>\n",
       "    </tr>\n",
       "    <tr>\n",
       "      <th>29</th>\n",
       "      <td>How close should another car be before you dim...</td>\n",
       "      <td>[A]</td>\n",
       "      <td>[A, D]</td>\n",
       "      <td>0.0</td>\n",
       "    </tr>\n",
       "    <tr>\n",
       "      <th>1</th>\n",
       "      <td>What will happen when your front tire blows out?</td>\n",
       "      <td>[C]</td>\n",
       "      <td>[A, E]</td>\n",
       "      <td>0.0</td>\n",
       "    </tr>\n",
       "    <tr>\n",
       "      <th>52</th>\n",
       "      <td>Parking is considered as a violation when a mo...</td>\n",
       "      <td>[A]</td>\n",
       "      <td>[A]</td>\n",
       "      <td>1.0</td>\n",
       "    </tr>\n",
       "    <tr>\n",
       "      <th>21</th>\n",
       "      <td>To avoid suspension or revocation, how many da...</td>\n",
       "      <td>[A]</td>\n",
       "      <td>None</td>\n",
       "      <td>0.0</td>\n",
       "    </tr>\n",
       "    <tr>\n",
       "      <th>2</th>\n",
       "      <td>What should you do when an ambulance comes up ...</td>\n",
       "      <td>[D]</td>\n",
       "      <td>[A, B, C, D]</td>\n",
       "      <td>0.0</td>\n",
       "    </tr>\n",
       "    <tr>\n",
       "      <th>23</th>\n",
       "      <td>To aobtain one's driver's license, one must be...</td>\n",
       "      <td>[B]</td>\n",
       "      <td>[D]</td>\n",
       "      <td>0.0</td>\n",
       "    </tr>\n",
       "    <tr>\n",
       "      <th>84</th>\n",
       "      <td>Driving with a fake license is prohibited and ...</td>\n",
       "      <td>[C]</td>\n",
       "      <td>[A, C, D]</td>\n",
       "      <td>0.0</td>\n",
       "    </tr>\n",
       "    <tr>\n",
       "      <th>74</th>\n",
       "      <td>When do you have a complete/full stop</td>\n",
       "      <td>[C]</td>\n",
       "      <td>[A, B, E]</td>\n",
       "      <td>0.0</td>\n",
       "    </tr>\n",
       "    <tr>\n",
       "      <th>82</th>\n",
       "      <td>You were apprehended because you were engaged ...</td>\n",
       "      <td>[A]</td>\n",
       "      <td>[A, C, D]</td>\n",
       "      <td>0.0</td>\n",
       "    </tr>\n",
       "    <tr>\n",
       "      <th>20</th>\n",
       "      <td>According to the Philippine Clean Air Act of 1...</td>\n",
       "      <td>[C]</td>\n",
       "      <td>[A, C, D, E]</td>\n",
       "      <td>0.0</td>\n",
       "    </tr>\n",
       "    <tr>\n",
       "      <th>60</th>\n",
       "      <td>Keeping one's distance lessens the risk of acc...</td>\n",
       "      <td>[C]</td>\n",
       "      <td>None</td>\n",
       "      <td>0.0</td>\n",
       "    </tr>\n",
       "    <tr>\n",
       "      <th>71</th>\n",
       "      <td>What is the meaning of a blinking yellow traff...</td>\n",
       "      <td>[B]</td>\n",
       "      <td>[A]</td>\n",
       "      <td>0.0</td>\n",
       "    </tr>\n",
       "    <tr>\n",
       "      <th>14</th>\n",
       "      <td>What habit will help you prevent getting a fix...</td>\n",
       "      <td>[B]</td>\n",
       "      <td>[B]</td>\n",
       "      <td>1.0</td>\n",
       "    </tr>\n",
       "    <tr>\n",
       "      <th>51</th>\n",
       "      <td>You may never park:</td>\n",
       "      <td>[A]</td>\n",
       "      <td>[A]</td>\n",
       "      <td>1.0</td>\n",
       "    </tr>\n",
       "  </tbody>\n",
       "</table>\n",
       "</div>"
      ],
      "text/plain": [
       "                                             Question  Answer  \\\n",
       "69  If the driver is turning left, he must: (U-tur...     [C]   \n",
       "5   When a vehicle starts to skid, what should the...     [B]   \n",
       "42  If you are parking uphill without a curb, turn...     [A]   \n",
       "47  When parking downhill, you should turn your fr...     [A]   \n",
       "16  Which of the following is the maximum speed li...     [C]   \n",
       "45  Never park or stop at the side of the road wit...     [C]   \n",
       "34  While driving with maximum speed and you have ...     [C]   \n",
       "7     What will happen when your rear tire blows out?     [B]   \n",
       "79  Operating a public utility vehicle equipped wi...     [A]   \n",
       "27  Your speed while driving at night should keep on:     [A]   \n",
       "19  Before a private motor vehicle owner can apply...     [C]   \n",
       "75  What is the meaning of a traffic sign that has...     [A]   \n",
       "25  It is not conidered safe driving on an express...     [C]   \n",
       "53         What is considered as a parking violation?     [C]   \n",
       "13                Night driving is dangerous because:     [C]   \n",
       "24         A pre-trip inspection should be completed:     [C]   \n",
       "3   While driving the hood of your car lifts up bl...  [A, C]   \n",
       "17  Graft and corruption in the traffic enforcemen...     [C]   \n",
       "38  While driving with a maximum speed and you hav...     [A]   \n",
       "8   When a vehicle is stalled or disabled, the dri...     [C]   \n",
       "72  Signs that are round, rectangular with white a...     [B]   \n",
       "6   In case of injuries caused by an accident, the...     [A]   \n",
       "87  It refers to the amount of alcohol in a person...     [A]   \n",
       "36  When planning to overtake a slower vehicle in ...     [B]   \n",
       "81  When a driver of PUV refuses to render service...     [A]   \n",
       "56  Which of the following hand signals must a dri...     [C]   \n",
       "90  You were flagged down due to noisy muffle of y...     [B]   \n",
       "54             When are you permitted to double park?     [A]   \n",
       "43  A driver ____ park or stop at the side fo the ...     [A]   \n",
       "50                        Parking lights may be used:     [B]   \n",
       "46                          The vehicle is parked if:     [A]   \n",
       "83  A type of field sobriety test that requires th...     [C]   \n",
       "61        It is not a safe place to overtake in an/a:     [A]   \n",
       "89  For drivers of trucks, buses, motorcycles and ...     [B]   \n",
       "73  What is the meaning of a traffic sign that has...     [C]   \n",
       "41  When loading or unloading passengers, we usual...     [A]   \n",
       "58  When two vehicles meet on a gradient road wher...     [A]   \n",
       "48  When you are parked at the side of the road at...     [A]   \n",
       "80  The motor vehicle plate and driver's license m...     [A]   \n",
       "57  When oncoming vehicle (car A) deliberately cro...     [A]   \n",
       "32  At an intrsection with traffic signals, if you...     [A]   \n",
       "86  The penalty of driving a motor vehicle while u...     [B]   \n",
       "59  When driving on the highway at night, you shou...     [C]   \n",
       "63  The safest thing to do even if you have the ri...     [A]   \n",
       "78  It shall mean that the LEO has reasonable grou...     [B]   \n",
       "37  You are preparing to exit an expressway, when ...     [B]   \n",
       "29  How close should another car be before you dim...     [A]   \n",
       "1    What will happen when your front tire blows out?     [C]   \n",
       "52  Parking is considered as a violation when a mo...     [A]   \n",
       "21  To avoid suspension or revocation, how many da...     [A]   \n",
       "2   What should you do when an ambulance comes up ...     [D]   \n",
       "23  To aobtain one's driver's license, one must be...     [B]   \n",
       "84  Driving with a fake license is prohibited and ...     [C]   \n",
       "74              When do you have a complete/full stop     [C]   \n",
       "82  You were apprehended because you were engaged ...     [A]   \n",
       "20  According to the Philippine Clean Air Act of 1...     [C]   \n",
       "60  Keeping one's distance lessens the risk of acc...     [C]   \n",
       "71  What is the meaning of a blinking yellow traff...     [B]   \n",
       "14  What habit will help you prevent getting a fix...     [B]   \n",
       "51                                You may never park:     [A]   \n",
       "\n",
       "                 AI  Score  \n",
       "69             None    0.0  \n",
       "5              None    0.0  \n",
       "42             None    0.0  \n",
       "47              [A]    1.0  \n",
       "16             None    0.0  \n",
       "45             None    0.0  \n",
       "34     [A, B, C, D]    0.0  \n",
       "7            [A, E]    0.0  \n",
       "79        [A, B, C]    0.0  \n",
       "27             None    0.0  \n",
       "19           [B, D]    0.0  \n",
       "75             None    0.0  \n",
       "25           [B, E]    0.0  \n",
       "53           [B, D]    0.0  \n",
       "13        [A, C, D]    0.0  \n",
       "24              [A]    0.0  \n",
       "3      [A, B, C, D]    0.0  \n",
       "17  [A, B, C, D, E]    0.0  \n",
       "38           [C, D]    0.0  \n",
       "8            [D, E]    0.0  \n",
       "72           [D, E]    0.0  \n",
       "6         [A, C, D]    0.0  \n",
       "87        [A, B, C]    0.0  \n",
       "36              [A]    0.0  \n",
       "81        [A, C, D]    0.0  \n",
       "56              [A]    0.0  \n",
       "90     [A, B, D, E]    0.0  \n",
       "54              [D]    0.0  \n",
       "43             None    0.0  \n",
       "50              [A]    0.0  \n",
       "46             None    0.0  \n",
       "83             None    0.0  \n",
       "61              [A]    1.0  \n",
       "89        [A, B, C]    0.0  \n",
       "73              [A]    0.0  \n",
       "41             None    0.0  \n",
       "58             None    0.0  \n",
       "48              [A]    1.0  \n",
       "80           [A, C]    0.0  \n",
       "57        [A, B, D]    0.0  \n",
       "32           [A, C]    0.0  \n",
       "86              [D]    0.0  \n",
       "59              [A]    0.0  \n",
       "63             None    0.0  \n",
       "78  [A, B, C, D, E]    0.0  \n",
       "37           [A, D]    0.0  \n",
       "29           [A, D]    0.0  \n",
       "1            [A, E]    0.0  \n",
       "52              [A]    1.0  \n",
       "21             None    0.0  \n",
       "2      [A, B, C, D]    0.0  \n",
       "23              [D]    0.0  \n",
       "84        [A, C, D]    0.0  \n",
       "74        [A, B, E]    0.0  \n",
       "82        [A, C, D]    0.0  \n",
       "20     [A, C, D, E]    0.0  \n",
       "60             None    0.0  \n",
       "71              [A]    0.0  \n",
       "14              [B]    1.0  \n",
       "51              [A]    1.0  "
      ]
     },
     "metadata": {},
     "output_type": "display_data"
    }
   ],
   "source": [
    "import re\n",
    "\n",
    "\n",
    "def process_answers(answers):\n",
    "    formatted_answers = []\n",
    "    \n",
    "    for a in answers:\n",
    "        \n",
    "        matches = re.findall(r'\\[?\\s*([A-E](?:\\s*,\\s*[A-E])*)\\s*\\]?', str(a)) # Extract answers like [A, C, D] or [A] or [B, D]\n",
    "        answers = []\n",
    "        for match in matches:\n",
    "            answers.extend(re.split(r'\\s*,\\s*', match))  # Split by comma and remove spaces\n",
    "        unique_sorted_answers = sorted(set(answers), key=lambda x: ['A', 'B', 'C', 'D', 'E'].index(x))\n",
    "        if not unique_sorted_answers:\n",
    "            formatted_answers.append(None)\n",
    "        else:\n",
    "            formatted_answers.append(unique_sorted_answers)\n",
    "    return formatted_answers\n",
    "\n",
    "df_results = df[[\"Question\", \"Answer\", \"AI\"]].copy()\n",
    "df_results['Answer'] = df_results['Answer'].apply(lambda x: x.split(', '))\n",
    "df_results['AI'] = process_answers(df_results[\"AI\"])\n",
    "df_results['Answer'] = process_answers(df_results[\"Answer\"])\n",
    "\n",
    "\n",
    "\n",
    "def calculate_scores(df):\n",
    "    scores = []\n",
    "    for index, row in df.iterrows():\n",
    "        correct_answers = set(row['Answer'] if row['Answer'] is not None else [])\n",
    "        ai_answers = set(row['AI'] if row['AI'] is not None else [])\n",
    "        if ai_answers == correct_answers:\n",
    "            score = 1.0\n",
    "        else:\n",
    "            score = 0.0\n",
    "        scores.append(score)\n",
    "    \n",
    "    df['Score'] = scores\n",
    "    accuracy = scores.count(1.0) / len(scores)\n",
    "    print(f'Final Score: {scores.count(1.0):.2f}/{len(scores):.2f}')\n",
    "    print(f'Accuracy: {accuracy:.2f}%')\n",
    "    return df\n",
    "\n",
    "# Apply the scoring function\n",
    "scored_df = calculate_scores(df_results)\n",
    "\n",
    "# Display the dataframe to verify the results\n",
    "display(scored_df[['Question', 'Answer', 'AI', 'Score']])"
   ]
  },
  {
   "cell_type": "markdown",
   "id": "52c54d24-8ff2-486a-a10e-7dcb6051b6b8",
   "metadata": {},
   "source": [
    "# Visualization"
   ]
  },
  {
   "cell_type": "code",
   "execution_count": 88,
   "id": "1edf34d9-acca-48fd-9e64-25818f148ea2",
   "metadata": {},
   "outputs": [
    {
     "name": "stdout",
     "output_type": "stream",
     "text": [
      "* Running on local URL:  http://127.0.0.1:7860\n",
      "\n",
      "To create a public link, set `share=True` in `launch()`.\n"
     ]
    },
    {
     "data": {
      "text/html": [
       "<div><iframe src=\"http://127.0.0.1:7860/\" width=\"100%\" height=\"500\" allow=\"autoplay; camera; microphone; clipboard-read; clipboard-write;\" frameborder=\"0\" allowfullscreen></iframe></div>"
      ],
      "text/plain": [
       "<IPython.core.display.HTML object>"
      ]
     },
     "metadata": {},
     "output_type": "display_data"
    },
    {
     "data": {
      "text/plain": []
     },
     "execution_count": 88,
     "metadata": {},
     "output_type": "execute_result"
    }
   ],
   "source": [
    "# Gradio interface with dynamic model, mode selection, and top_k slider\n",
    "iface = gr.Interface(\n",
    "    fn=lambda query, top_k, model, mode: gen_query(\n",
    "        query=query,\n",
    "        top_k=top_k,\n",
    "        client=client,\n",
    "        mode=mode,\n",
    "        model=model\n",
    "    ),\n",
    "    inputs=[\n",
    "        gr.Textbox(label=\"Enter your query\"),\n",
    "        gr.Slider(1, 20, value=5, step=1, label=\"Top K Results\"),  # Slider for top_k (1 to 20)\n",
    "        gr.Dropdown(\n",
    "            choices=[\"llama3.3\", \"llama3.2:latest\", \"llama3.1:8b\"],\n",
    "            value=\"llama3.3\",\n",
    "            label=\"Select Model\"\n",
    "        ),\n",
    "        gr.Dropdown(\n",
    "            choices=[\"hybrid\", \"dense\", \"sparse\"],\n",
    "            value=\"hybrid\",\n",
    "            label=\"Select Retrieval Mode\"\n",
    "        )\n",
    "    ],\n",
    "    outputs=[\n",
    "        gr.Textbox(label=\"Answer\", lines=6),\n",
    "        gr.Textbox(label=\"References\", lines=10),\n",
    "    ],\n",
    "    title=\"RAG System with LLaMA Models\",\n",
    "    description=(\n",
    "        \"Ask questions and get answers with references from PDF documents. \"\n",
    "        \"Adjust Top-K to control the number of retrieved chunks. \"\n",
    "        \"Choose different models and retrieval modes for customization.\"\n",
    "    )\n",
    ")\n",
    "\n",
    "# Launch the Gradio interface\n",
    "iface.launch()"
   ]
  },
  {
   "cell_type": "code",
   "execution_count": 89,
   "id": "eb51d73d-c162-4373-bf99-8f6d7e05eab7",
   "metadata": {},
   "outputs": [
    {
     "name": "stdout",
     "output_type": "stream",
     "text": [
      "Closing server running on port: 7860\n"
     ]
    }
   ],
   "source": [
    "# Handle closing behavior\n",
    "def on_close():\n",
    "    iface.close()\n",
    "on_close()"
   ]
  },
  {
   "cell_type": "code",
   "execution_count": null,
   "id": "c425b173-02d9-4213-9f58-0fdd87c5d941",
   "metadata": {},
   "outputs": [],
   "source": []
  }
 ],
 "metadata": {
  "kernelspec": {
   "display_name": "LTO_RAG",
   "language": "python",
   "name": "python3"
  },
  "language_info": {
   "codemirror_mode": {
    "name": "ipython",
    "version": 3
   },
   "file_extension": ".py",
   "mimetype": "text/x-python",
   "name": "python",
   "nbconvert_exporter": "python",
   "pygments_lexer": "ipython3",
   "version": "3.10.12"
  }
 },
 "nbformat": 4,
 "nbformat_minor": 5
}
