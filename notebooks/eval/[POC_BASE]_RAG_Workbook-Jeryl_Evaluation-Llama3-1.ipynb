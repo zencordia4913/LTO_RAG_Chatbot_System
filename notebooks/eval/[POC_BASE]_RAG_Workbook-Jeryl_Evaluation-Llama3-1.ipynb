{
 "cells": [
  {
   "cell_type": "markdown",
   "id": "7427a506",
   "metadata": {},
   "source": [
    "# LTO RAG Table of Contents\n",
    "\n",
    "1. Import Libraries\n",
    "2. Connect to Ollama Server\n",
    "3. Ingestion\n",
    "4. QA Generation\n",
    "5. Embedding and Retrieval<br>\n",
    " **5.A** Dense via FAISS  \n",
    " **5.B** FAISS Retrieval Evaluator  \n",
    " **5.C** FAISS Retrieval Evaluation  \n",
    " **5.D** Sparse Embedding via BM25  \n",
    " **5.E** Hybrid Embedding via Reciprocal Rank Fusion  \n",
    " **5.F** Hybrid Retrieval Evaluator  \n",
    " **5.G** Hybrid Retrieval Evaluation  \n",
    "6. Post Retrieval<br>\n",
    " **6.A** Summarization  \n",
    " **6.B** Evaluation Generation  \n",
    "7. Querying<br>\n",
    " **7.A** Query Transforms  \n",
    "8. Query Generation\n",
    "9. TDC Exam Evaluation\n",
    "10. Similarity Evaluation\n",
    "11. Relevancy Evaluation\n"
   ]
  },
  {
   "cell_type": "markdown",
   "id": "b4cc535f",
   "metadata": {},
   "source": [
    "# 1. Import Libraries"
   ]
  },
  {
   "cell_type": "code",
   "execution_count": 28,
   "id": "dfdd288c-537b-42e6-b104-2854e99b4a1c",
   "metadata": {},
   "outputs": [],
   "source": [
    "import os\n",
    "import fitz\n",
    "import re\n",
    "\n",
    "from ollama import Client\n",
    "import faiss\n",
    "import pandas as pd\n",
    "import numpy as np\n",
    "import Stemmer\n",
    "from tqdm import tqdm\n",
    "import gradio as gr\n",
    "import json\n",
    "\n",
    "from llama_index.core import Document\n",
    "from llama_index.core.node_parser import TokenTextSplitter\n",
    "from llama_index.core.retrievers import BaseRetriever, QueryFusionRetriever\n",
    "from llama_index.core.schema import TextNode, NodeWithScore\n",
    "from llama_index.retrievers.bm25 import BM25Retriever\n",
    "from llama_index.llms.ollama import Ollama\n",
    "\n",
    "\n",
    "# For QA generation\n",
    "import uuid\n",
    "import warnings\n",
    "from typing import Dict, List, Optional, Tuple\n",
    "\n",
    "from llama_index.core.bridge.pydantic import BaseModel\n",
    "from llama_index.core.llms.utils import LLM\n",
    "from llama_index.core.schema import MetadataMode, TextNode\n",
    "from llama_index.core.settings import Settings\n"
   ]
  },
  {
   "cell_type": "markdown",
   "id": "2f3d9123-5c2e-4718-8edd-d0bfafed09e8",
   "metadata": {},
   "source": [
    "# 2. Connect to Ollama Server"
   ]
  },
  {
   "cell_type": "code",
   "execution_count": 29,
   "id": "8071a997-f081-4da8-b440-6d66bf4cb4a7",
   "metadata": {},
   "outputs": [],
   "source": [
    "client = Client(\n",
    "  host='http://localhost:11434',\n",
    ")"
   ]
  },
  {
   "cell_type": "markdown",
   "id": "52836262-9e16-4df3-b71f-70b78b2b2700",
   "metadata": {},
   "source": [
    "# 3. Ingestion"
   ]
  },
  {
   "cell_type": "code",
   "execution_count": 30,
   "id": "4d170a76-1ddf-47b4-b98d-db30470f9d83",
   "metadata": {},
   "outputs": [],
   "source": [
    "# Path to the dataset folder\n",
    "DATASET_PATH = r'/home/jeryl4913/lto_rag_reviewer/notebooks/extracted_text.json'\n",
    "\n",
    "def get_text_and_metadata(input_path):\n",
    "    \"\"\"Load text and metadata from a file and perform chunking.\"\"\"\n",
    "    with open(input_path, \"r\", encoding=\"utf-8\") as f:\n",
    "        extracted_data = json.load(f)\n",
    "\n",
    "    texts = []\n",
    "    metadata = []\n",
    "\n",
    "    for entry in tqdm(extracted_data, desc=\"Processing entries\"):\n",
    "        text = entry[\"text\"]\n",
    "        source_metadata = {\n",
    "            \"source\": entry[\"source\"],\n",
    "            \"folder\": entry[\"folder\"],\n",
    "            \"file_name\": entry[\"file_name\"],\n",
    "            \"page\": entry[\"page\"],\n",
    "            \"title\": entry[\"title\"],\n",
    "            \"url\": entry[\"url\"]\n",
    "        }\n",
    "        texts.append(text)\n",
    "        metadata.append(source_metadata)\n",
    "\n",
    "    return texts, metadata\n"
   ]
  },
  {
   "cell_type": "code",
   "execution_count": 31,
   "id": "3d7bfd8a-c6a2-4764-9212-17c667cd89be",
   "metadata": {},
   "outputs": [
    {
     "name": "stderr",
     "output_type": "stream",
     "text": [
      "Processing entries: 100%|██████████| 7815/7815 [00:00<00:00, 877321.50it/s]\n"
     ]
    }
   ],
   "source": [
    "docs, metadatas = get_text_and_metadata(DATASET_PATH)"
   ]
  },
  {
   "cell_type": "code",
   "execution_count": 32,
   "id": "b8204706-6e7e-4f7e-956b-4e545708392e",
   "metadata": {},
   "outputs": [],
   "source": [
    "documents = [Document(text=docs[t], metadata=metadatas[t]) for t in range(len(docs))]\n",
    "splitter = TokenTextSplitter(\n",
    "    chunk_size=512,\n",
    "    chunk_overlap=20,\n",
    "    separator=\" \",\n",
    ")\n",
    "nodes = splitter.get_nodes_from_documents(documents)"
   ]
  },
  {
   "cell_type": "code",
   "execution_count": 33,
   "id": "10ae2649",
   "metadata": {},
   "outputs": [
    {
     "name": "stdout",
     "output_type": "stream",
     "text": [
      "Node ID: a601f4a5-0b2f-4b50-83d1-aced29ca7cb5\n",
      "Text: Land Transportation Office (LTO) The concept of land\n",
      "transportation system in the Philippines started when our ancestors\n",
      "invented the means of locomotion with the animals in moving people and\n",
      "goods from place to place. Although the means of land transportation\n",
      "during the early days were not as sophisticated as the modern vehicles\n",
      "of today and th...\n"
     ]
    }
   ],
   "source": [
    "print(nodes[0])"
   ]
  },
  {
   "cell_type": "markdown",
   "id": "c50b59dc",
   "metadata": {},
   "source": [
    "# 4. QA Generation\n",
    "Used for Retreival Evaluation:\n",
    "1. Get all document nodes\n",
    "2. Generate question for each node (using llama 3.2)\n",
    "3. Question Answer pairs: Generated Question, Node text"
   ]
  },
  {
   "cell_type": "code",
   "execution_count": 34,
   "id": "2582e35d",
   "metadata": {},
   "outputs": [],
   "source": [
    "\"\"\"Common utils for embeddings.\"\"\"\n",
    "\n",
    "import json\n",
    "import re\n",
    "import uuid\n",
    "import warnings\n",
    "from typing import Dict, List, Optional, Tuple\n",
    "\n",
    "from llama_index.core.bridge.pydantic import BaseModel\n",
    "from llama_index.core.llms.utils import LLM\n",
    "from llama_index.core.schema import MetadataMode, TextNode\n",
    "from llama_index.core.settings import Settings\n",
    "from tqdm import tqdm\n",
    "\n",
    "\n",
    "class EmbeddingQAFinetuneDataset(BaseModel):\n",
    "    \"\"\"Embedding QA Finetuning Dataset.\n",
    "\n",
    "    Args:\n",
    "        queries (Dict[str, str]): Dict id -> query.\n",
    "        corpus (Dict[str, str]): Dict id -> string.\n",
    "        relevant_docs (Dict[str, List[str]]): Dict query id -> list of doc ids.\n",
    "\n",
    "    \"\"\"\n",
    "\n",
    "    queries: Dict[str, str]  # dict id -> query\n",
    "    corpus: Dict[str, str]  # dict id -> string\n",
    "    relevant_docs: Dict[str, List[str]]  # query id -> list of doc ids\n",
    "    mode: str = \"text\"\n",
    "\n",
    "    @property\n",
    "    def query_docid_pairs(self) -> List[Tuple[str, List[str]]]:\n",
    "        \"\"\"Get query, relevant doc ids.\"\"\"\n",
    "        return [\n",
    "            (query, self.relevant_docs[query_id])\n",
    "            for query_id, query in self.queries.items()\n",
    "        ]\n",
    "\n",
    "    def save_json(self, path: str) -> None:\n",
    "        \"\"\"Save json.\"\"\"\n",
    "        with open(path, \"w\") as f:\n",
    "            json.dump(self.model_dump(), f, indent=4)\n",
    "\n",
    "    @classmethod\n",
    "    def from_json(cls, path: str) -> \"EmbeddingQAFinetuneDataset\":\n",
    "        \"\"\"Load json.\"\"\"\n",
    "        with open(path) as f:\n",
    "            data = json.load(f)\n",
    "        return cls(**data)\n",
    "\n",
    "\n",
    "DEFAULT_QA_GENERATE_PROMPT_TMPL = \"\"\"\n",
    "Context information is below.\n",
    "\n",
    "---------------------\n",
    "{context_str}\n",
    "---------------------\n",
    "\n",
    "Based on the above context, generate {num_questions_per_chunk} diverse and specific questions that focus on key details and concepts. \\\n",
    "Do not include prefatory phrases like 'Here are some questions'. Directly list the questions in numerical order.\n",
    "\"\"\"\n",
    "\n",
    "\n",
    "# generate queries as a convenience function\n",
    "def generate_qa_embedding_pairs(\n",
    "    nodes: List[TextNode],\n",
    "    llm: Optional[LLM] = None,\n",
    "    qa_generate_prompt_tmpl: str = DEFAULT_QA_GENERATE_PROMPT_TMPL,\n",
    "    num_questions_per_chunk: int = 2,\n",
    ") -> EmbeddingQAFinetuneDataset:\n",
    "    \"\"\"Generate examples given a set of nodes.\"\"\"\n",
    "    llm = llm or Settings.llm\n",
    "    node_dict = {\n",
    "        node.node_id: node.get_content(metadata_mode=MetadataMode.NONE)\n",
    "        for node in nodes\n",
    "    }\n",
    "\n",
    "    queries = {}\n",
    "    relevant_docs = {}\n",
    "    for node_id, text in tqdm(node_dict.items()):\n",
    "        query = qa_generate_prompt_tmpl.format(\n",
    "            context_str=text, num_questions_per_chunk=num_questions_per_chunk\n",
    "        )\n",
    "        response = llm.complete(query)\n",
    "\n",
    "        result = str(response).strip().split(\"\\n\")\n",
    "        questions = [\n",
    "            re.sub(r\"^\\d+[\\).\\s]\", \"\", question).strip() for question in result\n",
    "        ]\n",
    "        questions = [\n",
    "            question\n",
    "            for question in questions\n",
    "            if len(question) > 0 and question.endswith(\"?\") and \"question\" not in question.lower()\n",
    "        ][:num_questions_per_chunk]\n",
    "\n",
    "        num_questions_generated = len(questions)\n",
    "        if num_questions_generated < num_questions_per_chunk:\n",
    "            warnings.warn(\n",
    "                f\"Fewer questions generated ({num_questions_generated}) \"\n",
    "                f\"than requested ({num_questions_per_chunk}) for node {node_id}.\"\n",
    "            )\n",
    "\n",
    "        for question in questions:\n",
    "            question_id = str(uuid.uuid4())\n",
    "            queries[question_id] = question\n",
    "            relevant_docs[question_id] = [node_id]\n",
    "\n",
    "    # construct dataset\n",
    "    return EmbeddingQAFinetuneDataset(\n",
    "        queries=queries, corpus=node_dict, relevant_docs=relevant_docs\n",
    "    )\n"
   ]
  },
  {
   "cell_type": "code",
   "execution_count": 35,
   "id": "96df07be",
   "metadata": {},
   "outputs": [],
   "source": [
    "import os\n",
    "\n",
    "access_token = os.popen(\"echo $OPENAI_API_KEY\").read().strip()\n",
    "\n",
    "\n",
    "if access_token is None:\n",
    "    raise ValueError(\"OpenAI API key not found in environment.\")\n",
    "\n",
    "#print(access_token)\n"
   ]
  },
  {
   "cell_type": "code",
   "execution_count": 36,
   "id": "2dfa775a",
   "metadata": {},
   "outputs": [
    {
     "name": "stderr",
     "output_type": "stream",
     "text": [
      " 72%|███████▏  | 43/60 [06:27<03:32, 12.47s/it]/tmp/ipykernel_83561/945978158.py:98: UserWarning: Fewer questions generated (0) than requested (1) for node 51529028-f8ca-4144-b0c3-9baf30170f8c.\n",
      "  warnings.warn(\n",
      "100%|██████████| 60/60 [08:25<00:00,  8.42s/it]"
     ]
    },
    {
     "name": "stdout",
     "output_type": "stream",
     "text": [
      "In what year was Executive Order Number 546 promulgated, creating the Ministry of Transportation and Communications (MOTC)?\n",
      "Successfully created QA dataset\n"
     ]
    },
    {
     "name": "stderr",
     "output_type": "stream",
     "text": [
      "\n"
     ]
    }
   ],
   "source": [
    "from llama_index.core.evaluation import EmbeddingQAFinetuneDataset\n",
    "from llama_index.llms.ollama import Ollama\n",
    "from llama_index.llms.openai import OpenAI\n",
    "\n",
    "# Instantiate LLM\n",
    "ollama_llm = Ollama(model=\"llama3.1:8b\", request_timeout=300)\n",
    "\n",
    "# llm = OpenAI(model=\"gpt-4\", access_token=access_token)\n",
    "\n",
    "\n",
    "# Example usage of the generate_qa_embedding_pairs\n",
    "qa_dataset = generate_qa_embedding_pairs(\n",
    "    nodes[:60], llm=ollama_llm, num_questions_per_chunk=1\n",
    ")\n",
    "\n",
    "queries = qa_dataset.queries.values()\n",
    "print(list(queries)[2])\n",
    "\n",
    "# Save the dataset\n",
    "qa_dataset.save_json(\"pg_eval_dataset_LLAMA3.1_generated.json\")\n",
    "print(\"Successfully created QA dataset\")\n"
   ]
  },
  {
   "cell_type": "code",
   "execution_count": 37,
   "id": "baa98829",
   "metadata": {},
   "outputs": [
    {
     "name": "stdout",
     "output_type": "stream",
     "text": [
      "Successfully loaded QA dataset\n"
     ]
    }
   ],
   "source": [
    "# Load\n",
    "qa_dataset = EmbeddingQAFinetuneDataset.from_json(\"pg_eval_dataset_LLAMA3.1_generated.json\")\n",
    "print(\"Successfully loaded QA dataset\")"
   ]
  },
  {
   "cell_type": "markdown",
   "id": "f4fa1758-fbf6-48af-85bc-f7a0b17f85aa",
   "metadata": {},
   "source": [
    "# 5. Embedding and Retrieval"
   ]
  },
  {
   "cell_type": "markdown",
   "id": "40e51b7d-edf5-457d-aac2-432dcfd56eb2",
   "metadata": {},
   "source": [
    "## 5.A. Dense via FAISS"
   ]
  },
  {
   "cell_type": "code",
   "execution_count": 38,
   "id": "cc4cbd59-450d-449d-a269-e34941782d19",
   "metadata": {},
   "outputs": [],
   "source": [
    "def generate_embeddings(nodes, client, model):\n",
    "    # Generate embeddings for documents using Ollama\n",
    "    for doc in tqdm(nodes):\n",
    "        response = client.embeddings(prompt=doc.text, model=model)\n",
    "        doc.embedding = response[\"embedding\"]\n",
    "    return nodes"
   ]
  },
  {
   "cell_type": "code",
   "execution_count": 39,
   "id": "f1f0ad81-9986-4369-b4eb-32160fcef31a",
   "metadata": {},
   "outputs": [],
   "source": [
    "class FaissIndexer:\n",
    "    \"\"\"\n",
    "    Faiss-based indexer for efficient similarity search using inner-product (cosine) similarity.\n",
    "\n",
    "    This class handles the creation and management of a FAISS index from node embeddings.\n",
    "    \n",
    "    :ivar faiss_index: The FAISS index for storing and querying embeddings.\n",
    "    :vartype faiss_index: faiss.IndexFlatIP\n",
    "    :ivar embedding_dim: Dimensionality of the embeddings.\n",
    "    :vartype embedding_dim: int\n",
    "    \"\"\"\n",
    "\n",
    "    def __init__(self):\n",
    "        \"\"\"\n",
    "        Initialize the FaissIndexer class.\n",
    "\n",
    "        :ivar faiss_index: The FAISS index, initialized as None.\n",
    "        :ivar embedding_dim: The dimension of embeddings, initialized as None.\n",
    "        \"\"\"\n",
    "        self.faiss_index = None\n",
    "        self.embedding_dim = None\n",
    "\n",
    "    def normalize_embeddings(self, embeddings):\n",
    "        \"\"\"\n",
    "        Normalize embeddings to have unit L2 norm.\n",
    "\n",
    "        :param embeddings: Array of embeddings to normalize.\n",
    "        :type embeddings: np.ndarray\n",
    "        :return: Normalized embeddings.\n",
    "        :rtype: np.ndarray\n",
    "        \"\"\"\n",
    "        return embeddings / np.linalg.norm(embeddings, axis=1, keepdims=True)\n",
    "\n",
    "    def build_index(self, nodes):\n",
    "        \"\"\"\n",
    "        Build the FAISS index from a list of nodes containing embeddings.\n",
    "\n",
    "        :param nodes: List of nodes, where each node contains an `embedding` attribute.\n",
    "        :type nodes: list\n",
    "        :raises ValueError: If the nodes list is empty or embeddings are inconsistent.\n",
    "        \"\"\"\n",
    "        if not nodes:\n",
    "            raise ValueError(\"Nodes list cannot be empty.\")\n",
    "        \n",
    "        embeddings = np.array([np.array(node.embedding) for node in nodes])\n",
    "        normalized_embeddings = self.normalize_embeddings(embeddings)\n",
    "\n",
    "        self.embedding_dim = normalized_embeddings[0].shape[0]\n",
    "        self.faiss_index = faiss.IndexFlatIP(self.embedding_dim)  # Inner-product similarity\n",
    "        self.faiss_index.add(normalized_embeddings)\n",
    "\n",
    "    def get_index(self):\n",
    "        \"\"\"\n",
    "        Get the FAISS index instance.\n",
    "\n",
    "        :return: The FAISS index used for similarity search.\n",
    "        :rtype: faiss.IndexFlatIP\n",
    "        :raises ValueError: If the index has not been built.\n",
    "        \"\"\"\n",
    "        if self.faiss_index is None:\n",
    "            raise ValueError(\"Index has not been built yet. Call 'build_index' first.\")\n",
    "        return self.faiss_index"
   ]
  },
  {
   "cell_type": "code",
   "execution_count": 40,
   "id": "bae97065-1900-498c-acac-aebea6c32745",
   "metadata": {},
   "outputs": [],
   "source": [
    "class FAISSVectorStoreRetriever(BaseRetriever):\n",
    "    def __init__(self, faiss_index, documents):\n",
    "        \"\"\"\n",
    "        Initialize the FAISS retriever.\n",
    "        :param faiss_index: The FAISS index containing precomputed embeddings.\n",
    "        :param documents: List of document chunks.\n",
    "        :param embeddings: Precomputed embeddings corresponding to the document chunks.\n",
    "        \"\"\"\n",
    "        self.faiss_index = faiss_index\n",
    "        self.documents = documents\n",
    "\n",
    "    def _retrieve(self, query_embedding, top_k=5):\n",
    "        \"\"\"\n",
    "        Retrieve the top-k nearest neighbors using the FAISS index.\n",
    "        :param query_embedding: The embedding of the query.\n",
    "        :param top_k: Number of top results to retrieve.\n",
    "        \"\"\"\n",
    "\n",
    "        norm_query_embedding = np.array([query_embedding])\n",
    "        norm_query_embedding /= np.linalg.norm(norm_query_embedding, axis=1, keepdims=True)\n",
    "\n",
    "        distances, indices = self.faiss_index.search(norm_query_embedding, top_k)\n",
    "        retrieved_docs = [\n",
    "            NodeWithScore(node=self.documents[idx], score=1 - dist)\n",
    "            for idx, dist in zip(indices[0], distances[0])\n",
    "            if idx != -1\n",
    "        ]\n",
    "        return retrieved_docs"
   ]
  },
  {
   "cell_type": "markdown",
   "id": "1c58acdb",
   "metadata": {},
   "source": [
    "## 5.B. FAISS Retreival Evaluator"
   ]
  },
  {
   "cell_type": "code",
   "execution_count": 41,
   "id": "8e5fc140",
   "metadata": {},
   "outputs": [],
   "source": [
    "from typing import List, Tuple, Any\n",
    "from pydantic import Field, ConfigDict\n",
    "from llama_index.core.evaluation.retrieval.base import (\n",
    "    BaseRetrievalEvaluator,\n",
    "    RetrievalEvalMode,\n",
    "    RetrievalEvalResult\n",
    ")\n",
    "from llama_index.core.evaluation.retrieval.metrics import resolve_metrics\n",
    "from llama_index.core.response.notebook_utils import display_source_node\n",
    "\n",
    "class FAISSRetrievalEvaluator(BaseRetrievalEvaluator):\n",
    "    retriever: \"FAISSVectorStoreRetriever\" = Field(..., description=\"FAISS Retriever instance\")\n",
    "    Print_Results: bool = Field(default=False, description=\"Whether to print retrieved results\")\n",
    "\n",
    "    model_config = ConfigDict(extra=\"forbid\")  \n",
    "\n",
    "    @classmethod\n",
    "    def from_metric_names(\n",
    "        cls,\n",
    "        metric_names: List[str],\n",
    "        retriever: \"FAISSVectorStoreRetriever\",\n",
    "        Print_Results: bool = False,\n",
    "        **kwargs: Any,\n",
    "    ) -> \"FAISSRetrievalEvaluator\":\n",
    "        metric_types = resolve_metrics(metric_names)\n",
    "        metrics = [metric() for metric in metric_types]\n",
    "        return cls(metrics=metrics, retriever=retriever, Print_Results=Print_Results, **kwargs)\n",
    "\n",
    "    async def _aget_retrieved_ids_and_texts(\n",
    "        self,\n",
    "        query: str,\n",
    "        mode: RetrievalEvalMode = RetrievalEvalMode.TEXT,\n",
    "    ) -> Tuple[List[str], List[str]]:\n",
    "        response = client.embeddings(prompt=query, model=\"mxbai-embed-large\")\n",
    "        query_embedding = response[\"embedding\"]\n",
    "        retrieved_docs = self.retriever._retrieve(query_embedding, top_k=15)\n",
    "        \n",
    "        # Conditionally print results\n",
    "        if self.Print_Results:\n",
    "            for doc in retrieved_docs:\n",
    "                display_source_node(doc, source_length=1000)  # Directly use doc\n",
    "        \n",
    "        retrieved_ids = [doc.id_ for doc in retrieved_docs]  # doc, not doc.node\n",
    "        retrieved_texts = [doc.text for doc in retrieved_docs]\n",
    "        return retrieved_ids, retrieved_texts\n",
    "\n",
    "    async def aevaluate(\n",
    "        self,\n",
    "        query: str,\n",
    "        expected_ids: List[str],\n",
    "        expected_texts: List[str] = [],\n",
    "        mode: RetrievalEvalMode = RetrievalEvalMode.TEXT,\n",
    "        **kwargs: Any,\n",
    "    ) -> RetrievalEvalResult:\n",
    "        retrieved_ids, retrieved_texts = await self._aget_retrieved_ids_and_texts(query, mode)\n",
    "        metric_dict = {}\n",
    "        \n",
    "        for metric in self.metrics:\n",
    "            # Call compute instead of evaluate\n",
    "            result = metric.compute(\n",
    "                query=query,\n",
    "                expected_ids=expected_ids,\n",
    "                retrieved_ids=retrieved_ids,\n",
    "                expected_texts=expected_texts,\n",
    "                retrieved_texts=retrieved_texts,\n",
    "                **kwargs\n",
    "            )\n",
    "            metric_dict[metric.metric_name] = result  # Store the whole RetrievalMetricResult object\n",
    "            print(f\"{metric.metric_name}: {result.score}\")  # Print each metric result\n",
    "         \n",
    "        # Return RetrievalEvalResult with all required fields\n",
    "        return RetrievalEvalResult(\n",
    "            query=query,\n",
    "            retrieved_ids=retrieved_ids,\n",
    "            retrieved_texts=retrieved_texts,  # Include retrieved texts\n",
    "            expected_ids=expected_ids,         # Pass expected ids\n",
    "            expected_texts=expected_texts,      # Include expected texts\n",
    "            metric_dict=metric_dict            # Pass full RetrievalMetricResult objects\n",
    "        )\n"
   ]
  },
  {
   "cell_type": "code",
   "execution_count": 42,
   "id": "1c4c3c11",
   "metadata": {},
   "outputs": [
    {
     "name": "stderr",
     "output_type": "stream",
     "text": [
      "100%|██████████| 12302/12302 [1:04:08<00:00,  3.20it/s]\n"
     ]
    }
   ],
   "source": [
    "nodes_embed = generate_embeddings(nodes,  client, \"mxbai-embed-large\")"
   ]
  },
  {
   "cell_type": "markdown",
   "id": "efa5b055",
   "metadata": {},
   "source": [
    "## 5.C. FAISS Retreival Evaluation"
   ]
  },
  {
   "cell_type": "code",
   "execution_count": 43,
   "id": "7a5e7635",
   "metadata": {},
   "outputs": [
    {
     "name": "stdout",
     "output_type": "stream",
     "text": [
      "Sample Problem:\n",
      "sample id: 8d0ccead-fb73-4913-8964-e796cab9868b, text: What was the outcome of the issuance by the DPWH on June 5, 1961 of Administrative Regulation No. 1?\n",
      "sample exp: ['247c50d0-ac9c-4bfd-bd76-366cd2c930aa']\n",
      "\n",
      "Retrieval results:\n"
     ]
    },
    {
     "data": {
      "text/markdown": [
       "**Node ID:** 2c4694fe-2012-4a39-83e7-23e62ce7a366<br>**Similarity:** 0.3319814205169678<br>**Text:** ' I . ' \"' ' . '' (_ , ... ) int DPWH and DoTC !RR ofR.A. 8794 \" ' '    ~ ... i .12 .. , . Establishment of the DPWH Road Program Office. Pursuant to the provisions of Section 9 of .R.A. 8794 which authorizes the DPWH Seci;-etary to undertake such structural and procedural improvements in the systems and agencies concerned as may be necessary to ensure the prudent, wise, effective and efficient utilization of the Special Funds, DPWH shall establish a Road   Program Office. The head of the Road Program Office shall be appointed by the DPWH Secretary. He may attend the meetings of the Board as a non-voting resource person. Staff of the Road Program Office would be drawn from the Bureau of Maintenance and other DPWH offices and units, and the private sector (subject to approval by the DPWH Secretary). The DPWH Secretary may also assign personnel, either on a temporary or permanent basis as the case may be, from other office and units ofDPWH. The functions, duties and responsibilities o...<br>"
      ],
      "text/plain": [
       "<IPython.core.display.Markdown object>"
      ]
     },
     "metadata": {},
     "output_type": "display_data"
    },
    {
     "data": {
      "text/markdown": [
       "**Node ID:** 519cbf5c-c172-4eec-80a6-5dda3ef48a23<br>**Similarity:** 0.33920133113861084<br>**Text:** in their respective localit:i(:;.s: e.. Issue permits for the construction or renovation of buildings or establishments pursuant to the guidelines promulgated by the DPVVH in Section i 2 of the EVIDA; f. Ensure compliance of pubHc and private builclinqs and establishments \\Nith Section 18 of the EVIDA; g. Issue necessary poncies or legislations regulating tt1e operations of EVs: F'rovidf)d, That it is in accordance with the EVIDA and EVIDA-IRR; and h. Provide designated loading and unloading stations for EVs. Section 16. Pow<~rs and Functions of the Department of Public Works and Highways {DPWH). In addition to its functions under existing laws and pursuant to Section 12 of the EVlDA, the DPWH shall establish guidelines on the following: a. Construction or lnstallation of EVCS and other related equiprnent in buildings ancl other establishments; and t). Issuance of permit5 for tho construction or renovation of buildin95 or establishment\"s-&t;J;'.-  tJlWt~oN~;~if:;t+0n -l7 of thi:: EV...<br>"
      ],
      "text/plain": [
       "<IPython.core.display.Markdown object>"
      ]
     },
     "metadata": {},
     "output_type": "display_data"
    },
    {
     "data": {
      "text/markdown": [
       "**Node ID:** 247c50d0-ac9c-4bfd-bd76-366cd2c930aa<br>**Similarity:** 0.34546053409576416<br>**Text:** Motor Vehicles. The Chief of the Division was called the Superintendent of Division of Motor Vehicles. Act No. 3992 was amended by Commonwealth Act Numbers 123, 548, 556, 652 and Republic Act Numbers 314, 587, and 2383. On June 2, 1945, Department Order No. 4 was issued by the Department of Public Works and Highways reorganizing the Division. This took effect after the liberation of the Philippines from the Japanese invasion. In 1947, Executive Order No. 94 was promulgated reorganizing the different executive departments, bureaus and offices. Under Section 82 of this E.O., the Division of Motor Vehicles was upgraded into the Motor Vehicles Office (MVO) with the category of a Bureau. The Chief of the MVO enjoyed the rights and privileges of a Bureau Director. During the fifties and early sixties, our country started undergoing rapid economic development. Industrialization advanced and as a consequence, more and better roads were constructed. The Filipino then realized the need for mo...<br>"
      ],
      "text/plain": [
       "<IPython.core.display.Markdown object>"
      ]
     },
     "metadata": {},
     "output_type": "display_data"
    },
    {
     "data": {
      "text/markdown": [
       "**Node ID:** 181e1e9d-fe2e-4cea-aaef-a1d46ad2bbce<br>**Similarity:** 0.3541192412376404<br>**Text:** days prior to date of registration; WHEREAS, Under the Administrative Code of 1987 as amended, the DOTr shall be the primary policy, planning, programming, coordinating , implementing, regulating and administrative entity of the Executive Branch of the government in the promotion, development and regulation of dependable and coordinated networks of transportation systems as well as in the fast, safe, efficient and reliable postal, transportation services; WHEREAS, Executive Order No. 125-A mandates the DOTr to establish and prescribe rules and regulations for the inspection and registration of air and land transportation facilities, such as motor vehicles, tri mobiles, railways, and aircraft; WHEREAS, Section 1 of Republic Act No. 7718 (An Act Authorizing the Financing, Construction, Operation and Maintenance of Infrastructure Projects by the Private Sector, and for Other Purposes) mandates that it is the declared policy of the State to recognize the 2 ,.--~.::~~:1~ -- ~::~r :1~-   ...<br>"
      ],
      "text/plain": [
       "<IPython.core.display.Markdown object>"
      ]
     },
     "metadata": {},
     "output_type": "display_data"
    },
    {
     "data": {
      "text/markdown": [
       "**Node ID:** 7a07191e-9ecf-4c20-82a1-a313b01b5f3b<br>**Similarity:** 0.3610658049583435<br>**Text:** / )' . . ,, . ' . .. ,  .... t OPWH and OoTC IRR.ofR.A. 8794   ' . t ' Article II. Provision'i Pertaining to DPWH \\ . 19. Pursuant to Section 9 of R.A. 8794, the following provisions pertain to the functions, duties and responsibilities of DPWH with respect to the management and implementation of the Special   Road Support Fund, the Special Local Road Fund, and the Special Road Safety Fund. I I. Definition of Terms (a) National Roads - roads which have been classified through Laws, Executive Orders and Department Orders, as falling under the responsibility of the national government, and are further classified as either national primary (arterial) or national secondary roads. (b) National Primary Roads - roads which comprise the primary (arterial) h_ighway system of the country which interconn~cts the regions, provinces and major urban centers. The system is composed of a north-south backbone, east-west laterals and other roads of strategic importance. These are roads identified as ...<br>"
      ],
      "text/plain": [
       "<IPython.core.display.Markdown object>"
      ]
     },
     "metadata": {},
     "output_type": "display_data"
    },
    {
     "data": {
      "text/markdown": [
       "**Node ID:** 5cdfae5a-4bd1-45ee-8f08-9f3a6326e70a<br>**Similarity:** 0.36325812339782715<br>**Text:** .. ' ., .  .. r . , '\\ ' \\ t \\ I   ' \\   ! ~ r   .. '  . . . c,.. \\ '\\. , ., ' . I   ' -.- Joint DPWH and Do TC IRR of R.A. 8794 the Philippine Clean Air Act of 1999 and its Implementing Rules and Regulations; and (h) To establish and implement the appropriate structural and procedural improvements to carry out these policies. 2. Establishment of Special Accounts. Pursuant to Section 7 of R.A. 8794, there shall be established four separate Special Trust Accounts in the National Treasury. DPWH shall, through the Department of Budget and Management (DBM), establish one separate Special Trust Account for each of the Special Road S~pport Fund, Special Local Road Fund and Special Road Safety Fund. Do TC shall, through DBM, establish one Special Trust Account for the Special Vehicle Pollution Control Fund. 3. Establishment and Composition of the Road Board. Pursuant to Section 7 of R.A. 8794, there has been established a Road Board (the Board) to manage in a prudent and efficient manner t...<br>"
      ],
      "text/plain": [
       "<IPython.core.display.Markdown object>"
      ]
     },
     "metadata": {},
     "output_type": "display_data"
    },
    {
     "data": {
      "text/markdown": [
       "**Node ID:** b24bd770-f8c3-474f-8609-2919a1f0fb4c<br>**Similarity:** 0.364032506942749<br>**Text:** \\. l.\\   .;: ._ ,..-\"j  \" ~i ~1 , I ..,..--, ~....,_ _I ,- ,   ! ' ,/' i . )\\ L ~ ~   . < . --<! 1 # l t. \" ' .> '\\?.E~..,AR,lfME~T OF PUBLIC WORKS . , .Go: AND HIGHWAYS DEPARTMENT OF TRANSPORTATION AND COMMUNICATIONS l ~ ' '. ' / IMPLEMENTING RULES AND REGULATIONS OF REPUBLIC ACT NO. 8794 (AN ACT IMPOSING A MOTOR VEHICLE USER'S CHARGE ON OWNERS OF ALL TYPES OF MOTOR VEHICLES AND FOR OTHER PURPOSES) The following joint Implementing Rules and Regulations, herein after referred to as IRR, are hereby issued by the Department of Public Works and Highways, hereinafter referred to as DPWH, and the Department of Transportation and Communications, hereinafter referred to as DoTC, pursuant to the provisions of Section 9 of Republic Act (R.A.) No. 8794, which provides, among others, for the imposition of a motor vehicle user's charge as well as the creation of a Board. Article I. Common Provisions 1. Declaration of Policy. Pursuant to Section 2 of R.A. 8794, it is the policy of the State to p...<br>"
      ],
      "text/plain": [
       "<IPython.core.display.Markdown object>"
      ]
     },
     "metadata": {},
     "output_type": "display_data"
    },
    {
     "data": {
      "text/markdown": [
       "**Node ID:** 2bad6f02-0050-4b3e-9d69-e54085b11c62<br>**Similarity:** 0.36821043491363525<br>**Text:** Section 1. Administration and Enforcement These Implementing Rules and _Regulations shall be administered by the.,be- _ partment and/or its authorized representatives or through other government , agencies designated or deputized by the qepariment: or by this act, executive,. orders or memorandum circulars, and others. Section 2. Rules and Regulations of other Government Agencies The rules and regulations issued by other government agencies and. instru ~ mentalities for the prevention and/or abatement of pollution not consistent with this Act shall supplement the rules and regulations issu~d by the Department through the Bureau. Section 3. Authentication with Official Seal All decisions, orders and appropriate legal documents hereinafter pro_i'nul- gated shall be issued and authenticated with the official seal of the Department or other government agencies designated by this A~t. Section 4. Jurisdiction The Department through the Bureau shall have exclusive and original jurisdic- ti...<br>"
      ],
      "text/plain": [
       "<IPython.core.display.Markdown object>"
      ]
     },
     "metadata": {},
     "output_type": "display_data"
    },
    {
     "data": {
      "text/markdown": [
       "**Node ID:** af465d0b-a998-4f80-8d67-c28c228261c1<br>**Similarity:** 0.3686549663543701<br>**Text:** Department of Finance, Budget and management, an the Transportation and Communication, as ex officio members. The remaining three (3) members shall come from transport and motorist organization, which have been in existence and active for the last five (5) years prior to this Act. They shall be appointed for the term of two (2) years each by the President of the Philippines upon the recommendation of the secretaries of the DPWH and the DOTC. Section 8. Status of the Special Funds. - The four (4) special funds established under this Act shall be distinct and separate from and in addition in any appropriation authorized and granted yearly to the DPWH and the DOTC. To cover expenditures for the identified objects of expenditures under this Act. Congress shall continue to appropriate an amount in the General appropriations Act for road maintenance of the DPWH: Provided, however, That any savings for each year out of such appropriation shall revert to the General Fund. Any savings from t...<br>"
      ],
      "text/plain": [
       "<IPython.core.display.Markdown object>"
      ]
     },
     "metadata": {},
     "output_type": "display_data"
    },
    {
     "data": {
      "text/markdown": [
       "**Node ID:** f0a91c16-1fa1-42c1-9005-c3e3cdc6d699<br>**Similarity:** 0.3722567558288574<br>**Text:** Republic ofthe Philippines DEPARTMENT OF TRANSPORTATION SUBJECT + AMENDED GUIDELINES GOVERNING THE USE OR [ATTACHMENT OF SIRENS, BELLS, HORNS, WHISTLES (OR SIMILAR GADGETS THAT EMIT EXCEPTIONALLY [LOUD OR STARTLING SOUNDS AND DOME LIGHTS AND  OTHER SIMILAR SIGNALING OR FLASHING DEVICES ON MOTOR VEHICLES DATE 18 pprn 2006 WHEREAS, the Deparment of Tonsporaton (007?) the primary pokey, plannog. programming, coordinating, implementing,  and administrative enity of the  administer and enforce al laws, rules and regulation relative to transportation, WHEREAS, Presidential Decree No. 96 (PO 6), directed the Commissioner ofthe Land  Transportation to draw and promulgate rules and regulations necessary to give effect to  THE USE OR ATTACHMENT OF SIRENS, BELLS, HORNS, WHISTLES OR SIMILAR GADGETS WHEREAS, adhering to the said directv, the Bureau of Land Transportation (now the Land Transportation fice) issued Administrative Order No 1, series 1973 which set the  ules in regulations set forth ...<br>"
      ],
      "text/plain": [
       "<IPython.core.display.Markdown object>"
      ]
     },
     "metadata": {},
     "output_type": "display_data"
    },
    {
     "data": {
      "text/markdown": [
       "**Node ID:** f13de0a0-e65d-455b-b0b4-ae0d9c1f5500<br>**Similarity:** 0.37257254123687744<br>**Text:** this Act and every five (5) years thereafter, review the applicability and enforcement of all foregoing pecuniary penalties and shall initiate amendment and/or upgrade the same as may be necessary, subject to the approval of the Secretary of the DOTC.1 wphi 1 Section 17. Implementing Rules and Regulations.   The DOTC, the DOH and the NAPOLCOM shall, within three (3) months from the effectivity of this Act, jointly promulgate the necessary implementing rules and regulations to carry out the provisions of this Act. Section 18. Separability Clause.   If, for any reason, any part or provision of this Act is declared invalid, such declaration shall not affect the other provisions of this Act. Section 19. Repealing Clause.   Subparagraph (f), Section 56, Article 1 of Republic Act No. 4136, otherwise known as the \"Land Transportation and Traffic Code\", as amended; subparagraph (f), Section 5 of Republic Act No. 7924, otherwise known as \"An Act Creating the Metropolitan Manila Development A...<br>"
      ],
      "text/plain": [
       "<IPython.core.display.Markdown object>"
      ]
     },
     "metadata": {},
     "output_type": "display_data"
    },
    {
     "data": {
      "text/markdown": [
       "**Node ID:** 49cb191e-a234-4931-b2a6-ab2d1e622377<br>**Similarity:** 0.37414413690567017<br>**Text:** REPU13LICOFTHE PtllLIPPINES ! U.P. LAW CENTER~ ! OFFICE of lhe NATIONAL AOMINISTRATIV.E REGISH Adminislra1 1 v~ Rules 3nd Regula11ons DEPARTMENT OF TRANSPORTATION ill AUG 2 4 2021 IB DEPARTMENT ORDER NO. 2 O 2 O;.. O 2 j 1   ~P.2=: SUBJECT GUIDELINES FOR THE SCRAPPING OF OLD PUBLIC UTILITY VEHICLE UNITS (PUVS) UNDER THE DEPARTMENT ORDER 2017-011 OTHERWISE KNOWN AS THE OMNIBUS FHANCHISING GUIDELINES DATE Li NOVEMBER 2020 WHEREAS, The Department of Transportation (DOTr), as the primary policy, planning, programming, coordinating, and implementing agency of the Executive branch of the government, in the regulation of dependable, safe, and reliable transportation system and services, is mandated by laws to ensure the roadworthiness of vehicles operated in the streets and higtnvays of the country; WHEREAS, the Land Transportation Franchising and Regulatory Board (LTFH.13), as a~1 agency under the administrative supervision and control of the DOTr, is mandated to promulgate, administer, e...<br>"
      ],
      "text/plain": [
       "<IPython.core.display.Markdown object>"
      ]
     },
     "metadata": {},
     "output_type": "display_data"
    },
    {
     "data": {
      "text/markdown": [
       "**Node ID:** 6ec6e78e-0818-4f47-a34b-bb08f30c3354<br>**Similarity:** 0.3777167797088623<br>**Text:** WHEREAS, Section 21 (c), Article 4 of Republic Act No. 8749 provides that the DOTC (now DOTr), together with the Department of Trade and Industry, and the Department of Environment and Natural Resources shall establish the procedures for the inspection of motor vehicles and the testing of their emissions; WHEREAS, the \"Implementing Rules and Regulations of the Philippine Clean Air Act of 1999\" provides that all private in-use motor vehicles and vehicles with updated/ enhanced engine whose chassis are pre-registered with L TO will only be allowed renewal of annual registration when, upon inspection by the LTO or other authorized private Motor Vehicle Inspection Station; WHEREAS, the \"Implementing Rules and Regulations of the Philippine Clean Air Act of 1999\" also provided that the DOTr shall conduct the vehicle test utilizing the Motor Vehicle Inspection System (MVIS) or its duly authorized and accredited inspection centers consistent with Republic Act No. 7394 or the \"Consumer Act o...<br>"
      ],
      "text/plain": [
       "<IPython.core.display.Markdown object>"
      ]
     },
     "metadata": {},
     "output_type": "display_data"
    },
    {
     "data": {
      "text/markdown": [
       "**Node ID:** 4dad5a6a-2c43-4184-a91e-a5273d320885<br>**Similarity:** 0.37835150957107544<br>**Text:** comfort anxl convenience to parsons and property in their charges as well as the safety of  persons and property within thelr areas of operations; WHEREAS, Section 4 ( ) of Republic Act (RA) No, 10930 provides thatthe Dej t 10\" provides that the Department, in coordination with the LTFRB ane! other concerned agencies and private stakeholders, aggressively and regularly conduct a nationwide information, education and  communication campaign on road safety, including the list of measures implemented  pursuant to and violations punishable hereunder; WHEREAS, RA 10930 likewise provides that the Department, withthe assistance of LTFRB, shall promulgate the implementing rules and regulations necessary to ensure its effective implementation; WHEREAS, Section 5 (b) of EO 202 provides that the LTFRB has the power toissue, amend, revise, suspend or cancel Certificates of Public Convenience (CPC) or permits authorizing, the operation of publi land transportation services provilel by motorized ...<br>"
      ],
      "text/plain": [
       "<IPython.core.display.Markdown object>"
      ]
     },
     "metadata": {},
     "output_type": "display_data"
    },
    {
     "data": {
      "text/markdown": [
       "**Node ID:** 97deaa8a-4a92-4e9b-8de9-4884f8ca8cc9<br>**Similarity:** 0.37851130962371826<br>**Text:** Law Enforcement Agency Involved in Traffic Administration DOTr DOTr is the primary policy, planning, programming, coordinating, implementing, regulating and administrative entity of the executive branch of the government in the promotion, development, regulation of a dependable and coordinated network of transportation. LTFRB Certificate of Public Convenience (franchising of public utility motor vehicle) including enforcement of the Public Service Law (CA 146). PNP-HPG Enforcement of Republic Act No. 4136 MMDA/LGUs Responsible for traffic direction and control within Metro Manila and its Localities DPWH Responsible for road engineering and infrastructure as well as construction, maintenance and repairs of roads including installation of traffic signs and signals and pavement markings. Relationship with Other Agencies<br>"
      ],
      "text/plain": [
       "<IPython.core.display.Markdown object>"
      ]
     },
     "metadata": {},
     "output_type": "display_data"
    },
    {
     "name": "stdout",
     "output_type": "stream",
     "text": [
      "hit_rate: 1.0\n",
      "mrr: 0.3333333333333333\n",
      "precision: 0.06666666666666667\n",
      "recall: 1.0\n",
      "ap: 0.3333333333333333\n",
      "ndcg: 0.5\n",
      "\n",
      "\n",
      "Query: What was the outcome of the issuance by the DPWH on June 5, 1961 of Administrative Regulation No. 1?\n",
      "Metrics: {'hit_rate': 1.0, 'mrr': 0.3333333333333333, 'precision': 0.06666666666666667, 'recall': 1.0, 'ap': 0.3333333333333333, 'ndcg': 0.5}\n",
      "\n"
     ]
    }
   ],
   "source": [
    "indexer = FaissIndexer()\n",
    "\n",
    "indexer.build_index(nodes)  \n",
    "faiss_index = indexer.get_index()\n",
    "\n",
    "retriever = FAISSVectorStoreRetriever(faiss_index=indexer.get_index(), documents=nodes_embed)\n",
    "\n",
    "metrics = [\"hit_rate\", \"mrr\", \"precision\", \"recall\", \"ap\", \"ndcg\"]\n",
    "evaluator = FAISSRetrievalEvaluator.from_metric_names(\n",
    "    metric_names=metrics,\n",
    "    retriever=retriever,\n",
    "    Print_Results=True\n",
    ")\n",
    "\n",
    "\n",
    "sample_id, sample_query = list(qa_dataset.queries.items())[1]\n",
    "sample_expected = qa_dataset.relevant_docs[sample_id]\n",
    "\n",
    "print(\"Sample Problem:\")\n",
    "print(f\"sample id: {sample_id}, text: {sample_query}\")\n",
    "print(f\"sample exp: {sample_expected}\")\n",
    "\n",
    "print(\"\\nRetrieval results:\")\n",
    "\n",
    "result = await evaluator.aevaluate(\n",
    "    query=sample_query,\n",
    "    expected_ids=sample_expected,\n",
    ")\n",
    "\n",
    "print(\"\\n\")\n",
    "print(result)"
   ]
  },
  {
   "cell_type": "code",
   "execution_count": 44,
   "id": "855ffefe",
   "metadata": {},
   "outputs": [
    {
     "name": "stdout",
     "output_type": "stream",
     "text": [
      "hit_rate: 1.0\n",
      "mrr: 0.2\n",
      "precision: 0.06666666666666667\n",
      "recall: 1.0\n",
      "ap: 0.2\n",
      "ndcg: 0.38685280723454163\n",
      "hit_rate: 1.0\n",
      "mrr: 0.3333333333333333\n",
      "precision: 0.06666666666666667\n",
      "recall: 1.0\n",
      "ap: 0.3333333333333333\n",
      "ndcg: 0.5\n",
      "hit_rate: 1.0\n",
      "mrr: 1.0\n",
      "precision: 0.06666666666666667\n",
      "recall: 1.0\n",
      "ap: 1.0\n",
      "ndcg: 1.0\n",
      "hit_rate: 1.0\n",
      "mrr: 1.0\n",
      "precision: 0.06666666666666667\n",
      "recall: 1.0\n",
      "ap: 1.0\n",
      "ndcg: 1.0\n",
      "hit_rate: 1.0\n",
      "mrr: 1.0\n",
      "precision: 0.06666666666666667\n",
      "recall: 1.0\n",
      "ap: 1.0\n",
      "ndcg: 1.0\n",
      "hit_rate: 0.0\n",
      "mrr: 0.0\n",
      "precision: 0.0\n",
      "recall: 0.0\n",
      "ap: 0.0\n",
      "ndcg: 0.0\n",
      "hit_rate: 1.0\n",
      "mrr: 0.5\n",
      "precision: 0.06666666666666667\n",
      "recall: 1.0\n",
      "ap: 0.5\n",
      "ndcg: 0.6309297535714575\n",
      "hit_rate: 1.0\n",
      "mrr: 0.25\n",
      "precision: 0.06666666666666667\n",
      "recall: 1.0\n",
      "ap: 0.25\n",
      "ndcg: 0.43067655807339306\n",
      "hit_rate: 1.0\n",
      "mrr: 1.0\n",
      "precision: 0.06666666666666667\n",
      "recall: 1.0\n",
      "ap: 1.0\n",
      "ndcg: 1.0\n",
      "hit_rate: 1.0\n",
      "mrr: 1.0\n",
      "precision: 0.06666666666666667\n",
      "recall: 1.0\n",
      "ap: 1.0\n",
      "ndcg: 1.0\n",
      "hit_rate: 1.0\n",
      "mrr: 0.5\n",
      "precision: 0.06666666666666667\n",
      "recall: 1.0\n",
      "ap: 0.5\n",
      "ndcg: 0.6309297535714575\n",
      "hit_rate: 0.0\n",
      "mrr: 0.0\n",
      "precision: 0.0\n",
      "recall: 0.0\n",
      "ap: 0.0\n",
      "ndcg: 0.0\n",
      "hit_rate: 1.0\n",
      "mrr: 0.2\n",
      "precision: 0.06666666666666667\n",
      "recall: 1.0\n",
      "ap: 0.2\n",
      "ndcg: 0.38685280723454163\n",
      "hit_rate: 0.0\n",
      "mrr: 0.0\n",
      "precision: 0.0\n",
      "recall: 0.0\n",
      "ap: 0.0\n",
      "ndcg: 0.0\n",
      "hit_rate: 1.0\n",
      "mrr: 0.14285714285714285\n",
      "precision: 0.06666666666666667\n",
      "recall: 1.0\n",
      "ap: 0.14285714285714285\n",
      "ndcg: 0.3333333333333333\n",
      "hit_rate: 1.0\n",
      "mrr: 0.3333333333333333\n",
      "precision: 0.06666666666666667\n",
      "recall: 1.0\n",
      "ap: 0.3333333333333333\n",
      "ndcg: 0.5\n",
      "hit_rate: 1.0\n",
      "mrr: 0.3333333333333333\n",
      "precision: 0.06666666666666667\n",
      "recall: 1.0\n",
      "ap: 0.3333333333333333\n",
      "ndcg: 0.5\n",
      "hit_rate: 0.0\n",
      "mrr: 0.0\n",
      "precision: 0.0\n",
      "recall: 0.0\n",
      "ap: 0.0\n",
      "ndcg: 0.0\n",
      "hit_rate: 0.0\n",
      "mrr: 0.0\n",
      "precision: 0.0\n",
      "recall: 0.0\n",
      "ap: 0.0\n",
      "ndcg: 0.0\n",
      "hit_rate: 1.0\n",
      "mrr: 0.3333333333333333\n",
      "precision: 0.06666666666666667\n",
      "recall: 1.0\n",
      "ap: 0.3333333333333333\n",
      "ndcg: 0.5\n",
      "hit_rate: 1.0\n",
      "mrr: 0.08333333333333333\n",
      "precision: 0.06666666666666667\n",
      "recall: 1.0\n",
      "ap: 0.08333333333333333\n",
      "ndcg: 0.27023815442731974\n",
      "hit_rate: 0.0\n",
      "mrr: 0.0\n",
      "precision: 0.0\n",
      "recall: 0.0\n",
      "ap: 0.0\n",
      "ndcg: 0.0\n",
      "hit_rate: 0.0\n",
      "mrr: 0.0\n",
      "precision: 0.0\n",
      "recall: 0.0\n",
      "ap: 0.0\n",
      "ndcg: 0.0\n",
      "hit_rate: 1.0\n",
      "mrr: 0.5\n",
      "precision: 0.06666666666666667\n",
      "recall: 1.0\n",
      "ap: 0.5\n",
      "ndcg: 0.6309297535714575\n",
      "hit_rate: 0.0\n",
      "mrr: 0.0\n",
      "precision: 0.0\n",
      "recall: 0.0\n",
      "ap: 0.0\n",
      "ndcg: 0.0\n",
      "hit_rate: 1.0\n",
      "mrr: 1.0\n",
      "precision: 0.06666666666666667\n",
      "recall: 1.0\n",
      "ap: 1.0\n",
      "ndcg: 1.0\n",
      "hit_rate: 1.0\n",
      "mrr: 0.07692307692307693\n",
      "precision: 0.06666666666666667\n",
      "recall: 1.0\n",
      "ap: 0.07692307692307693\n",
      "ndcg: 0.26264953503719357\n",
      "hit_rate: 0.0\n",
      "mrr: 0.0\n",
      "precision: 0.0\n",
      "recall: 0.0\n",
      "ap: 0.0\n",
      "ndcg: 0.0\n",
      "hit_rate: 1.0\n",
      "mrr: 0.2\n",
      "precision: 0.06666666666666667\n",
      "recall: 1.0\n",
      "ap: 0.2\n",
      "ndcg: 0.38685280723454163\n",
      "hit_rate: 0.0\n",
      "mrr: 0.0\n",
      "precision: 0.0\n",
      "recall: 0.0\n",
      "ap: 0.0\n",
      "ndcg: 0.0\n",
      "hit_rate: 1.0\n",
      "mrr: 0.08333333333333333\n",
      "precision: 0.06666666666666667\n",
      "recall: 1.0\n",
      "ap: 0.08333333333333333\n",
      "ndcg: 0.27023815442731974\n",
      "hit_rate: 0.0\n",
      "mrr: 0.0\n",
      "precision: 0.0\n",
      "recall: 0.0\n",
      "ap: 0.0\n",
      "ndcg: 0.0\n",
      "hit_rate: 0.0\n",
      "mrr: 0.0\n",
      "precision: 0.0\n",
      "recall: 0.0\n",
      "ap: 0.0\n",
      "ndcg: 0.0\n",
      "hit_rate: 1.0\n",
      "mrr: 1.0\n",
      "precision: 0.06666666666666667\n",
      "recall: 1.0\n",
      "ap: 1.0\n",
      "ndcg: 1.0\n",
      "hit_rate: 1.0\n",
      "mrr: 1.0\n",
      "precision: 0.06666666666666667\n",
      "recall: 1.0\n",
      "ap: 1.0\n",
      "ndcg: 1.0\n",
      "hit_rate: 1.0\n",
      "mrr: 1.0\n",
      "precision: 0.06666666666666667\n",
      "recall: 1.0\n",
      "ap: 1.0\n",
      "ndcg: 1.0\n",
      "hit_rate: 0.0\n",
      "mrr: 0.0\n",
      "precision: 0.0\n",
      "recall: 0.0\n",
      "ap: 0.0\n",
      "ndcg: 0.0\n",
      "hit_rate: 0.0\n",
      "mrr: 0.0\n",
      "precision: 0.0\n",
      "recall: 0.0\n",
      "ap: 0.0\n",
      "ndcg: 0.0\n",
      "hit_rate: 1.0\n",
      "mrr: 0.16666666666666666\n",
      "precision: 0.06666666666666667\n",
      "recall: 1.0\n",
      "ap: 0.16666666666666666\n",
      "ndcg: 0.3562071871080222\n",
      "hit_rate: 1.0\n",
      "mrr: 0.16666666666666666\n",
      "precision: 0.06666666666666667\n",
      "recall: 1.0\n",
      "ap: 0.16666666666666666\n",
      "ndcg: 0.3562071871080222\n",
      "hit_rate: 1.0\n",
      "mrr: 1.0\n",
      "precision: 0.06666666666666667\n",
      "recall: 1.0\n",
      "ap: 1.0\n",
      "ndcg: 1.0\n",
      "hit_rate: 1.0\n",
      "mrr: 0.5\n",
      "precision: 0.06666666666666667\n",
      "recall: 1.0\n",
      "ap: 0.5\n",
      "ndcg: 0.6309297535714575\n",
      "hit_rate: 1.0\n",
      "mrr: 0.1111111111111111\n",
      "precision: 0.06666666666666667\n",
      "recall: 1.0\n",
      "ap: 0.1111111111111111\n",
      "ndcg: 0.3010299956639812\n",
      "hit_rate: 1.0\n",
      "mrr: 1.0\n",
      "precision: 0.06666666666666667\n",
      "recall: 1.0\n",
      "ap: 1.0\n",
      "ndcg: 1.0\n",
      "hit_rate: 1.0\n",
      "mrr: 1.0\n",
      "precision: 0.06666666666666667\n",
      "recall: 1.0\n",
      "ap: 1.0\n",
      "ndcg: 1.0\n",
      "hit_rate: 1.0\n",
      "mrr: 1.0\n",
      "precision: 0.06666666666666667\n",
      "recall: 1.0\n",
      "ap: 1.0\n",
      "ndcg: 1.0\n",
      "hit_rate: 1.0\n",
      "mrr: 0.5\n",
      "precision: 0.06666666666666667\n",
      "recall: 1.0\n",
      "ap: 0.5\n",
      "ndcg: 0.6309297535714575\n",
      "hit_rate: 0.0\n",
      "mrr: 0.0\n",
      "precision: 0.0\n",
      "recall: 0.0\n",
      "ap: 0.0\n",
      "ndcg: 0.0\n",
      "hit_rate: 0.0\n",
      "mrr: 0.0\n",
      "precision: 0.0\n",
      "recall: 0.0\n",
      "ap: 0.0\n",
      "ndcg: 0.0\n",
      "hit_rate: 1.0\n",
      "mrr: 0.06666666666666667\n",
      "precision: 0.06666666666666667\n",
      "recall: 1.0\n",
      "ap: 0.06666666666666667\n",
      "ndcg: 0.25\n",
      "hit_rate: 1.0\n",
      "mrr: 1.0\n",
      "precision: 0.06666666666666667\n",
      "recall: 1.0\n",
      "ap: 1.0\n",
      "ndcg: 1.0\n",
      "hit_rate: 1.0\n",
      "mrr: 0.1\n",
      "precision: 0.06666666666666667\n",
      "recall: 1.0\n",
      "ap: 0.1\n",
      "ndcg: 0.2890648263178879\n",
      "hit_rate: 1.0\n",
      "mrr: 1.0\n",
      "precision: 0.06666666666666667\n",
      "recall: 1.0\n",
      "ap: 1.0\n",
      "ndcg: 1.0\n",
      "hit_rate: 1.0\n",
      "mrr: 0.3333333333333333\n",
      "precision: 0.06666666666666667\n",
      "recall: 1.0\n",
      "ap: 0.3333333333333333\n",
      "ndcg: 0.5\n",
      "hit_rate: 1.0\n",
      "mrr: 0.14285714285714285\n",
      "precision: 0.06666666666666667\n",
      "recall: 1.0\n",
      "ap: 0.14285714285714285\n",
      "ndcg: 0.3333333333333333\n",
      "hit_rate: 0.0\n",
      "mrr: 0.0\n",
      "precision: 0.0\n",
      "recall: 0.0\n",
      "ap: 0.0\n",
      "ndcg: 0.0\n",
      "hit_rate: 1.0\n",
      "mrr: 0.14285714285714285\n",
      "precision: 0.06666666666666667\n",
      "recall: 1.0\n",
      "ap: 0.14285714285714285\n",
      "ndcg: 0.3333333333333333\n",
      "hit_rate: 1.0\n",
      "mrr: 0.2\n",
      "precision: 0.06666666666666667\n",
      "recall: 1.0\n",
      "ap: 0.2\n",
      "ndcg: 0.38685280723454163\n",
      "hit_rate: 1.0\n",
      "mrr: 0.125\n",
      "precision: 0.06666666666666667\n",
      "recall: 1.0\n",
      "ap: 0.125\n",
      "ndcg: 0.31546487678572877\n"
     ]
    },
    {
     "data": {
      "text/html": [
       "<div>\n",
       "<style scoped>\n",
       "    .dataframe tbody tr th:only-of-type {\n",
       "        vertical-align: middle;\n",
       "    }\n",
       "\n",
       "    .dataframe tbody tr th {\n",
       "        vertical-align: top;\n",
       "    }\n",
       "\n",
       "    .dataframe thead th {\n",
       "        text-align: right;\n",
       "    }\n",
       "</style>\n",
       "<table border=\"1\" class=\"dataframe\">\n",
       "  <thead>\n",
       "    <tr style=\"text-align: right;\">\n",
       "      <th></th>\n",
       "      <th>retrievers</th>\n",
       "      <th>hit_rate</th>\n",
       "      <th>mrr</th>\n",
       "      <th>precision</th>\n",
       "      <th>recall</th>\n",
       "      <th>ap</th>\n",
       "      <th>ndcg</th>\n",
       "    </tr>\n",
       "  </thead>\n",
       "  <tbody>\n",
       "    <tr>\n",
       "      <th>0</th>\n",
       "      <td>top-2 eval</td>\n",
       "      <td>0.711864</td>\n",
       "      <td>0.366524</td>\n",
       "      <td>0.047458</td>\n",
       "      <td>0.711864</td>\n",
       "      <td>0.366524</td>\n",
       "      <td>0.445828</td>\n",
       "    </tr>\n",
       "  </tbody>\n",
       "</table>\n",
       "</div>"
      ],
      "text/plain": [
       "   retrievers  hit_rate       mrr  precision    recall        ap      ndcg\n",
       "0  top-2 eval  0.711864  0.366524   0.047458  0.711864  0.366524  0.445828"
      ]
     },
     "execution_count": 44,
     "metadata": {},
     "output_type": "execute_result"
    }
   ],
   "source": [
    "  \n",
    "evaluator = FAISSRetrievalEvaluator.from_metric_names(\n",
    "    metric_names=metrics,\n",
    "    retriever=retriever,\n",
    "    Print_Results=False\n",
    ")\n",
    "\n",
    "eval_results = await evaluator.aevaluate_dataset(qa_dataset)\n",
    "\n",
    "\n",
    "def display_results(name, eval_results):\n",
    "    \"\"\"Display results from evaluate.\"\"\"\n",
    "\n",
    "    metric_dicts = []\n",
    "    for eval_result in eval_results:\n",
    "        metric_dict = eval_result.metric_vals_dict\n",
    "        metric_dicts.append(metric_dict)\n",
    "\n",
    "    full_df = pd.DataFrame(metric_dicts)\n",
    "\n",
    "    columns = {\n",
    "        \"retrievers\": [name],\n",
    "        **{k: [full_df[k].mean()] for k in metrics},\n",
    "    }\n",
    "\n",
    "    metric_df = pd.DataFrame(columns)\n",
    "\n",
    "    return metric_df\n",
    "\n",
    "\n",
    "display_results(\"top-2 eval\", eval_results)"
   ]
  },
  {
   "cell_type": "code",
   "execution_count": 45,
   "id": "15320c85-b644-4148-b83b-b63bc2898517",
   "metadata": {},
   "outputs": [],
   "source": [
    "#indexing\n",
    "index = FaissIndexer()\n",
    "index.build_index(nodes_embed)\n",
    "faiss_index = index.get_index()\n",
    "\n",
    "faiss_retriever = FAISSVectorStoreRetriever(faiss_index=faiss_index,documents=nodes_embed)"
   ]
  },
  {
   "cell_type": "markdown",
   "id": "f75ddf0b-2c20-4065-bb79-fb8733622ec7",
   "metadata": {},
   "source": [
    "## 5.D Sparse Embedding via BM25"
   ]
  },
  {
   "cell_type": "code",
   "execution_count": 46,
   "id": "3e9c9cf4-123f-4d44-8c02-b61ecdd4bb2f",
   "metadata": {},
   "outputs": [],
   "source": [
    "bm25_retriever = BM25Retriever.from_defaults(\n",
    "   nodes=nodes,\n",
    "   similarity_top_k=5,\n",
    "   stemmer=Stemmer.Stemmer(\"english\"),\n",
    "   language=\"english\",\n",
    ")"
   ]
  },
  {
   "cell_type": "markdown",
   "id": "c953fd45-035d-4d46-801f-33f28fdede67",
   "metadata": {},
   "source": [
    "## 5.E Hybrid Retrieval via Reciprocal Rank"
   ]
  },
  {
   "cell_type": "code",
   "execution_count": 47,
   "id": "6ad014ba-3363-4810-a5d5-fa6187fbc494",
   "metadata": {},
   "outputs": [],
   "source": [
    "def hybrid_embedding(results: dict, top_k: int):\n",
    "    x = QueryFusionRetriever\n",
    "    ranked_results = QueryFusionRetriever._reciprocal_rerank_fusion(x, results)\n",
    "    return ranked_results[:top_k]"
   ]
  },
  {
   "cell_type": "markdown",
   "id": "6803d0a1",
   "metadata": {},
   "source": [
    "## 5.F Hybrid Retrieval Evaluator"
   ]
  },
  {
   "cell_type": "code",
   "execution_count": 48,
   "id": "8acc387e",
   "metadata": {},
   "outputs": [],
   "source": [
    "from typing import List, Tuple, Any, Dict\n",
    "from pydantic import Field, ConfigDict\n",
    "from llama_index.core.evaluation.retrieval.base import (\n",
    "    BaseRetrievalEvaluator,\n",
    "    RetrievalEvalMode,\n",
    "    RetrievalEvalResult\n",
    ")\n",
    "from llama_index.core.evaluation.retrieval.metrics import resolve_metrics\n",
    "from llama_index.core.response.notebook_utils import display_source_node\n",
    "\n",
    "class HybridRetrievalEvaluator(BaseRetrievalEvaluator):\n",
    "    faiss_retriever: \"FAISSVectorStoreRetriever\" = Field(..., description=\"FAISS Retriever instance\")\n",
    "    bm25_retriever: \"BM25Retriever\" = Field(..., description=\"BM25 Retriever instance\")\n",
    "    Print_Results: bool = Field(default=False, description=\"Whether to print retrieved results\")\n",
    "\n",
    "    model_config = ConfigDict(extra=\"forbid\")  \n",
    "\n",
    "    @classmethod\n",
    "    def from_metric_names(\n",
    "        cls,\n",
    "        metric_names: List[str],\n",
    "        faiss_retriever: \"FAISSVectorStoreRetriever\",\n",
    "        bm25_retriever: \"BM25Retriever\",\n",
    "        Print_Results: bool = False,\n",
    "        **kwargs: Any,\n",
    "    ) -> \"HybridRetrievalEvaluator\":\n",
    "        metric_types = resolve_metrics(metric_names)\n",
    "        metrics = [metric() for metric in metric_types]\n",
    "        return cls(metrics=metrics, faiss_retriever=faiss_retriever, bm25_retriever=bm25_retriever, Print_Results=Print_Results, **kwargs)\n",
    "\n",
    "    async def _aget_retrieved_ids_and_texts(\n",
    "        self,\n",
    "        query: str,\n",
    "        mode: RetrievalEvalMode = RetrievalEvalMode.TEXT,\n",
    "        top_k: int = 15\n",
    "    ) -> Tuple[List[str], List[str]]:\n",
    "        response = client.embeddings(prompt=query, model=\"mxbai-embed-large\")\n",
    "        query_embedding = response[\"embedding\"]\n",
    "\n",
    "        # FAISS retrieval\n",
    "        faiss_docs = self.faiss_retriever._retrieve(query_embedding, top_k=top_k)\n",
    "\n",
    "        # BM25 retrieval\n",
    "        bm25_docs = self.bm25_retriever.retrieve(query)\n",
    "\n",
    "        # Combine results\n",
    "        results = {'faiss': faiss_docs, 'bm25': bm25_docs}\n",
    "        ranked_results = QueryFusionRetriever._reciprocal_rerank_fusion(None, results)\n",
    "        ranked_results = ranked_results[:top_k]\n",
    "\n",
    "        # Optionally display results\n",
    "        if self.Print_Results:\n",
    "            for doc in ranked_results:\n",
    "                display_source_node(doc, source_length=1000)\n",
    "\n",
    "        retrieved_ids = [doc.id_ for doc in ranked_results]\n",
    "        retrieved_texts = [doc.text for doc in ranked_results]\n",
    "        return retrieved_ids, retrieved_texts\n",
    "\n",
    "    async def aevaluate(\n",
    "        self,\n",
    "        query: str,\n",
    "        expected_ids: List[str],\n",
    "        expected_texts: List[str] = [],\n",
    "        mode: RetrievalEvalMode = RetrievalEvalMode.TEXT,\n",
    "        **kwargs: Any,\n",
    "    ) -> RetrievalEvalResult:\n",
    "        retrieved_ids, retrieved_texts = await self._aget_retrieved_ids_and_texts(query, mode)\n",
    "        metric_dict = {}\n",
    "        \n",
    "        for metric in self.metrics:\n",
    "            # Call compute instead of evaluate\n",
    "            result = metric.compute(\n",
    "                query=query,\n",
    "                expected_ids=expected_ids,\n",
    "                retrieved_ids=retrieved_ids,\n",
    "                expected_texts=expected_texts,\n",
    "                retrieved_texts=retrieved_texts,\n",
    "                **kwargs\n",
    "            )\n",
    "            metric_dict[metric.metric_name] = result  # Store the whole RetrievalMetricResult object\n",
    "            print(f\"{metric.metric_name}: {result.score}\")  # Print each metric result\n",
    "        \n",
    "        # Return RetrievalEvalResult with all required fields\n",
    "        return RetrievalEvalResult(\n",
    "            query=query,\n",
    "            retrieved_ids=retrieved_ids,\n",
    "            retrieved_texts=retrieved_texts,\n",
    "            expected_ids=expected_ids,\n",
    "            expected_texts=expected_texts,\n",
    "            metric_dict=metric_dict\n",
    "        )\n"
   ]
  },
  {
   "cell_type": "markdown",
   "id": "564b6afc",
   "metadata": {},
   "source": [
    "## 5.G BM25 Retreival Evaluation"
   ]
  },
  {
   "cell_type": "code",
   "execution_count": 49,
   "id": "338641e1",
   "metadata": {},
   "outputs": [
    {
     "name": "stdout",
     "output_type": "stream",
     "text": [
      "Sample Problem:\n",
      "sample id: 8d0ccead-fb73-4913-8964-e796cab9868b, text: What was the outcome of the issuance by the DPWH on June 5, 1961 of Administrative Regulation No. 1?\n",
      "sample exp: ['247c50d0-ac9c-4bfd-bd76-366cd2c930aa']\n",
      "\n",
      "Retrieval results:\n"
     ]
    },
    {
     "data": {
      "text/markdown": [
       "**Node ID:** 247c50d0-ac9c-4bfd-bd76-366cd2c930aa<br>**Similarity:** 0.030555555555555555<br>**Text:** Motor Vehicles. The Chief of the Division was called the Superintendent of Division of Motor Vehicles. Act No. 3992 was amended by Commonwealth Act Numbers 123, 548, 556, 652 and Republic Act Numbers 314, 587, and 2383. On June 2, 1945, Department Order No. 4 was issued by the Department of Public Works and Highways reorganizing the Division. This took effect after the liberation of the Philippines from the Japanese invasion. In 1947, Executive Order No. 94 was promulgated reorganizing the different executive departments, bureaus and offices. Under Section 82 of this E.O., the Division of Motor Vehicles was upgraded into the Motor Vehicles Office (MVO) with the category of a Bureau. The Chief of the MVO enjoyed the rights and privileges of a Bureau Director. During the fifties and early sixties, our country started undergoing rapid economic development. Industrialization advanced and as a consequence, more and better roads were constructed. The Filipino then realized the need for mo...<br>"
      ],
      "text/plain": [
       "<IPython.core.display.Markdown object>"
      ]
     },
     "metadata": {},
     "output_type": "display_data"
    },
    {
     "data": {
      "text/markdown": [
       "**Node ID:** 97deaa8a-4a92-4e9b-8de9-4884f8ca8cc9<br>**Similarity:** 0.016666666666666666<br>**Text:** Law Enforcement Agency Involved in Traffic Administration DOTr DOTr is the primary policy, planning, programming, coordinating, implementing, regulating and administrative entity of the executive branch of the government in the promotion, development, regulation of a dependable and coordinated network of transportation. LTFRB Certificate of Public Convenience (franchising of public utility motor vehicle) including enforcement of the Public Service Law (CA 146). PNP-HPG Enforcement of Republic Act No. 4136 MMDA/LGUs Responsible for traffic direction and control within Metro Manila and its Localities DPWH Responsible for road engineering and infrastructure as well as construction, maintenance and repairs of roads including installation of traffic signs and signals and pavement markings. Relationship with Other Agencies<br>"
      ],
      "text/plain": [
       "<IPython.core.display.Markdown object>"
      ]
     },
     "metadata": {},
     "output_type": "display_data"
    },
    {
     "data": {
      "text/markdown": [
       "**Node ID:** 4dad5a6a-2c43-4184-a91e-a5273d320885<br>**Similarity:** 0.01639344262295082<br>**Text:** comfort anxl convenience to parsons and property in their charges as well as the safety of  persons and property within thelr areas of operations; WHEREAS, Section 4 ( ) of Republic Act (RA) No, 10930 provides thatthe Dej t 10\" provides that the Department, in coordination with the LTFRB ane! other concerned agencies and private stakeholders, aggressively and regularly conduct a nationwide information, education and  communication campaign on road safety, including the list of measures implemented  pursuant to and violations punishable hereunder; WHEREAS, RA 10930 likewise provides that the Department, withthe assistance of LTFRB, shall promulgate the implementing rules and regulations necessary to ensure its effective implementation; WHEREAS, Section 5 (b) of EO 202 provides that the LTFRB has the power toissue, amend, revise, suspend or cancel Certificates of Public Convenience (CPC) or permits authorizing, the operation of publi land transportation services provilel by motorized ...<br>"
      ],
      "text/plain": [
       "<IPython.core.display.Markdown object>"
      ]
     },
     "metadata": {},
     "output_type": "display_data"
    },
    {
     "data": {
      "text/markdown": [
       "**Node ID:** a98a6958-593e-4cee-a212-44d808936b60<br>**Similarity:** 0.01639344262295082<br>**Text:** '-.. ' ... . , \\' Jint DPWH and DoTC IRR of R.A. 8794 . (f) To review and update the standards and procedures required of all local governments in their road maintenance operations, and to submit the findings and recommendations to the Board for appropriate action; and to provide technical assistance to local governments in preparing an inventory of the existing local road network and their conditions. (g) To coordinate its program of work at all times with such other units within and outside of DPWH und~rtaking activities which may be related to road maintenance and road safety. (h) To maintain the separate and distinct nature and accountabilities of monies received from each of the Special Road Funds, namely, the Special Road Support Fund, the Special Local Road Fund and the Special Road Safety Fund. The regular maintenance (GAA) fund shall likewise remain separate and distinct in nature and accountability from the Special Road Funds. (i) To expedite implementation of the approved...<br>"
      ],
      "text/plain": [
       "<IPython.core.display.Markdown object>"
      ]
     },
     "metadata": {},
     "output_type": "display_data"
    },
    {
     "data": {
      "text/markdown": [
       "**Node ID:** 6ec6e78e-0818-4f47-a34b-bb08f30c3354<br>**Similarity:** 0.016129032258064516<br>**Text:** WHEREAS, Section 21 (c), Article 4 of Republic Act No. 8749 provides that the DOTC (now DOTr), together with the Department of Trade and Industry, and the Department of Environment and Natural Resources shall establish the procedures for the inspection of motor vehicles and the testing of their emissions; WHEREAS, the \"Implementing Rules and Regulations of the Philippine Clean Air Act of 1999\" provides that all private in-use motor vehicles and vehicles with updated/ enhanced engine whose chassis are pre-registered with L TO will only be allowed renewal of annual registration when, upon inspection by the LTO or other authorized private Motor Vehicle Inspection Station; WHEREAS, the \"Implementing Rules and Regulations of the Philippine Clean Air Act of 1999\" also provided that the DOTr shall conduct the vehicle test utilizing the Motor Vehicle Inspection System (MVIS) or its duly authorized and accredited inspection centers consistent with Republic Act No. 7394 or the \"Consumer Act o...<br>"
      ],
      "text/plain": [
       "<IPython.core.display.Markdown object>"
      ]
     },
     "metadata": {},
     "output_type": "display_data"
    },
    {
     "data": {
      "text/markdown": [
       "**Node ID:** ae87ffda-97e4-41de-abf5-2acb565b1062<br>**Similarity:** 0.016129032258064516<br>**Text:** .-, t1' M~~~ Secreta1y General House of Representatives 0  clRTJFIED COPY:<br>"
      ],
      "text/plain": [
       "<IPython.core.display.Markdown object>"
      ]
     },
     "metadata": {},
     "output_type": "display_data"
    },
    {
     "data": {
      "text/markdown": [
       "**Node ID:** 49cb191e-a234-4931-b2a6-ab2d1e622377<br>**Similarity:** 0.015873015873015872<br>**Text:** REPU13LICOFTHE PtllLIPPINES ! U.P. LAW CENTER~ ! OFFICE of lhe NATIONAL AOMINISTRATIV.E REGISH Adminislra1 1 v~ Rules 3nd Regula11ons DEPARTMENT OF TRANSPORTATION ill AUG 2 4 2021 IB DEPARTMENT ORDER NO. 2 O 2 O;.. O 2 j 1   ~P.2=: SUBJECT GUIDELINES FOR THE SCRAPPING OF OLD PUBLIC UTILITY VEHICLE UNITS (PUVS) UNDER THE DEPARTMENT ORDER 2017-011 OTHERWISE KNOWN AS THE OMNIBUS FHANCHISING GUIDELINES DATE Li NOVEMBER 2020 WHEREAS, The Department of Transportation (DOTr), as the primary policy, planning, programming, coordinating, and implementing agency of the Executive branch of the government, in the regulation of dependable, safe, and reliable transportation system and services, is mandated by laws to ensure the roadworthiness of vehicles operated in the streets and higtnvays of the country; WHEREAS, the Land Transportation Franchising and Regulatory Board (LTFH.13), as a~1 agency under the administrative supervision and control of the DOTr, is mandated to promulgate, administer, e...<br>"
      ],
      "text/plain": [
       "<IPython.core.display.Markdown object>"
      ]
     },
     "metadata": {},
     "output_type": "display_data"
    },
    {
     "data": {
      "text/markdown": [
       "**Node ID:** df60fb1d-cc36-4e75-ae21-1f29e1db8565<br>**Similarity:** 0.015873015873015872<br>**Text:** .. - If for any reason any section or provision of this Act fa declared unconstitutional, other provisions hereof which are not affected thereby shall continue to be in foll force and effect. SEC. 13. Repealing Clause. -All l~ws, decrees, or rules and regulations which are inconsistent with or contrary to the provisions of this Act are hereby amended or repealed. SEC. 14. Effectiuity. -This Act shall take effect fifteen (15) days after its publication ~n the Official Gazette or in two (2) national newspapers of general circulation. Approved. ~~,.~ - FELICIANO~~  Speaker of the House of Representatives . 5 This Act which is a consolidation of. Senate Bill No. 2488 and House Bill No. 4462 was finally passed by the Senate and   the House of Representatives on May 27, 2Dl5. .~ tf M~~~ Se_cretary General House. of Representatives Approved: l'JOC 2~l' ..   ~ '~ BE:N10Iro s. '.A..QUINO n1 . President of t e Philippines ~~ 0 1 11iioorfl 1 liiu 1namlm~i&11   PNOYOF649<br>"
      ],
      "text/plain": [
       "<IPython.core.display.Markdown object>"
      ]
     },
     "metadata": {},
     "output_type": "display_data"
    },
    {
     "data": {
      "text/markdown": [
       "**Node ID:** f13de0a0-e65d-455b-b0b4-ae0d9c1f5500<br>**Similarity:** 0.015625<br>**Text:** this Act and every five (5) years thereafter, review the applicability and enforcement of all foregoing pecuniary penalties and shall initiate amendment and/or upgrade the same as may be necessary, subject to the approval of the Secretary of the DOTC.1 wphi 1 Section 17. Implementing Rules and Regulations.   The DOTC, the DOH and the NAPOLCOM shall, within three (3) months from the effectivity of this Act, jointly promulgate the necessary implementing rules and regulations to carry out the provisions of this Act. Section 18. Separability Clause.   If, for any reason, any part or provision of this Act is declared invalid, such declaration shall not affect the other provisions of this Act. Section 19. Repealing Clause.   Subparagraph (f), Section 56, Article 1 of Republic Act No. 4136, otherwise known as the \"Land Transportation and Traffic Code\", as amended; subparagraph (f), Section 5 of Republic Act No. 7924, otherwise known as \"An Act Creating the Metropolitan Manila Development A...<br>"
      ],
      "text/plain": [
       "<IPython.core.display.Markdown object>"
      ]
     },
     "metadata": {},
     "output_type": "display_data"
    },
    {
     "data": {
      "text/markdown": [
       "**Node ID:** ec3b0b78-9b66-433b-bed1-081263e34660<br>**Similarity:** 0.015625<br>**Text:** S. No. 2488 H. No. 44 62 21\\r.publit of fqe Jl1Hippines filon2rrss of  4r J4Hippinrs cfrJHefro cfrJHauila Begun and held in Metro Manila, on Monday, the twenty-eighth day of July, two thousand fourteen .   l REPUBLIC Acr No. 10 6 6 6] AN ACT PROVIDING FOR THE SAFETY OF CHILDREN ABOARD MOTORCYLES Be ii enacled by tire Senate and House of Representatives of the Philippines in Congress assembled: SECTION l. Short Title. - This Act shall be known as \"Children's Safety on Motorcycles Act of 2015\". SEC. 2. Declaration of Policy. -It is the policy of the State to defend the right of children to assistance, including proper care and nutrition, and special protection from all forms of neglect, abuse, cruelty, exploitation, and other conditions prejudicial to their developmem. Towards this end, the State shall pursue a more proactive and preventive approach to secui:e the safety of passengers, especially children, by regulating the operation of motorcycles along roads and highways.<br>"
      ],
      "text/plain": [
       "<IPython.core.display.Markdown object>"
      ]
     },
     "metadata": {},
     "output_type": "display_data"
    },
    {
     "data": {
      "text/markdown": [
       "**Node ID:** f0a91c16-1fa1-42c1-9005-c3e3cdc6d699<br>**Similarity:** 0.015384615384615385<br>**Text:** Republic ofthe Philippines DEPARTMENT OF TRANSPORTATION SUBJECT + AMENDED GUIDELINES GOVERNING THE USE OR [ATTACHMENT OF SIRENS, BELLS, HORNS, WHISTLES (OR SIMILAR GADGETS THAT EMIT EXCEPTIONALLY [LOUD OR STARTLING SOUNDS AND DOME LIGHTS AND  OTHER SIMILAR SIGNALING OR FLASHING DEVICES ON MOTOR VEHICLES DATE 18 pprn 2006 WHEREAS, the Deparment of Tonsporaton (007?) the primary pokey, plannog. programming, coordinating, implementing,  and administrative enity of the  administer and enforce al laws, rules and regulation relative to transportation, WHEREAS, Presidential Decree No. 96 (PO 6), directed the Commissioner ofthe Land  Transportation to draw and promulgate rules and regulations necessary to give effect to  THE USE OR ATTACHMENT OF SIRENS, BELLS, HORNS, WHISTLES OR SIMILAR GADGETS WHEREAS, adhering to the said directv, the Bureau of Land Transportation (now the Land Transportation fice) issued Administrative Order No 1, series 1973 which set the  ules in regulations set forth ...<br>"
      ],
      "text/plain": [
       "<IPython.core.display.Markdown object>"
      ]
     },
     "metadata": {},
     "output_type": "display_data"
    },
    {
     "data": {
      "text/markdown": [
       "**Node ID:** af465d0b-a998-4f80-8d67-c28c228261c1<br>**Similarity:** 0.015151515151515152<br>**Text:** Department of Finance, Budget and management, an the Transportation and Communication, as ex officio members. The remaining three (3) members shall come from transport and motorist organization, which have been in existence and active for the last five (5) years prior to this Act. They shall be appointed for the term of two (2) years each by the President of the Philippines upon the recommendation of the secretaries of the DPWH and the DOTC. Section 8. Status of the Special Funds. - The four (4) special funds established under this Act shall be distinct and separate from and in addition in any appropriation authorized and granted yearly to the DPWH and the DOTC. To cover expenditures for the identified objects of expenditures under this Act. Congress shall continue to appropriate an amount in the General appropriations Act for road maintenance of the DPWH: Provided, however, That any savings for each year out of such appropriation shall revert to the General Fund. Any savings from t...<br>"
      ],
      "text/plain": [
       "<IPython.core.display.Markdown object>"
      ]
     },
     "metadata": {},
     "output_type": "display_data"
    },
    {
     "data": {
      "text/markdown": [
       "**Node ID:** 2bad6f02-0050-4b3e-9d69-e54085b11c62<br>**Similarity:** 0.014925373134328358<br>**Text:** Section 1. Administration and Enforcement These Implementing Rules and _Regulations shall be administered by the.,be- _ partment and/or its authorized representatives or through other government , agencies designated or deputized by the qepariment: or by this act, executive,. orders or memorandum circulars, and others. Section 2. Rules and Regulations of other Government Agencies The rules and regulations issued by other government agencies and. instru ~ mentalities for the prevention and/or abatement of pollution not consistent with this Act shall supplement the rules and regulations issu~d by the Department through the Bureau. Section 3. Authentication with Official Seal All decisions, orders and appropriate legal documents hereinafter pro_i'nul- gated shall be issued and authenticated with the official seal of the Department or other government agencies designated by this A~t. Section 4. Jurisdiction The Department through the Bureau shall have exclusive and original jurisdic- ti...<br>"
      ],
      "text/plain": [
       "<IPython.core.display.Markdown object>"
      ]
     },
     "metadata": {},
     "output_type": "display_data"
    },
    {
     "data": {
      "text/markdown": [
       "**Node ID:** b24bd770-f8c3-474f-8609-2919a1f0fb4c<br>**Similarity:** 0.014705882352941176<br>**Text:** \\. l.\\   .;: ._ ,..-\"j  \" ~i ~1 , I ..,..--, ~....,_ _I ,- ,   ! ' ,/' i . )\\ L ~ ~   . < . --<! 1 # l t. \" ' .> '\\?.E~..,AR,lfME~T OF PUBLIC WORKS . , .Go: AND HIGHWAYS DEPARTMENT OF TRANSPORTATION AND COMMUNICATIONS l ~ ' '. ' / IMPLEMENTING RULES AND REGULATIONS OF REPUBLIC ACT NO. 8794 (AN ACT IMPOSING A MOTOR VEHICLE USER'S CHARGE ON OWNERS OF ALL TYPES OF MOTOR VEHICLES AND FOR OTHER PURPOSES) The following joint Implementing Rules and Regulations, herein after referred to as IRR, are hereby issued by the Department of Public Works and Highways, hereinafter referred to as DPWH, and the Department of Transportation and Communications, hereinafter referred to as DoTC, pursuant to the provisions of Section 9 of Republic Act (R.A.) No. 8794, which provides, among others, for the imposition of a motor vehicle user's charge as well as the creation of a Board. Article I. Common Provisions 1. Declaration of Policy. Pursuant to Section 2 of R.A. 8794, it is the policy of the State to p...<br>"
      ],
      "text/plain": [
       "<IPython.core.display.Markdown object>"
      ]
     },
     "metadata": {},
     "output_type": "display_data"
    },
    {
     "data": {
      "text/markdown": [
       "**Node ID:** 5cdfae5a-4bd1-45ee-8f08-9f3a6326e70a<br>**Similarity:** 0.014492753623188406<br>**Text:** .. ' ., .  .. r . , '\\ ' \\ t \\ I   ' \\   ! ~ r   .. '  . . . c,.. \\ '\\. , ., ' . I   ' -.- Joint DPWH and Do TC IRR of R.A. 8794 the Philippine Clean Air Act of 1999 and its Implementing Rules and Regulations; and (h) To establish and implement the appropriate structural and procedural improvements to carry out these policies. 2. Establishment of Special Accounts. Pursuant to Section 7 of R.A. 8794, there shall be established four separate Special Trust Accounts in the National Treasury. DPWH shall, through the Department of Budget and Management (DBM), establish one separate Special Trust Account for each of the Special Road S~pport Fund, Special Local Road Fund and Special Road Safety Fund. Do TC shall, through DBM, establish one Special Trust Account for the Special Vehicle Pollution Control Fund. 3. Establishment and Composition of the Road Board. Pursuant to Section 7 of R.A. 8794, there has been established a Road Board (the Board) to manage in a prudent and efficient manner t...<br>"
      ],
      "text/plain": [
       "<IPython.core.display.Markdown object>"
      ]
     },
     "metadata": {},
     "output_type": "display_data"
    },
    {
     "name": "stdout",
     "output_type": "stream",
     "text": [
      "hit_rate: 1.0\n",
      "mrr: 1.0\n",
      "precision: 0.06666666666666667\n",
      "recall: 1.0\n",
      "ap: 1.0\n",
      "ndcg: 1.0\n",
      "\n",
      "\n",
      "Query: What was the outcome of the issuance by the DPWH on June 5, 1961 of Administrative Regulation No. 1?\n",
      "Metrics: {'hit_rate': 1.0, 'mrr': 1.0, 'precision': 0.06666666666666667, 'recall': 1.0, 'ap': 1.0, 'ndcg': 1.0}\n",
      "\n"
     ]
    }
   ],
   "source": [
    "evaluator = HybridRetrievalEvaluator.from_metric_names(\n",
    "    metric_names=metrics,\n",
    "    faiss_retriever=faiss_retriever,\n",
    "    bm25_retriever=bm25_retriever,\n",
    "    Print_Results=True  # Toggle as needed\n",
    ")\n",
    "\n",
    "sample_id, sample_query = list(qa_dataset.queries.items())[1]\n",
    "sample_expected = qa_dataset.relevant_docs[sample_id]\n",
    "\n",
    "print(\"Sample Problem:\")\n",
    "print(f\"sample id: {sample_id}, text: {sample_query}\")\n",
    "print(f\"sample exp: {sample_expected}\")\n",
    "\n",
    "print(\"\\nRetrieval results:\")\n",
    "\n",
    "result = await evaluator.aevaluate(\n",
    "    query=sample_query,\n",
    "    expected_ids=sample_expected\n",
    ")\n",
    "\n",
    "print(\"\\n\")\n",
    "print(result)"
   ]
  },
  {
   "cell_type": "code",
   "execution_count": 50,
   "id": "e6ea2b0c",
   "metadata": {},
   "outputs": [
    {
     "name": "stdout",
     "output_type": "stream",
     "text": [
      "hit_rate: 1.0\n",
      "mrr: 0.5\n",
      "precision: 0.06666666666666667\n",
      "recall: 1.0\n",
      "ap: 0.5\n",
      "ndcg: 0.6309297535714575\n",
      "hit_rate: 1.0\n",
      "mrr: 1.0\n",
      "precision: 0.06666666666666667\n",
      "recall: 1.0\n",
      "ap: 1.0\n",
      "ndcg: 1.0\n",
      "hit_rate: 1.0\n",
      "mrr: 0.3333333333333333\n",
      "precision: 0.06666666666666667\n",
      "recall: 1.0\n",
      "ap: 0.3333333333333333\n",
      "ndcg: 0.5\n",
      "hit_rate: 1.0\n",
      "mrr: 1.0\n",
      "precision: 0.06666666666666667\n",
      "recall: 1.0\n",
      "ap: 1.0\n",
      "ndcg: 1.0\n",
      "hit_rate: 0.0\n",
      "mrr: 0.0\n",
      "precision: 0.0\n",
      "recall: 0.0\n",
      "ap: 0.0\n",
      "ndcg: 0.0\n",
      "hit_rate: 1.0\n",
      "mrr: 0.5\n",
      "precision: 0.06666666666666667\n",
      "recall: 1.0\n",
      "ap: 0.5\n",
      "ndcg: 0.6309297535714575\n",
      "hit_rate: 1.0\n",
      "mrr: 0.5\n",
      "precision: 0.06666666666666667\n",
      "recall: 1.0\n",
      "ap: 0.5\n",
      "ndcg: 0.6309297535714575\n",
      "hit_rate: 1.0\n",
      "mrr: 0.5\n",
      "precision: 0.06666666666666667\n",
      "recall: 1.0\n",
      "ap: 0.5\n",
      "ndcg: 0.6309297535714575\n",
      "hit_rate: 1.0\n",
      "mrr: 0.5\n",
      "precision: 0.06666666666666667\n",
      "recall: 1.0\n",
      "ap: 0.5\n",
      "ndcg: 0.6309297535714575\n",
      "hit_rate: 0.0\n",
      "mrr: 0.0\n",
      "precision: 0.0\n",
      "recall: 0.0\n",
      "ap: 0.0\n",
      "ndcg: 0.0\n",
      "hit_rate: 1.0\n",
      "mrr: 1.0\n",
      "precision: 0.06666666666666667\n",
      "recall: 1.0\n",
      "ap: 1.0\n",
      "ndcg: 1.0\n",
      "hit_rate: 1.0\n",
      "mrr: 0.16666666666666666\n",
      "precision: 0.06666666666666667\n",
      "recall: 1.0\n",
      "ap: 0.16666666666666666\n",
      "ndcg: 0.3562071871080222\n",
      "hit_rate: 0.0\n",
      "mrr: 0.0\n",
      "precision: 0.0\n",
      "recall: 0.0\n",
      "ap: 0.0\n",
      "ndcg: 0.0\n",
      "hit_rate: 0.0\n",
      "mrr: 0.0\n",
      "precision: 0.0\n",
      "recall: 0.0\n",
      "ap: 0.0\n",
      "ndcg: 0.0\n",
      "hit_rate: 1.0\n",
      "mrr: 0.07692307692307693\n",
      "precision: 0.06666666666666667\n",
      "recall: 1.0\n",
      "ap: 0.07692307692307693\n",
      "ndcg: 0.26264953503719357\n",
      "hit_rate: 0.0\n",
      "mrr: 0.0\n",
      "precision: 0.0\n",
      "recall: 0.0\n",
      "ap: 0.0\n",
      "ndcg: 0.0\n",
      "hit_rate: 1.0\n",
      "mrr: 0.5\n",
      "precision: 0.06666666666666667\n",
      "recall: 1.0\n",
      "ap: 0.5\n",
      "ndcg: 0.6309297535714575\n",
      "hit_rate: 1.0\n",
      "mrr: 0.16666666666666666\n",
      "precision: 0.06666666666666667\n",
      "recall: 1.0\n",
      "ap: 0.16666666666666666\n",
      "ndcg: 0.3562071871080222\n",
      "hit_rate: 1.0\n",
      "mrr: 0.3333333333333333\n",
      "precision: 0.06666666666666667\n",
      "recall: 1.0\n",
      "ap: 0.3333333333333333\n",
      "ndcg: 0.5\n",
      "hit_rate: 0.0\n",
      "mrr: 0.0\n",
      "precision: 0.0\n",
      "recall: 0.0\n",
      "ap: 0.0\n",
      "ndcg: 0.0\n",
      "hit_rate: 1.0\n",
      "mrr: 1.0\n",
      "precision: 0.06666666666666667\n",
      "recall: 1.0\n",
      "ap: 1.0\n",
      "ndcg: 1.0\n",
      "hit_rate: 0.0\n",
      "mrr: 0.0\n",
      "precision: 0.0\n",
      "recall: 0.0\n",
      "ap: 0.0\n",
      "ndcg: 0.0\n",
      "hit_rate: 1.0\n",
      "mrr: 0.25\n",
      "precision: 0.06666666666666667\n",
      "recall: 1.0\n",
      "ap: 0.25\n",
      "ndcg: 0.43067655807339306\n",
      "hit_rate: 1.0\n",
      "mrr: 0.3333333333333333\n",
      "precision: 0.06666666666666667\n",
      "recall: 1.0\n",
      "ap: 0.3333333333333333\n",
      "ndcg: 0.5\n",
      "hit_rate: 0.0\n",
      "mrr: 0.0\n",
      "precision: 0.0\n",
      "recall: 0.0\n",
      "ap: 0.0\n",
      "ndcg: 0.0\n",
      "hit_rate: 1.0\n",
      "mrr: 0.5\n",
      "precision: 0.06666666666666667\n",
      "recall: 1.0\n",
      "ap: 0.5\n",
      "ndcg: 0.6309297535714575\n",
      "hit_rate: 1.0\n",
      "mrr: 0.16666666666666666\n",
      "precision: 0.06666666666666667\n",
      "recall: 1.0\n",
      "ap: 0.16666666666666666\n",
      "ndcg: 0.3562071871080222\n",
      "hit_rate: 0.0\n",
      "mrr: 0.0\n",
      "precision: 0.0\n",
      "recall: 0.0\n",
      "ap: 0.0\n",
      "ndcg: 0.0\n",
      "hit_rate: 1.0\n",
      "mrr: 0.5\n",
      "precision: 0.06666666666666667\n",
      "recall: 1.0\n",
      "ap: 0.5\n",
      "ndcg: 0.6309297535714575\n",
      "hit_rate: 0.0\n",
      "mrr: 0.0\n",
      "precision: 0.0\n",
      "recall: 0.0\n",
      "ap: 0.0\n",
      "ndcg: 0.0\n",
      "hit_rate: 1.0\n",
      "mrr: 1.0\n",
      "precision: 0.06666666666666667\n",
      "recall: 1.0\n",
      "ap: 1.0\n",
      "ndcg: 1.0\n",
      "hit_rate: 0.0\n",
      "mrr: 0.0\n",
      "precision: 0.0\n",
      "recall: 0.0\n",
      "ap: 0.0\n",
      "ndcg: 0.0\n",
      "hit_rate: 1.0\n",
      "mrr: 0.5\n",
      "precision: 0.06666666666666667\n",
      "recall: 1.0\n",
      "ap: 0.5\n",
      "ndcg: 0.6309297535714575\n",
      "hit_rate: 1.0\n",
      "mrr: 1.0\n",
      "precision: 0.06666666666666667\n",
      "recall: 1.0\n",
      "ap: 1.0\n",
      "ndcg: 1.0\n",
      "hit_rate: 1.0\n",
      "mrr: 0.5\n",
      "precision: 0.06666666666666667\n",
      "recall: 1.0\n",
      "ap: 0.5\n",
      "ndcg: 0.6309297535714575\n",
      "hit_rate: 1.0\n",
      "mrr: 0.3333333333333333\n",
      "precision: 0.06666666666666667\n",
      "recall: 1.0\n",
      "ap: 0.3333333333333333\n",
      "ndcg: 0.5\n",
      "hit_rate: 1.0\n",
      "mrr: 0.3333333333333333\n",
      "precision: 0.06666666666666667\n",
      "recall: 1.0\n",
      "ap: 0.3333333333333333\n",
      "ndcg: 0.5\n",
      "hit_rate: 0.0\n",
      "mrr: 0.0\n",
      "precision: 0.0\n",
      "recall: 0.0\n",
      "ap: 0.0\n",
      "ndcg: 0.0\n",
      "hit_rate: 1.0\n",
      "mrr: 0.5\n",
      "precision: 0.06666666666666667\n",
      "recall: 1.0\n",
      "ap: 0.5\n",
      "ndcg: 0.6309297535714575\n",
      "hit_rate: 1.0\n",
      "mrr: 0.06666666666666667\n",
      "precision: 0.06666666666666667\n",
      "recall: 1.0\n",
      "ap: 0.06666666666666667\n",
      "ndcg: 0.25\n",
      "hit_rate: 1.0\n",
      "mrr: 0.3333333333333333\n",
      "precision: 0.06666666666666667\n",
      "recall: 1.0\n",
      "ap: 0.3333333333333333\n",
      "ndcg: 0.5\n",
      "hit_rate: 1.0\n",
      "mrr: 1.0\n",
      "precision: 0.06666666666666667\n",
      "recall: 1.0\n",
      "ap: 1.0\n",
      "ndcg: 1.0\n",
      "hit_rate: 1.0\n",
      "mrr: 1.0\n",
      "precision: 0.06666666666666667\n",
      "recall: 1.0\n",
      "ap: 1.0\n",
      "ndcg: 1.0\n",
      "hit_rate: 0.0\n",
      "mrr: 0.0\n",
      "precision: 0.0\n",
      "recall: 0.0\n",
      "ap: 0.0\n",
      "ndcg: 0.0\n",
      "hit_rate: 1.0\n",
      "mrr: 1.0\n",
      "precision: 0.06666666666666667\n",
      "recall: 1.0\n",
      "ap: 1.0\n",
      "ndcg: 1.0\n",
      "hit_rate: 0.0\n",
      "mrr: 0.0\n",
      "precision: 0.0\n",
      "recall: 0.0\n",
      "ap: 0.0\n",
      "ndcg: 0.0\n",
      "hit_rate: 0.0\n",
      "mrr: 0.0\n",
      "precision: 0.0\n",
      "recall: 0.0\n",
      "ap: 0.0\n",
      "ndcg: 0.0\n",
      "hit_rate: 1.0\n",
      "mrr: 0.2\n",
      "precision: 0.06666666666666667\n",
      "recall: 1.0\n",
      "ap: 0.2\n",
      "ndcg: 0.38685280723454163\n",
      "hit_rate: 0.0\n",
      "mrr: 0.0\n",
      "precision: 0.0\n",
      "recall: 0.0\n",
      "ap: 0.0\n",
      "ndcg: 0.0\n",
      "hit_rate: 1.0\n",
      "mrr: 0.25\n",
      "precision: 0.06666666666666667\n",
      "recall: 1.0\n",
      "ap: 0.25\n",
      "ndcg: 0.43067655807339306\n",
      "hit_rate: 1.0\n",
      "mrr: 0.25\n",
      "precision: 0.06666666666666667\n",
      "recall: 1.0\n",
      "ap: 0.25\n",
      "ndcg: 0.43067655807339306\n",
      "hit_rate: 1.0\n",
      "mrr: 0.09090909090909091\n",
      "precision: 0.06666666666666667\n",
      "recall: 1.0\n",
      "ap: 0.09090909090909091\n",
      "ndcg: 0.27894294565112987\n",
      "hit_rate: 1.0\n",
      "mrr: 0.3333333333333333\n",
      "precision: 0.06666666666666667\n",
      "recall: 1.0\n",
      "ap: 0.3333333333333333\n",
      "ndcg: 0.5\n",
      "hit_rate: 1.0\n",
      "mrr: 1.0\n",
      "precision: 0.06666666666666667\n",
      "recall: 1.0\n",
      "ap: 1.0\n",
      "ndcg: 1.0\n",
      "hit_rate: 1.0\n",
      "mrr: 0.07692307692307693\n",
      "precision: 0.06666666666666667\n",
      "recall: 1.0\n",
      "ap: 0.07692307692307693\n",
      "ndcg: 0.26264953503719357\n",
      "hit_rate: 1.0\n",
      "mrr: 0.25\n",
      "precision: 0.06666666666666667\n",
      "recall: 1.0\n",
      "ap: 0.25\n",
      "ndcg: 0.43067655807339306\n",
      "hit_rate: 1.0\n",
      "mrr: 0.07692307692307693\n",
      "precision: 0.06666666666666667\n",
      "recall: 1.0\n",
      "ap: 0.07692307692307693\n",
      "ndcg: 0.26264953503719357\n",
      "hit_rate: 1.0\n",
      "mrr: 0.5\n",
      "precision: 0.06666666666666667\n",
      "recall: 1.0\n",
      "ap: 0.5\n",
      "ndcg: 0.6309297535714575\n",
      "hit_rate: 1.0\n",
      "mrr: 1.0\n",
      "precision: 0.06666666666666667\n",
      "recall: 1.0\n",
      "ap: 1.0\n",
      "ndcg: 1.0\n"
     ]
    },
    {
     "data": {
      "text/html": [
       "<div>\n",
       "<style scoped>\n",
       "    .dataframe tbody tr th:only-of-type {\n",
       "        vertical-align: middle;\n",
       "    }\n",
       "\n",
       "    .dataframe tbody tr th {\n",
       "        vertical-align: top;\n",
       "    }\n",
       "\n",
       "    .dataframe thead th {\n",
       "        text-align: right;\n",
       "    }\n",
       "</style>\n",
       "<table border=\"1\" class=\"dataframe\">\n",
       "  <thead>\n",
       "    <tr style=\"text-align: right;\">\n",
       "      <th></th>\n",
       "      <th>retrievers</th>\n",
       "      <th>hit_rate</th>\n",
       "      <th>mrr</th>\n",
       "      <th>precision</th>\n",
       "      <th>recall</th>\n",
       "      <th>ap</th>\n",
       "      <th>ndcg</th>\n",
       "    </tr>\n",
       "  </thead>\n",
       "  <tbody>\n",
       "    <tr>\n",
       "      <th>0</th>\n",
       "      <td>top-2 eval</td>\n",
       "      <td>0.728814</td>\n",
       "      <td>0.363079</td>\n",
       "      <td>0.048588</td>\n",
       "      <td>0.728814</td>\n",
       "      <td>0.363079</td>\n",
       "      <td>0.450275</td>\n",
       "    </tr>\n",
       "  </tbody>\n",
       "</table>\n",
       "</div>"
      ],
      "text/plain": [
       "   retrievers  hit_rate       mrr  precision    recall        ap      ndcg\n",
       "0  top-2 eval  0.728814  0.363079   0.048588  0.728814  0.363079  0.450275"
      ]
     },
     "execution_count": 50,
     "metadata": {},
     "output_type": "execute_result"
    }
   ],
   "source": [
    "evaluator = HybridRetrievalEvaluator.from_metric_names(\n",
    "    metric_names=metrics,\n",
    "    faiss_retriever=faiss_retriever,\n",
    "    bm25_retriever=bm25_retriever,\n",
    "    Print_Results=False  \n",
    ")\n",
    "\n",
    "eval_results = await evaluator.aevaluate_dataset(qa_dataset)\n",
    "\n",
    "def display_results(name, eval_results):\n",
    "    \"\"\"Display results from evaluate.\"\"\"\n",
    "\n",
    "    metric_dicts = []\n",
    "    for eval_result in eval_results:\n",
    "        metric_dict = eval_result.metric_vals_dict\n",
    "        metric_dicts.append(metric_dict)\n",
    "\n",
    "    full_df = pd.DataFrame(metric_dicts)\n",
    "\n",
    "    columns = {\n",
    "        \"retrievers\": [name],\n",
    "        **{k: [full_df[k].mean()] for k in metrics},\n",
    "    }\n",
    "\n",
    "    metric_df = pd.DataFrame(columns)\n",
    "\n",
    "    return metric_df\n",
    "\n",
    "display_results(\"top-2 eval\", eval_results)\n"
   ]
  },
  {
   "cell_type": "markdown",
   "id": "eaae0e11-d7d3-4713-8889-92c9a3f207f7",
   "metadata": {},
   "source": [
    "# 6. Post Retrieval"
   ]
  },
  {
   "cell_type": "markdown",
   "id": "43c29979-ba5f-4d9d-84f1-3252d9292b6d",
   "metadata": {},
   "source": [
    "## 6.A Summarization"
   ]
  },
  {
   "cell_type": "code",
   "execution_count": 51,
   "id": "a7e39ff7-4dec-4b10-8aee-b51d26e51fd8",
   "metadata": {},
   "outputs": [],
   "source": [
    "def summarize_each_chunk(nodes, client, query, model=\"llama3.1:8b\", parent=False):\n",
    "    if parent:\n",
    "        chunks = [doc.text for doc in nodes]\n",
    "    else:\n",
    "        chunks = [doc.node.text for doc in nodes]\n",
    "    summaries = []\n",
    "    \n",
    "    for i, chunk in enumerate(chunks):\n",
    "        prompt = f\"\"\"\n",
    "        Summarize the following text in one concise paragraph, focusing on key points relevant to the query: \"{query}\".\n",
    "        \n",
    "        - Emphasize information directly related to the query.\n",
    "        - Exclude unrelated, redundant, or speculative details.\n",
    "        - Do NOT introduce new information or answer the query itself. \n",
    "        \n",
    "        Text:\n",
    "        {chunk}\n",
    "        \n",
    "        Summary:\n",
    "        \"\"\"\n",
    "        \n",
    "        response = client.generate(model=model, prompt=prompt)\n",
    "        summary = response['response'].strip()\n",
    "        summaries.append(summary)\n",
    "\n",
    "    return summaries"
   ]
  },
  {
   "cell_type": "markdown",
   "id": "2e78c30d-7d4e-4ec2-b3fe-ecb64fadf88a",
   "metadata": {},
   "source": [
    "# 6.B Evaluation Generation"
   ]
  },
  {
   "cell_type": "code",
   "execution_count": 52,
   "id": "e11745b3-18d5-43cb-bb1d-c241c662d89d",
   "metadata": {},
   "outputs": [],
   "source": [
    "def generate_response_with_notice(summaries, query, client, model=\"llama3.1:8b\"):\n",
    "    # Combine summaries into context block\n",
    "    context = \"\\n\".join(summaries)\n",
    "    \n",
    "    # Create prompt to answer based on summarized text\n",
    "    prompt = f\"\"\"\n",
    "    Use the following summarized information to answer the query accurately and concisely. \n",
    "    DO NOT USE BACKGROUND KNOWLEDGE OUTSIDE THE CONTEXT PROVIDED.\n",
    "    If the information is not sufficient to fully address the query, respond ONLY with:\n",
    "    \"The available information is insufficient to provide a complete answer to this query.\"\n",
    "\n",
    "    Summarized Context:\n",
    "    {context}\n",
    "    \n",
    "    Query:\n",
    "    {query}\n",
    "    \n",
    "    Response:\n",
    "    \"\"\"\n",
    "    \n",
    "    # Send the prompt to Ollama\n",
    "    response = client.generate(\n",
    "        model=model,\n",
    "        prompt=prompt\n",
    "    )\n",
    "    \n",
    "    return response['response'].strip()"
   ]
  },
  {
   "cell_type": "markdown",
   "id": "e075a9f0-ea97-4d1e-b9f1-3b664b2196f8",
   "metadata": {},
   "source": [
    "# 7. Querying"
   ]
  },
  {
   "cell_type": "markdown",
   "id": "04693932-b45a-4bde-bf6c-00a7633822aa",
   "metadata": {},
   "source": [
    "## 7.A Query Transforms"
   ]
  },
  {
   "cell_type": "code",
   "execution_count": null,
   "id": "c4bed9fb",
   "metadata": {},
   "outputs": [],
   "source": []
  },
  {
   "cell_type": "markdown",
   "id": "aee70e7b-a863-47c7-898a-78977ce5473f",
   "metadata": {},
   "source": [
    "# 8. Query Generation"
   ]
  },
  {
   "cell_type": "code",
   "execution_count": 53,
   "id": "52a8f235-2430-4793-b0b4-17efd7f315a6",
   "metadata": {},
   "outputs": [],
   "source": [
    "docstore = {}\n",
    "\n",
    "# Store documents using full metadata as the key\n",
    "for doc in documents:\n",
    "    key = tuple(doc.metadata.items())  # Convert metadata to tuple for hashable key\n",
    "    docstore[key] = doc"
   ]
  },
  {
   "cell_type": "code",
   "execution_count": 54,
   "id": "cff1cba4-bd05-4429-a397-896f9e2dedfb",
   "metadata": {},
   "outputs": [],
   "source": [
    "def get_document_by_chunk_metadata(chunk_node):\n",
    "    # Convert chunk metadata to tuple for matching\n",
    "    metadata_key = tuple(chunk_node.metadata.items())\n",
    "\n",
    "    # Retrieve document from docstore\n",
    "    document = docstore.get(metadata_key)\n",
    "    return document"
   ]
  },
  {
   "cell_type": "code",
   "execution_count": 55,
   "id": "723b3e53-3f24-4280-ae9c-0e0ad7d57a68",
   "metadata": {},
   "outputs": [],
   "source": [
    "def remove_duplicate_documents(doc_list):\n",
    "    seen_ids = set()\n",
    "    unique_docs = []\n",
    "\n",
    "    for doc in doc_list:\n",
    "        if doc.doc_id not in seen_ids:\n",
    "            seen_ids.add(doc.doc_id)\n",
    "            unique_docs.append(doc)\n",
    "\n",
    "    return unique_docs"
   ]
  },
  {
   "cell_type": "code",
   "execution_count": 56,
   "id": "dcebca00-e74b-4b1f-a874-c00ce9dc6161",
   "metadata": {},
   "outputs": [],
   "source": [
    "def gen_query(query, top_k, client, mode='dense', summary=False, model=\"llama3.1:8b\", chunks_only=False):\n",
    "    response = client.embeddings(prompt=query, model=\"mxbai-embed-large\")\n",
    "    query_embedding = response[\"embedding\"]\n",
    "\n",
    "    top_k_docs = faiss_retriever._retrieve(query_embedding, top_k=top_k)\n",
    "\n",
    "    bm25_retriever = BM25Retriever.from_defaults(\n",
    "    nodes=nodes,\n",
    "    similarity_top_k=top_k,\n",
    "    stemmer=Stemmer.Stemmer(\"english\"),\n",
    "    language=\"english\",\n",
    "    )\n",
    "    retrieved_nodes = bm25_retriever.retrieve(query)\n",
    "\n",
    "    results = {'faiss': top_k_docs, 'bm25':retrieved_nodes}\n",
    "    ranked_results = hybrid_embedding(results, top_k=top_k)\n",
    "\n",
    "    if mode == 'dense':\n",
    "        print('using FAISS')\n",
    "        ans_nodes =top_k_docs\n",
    "    elif mode == 'sparse':\n",
    "        print('using BM25')\n",
    "        ans_nodes = retrieved_nodes\n",
    "    else:\n",
    "        print('using Hybrid')\n",
    "        ans_nodes = ranked_results\n",
    "\n",
    "    parent_flag = True\n",
    "    context = set([get_document_by_chunk_metadata(docs).text for docs in ans_nodes])\n",
    "    if chunks_only:\n",
    "        parent_flag = False\n",
    "        print('using chunks only')\n",
    "        context = [docs.node.text for docs in ans_nodes]\n",
    "        \n",
    "    if summary:\n",
    "        print('using summaries')\n",
    "        context_nodes = remove_duplicate_documents([get_document_by_chunk_metadata(docs) for docs in ans_nodes])\n",
    "\n",
    "        if chunks_only:\n",
    "            context_nodes=ans_nodes\n",
    "        summaries = summarize_each_chunk(context_nodes, client, model='llama3.1:8b', query=query,parent=parent_flag)\n",
    "        context = summaries\n",
    "\n",
    "    answer = generate_response_with_notice(context, query, client, model=model)\n",
    "\n",
    "    # Format the references\n",
    "    references = []\n",
    "    for i, doc in enumerate(ranked_results[:top_k], start=1):\n",
    "        metadata = doc.metadata\n",
    "        source_info = f\"Source {i}: {metadata['title']} (Page {metadata['page']}, Folder: {metadata['folder']})\"\n",
    "        references.append(source_info)\n",
    "\n",
    "    return answer, \"\\n\".join(references), \"\\n\".join(context)"
   ]
  },
  {
   "cell_type": "markdown",
   "id": "00842045-d62a-4b01-b306-f637856c769c",
   "metadata": {},
   "source": [
    "# 9. TDC Exam Evaluation"
   ]
  },
  {
   "cell_type": "code",
   "execution_count": 57,
   "id": "719d3b48-6639-423f-957d-82cda52de114",
   "metadata": {},
   "outputs": [],
   "source": [
    "# Generate prompts dynamically\n",
    "def generate_prompt(row):\n",
    "    options = []\n",
    "    for choice in ['A', 'B', 'C', 'D', 'E']:\n",
    "        # Check for NaN or blank values\n",
    "        if pd.notna(row[choice]) and row[choice] != '':\n",
    "            options.append(f\"{choice}. {row[choice]}\")\n",
    "    \n",
    "    # Construct the prompt with few-shot examples\n",
    "    prompt = f\"\\nActual Question: {row['Question']}\\n\" + \"\\n\".join(options)\n",
    "    prompt += \"\\nPlease answer only in letters and put them inside a bracket '[]'. If the question contains the statement 'Check all that apply' then add comma separator if there are multiple answers ONLY IF ALLOWED.\"\n",
    "    \n",
    "    return prompt"
   ]
  },
  {
   "cell_type": "code",
   "execution_count": 58,
   "id": "b16ce73b-abc7-460c-b15b-f39bc5209786",
   "metadata": {},
   "outputs": [
    {
     "data": {
      "text/html": [
       "<div>\n",
       "<style scoped>\n",
       "    .dataframe tbody tr th:only-of-type {\n",
       "        vertical-align: middle;\n",
       "    }\n",
       "\n",
       "    .dataframe tbody tr th {\n",
       "        vertical-align: top;\n",
       "    }\n",
       "\n",
       "    .dataframe thead th {\n",
       "        text-align: right;\n",
       "    }\n",
       "</style>\n",
       "<table border=\"1\" class=\"dataframe\">\n",
       "  <thead>\n",
       "    <tr style=\"text-align: right;\">\n",
       "      <th></th>\n",
       "      <th>Question</th>\n",
       "      <th>A</th>\n",
       "      <th>B</th>\n",
       "      <th>C</th>\n",
       "      <th>D</th>\n",
       "      <th>E</th>\n",
       "      <th>Answer</th>\n",
       "      <th>Prompt</th>\n",
       "    </tr>\n",
       "  </thead>\n",
       "  <tbody>\n",
       "    <tr>\n",
       "      <th>0</th>\n",
       "      <td>What should you do in case your vehicle breaks...</td>\n",
       "      <td>Open your trunk and hood</td>\n",
       "      <td>Stand on the expressway and flag down passing ...</td>\n",
       "      <td>Call for help using a mobile phone or an expre...</td>\n",
       "      <td>Park as far to the right as possible</td>\n",
       "      <td>Put your hazard warning light on</td>\n",
       "      <td>A, C, D, E</td>\n",
       "      <td>\\nActual Question: What should you do in case ...</td>\n",
       "    </tr>\n",
       "    <tr>\n",
       "      <th>1</th>\n",
       "      <td>What will happen when your front tire blows out?</td>\n",
       "      <td>The back end will sway towards the side of the...</td>\n",
       "      <td>The back end will sway away from the blowout</td>\n",
       "      <td>The front end will pull towards the side of th...</td>\n",
       "      <td>The front end will pull to the opposite side o...</td>\n",
       "      <td>NaN</td>\n",
       "      <td>C</td>\n",
       "      <td>\\nActual Question: What will happen when your ...</td>\n",
       "    </tr>\n",
       "    <tr>\n",
       "      <th>2</th>\n",
       "      <td>What should you do when an ambulance comes up ...</td>\n",
       "      <td>Stop as soon as you can</td>\n",
       "      <td>Maintain your speed, let the ambulance driver ...</td>\n",
       "      <td>Speed up so that you don't hold the ambulance</td>\n",
       "      <td>Pull over to the right and slow down or even s...</td>\n",
       "      <td>NaN</td>\n",
       "      <td>D</td>\n",
       "      <td>\\nActual Question: What should you do when an ...</td>\n",
       "    </tr>\n",
       "    <tr>\n",
       "      <th>3</th>\n",
       "      <td>While driving the hood of your car lifts up bl...</td>\n",
       "      <td>Look through the gap underneath the hood or ou...</td>\n",
       "      <td>Brake suddenly so you don't leave the road</td>\n",
       "      <td>Pull to the side of the road and refasten the ...</td>\n",
       "      <td>Turn your headlights on and look out of the si...</td>\n",
       "      <td>NaN</td>\n",
       "      <td>A,C</td>\n",
       "      <td>\\nActual Question: While driving the hood of y...</td>\n",
       "    </tr>\n",
       "    <tr>\n",
       "      <th>4</th>\n",
       "      <td>In case of an accident, the first duty of the ...</td>\n",
       "      <td>pick-up the injured person and take him to the...</td>\n",
       "      <td>report the accident to the nearest hospital</td>\n",
       "      <td>report the accident to the nearest police station</td>\n",
       "      <td>NaN</td>\n",
       "      <td>NaN</td>\n",
       "      <td>A</td>\n",
       "      <td>\\nActual Question: In case of an accident, the...</td>\n",
       "    </tr>\n",
       "  </tbody>\n",
       "</table>\n",
       "</div>"
      ],
      "text/plain": [
       "                                            Question  \\\n",
       "0  What should you do in case your vehicle breaks...   \n",
       "1   What will happen when your front tire blows out?   \n",
       "2  What should you do when an ambulance comes up ...   \n",
       "3  While driving the hood of your car lifts up bl...   \n",
       "4  In case of an accident, the first duty of the ...   \n",
       "\n",
       "                                                   A  \\\n",
       "0                           Open your trunk and hood   \n",
       "1  The back end will sway towards the side of the...   \n",
       "2                            Stop as soon as you can   \n",
       "3  Look through the gap underneath the hood or ou...   \n",
       "4  pick-up the injured person and take him to the...   \n",
       "\n",
       "                                                   B  \\\n",
       "0  Stand on the expressway and flag down passing ...   \n",
       "1       The back end will sway away from the blowout   \n",
       "2  Maintain your speed, let the ambulance driver ...   \n",
       "3         Brake suddenly so you don't leave the road   \n",
       "4        report the accident to the nearest hospital   \n",
       "\n",
       "                                                   C  \\\n",
       "0  Call for help using a mobile phone or an expre...   \n",
       "1  The front end will pull towards the side of th...   \n",
       "2      Speed up so that you don't hold the ambulance   \n",
       "3  Pull to the side of the road and refasten the ...   \n",
       "4  report the accident to the nearest police station   \n",
       "\n",
       "                                                   D  \\\n",
       "0               Park as far to the right as possible   \n",
       "1  The front end will pull to the opposite side o...   \n",
       "2  Pull over to the right and slow down or even s...   \n",
       "3  Turn your headlights on and look out of the si...   \n",
       "4                                                NaN   \n",
       "\n",
       "                                  E      Answer  \\\n",
       "0  Put your hazard warning light on  A, C, D, E   \n",
       "1                               NaN           C   \n",
       "2                               NaN           D   \n",
       "3                               NaN         A,C   \n",
       "4                               NaN           A   \n",
       "\n",
       "                                              Prompt  \n",
       "0  \\nActual Question: What should you do in case ...  \n",
       "1  \\nActual Question: What will happen when your ...  \n",
       "2  \\nActual Question: What should you do when an ...  \n",
       "3  \\nActual Question: While driving the hood of y...  \n",
       "4  \\nActual Question: In case of an accident, the...  "
      ]
     },
     "metadata": {},
     "output_type": "display_data"
    }
   ],
   "source": [
    "# Load the Excel file\n",
    "file_path = '/mnt/c/Users/Jeryl Salas/Documents/AI 351/Project/LTO_EXAM.csv'\n",
    "df = pd.read_csv(file_path)\n",
    "df['Prompt'] = df.apply(generate_prompt, axis=1)\n",
    "display(df.head())"
   ]
  },
  {
   "cell_type": "code",
   "execution_count": 59,
   "id": "9450c855-2480-4843-9b09-8d0af0a917a7",
   "metadata": {},
   "outputs": [
    {
     "name": "stderr",
     "output_type": "stream",
     "text": [
      "  0%|          | 0/60 [00:00<?, ?it/s]"
     ]
    },
    {
     "name": "stdout",
     "output_type": "stream",
     "text": [
      "using Hybrid\n"
     ]
    },
    {
     "name": "stderr",
     "output_type": "stream",
     "text": [
      "  2%|▏         | 1/60 [00:25<25:32, 25.98s/it]"
     ]
    },
    {
     "name": "stdout",
     "output_type": "stream",
     "text": [
      "using Hybrid\n"
     ]
    },
    {
     "name": "stderr",
     "output_type": "stream",
     "text": [
      "  3%|▎         | 2/60 [00:49<23:39, 24.48s/it]"
     ]
    },
    {
     "name": "stdout",
     "output_type": "stream",
     "text": [
      "using Hybrid\n"
     ]
    },
    {
     "name": "stderr",
     "output_type": "stream",
     "text": [
      "  5%|▌         | 3/60 [01:14<23:37, 24.87s/it]"
     ]
    },
    {
     "name": "stdout",
     "output_type": "stream",
     "text": [
      "using Hybrid\n"
     ]
    },
    {
     "name": "stderr",
     "output_type": "stream",
     "text": [
      "  7%|▋         | 4/60 [01:37<22:35, 24.21s/it]"
     ]
    },
    {
     "name": "stdout",
     "output_type": "stream",
     "text": [
      "using Hybrid\n"
     ]
    },
    {
     "name": "stderr",
     "output_type": "stream",
     "text": [
      "  8%|▊         | 5/60 [02:01<22:01, 24.02s/it]"
     ]
    },
    {
     "name": "stdout",
     "output_type": "stream",
     "text": [
      "using Hybrid\n"
     ]
    },
    {
     "name": "stderr",
     "output_type": "stream",
     "text": [
      " 10%|█         | 6/60 [02:29<22:44, 25.27s/it]"
     ]
    },
    {
     "name": "stdout",
     "output_type": "stream",
     "text": [
      "using Hybrid\n"
     ]
    },
    {
     "name": "stderr",
     "output_type": "stream",
     "text": [
      " 12%|█▏        | 7/60 [02:54<22:14, 25.18s/it]"
     ]
    },
    {
     "name": "stdout",
     "output_type": "stream",
     "text": [
      "using Hybrid\n"
     ]
    },
    {
     "name": "stderr",
     "output_type": "stream",
     "text": [
      " 13%|█▎        | 8/60 [03:19<21:53, 25.25s/it]"
     ]
    },
    {
     "name": "stdout",
     "output_type": "stream",
     "text": [
      "using Hybrid\n"
     ]
    },
    {
     "name": "stderr",
     "output_type": "stream",
     "text": [
      " 15%|█▌        | 9/60 [03:42<20:49, 24.50s/it]"
     ]
    },
    {
     "name": "stdout",
     "output_type": "stream",
     "text": [
      "using Hybrid\n"
     ]
    },
    {
     "name": "stderr",
     "output_type": "stream",
     "text": [
      " 17%|█▋        | 10/60 [04:10<21:12, 25.44s/it]"
     ]
    },
    {
     "name": "stdout",
     "output_type": "stream",
     "text": [
      "using Hybrid\n"
     ]
    },
    {
     "name": "stderr",
     "output_type": "stream",
     "text": [
      " 18%|█▊        | 11/60 [04:34<20:36, 25.24s/it]"
     ]
    },
    {
     "name": "stdout",
     "output_type": "stream",
     "text": [
      "using Hybrid\n"
     ]
    },
    {
     "name": "stderr",
     "output_type": "stream",
     "text": [
      " 20%|██        | 12/60 [05:01<20:27, 25.58s/it]"
     ]
    },
    {
     "name": "stdout",
     "output_type": "stream",
     "text": [
      "using Hybrid\n"
     ]
    },
    {
     "name": "stderr",
     "output_type": "stream",
     "text": [
      " 22%|██▏       | 13/60 [05:25<19:44, 25.19s/it]"
     ]
    },
    {
     "name": "stdout",
     "output_type": "stream",
     "text": [
      "using Hybrid\n"
     ]
    },
    {
     "name": "stderr",
     "output_type": "stream",
     "text": [
      " 23%|██▎       | 14/60 [05:50<19:08, 24.97s/it]"
     ]
    },
    {
     "name": "stdout",
     "output_type": "stream",
     "text": [
      "using Hybrid\n"
     ]
    },
    {
     "name": "stderr",
     "output_type": "stream",
     "text": [
      " 25%|██▌       | 15/60 [05:55<14:12, 18.95s/it]"
     ]
    },
    {
     "name": "stdout",
     "output_type": "stream",
     "text": [
      "using Hybrid\n"
     ]
    },
    {
     "name": "stderr",
     "output_type": "stream",
     "text": [
      " 27%|██▋       | 16/60 [06:20<15:25, 21.04s/it]"
     ]
    },
    {
     "name": "stdout",
     "output_type": "stream",
     "text": [
      "using Hybrid\n"
     ]
    },
    {
     "name": "stderr",
     "output_type": "stream",
     "text": [
      " 28%|██▊       | 17/60 [06:42<15:06, 21.08s/it]"
     ]
    },
    {
     "name": "stdout",
     "output_type": "stream",
     "text": [
      "using Hybrid\n"
     ]
    },
    {
     "name": "stderr",
     "output_type": "stream",
     "text": [
      " 30%|███       | 18/60 [07:10<16:15, 23.23s/it]"
     ]
    },
    {
     "name": "stdout",
     "output_type": "stream",
     "text": [
      "using Hybrid\n"
     ]
    },
    {
     "name": "stderr",
     "output_type": "stream",
     "text": [
      " 32%|███▏      | 19/60 [07:36<16:25, 24.05s/it]"
     ]
    },
    {
     "name": "stdout",
     "output_type": "stream",
     "text": [
      "using Hybrid\n"
     ]
    },
    {
     "name": "stderr",
     "output_type": "stream",
     "text": [
      " 33%|███▎      | 20/60 [08:01<16:18, 24.45s/it]"
     ]
    },
    {
     "name": "stdout",
     "output_type": "stream",
     "text": [
      "using Hybrid\n"
     ]
    },
    {
     "name": "stderr",
     "output_type": "stream",
     "text": [
      " 35%|███▌      | 21/60 [08:24<15:31, 23.89s/it]"
     ]
    },
    {
     "name": "stdout",
     "output_type": "stream",
     "text": [
      "using Hybrid\n"
     ]
    },
    {
     "name": "stderr",
     "output_type": "stream",
     "text": [
      " 37%|███▋      | 22/60 [08:50<15:36, 24.64s/it]"
     ]
    },
    {
     "name": "stdout",
     "output_type": "stream",
     "text": [
      "using Hybrid\n"
     ]
    },
    {
     "name": "stderr",
     "output_type": "stream",
     "text": [
      " 38%|███▊      | 23/60 [09:15<15:19, 24.84s/it]"
     ]
    },
    {
     "name": "stdout",
     "output_type": "stream",
     "text": [
      "using Hybrid\n"
     ]
    },
    {
     "name": "stderr",
     "output_type": "stream",
     "text": [
      " 40%|████      | 24/60 [09:40<14:54, 24.85s/it]"
     ]
    },
    {
     "name": "stdout",
     "output_type": "stream",
     "text": [
      "using Hybrid\n"
     ]
    },
    {
     "name": "stderr",
     "output_type": "stream",
     "text": [
      " 42%|████▏     | 25/60 [10:05<14:24, 24.70s/it]"
     ]
    },
    {
     "name": "stdout",
     "output_type": "stream",
     "text": [
      "using Hybrid\n"
     ]
    },
    {
     "name": "stderr",
     "output_type": "stream",
     "text": [
      " 43%|████▎     | 26/60 [10:30<14:04, 24.85s/it]"
     ]
    },
    {
     "name": "stdout",
     "output_type": "stream",
     "text": [
      "using Hybrid\n"
     ]
    },
    {
     "name": "stderr",
     "output_type": "stream",
     "text": [
      " 45%|████▌     | 27/60 [10:52<13:15, 24.10s/it]"
     ]
    },
    {
     "name": "stdout",
     "output_type": "stream",
     "text": [
      "using Hybrid\n"
     ]
    },
    {
     "name": "stderr",
     "output_type": "stream",
     "text": [
      " 47%|████▋     | 28/60 [11:15<12:39, 23.74s/it]"
     ]
    },
    {
     "name": "stdout",
     "output_type": "stream",
     "text": [
      "using Hybrid\n"
     ]
    },
    {
     "name": "stderr",
     "output_type": "stream",
     "text": [
      " 48%|████▊     | 29/60 [11:39<12:18, 23.82s/it]"
     ]
    },
    {
     "name": "stdout",
     "output_type": "stream",
     "text": [
      "using Hybrid\n"
     ]
    },
    {
     "name": "stderr",
     "output_type": "stream",
     "text": [
      " 50%|█████     | 30/60 [12:07<12:28, 24.96s/it]"
     ]
    },
    {
     "name": "stdout",
     "output_type": "stream",
     "text": [
      "using Hybrid\n"
     ]
    },
    {
     "name": "stderr",
     "output_type": "stream",
     "text": [
      " 52%|█████▏    | 31/60 [12:31<12:00, 24.84s/it]"
     ]
    },
    {
     "name": "stdout",
     "output_type": "stream",
     "text": [
      "using Hybrid\n"
     ]
    },
    {
     "name": "stderr",
     "output_type": "stream",
     "text": [
      " 53%|█████▎    | 32/60 [12:56<11:36, 24.88s/it]"
     ]
    },
    {
     "name": "stdout",
     "output_type": "stream",
     "text": [
      "using Hybrid\n"
     ]
    },
    {
     "name": "stderr",
     "output_type": "stream",
     "text": [
      " 55%|█████▌    | 33/60 [13:20<11:02, 24.55s/it]"
     ]
    },
    {
     "name": "stdout",
     "output_type": "stream",
     "text": [
      "using Hybrid\n"
     ]
    },
    {
     "name": "stderr",
     "output_type": "stream",
     "text": [
      " 57%|█████▋    | 34/60 [13:43<10:24, 24.03s/it]"
     ]
    },
    {
     "name": "stdout",
     "output_type": "stream",
     "text": [
      "using Hybrid\n"
     ]
    },
    {
     "name": "stderr",
     "output_type": "stream",
     "text": [
      " 58%|█████▊    | 35/60 [14:10<10:21, 24.87s/it]"
     ]
    },
    {
     "name": "stdout",
     "output_type": "stream",
     "text": [
      "using Hybrid\n"
     ]
    },
    {
     "name": "stderr",
     "output_type": "stream",
     "text": [
      " 60%|██████    | 36/60 [14:35<10:02, 25.11s/it]"
     ]
    },
    {
     "name": "stdout",
     "output_type": "stream",
     "text": [
      "using Hybrid\n"
     ]
    },
    {
     "name": "stderr",
     "output_type": "stream",
     "text": [
      " 62%|██████▏   | 37/60 [15:00<09:33, 24.94s/it]"
     ]
    },
    {
     "name": "stdout",
     "output_type": "stream",
     "text": [
      "using Hybrid\n"
     ]
    },
    {
     "name": "stderr",
     "output_type": "stream",
     "text": [
      " 63%|██████▎   | 38/60 [15:22<08:48, 24.04s/it]"
     ]
    },
    {
     "name": "stdout",
     "output_type": "stream",
     "text": [
      "using Hybrid\n"
     ]
    },
    {
     "name": "stderr",
     "output_type": "stream",
     "text": [
      " 65%|██████▌   | 39/60 [15:49<08:44, 24.98s/it]"
     ]
    },
    {
     "name": "stdout",
     "output_type": "stream",
     "text": [
      "using Hybrid\n"
     ]
    },
    {
     "name": "stderr",
     "output_type": "stream",
     "text": [
      " 67%|██████▋   | 40/60 [16:14<08:19, 24.96s/it]"
     ]
    },
    {
     "name": "stdout",
     "output_type": "stream",
     "text": [
      "using Hybrid\n"
     ]
    },
    {
     "name": "stderr",
     "output_type": "stream",
     "text": [
      " 68%|██████▊   | 41/60 [16:39<07:56, 25.08s/it]"
     ]
    },
    {
     "name": "stdout",
     "output_type": "stream",
     "text": [
      "using Hybrid\n"
     ]
    },
    {
     "name": "stderr",
     "output_type": "stream",
     "text": [
      " 70%|███████   | 42/60 [17:04<07:30, 25.05s/it]"
     ]
    },
    {
     "name": "stdout",
     "output_type": "stream",
     "text": [
      "using Hybrid\n"
     ]
    },
    {
     "name": "stderr",
     "output_type": "stream",
     "text": [
      " 72%|███████▏  | 43/60 [17:09<05:21, 18.94s/it]"
     ]
    },
    {
     "name": "stdout",
     "output_type": "stream",
     "text": [
      "using Hybrid\n"
     ]
    },
    {
     "name": "stderr",
     "output_type": "stream",
     "text": [
      " 73%|███████▎  | 44/60 [17:33<05:26, 20.43s/it]"
     ]
    },
    {
     "name": "stdout",
     "output_type": "stream",
     "text": [
      "using Hybrid\n"
     ]
    },
    {
     "name": "stderr",
     "output_type": "stream",
     "text": [
      " 75%|███████▌  | 45/60 [18:00<05:37, 22.53s/it]"
     ]
    },
    {
     "name": "stdout",
     "output_type": "stream",
     "text": [
      "using Hybrid\n"
     ]
    },
    {
     "name": "stderr",
     "output_type": "stream",
     "text": [
      " 77%|███████▋  | 46/60 [18:30<05:46, 24.74s/it]"
     ]
    },
    {
     "name": "stdout",
     "output_type": "stream",
     "text": [
      "using Hybrid\n"
     ]
    },
    {
     "name": "stderr",
     "output_type": "stream",
     "text": [
      " 78%|███████▊  | 47/60 [18:56<05:26, 25.11s/it]"
     ]
    },
    {
     "name": "stdout",
     "output_type": "stream",
     "text": [
      "using Hybrid\n"
     ]
    },
    {
     "name": "stderr",
     "output_type": "stream",
     "text": [
      " 80%|████████  | 48/60 [19:22<05:04, 25.41s/it]"
     ]
    },
    {
     "name": "stdout",
     "output_type": "stream",
     "text": [
      "using Hybrid\n"
     ]
    },
    {
     "name": "stderr",
     "output_type": "stream",
     "text": [
      " 82%|████████▏ | 49/60 [19:53<04:55, 26.85s/it]"
     ]
    },
    {
     "name": "stdout",
     "output_type": "stream",
     "text": [
      "using Hybrid\n"
     ]
    },
    {
     "name": "stderr",
     "output_type": "stream",
     "text": [
      " 83%|████████▎ | 50/60 [20:18<04:25, 26.56s/it]"
     ]
    },
    {
     "name": "stdout",
     "output_type": "stream",
     "text": [
      "using Hybrid\n"
     ]
    },
    {
     "name": "stderr",
     "output_type": "stream",
     "text": [
      " 85%|████████▌ | 51/60 [20:49<04:10, 27.80s/it]"
     ]
    },
    {
     "name": "stdout",
     "output_type": "stream",
     "text": [
      "using Hybrid\n"
     ]
    },
    {
     "name": "stderr",
     "output_type": "stream",
     "text": [
      " 87%|████████▋ | 52/60 [21:15<03:38, 27.29s/it]"
     ]
    },
    {
     "name": "stdout",
     "output_type": "stream",
     "text": [
      "using Hybrid\n"
     ]
    },
    {
     "name": "stderr",
     "output_type": "stream",
     "text": [
      " 88%|████████▊ | 53/60 [21:19<02:21, 20.23s/it]"
     ]
    },
    {
     "name": "stdout",
     "output_type": "stream",
     "text": [
      "using Hybrid\n"
     ]
    },
    {
     "name": "stderr",
     "output_type": "stream",
     "text": [
      " 90%|█████████ | 54/60 [21:23<01:32, 15.39s/it]"
     ]
    },
    {
     "name": "stdout",
     "output_type": "stream",
     "text": [
      "using Hybrid\n"
     ]
    },
    {
     "name": "stderr",
     "output_type": "stream",
     "text": [
      " 92%|█████████▏| 55/60 [21:27<00:59, 11.91s/it]"
     ]
    },
    {
     "name": "stdout",
     "output_type": "stream",
     "text": [
      "using Hybrid\n"
     ]
    },
    {
     "name": "stderr",
     "output_type": "stream",
     "text": [
      " 93%|█████████▎| 56/60 [21:49<01:00, 15.07s/it]"
     ]
    },
    {
     "name": "stdout",
     "output_type": "stream",
     "text": [
      "using Hybrid\n"
     ]
    },
    {
     "name": "stderr",
     "output_type": "stream",
     "text": [
      " 95%|█████████▌| 57/60 [22:12<00:52, 17.36s/it]"
     ]
    },
    {
     "name": "stdout",
     "output_type": "stream",
     "text": [
      "using Hybrid\n"
     ]
    },
    {
     "name": "stderr",
     "output_type": "stream",
     "text": [
      " 97%|█████████▋| 58/60 [22:17<00:27, 13.64s/it]"
     ]
    },
    {
     "name": "stdout",
     "output_type": "stream",
     "text": [
      "using Hybrid\n"
     ]
    },
    {
     "name": "stderr",
     "output_type": "stream",
     "text": [
      " 98%|█████████▊| 59/60 [22:45<00:17, 17.87s/it]"
     ]
    },
    {
     "name": "stdout",
     "output_type": "stream",
     "text": [
      "using Hybrid\n"
     ]
    },
    {
     "name": "stderr",
     "output_type": "stream",
     "text": [
      "100%|██████████| 60/60 [23:05<00:00, 23.09s/it]\n",
      "/tmp/ipykernel_83561/4197674913.py:7: FutureWarning: Setting an item of incompatible dtype is deprecated and will raise an error in a future version of pandas. Value '['[C, D, E]', '[B]', '[A]', '[A, C, D]', '[C]', '[BC]', '[A, B]', '[A]', '[C]', '[B]', '[A]', '[A] is the correct answer because it is explicitly stated as not being a good trait of a driver, whereas [B] and [C] do not have any negative connotations in this context.', '[A]', '[C]', '[B]', '[A. 5 years and above, B. 7 years and above]', '[C]', '[A]', '[B]', '[C]', '[A]', '[A]', '[C]', '[A, B]', '[C]', '[C]', '[A]', '[C]', '[A, C]', '[A]', '[left, right]', '[A]', '[B]', '[C]', '[C]', '[B]', '[B]', '[A]', '[A]', '[B]', '[B]', '[A]', '[A]', '[A] should not', '[B]', '[B]', '[A]', '[A]', '[A]', '[C]', '[B]', '[A, C]', '[A]', '[B]', '[A]', '[B]', '[A]', '[A]', '[B]', '[C]']' has dtype incompatible with float64, please explicitly cast to a compatible dtype first.\n",
      "  df.loc[qr_range[0]:qr_range[1]-1, \"AI\"] = [answ[0] for answ in ai_answer]\n"
     ]
    }
   ],
   "source": [
    "qr_range = (0,60)\n",
    "df[\"AI\"] = np.nan\n",
    "ai_answer = []\n",
    "for i in tqdm(range(*qr_range)):\n",
    "    ai_answer.append(gen_query(df.loc[i,\"Prompt\"], top_k=15, client=client, mode='hybrid', model=\"llama3.1:8b\"))\n",
    "\n",
    "df.loc[qr_range[0]:qr_range[1]-1, \"AI\"] = [answ[0] for answ in ai_answer]\n",
    "df.loc[qr_range[0]:qr_range[1]-1, \"Context\"] = [answ[2] for answ in ai_answer]"
   ]
  },
  {
   "cell_type": "code",
   "execution_count": 60,
   "id": "ad5ce417",
   "metadata": {},
   "outputs": [
    {
     "name": "stdout",
     "output_type": "stream",
     "text": [
      "Final Score: 33.00/60.00\n",
      "Accuracy: 0.55%\n"
     ]
    },
    {
     "data": {
      "text/html": [
       "<div>\n",
       "<style scoped>\n",
       "    .dataframe tbody tr th:only-of-type {\n",
       "        vertical-align: middle;\n",
       "    }\n",
       "\n",
       "    .dataframe tbody tr th {\n",
       "        vertical-align: top;\n",
       "    }\n",
       "\n",
       "    .dataframe thead th {\n",
       "        text-align: right;\n",
       "    }\n",
       "</style>\n",
       "<table border=\"1\" class=\"dataframe\">\n",
       "  <thead>\n",
       "    <tr style=\"text-align: right;\">\n",
       "      <th></th>\n",
       "      <th>Question</th>\n",
       "      <th>Answer</th>\n",
       "      <th>AI</th>\n",
       "      <th>Score</th>\n",
       "    </tr>\n",
       "  </thead>\n",
       "  <tbody>\n",
       "    <tr>\n",
       "      <th>0</th>\n",
       "      <td>What should you do in case your vehicle breaks...</td>\n",
       "      <td>[A, C, D, E]</td>\n",
       "      <td>[C, D, E]</td>\n",
       "      <td>0.0</td>\n",
       "    </tr>\n",
       "    <tr>\n",
       "      <th>1</th>\n",
       "      <td>What will happen when your front tire blows out?</td>\n",
       "      <td>[C]</td>\n",
       "      <td>[B]</td>\n",
       "      <td>0.0</td>\n",
       "    </tr>\n",
       "    <tr>\n",
       "      <th>2</th>\n",
       "      <td>What should you do when an ambulance comes up ...</td>\n",
       "      <td>[D]</td>\n",
       "      <td>[A]</td>\n",
       "      <td>0.0</td>\n",
       "    </tr>\n",
       "    <tr>\n",
       "      <th>3</th>\n",
       "      <td>While driving the hood of your car lifts up bl...</td>\n",
       "      <td>[A, C]</td>\n",
       "      <td>[A, C, D]</td>\n",
       "      <td>0.0</td>\n",
       "    </tr>\n",
       "    <tr>\n",
       "      <th>4</th>\n",
       "      <td>In case of an accident, the first duty of the ...</td>\n",
       "      <td>[A]</td>\n",
       "      <td>[C]</td>\n",
       "      <td>0.0</td>\n",
       "    </tr>\n",
       "    <tr>\n",
       "      <th>5</th>\n",
       "      <td>When a vehicle starts to skid, what should the...</td>\n",
       "      <td>[B]</td>\n",
       "      <td>[B, C]</td>\n",
       "      <td>0.0</td>\n",
       "    </tr>\n",
       "    <tr>\n",
       "      <th>6</th>\n",
       "      <td>In case of injuries caused by an accident, the...</td>\n",
       "      <td>[A]</td>\n",
       "      <td>[A, B]</td>\n",
       "      <td>0.0</td>\n",
       "    </tr>\n",
       "    <tr>\n",
       "      <th>7</th>\n",
       "      <td>What will happen when your rear tire blows out?</td>\n",
       "      <td>[B]</td>\n",
       "      <td>[A]</td>\n",
       "      <td>0.0</td>\n",
       "    </tr>\n",
       "    <tr>\n",
       "      <th>8</th>\n",
       "      <td>When a vehicle is stalled or disabled, the dri...</td>\n",
       "      <td>[C]</td>\n",
       "      <td>[C]</td>\n",
       "      <td>1.0</td>\n",
       "    </tr>\n",
       "    <tr>\n",
       "      <th>9</th>\n",
       "      <td>If you are the first to arrive at the scene of...</td>\n",
       "      <td>[B]</td>\n",
       "      <td>[B]</td>\n",
       "      <td>1.0</td>\n",
       "    </tr>\n",
       "    <tr>\n",
       "      <th>10</th>\n",
       "      <td>As per RA 4136, the brakes on every vehicle (o...</td>\n",
       "      <td>[A]</td>\n",
       "      <td>[A]</td>\n",
       "      <td>1.0</td>\n",
       "    </tr>\n",
       "    <tr>\n",
       "      <th>11</th>\n",
       "      <td>What is not a good trait of a driver?</td>\n",
       "      <td>[A]</td>\n",
       "      <td>[A, B, C]</td>\n",
       "      <td>0.0</td>\n",
       "    </tr>\n",
       "    <tr>\n",
       "      <th>12</th>\n",
       "      <td>A safe speed to drive your car under adverse c...</td>\n",
       "      <td>[A]</td>\n",
       "      <td>[A]</td>\n",
       "      <td>1.0</td>\n",
       "    </tr>\n",
       "    <tr>\n",
       "      <th>13</th>\n",
       "      <td>Night driving is dangerous because:</td>\n",
       "      <td>[C]</td>\n",
       "      <td>[C]</td>\n",
       "      <td>1.0</td>\n",
       "    </tr>\n",
       "    <tr>\n",
       "      <th>14</th>\n",
       "      <td>What habit will help you prevent getting a fix...</td>\n",
       "      <td>[B]</td>\n",
       "      <td>[B]</td>\n",
       "      <td>1.0</td>\n",
       "    </tr>\n",
       "    <tr>\n",
       "      <th>15</th>\n",
       "      <td>Seatbelts must be worn by children aged:</td>\n",
       "      <td>[B]</td>\n",
       "      <td>[A, B]</td>\n",
       "      <td>0.0</td>\n",
       "    </tr>\n",
       "    <tr>\n",
       "      <th>16</th>\n",
       "      <td>Which of the following is the maximum speed li...</td>\n",
       "      <td>[C]</td>\n",
       "      <td>[C]</td>\n",
       "      <td>1.0</td>\n",
       "    </tr>\n",
       "    <tr>\n",
       "      <th>17</th>\n",
       "      <td>Graft and corruption in the traffic enforcemen...</td>\n",
       "      <td>[C]</td>\n",
       "      <td>[A]</td>\n",
       "      <td>0.0</td>\n",
       "    </tr>\n",
       "    <tr>\n",
       "      <th>18</th>\n",
       "      <td>Eating, drinking, reading, or doing anything t...</td>\n",
       "      <td>[A]</td>\n",
       "      <td>[B]</td>\n",
       "      <td>0.0</td>\n",
       "    </tr>\n",
       "    <tr>\n",
       "      <th>19</th>\n",
       "      <td>Before a private motor vehicle owner can apply...</td>\n",
       "      <td>[C]</td>\n",
       "      <td>[C]</td>\n",
       "      <td>1.0</td>\n",
       "    </tr>\n",
       "    <tr>\n",
       "      <th>20</th>\n",
       "      <td>According to the Philippine Clean Air Act of 1...</td>\n",
       "      <td>[C]</td>\n",
       "      <td>[A]</td>\n",
       "      <td>0.0</td>\n",
       "    </tr>\n",
       "    <tr>\n",
       "      <th>21</th>\n",
       "      <td>To avoid suspension or revocation, how many da...</td>\n",
       "      <td>[A]</td>\n",
       "      <td>[A]</td>\n",
       "      <td>1.0</td>\n",
       "    </tr>\n",
       "    <tr>\n",
       "      <th>22</th>\n",
       "      <td>To have one's driver's license suspended means...</td>\n",
       "      <td>[C]</td>\n",
       "      <td>[C]</td>\n",
       "      <td>1.0</td>\n",
       "    </tr>\n",
       "    <tr>\n",
       "      <th>23</th>\n",
       "      <td>To aobtain one's driver's license, one must be...</td>\n",
       "      <td>[B]</td>\n",
       "      <td>[A, B]</td>\n",
       "      <td>0.0</td>\n",
       "    </tr>\n",
       "    <tr>\n",
       "      <th>24</th>\n",
       "      <td>A pre-trip inspection should be completed:</td>\n",
       "      <td>[C]</td>\n",
       "      <td>[C]</td>\n",
       "      <td>1.0</td>\n",
       "    </tr>\n",
       "    <tr>\n",
       "      <th>25</th>\n",
       "      <td>It is not conidered safe driving on an express...</td>\n",
       "      <td>[C]</td>\n",
       "      <td>[C]</td>\n",
       "      <td>1.0</td>\n",
       "    </tr>\n",
       "    <tr>\n",
       "      <th>26</th>\n",
       "      <td>When you do not see the wheels of the vehicles...</td>\n",
       "      <td>[A]</td>\n",
       "      <td>[A]</td>\n",
       "      <td>1.0</td>\n",
       "    </tr>\n",
       "    <tr>\n",
       "      <th>27</th>\n",
       "      <td>Your speed while driving at night should keep on:</td>\n",
       "      <td>[A]</td>\n",
       "      <td>[C]</td>\n",
       "      <td>0.0</td>\n",
       "    </tr>\n",
       "    <tr>\n",
       "      <th>28</th>\n",
       "      <td>When driving at night, you should</td>\n",
       "      <td>[C]</td>\n",
       "      <td>[A, C]</td>\n",
       "      <td>0.0</td>\n",
       "    </tr>\n",
       "    <tr>\n",
       "      <th>29</th>\n",
       "      <td>How close should another car be before you dim...</td>\n",
       "      <td>[A]</td>\n",
       "      <td>[A]</td>\n",
       "      <td>1.0</td>\n",
       "    </tr>\n",
       "    <tr>\n",
       "      <th>30</th>\n",
       "      <td>If you are backing up in a straight line, turn...</td>\n",
       "      <td>[A]</td>\n",
       "      <td>None</td>\n",
       "      <td>0.0</td>\n",
       "    </tr>\n",
       "    <tr>\n",
       "      <th>31</th>\n",
       "      <td>The blind spot is the area to your right or le...</td>\n",
       "      <td>[C]</td>\n",
       "      <td>[A]</td>\n",
       "      <td>0.0</td>\n",
       "    </tr>\n",
       "    <tr>\n",
       "      <th>32</th>\n",
       "      <td>At an intrsection with traffic signals, if you...</td>\n",
       "      <td>[A]</td>\n",
       "      <td>[B]</td>\n",
       "      <td>0.0</td>\n",
       "    </tr>\n",
       "    <tr>\n",
       "      <th>33</th>\n",
       "      <td>When approaching a flooded area and you have t...</td>\n",
       "      <td>[C]</td>\n",
       "      <td>[C]</td>\n",
       "      <td>1.0</td>\n",
       "    </tr>\n",
       "    <tr>\n",
       "      <th>34</th>\n",
       "      <td>While driving with maximum speed and you have ...</td>\n",
       "      <td>[C]</td>\n",
       "      <td>[C]</td>\n",
       "      <td>1.0</td>\n",
       "    </tr>\n",
       "    <tr>\n",
       "      <th>35</th>\n",
       "      <td>On a wet road, you must:</td>\n",
       "      <td>[B]</td>\n",
       "      <td>[B]</td>\n",
       "      <td>1.0</td>\n",
       "    </tr>\n",
       "    <tr>\n",
       "      <th>36</th>\n",
       "      <td>When planning to overtake a slower vehicle in ...</td>\n",
       "      <td>[B]</td>\n",
       "      <td>[B]</td>\n",
       "      <td>1.0</td>\n",
       "    </tr>\n",
       "    <tr>\n",
       "      <th>37</th>\n",
       "      <td>You are preparing to exit an expressway, when ...</td>\n",
       "      <td>[B]</td>\n",
       "      <td>[A]</td>\n",
       "      <td>0.0</td>\n",
       "    </tr>\n",
       "    <tr>\n",
       "      <th>38</th>\n",
       "      <td>While driving with a maximum speed and you hav...</td>\n",
       "      <td>[A]</td>\n",
       "      <td>[A]</td>\n",
       "      <td>1.0</td>\n",
       "    </tr>\n",
       "    <tr>\n",
       "      <th>39</th>\n",
       "      <td>When driving on mountain roads during daytime,...</td>\n",
       "      <td>[C]</td>\n",
       "      <td>[B]</td>\n",
       "      <td>0.0</td>\n",
       "    </tr>\n",
       "    <tr>\n",
       "      <th>40</th>\n",
       "      <td>What light shall be used when vehicles are par...</td>\n",
       "      <td>[B]</td>\n",
       "      <td>[B]</td>\n",
       "      <td>1.0</td>\n",
       "    </tr>\n",
       "    <tr>\n",
       "      <th>41</th>\n",
       "      <td>When loading or unloading passengers, we usual...</td>\n",
       "      <td>[A]</td>\n",
       "      <td>[A]</td>\n",
       "      <td>1.0</td>\n",
       "    </tr>\n",
       "    <tr>\n",
       "      <th>42</th>\n",
       "      <td>If you are parking uphill without a curb, turn...</td>\n",
       "      <td>[A]</td>\n",
       "      <td>[A]</td>\n",
       "      <td>1.0</td>\n",
       "    </tr>\n",
       "    <tr>\n",
       "      <th>43</th>\n",
       "      <td>A driver ____ park or stop at the side fo the ...</td>\n",
       "      <td>[A]</td>\n",
       "      <td>[A]</td>\n",
       "      <td>1.0</td>\n",
       "    </tr>\n",
       "    <tr>\n",
       "      <th>44</th>\n",
       "      <td>Whenever you park, remember to:</td>\n",
       "      <td>[B]</td>\n",
       "      <td>[B]</td>\n",
       "      <td>1.0</td>\n",
       "    </tr>\n",
       "    <tr>\n",
       "      <th>45</th>\n",
       "      <td>Never park or stop at the side of the road wit...</td>\n",
       "      <td>[C]</td>\n",
       "      <td>[B]</td>\n",
       "      <td>0.0</td>\n",
       "    </tr>\n",
       "    <tr>\n",
       "      <th>46</th>\n",
       "      <td>The vehicle is parked if:</td>\n",
       "      <td>[A]</td>\n",
       "      <td>[A]</td>\n",
       "      <td>1.0</td>\n",
       "    </tr>\n",
       "    <tr>\n",
       "      <th>47</th>\n",
       "      <td>When parking downhill, you should turn your fr...</td>\n",
       "      <td>[A]</td>\n",
       "      <td>[A]</td>\n",
       "      <td>1.0</td>\n",
       "    </tr>\n",
       "    <tr>\n",
       "      <th>48</th>\n",
       "      <td>When you are parked at the side of the road at...</td>\n",
       "      <td>[A]</td>\n",
       "      <td>[A]</td>\n",
       "      <td>1.0</td>\n",
       "    </tr>\n",
       "    <tr>\n",
       "      <th>49</th>\n",
       "      <td>A driver must not park or stop at the side of ...</td>\n",
       "      <td>[C]</td>\n",
       "      <td>[C]</td>\n",
       "      <td>1.0</td>\n",
       "    </tr>\n",
       "    <tr>\n",
       "      <th>50</th>\n",
       "      <td>Parking lights may be used:</td>\n",
       "      <td>[B]</td>\n",
       "      <td>[B]</td>\n",
       "      <td>1.0</td>\n",
       "    </tr>\n",
       "    <tr>\n",
       "      <th>51</th>\n",
       "      <td>You may never park:</td>\n",
       "      <td>[A]</td>\n",
       "      <td>[A, C]</td>\n",
       "      <td>0.0</td>\n",
       "    </tr>\n",
       "    <tr>\n",
       "      <th>52</th>\n",
       "      <td>Parking is considered as a violation when a mo...</td>\n",
       "      <td>[A]</td>\n",
       "      <td>[A]</td>\n",
       "      <td>1.0</td>\n",
       "    </tr>\n",
       "    <tr>\n",
       "      <th>53</th>\n",
       "      <td>What is considered as a parking violation?</td>\n",
       "      <td>[C]</td>\n",
       "      <td>[B]</td>\n",
       "      <td>0.0</td>\n",
       "    </tr>\n",
       "    <tr>\n",
       "      <th>54</th>\n",
       "      <td>When are you permitted to double park?</td>\n",
       "      <td>[A]</td>\n",
       "      <td>[A]</td>\n",
       "      <td>1.0</td>\n",
       "    </tr>\n",
       "    <tr>\n",
       "      <th>55</th>\n",
       "      <td>On a two-lane road, overtaking is only allowed...</td>\n",
       "      <td>[A]</td>\n",
       "      <td>[B]</td>\n",
       "      <td>0.0</td>\n",
       "    </tr>\n",
       "    <tr>\n",
       "      <th>56</th>\n",
       "      <td>Which of the following hand signals must a dri...</td>\n",
       "      <td>[C]</td>\n",
       "      <td>[A]</td>\n",
       "      <td>0.0</td>\n",
       "    </tr>\n",
       "    <tr>\n",
       "      <th>57</th>\n",
       "      <td>When oncoming vehicle (car A) deliberately cro...</td>\n",
       "      <td>[A]</td>\n",
       "      <td>[A]</td>\n",
       "      <td>1.0</td>\n",
       "    </tr>\n",
       "    <tr>\n",
       "      <th>58</th>\n",
       "      <td>When two vehicles meet on a gradient road wher...</td>\n",
       "      <td>[A]</td>\n",
       "      <td>[B]</td>\n",
       "      <td>0.0</td>\n",
       "    </tr>\n",
       "    <tr>\n",
       "      <th>59</th>\n",
       "      <td>When driving on the highway at night, you shou...</td>\n",
       "      <td>[C]</td>\n",
       "      <td>[C]</td>\n",
       "      <td>1.0</td>\n",
       "    </tr>\n",
       "  </tbody>\n",
       "</table>\n",
       "</div>"
      ],
      "text/plain": [
       "                                             Question        Answer  \\\n",
       "0   What should you do in case your vehicle breaks...  [A, C, D, E]   \n",
       "1    What will happen when your front tire blows out?           [C]   \n",
       "2   What should you do when an ambulance comes up ...           [D]   \n",
       "3   While driving the hood of your car lifts up bl...        [A, C]   \n",
       "4   In case of an accident, the first duty of the ...           [A]   \n",
       "5   When a vehicle starts to skid, what should the...           [B]   \n",
       "6   In case of injuries caused by an accident, the...           [A]   \n",
       "7     What will happen when your rear tire blows out?           [B]   \n",
       "8   When a vehicle is stalled or disabled, the dri...           [C]   \n",
       "9   If you are the first to arrive at the scene of...           [B]   \n",
       "10  As per RA 4136, the brakes on every vehicle (o...           [A]   \n",
       "11              What is not a good trait of a driver?           [A]   \n",
       "12  A safe speed to drive your car under adverse c...           [A]   \n",
       "13                Night driving is dangerous because:           [C]   \n",
       "14  What habit will help you prevent getting a fix...           [B]   \n",
       "15           Seatbelts must be worn by children aged:           [B]   \n",
       "16  Which of the following is the maximum speed li...           [C]   \n",
       "17  Graft and corruption in the traffic enforcemen...           [C]   \n",
       "18  Eating, drinking, reading, or doing anything t...           [A]   \n",
       "19  Before a private motor vehicle owner can apply...           [C]   \n",
       "20  According to the Philippine Clean Air Act of 1...           [C]   \n",
       "21  To avoid suspension or revocation, how many da...           [A]   \n",
       "22  To have one's driver's license suspended means...           [C]   \n",
       "23  To aobtain one's driver's license, one must be...           [B]   \n",
       "24         A pre-trip inspection should be completed:           [C]   \n",
       "25  It is not conidered safe driving on an express...           [C]   \n",
       "26  When you do not see the wheels of the vehicles...           [A]   \n",
       "27  Your speed while driving at night should keep on:           [A]   \n",
       "28                  When driving at night, you should           [C]   \n",
       "29  How close should another car be before you dim...           [A]   \n",
       "30  If you are backing up in a straight line, turn...           [A]   \n",
       "31  The blind spot is the area to your right or le...           [C]   \n",
       "32  At an intrsection with traffic signals, if you...           [A]   \n",
       "33  When approaching a flooded area and you have t...           [C]   \n",
       "34  While driving with maximum speed and you have ...           [C]   \n",
       "35                           On a wet road, you must:           [B]   \n",
       "36  When planning to overtake a slower vehicle in ...           [B]   \n",
       "37  You are preparing to exit an expressway, when ...           [B]   \n",
       "38  While driving with a maximum speed and you hav...           [A]   \n",
       "39  When driving on mountain roads during daytime,...           [C]   \n",
       "40  What light shall be used when vehicles are par...           [B]   \n",
       "41  When loading or unloading passengers, we usual...           [A]   \n",
       "42  If you are parking uphill without a curb, turn...           [A]   \n",
       "43  A driver ____ park or stop at the side fo the ...           [A]   \n",
       "44                    Whenever you park, remember to:           [B]   \n",
       "45  Never park or stop at the side of the road wit...           [C]   \n",
       "46                          The vehicle is parked if:           [A]   \n",
       "47  When parking downhill, you should turn your fr...           [A]   \n",
       "48  When you are parked at the side of the road at...           [A]   \n",
       "49  A driver must not park or stop at the side of ...           [C]   \n",
       "50                        Parking lights may be used:           [B]   \n",
       "51                                You may never park:           [A]   \n",
       "52  Parking is considered as a violation when a mo...           [A]   \n",
       "53         What is considered as a parking violation?           [C]   \n",
       "54             When are you permitted to double park?           [A]   \n",
       "55  On a two-lane road, overtaking is only allowed...           [A]   \n",
       "56  Which of the following hand signals must a dri...           [C]   \n",
       "57  When oncoming vehicle (car A) deliberately cro...           [A]   \n",
       "58  When two vehicles meet on a gradient road wher...           [A]   \n",
       "59  When driving on the highway at night, you shou...           [C]   \n",
       "\n",
       "           AI  Score  \n",
       "0   [C, D, E]    0.0  \n",
       "1         [B]    0.0  \n",
       "2         [A]    0.0  \n",
       "3   [A, C, D]    0.0  \n",
       "4         [C]    0.0  \n",
       "5      [B, C]    0.0  \n",
       "6      [A, B]    0.0  \n",
       "7         [A]    0.0  \n",
       "8         [C]    1.0  \n",
       "9         [B]    1.0  \n",
       "10        [A]    1.0  \n",
       "11  [A, B, C]    0.0  \n",
       "12        [A]    1.0  \n",
       "13        [C]    1.0  \n",
       "14        [B]    1.0  \n",
       "15     [A, B]    0.0  \n",
       "16        [C]    1.0  \n",
       "17        [A]    0.0  \n",
       "18        [B]    0.0  \n",
       "19        [C]    1.0  \n",
       "20        [A]    0.0  \n",
       "21        [A]    1.0  \n",
       "22        [C]    1.0  \n",
       "23     [A, B]    0.0  \n",
       "24        [C]    1.0  \n",
       "25        [C]    1.0  \n",
       "26        [A]    1.0  \n",
       "27        [C]    0.0  \n",
       "28     [A, C]    0.0  \n",
       "29        [A]    1.0  \n",
       "30       None    0.0  \n",
       "31        [A]    0.0  \n",
       "32        [B]    0.0  \n",
       "33        [C]    1.0  \n",
       "34        [C]    1.0  \n",
       "35        [B]    1.0  \n",
       "36        [B]    1.0  \n",
       "37        [A]    0.0  \n",
       "38        [A]    1.0  \n",
       "39        [B]    0.0  \n",
       "40        [B]    1.0  \n",
       "41        [A]    1.0  \n",
       "42        [A]    1.0  \n",
       "43        [A]    1.0  \n",
       "44        [B]    1.0  \n",
       "45        [B]    0.0  \n",
       "46        [A]    1.0  \n",
       "47        [A]    1.0  \n",
       "48        [A]    1.0  \n",
       "49        [C]    1.0  \n",
       "50        [B]    1.0  \n",
       "51     [A, C]    0.0  \n",
       "52        [A]    1.0  \n",
       "53        [B]    0.0  \n",
       "54        [A]    1.0  \n",
       "55        [B]    0.0  \n",
       "56        [A]    0.0  \n",
       "57        [A]    1.0  \n",
       "58        [B]    0.0  \n",
       "59        [C]    1.0  "
      ]
     },
     "metadata": {},
     "output_type": "display_data"
    }
   ],
   "source": [
    "import re\n",
    "\n",
    "\n",
    "def process_answers(answers):\n",
    "    formatted_answers = []\n",
    "    \n",
    "    for a in answers:\n",
    "        \n",
    "        matches = re.findall(r'\\[?\\s*([A-E](?:\\s*,\\s*[A-E])*)\\s*\\]?', str(a)) # Extract answers like [A, C, D] or [A] or [B, D]\n",
    "        answers = []\n",
    "        for match in matches:\n",
    "            answers.extend(re.split(r'\\s*,\\s*', match))  # Split by comma and remove spaces\n",
    "        unique_sorted_answers = sorted(set(answers), key=lambda x: ['A', 'B', 'C', 'D', 'E'].index(x))\n",
    "        if not unique_sorted_answers:\n",
    "            formatted_answers.append(None)\n",
    "        else:\n",
    "            formatted_answers.append(unique_sorted_answers)\n",
    "    return formatted_answers\n",
    "\n",
    "df_results = df.loc[qr_range[0]:qr_range[1]-1, [\"Question\",\"Answer\",\"AI\"]]\n",
    "df_results['Answer'] = df_results['Answer'].apply(lambda x: x.split(', '))\n",
    "df_results['AI'] = process_answers(df_results[\"AI\"])\n",
    "df_results['Answer'] = process_answers(df_results[\"Answer\"])\n",
    "\n",
    "\n",
    "\n",
    "def calculate_scores(df):\n",
    "    scores = []\n",
    "    for index, row in df.iterrows():\n",
    "        correct_answers = set(row['Answer'] if row['Answer'] is not None else [])\n",
    "        ai_answers = set(row['AI'] if row['AI'] is not None else [])\n",
    "        if ai_answers == correct_answers:\n",
    "            score = 1.0\n",
    "        else:\n",
    "            score = 0.0\n",
    "        scores.append(score)\n",
    "    \n",
    "    df['Score'] = scores\n",
    "    accuracy = scores.count(1.0) / len(scores)\n",
    "    print(f'Final Score: {scores.count(1.0):.2f}/{len(scores):.2f}')\n",
    "    print(f'Accuracy: {accuracy:.2f}%')\n",
    "    return df\n",
    "\n",
    "# Apply the scoring function\n",
    "scored_df = calculate_scores(df_results)\n",
    "\n",
    "# Display the dataframe to verify the results\n",
    "display(scored_df[['Question', 'Answer', 'AI', 'Score']])"
   ]
  },
  {
   "cell_type": "code",
   "execution_count": 61,
   "id": "7af86568",
   "metadata": {},
   "outputs": [],
   "source": [
    "# Generate prompts dynamically\n",
    "def generate_prompt(row):\n",
    "    \n",
    "    # Construct the prompt with few-shot examples\n",
    "    prompt = f\"\\nActual Question: {row['Question']}\\n\" \n",
    "    prompt += \"\\nPlease answer the question based on the given context.\"\n",
    "    \n",
    "    return prompt"
   ]
  },
  {
   "cell_type": "code",
   "execution_count": 62,
   "id": "2921f41c",
   "metadata": {},
   "outputs": [
    {
     "data": {
      "text/html": [
       "<div>\n",
       "<style scoped>\n",
       "    .dataframe tbody tr th:only-of-type {\n",
       "        vertical-align: middle;\n",
       "    }\n",
       "\n",
       "    .dataframe tbody tr th {\n",
       "        vertical-align: top;\n",
       "    }\n",
       "\n",
       "    .dataframe thead th {\n",
       "        text-align: right;\n",
       "    }\n",
       "</style>\n",
       "<table border=\"1\" class=\"dataframe\">\n",
       "  <thead>\n",
       "    <tr style=\"text-align: right;\">\n",
       "      <th></th>\n",
       "      <th>Question</th>\n",
       "      <th>Answer</th>\n",
       "      <th>Prompt</th>\n",
       "    </tr>\n",
       "  </thead>\n",
       "  <tbody>\n",
       "    <tr>\n",
       "      <th>0</th>\n",
       "      <td>Traffic Jam can be prevented if you</td>\n",
       "      <td>Keep opposing lanes open</td>\n",
       "      <td>\\nActual Question: Traffic Jam can be prevente...</td>\n",
       "    </tr>\n",
       "    <tr>\n",
       "      <th>1</th>\n",
       "      <td>When making a right turn you should</td>\n",
       "      <td>Stay on the outermost lane of the road then si...</td>\n",
       "      <td>\\nActual Question: When making a right turn yo...</td>\n",
       "    </tr>\n",
       "    <tr>\n",
       "      <th>2</th>\n",
       "      <td>When you intend to turn right or left, signal ...</td>\n",
       "      <td>25 meters before you intend to make your turn</td>\n",
       "      <td>\\nActual Question: When you intend to turn rig...</td>\n",
       "    </tr>\n",
       "    <tr>\n",
       "      <th>3</th>\n",
       "      <td>At an intersection with a traffic light, make ...</td>\n",
       "      <td>The green light is on and there is a left turn...</td>\n",
       "      <td>\\nActual Question: At an intersection with a t...</td>\n",
       "    </tr>\n",
       "    <tr>\n",
       "      <th>4</th>\n",
       "      <td>Graft and corruption in the traffic enforcemen...</td>\n",
       "      <td>Self disciplined by drivers and obeying traffi...</td>\n",
       "      <td>\\nActual Question: Graft and corruption in the...</td>\n",
       "    </tr>\n",
       "  </tbody>\n",
       "</table>\n",
       "</div>"
      ],
      "text/plain": [
       "                                            Question  \\\n",
       "0                Traffic Jam can be prevented if you   \n",
       "1                When making a right turn you should   \n",
       "2  When you intend to turn right or left, signal ...   \n",
       "3  At an intersection with a traffic light, make ...   \n",
       "4  Graft and corruption in the traffic enforcemen...   \n",
       "\n",
       "                                              Answer  \\\n",
       "0                           Keep opposing lanes open   \n",
       "1  Stay on the outermost lane of the road then si...   \n",
       "2      25 meters before you intend to make your turn   \n",
       "3  The green light is on and there is a left turn...   \n",
       "4  Self disciplined by drivers and obeying traffi...   \n",
       "\n",
       "                                              Prompt  \n",
       "0  \\nActual Question: Traffic Jam can be prevente...  \n",
       "1  \\nActual Question: When making a right turn yo...  \n",
       "2  \\nActual Question: When you intend to turn rig...  \n",
       "3  \\nActual Question: At an intersection with a t...  \n",
       "4  \\nActual Question: Graft and corruption in the...  "
      ]
     },
     "metadata": {},
     "output_type": "display_data"
    }
   ],
   "source": [
    "# Load the Excel file\n",
    "file_path = '/mnt/c/Users/Jeryl Salas/Documents/AI 351/Project/LTO_EXAM_QnA.csv'\n",
    "df = pd.read_csv(file_path, encoding='ISO-8859-1')\n",
    "df['Prompt'] = df.apply(generate_prompt, axis=1)\n",
    "display(df.head())"
   ]
  },
  {
   "cell_type": "code",
   "execution_count": 63,
   "id": "c38c0651",
   "metadata": {},
   "outputs": [
    {
     "name": "stderr",
     "output_type": "stream",
     "text": [
      "  0%|          | 0/60 [00:00<?, ?it/s]"
     ]
    },
    {
     "name": "stdout",
     "output_type": "stream",
     "text": [
      "using Hybrid\n"
     ]
    },
    {
     "name": "stderr",
     "output_type": "stream",
     "text": [
      "  2%|▏         | 1/60 [00:07<07:21,  7.48s/it]"
     ]
    },
    {
     "name": "stdout",
     "output_type": "stream",
     "text": [
      "using Hybrid\n"
     ]
    },
    {
     "name": "stderr",
     "output_type": "stream",
     "text": [
      "  3%|▎         | 2/60 [00:36<19:21, 20.03s/it]"
     ]
    },
    {
     "name": "stdout",
     "output_type": "stream",
     "text": [
      "using Hybrid\n"
     ]
    },
    {
     "name": "stderr",
     "output_type": "stream",
     "text": [
      "  5%|▌         | 3/60 [01:03<22:18, 23.48s/it]"
     ]
    },
    {
     "name": "stdout",
     "output_type": "stream",
     "text": [
      "using Hybrid\n"
     ]
    },
    {
     "name": "stderr",
     "output_type": "stream",
     "text": [
      "  7%|▋         | 4/60 [01:33<24:02, 25.75s/it]"
     ]
    },
    {
     "name": "stdout",
     "output_type": "stream",
     "text": [
      "using Hybrid\n"
     ]
    },
    {
     "name": "stderr",
     "output_type": "stream",
     "text": [
      "  8%|▊         | 5/60 [02:03<24:58, 27.25s/it]"
     ]
    },
    {
     "name": "stdout",
     "output_type": "stream",
     "text": [
      "using Hybrid\n"
     ]
    },
    {
     "name": "stderr",
     "output_type": "stream",
     "text": [
      " 10%|█         | 6/60 [02:30<24:40, 27.43s/it]"
     ]
    },
    {
     "name": "stdout",
     "output_type": "stream",
     "text": [
      "using Hybrid\n"
     ]
    },
    {
     "name": "stderr",
     "output_type": "stream",
     "text": [
      " 12%|█▏        | 7/60 [02:59<24:31, 27.76s/it]"
     ]
    },
    {
     "name": "stdout",
     "output_type": "stream",
     "text": [
      "using Hybrid\n"
     ]
    },
    {
     "name": "stderr",
     "output_type": "stream",
     "text": [
      " 13%|█▎        | 8/60 [03:24<23:21, 26.95s/it]"
     ]
    },
    {
     "name": "stdout",
     "output_type": "stream",
     "text": [
      "using Hybrid\n"
     ]
    },
    {
     "name": "stderr",
     "output_type": "stream",
     "text": [
      " 15%|█▌        | 9/60 [03:55<23:59, 28.22s/it]"
     ]
    },
    {
     "name": "stdout",
     "output_type": "stream",
     "text": [
      "using Hybrid\n"
     ]
    },
    {
     "name": "stderr",
     "output_type": "stream",
     "text": [
      " 17%|█▋        | 10/60 [04:20<22:47, 27.34s/it]"
     ]
    },
    {
     "name": "stdout",
     "output_type": "stream",
     "text": [
      "using Hybrid\n"
     ]
    },
    {
     "name": "stderr",
     "output_type": "stream",
     "text": [
      " 18%|█▊        | 11/60 [04:49<22:32, 27.60s/it]"
     ]
    },
    {
     "name": "stdout",
     "output_type": "stream",
     "text": [
      "using Hybrid\n"
     ]
    },
    {
     "name": "stderr",
     "output_type": "stream",
     "text": [
      " 20%|██        | 12/60 [05:14<21:39, 27.07s/it]"
     ]
    },
    {
     "name": "stdout",
     "output_type": "stream",
     "text": [
      "using Hybrid\n"
     ]
    },
    {
     "name": "stderr",
     "output_type": "stream",
     "text": [
      " 22%|██▏       | 13/60 [05:40<20:50, 26.61s/it]"
     ]
    },
    {
     "name": "stdout",
     "output_type": "stream",
     "text": [
      "using Hybrid\n"
     ]
    },
    {
     "name": "stderr",
     "output_type": "stream",
     "text": [
      " 23%|██▎       | 14/60 [06:08<20:40, 26.96s/it]"
     ]
    },
    {
     "name": "stdout",
     "output_type": "stream",
     "text": [
      "using Hybrid\n"
     ]
    },
    {
     "name": "stderr",
     "output_type": "stream",
     "text": [
      " 25%|██▌       | 15/60 [06:36<20:37, 27.50s/it]"
     ]
    },
    {
     "name": "stdout",
     "output_type": "stream",
     "text": [
      "using Hybrid\n"
     ]
    },
    {
     "name": "stderr",
     "output_type": "stream",
     "text": [
      " 27%|██▋       | 16/60 [07:01<19:31, 26.62s/it]"
     ]
    },
    {
     "name": "stdout",
     "output_type": "stream",
     "text": [
      "using Hybrid\n"
     ]
    },
    {
     "name": "stderr",
     "output_type": "stream",
     "text": [
      " 28%|██▊       | 17/60 [07:29<19:26, 27.12s/it]"
     ]
    },
    {
     "name": "stdout",
     "output_type": "stream",
     "text": [
      "using Hybrid\n"
     ]
    },
    {
     "name": "stderr",
     "output_type": "stream",
     "text": [
      " 30%|███       | 18/60 [07:55<18:42, 26.72s/it]"
     ]
    },
    {
     "name": "stdout",
     "output_type": "stream",
     "text": [
      "using Hybrid\n"
     ]
    },
    {
     "name": "stderr",
     "output_type": "stream",
     "text": [
      " 32%|███▏      | 19/60 [08:22<18:18, 26.80s/it]"
     ]
    },
    {
     "name": "stdout",
     "output_type": "stream",
     "text": [
      "using Hybrid\n"
     ]
    },
    {
     "name": "stderr",
     "output_type": "stream",
     "text": [
      " 33%|███▎      | 20/60 [08:50<18:07, 27.20s/it]"
     ]
    },
    {
     "name": "stdout",
     "output_type": "stream",
     "text": [
      "using Hybrid\n"
     ]
    },
    {
     "name": "stderr",
     "output_type": "stream",
     "text": [
      " 35%|███▌      | 21/60 [09:18<17:46, 27.34s/it]"
     ]
    },
    {
     "name": "stdout",
     "output_type": "stream",
     "text": [
      "using Hybrid\n"
     ]
    },
    {
     "name": "stderr",
     "output_type": "stream",
     "text": [
      " 37%|███▋      | 22/60 [09:48<17:53, 28.26s/it]"
     ]
    },
    {
     "name": "stdout",
     "output_type": "stream",
     "text": [
      "using Hybrid\n"
     ]
    },
    {
     "name": "stderr",
     "output_type": "stream",
     "text": [
      " 38%|███▊      | 23/60 [10:18<17:38, 28.62s/it]"
     ]
    },
    {
     "name": "stdout",
     "output_type": "stream",
     "text": [
      "using Hybrid\n"
     ]
    },
    {
     "name": "stderr",
     "output_type": "stream",
     "text": [
      " 40%|████      | 24/60 [10:46<17:05, 28.50s/it]"
     ]
    },
    {
     "name": "stdout",
     "output_type": "stream",
     "text": [
      "using Hybrid\n"
     ]
    },
    {
     "name": "stderr",
     "output_type": "stream",
     "text": [
      " 42%|████▏     | 25/60 [11:12<16:14, 27.85s/it]"
     ]
    },
    {
     "name": "stdout",
     "output_type": "stream",
     "text": [
      "using Hybrid\n"
     ]
    },
    {
     "name": "stderr",
     "output_type": "stream",
     "text": [
      " 43%|████▎     | 26/60 [11:39<15:39, 27.63s/it]"
     ]
    },
    {
     "name": "stdout",
     "output_type": "stream",
     "text": [
      "using Hybrid\n"
     ]
    },
    {
     "name": "stderr",
     "output_type": "stream",
     "text": [
      " 45%|████▌     | 27/60 [12:13<16:07, 29.33s/it]"
     ]
    },
    {
     "name": "stdout",
     "output_type": "stream",
     "text": [
      "using Hybrid\n"
     ]
    },
    {
     "name": "stderr",
     "output_type": "stream",
     "text": [
      " 47%|████▋     | 28/60 [12:40<15:22, 28.83s/it]"
     ]
    },
    {
     "name": "stdout",
     "output_type": "stream",
     "text": [
      "using Hybrid\n"
     ]
    },
    {
     "name": "stderr",
     "output_type": "stream",
     "text": [
      " 48%|████▊     | 29/60 [13:07<14:33, 28.17s/it]"
     ]
    },
    {
     "name": "stdout",
     "output_type": "stream",
     "text": [
      "using Hybrid\n"
     ]
    },
    {
     "name": "stderr",
     "output_type": "stream",
     "text": [
      " 50%|█████     | 30/60 [13:34<13:57, 27.92s/it]"
     ]
    },
    {
     "name": "stdout",
     "output_type": "stream",
     "text": [
      "using Hybrid\n"
     ]
    },
    {
     "name": "stderr",
     "output_type": "stream",
     "text": [
      " 52%|█████▏    | 31/60 [14:02<13:30, 27.95s/it]"
     ]
    },
    {
     "name": "stdout",
     "output_type": "stream",
     "text": [
      "using Hybrid\n"
     ]
    },
    {
     "name": "stderr",
     "output_type": "stream",
     "text": [
      " 53%|█████▎    | 32/60 [14:27<12:38, 27.09s/it]"
     ]
    },
    {
     "name": "stdout",
     "output_type": "stream",
     "text": [
      "using Hybrid\n"
     ]
    },
    {
     "name": "stderr",
     "output_type": "stream",
     "text": [
      " 55%|█████▌    | 33/60 [14:55<12:14, 27.21s/it]"
     ]
    },
    {
     "name": "stdout",
     "output_type": "stream",
     "text": [
      "using Hybrid\n"
     ]
    },
    {
     "name": "stderr",
     "output_type": "stream",
     "text": [
      " 57%|█████▋    | 34/60 [15:19<11:19, 26.13s/it]"
     ]
    },
    {
     "name": "stdout",
     "output_type": "stream",
     "text": [
      "using Hybrid\n"
     ]
    },
    {
     "name": "stderr",
     "output_type": "stream",
     "text": [
      " 58%|█████▊    | 35/60 [15:47<11:12, 26.89s/it]"
     ]
    },
    {
     "name": "stdout",
     "output_type": "stream",
     "text": [
      "using Hybrid\n"
     ]
    },
    {
     "name": "stderr",
     "output_type": "stream",
     "text": [
      " 60%|██████    | 36/60 [16:13<10:35, 26.49s/it]"
     ]
    },
    {
     "name": "stdout",
     "output_type": "stream",
     "text": [
      "using Hybrid\n"
     ]
    },
    {
     "name": "stderr",
     "output_type": "stream",
     "text": [
      " 62%|██████▏   | 37/60 [16:42<10:30, 27.43s/it]"
     ]
    },
    {
     "name": "stdout",
     "output_type": "stream",
     "text": [
      "using Hybrid\n"
     ]
    },
    {
     "name": "stderr",
     "output_type": "stream",
     "text": [
      " 63%|██████▎   | 38/60 [17:07<09:42, 26.48s/it]"
     ]
    },
    {
     "name": "stdout",
     "output_type": "stream",
     "text": [
      "using Hybrid\n"
     ]
    },
    {
     "name": "stderr",
     "output_type": "stream",
     "text": [
      " 65%|██████▌   | 39/60 [17:33<09:12, 26.30s/it]"
     ]
    },
    {
     "name": "stdout",
     "output_type": "stream",
     "text": [
      "using Hybrid\n"
     ]
    },
    {
     "name": "stderr",
     "output_type": "stream",
     "text": [
      " 67%|██████▋   | 40/60 [18:00<08:52, 26.63s/it]"
     ]
    },
    {
     "name": "stdout",
     "output_type": "stream",
     "text": [
      "using Hybrid\n"
     ]
    },
    {
     "name": "stderr",
     "output_type": "stream",
     "text": [
      " 68%|██████▊   | 41/60 [18:24<08:12, 25.92s/it]"
     ]
    },
    {
     "name": "stdout",
     "output_type": "stream",
     "text": [
      "using Hybrid\n"
     ]
    },
    {
     "name": "stderr",
     "output_type": "stream",
     "text": [
      " 70%|███████   | 42/60 [18:48<07:35, 25.32s/it]"
     ]
    },
    {
     "name": "stdout",
     "output_type": "stream",
     "text": [
      "using Hybrid\n"
     ]
    },
    {
     "name": "stderr",
     "output_type": "stream",
     "text": [
      " 72%|███████▏  | 43/60 [18:54<05:29, 19.39s/it]"
     ]
    },
    {
     "name": "stdout",
     "output_type": "stream",
     "text": [
      "using Hybrid\n"
     ]
    },
    {
     "name": "stderr",
     "output_type": "stream",
     "text": [
      " 73%|███████▎  | 44/60 [19:19<05:39, 21.24s/it]"
     ]
    },
    {
     "name": "stdout",
     "output_type": "stream",
     "text": [
      "using Hybrid\n"
     ]
    },
    {
     "name": "stderr",
     "output_type": "stream",
     "text": [
      " 75%|███████▌  | 45/60 [19:24<04:04, 16.30s/it]"
     ]
    },
    {
     "name": "stdout",
     "output_type": "stream",
     "text": [
      "using Hybrid\n"
     ]
    },
    {
     "name": "stderr",
     "output_type": "stream",
     "text": [
      " 77%|███████▋  | 46/60 [19:50<04:29, 19.27s/it]"
     ]
    },
    {
     "name": "stdout",
     "output_type": "stream",
     "text": [
      "using Hybrid\n"
     ]
    },
    {
     "name": "stderr",
     "output_type": "stream",
     "text": [
      " 78%|███████▊  | 47/60 [20:10<04:13, 19.49s/it]"
     ]
    },
    {
     "name": "stdout",
     "output_type": "stream",
     "text": [
      "using Hybrid\n"
     ]
    },
    {
     "name": "stderr",
     "output_type": "stream",
     "text": [
      " 80%|████████  | 48/60 [20:16<03:04, 15.36s/it]"
     ]
    },
    {
     "name": "stdout",
     "output_type": "stream",
     "text": [
      "using Hybrid\n"
     ]
    },
    {
     "name": "stderr",
     "output_type": "stream",
     "text": [
      " 82%|████████▏ | 49/60 [20:40<03:17, 17.96s/it]"
     ]
    },
    {
     "name": "stdout",
     "output_type": "stream",
     "text": [
      "using Hybrid\n"
     ]
    },
    {
     "name": "stderr",
     "output_type": "stream",
     "text": [
      " 83%|████████▎ | 50/60 [21:06<03:24, 20.47s/it]"
     ]
    },
    {
     "name": "stdout",
     "output_type": "stream",
     "text": [
      "using Hybrid\n"
     ]
    },
    {
     "name": "stderr",
     "output_type": "stream",
     "text": [
      " 85%|████████▌ | 51/60 [21:35<03:25, 22.83s/it]"
     ]
    },
    {
     "name": "stdout",
     "output_type": "stream",
     "text": [
      "using Hybrid\n"
     ]
    },
    {
     "name": "stderr",
     "output_type": "stream",
     "text": [
      " 87%|████████▋ | 52/60 [22:01<03:10, 23.80s/it]"
     ]
    },
    {
     "name": "stdout",
     "output_type": "stream",
     "text": [
      "using Hybrid\n"
     ]
    },
    {
     "name": "stderr",
     "output_type": "stream",
     "text": [
      " 88%|████████▊ | 53/60 [22:21<02:39, 22.82s/it]"
     ]
    },
    {
     "name": "stdout",
     "output_type": "stream",
     "text": [
      "using Hybrid\n"
     ]
    },
    {
     "name": "stderr",
     "output_type": "stream",
     "text": [
      " 90%|█████████ | 54/60 [22:46<02:20, 23.49s/it]"
     ]
    },
    {
     "name": "stdout",
     "output_type": "stream",
     "text": [
      "using Hybrid\n"
     ]
    },
    {
     "name": "stderr",
     "output_type": "stream",
     "text": [
      " 92%|█████████▏| 55/60 [23:15<02:04, 24.94s/it]"
     ]
    },
    {
     "name": "stdout",
     "output_type": "stream",
     "text": [
      "using Hybrid\n"
     ]
    },
    {
     "name": "stderr",
     "output_type": "stream",
     "text": [
      " 93%|█████████▎| 56/60 [23:36<01:35, 23.92s/it]"
     ]
    },
    {
     "name": "stdout",
     "output_type": "stream",
     "text": [
      "using Hybrid\n"
     ]
    },
    {
     "name": "stderr",
     "output_type": "stream",
     "text": [
      " 95%|█████████▌| 57/60 [23:42<00:55, 18.39s/it]"
     ]
    },
    {
     "name": "stdout",
     "output_type": "stream",
     "text": [
      "using Hybrid\n"
     ]
    },
    {
     "name": "stderr",
     "output_type": "stream",
     "text": [
      " 97%|█████████▋| 58/60 [24:07<00:40, 20.44s/it]"
     ]
    },
    {
     "name": "stdout",
     "output_type": "stream",
     "text": [
      "using Hybrid\n"
     ]
    },
    {
     "name": "stderr",
     "output_type": "stream",
     "text": [
      " 98%|█████████▊| 59/60 [24:32<00:21, 21.94s/it]"
     ]
    },
    {
     "name": "stdout",
     "output_type": "stream",
     "text": [
      "using Hybrid\n"
     ]
    },
    {
     "name": "stderr",
     "output_type": "stream",
     "text": [
      "100%|██████████| 60/60 [24:56<00:00, 24.94s/it]\n",
      "/tmp/ipykernel_83561/3062682499.py:7: FutureWarning: Setting an item of incompatible dtype is deprecated and will raise an error in a future version of pandas. Value '['The actual question is not directly stated in the provided text. However, I can infer a possible question that matches the topic of traffic and emergency response.\\n\\nBased on the context, it seems like the correct answer to the implied question \"Traffic Jam can be prevented if you\" would be:\\n\\n1. **Regular maintenance**: Regular vehicle maintenance can help prevent accidents and reduce congestion caused by breakdowns.\\n2. **Predictable traffic environment**: Creating a predictable traffic environment through proper road design, clear signage, and effective traffic management can also contribute to reducing traffic jams.\\n3. **Responsible driving habits**: Encouraging responsible driving habits, such as avoiding aggressive driving, following speed limits, and yielding to pedestrians, can also help prevent traffic congestion.\\n\\nHowever, since the actual question is not provided, I\\'ll assume a more fitting answer based on the topic:\\n\\n\"Regular maintenance\" is key to preventing traffic jams caused by vehicle breakdowns.', 'According to the given text, when making a right turn, you should:\\n\\n\"Keep as close as possible to the right-hand curve or edge of the highway.\"\\n\\nThis is mentioned in the section \"Illegal Turn\" under the subheading \"Failure of the driver of a motor vehicle intending to run to the right at an intersection to approach such intersection in the lane for traffic nearest to the right-hand side of the highway and, in turning, to keep as close as possible to the right-hand curve or edge of the highway.\"', 'According to Article IV, Section 45 of the Traffic Code (as mentioned in the text), when a driver intends to turn right or left at an intersection, they should give a signal \"plainly visible to the driver of such other vehicles\" of their intention to make such movement. This means that the driver should give a signal at least before turning, so other drivers can see it and adjust accordingly.\\n\\nSo, to answer your question: At least.', \"Based on the provided information, at an intersection with a traffic control device (such as a traffic light), you should yield to other vehicles and pedestrians lawfully within the intersection before proceeding. However, there is no specific mention of making a left turn only when the traffic light indicates it's safe.\\n\\nGiven this context, I will provide a generic answer based on standard traffic rules:\\n\\nAt an intersection with a traffic light, make a left turn only when the traffic signal allows you to do so, and after yielding to other vehicles and pedestrians lawfully within the intersection.\", 'The correct answer is:\\n\\nUsing a digitalized system, such as LEHMD (Law Enforcement Handbook for Mobile Data), which allows for transparent and accountable tracking of violations and transactions.\\n\\nAccording to the article, the LTO has introduced the LEHMD to facilitate cashless transaction options for traffic infractions and to reduce corruption. The device can issue machine-generated TOPs (e-TOP: electronic Temporary Operator Permit) and transfer information to the LTO system instantly, reducing the opportunity for bribery and corruption.\\n\\nTherefore, the correct answer is using a digitalized system like LEHMD to eliminate graft and corruption in the traffic enforcement system.', 'According to the provided text, on a multi-lane road with broken white center lines (not solid), overtaking or lane changes are allowed when safe to do so. However, since this is not the case in the question, we need to look at the option that says \"you can\".\\n\\nThe correct answer would be: Overtake\\n\\nSo, the response should be:\\n\\nA) Yes', 'According to the provided text, a double solid yellow line with a broken white line in between indicates that \"overtaking or crossing is prohibited\" for traffic coming from one direction. However, for traffic coming from the other direction, passing is permitted on the side of the broken line but not on the side of the solid line.', 'When making a U-turn, you should start turning from the right side of the innermost lane, check for traffic in both directions and make the proper turn signal, then carefully turn the steering wheel sharply to the left while moving forward.', 'Horizontal Alignment Markers.', \"Based on the provided text, it appears to be about road traffic signs in the Philippines. According to the text, the following types of signs have specific shapes:\\n\\n* Round: Advance Direction Signs\\n* Inverted triangle: Hazard Markers (ONE-WAY HAZARD MARKERS)\\n* Octagonal: Not explicitly mentioned as a shape for a specific type of sign, but it's worth noting that warning signs in general are often octagonal.\\n* Red-colored boarders: It seems there is no direct mention of the specific shapes having red-colored boarders.\\n\\nHowever, without more information about the signs you're referring to, I'm unable to accurately answer your question.\", 'The correct answer is Directional Signs.\\n\\nAccording to the provided text, \"Directional Signs - These signs indicate the only direction(s) in which the motorist is obliged to follow.\" \\n\\nAdditionally, it also mentions that \"Vehicle MAY PASS EITHER SIDE\" under the category of Directional Signs.', 'Single with broken line on a two-lane road means passing is permitted when safe to do so.', 'Based on the provided text, the correct response to the actual question would be:\\n\\n**\"Yield to pedestrians.\"**\\n\\nThis is because, as stated in the text, \"Between drivers and pedestrians on a highway, drivers are expected to yield to pedestrians. This is almost always the case, especially if there is a crosswalk.\"\\n\\nTherefore, when approaching a crosswalk or pedestrian lane, the driver should yield to the pedestrians, allowing them to pass safely.', 'According to Section 28 hereof, driving an unregistered motor vehicle is a violation with a fine of Php 10,000.00.', 'Based on the given context, it appears that the following are considered parking violations:\\n\\n1. Parking at least 4 meters from a fire station entrance\\n2. Parking too close to a fire station entrance\\n3. Attended Illegal Parking (parking with the driver still in the vehicle)\\n4. Obstruction (parking on the side of the road or sidewalk without authority)\\n5. Unattended Illegal Parking (leaving the vehicle without a driver inside)\\n\\nThese violations may result in demerit points, fines, clamping, towing, and impounding of vehicles.', 'The correct answer is:\\n\\nPROCEED, PROVIDED YOU YIELD TO PEDESTRIANS AND TRAFFIC LAWFULLY USING THE INTERSECTION.\\n\\nAccording to the table of contents, under the section \"ROAD AND TRAFFIC RULES\", a GREEN SIGNAL means you proceed, provided you yield to pedestrians and traffic lawfully using the intersection.', 'The correct answer is:\\n\\nDrivers must come to a full halt, ensuring the safety of pedestrians crossing the street.\\n\\nThis is according to the text: \"Steady Red Traffic Light Meaning The red traffic light signifies more than just stopping; it mandates drivers to come to a full halt, ensuring the safety of pedestrians crossing the street.\"', 'According to Section 5 of the Anti-Drunk and Drugged Driving Act of 2013 (RA 11229), it is unlawful for any person to drive a motor vehicle while under the influence of alcohol, dangerous drugs, and/or other similar substances.\\n\\nFor driving under the influence of alcohol (DUIA) and driving under the influence of dangerous drugs and other similar substances (DUID) with no homicide or physical injury:\\n\\nInitial fine ranging from P50,000 to P100,000 with a minimum of 6-month jail term shall be imposed.\\n\\nTherefore, the penalty for the first offense is an initial fine ranging from P50,000 to P100,000 with a minimum of 6-month jail term.', 'According to the provided text, if a driver of a Public Utility Vehicle (PUV) refuses to render service or convey passengers, the fine for this violation is Php 1,000.00.', \"The driver's license shall be confiscated and upon conviction for the crime, revoked and the driver shall be perpetually disqualified from being granted a driver's license and driving a motor vehicle.\", \"The correct answer is not explicitly mentioned in the provided text. However, according to safe driving practices, it's recommended to maintain a safe following distance of at least 2 seconds or more from the vehicle ahead.\\n\\nConsidering this, I will provide an answer based on general knowledge and safe driving practices.\\n\\nThe minimum distance away from the vehicle being followed is:\\n\\n4 to 6 seconds (the exact number is not specified in the text)\\n\\nThis allows for enough time to react and avoid a potential collision if the vehicle ahead suddenly stops or makes a sudden turn.\", 'Based on the provided text, it seems that the actual question being asked is related to traffic laws and regulations. However, the specific question about having a \"complete/full stop\" is not explicitly mentioned in the given context.\\n\\nTo provide an answer, I will infer that the question is related to one of the listed violations (e.g., 1j26: Failure to stop before traversing a \"through highway\" or railroad crossing). In this case, according to traffic laws and regulations, a vehicle must come to a complete stop before traversing a \"through highway\" or railroad crossing.\\n\\nTo answer your actual question:\\n\\nA complete/full stop means bringing a vehicle to a momentary halt at a designated stopping point, typically marked by signs or signals. It is essential for ensuring the safety of pedestrians, other vehicles, and road users. A complete stop usually involves applying the brakes firmly, shifting into neutral (or parking) gear, and allowing the vehicle to come to rest before proceeding.\\n\\nPlease let me know if you need further clarification!', 'Based on the given context, I can infer that the correct answer is:\\n\\n**A designated passing zone**\\n\\nAccording to the provided text (points 16-23), there are specific rules and restrictions for overtaking or passing another vehicle on a highway. However, it does not explicitly state that overtaking is only allowed at a designated passing zone.\\n\\nBut, we can infer from point 19: \"Overtaking at any railway grade crossing\" and point 20: \"Overtaking or passing another vehicle in the same direction at any intersection of highways except on a highway having two or more lanes for movement of traffic in one direction where the driver of a vehicle may overtake another vehicle on the right.\" \\n\\nTherefore, it can be deduced that overtaking is not allowed at all intersections and railway grade crossings, but rather at designated passing zones.\\n\\nHowever, since there\\'s no explicit mention of \"designated passing zone\" as an option in your actual question, I will choose a different answer from the options given:\\n\\n**At the right**\\n\\nAccording to point 20: \"Overtaking or passing another vehicle in the same direction at any intersection of highways except on a highway having two or more lanes for movement of traffic in one direction where the driver of a vehicle may overtake another vehicle on the right.\"\\n\\nSo, based on this context, I would say that overtaking is allowed only at the right.', 'According to the given text, parking is considered a violation in the following situations:\\n\\n1. A motor vehicle obstructs or impedes the passage of any other vehicle, sidewalk, path, or alley not intended for vehicular traffic or parking (as stated in the ROAD AND TRAFFIC RULES section).\\n2. A motor vehicle parks too close to a fire station entrance, which may result in disrupting the work of firefighters and causing more harm to others.\\n3. A motor vehicle is parked on the side of the road or sidewalk without authority.\\n\\nTherefore, the correct answer is: obstructing the passage of other vehicles or parking too close to a fire station entrance.\\n\\nHowever, since there are multiple options provided (A-D), I will rephrase my response:\\n\\nA) Obstructing the passage of other vehicles\\nB) Parking in front of a fire station\\nC) Parking on a sidewalk\\nD) Parking on an alley\\n\\nThe correct answer would be either A or B, as both are specific examples of parking violations mentioned in the text.', 'The correct answer to the query is:\\n\\n**No parking allowed**\\n\\nAccording to the ROAD AND TRAFFIC RULES, there are specific signs indicating where parking is not allowed. The query \"Parking is prohibited\" implies that we need to identify a place or situation where parking is not permitted.\\n\\nBased on the context provided, here are some options:\\n\\n* BUS STOP ZONE: Parking is not allowed\\n* NO PARKING: TOW-AWAY ZONE - parked vehicle will be towed\\n* RIGHT TURNER CROSS AT BROKEN LINES: No parking anytime from Monday to Friday\\n\\nHowever, since the query \"Parking is prohibited\" doesn\\'t specify a particular location or situation, it\\'s difficult to pinpoint an exact answer. But based on the rules mentioned, we can assume that there are certain areas where parking is not allowed.\\n\\nTo provide a more specific answer, I would need additional information about the context in which the question was asked.', \"Based on standard road rules and traffic signal etiquette, when a traffic light is steady green and steady left/right arrow, it indicates that:\\n\\n* The driver can proceed straight ahead (if there's no arrow) or turn in the direction indicated by the arrow (left or right).\\n* Pedestrians should still exercise caution and wait for a safe gap to cross.\\n* Other drivers approaching from other directions must yield to the vehicle with the green light.\\n\\nIn this scenario, if you have a steady green light and a steady left/right arrow, it means you can proceed in that direction.\", \"According to the Implementing Rules and Regulations of RA 10586, the maximum penalty for driving under the influence of liquor or prohibited drugs is as follows:\\n\\n* For Non-Professional Driver's License (NPDL) holders: Confiscation and suspension of the license for a period of twelve (12) months upon final conviction by a regular court.\\n* For Professional Driver's License (PDL) holders: Cancellation of the license upon the commission of the first offense.\\n\\nAdditionally, under RA 11229, which is an amendment to the original law, the penalties have been made stiffer. According to this, for driving under the influence of alcohol or dangerous drugs with no homicide or physical injury, the initial fine ranges from P50,000 to P100,000 with a minimum of 6-month jail term.\\n\\nHowever, based on the Implementing Rules and Regulations of RA 10586, which is the original law, there is no specific maximum penalty mentioned. The penalties are as follows:\\n\\n* For Non-Professional Driver's License (NPDL) holders: Confiscation and suspension of the license for a period of twelve (12) months upon final conviction by a regular court.\\n* For Professional Driver's License (PDL) holders: Cancellation of the license upon the commission of the first offense.\\n\\nThere is no mention of any maximum fine or jail term in the Implementing Rules and Regulations of RA 10586.\", \"The correct answer is not provided in the snippet, but I can infer that the correct response would be to exercise extra caution when driving on a wet road.\\n\\nHowever, since this is an incomplete snippet, I will provide a general response. When driving on a wet road:\\n\\n*   You must reduce your speed to ensure you have enough time to stop or react to unexpected situations.\\n*   Maintain a safe distance from the vehicle in front of you to allow for extra stopping time.\\n*   Be aware of the road conditions and adjust your driving accordingly.\\n\\nThe actual question was not provided, so I couldn't give a precise answer.\", 'Based on the context provided, which focuses on safe driving practices and emergency situations, the correct response is:\\n\\nUse gentle pressure on the brake pedal.\\n\\nThis is in accordance with the fifth step of the SIPDE process, \"Execute\", which advises drivers to carry out their decision efficiently. In this scenario, applying gentle pressure on the brake pedal helps to slow down the vehicle smoothly, reducing the likelihood of uncontrollable skidding or loss of control.', 'When another vehicle is following you too closely, you should:\\n\\nMove to a safe location, if possible, and slow down to create more space between your vehicle and the overtaking vehicle. This allows the other driver to pass safely and reduces the risk of a collision.\\n\\nNote: The correct answer is not explicitly stated in the provided text, but based on the context and the rules for overtaking, it can be inferred that slowing down or moving to a safe location would be the appropriate response when another vehicle is following you too closely.', 'According to the provided text, the correct answer is:\\n\\n\"to maintain a safe distance from the vehicle ahead.\"\\n\\nThis answer is supported by the following information in the text:\\n\\n\"When you?re driving and an emergency vehicle is following you at an intersection, you need to act quickly and correctly. ... Knowing the proper steps ensures you don?t block the path of emergency responders and helps them reach their destination swiftly.\"\\n\\nAnd also from another section:\\n\\n\"145 Dealing with Emergency Situations AVOIDING COLLISION WITH VEHICLE AHEAD SEARCH the road ahead, around and at the rear of the vehicle IDENTIFY the potential and immediate hazard on the road PREDICT the actions of other road users DECIDE what to do to avoid an unsafe situation EXECUTE the action based on your decision\"\\n\\nThis text implies that drivers should always be aware of their surroundings, predict the actions of other road users, and maintain a safe distance from vehicles ahead. This is in line with general safe driving practices, including the \"3-second rule\" mentioned earlier in the text as part of safe following distances.', \"Based on the provided context and standard safe driving practices, when parking uphill without a curb, you should:\\n\\nTurn your wheels towards the curb.\\n\\nThis is a safety precaution to prevent your vehicle from rolling backwards down the incline. By turning your wheels towards the curb, you'll be able to control the direction of your vehicle in case it starts to roll, and also ensure that it remains stable while parked uphill without a curb.\\n\\nPlease note that this answer assumes a standard driving school context and may vary depending on specific country or region's traffic regulations.\", 'Leave the parking brake disengaged.', \"When parking uphill, you must engage the parking brake and shift into first gear (or the appropriate gear for your vehicle). This helps to prevent the car from rolling down the hill. Additionally, it's a good idea to turn off the engine and remove the keys to secure the vehicle.\", 'Making an abrupt move, especially when on a wet and possibly slippery road, can lead to loss of traction between the tires and the road surface. This is because wet surfaces are more prone to hydroplaning, where the tires ride on water rather than the road itself, leading to reduced grip and control.\\n\\nAccording to the text, this can be prevented by avoiding abrupt braking. The correct answer would therefore be \"Abrupt Braking\".', 'Based on the given context, the correct answer is not explicitly stated. However, I can infer an answer based on the general principles of defensive driving.\\n\\nThe SIPDE process (Search/Scan, Identify, Predict, Decide, Execute) seems to be relevant to dealing with emergency situations, but it\\'s not directly related to overtaking. Nevertheless, when overtaking, a driver should exercise caution and follow safe driving practices.\\n\\nA possible answer could be:\\n\\n\"Whenever you are driving, especially when overtaking, **search for hazards in your lane and the adjacent lanes**.\"\\n\\nThis is because searching/ scanning the road ahead, around, and at the rear of the vehicle is an essential step in defensive driving. It allows drivers to identify potential hazards and take necessary actions to avoid them.\\n\\nPlease note that this answer is based on general principles of defensive driving and might not be the exact correct answer if you\\'re referring to a specific question or context not provided in the text.', 'According to the given text, when driving on a highway, it is recommended to \"exercise caution, anticipate unpredictable maneuvers, and avoid aggressive driving behaviors such as sudden lane changes or speeding.\" This implies that one should not stare at the vehicle in front of them but rather be attentive and aware of their surroundings. Therefore, the correct answer would be: \"Maintain a safe distance from the vehicle in front of you\" or more specifically: \"Do not tailgate\".', \"The correct response cannot be determined from the provided text as it does not specifically address the scenario of driving on a mountain road during the day. However, based on general safe driving practices, when driving on mountain roads during the daytime, you should:\\n\\n* Maintain a slower speed due to winding and potentially slippery roads\\n* Use low gear while descending to control your vehicle's speed\\n* Keep a safe distance from other vehicles in case of sudden stops or loss of control\\n* Be aware of road conditions and weather forecasts to anticipate potential hazards\\n\\nThese guidelines can help minimize the risks associated with driving on mountain roads during the day.\", \"Based on the given context, I'll answer the question.\\n\\nWhen driving downhill on a mountain road, always use:\\n\\n**Low Gear**\\n\\nThis is because using low gear helps control the speed of your vehicle and maintains traction on steep inclines. It also allows for smoother braking and reduces the risk of wheelspin or loss of control.\", 'The correct answer is: \"to illuminate areas or objects that are not well-lit.\"\\n\\nHowever, since this is a fill-in-the-blank question and there is no blank provided in the query, I will provide the complete sentence as an answer:\\n\\nThe headlights should be used often as needed to illuminate areas or objects that are not well-lit.\\n\\nBut if we were to rephrase it into a multiple-choice format, here\\'s what it could look like:\\n\\nWhat should you use your motorcycle\\'s auxiliary lights for?\\n\\nA) To blind other road users\\nB) To light up the entire road ahead\\nC) To illuminate areas or objects that are not well-lit\\nD) Only during nighttime hours\\n\\nThe correct answer would be C) To illuminate areas or objects that are not well-lit.', 'According to the Right-of-Way rules outlined in Republic Act No. 4136, when two vehicles approach or enter an intersection at approximately the same time, the driver of the vehicle on the left shall yield the right of way to the vehicle on the right.\\n\\nTherefore, the vehicle on the right has the right of way.', 'Keep to the right.', 'The correct response is:\\n\\n\"Be extra cautious and consider wearing high-visibility or fluorescent clothing to increase your conspicuity.\"\\n\\nThis is because overtaking a slower vehicle at night can be hazardous due to reduced visibility, and wearing high-visibility or fluorescent clothing can help make the rider more visible to other road users.', \"According to the provided text, when driving in heavy rains, it is recommended to check the weather forecast before driving and avoid driving during heavy rains if possible to minimize the risk of encountering slippery roads. Additionally, using headlights can improve visibility for yourself and other drivers on the road. It's also essential to increase your following distance to allow for ample braking distance in case of sudden stops.\", 'bring your vehicle to a Stop and proceed only when it is safe.', 'The correct answer is:\\n\\nA. reducing\\n\\nAs stated in the text, \"Reduce your speed after dark, as visibility is limited, and unexpected obstacles may appear. Follow posted speed limits and adjust your speed according to road conditions.\"', 'The correct response is \"Blind spots\" according to the given text.', 'The correct answer is:\\n\\nWhen driving at night, you should slow down to ensure visibility of the road.\\n\\nThis is inferred from the context which mentions \"Night Driving Tips\" and discusses various factors such as lighting conditions, speed limits, and defensive driving techniques. The emphasis on staying informed about road conditions and adhering to traffic laws also suggests that slowing down is a crucial aspect of safe night driving.', 'Give way to the overtaking vehicle.', 'Based on the provided text, which appears to be a list of traffic laws and regulations, I will address your query.\\n\\nAccording to section 16: \"Overtaking when left side is not visible or clear of coming traffic,\" it states that:\\n\\n\"driving to the left side of the center line of a highway In overtaking or passing and another vehicle proceeding in the same direction where the left side is not clearly visible and is not free of oncoming traffic for a sufficient distance to pass in safely.\"\\n\\nHowever, I couldn\\'t find an exact section addressing the scenario where \"an oncoming vehicle deliberately crosses the centerline to pass another vehicle.\" Nevertheless, based on this general rule regarding overtaking when the left side is not clear or visible due to oncoming traffic, it seems that if an oncoming vehicle intentionally crosses the center line to pass another vehicle, the correct response should be alertness and caution.', 'To deal with a submerged car, follow these steps:\\n\\nWhen approaching a flooded area and you have to go through it, what should you do?\\n\\n**Answer:** Reduce speed by releasing the accelerator pedal.\\n\\nThis is mentioned in the guide on \"What to do on wet or flooded roads?\" as part of the instructions on how to safely navigate through flooded areas.', 'A single solid yellow or white line means overtaking is not allowed.', 'Based on the given context, passing/overtaking is NOT allowed at intersections with a single lane unless permitted by a traffic signal or authorized personnel. The law restricts overtaking at these areas due to safety concerns and potential risks such as collisions, disruptions in traffic flow, and confusion among drivers.', 'A vehicle approaching but not having entered an intersection, or a pedestrian crossing within a crosswalk in a business or residential district.', 'According to the provided text, at an intersection without stop or yield signs, the car on the right has the right-of-way. However, if we consider the general principle of yielding, it is mentioned that \"When two vehicles approach or enter an intersection at the same time, the driver on the left must yield to the driver on the right.\"\\n\\nFurthermore, other sections in the provided text specify scenarios where drivers should yield:\\n\\n- Failure to yield the right of way - failure of a vehicle approaching but not having entered an intersection to yield the right of way to a vehicle within such intersection or turning therein (Violation 1j24).\\n- Failure to yield the right of way - failure of the driver of any vehicle upon a highway within a business or residential district to yield the right of way to a pedestrian crossing such highway within a crosswalk except at intersections where the movement of traffic is regulated by a peace officer or by traffic signal (Violation 1j25).\\n- Failure to stop before traversing a \"through highway\" or railroad crossing - failure of the driver of a vehicle upon a highway to bring to a full stop such vehicle before traversing any \"through highway or railroad crossing (Violation 1j26).\\n\\nHowever, none of these specific scenarios directly answer the question about who has the right-of-way on a highway in general. The closest principle provided is that when two vehicles approach or enter an intersection at the same time, the driver on the left must yield to the driver on the right.\\n\\nTherefore, based on the given context and without specifying any particular situation (like intersections with traffic signals), it can be inferred that a driver on a highway generally should yield to other drivers if they are approaching from the opposite direction and both reach an intersection at the same time.', 'The correct answer is:\\n\\nSchool Zone Ahead\\n\\nThis sign indicates that there are likely to be pedestrians, especially school children, in the area and drivers should be prepared to slow down.', 'The correct answer is:\\n\\nHazard Signals > Hazard on Road\\n\\nAccording to the provided text, this signal involves extending the left arm out with the palm facing downward, then point to the hazard with the index finger. This signal alerts other riders to a potential danger on the road.', 'Based on the context provided, I will attempt to answer your query.\\n\\nThe correct answer is:\\n\\n**B. Guide / Informative Signs**\\n\\nExplanation:\\n\\n* The question asks about a traffic sign that indicates \"direction and distances\".\\n* According to the provided text, Advance Direction Signs (2) are the ones that indicate direction(s) in which motorists are given information or direction.\\n* Similarly, Intersection Direction Signs (3) and Reassurance Direction Signs (4) also provide directional information.\\n* However, Guide / Informative Signs is a broader category of signs that includes Advance Direction Signs, Intersection Direction Signs, and Reassurance Direction Signs.', 'Unfortunately, there\\'s no specific information about a \"The mark for a railway crossing\" being mentioned in the provided text. However, I can suggest some possible answers to this type of question:\\n\\n* A yellow line or stripe (usually on the road)\\n* A crossbuck sign\\n* A railroad sign with a symbol of a train and an arrow pointing left or right\\n* A flashing red light or signal at the crossing\\n\\nPlease note that the correct answer may depend on the specific location, country, or region.', 'heavy traffic or a lot of speeding.']' has dtype incompatible with float64, please explicitly cast to a compatible dtype first.\n",
      "  df.loc[qr_range[0]:qr_range[1]-1, \"AI\"] = [answ[0] for answ in ai_answer]\n"
     ]
    }
   ],
   "source": [
    "qr_range = (0,60)\n",
    "df[\"AI\"] = np.nan\n",
    "ai_answer = []\n",
    "for i in tqdm(range(*qr_range)):\n",
    "    ai_answer.append(gen_query(df.loc[i,\"Prompt\"], top_k=15, client=client, mode='hybrid', model=\"llama3.1:8b\"))\n",
    "\n",
    "df.loc[qr_range[0]:qr_range[1]-1, \"AI\"] = [answ[0] for answ in ai_answer]\n",
    "df.loc[qr_range[0]:qr_range[1]-1, \"Context\"] = [answ[2] for answ in ai_answer]\n",
    "df_new = df.loc[qr_range[0]:qr_range[1]-1].copy()\n",
    "df = df_new.copy()"
   ]
  },
  {
   "cell_type": "markdown",
   "id": "116c4060",
   "metadata": {},
   "source": [
    "# 10. Similarity Evaluation"
   ]
  },
  {
   "cell_type": "code",
   "execution_count": 64,
   "id": "f9746d34",
   "metadata": {},
   "outputs": [
    {
     "name": "stderr",
     "output_type": "stream",
     "text": [
      "  0%|          | 0/60 [00:00<?, ?it/s]"
     ]
    },
    {
     "name": "stderr",
     "output_type": "stream",
     "text": [
      "100%|██████████| 60/60 [00:23<00:00,  2.58it/s]"
     ]
    },
    {
     "name": "stdout",
     "output_type": "stream",
     "text": [
      "Average Score: 0.6398\n",
      "Passing: 45/60\n"
     ]
    },
    {
     "name": "stderr",
     "output_type": "stream",
     "text": [
      "\n"
     ]
    },
    {
     "data": {
      "text/html": [
       "<div>\n",
       "<style scoped>\n",
       "    .dataframe tbody tr th:only-of-type {\n",
       "        vertical-align: middle;\n",
       "    }\n",
       "\n",
       "    .dataframe tbody tr th {\n",
       "        vertical-align: top;\n",
       "    }\n",
       "\n",
       "    .dataframe thead th {\n",
       "        text-align: right;\n",
       "    }\n",
       "</style>\n",
       "<table border=\"1\" class=\"dataframe\">\n",
       "  <thead>\n",
       "    <tr style=\"text-align: right;\">\n",
       "      <th></th>\n",
       "      <th>Question</th>\n",
       "      <th>Answer</th>\n",
       "      <th>AI</th>\n",
       "      <th>Score</th>\n",
       "      <th>Passing</th>\n",
       "    </tr>\n",
       "  </thead>\n",
       "  <tbody>\n",
       "    <tr>\n",
       "      <th>0</th>\n",
       "      <td>Traffic Jam can be prevented if you</td>\n",
       "      <td>Keep opposing lanes open</td>\n",
       "      <td>The actual question is not directly stated in ...</td>\n",
       "      <td>0.625760</td>\n",
       "      <td>True</td>\n",
       "    </tr>\n",
       "    <tr>\n",
       "      <th>1</th>\n",
       "      <td>When making a right turn you should</td>\n",
       "      <td>Stay on the outermost lane of the road then si...</td>\n",
       "      <td>According to the given text, when making a rig...</td>\n",
       "      <td>0.760502</td>\n",
       "      <td>True</td>\n",
       "    </tr>\n",
       "    <tr>\n",
       "      <th>2</th>\n",
       "      <td>When you intend to turn right or left, signal ...</td>\n",
       "      <td>25 meters before you intend to make your turn</td>\n",
       "      <td>According to Article IV, Section 45 of the Tra...</td>\n",
       "      <td>0.663455</td>\n",
       "      <td>True</td>\n",
       "    </tr>\n",
       "    <tr>\n",
       "      <th>3</th>\n",
       "      <td>At an intersection with a traffic light, make ...</td>\n",
       "      <td>The green light is on and there is a left turn...</td>\n",
       "      <td>Based on the provided information, at an inter...</td>\n",
       "      <td>0.700548</td>\n",
       "      <td>True</td>\n",
       "    </tr>\n",
       "    <tr>\n",
       "      <th>4</th>\n",
       "      <td>Graft and corruption in the traffic enforcemen...</td>\n",
       "      <td>Self disciplined by drivers and obeying traffi...</td>\n",
       "      <td>The correct answer is:\\n\\nUsing a digitalized ...</td>\n",
       "      <td>0.614937</td>\n",
       "      <td>True</td>\n",
       "    </tr>\n",
       "    <tr>\n",
       "      <th>5</th>\n",
       "      <td>On a four(4) lane road with single white line,...</td>\n",
       "      <td>Overtake by passing over the solid white line</td>\n",
       "      <td>According to the provided text, on a multi-lan...</td>\n",
       "      <td>0.756958</td>\n",
       "      <td>True</td>\n",
       "    </tr>\n",
       "    <tr>\n",
       "      <th>6</th>\n",
       "      <td>A double solid yellow line with broken white l...</td>\n",
       "      <td>Absolutely no overtaking</td>\n",
       "      <td>According to the provided text, a double solid...</td>\n",
       "      <td>0.607177</td>\n",
       "      <td>True</td>\n",
       "    </tr>\n",
       "    <tr>\n",
       "      <th>7</th>\n",
       "      <td>When making a U-Turn, you should</td>\n",
       "      <td>Check for traffic behind you and indicate your...</td>\n",
       "      <td>When making a U-turn, you should start turning...</td>\n",
       "      <td>0.765110</td>\n",
       "      <td>True</td>\n",
       "    </tr>\n",
       "    <tr>\n",
       "      <th>8</th>\n",
       "      <td>Signs that are triangular in shape and with a ...</td>\n",
       "      <td>Caution or warning signs</td>\n",
       "      <td>Horizontal Alignment Markers.</td>\n",
       "      <td>0.550258</td>\n",
       "      <td>False</td>\n",
       "    </tr>\n",
       "    <tr>\n",
       "      <th>9</th>\n",
       "      <td>Signs that are round, inverted triangle or oct...</td>\n",
       "      <td>Regulatory signs</td>\n",
       "      <td>Based on the provided text, it appears to be a...</td>\n",
       "      <td>0.681984</td>\n",
       "      <td>True</td>\n",
       "    </tr>\n",
       "    <tr>\n",
       "      <th>10</th>\n",
       "      <td>Signs that are round, rectangular with white a...</td>\n",
       "      <td>Informative signs</td>\n",
       "      <td>The correct answer is Directional Signs.\\n\\nAc...</td>\n",
       "      <td>0.695857</td>\n",
       "      <td>True</td>\n",
       "    </tr>\n",
       "    <tr>\n",
       "      <th>11</th>\n",
       "      <td>Single with broken line on a two-lane road means</td>\n",
       "      <td>It separates traffic moving in opposite direct...</td>\n",
       "      <td>Single with broken line on a two-lane road mea...</td>\n",
       "      <td>0.727756</td>\n",
       "      <td>True</td>\n",
       "    </tr>\n",
       "    <tr>\n",
       "      <th>12</th>\n",
       "      <td>What to do when you approach a crosswalk or pe...</td>\n",
       "      <td>Stop and yield to pedestrian</td>\n",
       "      <td>Based on the provided text, the correct respon...</td>\n",
       "      <td>0.782892</td>\n",
       "      <td>True</td>\n",
       "    </tr>\n",
       "    <tr>\n",
       "      <th>13</th>\n",
       "      <td>Driving an unregistered motor vehicle is a vio...</td>\n",
       "      <td>Fine of P10,000</td>\n",
       "      <td>According to Section 28 hereof, driving an unr...</td>\n",
       "      <td>0.749799</td>\n",
       "      <td>True</td>\n",
       "    </tr>\n",
       "    <tr>\n",
       "      <th>14</th>\n",
       "      <td>Considered a parking violation?</td>\n",
       "      <td>Parking within five(5) meters from a signalize...</td>\n",
       "      <td>Based on the given context, it appears that th...</td>\n",
       "      <td>0.698344</td>\n",
       "      <td>True</td>\n",
       "    </tr>\n",
       "    <tr>\n",
       "      <th>15</th>\n",
       "      <td>Green light at an intersection means</td>\n",
       "      <td>Pedestrian are not allowed to cross the pedest...</td>\n",
       "      <td>The correct answer is:\\n\\nPROCEED, PROVIDED YO...</td>\n",
       "      <td>0.570171</td>\n",
       "      <td>False</td>\n",
       "    </tr>\n",
       "    <tr>\n",
       "      <th>16</th>\n",
       "      <td>Steady red light at an intersection means</td>\n",
       "      <td>Stop at the designated line</td>\n",
       "      <td>The correct answer is:\\n\\nDrivers must come to...</td>\n",
       "      <td>0.653795</td>\n",
       "      <td>True</td>\n",
       "    </tr>\n",
       "    <tr>\n",
       "      <th>17</th>\n",
       "      <td>The penalty of driving a motor vehicle while u...</td>\n",
       "      <td>Driver's license shall be confiscated and susp...</td>\n",
       "      <td>According to Section 5 of the Anti-Drunk and D...</td>\n",
       "      <td>0.630864</td>\n",
       "      <td>True</td>\n",
       "    </tr>\n",
       "    <tr>\n",
       "      <th>18</th>\n",
       "      <td>When a driver of PUV refuses to render service...</td>\n",
       "      <td>Fine of P1,000</td>\n",
       "      <td>According to the provided text, if a driver of...</td>\n",
       "      <td>0.787071</td>\n",
       "      <td>True</td>\n",
       "    </tr>\n",
       "    <tr>\n",
       "      <th>19</th>\n",
       "      <td>If the driver is using a motor vehicle in comm...</td>\n",
       "      <td>Revoked and will pay a fine</td>\n",
       "      <td>The driver's license shall be confiscated and ...</td>\n",
       "      <td>0.646651</td>\n",
       "      <td>True</td>\n",
       "    </tr>\n",
       "    <tr>\n",
       "      <th>20</th>\n",
       "      <td>The minimum distance away from the vehicle are...</td>\n",
       "      <td>1 car length</td>\n",
       "      <td>The correct answer is not explicitly mentioned...</td>\n",
       "      <td>0.595671</td>\n",
       "      <td>False</td>\n",
       "    </tr>\n",
       "    <tr>\n",
       "      <th>21</th>\n",
       "      <td>When do you have a complete/full stop?</td>\n",
       "      <td>At a red traffic light</td>\n",
       "      <td>Based on the provided text, it seems that the ...</td>\n",
       "      <td>0.596775</td>\n",
       "      <td>False</td>\n",
       "    </tr>\n",
       "    <tr>\n",
       "      <th>22</th>\n",
       "      <td>On a two-lane road, overtaking is only allowed...</td>\n",
       "      <td>Left lane</td>\n",
       "      <td>Based on the given context, I can infer that t...</td>\n",
       "      <td>0.575432</td>\n",
       "      <td>False</td>\n",
       "    </tr>\n",
       "    <tr>\n",
       "      <th>23</th>\n",
       "      <td>Parking is considered as a violation when a mo...</td>\n",
       "      <td>Park at the entrance and exit of hospital and ...</td>\n",
       "      <td>According to the given text, parking is consid...</td>\n",
       "      <td>0.628159</td>\n",
       "      <td>True</td>\n",
       "    </tr>\n",
       "    <tr>\n",
       "      <th>24</th>\n",
       "      <td>Parking is prohibited</td>\n",
       "      <td>Within an intersection</td>\n",
       "      <td>The correct answer to the query is:\\n\\n**No pa...</td>\n",
       "      <td>0.626185</td>\n",
       "      <td>True</td>\n",
       "    </tr>\n",
       "    <tr>\n",
       "      <th>25</th>\n",
       "      <td>When the traffic light is steady green and ste...</td>\n",
       "      <td>Vehicles can go straight or vehicles on the ri...</td>\n",
       "      <td>Based on standard road rules and traffic signa...</td>\n",
       "      <td>0.708360</td>\n",
       "      <td>True</td>\n",
       "    </tr>\n",
       "    <tr>\n",
       "      <th>26</th>\n",
       "      <td>What is the maximum penalty for driving under ...</td>\n",
       "      <td>Revocation of license</td>\n",
       "      <td>According to the Implementing Rules and Regula...</td>\n",
       "      <td>0.637343</td>\n",
       "      <td>True</td>\n",
       "    </tr>\n",
       "    <tr>\n",
       "      <th>27</th>\n",
       "      <td>On a wet road, you must</td>\n",
       "      <td>Slow down</td>\n",
       "      <td>The correct answer is not provided in the snip...</td>\n",
       "      <td>0.602510</td>\n",
       "      <td>True</td>\n",
       "    </tr>\n",
       "    <tr>\n",
       "      <th>28</th>\n",
       "      <td>While driving with a maximum speed and you hav...</td>\n",
       "      <td>Apply your brake gently with steady pressure</td>\n",
       "      <td>Based on the context provided, which focuses o...</td>\n",
       "      <td>0.757857</td>\n",
       "      <td>True</td>\n",
       "    </tr>\n",
       "    <tr>\n",
       "      <th>29</th>\n",
       "      <td>When another vehicle is following you too clos...</td>\n",
       "      <td>Slow down gradually and give him the signal to...</td>\n",
       "      <td>When another vehicle is following you too clos...</td>\n",
       "      <td>0.728055</td>\n",
       "      <td>True</td>\n",
       "    </tr>\n",
       "    <tr>\n",
       "      <th>30</th>\n",
       "      <td>The driver of the vehicle behind you should al...</td>\n",
       "      <td>Rear end crashes</td>\n",
       "      <td>According to the provided text, the correct an...</td>\n",
       "      <td>0.504213</td>\n",
       "      <td>False</td>\n",
       "    </tr>\n",
       "    <tr>\n",
       "      <th>31</th>\n",
       "      <td>When parking uphill without a curb, turn your ...</td>\n",
       "      <td>Towards the edge of the road</td>\n",
       "      <td>Based on the provided context and standard saf...</td>\n",
       "      <td>0.608834</td>\n",
       "      <td>True</td>\n",
       "    </tr>\n",
       "    <tr>\n",
       "      <th>32</th>\n",
       "      <td>When parking downhill, you must</td>\n",
       "      <td>Turn your wheels to curb</td>\n",
       "      <td>Leave the parking brake disengaged.</td>\n",
       "      <td>0.726560</td>\n",
       "      <td>True</td>\n",
       "    </tr>\n",
       "    <tr>\n",
       "      <th>33</th>\n",
       "      <td>When parking uphill, you must</td>\n",
       "      <td>Turn your wheels aways from the curb</td>\n",
       "      <td>When parking uphill, you must engage the parki...</td>\n",
       "      <td>0.635622</td>\n",
       "      <td>True</td>\n",
       "    </tr>\n",
       "    <tr>\n",
       "      <th>34</th>\n",
       "      <td>When you make an abrupt move especially when y...</td>\n",
       "      <td>Improper braking</td>\n",
       "      <td>Making an abrupt move, especially when on a we...</td>\n",
       "      <td>0.714284</td>\n",
       "      <td>True</td>\n",
       "    </tr>\n",
       "    <tr>\n",
       "      <th>35</th>\n",
       "      <td>Whenever you are driving, especially when over...</td>\n",
       "      <td>Never overtake another vehicle from a tailgat...</td>\n",
       "      <td>Based on the given context, the correct answer...</td>\n",
       "      <td>0.631819</td>\n",
       "      <td>True</td>\n",
       "    </tr>\n",
       "    <tr>\n",
       "      <th>36</th>\n",
       "      <td>When driving on a highway, do not stare at the...</td>\n",
       "      <td>Extend your scanning distance to about 12 seco...</td>\n",
       "      <td>According to the given text, when driving on a...</td>\n",
       "      <td>0.625434</td>\n",
       "      <td>True</td>\n",
       "    </tr>\n",
       "    <tr>\n",
       "      <th>37</th>\n",
       "      <td>When driving on a mountain roads during daytim...</td>\n",
       "      <td>Blow your horn when approaching a blind curve</td>\n",
       "      <td>The correct response cannot be determined from...</td>\n",
       "      <td>0.563085</td>\n",
       "      <td>False</td>\n",
       "    </tr>\n",
       "    <tr>\n",
       "      <th>38</th>\n",
       "      <td>When driving downhill on a mountain road always</td>\n",
       "      <td>Shift to lower gear so the engine braking acti...</td>\n",
       "      <td>Based on the given context, I'll answer the qu...</td>\n",
       "      <td>0.744813</td>\n",
       "      <td>True</td>\n",
       "    </tr>\n",
       "    <tr>\n",
       "      <th>39</th>\n",
       "      <td>The headlights should be used often as needed to</td>\n",
       "      <td>Make your intentions known to drivers around you</td>\n",
       "      <td>The correct answer is: \"to illuminate areas or...</td>\n",
       "      <td>0.548738</td>\n",
       "      <td>False</td>\n",
       "    </tr>\n",
       "    <tr>\n",
       "      <th>40</th>\n",
       "      <td>At an intersection, if two (2) vehicles arrive...</td>\n",
       "      <td>Vehicle on the right</td>\n",
       "      <td>According to the Right-of-Way rules outlined i...</td>\n",
       "      <td>0.678353</td>\n",
       "      <td>True</td>\n",
       "    </tr>\n",
       "    <tr>\n",
       "      <th>41</th>\n",
       "      <td>When negotiating a curve on a highway at a rel...</td>\n",
       "      <td>Decrease your speed further as you enter the c...</td>\n",
       "      <td>Keep to the right.</td>\n",
       "      <td>0.641420</td>\n",
       "      <td>True</td>\n",
       "    </tr>\n",
       "    <tr>\n",
       "      <th>42</th>\n",
       "      <td>When planning to overtake a slower vehicle in ...</td>\n",
       "      <td>Flick your dimmer, switch two or three times t...</td>\n",
       "      <td>The correct response is:\\n\\n\"Be extra cautious...</td>\n",
       "      <td>0.708016</td>\n",
       "      <td>True</td>\n",
       "    </tr>\n",
       "    <tr>\n",
       "      <th>43</th>\n",
       "      <td>Driving in heavy rains can be extremely danger...</td>\n",
       "      <td>When you cannot see more than 20 meters in fro...</td>\n",
       "      <td>According to the provided text, when driving i...</td>\n",
       "      <td>0.662632</td>\n",
       "      <td>True</td>\n",
       "    </tr>\n",
       "    <tr>\n",
       "      <th>44</th>\n",
       "      <td>A flashing red light means</td>\n",
       "      <td>You must stop and then go only when it is safe...</td>\n",
       "      <td>bring your vehicle to a Stop and proceed only ...</td>\n",
       "      <td>0.896660</td>\n",
       "      <td>True</td>\n",
       "    </tr>\n",
       "    <tr>\n",
       "      <th>45</th>\n",
       "      <td>Your speed while driving at night should keep on</td>\n",
       "      <td>The distance that you can see where you come t...</td>\n",
       "      <td>The correct answer is:\\n\\nA. reducing\\n\\nAs st...</td>\n",
       "      <td>0.613555</td>\n",
       "      <td>True</td>\n",
       "    </tr>\n",
       "    <tr>\n",
       "      <th>46</th>\n",
       "      <td>One that affects your visibility?</td>\n",
       "      <td>Defective or dirty headlights</td>\n",
       "      <td>The correct response is \"Blind spots\" accordin...</td>\n",
       "      <td>0.512928</td>\n",
       "      <td>False</td>\n",
       "    </tr>\n",
       "    <tr>\n",
       "      <th>47</th>\n",
       "      <td>When driving at night, you should</td>\n",
       "      <td>Always turn your headlights on</td>\n",
       "      <td>The correct answer is:\\n\\nWhen driving at nigh...</td>\n",
       "      <td>0.651849</td>\n",
       "      <td>True</td>\n",
       "    </tr>\n",
       "    <tr>\n",
       "      <th>48</th>\n",
       "      <td>Being passed is normal part of driving and sho...</td>\n",
       "      <td>Slow down and make it easy to stop</td>\n",
       "      <td>Give way to the overtaking vehicle.</td>\n",
       "      <td>0.614686</td>\n",
       "      <td>True</td>\n",
       "    </tr>\n",
       "    <tr>\n",
       "      <th>49</th>\n",
       "      <td>When oncoming vehicle deliberately crosses the...</td>\n",
       "      <td>Alert and be ready to slow down or stop if nec...</td>\n",
       "      <td>Based on the provided text, which appears to b...</td>\n",
       "      <td>0.576085</td>\n",
       "      <td>False</td>\n",
       "    </tr>\n",
       "    <tr>\n",
       "      <th>50</th>\n",
       "      <td>When approaching a flooded area and you have t...</td>\n",
       "      <td>Proceed at a very slow speed</td>\n",
       "      <td>To deal with a submerged car, follow these ste...</td>\n",
       "      <td>0.658372</td>\n",
       "      <td>True</td>\n",
       "    </tr>\n",
       "    <tr>\n",
       "      <th>51</th>\n",
       "      <td>A single solid yellow or white line means</td>\n",
       "      <td>Passing/overtaking is not allowed</td>\n",
       "      <td>A single solid yellow or white line means over...</td>\n",
       "      <td>0.741981</td>\n",
       "      <td>True</td>\n",
       "    </tr>\n",
       "    <tr>\n",
       "      <th>52</th>\n",
       "      <td>Passing/overtaking is allowed</td>\n",
       "      <td>On highway with two or more lanes</td>\n",
       "      <td>Based on the given context, passing/overtaking...</td>\n",
       "      <td>0.658004</td>\n",
       "      <td>True</td>\n",
       "    </tr>\n",
       "    <tr>\n",
       "      <th>53</th>\n",
       "      <td>A driver on a highway shall yield the right of...</td>\n",
       "      <td>Police / fire department vehicles and ambulanc...</td>\n",
       "      <td>A vehicle approaching but not having entered a...</td>\n",
       "      <td>0.605599</td>\n",
       "      <td>True</td>\n",
       "    </tr>\n",
       "    <tr>\n",
       "      <th>54</th>\n",
       "      <td>A driver on a highway shall yield the right of...</td>\n",
       "      <td>Pedestrians crossing within a crosswalk</td>\n",
       "      <td>According to the provided text, at an intersec...</td>\n",
       "      <td>0.601504</td>\n",
       "      <td>True</td>\n",
       "    </tr>\n",
       "    <tr>\n",
       "      <th>55</th>\n",
       "      <td>This traffic signs warns you that school child...</td>\n",
       "      <td>Pentagon</td>\n",
       "      <td>The correct answer is:\\n\\nSchool Zone Ahead\\n\\...</td>\n",
       "      <td>0.415600</td>\n",
       "      <td>False</td>\n",
       "    </tr>\n",
       "    <tr>\n",
       "      <th>56</th>\n",
       "      <td>The signal warns of a hazard ahead</td>\n",
       "      <td>Diamond shape</td>\n",
       "      <td>The correct answer is:\\n\\nHazard Signals &gt; Haz...</td>\n",
       "      <td>0.421182</td>\n",
       "      <td>False</td>\n",
       "    </tr>\n",
       "    <tr>\n",
       "      <th>57</th>\n",
       "      <td>This traffic sign states direction and distances</td>\n",
       "      <td>Horizontal rectangle</td>\n",
       "      <td>Based on the context provided, I will attempt ...</td>\n",
       "      <td>0.476403</td>\n",
       "      <td>False</td>\n",
       "    </tr>\n",
       "    <tr>\n",
       "      <th>58</th>\n",
       "      <td>The mark for a railway crossing</td>\n",
       "      <td>Cross-buck</td>\n",
       "      <td>Unfortunately, there's no specific information...</td>\n",
       "      <td>0.474203</td>\n",
       "      <td>False</td>\n",
       "    </tr>\n",
       "    <tr>\n",
       "      <th>59</th>\n",
       "      <td>Children must be held in approved child restra...</td>\n",
       "      <td>6 years old and below</td>\n",
       "      <td>heavy traffic or a lot of speeding.</td>\n",
       "      <td>0.347610</td>\n",
       "      <td>False</td>\n",
       "    </tr>\n",
       "  </tbody>\n",
       "</table>\n",
       "</div>"
      ],
      "text/plain": [
       "                                             Question  \\\n",
       "0                 Traffic Jam can be prevented if you   \n",
       "1                 When making a right turn you should   \n",
       "2   When you intend to turn right or left, signal ...   \n",
       "3   At an intersection with a traffic light, make ...   \n",
       "4   Graft and corruption in the traffic enforcemen...   \n",
       "5   On a four(4) lane road with single white line,...   \n",
       "6   A double solid yellow line with broken white l...   \n",
       "7                    When making a U-Turn, you should   \n",
       "8   Signs that are triangular in shape and with a ...   \n",
       "9   Signs that are round, inverted triangle or oct...   \n",
       "10  Signs that are round, rectangular with white a...   \n",
       "11   Single with broken line on a two-lane road means   \n",
       "12  What to do when you approach a crosswalk or pe...   \n",
       "13  Driving an unregistered motor vehicle is a vio...   \n",
       "14                    Considered a parking violation?   \n",
       "15               Green light at an intersection means   \n",
       "16          Steady red light at an intersection means   \n",
       "17  The penalty of driving a motor vehicle while u...   \n",
       "18  When a driver of PUV refuses to render service...   \n",
       "19  If the driver is using a motor vehicle in comm...   \n",
       "20  The minimum distance away from the vehicle are...   \n",
       "21             When do you have a complete/full stop?   \n",
       "22  On a two-lane road, overtaking is only allowed...   \n",
       "23  Parking is considered as a violation when a mo...   \n",
       "24                              Parking is prohibited   \n",
       "25  When the traffic light is steady green and ste...   \n",
       "26  What is the maximum penalty for driving under ...   \n",
       "27                            On a wet road, you must   \n",
       "28  While driving with a maximum speed and you hav...   \n",
       "29  When another vehicle is following you too clos...   \n",
       "30  The driver of the vehicle behind you should al...   \n",
       "31  When parking uphill without a curb, turn your ...   \n",
       "32                    When parking downhill, you must   \n",
       "33                      When parking uphill, you must   \n",
       "34  When you make an abrupt move especially when y...   \n",
       "35  Whenever you are driving, especially when over...   \n",
       "36  When driving on a highway, do not stare at the...   \n",
       "37  When driving on a mountain roads during daytim...   \n",
       "38    When driving downhill on a mountain road always   \n",
       "39   The headlights should be used often as needed to   \n",
       "40  At an intersection, if two (2) vehicles arrive...   \n",
       "41  When negotiating a curve on a highway at a rel...   \n",
       "42  When planning to overtake a slower vehicle in ...   \n",
       "43  Driving in heavy rains can be extremely danger...   \n",
       "44                         A flashing red light means   \n",
       "45   Your speed while driving at night should keep on   \n",
       "46                  One that affects your visibility?   \n",
       "47                  When driving at night, you should   \n",
       "48  Being passed is normal part of driving and sho...   \n",
       "49  When oncoming vehicle deliberately crosses the...   \n",
       "50  When approaching a flooded area and you have t...   \n",
       "51          A single solid yellow or white line means   \n",
       "52                      Passing/overtaking is allowed   \n",
       "53  A driver on a highway shall yield the right of...   \n",
       "54  A driver on a highway shall yield the right of...   \n",
       "55  This traffic signs warns you that school child...   \n",
       "56                 The signal warns of a hazard ahead   \n",
       "57   This traffic sign states direction and distances   \n",
       "58                    The mark for a railway crossing   \n",
       "59  Children must be held in approved child restra...   \n",
       "\n",
       "                                               Answer  \\\n",
       "0                            Keep opposing lanes open   \n",
       "1   Stay on the outermost lane of the road then si...   \n",
       "2       25 meters before you intend to make your turn   \n",
       "3   The green light is on and there is a left turn...   \n",
       "4   Self disciplined by drivers and obeying traffi...   \n",
       "5       Overtake by passing over the solid white line   \n",
       "6                            Absolutely no overtaking   \n",
       "7   Check for traffic behind you and indicate your...   \n",
       "8                            Caution or warning signs   \n",
       "9                                    Regulatory signs   \n",
       "10                                  Informative signs   \n",
       "11  It separates traffic moving in opposite direct...   \n",
       "12                       Stop and yield to pedestrian   \n",
       "13                                    Fine of P10,000   \n",
       "14  Parking within five(5) meters from a signalize...   \n",
       "15  Pedestrian are not allowed to cross the pedest...   \n",
       "16                        Stop at the designated line   \n",
       "17  Driver's license shall be confiscated and susp...   \n",
       "18                                     Fine of P1,000   \n",
       "19                        Revoked and will pay a fine   \n",
       "20                                       1 car length   \n",
       "21                             At a red traffic light   \n",
       "22                                          Left lane   \n",
       "23  Park at the entrance and exit of hospital and ...   \n",
       "24                             Within an intersection   \n",
       "25  Vehicles can go straight or vehicles on the ri...   \n",
       "26                              Revocation of license   \n",
       "27                                          Slow down   \n",
       "28       Apply your brake gently with steady pressure   \n",
       "29  Slow down gradually and give him the signal to...   \n",
       "30                                   Rear end crashes   \n",
       "31                       Towards the edge of the road   \n",
       "32                           Turn your wheels to curb   \n",
       "33               Turn your wheels aways from the curb   \n",
       "34                                   Improper braking   \n",
       "35   Never overtake another vehicle from a tailgat...   \n",
       "36  Extend your scanning distance to about 12 seco...   \n",
       "37      Blow your horn when approaching a blind curve   \n",
       "38  Shift to lower gear so the engine braking acti...   \n",
       "39   Make your intentions known to drivers around you   \n",
       "40                               Vehicle on the right   \n",
       "41  Decrease your speed further as you enter the c...   \n",
       "42  Flick your dimmer, switch two or three times t...   \n",
       "43  When you cannot see more than 20 meters in fro...   \n",
       "44  You must stop and then go only when it is safe...   \n",
       "45  The distance that you can see where you come t...   \n",
       "46                      Defective or dirty headlights   \n",
       "47                     Always turn your headlights on   \n",
       "48                 Slow down and make it easy to stop   \n",
       "49  Alert and be ready to slow down or stop if nec...   \n",
       "50                       Proceed at a very slow speed   \n",
       "51                  Passing/overtaking is not allowed   \n",
       "52                  On highway with two or more lanes   \n",
       "53  Police / fire department vehicles and ambulanc...   \n",
       "54            Pedestrians crossing within a crosswalk   \n",
       "55                                           Pentagon   \n",
       "56                                      Diamond shape   \n",
       "57                               Horizontal rectangle   \n",
       "58                                         Cross-buck   \n",
       "59                              6 years old and below   \n",
       "\n",
       "                                                   AI     Score  Passing  \n",
       "0   The actual question is not directly stated in ...  0.625760     True  \n",
       "1   According to the given text, when making a rig...  0.760502     True  \n",
       "2   According to Article IV, Section 45 of the Tra...  0.663455     True  \n",
       "3   Based on the provided information, at an inter...  0.700548     True  \n",
       "4   The correct answer is:\\n\\nUsing a digitalized ...  0.614937     True  \n",
       "5   According to the provided text, on a multi-lan...  0.756958     True  \n",
       "6   According to the provided text, a double solid...  0.607177     True  \n",
       "7   When making a U-turn, you should start turning...  0.765110     True  \n",
       "8                       Horizontal Alignment Markers.  0.550258    False  \n",
       "9   Based on the provided text, it appears to be a...  0.681984     True  \n",
       "10  The correct answer is Directional Signs.\\n\\nAc...  0.695857     True  \n",
       "11  Single with broken line on a two-lane road mea...  0.727756     True  \n",
       "12  Based on the provided text, the correct respon...  0.782892     True  \n",
       "13  According to Section 28 hereof, driving an unr...  0.749799     True  \n",
       "14  Based on the given context, it appears that th...  0.698344     True  \n",
       "15  The correct answer is:\\n\\nPROCEED, PROVIDED YO...  0.570171    False  \n",
       "16  The correct answer is:\\n\\nDrivers must come to...  0.653795     True  \n",
       "17  According to Section 5 of the Anti-Drunk and D...  0.630864     True  \n",
       "18  According to the provided text, if a driver of...  0.787071     True  \n",
       "19  The driver's license shall be confiscated and ...  0.646651     True  \n",
       "20  The correct answer is not explicitly mentioned...  0.595671    False  \n",
       "21  Based on the provided text, it seems that the ...  0.596775    False  \n",
       "22  Based on the given context, I can infer that t...  0.575432    False  \n",
       "23  According to the given text, parking is consid...  0.628159     True  \n",
       "24  The correct answer to the query is:\\n\\n**No pa...  0.626185     True  \n",
       "25  Based on standard road rules and traffic signa...  0.708360     True  \n",
       "26  According to the Implementing Rules and Regula...  0.637343     True  \n",
       "27  The correct answer is not provided in the snip...  0.602510     True  \n",
       "28  Based on the context provided, which focuses o...  0.757857     True  \n",
       "29  When another vehicle is following you too clos...  0.728055     True  \n",
       "30  According to the provided text, the correct an...  0.504213    False  \n",
       "31  Based on the provided context and standard saf...  0.608834     True  \n",
       "32                Leave the parking brake disengaged.  0.726560     True  \n",
       "33  When parking uphill, you must engage the parki...  0.635622     True  \n",
       "34  Making an abrupt move, especially when on a we...  0.714284     True  \n",
       "35  Based on the given context, the correct answer...  0.631819     True  \n",
       "36  According to the given text, when driving on a...  0.625434     True  \n",
       "37  The correct response cannot be determined from...  0.563085    False  \n",
       "38  Based on the given context, I'll answer the qu...  0.744813     True  \n",
       "39  The correct answer is: \"to illuminate areas or...  0.548738    False  \n",
       "40  According to the Right-of-Way rules outlined i...  0.678353     True  \n",
       "41                                 Keep to the right.  0.641420     True  \n",
       "42  The correct response is:\\n\\n\"Be extra cautious...  0.708016     True  \n",
       "43  According to the provided text, when driving i...  0.662632     True  \n",
       "44  bring your vehicle to a Stop and proceed only ...  0.896660     True  \n",
       "45  The correct answer is:\\n\\nA. reducing\\n\\nAs st...  0.613555     True  \n",
       "46  The correct response is \"Blind spots\" accordin...  0.512928    False  \n",
       "47  The correct answer is:\\n\\nWhen driving at nigh...  0.651849     True  \n",
       "48                Give way to the overtaking vehicle.  0.614686     True  \n",
       "49  Based on the provided text, which appears to b...  0.576085    False  \n",
       "50  To deal with a submerged car, follow these ste...  0.658372     True  \n",
       "51  A single solid yellow or white line means over...  0.741981     True  \n",
       "52  Based on the given context, passing/overtaking...  0.658004     True  \n",
       "53  A vehicle approaching but not having entered a...  0.605599     True  \n",
       "54  According to the provided text, at an intersec...  0.601504     True  \n",
       "55  The correct answer is:\\n\\nSchool Zone Ahead\\n\\...  0.415600    False  \n",
       "56  The correct answer is:\\n\\nHazard Signals > Haz...  0.421182    False  \n",
       "57  Based on the context provided, I will attempt ...  0.476403    False  \n",
       "58  Unfortunately, there's no specific information...  0.474203    False  \n",
       "59                heavy traffic or a lot of speeding.  0.347610    False  "
      ]
     },
     "metadata": {},
     "output_type": "display_data"
    }
   ],
   "source": [
    "from llama_index.core.evaluation import SemanticSimilarityEvaluator\n",
    "from llama_index.core.base.embeddings.base import BaseEmbedding\n",
    "import asyncio\n",
    "from llama_index.core.embeddings import resolve_embed_model\n",
    "from pydantic import PrivateAttr\n",
    "\n",
    "class OllamaEmbeddingModel(BaseEmbedding):\n",
    "    _client: Client = PrivateAttr()\n",
    "\n",
    "    def __init__(self, model_name: str = \"mxbai-embed-large\", timeout: int = 300):\n",
    "        super().__init__()\n",
    "        self.model_name = model_name\n",
    "        self._client = Client() \n",
    "\n",
    "    async def _aget_query_embedding(self, query: str) -> list[float]:\n",
    "        return await self._aget_text_embedding(query)\n",
    "\n",
    "    async def _aget_text_embedding(self, text: str) -> list[float]:\n",
    "        loop = asyncio.get_event_loop()\n",
    "        embedding_response = await loop.run_in_executor(\n",
    "            None, self._client.embeddings, self.model_name, text\n",
    "        )\n",
    "        return embedding_response['embedding']  \n",
    "\n",
    "    def _get_query_embedding(self, query: str) -> list[float]:\n",
    "        return self._get_text_embedding(query)\n",
    "\n",
    "    def _get_text_embedding(self, text: str) -> list[float]:\n",
    "        embedding_response = self._client.embeddings(\n",
    "            model=self.model_name,\n",
    "            prompt=text\n",
    "        )\n",
    "        return embedding_response['embedding']\n",
    "\n",
    "\n",
    "embed_model = OllamaEmbeddingModel(model_name=\"mxbai-embed-large\")\n",
    "evaluator = SemanticSimilarityEvaluator(\n",
    "    embed_model=embed_model,\n",
    "    similarity_threshold=0.6\n",
    ")\n",
    "\n",
    "results_scores = []\n",
    "results_passing = []\n",
    "for i in tqdm(range(len(df))):\n",
    "    response = df.loc[i, \"AI\"]\n",
    "    reference = df.loc[i, \"Answer\"]\n",
    "\n",
    "    result = await evaluator.aevaluate(\n",
    "    response=response,\n",
    "    reference=reference,\n",
    "    )\n",
    "    results_scores.append(result.score)\n",
    "    results_passing.append(result.passing)\n",
    "    \n",
    "df['Score'] = results_scores\n",
    "df['Passing'] = results_passing\n",
    "\n",
    "average_score = df['Score'].mean()\n",
    "total_items = len(df)\n",
    "passing_items = df['Passing'].sum()  \n",
    "print(f\"Average Score: {average_score:.4f}\")\n",
    "print(f\"Passing: {passing_items}/{total_items}\")\n",
    "display(df[['Question', 'Answer', 'AI', 'Score', 'Passing']])"
   ]
  },
  {
   "cell_type": "markdown",
   "id": "6482a59f",
   "metadata": {},
   "source": [
    "# 11. Relevancy Evaluation"
   ]
  },
  {
   "cell_type": "code",
   "execution_count": 65,
   "id": "093ccc3d",
   "metadata": {},
   "outputs": [
    {
     "name": "stderr",
     "output_type": "stream",
     "text": [
      "100%|██████████| 60/60 [30:32<00:00, 30.55s/it]"
     ]
    },
    {
     "name": "stdout",
     "output_type": "stream",
     "text": [
      "Score: 50/60\n",
      "Percentage: 83.33%\n"
     ]
    },
    {
     "name": "stderr",
     "output_type": "stream",
     "text": [
      "\n"
     ]
    },
    {
     "data": {
      "text/html": [
       "<div>\n",
       "<style scoped>\n",
       "    .dataframe tbody tr th:only-of-type {\n",
       "        vertical-align: middle;\n",
       "    }\n",
       "\n",
       "    .dataframe tbody tr th {\n",
       "        vertical-align: top;\n",
       "    }\n",
       "\n",
       "    .dataframe thead th {\n",
       "        text-align: right;\n",
       "    }\n",
       "</style>\n",
       "<table border=\"1\" class=\"dataframe\">\n",
       "  <thead>\n",
       "    <tr style=\"text-align: right;\">\n",
       "      <th></th>\n",
       "      <th>Question</th>\n",
       "      <th>Answer</th>\n",
       "      <th>AI</th>\n",
       "      <th>Eval</th>\n",
       "    </tr>\n",
       "  </thead>\n",
       "  <tbody>\n",
       "    <tr>\n",
       "      <th>0</th>\n",
       "      <td>Traffic Jam can be prevented if you</td>\n",
       "      <td>Keep opposing lanes open</td>\n",
       "      <td>The actual question is not directly stated in ...</td>\n",
       "      <td>True</td>\n",
       "    </tr>\n",
       "    <tr>\n",
       "      <th>1</th>\n",
       "      <td>When making a right turn you should</td>\n",
       "      <td>Stay on the outermost lane of the road then si...</td>\n",
       "      <td>According to the given text, when making a rig...</td>\n",
       "      <td>True</td>\n",
       "    </tr>\n",
       "    <tr>\n",
       "      <th>2</th>\n",
       "      <td>When you intend to turn right or left, signal ...</td>\n",
       "      <td>25 meters before you intend to make your turn</td>\n",
       "      <td>According to Article IV, Section 45 of the Tra...</td>\n",
       "      <td>True</td>\n",
       "    </tr>\n",
       "    <tr>\n",
       "      <th>3</th>\n",
       "      <td>At an intersection with a traffic light, make ...</td>\n",
       "      <td>The green light is on and there is a left turn...</td>\n",
       "      <td>Based on the provided information, at an inter...</td>\n",
       "      <td>True</td>\n",
       "    </tr>\n",
       "    <tr>\n",
       "      <th>4</th>\n",
       "      <td>Graft and corruption in the traffic enforcemen...</td>\n",
       "      <td>Self disciplined by drivers and obeying traffi...</td>\n",
       "      <td>The correct answer is:\\n\\nUsing a digitalized ...</td>\n",
       "      <td>True</td>\n",
       "    </tr>\n",
       "    <tr>\n",
       "      <th>5</th>\n",
       "      <td>On a four(4) lane road with single white line,...</td>\n",
       "      <td>Overtake by passing over the solid white line</td>\n",
       "      <td>According to the provided text, on a multi-lan...</td>\n",
       "      <td>False</td>\n",
       "    </tr>\n",
       "    <tr>\n",
       "      <th>6</th>\n",
       "      <td>A double solid yellow line with broken white l...</td>\n",
       "      <td>Absolutely no overtaking</td>\n",
       "      <td>According to the provided text, a double solid...</td>\n",
       "      <td>True</td>\n",
       "    </tr>\n",
       "    <tr>\n",
       "      <th>7</th>\n",
       "      <td>When making a U-Turn, you should</td>\n",
       "      <td>Check for traffic behind you and indicate your...</td>\n",
       "      <td>When making a U-turn, you should start turning...</td>\n",
       "      <td>False</td>\n",
       "    </tr>\n",
       "    <tr>\n",
       "      <th>8</th>\n",
       "      <td>Signs that are triangular in shape and with a ...</td>\n",
       "      <td>Caution or warning signs</td>\n",
       "      <td>Horizontal Alignment Markers.</td>\n",
       "      <td>True</td>\n",
       "    </tr>\n",
       "    <tr>\n",
       "      <th>9</th>\n",
       "      <td>Signs that are round, inverted triangle or oct...</td>\n",
       "      <td>Regulatory signs</td>\n",
       "      <td>Based on the provided text, it appears to be a...</td>\n",
       "      <td>True</td>\n",
       "    </tr>\n",
       "    <tr>\n",
       "      <th>10</th>\n",
       "      <td>Signs that are round, rectangular with white a...</td>\n",
       "      <td>Informative signs</td>\n",
       "      <td>The correct answer is Directional Signs.\\n\\nAc...</td>\n",
       "      <td>True</td>\n",
       "    </tr>\n",
       "    <tr>\n",
       "      <th>11</th>\n",
       "      <td>Single with broken line on a two-lane road means</td>\n",
       "      <td>It separates traffic moving in opposite direct...</td>\n",
       "      <td>Single with broken line on a two-lane road mea...</td>\n",
       "      <td>True</td>\n",
       "    </tr>\n",
       "    <tr>\n",
       "      <th>12</th>\n",
       "      <td>What to do when you approach a crosswalk or pe...</td>\n",
       "      <td>Stop and yield to pedestrian</td>\n",
       "      <td>Based on the provided text, the correct respon...</td>\n",
       "      <td>True</td>\n",
       "    </tr>\n",
       "    <tr>\n",
       "      <th>13</th>\n",
       "      <td>Driving an unregistered motor vehicle is a vio...</td>\n",
       "      <td>Fine of P10,000</td>\n",
       "      <td>According to Section 28 hereof, driving an unr...</td>\n",
       "      <td>True</td>\n",
       "    </tr>\n",
       "    <tr>\n",
       "      <th>14</th>\n",
       "      <td>Considered a parking violation?</td>\n",
       "      <td>Parking within five(5) meters from a signalize...</td>\n",
       "      <td>Based on the given context, it appears that th...</td>\n",
       "      <td>False</td>\n",
       "    </tr>\n",
       "    <tr>\n",
       "      <th>15</th>\n",
       "      <td>Green light at an intersection means</td>\n",
       "      <td>Pedestrian are not allowed to cross the pedest...</td>\n",
       "      <td>The correct answer is:\\n\\nPROCEED, PROVIDED YO...</td>\n",
       "      <td>True</td>\n",
       "    </tr>\n",
       "    <tr>\n",
       "      <th>16</th>\n",
       "      <td>Steady red light at an intersection means</td>\n",
       "      <td>Stop at the designated line</td>\n",
       "      <td>The correct answer is:\\n\\nDrivers must come to...</td>\n",
       "      <td>True</td>\n",
       "    </tr>\n",
       "    <tr>\n",
       "      <th>17</th>\n",
       "      <td>The penalty of driving a motor vehicle while u...</td>\n",
       "      <td>Driver's license shall be confiscated and susp...</td>\n",
       "      <td>According to Section 5 of the Anti-Drunk and D...</td>\n",
       "      <td>True</td>\n",
       "    </tr>\n",
       "    <tr>\n",
       "      <th>18</th>\n",
       "      <td>When a driver of PUV refuses to render service...</td>\n",
       "      <td>Fine of P1,000</td>\n",
       "      <td>According to the provided text, if a driver of...</td>\n",
       "      <td>True</td>\n",
       "    </tr>\n",
       "    <tr>\n",
       "      <th>19</th>\n",
       "      <td>If the driver is using a motor vehicle in comm...</td>\n",
       "      <td>Revoked and will pay a fine</td>\n",
       "      <td>The driver's license shall be confiscated and ...</td>\n",
       "      <td>True</td>\n",
       "    </tr>\n",
       "    <tr>\n",
       "      <th>20</th>\n",
       "      <td>The minimum distance away from the vehicle are...</td>\n",
       "      <td>1 car length</td>\n",
       "      <td>The correct answer is not explicitly mentioned...</td>\n",
       "      <td>True</td>\n",
       "    </tr>\n",
       "    <tr>\n",
       "      <th>21</th>\n",
       "      <td>When do you have a complete/full stop?</td>\n",
       "      <td>At a red traffic light</td>\n",
       "      <td>Based on the provided text, it seems that the ...</td>\n",
       "      <td>False</td>\n",
       "    </tr>\n",
       "    <tr>\n",
       "      <th>22</th>\n",
       "      <td>On a two-lane road, overtaking is only allowed...</td>\n",
       "      <td>Left lane</td>\n",
       "      <td>Based on the given context, I can infer that t...</td>\n",
       "      <td>False</td>\n",
       "    </tr>\n",
       "    <tr>\n",
       "      <th>23</th>\n",
       "      <td>Parking is considered as a violation when a mo...</td>\n",
       "      <td>Park at the entrance and exit of hospital and ...</td>\n",
       "      <td>According to the given text, parking is consid...</td>\n",
       "      <td>True</td>\n",
       "    </tr>\n",
       "    <tr>\n",
       "      <th>24</th>\n",
       "      <td>Parking is prohibited</td>\n",
       "      <td>Within an intersection</td>\n",
       "      <td>The correct answer to the query is:\\n\\n**No pa...</td>\n",
       "      <td>True</td>\n",
       "    </tr>\n",
       "    <tr>\n",
       "      <th>25</th>\n",
       "      <td>When the traffic light is steady green and ste...</td>\n",
       "      <td>Vehicles can go straight or vehicles on the ri...</td>\n",
       "      <td>Based on standard road rules and traffic signa...</td>\n",
       "      <td>True</td>\n",
       "    </tr>\n",
       "    <tr>\n",
       "      <th>26</th>\n",
       "      <td>What is the maximum penalty for driving under ...</td>\n",
       "      <td>Revocation of license</td>\n",
       "      <td>According to the Implementing Rules and Regula...</td>\n",
       "      <td>True</td>\n",
       "    </tr>\n",
       "    <tr>\n",
       "      <th>27</th>\n",
       "      <td>On a wet road, you must</td>\n",
       "      <td>Slow down</td>\n",
       "      <td>The correct answer is not provided in the snip...</td>\n",
       "      <td>True</td>\n",
       "    </tr>\n",
       "    <tr>\n",
       "      <th>28</th>\n",
       "      <td>While driving with a maximum speed and you hav...</td>\n",
       "      <td>Apply your brake gently with steady pressure</td>\n",
       "      <td>Based on the context provided, which focuses o...</td>\n",
       "      <td>True</td>\n",
       "    </tr>\n",
       "    <tr>\n",
       "      <th>29</th>\n",
       "      <td>When another vehicle is following you too clos...</td>\n",
       "      <td>Slow down gradually and give him the signal to...</td>\n",
       "      <td>When another vehicle is following you too clos...</td>\n",
       "      <td>True</td>\n",
       "    </tr>\n",
       "    <tr>\n",
       "      <th>30</th>\n",
       "      <td>The driver of the vehicle behind you should al...</td>\n",
       "      <td>Rear end crashes</td>\n",
       "      <td>According to the provided text, the correct an...</td>\n",
       "      <td>True</td>\n",
       "    </tr>\n",
       "    <tr>\n",
       "      <th>31</th>\n",
       "      <td>When parking uphill without a curb, turn your ...</td>\n",
       "      <td>Towards the edge of the road</td>\n",
       "      <td>Based on the provided context and standard saf...</td>\n",
       "      <td>True</td>\n",
       "    </tr>\n",
       "    <tr>\n",
       "      <th>32</th>\n",
       "      <td>When parking downhill, you must</td>\n",
       "      <td>Turn your wheels to curb</td>\n",
       "      <td>Leave the parking brake disengaged.</td>\n",
       "      <td>True</td>\n",
       "    </tr>\n",
       "    <tr>\n",
       "      <th>33</th>\n",
       "      <td>When parking uphill, you must</td>\n",
       "      <td>Turn your wheels aways from the curb</td>\n",
       "      <td>When parking uphill, you must engage the parki...</td>\n",
       "      <td>True</td>\n",
       "    </tr>\n",
       "    <tr>\n",
       "      <th>34</th>\n",
       "      <td>When you make an abrupt move especially when y...</td>\n",
       "      <td>Improper braking</td>\n",
       "      <td>Making an abrupt move, especially when on a we...</td>\n",
       "      <td>True</td>\n",
       "    </tr>\n",
       "    <tr>\n",
       "      <th>35</th>\n",
       "      <td>Whenever you are driving, especially when over...</td>\n",
       "      <td>Never overtake another vehicle from a tailgat...</td>\n",
       "      <td>Based on the given context, the correct answer...</td>\n",
       "      <td>True</td>\n",
       "    </tr>\n",
       "    <tr>\n",
       "      <th>36</th>\n",
       "      <td>When driving on a highway, do not stare at the...</td>\n",
       "      <td>Extend your scanning distance to about 12 seco...</td>\n",
       "      <td>According to the given text, when driving on a...</td>\n",
       "      <td>True</td>\n",
       "    </tr>\n",
       "    <tr>\n",
       "      <th>37</th>\n",
       "      <td>When driving on a mountain roads during daytim...</td>\n",
       "      <td>Blow your horn when approaching a blind curve</td>\n",
       "      <td>The correct response cannot be determined from...</td>\n",
       "      <td>False</td>\n",
       "    </tr>\n",
       "    <tr>\n",
       "      <th>38</th>\n",
       "      <td>When driving downhill on a mountain road always</td>\n",
       "      <td>Shift to lower gear so the engine braking acti...</td>\n",
       "      <td>Based on the given context, I'll answer the qu...</td>\n",
       "      <td>True</td>\n",
       "    </tr>\n",
       "    <tr>\n",
       "      <th>39</th>\n",
       "      <td>The headlights should be used often as needed to</td>\n",
       "      <td>Make your intentions known to drivers around you</td>\n",
       "      <td>The correct answer is: \"to illuminate areas or...</td>\n",
       "      <td>True</td>\n",
       "    </tr>\n",
       "    <tr>\n",
       "      <th>40</th>\n",
       "      <td>At an intersection, if two (2) vehicles arrive...</td>\n",
       "      <td>Vehicle on the right</td>\n",
       "      <td>According to the Right-of-Way rules outlined i...</td>\n",
       "      <td>True</td>\n",
       "    </tr>\n",
       "    <tr>\n",
       "      <th>41</th>\n",
       "      <td>When negotiating a curve on a highway at a rel...</td>\n",
       "      <td>Decrease your speed further as you enter the c...</td>\n",
       "      <td>Keep to the right.</td>\n",
       "      <td>False</td>\n",
       "    </tr>\n",
       "    <tr>\n",
       "      <th>42</th>\n",
       "      <td>When planning to overtake a slower vehicle in ...</td>\n",
       "      <td>Flick your dimmer, switch two or three times t...</td>\n",
       "      <td>The correct response is:\\n\\n\"Be extra cautious...</td>\n",
       "      <td>True</td>\n",
       "    </tr>\n",
       "    <tr>\n",
       "      <th>43</th>\n",
       "      <td>Driving in heavy rains can be extremely danger...</td>\n",
       "      <td>When you cannot see more than 20 meters in fro...</td>\n",
       "      <td>According to the provided text, when driving i...</td>\n",
       "      <td>True</td>\n",
       "    </tr>\n",
       "    <tr>\n",
       "      <th>44</th>\n",
       "      <td>A flashing red light means</td>\n",
       "      <td>You must stop and then go only when it is safe...</td>\n",
       "      <td>bring your vehicle to a Stop and proceed only ...</td>\n",
       "      <td>True</td>\n",
       "    </tr>\n",
       "    <tr>\n",
       "      <th>45</th>\n",
       "      <td>Your speed while driving at night should keep on</td>\n",
       "      <td>The distance that you can see where you come t...</td>\n",
       "      <td>The correct answer is:\\n\\nA. reducing\\n\\nAs st...</td>\n",
       "      <td>True</td>\n",
       "    </tr>\n",
       "    <tr>\n",
       "      <th>46</th>\n",
       "      <td>One that affects your visibility?</td>\n",
       "      <td>Defective or dirty headlights</td>\n",
       "      <td>The correct response is \"Blind spots\" accordin...</td>\n",
       "      <td>True</td>\n",
       "    </tr>\n",
       "    <tr>\n",
       "      <th>47</th>\n",
       "      <td>When driving at night, you should</td>\n",
       "      <td>Always turn your headlights on</td>\n",
       "      <td>The correct answer is:\\n\\nWhen driving at nigh...</td>\n",
       "      <td>False</td>\n",
       "    </tr>\n",
       "    <tr>\n",
       "      <th>48</th>\n",
       "      <td>Being passed is normal part of driving and sho...</td>\n",
       "      <td>Slow down and make it easy to stop</td>\n",
       "      <td>Give way to the overtaking vehicle.</td>\n",
       "      <td>True</td>\n",
       "    </tr>\n",
       "    <tr>\n",
       "      <th>49</th>\n",
       "      <td>When oncoming vehicle deliberately crosses the...</td>\n",
       "      <td>Alert and be ready to slow down or stop if nec...</td>\n",
       "      <td>Based on the provided text, which appears to b...</td>\n",
       "      <td>True</td>\n",
       "    </tr>\n",
       "    <tr>\n",
       "      <th>50</th>\n",
       "      <td>When approaching a flooded area and you have t...</td>\n",
       "      <td>Proceed at a very slow speed</td>\n",
       "      <td>To deal with a submerged car, follow these ste...</td>\n",
       "      <td>True</td>\n",
       "    </tr>\n",
       "    <tr>\n",
       "      <th>51</th>\n",
       "      <td>A single solid yellow or white line means</td>\n",
       "      <td>Passing/overtaking is not allowed</td>\n",
       "      <td>A single solid yellow or white line means over...</td>\n",
       "      <td>True</td>\n",
       "    </tr>\n",
       "    <tr>\n",
       "      <th>52</th>\n",
       "      <td>Passing/overtaking is allowed</td>\n",
       "      <td>On highway with two or more lanes</td>\n",
       "      <td>Based on the given context, passing/overtaking...</td>\n",
       "      <td>False</td>\n",
       "    </tr>\n",
       "    <tr>\n",
       "      <th>53</th>\n",
       "      <td>A driver on a highway shall yield the right of...</td>\n",
       "      <td>Police / fire department vehicles and ambulanc...</td>\n",
       "      <td>A vehicle approaching but not having entered a...</td>\n",
       "      <td>True</td>\n",
       "    </tr>\n",
       "    <tr>\n",
       "      <th>54</th>\n",
       "      <td>A driver on a highway shall yield the right of...</td>\n",
       "      <td>Pedestrians crossing within a crosswalk</td>\n",
       "      <td>According to the provided text, at an intersec...</td>\n",
       "      <td>True</td>\n",
       "    </tr>\n",
       "    <tr>\n",
       "      <th>55</th>\n",
       "      <td>This traffic signs warns you that school child...</td>\n",
       "      <td>Pentagon</td>\n",
       "      <td>The correct answer is:\\n\\nSchool Zone Ahead\\n\\...</td>\n",
       "      <td>True</td>\n",
       "    </tr>\n",
       "    <tr>\n",
       "      <th>56</th>\n",
       "      <td>The signal warns of a hazard ahead</td>\n",
       "      <td>Diamond shape</td>\n",
       "      <td>The correct answer is:\\n\\nHazard Signals &gt; Haz...</td>\n",
       "      <td>True</td>\n",
       "    </tr>\n",
       "    <tr>\n",
       "      <th>57</th>\n",
       "      <td>This traffic sign states direction and distances</td>\n",
       "      <td>Horizontal rectangle</td>\n",
       "      <td>Based on the context provided, I will attempt ...</td>\n",
       "      <td>True</td>\n",
       "    </tr>\n",
       "    <tr>\n",
       "      <th>58</th>\n",
       "      <td>The mark for a railway crossing</td>\n",
       "      <td>Cross-buck</td>\n",
       "      <td>Unfortunately, there's no specific information...</td>\n",
       "      <td>False</td>\n",
       "    </tr>\n",
       "    <tr>\n",
       "      <th>59</th>\n",
       "      <td>Children must be held in approved child restra...</td>\n",
       "      <td>6 years old and below</td>\n",
       "      <td>heavy traffic or a lot of speeding.</td>\n",
       "      <td>True</td>\n",
       "    </tr>\n",
       "  </tbody>\n",
       "</table>\n",
       "</div>"
      ],
      "text/plain": [
       "                                             Question  \\\n",
       "0                 Traffic Jam can be prevented if you   \n",
       "1                 When making a right turn you should   \n",
       "2   When you intend to turn right or left, signal ...   \n",
       "3   At an intersection with a traffic light, make ...   \n",
       "4   Graft and corruption in the traffic enforcemen...   \n",
       "5   On a four(4) lane road with single white line,...   \n",
       "6   A double solid yellow line with broken white l...   \n",
       "7                    When making a U-Turn, you should   \n",
       "8   Signs that are triangular in shape and with a ...   \n",
       "9   Signs that are round, inverted triangle or oct...   \n",
       "10  Signs that are round, rectangular with white a...   \n",
       "11   Single with broken line on a two-lane road means   \n",
       "12  What to do when you approach a crosswalk or pe...   \n",
       "13  Driving an unregistered motor vehicle is a vio...   \n",
       "14                    Considered a parking violation?   \n",
       "15               Green light at an intersection means   \n",
       "16          Steady red light at an intersection means   \n",
       "17  The penalty of driving a motor vehicle while u...   \n",
       "18  When a driver of PUV refuses to render service...   \n",
       "19  If the driver is using a motor vehicle in comm...   \n",
       "20  The minimum distance away from the vehicle are...   \n",
       "21             When do you have a complete/full stop?   \n",
       "22  On a two-lane road, overtaking is only allowed...   \n",
       "23  Parking is considered as a violation when a mo...   \n",
       "24                              Parking is prohibited   \n",
       "25  When the traffic light is steady green and ste...   \n",
       "26  What is the maximum penalty for driving under ...   \n",
       "27                            On a wet road, you must   \n",
       "28  While driving with a maximum speed and you hav...   \n",
       "29  When another vehicle is following you too clos...   \n",
       "30  The driver of the vehicle behind you should al...   \n",
       "31  When parking uphill without a curb, turn your ...   \n",
       "32                    When parking downhill, you must   \n",
       "33                      When parking uphill, you must   \n",
       "34  When you make an abrupt move especially when y...   \n",
       "35  Whenever you are driving, especially when over...   \n",
       "36  When driving on a highway, do not stare at the...   \n",
       "37  When driving on a mountain roads during daytim...   \n",
       "38    When driving downhill on a mountain road always   \n",
       "39   The headlights should be used often as needed to   \n",
       "40  At an intersection, if two (2) vehicles arrive...   \n",
       "41  When negotiating a curve on a highway at a rel...   \n",
       "42  When planning to overtake a slower vehicle in ...   \n",
       "43  Driving in heavy rains can be extremely danger...   \n",
       "44                         A flashing red light means   \n",
       "45   Your speed while driving at night should keep on   \n",
       "46                  One that affects your visibility?   \n",
       "47                  When driving at night, you should   \n",
       "48  Being passed is normal part of driving and sho...   \n",
       "49  When oncoming vehicle deliberately crosses the...   \n",
       "50  When approaching a flooded area and you have t...   \n",
       "51          A single solid yellow or white line means   \n",
       "52                      Passing/overtaking is allowed   \n",
       "53  A driver on a highway shall yield the right of...   \n",
       "54  A driver on a highway shall yield the right of...   \n",
       "55  This traffic signs warns you that school child...   \n",
       "56                 The signal warns of a hazard ahead   \n",
       "57   This traffic sign states direction and distances   \n",
       "58                    The mark for a railway crossing   \n",
       "59  Children must be held in approved child restra...   \n",
       "\n",
       "                                               Answer  \\\n",
       "0                            Keep opposing lanes open   \n",
       "1   Stay on the outermost lane of the road then si...   \n",
       "2       25 meters before you intend to make your turn   \n",
       "3   The green light is on and there is a left turn...   \n",
       "4   Self disciplined by drivers and obeying traffi...   \n",
       "5       Overtake by passing over the solid white line   \n",
       "6                            Absolutely no overtaking   \n",
       "7   Check for traffic behind you and indicate your...   \n",
       "8                            Caution or warning signs   \n",
       "9                                    Regulatory signs   \n",
       "10                                  Informative signs   \n",
       "11  It separates traffic moving in opposite direct...   \n",
       "12                       Stop and yield to pedestrian   \n",
       "13                                    Fine of P10,000   \n",
       "14  Parking within five(5) meters from a signalize...   \n",
       "15  Pedestrian are not allowed to cross the pedest...   \n",
       "16                        Stop at the designated line   \n",
       "17  Driver's license shall be confiscated and susp...   \n",
       "18                                     Fine of P1,000   \n",
       "19                        Revoked and will pay a fine   \n",
       "20                                       1 car length   \n",
       "21                             At a red traffic light   \n",
       "22                                          Left lane   \n",
       "23  Park at the entrance and exit of hospital and ...   \n",
       "24                             Within an intersection   \n",
       "25  Vehicles can go straight or vehicles on the ri...   \n",
       "26                              Revocation of license   \n",
       "27                                          Slow down   \n",
       "28       Apply your brake gently with steady pressure   \n",
       "29  Slow down gradually and give him the signal to...   \n",
       "30                                   Rear end crashes   \n",
       "31                       Towards the edge of the road   \n",
       "32                           Turn your wheels to curb   \n",
       "33               Turn your wheels aways from the curb   \n",
       "34                                   Improper braking   \n",
       "35   Never overtake another vehicle from a tailgat...   \n",
       "36  Extend your scanning distance to about 12 seco...   \n",
       "37      Blow your horn when approaching a blind curve   \n",
       "38  Shift to lower gear so the engine braking acti...   \n",
       "39   Make your intentions known to drivers around you   \n",
       "40                               Vehicle on the right   \n",
       "41  Decrease your speed further as you enter the c...   \n",
       "42  Flick your dimmer, switch two or three times t...   \n",
       "43  When you cannot see more than 20 meters in fro...   \n",
       "44  You must stop and then go only when it is safe...   \n",
       "45  The distance that you can see where you come t...   \n",
       "46                      Defective or dirty headlights   \n",
       "47                     Always turn your headlights on   \n",
       "48                 Slow down and make it easy to stop   \n",
       "49  Alert and be ready to slow down or stop if nec...   \n",
       "50                       Proceed at a very slow speed   \n",
       "51                  Passing/overtaking is not allowed   \n",
       "52                  On highway with two or more lanes   \n",
       "53  Police / fire department vehicles and ambulanc...   \n",
       "54            Pedestrians crossing within a crosswalk   \n",
       "55                                           Pentagon   \n",
       "56                                      Diamond shape   \n",
       "57                               Horizontal rectangle   \n",
       "58                                         Cross-buck   \n",
       "59                              6 years old and below   \n",
       "\n",
       "                                                   AI   Eval  \n",
       "0   The actual question is not directly stated in ...   True  \n",
       "1   According to the given text, when making a rig...   True  \n",
       "2   According to Article IV, Section 45 of the Tra...   True  \n",
       "3   Based on the provided information, at an inter...   True  \n",
       "4   The correct answer is:\\n\\nUsing a digitalized ...   True  \n",
       "5   According to the provided text, on a multi-lan...  False  \n",
       "6   According to the provided text, a double solid...   True  \n",
       "7   When making a U-turn, you should start turning...  False  \n",
       "8                       Horizontal Alignment Markers.   True  \n",
       "9   Based on the provided text, it appears to be a...   True  \n",
       "10  The correct answer is Directional Signs.\\n\\nAc...   True  \n",
       "11  Single with broken line on a two-lane road mea...   True  \n",
       "12  Based on the provided text, the correct respon...   True  \n",
       "13  According to Section 28 hereof, driving an unr...   True  \n",
       "14  Based on the given context, it appears that th...  False  \n",
       "15  The correct answer is:\\n\\nPROCEED, PROVIDED YO...   True  \n",
       "16  The correct answer is:\\n\\nDrivers must come to...   True  \n",
       "17  According to Section 5 of the Anti-Drunk and D...   True  \n",
       "18  According to the provided text, if a driver of...   True  \n",
       "19  The driver's license shall be confiscated and ...   True  \n",
       "20  The correct answer is not explicitly mentioned...   True  \n",
       "21  Based on the provided text, it seems that the ...  False  \n",
       "22  Based on the given context, I can infer that t...  False  \n",
       "23  According to the given text, parking is consid...   True  \n",
       "24  The correct answer to the query is:\\n\\n**No pa...   True  \n",
       "25  Based on standard road rules and traffic signa...   True  \n",
       "26  According to the Implementing Rules and Regula...   True  \n",
       "27  The correct answer is not provided in the snip...   True  \n",
       "28  Based on the context provided, which focuses o...   True  \n",
       "29  When another vehicle is following you too clos...   True  \n",
       "30  According to the provided text, the correct an...   True  \n",
       "31  Based on the provided context and standard saf...   True  \n",
       "32                Leave the parking brake disengaged.   True  \n",
       "33  When parking uphill, you must engage the parki...   True  \n",
       "34  Making an abrupt move, especially when on a we...   True  \n",
       "35  Based on the given context, the correct answer...   True  \n",
       "36  According to the given text, when driving on a...   True  \n",
       "37  The correct response cannot be determined from...  False  \n",
       "38  Based on the given context, I'll answer the qu...   True  \n",
       "39  The correct answer is: \"to illuminate areas or...   True  \n",
       "40  According to the Right-of-Way rules outlined i...   True  \n",
       "41                                 Keep to the right.  False  \n",
       "42  The correct response is:\\n\\n\"Be extra cautious...   True  \n",
       "43  According to the provided text, when driving i...   True  \n",
       "44  bring your vehicle to a Stop and proceed only ...   True  \n",
       "45  The correct answer is:\\n\\nA. reducing\\n\\nAs st...   True  \n",
       "46  The correct response is \"Blind spots\" accordin...   True  \n",
       "47  The correct answer is:\\n\\nWhen driving at nigh...  False  \n",
       "48                Give way to the overtaking vehicle.   True  \n",
       "49  Based on the provided text, which appears to b...   True  \n",
       "50  To deal with a submerged car, follow these ste...   True  \n",
       "51  A single solid yellow or white line means over...   True  \n",
       "52  Based on the given context, passing/overtaking...  False  \n",
       "53  A vehicle approaching but not having entered a...   True  \n",
       "54  According to the provided text, at an intersec...   True  \n",
       "55  The correct answer is:\\n\\nSchool Zone Ahead\\n\\...   True  \n",
       "56  The correct answer is:\\n\\nHazard Signals > Haz...   True  \n",
       "57  Based on the context provided, I will attempt ...   True  \n",
       "58  Unfortunately, there's no specific information...  False  \n",
       "59                heavy traffic or a lot of speeding.   True  "
      ]
     },
     "metadata": {},
     "output_type": "display_data"
    }
   ],
   "source": [
    "from llama_index.core.evaluation import RelevancyEvaluator\n",
    "\n",
    "ollama_llm = Ollama(model=\"llama3.1:8b\", request_timeout=300)\n",
    "evaluator = RelevancyEvaluator(llm=ollama_llm)\n",
    "\n",
    "eval_results = []\n",
    "\n",
    "for i in tqdm(range(len(df))):\n",
    "    eval_result = await evaluator.aevaluate(\n",
    "        query=df.loc[i, \"Question\"],\n",
    "        response=df.loc[i, \"AI\"],\n",
    "        contexts=[df.loc[i, \"Context\"]]  \n",
    "    )\n",
    "    eval_results.append(eval_result.passing)\n",
    "\n",
    "df['Eval'] = eval_results\n",
    "\n",
    "total_items = len(df)\n",
    "passing_items = df['Eval'].sum()\n",
    "score = f\"Score: {passing_items}/{total_items}\"\n",
    "percentage = passing_items / total_items if total_items > 0 else 0\n",
    "print(score)\n",
    "print(f\"Percentage: {percentage:.2%}\")\n",
    "display(df[['Question', 'Answer', 'AI', 'Eval']])"
   ]
  }
 ],
 "metadata": {
  "kernelspec": {
   "display_name": "LTO_RAG",
   "language": "python",
   "name": "python3"
  },
  "language_info": {
   "codemirror_mode": {
    "name": "ipython",
    "version": 3
   },
   "file_extension": ".py",
   "mimetype": "text/x-python",
   "name": "python",
   "nbconvert_exporter": "python",
   "pygments_lexer": "ipython3",
   "version": "3.10.12"
  }
 },
 "nbformat": 4,
 "nbformat_minor": 5
}
